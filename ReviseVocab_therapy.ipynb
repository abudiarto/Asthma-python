{
 "cells": [
  {
   "cell_type": "code",
   "execution_count": 1,
   "id": "8ce0f414-d8a6-4816-9a6b-3f69956ea214",
   "metadata": {
    "tags": []
   },
   "outputs": [],
   "source": [
    "import pandas as pd\n",
    "import pickle"
   ]
  },
  {
   "cell_type": "code",
   "execution_count": 2,
   "id": "4277417a-e1e9-4a71-9c16-5de34b28e610",
   "metadata": {
    "tags": []
   },
   "outputs": [],
   "source": [
    "vocab_clinical = pickle.load(open('../SeqModel/all_vocab_clinical.sav', 'rb'))\n",
    "vocab_therapy = pickle.load(open('../SeqModel/all_vocab_therapy.sav', 'rb'))\n",
    "\n",
    "data_clinical = pd.read_feather('../SeqModel/all_data_clinical.feather')\n",
    "data_therapy = pd.read_feather('../SeqModel/all_data_therapy.feather')\n",
    "\n",
    "vocab_stat_clinical = pd.read_csv('../FinalData/pivotClinicalCodesbyCountry.csv')\n",
    "vocab_stat_therapy = pd.read_csv('../FinalData/pivotTherapyCodesbyCountry.csv')"
   ]
  },
  {
   "cell_type": "code",
   "execution_count": 3,
   "id": "8a60e4cc-ab0d-4c5e-80d6-f649fad1f6ad",
   "metadata": {},
   "outputs": [
    {
     "name": "stdout",
     "output_type": "stream",
     "text": [
      "code2idx Size: 14564\n",
      "idx2code Size: 14564\n"
     ]
    }
   ],
   "source": [
    "#vocab and code2idx generation\n",
    "idx_therapy = range(1, len(vocab_therapy)+1)\n",
    "\n",
    "code2idx_therapy = dict(zip(vocab_therapy, idx_therapy))\n",
    "idx2code_therapy = dict(zip(idx_therapy, vocab_therapy))\n",
    "\n",
    "code2idx_therapy['PAD'] = 0\n",
    "idx2code_therapy[0] = 'PAD'\n",
    "# idx2code_all[1] = 'NO_CODE'\n",
    "# idx2code_all[2] = 'start_visit'\n",
    "# idx2code_all[3] = 'end_visit'\n",
    "VOCAB_SIZE = len(code2idx_therapy)\n",
    "print('code2idx Size: {}'.format(len(code2idx_therapy)))\n",
    "print('idx2code Size: {}'.format(len(idx2code_therapy)))\n",
    "\n",
    "# month_vocab = pickle.load(open('../SeqModel/month_vocab.sav', 'rb'))"
   ]
  },
  {
   "cell_type": "code",
   "execution_count": 4,
   "id": "b5d5dc87-bee0-4123-b203-3f7020638536",
   "metadata": {
    "tags": []
   },
   "outputs": [
    {
     "data": {
      "text/html": [
       "<div>\n",
       "<style scoped>\n",
       "    .dataframe tbody tr th:only-of-type {\n",
       "        vertical-align: middle;\n",
       "    }\n",
       "\n",
       "    .dataframe tbody tr th {\n",
       "        vertical-align: top;\n",
       "    }\n",
       "\n",
       "    .dataframe thead th {\n",
       "        text-align: right;\n",
       "    }\n",
       "</style>\n",
       "<table border=\"1\" class=\"dataframe\">\n",
       "  <thead>\n",
       "    <tr style=\"text-align: right;\">\n",
       "      <th></th>\n",
       "      <th>patid</th>\n",
       "      <th>read_code_seq_padded_idx</th>\n",
       "      <th>read_code_seq_padded_end_idx</th>\n",
       "      <th>month_padded_idx</th>\n",
       "      <th>month_padded_idx_end</th>\n",
       "      <th>Country</th>\n",
       "      <th>age</th>\n",
       "      <th>3months</th>\n",
       "      <th>6months</th>\n",
       "      <th>9months</th>\n",
       "      <th>12months</th>\n",
       "    </tr>\n",
       "  </thead>\n",
       "  <tbody>\n",
       "    <tr>\n",
       "      <th>0</th>\n",
       "      <td>43655540</td>\n",
       "      <td>[0, 0, 0, 0, 0, 0, 0, 0, 0, 0, 0, 0, 0, 0, 0, ...</td>\n",
       "      <td>[6021, 6555, 1144, 35, 11227, 13415, 5465, 587...</td>\n",
       "      <td>[0, 0, 0, 0, 0, 0, 0, 0, 0, 0, 0, 0, 0, 0, 0, ...</td>\n",
       "      <td>[1, 1, 1, 1, 1, 1, 1, 1, 1, 1, 0, 0, 0, 0, 0, ...</td>\n",
       "      <td>England</td>\n",
       "      <td>67</td>\n",
       "      <td>0</td>\n",
       "      <td>1</td>\n",
       "      <td>1</td>\n",
       "      <td>1</td>\n",
       "    </tr>\n",
       "    <tr>\n",
       "      <th>1</th>\n",
       "      <td>43582797</td>\n",
       "      <td>[0, 0, 0, 0, 0, 0, 0, 0, 0, 0, 0, 0, 0, 0, 0, ...</td>\n",
       "      <td>[6555, 6555, 0, 0, 0, 0, 0, 0, 0, 0, 0, 0, 0, ...</td>\n",
       "      <td>[0, 0, 0, 0, 0, 0, 0, 0, 0, 0, 0, 0, 0, 0, 0, ...</td>\n",
       "      <td>[1, 1, 0, 0, 0, 0, 0, 0, 0, 0, 0, 0, 0, 0, 0, ...</td>\n",
       "      <td>England</td>\n",
       "      <td>41</td>\n",
       "      <td>0</td>\n",
       "      <td>0</td>\n",
       "      <td>0</td>\n",
       "      <td>0</td>\n",
       "    </tr>\n",
       "    <tr>\n",
       "      <th>2</th>\n",
       "      <td>43554478</td>\n",
       "      <td>[0, 0, 0, 0, 0, 0, 0, 0, 0, 0, 0, 0, 0, 0, 0, ...</td>\n",
       "      <td>[5932, 8976, 0, 0, 0, 0, 0, 0, 0, 0, 0, 0, 0, ...</td>\n",
       "      <td>[0, 0, 0, 0, 0, 0, 0, 0, 0, 0, 0, 0, 0, 0, 0, ...</td>\n",
       "      <td>[1, 1, 0, 0, 0, 0, 0, 0, 0, 0, 0, 0, 0, 0, 0, ...</td>\n",
       "      <td>England</td>\n",
       "      <td>20</td>\n",
       "      <td>0</td>\n",
       "      <td>0</td>\n",
       "      <td>0</td>\n",
       "      <td>0</td>\n",
       "    </tr>\n",
       "    <tr>\n",
       "      <th>3</th>\n",
       "      <td>43544500</td>\n",
       "      <td>[0, 0, 0, 0, 0, 0, 0, 0, 0, 0, 0, 0, 0, 0, 0, ...</td>\n",
       "      <td>[5038, 0, 0, 0, 0, 0, 0, 0, 0, 0, 0, 0, 0, 0, ...</td>\n",
       "      <td>[0, 0, 0, 0, 0, 0, 0, 0, 0, 0, 0, 0, 0, 0, 0, ...</td>\n",
       "      <td>[1, 0, 0, 0, 0, 0, 0, 0, 0, 0, 0, 0, 0, 0, 0, ...</td>\n",
       "      <td>England</td>\n",
       "      <td>20</td>\n",
       "      <td>0</td>\n",
       "      <td>0</td>\n",
       "      <td>0</td>\n",
       "      <td>0</td>\n",
       "    </tr>\n",
       "    <tr>\n",
       "      <th>4</th>\n",
       "      <td>43552659</td>\n",
       "      <td>[0, 0, 0, 0, 0, 0, 0, 0, 0, 0, 0, 0, 0, 0, 0, ...</td>\n",
       "      <td>[1589, 6842, 5465, 8126, 4305, 2912, 0, 0, 0, ...</td>\n",
       "      <td>[0, 0, 0, 0, 0, 0, 0, 0, 0, 0, 0, 0, 0, 0, 0, ...</td>\n",
       "      <td>[1, 1, 1, 1, 1, 1, 0, 0, 0, 0, 0, 0, 0, 0, 0, ...</td>\n",
       "      <td>England</td>\n",
       "      <td>55</td>\n",
       "      <td>0</td>\n",
       "      <td>0</td>\n",
       "      <td>0</td>\n",
       "      <td>0</td>\n",
       "    </tr>\n",
       "  </tbody>\n",
       "</table>\n",
       "</div>"
      ],
      "text/plain": [
       "      patid                           read_code_seq_padded_idx  \\\n",
       "0  43655540  [0, 0, 0, 0, 0, 0, 0, 0, 0, 0, 0, 0, 0, 0, 0, ...   \n",
       "1  43582797  [0, 0, 0, 0, 0, 0, 0, 0, 0, 0, 0, 0, 0, 0, 0, ...   \n",
       "2  43554478  [0, 0, 0, 0, 0, 0, 0, 0, 0, 0, 0, 0, 0, 0, 0, ...   \n",
       "3  43544500  [0, 0, 0, 0, 0, 0, 0, 0, 0, 0, 0, 0, 0, 0, 0, ...   \n",
       "4  43552659  [0, 0, 0, 0, 0, 0, 0, 0, 0, 0, 0, 0, 0, 0, 0, ...   \n",
       "\n",
       "                        read_code_seq_padded_end_idx  \\\n",
       "0  [6021, 6555, 1144, 35, 11227, 13415, 5465, 587...   \n",
       "1  [6555, 6555, 0, 0, 0, 0, 0, 0, 0, 0, 0, 0, 0, ...   \n",
       "2  [5932, 8976, 0, 0, 0, 0, 0, 0, 0, 0, 0, 0, 0, ...   \n",
       "3  [5038, 0, 0, 0, 0, 0, 0, 0, 0, 0, 0, 0, 0, 0, ...   \n",
       "4  [1589, 6842, 5465, 8126, 4305, 2912, 0, 0, 0, ...   \n",
       "\n",
       "                                    month_padded_idx  \\\n",
       "0  [0, 0, 0, 0, 0, 0, 0, 0, 0, 0, 0, 0, 0, 0, 0, ...   \n",
       "1  [0, 0, 0, 0, 0, 0, 0, 0, 0, 0, 0, 0, 0, 0, 0, ...   \n",
       "2  [0, 0, 0, 0, 0, 0, 0, 0, 0, 0, 0, 0, 0, 0, 0, ...   \n",
       "3  [0, 0, 0, 0, 0, 0, 0, 0, 0, 0, 0, 0, 0, 0, 0, ...   \n",
       "4  [0, 0, 0, 0, 0, 0, 0, 0, 0, 0, 0, 0, 0, 0, 0, ...   \n",
       "\n",
       "                                month_padded_idx_end  Country  age  3months  \\\n",
       "0  [1, 1, 1, 1, 1, 1, 1, 1, 1, 1, 0, 0, 0, 0, 0, ...  England   67        0   \n",
       "1  [1, 1, 0, 0, 0, 0, 0, 0, 0, 0, 0, 0, 0, 0, 0, ...  England   41        0   \n",
       "2  [1, 1, 0, 0, 0, 0, 0, 0, 0, 0, 0, 0, 0, 0, 0, ...  England   20        0   \n",
       "3  [1, 0, 0, 0, 0, 0, 0, 0, 0, 0, 0, 0, 0, 0, 0, ...  England   20        0   \n",
       "4  [1, 1, 1, 1, 1, 1, 0, 0, 0, 0, 0, 0, 0, 0, 0, ...  England   55        0   \n",
       "\n",
       "   6months  9months  12months  \n",
       "0        1        1         1  \n",
       "1        0        0         0  \n",
       "2        0        0         0  \n",
       "3        0        0         0  \n",
       "4        0        0         0  "
      ]
     },
     "execution_count": 4,
     "metadata": {},
     "output_type": "execute_result"
    }
   ],
   "source": [
    "data_therapy.head()"
   ]
  },
  {
   "cell_type": "code",
   "execution_count": 5,
   "id": "8b5f7177-3ae6-4172-a658-70d73bc690d8",
   "metadata": {
    "tags": []
   },
   "outputs": [],
   "source": [
    "data_therapy['read_code_seq_padded'] = data_therapy['read_code_seq_padded_end_idx'].apply(lambda x: [idx2code_therapy.get(key) for key in x])"
   ]
  },
  {
   "cell_type": "code",
   "execution_count": 3,
   "id": "04d031cd-0fb2-4d61-bf07-a1c1c10453be",
   "metadata": {
    "tags": []
   },
   "outputs": [],
   "source": [
    "new_vocab_therapy = vocab_stat_therapy.sort_values('%patient', ascending=False).code_id.values"
   ]
  },
  {
   "cell_type": "code",
   "execution_count": 6,
   "id": "9cfb52c6-a896-4c63-a9b9-a97ee372c0f5",
   "metadata": {
    "tags": []
   },
   "outputs": [],
   "source": [
    "pickle.dump(new_vocab_therapy, open('../SeqModel/all_vocab_therapy_new.sav', 'wb'))"
   ]
  },
  {
   "cell_type": "code",
   "execution_count": 7,
   "id": "54b85aea-00c2-4118-9012-7142ee8e82ed",
   "metadata": {
    "tags": []
   },
   "outputs": [
    {
     "data": {
      "text/plain": [
       "14563"
      ]
     },
     "execution_count": 7,
     "metadata": {},
     "output_type": "execute_result"
    }
   ],
   "source": [
    "len(new_vocab_therapy)"
   ]
  },
  {
   "cell_type": "code",
   "execution_count": 8,
   "id": "bf1e3806-7540-4cda-8eee-fe05067e1082",
   "metadata": {
    "tags": []
   },
   "outputs": [
    {
     "name": "stdout",
     "output_type": "stream",
     "text": [
      "new code2idx Size: 14564\n",
      "new idx2code Size: 14564\n"
     ]
    }
   ],
   "source": [
    "#vocab and code2idx generation\n",
    "new_idx_therapy = range(1, len(new_vocab_therapy)+1)\n",
    "\n",
    "new_code2idx_therapy = dict(zip(new_vocab_therapy, new_idx_therapy))\n",
    "new_idx2code_therapy = dict(zip(new_idx_therapy, new_vocab_therapy))\n",
    "\n",
    "new_code2idx_therapy['PAD'] = 0\n",
    "new_idx2code_therapy[0] = 'PAD'\n",
    "# idx2code_all[1] = 'NO_CODE'\n",
    "# idx2code_all[2] = 'start_visit'\n",
    "# idx2code_all[3] = 'end_visit'\n",
    "VOCAB_SIZE = len(new_code2idx_therapy)\n",
    "print('new code2idx Size: {}'.format(len(new_code2idx_therapy)))\n",
    "print('new idx2code Size: {}'.format(len(new_idx2code_therapy)))\n",
    "\n",
    "# month_vocab = pickle.load(open('../SeqModel/month_vocab.sav', 'rb'))"
   ]
  },
  {
   "cell_type": "code",
   "execution_count": 9,
   "id": "b5ed779f-d89b-40db-9575-3983818fd6eb",
   "metadata": {
    "tags": []
   },
   "outputs": [],
   "source": [
    "data_therapy['read_code_seq_padded_end_idx_new'] = data_therapy['read_code_seq_padded'].apply(lambda x: [new_code2idx_therapy.get(key) for key in x])"
   ]
  },
  {
   "cell_type": "code",
   "execution_count": 10,
   "id": "f5311879-768c-430a-80ff-a9ce85331d7d",
   "metadata": {
    "tags": []
   },
   "outputs": [
    {
     "data": {
      "text/html": [
       "<div>\n",
       "<style scoped>\n",
       "    .dataframe tbody tr th:only-of-type {\n",
       "        vertical-align: middle;\n",
       "    }\n",
       "\n",
       "    .dataframe tbody tr th {\n",
       "        vertical-align: top;\n",
       "    }\n",
       "\n",
       "    .dataframe thead th {\n",
       "        text-align: right;\n",
       "    }\n",
       "</style>\n",
       "<table border=\"1\" class=\"dataframe\">\n",
       "  <thead>\n",
       "    <tr style=\"text-align: right;\">\n",
       "      <th></th>\n",
       "      <th>patid</th>\n",
       "      <th>read_code_seq_padded_idx</th>\n",
       "      <th>read_code_seq_padded_end_idx</th>\n",
       "      <th>month_padded_idx</th>\n",
       "      <th>month_padded_idx_end</th>\n",
       "      <th>Country</th>\n",
       "      <th>age</th>\n",
       "      <th>3months</th>\n",
       "      <th>6months</th>\n",
       "      <th>9months</th>\n",
       "      <th>12months</th>\n",
       "      <th>read_code_seq_padded</th>\n",
       "      <th>read_code_seq_padded_end_idx_new</th>\n",
       "    </tr>\n",
       "  </thead>\n",
       "  <tbody>\n",
       "    <tr>\n",
       "      <th>0</th>\n",
       "      <td>43655540</td>\n",
       "      <td>[0, 0, 0, 0, 0, 0, 0, 0, 0, 0, 0, 0, 0, 0, 0, ...</td>\n",
       "      <td>[6021, 6555, 1144, 35, 11227, 13415, 5465, 587...</td>\n",
       "      <td>[0, 0, 0, 0, 0, 0, 0, 0, 0, 0, 0, 0, 0, 0, 0, ...</td>\n",
       "      <td>[1, 1, 1, 1, 1, 1, 1, 1, 1, 1, 0, 0, 0, 0, 0, ...</td>\n",
       "      <td>England</td>\n",
       "      <td>67</td>\n",
       "      <td>0</td>\n",
       "      <td>1</td>\n",
       "      <td>1</td>\n",
       "      <td>1</td>\n",
       "      <td>[e758., fe62., e927., c8o1., c1Dw., l81z., bxd...</td>\n",
       "      <td>[8, 3, 12, 30, 163, 28, 91, 1089, 371, 1006, 0...</td>\n",
       "    </tr>\n",
       "    <tr>\n",
       "      <th>1</th>\n",
       "      <td>43582797</td>\n",
       "      <td>[0, 0, 0, 0, 0, 0, 0, 0, 0, 0, 0, 0, 0, 0, 0, ...</td>\n",
       "      <td>[6555, 6555, 0, 0, 0, 0, 0, 0, 0, 0, 0, 0, 0, ...</td>\n",
       "      <td>[0, 0, 0, 0, 0, 0, 0, 0, 0, 0, 0, 0, 0, 0, 0, ...</td>\n",
       "      <td>[1, 1, 0, 0, 0, 0, 0, 0, 0, 0, 0, 0, 0, 0, 0, ...</td>\n",
       "      <td>England</td>\n",
       "      <td>41</td>\n",
       "      <td>0</td>\n",
       "      <td>0</td>\n",
       "      <td>0</td>\n",
       "      <td>0</td>\n",
       "      <td>[fe62., fe62., PAD, PAD, PAD, PAD, PAD, PAD, P...</td>\n",
       "      <td>[3, 3, 0, 0, 0, 0, 0, 0, 0, 0, 0, 0, 0, 0, 0, ...</td>\n",
       "    </tr>\n",
       "    <tr>\n",
       "      <th>2</th>\n",
       "      <td>43554478</td>\n",
       "      <td>[0, 0, 0, 0, 0, 0, 0, 0, 0, 0, 0, 0, 0, 0, 0, ...</td>\n",
       "      <td>[5932, 8976, 0, 0, 0, 0, 0, 0, 0, 0, 0, 0, 0, ...</td>\n",
       "      <td>[0, 0, 0, 0, 0, 0, 0, 0, 0, 0, 0, 0, 0, 0, 0, ...</td>\n",
       "      <td>[1, 1, 0, 0, 0, 0, 0, 0, 0, 0, 0, 0, 0, 0, 0, ...</td>\n",
       "      <td>England</td>\n",
       "      <td>20</td>\n",
       "      <td>0</td>\n",
       "      <td>0</td>\n",
       "      <td>0</td>\n",
       "      <td>0</td>\n",
       "      <td>[c1c1., c13J., PAD, PAD, PAD, PAD, PAD, PAD, P...</td>\n",
       "      <td>[395, 1, 0, 0, 0, 0, 0, 0, 0, 0, 0, 0, 0, 0, 0...</td>\n",
       "    </tr>\n",
       "    <tr>\n",
       "      <th>3</th>\n",
       "      <td>43544500</td>\n",
       "      <td>[0, 0, 0, 0, 0, 0, 0, 0, 0, 0, 0, 0, 0, 0, 0, ...</td>\n",
       "      <td>[5038, 0, 0, 0, 0, 0, 0, 0, 0, 0, 0, 0, 0, 0, ...</td>\n",
       "      <td>[0, 0, 0, 0, 0, 0, 0, 0, 0, 0, 0, 0, 0, 0, 0, ...</td>\n",
       "      <td>[1, 0, 0, 0, 0, 0, 0, 0, 0, 0, 0, 0, 0, 0, 0, ...</td>\n",
       "      <td>England</td>\n",
       "      <td>20</td>\n",
       "      <td>0</td>\n",
       "      <td>0</td>\n",
       "      <td>0</td>\n",
       "      <td>0</td>\n",
       "      <td>[c66d., PAD, PAD, PAD, PAD, PAD, PAD, PAD, PAD...</td>\n",
       "      <td>[5, 0, 0, 0, 0, 0, 0, 0, 0, 0, 0, 0, 0, 0, 0, ...</td>\n",
       "    </tr>\n",
       "    <tr>\n",
       "      <th>4</th>\n",
       "      <td>43552659</td>\n",
       "      <td>[0, 0, 0, 0, 0, 0, 0, 0, 0, 0, 0, 0, 0, 0, 0, ...</td>\n",
       "      <td>[1589, 6842, 5465, 8126, 4305, 2912, 0, 0, 0, ...</td>\n",
       "      <td>[0, 0, 0, 0, 0, 0, 0, 0, 0, 0, 0, 0, 0, 0, 0, ...</td>\n",
       "      <td>[1, 1, 1, 1, 1, 1, 0, 0, 0, 0, 0, 0, 0, 0, 0, ...</td>\n",
       "      <td>England</td>\n",
       "      <td>55</td>\n",
       "      <td>0</td>\n",
       "      <td>0</td>\n",
       "      <td>0</td>\n",
       "      <td>0</td>\n",
       "      <td>[a6b1., da41., bxd2., bi67., blh1., fg51., PAD...</td>\n",
       "      <td>[7, 43, 91, 84, 374, 202, 0, 0, 0, 0, 0, 0, 0,...</td>\n",
       "    </tr>\n",
       "  </tbody>\n",
       "</table>\n",
       "</div>"
      ],
      "text/plain": [
       "      patid                           read_code_seq_padded_idx  \\\n",
       "0  43655540  [0, 0, 0, 0, 0, 0, 0, 0, 0, 0, 0, 0, 0, 0, 0, ...   \n",
       "1  43582797  [0, 0, 0, 0, 0, 0, 0, 0, 0, 0, 0, 0, 0, 0, 0, ...   \n",
       "2  43554478  [0, 0, 0, 0, 0, 0, 0, 0, 0, 0, 0, 0, 0, 0, 0, ...   \n",
       "3  43544500  [0, 0, 0, 0, 0, 0, 0, 0, 0, 0, 0, 0, 0, 0, 0, ...   \n",
       "4  43552659  [0, 0, 0, 0, 0, 0, 0, 0, 0, 0, 0, 0, 0, 0, 0, ...   \n",
       "\n",
       "                        read_code_seq_padded_end_idx  \\\n",
       "0  [6021, 6555, 1144, 35, 11227, 13415, 5465, 587...   \n",
       "1  [6555, 6555, 0, 0, 0, 0, 0, 0, 0, 0, 0, 0, 0, ...   \n",
       "2  [5932, 8976, 0, 0, 0, 0, 0, 0, 0, 0, 0, 0, 0, ...   \n",
       "3  [5038, 0, 0, 0, 0, 0, 0, 0, 0, 0, 0, 0, 0, 0, ...   \n",
       "4  [1589, 6842, 5465, 8126, 4305, 2912, 0, 0, 0, ...   \n",
       "\n",
       "                                    month_padded_idx  \\\n",
       "0  [0, 0, 0, 0, 0, 0, 0, 0, 0, 0, 0, 0, 0, 0, 0, ...   \n",
       "1  [0, 0, 0, 0, 0, 0, 0, 0, 0, 0, 0, 0, 0, 0, 0, ...   \n",
       "2  [0, 0, 0, 0, 0, 0, 0, 0, 0, 0, 0, 0, 0, 0, 0, ...   \n",
       "3  [0, 0, 0, 0, 0, 0, 0, 0, 0, 0, 0, 0, 0, 0, 0, ...   \n",
       "4  [0, 0, 0, 0, 0, 0, 0, 0, 0, 0, 0, 0, 0, 0, 0, ...   \n",
       "\n",
       "                                month_padded_idx_end  Country  age  3months  \\\n",
       "0  [1, 1, 1, 1, 1, 1, 1, 1, 1, 1, 0, 0, 0, 0, 0, ...  England   67        0   \n",
       "1  [1, 1, 0, 0, 0, 0, 0, 0, 0, 0, 0, 0, 0, 0, 0, ...  England   41        0   \n",
       "2  [1, 1, 0, 0, 0, 0, 0, 0, 0, 0, 0, 0, 0, 0, 0, ...  England   20        0   \n",
       "3  [1, 0, 0, 0, 0, 0, 0, 0, 0, 0, 0, 0, 0, 0, 0, ...  England   20        0   \n",
       "4  [1, 1, 1, 1, 1, 1, 0, 0, 0, 0, 0, 0, 0, 0, 0, ...  England   55        0   \n",
       "\n",
       "   6months  9months  12months  \\\n",
       "0        1        1         1   \n",
       "1        0        0         0   \n",
       "2        0        0         0   \n",
       "3        0        0         0   \n",
       "4        0        0         0   \n",
       "\n",
       "                                read_code_seq_padded  \\\n",
       "0  [e758., fe62., e927., c8o1., c1Dw., l81z., bxd...   \n",
       "1  [fe62., fe62., PAD, PAD, PAD, PAD, PAD, PAD, P...   \n",
       "2  [c1c1., c13J., PAD, PAD, PAD, PAD, PAD, PAD, P...   \n",
       "3  [c66d., PAD, PAD, PAD, PAD, PAD, PAD, PAD, PAD...   \n",
       "4  [a6b1., da41., bxd2., bi67., blh1., fg51., PAD...   \n",
       "\n",
       "                    read_code_seq_padded_end_idx_new  \n",
       "0  [8, 3, 12, 30, 163, 28, 91, 1089, 371, 1006, 0...  \n",
       "1  [3, 3, 0, 0, 0, 0, 0, 0, 0, 0, 0, 0, 0, 0, 0, ...  \n",
       "2  [395, 1, 0, 0, 0, 0, 0, 0, 0, 0, 0, 0, 0, 0, 0...  \n",
       "3  [5, 0, 0, 0, 0, 0, 0, 0, 0, 0, 0, 0, 0, 0, 0, ...  \n",
       "4  [7, 43, 91, 84, 374, 202, 0, 0, 0, 0, 0, 0, 0,...  "
      ]
     },
     "execution_count": 10,
     "metadata": {},
     "output_type": "execute_result"
    }
   ],
   "source": [
    "data_therapy.head()"
   ]
  },
  {
   "cell_type": "code",
   "execution_count": 11,
   "id": "820b32b2-e04e-4d48-b8a3-3f408466032c",
   "metadata": {},
   "outputs": [],
   "source": [
    "data_therapy.to_feather('../SeqModel/all_data_therapy_new.feather')"
   ]
  },
  {
   "cell_type": "code",
   "execution_count": null,
   "id": "8e31f965-4af5-42d4-8165-394d6cd38826",
   "metadata": {},
   "outputs": [],
   "source": []
  }
 ],
 "metadata": {
  "kernelspec": {
   "display_name": "Python 3 (ipykernel)",
   "language": "python",
   "name": "python3"
  },
  "language_info": {
   "codemirror_mode": {
    "name": "ipython",
    "version": 3
   },
   "file_extension": ".py",
   "mimetype": "text/x-python",
   "name": "python",
   "nbconvert_exporter": "python",
   "pygments_lexer": "ipython3",
   "version": "3.10.11"
  }
 },
 "nbformat": 4,
 "nbformat_minor": 5
}
