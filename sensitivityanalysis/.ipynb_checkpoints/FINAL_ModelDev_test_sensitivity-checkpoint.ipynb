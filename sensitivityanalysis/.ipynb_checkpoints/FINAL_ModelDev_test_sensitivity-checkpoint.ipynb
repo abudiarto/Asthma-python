{
 "cells": [
  {
   "cell_type": "code",
   "execution_count": 1,
   "id": "63b9b4ec-42b7-44cf-953d-8e865616107d",
   "metadata": {},
   "outputs": [],
   "source": [
    "import pandas as pd\n",
    "import numpy as np\n",
    "import sklearn\n",
    "import pyreadr\n",
    "\n",
    "#statistics\n",
    "from scipy.stats import chi2_contingency, ttest_ind\n",
    "\n",
    "# import cudf #gpu-powered DataFrame (Pandas alternative)\n",
    "\n",
    "#imbalance handling\n",
    "from imblearn.over_sampling import SMOTE\n",
    "from imblearn.under_sampling import RandomUnderSampler, RepeatedEditedNearestNeighbours\n",
    "from imblearn.pipeline import Pipeline\n",
    "\n",
    "#preprocessing\n",
    "from sklearn import preprocessing\n",
    "from sklearn.preprocessing import OrdinalEncoder, OneHotEncoder, LabelEncoder, MinMaxScaler, StandardScaler\n",
    "\n",
    "\n",
    "#internal validation\n",
    "from sklearn.model_selection import StratifiedKFold, KFold, RepeatedStratifiedKFold, cross_val_score, GridSearchCV, PredefinedSplit, train_test_split\n",
    "\n",
    "#performance metrices\n",
    "from sklearn.metrics import make_scorer, confusion_matrix, classification_report, f1_score, balanced_accuracy_score, matthews_corrcoef, auc, average_precision_score, roc_auc_score, balanced_accuracy_score, roc_curve, accuracy_score\n",
    "\n",
    "#Models selection\n",
    "from sklearn.naive_bayes import GaussianNB, ComplementNB\n",
    "from sklearn.linear_model import LogisticRegression\n",
    "from sklearn.tree import DecisionTreeClassifier\n",
    "from sklearn.ensemble import RandomForestClassifier\n",
    "import xgboost as xgb\n",
    "# from cuml.svm import SVC #gpu-powered SVM\n",
    "\n",
    "#Tree pruning\n",
    "from sklearn.tree._tree import TREE_LEAF\n",
    "\n",
    "\n",
    "#save and load trained model\n",
    "import pickle\n",
    "\n",
    "#visualisation\n",
    "import matplotlib.pyplot as plt\n",
    "import seaborn as sns\n",
    "from sklearn import tree\n",
    "\n",
    "from collections import Counter\n",
    "import os\n",
    "# import torch\n",
    "import time\n",
    "random_state = 42\n",
    "\n"
   ]
  },
  {
   "cell_type": "markdown",
   "id": "7d878020-b164-4e3f-b9fa-65737bd919d7",
   "metadata": {},
   "source": [
    "# DATA"
   ]
  },
  {
   "cell_type": "code",
   "execution_count": 320,
   "id": "e12d686c-2329-4b6b-8894-492e4029affd",
   "metadata": {},
   "outputs": [
    {
     "name": "stdout",
     "output_type": "stream",
     "text": [
      "Features size:  48\n",
      "['sex', 'rhinitis', 'cardiovascular', 'heartfailure', 'psoriasis', 'anaphylaxis', 'diabetes', 'ihd', 'anxiety', 'eczema', 'nasalpolyps', 'ethnic_group_Asian', 'ethnic_group_Black', 'ethnic_group_Mixed', 'ethnic_group_Other', 'ethnic_group_White', 'ethnic_group_not recorded', 'smokingStatus_current', 'smokingStatus_former', 'smokingStatus_never', 'DeviceType_BAI', 'DeviceType_DPI', 'DeviceType_NEB', 'DeviceType_not recorded', 'DeviceType_pMDI', 'PriorEducation_No', 'PriorEducation_Yes', 'age', 'average_daily_dose_ICS', 'prescribed_daily_dose_ICS', 'ICS_medication_possesion_ratio', 'numPCS', 'numPCSAsthma', 'numAntibioticsEvents', 'numAntibioticswithLRTI', 'numOCSEvents', 'numOCSwithLRTI', 'numAsthmaAttacks', 'numAcuteRespEvents', 'numHospEvents', 'numAsthmaManagement', 'numAsthmaReview', 'imd_decile', 'CharlsonScore', 'BTS_step', 'BMI_cat', 'PEFStatus', 'EosinophilLevel']\n"
     ]
    }
   ],
   "source": [
    "\n",
    "# Data loader\n",
    "# features = pd.read_csv(\"../FinalData/cleaned_features_11072023.csv\")\n",
    "gridSearchData, crossValData, internalEvaluationData, externalEvaluationData = pickle.load(open('../../Clean_data/dataset_scaled_sensitivity.sav', 'rb'))\n",
    "# outcomes = pd.read_csv(\"../../Clean_data/cleaned_outcomes_24102024.csv\")\n",
    "\n",
    "#Define feature candidates\n",
    "\n",
    "features_columns = gridSearchData.columns.to_list()\n",
    "exclude_columns = ['patid', 'practice_id', 'set', #identifier\n",
    "                   'BMI', #use the categorical instead\n",
    "                   'ethnicity', #use ethnic_group instead\n",
    "                   'Spacer',  #all zero\n",
    "                   'asthmaPlan', #use the continuous one\n",
    "                   \n",
    "                   'outcome_3months', 'outcome_6months', 'outcome_9months', 'outcome_12months', 'outcome_15months', 'outcome_18months', \n",
    "                   'outcome_21months', 'outcome_24months', 'outcome_combined_6months', 'outcome_combined_9months', 'outcome_combined_12months', \n",
    "                   'outcome_combined_15months', 'outcome_combined_18months', 'outcome_combined_24months', '3months', '6months', '12months', '24months', #outcomes variable\n",
    "                   \n",
    "                   'postcode_district', 'County', 'LocalAuthority', 'OutputAreaClassification', #location related variables, use IMD decile only\n",
    "                   \n",
    "                   'age_cat', 'ICS_medication_possesion_ratio_cat', 'numOCS_cat', 'numOCSEvents_cat', 'numOCSwithLRTI_cat', 'numAcuteRespEvents_cat', \n",
    "                   'numAntibioticsEvents_cat', 'numAntibioticswithLRTI_cat', 'numAsthmaAttacks_cat', 'numHospEvents_cat', 'numPCS_cat', 'numPCSAsthma_cat', \n",
    "                   'numAsthmaManagement_cat', 'numAsthmaReview_cat', 'numAsthmaMedReview_cat', 'numAsthmaReviewRCP_cat', 'average_daily_dose_ICS_cat', \n",
    "                   'prescribed_daily_dose_ICS_cat', #use continous vars instead\n",
    "                   \n",
    "                   'count_rhinitis', 'count_cardiovascular', 'count_heartfailure',\n",
    "                   'count_psoriasis', 'count_anaphylaxis', 'count_diabetes', 'count_ihd',\n",
    "                   'count_anxiety', 'count_eczema', 'count_nasalpolyps',\n",
    "                   'count_paracetamol', 'count_nsaids', 'count_betablocker', #use binary ones\n",
    "                   \n",
    "                   'paracetamol', 'nsaids', 'betablocker', #no data in evaluation\n",
    "                   'numAsthmaMedReview', 'numAsthmaReviewRCP',\n",
    "\n",
    "                   'outcome_all0', 'outcome_all1', 'outcome_all2', 'outcome_all3', #new outcomes\n",
    "                                      \n",
    "                  ]\n",
    "# exclude_columns = exclude_columns + [x for x in features_columns if '_count' in x] #filter out commorbid count variables\n",
    "features_columns = [x for x in features_columns if x not in exclude_columns]\n",
    "print('Features size: ', len(features_columns))\n",
    "print(features_columns)\n",
    "\n"
   ]
  },
  {
   "cell_type": "code",
   "execution_count": 376,
   "id": "0c955b4b-1eda-4c18-981e-e04c54b95718",
   "metadata": {},
   "outputs": [],
   "source": [
    "allData = pd.concat([gridSearchData, crossValData, internalEvaluationData, externalEvaluationData])\n",
    "allData.reset_index(drop=True, inplace=True)"
   ]
  },
  {
   "cell_type": "code",
   "execution_count": 65,
   "id": "4118cf4c-c761-4ce2-b51c-5b9e250d1a44",
   "metadata": {},
   "outputs": [],
   "source": [
    "\n",
    "#Model evaluation function\n",
    "\n",
    "def summariseResult (testX, testY, model):\n",
    "    preds = model.predict_proba(testX)\n",
    "    preds = [x[1] for x in preds]\n",
    "    # tn, fp, fn, tp = confusion_matrix(testY, preds).ravel()\n",
    "    # specificity = tn / (tn+fp)\n",
    "    # sensitivity = tp / (tp+fn)\n",
    "    # ppv = 100*tp/(tp+fp)\n",
    "    # npv = 100*tn/(fn+tn)\n",
    "    # acc = accuracy_score(testY, preds)\n",
    "    # f1score = f1_score(testY, preds, average = 'binary')\n",
    "    # balanceacc = balanced_accuracy_score(testY, preds)\n",
    "    fpr, tpr, thresholds = roc_curve(testY, preds, pos_label=1)\n",
    "    # aucscore = auc(fpr, tpr)\n",
    "    aucscore = roc_auc_score(testY, preds)\n",
    "    auprc = average_precision_score(testY, preds)\n",
    "    # plot_confusion_matrix(model, testX, testY, cmap='viridis')  \n",
    "    return np.round(aucscore,4), np.round(auprc,4)\n",
    "    # return np.round(acc,4), np.round(specificity,4), np.round(sensitivity,4), np.round(aucscore,4), np.round(auprc,4), np.round(balanceacc,4), np.round(f1score,4), np.round(ppv,4), np.round(npv,4)\n",
    "\n",
    "#Fix model name for visualisation\n",
    "\n",
    "def modelNameFixer(x):\n",
    "    if 'liblinear' in x:\n",
    "        return 'Lasso'\n",
    "    elif 'GaussianNB' in x:\n",
    "        return 'GNB'\n",
    "    elif 'SVC' in x:\n",
    "        return 'SVC'\n",
    "    elif 'RandomForest' in x:\n",
    "        return 'RF'\n",
    "    elif 'XGB' in x:\n",
    "        return 'XGBoost'\n",
    "    elif 'DecisionTree' in x:\n",
    "        return 'DT'\n",
    "    else:\n",
    "        return 'LR'\n",
    "    \n",
    "    \n",
    "# instantiate the model (using the default parameters)\n",
    "def build_models (X_train, y_train, target_outcome, params_dict, model_folder, fold):\n",
    "    models = [] #list to store all the models\n",
    "    print(\"Building models . . . .\")\n",
    "\n",
    "    #LR\n",
    "    model = 'LR'\n",
    "    params = params_dict[(params_dict['model']==model)]['params'].tolist()[0]\n",
    "    # params = eval(params)\n",
    "    print(params)\n",
    "    lr_model = LogisticRegression(class_weight='balanced', C = params['C'], max_iter=params['max_iter'], solver=params['solver'], random_state=random_state)\n",
    "    lr_model.fit(X_train,y_train)\n",
    "    pickle.dump(lr_model, open(model_folder+ target_outcome + '_'+ model + str(fold) + '.sav', 'wb'))\n",
    "    models.append([model + str(fold), target_outcome, y_train.value_counts()[1]/y_train.value_counts()[0]]) \n",
    "    print(\"LR done\")\n",
    "\n",
    "    # #Lasso\n",
    "    # model = 'Lasso'\n",
    "    # params = params_dict[(params_dict['outcome']==target_outcome)&(params_dict['model']==model)]['params'].tolist()[0]\n",
    "    # # params = eval(params)\n",
    "    # print(params)\n",
    "    # lasso_model = LogisticRegression(class_weight='balanced',  C = params['C'], max_iter=params['max_iter'], penalty='l1', solver=params['solver'], random_state=random_state) #only the LIBLINEAR and SAGA (added in v0.19) solvers handle the L1 penalty\n",
    "    # lasso_model.fit(X_train, y_train)\n",
    "    # pickle.dump(lasso_model, open(model_folder+ target_outcome + '_'+ model + str(fold) + '.sav', 'wb'))\n",
    "    # models.append([model + str(fold), target_outcome, y_train.value_counts()[1]/y_train.value_counts()[0]])\n",
    "    # print(\"Lasso done\")\n",
    "    \n",
    "    # #Elastics\n",
    "    # model = 'ElasticNet'\n",
    "    # params = params_dict[(params_dict['outcome']==target_outcome)&(params_dict['model']==model)]['params'].tolist()[0]\n",
    "    # # params = eval(params)\n",
    "    # print(params)\n",
    "    # elastics_model = LogisticRegression(class_weight='balanced', solver='saga', l1_ratio=params['l1_ratio'], max_iter=params['max_iter'],  penalty = 'elasticnet', random_state=random_state)\n",
    "    # elastics_model.fit(X_train, y_train)\n",
    "    # pickle.dump(elastics_model, open(model_folder+ target_outcome + '_'+ model + str(fold) + '.sav', 'wb'))\n",
    "    # models.append([model + str(fold), target_outcome, y_train.value_counts()[1]/y_train.value_counts()[0]])\n",
    "    # print(\"Elastics done\")\n",
    "\n",
    "\n",
    "    #DT\n",
    "    model = 'DT'\n",
    "    params = params_dict[(params_dict['model']==model)]['params'].tolist()[0]\n",
    "    # params = eval(params)\n",
    "    print(params)\n",
    "    dt_model = DecisionTreeClassifier(class_weight='balanced', max_depth=params['max_depth'], criterion=params['criterion'], splitter=params['splitter'], random_state=random_state)\n",
    "    dt_model.fit(X_train, y_train)\n",
    "    pickle.dump(dt_model, open(model_folder+ target_outcome + '_'+ model + str(fold) + '.sav', 'wb'))    \n",
    "    models.append([model + str(fold), target_outcome, y_train.value_counts()[1]/y_train.value_counts()[0]])\n",
    "    print(\"DT done\")\n",
    "\n",
    "    #RF\n",
    "    model = 'RF'\n",
    "    params = params_dict[(params_dict['model']==model)]['params'].tolist()[0]\n",
    "    # params = eval(params)\n",
    "    print(params)\n",
    "    rf_model = RandomForestClassifier(class_weight='balanced', max_depth=params['max_depth'], \n",
    "                                      criterion=params['criterion'], n_estimators=params['n_estimators'], \n",
    "                                      min_samples_split=params['min_samples_split'],\n",
    "                                      min_samples_leaf=params['min_samples_leaf'],\n",
    "                                      max_features=params['max_features'],\n",
    "                                      bootstrap=params['bootstrap'], \n",
    "                                      random_state=random_state)\n",
    "    rf_model.fit(X_train, y_train)\n",
    "    pickle.dump(rf_model, open(model_folder+ target_outcome + '_'+ model + str(fold) + '.sav', 'wb'))     \n",
    "    models.append([model + str(fold), target_outcome, y_train.value_counts()[1]/y_train.value_counts()[0]])\n",
    "    print(\"RF done\")\n",
    "\n",
    "    #XGB\n",
    "    model = 'XGB'\n",
    "    params = params_dict[(params_dict['model']==model)]['params'].tolist()[0]\n",
    "    # params = eval(params)\n",
    "    print(params)\n",
    "    scale_pos_ratio = y_train.value_counts()[0]/y_train.value_counts()[1]\n",
    "    xgb_model = xgb.XGBClassifier(objective ='binary:logistic', tree_method = \"hist\", \n",
    "                                  n_estimators=params['n_estimators'],\n",
    "                                  max_depth=params['max_depth'],\n",
    "                                  learning_rate=params['learning_rate'],\n",
    "                                  reg_alpha=params['reg_alpha'],\n",
    "                                  reg_lambda=params['reg_lambda'],\n",
    "                                  # subsample=params['subsample'],\n",
    "                                  # colsample_bytree=params['colsample_bytree'],\n",
    "                                  # scale_pos_weight=params['scale_pos_weight'],\n",
    "                                  scale_pos_weight=scale_pos_ratio,\n",
    "                                  device = \"cuda\", \n",
    "                                  verbosity = 3,\n",
    "                                  # importance_type = 'gain', \n",
    "                                  random_state=random_state)\n",
    "    # xgb_model = xgb.XGBClassifier(objective ='binary:logistic', learning_rate = 0.001, tree_method='gpu_hist', gpu_id=0,  verbosity = 0, random_state = 1234)\n",
    "    xgb_model.fit(X_train,y_train)\n",
    "    pickle.dump(xgb_model, open(model_folder+ target_outcome + '_'+ model + str(fold) + '.sav', 'wb')) \n",
    "    models.append([model + str(fold),  target_outcome, y_train.value_counts()[1]/y_train.value_counts()[0]])\n",
    "    print(\"XGB done\")\n",
    "    \n",
    "    return models\n",
    "    # return [xgb_model]\n",
    "\n",
    "    \n"
   ]
  },
  {
   "cell_type": "code",
   "execution_count": 5,
   "id": "ac97acc1-e1ed-473f-84ed-c3d4ae794353",
   "metadata": {},
   "outputs": [],
   "source": [
    "\n",
    "X = pd.concat([crossValData[features_columns], gridSearchData[features_columns]]) #use all gridsearch and crossval sets\n",
    "X_internalVal = internalEvaluationData[features_columns]\n",
    "X_externalVal = externalEvaluationData[features_columns]\n",
    "\n",
    "\n",
    "print(X.shape)\n",
    "print(X_internalVal.shape)\n",
    "print(X_externalVal.shape)\n",
    "\n",
    "\n",
    "\n",
    "target_outcomes = [\n",
    "    'outcome_all0', 'outcome_all1', 'outcome_all2', 'outcome_all3' \n",
    "] \n",
    "\n",
    "\n",
    "#params\n",
    "params_dict = pd.read_csv('../../MODELS/BS_result_new.csv')\n",
    "def process_params(param_items, best_param):\n",
    "    a = eval(param_items)\n",
    "    b = eval(best_param)\n",
    "    c = {}\n",
    "    for key, value in zip(a,b):\n",
    "        c[key] = value\n",
    "    return c\n",
    "\n",
    "params_dict['params'] = params_dict.apply(lambda x: dict(eval(x.best_param[11:])), axis=1)\n",
    "\n",
    "\n",
    "\n"
   ]
  },
  {
   "cell_type": "code",
   "execution_count": 7,
   "id": "1e5cba32-ae24-43ed-b31a-6743c7e2e211",
   "metadata": {},
   "outputs": [
    {
     "name": "stdout",
     "output_type": "stream",
     "text": [
      "outcome_all0\n",
      "0    0.844159\n",
      "1    0.155841\n",
      "Name: proportion, dtype: float64\n",
      "outcome_all1\n",
      "0    0.960524\n",
      "1    0.039476\n",
      "Name: proportion, dtype: float64\n",
      "outcome_all2\n",
      "0    0.989476\n",
      "1    0.010524\n",
      "Name: proportion, dtype: float64\n",
      "outcome_all3\n",
      "0    0.997885\n",
      "1    0.002115\n",
      "Name: proportion, dtype: float64\n"
     ]
    }
   ],
   "source": [
    "for target_outcome in target_outcomes:\n",
    "    print(externalEvaluationData[target_outcome].value_counts(normalize=True))"
   ]
  },
  {
   "cell_type": "code",
   "execution_count": 101,
   "id": "c88fd6af-8224-4ac9-92d2-18b2de41288d",
   "metadata": {},
   "outputs": [],
   "source": [
    "var_names_fix = [\n",
    "    'Sex', \n",
    "    'Comorbidities - rhinitis',\n",
    "    'Comorbidities - cardiovascular',\n",
    "    'Comorbidities - heart failure',\n",
    "    'Comorbidities - psoriasis',\n",
    "    'Comorbidities - anaphilaxis',\n",
    "    'Comorbidities - diabetes',\n",
    "    'Comorbidities - ischaemic heart disease',\n",
    "    'Comorbidities - anxiety',\n",
    "    'Comorbidities - eczema',\n",
    "    'Comorbidities - nasalpolyps',\n",
    "    'Ethnicity - Asian', \n",
    "    'Ethnicity - Black', \n",
    "    'Ethnicity - Mixed',\n",
    "    'Ethnicity - Other', \n",
    "    'Ethnicity - White', \n",
    "    'Ethnicity - Not recorded', \n",
    "    'Smoking status', \n",
    "    'Smoking status', \n",
    "    'Smoking status', \n",
    "    'ICS device type - BAI',\n",
    "    'ICS device type - DPI',\n",
    "    'ICS device type - NEB',\n",
    "    'ICS device type - Not recorded',\n",
    "    'ICS device type - pMDI',\n",
    "    'No prior asthma education recorded', \n",
    "    'Prior asthma education recorded', \n",
    "    'Age', \n",
    "    'Average daily dose of ICS', \n",
    "    'Last prescribed daily dose of ICS', \n",
    "    'ICS medication possession ratio', \n",
    "    'Number of primary care consultations', \n",
    "    'Number of asthma-related primary care consultations', \n",
    "    'Number of antibiotics courses', \n",
    "    'Number of antibiotics courses with LRTI', \n",
    "    'Number of OCS courses', \n",
    "    'Number of OCS courses with LRTI', \n",
    "    'Number of previous asthma attacks', \n",
    "    'Number of acute respiratory events', \n",
    "    'Number of hospital attendance/admission', \n",
    "    'Number of previous asthma mangement plan given',\n",
    "    'Number of previous asthma annual review',\n",
    "    'Index of multiple deprivation',\n",
    "    'Charlson comorbidity index',\n",
    "    'BTS step',\n",
    "    'BMI_cat',\n",
    "    '% predicted PEF',\n",
    "    'Blood eosinophil count',   \n",
    "]\n",
    "var_names_fix = np.array(var_names_fix)"
   ]
  },
  {
   "cell_type": "markdown",
   "id": "69b39fe6-8739-45a9-86be-f430e563db38",
   "metadata": {},
   "source": [
    "# Outcome combination"
   ]
  },
  {
   "cell_type": "code",
   "execution_count": 9,
   "id": "6286b6c0-1fbe-4def-b4cf-3a3c84f18970",
   "metadata": {
    "scrolled": true
   },
   "outputs": [
    {
     "name": "stdout",
     "output_type": "stream",
     "text": [
      "outcome_all0\n",
      "Building models . . . .\n",
      "{'C': 10.0, 'max_iter': 120, 'solver': 'liblinear'}\n",
      "LR done\n",
      "{'criterion': 'entropy', 'max_depth': 5, 'splitter': 'best'}\n",
      "DT done\n",
      "{'bootstrap': True, 'criterion': 'entropy', 'max_depth': 12, 'max_features': 'sqrt', 'min_samples_leaf': 20, 'min_samples_split': 6, 'n_estimators': 240}\n",
      "RF done\n",
      "{'colsample_bytree': 0.5, 'learning_rate': 0.021211820714260574, 'max_depth': 2, 'n_estimators': 1000, 'reg_alpha': 10.0, 'reg_lambda': 0.1, 'scale_pos_weight': 9.691656942823805, 'subsample': 0.5}\n",
      "[06:42:25] ======== Monitor (0): HostSketchContainer ========\n",
      "[06:42:25] AllReduce: 0.016849s, 1 calls @ 16849us\n",
      "\n",
      "[06:42:25] MakeCuts: 0.02471s, 1 calls @ 24710us\n",
      "\n",
      "[06:42:25] DEBUG: /workspace/src/gbm/gbtree.cc:130: Using tree method: 3\n",
      "[06:42:25] DEBUG: /workspace/src/tree/updater_gpu_hist.cu:822: [GPU Hist]: Configure\n",
      "[06:42:25] ======== Monitor (0):  ========\n",
      "[06:42:25] InitCompressedData: 0.001374s, 1 calls @ 1374us\n",
      "\n",
      "[06:42:28] ======== Monitor (0): Learner ========\n",
      "[06:42:28] Configure: 0.170891s, 1 calls @ 170891us\n",
      "\n",
      "[06:42:28] EvalOneIter: 0.002528s, 1000 calls @ 2528us\n",
      "\n",
      "[06:42:28] GetGradient: 0.073951s, 1000 calls @ 73951us\n",
      "\n",
      "[06:42:28] PredictRaw: 0.000773s, 1000 calls @ 773us\n",
      "\n",
      "[06:42:28] UpdateOneIter: 2.83073s, 1000 calls @ 2830725us\n",
      "\n",
      "[06:42:28] ======== Monitor (0): GBTree ========\n",
      "[06:42:28] BoostNewTrees: 2.32336s, 1000 calls @ 2323359us\n",
      "\n",
      "[06:42:28] CommitModel: 0.000265s, 1000 calls @ 265us\n",
      "\n",
      "[06:42:28] ======== Device 0 Memory Allocations:  ========\n",
      "[06:42:28] Peak memory usage: 95MiB\n",
      "[06:42:28] Number of allocations: 23031\n",
      "[06:42:28] ======== Monitor (0): updater_gpu_hist ========\n",
      "[06:42:28] InitData: 0.000798s, 1000 calls @ 798us\n",
      "\n",
      "[06:42:28] InitDataOnce: 0.000694s, 1 calls @ 694us\n",
      "\n",
      "[06:42:28] Update: 2.20491s, 1000 calls @ 2204908us\n",
      "\n",
      "[06:42:28] UpdatePredictionCache: 0.114627s, 1000 calls @ 114627us\n",
      "\n",
      "[06:42:28] ======== Monitor (0): gradient_based_sampler ========\n",
      "[06:42:28] Sample: 0.030461s, 1000 calls @ 30461us\n",
      "\n",
      "[06:42:28] ======== Monitor (0): GPUHistMakerDevicecuda:0 ========\n",
      "[06:42:28] AllReduce: 0.000576s, 2000 calls @ 576us\n",
      "\n",
      "[06:42:28] BuildHist: 0.014698s, 2000 calls @ 14698us\n",
      "\n",
      "[06:42:28] EvaluateSplits: 0.247252s, 2000 calls @ 247252us\n",
      "\n",
      "[06:42:28] FinalisePosition: 0.498998s, 1000 calls @ 498998us\n",
      "\n",
      "[06:42:28] InitRoot: 0.790116s, 1000 calls @ 790116us\n",
      "\n",
      "[06:42:28] Reset: 0.422364s, 1000 calls @ 422364us\n",
      "\n",
      "[06:42:28] UpdatePosition: 0.221683s, 2000 calls @ 221683us\n",
      "\n",
      "XGB done\n",
      "LR\n"
     ]
    },
    {
     "name": "stderr",
     "output_type": "stream",
     "text": [
      "/tmp/ipykernel_211/3068660444.py:21: FutureWarning: The behavior of DataFrame concatenation with empty or all-NA entries is deprecated. In a future version, this will no longer exclude empty or all-NA columns when determining the result dtypes. To retain the old behavior, exclude the relevant entries before the concat operation.\n",
      "  models = pd.concat([models,models_temp]).reset_index(drop=True)\n"
     ]
    },
    {
     "name": "stdout",
     "output_type": "stream",
     "text": [
      "DT\n",
      "RF\n",
      "XGB\n",
      "[06:42:32] DEBUG: /workspace/src/gbm/gbtree.cc:130: Using tree method: 3\n",
      "[06:42:32] DEBUG: /workspace/src/tree/updater_gpu_hist.cu:822: [GPU Hist]: Configure\n"
     ]
    },
    {
     "name": "stderr",
     "output_type": "stream",
     "text": [
      "/home/abudiarto/miniconda3/envs/tf2.13/lib/python3.10/site-packages/xgboost/core.py:158: UserWarning: [06:42:32] WARNING: /workspace/src/common/error_msg.cc:58: Falling back to prediction using DMatrix due to mismatched devices. This might lead to higher memory usage and slower performance. XGBoost is running on: cuda:0, while the input data is on: cpu.\n",
      "Potential solutions:\n",
      "- Use a data structure that matches the device ordinal in the booster.\n",
      "- Set the device for booster before call to inplace_predict.\n",
      "\n",
      "This warning will only be shown once.\n",
      "\n",
      "  warnings.warn(smsg, UserWarning)\n"
     ]
    },
    {
     "name": "stdout",
     "output_type": "stream",
     "text": [
      "outcome_all1\n",
      "Building models . . . .\n",
      "{'C': 10.0, 'max_iter': 120, 'solver': 'liblinear'}\n",
      "LR done\n",
      "{'criterion': 'entropy', 'max_depth': 5, 'splitter': 'best'}\n",
      "DT done\n",
      "{'bootstrap': True, 'criterion': 'entropy', 'max_depth': 12, 'max_features': 'sqrt', 'min_samples_leaf': 20, 'min_samples_split': 6, 'n_estimators': 240}\n",
      "RF done\n",
      "{'colsample_bytree': 0.5, 'learning_rate': 0.021211820714260574, 'max_depth': 2, 'n_estimators': 1000, 'reg_alpha': 10.0, 'reg_lambda': 0.1, 'scale_pos_weight': 9.691656942823805, 'subsample': 0.5}\n",
      "[06:43:51] ======== Monitor (0): HostSketchContainer ========\n",
      "[06:43:51] AllReduce: 0.013937s, 1 calls @ 13937us\n",
      "\n",
      "[06:43:51] MakeCuts: 0.022756s, 1 calls @ 22756us\n",
      "\n",
      "[06:43:51] DEBUG: /workspace/src/gbm/gbtree.cc:130: Using tree method: 3\n",
      "[06:43:51] DEBUG: /workspace/src/tree/updater_gpu_hist.cu:822: [GPU Hist]: Configure\n",
      "[06:43:51] ======== Monitor (0):  ========\n",
      "[06:43:51] InitCompressedData: 0.003039s, 1 calls @ 3039us\n",
      "\n",
      "[06:43:55] ======== Monitor (0): Learner ========\n",
      "[06:43:55] Configure: 0.002546s, 1 calls @ 2546us\n",
      "\n",
      "[06:43:55] EvalOneIter: 0.002953s, 1000 calls @ 2953us\n",
      "\n",
      "[06:43:55] GetGradient: 0.08638s, 1000 calls @ 86380us\n",
      "\n",
      "[06:43:55] PredictRaw: 0.001758s, 1000 calls @ 1758us\n",
      "\n",
      "[06:43:55] UpdateOneIter: 4.31491s, 1000 calls @ 4314911us\n",
      "\n",
      "[06:43:55] ======== Monitor (0): GBTree ========\n",
      "[06:43:55] BoostNewTrees: 3.88799s, 1000 calls @ 3887987us\n",
      "\n",
      "[06:43:55] CommitModel: 0.000363s, 1000 calls @ 363us\n",
      "\n",
      "[06:43:55] ======== Device 0 Memory Allocations:  ========\n",
      "[06:43:55] Peak memory usage: 124MiB\n",
      "[06:43:55] Number of allocations: 46084\n",
      "[06:43:55] ======== Monitor (0): updater_gpu_hist ========\n",
      "[06:43:55] InitData: 0.00169s, 1000 calls @ 1690us\n",
      "\n",
      "[06:43:55] InitDataOnce: 0.00157s, 1 calls @ 1570us\n",
      "\n",
      "[06:43:55] Update: 3.73508s, 1000 calls @ 3735080us\n",
      "\n",
      "[06:43:55] UpdatePredictionCache: 0.148324s, 1000 calls @ 148324us\n",
      "\n",
      "[06:43:55] ======== Monitor (0): gradient_based_sampler ========\n",
      "[06:43:55] Sample: 0.023494s, 1000 calls @ 23494us\n",
      "\n",
      "[06:43:55] ======== Monitor (0): GPUHistMakerDevicecuda:0 ========\n",
      "[06:43:55] AllReduce: 0.000656s, 2000 calls @ 656us\n",
      "\n",
      "[06:43:55] BuildHist: 0.015316s, 2000 calls @ 15316us\n",
      "\n",
      "[06:43:55] EvaluateSplits: 0.46834s, 2000 calls @ 468340us\n",
      "\n",
      "[06:43:55] FinalisePosition: 0.848903s, 1000 calls @ 848903us\n",
      "\n",
      "[06:43:55] InitRoot: 1.63563s, 1000 calls @ 1635627us\n",
      "\n",
      "[06:43:55] Reset: 0.475562s, 1000 calls @ 475562us\n",
      "\n",
      "[06:43:55] UpdatePosition: 0.280408s, 2000 calls @ 280408us\n",
      "\n",
      "XGB done\n",
      "LR\n"
     ]
    },
    {
     "name": "stderr",
     "output_type": "stream",
     "text": [
      "/tmp/ipykernel_211/3068660444.py:21: FutureWarning: The behavior of DataFrame concatenation with empty or all-NA entries is deprecated. In a future version, this will no longer exclude empty or all-NA columns when determining the result dtypes. To retain the old behavior, exclude the relevant entries before the concat operation.\n",
      "  models = pd.concat([models,models_temp]).reset_index(drop=True)\n"
     ]
    },
    {
     "name": "stdout",
     "output_type": "stream",
     "text": [
      "DT\n",
      "RF\n",
      "XGB\n",
      "[06:43:59] DEBUG: /workspace/src/gbm/gbtree.cc:130: Using tree method: 3\n",
      "[06:43:59] DEBUG: /workspace/src/tree/updater_gpu_hist.cu:822: [GPU Hist]: Configure\n",
      "outcome_all2\n",
      "Building models . . . .\n",
      "{'C': 10.0, 'max_iter': 120, 'solver': 'liblinear'}\n",
      "LR done\n",
      "{'criterion': 'entropy', 'max_depth': 5, 'splitter': 'best'}\n",
      "DT done\n",
      "{'bootstrap': True, 'criterion': 'entropy', 'max_depth': 12, 'max_features': 'sqrt', 'min_samples_leaf': 20, 'min_samples_split': 6, 'n_estimators': 240}\n",
      "RF done\n",
      "{'colsample_bytree': 0.5, 'learning_rate': 0.021211820714260574, 'max_depth': 2, 'n_estimators': 1000, 'reg_alpha': 10.0, 'reg_lambda': 0.1, 'scale_pos_weight': 9.691656942823805, 'subsample': 0.5}\n",
      "[06:45:26] ======== Monitor (0): HostSketchContainer ========\n",
      "[06:45:26] AllReduce: 0.012383s, 1 calls @ 12383us\n",
      "\n",
      "[06:45:26] MakeCuts: 0.017355s, 1 calls @ 17355us\n",
      "\n",
      "[06:45:26] DEBUG: /workspace/src/gbm/gbtree.cc:130: Using tree method: 3\n",
      "[06:45:26] DEBUG: /workspace/src/tree/updater_gpu_hist.cu:822: [GPU Hist]: Configure\n",
      "[06:45:26] ======== Monitor (0):  ========\n",
      "[06:45:26] InitCompressedData: 0.00311s, 1 calls @ 3110us\n",
      "\n",
      "[06:45:31] ======== Monitor (0): Learner ========\n",
      "[06:45:31] Configure: 0.001673s, 1 calls @ 1673us\n",
      "\n",
      "[06:45:31] EvalOneIter: 0.002268s, 1000 calls @ 2268us\n",
      "\n",
      "[06:45:31] GetGradient: 0.081494s, 1000 calls @ 81494us\n",
      "\n",
      "[06:45:31] PredictRaw: 0.001751s, 1000 calls @ 1751us\n",
      "\n",
      "[06:45:31] UpdateOneIter: 4.13826s, 1000 calls @ 4138256us\n",
      "\n",
      "[06:45:31] ======== Monitor (0): GBTree ========\n",
      "[06:45:31] BoostNewTrees: 3.72016s, 1000 calls @ 3720159us\n",
      "\n",
      "[06:45:31] CommitModel: 0.000266s, 1000 calls @ 266us\n",
      "\n",
      "[06:45:31] ======== Device 0 Memory Allocations:  ========\n",
      "[06:45:31] Peak memory usage: 154MiB\n",
      "[06:45:31] Number of allocations: 69137\n",
      "[06:45:31] ======== Monitor (0): updater_gpu_hist ========\n",
      "[06:45:31] InitData: 0.003985s, 1000 calls @ 3985us\n",
      "\n",
      "[06:45:31] InitDataOnce: 0.003901s, 1 calls @ 3901us\n",
      "\n",
      "[06:45:31] Update: 3.57362s, 1000 calls @ 3573625us\n",
      "\n",
      "[06:45:31] UpdatePredictionCache: 0.142715s, 1000 calls @ 142715us\n",
      "\n",
      "[06:45:31] ======== Monitor (0): gradient_based_sampler ========\n",
      "[06:45:31] Sample: 0.023709s, 1000 calls @ 23709us\n",
      "\n",
      "[06:45:31] ======== Monitor (0): GPUHistMakerDevicecuda:0 ========\n",
      "[06:45:31] AllReduce: 0.000551s, 2000 calls @ 551us\n",
      "\n",
      "[06:45:31] BuildHist: 0.013973s, 2000 calls @ 13973us\n",
      "\n",
      "[06:45:31] EvaluateSplits: 0.486114s, 2000 calls @ 486114us\n",
      "\n",
      "[06:45:31] FinalisePosition: 0.81796s, 1000 calls @ 817960us\n",
      "\n",
      "[06:45:31] InitRoot: 1.51674s, 1000 calls @ 1516742us\n",
      "\n",
      "[06:45:31] Reset: 0.459282s, 1000 calls @ 459282us\n",
      "\n",
      "[06:45:31] UpdatePosition: 0.268044s, 2000 calls @ 268044us\n",
      "\n",
      "XGB done\n",
      "LR\n"
     ]
    },
    {
     "name": "stderr",
     "output_type": "stream",
     "text": [
      "/tmp/ipykernel_211/3068660444.py:21: FutureWarning: The behavior of DataFrame concatenation with empty or all-NA entries is deprecated. In a future version, this will no longer exclude empty or all-NA columns when determining the result dtypes. To retain the old behavior, exclude the relevant entries before the concat operation.\n",
      "  models = pd.concat([models,models_temp]).reset_index(drop=True)\n"
     ]
    },
    {
     "name": "stdout",
     "output_type": "stream",
     "text": [
      "DT\n",
      "RF\n",
      "XGB\n",
      "[06:45:34] DEBUG: /workspace/src/gbm/gbtree.cc:130: Using tree method: 3\n",
      "[06:45:34] DEBUG: /workspace/src/tree/updater_gpu_hist.cu:822: [GPU Hist]: Configure\n",
      "outcome_all3\n",
      "Building models . . . .\n",
      "{'C': 10.0, 'max_iter': 120, 'solver': 'liblinear'}\n",
      "LR done\n",
      "{'criterion': 'entropy', 'max_depth': 5, 'splitter': 'best'}\n",
      "DT done\n",
      "{'bootstrap': True, 'criterion': 'entropy', 'max_depth': 12, 'max_features': 'sqrt', 'min_samples_leaf': 20, 'min_samples_split': 6, 'n_estimators': 240}\n",
      "RF done\n",
      "{'colsample_bytree': 0.5, 'learning_rate': 0.021211820714260574, 'max_depth': 2, 'n_estimators': 1000, 'reg_alpha': 10.0, 'reg_lambda': 0.1, 'scale_pos_weight': 9.691656942823805, 'subsample': 0.5}\n",
      "[06:46:49] ======== Monitor (0): HostSketchContainer ========\n",
      "[06:46:49] AllReduce: 0.012252s, 1 calls @ 12252us\n",
      "\n",
      "[06:46:49] MakeCuts: 0.016243s, 1 calls @ 16243us\n",
      "\n",
      "[06:46:49] DEBUG: /workspace/src/gbm/gbtree.cc:130: Using tree method: 3\n",
      "[06:46:49] DEBUG: /workspace/src/tree/updater_gpu_hist.cu:822: [GPU Hist]: Configure\n",
      "[06:46:49] ======== Monitor (0):  ========\n",
      "[06:46:49] InitCompressedData: 0.003035s, 1 calls @ 3035us\n",
      "\n",
      "[06:46:53] ======== Monitor (0): Learner ========\n",
      "[06:46:53] Configure: 0.001655s, 1 calls @ 1655us\n",
      "\n",
      "[06:46:53] EvalOneIter: 0.002323s, 1000 calls @ 2323us\n",
      "\n",
      "[06:46:53] GetGradient: 0.080712s, 1000 calls @ 80712us\n",
      "\n",
      "[06:46:53] PredictRaw: 0.001607s, 1000 calls @ 1607us\n",
      "\n",
      "[06:46:53] UpdateOneIter: 4.16021s, 1000 calls @ 4160205us\n",
      "\n",
      "[06:46:53] ======== Monitor (0): GBTree ========\n",
      "[06:46:53] BoostNewTrees: 3.73489s, 1000 calls @ 3734891us\n",
      "\n",
      "[06:46:53] CommitModel: 0.000262s, 1000 calls @ 262us\n",
      "\n",
      "[06:46:53] ======== Device 0 Memory Allocations:  ========\n",
      "[06:46:53] Peak memory usage: 183MiB\n",
      "[06:46:53] Number of allocations: 92190\n",
      "[06:46:53] ======== Monitor (0): updater_gpu_hist ========\n",
      "[06:46:53] InitData: 0.001716s, 1000 calls @ 1716us\n",
      "\n",
      "[06:46:53] InitDataOnce: 0.001631s, 1 calls @ 1631us\n",
      "\n",
      "[06:46:53] Update: 3.58573s, 1000 calls @ 3585727us\n",
      "\n",
      "[06:46:53] UpdatePredictionCache: 0.145583s, 1000 calls @ 145583us\n",
      "\n",
      "[06:46:53] ======== Monitor (0): gradient_based_sampler ========\n",
      "[06:46:53] Sample: 0.023148s, 1000 calls @ 23148us\n",
      "\n",
      "[06:46:53] ======== Monitor (0): GPUHistMakerDevicecuda:0 ========\n",
      "[06:46:53] AllReduce: 0.000554s, 2000 calls @ 554us\n",
      "\n",
      "[06:46:53] BuildHist: 0.013842s, 2000 calls @ 13842us\n",
      "\n",
      "[06:46:53] EvaluateSplits: 0.471944s, 2000 calls @ 471944us\n",
      "\n",
      "[06:46:53] FinalisePosition: 0.829321s, 1000 calls @ 829321us\n",
      "\n",
      "[06:46:53] InitRoot: 1.52465s, 1000 calls @ 1524651us\n",
      "\n",
      "[06:46:53] Reset: 0.46683s, 1000 calls @ 466830us\n",
      "\n",
      "[06:46:53] UpdatePosition: 0.269829s, 2000 calls @ 269829us\n",
      "\n",
      "XGB done\n",
      "LR\n"
     ]
    },
    {
     "name": "stderr",
     "output_type": "stream",
     "text": [
      "/tmp/ipykernel_211/3068660444.py:21: FutureWarning: The behavior of DataFrame concatenation with empty or all-NA entries is deprecated. In a future version, this will no longer exclude empty or all-NA columns when determining the result dtypes. To retain the old behavior, exclude the relevant entries before the concat operation.\n",
      "  models = pd.concat([models,models_temp]).reset_index(drop=True)\n"
     ]
    },
    {
     "name": "stdout",
     "output_type": "stream",
     "text": [
      "DT\n",
      "RF\n",
      "XGB\n",
      "[06:46:55] DEBUG: /workspace/src/gbm/gbtree.cc:130: Using tree method: 3\n",
      "[06:46:55] DEBUG: /workspace/src/tree/updater_gpu_hist.cu:822: [GPU Hist]: Configure\n",
      "Elapsed time: 355.13070845603943 seconds\n"
     ]
    }
   ],
   "source": [
    "\n",
    "#EXECUTE model training\n",
    "\n",
    "summary_result_internalVal = []\n",
    "summary_result_externalVal = []\n",
    "\n",
    "cols = ['model_name', 'fold', 'outcome', 'class_ratio', 'auc', 'auprc']\n",
    "model_folder = '../../MODELS/TestResultSensitivity/'\n",
    "\n",
    "start_time = time.time()\n",
    "for target_outcome in target_outcomes:\n",
    "    models = pd.DataFrame(columns=['modelname', 'target_outcome', 'class_ratio'])\n",
    "    print(target_outcome)\n",
    "    y = pd.concat([crossValData[target_outcome] , gridSearchData[target_outcome]])\n",
    "    y_internalVal = internalEvaluationData[target_outcome]\n",
    "    y_externalVal = externalEvaluationData[target_outcome]\n",
    "    fold = '' #no fold for the FINAL MODEL - trained on crossval and gridsearch sets\n",
    "    \n",
    "    \n",
    "    #Build models -> it can be commented if the models have been trained\n",
    "    models_temp = pd.DataFrame(build_models(X, y, target_outcome, params_dict, model_folder, fold), columns=['modelname', 'target_outcome', 'class_ratio'])\n",
    "    models = pd.concat([models,models_temp]).reset_index(drop=True)\n",
    "\n",
    "\n",
    "    #evaluate model\n",
    "    for modelname, target_outcome, classratio in models.values:\n",
    "        # print('======================================================================')\n",
    "        print(modelname)\n",
    "        model = pickle.load(open(model_folder + target_outcome + '_'+ modelname + '.sav', 'rb'))       \n",
    "        summary_result_internalVal.append((modelname, fold, target_outcome, classratio, ) + summariseResult (X_internalVal, y_internalVal, model) )       \n",
    "        summary_result_externalVal.append((modelname, fold, target_outcome, classratio, ) + summariseResult (X_externalVal, y_externalVal, model) )       \n",
    "        # torch.cuda.empty_cache()\n",
    "\n",
    "\n",
    "summary_result_internalVal = pd.DataFrame(summary_result_internalVal, columns=cols)\n",
    "summary_result_internalVal['model_num'] = summary_result_internalVal.index\n",
    "summary_result_internalVal.to_csv('../../MODELS/internalValResult_sensitivity.csv', index_label=False, index=False)\n",
    "\n",
    "summary_result_externalVal = pd.DataFrame(summary_result_externalVal, columns=cols)\n",
    "summary_result_externalVal['model_num'] = summary_result_externalVal.index\n",
    "summary_result_externalVal.to_csv('../../MODELS/externalValResult_sensitivity.csv', index_label=False, index=False)\n",
    "\n",
    "# Calculate and print the elapsed time\n",
    "end_time = time.time()\n",
    "elapsed_time = end_time - start_time\n",
    "print(f\"Elapsed time: {elapsed_time} seconds\")"
   ]
  },
  {
   "cell_type": "code",
   "execution_count": null,
   "id": "76246e8f-fc23-4506-8a8c-654790605881",
   "metadata": {},
   "outputs": [],
   "source": []
  },
  {
   "cell_type": "markdown",
   "id": "3e128c06-f37d-45c3-9a45-d8a27ec4f3cb",
   "metadata": {},
   "source": [
    "## plot"
   ]
  },
  {
   "cell_type": "code",
   "execution_count": 36,
   "id": "28228fde-9752-48f7-bd5a-34dd06287f74",
   "metadata": {},
   "outputs": [],
   "source": [
    "data = pd.read_csv('../../MODELS/externalValResult_sensitivity.csv')"
   ]
  },
  {
   "cell_type": "code",
   "execution_count": 37,
   "id": "12028288-bf3a-4640-8ae4-c031a97eca7d",
   "metadata": {},
   "outputs": [],
   "source": [
    "def fix_outcome(x):\n",
    "    if x=='outcome_all0':\n",
    "        return '1 asthma attacks/more'\n",
    "    elif x=='outcome_all1':\n",
    "        return '2 asthma attacks/more'\n",
    "    elif x=='outcome_all2':\n",
    "        return '3 asthma attacks/more'\n",
    "    elif x=='outcome_all3':\n",
    "        return '4 asthma attacks'\n",
    "\n",
    "data['outcome'] = data['outcome'].apply(lambda x: fix_outcome(x))"
   ]
  },
  {
   "cell_type": "code",
   "execution_count": 38,
   "id": "81851891-dafb-4ae5-8f0e-0fc8365fa5ed",
   "metadata": {},
   "outputs": [],
   "source": [
    "data['Method'] = data['model_name']\n",
    "data['AUC'] = data['auc']"
   ]
  },
  {
   "cell_type": "code",
   "execution_count": 40,
   "id": "37913cec-97da-4c80-abb6-ced5b89f4706",
   "metadata": {},
   "outputs": [
    {
     "data": {
      "text/plain": [
       "(0.5, 1.0)"
      ]
     },
     "execution_count": 40,
     "metadata": {},
     "output_type": "execute_result"
    },
    {
     "data": {
      "image/png": "[encoded data removed]",
      "text/plain": [
       "<Figure size 584x576 with 4 Axes>"
      ]
     },
     "metadata": {
      "needs_background": "light"
     },
     "output_type": "display_data"
    }
   ],
   "source": [
    "#PLOT\n",
    "# data = combine\n",
    "# data = combine[(combine.outcome=='outcome_12months')]\n",
    "# data = summary_result_externalVal\n",
    "bar = sns.catplot(x = 'Method',       # x variable name\n",
    "            y = 'AUC',       # y variable name            \n",
    "            data=data,\n",
    "            kind = \"bar\",\n",
    "            # hue = 'outcome',\n",
    "            # hue_order=['10-fold CV', 'Evaluation Set', 'Wales', 'Scotland'],\n",
    "            height=4,\n",
    "            col='outcome',\n",
    "              # col='model_name',\n",
    "            aspect=1,\n",
    "                  col_wrap=2,\n",
    "            errorbar = None, sharex=False)\n",
    "\n",
    "for ax in bar.axes:\n",
    "    # for ax in items:\n",
    "        for p in ax.patches:\n",
    "            ax.text(p.get_x() + 0.01, \n",
    "                p.get_height() * 1.01, \n",
    "                '{0:.3f}'.format(p.get_height()), \n",
    "                color='black', rotation=0, fontsize=11)\n",
    "\n",
    "ax.set_ylim(0.5, 1)\n",
    "# ax.set_ylabel('AUC Score', fontsize=13)\n",
    "# ax.set_xlabel('Method', fontsize=10)\n",
    "# ax.set_xticklabels(fontsize=20)"
   ]
  },
  {
   "cell_type": "code",
   "execution_count": null,
   "id": "a1f721ba-b4db-4d5c-aa01-b4a29632976d",
   "metadata": {},
   "outputs": [],
   "source": []
  },
  {
   "cell_type": "markdown",
   "id": "f91f9f22-bd82-4815-99f6-c53b56aef638",
   "metadata": {},
   "source": [
    "# BTS step"
   ]
  },
  {
   "cell_type": "code",
   "execution_count": 44,
   "id": "837b3785-e1c8-42eb-b191-3d6dde9f49ca",
   "metadata": {},
   "outputs": [
    {
     "data": {
      "text/plain": [
       "BTS_step\n",
       "0.0    305742\n",
       "0.2     61476\n",
       "0.6     56958\n",
       "1.0     28912\n",
       "0.4     10890\n",
       "0.8     10210\n",
       "Name: count, dtype: int64"
      ]
     },
     "execution_count": 44,
     "metadata": {},
     "output_type": "execute_result"
    }
   ],
   "source": [
    "X.BTS_step.value_counts()"
   ]
  },
  {
   "cell_type": "code",
   "execution_count": 105,
   "id": "c8a87bdb-669e-4993-9948-9d71882f7055",
   "metadata": {},
   "outputs": [
    {
     "name": "stderr",
     "output_type": "stream",
     "text": [
      "/tmp/ipykernel_211/2900986669.py:12: SettingWithCopyWarning: \n",
      "A value is trying to be set on a copy of a slice from a DataFrame.\n",
      "Try using .loc[row_indexer,col_indexer] = value instead\n",
      "\n",
      "See the caveats in the documentation: https://pandas.pydata.org/pandas-docs/stable/user_guide/indexing.html#returning-a-view-versus-a-copy\n",
      "  X_internalVal['BTS_simplified'] = X_internalVal['BTS_step'].apply(lambda x: modify_bts(x))\n",
      "/tmp/ipykernel_211/2900986669.py:13: SettingWithCopyWarning: \n",
      "A value is trying to be set on a copy of a slice from a DataFrame.\n",
      "Try using .loc[row_indexer,col_indexer] = value instead\n",
      "\n",
      "See the caveats in the documentation: https://pandas.pydata.org/pandas-docs/stable/user_guide/indexing.html#returning-a-view-versus-a-copy\n",
      "  X_externalVal['BTS_simplified'] = X_externalVal['BTS_step'].apply(lambda x: modify_bts(x))\n"
     ]
    }
   ],
   "source": [
    "#split BTS into (based on the scaled data):\n",
    "#step 0; step 1-3 (0.2-0.6); step 4-5 (0.8-1)\n",
    "\n",
    "def modify_bts(x):\n",
    "    if x==0:\n",
    "        return 0\n",
    "    elif (x>0) & (x<0.6):\n",
    "        return .5\n",
    "    else:\n",
    "        return 1\n",
    "X['BTS_simplified'] = X['BTS_step'].apply(lambda x: modify_bts(x))\n",
    "X_internalVal['BTS_simplified'] = X_internalVal['BTS_step'].apply(lambda x: modify_bts(x))\n",
    "X_externalVal['BTS_simplified'] = X_externalVal['BTS_step'].apply(lambda x: modify_bts(x))"
   ]
  },
  {
   "cell_type": "code",
   "execution_count": 107,
   "id": "1401e02e-5c0c-46cf-a92f-c97eb926ff61",
   "metadata": {},
   "outputs": [
    {
     "data": {
      "text/plain": [
       "BTS_simplified\n",
       "0.0    0.64477\n",
       "1.0    0.20262\n",
       "0.5    0.15261\n",
       "Name: proportion, dtype: float64"
      ]
     },
     "execution_count": 107,
     "metadata": {},
     "output_type": "execute_result"
    }
   ],
   "source": [
    "X['BTS_simplified'].value_counts(normalize=True)"
   ]
  },
  {
   "cell_type": "code",
   "execution_count": 108,
   "id": "ef2a56f2-8b09-4c95-ad23-76e778c0788c",
   "metadata": {},
   "outputs": [],
   "source": [
    "included_features = [col for col in X.columns if 'BTS_step' not in col] #exclude BTS_step, and use BTS_simplified instead\n",
    "target_outcomes = [\n",
    "    'outcome_12months' \n",
    "] "
   ]
  },
  {
   "cell_type": "code",
   "execution_count": 109,
   "id": "b3a4338d-2dda-44d1-b112-e1e1464ed107",
   "metadata": {
    "scrolled": true
   },
   "outputs": [
    {
     "data": {
      "text/html": [
       "<div>\n",
       "<style scoped>\n",
       "    .dataframe tbody tr th:only-of-type {\n",
       "        vertical-align: middle;\n",
       "    }\n",
       "\n",
       "    .dataframe tbody tr th {\n",
       "        vertical-align: top;\n",
       "    }\n",
       "\n",
       "    .dataframe thead th {\n",
       "        text-align: right;\n",
       "    }\n",
       "</style>\n",
       "<table border=\"1\" class=\"dataframe\">\n",
       "  <thead>\n",
       "    <tr style=\"text-align: right;\">\n",
       "      <th></th>\n",
       "      <th>outcome</th>\n",
       "      <th>model</th>\n",
       "      <th>best_param</th>\n",
       "      <th>best_score</th>\n",
       "      <th>params</th>\n",
       "    </tr>\n",
       "  </thead>\n",
       "  <tbody>\n",
       "    <tr>\n",
       "      <th>0</th>\n",
       "      <td>outcome_12months</td>\n",
       "      <td>DT</td>\n",
       "      <td>OrderedDict([('criterion', 'entropy'), ('max_d...</td>\n",
       "      <td>0.793978</td>\n",
       "      <td>{'criterion': 'entropy', 'max_depth': 5, 'spli...</td>\n",
       "    </tr>\n",
       "    <tr>\n",
       "      <th>1</th>\n",
       "      <td>outcome_12months</td>\n",
       "      <td>ElasticNet</td>\n",
       "      <td>OrderedDict([('l1_ratio', 1.0), ('max_iter', 8...</td>\n",
       "      <td>0.810891</td>\n",
       "      <td>{'l1_ratio': 1.0, 'max_iter': 80}</td>\n",
       "    </tr>\n",
       "    <tr>\n",
       "      <th>2</th>\n",
       "      <td>outcome_12months</td>\n",
       "      <td>Lasso</td>\n",
       "      <td>OrderedDict([('C', 1), ('max_iter', 80), ('sol...</td>\n",
       "      <td>0.810891</td>\n",
       "      <td>{'C': 1, 'max_iter': 80, 'solver': 'saga'}</td>\n",
       "    </tr>\n",
       "    <tr>\n",
       "      <th>3</th>\n",
       "      <td>outcome_12months</td>\n",
       "      <td>LR</td>\n",
       "      <td>OrderedDict([('C', 10.0), ('max_iter', 120), (...</td>\n",
       "      <td>0.810417</td>\n",
       "      <td>{'C': 10.0, 'max_iter': 120, 'solver': 'liblin...</td>\n",
       "    </tr>\n",
       "    <tr>\n",
       "      <th>4</th>\n",
       "      <td>outcome_12months</td>\n",
       "      <td>RF</td>\n",
       "      <td>OrderedDict([('bootstrap', True), ('criterion'...</td>\n",
       "      <td>0.818257</td>\n",
       "      <td>{'bootstrap': True, 'criterion': 'entropy', 'm...</td>\n",
       "    </tr>\n",
       "    <tr>\n",
       "      <th>5</th>\n",
       "      <td>outcome_12months</td>\n",
       "      <td>XGB</td>\n",
       "      <td>OrderedDict([('colsample_bytree', 0.5), ('lear...</td>\n",
       "      <td>0.820888</td>\n",
       "      <td>{'colsample_bytree': 0.5, 'learning_rate': 0.0...</td>\n",
       "    </tr>\n",
       "    <tr>\n",
       "      <th>6</th>\n",
       "      <td>outcome_3months</td>\n",
       "      <td>DT</td>\n",
       "      <td>OrderedDict([('criterion', 'gini'), ('max_dept...</td>\n",
       "      <td>0.762572</td>\n",
       "      <td>{'criterion': 'gini', 'max_depth': 4, 'splitte...</td>\n",
       "    </tr>\n",
       "    <tr>\n",
       "      <th>7</th>\n",
       "      <td>outcome_3months</td>\n",
       "      <td>ElasticNet</td>\n",
       "      <td>OrderedDict([('l1_ratio', 0.1), ('max_iter', 8...</td>\n",
       "      <td>0.758393</td>\n",
       "      <td>{'l1_ratio': 0.1, 'max_iter': 80}</td>\n",
       "    </tr>\n",
       "    <tr>\n",
       "      <th>8</th>\n",
       "      <td>outcome_3months</td>\n",
       "      <td>Lasso</td>\n",
       "      <td>OrderedDict([('C', 1), ('max_iter', 80), ('sol...</td>\n",
       "      <td>0.792731</td>\n",
       "      <td>{'C': 1, 'max_iter': 80, 'solver': 'liblinear'}</td>\n",
       "    </tr>\n",
       "    <tr>\n",
       "      <th>9</th>\n",
       "      <td>outcome_3months</td>\n",
       "      <td>LR</td>\n",
       "      <td>OrderedDict([('C', 1.0), ('max_iter', 120), ('...</td>\n",
       "      <td>0.791604</td>\n",
       "      <td>{'C': 1.0, 'max_iter': 120, 'solver': 'libline...</td>\n",
       "    </tr>\n",
       "    <tr>\n",
       "      <th>10</th>\n",
       "      <td>outcome_3months</td>\n",
       "      <td>RF</td>\n",
       "      <td>OrderedDict([('bootstrap', True), ('criterion'...</td>\n",
       "      <td>0.800996</td>\n",
       "      <td>{'bootstrap': True, 'criterion': 'gini', 'max_...</td>\n",
       "    </tr>\n",
       "    <tr>\n",
       "      <th>11</th>\n",
       "      <td>outcome_3months</td>\n",
       "      <td>XGB</td>\n",
       "      <td>OrderedDict([('colsample_bytree', 0.5), ('lear...</td>\n",
       "      <td>0.801394</td>\n",
       "      <td>{'colsample_bytree': 0.5, 'learning_rate': 0.0...</td>\n",
       "    </tr>\n",
       "    <tr>\n",
       "      <th>12</th>\n",
       "      <td>outcome_6months</td>\n",
       "      <td>DT</td>\n",
       "      <td>OrderedDict([('criterion', 'gini'), ('max_dept...</td>\n",
       "      <td>0.769263</td>\n",
       "      <td>{'criterion': 'gini', 'max_depth': 5, 'splitte...</td>\n",
       "    </tr>\n",
       "    <tr>\n",
       "      <th>13</th>\n",
       "      <td>outcome_6months</td>\n",
       "      <td>ElasticNet</td>\n",
       "      <td>OrderedDict([('l1_ratio', 0.5003492610710367),...</td>\n",
       "      <td>0.794604</td>\n",
       "      <td>{'l1_ratio': 0.5003492610710367, 'max_iter': 120}</td>\n",
       "    </tr>\n",
       "    <tr>\n",
       "      <th>14</th>\n",
       "      <td>outcome_6months</td>\n",
       "      <td>Lasso</td>\n",
       "      <td>OrderedDict([('C', 1), ('max_iter', 120), ('so...</td>\n",
       "      <td>0.795496</td>\n",
       "      <td>{'C': 1, 'max_iter': 120, 'solver': 'liblinear'}</td>\n",
       "    </tr>\n",
       "    <tr>\n",
       "      <th>15</th>\n",
       "      <td>outcome_6months</td>\n",
       "      <td>LR</td>\n",
       "      <td>OrderedDict([('C', 10.0), ('max_iter', 120), (...</td>\n",
       "      <td>0.793905</td>\n",
       "      <td>{'C': 10.0, 'max_iter': 120, 'solver': 'liblin...</td>\n",
       "    </tr>\n",
       "    <tr>\n",
       "      <th>16</th>\n",
       "      <td>outcome_6months</td>\n",
       "      <td>RF</td>\n",
       "      <td>OrderedDict([('bootstrap', True), ('criterion'...</td>\n",
       "      <td>0.804421</td>\n",
       "      <td>{'bootstrap': True, 'criterion': 'entropy', 'm...</td>\n",
       "    </tr>\n",
       "    <tr>\n",
       "      <th>17</th>\n",
       "      <td>outcome_6months</td>\n",
       "      <td>XGB</td>\n",
       "      <td>OrderedDict([('colsample_bytree', 0.5176005281...</td>\n",
       "      <td>0.805377</td>\n",
       "      <td>{'colsample_bytree': 0.5176005281917953, 'lear...</td>\n",
       "    </tr>\n",
       "    <tr>\n",
       "      <th>18</th>\n",
       "      <td>outcome_9months</td>\n",
       "      <td>DT</td>\n",
       "      <td>OrderedDict([('criterion', 'gini'), ('max_dept...</td>\n",
       "      <td>0.770840</td>\n",
       "      <td>{'criterion': 'gini', 'max_depth': 5, 'splitte...</td>\n",
       "    </tr>\n",
       "    <tr>\n",
       "      <th>19</th>\n",
       "      <td>outcome_9months</td>\n",
       "      <td>ElasticNet</td>\n",
       "      <td>OrderedDict([('l1_ratio', 1.0), ('max_iter', 8...</td>\n",
       "      <td>0.800059</td>\n",
       "      <td>{'l1_ratio': 1.0, 'max_iter': 80}</td>\n",
       "    </tr>\n",
       "    <tr>\n",
       "      <th>20</th>\n",
       "      <td>outcome_9months</td>\n",
       "      <td>Lasso</td>\n",
       "      <td>OrderedDict([('C', 1), ('max_iter', 80), ('sol...</td>\n",
       "      <td>0.800059</td>\n",
       "      <td>{'C': 1, 'max_iter': 80, 'solver': 'saga'}</td>\n",
       "    </tr>\n",
       "    <tr>\n",
       "      <th>21</th>\n",
       "      <td>outcome_9months</td>\n",
       "      <td>LR</td>\n",
       "      <td>OrderedDict([('C', 10.0), ('max_iter', 120), (...</td>\n",
       "      <td>0.798827</td>\n",
       "      <td>{'C': 10.0, 'max_iter': 120, 'solver': 'liblin...</td>\n",
       "    </tr>\n",
       "    <tr>\n",
       "      <th>22</th>\n",
       "      <td>outcome_9months</td>\n",
       "      <td>RF</td>\n",
       "      <td>OrderedDict([('bootstrap', True), ('criterion'...</td>\n",
       "      <td>0.808084</td>\n",
       "      <td>{'bootstrap': True, 'criterion': 'entropy', 'm...</td>\n",
       "    </tr>\n",
       "    <tr>\n",
       "      <th>23</th>\n",
       "      <td>outcome_9months</td>\n",
       "      <td>XGB</td>\n",
       "      <td>OrderedDict([('colsample_bytree', 0.5176005281...</td>\n",
       "      <td>0.805377</td>\n",
       "      <td>{'colsample_bytree': 0.5176005281917953, 'lear...</td>\n",
       "    </tr>\n",
       "  </tbody>\n",
       "</table>\n",
       "</div>"
      ],
      "text/plain": [
       "             outcome       model  \\\n",
       "0   outcome_12months          DT   \n",
       "1   outcome_12months  ElasticNet   \n",
       "2   outcome_12months       Lasso   \n",
       "3   outcome_12months          LR   \n",
       "4   outcome_12months          RF   \n",
       "5   outcome_12months         XGB   \n",
       "6    outcome_3months          DT   \n",
       "7    outcome_3months  ElasticNet   \n",
       "8    outcome_3months       Lasso   \n",
       "9    outcome_3months          LR   \n",
       "10   outcome_3months          RF   \n",
       "11   outcome_3months         XGB   \n",
       "12   outcome_6months          DT   \n",
       "13   outcome_6months  ElasticNet   \n",
       "14   outcome_6months       Lasso   \n",
       "15   outcome_6months          LR   \n",
       "16   outcome_6months          RF   \n",
       "17   outcome_6months         XGB   \n",
       "18   outcome_9months          DT   \n",
       "19   outcome_9months  ElasticNet   \n",
       "20   outcome_9months       Lasso   \n",
       "21   outcome_9months          LR   \n",
       "22   outcome_9months          RF   \n",
       "23   outcome_9months         XGB   \n",
       "\n",
       "                                           best_param  best_score  \\\n",
       "0   OrderedDict([('criterion', 'entropy'), ('max_d...    0.793978   \n",
       "1   OrderedDict([('l1_ratio', 1.0), ('max_iter', 8...    0.810891   \n",
       "2   OrderedDict([('C', 1), ('max_iter', 80), ('sol...    0.810891   \n",
       "3   OrderedDict([('C', 10.0), ('max_iter', 120), (...    0.810417   \n",
       "4   OrderedDict([('bootstrap', True), ('criterion'...    0.818257   \n",
       "5   OrderedDict([('colsample_bytree', 0.5), ('lear...    0.820888   \n",
       "6   OrderedDict([('criterion', 'gini'), ('max_dept...    0.762572   \n",
       "7   OrderedDict([('l1_ratio', 0.1), ('max_iter', 8...    0.758393   \n",
       "8   OrderedDict([('C', 1), ('max_iter', 80), ('sol...    0.792731   \n",
       "9   OrderedDict([('C', 1.0), ('max_iter', 120), ('...    0.791604   \n",
       "10  OrderedDict([('bootstrap', True), ('criterion'...    0.800996   \n",
       "11  OrderedDict([('colsample_bytree', 0.5), ('lear...    0.801394   \n",
       "12  OrderedDict([('criterion', 'gini'), ('max_dept...    0.769263   \n",
       "13  OrderedDict([('l1_ratio', 0.5003492610710367),...    0.794604   \n",
       "14  OrderedDict([('C', 1), ('max_iter', 120), ('so...    0.795496   \n",
       "15  OrderedDict([('C', 10.0), ('max_iter', 120), (...    0.793905   \n",
       "16  OrderedDict([('bootstrap', True), ('criterion'...    0.804421   \n",
       "17  OrderedDict([('colsample_bytree', 0.5176005281...    0.805377   \n",
       "18  OrderedDict([('criterion', 'gini'), ('max_dept...    0.770840   \n",
       "19  OrderedDict([('l1_ratio', 1.0), ('max_iter', 8...    0.800059   \n",
       "20  OrderedDict([('C', 1), ('max_iter', 80), ('sol...    0.800059   \n",
       "21  OrderedDict([('C', 10.0), ('max_iter', 120), (...    0.798827   \n",
       "22  OrderedDict([('bootstrap', True), ('criterion'...    0.808084   \n",
       "23  OrderedDict([('colsample_bytree', 0.5176005281...    0.805377   \n",
       "\n",
       "                                               params  \n",
       "0   {'criterion': 'entropy', 'max_depth': 5, 'spli...  \n",
       "1                   {'l1_ratio': 1.0, 'max_iter': 80}  \n",
       "2          {'C': 1, 'max_iter': 80, 'solver': 'saga'}  \n",
       "3   {'C': 10.0, 'max_iter': 120, 'solver': 'liblin...  \n",
       "4   {'bootstrap': True, 'criterion': 'entropy', 'm...  \n",
       "5   {'colsample_bytree': 0.5, 'learning_rate': 0.0...  \n",
       "6   {'criterion': 'gini', 'max_depth': 4, 'splitte...  \n",
       "7                   {'l1_ratio': 0.1, 'max_iter': 80}  \n",
       "8     {'C': 1, 'max_iter': 80, 'solver': 'liblinear'}  \n",
       "9   {'C': 1.0, 'max_iter': 120, 'solver': 'libline...  \n",
       "10  {'bootstrap': True, 'criterion': 'gini', 'max_...  \n",
       "11  {'colsample_bytree': 0.5, 'learning_rate': 0.0...  \n",
       "12  {'criterion': 'gini', 'max_depth': 5, 'splitte...  \n",
       "13  {'l1_ratio': 0.5003492610710367, 'max_iter': 120}  \n",
       "14   {'C': 1, 'max_iter': 120, 'solver': 'liblinear'}  \n",
       "15  {'C': 10.0, 'max_iter': 120, 'solver': 'liblin...  \n",
       "16  {'bootstrap': True, 'criterion': 'entropy', 'm...  \n",
       "17  {'colsample_bytree': 0.5176005281917953, 'lear...  \n",
       "18  {'criterion': 'gini', 'max_depth': 5, 'splitte...  \n",
       "19                  {'l1_ratio': 1.0, 'max_iter': 80}  \n",
       "20         {'C': 1, 'max_iter': 80, 'solver': 'saga'}  \n",
       "21  {'C': 10.0, 'max_iter': 120, 'solver': 'liblin...  \n",
       "22  {'bootstrap': True, 'criterion': 'entropy', 'm...  \n",
       "23  {'colsample_bytree': 0.5176005281917953, 'lear...  "
      ]
     },
     "execution_count": 109,
     "metadata": {},
     "output_type": "execute_result"
    }
   ],
   "source": [
    "params_dict"
   ]
  },
  {
   "cell_type": "code",
   "execution_count": 110,
   "id": "843b1979-6d26-4ff2-ac5a-d8822927cb57",
   "metadata": {
    "scrolled": true
   },
   "outputs": [
    {
     "name": "stdout",
     "output_type": "stream",
     "text": [
      "outcome_12months\n",
      "Building models . . . .\n",
      "{'C': 10.0, 'max_iter': 120, 'solver': 'liblinear'}\n",
      "LR done\n",
      "{'criterion': 'entropy', 'max_depth': 5, 'splitter': 'best'}\n",
      "DT done\n",
      "{'bootstrap': True, 'criterion': 'entropy', 'max_depth': 12, 'max_features': 'sqrt', 'min_samples_leaf': 20, 'min_samples_split': 6, 'n_estimators': 240}\n",
      "RF done\n",
      "{'colsample_bytree': 0.5, 'learning_rate': 0.021211820714260574, 'max_depth': 2, 'n_estimators': 1000, 'reg_alpha': 10.0, 'reg_lambda': 0.1, 'scale_pos_weight': 9.691656942823805, 'subsample': 0.5}\n",
      "[13:50:46] ======== Monitor (0): HostSketchContainer ========\n",
      "[13:50:46] AllReduce: 0.011149s, 1 calls @ 11149us\n",
      "\n",
      "[13:50:46] MakeCuts: 0.015517s, 1 calls @ 15517us\n",
      "\n",
      "[13:50:46] DEBUG: /workspace/src/gbm/gbtree.cc:130: Using tree method: 3\n",
      "[13:50:46] DEBUG: /workspace/src/tree/updater_gpu_hist.cu:822: [GPU Hist]: Configure\n",
      "[13:50:46] ======== Monitor (0):  ========\n",
      "[13:50:46] InitCompressedData: 0.002899s, 1 calls @ 2899us\n",
      "\n",
      "[13:50:51] ======== Monitor (0): Learner ========\n",
      "[13:50:51] Configure: 0.001862s, 1 calls @ 1862us\n",
      "\n",
      "[13:50:51] EvalOneIter: 0.002358s, 1000 calls @ 2358us\n",
      "\n",
      "[13:50:51] GetGradient: 0.084578s, 1000 calls @ 84578us\n",
      "\n",
      "[13:50:51] PredictRaw: 0.001679s, 1000 calls @ 1679us\n",
      "\n",
      "[13:50:51] UpdateOneIter: 4.17866s, 1000 calls @ 4178658us\n",
      "\n",
      "[13:50:51] ======== Monitor (0): GBTree ========\n",
      "[13:50:51] BoostNewTrees: 3.75992s, 1000 calls @ 3759918us\n",
      "\n",
      "[13:50:51] CommitModel: 0.000246s, 1000 calls @ 246us\n",
      "\n",
      "[13:50:51] ======== Device 0 Memory Allocations:  ========\n",
      "[13:50:51] Peak memory usage: 271MiB\n",
      "[13:50:51] Number of allocations: 161349\n",
      "[13:50:51] ======== Monitor (0): updater_gpu_hist ========\n",
      "[13:50:51] InitData: 0.001739s, 1000 calls @ 1739us\n",
      "\n",
      "[13:50:51] InitDataOnce: 0.001652s, 1 calls @ 1652us\n",
      "\n",
      "[13:50:51] Update: 3.60486s, 1000 calls @ 3604856us\n",
      "\n",
      "[13:50:51] UpdatePredictionCache: 0.151748s, 1000 calls @ 151748us\n",
      "\n",
      "[13:50:51] ======== Monitor (0): gradient_based_sampler ========\n",
      "[13:50:51] Sample: 0.024808s, 1000 calls @ 24808us\n",
      "\n",
      "[13:50:51] ======== Monitor (0): GPUHistMakerDevicecuda:0 ========\n",
      "[13:50:51] AllReduce: 0.000559s, 2000 calls @ 559us\n",
      "\n",
      "[13:50:51] BuildHist: 0.014003s, 2000 calls @ 14003us\n",
      "\n",
      "[13:50:51] EvaluateSplits: 0.464416s, 2000 calls @ 464416us\n",
      "\n",
      "[13:50:51] FinalisePosition: 0.776376s, 1000 calls @ 776376us\n",
      "\n",
      "[13:50:51] InitRoot: 1.59232s, 1000 calls @ 1592317us\n",
      "\n",
      "[13:50:51] Reset: 0.46932s, 1000 calls @ 469320us\n",
      "\n",
      "[13:50:51] UpdatePosition: 0.278937s, 2000 calls @ 278937us\n",
      "\n",
      "XGB done\n",
      "LR\n"
     ]
    },
    {
     "name": "stderr",
     "output_type": "stream",
     "text": [
      "/tmp/ipykernel_211/671232606.py:21: FutureWarning: The behavior of DataFrame concatenation with empty or all-NA entries is deprecated. In a future version, this will no longer exclude empty or all-NA columns when determining the result dtypes. To retain the old behavior, exclude the relevant entries before the concat operation.\n",
      "  models = pd.concat([models,models_temp]).reset_index(drop=True)\n"
     ]
    },
    {
     "name": "stdout",
     "output_type": "stream",
     "text": [
      "DT\n",
      "RF\n",
      "XGB\n",
      "[13:50:55] DEBUG: /workspace/src/gbm/gbtree.cc:130: Using tree method: 3\n",
      "[13:50:55] DEBUG: /workspace/src/tree/updater_gpu_hist.cu:822: [GPU Hist]: Configure\n",
      "Elapsed time: 89.4459581375122 seconds\n"
     ]
    }
   ],
   "source": [
    "\n",
    "#EXECUTE model training\n",
    "\n",
    "summary_result_internalVal = []\n",
    "summary_result_externalVal = []\n",
    "\n",
    "cols = ['model_name', 'fold', 'outcome', 'class_ratio', 'auc', 'auprc']\n",
    "model_folder = '../../MODELS/TestResultSensitivity/BTS/'\n",
    "\n",
    "start_time = time.time()\n",
    "for target_outcome in target_outcomes:\n",
    "    models = pd.DataFrame(columns=['modelname', 'target_outcome', 'class_ratio'])\n",
    "    print(target_outcome)\n",
    "    y = pd.concat([crossValData[target_outcome] , gridSearchData[target_outcome]])\n",
    "    y_internalVal = internalEvaluationData[target_outcome]\n",
    "    y_externalVal = externalEvaluationData[target_outcome]\n",
    "    fold = '' #no fold for the FINAL MODEL - trained on crossval and gridsearch sets\n",
    "    \n",
    "    \n",
    "    #Build models -> it can be commented if the models have been trained\n",
    "    models_temp = pd.DataFrame(build_models(X[included_features], y, target_outcome, params_dict, model_folder, fold), columns=['modelname', 'target_outcome', 'class_ratio'])\n",
    "    models = pd.concat([models,models_temp]).reset_index(drop=True)\n",
    "\n",
    "\n",
    "    #evaluate model\n",
    "    for modelname, target_outcome, classratio in models.values:\n",
    "        # print('======================================================================')\n",
    "        print(modelname)\n",
    "        model = pickle.load(open(model_folder + target_outcome + '_'+ modelname + '.sav', 'rb'))       \n",
    "        summary_result_internalVal.append((modelname, fold, target_outcome, classratio, ) + summariseResult (X_internalVal[included_features], y_internalVal, model) )       \n",
    "        summary_result_externalVal.append((modelname, fold, target_outcome, classratio, ) + summariseResult (X_externalVal[included_features], y_externalVal, model) )       \n",
    "        # torch.cuda.empty_cache()\n",
    "\n",
    "\n",
    "summary_result_internalVal = pd.DataFrame(summary_result_internalVal, columns=cols)\n",
    "summary_result_internalVal['model_num'] = summary_result_internalVal.index\n",
    "summary_result_internalVal.to_csv('../../MODELS/internalValResult_sensitivity_BTS.csv', index_label=False, index=False)\n",
    "\n",
    "summary_result_externalVal = pd.DataFrame(summary_result_externalVal, columns=cols)\n",
    "summary_result_externalVal['model_num'] = summary_result_externalVal.index\n",
    "summary_result_externalVal.to_csv('../../MODELS/externalValResult_sensitivity_BTS.csv', index_label=False, index=False)\n",
    "\n",
    "# Calculate and print the elapsed time\n",
    "end_time = time.time()\n",
    "elapsed_time = end_time - start_time\n",
    "print(f\"Elapsed time: {elapsed_time} seconds\")"
   ]
  },
  {
   "cell_type": "markdown",
   "id": "37b7a53a-5d6e-44f8-ab11-f07c7ff305e9",
   "metadata": {},
   "source": [
    "## plot"
   ]
  },
  {
   "cell_type": "code",
   "execution_count": 112,
   "id": "f71c0869-4934-4a19-9ac0-4c3c6ff4f08f",
   "metadata": {},
   "outputs": [
    {
     "data": {
      "text/plain": [
       "(0.5, 0.83)"
      ]
     },
     "execution_count": 112,
     "metadata": {},
     "output_type": "execute_result"
    },
    {
     "data": {
      "image/png": "[encoded data removed]",
      "text/plain": [
       "<Figure size 584x288 with 1 Axes>"
      ]
     },
     "metadata": {
      "needs_background": "light"
     },
     "output_type": "display_data"
    }
   ],
   "source": [
    "data = pd.read_csv('../../MODELS/externalValResult_sensitivity_BTS.csv')\n",
    "data['Method'] = data['model_name']\n",
    "data['AUC'] = data['auc']\n",
    "data.replace('outcome_12months', '12 months prediction', inplace=True)\n",
    "#PLOT\n",
    "# data = combine\n",
    "# data = combine[(combine.outcome=='outcome_12months')]\n",
    "# data = summary_result_externalVal\n",
    "bar = sns.catplot(x = 'Method',       # x variable name\n",
    "            y = 'AUC',       # y variable name            \n",
    "            data=data,\n",
    "            kind = \"bar\",\n",
    "            # hue = 'outcome',\n",
    "            # hue_order=['10-fold CV', 'Evaluation Set', 'Wales', 'Scotland'],\n",
    "            height=4,\n",
    "            col='outcome',\n",
    "              # col='model_name',\n",
    "            aspect=1,\n",
    "                  col_wrap=2,\n",
    "            errorbar = None, sharex=False)\n",
    "\n",
    "for ax in bar.axes:\n",
    "    # for ax in items:\n",
    "        for p in ax.patches:\n",
    "            ax.text(p.get_x() + 0.01, \n",
    "                p.get_height() * 1.01, \n",
    "                '{0:.3f}'.format(p.get_height()), \n",
    "                color='black', rotation=0, fontsize=11)\n",
    "\n",
    "ax.set_ylim(0.5, .83)\n",
    "# ax.set_ylabel('AUC Score', fontsize=13)\n",
    "# ax.set_xlabel('Method', fontsize=10)\n",
    "# ax.set_xticklabels(fontsize=20)"
   ]
  },
  {
   "cell_type": "code",
   "execution_count": 113,
   "id": "f79accb4-3eab-4ac7-8c50-208465310c61",
   "metadata": {},
   "outputs": [
    {
     "data": {
      "image/png": "[encoded data removed]",
      "text/plain": [
       "<Figure size 288x360 with 1 Axes>"
      ]
     },
     "metadata": {
      "needs_background": "light"
     },
     "output_type": "display_data"
    }
   ],
   "source": [
    "best_model = pickle.load(open('../../MODELS/TestResultSensitivity/BTS/outcome_12months_XGB.sav', 'rb'))\n",
    "\n",
    "# pd.DataFrame([best_model3.feature_importances_], columns=X.columns).T.sort_values(0, ascending=False)\n",
    "sorted_idx = best_model.feature_importances_.argsort()\n",
    "plt.figure(figsize=(4,5))\n",
    "plt.barh(var_names_fix[sorted_idx][-10:], best_model.feature_importances_[sorted_idx][-10:])\n",
    "plt.xlabel(\"XGBoost Feature Importance\")\n",
    "plt.show()\n",
    "dttop10 = X.columns[sorted_idx][-10:]"
   ]
  },
  {
   "cell_type": "code",
   "execution_count": null,
   "id": "ce2569cf-d640-4e5e-9ab2-ec78d35c4288",
   "metadata": {},
   "outputs": [],
   "source": []
  },
  {
   "cell_type": "code",
   "execution_count": null,
   "id": "11ed0003-3087-4550-8f0b-d08c0542fc2f",
   "metadata": {},
   "outputs": [],
   "source": []
  },
  {
   "cell_type": "markdown",
   "id": "6767feac-e3b8-4605-8f31-225b6b7edb0a",
   "metadata": {},
   "source": [
    "# SPLIT by Age\n",
    "\n",
    "Group 1: 8-11 y.o <br>\n",
    "Group 2: 12-80 y.o <br>\n",
    "Group 3: 12-18 y.o <br>\n",
    "Group 4: 19-64 y.o <br>\n",
    "Group 5: 65-80 y.o <br>\n",
    "\n",
    "\n"
   ]
  },
  {
   "cell_type": "code",
   "execution_count": 360,
   "id": "a2f6d193-e2cd-4921-ad51-a083c3423041",
   "metadata": {},
   "outputs": [],
   "source": [
    "gridSearchData_ref, crossValData_ref, internalEvaluationData_ref, externalEvaluationData_ref = pickle.load(open('../../Clean_data/dataset_onehotencoded_ordinalencoded.sav', 'rb'))\n",
    "#outcomes\n",
    "target_outcomes = [\n",
    "    'outcome_12months' \n",
    "] \n",
    "\n",
    "#params\n",
    "params_dict = pd.read_csv('../../MODELS/BS_result_new.csv')\n",
    "def process_params(param_items, best_param):\n",
    "    a = eval(param_items)\n",
    "    b = eval(best_param)\n",
    "    c = {}\n",
    "    for key, value in zip(a,b):\n",
    "        c[key] = value\n",
    "    return c\n",
    "\n",
    "params_dict['params'] = params_dict.apply(lambda x: dict(eval(x.best_param[11:])), axis=1)\n"
   ]
  },
  {
   "cell_type": "code",
   "execution_count": 365,
   "id": "f3c3d45c-8475-4f0b-8689-180cfba769f8",
   "metadata": {},
   "outputs": [],
   "source": [
    "#function to train model\n",
    "\n",
    "def train_model(min_age, max_age, group):\n",
    "    #prepare data\n",
    "    X_gridSearch = gridSearchData[(gridSearchData_ref['age'] >= min_age) & (gridSearchData_ref['age'] <= max_age)]\n",
    "    X_gridSearch.reset_index(inplace=True, drop=True)\n",
    "    \n",
    "    X_crossVal = crossValData[(crossValData_ref['age'] >= min_age) & (crossValData_ref['age'] <= max_age)]\n",
    "    X_crossVal.reset_index(inplace=True, drop=True)\n",
    "    \n",
    "    X = pd.concat([X_gridSearch, X_crossVal])\n",
    "    X.reset_index(inplace=True, drop=True)\n",
    "    X = X[features_columns]\n",
    "    \n",
    "    \n",
    "    X_externalVal = externalEvaluationData[(externalEvaluationData_ref['age'] >= min_age) & (externalEvaluationData_ref['age'] <= max_age)]\n",
    "    X_externalVal.reset_index(inplace=True, drop=True)\n",
    "    X_externalVal = X_externalVal[features_columns]\n",
    "    \n",
    "    X_internalVal = internalEvaluationData[(internalEvaluationData_ref['age'] >= min_age) & (internalEvaluationData_ref['age'] <= max_age)]\n",
    "    X_internalVal.reset_index(inplace=True, drop=True)\n",
    "    X_internalVal = X_internalVal[features_columns]\n",
    "    \n",
    "    print(X.shape)\n",
    "    print(X_internalVal.shape)\n",
    "    print(X_externalVal.shape)\n",
    "    total_samples = X_gridSearch.shape[0]+X_crossVal.shape[0]+X_internalVal.shape[0]+X_externalVal.shape[0]\n",
    "    print(f'Total samples {group}: {total_samples}')\n",
    "\n",
    "    \n",
    "    #EXECUTE model training\n",
    "    summary_result_internalVal = []\n",
    "    summary_result_externalVal = []\n",
    "    \n",
    "    cols = ['model_name', 'fold', 'outcome', 'class_ratio', 'total_samples', 'auc', 'auprc']\n",
    "    model_folder = '../../MODELS/TestResultSensitivity/age/'+group+'/'\n",
    "    \n",
    "    start_time = time.time()\n",
    "    for target_outcome in target_outcomes:\n",
    "        models = pd.DataFrame(columns=['modelname', 'target_outcome', 'class_ratio'])\n",
    "        print(target_outcome)\n",
    "        y_gridSearch = gridSearchData[(gridSearchData_ref['age'] >= min_age) & (gridSearchData_ref['age'] <= max_age)][target_outcome]\n",
    "        y_crossVal = crossValData[(crossValData_ref['age'] >= min_age) & (crossValData_ref['age'] <= max_age)][target_outcome]\n",
    "        y = pd.concat([y_gridSearch , y_crossVal])\n",
    "        y.reset_index(drop=True, inplace=True)\n",
    "        y_internalVal = internalEvaluationData[(internalEvaluationData_ref['age'] >= min_age) & (internalEvaluationData_ref['age'] <= max_age)][target_outcome]\n",
    "        y_internalVal.reset_index(drop=True, inplace=True)\n",
    "        y_externalVal = externalEvaluationData[(externalEvaluationData_ref['age'] >= min_age) & (externalEvaluationData_ref['age'] <= max_age)][target_outcome]\n",
    "        y_externalVal.reset_index(drop=True, inplace=True)\n",
    "        fold = '' #no fold for the FINAL MODEL - trained on crossval and gridsearch sets\n",
    "        \n",
    "        \n",
    "        #Build models -> it can be commented if the models have been trained\n",
    "        models_temp = pd.DataFrame(build_models(X, y, target_outcome, params_dict, model_folder, fold), columns=['modelname', 'target_outcome', 'class_ratio'])\n",
    "        models = pd.concat([models,models_temp]).reset_index(drop=True)\n",
    "    \n",
    "    \n",
    "        #evaluate model\n",
    "        for modelname, target_outcome, classratio in models.values:\n",
    "            # print('======================================================================')\n",
    "            print(modelname)\n",
    "            model = pickle.load(open(model_folder + target_outcome + '_'+ modelname + '.sav', 'rb'))       \n",
    "            summary_result_internalVal.append((modelname, fold, target_outcome, classratio, total_samples,) + summariseResult (X_internalVal, y_internalVal, model) )       \n",
    "            summary_result_externalVal.append((modelname, fold, target_outcome, classratio, total_samples,) + summariseResult (X_externalVal, y_externalVal, model) )       \n",
    "            # torch.cuda.empty_cache()\n",
    "    \n",
    "    \n",
    "    summary_result_internalVal = pd.DataFrame(summary_result_internalVal, columns=cols)\n",
    "    summary_result_internalVal['model_num'] = summary_result_internalVal.index\n",
    "    summary_result_internalVal.to_csv('../../MODELS/internalValResult_sensitivity_age_'+group+'.csv', index_label=False, index=False)\n",
    "    \n",
    "    summary_result_externalVal = pd.DataFrame(summary_result_externalVal, columns=cols)\n",
    "    summary_result_externalVal['model_num'] = summary_result_externalVal.index\n",
    "    summary_result_externalVal.to_csv('../../MODELS/externalValResult_sensitivity_age_'+group+'.csv', index_label=False, index=False)\n",
    "    \n",
    "    # Calculate and print the elapsed time\n",
    "    end_time = time.time()\n",
    "    elapsed_time = end_time - start_time\n",
    "    print(f\"Elapsed time: {elapsed_time} seconds\")"
   ]
  },
  {
   "cell_type": "code",
   "execution_count": 366,
   "id": "adf09f41-1baf-4e18-a92a-2d33c36fe689",
   "metadata": {},
   "outputs": [],
   "source": [
    "def plot_result (group):\n",
    "    data = pd.read_csv('../../MODELS/externalValResult_sensitivity_age_'+group+'.csv')\n",
    "    data['Method'] = data['model_name']\n",
    "    data['AUC'] = data['auc']\n",
    "    data.replace('outcome_12months', '12 months prediction', inplace=True)\n",
    "    #PLOT\n",
    "    # data = combine\n",
    "    # data = combine[(combine.outcome=='outcome_12months')]\n",
    "    # data = summary_result_externalVal\n",
    "    bar = sns.catplot(x = 'Method',       # x variable name\n",
    "                y = 'AUC',       # y variable name            \n",
    "                data=data,\n",
    "                kind = \"bar\",\n",
    "                # hue = 'outcome',\n",
    "                # hue_order=['10-fold CV', 'Evaluation Set', 'Wales', 'Scotland'],\n",
    "                height=4,\n",
    "                col='outcome',\n",
    "                  # col='model_name',\n",
    "                aspect=1,\n",
    "                      col_wrap=2,\n",
    "                errorbar = None, sharex=False)\n",
    "    \n",
    "    for ax in bar.axes:\n",
    "        # for ax in items:\n",
    "            for p in ax.patches:\n",
    "                ax.text(p.get_x() + 0.01, \n",
    "                    p.get_height() * 1.01, \n",
    "                    '{0:.3f}'.format(p.get_height()), \n",
    "                    color='black', rotation=0, fontsize=11)\n",
    "    \n",
    "    ax.set_ylim(0.5, .83)\n",
    "    # ax.set_ylabel('AUC Score', fontsize=13)\n",
    "    # ax.set_xlabel('Method', fontsize=10)\n",
    "    # ax.set_xticklabels(fontsize=20)"
   ]
  },
  {
   "cell_type": "markdown",
   "id": "47226445-418c-47d4-ba05-171d6c810ce4",
   "metadata": {},
   "source": [
    "## group-1 8-11 y.o"
   ]
  },
  {
   "cell_type": "code",
   "execution_count": 249,
   "id": "77f6cedc-38c1-4a7d-9ed5-e91daa9ca111",
   "metadata": {
    "scrolled": true
   },
   "outputs": [
    {
     "name": "stdout",
     "output_type": "stream",
     "text": [
      "(25839, 48)\n",
      "(6539, 48)\n",
      "(1018, 48)\n",
      "Total samples group1: 33396\n",
      "outcome_12months\n",
      "Building models . . . .\n",
      "{'C': 10.0, 'max_iter': 120, 'solver': 'liblinear'}\n",
      "LR done\n",
      "{'criterion': 'entropy', 'max_depth': 5, 'splitter': 'best'}\n",
      "DT done\n",
      "{'bootstrap': True, 'criterion': 'entropy', 'max_depth': 12, 'max_features': 'sqrt', 'min_samples_leaf': 20, 'min_samples_split': 6, 'n_estimators': 240}\n",
      "RF done\n",
      "{'colsample_bytree': 0.5, 'learning_rate': 0.021211820714260574, 'max_depth': 2, 'n_estimators': 1000, 'reg_alpha': 10.0, 'reg_lambda': 0.1, 'scale_pos_weight': 9.691656942823805, 'subsample': 0.5}\n",
      "[13:26:54] ======== Monitor (0): HostSketchContainer ========\n",
      "[13:26:54] AllReduce: 0.010171s, 1 calls @ 10171us\n",
      "\n",
      "[13:26:54] MakeCuts: 0.018162s, 1 calls @ 18162us\n",
      "\n",
      "[13:26:54] DEBUG: /workspace/src/gbm/gbtree.cc:130: Using tree method: 3\n",
      "[13:26:54] DEBUG: /workspace/src/tree/updater_gpu_hist.cu:822: [GPU Hist]: Configure\n",
      "[13:26:54] ======== Monitor (0):  ========\n",
      "[13:26:54] InitCompressedData: 8.7e-05s, 1 calls @ 87us\n",
      "\n",
      "[13:26:56] ======== Monitor (0): Learner ========\n",
      "[13:26:56] Configure: 0.001951s, 1 calls @ 1951us\n",
      "\n",
      "[13:26:56] EvalOneIter: 0.001902s, 1000 calls @ 1902us\n",
      "\n",
      "[13:26:56] GetGradient: 0.073864s, 1000 calls @ 73864us\n",
      "\n",
      "[13:26:56] PredictRaw: 0.00059s, 1000 calls @ 590us\n",
      "\n",
      "[13:26:56] UpdateOneIter: 2.5151s, 1000 calls @ 2515098us\n",
      "\n",
      "[13:26:56] ======== Monitor (0): GBTree ========\n",
      "[13:26:56] BoostNewTrees: 2.4303s, 1000 calls @ 2430297us\n",
      "\n",
      "[13:26:56] CommitModel: 0.000196s, 1000 calls @ 196us\n",
      "\n",
      "[13:26:56] ======== Device 0 Memory Allocations:  ========\n",
      "[13:26:56] Peak memory usage: 440MiB\n",
      "[13:26:56] Number of allocations: 507144\n",
      "[13:26:56] ======== Monitor (0): updater_gpu_hist ========\n",
      "[13:26:56] InitData: 0.002289s, 1000 calls @ 2289us\n",
      "\n",
      "[13:26:56] InitDataOnce: 0.002203s, 1 calls @ 2203us\n",
      "\n",
      "[13:26:56] Update: 2.243s, 1000 calls @ 2243003us\n",
      "\n",
      "[13:26:56] UpdatePredictionCache: 0.184517s, 1000 calls @ 184517us\n",
      "\n",
      "[13:26:56] ======== Monitor (0): gradient_based_sampler ========\n",
      "[13:26:56] Sample: 0.004489s, 1000 calls @ 4489us\n",
      "\n",
      "[13:26:56] ======== Monitor (0): GPUHistMakerDevicecuda:0 ========\n",
      "[13:26:56] AllReduce: 0.000543s, 2000 calls @ 543us\n",
      "\n",
      "[13:26:56] BuildHist: 0.014656s, 2000 calls @ 14656us\n",
      "\n",
      "[13:26:56] EvaluateSplits: 0.469125s, 2000 calls @ 469125us\n",
      "\n",
      "[13:26:56] FinalisePosition: 0.084355s, 1000 calls @ 84355us\n",
      "\n",
      "[13:26:56] InitRoot: 0.893514s, 1000 calls @ 893514us\n",
      "\n",
      "[13:26:56] Reset: 0.477032s, 1000 calls @ 477032us\n",
      "\n",
      "[13:26:56] UpdatePosition: 0.294478s, 2000 calls @ 294478us\n",
      "\n",
      "XGB done\n",
      "LR\n",
      "DT\n",
      "RF\n"
     ]
    },
    {
     "name": "stderr",
     "output_type": "stream",
     "text": [
      "/tmp/ipykernel_211/4081454195.py:54: FutureWarning: The behavior of DataFrame concatenation with empty or all-NA entries is deprecated. In a future version, this will no longer exclude empty or all-NA columns when determining the result dtypes. To retain the old behavior, exclude the relevant entries before the concat operation.\n",
      "  models = pd.concat([models,models_temp]).reset_index(drop=True)\n"
     ]
    },
    {
     "name": "stdout",
     "output_type": "stream",
     "text": [
      "XGB\n",
      "[13:26:57] DEBUG: /workspace/src/gbm/gbtree.cc:130: Using tree method: 3\n",
      "[13:26:57] DEBUG: /workspace/src/tree/updater_gpu_hist.cu:822: [GPU Hist]: Configure\n",
      "Elapsed time: 6.692618131637573 seconds\n"
     ]
    }
   ],
   "source": [
    "train_model(8,11,'group1')"
   ]
  },
  {
   "cell_type": "code",
   "execution_count": 250,
   "id": "93f089f2-0d71-444f-bfa9-d47c5647750e",
   "metadata": {},
   "outputs": [
    {
     "data": {
      "image/png": "[encoded data removed]",
      "text/plain": [
       "<Figure size 584x288 with 1 Axes>"
      ]
     },
     "metadata": {
      "needs_background": "light"
     },
     "output_type": "display_data"
    }
   ],
   "source": [
    "plot_result('group1')"
   ]
  },
  {
   "cell_type": "code",
   "execution_count": null,
   "id": "237c9562-1011-421f-94f9-21a4d76e8b43",
   "metadata": {},
   "outputs": [],
   "source": []
  },
  {
   "cell_type": "code",
   "execution_count": null,
   "id": "a924bc4b-e124-4fe9-a8ce-49c84329c465",
   "metadata": {},
   "outputs": [],
   "source": []
  },
  {
   "cell_type": "markdown",
   "id": "bf7c00b6-053d-4f53-872b-9cad48d3ca15",
   "metadata": {},
   "source": [
    "## group-2 12-18 y.o"
   ]
  },
  {
   "cell_type": "code",
   "execution_count": 251,
   "id": "5c0b6381-19ac-4511-a1b6-6657f819389a",
   "metadata": {
    "scrolled": true
   },
   "outputs": [
    {
     "name": "stdout",
     "output_type": "stream",
     "text": [
      "(49992, 48)\n",
      "(12944, 48)\n",
      "(1730, 48)\n",
      "Total samples group2: 64666\n",
      "outcome_12months\n",
      "Building models . . . .\n",
      "{'C': 10.0, 'max_iter': 120, 'solver': 'liblinear'}\n",
      "LR done\n",
      "{'criterion': 'entropy', 'max_depth': 5, 'splitter': 'best'}\n",
      "DT done\n",
      "{'bootstrap': True, 'criterion': 'entropy', 'max_depth': 12, 'max_features': 'sqrt', 'min_samples_leaf': 20, 'min_samples_split': 6, 'n_estimators': 240}\n",
      "RF done\n",
      "{'colsample_bytree': 0.5, 'learning_rate': 0.021211820714260574, 'max_depth': 2, 'n_estimators': 1000, 'reg_alpha': 10.0, 'reg_lambda': 0.1, 'scale_pos_weight': 9.691656942823805, 'subsample': 0.5}\n",
      "[13:27:03] ======== Monitor (0): HostSketchContainer ========\n",
      "[13:27:03] AllReduce: 0.008377s, 1 calls @ 8377us\n",
      "\n",
      "[13:27:03] MakeCuts: 0.01628s, 1 calls @ 16280us\n",
      "\n",
      "[13:27:03] DEBUG: /workspace/src/gbm/gbtree.cc:130: Using tree method: 3\n",
      "[13:27:03] DEBUG: /workspace/src/tree/updater_gpu_hist.cu:822: [GPU Hist]: Configure\n",
      "[13:27:03] ======== Monitor (0):  ========\n",
      "[13:27:03] InitCompressedData: 0.00138s, 1 calls @ 1380us\n",
      "\n",
      "[13:27:06] ======== Monitor (0): Learner ========\n",
      "[13:27:06] Configure: 0.00168s, 1 calls @ 1680us\n",
      "\n",
      "[13:27:06] EvalOneIter: 0.001919s, 1000 calls @ 1919us\n",
      "\n",
      "[13:27:06] GetGradient: 0.078022s, 1000 calls @ 78022us\n",
      "\n",
      "[13:27:06] PredictRaw: 0.000566s, 1000 calls @ 566us\n",
      "\n",
      "[13:27:06] UpdateOneIter: 2.58146s, 1000 calls @ 2581455us\n",
      "\n",
      "[13:27:06] ======== Monitor (0): GBTree ========\n",
      "[13:27:06] BoostNewTrees: 2.4933s, 1000 calls @ 2493298us\n",
      "\n",
      "[13:27:06] CommitModel: 0.000191s, 1000 calls @ 191us\n",
      "\n",
      "[13:27:06] ======== Device 0 Memory Allocations:  ========\n",
      "[13:27:06] Peak memory usage: 440MiB\n",
      "[13:27:06] Number of allocations: 530197\n",
      "[13:27:06] ======== Monitor (0): updater_gpu_hist ========\n",
      "[13:27:06] InitData: 0.002397s, 1000 calls @ 2397us\n",
      "\n",
      "[13:27:06] InitDataOnce: 0.002312s, 1 calls @ 2312us\n",
      "\n",
      "[13:27:06] Update: 2.30464s, 1000 calls @ 2304638us\n",
      "\n",
      "[13:27:06] UpdatePredictionCache: 0.185985s, 1000 calls @ 185985us\n",
      "\n",
      "[13:27:06] ======== Monitor (0): gradient_based_sampler ========\n",
      "[13:27:06] Sample: 0.006155s, 1000 calls @ 6155us\n",
      "\n",
      "[13:27:06] ======== Monitor (0): GPUHistMakerDevicecuda:0 ========\n",
      "[13:27:06] AllReduce: 0.000494s, 2000 calls @ 494us\n",
      "\n",
      "[13:27:06] BuildHist: 0.013778s, 2000 calls @ 13778us\n",
      "\n",
      "[13:27:06] EvaluateSplits: 0.447085s, 2000 calls @ 447085us\n",
      "\n",
      "[13:27:06] FinalisePosition: 0.093706s, 1000 calls @ 93706us\n",
      "\n",
      "[13:27:06] InitRoot: 0.976547s, 1000 calls @ 976547us\n",
      "\n",
      "[13:27:06] Reset: 0.486199s, 1000 calls @ 486199us\n",
      "\n",
      "[13:27:06] UpdatePosition: 0.277111s, 2000 calls @ 277111us\n",
      "\n",
      "XGB done\n",
      "LR\n",
      "DT\n",
      "RF\n"
     ]
    },
    {
     "name": "stderr",
     "output_type": "stream",
     "text": [
      "/tmp/ipykernel_211/4081454195.py:54: FutureWarning: The behavior of DataFrame concatenation with empty or all-NA entries is deprecated. In a future version, this will no longer exclude empty or all-NA columns when determining the result dtypes. To retain the old behavior, exclude the relevant entries before the concat operation.\n",
      "  models = pd.concat([models,models_temp]).reset_index(drop=True)\n"
     ]
    },
    {
     "name": "stdout",
     "output_type": "stream",
     "text": [
      "XGB\n",
      "[13:27:07] DEBUG: /workspace/src/gbm/gbtree.cc:130: Using tree method: 3\n",
      "[13:27:07] DEBUG: /workspace/src/tree/updater_gpu_hist.cu:822: [GPU Hist]: Configure\n",
      "Elapsed time: 9.5922110080719 seconds\n"
     ]
    }
   ],
   "source": [
    "train_model(12,18,'group2')"
   ]
  },
  {
   "cell_type": "code",
   "execution_count": 252,
   "id": "fc8b99a2-8a9d-4764-8e0d-2dfb5108c98f",
   "metadata": {
    "scrolled": true
   },
   "outputs": [
    {
     "data": {
      "image/png": "[encoded data removed]",
      "text/plain": [
       "<Figure size 584x288 with 1 Axes>"
      ]
     },
     "metadata": {
      "needs_background": "light"
     },
     "output_type": "display_data"
    }
   ],
   "source": [
    "plot_result('group2')"
   ]
  },
  {
   "cell_type": "code",
   "execution_count": null,
   "id": "856f642a-497f-4cd6-9578-33d3c24021f3",
   "metadata": {},
   "outputs": [],
   "source": []
  },
  {
   "cell_type": "code",
   "execution_count": null,
   "id": "50a41366-0324-4fec-857a-3e3c0fc4a584",
   "metadata": {},
   "outputs": [],
   "source": []
  },
  {
   "cell_type": "markdown",
   "id": "9da95f8f-1860-4758-85cd-47ce4ce8eb2b",
   "metadata": {},
   "source": [
    "## group-3 19-64 y.o"
   ]
  },
  {
   "cell_type": "code",
   "execution_count": 253,
   "id": "1468e19d-ba8c-4810-b815-44d0fbba7040",
   "metadata": {
    "scrolled": true
   },
   "outputs": [
    {
     "name": "stdout",
     "output_type": "stream",
     "text": [
      "(319094, 48)\n",
      "(81739, 48)\n",
      "(13701, 48)\n",
      "Total samples group3: 414534\n",
      "outcome_12months\n",
      "Building models . . . .\n",
      "{'C': 10.0, 'max_iter': 120, 'solver': 'liblinear'}\n",
      "LR done\n",
      "{'criterion': 'entropy', 'max_depth': 5, 'splitter': 'best'}\n",
      "DT done\n",
      "{'bootstrap': True, 'criterion': 'entropy', 'max_depth': 12, 'max_features': 'sqrt', 'min_samples_leaf': 20, 'min_samples_split': 6, 'n_estimators': 240}\n",
      "RF done\n",
      "{'colsample_bytree': 0.5, 'learning_rate': 0.021211820714260574, 'max_depth': 2, 'n_estimators': 1000, 'reg_alpha': 10.0, 'reg_lambda': 0.1, 'scale_pos_weight': 9.691656942823805, 'subsample': 0.5}\n",
      "[13:27:59] ======== Monitor (0): HostSketchContainer ========\n",
      "[13:27:59] AllReduce: 0.012727s, 1 calls @ 12727us\n",
      "\n",
      "[13:27:59] MakeCuts: 0.016376s, 1 calls @ 16376us\n",
      "\n",
      "[13:27:59] DEBUG: /workspace/src/gbm/gbtree.cc:130: Using tree method: 3\n",
      "[13:27:59] DEBUG: /workspace/src/tree/updater_gpu_hist.cu:822: [GPU Hist]: Configure\n",
      "[13:27:59] ======== Monitor (0):  ========\n",
      "[13:27:59] InitCompressedData: 0.002465s, 1 calls @ 2465us\n",
      "\n",
      "[13:28:04] ======== Monitor (0): Learner ========\n",
      "[13:28:04] Configure: 0.001806s, 1 calls @ 1806us\n",
      "\n",
      "[13:28:04] EvalOneIter: 0.00406s, 1000 calls @ 4060us\n",
      "\n",
      "[13:28:04] GetGradient: 0.104423s, 1000 calls @ 104423us\n",
      "\n",
      "[13:28:04] PredictRaw: 0.001139s, 1000 calls @ 1139us\n",
      "\n",
      "[13:28:04] UpdateOneIter: 4.26429s, 1000 calls @ 4264289us\n",
      "\n",
      "[13:28:04] ======== Monitor (0): GBTree ========\n",
      "[13:28:04] BoostNewTrees: 3.82605s, 1000 calls @ 3826048us\n",
      "\n",
      "[13:28:04] CommitModel: 0.000654s, 1000 calls @ 654us\n",
      "\n",
      "[13:28:04] ======== Device 0 Memory Allocations:  ========\n",
      "[13:28:04] Peak memory usage: 455MiB\n",
      "[13:28:04] Number of allocations: 553250\n",
      "[13:28:04] ======== Monitor (0): updater_gpu_hist ========\n",
      "[13:28:04] InitData: 0.001665s, 1000 calls @ 1665us\n",
      "\n",
      "[13:28:04] InitDataOnce: 0.001514s, 1 calls @ 1514us\n",
      "\n",
      "[13:28:04] Update: 3.66902s, 1000 calls @ 3669016us\n",
      "\n",
      "[13:28:04] UpdatePredictionCache: 0.150379s, 1000 calls @ 150379us\n",
      "\n",
      "[13:28:04] ======== Monitor (0): gradient_based_sampler ========\n",
      "[13:28:04] Sample: 0.018611s, 1000 calls @ 18611us\n",
      "\n",
      "[13:28:04] ======== Monitor (0): GPUHistMakerDevicecuda:0 ========\n",
      "[13:28:04] AllReduce: 0.000823s, 2000 calls @ 823us\n",
      "\n",
      "[13:28:04] BuildHist: 0.018508s, 2000 calls @ 18508us\n",
      "\n",
      "[13:28:04] EvaluateSplits: 0.498501s, 2000 calls @ 498501us\n",
      "\n",
      "[13:28:04] FinalisePosition: 0.778558s, 1000 calls @ 778558us\n",
      "\n",
      "[13:28:04] InitRoot: 1.56853s, 1000 calls @ 1568530us\n",
      "\n",
      "[13:28:04] Reset: 0.508223s, 1000 calls @ 508223us\n",
      "\n",
      "[13:28:04] UpdatePosition: 0.283609s, 2000 calls @ 283609us\n",
      "\n",
      "XGB done\n",
      "LR\n"
     ]
    },
    {
     "name": "stderr",
     "output_type": "stream",
     "text": [
      "/tmp/ipykernel_211/4081454195.py:54: FutureWarning: The behavior of DataFrame concatenation with empty or all-NA entries is deprecated. In a future version, this will no longer exclude empty or all-NA columns when determining the result dtypes. To retain the old behavior, exclude the relevant entries before the concat operation.\n",
      "  models = pd.concat([models,models_temp]).reset_index(drop=True)\n"
     ]
    },
    {
     "name": "stdout",
     "output_type": "stream",
     "text": [
      "DT\n",
      "RF\n",
      "XGB\n",
      "[13:28:06] DEBUG: /workspace/src/gbm/gbtree.cc:130: Using tree method: 3\n",
      "[13:28:06] DEBUG: /workspace/src/tree/updater_gpu_hist.cu:822: [GPU Hist]: Configure\n",
      "Elapsed time: 59.20488142967224 seconds\n"
     ]
    }
   ],
   "source": [
    "train_model(19,64,'group3')"
   ]
  },
  {
   "cell_type": "code",
   "execution_count": 254,
   "id": "f5b681e6-7d5e-4a34-a3f5-a3144bbda079",
   "metadata": {},
   "outputs": [
    {
     "data": {
      "image/png": "[encoded data removed]",
      "text/plain": [
       "<Figure size 584x288 with 1 Axes>"
      ]
     },
     "metadata": {
      "needs_background": "light"
     },
     "output_type": "display_data"
    }
   ],
   "source": [
    "plot_result('group3')"
   ]
  },
  {
   "cell_type": "code",
   "execution_count": null,
   "id": "da01f83a-7551-4983-8988-f91a5f0e1add",
   "metadata": {},
   "outputs": [],
   "source": []
  },
  {
   "cell_type": "code",
   "execution_count": null,
   "id": "3ed13cd9-a26a-4024-ad62-b4adba34ad85",
   "metadata": {},
   "outputs": [],
   "source": []
  },
  {
   "cell_type": "markdown",
   "id": "49b73563-998f-4baf-9f03-f087159a355c",
   "metadata": {},
   "source": [
    "## group-4 65-80 y.o"
   ]
  },
  {
   "cell_type": "code",
   "execution_count": 255,
   "id": "feabedf7-4875-40c0-b848-5f2bc6022693",
   "metadata": {
    "scrolled": true
   },
   "outputs": [
    {
     "name": "stdout",
     "output_type": "stream",
     "text": [
      "(79263, 48)\n",
      "(20492, 48)\n",
      "(3411, 48)\n",
      "Total samples group4: 103166\n",
      "outcome_12months\n",
      "Building models . . . .\n",
      "{'C': 10.0, 'max_iter': 120, 'solver': 'liblinear'}\n",
      "LR done\n",
      "{'criterion': 'entropy', 'max_depth': 5, 'splitter': 'best'}\n",
      "DT done\n",
      "{'bootstrap': True, 'criterion': 'entropy', 'max_depth': 12, 'max_features': 'sqrt', 'min_samples_leaf': 20, 'min_samples_split': 6, 'n_estimators': 240}\n",
      "RF done\n",
      "{'colsample_bytree': 0.5, 'learning_rate': 0.021211820714260574, 'max_depth': 2, 'n_estimators': 1000, 'reg_alpha': 10.0, 'reg_lambda': 0.1, 'scale_pos_weight': 9.691656942823805, 'subsample': 0.5}\n",
      "[13:28:19] ======== Monitor (0): HostSketchContainer ========\n",
      "[13:28:19] AllReduce: 0.009533s, 1 calls @ 9533us\n",
      "\n",
      "[13:28:19] MakeCuts: 0.016582s, 1 calls @ 16582us\n",
      "\n",
      "[13:28:19] DEBUG: /workspace/src/gbm/gbtree.cc:130: Using tree method: 3\n",
      "[13:28:19] DEBUG: /workspace/src/tree/updater_gpu_hist.cu:822: [GPU Hist]: Configure\n",
      "[13:28:19] ======== Monitor (0):  ========\n",
      "[13:28:19] InitCompressedData: 0.001538s, 1 calls @ 1538us\n",
      "\n",
      "[13:28:21] ======== Monitor (0): Learner ========\n",
      "[13:28:21] Configure: 0.001794s, 1 calls @ 1794us\n",
      "\n",
      "[13:28:21] EvalOneIter: 0.001769s, 1000 calls @ 1769us\n",
      "\n",
      "[13:28:21] GetGradient: 0.070882s, 1000 calls @ 70882us\n",
      "\n",
      "[13:28:21] PredictRaw: 0.000525s, 1000 calls @ 525us\n",
      "\n",
      "[13:28:21] UpdateOneIter: 2.51744s, 1000 calls @ 2517436us\n",
      "\n",
      "[13:28:21] ======== Monitor (0): GBTree ========\n",
      "[13:28:21] BoostNewTrees: 2.43521s, 1000 calls @ 2435215us\n",
      "\n",
      "[13:28:21] CommitModel: 0.000194s, 1000 calls @ 194us\n",
      "\n",
      "[13:28:21] ======== Device 0 Memory Allocations:  ========\n",
      "[13:28:21] Peak memory usage: 455MiB\n",
      "[13:28:21] Number of allocations: 576303\n",
      "[13:28:21] ======== Monitor (0): updater_gpu_hist ========\n",
      "[13:28:21] InitData: 0.001465s, 1000 calls @ 1465us\n",
      "\n",
      "[13:28:21] InitDataOnce: 0.001389s, 1 calls @ 1389us\n",
      "\n",
      "[13:28:21] Update: 2.27145s, 1000 calls @ 2271447us\n",
      "\n",
      "[13:28:21] UpdatePredictionCache: 0.161277s, 1000 calls @ 161277us\n",
      "\n",
      "[13:28:21] ======== Monitor (0): gradient_based_sampler ========\n",
      "[13:28:21] Sample: 0.007164s, 1000 calls @ 7164us\n",
      "\n",
      "[13:28:21] ======== Monitor (0): GPUHistMakerDevicecuda:0 ========\n",
      "[13:28:21] AllReduce: 0.000472s, 2000 calls @ 472us\n",
      "\n",
      "[13:28:21] BuildHist: 0.013268s, 2000 calls @ 13268us\n",
      "\n",
      "[13:28:21] EvaluateSplits: 0.463092s, 2000 calls @ 463092us\n",
      "\n",
      "[13:28:21] FinalisePosition: 0.079584s, 1000 calls @ 79584us\n",
      "\n",
      "[13:28:21] InitRoot: 1.00167s, 1000 calls @ 1001666us\n",
      "\n",
      "[13:28:21] Reset: 0.443118s, 1000 calls @ 443118us\n",
      "\n",
      "[13:28:21] UpdatePosition: 0.261856s, 2000 calls @ 261856us\n",
      "\n",
      "XGB done\n",
      "LR\n",
      "DT\n",
      "RF\n"
     ]
    },
    {
     "name": "stderr",
     "output_type": "stream",
     "text": [
      "/tmp/ipykernel_211/4081454195.py:54: FutureWarning: The behavior of DataFrame concatenation with empty or all-NA entries is deprecated. In a future version, this will no longer exclude empty or all-NA columns when determining the result dtypes. To retain the old behavior, exclude the relevant entries before the concat operation.\n",
      "  models = pd.concat([models,models_temp]).reset_index(drop=True)\n"
     ]
    },
    {
     "name": "stdout",
     "output_type": "stream",
     "text": [
      "XGB\n",
      "[13:28:22] DEBUG: /workspace/src/gbm/gbtree.cc:130: Using tree method: 3\n",
      "[13:28:22] DEBUG: /workspace/src/tree/updater_gpu_hist.cu:822: [GPU Hist]: Configure\n",
      "Elapsed time: 15.42616081237793 seconds\n"
     ]
    }
   ],
   "source": [
    "train_model(65,80,'group4')"
   ]
  },
  {
   "cell_type": "code",
   "execution_count": 256,
   "id": "103cb2a2-363e-49c7-9efb-2bd64787d6a4",
   "metadata": {},
   "outputs": [
    {
     "data": {
      "image/png": "[encoded data removed]",
      "text/plain": [
       "<Figure size 584x288 with 1 Axes>"
      ]
     },
     "metadata": {
      "needs_background": "light"
     },
     "output_type": "display_data"
    }
   ],
   "source": [
    "plot_result('group4')"
   ]
  },
  {
   "cell_type": "code",
   "execution_count": null,
   "id": "af3e98b5-29ff-44c6-926a-9c6379caab31",
   "metadata": {},
   "outputs": [],
   "source": []
  },
  {
   "cell_type": "code",
   "execution_count": null,
   "id": "47ef264e-db6f-490e-a688-bc052cbb7ece",
   "metadata": {},
   "outputs": [],
   "source": []
  },
  {
   "cell_type": "markdown",
   "id": "eaaa53f5-efb4-471e-ad4d-941f81073eda",
   "metadata": {},
   "source": [
    "## group-5 12-80 y.o"
   ]
  },
  {
   "cell_type": "code",
   "execution_count": 257,
   "id": "816bfd8c-eeaf-4427-aa13-0dee83794c43",
   "metadata": {
    "scrolled": true
   },
   "outputs": [
    {
     "name": "stdout",
     "output_type": "stream",
     "text": [
      "(448349, 48)\n",
      "(115175, 48)\n",
      "(18842, 48)\n",
      "Total samples group5: 582366\n",
      "outcome_12months\n",
      "Building models . . . .\n",
      "{'C': 10.0, 'max_iter': 120, 'solver': 'liblinear'}\n",
      "LR done\n",
      "{'criterion': 'entropy', 'max_depth': 5, 'splitter': 'best'}\n",
      "DT done\n",
      "{'bootstrap': True, 'criterion': 'entropy', 'max_depth': 12, 'max_features': 'sqrt', 'min_samples_leaf': 20, 'min_samples_split': 6, 'n_estimators': 240}\n",
      "RF done\n",
      "{'colsample_bytree': 0.5, 'learning_rate': 0.021211820714260574, 'max_depth': 2, 'n_estimators': 1000, 'reg_alpha': 10.0, 'reg_lambda': 0.1, 'scale_pos_weight': 9.691656942823805, 'subsample': 0.5}\n",
      "[13:29:38] ======== Monitor (0): HostSketchContainer ========\n",
      "[13:29:38] AllReduce: 0.004741s, 1 calls @ 4741us\n",
      "\n",
      "[13:29:38] MakeCuts: 0.011855s, 1 calls @ 11855us\n",
      "\n",
      "[13:29:38] DEBUG: /workspace/src/gbm/gbtree.cc:130: Using tree method: 3\n",
      "[13:29:38] DEBUG: /workspace/src/tree/updater_gpu_hist.cu:822: [GPU Hist]: Configure\n",
      "[13:29:38] ======== Monitor (0):  ========\n",
      "[13:29:38] InitCompressedData: 0.002953s, 1 calls @ 2953us\n",
      "\n",
      "[13:29:42] ======== Monitor (0): Learner ========\n",
      "[13:29:42] Configure: 0.001908s, 1 calls @ 1908us\n",
      "\n",
      "[13:29:42] EvalOneIter: 0.003082s, 1000 calls @ 3082us\n",
      "\n",
      "[13:29:42] GetGradient: 0.091146s, 1000 calls @ 91146us\n",
      "\n",
      "[13:29:42] PredictRaw: 0.002042s, 1000 calls @ 2042us\n",
      "\n",
      "[13:29:42] UpdateOneIter: 4.24008s, 1000 calls @ 4240083us\n",
      "\n",
      "[13:29:42] ======== Monitor (0): GBTree ========\n",
      "[13:29:42] BoostNewTrees: 3.83198s, 1000 calls @ 3831980us\n",
      "\n",
      "[13:29:42] CommitModel: 0.000335s, 1000 calls @ 335us\n",
      "\n",
      "[13:29:42] ======== Device 0 Memory Allocations:  ========\n",
      "[13:29:42] Peak memory usage: 497MiB\n",
      "[13:29:42] Number of allocations: 599356\n",
      "[13:29:42] ======== Monitor (0): updater_gpu_hist ========\n",
      "[13:29:42] InitData: 0.001832s, 1000 calls @ 1832us\n",
      "\n",
      "[13:29:42] InitDataOnce: 0.001692s, 1 calls @ 1692us\n",
      "\n",
      "[13:29:42] Update: 3.67869s, 1000 calls @ 3678695us\n",
      "\n",
      "[13:29:42] UpdatePredictionCache: 0.148731s, 1000 calls @ 148731us\n",
      "\n",
      "[13:29:42] ======== Monitor (0): gradient_based_sampler ========\n",
      "[13:29:42] Sample: 0.022923s, 1000 calls @ 22923us\n",
      "\n",
      "[13:29:42] ======== Monitor (0): GPUHistMakerDevicecuda:0 ========\n",
      "[13:29:42] AllReduce: 0.000733s, 2000 calls @ 733us\n",
      "\n",
      "[13:29:42] BuildHist: 0.016695s, 2000 calls @ 16695us\n",
      "\n",
      "[13:29:42] EvaluateSplits: 0.482042s, 2000 calls @ 482042us\n",
      "\n",
      "[13:29:42] FinalisePosition: 0.784463s, 1000 calls @ 784463us\n",
      "\n",
      "[13:29:42] InitRoot: 1.62079s, 1000 calls @ 1620786us\n",
      "\n",
      "[13:29:42] Reset: 0.482254s, 1000 calls @ 482254us\n",
      "\n",
      "[13:29:42] UpdatePosition: 0.281407s, 2000 calls @ 281407us\n",
      "\n",
      "XGB done\n",
      "LR\n"
     ]
    },
    {
     "name": "stderr",
     "output_type": "stream",
     "text": [
      "/tmp/ipykernel_211/4081454195.py:54: FutureWarning: The behavior of DataFrame concatenation with empty or all-NA entries is deprecated. In a future version, this will no longer exclude empty or all-NA columns when determining the result dtypes. To retain the old behavior, exclude the relevant entries before the concat operation.\n",
      "  models = pd.concat([models,models_temp]).reset_index(drop=True)\n"
     ]
    },
    {
     "name": "stdout",
     "output_type": "stream",
     "text": [
      "DT\n",
      "RF\n",
      "XGB\n",
      "[13:29:46] DEBUG: /workspace/src/gbm/gbtree.cc:130: Using tree method: 3\n",
      "[13:29:46] DEBUG: /workspace/src/tree/updater_gpu_hist.cu:822: [GPU Hist]: Configure\n",
      "Elapsed time: 82.93742442131042 seconds\n"
     ]
    }
   ],
   "source": [
    "train_model(12,80,'group5')"
   ]
  },
  {
   "cell_type": "code",
   "execution_count": 258,
   "id": "c6dee417-ee36-4f2c-b7fb-ad482668017e",
   "metadata": {},
   "outputs": [
    {
     "data": {
      "image/png": "[encoded data removed]",
      "text/plain": [
       "<Figure size 584x288 with 1 Axes>"
      ]
     },
     "metadata": {
      "needs_background": "light"
     },
     "output_type": "display_data"
    }
   ],
   "source": [
    "plot_result('group5')"
   ]
  },
  {
   "cell_type": "code",
   "execution_count": null,
   "id": "b812de06-ab31-4104-84ba-fc259ffd52ed",
   "metadata": {},
   "outputs": [],
   "source": []
  },
  {
   "cell_type": "code",
   "execution_count": null,
   "id": "d99ba0d3-7e53-43e5-8b00-017c56174ae9",
   "metadata": {},
   "outputs": [],
   "source": []
  },
  {
   "cell_type": "markdown",
   "id": "1eccc15d-e71c-40d9-aa16-5c9a6ce5392e",
   "metadata": {},
   "source": [
    "## group-6 19-80 y.o"
   ]
  },
  {
   "cell_type": "code",
   "execution_count": 259,
   "id": "2db9d66a-dcf4-4bd6-a2d2-ed6bf94acd7b",
   "metadata": {
    "scrolled": true
   },
   "outputs": [
    {
     "name": "stdout",
     "output_type": "stream",
     "text": [
      "(398357, 48)\n",
      "(102231, 48)\n",
      "(17112, 48)\n",
      "Total samples group6: 517700\n",
      "outcome_12months\n",
      "Building models . . . .\n",
      "{'C': 10.0, 'max_iter': 120, 'solver': 'liblinear'}\n",
      "LR done\n",
      "{'criterion': 'entropy', 'max_depth': 5, 'splitter': 'best'}\n",
      "DT done\n",
      "{'bootstrap': True, 'criterion': 'entropy', 'max_depth': 12, 'max_features': 'sqrt', 'min_samples_leaf': 20, 'min_samples_split': 6, 'n_estimators': 240}\n",
      "RF done\n",
      "{'colsample_bytree': 0.5, 'learning_rate': 0.021211820714260574, 'max_depth': 2, 'n_estimators': 1000, 'reg_alpha': 10.0, 'reg_lambda': 0.1, 'scale_pos_weight': 9.691656942823805, 'subsample': 0.5}\n",
      "[13:30:54] ======== Monitor (0): HostSketchContainer ========\n",
      "[13:30:54] AllReduce: 0.008985s, 1 calls @ 8985us\n",
      "\n",
      "[13:30:54] MakeCuts: 0.013728s, 1 calls @ 13728us\n",
      "\n",
      "[13:30:54] DEBUG: /workspace/src/gbm/gbtree.cc:130: Using tree method: 3\n",
      "[13:30:54] DEBUG: /workspace/src/tree/updater_gpu_hist.cu:822: [GPU Hist]: Configure\n",
      "[13:30:54] ======== Monitor (0):  ========\n",
      "[13:30:54] InitCompressedData: 0.002857s, 1 calls @ 2857us\n",
      "\n",
      "[13:30:59] ======== Monitor (0): Learner ========\n",
      "[13:30:59] Configure: 0.001955s, 1 calls @ 1955us\n",
      "\n",
      "[13:30:59] EvalOneIter: 0.002546s, 1000 calls @ 2546us\n",
      "\n",
      "[13:30:59] GetGradient: 0.08579s, 1000 calls @ 85790us\n",
      "\n",
      "[13:30:59] PredictRaw: 0.00173s, 1000 calls @ 1730us\n",
      "\n",
      "[13:30:59] UpdateOneIter: 4.21624s, 1000 calls @ 4216236us\n",
      "\n",
      "[13:30:59] ======== Monitor (0): GBTree ========\n",
      "[13:30:59] BoostNewTrees: 3.80949s, 1000 calls @ 3809489us\n",
      "\n",
      "[13:30:59] CommitModel: 0.000242s, 1000 calls @ 242us\n",
      "\n",
      "[13:30:59] ======== Device 0 Memory Allocations:  ========\n",
      "[13:30:59] Peak memory usage: 518MiB\n",
      "[13:30:59] Number of allocations: 622409\n",
      "[13:30:59] ======== Monitor (0): updater_gpu_hist ========\n",
      "[13:30:59] InitData: 0.001598s, 1000 calls @ 1598us\n",
      "\n",
      "[13:30:59] InitDataOnce: 0.001504s, 1 calls @ 1504us\n",
      "\n",
      "[13:30:59] Update: 3.6537s, 1000 calls @ 3653696us\n",
      "\n",
      "[13:30:59] UpdatePredictionCache: 0.152141s, 1000 calls @ 152141us\n",
      "\n",
      "[13:30:59] ======== Monitor (0): gradient_based_sampler ========\n",
      "[13:30:59] Sample: 0.02125s, 1000 calls @ 21250us\n",
      "\n",
      "[13:30:59] ======== Monitor (0): GPUHistMakerDevicecuda:0 ========\n",
      "[13:30:59] AllReduce: 0.000594s, 2000 calls @ 594us\n",
      "\n",
      "[13:30:59] BuildHist: 0.014459s, 2000 calls @ 14459us\n",
      "\n",
      "[13:30:59] EvaluateSplits: 0.487774s, 2000 calls @ 487774us\n",
      "\n",
      "[13:30:59] FinalisePosition: 0.763235s, 1000 calls @ 763235us\n",
      "\n",
      "[13:30:59] InitRoot: 1.60702s, 1000 calls @ 1607023us\n",
      "\n",
      "[13:30:59] Reset: 0.488231s, 1000 calls @ 488231us\n",
      "\n",
      "[13:30:59] UpdatePosition: 0.283361s, 2000 calls @ 283361us\n",
      "\n",
      "XGB done\n",
      "LR\n",
      "DT\n"
     ]
    },
    {
     "name": "stderr",
     "output_type": "stream",
     "text": [
      "/tmp/ipykernel_211/4081454195.py:54: FutureWarning: The behavior of DataFrame concatenation with empty or all-NA entries is deprecated. In a future version, this will no longer exclude empty or all-NA columns when determining the result dtypes. To retain the old behavior, exclude the relevant entries before the concat operation.\n",
      "  models = pd.concat([models,models_temp]).reset_index(drop=True)\n"
     ]
    },
    {
     "name": "stdout",
     "output_type": "stream",
     "text": [
      "RF\n",
      "XGB\n",
      "[13:31:02] DEBUG: /workspace/src/gbm/gbtree.cc:130: Using tree method: 3\n",
      "[13:31:02] DEBUG: /workspace/src/tree/updater_gpu_hist.cu:822: [GPU Hist]: Configure\n",
      "Elapsed time: 75.49771857261658 seconds\n"
     ]
    }
   ],
   "source": [
    "train_model(19,80,'group6')"
   ]
  },
  {
   "cell_type": "code",
   "execution_count": 260,
   "id": "41fb8afa-60f0-4c86-ba34-9aa10e7952e0",
   "metadata": {},
   "outputs": [
    {
     "data": {
      "image/png": "[encoded data removed]",
      "text/plain": [
       "<Figure size 584x288 with 1 Axes>"
      ]
     },
     "metadata": {
      "needs_background": "light"
     },
     "output_type": "display_data"
    }
   ],
   "source": [
    "plot_result('group6')"
   ]
  },
  {
   "cell_type": "code",
   "execution_count": null,
   "id": "c955f46e-55da-48f6-b3f1-29399fedb15e",
   "metadata": {},
   "outputs": [],
   "source": []
  },
  {
   "cell_type": "markdown",
   "id": "1375756d-e12a-4063-8880-734d890c82b5",
   "metadata": {},
   "source": [
    "## group-7 8-80"
   ]
  },
  {
   "cell_type": "code",
   "execution_count": 284,
   "id": "3cbbebd3-979e-40ac-86b3-735d719d20b9",
   "metadata": {
    "scrolled": true
   },
   "outputs": [
    {
     "name": "stdout",
     "output_type": "stream",
     "text": [
      "(474188, 48)\n",
      "(121714, 48)\n",
      "(19860, 48)\n",
      "Total samples group7: 615762\n",
      "outcome_12months\n",
      "Building models . . . .\n",
      "{'C': 10.0, 'max_iter': 120, 'solver': 'liblinear'}\n",
      "LR done\n",
      "{'criterion': 'entropy', 'max_depth': 5, 'splitter': 'best'}\n",
      "DT done\n",
      "{'bootstrap': True, 'criterion': 'entropy', 'max_depth': 12, 'max_features': 'sqrt', 'min_samples_leaf': 20, 'min_samples_split': 6, 'n_estimators': 240}\n",
      "RF done\n",
      "{'colsample_bytree': 0.5, 'learning_rate': 0.021211820714260574, 'max_depth': 2, 'n_estimators': 1000, 'reg_alpha': 10.0, 'reg_lambda': 0.1, 'scale_pos_weight': 9.691656942823805, 'subsample': 0.5}\n",
      "[14:45:53] ======== Monitor (0): HostSketchContainer ========\n",
      "[14:45:53] AllReduce: 0.011884s, 1 calls @ 11884us\n",
      "\n",
      "[14:45:53] MakeCuts: 0.022682s, 1 calls @ 22682us\n",
      "\n",
      "[14:45:53] DEBUG: /workspace/src/gbm/gbtree.cc:130: Using tree method: 3\n",
      "[14:45:53] DEBUG: /workspace/src/tree/updater_gpu_hist.cu:822: [GPU Hist]: Configure\n",
      "[14:45:53] ======== Monitor (0):  ========\n",
      "[14:45:53] InitCompressedData: 0.002991s, 1 calls @ 2991us\n",
      "\n",
      "[14:45:58] ======== Monitor (0): Learner ========\n",
      "[14:45:58] Configure: 0.002836s, 1 calls @ 2836us\n",
      "\n",
      "[14:45:58] EvalOneIter: 0.003362s, 1000 calls @ 3362us\n",
      "\n",
      "[14:45:58] GetGradient: 0.09485s, 1000 calls @ 94850us\n",
      "\n",
      "[14:45:58] PredictRaw: 0.001938s, 1000 calls @ 1938us\n",
      "\n",
      "[14:45:58] UpdateOneIter: 4.41252s, 1000 calls @ 4412525us\n",
      "\n",
      "[14:45:58] ======== Monitor (0): GBTree ========\n",
      "[14:45:58] BoostNewTrees: 3.94444s, 1000 calls @ 3944443us\n",
      "\n",
      "[14:45:58] CommitModel: 0.000576s, 1000 calls @ 576us\n",
      "\n",
      "[14:45:58] ======== Device 0 Memory Allocations:  ========\n",
      "[14:45:58] Peak memory usage: 553MiB\n",
      "[14:45:58] Number of allocations: 645462\n",
      "[14:45:58] ======== Monitor (0): updater_gpu_hist ========\n",
      "[14:45:58] InitData: 0.001825s, 1000 calls @ 1825us\n",
      "\n",
      "[14:45:58] InitDataOnce: 0.00164s, 1 calls @ 1640us\n",
      "\n",
      "[14:45:58] Update: 3.7905s, 1000 calls @ 3790503us\n",
      "\n",
      "[14:45:58] UpdatePredictionCache: 0.148672s, 1000 calls @ 148672us\n",
      "\n",
      "[14:45:58] ======== Monitor (0): gradient_based_sampler ========\n",
      "[14:45:58] Sample: 0.023745s, 1000 calls @ 23745us\n",
      "\n",
      "[14:45:58] ======== Monitor (0): GPUHistMakerDevicecuda:0 ========\n",
      "[14:45:58] AllReduce: 0.000692s, 2000 calls @ 692us\n",
      "\n",
      "[14:45:58] BuildHist: 0.016591s, 2000 calls @ 16591us\n",
      "\n",
      "[14:45:58] EvaluateSplits: 0.475074s, 2000 calls @ 475074us\n",
      "\n",
      "[14:45:58] FinalisePosition: 0.849836s, 1000 calls @ 849836us\n",
      "\n",
      "[14:45:58] InitRoot: 1.65375s, 1000 calls @ 1653752us\n",
      "\n",
      "[14:45:58] Reset: 0.499342s, 1000 calls @ 499342us\n",
      "\n",
      "[14:45:58] UpdatePosition: 0.28369s, 2000 calls @ 283690us\n",
      "\n",
      "XGB done\n",
      "LR\n"
     ]
    },
    {
     "name": "stderr",
     "output_type": "stream",
     "text": [
      "/tmp/ipykernel_211/4081454195.py:54: FutureWarning: The behavior of DataFrame concatenation with empty or all-NA entries is deprecated. In a future version, this will no longer exclude empty or all-NA columns when determining the result dtypes. To retain the old behavior, exclude the relevant entries before the concat operation.\n",
      "  models = pd.concat([models,models_temp]).reset_index(drop=True)\n"
     ]
    },
    {
     "name": "stdout",
     "output_type": "stream",
     "text": [
      "DT\n",
      "RF\n",
      "XGB\n",
      "[14:46:02] DEBUG: /workspace/src/gbm/gbtree.cc:130: Using tree method: 3\n",
      "[14:46:02] DEBUG: /workspace/src/tree/updater_gpu_hist.cu:822: [GPU Hist]: Configure\n",
      "Elapsed time: 90.52530455589294 seconds\n"
     ]
    }
   ],
   "source": [
    "train_model(8,80,'group7')"
   ]
  },
  {
   "cell_type": "code",
   "execution_count": 285,
   "id": "366fe807-ea89-4ad1-8e49-526e82e851db",
   "metadata": {},
   "outputs": [
    {
     "data": {
      "image/png": "[encoded data removed]",
      "text/plain": [
       "<Figure size 584x288 with 1 Axes>"
      ]
     },
     "metadata": {
      "needs_background": "light"
     },
     "output_type": "display_data"
    }
   ],
   "source": [
    "plot_result('group7')"
   ]
  },
  {
   "cell_type": "code",
   "execution_count": null,
   "id": "43d17551-463b-40c5-b065-61e55268af8c",
   "metadata": {},
   "outputs": [],
   "source": []
  },
  {
   "cell_type": "markdown",
   "id": "bac66f79-6ee1-4385-9c07-fd3c44c5b8e8",
   "metadata": {},
   "source": [
    "## Group-8 8-18"
   ]
  },
  {
   "cell_type": "code",
   "execution_count": 295,
   "id": "b024e537-1748-4f59-8527-c16a5f1af222",
   "metadata": {
    "scrolled": true
   },
   "outputs": [
    {
     "name": "stdout",
     "output_type": "stream",
     "text": [
      "(75831, 48)\n",
      "(19483, 48)\n",
      "(2748, 48)\n",
      "Total samples group8: 98062\n",
      "outcome_12months\n",
      "Building models . . . .\n",
      "{'C': 10.0, 'max_iter': 120, 'solver': 'liblinear'}\n",
      "LR done\n",
      "{'criterion': 'entropy', 'max_depth': 5, 'splitter': 'best'}\n",
      "DT done\n",
      "{'bootstrap': True, 'criterion': 'entropy', 'max_depth': 12, 'max_features': 'sqrt', 'min_samples_leaf': 20, 'min_samples_split': 6, 'n_estimators': 240}\n",
      "RF done\n",
      "{'colsample_bytree': 0.5, 'learning_rate': 0.021211820714260574, 'max_depth': 2, 'n_estimators': 1000, 'reg_alpha': 10.0, 'reg_lambda': 0.1, 'scale_pos_weight': 9.691656942823805, 'subsample': 0.5}\n",
      "[15:05:17] ======== Monitor (0): HostSketchContainer ========\n",
      "[15:05:17] AllReduce: 0.007689s, 1 calls @ 7689us\n",
      "\n",
      "[15:05:17] MakeCuts: 0.013787s, 1 calls @ 13787us\n",
      "\n",
      "[15:05:17] DEBUG: /workspace/src/gbm/gbtree.cc:130: Using tree method: 3\n",
      "[15:05:17] DEBUG: /workspace/src/tree/updater_gpu_hist.cu:822: [GPU Hist]: Configure\n",
      "[15:05:17] ======== Monitor (0):  ========\n",
      "[15:05:17] InitCompressedData: 0.001867s, 1 calls @ 1867us\n",
      "\n",
      "[15:05:19] ======== Monitor (0): Learner ========\n",
      "[15:05:19] Configure: 0.00199s, 1 calls @ 1990us\n",
      "\n",
      "[15:05:19] EvalOneIter: 0.001767s, 1000 calls @ 1767us\n",
      "\n",
      "[15:05:19] GetGradient: 0.070298s, 1000 calls @ 70298us\n",
      "\n",
      "[15:05:19] PredictRaw: 0.000559s, 1000 calls @ 559us\n",
      "\n",
      "[15:05:19] UpdateOneIter: 2.4859s, 1000 calls @ 2485903us\n",
      "\n",
      "[15:05:19] ======== Monitor (0): GBTree ========\n",
      "[15:05:19] BoostNewTrees: 2.4045s, 1000 calls @ 2404497us\n",
      "\n",
      "[15:05:19] CommitModel: 0.00019s, 1000 calls @ 190us\n",
      "\n",
      "[15:05:19] ======== Device 0 Memory Allocations:  ========\n",
      "[15:05:19] Peak memory usage: 553MiB\n",
      "[15:05:19] Number of allocations: 668515\n",
      "[15:05:19] ======== Monitor (0): updater_gpu_hist ========\n",
      "[15:05:19] InitData: 0.001246s, 1000 calls @ 1246us\n",
      "\n",
      "[15:05:19] InitDataOnce: 0.001168s, 1 calls @ 1168us\n",
      "\n",
      "[15:05:19] Update: 2.23097s, 1000 calls @ 2230966us\n",
      "\n",
      "[15:05:19] UpdatePredictionCache: 0.171005s, 1000 calls @ 171005us\n",
      "\n",
      "[15:05:19] ======== Monitor (0): gradient_based_sampler ========\n",
      "[15:05:19] Sample: 0.009233s, 1000 calls @ 9233us\n",
      "\n",
      "[15:05:19] ======== Monitor (0): GPUHistMakerDevicecuda:0 ========\n",
      "[15:05:19] AllReduce: 0.000507s, 2000 calls @ 507us\n",
      "\n",
      "[15:05:19] BuildHist: 0.013341s, 2000 calls @ 13341us\n",
      "\n",
      "[15:05:19] EvaluateSplits: 0.430843s, 2000 calls @ 430843us\n",
      "\n",
      "[15:05:19] FinalisePosition: 0.081918s, 1000 calls @ 81918us\n",
      "\n",
      "[15:05:19] InitRoot: 1.00154s, 1000 calls @ 1001544us\n",
      "\n",
      "[15:05:19] Reset: 0.43022s, 1000 calls @ 430220us\n",
      "\n",
      "[15:05:19] UpdatePosition: 0.264578s, 2000 calls @ 264578us\n",
      "\n",
      "XGB done\n",
      "LR\n",
      "DT\n",
      "RF\n"
     ]
    },
    {
     "name": "stderr",
     "output_type": "stream",
     "text": [
      "/tmp/ipykernel_211/4081454195.py:54: FutureWarning: The behavior of DataFrame concatenation with empty or all-NA entries is deprecated. In a future version, this will no longer exclude empty or all-NA columns when determining the result dtypes. To retain the old behavior, exclude the relevant entries before the concat operation.\n",
      "  models = pd.concat([models,models_temp]).reset_index(drop=True)\n"
     ]
    },
    {
     "name": "stdout",
     "output_type": "stream",
     "text": [
      "XGB\n",
      "[15:05:20] DEBUG: /workspace/src/gbm/gbtree.cc:130: Using tree method: 3\n",
      "[15:05:20] DEBUG: /workspace/src/tree/updater_gpu_hist.cu:822: [GPU Hist]: Configure\n",
      "Elapsed time: 14.06885051727295 seconds\n"
     ]
    }
   ],
   "source": [
    "train_model(8,18,'group8')"
   ]
  },
  {
   "cell_type": "code",
   "execution_count": 296,
   "id": "86d47d12-f250-40fe-9c15-34e378689a17",
   "metadata": {},
   "outputs": [
    {
     "data": {
      "image/png": "[encoded data removed]",
      "text/plain": [
       "<Figure size 584x288 with 1 Axes>"
      ]
     },
     "metadata": {
      "needs_background": "light"
     },
     "output_type": "display_data"
    }
   ],
   "source": [
    "plot_result('group8')"
   ]
  },
  {
   "cell_type": "markdown",
   "id": "f3ca1caa-9ad5-4664-91d4-84f282f3baf2",
   "metadata": {},
   "source": [
    "## group-9 12-64"
   ]
  },
  {
   "cell_type": "code",
   "execution_count": 367,
   "id": "49625332-e644-4830-a0ed-f89701f8cb5b",
   "metadata": {
    "scrolled": true
   },
   "outputs": [
    {
     "name": "stdout",
     "output_type": "stream",
     "text": [
      "(369086, 48)\n",
      "(94683, 48)\n",
      "(15431, 48)\n",
      "Total samples group9: 479200\n",
      "outcome_12months\n",
      "Building models . . . .\n",
      "{'C': 10.0, 'max_iter': 120, 'solver': 'liblinear'}\n",
      "LR done\n",
      "{'criterion': 'entropy', 'max_depth': 5, 'splitter': 'best'}\n",
      "DT done\n",
      "{'bootstrap': True, 'criterion': 'entropy', 'max_depth': 12, 'max_features': 'sqrt', 'min_samples_leaf': 20, 'min_samples_split': 6, 'n_estimators': 240}\n",
      "RF done\n",
      "{'colsample_bytree': 0.5, 'learning_rate': 0.021211820714260574, 'max_depth': 2, 'n_estimators': 1000, 'reg_alpha': 10.0, 'reg_lambda': 0.1, 'scale_pos_weight': 9.691656942823805, 'subsample': 0.5}\n",
      "[10:08:09] ======== Monitor (0): HostSketchContainer ========\n",
      "[10:08:09] AllReduce: 0.01046s, 1 calls @ 10460us\n",
      "\n",
      "[10:08:09] MakeCuts: 0.014084s, 1 calls @ 14084us\n",
      "\n",
      "[10:08:09] DEBUG: /workspace/src/gbm/gbtree.cc:130: Using tree method: 3\n",
      "[10:08:09] DEBUG: /workspace/src/tree/updater_gpu_hist.cu:822: [GPU Hist]: Configure\n",
      "[10:08:09] ======== Monitor (0):  ========\n",
      "[10:08:09] InitCompressedData: 0.004401s, 1 calls @ 4401us\n",
      "\n",
      "[10:08:13] ======== Monitor (0): Learner ========\n",
      "[10:08:13] Configure: 0.002068s, 1 calls @ 2068us\n",
      "\n",
      "[10:08:13] EvalOneIter: 0.002877s, 1000 calls @ 2877us\n",
      "\n",
      "[10:08:13] GetGradient: 0.085308s, 1000 calls @ 85308us\n",
      "\n",
      "[10:08:13] PredictRaw: 0.002005s, 1000 calls @ 2005us\n",
      "\n",
      "[10:08:13] UpdateOneIter: 4.03059s, 1000 calls @ 4030593us\n",
      "\n",
      "[10:08:13] ======== Monitor (0): GBTree ========\n",
      "[10:08:13] BoostNewTrees: 3.64058s, 1000 calls @ 3640581us\n",
      "\n",
      "[10:08:13] CommitModel: 0.000293s, 1000 calls @ 293us\n",
      "\n",
      "[10:08:13] ======== Device 0 Memory Allocations:  ========\n",
      "[10:08:13] Peak memory usage: 696MiB\n",
      "[10:08:13] Number of allocations: 875926\n",
      "[10:08:13] ======== Monitor (0): updater_gpu_hist ========\n",
      "[10:08:13] InitData: 0.001837s, 1000 calls @ 1837us\n",
      "\n",
      "[10:08:13] InitDataOnce: 0.001727s, 1 calls @ 1727us\n",
      "\n",
      "[10:08:13] Update: 3.49067s, 1000 calls @ 3490666us\n",
      "\n",
      "[10:08:13] UpdatePredictionCache: 0.143879s, 1000 calls @ 143879us\n",
      "\n",
      "[10:08:13] ======== Monitor (0): gradient_based_sampler ========\n",
      "[10:08:13] Sample: 0.027903s, 1000 calls @ 27903us\n",
      "\n",
      "[10:08:13] ======== Monitor (0): GPUHistMakerDevicecuda:0 ========\n",
      "[10:08:13] AllReduce: 0.000686s, 2000 calls @ 686us\n",
      "\n",
      "[10:08:13] BuildHist: 0.016407s, 2000 calls @ 16407us\n",
      "\n",
      "[10:08:13] EvaluateSplits: 0.464249s, 2000 calls @ 464249us\n",
      "\n",
      "[10:08:13] FinalisePosition: 0.753463s, 1000 calls @ 753463us\n",
      "\n",
      "[10:08:13] InitRoot: 1.48795s, 1000 calls @ 1487948us\n",
      "\n",
      "[10:08:13] Reset: 0.480556s, 1000 calls @ 480556us\n",
      "\n",
      "[10:08:13] UpdatePosition: 0.276448s, 2000 calls @ 276448us\n",
      "\n",
      "XGB done\n",
      "LR\n",
      "DT\n"
     ]
    },
    {
     "name": "stderr",
     "output_type": "stream",
     "text": [
      "/tmp/ipykernel_211/3466167056.py:55: FutureWarning: The behavior of DataFrame concatenation with empty or all-NA entries is deprecated. In a future version, this will no longer exclude empty or all-NA columns when determining the result dtypes. To retain the old behavior, exclude the relevant entries before the concat operation.\n",
      "  models = pd.concat([models,models_temp]).reset_index(drop=True)\n"
     ]
    },
    {
     "name": "stdout",
     "output_type": "stream",
     "text": [
      "RF\n",
      "XGB\n",
      "[10:08:16] DEBUG: /workspace/src/gbm/gbtree.cc:130: Using tree method: 3\n",
      "[10:08:16] DEBUG: /workspace/src/tree/updater_gpu_hist.cu:822: [GPU Hist]: Configure\n",
      "Elapsed time: 68.86860418319702 seconds\n"
     ]
    }
   ],
   "source": [
    "train_model(12,64,'group9')"
   ]
  },
  {
   "cell_type": "code",
   "execution_count": 368,
   "id": "146c7da5-c880-44ad-9245-9da6a917be62",
   "metadata": {},
   "outputs": [
    {
     "data": {
      "image/png": "[encoded data removed]",
      "text/plain": [
       "<Figure size 584x288 with 1 Axes>"
      ]
     },
     "metadata": {
      "needs_background": "light"
     },
     "output_type": "display_data"
    }
   ],
   "source": [
    "plot_result('group9')"
   ]
  },
  {
   "cell_type": "markdown",
   "id": "040dca06-fb51-4244-97f8-b822678ec940",
   "metadata": {},
   "source": [
    "## all result"
   ]
  },
  {
   "cell_type": "code",
   "execution_count": 286,
   "id": "a60d40a2-4122-4eae-b818-5b221b71603e",
   "metadata": {},
   "outputs": [],
   "source": [
    "data = pd.read_csv('../../MODELS/externalValResult_sensitivity_age_group1.csv')\n",
    "data['Age Group'] = '8-11'\n",
    "groups = ['12-18', '19-64', '65-80', '12-80', '19-80', 'All samples']\n",
    "i=2\n",
    "for group in groups:\n",
    "    # print(i)\n",
    "    temp = pd.read_csv('../../MODELS/externalValResult_sensitivity_age_group'+str(i)+'.csv')\n",
    "    temp['Age Group'] = group\n",
    "    data = pd.concat([data,temp])\n",
    "    i+=1\n",
    "        "
   ]
  },
  {
   "cell_type": "code",
   "execution_count": 287,
   "id": "f7afa84a-9634-4c7d-8441-f54ede520a47",
   "metadata": {
    "scrolled": true
   },
   "outputs": [
    {
     "data": {
      "text/html": [
       "<div>\n",
       "<style scoped>\n",
       "    .dataframe tbody tr th:only-of-type {\n",
       "        vertical-align: middle;\n",
       "    }\n",
       "\n",
       "    .dataframe tbody tr th {\n",
       "        vertical-align: top;\n",
       "    }\n",
       "\n",
       "    .dataframe thead th {\n",
       "        text-align: right;\n",
       "    }\n",
       "</style>\n",
       "<table border=\"1\" class=\"dataframe\">\n",
       "  <thead>\n",
       "    <tr style=\"text-align: right;\">\n",
       "      <th></th>\n",
       "      <th>model_name</th>\n",
       "      <th>fold</th>\n",
       "      <th>outcome</th>\n",
       "      <th>class_ratio</th>\n",
       "      <th>total_samples</th>\n",
       "      <th>auc</th>\n",
       "      <th>auprc</th>\n",
       "      <th>model_num</th>\n",
       "      <th>Age Group</th>\n",
       "    </tr>\n",
       "  </thead>\n",
       "  <tbody>\n",
       "    <tr>\n",
       "      <th>0</th>\n",
       "      <td>LR</td>\n",
       "      <td>NaN</td>\n",
       "      <td>outcome_12months</td>\n",
       "      <td>0.073940</td>\n",
       "      <td>33396</td>\n",
       "      <td>0.7457</td>\n",
       "      <td>0.3184</td>\n",
       "      <td>0</td>\n",
       "      <td>8-11</td>\n",
       "    </tr>\n",
       "    <tr>\n",
       "      <th>1</th>\n",
       "      <td>DT</td>\n",
       "      <td>NaN</td>\n",
       "      <td>outcome_12months</td>\n",
       "      <td>0.073940</td>\n",
       "      <td>33396</td>\n",
       "      <td>0.7470</td>\n",
       "      <td>0.3156</td>\n",
       "      <td>1</td>\n",
       "      <td>8-11</td>\n",
       "    </tr>\n",
       "    <tr>\n",
       "      <th>2</th>\n",
       "      <td>RF</td>\n",
       "      <td>NaN</td>\n",
       "      <td>outcome_12months</td>\n",
       "      <td>0.073940</td>\n",
       "      <td>33396</td>\n",
       "      <td>0.7625</td>\n",
       "      <td>0.3145</td>\n",
       "      <td>2</td>\n",
       "      <td>8-11</td>\n",
       "    </tr>\n",
       "    <tr>\n",
       "      <th>3</th>\n",
       "      <td>XGB</td>\n",
       "      <td>NaN</td>\n",
       "      <td>outcome_12months</td>\n",
       "      <td>0.073940</td>\n",
       "      <td>33396</td>\n",
       "      <td>0.7716</td>\n",
       "      <td>0.3381</td>\n",
       "      <td>3</td>\n",
       "      <td>8-11</td>\n",
       "    </tr>\n",
       "    <tr>\n",
       "      <th>0</th>\n",
       "      <td>LR</td>\n",
       "      <td>NaN</td>\n",
       "      <td>outcome_12months</td>\n",
       "      <td>0.065973</td>\n",
       "      <td>64666</td>\n",
       "      <td>0.7806</td>\n",
       "      <td>0.2886</td>\n",
       "      <td>0</td>\n",
       "      <td>12-18</td>\n",
       "    </tr>\n",
       "    <tr>\n",
       "      <th>1</th>\n",
       "      <td>DT</td>\n",
       "      <td>NaN</td>\n",
       "      <td>outcome_12months</td>\n",
       "      <td>0.065973</td>\n",
       "      <td>64666</td>\n",
       "      <td>0.7675</td>\n",
       "      <td>0.3067</td>\n",
       "      <td>1</td>\n",
       "      <td>12-18</td>\n",
       "    </tr>\n",
       "    <tr>\n",
       "      <th>2</th>\n",
       "      <td>RF</td>\n",
       "      <td>NaN</td>\n",
       "      <td>outcome_12months</td>\n",
       "      <td>0.065973</td>\n",
       "      <td>64666</td>\n",
       "      <td>0.7996</td>\n",
       "      <td>0.2953</td>\n",
       "      <td>2</td>\n",
       "      <td>12-18</td>\n",
       "    </tr>\n",
       "    <tr>\n",
       "      <th>3</th>\n",
       "      <td>XGB</td>\n",
       "      <td>NaN</td>\n",
       "      <td>outcome_12months</td>\n",
       "      <td>0.065973</td>\n",
       "      <td>64666</td>\n",
       "      <td>0.8042</td>\n",
       "      <td>0.3664</td>\n",
       "      <td>3</td>\n",
       "      <td>12-18</td>\n",
       "    </tr>\n",
       "    <tr>\n",
       "      <th>0</th>\n",
       "      <td>LR</td>\n",
       "      <td>NaN</td>\n",
       "      <td>outcome_12months</td>\n",
       "      <td>0.130689</td>\n",
       "      <td>414534</td>\n",
       "      <td>0.7444</td>\n",
       "      <td>0.3929</td>\n",
       "      <td>0</td>\n",
       "      <td>19-64</td>\n",
       "    </tr>\n",
       "    <tr>\n",
       "      <th>1</th>\n",
       "      <td>DT</td>\n",
       "      <td>NaN</td>\n",
       "      <td>outcome_12months</td>\n",
       "      <td>0.130689</td>\n",
       "      <td>414534</td>\n",
       "      <td>0.7565</td>\n",
       "      <td>0.3955</td>\n",
       "      <td>1</td>\n",
       "      <td>19-64</td>\n",
       "    </tr>\n",
       "    <tr>\n",
       "      <th>2</th>\n",
       "      <td>RF</td>\n",
       "      <td>NaN</td>\n",
       "      <td>outcome_12months</td>\n",
       "      <td>0.130689</td>\n",
       "      <td>414534</td>\n",
       "      <td>0.7736</td>\n",
       "      <td>0.4298</td>\n",
       "      <td>2</td>\n",
       "      <td>19-64</td>\n",
       "    </tr>\n",
       "    <tr>\n",
       "      <th>3</th>\n",
       "      <td>XGB</td>\n",
       "      <td>NaN</td>\n",
       "      <td>outcome_12months</td>\n",
       "      <td>0.130689</td>\n",
       "      <td>414534</td>\n",
       "      <td>0.7763</td>\n",
       "      <td>0.4397</td>\n",
       "      <td>3</td>\n",
       "      <td>19-64</td>\n",
       "    </tr>\n",
       "    <tr>\n",
       "      <th>0</th>\n",
       "      <td>LR</td>\n",
       "      <td>NaN</td>\n",
       "      <td>outcome_12months</td>\n",
       "      <td>0.192750</td>\n",
       "      <td>103166</td>\n",
       "      <td>0.7540</td>\n",
       "      <td>0.4812</td>\n",
       "      <td>0</td>\n",
       "      <td>65-80</td>\n",
       "    </tr>\n",
       "    <tr>\n",
       "      <th>1</th>\n",
       "      <td>DT</td>\n",
       "      <td>NaN</td>\n",
       "      <td>outcome_12months</td>\n",
       "      <td>0.192750</td>\n",
       "      <td>103166</td>\n",
       "      <td>0.7683</td>\n",
       "      <td>0.4960</td>\n",
       "      <td>1</td>\n",
       "      <td>65-80</td>\n",
       "    </tr>\n",
       "    <tr>\n",
       "      <th>2</th>\n",
       "      <td>RF</td>\n",
       "      <td>NaN</td>\n",
       "      <td>outcome_12months</td>\n",
       "      <td>0.192750</td>\n",
       "      <td>103166</td>\n",
       "      <td>0.7835</td>\n",
       "      <td>0.5176</td>\n",
       "      <td>2</td>\n",
       "      <td>65-80</td>\n",
       "    </tr>\n",
       "    <tr>\n",
       "      <th>3</th>\n",
       "      <td>XGB</td>\n",
       "      <td>NaN</td>\n",
       "      <td>outcome_12months</td>\n",
       "      <td>0.192750</td>\n",
       "      <td>103166</td>\n",
       "      <td>0.7930</td>\n",
       "      <td>0.5366</td>\n",
       "      <td>3</td>\n",
       "      <td>65-80</td>\n",
       "    </tr>\n",
       "    <tr>\n",
       "      <th>0</th>\n",
       "      <td>LR</td>\n",
       "      <td>NaN</td>\n",
       "      <td>outcome_12months</td>\n",
       "      <td>0.133442</td>\n",
       "      <td>582366</td>\n",
       "      <td>0.7536</td>\n",
       "      <td>0.4100</td>\n",
       "      <td>0</td>\n",
       "      <td>12-80</td>\n",
       "    </tr>\n",
       "    <tr>\n",
       "      <th>1</th>\n",
       "      <td>DT</td>\n",
       "      <td>NaN</td>\n",
       "      <td>outcome_12months</td>\n",
       "      <td>0.133442</td>\n",
       "      <td>582366</td>\n",
       "      <td>0.7683</td>\n",
       "      <td>0.4205</td>\n",
       "      <td>1</td>\n",
       "      <td>12-80</td>\n",
       "    </tr>\n",
       "    <tr>\n",
       "      <th>2</th>\n",
       "      <td>RF</td>\n",
       "      <td>NaN</td>\n",
       "      <td>outcome_12months</td>\n",
       "      <td>0.133442</td>\n",
       "      <td>582366</td>\n",
       "      <td>0.7841</td>\n",
       "      <td>0.4481</td>\n",
       "      <td>2</td>\n",
       "      <td>12-80</td>\n",
       "    </tr>\n",
       "    <tr>\n",
       "      <th>3</th>\n",
       "      <td>XGB</td>\n",
       "      <td>NaN</td>\n",
       "      <td>outcome_12months</td>\n",
       "      <td>0.133442</td>\n",
       "      <td>582366</td>\n",
       "      <td>0.7883</td>\n",
       "      <td>0.4606</td>\n",
       "      <td>3</td>\n",
       "      <td>12-80</td>\n",
       "    </tr>\n",
       "    <tr>\n",
       "      <th>0</th>\n",
       "      <td>LR</td>\n",
       "      <td>NaN</td>\n",
       "      <td>outcome_12months</td>\n",
       "      <td>0.142517</td>\n",
       "      <td>517700</td>\n",
       "      <td>0.7464</td>\n",
       "      <td>0.4162</td>\n",
       "      <td>0</td>\n",
       "      <td>19-80</td>\n",
       "    </tr>\n",
       "    <tr>\n",
       "      <th>1</th>\n",
       "      <td>DT</td>\n",
       "      <td>NaN</td>\n",
       "      <td>outcome_12months</td>\n",
       "      <td>0.142517</td>\n",
       "      <td>517700</td>\n",
       "      <td>0.7575</td>\n",
       "      <td>0.4245</td>\n",
       "      <td>1</td>\n",
       "      <td>19-80</td>\n",
       "    </tr>\n",
       "    <tr>\n",
       "      <th>2</th>\n",
       "      <td>RF</td>\n",
       "      <td>NaN</td>\n",
       "      <td>outcome_12months</td>\n",
       "      <td>0.142517</td>\n",
       "      <td>517700</td>\n",
       "      <td>0.7775</td>\n",
       "      <td>0.4544</td>\n",
       "      <td>2</td>\n",
       "      <td>19-80</td>\n",
       "    </tr>\n",
       "    <tr>\n",
       "      <th>3</th>\n",
       "      <td>XGB</td>\n",
       "      <td>NaN</td>\n",
       "      <td>outcome_12months</td>\n",
       "      <td>0.142517</td>\n",
       "      <td>517700</td>\n",
       "      <td>0.7823</td>\n",
       "      <td>0.4662</td>\n",
       "      <td>3</td>\n",
       "      <td>19-80</td>\n",
       "    </tr>\n",
       "    <tr>\n",
       "      <th>0</th>\n",
       "      <td>LR</td>\n",
       "      <td>NaN</td>\n",
       "      <td>outcome_12months</td>\n",
       "      <td>0.130031</td>\n",
       "      <td>615762</td>\n",
       "      <td>0.7539</td>\n",
       "      <td>0.4063</td>\n",
       "      <td>0</td>\n",
       "      <td>All samples</td>\n",
       "    </tr>\n",
       "    <tr>\n",
       "      <th>1</th>\n",
       "      <td>DT</td>\n",
       "      <td>NaN</td>\n",
       "      <td>outcome_12months</td>\n",
       "      <td>0.130031</td>\n",
       "      <td>615762</td>\n",
       "      <td>0.7690</td>\n",
       "      <td>0.4176</td>\n",
       "      <td>1</td>\n",
       "      <td>All samples</td>\n",
       "    </tr>\n",
       "    <tr>\n",
       "      <th>2</th>\n",
       "      <td>RF</td>\n",
       "      <td>NaN</td>\n",
       "      <td>outcome_12months</td>\n",
       "      <td>0.130031</td>\n",
       "      <td>615762</td>\n",
       "      <td>0.7844</td>\n",
       "      <td>0.4443</td>\n",
       "      <td>2</td>\n",
       "      <td>All samples</td>\n",
       "    </tr>\n",
       "    <tr>\n",
       "      <th>3</th>\n",
       "      <td>XGB</td>\n",
       "      <td>NaN</td>\n",
       "      <td>outcome_12months</td>\n",
       "      <td>0.130031</td>\n",
       "      <td>615762</td>\n",
       "      <td>0.7885</td>\n",
       "      <td>0.4559</td>\n",
       "      <td>3</td>\n",
       "      <td>All samples</td>\n",
       "    </tr>\n",
       "  </tbody>\n",
       "</table>\n",
       "</div>"
      ],
      "text/plain": [
       "  model_name  fold           outcome  class_ratio  total_samples     auc  \\\n",
       "0         LR   NaN  outcome_12months     0.073940          33396  0.7457   \n",
       "1         DT   NaN  outcome_12months     0.073940          33396  0.7470   \n",
       "2         RF   NaN  outcome_12months     0.073940          33396  0.7625   \n",
       "3        XGB   NaN  outcome_12months     0.073940          33396  0.7716   \n",
       "0         LR   NaN  outcome_12months     0.065973          64666  0.7806   \n",
       "1         DT   NaN  outcome_12months     0.065973          64666  0.7675   \n",
       "2         RF   NaN  outcome_12months     0.065973          64666  0.7996   \n",
       "3        XGB   NaN  outcome_12months     0.065973          64666  0.8042   \n",
       "0         LR   NaN  outcome_12months     0.130689         414534  0.7444   \n",
       "1         DT   NaN  outcome_12months     0.130689         414534  0.7565   \n",
       "2         RF   NaN  outcome_12months     0.130689         414534  0.7736   \n",
       "3        XGB   NaN  outcome_12months     0.130689         414534  0.7763   \n",
       "0         LR   NaN  outcome_12months     0.192750         103166  0.7540   \n",
       "1         DT   NaN  outcome_12months     0.192750         103166  0.7683   \n",
       "2         RF   NaN  outcome_12months     0.192750         103166  0.7835   \n",
       "3        XGB   NaN  outcome_12months     0.192750         103166  0.7930   \n",
       "0         LR   NaN  outcome_12months     0.133442         582366  0.7536   \n",
       "1         DT   NaN  outcome_12months     0.133442         582366  0.7683   \n",
       "2         RF   NaN  outcome_12months     0.133442         582366  0.7841   \n",
       "3        XGB   NaN  outcome_12months     0.133442         582366  0.7883   \n",
       "0         LR   NaN  outcome_12months     0.142517         517700  0.7464   \n",
       "1         DT   NaN  outcome_12months     0.142517         517700  0.7575   \n",
       "2         RF   NaN  outcome_12months     0.142517         517700  0.7775   \n",
       "3        XGB   NaN  outcome_12months     0.142517         517700  0.7823   \n",
       "0         LR   NaN  outcome_12months     0.130031         615762  0.7539   \n",
       "1         DT   NaN  outcome_12months     0.130031         615762  0.7690   \n",
       "2         RF   NaN  outcome_12months     0.130031         615762  0.7844   \n",
       "3        XGB   NaN  outcome_12months     0.130031         615762  0.7885   \n",
       "\n",
       "    auprc  model_num    Age Group  \n",
       "0  0.3184          0         8-11  \n",
       "1  0.3156          1         8-11  \n",
       "2  0.3145          2         8-11  \n",
       "3  0.3381          3         8-11  \n",
       "0  0.2886          0        12-18  \n",
       "1  0.3067          1        12-18  \n",
       "2  0.2953          2        12-18  \n",
       "3  0.3664          3        12-18  \n",
       "0  0.3929          0        19-64  \n",
       "1  0.3955          1        19-64  \n",
       "2  0.4298          2        19-64  \n",
       "3  0.4397          3        19-64  \n",
       "0  0.4812          0        65-80  \n",
       "1  0.4960          1        65-80  \n",
       "2  0.5176          2        65-80  \n",
       "3  0.5366          3        65-80  \n",
       "0  0.4100          0        12-80  \n",
       "1  0.4205          1        12-80  \n",
       "2  0.4481          2        12-80  \n",
       "3  0.4606          3        12-80  \n",
       "0  0.4162          0        19-80  \n",
       "1  0.4245          1        19-80  \n",
       "2  0.4544          2        19-80  \n",
       "3  0.4662          3        19-80  \n",
       "0  0.4063          0  All samples  \n",
       "1  0.4176          1  All samples  \n",
       "2  0.4443          2  All samples  \n",
       "3  0.4559          3  All samples  "
      ]
     },
     "execution_count": 287,
     "metadata": {},
     "output_type": "execute_result"
    }
   ],
   "source": [
    "data"
   ]
  },
  {
   "cell_type": "code",
   "execution_count": 305,
   "id": "3393e0f5-ea8a-4524-9028-06cf47c515ef",
   "metadata": {
    "scrolled": true
   },
   "outputs": [
    {
     "data": {
      "text/plain": [
       "(0.5, 0.83)"
      ]
     },
     "execution_count": 305,
     "metadata": {},
     "output_type": "execute_result"
    },
    {
     "data": {
      "image/png": "[encoded data removed]",
      "text/plain": [
       "<Figure size 728x720 with 4 Axes>"
      ]
     },
     "metadata": {
      "needs_background": "light"
     },
     "output_type": "display_data"
    }
   ],
   "source": [
    "data['Method'] = data['model_name']\n",
    "data['AUC'] = data['auc']\n",
    "data.replace('outcome_12months', '12 months prediction', inplace=True)\n",
    "\n",
    "\n",
    "bar = sns.catplot(x = 'Age Group',       # x variable name\n",
    "            y = 'AUC',       # y variable name            \n",
    "            data=data[(data['Age Group']!='19-80') & (data['Age Group']!='12-80')],\n",
    "            kind = \"bar\",\n",
    "            # hue = 'Age Group',\n",
    "            # hue_order=['10-fold CV', 'Evaluation Set', 'Wales', 'Scotland'],\n",
    "            height=5,\n",
    "            col='Method',\n",
    "              # col='model_name',\n",
    "            aspect=1,\n",
    "                  col_wrap=2,\n",
    "            errorbar = None,margin_titles=False, sharex=True,)\n",
    "\n",
    "for ax in bar.axes:\n",
    "    # for ax in items:\n",
    "        for p in ax.patches:\n",
    "            ax.text(p.get_x() + 0.01, \n",
    "                p.get_height() * 1.01, \n",
    "                '{0:.3f}'.format(p.get_height()), \n",
    "                color='black', rotation=0, fontsize=12)\n",
    "\n",
    "bar.fig.tight_layout(pad=3.0)\n",
    "ax.set_ylim(0.5, .83)"
   ]
  },
  {
   "cell_type": "code",
   "execution_count": null,
   "id": "4b0dec64-4576-4d6a-835b-3ad14b0a4f9e",
   "metadata": {},
   "outputs": [],
   "source": []
  },
  {
   "cell_type": "code",
   "execution_count": null,
   "id": "0afe5cc6-e4ee-48ef-9e88-ae8ec49a7191",
   "metadata": {},
   "outputs": [],
   "source": []
  },
  {
   "cell_type": "markdown",
   "id": "bcb54802-affa-4f69-ad2a-b193e0a1b58a",
   "metadata": {},
   "source": [
    "# BTS subgroups\n",
    "\n",
    "group1: step 0 <br>\n",
    "group2: step 1-3 <br>\n",
    "group3: step 4-5 <br>\n",
    "group3: step 1-5 <br>"
   ]
  },
  {
   "cell_type": "code",
   "execution_count": 347,
   "id": "98e547d6-8a59-4990-8261-730a9db888d8",
   "metadata": {},
   "outputs": [
    {
     "data": {
      "text/plain": [
       "BTS_step\n",
       "0.0    19206\n",
       "0.2     3826\n",
       "0.6     3620\n",
       "1.0     1837\n",
       "0.4      695\n",
       "0.8      611\n",
       "Name: count, dtype: int64"
      ]
     },
     "execution_count": 347,
     "metadata": {},
     "output_type": "execute_result"
    }
   ],
   "source": [
    "gridSearchData.BTS_step.value_counts()"
   ]
  },
  {
   "cell_type": "code",
   "execution_count": 321,
   "id": "5709aee6-1106-4f9d-9eeb-fa898ccc5725",
   "metadata": {},
   "outputs": [],
   "source": [
    "gridSearchData_ref, crossValData_ref, internalEvaluationData_ref, externalEvaluationData_ref = pickle.load(open('../../Clean_data/dataset_onehotencoded_ordinalencoded.sav', 'rb'))\n",
    "#outcomes\n",
    "target_outcomes = [\n",
    "    'outcome_12months' \n",
    "] \n",
    "\n",
    "#params\n",
    "params_dict = pd.read_csv('../../MODELS/BS_result_new.csv')\n",
    "def process_params(param_items, best_param):\n",
    "    a = eval(param_items)\n",
    "    b = eval(best_param)\n",
    "    c = {}\n",
    "    for key, value in zip(a,b):\n",
    "        c[key] = value\n",
    "    return c\n",
    "\n",
    "params_dict['params'] = params_dict.apply(lambda x: dict(eval(x.best_param[11:])), axis=1)\n"
   ]
  },
  {
   "cell_type": "code",
   "execution_count": 325,
   "id": "812b791b-1ea0-4373-b46a-369ee7ea5f5d",
   "metadata": {},
   "outputs": [],
   "source": [
    "#function to train model\n",
    "\n",
    "def train_model(min_step, max_step, group):\n",
    "    #prepare data\n",
    "    X_gridSearch = gridSearchData[(gridSearchData_ref['BTS_step'] >= min_step) & (gridSearchData_ref['BTS_step'] <= max_step)]\n",
    "    X_gridSearch.reset_index(inplace=True, drop=True)\n",
    "    \n",
    "    X_crossVal = crossValData[(crossValData_ref['BTS_step'] >= min_step) & (crossValData_ref['BTS_step'] <= max_step)]\n",
    "    X_crossVal.reset_index(inplace=True, drop=True)\n",
    "    \n",
    "    X = pd.concat([X_gridSearch, X_crossVal])\n",
    "    X.reset_index(inplace=True, drop=True)\n",
    "    X = X[features_columns]\n",
    "    \n",
    "    \n",
    "    X_externalVal = externalEvaluationData[(externalEvaluationData_ref['BTS_step'] >= min_step) & (externalEvaluationData_ref['BTS_step'] <= max_step)]\n",
    "    X_externalVal.reset_index(inplace=True, drop=True)\n",
    "    X_externalVal = X_externalVal[features_columns]\n",
    "    \n",
    "    X_internalVal = internalEvaluationData[(internalEvaluationData_ref['BTS_step'] >= min_step) & (internalEvaluationData_ref['BTS_step'] <= max_step)]\n",
    "    X_internalVal.reset_index(inplace=True, drop=True)\n",
    "    X_internalVal = X_internalVal[features_columns]\n",
    "    \n",
    "    print(X.shape)\n",
    "    print(X_internalVal.shape)\n",
    "    print(X_externalVal.shape)\n",
    "    total_samples = X_gridSearch.shape[0]+X_crossVal.shape[0]+X_internalVal.shape[0]+X_externalVal.shape[0]\n",
    "    print(f'Total samples {group}: {total_samples}')\n",
    "\n",
    "    \n",
    "    #EXECUTE model training\n",
    "    summary_result_internalVal = []\n",
    "    summary_result_externalVal = []\n",
    "    \n",
    "    cols = ['model_name', 'fold', 'outcome', 'class_ratio', 'total_samples', 'auc', 'auprc']\n",
    "    model_folder = '../../MODELS/TestResultSensitivity/BTS/'+group+'/'\n",
    "    \n",
    "    start_time = time.time()\n",
    "    for target_outcome in target_outcomes:\n",
    "        models = pd.DataFrame(columns=['modelname', 'target_outcome', 'class_ratio'])\n",
    "        print(target_outcome)\n",
    "        y_gridSearch = gridSearchData[(gridSearchData_ref['BTS_step'] >= min_step) & (gridSearchData_ref['BTS_step'] <= max_step)][target_outcome]\n",
    "        y_crossVal = crossValData[(crossValData_ref['BTS_step'] >= min_step) & (crossValData_ref['BTS_step'] <= max_step)][target_outcome]\n",
    "        y = pd.concat([y_gridSearch , y_crossVal])\n",
    "        y.reset_index(drop=True, inplace=True)\n",
    "        y_internalVal = internalEvaluationData[(internalEvaluationData_ref['BTS_step'] >= min_step) & (internalEvaluationData_ref['BTS_step'] <= max_step)][target_outcome]\n",
    "        y_internalVal.reset_index(drop=True, inplace=True)\n",
    "        y_externalVal = externalEvaluationData[(externalEvaluationData_ref['BTS_step'] >= min_step) & (externalEvaluationData_ref['BTS_step'] <= max_step)][target_outcome]\n",
    "        y_externalVal.reset_index(drop=True, inplace=True)\n",
    "        fold = '' #no fold for the FINAL MODEL - trained on crossval and gridsearch sets\n",
    "        \n",
    "        \n",
    "        #Build models -> it can be commented if the models have been trained\n",
    "        models_temp = pd.DataFrame(build_models(X, y, target_outcome, params_dict, model_folder, fold), columns=['modelname', 'target_outcome', 'class_ratio'])\n",
    "        models = pd.concat([models,models_temp]).reset_index(drop=True)\n",
    "    \n",
    "    \n",
    "        #evaluate model\n",
    "        for modelname, target_outcome, classratio in models.values:\n",
    "            # print('======================================================================')\n",
    "            print(modelname)\n",
    "            model = pickle.load(open(model_folder + target_outcome + '_'+ modelname + '.sav', 'rb'))       \n",
    "            summary_result_internalVal.append((modelname, fold, target_outcome, classratio, total_samples,) + summariseResult (X_internalVal, y_internalVal, model) )       \n",
    "            summary_result_externalVal.append((modelname, fold, target_outcome, classratio, total_samples,) + summariseResult (X_externalVal, y_externalVal, model) )       \n",
    "            # torch.cuda.empty_cache()\n",
    "    \n",
    "    \n",
    "    summary_result_internalVal = pd.DataFrame(summary_result_internalVal, columns=cols)\n",
    "    summary_result_internalVal['model_num'] = summary_result_internalVal.index\n",
    "    summary_result_internalVal.to_csv('../../MODELS/internalValResult_sensitivity_bts_'+group+'.csv', index_label=False, index=False)\n",
    "    \n",
    "    summary_result_externalVal = pd.DataFrame(summary_result_externalVal, columns=cols)\n",
    "    summary_result_externalVal['model_num'] = summary_result_externalVal.index\n",
    "    summary_result_externalVal.to_csv('../../MODELS/externalValResult_sensitivity_bts_'+group+'.csv', index_label=False, index=False)\n",
    "    \n",
    "    # Calculate and print the elapsed time\n",
    "    end_time = time.time()\n",
    "    elapsed_time = end_time - start_time\n",
    "    print(f\"Elapsed time: {elapsed_time} seconds\")"
   ]
  },
  {
   "cell_type": "code",
   "execution_count": 395,
   "id": "0d5ca4f6-a315-4c4c-a3d7-46c534fc90ac",
   "metadata": {},
   "outputs": [],
   "source": [
    "def plot_result (group):\n",
    "    data = pd.read_csv('../../MODELS/externalValResult_sensitivity_'+group+'.csv')\n",
    "    data['Method'] = data['model_name']\n",
    "    data['AUC'] = data['auc']\n",
    "    data.replace('outcome_12months', '12 months prediction', inplace=True)\n",
    "    #PLOT\n",
    "    # data = combine\n",
    "    # data = combine[(combine.outcome=='outcome_12months')]\n",
    "    # data = summary_result_externalVal\n",
    "    bar = sns.catplot(x = 'Method',       # x variable name\n",
    "                y = 'AUC',       # y variable name            \n",
    "                data=data,\n",
    "                kind = \"bar\",\n",
    "                # hue = 'outcome',\n",
    "                # hue_order=['10-fold CV', 'Evaluation Set', 'Wales', 'Scotland'],\n",
    "                height=4,\n",
    "                col='outcome',\n",
    "                  # col='model_name',\n",
    "                aspect=1,\n",
    "                      col_wrap=2,\n",
    "                errorbar = None, sharex=False)\n",
    "    \n",
    "    for ax in bar.axes:\n",
    "        # for ax in items:\n",
    "            for p in ax.patches:\n",
    "                ax.text(p.get_x() + 0.01, \n",
    "                    p.get_height() * 1.01, \n",
    "                    '{0:.3f}'.format(p.get_height()), \n",
    "                    color='black', rotation=0, fontsize=11)\n",
    "    \n",
    "    ax.set_ylim(0.5, .83)\n",
    "    # ax.set_ylabel('AUC Score', fontsize=13)\n",
    "    # ax.set_xlabel('Method', fontsize=10)\n",
    "    # ax.set_xticklabels(fontsize=20)"
   ]
  },
  {
   "cell_type": "markdown",
   "id": "da7ee228-417d-48f4-aa85-22e76ac18cd6",
   "metadata": {},
   "source": [
    "## group1 - step0"
   ]
  },
  {
   "cell_type": "code",
   "execution_count": 327,
   "id": "6a344374-bda8-4d25-ac44-2dc6ca26e045",
   "metadata": {
    "scrolled": true
   },
   "outputs": [
    {
     "name": "stdout",
     "output_type": "stream",
     "text": [
      "(305742, 48)\n",
      "(78683, 48)\n",
      "(11565, 48)\n",
      "Total samples group1: 395990\n",
      "outcome_12months\n",
      "Building models . . . .\n",
      "{'C': 10.0, 'max_iter': 120, 'solver': 'liblinear'}\n",
      "LR done\n",
      "{'criterion': 'entropy', 'max_depth': 5, 'splitter': 'best'}\n",
      "DT done\n",
      "{'bootstrap': True, 'criterion': 'entropy', 'max_depth': 12, 'max_features': 'sqrt', 'min_samples_leaf': 20, 'min_samples_split': 6, 'n_estimators': 240}\n",
      "RF done\n",
      "{'colsample_bytree': 0.5, 'learning_rate': 0.021211820714260574, 'max_depth': 2, 'n_estimators': 1000, 'reg_alpha': 10.0, 'reg_lambda': 0.1, 'scale_pos_weight': 9.691656942823805, 'subsample': 0.5}\n",
      "[15:35:53] ======== Monitor (0): HostSketchContainer ========\n",
      "[15:35:53] AllReduce: 0.008996s, 1 calls @ 8996us\n",
      "\n",
      "[15:35:53] MakeCuts: 0.014436s, 1 calls @ 14436us\n",
      "\n",
      "[15:35:53] DEBUG: /workspace/src/gbm/gbtree.cc:130: Using tree method: 3\n",
      "[15:35:53] DEBUG: /workspace/src/tree/updater_gpu_hist.cu:822: [GPU Hist]: Configure\n",
      "[15:35:53] ======== Monitor (0):  ========\n",
      "[15:35:53] InitCompressedData: 0.002453s, 1 calls @ 2453us\n",
      "\n",
      "[15:35:57] ======== Monitor (0): Learner ========\n",
      "[15:35:57] Configure: 0.003232s, 1 calls @ 3232us\n",
      "\n",
      "[15:35:57] EvalOneIter: 0.002772s, 1000 calls @ 2772us\n",
      "\n",
      "[15:35:57] GetGradient: 0.083189s, 1000 calls @ 83189us\n",
      "\n",
      "[15:35:57] PredictRaw: 0.000748s, 1000 calls @ 748us\n",
      "\n",
      "[15:35:57] UpdateOneIter: 3.88833s, 1000 calls @ 3888331us\n",
      "\n",
      "[15:35:57] ======== Monitor (0): GBTree ========\n",
      "[15:35:57] BoostNewTrees: 3.50939s, 1000 calls @ 3509391us\n",
      "\n",
      "[15:35:57] CommitModel: 0.000278s, 1000 calls @ 278us\n",
      "\n",
      "[15:35:57] ======== Device 0 Memory Allocations:  ========\n",
      "[15:35:57] Peak memory usage: 626MiB\n",
      "[15:35:57] Number of allocations: 760683\n",
      "[15:35:57] ======== Monitor (0): updater_gpu_hist ========\n",
      "[15:35:57] InitData: 0.001924s, 1000 calls @ 1924us\n",
      "\n",
      "[15:35:57] InitDataOnce: 0.00181s, 1 calls @ 1810us\n",
      "\n",
      "[15:35:57] Update: 3.35416s, 1000 calls @ 3354162us\n",
      "\n",
      "[15:35:57] UpdatePredictionCache: 0.150231s, 1000 calls @ 150231us\n",
      "\n",
      "[15:35:57] ======== Monitor (0): gradient_based_sampler ========\n",
      "[15:35:57] Sample: 0.017675s, 1000 calls @ 17675us\n",
      "\n",
      "[15:35:57] ======== Monitor (0): GPUHistMakerDevicecuda:0 ========\n",
      "[15:35:57] AllReduce: 0.000645s, 2000 calls @ 645us\n",
      "\n",
      "[15:35:57] BuildHist: 0.01572s, 2000 calls @ 15720us\n",
      "\n",
      "[15:35:57] EvaluateSplits: 0.455718s, 2000 calls @ 455718us\n",
      "\n",
      "[15:35:57] FinalisePosition: 0.693798s, 1000 calls @ 693798us\n",
      "\n",
      "[15:35:57] InitRoot: 1.4392s, 1000 calls @ 1439198us\n",
      "\n",
      "[15:35:57] Reset: 0.46138s, 1000 calls @ 461380us\n",
      "\n",
      "[15:35:57] UpdatePosition: 0.27794s, 2000 calls @ 277940us\n",
      "\n",
      "XGB done\n",
      "LR\n",
      "DT\n"
     ]
    },
    {
     "name": "stderr",
     "output_type": "stream",
     "text": [
      "/tmp/ipykernel_211/136673623.py:55: FutureWarning: The behavior of DataFrame concatenation with empty or all-NA entries is deprecated. In a future version, this will no longer exclude empty or all-NA columns when determining the result dtypes. To retain the old behavior, exclude the relevant entries before the concat operation.\n",
      "  models = pd.concat([models,models_temp]).reset_index(drop=True)\n"
     ]
    },
    {
     "name": "stdout",
     "output_type": "stream",
     "text": [
      "RF\n",
      "XGB\n",
      "[15:36:00] DEBUG: /workspace/src/gbm/gbtree.cc:130: Using tree method: 3\n",
      "[15:36:00] DEBUG: /workspace/src/tree/updater_gpu_hist.cu:822: [GPU Hist]: Configure\n",
      "Elapsed time: 55.30385684967041 seconds\n"
     ]
    }
   ],
   "source": [
    "train_model(0,0,'group1')"
   ]
  },
  {
   "cell_type": "code",
   "execution_count": 372,
   "id": "016a895c-a2c3-4ac9-894f-a3d453412844",
   "metadata": {},
   "outputs": [
    {
     "data": {
      "text/plain": [
       "outcome_12months\n",
       "0    0.918366\n",
       "1    0.081634\n",
       "Name: proportion, dtype: float64"
      ]
     },
     "execution_count": 372,
     "metadata": {},
     "output_type": "execute_result"
    }
   ],
   "source": [
    "allData = crossValData[crossValData.BTS_step==0]['outcome_12months'].value_counts(normalize=True)"
   ]
  },
  {
   "cell_type": "code",
   "execution_count": 373,
   "id": "16009e58-15b7-4679-bd31-e577f48fe0ed",
   "metadata": {},
   "outputs": [
    {
     "data": {
      "text/plain": [
       "outcome_12months\n",
       "0    0.82424\n",
       "1    0.17576\n",
       "Name: proportion, dtype: float64"
      ]
     },
     "execution_count": 373,
     "metadata": {},
     "output_type": "execute_result"
    }
   ],
   "source": [
    "crossValData[crossValData.BTS_step!=0]['outcome_12months'].value_counts(normalize=True)"
   ]
  },
  {
   "cell_type": "code",
   "execution_count": null,
   "id": "7f8b1188-64f6-4fec-ba16-5c374dba1382",
   "metadata": {},
   "outputs": [],
   "source": []
  },
  {
   "cell_type": "code",
   "execution_count": 328,
   "id": "b750a5e0-2190-4097-b986-0e0b3021d7b7",
   "metadata": {},
   "outputs": [
    {
     "data": {
      "image/png": "[encoded data removed]",
      "text/plain": [
       "<Figure size 584x288 with 1 Axes>"
      ]
     },
     "metadata": {
      "needs_background": "light"
     },
     "output_type": "display_data"
    }
   ],
   "source": [
    "plot_result('bts_group1')"
   ]
  },
  {
   "cell_type": "code",
   "execution_count": null,
   "id": "ab7d836d-417f-46ed-a2c7-282e040b2d45",
   "metadata": {},
   "outputs": [],
   "source": []
  },
  {
   "cell_type": "code",
   "execution_count": null,
   "id": "82052007-9c6a-4058-a9a4-7001688f0bd4",
   "metadata": {},
   "outputs": [],
   "source": []
  },
  {
   "cell_type": "markdown",
   "id": "0600eaf6-bca9-4a43-bcc6-686ee6a554ea",
   "metadata": {},
   "source": [
    "## group2 - step1-3"
   ]
  },
  {
   "cell_type": "code",
   "execution_count": 329,
   "id": "64a8d7dd-c5dc-4ad0-b3d1-cf5d0c5b498f",
   "metadata": {
    "scrolled": true
   },
   "outputs": [
    {
     "name": "stdout",
     "output_type": "stream",
     "text": [
      "(129324, 48)\n",
      "(32967, 48)\n",
      "(6308, 48)\n",
      "Total samples group2: 168599\n",
      "outcome_12months\n",
      "Building models . . . .\n",
      "{'C': 10.0, 'max_iter': 120, 'solver': 'liblinear'}\n",
      "LR done\n",
      "{'criterion': 'entropy', 'max_depth': 5, 'splitter': 'best'}\n",
      "DT done\n",
      "{'bootstrap': True, 'criterion': 'entropy', 'max_depth': 12, 'max_features': 'sqrt', 'min_samples_leaf': 20, 'min_samples_split': 6, 'n_estimators': 240}\n",
      "RF done\n",
      "{'colsample_bytree': 0.5, 'learning_rate': 0.021211820714260574, 'max_depth': 2, 'n_estimators': 1000, 'reg_alpha': 10.0, 'reg_lambda': 0.1, 'scale_pos_weight': 9.691656942823805, 'subsample': 0.5}\n",
      "[15:36:19] ======== Monitor (0): HostSketchContainer ========\n",
      "[15:36:19] AllReduce: 0.007924s, 1 calls @ 7924us\n",
      "\n",
      "[15:36:19] MakeCuts: 0.011439s, 1 calls @ 11439us\n",
      "\n",
      "[15:36:19] DEBUG: /workspace/src/gbm/gbtree.cc:130: Using tree method: 3\n",
      "[15:36:19] DEBUG: /workspace/src/tree/updater_gpu_hist.cu:822: [GPU Hist]: Configure\n",
      "[15:36:19] ======== Monitor (0):  ========\n",
      "[15:36:19] InitCompressedData: 0.001334s, 1 calls @ 1334us\n",
      "\n",
      "[15:36:22] ======== Monitor (0): Learner ========\n",
      "[15:36:22] Configure: 0.001738s, 1 calls @ 1738us\n",
      "\n",
      "[15:36:22] EvalOneIter: 0.001656s, 1000 calls @ 1656us\n",
      "\n",
      "[15:36:22] GetGradient: 0.070719s, 1000 calls @ 70719us\n",
      "\n",
      "[15:36:22] PredictRaw: 0.000527s, 1000 calls @ 527us\n",
      "\n",
      "[15:36:22] UpdateOneIter: 2.55986s, 1000 calls @ 2559864us\n",
      "\n",
      "[15:36:22] ======== Monitor (0): GBTree ========\n",
      "[15:36:22] BoostNewTrees: 2.4783s, 1000 calls @ 2478300us\n",
      "\n",
      "[15:36:22] CommitModel: 0.000185s, 1000 calls @ 185us\n",
      "\n",
      "[15:36:22] ======== Device 0 Memory Allocations:  ========\n",
      "[15:36:22] Peak memory usage: 626MiB\n",
      "[15:36:22] Number of allocations: 783736\n",
      "[15:36:22] ======== Monitor (0): updater_gpu_hist ========\n",
      "[15:36:22] InitData: 0.00146s, 1000 calls @ 1460us\n",
      "\n",
      "[15:36:22] InitDataOnce: 0.001384s, 1 calls @ 1384us\n",
      "\n",
      "[15:36:22] Update: 2.32239s, 1000 calls @ 2322387us\n",
      "\n",
      "[15:36:22] UpdatePredictionCache: 0.153475s, 1000 calls @ 153475us\n",
      "\n",
      "[15:36:22] ======== Monitor (0): gradient_based_sampler ========\n",
      "[15:36:22] Sample: 0.009034s, 1000 calls @ 9034us\n",
      "\n",
      "[15:36:22] ======== Monitor (0): GPUHistMakerDevicecuda:0 ========\n",
      "[15:36:22] AllReduce: 0.000477s, 2000 calls @ 477us\n",
      "\n",
      "[15:36:22] BuildHist: 0.013124s, 2000 calls @ 13124us\n",
      "\n",
      "[15:36:22] EvaluateSplits: 0.457128s, 2000 calls @ 457128us\n",
      "\n",
      "[15:36:22] FinalisePosition: 0.080189s, 1000 calls @ 80189us\n",
      "\n",
      "[15:36:22] InitRoot: 1.06487s, 1000 calls @ 1064871us\n",
      "\n",
      "[15:36:22] Reset: 0.442273s, 1000 calls @ 442273us\n",
      "\n",
      "[15:36:22] UpdatePosition: 0.25647s, 2000 calls @ 256470us\n",
      "\n",
      "XGB done\n",
      "LR\n",
      "DT\n",
      "RF\n"
     ]
    },
    {
     "name": "stderr",
     "output_type": "stream",
     "text": [
      "/tmp/ipykernel_211/136673623.py:55: FutureWarning: The behavior of DataFrame concatenation with empty or all-NA entries is deprecated. In a future version, this will no longer exclude empty or all-NA columns when determining the result dtypes. To retain the old behavior, exclude the relevant entries before the concat operation.\n",
      "  models = pd.concat([models,models_temp]).reset_index(drop=True)\n"
     ]
    },
    {
     "name": "stdout",
     "output_type": "stream",
     "text": [
      "XGB\n",
      "[15:36:23] DEBUG: /workspace/src/gbm/gbtree.cc:130: Using tree method: 3\n",
      "[15:36:23] DEBUG: /workspace/src/tree/updater_gpu_hist.cu:822: [GPU Hist]: Configure\n",
      "Elapsed time: 23.02197504043579 seconds\n"
     ]
    }
   ],
   "source": [
    "train_model(1,3,'group2')"
   ]
  },
  {
   "cell_type": "code",
   "execution_count": 330,
   "id": "4abbb6c1-c055-4f47-bcbe-2bcd20b4de7d",
   "metadata": {},
   "outputs": [
    {
     "data": {
      "image/png": "[encoded data removed]",
      "text/plain": [
       "<Figure size 584x288 with 1 Axes>"
      ]
     },
     "metadata": {
      "needs_background": "light"
     },
     "output_type": "display_data"
    }
   ],
   "source": [
    "plot_result('bts_group2')"
   ]
  },
  {
   "cell_type": "code",
   "execution_count": null,
   "id": "05111551-2e89-41a8-afea-6a90cb79f4bf",
   "metadata": {},
   "outputs": [],
   "source": []
  },
  {
   "cell_type": "code",
   "execution_count": null,
   "id": "cbfc0d60-a61c-4282-b9fd-ab9bcc0f68b7",
   "metadata": {},
   "outputs": [],
   "source": []
  },
  {
   "cell_type": "markdown",
   "id": "0fc79895-5a02-4153-89b5-60132937358f",
   "metadata": {},
   "source": [
    "## group3 - step4-5"
   ]
  },
  {
   "cell_type": "code",
   "execution_count": 331,
   "id": "2f627722-b3a9-4938-94d0-b0b2daa85480",
   "metadata": {
    "scrolled": true
   },
   "outputs": [
    {
     "name": "stdout",
     "output_type": "stream",
     "text": [
      "(39122, 48)\n",
      "(10064, 48)\n",
      "(1987, 48)\n",
      "Total samples group3: 51173\n",
      "outcome_12months\n",
      "Building models . . . .\n",
      "{'C': 10.0, 'max_iter': 120, 'solver': 'liblinear'}\n",
      "LR done\n",
      "{'criterion': 'entropy', 'max_depth': 5, 'splitter': 'best'}\n",
      "DT done\n",
      "{'bootstrap': True, 'criterion': 'entropy', 'max_depth': 12, 'max_features': 'sqrt', 'min_samples_leaf': 20, 'min_samples_split': 6, 'n_estimators': 240}\n",
      "RF done\n",
      "{'colsample_bytree': 0.5, 'learning_rate': 0.021211820714260574, 'max_depth': 2, 'n_estimators': 1000, 'reg_alpha': 10.0, 'reg_lambda': 0.1, 'scale_pos_weight': 9.691656942823805, 'subsample': 0.5}\n",
      "[15:36:30] ======== Monitor (0): HostSketchContainer ========\n",
      "[15:36:30] AllReduce: 0.006373s, 1 calls @ 6373us\n",
      "\n",
      "[15:36:30] MakeCuts: 0.012229s, 1 calls @ 12229us\n",
      "\n",
      "[15:36:30] DEBUG: /workspace/src/gbm/gbtree.cc:130: Using tree method: 3\n",
      "[15:36:30] DEBUG: /workspace/src/tree/updater_gpu_hist.cu:822: [GPU Hist]: Configure\n",
      "[15:36:30] ======== Monitor (0):  ========\n",
      "[15:36:30] InitCompressedData: 0.001473s, 1 calls @ 1473us\n",
      "\n",
      "[15:36:33] ======== Monitor (0): Learner ========\n",
      "[15:36:33] Configure: 0.003586s, 1 calls @ 3586us\n",
      "\n",
      "[15:36:33] EvalOneIter: 0.001874s, 1000 calls @ 1874us\n",
      "\n",
      "[15:36:33] GetGradient: 0.075686s, 1000 calls @ 75686us\n",
      "\n",
      "[15:36:33] PredictRaw: 0.000515s, 1000 calls @ 515us\n",
      "\n",
      "[15:36:33] UpdateOneIter: 2.5853s, 1000 calls @ 2585300us\n",
      "\n",
      "[15:36:33] ======== Monitor (0): GBTree ========\n",
      "[15:36:33] BoostNewTrees: 2.49746s, 1000 calls @ 2497456us\n",
      "\n",
      "[15:36:33] CommitModel: 0.000209s, 1000 calls @ 209us\n",
      "\n",
      "[15:36:33] ======== Device 0 Memory Allocations:  ========\n",
      "[15:36:33] Peak memory usage: 626MiB\n",
      "[15:36:33] Number of allocations: 806789\n",
      "[15:36:33] ======== Monitor (0): updater_gpu_hist ========\n",
      "[15:36:33] InitData: 0.000962s, 1000 calls @ 962us\n",
      "\n",
      "[15:36:33] InitDataOnce: 0.000881s, 1 calls @ 881us\n",
      "\n",
      "[15:36:33] Update: 2.31525s, 1000 calls @ 2315249us\n",
      "\n",
      "[15:36:33] UpdatePredictionCache: 0.179564s, 1000 calls @ 179564us\n",
      "\n",
      "[15:36:33] ======== Monitor (0): gradient_based_sampler ========\n",
      "[15:36:33] Sample: 0.006215s, 1000 calls @ 6215us\n",
      "\n",
      "[15:36:33] ======== Monitor (0): GPUHistMakerDevicecuda:0 ========\n",
      "[15:36:33] AllReduce: 0.000499s, 2000 calls @ 499us\n",
      "\n",
      "[15:36:33] BuildHist: 0.013685s, 2000 calls @ 13685us\n",
      "\n",
      "[15:36:33] EvaluateSplits: 0.483397s, 2000 calls @ 483397us\n",
      "\n",
      "[15:36:33] FinalisePosition: 0.088554s, 1000 calls @ 88554us\n",
      "\n",
      "[15:36:33] InitRoot: 0.965591s, 1000 calls @ 965591us\n",
      "\n",
      "[15:36:33] Reset: 0.475515s, 1000 calls @ 475515us\n",
      "\n",
      "[15:36:33] UpdatePosition: 0.280412s, 2000 calls @ 280412us\n",
      "\n",
      "XGB done\n",
      "LR\n",
      "DT\n",
      "RF\n"
     ]
    },
    {
     "name": "stderr",
     "output_type": "stream",
     "text": [
      "/tmp/ipykernel_211/136673623.py:55: FutureWarning: The behavior of DataFrame concatenation with empty or all-NA entries is deprecated. In a future version, this will no longer exclude empty or all-NA columns when determining the result dtypes. To retain the old behavior, exclude the relevant entries before the concat operation.\n",
      "  models = pd.concat([models,models_temp]).reset_index(drop=True)\n"
     ]
    },
    {
     "name": "stdout",
     "output_type": "stream",
     "text": [
      "XGB\n",
      "[15:36:34] DEBUG: /workspace/src/gbm/gbtree.cc:130: Using tree method: 3\n",
      "[15:36:34] DEBUG: /workspace/src/tree/updater_gpu_hist.cu:822: [GPU Hist]: Configure\n",
      "Elapsed time: 9.910332441329956 seconds\n"
     ]
    }
   ],
   "source": [
    "train_model(4,5,'group3')"
   ]
  },
  {
   "cell_type": "code",
   "execution_count": 332,
   "id": "b12a9932-b876-42c3-a5df-0e21023fb45c",
   "metadata": {},
   "outputs": [
    {
     "data": {
      "image/png": "[encoded data removed]",
      "text/plain": [
       "<Figure size 584x288 with 1 Axes>"
      ]
     },
     "metadata": {
      "needs_background": "light"
     },
     "output_type": "display_data"
    }
   ],
   "source": [
    "plot_result('bts_group3')"
   ]
  },
  {
   "cell_type": "code",
   "execution_count": null,
   "id": "28b99f36-0077-44bd-be62-0d1f601f5154",
   "metadata": {},
   "outputs": [],
   "source": []
  },
  {
   "cell_type": "markdown",
   "id": "8bd10cc1-a713-4540-9381-76d33c97377e",
   "metadata": {},
   "source": [
    "## group3 - step1-5"
   ]
  },
  {
   "cell_type": "code",
   "execution_count": 349,
   "id": "fa6effb1-2d56-46be-aba0-13cd59c3a657",
   "metadata": {
    "scrolled": true
   },
   "outputs": [
    {
     "name": "stdout",
     "output_type": "stream",
     "text": [
      "(168446, 48)\n",
      "(43031, 48)\n",
      "(8295, 48)\n",
      "Total samples group4: 219772\n",
      "outcome_12months\n",
      "Building models . . . .\n",
      "{'C': 10.0, 'max_iter': 120, 'solver': 'liblinear'}\n",
      "LR done\n",
      "{'criterion': 'entropy', 'max_depth': 5, 'splitter': 'best'}\n",
      "DT done\n",
      "{'bootstrap': True, 'criterion': 'entropy', 'max_depth': 12, 'max_features': 'sqrt', 'min_samples_leaf': 20, 'min_samples_split': 6, 'n_estimators': 240}\n",
      "RF done\n",
      "{'colsample_bytree': 0.5, 'learning_rate': 0.021211820714260574, 'max_depth': 2, 'n_estimators': 1000, 'reg_alpha': 10.0, 'reg_lambda': 0.1, 'scale_pos_weight': 9.691656942823805, 'subsample': 0.5}\n",
      "[09:26:25] ======== Monitor (0): HostSketchContainer ========\n",
      "[09:26:25] AllReduce: 0.005269s, 1 calls @ 5269us\n",
      "\n",
      "[09:26:25] MakeCuts: 0.012579s, 1 calls @ 12579us\n",
      "\n",
      "[09:26:25] DEBUG: /workspace/src/gbm/gbtree.cc:130: Using tree method: 3\n",
      "[09:26:25] DEBUG: /workspace/src/tree/updater_gpu_hist.cu:822: [GPU Hist]: Configure\n",
      "[09:26:25] ======== Monitor (0):  ========\n",
      "[09:26:25] InitCompressedData: 0.001996s, 1 calls @ 1996us\n",
      "\n",
      "[09:26:27] ======== Monitor (0): Learner ========\n",
      "[09:26:27] Configure: 0.002081s, 1 calls @ 2081us\n",
      "\n",
      "[09:26:27] EvalOneIter: 0.001731s, 1000 calls @ 1731us\n",
      "\n",
      "[09:26:27] GetGradient: 0.071693s, 1000 calls @ 71693us\n",
      "\n",
      "[09:26:27] PredictRaw: 0.000535s, 1000 calls @ 535us\n",
      "\n",
      "[09:26:27] UpdateOneIter: 2.56916s, 1000 calls @ 2569161us\n",
      "\n",
      "[09:26:27] ======== Monitor (0): GBTree ========\n",
      "[09:26:27] BoostNewTrees: 2.48553s, 1000 calls @ 2485530us\n",
      "\n",
      "[09:26:27] CommitModel: 0.000169s, 1000 calls @ 169us\n",
      "\n",
      "[09:26:27] ======== Device 0 Memory Allocations:  ========\n",
      "[09:26:27] Peak memory usage: 637MiB\n",
      "[09:26:27] Number of allocations: 829842\n",
      "[09:26:27] ======== Monitor (0): updater_gpu_hist ========\n",
      "[09:26:27] InitData: 0.001343s, 1000 calls @ 1343us\n",
      "\n",
      "[09:26:27] InitDataOnce: 0.001266s, 1 calls @ 1266us\n",
      "\n",
      "[09:26:27] Update: 2.33387s, 1000 calls @ 2333872us\n",
      "\n",
      "[09:26:27] UpdatePredictionCache: 0.148973s, 1000 calls @ 148973us\n",
      "\n",
      "[09:26:27] ======== Monitor (0): gradient_based_sampler ========\n",
      "[09:26:27] Sample: 0.01275s, 1000 calls @ 12750us\n",
      "\n",
      "[09:26:27] ======== Monitor (0): GPUHistMakerDevicecuda:0 ========\n",
      "[09:26:27] AllReduce: 0.000481s, 2000 calls @ 481us\n",
      "\n",
      "[09:26:27] BuildHist: 0.013413s, 2000 calls @ 13413us\n",
      "\n",
      "[09:26:27] EvaluateSplits: 0.43296s, 2000 calls @ 432960us\n",
      "\n",
      "[09:26:27] FinalisePosition: 0.080511s, 1000 calls @ 80511us\n",
      "\n",
      "[09:26:27] InitRoot: 1.08733s, 1000 calls @ 1087334us\n",
      "\n",
      "[09:26:27] Reset: 0.455639s, 1000 calls @ 455639us\n",
      "\n",
      "[09:26:27] UpdatePosition: 0.255455s, 2000 calls @ 255455us\n",
      "\n",
      "XGB done\n",
      "LR\n",
      "DT\n"
     ]
    },
    {
     "name": "stderr",
     "output_type": "stream",
     "text": [
      "/tmp/ipykernel_211/136673623.py:55: FutureWarning: The behavior of DataFrame concatenation with empty or all-NA entries is deprecated. In a future version, this will no longer exclude empty or all-NA columns when determining the result dtypes. To retain the old behavior, exclude the relevant entries before the concat operation.\n",
      "  models = pd.concat([models,models_temp]).reset_index(drop=True)\n"
     ]
    },
    {
     "name": "stdout",
     "output_type": "stream",
     "text": [
      "RF\n",
      "XGB\n",
      "[09:26:29] DEBUG: /workspace/src/gbm/gbtree.cc:130: Using tree method: 3\n",
      "[09:26:29] DEBUG: /workspace/src/tree/updater_gpu_hist.cu:822: [GPU Hist]: Configure\n",
      "Elapsed time: 30.260385036468506 seconds\n"
     ]
    }
   ],
   "source": [
    "train_model(1,5,'group4')"
   ]
  },
  {
   "cell_type": "code",
   "execution_count": 350,
   "id": "9b9d8655-73d5-434b-9cfa-0bdf6bf58c3c",
   "metadata": {},
   "outputs": [
    {
     "data": {
      "image/png": "[encoded data removed]",
      "text/plain": [
       "<Figure size 584x288 with 1 Axes>"
      ]
     },
     "metadata": {
      "needs_background": "light"
     },
     "output_type": "display_data"
    }
   ],
   "source": [
    "plot_result('bts_group4')"
   ]
  },
  {
   "cell_type": "markdown",
   "id": "a9edc82d-c95c-401f-a217-915cb11b432c",
   "metadata": {},
   "source": [
    "## all result"
   ]
  },
  {
   "cell_type": "code",
   "execution_count": 356,
   "id": "c59bba78-ef92-4b5d-ac0b-e440cd097361",
   "metadata": {},
   "outputs": [],
   "source": [
    "data = pd.read_csv('../../MODELS/externalValResult_sensitivity_bts_group1.csv')\n",
    "data['BTS step'] = 'BTS step 0'\n",
    "groups = ['BTS step 1-3', 'BTS step 4-5', 'BTS step 1-5']\n",
    "i=2\n",
    "for group in groups:\n",
    "    # print(i)\n",
    "    temp = pd.read_csv('../../MODELS/externalValResult_sensitivity_bts_group'+str(i)+'.csv')\n",
    "    temp['BTS step'] = group\n",
    "    data = pd.concat([data,temp])\n",
    "    i+=1\n",
    "    \n",
    "    "
   ]
  },
  {
   "cell_type": "code",
   "execution_count": 357,
   "id": "fc03533a-2213-4546-b1cb-22ee13a49c8b",
   "metadata": {},
   "outputs": [
    {
     "data": {
      "text/html": [
       "<div>\n",
       "<style scoped>\n",
       "    .dataframe tbody tr th:only-of-type {\n",
       "        vertical-align: middle;\n",
       "    }\n",
       "\n",
       "    .dataframe tbody tr th {\n",
       "        vertical-align: top;\n",
       "    }\n",
       "\n",
       "    .dataframe thead th {\n",
       "        text-align: right;\n",
       "    }\n",
       "</style>\n",
       "<table border=\"1\" class=\"dataframe\">\n",
       "  <thead>\n",
       "    <tr style=\"text-align: right;\">\n",
       "      <th></th>\n",
       "      <th>model_name</th>\n",
       "      <th>fold</th>\n",
       "      <th>outcome</th>\n",
       "      <th>class_ratio</th>\n",
       "      <th>total_samples</th>\n",
       "      <th>auc</th>\n",
       "      <th>auprc</th>\n",
       "      <th>model_num</th>\n",
       "      <th>BTS step</th>\n",
       "    </tr>\n",
       "  </thead>\n",
       "  <tbody>\n",
       "    <tr>\n",
       "      <th>0</th>\n",
       "      <td>LR</td>\n",
       "      <td>NaN</td>\n",
       "      <td>outcome_12months</td>\n",
       "      <td>0.088584</td>\n",
       "      <td>395990</td>\n",
       "      <td>0.7296</td>\n",
       "      <td>0.3224</td>\n",
       "      <td>0</td>\n",
       "      <td>BTS step 0</td>\n",
       "    </tr>\n",
       "    <tr>\n",
       "      <th>1</th>\n",
       "      <td>DT</td>\n",
       "      <td>NaN</td>\n",
       "      <td>outcome_12months</td>\n",
       "      <td>0.088584</td>\n",
       "      <td>395990</td>\n",
       "      <td>0.7439</td>\n",
       "      <td>0.3062</td>\n",
       "      <td>1</td>\n",
       "      <td>BTS step 0</td>\n",
       "    </tr>\n",
       "    <tr>\n",
       "      <th>2</th>\n",
       "      <td>RF</td>\n",
       "      <td>NaN</td>\n",
       "      <td>outcome_12months</td>\n",
       "      <td>0.088584</td>\n",
       "      <td>395990</td>\n",
       "      <td>0.7565</td>\n",
       "      <td>0.3406</td>\n",
       "      <td>2</td>\n",
       "      <td>BTS step 0</td>\n",
       "    </tr>\n",
       "    <tr>\n",
       "      <th>3</th>\n",
       "      <td>XGB</td>\n",
       "      <td>NaN</td>\n",
       "      <td>outcome_12months</td>\n",
       "      <td>0.088584</td>\n",
       "      <td>395990</td>\n",
       "      <td>0.7627</td>\n",
       "      <td>0.3471</td>\n",
       "      <td>3</td>\n",
       "      <td>BTS step 0</td>\n",
       "    </tr>\n",
       "    <tr>\n",
       "      <th>0</th>\n",
       "      <td>LR</td>\n",
       "      <td>NaN</td>\n",
       "      <td>outcome_12months</td>\n",
       "      <td>0.115381</td>\n",
       "      <td>168599</td>\n",
       "      <td>0.7279</td>\n",
       "      <td>0.2963</td>\n",
       "      <td>0</td>\n",
       "      <td>BTS step 1-3</td>\n",
       "    </tr>\n",
       "    <tr>\n",
       "      <th>1</th>\n",
       "      <td>DT</td>\n",
       "      <td>NaN</td>\n",
       "      <td>outcome_12months</td>\n",
       "      <td>0.115381</td>\n",
       "      <td>168599</td>\n",
       "      <td>0.7120</td>\n",
       "      <td>0.2712</td>\n",
       "      <td>1</td>\n",
       "      <td>BTS step 1-3</td>\n",
       "    </tr>\n",
       "    <tr>\n",
       "      <th>2</th>\n",
       "      <td>RF</td>\n",
       "      <td>NaN</td>\n",
       "      <td>outcome_12months</td>\n",
       "      <td>0.115381</td>\n",
       "      <td>168599</td>\n",
       "      <td>0.7315</td>\n",
       "      <td>0.3075</td>\n",
       "      <td>2</td>\n",
       "      <td>BTS step 1-3</td>\n",
       "    </tr>\n",
       "    <tr>\n",
       "      <th>3</th>\n",
       "      <td>XGB</td>\n",
       "      <td>NaN</td>\n",
       "      <td>outcome_12months</td>\n",
       "      <td>0.115381</td>\n",
       "      <td>168599</td>\n",
       "      <td>0.7344</td>\n",
       "      <td>0.3081</td>\n",
       "      <td>3</td>\n",
       "      <td>BTS step 1-3</td>\n",
       "    </tr>\n",
       "    <tr>\n",
       "      <th>0</th>\n",
       "      <td>LR</td>\n",
       "      <td>NaN</td>\n",
       "      <td>outcome_12months</td>\n",
       "      <td>0.714674</td>\n",
       "      <td>51173</td>\n",
       "      <td>0.6870</td>\n",
       "      <td>0.6331</td>\n",
       "      <td>0</td>\n",
       "      <td>BTS step 4-5</td>\n",
       "    </tr>\n",
       "    <tr>\n",
       "      <th>1</th>\n",
       "      <td>DT</td>\n",
       "      <td>NaN</td>\n",
       "      <td>outcome_12months</td>\n",
       "      <td>0.714674</td>\n",
       "      <td>51173</td>\n",
       "      <td>0.7114</td>\n",
       "      <td>0.6286</td>\n",
       "      <td>1</td>\n",
       "      <td>BTS step 4-5</td>\n",
       "    </tr>\n",
       "    <tr>\n",
       "      <th>2</th>\n",
       "      <td>RF</td>\n",
       "      <td>NaN</td>\n",
       "      <td>outcome_12months</td>\n",
       "      <td>0.714674</td>\n",
       "      <td>51173</td>\n",
       "      <td>0.7466</td>\n",
       "      <td>0.6850</td>\n",
       "      <td>2</td>\n",
       "      <td>BTS step 4-5</td>\n",
       "    </tr>\n",
       "    <tr>\n",
       "      <th>3</th>\n",
       "      <td>XGB</td>\n",
       "      <td>NaN</td>\n",
       "      <td>outcome_12months</td>\n",
       "      <td>0.714674</td>\n",
       "      <td>51173</td>\n",
       "      <td>0.7486</td>\n",
       "      <td>0.6833</td>\n",
       "      <td>3</td>\n",
       "      <td>BTS step 4-5</td>\n",
       "    </tr>\n",
       "    <tr>\n",
       "      <th>0</th>\n",
       "      <td>LR</td>\n",
       "      <td>NaN</td>\n",
       "      <td>outcome_12months</td>\n",
       "      <td>0.213920</td>\n",
       "      <td>219772</td>\n",
       "      <td>0.7789</td>\n",
       "      <td>0.5017</td>\n",
       "      <td>0</td>\n",
       "      <td>BTS step 1-5</td>\n",
       "    </tr>\n",
       "    <tr>\n",
       "      <th>1</th>\n",
       "      <td>DT</td>\n",
       "      <td>NaN</td>\n",
       "      <td>outcome_12months</td>\n",
       "      <td>0.213920</td>\n",
       "      <td>219772</td>\n",
       "      <td>0.7828</td>\n",
       "      <td>0.4967</td>\n",
       "      <td>1</td>\n",
       "      <td>BTS step 1-5</td>\n",
       "    </tr>\n",
       "    <tr>\n",
       "      <th>2</th>\n",
       "      <td>RF</td>\n",
       "      <td>NaN</td>\n",
       "      <td>outcome_12months</td>\n",
       "      <td>0.213920</td>\n",
       "      <td>219772</td>\n",
       "      <td>0.7985</td>\n",
       "      <td>0.5326</td>\n",
       "      <td>2</td>\n",
       "      <td>BTS step 1-5</td>\n",
       "    </tr>\n",
       "    <tr>\n",
       "      <th>3</th>\n",
       "      <td>XGB</td>\n",
       "      <td>NaN</td>\n",
       "      <td>outcome_12months</td>\n",
       "      <td>0.213920</td>\n",
       "      <td>219772</td>\n",
       "      <td>0.7996</td>\n",
       "      <td>0.5369</td>\n",
       "      <td>3</td>\n",
       "      <td>BTS step 1-5</td>\n",
       "    </tr>\n",
       "  </tbody>\n",
       "</table>\n",
       "</div>"
      ],
      "text/plain": [
       "  model_name  fold           outcome  class_ratio  total_samples     auc  \\\n",
       "0         LR   NaN  outcome_12months     0.088584         395990  0.7296   \n",
       "1         DT   NaN  outcome_12months     0.088584         395990  0.7439   \n",
       "2         RF   NaN  outcome_12months     0.088584         395990  0.7565   \n",
       "3        XGB   NaN  outcome_12months     0.088584         395990  0.7627   \n",
       "0         LR   NaN  outcome_12months     0.115381         168599  0.7279   \n",
       "1         DT   NaN  outcome_12months     0.115381         168599  0.7120   \n",
       "2         RF   NaN  outcome_12months     0.115381         168599  0.7315   \n",
       "3        XGB   NaN  outcome_12months     0.115381         168599  0.7344   \n",
       "0         LR   NaN  outcome_12months     0.714674          51173  0.6870   \n",
       "1         DT   NaN  outcome_12months     0.714674          51173  0.7114   \n",
       "2         RF   NaN  outcome_12months     0.714674          51173  0.7466   \n",
       "3        XGB   NaN  outcome_12months     0.714674          51173  0.7486   \n",
       "0         LR   NaN  outcome_12months     0.213920         219772  0.7789   \n",
       "1         DT   NaN  outcome_12months     0.213920         219772  0.7828   \n",
       "2         RF   NaN  outcome_12months     0.213920         219772  0.7985   \n",
       "3        XGB   NaN  outcome_12months     0.213920         219772  0.7996   \n",
       "\n",
       "    auprc  model_num      BTS step  \n",
       "0  0.3224          0    BTS step 0  \n",
       "1  0.3062          1    BTS step 0  \n",
       "2  0.3406          2    BTS step 0  \n",
       "3  0.3471          3    BTS step 0  \n",
       "0  0.2963          0  BTS step 1-3  \n",
       "1  0.2712          1  BTS step 1-3  \n",
       "2  0.3075          2  BTS step 1-3  \n",
       "3  0.3081          3  BTS step 1-3  \n",
       "0  0.6331          0  BTS step 4-5  \n",
       "1  0.6286          1  BTS step 4-5  \n",
       "2  0.6850          2  BTS step 4-5  \n",
       "3  0.6833          3  BTS step 4-5  \n",
       "0  0.5017          0  BTS step 1-5  \n",
       "1  0.4967          1  BTS step 1-5  \n",
       "2  0.5326          2  BTS step 1-5  \n",
       "3  0.5369          3  BTS step 1-5  "
      ]
     },
     "execution_count": 357,
     "metadata": {},
     "output_type": "execute_result"
    }
   ],
   "source": [
    "data"
   ]
  },
  {
   "cell_type": "code",
   "execution_count": 358,
   "id": "918aaf89-c9c5-40e3-aa6e-0d81f146e2cc",
   "metadata": {},
   "outputs": [
    {
     "data": {
      "text/plain": [
       "35.69106245594889"
      ]
     },
     "execution_count": 358,
     "metadata": {},
     "output_type": "execute_result"
    }
   ],
   "source": [
    "219772/615762*100"
   ]
  },
  {
   "cell_type": "code",
   "execution_count": 342,
   "id": "8d365948-41e9-48bf-8c83-1abc72521d74",
   "metadata": {
    "scrolled": true
   },
   "outputs": [
    {
     "data": {
      "text/plain": [
       "(0.5, 0.83)"
      ]
     },
     "execution_count": 342,
     "metadata": {},
     "output_type": "execute_result"
    },
    {
     "data": {
      "image/png": "[encoded data removed]",
      "text/plain": [
       "<Figure size 728x720 with 4 Axes>"
      ]
     },
     "metadata": {
      "needs_background": "light"
     },
     "output_type": "display_data"
    }
   ],
   "source": [
    "data['Method'] = data['model_name']\n",
    "data['AUC'] = data['auc']\n",
    "data.replace('outcome_12months', '12 months preIntdiction', inplace=True)\n",
    "\n",
    "\n",
    "bar = sns.catplot(x = 'BTS step',       # x variable name\n",
    "            y = 'AUC',       # y variable name            \n",
    "            data=data,\n",
    "            kind = \"bar\",\n",
    "            # hue = 'Age Group',\n",
    "            # hue_order=['10-fold CV', 'Evaluation Set', 'Wales', 'Scotland'],\n",
    "            height=5,\n",
    "            col='Method',\n",
    "              # col='model_name',\n",
    "            aspect=1,\n",
    "                  col_wrap=2,\n",
    "            errorbar = None,margin_titles=False, sharex=True,)\n",
    "\n",
    "for ax in bar.axes:\n",
    "    # for ax in items:\n",
    "        for p in ax.patches:\n",
    "            ax.text(p.get_x() + 0.01, \n",
    "                p.get_height() * 1.01, \n",
    "                '{0:.3f}'.format(p.get_height()), \n",
    "                color='black', rotation=0, fontsize=12)\n",
    "\n",
    "bar.fig.tight_layout(pad=3.0)\n",
    "ax.set_ylim(0.5, .83)"
   ]
  },
  {
   "cell_type": "code",
   "execution_count": 377,
   "id": "bc27a7a7-3e9a-45fd-94cd-22ecb14f960b",
   "metadata": {},
   "outputs": [
    {
     "data": {
      "text/plain": [
       "outcome_12months\n",
       "0    0.917564\n",
       "1    0.082436\n",
       "Name: proportion, dtype: float64"
      ]
     },
     "execution_count": 377,
     "metadata": {},
     "output_type": "execute_result"
    }
   ],
   "source": [
    "allData[allData.BTS_step==0]['outcome_12months'].value_counts(normalize=True)"
   ]
  },
  {
   "cell_type": "code",
   "execution_count": 378,
   "id": "bf893dd3-cd86-4f2a-b3a9-6d451bd2f3c2",
   "metadata": {},
   "outputs": [
    {
     "data": {
      "text/plain": [
       "outcome_12months\n",
       "0    0.822448\n",
       "1    0.177552\n",
       "Name: proportion, dtype: float64"
      ]
     },
     "execution_count": 378,
     "metadata": {},
     "output_type": "execute_result"
    }
   ],
   "source": [
    "allData[allData.BTS_step!=0]['outcome_12months'].value_counts(normalize=True)"
   ]
  },
  {
   "cell_type": "code",
   "execution_count": 381,
   "id": "b36e727b-f5c6-4b19-a487-6b3c0007ef6f",
   "metadata": {},
   "outputs": [
    {
     "data": {
      "text/plain": [
       "outcome_12months\n",
       "0    0.883616\n",
       "1    0.116384\n",
       "Name: proportion, dtype: float64"
      ]
     },
     "execution_count": 381,
     "metadata": {},
     "output_type": "execute_result"
    }
   ],
   "source": [
    "allData['outcome_12months'].value_counts(normalize=True)"
   ]
  },
  {
   "cell_type": "code",
   "execution_count": 382,
   "id": "21dbacb3-d31b-4b22-8ec9-dec803f51c58",
   "metadata": {},
   "outputs": [
    {
     "data": {
      "text/plain": [
       "6.130000000000001"
      ]
     },
     "execution_count": 382,
     "metadata": {},
     "output_type": "execute_result"
    }
   ],
   "source": [
    "17.76-11.63"
   ]
  },
  {
   "cell_type": "code",
   "execution_count": 379,
   "id": "1c653779-d177-43a5-8210-6f2334b38886",
   "metadata": {},
   "outputs": [
    {
     "data": {
      "text/plain": [
       "(615762, 96)"
      ]
     },
     "execution_count": 379,
     "metadata": {},
     "output_type": "execute_result"
    }
   ],
   "source": [
    "allData.shape"
   ]
  },
  {
   "cell_type": "code",
   "execution_count": null,
   "id": "c8a8c0db-fef7-407a-bd3c-f6d895550b81",
   "metadata": {},
   "outputs": [],
   "source": []
  },
  {
   "cell_type": "code",
   "execution_count": null,
   "id": "aea20c68-7c93-4f61-8359-e87eb4b8bf71",
   "metadata": {},
   "outputs": [],
   "source": []
  },
  {
   "cell_type": "markdown",
   "id": "dd50093c-cbce-4039-80c9-b9acdd6a21fc",
   "metadata": {},
   "source": [
    "# Number of asthma attack subgroup\n",
    "\n",
    "group 1: 0 attacks <br>\n",
    "group 2: 1 and more <br>"
   ]
  },
  {
   "cell_type": "code",
   "execution_count": 389,
   "id": "d286221c-ca6d-4f79-a122-f9a7ee355691",
   "metadata": {},
   "outputs": [
    {
     "data": {
      "text/plain": [
       "numAsthmaAttacks_cat\n",
       "0      0.795855\n",
       "1      0.116798\n",
       ">=3    0.044085\n",
       "2      0.043262\n",
       "Name: proportion, dtype: float64"
      ]
     },
     "execution_count": 389,
     "metadata": {},
     "output_type": "execute_result"
    }
   ],
   "source": [
    "allData.numAsthmaAttacks_cat.value_counts(normalize=True)"
   ]
  },
  {
   "cell_type": "code",
   "execution_count": 390,
   "id": "52116fc3-2515-4a29-902c-c1fc30e7303d",
   "metadata": {},
   "outputs": [],
   "source": [
    "gridSearchData_ref, crossValData_ref, internalEvaluationData_ref, externalEvaluationData_ref = pickle.load(open('../../Clean_data/dataset_onehotencoded_ordinalencoded.sav', 'rb'))\n",
    "#outcomes\n",
    "target_outcomes = [\n",
    "    'outcome_12months' \n",
    "] \n",
    "\n",
    "#params\n",
    "params_dict = pd.read_csv('../../MODELS/BS_result_new.csv')\n",
    "def process_params(param_items, best_param):\n",
    "    a = eval(param_items)\n",
    "    b = eval(best_param)\n",
    "    c = {}\n",
    "    for key, value in zip(a,b):\n",
    "        c[key] = value\n",
    "    return c\n",
    "\n",
    "params_dict['params'] = params_dict.apply(lambda x: dict(eval(x.best_param[11:])), axis=1)\n"
   ]
  },
  {
   "cell_type": "code",
   "execution_count": 392,
   "id": "d16c7dd2-914f-49bb-867c-4d6a26172dec",
   "metadata": {},
   "outputs": [],
   "source": [
    "#function to train model\n",
    "\n",
    "def train_model(min_step, max_step, group):\n",
    "    #prepare data\n",
    "    X_gridSearch = gridSearchData[(gridSearchData_ref['numAsthmaAttacks'] >= min_step) & (gridSearchData_ref['numAsthmaAttacks'] <= max_step)]\n",
    "    X_gridSearch.reset_index(inplace=True, drop=True)\n",
    "    \n",
    "    X_crossVal = crossValData[(crossValData_ref['numAsthmaAttacks'] >= min_step) & (crossValData_ref['numAsthmaAttacks'] <= max_step)]\n",
    "    X_crossVal.reset_index(inplace=True, drop=True)\n",
    "    \n",
    "    X = pd.concat([X_gridSearch, X_crossVal])\n",
    "    X.reset_index(inplace=True, drop=True)\n",
    "    X = X[features_columns]\n",
    "    \n",
    "    \n",
    "    X_externalVal = externalEvaluationData[(externalEvaluationData_ref['numAsthmaAttacks'] >= min_step) & (externalEvaluationData_ref['numAsthmaAttacks'] <= max_step)]\n",
    "    X_externalVal.reset_index(inplace=True, drop=True)\n",
    "    X_externalVal = X_externalVal[features_columns]\n",
    "    \n",
    "    X_internalVal = internalEvaluationData[(internalEvaluationData_ref['numAsthmaAttacks'] >= min_step) & (internalEvaluationData_ref['numAsthmaAttacks'] <= max_step)]\n",
    "    X_internalVal.reset_index(inplace=True, drop=True)\n",
    "    X_internalVal = X_internalVal[features_columns]\n",
    "    \n",
    "    print(X.shape)\n",
    "    print(X_internalVal.shape)\n",
    "    print(X_externalVal.shape)\n",
    "    total_samples = X_gridSearch.shape[0]+X_crossVal.shape[0]+X_internalVal.shape[0]+X_externalVal.shape[0]\n",
    "    print(f'Total samples {group}: {total_samples}')\n",
    "\n",
    "    \n",
    "    #EXECUTE model training\n",
    "    summary_result_internalVal = []\n",
    "    summary_result_externalVal = []\n",
    "    \n",
    "    cols = ['model_name', 'fold', 'outcome', 'class_ratio', 'total_samples', 'auc', 'auprc']\n",
    "    model_folder = '../../MODELS/TestResultSensitivity/attack/'+group+'/'\n",
    "    \n",
    "    start_time = time.time()\n",
    "    for target_outcome in target_outcomes:\n",
    "        models = pd.DataFrame(columns=['modelname', 'target_outcome', 'class_ratio'])\n",
    "        print(target_outcome)\n",
    "        y_gridSearch = gridSearchData[(gridSearchData_ref['numAsthmaAttacks'] >= min_step) & (gridSearchData_ref['numAsthmaAttacks'] <= max_step)][target_outcome]\n",
    "        y_crossVal = crossValData[(crossValData_ref['numAsthmaAttacks'] >= min_step) & (crossValData_ref['numAsthmaAttacks'] <= max_step)][target_outcome]\n",
    "        y = pd.concat([y_gridSearch , y_crossVal])\n",
    "        y.reset_index(drop=True, inplace=True)\n",
    "        y_internalVal = internalEvaluationData[(internalEvaluationData_ref['numAsthmaAttacks'] >= min_step) & (internalEvaluationData_ref['numAsthmaAttacks'] <= max_step)][target_outcome]\n",
    "        y_internalVal.reset_index(drop=True, inplace=True)\n",
    "        y_externalVal = externalEvaluationData[(externalEvaluationData_ref['numAsthmaAttacks'] >= min_step) & (externalEvaluationData_ref['numAsthmaAttacks'] <= max_step)][target_outcome]\n",
    "        y_externalVal.reset_index(drop=True, inplace=True)\n",
    "        fold = '' #no fold for the FINAL MODEL - trained on crossval and gridsearch sets\n",
    "        \n",
    "        \n",
    "        #Build models -> it can be commented if the models have been trained\n",
    "        models_temp = pd.DataFrame(build_models(X, y, target_outcome, params_dict, model_folder, fold), columns=['modelname', 'target_outcome', 'class_ratio'])\n",
    "        models = pd.concat([models,models_temp]).reset_index(drop=True)\n",
    "    \n",
    "    \n",
    "        #evaluate model\n",
    "        for modelname, target_outcome, classratio in models.values:\n",
    "            # print('======================================================================')\n",
    "            print(modelname)\n",
    "            model = pickle.load(open(model_folder + target_outcome + '_'+ modelname + '.sav', 'rb'))       \n",
    "            summary_result_internalVal.append((modelname, fold, target_outcome, classratio, total_samples,) + summariseResult (X_internalVal, y_internalVal, model) )       \n",
    "            summary_result_externalVal.append((modelname, fold, target_outcome, classratio, total_samples,) + summariseResult (X_externalVal, y_externalVal, model) )       \n",
    "            # torch.cuda.empty_cache()\n",
    "    \n",
    "    \n",
    "    summary_result_internalVal = pd.DataFrame(summary_result_internalVal, columns=cols)\n",
    "    summary_result_internalVal['model_num'] = summary_result_internalVal.index\n",
    "    summary_result_internalVal.to_csv('../../MODELS/internalValResult_sensitivity_attack_'+group+'.csv', index_label=False, index=False)\n",
    "    \n",
    "    summary_result_externalVal = pd.DataFrame(summary_result_externalVal, columns=cols)\n",
    "    summary_result_externalVal['model_num'] = summary_result_externalVal.index\n",
    "    summary_result_externalVal.to_csv('../../MODELS/externalValResult_sensitivity_attack_'+group+'.csv', index_label=False, index=False)\n",
    "    \n",
    "    # Calculate and print the elapsed time\n",
    "    end_time = time.time()\n",
    "    elapsed_time = end_time - start_time\n",
    "    print(f\"Elapsed time: {elapsed_time} seconds\")"
   ]
  },
  {
   "cell_type": "markdown",
   "id": "bb216175-8a8e-4899-9146-1fe8a3a2225e",
   "metadata": {},
   "source": [
    "## group1 - 0 attack"
   ]
  },
  {
   "cell_type": "code",
   "execution_count": 393,
   "id": "7823d944-12c5-4d52-958a-ac133f174a63",
   "metadata": {
    "scrolled": true
   },
   "outputs": [
    {
     "name": "stdout",
     "output_type": "stream",
     "text": [
      "(379009, 48)\n",
      "(97130, 48)\n",
      "(13918, 48)\n",
      "Total samples group1: 490057\n",
      "outcome_12months\n",
      "Building models . . . .\n",
      "{'C': 10.0, 'max_iter': 120, 'solver': 'liblinear'}\n",
      "LR done\n",
      "{'criterion': 'entropy', 'max_depth': 5, 'splitter': 'best'}\n",
      "DT done\n",
      "{'bootstrap': True, 'criterion': 'entropy', 'max_depth': 12, 'max_features': 'sqrt', 'min_samples_leaf': 20, 'min_samples_split': 6, 'n_estimators': 240}\n",
      "RF done\n",
      "{'colsample_bytree': 0.5, 'learning_rate': 0.021211820714260574, 'max_depth': 2, 'n_estimators': 1000, 'reg_alpha': 10.0, 'reg_lambda': 0.1, 'scale_pos_weight': 9.691656942823805, 'subsample': 0.5}\n",
      "[10:35:11] ======== Monitor (0): HostSketchContainer ========\n",
      "[10:35:11] AllReduce: 0.003418s, 1 calls @ 3418us\n",
      "\n",
      "[10:35:11] MakeCuts: 0.010169s, 1 calls @ 10169us\n",
      "\n",
      "[10:35:11] DEBUG: /workspace/src/gbm/gbtree.cc:130: Using tree method: 3\n",
      "[10:35:11] DEBUG: /workspace/src/tree/updater_gpu_hist.cu:822: [GPU Hist]: Configure\n",
      "[10:35:11] ======== Monitor (0):  ========\n",
      "[10:35:11] InitCompressedData: 0.002649s, 1 calls @ 2649us\n",
      "\n",
      "[10:35:15] ======== Monitor (0): Learner ========\n",
      "[10:35:15] Configure: 0.002037s, 1 calls @ 2037us\n",
      "\n",
      "[10:35:15] EvalOneIter: 0.002559s, 1000 calls @ 2559us\n",
      "\n",
      "[10:35:15] GetGradient: 0.084447s, 1000 calls @ 84447us\n",
      "\n",
      "[10:35:15] PredictRaw: 0.001708s, 1000 calls @ 1708us\n",
      "\n",
      "[10:35:15] UpdateOneIter: 3.99319s, 1000 calls @ 3993194us\n",
      "\n",
      "[10:35:15] ======== Monitor (0): GBTree ========\n",
      "[10:35:15] BoostNewTrees: 3.61387s, 1000 calls @ 3613866us\n",
      "\n",
      "[10:35:15] CommitModel: 0.000265s, 1000 calls @ 265us\n",
      "\n",
      "[10:35:15] ======== Device 0 Memory Allocations:  ========\n",
      "[10:35:15] Peak memory usage: 721MiB\n",
      "[10:35:15] Number of allocations: 898979\n",
      "[10:35:15] ======== Monitor (0): updater_gpu_hist ========\n",
      "[10:35:15] InitData: 0.001877s, 1000 calls @ 1877us\n",
      "\n",
      "[10:35:15] InitDataOnce: 0.001784s, 1 calls @ 1784us\n",
      "\n",
      "[10:35:15] Update: 3.46334s, 1000 calls @ 3463337us\n",
      "\n",
      "[10:35:15] UpdatePredictionCache: 0.144963s, 1000 calls @ 144963us\n",
      "\n",
      "[10:35:15] ======== Monitor (0): gradient_based_sampler ========\n",
      "[10:35:15] Sample: 0.033464s, 1000 calls @ 33464us\n",
      "\n",
      "[10:35:15] ======== Monitor (0): GPUHistMakerDevicecuda:0 ========\n",
      "[10:35:15] AllReduce: 0.000596s, 2000 calls @ 596us\n",
      "\n",
      "[10:35:15] BuildHist: 0.01519s, 2000 calls @ 15190us\n",
      "\n",
      "[10:35:15] EvaluateSplits: 0.421105s, 2000 calls @ 421105us\n",
      "\n",
      "[10:35:15] FinalisePosition: 0.744836s, 1000 calls @ 744836us\n",
      "\n",
      "[10:35:15] InitRoot: 1.5025s, 1000 calls @ 1502500us\n",
      "\n",
      "[10:35:15] Reset: 0.489492s, 1000 calls @ 489492us\n",
      "\n",
      "[10:35:15] UpdatePosition: 0.279474s, 2000 calls @ 279474us\n",
      "\n",
      "XGB done\n",
      "LR\n"
     ]
    },
    {
     "name": "stderr",
     "output_type": "stream",
     "text": [
      "/tmp/ipykernel_211/3730140131.py:55: FutureWarning: The behavior of DataFrame concatenation with empty or all-NA entries is deprecated. In a future version, this will no longer exclude empty or all-NA columns when determining the result dtypes. To retain the old behavior, exclude the relevant entries before the concat operation.\n",
      "  models = pd.concat([models,models_temp]).reset_index(drop=True)\n"
     ]
    },
    {
     "name": "stdout",
     "output_type": "stream",
     "text": [
      "DT\n",
      "RF\n",
      "XGB\n",
      "[10:35:18] DEBUG: /workspace/src/gbm/gbtree.cc:130: Using tree method: 3\n",
      "[10:35:18] DEBUG: /workspace/src/tree/updater_gpu_hist.cu:822: [GPU Hist]: Configure\n",
      "Elapsed time: 68.26650071144104 seconds\n"
     ]
    }
   ],
   "source": [
    "train_model(0,0,'group1' )"
   ]
  },
  {
   "cell_type": "code",
   "execution_count": 396,
   "id": "2206a403-5cca-4744-9851-221d4146fa47",
   "metadata": {},
   "outputs": [
    {
     "data": {
      "image/png": "[encoded data removed]",
      "text/plain": [
       "<Figure size 584x288 with 1 Axes>"
      ]
     },
     "metadata": {
      "needs_background": "light"
     },
     "output_type": "display_data"
    }
   ],
   "source": [
    "plot_result('attack_group1')"
   ]
  },
  {
   "cell_type": "code",
   "execution_count": null,
   "id": "4a5780e3-e747-44fc-9245-aa5b5f3c7b63",
   "metadata": {},
   "outputs": [],
   "source": []
  },
  {
   "cell_type": "markdown",
   "id": "63299d16-67ed-4aac-896e-1079457bfc54",
   "metadata": {},
   "source": [
    "## group2 - 1 or more attacks"
   ]
  },
  {
   "cell_type": "code",
   "execution_count": 397,
   "id": "d65a6a2e-04e0-427b-8db0-c7deafa8ae05",
   "metadata": {
    "scrolled": true
   },
   "outputs": [
    {
     "name": "stdout",
     "output_type": "stream",
     "text": [
      "(95179, 48)\n",
      "(24584, 48)\n",
      "(5942, 48)\n",
      "Total samples group2: 125705\n",
      "outcome_12months\n",
      "Building models . . . .\n",
      "{'C': 10.0, 'max_iter': 120, 'solver': 'liblinear'}\n",
      "LR done\n",
      "{'criterion': 'entropy', 'max_depth': 5, 'splitter': 'best'}\n",
      "DT done\n",
      "{'bootstrap': True, 'criterion': 'entropy', 'max_depth': 12, 'max_features': 'sqrt', 'min_samples_leaf': 20, 'min_samples_split': 6, 'n_estimators': 240}\n",
      "RF done\n",
      "{'colsample_bytree': 0.5, 'learning_rate': 0.021211820714260574, 'max_depth': 2, 'n_estimators': 1000, 'reg_alpha': 10.0, 'reg_lambda': 0.1, 'scale_pos_weight': 9.691656942823805, 'subsample': 0.5}\n",
      "[10:36:59] ======== Monitor (0): HostSketchContainer ========\n",
      "[10:36:59] AllReduce: 0.00602s, 1 calls @ 6020us\n",
      "\n",
      "[10:36:59] MakeCuts: 0.010743s, 1 calls @ 10743us\n",
      "\n",
      "[10:36:59] DEBUG: /workspace/src/gbm/gbtree.cc:130: Using tree method: 3\n",
      "[10:36:59] DEBUG: /workspace/src/tree/updater_gpu_hist.cu:822: [GPU Hist]: Configure\n",
      "[10:36:59] ======== Monitor (0):  ========\n",
      "[10:36:59] InitCompressedData: 0.001536s, 1 calls @ 1536us\n",
      "\n",
      "[10:37:01] ======== Monitor (0): Learner ========\n",
      "[10:37:01] Configure: 0.00186s, 1 calls @ 1860us\n",
      "\n",
      "[10:37:01] EvalOneIter: 0.001736s, 1000 calls @ 1736us\n",
      "\n",
      "[10:37:01] GetGradient: 0.071333s, 1000 calls @ 71333us\n",
      "\n",
      "[10:37:01] PredictRaw: 0.000504s, 1000 calls @ 504us\n",
      "\n",
      "[10:37:01] UpdateOneIter: 2.49627s, 1000 calls @ 2496270us\n",
      "\n",
      "[10:37:01] ======== Monitor (0): GBTree ========\n",
      "[10:37:01] BoostNewTrees: 2.41437s, 1000 calls @ 2414369us\n",
      "\n",
      "[10:37:01] CommitModel: 0.000202s, 1000 calls @ 202us\n",
      "\n",
      "[10:37:01] ======== Device 0 Memory Allocations:  ========\n",
      "[10:37:01] Peak memory usage: 721MiB\n",
      "[10:37:01] Number of allocations: 922032\n",
      "[10:37:01] ======== Monitor (0): updater_gpu_hist ========\n",
      "[10:37:01] InitData: 0.00153s, 1000 calls @ 1530us\n",
      "\n",
      "[10:37:01] InitDataOnce: 0.00145s, 1 calls @ 1450us\n",
      "\n",
      "[10:37:01] Update: 2.25364s, 1000 calls @ 2253640us\n",
      "\n",
      "[10:37:01] UpdatePredictionCache: 0.158205s, 1000 calls @ 158205us\n",
      "\n",
      "[10:37:01] ======== Monitor (0): gradient_based_sampler ========\n",
      "[10:37:01] Sample: 0.008052s, 1000 calls @ 8052us\n",
      "\n",
      "[10:37:01] ======== Monitor (0): GPUHistMakerDevicecuda:0 ========\n",
      "[10:37:01] AllReduce: 0.000483s, 2000 calls @ 483us\n",
      "\n",
      "[10:37:01] BuildHist: 0.013647s, 2000 calls @ 13647us\n",
      "\n",
      "[10:37:01] EvaluateSplits: 0.455746s, 2000 calls @ 455746us\n",
      "\n",
      "[10:37:01] FinalisePosition: 0.078315s, 1000 calls @ 78315us\n",
      "\n",
      "[10:37:01] InitRoot: 0.996405s, 1000 calls @ 996405us\n",
      "\n",
      "[10:37:01] Reset: 0.442658s, 1000 calls @ 442658us\n",
      "\n",
      "[10:37:01] UpdatePosition: 0.258398s, 2000 calls @ 258398us\n",
      "\n",
      "XGB done\n",
      "LR\n",
      "DT\n",
      "RF\n"
     ]
    },
    {
     "name": "stderr",
     "output_type": "stream",
     "text": [
      "/tmp/ipykernel_211/3730140131.py:55: FutureWarning: The behavior of DataFrame concatenation with empty or all-NA entries is deprecated. In a future version, this will no longer exclude empty or all-NA columns when determining the result dtypes. To retain the old behavior, exclude the relevant entries before the concat operation.\n",
      "  models = pd.concat([models,models_temp]).reset_index(drop=True)\n"
     ]
    },
    {
     "name": "stdout",
     "output_type": "stream",
     "text": [
      "XGB\n",
      "[10:37:03] DEBUG: /workspace/src/gbm/gbtree.cc:130: Using tree method: 3\n",
      "[10:37:03] DEBUG: /workspace/src/tree/updater_gpu_hist.cu:822: [GPU Hist]: Configure\n",
      "Elapsed time: 21.771198749542236 seconds\n"
     ]
    }
   ],
   "source": [
    "train_model(1,1000,'group2')"
   ]
  },
  {
   "cell_type": "code",
   "execution_count": 398,
   "id": "e7b3e0d6-beb5-427b-9580-645d49abaffe",
   "metadata": {},
   "outputs": [
    {
     "data": {
      "image/png": "[encoded data removed]",
      "text/plain": [
       "<Figure size 584x288 with 1 Axes>"
      ]
     },
     "metadata": {
      "needs_background": "light"
     },
     "output_type": "display_data"
    }
   ],
   "source": [
    "plot_result('attack_group2')"
   ]
  },
  {
   "cell_type": "code",
   "execution_count": null,
   "id": "f979c829-c25a-457c-9086-646bf05af337",
   "metadata": {},
   "outputs": [],
   "source": []
  },
  {
   "cell_type": "code",
   "execution_count": null,
   "id": "591ebf5e-3e48-444e-bd1d-a74633e743e6",
   "metadata": {},
   "outputs": [],
   "source": []
  },
  {
   "cell_type": "markdown",
   "id": "09e4abce-57e7-4abf-9673-df3a3d1b0a66",
   "metadata": {},
   "source": [
    "# exclude OCS related features"
   ]
  },
  {
   "cell_type": "code",
   "execution_count": 406,
   "id": "ab9ba1a7-d185-442f-8fa6-20d6fa2296db",
   "metadata": {},
   "outputs": [],
   "source": [
    "gridSearchData_ref, crossValData_ref, internalEvaluationData_ref, externalEvaluationData_ref = pickle.load(open('../../Clean_data/dataset_onehotencoded_ordinalencoded.sav', 'rb'))\n",
    "#outcomes\n",
    "target_outcomes = [\n",
    "    'outcome_12months' \n",
    "] \n",
    "\n",
    "#params\n",
    "params_dict = pd.read_csv('../../MODELS/BS_result_new.csv')\n",
    "def process_params(param_items, best_param):\n",
    "    a = eval(param_items)\n",
    "    b = eval(best_param)\n",
    "    c = {}\n",
    "    for key, value in zip(a,b):\n",
    "        c[key] = value\n",
    "    return c\n",
    "\n",
    "params_dict['params'] = params_dict.apply(lambda x: dict(eval(x.best_param[11:])), axis=1)\n"
   ]
  },
  {
   "cell_type": "code",
   "execution_count": 409,
   "id": "f9ccd37c-83fc-4045-8152-96109e160631",
   "metadata": {},
   "outputs": [],
   "source": [
    "#function to train model\n",
    "\n",
    "def train_model(excluded_feature):\n",
    "    #update feature candidates\n",
    "    features_columns_updated = features_columns\n",
    "    for item in features_columns_updated[:]:  # Iterate over a copy of the list\n",
    "        if excluded_feature in item:\n",
    "            features_columns_updated.remove(item)\n",
    "    print(f'Num features: {len(features_columns_updated)}')\n",
    "    \n",
    "    #prepare data\n",
    "    X_gridSearch = gridSearchData\n",
    "    X_crossVal = crossValData\n",
    "    X = pd.concat([X_gridSearch, X_crossVal])\n",
    "    X.reset_index(inplace=True, drop=True)\n",
    "    X = X[features_columns_updated]\n",
    "    \n",
    "    \n",
    "    X_externalVal = externalEvaluationData\n",
    "    X_externalVal = X_externalVal[features_columns_updated]\n",
    "    \n",
    "    X_internalVal = internalEvaluationData\n",
    "    X_internalVal = X_internalVal[features_columns_updated]\n",
    "    \n",
    "    print(X.shape)\n",
    "    print(X_internalVal.shape)\n",
    "    print(X_externalVal.shape)\n",
    "    total_samples = X_gridSearch.shape[0]+X_crossVal.shape[0]+X_internalVal.shape[0]+X_externalVal.shape[0]\n",
    "    \n",
    "\n",
    "    \n",
    "    #EXECUTE model training\n",
    "    summary_result_internalVal = []\n",
    "    summary_result_externalVal = []\n",
    "    \n",
    "    cols = ['model_name', 'fold', 'outcome', 'class_ratio', 'total_samples', 'auc', 'auprc']\n",
    "    model_folder = '../../MODELS/TestResultSensitivity/nonFeatures/'+group+'/'\n",
    "    \n",
    "    start_time = time.time()\n",
    "    for target_outcome in target_outcomes:\n",
    "        models = pd.DataFrame(columns=['modelname', 'target_outcome', 'class_ratio'])\n",
    "        print(target_outcome)\n",
    "        y_gridSearch = gridSearchData[target_outcome]\n",
    "        y_crossVal = crossValData[target_outcome]\n",
    "        y = pd.concat([y_gridSearch , y_crossVal])\n",
    "        y.reset_index(drop=True, inplace=True)\n",
    "        y_internalVal = internalEvaluationData[target_outcome]\n",
    "        \n",
    "        y_externalVal = externalEvaluationData[target_outcome]\n",
    "        \n",
    "        fold = '' #no fold for the FINAL MODEL - trained on crossval and gridsearch sets\n",
    "        \n",
    "        \n",
    "        #Build models -> it can be commented if the models have been trained\n",
    "        models_temp = pd.DataFrame(build_models(X, y, target_outcome, params_dict, model_folder, fold), columns=['modelname', 'target_outcome', 'class_ratio'])\n",
    "        models = pd.concat([models,models_temp]).reset_index(drop=True)\n",
    "    \n",
    "    \n",
    "        #evaluate model\n",
    "        for modelname, target_outcome, classratio in models.values:\n",
    "            # print('======================================================================')\n",
    "            print(modelname)\n",
    "            model = pickle.load(open(model_folder + target_outcome + '_'+ modelname + '.sav', 'rb'))       \n",
    "            summary_result_internalVal.append((modelname, fold, target_outcome, classratio, total_samples,) + summariseResult (X_internalVal, y_internalVal, model) )       \n",
    "            summary_result_externalVal.append((modelname, fold, target_outcome, classratio, total_samples,) + summariseResult (X_externalVal, y_externalVal, model) )       \n",
    "            # torch.cuda.empty_cache()\n",
    "    \n",
    "    \n",
    "    summary_result_internalVal = pd.DataFrame(summary_result_internalVal, columns=cols)\n",
    "    summary_result_internalVal['model_num'] = summary_result_internalVal.index\n",
    "    summary_result_internalVal.to_csv('../../MODELS/internalValResult_sensitivity_non'+group+'.csv', index_label=False, index=False)\n",
    "    \n",
    "    summary_result_externalVal = pd.DataFrame(summary_result_externalVal, columns=cols)\n",
    "    summary_result_externalVal['model_num'] = summary_result_externalVal.index\n",
    "    summary_result_externalVal.to_csv('../../MODELS/externalValResult_sensitivity_non'+group+'.csv', index_label=False, index=False)\n",
    "    \n",
    "    # Calculate and print the elapsed time\n",
    "    end_time = time.time()\n",
    "    elapsed_time = end_time - start_time\n",
    "    print(f\"Elapsed time: {elapsed_time} seconds\")"
   ]
  },
  {
   "cell_type": "code",
   "execution_count": 411,
   "id": "45d96d6e-19e7-48a7-ac24-881a5e83d9b5",
   "metadata": {
    "scrolled": true
   },
   "outputs": [
    {
     "name": "stdout",
     "output_type": "stream",
     "text": [
      "Num features: 46\n",
      "(474188, 46)\n",
      "(121714, 46)\n",
      "(19860, 46)\n",
      "Total samples BTS step 1-5: 615762\n",
      "outcome_12months\n",
      "Building models . . . .\n",
      "{'C': 10.0, 'max_iter': 120, 'solver': 'liblinear'}\n",
      "LR done\n",
      "{'criterion': 'entropy', 'max_depth': 5, 'splitter': 'best'}\n",
      "DT done\n",
      "{'bootstrap': True, 'criterion': 'entropy', 'max_depth': 12, 'max_features': 'sqrt', 'min_samples_leaf': 20, 'min_samples_split': 6, 'n_estimators': 240}\n",
      "RF done\n",
      "{'colsample_bytree': 0.5, 'learning_rate': 0.021211820714260574, 'max_depth': 2, 'n_estimators': 1000, 'reg_alpha': 10.0, 'reg_lambda': 0.1, 'scale_pos_weight': 9.691656942823805, 'subsample': 0.5}\n",
      "[10:54:04] ======== Monitor (0): HostSketchContainer ========\n",
      "[10:54:04] AllReduce: 0.005801s, 1 calls @ 5801us\n",
      "\n",
      "[10:54:04] MakeCuts: 0.010142s, 1 calls @ 10142us\n",
      "\n",
      "[10:54:04] DEBUG: /workspace/src/gbm/gbtree.cc:130: Using tree method: 3\n",
      "[10:54:04] DEBUG: /workspace/src/tree/updater_gpu_hist.cu:822: [GPU Hist]: Configure\n",
      "[10:54:04] ======== Monitor (0):  ========\n",
      "[10:54:04] InitCompressedData: 0.003221s, 1 calls @ 3221us\n",
      "\n",
      "[10:54:08] ======== Monitor (0): Learner ========\n",
      "[10:54:08] Configure: 0.002163s, 1 calls @ 2163us\n",
      "\n",
      "[10:54:08] EvalOneIter: 0.002672s, 1000 calls @ 2672us\n",
      "\n",
      "[10:54:08] GetGradient: 0.083501s, 1000 calls @ 83501us\n",
      "\n",
      "[10:54:08] PredictRaw: 0.001162s, 1000 calls @ 1162us\n",
      "\n",
      "[10:54:08] UpdateOneIter: 4.20968s, 1000 calls @ 4209680us\n",
      "\n",
      "[10:54:08] ======== Monitor (0): GBTree ========\n",
      "[10:54:08] BoostNewTrees: 3.78939s, 1000 calls @ 3789391us\n",
      "\n",
      "[10:54:08] CommitModel: 0.000379s, 1000 calls @ 379us\n",
      "\n",
      "[10:54:08] ======== Device 0 Memory Allocations:  ========\n",
      "[10:54:08] Peak memory usage: 761MiB\n",
      "[10:54:08] Number of allocations: 945085\n",
      "[10:54:08] ======== Monitor (0): updater_gpu_hist ========\n",
      "[10:54:08] InitData: 0.00177s, 1000 calls @ 1770us\n",
      "\n",
      "[10:54:08] InitDataOnce: 0.001668s, 1 calls @ 1668us\n",
      "\n",
      "[10:54:08] Update: 3.63351s, 1000 calls @ 3633507us\n",
      "\n",
      "[10:54:08] UpdatePredictionCache: 0.151075s, 1000 calls @ 151075us\n",
      "\n",
      "[10:54:08] ======== Monitor (0): gradient_based_sampler ========\n",
      "[10:54:08] Sample: 0.025463s, 1000 calls @ 25463us\n",
      "\n",
      "[10:54:08] ======== Monitor (0): GPUHistMakerDevicecuda:0 ========\n",
      "[10:54:08] AllReduce: 0.000564s, 2000 calls @ 564us\n",
      "\n",
      "[10:54:08] BuildHist: 0.01393s, 2000 calls @ 13930us\n",
      "\n",
      "[10:54:08] EvaluateSplits: 0.459726s, 2000 calls @ 459726us\n",
      "\n",
      "[10:54:08] FinalisePosition: 0.806415s, 1000 calls @ 806415us\n",
      "\n",
      "[10:54:08] InitRoot: 1.58876s, 1000 calls @ 1588765us\n",
      "\n",
      "[10:54:08] Reset: 0.476001s, 1000 calls @ 476001us\n",
      "\n",
      "[10:54:08] UpdatePosition: 0.278784s, 2000 calls @ 278784us\n",
      "\n",
      "XGB done\n",
      "LR\n"
     ]
    },
    {
     "name": "stderr",
     "output_type": "stream",
     "text": [
      "/tmp/ipykernel_211/2456645960.py:56: FutureWarning: The behavior of DataFrame concatenation with empty or all-NA entries is deprecated. In a future version, this will no longer exclude empty or all-NA columns when determining the result dtypes. To retain the old behavior, exclude the relevant entries before the concat operation.\n",
      "  models = pd.concat([models,models_temp]).reset_index(drop=True)\n"
     ]
    },
    {
     "name": "stdout",
     "output_type": "stream",
     "text": [
      "DT\n",
      "RF\n",
      "XGB\n",
      "[10:54:12] DEBUG: /workspace/src/gbm/gbtree.cc:130: Using tree method: 3\n",
      "[10:54:12] DEBUG: /workspace/src/tree/updater_gpu_hist.cu:822: [GPU Hist]: Configure\n",
      "Elapsed time: 89.40400004386902 seconds\n"
     ]
    }
   ],
   "source": [
    "train_model(excluded_feature='OCS')"
   ]
  },
  {
   "cell_type": "code",
   "execution_count": 412,
   "id": "b5b571ef-0753-4f0b-a05e-d73662df6899",
   "metadata": {},
   "outputs": [
    {
     "data": {
      "image/png": "[encoded data removed]",
      "text/plain": [
       "<Figure size 584x288 with 1 Axes>"
      ]
     },
     "metadata": {
      "needs_background": "light"
     },
     "output_type": "display_data"
    }
   ],
   "source": [
    "plot_result('nonOCS')"
   ]
  },
  {
   "cell_type": "code",
   "execution_count": null,
   "id": "3cdf00b4-b77c-4f1b-b548-a0cef8ae3f9e",
   "metadata": {},
   "outputs": [],
   "source": []
  }
 ],
 "metadata": {
  "kernelspec": {
   "display_name": "Python 3 (ipykernel)",
   "language": "python",
   "name": "python3"
  },
  "language_info": {
   "codemirror_mode": {
    "name": "ipython",
    "version": 3
   },
   "file_extension": ".py",
   "mimetype": "text/x-python",
   "name": "python",
   "nbconvert_exporter": "python",
   "pygments_lexer": "ipython3",
   "version": "3.10.14"
  }
 },
 "nbformat": 4,
 "nbformat_minor": 5
}
