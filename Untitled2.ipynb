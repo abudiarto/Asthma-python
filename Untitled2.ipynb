{
 "cells": [
  {
   "cell_type": "code",
   "execution_count": 1,
   "id": "5a7518fb-d9c8-487e-aae8-0951a59c6597",
   "metadata": {
    "tags": []
   },
   "outputs": [],
   "source": [
    "import pandas as pd\n",
    "import cudf\n",
    "import pyreadr\n",
    "import numpy as np\n",
    "import torch\n",
    "import pickle\n",
    "from os import listdir\n",
    "from os.path import isfile, join\n"
   ]
  },
  {
   "cell_type": "code",
   "execution_count": 2,
   "id": "dd9c7c44-c0e3-495d-8b8d-76644ae1d702",
   "metadata": {
    "tags": []
   },
   "outputs": [],
   "source": [
    "clinical_specific_readcode = pd.read_csv('../FinalData/pivotClinicalCodesbyCountry_specific.csv')\n",
    "therapy_specific_readcode = pd.read_csv('../FinalData/pivotTherapyCodesbyCountry_specific.csv')\n",
    "read2term = pd.read_csv('../FinalData/Read2Term.csv')\n",
    "term2desc = pd.read_csv('../FinalData/Term2Desc.csv')"
   ]
  },
  {
   "cell_type": "code",
   "execution_count": 3,
   "id": "bb0fb1e9-d613-4eb9-ac9e-4b895627d5d2",
   "metadata": {
    "tags": []
   },
   "outputs": [],
   "source": [
    "read2desc = read2term[['CC', 'TERMID']].merge(term2desc[['TERMID', 'TERM30', 'TERM60']], on='TERMID', how='left')"
   ]
  },
  {
   "cell_type": "code",
   "execution_count": 4,
   "id": "808b65ec-0194-4081-ba7a-04afc19ba873",
   "metadata": {
    "tags": []
   },
   "outputs": [],
   "source": [
    "read2desc.to_csv('../FinalData/Read2Desc.csv', index_label=False, index=False)"
   ]
  },
  {
   "cell_type": "code",
   "execution_count": 19,
   "id": "c960f294-ecb2-4282-aaaf-b7a4e307a8de",
   "metadata": {
    "tags": []
   },
   "outputs": [],
   "source": [
    "clinical = pd.read_feather('../SeqModel/all_data_clinical_specific.feather')\n",
    "therapy = pd.read_feather('../SeqModel/all_data_therapy_specific.feather')"
   ]
  },
  {
   "cell_type": "code",
   "execution_count": 20,
   "id": "0263d34f-0683-49ae-ad5c-160513125bbf",
   "metadata": {
    "tags": []
   },
   "outputs": [],
   "source": [
    "code2idx_clin = pickle.load(open('../SeqModel/all_vocab_clinical_specific.sav', 'rb'))\n",
    "code2idx_ther = pickle.load(open('../SeqModel/all_vocab_therapy_specific.sav', 'rb'))"
   ]
  },
  {
   "cell_type": "code",
   "execution_count": 21,
   "id": "f1a6f69e-b9e7-48a3-9e01-f270525eaa11",
   "metadata": {
    "tags": []
   },
   "outputs": [],
   "source": [
    "clinical_vocab = pd.DataFrame(code2idx_clin, columns=['CC'])\n",
    "clinical_vocab = clinical_vocab.merge(read2desc, on='CC', how='left')\n",
    "clinical_vocab.drop_duplicates(subset='CC')\n",
    "clinical_vocab = clinical_vocab.dropna()\n",
    "clinical_vocab.reset_index(inplace=True, drop=True)"
   ]
  },
  {
   "cell_type": "code",
   "execution_count": 22,
   "id": "5c04a211-59a2-4259-b098-607149588a15",
   "metadata": {
    "tags": []
   },
   "outputs": [
    {
     "data": {
      "text/html": [
       "<div>\n",
       "<style scoped>\n",
       "    .dataframe tbody tr th:only-of-type {\n",
       "        vertical-align: middle;\n",
       "    }\n",
       "\n",
       "    .dataframe tbody tr th {\n",
       "        vertical-align: top;\n",
       "    }\n",
       "\n",
       "    .dataframe thead th {\n",
       "        text-align: right;\n",
       "    }\n",
       "</style>\n",
       "<table border=\"1\" class=\"dataframe\">\n",
       "  <thead>\n",
       "    <tr style=\"text-align: right;\">\n",
       "      <th></th>\n",
       "      <th>CC</th>\n",
       "      <th>TERMID</th>\n",
       "      <th>TERM30</th>\n",
       "      <th>TERM60</th>\n",
       "    </tr>\n",
       "  </thead>\n",
       "  <tbody>\n",
       "    <tr>\n",
       "      <th>0</th>\n",
       "      <td>663K.</td>\n",
       "      <td>Y7A02</td>\n",
       "      <td>Airways obstructn irreversible</td>\n",
       "      <td>Airways obstructn irreversible</td>\n",
       "    </tr>\n",
       "    <tr>\n",
       "      <th>1</th>\n",
       "      <td>ZV725</td>\n",
       "      <td>Ya0oq</td>\n",
       "      <td>[V]Radiological examinatn. NEC</td>\n",
       "      <td>[V]Radiological examination NEC</td>\n",
       "    </tr>\n",
       "    <tr>\n",
       "      <th>2</th>\n",
       "      <td>ZV725</td>\n",
       "      <td>Ya0op</td>\n",
       "      <td>[V]Routine chest X-ray</td>\n",
       "      <td>[V]Routine chest X-ray</td>\n",
       "    </tr>\n",
       "    <tr>\n",
       "      <th>3</th>\n",
       "      <td>X506J</td>\n",
       "      <td>Y50GT</td>\n",
       "      <td>Disseminated secondary eczema</td>\n",
       "      <td>Disseminated secondary eczema</td>\n",
       "    </tr>\n",
       "    <tr>\n",
       "      <th>4</th>\n",
       "      <td>j2...</td>\n",
       "      <td>y02vt</td>\n",
       "      <td>Non-steroid anti-inflam. drug</td>\n",
       "      <td>Non-steroidal anti-inflammatory drug</td>\n",
       "    </tr>\n",
       "    <tr>\n",
       "      <th>...</th>\n",
       "      <td>...</td>\n",
       "      <td>...</td>\n",
       "      <td>...</td>\n",
       "      <td>...</td>\n",
       "    </tr>\n",
       "    <tr>\n",
       "      <th>1775</th>\n",
       "      <td>XaIIW</td>\n",
       "      <td>Yakgo</td>\n",
       "      <td>Asth A&amp;E attend since last vis</td>\n",
       "      <td>Asthma accident and emergency attendance since...</td>\n",
       "    </tr>\n",
       "    <tr>\n",
       "      <th>1776</th>\n",
       "      <td>H22yz</td>\n",
       "      <td>Y101v</td>\n",
       "      <td>Pneumonia due to bacteria NOS</td>\n",
       "      <td>Pneumonia due to bacteria NOS</td>\n",
       "    </tr>\n",
       "    <tr>\n",
       "      <th>1777</th>\n",
       "      <td>XaFwz</td>\n",
       "      <td>Yah7Z</td>\n",
       "      <td>Asian - ethnic group</td>\n",
       "      <td>Asian - ethnic group</td>\n",
       "    </tr>\n",
       "    <tr>\n",
       "      <th>1778</th>\n",
       "      <td>X00lA</td>\n",
       "      <td>Y02SF</td>\n",
       "      <td>Perennial allergic rhinitis</td>\n",
       "      <td>Perennial allergic rhinitis</td>\n",
       "    </tr>\n",
       "    <tr>\n",
       "      <th>1779</th>\n",
       "      <td>R0608</td>\n",
       "      <td>YM10S</td>\n",
       "      <td>[D]Shortness of breath</td>\n",
       "      <td>[D]Shortness of breath</td>\n",
       "    </tr>\n",
       "  </tbody>\n",
       "</table>\n",
       "<p>1780 rows × 4 columns</p>\n",
       "</div>"
      ],
      "text/plain": [
       "         CC TERMID                          TERM30  \\\n",
       "0     663K.  Y7A02  Airways obstructn irreversible   \n",
       "1     ZV725  Ya0oq  [V]Radiological examinatn. NEC   \n",
       "2     ZV725  Ya0op          [V]Routine chest X-ray   \n",
       "3     X506J  Y50GT   Disseminated secondary eczema   \n",
       "4     j2...  y02vt   Non-steroid anti-inflam. drug   \n",
       "...     ...    ...                             ...   \n",
       "1775  XaIIW  Yakgo  Asth A&E attend since last vis   \n",
       "1776  H22yz  Y101v   Pneumonia due to bacteria NOS   \n",
       "1777  XaFwz  Yah7Z            Asian - ethnic group   \n",
       "1778  X00lA  Y02SF     Perennial allergic rhinitis   \n",
       "1779  R0608  YM10S          [D]Shortness of breath   \n",
       "\n",
       "                                                 TERM60  \n",
       "0                        Airways obstructn irreversible  \n",
       "1                       [V]Radiological examination NEC  \n",
       "2                                [V]Routine chest X-ray  \n",
       "3                         Disseminated secondary eczema  \n",
       "4                  Non-steroidal anti-inflammatory drug  \n",
       "...                                                 ...  \n",
       "1775  Asthma accident and emergency attendance since...  \n",
       "1776                      Pneumonia due to bacteria NOS  \n",
       "1777                               Asian - ethnic group  \n",
       "1778                        Perennial allergic rhinitis  \n",
       "1779                             [D]Shortness of breath  \n",
       "\n",
       "[1780 rows x 4 columns]"
      ]
     },
     "execution_count": 22,
     "metadata": {},
     "output_type": "execute_result"
    }
   ],
   "source": [
    "clinical_vocab"
   ]
  },
  {
   "cell_type": "code",
   "execution_count": 23,
   "id": "2f712b46-fd87-4a04-b5bb-47b134f1ce40",
   "metadata": {
    "tags": []
   },
   "outputs": [
    {
     "name": "stdout",
     "output_type": "stream",
     "text": [
      "code2idx Size: 1316\n",
      "idx2code Size: 1316\n"
     ]
    }
   ],
   "source": [
    "#vocab and code2idx generation\n",
    "# vocab_all = all_raw_data.code_id.unique().tolist()\n",
    "vocab_all = code2idx_clin\n",
    "vocab_all = list(set(vocab_all))\n",
    "idx_all = range(1, len(vocab_all)+1)\n",
    "\n",
    "code2idx_all = dict(zip(vocab_all, idx_all))\n",
    "idx2code_all = dict(zip(idx_all, vocab_all))\n",
    "\n",
    "code2idx_all['PAD'] = 0\n",
    "# code2idx_all['start_visit'] = 1\n",
    "# code2idx_all['end_visit'] = 2\n",
    "idx2code_all[0] = 'PAD'\n",
    "# idx2code_all[1] = 'start_visit'\n",
    "# idx2code_all[2] = 'end_visit'\n",
    "VOCAB_SIZE = len(code2idx_all)\n",
    "print('code2idx Size: {}'.format(len(code2idx_all)))\n",
    "print('idx2code Size: {}'.format(len(idx2code_all)))"
   ]
  },
  {
   "cell_type": "code",
   "execution_count": 24,
   "id": "e60f6e5e-93c5-42cb-b21a-a3998fae5b10",
   "metadata": {
    "tags": []
   },
   "outputs": [],
   "source": [
    "clinical['read_code_seq'] = clinical['read_code_seq_padded_idx'].apply(lambda x: [idx2code_all.get(key) for key in x])"
   ]
  },
  {
   "cell_type": "code",
   "execution_count": 25,
   "id": "f35ca2b3-54a0-4e75-a807-1cf72bec9644",
   "metadata": {
    "tags": []
   },
   "outputs": [],
   "source": [
    "def getDescfromCode(key):\n",
    "    desc = read2desc[read2desc.CC == key]['TERM60']\n",
    "    if desc.shape[0] > 0:\n",
    "        return desc.values[0]"
   ]
  },
  {
   "cell_type": "code",
   "execution_count": 26,
   "id": "735e1afe-5d2a-41da-96b0-f6a6b5831ad0",
   "metadata": {
    "tags": []
   },
   "outputs": [
    {
     "data": {
      "text/plain": [
       "0    [Recurrent bronchiectasis, [D]Respiratory symp...\n",
       "1    [[D]Respiratory symptom, unspecified, Lung fun...\n",
       "Name: read_code_seq, dtype: object"
      ]
     },
     "execution_count": 26,
     "metadata": {},
     "output_type": "execute_result"
    }
   ],
   "source": [
    "clinical[:2]['read_code_seq'].apply(lambda x: [getDescfromCode(key) for key in x])"
   ]
  },
  {
   "cell_type": "code",
   "execution_count": 27,
   "id": "32813484-f744-4991-b779-9fffbc1d1d93",
   "metadata": {
    "tags": []
   },
   "outputs": [
    {
     "data": {
      "text/plain": [
       "0    [H340., R0600, c13G., M1610, XaFwH, e927., XaL...\n",
       "1    [R0600, 337Z., Ua1qg, c13G., XaMGo, XaLMx, X50...\n",
       "Name: read_code_seq, dtype: object"
      ]
     },
     "execution_count": 27,
     "metadata": {},
     "output_type": "execute_result"
    }
   ],
   "source": [
    "clinical[:2]['read_code_seq']"
   ]
  },
  {
   "cell_type": "code",
   "execution_count": null,
   "id": "327451ff-271e-4b4a-b746-ea407d90767f",
   "metadata": {},
   "outputs": [],
   "source": []
  },
  {
   "cell_type": "code",
   "execution_count": null,
   "id": "bf7a2210-97f4-4200-9b51-4c314eb91946",
   "metadata": {},
   "outputs": [],
   "source": []
  },
  {
   "cell_type": "code",
   "execution_count": null,
   "id": "4c1ce58c-f8e8-4d6c-ab81-c45d2fcc5c9d",
   "metadata": {
    "tags": []
   },
   "outputs": [],
   "source": [
    "clinical_specific_readcode = clinical_specific_readcode.merge(read2term[['CC', 'TERMID']], left_on='code_id', right_on='CC', how='left')\n",
    "clinical_specific_readcode = clinical_specific_readcode.merge(term2desc[['TERMID', 'TERM30']], on = 'TERMID', how='left')"
   ]
  },
  {
   "cell_type": "code",
   "execution_count": null,
   "id": "488da4dd-b2be-4569-a3a5-31d1e6e72a6a",
   "metadata": {
    "tags": []
   },
   "outputs": [],
   "source": [
    "clinical_specific_readcode[clinical_specific_readcode['%England'] == 100]"
   ]
  },
  {
   "cell_type": "code",
   "execution_count": null,
   "id": "df7e6359-a21e-4cde-863b-56c5185bce5f",
   "metadata": {},
   "outputs": [],
   "source": []
  },
  {
   "cell_type": "code",
   "execution_count": null,
   "id": "adc16749-3f4b-401a-bd2e-640f1ad1ff35",
   "metadata": {
    "tags": []
   },
   "outputs": [],
   "source": [
    "clinical = pd.read_feather('../SeqModel/all_data_clinical.feather')"
   ]
  },
  {
   "cell_type": "code",
   "execution_count": null,
   "id": "74468773-841e-4185-8a97-de57b9518c44",
   "metadata": {
    "tags": []
   },
   "outputs": [],
   "source": [
    "clinical.patid.unique().shape"
   ]
  },
  {
   "cell_type": "code",
   "execution_count": null,
   "id": "91d36ba7-d52b-4ccf-b3d0-2191cc3ba6ec",
   "metadata": {},
   "outputs": [],
   "source": []
  },
  {
   "cell_type": "code",
   "execution_count": null,
   "id": "b691cbb2-d6f0-4d15-9acc-9e2402c84109",
   "metadata": {
    "tags": []
   },
   "outputs": [],
   "source": [
    "#patientData\n",
    "patient = pyreadr.read_r('../ServerData_13Oct2020/d_patient_overall.Rdata')\n",
    "practice = pyreadr.read_r('../ServerData_13Oct2020/d_practice.Rdata')\n",
    "patient = patient['d_patient_overall']\n",
    "practice = practice['d_practice']\n",
    "patient = patient[['patid', 'practice_id']].merge(practice[['practice_id', 'Country']], how='left', on='practice_id')\n",
    "\n",
    "\n",
    "#load clinical information\n",
    "path = '../ServerData_13Oct2020/'\n",
    "clinical_files = [join(path, f) for f in listdir(path) if (isfile(join(path, f))) & ('f_clinical_part' in f)]\n",
    "clinical = pyreadr.read_r('../ServerData_13Oct2020/f_clinical_part1.Rdata')\n",
    "clinical = clinical['f_clinical_part']\n",
    "clinical = clinical.dropna(subset=['code_id'])\n",
    "clinical['event_date'] = pd.to_datetime(clinical['event_date'])\n",
    "clinical = clinical.loc[(clinical['event_date'] >= '2016-01-01') & (clinical['event_date'] < '2018-01-01')]\n",
    "# clinical = clinical[clinical.code_id.isin(target_readcode.readcodes.values)]\n",
    "clinical = clinical.merge(patient[['patid', 'Country']], on='patid', how='left')\n",
    "clinical = clinical[['patid', 'code_id', 'Country']]"
   ]
  },
  {
   "cell_type": "code",
   "execution_count": null,
   "id": "74499cac-cab4-4e2e-8202-bd9f530d3acd",
   "metadata": {
    "tags": []
   },
   "outputs": [],
   "source": [
    "clinical = pd.pivot_table(data=clinical, values='patid', index='code_id', columns='Country', aggfunc=pd.Series.nunique)\n",
    "clinical = clinical[['England','Scotland','Wales']]\n",
    "clinical = clinical.fillna(0)\n",
    "clinical['%England'] = clinical.apply(lambda x: x.England/sum([x.England, x.Scotland, x.Wales])*100, axis=1)\n",
    "clinical['%Scotland'] = clinical.apply(lambda x: x.Scotland/sum([x.England, x.Scotland, x.Wales])*100, axis=1)\n",
    "clinical['%Wales'] = clinical.apply(lambda x: x.Wales/sum([x.England, x.Scotland, x.Wales])*100, axis=1)\n",
    "clinical['%patient'] = clinical.apply(lambda x: (sum([x.England, x.Scotland, x.Wales])/675260)*100, axis=1)\n",
    "clinical.sort_values('%England', ascending=False)\n"
   ]
  },
  {
   "cell_type": "code",
   "execution_count": null,
   "id": "d7dd9940-1a9f-4302-bd20-a00e01ab1ed3",
   "metadata": {
    "tags": []
   },
   "outputs": [],
   "source": [
    "clinical.sort_values('%patient', ascending=False)"
   ]
  }
 ],
 "metadata": {
  "kernelspec": {
   "display_name": "Python 3 (ipykernel)",
   "language": "python",
   "name": "python3"
  },
  "language_info": {
   "codemirror_mode": {
    "name": "ipython",
    "version": 3
   },
   "file_extension": ".py",
   "mimetype": "text/x-python",
   "name": "python",
   "nbconvert_exporter": "python",
   "pygments_lexer": "ipython3",
   "version": "3.10.11"
  }
 },
 "nbformat": 4,
 "nbformat_minor": 5
}
