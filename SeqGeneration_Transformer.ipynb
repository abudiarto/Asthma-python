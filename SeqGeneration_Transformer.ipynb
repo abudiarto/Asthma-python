{
 "cells": [
  {
   "cell_type": "code",
   "execution_count": 1,
   "id": "8ce0f414-d8a6-4816-9a6b-3f69956ea214",
   "metadata": {
    "tags": []
   },
   "outputs": [],
   "source": [
    "import pandas as pd\n",
    "import pickle\n",
    "import numpy as np"
   ]
  },
  {
   "cell_type": "code",
   "execution_count": 4,
   "id": "4277417a-e1e9-4a71-9c16-5de34b28e610",
   "metadata": {
    "tags": []
   },
   "outputs": [],
   "source": [
    "vocab_clinical = pickle.load(open('../SeqModel/all_vocab_clinical_new.sav', 'rb'))\n",
    "vocab_therapy = pickle.load(open('../SeqModel/all_vocab_therapy_new.sav', 'rb'))\n",
    "\n",
    "data_clinical = pd.read_feather('../SeqModel/all_data_clinical_new.feather')\n",
    "data_therapy = pd.read_feather('../SeqModel/all_data_therapy_new.feather')\n",
    "\n",
    "vocab_stat_clinical = pd.read_csv('../FinalData/pivotClinicalCodesbyCountry.csv')\n",
    "vocab_stat_therapy = pd.read_csv('../FinalData/pivotTherapyCodesbyCountry.csv')"
   ]
  },
  {
   "cell_type": "code",
   "execution_count": 5,
   "id": "b5d5dc87-bee0-4123-b203-3f7020638536",
   "metadata": {
    "tags": []
   },
   "outputs": [
    {
     "data": {
      "text/html": [
       "<div>\n",
       "<style scoped>\n",
       "    .dataframe tbody tr th:only-of-type {\n",
       "        vertical-align: middle;\n",
       "    }\n",
       "\n",
       "    .dataframe tbody tr th {\n",
       "        vertical-align: top;\n",
       "    }\n",
       "\n",
       "    .dataframe thead th {\n",
       "        text-align: right;\n",
       "    }\n",
       "</style>\n",
       "<table border=\"1\" class=\"dataframe\">\n",
       "  <thead>\n",
       "    <tr style=\"text-align: right;\">\n",
       "      <th></th>\n",
       "      <th>patid</th>\n",
       "      <th>read_code_seq_padded_idx</th>\n",
       "      <th>read_code_seq_padded_end_idx</th>\n",
       "      <th>month_padded_idx</th>\n",
       "      <th>month_padded_idx_end</th>\n",
       "      <th>Country</th>\n",
       "      <th>age</th>\n",
       "      <th>3months</th>\n",
       "      <th>6months</th>\n",
       "      <th>9months</th>\n",
       "      <th>12months</th>\n",
       "      <th>read_code_seq_padded</th>\n",
       "      <th>read_code_seq_padded_end_idx_new</th>\n",
       "    </tr>\n",
       "  </thead>\n",
       "  <tbody>\n",
       "    <tr>\n",
       "      <th>0</th>\n",
       "      <td>43671012</td>\n",
       "      <td>[65736, 51831, 47442, 23669, 54300, 22478, 638...</td>\n",
       "      <td>[65736, 51831, 47442, 23669, 54300, 22478, 638...</td>\n",
       "      <td>[3, 3, 3, 3, 3, 3, 3, 3, 3, 3, 3, 3, 3, 3, 3, ...</td>\n",
       "      <td>[3, 3, 3, 3, 3, 3, 3, 3, 3, 3, 3, 3, 3, 3, 3, ...</td>\n",
       "      <td>England</td>\n",
       "      <td>16</td>\n",
       "      <td>0</td>\n",
       "      <td>0</td>\n",
       "      <td>0</td>\n",
       "      <td>0</td>\n",
       "      <td>[242.., 246A., 8B314, R0023, 2469., XaMiI, 246...</td>\n",
       "      <td>[35, 5, 50, 5279, 4, 27, 34, 767, 91, 27, 28, ...</td>\n",
       "    </tr>\n",
       "    <tr>\n",
       "      <th>1</th>\n",
       "      <td>43655540</td>\n",
       "      <td>[60831, 31316, 35549, 40619, 31180, 24942, 643...</td>\n",
       "      <td>[60831, 31316, 35549, 40619, 31180, 24942, 643...</td>\n",
       "      <td>[1, 1, 1, 1, 1, 1, 1, 1, 1, 2, 3, 3, 3, 4, 4, ...</td>\n",
       "      <td>[1, 1, 1, 1, 1, 1, 1, 1, 1, 2, 3, 3, 3, 4, 4, ...</td>\n",
       "      <td>England</td>\n",
       "      <td>67</td>\n",
       "      <td>0</td>\n",
       "      <td>1</td>\n",
       "      <td>1</td>\n",
       "      <td>1</td>\n",
       "      <td>[42A.., X77Wi, 44O.., 423.., 428.., 42ZD., 44J...</td>\n",
       "      <td>[9, 36, 118, 43, 47, 433, 51, 29, 40, 276, 156...</td>\n",
       "    </tr>\n",
       "    <tr>\n",
       "      <th>2</th>\n",
       "      <td>43582797</td>\n",
       "      <td>[0, 0, 0, 0, 0, 0, 0, 0, 0, 0, 0, 0, 0, 0, 0, ...</td>\n",
       "      <td>[16748, 36519, 47808, 65736, 65678, 63979, 147...</td>\n",
       "      <td>[0, 0, 0, 0, 0, 0, 0, 0, 0, 0, 0, 0, 0, 0, 0, ...</td>\n",
       "      <td>[1, 1, 1, 1, 1, 1, 1, 1, 1, 1, 1, 1, 0, 0, 0, ...</td>\n",
       "      <td>England</td>\n",
       "      <td>41</td>\n",
       "      <td>0</td>\n",
       "      <td>0</td>\n",
       "      <td>0</td>\n",
       "      <td>0</td>\n",
       "      <td>[3395., 2E3.., X770D, 242.., Xa1hD, XaIer, XaX...</td>\n",
       "      <td>[61, 696, 70, 35, 167, 284, 620, 373, 110, 46,...</td>\n",
       "    </tr>\n",
       "    <tr>\n",
       "      <th>3</th>\n",
       "      <td>43554478</td>\n",
       "      <td>[0, 0, 0, 0, 0, 0, 0, 0, 0, 0, 0, 0, 0, 0, 0, ...</td>\n",
       "      <td>[69021, 59826, 62564, 47442, 59771, 18293, 264...</td>\n",
       "      <td>[0, 0, 0, 0, 0, 0, 0, 0, 0, 0, 0, 0, 0, 0, 0, ...</td>\n",
       "      <td>[1, 1, 1, 1, 1, 1, 1, 1, 1, 1, 1, 1, 1, 1, 1, ...</td>\n",
       "      <td>England</td>\n",
       "      <td>20</td>\n",
       "      <td>0</td>\n",
       "      <td>0</td>\n",
       "      <td>0</td>\n",
       "      <td>0</td>\n",
       "      <td>[Ua1Nz, 663e., XaINd, 8B314, XaIeq, 1371., 663...</td>\n",
       "      <td>[42, 305, 94, 50, 1, 46, 193, 433, 16, 17, 49,...</td>\n",
       "    </tr>\n",
       "    <tr>\n",
       "      <th>4</th>\n",
       "      <td>43611754</td>\n",
       "      <td>[0, 0, 0, 0, 0, 0, 0, 0, 0, 0, 0, 0, 0, 0, 0, ...</td>\n",
       "      <td>[62065, 58863, 0, 0, 0, 0, 0, 0, 0, 0, 0, 0, 0...</td>\n",
       "      <td>[0, 0, 0, 0, 0, 0, 0, 0, 0, 0, 0, 0, 0, 0, 0, ...</td>\n",
       "      <td>[1, 1, 0, 0, 0, 0, 0, 0, 0, 0, 0, 0, 0, 0, 0, ...</td>\n",
       "      <td>England</td>\n",
       "      <td>21</td>\n",
       "      <td>0</td>\n",
       "      <td>0</td>\n",
       "      <td>0</td>\n",
       "      <td>0</td>\n",
       "      <td>[173A., XaASl, PAD, PAD, PAD, PAD, PAD, PAD, P...</td>\n",
       "      <td>[992, 556, 0, 0, 0, 0, 0, 0, 0, 0, 0, 0, 0, 0,...</td>\n",
       "    </tr>\n",
       "  </tbody>\n",
       "</table>\n",
       "</div>"
      ],
      "text/plain": [
       "      patid                           read_code_seq_padded_idx  \\\n",
       "0  43671012  [65736, 51831, 47442, 23669, 54300, 22478, 638...   \n",
       "1  43655540  [60831, 31316, 35549, 40619, 31180, 24942, 643...   \n",
       "2  43582797  [0, 0, 0, 0, 0, 0, 0, 0, 0, 0, 0, 0, 0, 0, 0, ...   \n",
       "3  43554478  [0, 0, 0, 0, 0, 0, 0, 0, 0, 0, 0, 0, 0, 0, 0, ...   \n",
       "4  43611754  [0, 0, 0, 0, 0, 0, 0, 0, 0, 0, 0, 0, 0, 0, 0, ...   \n",
       "\n",
       "                        read_code_seq_padded_end_idx  \\\n",
       "0  [65736, 51831, 47442, 23669, 54300, 22478, 638...   \n",
       "1  [60831, 31316, 35549, 40619, 31180, 24942, 643...   \n",
       "2  [16748, 36519, 47808, 65736, 65678, 63979, 147...   \n",
       "3  [69021, 59826, 62564, 47442, 59771, 18293, 264...   \n",
       "4  [62065, 58863, 0, 0, 0, 0, 0, 0, 0, 0, 0, 0, 0...   \n",
       "\n",
       "                                    month_padded_idx  \\\n",
       "0  [3, 3, 3, 3, 3, 3, 3, 3, 3, 3, 3, 3, 3, 3, 3, ...   \n",
       "1  [1, 1, 1, 1, 1, 1, 1, 1, 1, 2, 3, 3, 3, 4, 4, ...   \n",
       "2  [0, 0, 0, 0, 0, 0, 0, 0, 0, 0, 0, 0, 0, 0, 0, ...   \n",
       "3  [0, 0, 0, 0, 0, 0, 0, 0, 0, 0, 0, 0, 0, 0, 0, ...   \n",
       "4  [0, 0, 0, 0, 0, 0, 0, 0, 0, 0, 0, 0, 0, 0, 0, ...   \n",
       "\n",
       "                                month_padded_idx_end  Country  age  3months  \\\n",
       "0  [3, 3, 3, 3, 3, 3, 3, 3, 3, 3, 3, 3, 3, 3, 3, ...  England   16        0   \n",
       "1  [1, 1, 1, 1, 1, 1, 1, 1, 1, 2, 3, 3, 3, 4, 4, ...  England   67        0   \n",
       "2  [1, 1, 1, 1, 1, 1, 1, 1, 1, 1, 1, 1, 0, 0, 0, ...  England   41        0   \n",
       "3  [1, 1, 1, 1, 1, 1, 1, 1, 1, 1, 1, 1, 1, 1, 1, ...  England   20        0   \n",
       "4  [1, 1, 0, 0, 0, 0, 0, 0, 0, 0, 0, 0, 0, 0, 0, ...  England   21        0   \n",
       "\n",
       "   6months  9months  12months  \\\n",
       "0        0        0         0   \n",
       "1        1        1         1   \n",
       "2        0        0         0   \n",
       "3        0        0         0   \n",
       "4        0        0         0   \n",
       "\n",
       "                                read_code_seq_padded  \\\n",
       "0  [242.., 246A., 8B314, R0023, 2469., XaMiI, 246...   \n",
       "1  [42A.., X77Wi, 44O.., 423.., 428.., 42ZD., 44J...   \n",
       "2  [3395., 2E3.., X770D, 242.., Xa1hD, XaIer, XaX...   \n",
       "3  [Ua1Nz, 663e., XaINd, 8B314, XaIeq, 1371., 663...   \n",
       "4  [173A., XaASl, PAD, PAD, PAD, PAD, PAD, PAD, P...   \n",
       "\n",
       "                    read_code_seq_padded_end_idx_new  \n",
       "0  [35, 5, 50, 5279, 4, 27, 34, 767, 91, 27, 28, ...  \n",
       "1  [9, 36, 118, 43, 47, 433, 51, 29, 40, 276, 156...  \n",
       "2  [61, 696, 70, 35, 167, 284, 620, 373, 110, 46,...  \n",
       "3  [42, 305, 94, 50, 1, 46, 193, 433, 16, 17, 49,...  \n",
       "4  [992, 556, 0, 0, 0, 0, 0, 0, 0, 0, 0, 0, 0, 0,...  "
      ]
     },
     "execution_count": 5,
     "metadata": {},
     "output_type": "execute_result"
    }
   ],
   "source": [
    "data_clinical.head()"
   ]
  },
  {
   "cell_type": "code",
   "execution_count": 25,
   "id": "79547a87-8d2d-40e8-b946-0173f66faf7d",
   "metadata": {
    "tags": []
   },
   "outputs": [],
   "source": [
    "def remove_padding(x):\n",
    "    return np.delete(x, np.where(x=='PAD'))"
   ]
  },
  {
   "cell_type": "code",
   "execution_count": 27,
   "id": "8b5f7177-3ae6-4172-a658-70d73bc690d8",
   "metadata": {
    "tags": []
   },
   "outputs": [
    {
     "data": {
      "text/plain": [
       "0         [242.., 246A., 8B314, R0023, 2469., XaMiI, 246...\n",
       "1         [42A.., X77Wi, 44O.., 423.., 428.., 42ZD., 44J...\n",
       "2         [3395., 2E3.., X770D, 242.., Xa1hD, XaIer, XaX...\n",
       "3         [Ua1Nz, 663e., XaINd, 8B314, XaIeq, 1371., 663...\n",
       "4                                            [173A., XaASl]\n",
       "                                ...                        \n",
       "675255    [9OS2., XaJ50, XaIej, wm9a., XaIek, 8B41., XaI...\n",
       "675256    [9O41., XaMiI, Xa7sK, XaCFL, XB001, X77c1, 1.....\n",
       "675257    [2469., 9N31., 46..., 1366., 9O21., 9O21., 243...\n",
       "675258    [XaF8d, XaJlT, 9OJ4., XaMJa, XaOwL, X77Qu, 663...\n",
       "675259    [Xab9D, XacWQ, 9344., XaF8d, XaPP8, XaRFh, 137...\n",
       "Length: 675260, dtype: object"
      ]
     },
     "execution_count": 27,
     "metadata": {},
     "output_type": "execute_result"
    }
   ],
   "source": [
    "data_clinical.apply(lambda x: remove_padding(x['read_code_seq_padded']), axis=1)"
   ]
  },
  {
   "cell_type": "code",
   "execution_count": 21,
   "id": "15833a42-dd16-4718-8523-3674b2c9edbd",
   "metadata": {
    "tags": []
   },
   "outputs": [
    {
     "data": {
      "text/plain": [
       "array(['XaIeq', '663N.', '663P.', 'XaIIZ', 'Xa1hD', 'Xa83j', '8794.',\n",
       "       'XaZ4m', '9OJ..', 'XaIQD', 'Ub1na', '3395.', 'X770D'], dtype=object)"
      ]
     },
     "execution_count": 21,
     "metadata": {},
     "output_type": "execute_result"
    }
   ],
   "source": [
    "np.delete(a, np.where(a=='PAD'))"
   ]
  },
  {
   "cell_type": "code",
   "execution_count": 16,
   "id": "8dcfc852-3f8d-41c8-96e8-698c5e438a71",
   "metadata": {
    "tags": []
   },
   "outputs": [
    {
     "data": {
      "text/plain": [
       "array(['XaIeq', '663N.', '663P.', 'XaIIZ', 'Xa1hD', 'Xa83j', '8794.',\n",
       "       'XaZ4m', '9OJ..', 'XaIQD', 'Ub1na', '3395.', 'X770D', 'PAD', 'PAD',\n",
       "       'PAD', 'PAD', 'PAD', 'PAD', 'PAD', 'PAD', 'PAD', 'PAD', 'PAD',\n",
       "       'PAD', 'PAD', 'PAD', 'PAD', 'PAD', 'PAD', 'PAD', 'PAD', 'PAD',\n",
       "       'PAD', 'PAD', 'PAD', 'PAD', 'PAD', 'PAD', 'PAD', 'PAD', 'PAD',\n",
       "       'PAD', 'PAD', 'PAD', 'PAD', 'PAD', 'PAD', 'PAD', 'PAD', 'PAD',\n",
       "       'PAD', 'PAD', 'PAD', 'PAD', 'PAD', 'PAD', 'PAD', 'PAD', 'PAD',\n",
       "       'PAD', 'PAD', 'PAD', 'PAD', 'PAD', 'PAD', 'PAD', 'PAD', 'PAD',\n",
       "       'PAD', 'PAD', 'PAD', 'PAD', 'PAD', 'PAD', 'PAD', 'PAD', 'PAD',\n",
       "       'PAD', 'PAD', 'PAD', 'PAD', 'PAD', 'PAD', 'PAD', 'PAD', 'PAD',\n",
       "       'PAD', 'PAD', 'PAD', 'PAD', 'PAD', 'PAD', 'PAD', 'PAD', 'PAD',\n",
       "       'PAD', 'PAD', 'PAD', 'PAD', 'PAD', 'PAD', 'PAD', 'PAD', 'PAD',\n",
       "       'PAD', 'PAD', 'PAD', 'PAD', 'PAD', 'PAD', 'PAD', 'PAD', 'PAD',\n",
       "       'PAD', 'PAD', 'PAD', 'PAD', 'PAD', 'PAD', 'PAD', 'PAD', 'PAD',\n",
       "       'PAD', 'PAD', 'PAD', 'PAD', 'PAD', 'PAD', 'PAD', 'PAD', 'PAD',\n",
       "       'PAD', 'PAD', 'PAD', 'PAD', 'PAD', 'PAD', 'PAD', 'PAD', 'PAD',\n",
       "       'PAD', 'PAD', 'PAD', 'PAD', 'PAD', 'PAD', 'PAD', 'PAD', 'PAD'],\n",
       "      dtype=object)"
      ]
     },
     "execution_count": 16,
     "metadata": {},
     "output_type": "execute_result"
    }
   ],
   "source": [
    "a"
   ]
  },
  {
   "cell_type": "code",
   "execution_count": null,
   "id": "ea118a95-6f59-4f5d-82c8-f957884ee180",
   "metadata": {},
   "outputs": [],
   "source": []
  },
  {
   "cell_type": "code",
   "execution_count": null,
   "id": "c5efd599-9a9b-4f57-ab10-8d7528e21710",
   "metadata": {},
   "outputs": [],
   "source": []
  },
  {
   "cell_type": "code",
   "execution_count": 3,
   "id": "04d031cd-0fb2-4d61-bf07-a1c1c10453be",
   "metadata": {
    "tags": []
   },
   "outputs": [],
   "source": [
    "new_vocab_clinical = vocab_stat_clinical.sort_values('%patient', ascending=False).code_id.values"
   ]
  },
  {
   "cell_type": "code",
   "execution_count": 4,
   "id": "54b85aea-00c2-4118-9012-7142ee8e82ed",
   "metadata": {
    "tags": []
   },
   "outputs": [
    {
     "data": {
      "text/plain": [
       "75809"
      ]
     },
     "execution_count": 4,
     "metadata": {},
     "output_type": "execute_result"
    }
   ],
   "source": [
    "len(new_vocab_clinical)"
   ]
  },
  {
   "cell_type": "code",
   "execution_count": 5,
   "id": "fd704abb-e154-41d9-8495-5a8a24f50fce",
   "metadata": {
    "tags": []
   },
   "outputs": [],
   "source": [
    "pickle.dump(new_vocab_clinical, open('../SeqModel/all_vocab_clinical_new.sav', 'wb'))"
   ]
  },
  {
   "cell_type": "code",
   "execution_count": 18,
   "id": "bf1e3806-7540-4cda-8eee-fe05067e1082",
   "metadata": {
    "tags": []
   },
   "outputs": [
    {
     "name": "stdout",
     "output_type": "stream",
     "text": [
      "new code2idx Size: 75810\n",
      "new idx2code Size: 75810\n"
     ]
    }
   ],
   "source": [
    "#vocab and code2idx generation\n",
    "new_idx_clinical = range(1, len(new_vocab_clinical)+1)\n",
    "\n",
    "new_code2idx_clinical = dict(zip(new_vocab_clinical, new_idx_clinical))\n",
    "new_idx2code_clinical = dict(zip(new_idx_clinical, new_vocab_clinical))\n",
    "\n",
    "new_code2idx_clinical['PAD'] = 0\n",
    "new_idx2code_clinical[0] = 'PAD'\n",
    "# idx2code_all[1] = 'NO_CODE'\n",
    "# idx2code_all[2] = 'start_visit'\n",
    "# idx2code_all[3] = 'end_visit'\n",
    "VOCAB_SIZE = len(new_code2idx_clinical)\n",
    "print('new code2idx Size: {}'.format(len(new_code2idx_clinical)))\n",
    "print('new idx2code Size: {}'.format(len(new_idx2code_clinical)))\n",
    "\n",
    "# month_vocab = pickle.load(open('../SeqModel/month_vocab.sav', 'rb'))"
   ]
  },
  {
   "cell_type": "code",
   "execution_count": 24,
   "id": "b5ed779f-d89b-40db-9575-3983818fd6eb",
   "metadata": {
    "tags": []
   },
   "outputs": [],
   "source": [
    "data_clinical['read_code_seq_padded_end_idx_new'] = data_clinical['read_code_seq_padded'].apply(lambda x: [new_code2idx_clinical.get(key) for key in x])"
   ]
  },
  {
   "cell_type": "code",
   "execution_count": 25,
   "id": "f5311879-768c-430a-80ff-a9ce85331d7d",
   "metadata": {
    "tags": []
   },
   "outputs": [
    {
     "data": {
      "text/html": [
       "<div>\n",
       "<style scoped>\n",
       "    .dataframe tbody tr th:only-of-type {\n",
       "        vertical-align: middle;\n",
       "    }\n",
       "\n",
       "    .dataframe tbody tr th {\n",
       "        vertical-align: top;\n",
       "    }\n",
       "\n",
       "    .dataframe thead th {\n",
       "        text-align: right;\n",
       "    }\n",
       "</style>\n",
       "<table border=\"1\" class=\"dataframe\">\n",
       "  <thead>\n",
       "    <tr style=\"text-align: right;\">\n",
       "      <th></th>\n",
       "      <th>patid</th>\n",
       "      <th>read_code_seq_padded_idx</th>\n",
       "      <th>read_code_seq_padded_end_idx</th>\n",
       "      <th>month_padded_idx</th>\n",
       "      <th>month_padded_idx_end</th>\n",
       "      <th>Country</th>\n",
       "      <th>age</th>\n",
       "      <th>3months</th>\n",
       "      <th>6months</th>\n",
       "      <th>9months</th>\n",
       "      <th>12months</th>\n",
       "      <th>read_code_seq_padded</th>\n",
       "      <th>read_code_seq_padded_end_idx_new</th>\n",
       "    </tr>\n",
       "  </thead>\n",
       "  <tbody>\n",
       "    <tr>\n",
       "      <th>0</th>\n",
       "      <td>43671012</td>\n",
       "      <td>[65736, 51831, 47442, 23669, 54300, 22478, 638...</td>\n",
       "      <td>[65736, 51831, 47442, 23669, 54300, 22478, 638...</td>\n",
       "      <td>[3, 3, 3, 3, 3, 3, 3, 3, 3, 3, 3, 3, 3, 3, 3, ...</td>\n",
       "      <td>[3, 3, 3, 3, 3, 3, 3, 3, 3, 3, 3, 3, 3, 3, 3, ...</td>\n",
       "      <td>England</td>\n",
       "      <td>16</td>\n",
       "      <td>0</td>\n",
       "      <td>0</td>\n",
       "      <td>0</td>\n",
       "      <td>0</td>\n",
       "      <td>[242.., 246A., 8B314, R0023, 2469., XaMiI, 246...</td>\n",
       "      <td>[35, 5, 50, 5279, 4, 27, 34, 767, 91, 27, 28, ...</td>\n",
       "    </tr>\n",
       "    <tr>\n",
       "      <th>1</th>\n",
       "      <td>43655540</td>\n",
       "      <td>[60831, 31316, 35549, 40619, 31180, 24942, 643...</td>\n",
       "      <td>[60831, 31316, 35549, 40619, 31180, 24942, 643...</td>\n",
       "      <td>[1, 1, 1, 1, 1, 1, 1, 1, 1, 2, 3, 3, 3, 4, 4, ...</td>\n",
       "      <td>[1, 1, 1, 1, 1, 1, 1, 1, 1, 2, 3, 3, 3, 4, 4, ...</td>\n",
       "      <td>England</td>\n",
       "      <td>67</td>\n",
       "      <td>0</td>\n",
       "      <td>1</td>\n",
       "      <td>1</td>\n",
       "      <td>1</td>\n",
       "      <td>[42A.., X77Wi, 44O.., 423.., 428.., 42ZD., 44J...</td>\n",
       "      <td>[9, 36, 118, 43, 47, 433, 51, 29, 40, 276, 156...</td>\n",
       "    </tr>\n",
       "    <tr>\n",
       "      <th>2</th>\n",
       "      <td>43582797</td>\n",
       "      <td>[0, 0, 0, 0, 0, 0, 0, 0, 0, 0, 0, 0, 0, 0, 0, ...</td>\n",
       "      <td>[16748, 36519, 47808, 65736, 65678, 63979, 147...</td>\n",
       "      <td>[0, 0, 0, 0, 0, 0, 0, 0, 0, 0, 0, 0, 0, 0, 0, ...</td>\n",
       "      <td>[1, 1, 1, 1, 1, 1, 1, 1, 1, 1, 1, 1, 0, 0, 0, ...</td>\n",
       "      <td>England</td>\n",
       "      <td>41</td>\n",
       "      <td>0</td>\n",
       "      <td>0</td>\n",
       "      <td>0</td>\n",
       "      <td>0</td>\n",
       "      <td>[3395., 2E3.., X770D, 242.., Xa1hD, XaIer, XaX...</td>\n",
       "      <td>[61, 696, 70, 35, 167, 284, 620, 373, 110, 46,...</td>\n",
       "    </tr>\n",
       "    <tr>\n",
       "      <th>3</th>\n",
       "      <td>43554478</td>\n",
       "      <td>[0, 0, 0, 0, 0, 0, 0, 0, 0, 0, 0, 0, 0, 0, 0, ...</td>\n",
       "      <td>[69021, 59826, 62564, 47442, 59771, 18293, 264...</td>\n",
       "      <td>[0, 0, 0, 0, 0, 0, 0, 0, 0, 0, 0, 0, 0, 0, 0, ...</td>\n",
       "      <td>[1, 1, 1, 1, 1, 1, 1, 1, 1, 1, 1, 1, 1, 1, 1, ...</td>\n",
       "      <td>England</td>\n",
       "      <td>20</td>\n",
       "      <td>0</td>\n",
       "      <td>0</td>\n",
       "      <td>0</td>\n",
       "      <td>0</td>\n",
       "      <td>[Ua1Nz, 663e., XaINd, 8B314, XaIeq, 1371., 663...</td>\n",
       "      <td>[42, 305, 94, 50, 1, 46, 193, 433, 16, 17, 49,...</td>\n",
       "    </tr>\n",
       "    <tr>\n",
       "      <th>4</th>\n",
       "      <td>43611754</td>\n",
       "      <td>[0, 0, 0, 0, 0, 0, 0, 0, 0, 0, 0, 0, 0, 0, 0, ...</td>\n",
       "      <td>[62065, 58863, 0, 0, 0, 0, 0, 0, 0, 0, 0, 0, 0...</td>\n",
       "      <td>[0, 0, 0, 0, 0, 0, 0, 0, 0, 0, 0, 0, 0, 0, 0, ...</td>\n",
       "      <td>[1, 1, 0, 0, 0, 0, 0, 0, 0, 0, 0, 0, 0, 0, 0, ...</td>\n",
       "      <td>England</td>\n",
       "      <td>21</td>\n",
       "      <td>0</td>\n",
       "      <td>0</td>\n",
       "      <td>0</td>\n",
       "      <td>0</td>\n",
       "      <td>[173A., XaASl, PAD, PAD, PAD, PAD, PAD, PAD, P...</td>\n",
       "      <td>[992, 556, 0, 0, 0, 0, 0, 0, 0, 0, 0, 0, 0, 0,...</td>\n",
       "    </tr>\n",
       "  </tbody>\n",
       "</table>\n",
       "</div>"
      ],
      "text/plain": [
       "      patid                           read_code_seq_padded_idx  \\\n",
       "0  43671012  [65736, 51831, 47442, 23669, 54300, 22478, 638...   \n",
       "1  43655540  [60831, 31316, 35549, 40619, 31180, 24942, 643...   \n",
       "2  43582797  [0, 0, 0, 0, 0, 0, 0, 0, 0, 0, 0, 0, 0, 0, 0, ...   \n",
       "3  43554478  [0, 0, 0, 0, 0, 0, 0, 0, 0, 0, 0, 0, 0, 0, 0, ...   \n",
       "4  43611754  [0, 0, 0, 0, 0, 0, 0, 0, 0, 0, 0, 0, 0, 0, 0, ...   \n",
       "\n",
       "                        read_code_seq_padded_end_idx  \\\n",
       "0  [65736, 51831, 47442, 23669, 54300, 22478, 638...   \n",
       "1  [60831, 31316, 35549, 40619, 31180, 24942, 643...   \n",
       "2  [16748, 36519, 47808, 65736, 65678, 63979, 147...   \n",
       "3  [69021, 59826, 62564, 47442, 59771, 18293, 264...   \n",
       "4  [62065, 58863, 0, 0, 0, 0, 0, 0, 0, 0, 0, 0, 0...   \n",
       "\n",
       "                                    month_padded_idx  \\\n",
       "0  [3, 3, 3, 3, 3, 3, 3, 3, 3, 3, 3, 3, 3, 3, 3, ...   \n",
       "1  [1, 1, 1, 1, 1, 1, 1, 1, 1, 2, 3, 3, 3, 4, 4, ...   \n",
       "2  [0, 0, 0, 0, 0, 0, 0, 0, 0, 0, 0, 0, 0, 0, 0, ...   \n",
       "3  [0, 0, 0, 0, 0, 0, 0, 0, 0, 0, 0, 0, 0, 0, 0, ...   \n",
       "4  [0, 0, 0, 0, 0, 0, 0, 0, 0, 0, 0, 0, 0, 0, 0, ...   \n",
       "\n",
       "                                month_padded_idx_end  Country  age  3months  \\\n",
       "0  [3, 3, 3, 3, 3, 3, 3, 3, 3, 3, 3, 3, 3, 3, 3, ...  England   16        0   \n",
       "1  [1, 1, 1, 1, 1, 1, 1, 1, 1, 2, 3, 3, 3, 4, 4, ...  England   67        0   \n",
       "2  [1, 1, 1, 1, 1, 1, 1, 1, 1, 1, 1, 1, 0, 0, 0, ...  England   41        0   \n",
       "3  [1, 1, 1, 1, 1, 1, 1, 1, 1, 1, 1, 1, 1, 1, 1, ...  England   20        0   \n",
       "4  [1, 1, 0, 0, 0, 0, 0, 0, 0, 0, 0, 0, 0, 0, 0, ...  England   21        0   \n",
       "\n",
       "   6months  9months  12months  \\\n",
       "0        0        0         0   \n",
       "1        1        1         1   \n",
       "2        0        0         0   \n",
       "3        0        0         0   \n",
       "4        0        0         0   \n",
       "\n",
       "                                read_code_seq_padded  \\\n",
       "0  [242.., 246A., 8B314, R0023, 2469., XaMiI, 246...   \n",
       "1  [42A.., X77Wi, 44O.., 423.., 428.., 42ZD., 44J...   \n",
       "2  [3395., 2E3.., X770D, 242.., Xa1hD, XaIer, XaX...   \n",
       "3  [Ua1Nz, 663e., XaINd, 8B314, XaIeq, 1371., 663...   \n",
       "4  [173A., XaASl, PAD, PAD, PAD, PAD, PAD, PAD, P...   \n",
       "\n",
       "                    read_code_seq_padded_end_idx_new  \n",
       "0  [35, 5, 50, 5279, 4, 27, 34, 767, 91, 27, 28, ...  \n",
       "1  [9, 36, 118, 43, 47, 433, 51, 29, 40, 276, 156...  \n",
       "2  [61, 696, 70, 35, 167, 284, 620, 373, 110, 46,...  \n",
       "3  [42, 305, 94, 50, 1, 46, 193, 433, 16, 17, 49,...  \n",
       "4  [992, 556, 0, 0, 0, 0, 0, 0, 0, 0, 0, 0, 0, 0,...  "
      ]
     },
     "execution_count": 25,
     "metadata": {},
     "output_type": "execute_result"
    }
   ],
   "source": [
    "data_clinical.head()"
   ]
  },
  {
   "cell_type": "code",
   "execution_count": 26,
   "id": "820b32b2-e04e-4d48-b8a3-3f408466032c",
   "metadata": {
    "tags": []
   },
   "outputs": [],
   "source": [
    "data_clinical.to_feather('../SeqModel/all_data_clinical_new.feather')"
   ]
  },
  {
   "cell_type": "code",
   "execution_count": 2,
   "id": "71215277-adbe-4c73-ac85-ae2e5403e5a9",
   "metadata": {
    "tags": []
   },
   "outputs": [],
   "source": [
    "data_clinical = pd.read_feather('../SeqModel/all_data_clinical_new.feather')"
   ]
  },
  {
   "cell_type": "code",
   "execution_count": 9,
   "id": "3cec0676-3099-4ef6-848b-6377c8ee3db7",
   "metadata": {
    "tags": []
   },
   "outputs": [],
   "source": [
    "def remove_padding(x):\n",
    "    return np.delete(x, np.where(x=='PAD'))\n",
    "data_clinical['read_code_seq_padded_noPAD'] = data_clinical.read_code_seq_padded.apply(lambda x: np.delete(x, np.where(x=='PAD')))\n",
    "data_clinical['text'] = data_clinical['read_code_seq_padded_noPAD'].apply(lambda x: ' '.join(x))"
   ]
  },
  {
   "cell_type": "code",
   "execution_count": 33,
   "id": "9ba41f7e-1575-49c5-8d55-05ff5920b7ba",
   "metadata": {
    "tags": []
   },
   "outputs": [
    {
     "name": "stdout",
     "output_type": "stream",
     "text": [
      "(4321, 15)\n",
      "(1351, 15)\n",
      "(1081, 15)\n"
     ]
    }
   ],
   "source": [
    "from sklearn.model_selection import train_test_split\n",
    "target_outcomes = '12months'\n",
    "ignore, use = train_test_split(data_clinical, stratify=data_clinical[target_outcomes], test_size=0.01, random_state=1234)\n",
    "search_train, search_dev = train_test_split(use, stratify=use[target_outcomes], test_size=0.2, random_state=1234)\n",
    "search_train, search_val = train_test_split(search_train, stratify=search_train[target_outcomes], test_size=0.2, random_state=1234)\n",
    "search_train.reset_index(inplace=True, drop=True)\n",
    "search_val.reset_index(inplace=True, drop=True)\n",
    "print(search_train.shape)\n",
    "print(search_dev.shape)\n",
    "print(search_val.shape)"
   ]
  },
  {
   "cell_type": "code",
   "execution_count": 24,
   "id": "79e0a9c8-f62c-4749-ba2a-b6b5eedd5719",
   "metadata": {
    "tags": []
   },
   "outputs": [],
   "source": [
    "for text in search_train.text.values:\n",
    "    with open('../SeqModel/data_read_train.txt', 'a') as the_file:\n",
    "        the_file.write(text + '\\n')"
   ]
  },
  {
   "cell_type": "code",
   "execution_count": 25,
   "id": "e3435386-ce02-47b9-b060-740f9a2dd682",
   "metadata": {
    "tags": []
   },
   "outputs": [
    {
     "name": "stdout",
     "output_type": "stream",
     "text": [
      "   5402  541382 ../SeqModel/data_read_train.txt\n"
     ]
    }
   ],
   "source": [
    "!wc -lw ../SeqModel/data_read_train.txt"
   ]
  },
  {
   "cell_type": "code",
   "execution_count": 34,
   "id": "f16449f4-4013-4f12-bbca-930e5756dbbe",
   "metadata": {
    "tags": []
   },
   "outputs": [],
   "source": [
    "train = search_train[['text', '12months']]\n",
    "dev = search_dev[['text', '12months']]\n",
    "val = search_val[['text', '12months']]"
   ]
  },
  {
   "cell_type": "code",
   "execution_count": 54,
   "id": "b6475b76-2705-4a89-bc77-832584b0cfea",
   "metadata": {
    "tags": []
   },
   "outputs": [],
   "source": [
    "train = train.rename(columns={'text': 'sentence', '12months': 'label'})\n",
    "dev = dev.rename(columns={'text': 'sentence', '12months': 'label'})\n",
    "val = val.rename(columns={'text': 'sentence', '12months': 'label'})"
   ]
  },
  {
   "cell_type": "code",
   "execution_count": 58,
   "id": "7b6cf06c-9fc9-4891-a91d-781c0787fb0f",
   "metadata": {
    "tags": []
   },
   "outputs": [],
   "source": [
    "train.to_csv('../transformer_model/data/train.csv', index=None, sep='\\t', mode='a')\n",
    "dev.to_csv('../transformer_model/data/dev.csv', index=None, sep='\\t', mode='a')\n",
    "val.to_csv('../transformer_model/data/test.csv', index=None, sep='\\t', mode='a')"
   ]
  }
 ],
 "metadata": {
  "kernelspec": {
   "display_name": "Python 3 (ipykernel)",
   "language": "python",
   "name": "python3"
  },
  "language_info": {
   "codemirror_mode": {
    "name": "ipython",
    "version": 3
   },
   "file_extension": ".py",
   "mimetype": "text/x-python",
   "name": "python",
   "nbconvert_exporter": "python",
   "pygments_lexer": "ipython3",
   "version": "3.10.11"
  }
 },
 "nbformat": 4,
 "nbformat_minor": 5
}
