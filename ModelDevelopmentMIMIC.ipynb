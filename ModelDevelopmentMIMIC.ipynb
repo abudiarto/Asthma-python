{
 "cells": [
  {
   "cell_type": "markdown",
   "id": "3cf617ae-7cd6-4168-9b2a-c61a35fcaf7c",
   "metadata": {},
   "source": [
    "# ANALYSIS"
   ]
  },
  {
   "cell_type": "code",
   "execution_count": null,
   "id": "a6f7287c-5c7e-4d25-9085-f3971b3d5784",
   "metadata": {},
   "outputs": [],
   "source": [
    "#uncomment this below code to install imblearn package\n",
    "# !pip install imbalanced-learn"
   ]
  },
  {
   "cell_type": "code",
   "execution_count": 1,
   "id": "c95c2128",
   "metadata": {
    "tags": []
   },
   "outputs": [],
   "source": [
    "import pandas as pd\n",
    "import numpy as np\n",
    "import sklearn\n",
    "\n",
    "#statistics\n",
    "from scipy.stats import chi2_contingency, ttest_ind\n",
    "\n",
    "import cudf #gpu-powered DataFrame (Pandas alternative)\n",
    "\n",
    "#imbalance handling\n",
    "from imblearn.over_sampling import SMOTE, BorderlineSMOTE, SVMSMOTE, ADASYN\n",
    "from imblearn.under_sampling import RandomUnderSampler, RepeatedEditedNearestNeighbours\n",
    "from imblearn.pipeline import Pipeline\n",
    "\n",
    "#preprocessing\n",
    "from sklearn import preprocessing\n",
    "from sklearn.preprocessing import OrdinalEncoder, OneHotEncoder, LabelEncoder, MinMaxScaler\n",
    "\n",
    "#internal validation\n",
    "from sklearn.model_selection import StratifiedKFold, KFold, RepeatedStratifiedKFold, cross_val_score, GridSearchCV, PredefinedSplit\n",
    "\n",
    "#performance metrices\n",
    "from sklearn.metrics import confusion_matrix, classification_report, f1_score, balanced_accuracy_score, matthews_corrcoef, auc, average_precision_score, roc_auc_score, balanced_accuracy_score, roc_curve, accuracy_score\n",
    "\n",
    "#Models selection\n",
    "from sklearn.naive_bayes import GaussianNB, ComplementNB\n",
    "from sklearn.linear_model import LogisticRegression\n",
    "from sklearn.tree import DecisionTreeClassifier\n",
    "from sklearn.ensemble import RandomForestClassifier\n",
    "import xgboost as xgb\n",
    "from cuml.svm import SVC #gpu-powered SVM\n",
    "\n",
    "\n",
    "\n",
    "#save and load trained model\n",
    "import pickle\n",
    "\n",
    "#visualisation\n",
    "import matplotlib.pyplot as plt\n",
    "import seaborn as sns\n",
    "\n",
    "from collections import Counter\n"
   ]
  },
  {
   "cell_type": "code",
   "execution_count": 2,
   "id": "11624789",
   "metadata": {
    "tags": []
   },
   "outputs": [],
   "source": [
    "# Data loader\n",
    "features = pd.read_csv(\"../mimic_data/master_dataset.csv\")\n",
    "# outcomes = pd.read_csv(\"../FinalData/data_outcomes_10072023.csv\")\n",
    "# outcomes = outcomes[outcomes.columns[1:]]"
   ]
  },
  {
   "cell_type": "code",
   "execution_count": 3,
   "id": "45a70db7-2745-4a1a-82b6-972154341607",
   "metadata": {
    "tags": []
   },
   "outputs": [],
   "source": [
    "masterData = features.groupby('subject_id').first()\n",
    "masterData.reset_index(inplace=True, drop=True)"
   ]
  },
  {
   "cell_type": "code",
   "execution_count": 4,
   "id": "2e3acaa5-57c9-48bd-822f-67623cd4fb7a",
   "metadata": {
    "tags": []
   },
   "outputs": [
    {
     "name": "stdout",
     "output_type": "stream",
     "text": [
      "outcome_inhospital_mortality\n",
      "False    98.5%\n",
      "True      1.5%\n",
      "Name: outcome_inhospital_mortality, dtype: object\n",
      "outcome_ed_revisit_30d\n",
      "False    93.5%\n",
      "True      6.5%\n",
      "Name: outcome_ed_revisit_30d, dtype: object\n",
      "outcome_icu_transfer_12h\n",
      "False    87.1%\n",
      "True     12.9%\n",
      "Name: outcome_icu_transfer_12h, dtype: object\n"
     ]
    }
   ],
   "source": [
    "outcomes = ['outcome_inhospital_mortality', 'outcome_ed_revisit_30d', 'outcome_icu_transfer_12h'] \n",
    "for outcome in outcomes:\n",
    "    print(outcome)\n",
    "    print(masterData[outcome].value_counts(normalize=True).mul(100).round(1).astype(str) + '%')"
   ]
  },
  {
   "cell_type": "code",
   "execution_count": 5,
   "id": "8b49a383-3e9b-4700-959d-36812c05848c",
   "metadata": {
    "tags": []
   },
   "outputs": [
    {
     "name": "stdout",
     "output_type": "stream",
     "text": [
      "14 59 3\n"
     ]
    }
   ],
   "source": [
    "cont_vars = ['age', 'n_hosp_365d', 'n_icu_365d', 'n_ed_365d', 'triage_temperature',\n",
    "       'triage_heartrate', 'triage_resprate', 'triage_o2sat',\n",
    "       'triage_sbp', 'triage_dbp', 'triage_pain', 'triage_acuity', 'n_med','n_medrecon']\n",
    "\n",
    "mulcat_vars = ['arrival_transport', 'ethnicity', 'insurance']\n",
    "\n",
    "cat_vars = ['gender', 'chiefcom_chest_pain', 'chiefcom_abdominal_pain',\n",
    "       'chiefcom_headache', 'chiefcom_shortness_of_breath',\n",
    "       'chiefcom_back_pain', 'chiefcom_cough', 'chiefcom_nausea_vomiting',\n",
    "       'chiefcom_fever_chills', 'chiefcom_syncope', 'chiefcom_dizziness',\n",
    "       'cci_MI', 'cci_CHF', 'cci_PVD', 'cci_Stroke', 'cci_Dementia',\n",
    "       'cci_Pulmonary', 'cci_Rheumatic', 'cci_PUD', 'cci_Liver1',\n",
    "       'cci_DM1', 'cci_DM2', 'cci_Paralysis', 'cci_Renal', 'cci_Cancer1',\n",
    "       'cci_Liver2', 'cci_Cancer2', 'cci_HIV', 'eci_CHF',\n",
    "       'eci_Arrhythmia', 'eci_Valvular', 'eci_PHTN', 'eci_PVD',\n",
    "       'eci_HTN1', 'eci_HTN2', 'eci_Paralysis', 'eci_NeuroOther',\n",
    "       'eci_Pulmonary', 'eci_DM1', 'eci_DM2', 'eci_Hypothyroid',\n",
    "       'eci_Renal', 'eci_Liver', 'eci_PUD', 'eci_HIV', 'eci_Lymphoma',\n",
    "       'eci_Tumor2', 'eci_Tumor1', 'eci_Rheumatic', 'eci_Coagulopathy',\n",
    "       'eci_Obesity', 'eci_WeightLoss', 'eci_FluidsLytes',\n",
    "       'eci_BloodLoss', 'eci_Anemia', 'eci_Alcohol', 'eci_Drugs',\n",
    "       'eci_Psychoses', 'eci_Depression',]\n",
    "\n",
    "print(len(cont_vars), len(cat_vars), len(mulcat_vars))"
   ]
  },
  {
   "cell_type": "code",
   "execution_count": 6,
   "id": "585a2413-f00b-4d45-a3ff-1bcd6d676336",
   "metadata": {
    "tags": []
   },
   "outputs": [],
   "source": [
    "asian = ['ASIAN - SOUTH EAST ASIAN','ASIAN - CHINESE','ASIAN - ASIAN INDIAN', 'ASIAN','ASIAN - KOREAN',]\n",
    "hispanic = ['HISPANIC/LATINO - PUERTO RICAN', 'HISPANIC/LATINO - CUBAN','HISPANIC OR LATINO', 'HISPANIC/LATINO - DOMINICAN','HISPANIC/LATINO - CENTRAL AMERICAN','HISPANIC/LATINO - GUATEMALAN',\n",
    "           'SOUTH AMERICAN',  'HISPANIC/LATINO - MEXICAN', 'HISPANIC/LATINO - SALVADORAN','HISPANIC/LATINO - HONDURAN', 'HISPANIC/LATINO - COLUMBIAN',]\n",
    "white = ['WHITE', 'WHITE - BRAZILIAN','WHITE - RUSSIAN', 'AMERICAN INDIAN/ALASKA NATIVE', 'WHITE - OTHER EUROPEAN','PORTUGUESE','WHITE - EASTERN EUROPEAN',]\n",
    "black = ['BLACK/AFRICAN AMERICAN','BLACK/AFRICAN','BLACK/CARIBBEAN ISLAND','BLACK/CAPE VERDEAN', ]\n",
    "other = ['OTHER','NATIVE HAWAIIAN OR OTHER PACIFIC ISLANDER','MULTIPLE RACE/ETHNICITY']\n",
    "unknown = ['UNKNOWN', 'PATIENT DECLINED TO ANSWER','UNABLE TO OBTAIN',]\n",
    "\n",
    "def ethnicity_simplification(x):\n",
    "    if x in asian:\n",
    "        return 'Asian'\n",
    "    elif x in hispanic:\n",
    "        return 'Hispanic/Latino'\n",
    "    elif x in white:\n",
    "        return 'White'\n",
    "    elif x in black:\n",
    "        return 'Black/African American'\n",
    "    elif x in other:\n",
    "        return 'Other'\n",
    "    elif x in unknown:\n",
    "        return 'Unknown'\n",
    "    \n",
    "masterData['ethnicity'] = masterData.apply(lambda x: ethnicity_simplification(x.ethnicity), axis=1)"
   ]
  },
  {
   "cell_type": "code",
   "execution_count": 7,
   "id": "2c10e9c4-0e6c-4a78-861e-b9bf8d64e60a",
   "metadata": {
    "tags": []
   },
   "outputs": [
    {
     "data": {
      "text/plain": [
       "(10377, 79)"
      ]
     },
     "execution_count": 7,
     "metadata": {},
     "output_type": "execute_result"
    }
   ],
   "source": [
    "trainingData = masterData[outcomes+cont_vars+cat_vars+mulcat_vars]\n",
    "trainingData.shape"
   ]
  },
  {
   "cell_type": "code",
   "execution_count": 8,
   "id": "1483ee06-230b-40f9-8558-09545cbdae54",
   "metadata": {
    "tags": []
   },
   "outputs": [
    {
     "name": "stdout",
     "output_type": "stream",
     "text": [
      "Data shape after one-hot encoding:  (10377, 90)\n"
     ]
    },
    {
     "name": "stderr",
     "output_type": "stream",
     "text": [
      "/opt/conda/envs/rapids/lib/python3.10/site-packages/sklearn/preprocessing/_encoders.py:868: FutureWarning: `sparse` was renamed to `sparse_output` in version 1.2 and will be removed in 1.4. `sparse_output` is ignored unless you leave `sparse` to its default value.\n",
      "  warnings.warn(\n"
     ]
    }
   ],
   "source": [
    "#ONE HOT encoding for categorical data\n",
    "\n",
    "\n",
    "# define one hot encoder\n",
    "categoricalEncoder = OneHotEncoder(sparse=False)\n",
    "\n",
    "# transform data\n",
    "result = categoricalEncoder.fit_transform(trainingData[mulcat_vars]) \n",
    "result = pd.DataFrame(result, columns=categoricalEncoder.get_feature_names_out())\n",
    "\n",
    "#save encoder\n",
    "pickle.dump(categoricalEncoder, open('../models/categoricalEncoder.pkl', 'wb'))\n",
    "\n",
    "# replace categorical variables in the original data with the one hot version\n",
    "trainingData = pd.concat([trainingData.loc[:, ~trainingData.columns.isin(mulcat_vars)],result], axis=1)\n",
    "print('Data shape after one-hot encoding: ', trainingData.shape)"
   ]
  },
  {
   "cell_type": "code",
   "execution_count": 9,
   "id": "5b176ccb-6f57-4e12-982c-f8a674144f7d",
   "metadata": {
    "tags": []
   },
   "outputs": [
    {
     "data": {
      "text/html": [
       "<div>\n",
       "<style scoped>\n",
       "    .dataframe tbody tr th:only-of-type {\n",
       "        vertical-align: middle;\n",
       "    }\n",
       "\n",
       "    .dataframe tbody tr th {\n",
       "        vertical-align: top;\n",
       "    }\n",
       "\n",
       "    .dataframe thead th {\n",
       "        text-align: right;\n",
       "    }\n",
       "</style>\n",
       "<table border=\"1\" class=\"dataframe\">\n",
       "  <thead>\n",
       "    <tr style=\"text-align: right;\">\n",
       "      <th></th>\n",
       "      <th>outcome_inhospital_mortality</th>\n",
       "      <th>outcome_ed_revisit_30d</th>\n",
       "      <th>outcome_icu_transfer_12h</th>\n",
       "      <th>age</th>\n",
       "      <th>n_hosp_365d</th>\n",
       "      <th>n_icu_365d</th>\n",
       "      <th>n_ed_365d</th>\n",
       "      <th>triage_temperature</th>\n",
       "      <th>triage_heartrate</th>\n",
       "      <th>triage_resprate</th>\n",
       "      <th>...</th>\n",
       "      <th>arrival_transport_WALK IN</th>\n",
       "      <th>ethnicity_Asian</th>\n",
       "      <th>ethnicity_Black/African American</th>\n",
       "      <th>ethnicity_Hispanic/Latino</th>\n",
       "      <th>ethnicity_Other</th>\n",
       "      <th>ethnicity_Unknown</th>\n",
       "      <th>ethnicity_White</th>\n",
       "      <th>insurance_Medicaid</th>\n",
       "      <th>insurance_Medicare</th>\n",
       "      <th>insurance_Other</th>\n",
       "    </tr>\n",
       "  </thead>\n",
       "  <tbody>\n",
       "    <tr>\n",
       "      <th>0</th>\n",
       "      <td>False</td>\n",
       "      <td>False</td>\n",
       "      <td>False</td>\n",
       "      <td>72</td>\n",
       "      <td>2</td>\n",
       "      <td>0</td>\n",
       "      <td>0</td>\n",
       "      <td>98.2</td>\n",
       "      <td>72.0</td>\n",
       "      <td>20.0</td>\n",
       "      <td>...</td>\n",
       "      <td>1.0</td>\n",
       "      <td>0.0</td>\n",
       "      <td>1.0</td>\n",
       "      <td>0.0</td>\n",
       "      <td>0.0</td>\n",
       "      <td>0.0</td>\n",
       "      <td>0.0</td>\n",
       "      <td>0.0</td>\n",
       "      <td>1.0</td>\n",
       "      <td>0.0</td>\n",
       "    </tr>\n",
       "    <tr>\n",
       "      <th>1</th>\n",
       "      <td>False</td>\n",
       "      <td>False</td>\n",
       "      <td>False</td>\n",
       "      <td>68</td>\n",
       "      <td>0</td>\n",
       "      <td>0</td>\n",
       "      <td>0</td>\n",
       "      <td>98.4</td>\n",
       "      <td>82.0</td>\n",
       "      <td>18.0</td>\n",
       "      <td>...</td>\n",
       "      <td>0.0</td>\n",
       "      <td>0.0</td>\n",
       "      <td>0.0</td>\n",
       "      <td>0.0</td>\n",
       "      <td>0.0</td>\n",
       "      <td>0.0</td>\n",
       "      <td>1.0</td>\n",
       "      <td>0.0</td>\n",
       "      <td>1.0</td>\n",
       "      <td>0.0</td>\n",
       "    </tr>\n",
       "    <tr>\n",
       "      <th>2</th>\n",
       "      <td>False</td>\n",
       "      <td>False</td>\n",
       "      <td>False</td>\n",
       "      <td>32</td>\n",
       "      <td>1</td>\n",
       "      <td>0</td>\n",
       "      <td>0</td>\n",
       "      <td>98.2</td>\n",
       "      <td>79.0</td>\n",
       "      <td>18.0</td>\n",
       "      <td>...</td>\n",
       "      <td>1.0</td>\n",
       "      <td>0.0</td>\n",
       "      <td>0.0</td>\n",
       "      <td>0.0</td>\n",
       "      <td>0.0</td>\n",
       "      <td>0.0</td>\n",
       "      <td>1.0</td>\n",
       "      <td>0.0</td>\n",
       "      <td>0.0</td>\n",
       "      <td>1.0</td>\n",
       "    </tr>\n",
       "    <tr>\n",
       "      <th>3</th>\n",
       "      <td>False</td>\n",
       "      <td>False</td>\n",
       "      <td>False</td>\n",
       "      <td>72</td>\n",
       "      <td>0</td>\n",
       "      <td>0</td>\n",
       "      <td>0</td>\n",
       "      <td>101.9</td>\n",
       "      <td>110.0</td>\n",
       "      <td>16.0</td>\n",
       "      <td>...</td>\n",
       "      <td>0.0</td>\n",
       "      <td>0.0</td>\n",
       "      <td>0.0</td>\n",
       "      <td>0.0</td>\n",
       "      <td>0.0</td>\n",
       "      <td>0.0</td>\n",
       "      <td>1.0</td>\n",
       "      <td>0.0</td>\n",
       "      <td>1.0</td>\n",
       "      <td>0.0</td>\n",
       "    </tr>\n",
       "    <tr>\n",
       "      <th>4</th>\n",
       "      <td>False</td>\n",
       "      <td>False</td>\n",
       "      <td>False</td>\n",
       "      <td>64</td>\n",
       "      <td>0</td>\n",
       "      <td>0</td>\n",
       "      <td>0</td>\n",
       "      <td>98.9</td>\n",
       "      <td>57.0</td>\n",
       "      <td>16.0</td>\n",
       "      <td>...</td>\n",
       "      <td>1.0</td>\n",
       "      <td>0.0</td>\n",
       "      <td>0.0</td>\n",
       "      <td>0.0</td>\n",
       "      <td>0.0</td>\n",
       "      <td>0.0</td>\n",
       "      <td>1.0</td>\n",
       "      <td>0.0</td>\n",
       "      <td>1.0</td>\n",
       "      <td>0.0</td>\n",
       "    </tr>\n",
       "    <tr>\n",
       "      <th>...</th>\n",
       "      <td>...</td>\n",
       "      <td>...</td>\n",
       "      <td>...</td>\n",
       "      <td>...</td>\n",
       "      <td>...</td>\n",
       "      <td>...</td>\n",
       "      <td>...</td>\n",
       "      <td>...</td>\n",
       "      <td>...</td>\n",
       "      <td>...</td>\n",
       "      <td>...</td>\n",
       "      <td>...</td>\n",
       "      <td>...</td>\n",
       "      <td>...</td>\n",
       "      <td>...</td>\n",
       "      <td>...</td>\n",
       "      <td>...</td>\n",
       "      <td>...</td>\n",
       "      <td>...</td>\n",
       "      <td>...</td>\n",
       "      <td>...</td>\n",
       "    </tr>\n",
       "    <tr>\n",
       "      <th>10372</th>\n",
       "      <td>False</td>\n",
       "      <td>False</td>\n",
       "      <td>False</td>\n",
       "      <td>85</td>\n",
       "      <td>1</td>\n",
       "      <td>0</td>\n",
       "      <td>0</td>\n",
       "      <td>97.9</td>\n",
       "      <td>67.0</td>\n",
       "      <td>22.0</td>\n",
       "      <td>...</td>\n",
       "      <td>0.0</td>\n",
       "      <td>0.0</td>\n",
       "      <td>0.0</td>\n",
       "      <td>0.0</td>\n",
       "      <td>0.0</td>\n",
       "      <td>0.0</td>\n",
       "      <td>1.0</td>\n",
       "      <td>0.0</td>\n",
       "      <td>0.0</td>\n",
       "      <td>1.0</td>\n",
       "    </tr>\n",
       "    <tr>\n",
       "      <th>10373</th>\n",
       "      <td>False</td>\n",
       "      <td>False</td>\n",
       "      <td>False</td>\n",
       "      <td>53</td>\n",
       "      <td>0</td>\n",
       "      <td>0</td>\n",
       "      <td>0</td>\n",
       "      <td>98.1</td>\n",
       "      <td>94.0</td>\n",
       "      <td>16.0</td>\n",
       "      <td>...</td>\n",
       "      <td>1.0</td>\n",
       "      <td>0.0</td>\n",
       "      <td>0.0</td>\n",
       "      <td>0.0</td>\n",
       "      <td>0.0</td>\n",
       "      <td>0.0</td>\n",
       "      <td>1.0</td>\n",
       "      <td>1.0</td>\n",
       "      <td>0.0</td>\n",
       "      <td>0.0</td>\n",
       "    </tr>\n",
       "    <tr>\n",
       "      <th>10374</th>\n",
       "      <td>False</td>\n",
       "      <td>False</td>\n",
       "      <td>False</td>\n",
       "      <td>80</td>\n",
       "      <td>0</td>\n",
       "      <td>0</td>\n",
       "      <td>0</td>\n",
       "      <td>97.4</td>\n",
       "      <td>94.0</td>\n",
       "      <td>18.0</td>\n",
       "      <td>...</td>\n",
       "      <td>0.0</td>\n",
       "      <td>0.0</td>\n",
       "      <td>0.0</td>\n",
       "      <td>0.0</td>\n",
       "      <td>0.0</td>\n",
       "      <td>0.0</td>\n",
       "      <td>1.0</td>\n",
       "      <td>0.0</td>\n",
       "      <td>1.0</td>\n",
       "      <td>0.0</td>\n",
       "    </tr>\n",
       "    <tr>\n",
       "      <th>10375</th>\n",
       "      <td>False</td>\n",
       "      <td>False</td>\n",
       "      <td>False</td>\n",
       "      <td>19</td>\n",
       "      <td>0</td>\n",
       "      <td>0</td>\n",
       "      <td>0</td>\n",
       "      <td>98.9</td>\n",
       "      <td>98.0</td>\n",
       "      <td>18.0</td>\n",
       "      <td>...</td>\n",
       "      <td>0.0</td>\n",
       "      <td>1.0</td>\n",
       "      <td>0.0</td>\n",
       "      <td>0.0</td>\n",
       "      <td>0.0</td>\n",
       "      <td>0.0</td>\n",
       "      <td>0.0</td>\n",
       "      <td>0.0</td>\n",
       "      <td>0.0</td>\n",
       "      <td>1.0</td>\n",
       "    </tr>\n",
       "    <tr>\n",
       "      <th>10376</th>\n",
       "      <td>False</td>\n",
       "      <td>False</td>\n",
       "      <td>False</td>\n",
       "      <td>53</td>\n",
       "      <td>0</td>\n",
       "      <td>0</td>\n",
       "      <td>0</td>\n",
       "      <td>98.2</td>\n",
       "      <td>73.0</td>\n",
       "      <td>20.0</td>\n",
       "      <td>...</td>\n",
       "      <td>1.0</td>\n",
       "      <td>0.0</td>\n",
       "      <td>1.0</td>\n",
       "      <td>0.0</td>\n",
       "      <td>0.0</td>\n",
       "      <td>0.0</td>\n",
       "      <td>0.0</td>\n",
       "      <td>0.0</td>\n",
       "      <td>1.0</td>\n",
       "      <td>0.0</td>\n",
       "    </tr>\n",
       "  </tbody>\n",
       "</table>\n",
       "<p>10377 rows × 90 columns</p>\n",
       "</div>"
      ],
      "text/plain": [
       "       outcome_inhospital_mortality  outcome_ed_revisit_30d  \\\n",
       "0                             False                   False   \n",
       "1                             False                   False   \n",
       "2                             False                   False   \n",
       "3                             False                   False   \n",
       "4                             False                   False   \n",
       "...                             ...                     ...   \n",
       "10372                         False                   False   \n",
       "10373                         False                   False   \n",
       "10374                         False                   False   \n",
       "10375                         False                   False   \n",
       "10376                         False                   False   \n",
       "\n",
       "       outcome_icu_transfer_12h  age  n_hosp_365d  n_icu_365d  n_ed_365d  \\\n",
       "0                         False   72            2           0          0   \n",
       "1                         False   68            0           0          0   \n",
       "2                         False   32            1           0          0   \n",
       "3                         False   72            0           0          0   \n",
       "4                         False   64            0           0          0   \n",
       "...                         ...  ...          ...         ...        ...   \n",
       "10372                     False   85            1           0          0   \n",
       "10373                     False   53            0           0          0   \n",
       "10374                     False   80            0           0          0   \n",
       "10375                     False   19            0           0          0   \n",
       "10376                     False   53            0           0          0   \n",
       "\n",
       "       triage_temperature  triage_heartrate  triage_resprate  ...  \\\n",
       "0                    98.2              72.0             20.0  ...   \n",
       "1                    98.4              82.0             18.0  ...   \n",
       "2                    98.2              79.0             18.0  ...   \n",
       "3                   101.9             110.0             16.0  ...   \n",
       "4                    98.9              57.0             16.0  ...   \n",
       "...                   ...               ...              ...  ...   \n",
       "10372                97.9              67.0             22.0  ...   \n",
       "10373                98.1              94.0             16.0  ...   \n",
       "10374                97.4              94.0             18.0  ...   \n",
       "10375                98.9              98.0             18.0  ...   \n",
       "10376                98.2              73.0             20.0  ...   \n",
       "\n",
       "       arrival_transport_WALK IN  ethnicity_Asian  \\\n",
       "0                            1.0              0.0   \n",
       "1                            0.0              0.0   \n",
       "2                            1.0              0.0   \n",
       "3                            0.0              0.0   \n",
       "4                            1.0              0.0   \n",
       "...                          ...              ...   \n",
       "10372                        0.0              0.0   \n",
       "10373                        1.0              0.0   \n",
       "10374                        0.0              0.0   \n",
       "10375                        0.0              1.0   \n",
       "10376                        1.0              0.0   \n",
       "\n",
       "       ethnicity_Black/African American  ethnicity_Hispanic/Latino  \\\n",
       "0                                   1.0                        0.0   \n",
       "1                                   0.0                        0.0   \n",
       "2                                   0.0                        0.0   \n",
       "3                                   0.0                        0.0   \n",
       "4                                   0.0                        0.0   \n",
       "...                                 ...                        ...   \n",
       "10372                               0.0                        0.0   \n",
       "10373                               0.0                        0.0   \n",
       "10374                               0.0                        0.0   \n",
       "10375                               0.0                        0.0   \n",
       "10376                               1.0                        0.0   \n",
       "\n",
       "       ethnicity_Other  ethnicity_Unknown  ethnicity_White insurance_Medicaid  \\\n",
       "0                  0.0                0.0              0.0                0.0   \n",
       "1                  0.0                0.0              1.0                0.0   \n",
       "2                  0.0                0.0              1.0                0.0   \n",
       "3                  0.0                0.0              1.0                0.0   \n",
       "4                  0.0                0.0              1.0                0.0   \n",
       "...                ...                ...              ...                ...   \n",
       "10372              0.0                0.0              1.0                0.0   \n",
       "10373              0.0                0.0              1.0                1.0   \n",
       "10374              0.0                0.0              1.0                0.0   \n",
       "10375              0.0                0.0              0.0                0.0   \n",
       "10376              0.0                0.0              0.0                0.0   \n",
       "\n",
       "       insurance_Medicare  insurance_Other  \n",
       "0                     1.0              0.0  \n",
       "1                     1.0              0.0  \n",
       "2                     0.0              1.0  \n",
       "3                     1.0              0.0  \n",
       "4                     1.0              0.0  \n",
       "...                   ...              ...  \n",
       "10372                 0.0              1.0  \n",
       "10373                 0.0              0.0  \n",
       "10374                 1.0              0.0  \n",
       "10375                 0.0              1.0  \n",
       "10376                 1.0              0.0  \n",
       "\n",
       "[10377 rows x 90 columns]"
      ]
     },
     "execution_count": 9,
     "metadata": {},
     "output_type": "execute_result"
    }
   ],
   "source": [
    "trainingData"
   ]
  },
  {
   "cell_type": "code",
   "execution_count": 10,
   "id": "9f56f78d-dce5-45d8-b48e-36850b75a73b",
   "metadata": {
    "tags": []
   },
   "outputs": [
    {
     "name": "stdout",
     "output_type": "stream",
     "text": [
      "Data shape after scaling:  (10377, 90)\n"
     ]
    }
   ],
   "source": [
    "#Scaling continous variable into 0-1 range\n",
    "\n",
    "# define scaler\n",
    "scaler = MinMaxScaler()\n",
    "\n",
    "# transform data\n",
    "result = scaler.fit_transform(trainingData[cont_vars])\n",
    "result = pd.DataFrame(result, columns=scaler.get_feature_names_out())\n",
    "\n",
    "#save scaler\n",
    "pickle.dump(scaler, open('../models/scaler.pkl', 'wb'))\n",
    "\n",
    "trainingData = pd.concat([trainingData.loc[:,~trainingData.columns.isin(cont_vars)],result], axis=1)\n",
    "\n",
    "print('Data shape after scaling: ', trainingData.shape)"
   ]
  },
  {
   "cell_type": "code",
   "execution_count": 11,
   "id": "4a67d5a3-5311-493c-99b3-2b6e43c9ebdd",
   "metadata": {
    "tags": []
   },
   "outputs": [
    {
     "data": {
      "text/html": [
       "<div>\n",
       "<style scoped>\n",
       "    .dataframe tbody tr th:only-of-type {\n",
       "        vertical-align: middle;\n",
       "    }\n",
       "\n",
       "    .dataframe tbody tr th {\n",
       "        vertical-align: top;\n",
       "    }\n",
       "\n",
       "    .dataframe thead th {\n",
       "        text-align: right;\n",
       "    }\n",
       "</style>\n",
       "<table border=\"1\" class=\"dataframe\">\n",
       "  <thead>\n",
       "    <tr style=\"text-align: right;\">\n",
       "      <th></th>\n",
       "      <th>outcome_inhospital_mortality</th>\n",
       "      <th>outcome_ed_revisit_30d</th>\n",
       "      <th>outcome_icu_transfer_12h</th>\n",
       "      <th>gender</th>\n",
       "      <th>chiefcom_chest_pain</th>\n",
       "      <th>chiefcom_abdominal_pain</th>\n",
       "      <th>chiefcom_headache</th>\n",
       "      <th>chiefcom_shortness_of_breath</th>\n",
       "      <th>chiefcom_back_pain</th>\n",
       "      <th>chiefcom_cough</th>\n",
       "      <th>...</th>\n",
       "      <th>triage_temperature</th>\n",
       "      <th>triage_heartrate</th>\n",
       "      <th>triage_resprate</th>\n",
       "      <th>triage_o2sat</th>\n",
       "      <th>triage_sbp</th>\n",
       "      <th>triage_dbp</th>\n",
       "      <th>triage_pain</th>\n",
       "      <th>triage_acuity</th>\n",
       "      <th>n_med</th>\n",
       "      <th>n_medrecon</th>\n",
       "    </tr>\n",
       "  </thead>\n",
       "  <tbody>\n",
       "    <tr>\n",
       "      <th>0</th>\n",
       "      <td>False</td>\n",
       "      <td>False</td>\n",
       "      <td>False</td>\n",
       "      <td>F</td>\n",
       "      <td>False</td>\n",
       "      <td>False</td>\n",
       "      <td>False</td>\n",
       "      <td>False</td>\n",
       "      <td>False</td>\n",
       "      <td>False</td>\n",
       "      <td>...</td>\n",
       "      <td>0.922370</td>\n",
       "      <td>0.057865</td>\n",
       "      <td>0.166667</td>\n",
       "      <td>0.003887</td>\n",
       "      <td>0.562016</td>\n",
       "      <td>0.006373</td>\n",
       "      <td>0.022222</td>\n",
       "      <td>0.50</td>\n",
       "      <td>0.303030</td>\n",
       "      <td>0.468085</td>\n",
       "    </tr>\n",
       "    <tr>\n",
       "      <th>1</th>\n",
       "      <td>False</td>\n",
       "      <td>False</td>\n",
       "      <td>False</td>\n",
       "      <td>F</td>\n",
       "      <td>True</td>\n",
       "      <td>False</td>\n",
       "      <td>False</td>\n",
       "      <td>False</td>\n",
       "      <td>False</td>\n",
       "      <td>False</td>\n",
       "      <td>...</td>\n",
       "      <td>0.924413</td>\n",
       "      <td>0.066015</td>\n",
       "      <td>0.138889</td>\n",
       "      <td>0.003671</td>\n",
       "      <td>0.534884</td>\n",
       "      <td>0.006812</td>\n",
       "      <td>0.000000</td>\n",
       "      <td>0.25</td>\n",
       "      <td>0.060606</td>\n",
       "      <td>0.191489</td>\n",
       "    </tr>\n",
       "    <tr>\n",
       "      <th>2</th>\n",
       "      <td>False</td>\n",
       "      <td>False</td>\n",
       "      <td>False</td>\n",
       "      <td>F</td>\n",
       "      <td>False</td>\n",
       "      <td>True</td>\n",
       "      <td>False</td>\n",
       "      <td>False</td>\n",
       "      <td>False</td>\n",
       "      <td>False</td>\n",
       "      <td>...</td>\n",
       "      <td>0.922370</td>\n",
       "      <td>0.063570</td>\n",
       "      <td>0.138889</td>\n",
       "      <td>0.003887</td>\n",
       "      <td>0.410853</td>\n",
       "      <td>0.007032</td>\n",
       "      <td>0.055556</td>\n",
       "      <td>0.25</td>\n",
       "      <td>0.030303</td>\n",
       "      <td>0.127660</td>\n",
       "    </tr>\n",
       "    <tr>\n",
       "      <th>3</th>\n",
       "      <td>False</td>\n",
       "      <td>False</td>\n",
       "      <td>False</td>\n",
       "      <td>M</td>\n",
       "      <td>False</td>\n",
       "      <td>False</td>\n",
       "      <td>False</td>\n",
       "      <td>False</td>\n",
       "      <td>False</td>\n",
       "      <td>False</td>\n",
       "      <td>...</td>\n",
       "      <td>0.960163</td>\n",
       "      <td>0.088835</td>\n",
       "      <td>0.111111</td>\n",
       "      <td>0.003887</td>\n",
       "      <td>0.434109</td>\n",
       "      <td>0.005494</td>\n",
       "      <td>0.144444</td>\n",
       "      <td>0.25</td>\n",
       "      <td>0.060606</td>\n",
       "      <td>0.106383</td>\n",
       "    </tr>\n",
       "    <tr>\n",
       "      <th>4</th>\n",
       "      <td>False</td>\n",
       "      <td>False</td>\n",
       "      <td>False</td>\n",
       "      <td>M</td>\n",
       "      <td>False</td>\n",
       "      <td>False</td>\n",
       "      <td>False</td>\n",
       "      <td>False</td>\n",
       "      <td>False</td>\n",
       "      <td>False</td>\n",
       "      <td>...</td>\n",
       "      <td>0.929520</td>\n",
       "      <td>0.045640</td>\n",
       "      <td>0.111111</td>\n",
       "      <td>0.003779</td>\n",
       "      <td>0.383721</td>\n",
       "      <td>0.006703</td>\n",
       "      <td>0.000000</td>\n",
       "      <td>0.50</td>\n",
       "      <td>0.151515</td>\n",
       "      <td>0.234043</td>\n",
       "    </tr>\n",
       "    <tr>\n",
       "      <th>...</th>\n",
       "      <td>...</td>\n",
       "      <td>...</td>\n",
       "      <td>...</td>\n",
       "      <td>...</td>\n",
       "      <td>...</td>\n",
       "      <td>...</td>\n",
       "      <td>...</td>\n",
       "      <td>...</td>\n",
       "      <td>...</td>\n",
       "      <td>...</td>\n",
       "      <td>...</td>\n",
       "      <td>...</td>\n",
       "      <td>...</td>\n",
       "      <td>...</td>\n",
       "      <td>...</td>\n",
       "      <td>...</td>\n",
       "      <td>...</td>\n",
       "      <td>...</td>\n",
       "      <td>...</td>\n",
       "      <td>...</td>\n",
       "      <td>...</td>\n",
       "    </tr>\n",
       "    <tr>\n",
       "      <th>10372</th>\n",
       "      <td>False</td>\n",
       "      <td>False</td>\n",
       "      <td>False</td>\n",
       "      <td>F</td>\n",
       "      <td>False</td>\n",
       "      <td>False</td>\n",
       "      <td>False</td>\n",
       "      <td>False</td>\n",
       "      <td>False</td>\n",
       "      <td>False</td>\n",
       "      <td>...</td>\n",
       "      <td>0.919305</td>\n",
       "      <td>0.053790</td>\n",
       "      <td>0.194444</td>\n",
       "      <td>0.004103</td>\n",
       "      <td>0.484496</td>\n",
       "      <td>0.006593</td>\n",
       "      <td>0.000000</td>\n",
       "      <td>0.50</td>\n",
       "      <td>0.030303</td>\n",
       "      <td>0.574468</td>\n",
       "    </tr>\n",
       "    <tr>\n",
       "      <th>10373</th>\n",
       "      <td>False</td>\n",
       "      <td>False</td>\n",
       "      <td>False</td>\n",
       "      <td>F</td>\n",
       "      <td>False</td>\n",
       "      <td>False</td>\n",
       "      <td>False</td>\n",
       "      <td>False</td>\n",
       "      <td>False</td>\n",
       "      <td>False</td>\n",
       "      <td>...</td>\n",
       "      <td>0.921348</td>\n",
       "      <td>0.075795</td>\n",
       "      <td>0.111111</td>\n",
       "      <td>0.003779</td>\n",
       "      <td>0.457364</td>\n",
       "      <td>0.009559</td>\n",
       "      <td>0.000000</td>\n",
       "      <td>0.25</td>\n",
       "      <td>0.181818</td>\n",
       "      <td>0.468085</td>\n",
       "    </tr>\n",
       "    <tr>\n",
       "      <th>10374</th>\n",
       "      <td>False</td>\n",
       "      <td>False</td>\n",
       "      <td>False</td>\n",
       "      <td>F</td>\n",
       "      <td>False</td>\n",
       "      <td>False</td>\n",
       "      <td>False</td>\n",
       "      <td>False</td>\n",
       "      <td>False</td>\n",
       "      <td>False</td>\n",
       "      <td>...</td>\n",
       "      <td>0.914198</td>\n",
       "      <td>0.075795</td>\n",
       "      <td>0.138889</td>\n",
       "      <td>0.004211</td>\n",
       "      <td>0.352713</td>\n",
       "      <td>0.006263</td>\n",
       "      <td>0.144444</td>\n",
       "      <td>0.50</td>\n",
       "      <td>0.090909</td>\n",
       "      <td>0.425532</td>\n",
       "    </tr>\n",
       "    <tr>\n",
       "      <th>10375</th>\n",
       "      <td>False</td>\n",
       "      <td>False</td>\n",
       "      <td>False</td>\n",
       "      <td>F</td>\n",
       "      <td>False</td>\n",
       "      <td>False</td>\n",
       "      <td>False</td>\n",
       "      <td>False</td>\n",
       "      <td>False</td>\n",
       "      <td>False</td>\n",
       "      <td>...</td>\n",
       "      <td>0.929520</td>\n",
       "      <td>0.079055</td>\n",
       "      <td>0.138889</td>\n",
       "      <td>0.004211</td>\n",
       "      <td>0.441860</td>\n",
       "      <td>0.005933</td>\n",
       "      <td>0.000000</td>\n",
       "      <td>0.25</td>\n",
       "      <td>0.121212</td>\n",
       "      <td>0.063830</td>\n",
       "    </tr>\n",
       "    <tr>\n",
       "      <th>10376</th>\n",
       "      <td>False</td>\n",
       "      <td>False</td>\n",
       "      <td>False</td>\n",
       "      <td>M</td>\n",
       "      <td>True</td>\n",
       "      <td>False</td>\n",
       "      <td>False</td>\n",
       "      <td>False</td>\n",
       "      <td>False</td>\n",
       "      <td>False</td>\n",
       "      <td>...</td>\n",
       "      <td>0.922370</td>\n",
       "      <td>0.058680</td>\n",
       "      <td>0.166667</td>\n",
       "      <td>0.004103</td>\n",
       "      <td>0.476744</td>\n",
       "      <td>0.006593</td>\n",
       "      <td>0.088889</td>\n",
       "      <td>0.25</td>\n",
       "      <td>0.121212</td>\n",
       "      <td>0.106383</td>\n",
       "    </tr>\n",
       "  </tbody>\n",
       "</table>\n",
       "<p>10377 rows × 90 columns</p>\n",
       "</div>"
      ],
      "text/plain": [
       "       outcome_inhospital_mortality  outcome_ed_revisit_30d  \\\n",
       "0                             False                   False   \n",
       "1                             False                   False   \n",
       "2                             False                   False   \n",
       "3                             False                   False   \n",
       "4                             False                   False   \n",
       "...                             ...                     ...   \n",
       "10372                         False                   False   \n",
       "10373                         False                   False   \n",
       "10374                         False                   False   \n",
       "10375                         False                   False   \n",
       "10376                         False                   False   \n",
       "\n",
       "       outcome_icu_transfer_12h gender  chiefcom_chest_pain  \\\n",
       "0                         False      F                False   \n",
       "1                         False      F                 True   \n",
       "2                         False      F                False   \n",
       "3                         False      M                False   \n",
       "4                         False      M                False   \n",
       "...                         ...    ...                  ...   \n",
       "10372                     False      F                False   \n",
       "10373                     False      F                False   \n",
       "10374                     False      F                False   \n",
       "10375                     False      F                False   \n",
       "10376                     False      M                 True   \n",
       "\n",
       "       chiefcom_abdominal_pain  chiefcom_headache  \\\n",
       "0                        False              False   \n",
       "1                        False              False   \n",
       "2                         True              False   \n",
       "3                        False              False   \n",
       "4                        False              False   \n",
       "...                        ...                ...   \n",
       "10372                    False              False   \n",
       "10373                    False              False   \n",
       "10374                    False              False   \n",
       "10375                    False              False   \n",
       "10376                    False              False   \n",
       "\n",
       "       chiefcom_shortness_of_breath  chiefcom_back_pain  chiefcom_cough  ...  \\\n",
       "0                             False               False           False  ...   \n",
       "1                             False               False           False  ...   \n",
       "2                             False               False           False  ...   \n",
       "3                             False               False           False  ...   \n",
       "4                             False               False           False  ...   \n",
       "...                             ...                 ...             ...  ...   \n",
       "10372                         False               False           False  ...   \n",
       "10373                         False               False           False  ...   \n",
       "10374                         False               False           False  ...   \n",
       "10375                         False               False           False  ...   \n",
       "10376                         False               False           False  ...   \n",
       "\n",
       "       triage_temperature  triage_heartrate  triage_resprate  triage_o2sat  \\\n",
       "0                0.922370          0.057865         0.166667      0.003887   \n",
       "1                0.924413          0.066015         0.138889      0.003671   \n",
       "2                0.922370          0.063570         0.138889      0.003887   \n",
       "3                0.960163          0.088835         0.111111      0.003887   \n",
       "4                0.929520          0.045640         0.111111      0.003779   \n",
       "...                   ...               ...              ...           ...   \n",
       "10372            0.919305          0.053790         0.194444      0.004103   \n",
       "10373            0.921348          0.075795         0.111111      0.003779   \n",
       "10374            0.914198          0.075795         0.138889      0.004211   \n",
       "10375            0.929520          0.079055         0.138889      0.004211   \n",
       "10376            0.922370          0.058680         0.166667      0.004103   \n",
       "\n",
       "       triage_sbp  triage_dbp  triage_pain  triage_acuity     n_med  \\\n",
       "0        0.562016    0.006373     0.022222           0.50  0.303030   \n",
       "1        0.534884    0.006812     0.000000           0.25  0.060606   \n",
       "2        0.410853    0.007032     0.055556           0.25  0.030303   \n",
       "3        0.434109    0.005494     0.144444           0.25  0.060606   \n",
       "4        0.383721    0.006703     0.000000           0.50  0.151515   \n",
       "...           ...         ...          ...            ...       ...   \n",
       "10372    0.484496    0.006593     0.000000           0.50  0.030303   \n",
       "10373    0.457364    0.009559     0.000000           0.25  0.181818   \n",
       "10374    0.352713    0.006263     0.144444           0.50  0.090909   \n",
       "10375    0.441860    0.005933     0.000000           0.25  0.121212   \n",
       "10376    0.476744    0.006593     0.088889           0.25  0.121212   \n",
       "\n",
       "       n_medrecon  \n",
       "0        0.468085  \n",
       "1        0.191489  \n",
       "2        0.127660  \n",
       "3        0.106383  \n",
       "4        0.234043  \n",
       "...           ...  \n",
       "10372    0.574468  \n",
       "10373    0.468085  \n",
       "10374    0.425532  \n",
       "10375    0.063830  \n",
       "10376    0.106383  \n",
       "\n",
       "[10377 rows x 90 columns]"
      ]
     },
     "execution_count": 11,
     "metadata": {},
     "output_type": "execute_result"
    }
   ],
   "source": [
    "trainingData"
   ]
  },
  {
   "cell_type": "code",
   "execution_count": 12,
   "id": "c1d02741-8145-4e54-83f0-6e1a44fbab90",
   "metadata": {
    "tags": []
   },
   "outputs": [],
   "source": [
    "#Gender -> 1|0\n",
    "trainingData['gender'] = trainingData.gender.apply(lambda x: 1 if x=='F' else 0)"
   ]
  },
  {
   "cell_type": "code",
   "execution_count": 13,
   "id": "3121f0b8-615c-43b2-aaca-3e7bb73725aa",
   "metadata": {
    "tags": []
   },
   "outputs": [],
   "source": [
    "# boolean to int\n",
    "for var in outcomes+cat_vars:\n",
    "    if trainingData[var].dtypes.name == 'bool':\n",
    "        trainingData[var] = trainingData[var].apply(lambda x: 1 if x else 0)"
   ]
  },
  {
   "cell_type": "markdown",
   "id": "2ca24f77-c3af-4559-a16e-0359aa109e35",
   "metadata": {
    "jp-MarkdownHeadingCollapsed": true,
    "tags": []
   },
   "source": [
    "# Summary Stat"
   ]
  },
  {
   "cell_type": "code",
   "execution_count": 15,
   "id": "33c548a7-76d9-42ac-b95c-8897ac411f20",
   "metadata": {
    "tags": []
   },
   "outputs": [],
   "source": [
    "# summaryData = descData.describe().T"
   ]
  },
  {
   "cell_type": "code",
   "execution_count": null,
   "id": "a12af225-3d07-4ce8-83ac-0d6c0c6cd631",
   "metadata": {},
   "outputs": [],
   "source": [
    "cat_vars = summaryData[summaryData['max'] <= 5].index.to_list() \n",
    "cat_vars.remove('numHospEvents')\n",
    "cat_vars = cat_vars + categoricalNonnumericVars\n",
    "cont_vars = summaryData[summaryData['max'] > 5].index.to_list() + ['numHospEvents']"
   ]
  },
  {
   "cell_type": "code",
   "execution_count": null,
   "id": "88ed6071-cba6-48a9-ab36-9c4e39582564",
   "metadata": {},
   "outputs": [],
   "source": [
    "# writer = pd.ExcelWriter('../../code/descriptive_cat.xlsx', engine='xlsxwriter')\n",
    "outcomes = ['outcome_combined_12months']\n",
    "# cat_vars = ['gender_x', 'language', 'marital_status', 'ethnicity', 'admission_location', 'discharge_location']\n",
    "for target_outcome in outcomes:\n",
    "    desc_table = []\n",
    "    print(target_outcome)\n",
    "    for var in cat_vars:\n",
    "        chi,pval,df,tab = chi2_contingency(pd.crosstab(descData[var].values, descData[target_outcome].values).apply(lambda c: c/c.sum(), axis=0))\n",
    "        desc_table.append((var  + ' (n, % of total)','-' ,'-'))\n",
    "        for group in descData[var].unique():\n",
    "            noAsthma = descData[(descData[var]==group)&(descData[target_outcome]==0)].shape[0]\n",
    "            noAsthmaPercent = round(noAsthma/sum(descData[target_outcome]==0)*100,2)\n",
    "            asthma = descData[(descData[var]==group)&(descData[target_outcome]==1)].shape[0]\n",
    "            asthmaPercent = round(asthma/sum(descData[target_outcome]==1)*100,2)\n",
    "            desc_table.append((group, str(noAsthma) + ' (' + str(noAsthmaPercent) + '%)' , str(asthma) + ' (' + str(asthmaPercent) + '%)'))\n",
    "    descriptive_cat = pd.DataFrame(desc_table, columns=['var','No asthma attack', 'Asthma attack'])\n",
    "    # descriptive_cat.to_excel(writer, sheet_name=target_outcome)\n",
    "    print('writing to Excel done!!')\n",
    "# writer.save()"
   ]
  },
  {
   "cell_type": "code",
   "execution_count": null,
   "id": "30197693-a565-4e94-b80b-a613770cf1f3",
   "metadata": {},
   "outputs": [],
   "source": [
    "\n",
    "for target_outcome in outcomes:\n",
    "    desc_table_cont = []\n",
    "    print(target_outcome)\n",
    "    for var in descData.columns:\n",
    "        if (var in cont_vars):\n",
    "            tval,pval = ttest_ind(descData[var],descData[target_outcome])\n",
    "            noAsthmaMean = np.round(np.mean(descData[var][descData[target_outcome]==0]),2)\n",
    "            noAsthmaSD = np.round(np.std(descData[var][descData[target_outcome]==0]),2)\n",
    "            asthmaMean = np.round(np.mean(descData[var][descData[target_outcome]==1]),2)\n",
    "            asthmaSD = np.round(np.std(descData[var][descData[target_outcome]==1]),2)\n",
    "            desc_table_cont.append((var  + ' (mean, std)', str(noAsthmaMean)  + ' (' + str(noAsthmaSD) + ')', str(asthmaMean) + ' (' + str(asthmaSD) + ')'))\n",
    "    descriptive_cont = pd.DataFrame(desc_table_cont, columns=['var','No asthma attack', 'Asthma attack'])\n",
    "    # descriptive_cont.to_excel(writer, sheet_name=target_outcome)\n",
    "    print('writing to Excel done!!')\n",
    "# writer.save()"
   ]
  },
  {
   "cell_type": "code",
   "execution_count": null,
   "id": "7963f5d6-d9a1-45a5-89d4-efef6b4aee9d",
   "metadata": {},
   "outputs": [],
   "source": [
    "pd.concat([descriptive_cat, descriptive_cont]).to_csv(target_outcome + '.csv', index_label=False, index=False)"
   ]
  },
  {
   "cell_type": "markdown",
   "id": "7037f720-0ed4-4e4a-84c8-f511fadac736",
   "metadata": {},
   "source": [
    "# UTILS"
   ]
  },
  {
   "cell_type": "code",
   "execution_count": 16,
   "id": "a4db59da-1f72-428e-9203-08d62c6d9090",
   "metadata": {
    "tags": []
   },
   "outputs": [],
   "source": [
    "#Model evaluation function\n",
    "\n",
    "def summariseResult (testX, testY, model):\n",
    "    preds = model.predict(testX)\n",
    "    tn, fp, fn, tp = confusion_matrix(testY, preds).ravel()\n",
    "    specificity = tn / (tn+fp)\n",
    "    sensitivity = tp / (tp+fn)\n",
    "    ppv = 100*tp/(tp+fp)\n",
    "    npv = 100*tn/(fn+tn)\n",
    "    acc = accuracy_score(testY, preds)\n",
    "    f1score = f1_score(testY, preds, average = 'binary')\n",
    "    balanceacc = balanced_accuracy_score(testY, preds)\n",
    "    fpr, tpr, thresholds = roc_curve(testY, preds, pos_label=1)\n",
    "    aucscore = auc(fpr, tpr)\n",
    "    # auc = roc_auc_score(testY, preds)\n",
    "    auprc = average_precision_score(testY, preds)\n",
    "    # plot_confusion_matrix(model, testX, testY, cmap='viridis')  \n",
    "    return np.round(acc,4), np.round(specificity,4), np.round(sensitivity,4), np.round(aucscore,4), np.round(auprc,4), np.round(balanceacc,4), np.round(f1score,4), np.round(ppv,4), np.round(npv,4)"
   ]
  },
  {
   "cell_type": "code",
   "execution_count": 17,
   "id": "82a1373c-fb3a-4a2f-9e76-2b75c5bf1fce",
   "metadata": {
    "tags": []
   },
   "outputs": [],
   "source": [
    "# class imbalance handling method:\n",
    "def handling_imbalance(method, X, y):\n",
    "    if method == 0:\n",
    "        name = 'original'\n",
    "        return name, X, y\n",
    "    elif method == 1:\n",
    "        name = 'Original-class_weight'\n",
    "        return name, X, y\n",
    "    elif method == 2:\n",
    "        name = 'SMOTE'\n",
    "        oversample = SMOTE(random_state=1234)\n",
    "        X_train, y_train = oversample.fit_resample(X, y)\n",
    "        return name, X_train, y_train\n",
    "    elif method == 3:\n",
    "        name = 'Borederline-SMOTE'\n",
    "        oversample = BorderlineSMOTE(random_state=1234)\n",
    "        X_train, y_train = oversample.fit_resample(X, y)\n",
    "        return name, X_train, y_train\n",
    "    elif method == 4:\n",
    "        name = 'Boderline-SMOTE SVM'\n",
    "        oversample = SVMSMOTE(random_state=1234)\n",
    "        X_train, y_train = oversample.fit_resample(X, y)\n",
    "        return name, X_train, y_train\n",
    "    elif method == 5:\n",
    "        name = 'Adasyn-SMOTE'\n",
    "        oversample = ADASYN(random_state=1234)\n",
    "        X_train, y_train = oversample.fit_resample(X, y)\n",
    "        return name, X_train, y_train\n",
    "    \n",
    "#Fix model name for visualisation\n",
    "\n",
    "def modelNameFixer(x):\n",
    "    if 'LogisticRegression' in x:\n",
    "        return 'LR'\n",
    "    elif 'XGB' in x:\n",
    "        return 'XGB'\n",
    "    \n",
    "    \n",
    "# instantiate the model (using the default parameters)\n",
    "def build_models (outcome, X, y, split_counter, params ):\n",
    "    models = [] #list to store all the models\n",
    "    print(\"Building models . . . .\")\n",
    "    \n",
    "    for i in range(6):\n",
    "        imbalance_method, X_train, y_train = handling_imbalance(i, X, y)\n",
    "\n",
    "        #LR\n",
    "        if imbalance_method == 'Original-class_weight':\n",
    "            lr_model = LogisticRegression(class_weight='balanced', random_state=1234)\n",
    "        else:\n",
    "            lr_model = LogisticRegression(random_state=1234)\n",
    "\n",
    "        lr_model.fit(X_train,y_train)\n",
    "        modelname =str(split_counter) + 'LRModel_' + imbalance_method\n",
    "        models.append([modelname, y_train.value_counts()[1]/y_train.value_counts()[0], imbalance_method, split_counter])\n",
    "        pickle.dump(lr_model, open('../models/'+ outcome + '/'+ modelname + '.sav', 'wb')) \n",
    "        print(\"LR done\")\n",
    "\n",
    "\n",
    "\n",
    "        #XGB\n",
    "        if imbalance_method == 'Original-class_weight':\n",
    "            scale_pos_ratio = y_train.value_counts()[0]/y_train.value_counts()[1]\n",
    "            xgb_model = xgb.XGBClassifier(objective ='binary:logistic', max_depth = params['depth'], n_estimators = 5000,  tree_method='gpu_hist',\n",
    "                                          scale_pos_weight = scale_pos_ratio, learning_rate = params['lr'], gpu_id=0,  verbosity = 0, sampling_method = 'gradient_based', random_state = 1234)\n",
    "        else:\n",
    "            xgb_model = xgb.XGBClassifier(objective ='binary:logistic', max_depth = params['depth'], n_estimators = 5000,  tree_method='gpu_hist', \n",
    "                                         learning_rate = params['lr'], gpu_id=0,  verbosity = 0, sampling_method = 'gradient_based', random_state = 1234)\n",
    "        xgb_model.fit(X_train,y_train)\n",
    "        #save model\n",
    "        modelname = str(split_counter) + 'XGBoostModel' + imbalance_method\n",
    "        models.append([modelname, y_train.value_counts()[1]/y_train.value_counts()[0], imbalance_method, split_counter])\n",
    "        pickle.dump(xgb_model, open('../models/'+ outcome + '/'+ modelname + '.sav', 'wb')) \n",
    "        print(\"XGB done\")\n",
    "    \n",
    "    return models\n",
    "    # return [xgb_model]"
   ]
  },
  {
   "cell_type": "markdown",
   "id": "2ffd288c-7d4e-41dc-9d22-0316d748c188",
   "metadata": {},
   "source": [
    "# TRAIN MODEL"
   ]
  },
  {
   "cell_type": "code",
   "execution_count": 304,
   "id": "f39c9344-7432-43f1-80d2-da5422e682f7",
   "metadata": {
    "scrolled": true,
    "tags": []
   },
   "outputs": [
    {
     "name": "stdout",
     "output_type": "stream",
     "text": [
      "X shape:  (9398, 87)\n",
      "y shape:  (9398, 1)\n",
      "Building models . . . .\n",
      "LR done\n",
      "XGB done\n",
      "LR done\n"
     ]
    },
    {
     "name": "stderr",
     "output_type": "stream",
     "text": [
      "/opt/conda/envs/rapids/lib/python3.10/site-packages/sklearn/linear_model/_logistic.py:458: ConvergenceWarning: lbfgs failed to converge (status=1):\n",
      "STOP: TOTAL NO. of ITERATIONS REACHED LIMIT.\n",
      "\n",
      "Increase the number of iterations (max_iter) or scale the data as shown in:\n",
      "    https://scikit-learn.org/stable/modules/preprocessing.html\n",
      "Please also refer to the documentation for alternative solver options:\n",
      "    https://scikit-learn.org/stable/modules/linear_model.html#logistic-regression\n",
      "  n_iter_i = _check_optimize_result(\n"
     ]
    },
    {
     "name": "stdout",
     "output_type": "stream",
     "text": [
      "XGB done\n"
     ]
    },
    {
     "name": "stderr",
     "output_type": "stream",
     "text": [
      "/opt/conda/envs/rapids/lib/python3.10/site-packages/sklearn/linear_model/_logistic.py:458: ConvergenceWarning: lbfgs failed to converge (status=1):\n",
      "STOP: TOTAL NO. of ITERATIONS REACHED LIMIT.\n",
      "\n",
      "Increase the number of iterations (max_iter) or scale the data as shown in:\n",
      "    https://scikit-learn.org/stable/modules/preprocessing.html\n",
      "Please also refer to the documentation for alternative solver options:\n",
      "    https://scikit-learn.org/stable/modules/linear_model.html#logistic-regression\n",
      "  n_iter_i = _check_optimize_result(\n"
     ]
    },
    {
     "name": "stdout",
     "output_type": "stream",
     "text": [
      "LR done\n",
      "XGB done\n",
      "LR done\n"
     ]
    },
    {
     "name": "stderr",
     "output_type": "stream",
     "text": [
      "/opt/conda/envs/rapids/lib/python3.10/site-packages/sklearn/linear_model/_logistic.py:458: ConvergenceWarning: lbfgs failed to converge (status=1):\n",
      "STOP: TOTAL NO. of ITERATIONS REACHED LIMIT.\n",
      "\n",
      "Increase the number of iterations (max_iter) or scale the data as shown in:\n",
      "    https://scikit-learn.org/stable/modules/preprocessing.html\n",
      "Please also refer to the documentation for alternative solver options:\n",
      "    https://scikit-learn.org/stable/modules/linear_model.html#logistic-regression\n",
      "  n_iter_i = _check_optimize_result(\n"
     ]
    },
    {
     "name": "stdout",
     "output_type": "stream",
     "text": [
      "XGB done\n"
     ]
    },
    {
     "name": "stderr",
     "output_type": "stream",
     "text": [
      "/opt/conda/envs/rapids/lib/python3.10/site-packages/sklearn/linear_model/_logistic.py:458: ConvergenceWarning: lbfgs failed to converge (status=1):\n",
      "STOP: TOTAL NO. of ITERATIONS REACHED LIMIT.\n",
      "\n",
      "Increase the number of iterations (max_iter) or scale the data as shown in:\n",
      "    https://scikit-learn.org/stable/modules/preprocessing.html\n",
      "Please also refer to the documentation for alternative solver options:\n",
      "    https://scikit-learn.org/stable/modules/linear_model.html#logistic-regression\n",
      "  n_iter_i = _check_optimize_result(\n"
     ]
    },
    {
     "name": "stdout",
     "output_type": "stream",
     "text": [
      "LR done\n",
      "XGB done\n",
      "LR done\n"
     ]
    },
    {
     "name": "stderr",
     "output_type": "stream",
     "text": [
      "/opt/conda/envs/rapids/lib/python3.10/site-packages/sklearn/linear_model/_logistic.py:458: ConvergenceWarning: lbfgs failed to converge (status=1):\n",
      "STOP: TOTAL NO. of ITERATIONS REACHED LIMIT.\n",
      "\n",
      "Increase the number of iterations (max_iter) or scale the data as shown in:\n",
      "    https://scikit-learn.org/stable/modules/preprocessing.html\n",
      "Please also refer to the documentation for alternative solver options:\n",
      "    https://scikit-learn.org/stable/modules/linear_model.html#logistic-regression\n",
      "  n_iter_i = _check_optimize_result(\n"
     ]
    },
    {
     "name": "stdout",
     "output_type": "stream",
     "text": [
      "XGB done\n",
      "0LRModel_original\n",
      "0XGBoostModeloriginal\n",
      "0LRModel_Original-class_weight\n",
      "0XGBoostModelOriginal-class_weight\n",
      "0LRModel_SMOTE\n"
     ]
    },
    {
     "name": "stderr",
     "output_type": "stream",
     "text": [
      "/tmp/ipykernel_15880/3276476915.py:8: RuntimeWarning: invalid value encountered in scalar divide\n",
      "  ppv = 100*tp/(tp+fp)\n",
      "/tmp/ipykernel_15880/3276476915.py:8: RuntimeWarning: invalid value encountered in scalar divide\n",
      "  ppv = 100*tp/(tp+fp)\n"
     ]
    },
    {
     "name": "stdout",
     "output_type": "stream",
     "text": [
      "0XGBoostModelSMOTE\n",
      "0LRModel_Borederline-SMOTE\n",
      "0XGBoostModelBorederline-SMOTE\n",
      "0LRModel_Boderline-SMOTE SVM\n",
      "0XGBoostModelBoderline-SMOTE SVM\n",
      "0LRModel_Adasyn-SMOTE\n",
      "0XGBoostModelAdasyn-SMOTE\n",
      "Building models . . . .\n",
      "LR done\n",
      "XGB done\n",
      "LR done\n"
     ]
    },
    {
     "name": "stderr",
     "output_type": "stream",
     "text": [
      "/opt/conda/envs/rapids/lib/python3.10/site-packages/sklearn/linear_model/_logistic.py:458: ConvergenceWarning: lbfgs failed to converge (status=1):\n",
      "STOP: TOTAL NO. of ITERATIONS REACHED LIMIT.\n",
      "\n",
      "Increase the number of iterations (max_iter) or scale the data as shown in:\n",
      "    https://scikit-learn.org/stable/modules/preprocessing.html\n",
      "Please also refer to the documentation for alternative solver options:\n",
      "    https://scikit-learn.org/stable/modules/linear_model.html#logistic-regression\n",
      "  n_iter_i = _check_optimize_result(\n"
     ]
    },
    {
     "name": "stdout",
     "output_type": "stream",
     "text": [
      "XGB done\n"
     ]
    },
    {
     "name": "stderr",
     "output_type": "stream",
     "text": [
      "/opt/conda/envs/rapids/lib/python3.10/site-packages/sklearn/linear_model/_logistic.py:458: ConvergenceWarning: lbfgs failed to converge (status=1):\n",
      "STOP: TOTAL NO. of ITERATIONS REACHED LIMIT.\n",
      "\n",
      "Increase the number of iterations (max_iter) or scale the data as shown in:\n",
      "    https://scikit-learn.org/stable/modules/preprocessing.html\n",
      "Please also refer to the documentation for alternative solver options:\n",
      "    https://scikit-learn.org/stable/modules/linear_model.html#logistic-regression\n",
      "  n_iter_i = _check_optimize_result(\n"
     ]
    },
    {
     "name": "stdout",
     "output_type": "stream",
     "text": [
      "LR done\n",
      "XGB done\n"
     ]
    },
    {
     "name": "stderr",
     "output_type": "stream",
     "text": [
      "/opt/conda/envs/rapids/lib/python3.10/site-packages/sklearn/linear_model/_logistic.py:458: ConvergenceWarning: lbfgs failed to converge (status=1):\n",
      "STOP: TOTAL NO. of ITERATIONS REACHED LIMIT.\n",
      "\n",
      "Increase the number of iterations (max_iter) or scale the data as shown in:\n",
      "    https://scikit-learn.org/stable/modules/preprocessing.html\n",
      "Please also refer to the documentation for alternative solver options:\n",
      "    https://scikit-learn.org/stable/modules/linear_model.html#logistic-regression\n",
      "  n_iter_i = _check_optimize_result(\n"
     ]
    },
    {
     "name": "stdout",
     "output_type": "stream",
     "text": [
      "LR done\n",
      "XGB done\n"
     ]
    },
    {
     "name": "stderr",
     "output_type": "stream",
     "text": [
      "/opt/conda/envs/rapids/lib/python3.10/site-packages/sklearn/linear_model/_logistic.py:458: ConvergenceWarning: lbfgs failed to converge (status=1):\n",
      "STOP: TOTAL NO. of ITERATIONS REACHED LIMIT.\n",
      "\n",
      "Increase the number of iterations (max_iter) or scale the data as shown in:\n",
      "    https://scikit-learn.org/stable/modules/preprocessing.html\n",
      "Please also refer to the documentation for alternative solver options:\n",
      "    https://scikit-learn.org/stable/modules/linear_model.html#logistic-regression\n",
      "  n_iter_i = _check_optimize_result(\n"
     ]
    },
    {
     "name": "stdout",
     "output_type": "stream",
     "text": [
      "LR done\n",
      "XGB done\n"
     ]
    },
    {
     "name": "stderr",
     "output_type": "stream",
     "text": [
      "/opt/conda/envs/rapids/lib/python3.10/site-packages/sklearn/linear_model/_logistic.py:458: ConvergenceWarning: lbfgs failed to converge (status=1):\n",
      "STOP: TOTAL NO. of ITERATIONS REACHED LIMIT.\n",
      "\n",
      "Increase the number of iterations (max_iter) or scale the data as shown in:\n",
      "    https://scikit-learn.org/stable/modules/preprocessing.html\n",
      "Please also refer to the documentation for alternative solver options:\n",
      "    https://scikit-learn.org/stable/modules/linear_model.html#logistic-regression\n",
      "  n_iter_i = _check_optimize_result(\n"
     ]
    },
    {
     "name": "stdout",
     "output_type": "stream",
     "text": [
      "LR done\n",
      "XGB done\n",
      "1LRModel_original\n",
      "1XGBoostModeloriginal\n",
      "1LRModel_Original-class_weight\n",
      "1XGBoostModelOriginal-class_weight\n"
     ]
    },
    {
     "name": "stderr",
     "output_type": "stream",
     "text": [
      "/tmp/ipykernel_15880/3276476915.py:8: RuntimeWarning: invalid value encountered in scalar divide\n",
      "  ppv = 100*tp/(tp+fp)\n",
      "/tmp/ipykernel_15880/3276476915.py:8: RuntimeWarning: invalid value encountered in scalar divide\n",
      "  ppv = 100*tp/(tp+fp)\n"
     ]
    },
    {
     "name": "stdout",
     "output_type": "stream",
     "text": [
      "1LRModel_SMOTE\n",
      "1XGBoostModelSMOTE\n",
      "1LRModel_Borederline-SMOTE\n",
      "1XGBoostModelBorederline-SMOTE\n",
      "1LRModel_Boderline-SMOTE SVM\n",
      "1XGBoostModelBoderline-SMOTE SVM\n",
      "1LRModel_Adasyn-SMOTE\n",
      "1XGBoostModelAdasyn-SMOTE\n",
      "Building models . . . .\n",
      "LR done\n",
      "XGB done\n",
      "LR done\n"
     ]
    },
    {
     "name": "stderr",
     "output_type": "stream",
     "text": [
      "/opt/conda/envs/rapids/lib/python3.10/site-packages/sklearn/linear_model/_logistic.py:458: ConvergenceWarning: lbfgs failed to converge (status=1):\n",
      "STOP: TOTAL NO. of ITERATIONS REACHED LIMIT.\n",
      "\n",
      "Increase the number of iterations (max_iter) or scale the data as shown in:\n",
      "    https://scikit-learn.org/stable/modules/preprocessing.html\n",
      "Please also refer to the documentation for alternative solver options:\n",
      "    https://scikit-learn.org/stable/modules/linear_model.html#logistic-regression\n",
      "  n_iter_i = _check_optimize_result(\n"
     ]
    },
    {
     "name": "stdout",
     "output_type": "stream",
     "text": [
      "XGB done\n"
     ]
    },
    {
     "name": "stderr",
     "output_type": "stream",
     "text": [
      "/opt/conda/envs/rapids/lib/python3.10/site-packages/sklearn/linear_model/_logistic.py:458: ConvergenceWarning: lbfgs failed to converge (status=1):\n",
      "STOP: TOTAL NO. of ITERATIONS REACHED LIMIT.\n",
      "\n",
      "Increase the number of iterations (max_iter) or scale the data as shown in:\n",
      "    https://scikit-learn.org/stable/modules/preprocessing.html\n",
      "Please also refer to the documentation for alternative solver options:\n",
      "    https://scikit-learn.org/stable/modules/linear_model.html#logistic-regression\n",
      "  n_iter_i = _check_optimize_result(\n"
     ]
    },
    {
     "name": "stdout",
     "output_type": "stream",
     "text": [
      "LR done\n",
      "XGB done\n"
     ]
    },
    {
     "name": "stderr",
     "output_type": "stream",
     "text": [
      "/opt/conda/envs/rapids/lib/python3.10/site-packages/sklearn/linear_model/_logistic.py:458: ConvergenceWarning: lbfgs failed to converge (status=1):\n",
      "STOP: TOTAL NO. of ITERATIONS REACHED LIMIT.\n",
      "\n",
      "Increase the number of iterations (max_iter) or scale the data as shown in:\n",
      "    https://scikit-learn.org/stable/modules/preprocessing.html\n",
      "Please also refer to the documentation for alternative solver options:\n",
      "    https://scikit-learn.org/stable/modules/linear_model.html#logistic-regression\n",
      "  n_iter_i = _check_optimize_result(\n"
     ]
    },
    {
     "name": "stdout",
     "output_type": "stream",
     "text": [
      "LR done\n",
      "XGB done\n"
     ]
    },
    {
     "name": "stderr",
     "output_type": "stream",
     "text": [
      "/opt/conda/envs/rapids/lib/python3.10/site-packages/sklearn/linear_model/_logistic.py:458: ConvergenceWarning: lbfgs failed to converge (status=1):\n",
      "STOP: TOTAL NO. of ITERATIONS REACHED LIMIT.\n",
      "\n",
      "Increase the number of iterations (max_iter) or scale the data as shown in:\n",
      "    https://scikit-learn.org/stable/modules/preprocessing.html\n",
      "Please also refer to the documentation for alternative solver options:\n",
      "    https://scikit-learn.org/stable/modules/linear_model.html#logistic-regression\n",
      "  n_iter_i = _check_optimize_result(\n"
     ]
    },
    {
     "name": "stdout",
     "output_type": "stream",
     "text": [
      "LR done\n",
      "XGB done\n",
      "LR done\n"
     ]
    },
    {
     "name": "stderr",
     "output_type": "stream",
     "text": [
      "/opt/conda/envs/rapids/lib/python3.10/site-packages/sklearn/linear_model/_logistic.py:458: ConvergenceWarning: lbfgs failed to converge (status=1):\n",
      "STOP: TOTAL NO. of ITERATIONS REACHED LIMIT.\n",
      "\n",
      "Increase the number of iterations (max_iter) or scale the data as shown in:\n",
      "    https://scikit-learn.org/stable/modules/preprocessing.html\n",
      "Please also refer to the documentation for alternative solver options:\n",
      "    https://scikit-learn.org/stable/modules/linear_model.html#logistic-regression\n",
      "  n_iter_i = _check_optimize_result(\n"
     ]
    },
    {
     "name": "stdout",
     "output_type": "stream",
     "text": [
      "XGB done\n",
      "2LRModel_original\n",
      "2XGBoostModeloriginal\n",
      "2LRModel_Original-class_weight\n",
      "2XGBoostModelOriginal-class_weight\n"
     ]
    },
    {
     "name": "stderr",
     "output_type": "stream",
     "text": [
      "/tmp/ipykernel_15880/3276476915.py:8: RuntimeWarning: invalid value encountered in scalar divide\n",
      "  ppv = 100*tp/(tp+fp)\n",
      "/tmp/ipykernel_15880/3276476915.py:8: RuntimeWarning: invalid value encountered in scalar divide\n",
      "  ppv = 100*tp/(tp+fp)\n"
     ]
    },
    {
     "name": "stdout",
     "output_type": "stream",
     "text": [
      "2LRModel_SMOTE\n",
      "2XGBoostModelSMOTE\n",
      "2LRModel_Borederline-SMOTE\n",
      "2XGBoostModelBorederline-SMOTE\n",
      "2LRModel_Boderline-SMOTE SVM\n",
      "2XGBoostModelBoderline-SMOTE SVM\n",
      "2LRModel_Adasyn-SMOTE\n",
      "2XGBoostModelAdasyn-SMOTE\n",
      "Building models . . . .\n",
      "LR done\n",
      "XGB done\n",
      "LR done\n"
     ]
    },
    {
     "name": "stderr",
     "output_type": "stream",
     "text": [
      "/opt/conda/envs/rapids/lib/python3.10/site-packages/sklearn/linear_model/_logistic.py:458: ConvergenceWarning: lbfgs failed to converge (status=1):\n",
      "STOP: TOTAL NO. of ITERATIONS REACHED LIMIT.\n",
      "\n",
      "Increase the number of iterations (max_iter) or scale the data as shown in:\n",
      "    https://scikit-learn.org/stable/modules/preprocessing.html\n",
      "Please also refer to the documentation for alternative solver options:\n",
      "    https://scikit-learn.org/stable/modules/linear_model.html#logistic-regression\n",
      "  n_iter_i = _check_optimize_result(\n"
     ]
    },
    {
     "name": "stdout",
     "output_type": "stream",
     "text": [
      "XGB done\n"
     ]
    },
    {
     "name": "stderr",
     "output_type": "stream",
     "text": [
      "/opt/conda/envs/rapids/lib/python3.10/site-packages/sklearn/linear_model/_logistic.py:458: ConvergenceWarning: lbfgs failed to converge (status=1):\n",
      "STOP: TOTAL NO. of ITERATIONS REACHED LIMIT.\n",
      "\n",
      "Increase the number of iterations (max_iter) or scale the data as shown in:\n",
      "    https://scikit-learn.org/stable/modules/preprocessing.html\n",
      "Please also refer to the documentation for alternative solver options:\n",
      "    https://scikit-learn.org/stable/modules/linear_model.html#logistic-regression\n",
      "  n_iter_i = _check_optimize_result(\n"
     ]
    },
    {
     "name": "stdout",
     "output_type": "stream",
     "text": [
      "LR done\n",
      "XGB done\n",
      "LR done\n"
     ]
    },
    {
     "name": "stderr",
     "output_type": "stream",
     "text": [
      "/opt/conda/envs/rapids/lib/python3.10/site-packages/sklearn/linear_model/_logistic.py:458: ConvergenceWarning: lbfgs failed to converge (status=1):\n",
      "STOP: TOTAL NO. of ITERATIONS REACHED LIMIT.\n",
      "\n",
      "Increase the number of iterations (max_iter) or scale the data as shown in:\n",
      "    https://scikit-learn.org/stable/modules/preprocessing.html\n",
      "Please also refer to the documentation for alternative solver options:\n",
      "    https://scikit-learn.org/stable/modules/linear_model.html#logistic-regression\n",
      "  n_iter_i = _check_optimize_result(\n"
     ]
    },
    {
     "name": "stdout",
     "output_type": "stream",
     "text": [
      "XGB done\n"
     ]
    },
    {
     "name": "stderr",
     "output_type": "stream",
     "text": [
      "/opt/conda/envs/rapids/lib/python3.10/site-packages/sklearn/linear_model/_logistic.py:458: ConvergenceWarning: lbfgs failed to converge (status=1):\n",
      "STOP: TOTAL NO. of ITERATIONS REACHED LIMIT.\n",
      "\n",
      "Increase the number of iterations (max_iter) or scale the data as shown in:\n",
      "    https://scikit-learn.org/stable/modules/preprocessing.html\n",
      "Please also refer to the documentation for alternative solver options:\n",
      "    https://scikit-learn.org/stable/modules/linear_model.html#logistic-regression\n",
      "  n_iter_i = _check_optimize_result(\n"
     ]
    },
    {
     "name": "stdout",
     "output_type": "stream",
     "text": [
      "LR done\n",
      "XGB done\n"
     ]
    },
    {
     "name": "stderr",
     "output_type": "stream",
     "text": [
      "/opt/conda/envs/rapids/lib/python3.10/site-packages/sklearn/linear_model/_logistic.py:458: ConvergenceWarning: lbfgs failed to converge (status=1):\n",
      "STOP: TOTAL NO. of ITERATIONS REACHED LIMIT.\n",
      "\n",
      "Increase the number of iterations (max_iter) or scale the data as shown in:\n",
      "    https://scikit-learn.org/stable/modules/preprocessing.html\n",
      "Please also refer to the documentation for alternative solver options:\n",
      "    https://scikit-learn.org/stable/modules/linear_model.html#logistic-regression\n",
      "  n_iter_i = _check_optimize_result(\n"
     ]
    },
    {
     "name": "stdout",
     "output_type": "stream",
     "text": [
      "LR done\n",
      "XGB done\n",
      "3LRModel_original\n",
      "3XGBoostModeloriginal\n",
      "3LRModel_Original-class_weight\n",
      "3XGBoostModelOriginal-class_weight\n"
     ]
    },
    {
     "name": "stderr",
     "output_type": "stream",
     "text": [
      "/tmp/ipykernel_15880/3276476915.py:8: RuntimeWarning: invalid value encountered in scalar divide\n",
      "  ppv = 100*tp/(tp+fp)\n",
      "/tmp/ipykernel_15880/3276476915.py:8: RuntimeWarning: invalid value encountered in scalar divide\n",
      "  ppv = 100*tp/(tp+fp)\n"
     ]
    },
    {
     "name": "stdout",
     "output_type": "stream",
     "text": [
      "3LRModel_SMOTE\n",
      "3XGBoostModelSMOTE\n",
      "3LRModel_Borederline-SMOTE\n",
      "3XGBoostModelBorederline-SMOTE\n",
      "3LRModel_Boderline-SMOTE SVM\n",
      "3XGBoostModelBoderline-SMOTE SVM\n",
      "3LRModel_Adasyn-SMOTE\n",
      "3XGBoostModelAdasyn-SMOTE\n",
      "Building models . . . .\n",
      "LR done\n",
      "XGB done\n",
      "LR done\n"
     ]
    },
    {
     "name": "stderr",
     "output_type": "stream",
     "text": [
      "/opt/conda/envs/rapids/lib/python3.10/site-packages/sklearn/linear_model/_logistic.py:458: ConvergenceWarning: lbfgs failed to converge (status=1):\n",
      "STOP: TOTAL NO. of ITERATIONS REACHED LIMIT.\n",
      "\n",
      "Increase the number of iterations (max_iter) or scale the data as shown in:\n",
      "    https://scikit-learn.org/stable/modules/preprocessing.html\n",
      "Please also refer to the documentation for alternative solver options:\n",
      "    https://scikit-learn.org/stable/modules/linear_model.html#logistic-regression\n",
      "  n_iter_i = _check_optimize_result(\n"
     ]
    },
    {
     "name": "stdout",
     "output_type": "stream",
     "text": [
      "XGB done\n"
     ]
    },
    {
     "name": "stderr",
     "output_type": "stream",
     "text": [
      "/opt/conda/envs/rapids/lib/python3.10/site-packages/sklearn/linear_model/_logistic.py:458: ConvergenceWarning: lbfgs failed to converge (status=1):\n",
      "STOP: TOTAL NO. of ITERATIONS REACHED LIMIT.\n",
      "\n",
      "Increase the number of iterations (max_iter) or scale the data as shown in:\n",
      "    https://scikit-learn.org/stable/modules/preprocessing.html\n",
      "Please also refer to the documentation for alternative solver options:\n",
      "    https://scikit-learn.org/stable/modules/linear_model.html#logistic-regression\n",
      "  n_iter_i = _check_optimize_result(\n"
     ]
    },
    {
     "name": "stdout",
     "output_type": "stream",
     "text": [
      "LR done\n",
      "XGB done\n",
      "LR done\n"
     ]
    },
    {
     "name": "stderr",
     "output_type": "stream",
     "text": [
      "/opt/conda/envs/rapids/lib/python3.10/site-packages/sklearn/linear_model/_logistic.py:458: ConvergenceWarning: lbfgs failed to converge (status=1):\n",
      "STOP: TOTAL NO. of ITERATIONS REACHED LIMIT.\n",
      "\n",
      "Increase the number of iterations (max_iter) or scale the data as shown in:\n",
      "    https://scikit-learn.org/stable/modules/preprocessing.html\n",
      "Please also refer to the documentation for alternative solver options:\n",
      "    https://scikit-learn.org/stable/modules/linear_model.html#logistic-regression\n",
      "  n_iter_i = _check_optimize_result(\n"
     ]
    },
    {
     "name": "stdout",
     "output_type": "stream",
     "text": [
      "XGB done\n"
     ]
    },
    {
     "name": "stderr",
     "output_type": "stream",
     "text": [
      "/opt/conda/envs/rapids/lib/python3.10/site-packages/sklearn/linear_model/_logistic.py:458: ConvergenceWarning: lbfgs failed to converge (status=1):\n",
      "STOP: TOTAL NO. of ITERATIONS REACHED LIMIT.\n",
      "\n",
      "Increase the number of iterations (max_iter) or scale the data as shown in:\n",
      "    https://scikit-learn.org/stable/modules/preprocessing.html\n",
      "Please also refer to the documentation for alternative solver options:\n",
      "    https://scikit-learn.org/stable/modules/linear_model.html#logistic-regression\n",
      "  n_iter_i = _check_optimize_result(\n"
     ]
    },
    {
     "name": "stdout",
     "output_type": "stream",
     "text": [
      "LR done\n",
      "XGB done\n",
      "LR done\n"
     ]
    },
    {
     "name": "stderr",
     "output_type": "stream",
     "text": [
      "/opt/conda/envs/rapids/lib/python3.10/site-packages/sklearn/linear_model/_logistic.py:458: ConvergenceWarning: lbfgs failed to converge (status=1):\n",
      "STOP: TOTAL NO. of ITERATIONS REACHED LIMIT.\n",
      "\n",
      "Increase the number of iterations (max_iter) or scale the data as shown in:\n",
      "    https://scikit-learn.org/stable/modules/preprocessing.html\n",
      "Please also refer to the documentation for alternative solver options:\n",
      "    https://scikit-learn.org/stable/modules/linear_model.html#logistic-regression\n",
      "  n_iter_i = _check_optimize_result(\n"
     ]
    },
    {
     "name": "stdout",
     "output_type": "stream",
     "text": [
      "XGB done\n",
      "4LRModel_original\n",
      "4XGBoostModeloriginal\n",
      "4LRModel_Original-class_weight\n"
     ]
    },
    {
     "name": "stderr",
     "output_type": "stream",
     "text": [
      "/tmp/ipykernel_15880/3276476915.py:8: RuntimeWarning: invalid value encountered in scalar divide\n",
      "  ppv = 100*tp/(tp+fp)\n",
      "/tmp/ipykernel_15880/3276476915.py:8: RuntimeWarning: invalid value encountered in scalar divide\n",
      "  ppv = 100*tp/(tp+fp)\n"
     ]
    },
    {
     "name": "stdout",
     "output_type": "stream",
     "text": [
      "4XGBoostModelOriginal-class_weight\n",
      "4LRModel_SMOTE\n",
      "4XGBoostModelSMOTE\n",
      "4LRModel_Borederline-SMOTE\n",
      "4XGBoostModelBorederline-SMOTE\n",
      "4LRModel_Boderline-SMOTE SVM\n",
      "4XGBoostModelBoderline-SMOTE SVM\n",
      "4LRModel_Adasyn-SMOTE\n",
      "4XGBoostModelAdasyn-SMOTE\n",
      "X shape:  (9398, 87)\n",
      "y shape:  (9398, 1)\n",
      "Building models . . . .\n",
      "LR done\n"
     ]
    },
    {
     "name": "stderr",
     "output_type": "stream",
     "text": [
      "/opt/conda/envs/rapids/lib/python3.10/site-packages/sklearn/linear_model/_logistic.py:458: ConvergenceWarning: lbfgs failed to converge (status=1):\n",
      "STOP: TOTAL NO. of ITERATIONS REACHED LIMIT.\n",
      "\n",
      "Increase the number of iterations (max_iter) or scale the data as shown in:\n",
      "    https://scikit-learn.org/stable/modules/preprocessing.html\n",
      "Please also refer to the documentation for alternative solver options:\n",
      "    https://scikit-learn.org/stable/modules/linear_model.html#logistic-regression\n",
      "  n_iter_i = _check_optimize_result(\n"
     ]
    },
    {
     "name": "stdout",
     "output_type": "stream",
     "text": [
      "XGB done\n",
      "LR done\n"
     ]
    },
    {
     "name": "stderr",
     "output_type": "stream",
     "text": [
      "/opt/conda/envs/rapids/lib/python3.10/site-packages/sklearn/linear_model/_logistic.py:458: ConvergenceWarning: lbfgs failed to converge (status=1):\n",
      "STOP: TOTAL NO. of ITERATIONS REACHED LIMIT.\n",
      "\n",
      "Increase the number of iterations (max_iter) or scale the data as shown in:\n",
      "    https://scikit-learn.org/stable/modules/preprocessing.html\n",
      "Please also refer to the documentation for alternative solver options:\n",
      "    https://scikit-learn.org/stable/modules/linear_model.html#logistic-regression\n",
      "  n_iter_i = _check_optimize_result(\n"
     ]
    },
    {
     "name": "stdout",
     "output_type": "stream",
     "text": [
      "XGB done\n"
     ]
    },
    {
     "name": "stderr",
     "output_type": "stream",
     "text": [
      "/opt/conda/envs/rapids/lib/python3.10/site-packages/sklearn/linear_model/_logistic.py:458: ConvergenceWarning: lbfgs failed to converge (status=1):\n",
      "STOP: TOTAL NO. of ITERATIONS REACHED LIMIT.\n",
      "\n",
      "Increase the number of iterations (max_iter) or scale the data as shown in:\n",
      "    https://scikit-learn.org/stable/modules/preprocessing.html\n",
      "Please also refer to the documentation for alternative solver options:\n",
      "    https://scikit-learn.org/stable/modules/linear_model.html#logistic-regression\n",
      "  n_iter_i = _check_optimize_result(\n"
     ]
    },
    {
     "name": "stdout",
     "output_type": "stream",
     "text": [
      "LR done\n",
      "XGB done\n"
     ]
    },
    {
     "name": "stderr",
     "output_type": "stream",
     "text": [
      "/opt/conda/envs/rapids/lib/python3.10/site-packages/sklearn/linear_model/_logistic.py:458: ConvergenceWarning: lbfgs failed to converge (status=1):\n",
      "STOP: TOTAL NO. of ITERATIONS REACHED LIMIT.\n",
      "\n",
      "Increase the number of iterations (max_iter) or scale the data as shown in:\n",
      "    https://scikit-learn.org/stable/modules/preprocessing.html\n",
      "Please also refer to the documentation for alternative solver options:\n",
      "    https://scikit-learn.org/stable/modules/linear_model.html#logistic-regression\n",
      "  n_iter_i = _check_optimize_result(\n"
     ]
    },
    {
     "name": "stdout",
     "output_type": "stream",
     "text": [
      "LR done\n",
      "XGB done\n"
     ]
    },
    {
     "name": "stderr",
     "output_type": "stream",
     "text": [
      "/opt/conda/envs/rapids/lib/python3.10/site-packages/sklearn/linear_model/_logistic.py:458: ConvergenceWarning: lbfgs failed to converge (status=1):\n",
      "STOP: TOTAL NO. of ITERATIONS REACHED LIMIT.\n",
      "\n",
      "Increase the number of iterations (max_iter) or scale the data as shown in:\n",
      "    https://scikit-learn.org/stable/modules/preprocessing.html\n",
      "Please also refer to the documentation for alternative solver options:\n",
      "    https://scikit-learn.org/stable/modules/linear_model.html#logistic-regression\n",
      "  n_iter_i = _check_optimize_result(\n"
     ]
    },
    {
     "name": "stdout",
     "output_type": "stream",
     "text": [
      "LR done\n",
      "XGB done\n",
      "LR done\n"
     ]
    },
    {
     "name": "stderr",
     "output_type": "stream",
     "text": [
      "/opt/conda/envs/rapids/lib/python3.10/site-packages/sklearn/linear_model/_logistic.py:458: ConvergenceWarning: lbfgs failed to converge (status=1):\n",
      "STOP: TOTAL NO. of ITERATIONS REACHED LIMIT.\n",
      "\n",
      "Increase the number of iterations (max_iter) or scale the data as shown in:\n",
      "    https://scikit-learn.org/stable/modules/preprocessing.html\n",
      "Please also refer to the documentation for alternative solver options:\n",
      "    https://scikit-learn.org/stable/modules/linear_model.html#logistic-regression\n",
      "  n_iter_i = _check_optimize_result(\n"
     ]
    },
    {
     "name": "stdout",
     "output_type": "stream",
     "text": [
      "XGB done\n",
      "0LRModel_original\n",
      "0XGBoostModeloriginal\n",
      "0LRModel_Original-class_weight\n",
      "0XGBoostModelOriginal-class_weight\n"
     ]
    },
    {
     "name": "stderr",
     "output_type": "stream",
     "text": [
      "/tmp/ipykernel_15880/3276476915.py:8: RuntimeWarning: invalid value encountered in scalar divide\n",
      "  ppv = 100*tp/(tp+fp)\n",
      "/tmp/ipykernel_15880/3276476915.py:8: RuntimeWarning: invalid value encountered in scalar divide\n",
      "  ppv = 100*tp/(tp+fp)\n"
     ]
    },
    {
     "name": "stdout",
     "output_type": "stream",
     "text": [
      "0LRModel_SMOTE\n",
      "0XGBoostModelSMOTE\n",
      "0LRModel_Borederline-SMOTE\n",
      "0XGBoostModelBorederline-SMOTE\n",
      "0LRModel_Boderline-SMOTE SVM\n",
      "0XGBoostModelBoderline-SMOTE SVM\n",
      "0LRModel_Adasyn-SMOTE\n",
      "0XGBoostModelAdasyn-SMOTE\n",
      "Building models . . . .\n",
      "LR done\n"
     ]
    },
    {
     "name": "stderr",
     "output_type": "stream",
     "text": [
      "/opt/conda/envs/rapids/lib/python3.10/site-packages/sklearn/linear_model/_logistic.py:458: ConvergenceWarning: lbfgs failed to converge (status=1):\n",
      "STOP: TOTAL NO. of ITERATIONS REACHED LIMIT.\n",
      "\n",
      "Increase the number of iterations (max_iter) or scale the data as shown in:\n",
      "    https://scikit-learn.org/stable/modules/preprocessing.html\n",
      "Please also refer to the documentation for alternative solver options:\n",
      "    https://scikit-learn.org/stable/modules/linear_model.html#logistic-regression\n",
      "  n_iter_i = _check_optimize_result(\n"
     ]
    },
    {
     "name": "stdout",
     "output_type": "stream",
     "text": [
      "XGB done\n",
      "LR done\n"
     ]
    },
    {
     "name": "stderr",
     "output_type": "stream",
     "text": [
      "/opt/conda/envs/rapids/lib/python3.10/site-packages/sklearn/linear_model/_logistic.py:458: ConvergenceWarning: lbfgs failed to converge (status=1):\n",
      "STOP: TOTAL NO. of ITERATIONS REACHED LIMIT.\n",
      "\n",
      "Increase the number of iterations (max_iter) or scale the data as shown in:\n",
      "    https://scikit-learn.org/stable/modules/preprocessing.html\n",
      "Please also refer to the documentation for alternative solver options:\n",
      "    https://scikit-learn.org/stable/modules/linear_model.html#logistic-regression\n",
      "  n_iter_i = _check_optimize_result(\n"
     ]
    },
    {
     "name": "stdout",
     "output_type": "stream",
     "text": [
      "XGB done\n",
      "LR done\n"
     ]
    },
    {
     "name": "stderr",
     "output_type": "stream",
     "text": [
      "/opt/conda/envs/rapids/lib/python3.10/site-packages/sklearn/linear_model/_logistic.py:458: ConvergenceWarning: lbfgs failed to converge (status=1):\n",
      "STOP: TOTAL NO. of ITERATIONS REACHED LIMIT.\n",
      "\n",
      "Increase the number of iterations (max_iter) or scale the data as shown in:\n",
      "    https://scikit-learn.org/stable/modules/preprocessing.html\n",
      "Please also refer to the documentation for alternative solver options:\n",
      "    https://scikit-learn.org/stable/modules/linear_model.html#logistic-regression\n",
      "  n_iter_i = _check_optimize_result(\n"
     ]
    },
    {
     "name": "stdout",
     "output_type": "stream",
     "text": [
      "XGB done\n",
      "LR done\n"
     ]
    },
    {
     "name": "stderr",
     "output_type": "stream",
     "text": [
      "/opt/conda/envs/rapids/lib/python3.10/site-packages/sklearn/linear_model/_logistic.py:458: ConvergenceWarning: lbfgs failed to converge (status=1):\n",
      "STOP: TOTAL NO. of ITERATIONS REACHED LIMIT.\n",
      "\n",
      "Increase the number of iterations (max_iter) or scale the data as shown in:\n",
      "    https://scikit-learn.org/stable/modules/preprocessing.html\n",
      "Please also refer to the documentation for alternative solver options:\n",
      "    https://scikit-learn.org/stable/modules/linear_model.html#logistic-regression\n",
      "  n_iter_i = _check_optimize_result(\n"
     ]
    },
    {
     "name": "stdout",
     "output_type": "stream",
     "text": [
      "XGB done\n"
     ]
    },
    {
     "name": "stderr",
     "output_type": "stream",
     "text": [
      "/opt/conda/envs/rapids/lib/python3.10/site-packages/sklearn/linear_model/_logistic.py:458: ConvergenceWarning: lbfgs failed to converge (status=1):\n",
      "STOP: TOTAL NO. of ITERATIONS REACHED LIMIT.\n",
      "\n",
      "Increase the number of iterations (max_iter) or scale the data as shown in:\n",
      "    https://scikit-learn.org/stable/modules/preprocessing.html\n",
      "Please also refer to the documentation for alternative solver options:\n",
      "    https://scikit-learn.org/stable/modules/linear_model.html#logistic-regression\n",
      "  n_iter_i = _check_optimize_result(\n"
     ]
    },
    {
     "name": "stdout",
     "output_type": "stream",
     "text": [
      "LR done\n",
      "XGB done\n",
      "LR done\n"
     ]
    },
    {
     "name": "stderr",
     "output_type": "stream",
     "text": [
      "/opt/conda/envs/rapids/lib/python3.10/site-packages/sklearn/linear_model/_logistic.py:458: ConvergenceWarning: lbfgs failed to converge (status=1):\n",
      "STOP: TOTAL NO. of ITERATIONS REACHED LIMIT.\n",
      "\n",
      "Increase the number of iterations (max_iter) or scale the data as shown in:\n",
      "    https://scikit-learn.org/stable/modules/preprocessing.html\n",
      "Please also refer to the documentation for alternative solver options:\n",
      "    https://scikit-learn.org/stable/modules/linear_model.html#logistic-regression\n",
      "  n_iter_i = _check_optimize_result(\n"
     ]
    },
    {
     "name": "stdout",
     "output_type": "stream",
     "text": [
      "XGB done\n",
      "1LRModel_original\n",
      "1XGBoostModeloriginal\n",
      "1LRModel_Original-class_weight\n",
      "1XGBoostModelOriginal-class_weight\n",
      "1LRModel_SMOTE\n",
      "1XGBoostModelSMOTE\n",
      "1LRModel_Borederline-SMOTE\n",
      "1XGBoostModelBorederline-SMOTE\n",
      "1LRModel_Boderline-SMOTE SVM\n",
      "1XGBoostModelBoderline-SMOTE SVM\n",
      "1LRModel_Adasyn-SMOTE\n",
      "1XGBoostModelAdasyn-SMOTE\n",
      "Building models . . . .\n",
      "LR done\n"
     ]
    },
    {
     "name": "stderr",
     "output_type": "stream",
     "text": [
      "/opt/conda/envs/rapids/lib/python3.10/site-packages/sklearn/linear_model/_logistic.py:458: ConvergenceWarning: lbfgs failed to converge (status=1):\n",
      "STOP: TOTAL NO. of ITERATIONS REACHED LIMIT.\n",
      "\n",
      "Increase the number of iterations (max_iter) or scale the data as shown in:\n",
      "    https://scikit-learn.org/stable/modules/preprocessing.html\n",
      "Please also refer to the documentation for alternative solver options:\n",
      "    https://scikit-learn.org/stable/modules/linear_model.html#logistic-regression\n",
      "  n_iter_i = _check_optimize_result(\n"
     ]
    },
    {
     "name": "stdout",
     "output_type": "stream",
     "text": [
      "XGB done\n",
      "LR done\n"
     ]
    },
    {
     "name": "stderr",
     "output_type": "stream",
     "text": [
      "/opt/conda/envs/rapids/lib/python3.10/site-packages/sklearn/linear_model/_logistic.py:458: ConvergenceWarning: lbfgs failed to converge (status=1):\n",
      "STOP: TOTAL NO. of ITERATIONS REACHED LIMIT.\n",
      "\n",
      "Increase the number of iterations (max_iter) or scale the data as shown in:\n",
      "    https://scikit-learn.org/stable/modules/preprocessing.html\n",
      "Please also refer to the documentation for alternative solver options:\n",
      "    https://scikit-learn.org/stable/modules/linear_model.html#logistic-regression\n",
      "  n_iter_i = _check_optimize_result(\n"
     ]
    },
    {
     "name": "stdout",
     "output_type": "stream",
     "text": [
      "XGB done\n",
      "LR done\n"
     ]
    },
    {
     "name": "stderr",
     "output_type": "stream",
     "text": [
      "/opt/conda/envs/rapids/lib/python3.10/site-packages/sklearn/linear_model/_logistic.py:458: ConvergenceWarning: lbfgs failed to converge (status=1):\n",
      "STOP: TOTAL NO. of ITERATIONS REACHED LIMIT.\n",
      "\n",
      "Increase the number of iterations (max_iter) or scale the data as shown in:\n",
      "    https://scikit-learn.org/stable/modules/preprocessing.html\n",
      "Please also refer to the documentation for alternative solver options:\n",
      "    https://scikit-learn.org/stable/modules/linear_model.html#logistic-regression\n",
      "  n_iter_i = _check_optimize_result(\n"
     ]
    },
    {
     "name": "stdout",
     "output_type": "stream",
     "text": [
      "XGB done\n"
     ]
    },
    {
     "name": "stderr",
     "output_type": "stream",
     "text": [
      "/opt/conda/envs/rapids/lib/python3.10/site-packages/sklearn/linear_model/_logistic.py:458: ConvergenceWarning: lbfgs failed to converge (status=1):\n",
      "STOP: TOTAL NO. of ITERATIONS REACHED LIMIT.\n",
      "\n",
      "Increase the number of iterations (max_iter) or scale the data as shown in:\n",
      "    https://scikit-learn.org/stable/modules/preprocessing.html\n",
      "Please also refer to the documentation for alternative solver options:\n",
      "    https://scikit-learn.org/stable/modules/linear_model.html#logistic-regression\n",
      "  n_iter_i = _check_optimize_result(\n"
     ]
    },
    {
     "name": "stdout",
     "output_type": "stream",
     "text": [
      "LR done\n",
      "XGB done\n"
     ]
    },
    {
     "name": "stderr",
     "output_type": "stream",
     "text": [
      "/opt/conda/envs/rapids/lib/python3.10/site-packages/sklearn/linear_model/_logistic.py:458: ConvergenceWarning: lbfgs failed to converge (status=1):\n",
      "STOP: TOTAL NO. of ITERATIONS REACHED LIMIT.\n",
      "\n",
      "Increase the number of iterations (max_iter) or scale the data as shown in:\n",
      "    https://scikit-learn.org/stable/modules/preprocessing.html\n",
      "Please also refer to the documentation for alternative solver options:\n",
      "    https://scikit-learn.org/stable/modules/linear_model.html#logistic-regression\n",
      "  n_iter_i = _check_optimize_result(\n"
     ]
    },
    {
     "name": "stdout",
     "output_type": "stream",
     "text": [
      "LR done\n",
      "XGB done\n"
     ]
    },
    {
     "name": "stderr",
     "output_type": "stream",
     "text": [
      "/opt/conda/envs/rapids/lib/python3.10/site-packages/sklearn/linear_model/_logistic.py:458: ConvergenceWarning: lbfgs failed to converge (status=1):\n",
      "STOP: TOTAL NO. of ITERATIONS REACHED LIMIT.\n",
      "\n",
      "Increase the number of iterations (max_iter) or scale the data as shown in:\n",
      "    https://scikit-learn.org/stable/modules/preprocessing.html\n",
      "Please also refer to the documentation for alternative solver options:\n",
      "    https://scikit-learn.org/stable/modules/linear_model.html#logistic-regression\n",
      "  n_iter_i = _check_optimize_result(\n"
     ]
    },
    {
     "name": "stdout",
     "output_type": "stream",
     "text": [
      "LR done\n",
      "XGB done\n",
      "2LRModel_original\n",
      "2XGBoostModeloriginal\n",
      "2LRModel_Original-class_weight\n",
      "2XGBoostModelOriginal-class_weight\n"
     ]
    },
    {
     "name": "stderr",
     "output_type": "stream",
     "text": [
      "/tmp/ipykernel_15880/3276476915.py:8: RuntimeWarning: invalid value encountered in scalar divide\n",
      "  ppv = 100*tp/(tp+fp)\n"
     ]
    },
    {
     "name": "stdout",
     "output_type": "stream",
     "text": [
      "2LRModel_SMOTE\n",
      "2XGBoostModelSMOTE\n",
      "2LRModel_Borederline-SMOTE\n",
      "2XGBoostModelBorederline-SMOTE\n",
      "2LRModel_Boderline-SMOTE SVM\n",
      "2XGBoostModelBoderline-SMOTE SVM\n",
      "2LRModel_Adasyn-SMOTE\n",
      "2XGBoostModelAdasyn-SMOTE\n",
      "Building models . . . .\n",
      "LR done\n"
     ]
    },
    {
     "name": "stderr",
     "output_type": "stream",
     "text": [
      "/opt/conda/envs/rapids/lib/python3.10/site-packages/sklearn/linear_model/_logistic.py:458: ConvergenceWarning: lbfgs failed to converge (status=1):\n",
      "STOP: TOTAL NO. of ITERATIONS REACHED LIMIT.\n",
      "\n",
      "Increase the number of iterations (max_iter) or scale the data as shown in:\n",
      "    https://scikit-learn.org/stable/modules/preprocessing.html\n",
      "Please also refer to the documentation for alternative solver options:\n",
      "    https://scikit-learn.org/stable/modules/linear_model.html#logistic-regression\n",
      "  n_iter_i = _check_optimize_result(\n"
     ]
    },
    {
     "name": "stdout",
     "output_type": "stream",
     "text": [
      "XGB done\n",
      "LR done\n"
     ]
    },
    {
     "name": "stderr",
     "output_type": "stream",
     "text": [
      "/opt/conda/envs/rapids/lib/python3.10/site-packages/sklearn/linear_model/_logistic.py:458: ConvergenceWarning: lbfgs failed to converge (status=1):\n",
      "STOP: TOTAL NO. of ITERATIONS REACHED LIMIT.\n",
      "\n",
      "Increase the number of iterations (max_iter) or scale the data as shown in:\n",
      "    https://scikit-learn.org/stable/modules/preprocessing.html\n",
      "Please also refer to the documentation for alternative solver options:\n",
      "    https://scikit-learn.org/stable/modules/linear_model.html#logistic-regression\n",
      "  n_iter_i = _check_optimize_result(\n"
     ]
    },
    {
     "name": "stdout",
     "output_type": "stream",
     "text": [
      "XGB done\n"
     ]
    },
    {
     "name": "stderr",
     "output_type": "stream",
     "text": [
      "/opt/conda/envs/rapids/lib/python3.10/site-packages/sklearn/linear_model/_logistic.py:458: ConvergenceWarning: lbfgs failed to converge (status=1):\n",
      "STOP: TOTAL NO. of ITERATIONS REACHED LIMIT.\n",
      "\n",
      "Increase the number of iterations (max_iter) or scale the data as shown in:\n",
      "    https://scikit-learn.org/stable/modules/preprocessing.html\n",
      "Please also refer to the documentation for alternative solver options:\n",
      "    https://scikit-learn.org/stable/modules/linear_model.html#logistic-regression\n",
      "  n_iter_i = _check_optimize_result(\n"
     ]
    },
    {
     "name": "stdout",
     "output_type": "stream",
     "text": [
      "LR done\n",
      "XGB done\n",
      "LR done\n"
     ]
    },
    {
     "name": "stderr",
     "output_type": "stream",
     "text": [
      "/opt/conda/envs/rapids/lib/python3.10/site-packages/sklearn/linear_model/_logistic.py:458: ConvergenceWarning: lbfgs failed to converge (status=1):\n",
      "STOP: TOTAL NO. of ITERATIONS REACHED LIMIT.\n",
      "\n",
      "Increase the number of iterations (max_iter) or scale the data as shown in:\n",
      "    https://scikit-learn.org/stable/modules/preprocessing.html\n",
      "Please also refer to the documentation for alternative solver options:\n",
      "    https://scikit-learn.org/stable/modules/linear_model.html#logistic-regression\n",
      "  n_iter_i = _check_optimize_result(\n"
     ]
    },
    {
     "name": "stdout",
     "output_type": "stream",
     "text": [
      "XGB done\n"
     ]
    },
    {
     "name": "stderr",
     "output_type": "stream",
     "text": [
      "/opt/conda/envs/rapids/lib/python3.10/site-packages/sklearn/linear_model/_logistic.py:458: ConvergenceWarning: lbfgs failed to converge (status=1):\n",
      "STOP: TOTAL NO. of ITERATIONS REACHED LIMIT.\n",
      "\n",
      "Increase the number of iterations (max_iter) or scale the data as shown in:\n",
      "    https://scikit-learn.org/stable/modules/preprocessing.html\n",
      "Please also refer to the documentation for alternative solver options:\n",
      "    https://scikit-learn.org/stable/modules/linear_model.html#logistic-regression\n",
      "  n_iter_i = _check_optimize_result(\n"
     ]
    },
    {
     "name": "stdout",
     "output_type": "stream",
     "text": [
      "LR done\n",
      "XGB done\n"
     ]
    },
    {
     "name": "stderr",
     "output_type": "stream",
     "text": [
      "/opt/conda/envs/rapids/lib/python3.10/site-packages/sklearn/linear_model/_logistic.py:458: ConvergenceWarning: lbfgs failed to converge (status=1):\n",
      "STOP: TOTAL NO. of ITERATIONS REACHED LIMIT.\n",
      "\n",
      "Increase the number of iterations (max_iter) or scale the data as shown in:\n",
      "    https://scikit-learn.org/stable/modules/preprocessing.html\n",
      "Please also refer to the documentation for alternative solver options:\n",
      "    https://scikit-learn.org/stable/modules/linear_model.html#logistic-regression\n",
      "  n_iter_i = _check_optimize_result(\n"
     ]
    },
    {
     "name": "stdout",
     "output_type": "stream",
     "text": [
      "LR done\n",
      "XGB done\n",
      "3LRModel_original\n",
      "3XGBoostModeloriginal\n",
      "3LRModel_Original-class_weight\n",
      "3XGBoostModelOriginal-class_weight\n"
     ]
    },
    {
     "name": "stderr",
     "output_type": "stream",
     "text": [
      "/tmp/ipykernel_15880/3276476915.py:8: RuntimeWarning: invalid value encountered in scalar divide\n",
      "  ppv = 100*tp/(tp+fp)\n"
     ]
    },
    {
     "name": "stdout",
     "output_type": "stream",
     "text": [
      "3LRModel_SMOTE\n",
      "3XGBoostModelSMOTE\n",
      "3LRModel_Borederline-SMOTE\n",
      "3XGBoostModelBorederline-SMOTE\n",
      "3LRModel_Boderline-SMOTE SVM\n",
      "3XGBoostModelBoderline-SMOTE SVM\n",
      "3LRModel_Adasyn-SMOTE\n",
      "3XGBoostModelAdasyn-SMOTE\n",
      "Building models . . . .\n",
      "LR done\n"
     ]
    },
    {
     "name": "stderr",
     "output_type": "stream",
     "text": [
      "/opt/conda/envs/rapids/lib/python3.10/site-packages/sklearn/linear_model/_logistic.py:458: ConvergenceWarning: lbfgs failed to converge (status=1):\n",
      "STOP: TOTAL NO. of ITERATIONS REACHED LIMIT.\n",
      "\n",
      "Increase the number of iterations (max_iter) or scale the data as shown in:\n",
      "    https://scikit-learn.org/stable/modules/preprocessing.html\n",
      "Please also refer to the documentation for alternative solver options:\n",
      "    https://scikit-learn.org/stable/modules/linear_model.html#logistic-regression\n",
      "  n_iter_i = _check_optimize_result(\n"
     ]
    },
    {
     "name": "stdout",
     "output_type": "stream",
     "text": [
      "XGB done\n",
      "LR done\n"
     ]
    },
    {
     "name": "stderr",
     "output_type": "stream",
     "text": [
      "/opt/conda/envs/rapids/lib/python3.10/site-packages/sklearn/linear_model/_logistic.py:458: ConvergenceWarning: lbfgs failed to converge (status=1):\n",
      "STOP: TOTAL NO. of ITERATIONS REACHED LIMIT.\n",
      "\n",
      "Increase the number of iterations (max_iter) or scale the data as shown in:\n",
      "    https://scikit-learn.org/stable/modules/preprocessing.html\n",
      "Please also refer to the documentation for alternative solver options:\n",
      "    https://scikit-learn.org/stable/modules/linear_model.html#logistic-regression\n",
      "  n_iter_i = _check_optimize_result(\n"
     ]
    },
    {
     "name": "stdout",
     "output_type": "stream",
     "text": [
      "XGB done\n",
      "LR done\n"
     ]
    },
    {
     "name": "stderr",
     "output_type": "stream",
     "text": [
      "/opt/conda/envs/rapids/lib/python3.10/site-packages/sklearn/linear_model/_logistic.py:458: ConvergenceWarning: lbfgs failed to converge (status=1):\n",
      "STOP: TOTAL NO. of ITERATIONS REACHED LIMIT.\n",
      "\n",
      "Increase the number of iterations (max_iter) or scale the data as shown in:\n",
      "    https://scikit-learn.org/stable/modules/preprocessing.html\n",
      "Please also refer to the documentation for alternative solver options:\n",
      "    https://scikit-learn.org/stable/modules/linear_model.html#logistic-regression\n",
      "  n_iter_i = _check_optimize_result(\n"
     ]
    },
    {
     "name": "stdout",
     "output_type": "stream",
     "text": [
      "XGB done\n"
     ]
    },
    {
     "name": "stderr",
     "output_type": "stream",
     "text": [
      "/opt/conda/envs/rapids/lib/python3.10/site-packages/sklearn/linear_model/_logistic.py:458: ConvergenceWarning: lbfgs failed to converge (status=1):\n",
      "STOP: TOTAL NO. of ITERATIONS REACHED LIMIT.\n",
      "\n",
      "Increase the number of iterations (max_iter) or scale the data as shown in:\n",
      "    https://scikit-learn.org/stable/modules/preprocessing.html\n",
      "Please also refer to the documentation for alternative solver options:\n",
      "    https://scikit-learn.org/stable/modules/linear_model.html#logistic-regression\n",
      "  n_iter_i = _check_optimize_result(\n"
     ]
    },
    {
     "name": "stdout",
     "output_type": "stream",
     "text": [
      "LR done\n",
      "XGB done\n"
     ]
    },
    {
     "name": "stderr",
     "output_type": "stream",
     "text": [
      "/opt/conda/envs/rapids/lib/python3.10/site-packages/sklearn/linear_model/_logistic.py:458: ConvergenceWarning: lbfgs failed to converge (status=1):\n",
      "STOP: TOTAL NO. of ITERATIONS REACHED LIMIT.\n",
      "\n",
      "Increase the number of iterations (max_iter) or scale the data as shown in:\n",
      "    https://scikit-learn.org/stable/modules/preprocessing.html\n",
      "Please also refer to the documentation for alternative solver options:\n",
      "    https://scikit-learn.org/stable/modules/linear_model.html#logistic-regression\n",
      "  n_iter_i = _check_optimize_result(\n"
     ]
    },
    {
     "name": "stdout",
     "output_type": "stream",
     "text": [
      "LR done\n",
      "XGB done\n",
      "LR done\n"
     ]
    },
    {
     "name": "stderr",
     "output_type": "stream",
     "text": [
      "/opt/conda/envs/rapids/lib/python3.10/site-packages/sklearn/linear_model/_logistic.py:458: ConvergenceWarning: lbfgs failed to converge (status=1):\n",
      "STOP: TOTAL NO. of ITERATIONS REACHED LIMIT.\n",
      "\n",
      "Increase the number of iterations (max_iter) or scale the data as shown in:\n",
      "    https://scikit-learn.org/stable/modules/preprocessing.html\n",
      "Please also refer to the documentation for alternative solver options:\n",
      "    https://scikit-learn.org/stable/modules/linear_model.html#logistic-regression\n",
      "  n_iter_i = _check_optimize_result(\n"
     ]
    },
    {
     "name": "stdout",
     "output_type": "stream",
     "text": [
      "XGB done\n",
      "4LRModel_original\n",
      "4XGBoostModeloriginal\n",
      "4LRModel_Original-class_weight\n",
      "4XGBoostModelOriginal-class_weight\n"
     ]
    },
    {
     "name": "stderr",
     "output_type": "stream",
     "text": [
      "/tmp/ipykernel_15880/3276476915.py:8: RuntimeWarning: invalid value encountered in scalar divide\n",
      "  ppv = 100*tp/(tp+fp)\n",
      "/tmp/ipykernel_15880/3276476915.py:8: RuntimeWarning: invalid value encountered in scalar divide\n",
      "  ppv = 100*tp/(tp+fp)\n"
     ]
    },
    {
     "name": "stdout",
     "output_type": "stream",
     "text": [
      "4LRModel_SMOTE\n",
      "4XGBoostModelSMOTE\n",
      "4LRModel_Borederline-SMOTE\n",
      "4XGBoostModelBorederline-SMOTE\n",
      "4LRModel_Boderline-SMOTE SVM\n",
      "4XGBoostModelBoderline-SMOTE SVM\n",
      "4LRModel_Adasyn-SMOTE\n",
      "4XGBoostModelAdasyn-SMOTE\n",
      "X shape:  (9398, 87)\n",
      "y shape:  (9398, 1)\n",
      "Building models . . . .\n",
      "LR done\n"
     ]
    },
    {
     "name": "stderr",
     "output_type": "stream",
     "text": [
      "/opt/conda/envs/rapids/lib/python3.10/site-packages/sklearn/linear_model/_logistic.py:458: ConvergenceWarning: lbfgs failed to converge (status=1):\n",
      "STOP: TOTAL NO. of ITERATIONS REACHED LIMIT.\n",
      "\n",
      "Increase the number of iterations (max_iter) or scale the data as shown in:\n",
      "    https://scikit-learn.org/stable/modules/preprocessing.html\n",
      "Please also refer to the documentation for alternative solver options:\n",
      "    https://scikit-learn.org/stable/modules/linear_model.html#logistic-regression\n",
      "  n_iter_i = _check_optimize_result(\n"
     ]
    },
    {
     "name": "stdout",
     "output_type": "stream",
     "text": [
      "XGB done\n",
      "LR done\n"
     ]
    },
    {
     "name": "stderr",
     "output_type": "stream",
     "text": [
      "/opt/conda/envs/rapids/lib/python3.10/site-packages/sklearn/linear_model/_logistic.py:458: ConvergenceWarning: lbfgs failed to converge (status=1):\n",
      "STOP: TOTAL NO. of ITERATIONS REACHED LIMIT.\n",
      "\n",
      "Increase the number of iterations (max_iter) or scale the data as shown in:\n",
      "    https://scikit-learn.org/stable/modules/preprocessing.html\n",
      "Please also refer to the documentation for alternative solver options:\n",
      "    https://scikit-learn.org/stable/modules/linear_model.html#logistic-regression\n",
      "  n_iter_i = _check_optimize_result(\n"
     ]
    },
    {
     "name": "stdout",
     "output_type": "stream",
     "text": [
      "XGB done\n",
      "LR done\n"
     ]
    },
    {
     "name": "stderr",
     "output_type": "stream",
     "text": [
      "/opt/conda/envs/rapids/lib/python3.10/site-packages/sklearn/linear_model/_logistic.py:458: ConvergenceWarning: lbfgs failed to converge (status=1):\n",
      "STOP: TOTAL NO. of ITERATIONS REACHED LIMIT.\n",
      "\n",
      "Increase the number of iterations (max_iter) or scale the data as shown in:\n",
      "    https://scikit-learn.org/stable/modules/preprocessing.html\n",
      "Please also refer to the documentation for alternative solver options:\n",
      "    https://scikit-learn.org/stable/modules/linear_model.html#logistic-regression\n",
      "  n_iter_i = _check_optimize_result(\n"
     ]
    },
    {
     "name": "stdout",
     "output_type": "stream",
     "text": [
      "XGB done\n"
     ]
    },
    {
     "name": "stderr",
     "output_type": "stream",
     "text": [
      "/opt/conda/envs/rapids/lib/python3.10/site-packages/sklearn/linear_model/_logistic.py:458: ConvergenceWarning: lbfgs failed to converge (status=1):\n",
      "STOP: TOTAL NO. of ITERATIONS REACHED LIMIT.\n",
      "\n",
      "Increase the number of iterations (max_iter) or scale the data as shown in:\n",
      "    https://scikit-learn.org/stable/modules/preprocessing.html\n",
      "Please also refer to the documentation for alternative solver options:\n",
      "    https://scikit-learn.org/stable/modules/linear_model.html#logistic-regression\n",
      "  n_iter_i = _check_optimize_result(\n"
     ]
    },
    {
     "name": "stdout",
     "output_type": "stream",
     "text": [
      "LR done\n",
      "XGB done\n"
     ]
    },
    {
     "name": "stderr",
     "output_type": "stream",
     "text": [
      "/opt/conda/envs/rapids/lib/python3.10/site-packages/sklearn/linear_model/_logistic.py:458: ConvergenceWarning: lbfgs failed to converge (status=1):\n",
      "STOP: TOTAL NO. of ITERATIONS REACHED LIMIT.\n",
      "\n",
      "Increase the number of iterations (max_iter) or scale the data as shown in:\n",
      "    https://scikit-learn.org/stable/modules/preprocessing.html\n",
      "Please also refer to the documentation for alternative solver options:\n",
      "    https://scikit-learn.org/stable/modules/linear_model.html#logistic-regression\n",
      "  n_iter_i = _check_optimize_result(\n"
     ]
    },
    {
     "name": "stdout",
     "output_type": "stream",
     "text": [
      "LR done\n",
      "XGB done\n",
      "LR done\n"
     ]
    },
    {
     "name": "stderr",
     "output_type": "stream",
     "text": [
      "/opt/conda/envs/rapids/lib/python3.10/site-packages/sklearn/linear_model/_logistic.py:458: ConvergenceWarning: lbfgs failed to converge (status=1):\n",
      "STOP: TOTAL NO. of ITERATIONS REACHED LIMIT.\n",
      "\n",
      "Increase the number of iterations (max_iter) or scale the data as shown in:\n",
      "    https://scikit-learn.org/stable/modules/preprocessing.html\n",
      "Please also refer to the documentation for alternative solver options:\n",
      "    https://scikit-learn.org/stable/modules/linear_model.html#logistic-regression\n",
      "  n_iter_i = _check_optimize_result(\n"
     ]
    },
    {
     "name": "stdout",
     "output_type": "stream",
     "text": [
      "XGB done\n",
      "0LRModel_original\n",
      "0XGBoostModeloriginal\n",
      "0LRModel_Original-class_weight\n",
      "0XGBoostModelOriginal-class_weight\n",
      "0LRModel_SMOTE\n",
      "0XGBoostModelSMOTE\n",
      "0LRModel_Borederline-SMOTE\n",
      "0XGBoostModelBorederline-SMOTE\n",
      "0LRModel_Boderline-SMOTE SVM\n",
      "0XGBoostModelBoderline-SMOTE SVM\n",
      "0LRModel_Adasyn-SMOTE\n",
      "0XGBoostModelAdasyn-SMOTE\n",
      "Building models . . . .\n",
      "LR done\n"
     ]
    },
    {
     "name": "stderr",
     "output_type": "stream",
     "text": [
      "/opt/conda/envs/rapids/lib/python3.10/site-packages/sklearn/linear_model/_logistic.py:458: ConvergenceWarning: lbfgs failed to converge (status=1):\n",
      "STOP: TOTAL NO. of ITERATIONS REACHED LIMIT.\n",
      "\n",
      "Increase the number of iterations (max_iter) or scale the data as shown in:\n",
      "    https://scikit-learn.org/stable/modules/preprocessing.html\n",
      "Please also refer to the documentation for alternative solver options:\n",
      "    https://scikit-learn.org/stable/modules/linear_model.html#logistic-regression\n",
      "  n_iter_i = _check_optimize_result(\n"
     ]
    },
    {
     "name": "stdout",
     "output_type": "stream",
     "text": [
      "XGB done\n",
      "LR done\n"
     ]
    },
    {
     "name": "stderr",
     "output_type": "stream",
     "text": [
      "/opt/conda/envs/rapids/lib/python3.10/site-packages/sklearn/linear_model/_logistic.py:458: ConvergenceWarning: lbfgs failed to converge (status=1):\n",
      "STOP: TOTAL NO. of ITERATIONS REACHED LIMIT.\n",
      "\n",
      "Increase the number of iterations (max_iter) or scale the data as shown in:\n",
      "    https://scikit-learn.org/stable/modules/preprocessing.html\n",
      "Please also refer to the documentation for alternative solver options:\n",
      "    https://scikit-learn.org/stable/modules/linear_model.html#logistic-regression\n",
      "  n_iter_i = _check_optimize_result(\n"
     ]
    },
    {
     "name": "stdout",
     "output_type": "stream",
     "text": [
      "XGB done\n"
     ]
    },
    {
     "name": "stderr",
     "output_type": "stream",
     "text": [
      "/opt/conda/envs/rapids/lib/python3.10/site-packages/sklearn/linear_model/_logistic.py:458: ConvergenceWarning: lbfgs failed to converge (status=1):\n",
      "STOP: TOTAL NO. of ITERATIONS REACHED LIMIT.\n",
      "\n",
      "Increase the number of iterations (max_iter) or scale the data as shown in:\n",
      "    https://scikit-learn.org/stable/modules/preprocessing.html\n",
      "Please also refer to the documentation for alternative solver options:\n",
      "    https://scikit-learn.org/stable/modules/linear_model.html#logistic-regression\n",
      "  n_iter_i = _check_optimize_result(\n"
     ]
    },
    {
     "name": "stdout",
     "output_type": "stream",
     "text": [
      "LR done\n",
      "XGB done\n"
     ]
    },
    {
     "name": "stderr",
     "output_type": "stream",
     "text": [
      "/opt/conda/envs/rapids/lib/python3.10/site-packages/sklearn/linear_model/_logistic.py:458: ConvergenceWarning: lbfgs failed to converge (status=1):\n",
      "STOP: TOTAL NO. of ITERATIONS REACHED LIMIT.\n",
      "\n",
      "Increase the number of iterations (max_iter) or scale the data as shown in:\n",
      "    https://scikit-learn.org/stable/modules/preprocessing.html\n",
      "Please also refer to the documentation for alternative solver options:\n",
      "    https://scikit-learn.org/stable/modules/linear_model.html#logistic-regression\n",
      "  n_iter_i = _check_optimize_result(\n"
     ]
    },
    {
     "name": "stdout",
     "output_type": "stream",
     "text": [
      "LR done\n",
      "XGB done\n"
     ]
    },
    {
     "name": "stderr",
     "output_type": "stream",
     "text": [
      "/opt/conda/envs/rapids/lib/python3.10/site-packages/sklearn/linear_model/_logistic.py:458: ConvergenceWarning: lbfgs failed to converge (status=1):\n",
      "STOP: TOTAL NO. of ITERATIONS REACHED LIMIT.\n",
      "\n",
      "Increase the number of iterations (max_iter) or scale the data as shown in:\n",
      "    https://scikit-learn.org/stable/modules/preprocessing.html\n",
      "Please also refer to the documentation for alternative solver options:\n",
      "    https://scikit-learn.org/stable/modules/linear_model.html#logistic-regression\n",
      "  n_iter_i = _check_optimize_result(\n"
     ]
    },
    {
     "name": "stdout",
     "output_type": "stream",
     "text": [
      "LR done\n",
      "XGB done\n"
     ]
    },
    {
     "name": "stderr",
     "output_type": "stream",
     "text": [
      "/opt/conda/envs/rapids/lib/python3.10/site-packages/sklearn/linear_model/_logistic.py:458: ConvergenceWarning: lbfgs failed to converge (status=1):\n",
      "STOP: TOTAL NO. of ITERATIONS REACHED LIMIT.\n",
      "\n",
      "Increase the number of iterations (max_iter) or scale the data as shown in:\n",
      "    https://scikit-learn.org/stable/modules/preprocessing.html\n",
      "Please also refer to the documentation for alternative solver options:\n",
      "    https://scikit-learn.org/stable/modules/linear_model.html#logistic-regression\n",
      "  n_iter_i = _check_optimize_result(\n"
     ]
    },
    {
     "name": "stdout",
     "output_type": "stream",
     "text": [
      "LR done\n",
      "XGB done\n",
      "1LRModel_original\n",
      "1XGBoostModeloriginal\n",
      "1LRModel_Original-class_weight\n",
      "1XGBoostModelOriginal-class_weight\n",
      "1LRModel_SMOTE\n",
      "1XGBoostModelSMOTE\n",
      "1LRModel_Borederline-SMOTE\n",
      "1XGBoostModelBorederline-SMOTE\n",
      "1LRModel_Boderline-SMOTE SVM\n",
      "1XGBoostModelBoderline-SMOTE SVM\n",
      "1LRModel_Adasyn-SMOTE\n",
      "1XGBoostModelAdasyn-SMOTE\n",
      "Building models . . . .\n",
      "LR done\n"
     ]
    },
    {
     "name": "stderr",
     "output_type": "stream",
     "text": [
      "/opt/conda/envs/rapids/lib/python3.10/site-packages/sklearn/linear_model/_logistic.py:458: ConvergenceWarning: lbfgs failed to converge (status=1):\n",
      "STOP: TOTAL NO. of ITERATIONS REACHED LIMIT.\n",
      "\n",
      "Increase the number of iterations (max_iter) or scale the data as shown in:\n",
      "    https://scikit-learn.org/stable/modules/preprocessing.html\n",
      "Please also refer to the documentation for alternative solver options:\n",
      "    https://scikit-learn.org/stable/modules/linear_model.html#logistic-regression\n",
      "  n_iter_i = _check_optimize_result(\n"
     ]
    },
    {
     "name": "stdout",
     "output_type": "stream",
     "text": [
      "XGB done\n",
      "LR done\n"
     ]
    },
    {
     "name": "stderr",
     "output_type": "stream",
     "text": [
      "/opt/conda/envs/rapids/lib/python3.10/site-packages/sklearn/linear_model/_logistic.py:458: ConvergenceWarning: lbfgs failed to converge (status=1):\n",
      "STOP: TOTAL NO. of ITERATIONS REACHED LIMIT.\n",
      "\n",
      "Increase the number of iterations (max_iter) or scale the data as shown in:\n",
      "    https://scikit-learn.org/stable/modules/preprocessing.html\n",
      "Please also refer to the documentation for alternative solver options:\n",
      "    https://scikit-learn.org/stable/modules/linear_model.html#logistic-regression\n",
      "  n_iter_i = _check_optimize_result(\n"
     ]
    },
    {
     "name": "stdout",
     "output_type": "stream",
     "text": [
      "XGB done\n"
     ]
    },
    {
     "name": "stderr",
     "output_type": "stream",
     "text": [
      "/opt/conda/envs/rapids/lib/python3.10/site-packages/sklearn/linear_model/_logistic.py:458: ConvergenceWarning: lbfgs failed to converge (status=1):\n",
      "STOP: TOTAL NO. of ITERATIONS REACHED LIMIT.\n",
      "\n",
      "Increase the number of iterations (max_iter) or scale the data as shown in:\n",
      "    https://scikit-learn.org/stable/modules/preprocessing.html\n",
      "Please also refer to the documentation for alternative solver options:\n",
      "    https://scikit-learn.org/stable/modules/linear_model.html#logistic-regression\n",
      "  n_iter_i = _check_optimize_result(\n"
     ]
    },
    {
     "name": "stdout",
     "output_type": "stream",
     "text": [
      "LR done\n",
      "XGB done\n"
     ]
    },
    {
     "name": "stderr",
     "output_type": "stream",
     "text": [
      "/opt/conda/envs/rapids/lib/python3.10/site-packages/sklearn/linear_model/_logistic.py:458: ConvergenceWarning: lbfgs failed to converge (status=1):\n",
      "STOP: TOTAL NO. of ITERATIONS REACHED LIMIT.\n",
      "\n",
      "Increase the number of iterations (max_iter) or scale the data as shown in:\n",
      "    https://scikit-learn.org/stable/modules/preprocessing.html\n",
      "Please also refer to the documentation for alternative solver options:\n",
      "    https://scikit-learn.org/stable/modules/linear_model.html#logistic-regression\n",
      "  n_iter_i = _check_optimize_result(\n"
     ]
    },
    {
     "name": "stdout",
     "output_type": "stream",
     "text": [
      "LR done\n",
      "XGB done\n"
     ]
    },
    {
     "name": "stderr",
     "output_type": "stream",
     "text": [
      "/opt/conda/envs/rapids/lib/python3.10/site-packages/sklearn/linear_model/_logistic.py:458: ConvergenceWarning: lbfgs failed to converge (status=1):\n",
      "STOP: TOTAL NO. of ITERATIONS REACHED LIMIT.\n",
      "\n",
      "Increase the number of iterations (max_iter) or scale the data as shown in:\n",
      "    https://scikit-learn.org/stable/modules/preprocessing.html\n",
      "Please also refer to the documentation for alternative solver options:\n",
      "    https://scikit-learn.org/stable/modules/linear_model.html#logistic-regression\n",
      "  n_iter_i = _check_optimize_result(\n"
     ]
    },
    {
     "name": "stdout",
     "output_type": "stream",
     "text": [
      "LR done\n",
      "XGB done\n"
     ]
    },
    {
     "name": "stderr",
     "output_type": "stream",
     "text": [
      "/opt/conda/envs/rapids/lib/python3.10/site-packages/sklearn/linear_model/_logistic.py:458: ConvergenceWarning: lbfgs failed to converge (status=1):\n",
      "STOP: TOTAL NO. of ITERATIONS REACHED LIMIT.\n",
      "\n",
      "Increase the number of iterations (max_iter) or scale the data as shown in:\n",
      "    https://scikit-learn.org/stable/modules/preprocessing.html\n",
      "Please also refer to the documentation for alternative solver options:\n",
      "    https://scikit-learn.org/stable/modules/linear_model.html#logistic-regression\n",
      "  n_iter_i = _check_optimize_result(\n"
     ]
    },
    {
     "name": "stdout",
     "output_type": "stream",
     "text": [
      "LR done\n",
      "XGB done\n",
      "2LRModel_original\n",
      "2XGBoostModeloriginal\n",
      "2LRModel_Original-class_weight\n",
      "2XGBoostModelOriginal-class_weight\n",
      "2LRModel_SMOTE\n",
      "2XGBoostModelSMOTE\n",
      "2LRModel_Borederline-SMOTE\n",
      "2XGBoostModelBorederline-SMOTE\n",
      "2LRModel_Boderline-SMOTE SVM\n",
      "2XGBoostModelBoderline-SMOTE SVM\n",
      "2LRModel_Adasyn-SMOTE\n",
      "2XGBoostModelAdasyn-SMOTE\n",
      "Building models . . . .\n",
      "LR done\n"
     ]
    },
    {
     "name": "stderr",
     "output_type": "stream",
     "text": [
      "/opt/conda/envs/rapids/lib/python3.10/site-packages/sklearn/linear_model/_logistic.py:458: ConvergenceWarning: lbfgs failed to converge (status=1):\n",
      "STOP: TOTAL NO. of ITERATIONS REACHED LIMIT.\n",
      "\n",
      "Increase the number of iterations (max_iter) or scale the data as shown in:\n",
      "    https://scikit-learn.org/stable/modules/preprocessing.html\n",
      "Please also refer to the documentation for alternative solver options:\n",
      "    https://scikit-learn.org/stable/modules/linear_model.html#logistic-regression\n",
      "  n_iter_i = _check_optimize_result(\n"
     ]
    },
    {
     "name": "stdout",
     "output_type": "stream",
     "text": [
      "XGB done\n",
      "LR done\n"
     ]
    },
    {
     "name": "stderr",
     "output_type": "stream",
     "text": [
      "/opt/conda/envs/rapids/lib/python3.10/site-packages/sklearn/linear_model/_logistic.py:458: ConvergenceWarning: lbfgs failed to converge (status=1):\n",
      "STOP: TOTAL NO. of ITERATIONS REACHED LIMIT.\n",
      "\n",
      "Increase the number of iterations (max_iter) or scale the data as shown in:\n",
      "    https://scikit-learn.org/stable/modules/preprocessing.html\n",
      "Please also refer to the documentation for alternative solver options:\n",
      "    https://scikit-learn.org/stable/modules/linear_model.html#logistic-regression\n",
      "  n_iter_i = _check_optimize_result(\n"
     ]
    },
    {
     "name": "stdout",
     "output_type": "stream",
     "text": [
      "XGB done\n"
     ]
    },
    {
     "name": "stderr",
     "output_type": "stream",
     "text": [
      "/opt/conda/envs/rapids/lib/python3.10/site-packages/sklearn/linear_model/_logistic.py:458: ConvergenceWarning: lbfgs failed to converge (status=1):\n",
      "STOP: TOTAL NO. of ITERATIONS REACHED LIMIT.\n",
      "\n",
      "Increase the number of iterations (max_iter) or scale the data as shown in:\n",
      "    https://scikit-learn.org/stable/modules/preprocessing.html\n",
      "Please also refer to the documentation for alternative solver options:\n",
      "    https://scikit-learn.org/stable/modules/linear_model.html#logistic-regression\n",
      "  n_iter_i = _check_optimize_result(\n"
     ]
    },
    {
     "name": "stdout",
     "output_type": "stream",
     "text": [
      "LR done\n",
      "XGB done\n"
     ]
    },
    {
     "name": "stderr",
     "output_type": "stream",
     "text": [
      "/opt/conda/envs/rapids/lib/python3.10/site-packages/sklearn/linear_model/_logistic.py:458: ConvergenceWarning: lbfgs failed to converge (status=1):\n",
      "STOP: TOTAL NO. of ITERATIONS REACHED LIMIT.\n",
      "\n",
      "Increase the number of iterations (max_iter) or scale the data as shown in:\n",
      "    https://scikit-learn.org/stable/modules/preprocessing.html\n",
      "Please also refer to the documentation for alternative solver options:\n",
      "    https://scikit-learn.org/stable/modules/linear_model.html#logistic-regression\n",
      "  n_iter_i = _check_optimize_result(\n"
     ]
    },
    {
     "name": "stdout",
     "output_type": "stream",
     "text": [
      "LR done\n",
      "XGB done\n"
     ]
    },
    {
     "name": "stderr",
     "output_type": "stream",
     "text": [
      "/opt/conda/envs/rapids/lib/python3.10/site-packages/sklearn/linear_model/_logistic.py:458: ConvergenceWarning: lbfgs failed to converge (status=1):\n",
      "STOP: TOTAL NO. of ITERATIONS REACHED LIMIT.\n",
      "\n",
      "Increase the number of iterations (max_iter) or scale the data as shown in:\n",
      "    https://scikit-learn.org/stable/modules/preprocessing.html\n",
      "Please also refer to the documentation for alternative solver options:\n",
      "    https://scikit-learn.org/stable/modules/linear_model.html#logistic-regression\n",
      "  n_iter_i = _check_optimize_result(\n"
     ]
    },
    {
     "name": "stdout",
     "output_type": "stream",
     "text": [
      "LR done\n",
      "XGB done\n",
      "LR done\n"
     ]
    },
    {
     "name": "stderr",
     "output_type": "stream",
     "text": [
      "/opt/conda/envs/rapids/lib/python3.10/site-packages/sklearn/linear_model/_logistic.py:458: ConvergenceWarning: lbfgs failed to converge (status=1):\n",
      "STOP: TOTAL NO. of ITERATIONS REACHED LIMIT.\n",
      "\n",
      "Increase the number of iterations (max_iter) or scale the data as shown in:\n",
      "    https://scikit-learn.org/stable/modules/preprocessing.html\n",
      "Please also refer to the documentation for alternative solver options:\n",
      "    https://scikit-learn.org/stable/modules/linear_model.html#logistic-regression\n",
      "  n_iter_i = _check_optimize_result(\n"
     ]
    },
    {
     "name": "stdout",
     "output_type": "stream",
     "text": [
      "XGB done\n",
      "3LRModel_original\n",
      "3XGBoostModeloriginal\n",
      "3LRModel_Original-class_weight\n",
      "3XGBoostModelOriginal-class_weight\n",
      "3LRModel_SMOTE\n",
      "3XGBoostModelSMOTE\n",
      "3LRModel_Borederline-SMOTE\n",
      "3XGBoostModelBorederline-SMOTE\n",
      "3LRModel_Boderline-SMOTE SVM\n",
      "3XGBoostModelBoderline-SMOTE SVM\n",
      "3LRModel_Adasyn-SMOTE\n",
      "3XGBoostModelAdasyn-SMOTE\n",
      "Building models . . . .\n",
      "LR done\n",
      "XGB done\n",
      "LR done\n"
     ]
    },
    {
     "name": "stderr",
     "output_type": "stream",
     "text": [
      "/opt/conda/envs/rapids/lib/python3.10/site-packages/sklearn/linear_model/_logistic.py:458: ConvergenceWarning: lbfgs failed to converge (status=1):\n",
      "STOP: TOTAL NO. of ITERATIONS REACHED LIMIT.\n",
      "\n",
      "Increase the number of iterations (max_iter) or scale the data as shown in:\n",
      "    https://scikit-learn.org/stable/modules/preprocessing.html\n",
      "Please also refer to the documentation for alternative solver options:\n",
      "    https://scikit-learn.org/stable/modules/linear_model.html#logistic-regression\n",
      "  n_iter_i = _check_optimize_result(\n"
     ]
    },
    {
     "name": "stdout",
     "output_type": "stream",
     "text": [
      "XGB done\n",
      "LR done\n"
     ]
    },
    {
     "name": "stderr",
     "output_type": "stream",
     "text": [
      "/opt/conda/envs/rapids/lib/python3.10/site-packages/sklearn/linear_model/_logistic.py:458: ConvergenceWarning: lbfgs failed to converge (status=1):\n",
      "STOP: TOTAL NO. of ITERATIONS REACHED LIMIT.\n",
      "\n",
      "Increase the number of iterations (max_iter) or scale the data as shown in:\n",
      "    https://scikit-learn.org/stable/modules/preprocessing.html\n",
      "Please also refer to the documentation for alternative solver options:\n",
      "    https://scikit-learn.org/stable/modules/linear_model.html#logistic-regression\n",
      "  n_iter_i = _check_optimize_result(\n"
     ]
    },
    {
     "name": "stdout",
     "output_type": "stream",
     "text": [
      "XGB done\n",
      "LR done\n"
     ]
    },
    {
     "name": "stderr",
     "output_type": "stream",
     "text": [
      "/opt/conda/envs/rapids/lib/python3.10/site-packages/sklearn/linear_model/_logistic.py:458: ConvergenceWarning: lbfgs failed to converge (status=1):\n",
      "STOP: TOTAL NO. of ITERATIONS REACHED LIMIT.\n",
      "\n",
      "Increase the number of iterations (max_iter) or scale the data as shown in:\n",
      "    https://scikit-learn.org/stable/modules/preprocessing.html\n",
      "Please also refer to the documentation for alternative solver options:\n",
      "    https://scikit-learn.org/stable/modules/linear_model.html#logistic-regression\n",
      "  n_iter_i = _check_optimize_result(\n"
     ]
    },
    {
     "name": "stdout",
     "output_type": "stream",
     "text": [
      "XGB done\n"
     ]
    },
    {
     "name": "stderr",
     "output_type": "stream",
     "text": [
      "/opt/conda/envs/rapids/lib/python3.10/site-packages/sklearn/linear_model/_logistic.py:458: ConvergenceWarning: lbfgs failed to converge (status=1):\n",
      "STOP: TOTAL NO. of ITERATIONS REACHED LIMIT.\n",
      "\n",
      "Increase the number of iterations (max_iter) or scale the data as shown in:\n",
      "    https://scikit-learn.org/stable/modules/preprocessing.html\n",
      "Please also refer to the documentation for alternative solver options:\n",
      "    https://scikit-learn.org/stable/modules/linear_model.html#logistic-regression\n",
      "  n_iter_i = _check_optimize_result(\n"
     ]
    },
    {
     "name": "stdout",
     "output_type": "stream",
     "text": [
      "LR done\n",
      "XGB done\n"
     ]
    },
    {
     "name": "stderr",
     "output_type": "stream",
     "text": [
      "/opt/conda/envs/rapids/lib/python3.10/site-packages/sklearn/linear_model/_logistic.py:458: ConvergenceWarning: lbfgs failed to converge (status=1):\n",
      "STOP: TOTAL NO. of ITERATIONS REACHED LIMIT.\n",
      "\n",
      "Increase the number of iterations (max_iter) or scale the data as shown in:\n",
      "    https://scikit-learn.org/stable/modules/preprocessing.html\n",
      "Please also refer to the documentation for alternative solver options:\n",
      "    https://scikit-learn.org/stable/modules/linear_model.html#logistic-regression\n",
      "  n_iter_i = _check_optimize_result(\n"
     ]
    },
    {
     "name": "stdout",
     "output_type": "stream",
     "text": [
      "LR done\n",
      "XGB done\n",
      "4LRModel_original\n",
      "4XGBoostModeloriginal\n",
      "4LRModel_Original-class_weight\n",
      "4XGBoostModelOriginal-class_weight\n",
      "4LRModel_SMOTE\n",
      "4XGBoostModelSMOTE\n",
      "4LRModel_Borederline-SMOTE\n",
      "4XGBoostModelBorederline-SMOTE\n",
      "4LRModel_Boderline-SMOTE SVM\n",
      "4XGBoostModelBoderline-SMOTE SVM\n",
      "4LRModel_Adasyn-SMOTE\n",
      "4XGBoostModelAdasyn-SMOTE\n"
     ]
    }
   ],
   "source": [
    "trainingData = trainingData.dropna()\n",
    "trainingData.reset_index(drop=True, inplace=True)\n",
    "n_splits = 5\n",
    "features = [item for item in trainingData.columns if item not in outcomes]\n",
    "X = trainingData[features]\n",
    "summary_result = []\n",
    "cols = ['model_name', 'class_ratio', 'outcome', 'imbalance_method', 'acc','spec','sens','auc', 'auprc', 'balance_accuracy', 'f1_score', 'ppv', 'npv']\n",
    "#params for XGB\n",
    "params = {'outcome_inhospital_mortality':{'depth': 3,\n",
    "                                          'lr': 0.0007\n",
    "                                         },\n",
    "          'outcome_ed_revisit_30d':{'depth': 4,\n",
    "                                          'lr': 0.0007\n",
    "                                         },\n",
    "          'outcome_icu_transfer_12h':{'depth': 4,\n",
    "                                          'lr': 0.0007\n",
    "                                         },\n",
    "         }\n",
    "for outcome in outcomes:\n",
    "    y = trainingData[[outcome]]\n",
    "    print('X shape: ', X.shape)\n",
    "    print('y shape: ', y.shape)\n",
    "    models = pd.DataFrame(columns=['modelname', 'class_ratio', 'imbalance_method', 'split_counter'])\n",
    "    kf = StratifiedKFold(n_splits=n_splits, random_state=1234, shuffle=True)\n",
    "    kf.get_n_splits(X)\n",
    "    \n",
    "    split_counter = 0\n",
    "\n",
    "    #train model\n",
    "    for train_index, test_index in kf.split(X, y):\n",
    "        #split data\n",
    "        X_train, X_test = X.iloc[train_index], X.iloc[test_index]\n",
    "        y_train, y_test = y.iloc[train_index], y.iloc[test_index]\n",
    "\n",
    "        #Build models -> it can be commented if the models have been trained\n",
    "        models_temp = pd.DataFrame(build_models(outcome, X_train, y_train[outcome], split_counter, params[outcome]), columns=['modelname', 'class_ratio', 'imbalance_method', 'split_counter'])\n",
    "        models = pd.concat([models,models_temp]).reset_index(drop=True)\n",
    "        \n",
    "\n",
    "        #evaluate model\n",
    "        for modelname, classratio, imbalance_method, split_counter in models_temp.values:\n",
    "            # print('======================================================================')\n",
    "            print(modelname)\n",
    "            model = pickle.load(open('../models/'+ outcome + '/'+ modelname + '.sav', 'rb'))\n",
    "            summary_result.append((str(model), classratio, outcome, imbalance_method) + summariseResult (X_test, y_test[outcome], model) )     \n",
    "        \n",
    "        split_counter+=1\n",
    "\n",
    "\n",
    "summary_result = pd.DataFrame(summary_result, columns=cols)\n",
    "summary_result['model_num'] = summary_result.index"
   ]
  },
  {
   "cell_type": "code",
   "execution_count": 298,
   "id": "01590d27-0ea8-4aff-9d71-e582582b0f22",
   "metadata": {
    "tags": []
   },
   "outputs": [],
   "source": [
    "summary_result['model_name'] = summary_result.model_name.apply(lambda x: modelNameFixer(x))"
   ]
  },
  {
   "cell_type": "code",
   "execution_count": 299,
   "id": "61764324-972e-4648-82d0-c038f73ffad2",
   "metadata": {
    "tags": []
   },
   "outputs": [
    {
     "data": {
      "text/plain": [
       "(180, 14)"
      ]
     },
     "execution_count": 299,
     "metadata": {},
     "output_type": "execute_result"
    }
   ],
   "source": [
    "summary_result.shape"
   ]
  },
  {
   "cell_type": "code",
   "execution_count": 300,
   "id": "f983ba6c-66e8-492c-a7f1-755e90ca8a3b",
   "metadata": {
    "tags": []
   },
   "outputs": [],
   "source": [
    "# summary_result.groupby(['outcome','model_name', 'imbalance_method']).mean()"
   ]
  },
  {
   "cell_type": "code",
   "execution_count": 301,
   "id": "b3f77947-ad33-4c58-9b1b-bc3e254f07e4",
   "metadata": {
    "tags": []
   },
   "outputs": [],
   "source": [
    "# summary_result[summary_result.outcome == 'outcome_inhospital_mortality'].sort_values(['model_name', 'imbalance_method'])"
   ]
  },
  {
   "cell_type": "code",
   "execution_count": 302,
   "id": "912bd2a4-d398-44c8-8c95-a8387c2298e9",
   "metadata": {
    "tags": []
   },
   "outputs": [
    {
     "name": "stderr",
     "output_type": "stream",
     "text": [
      "/tmp/ipykernel_15880/3917720720.py:3: FutureWarning: \n",
      "\n",
      "The `ci` parameter is deprecated. Use `errorbar=None` for the same effect.\n",
      "\n",
      "  bar = sns.catplot(x = \"model_name\",       # x variable name\n",
      "/tmp/ipykernel_15880/3917720720.py:3: FutureWarning: \n",
      "\n",
      "The `ci` parameter is deprecated. Use `errorbar=None` for the same effect.\n",
      "\n",
      "  bar = sns.catplot(x = \"model_name\",       # x variable name\n",
      "/tmp/ipykernel_15880/3917720720.py:3: FutureWarning: \n",
      "\n",
      "The `ci` parameter is deprecated. Use `errorbar=None` for the same effect.\n",
      "\n",
      "  bar = sns.catplot(x = \"model_name\",       # x variable name\n"
     ]
    },
    {
     "data": {
      "image/png": "[encoded data removed]",
      "text/plain": [
       "<Figure size 1204.75x500 with 1 Axes>"
      ]
     },
     "metadata": {},
     "output_type": "display_data"
    },
    {
     "data": {
      "image/png": "[encoded data removed]",
      "text/plain": [
       "<Figure size 1204.75x500 with 1 Axes>"
      ]
     },
     "metadata": {},
     "output_type": "display_data"
    },
    {
     "data": {
      "image/png": "[encoded data removed]",
      "text/plain": [
       "<Figure size 1204.75x500 with 1 Axes>"
      ]
     },
     "metadata": {},
     "output_type": "display_data"
    }
   ],
   "source": [
    "for outcome in outcomes:\n",
    "    # print(outcome)\n",
    "    bar = sns.catplot(x = \"model_name\",       # x variable name\n",
    "                y = \"auc\",       # y variable name            \n",
    "                data = summary_result[summary_result.outcome==outcome],     # dataframe to plot\n",
    "                kind = \"bar\",\n",
    "                hue = 'imbalance_method',\n",
    "                height=5,\n",
    "                aspect=5/2.5,\n",
    "                ci = None)\n",
    "    bar.set(title=outcome)\n",
    "    ax = bar.facet_axis(0,0)\n",
    "    for p in ax.patches:\n",
    "        ax.text(p.get_x() + 0.01, \n",
    "                p.get_height() * 1.01, \n",
    "                '{0:.4f}'.format(p.get_height()), \n",
    "                color='black', rotation='horizontal', fontsize=11)\n",
    "\n",
    "    # listOf_Yticks = np.arange(0.5, 0.7, 0.05)\n",
    "    ax.set_ylim(0.4, 1)\n",
    "    ax.set_ylabel('AUC Score', fontsize=11)\n",
    "    ax.set_xlabel('Method', fontsize=11)\n",
    "    ax"
   ]
  },
  {
   "cell_type": "code",
   "execution_count": 303,
   "id": "9074c658-d444-4f60-a300-c9965083363b",
   "metadata": {
    "tags": []
   },
   "outputs": [
    {
     "name": "stdout",
     "output_type": "stream",
     "text": [
      "outcome_inhospital_mortality\n",
      "model_name  imbalance_method     \n",
      "LR          Adasyn-SMOTE             0.074519\n",
      "            Boderline-SMOTE SVM      0.040361\n",
      "            Borederline-SMOTE        0.036125\n",
      "            Original-class_weight    0.082012\n",
      "            SMOTE                    0.088474\n",
      "            original                 0.000000\n",
      "XGB         Adasyn-SMOTE             0.068614\n",
      "            Boderline-SMOTE SVM      0.048712\n",
      "            Borederline-SMOTE        0.050050\n",
      "            Original-class_weight    0.058010\n",
      "            SMOTE                    0.042902\n",
      "            original                 0.000000\n",
      "Name: auc, dtype: float64\n",
      "outcome_ed_revisit_30d\n",
      "model_name  imbalance_method     \n",
      "LR          Adasyn-SMOTE             0.013869\n",
      "            Boderline-SMOTE SVM      0.013256\n",
      "            Borederline-SMOTE        0.010175\n",
      "            Original-class_weight    0.026400\n",
      "            SMOTE                    0.016547\n",
      "            original                 0.001817\n",
      "XGB         Adasyn-SMOTE             0.001460\n",
      "            Boderline-SMOTE SVM      0.003825\n",
      "            Borederline-SMOTE        0.003792\n",
      "            Original-class_weight    0.021518\n",
      "            SMOTE                    0.003023\n",
      "            original                 0.000000\n",
      "Name: auc, dtype: float64\n",
      "outcome_icu_transfer_12h\n",
      "model_name  imbalance_method     \n",
      "LR          Adasyn-SMOTE             0.018610\n",
      "            Boderline-SMOTE SVM      0.016684\n",
      "            Borederline-SMOTE        0.019380\n",
      "            Original-class_weight    0.012542\n",
      "            SMOTE                    0.018798\n",
      "            original                 0.016662\n",
      "XGB         Adasyn-SMOTE             0.022684\n",
      "            Boderline-SMOTE SVM      0.022095\n",
      "            Borederline-SMOTE        0.022646\n",
      "            Original-class_weight    0.019401\n",
      "            SMOTE                    0.017783\n",
      "            original                 0.013587\n",
      "Name: auc, dtype: float64\n"
     ]
    }
   ],
   "source": [
    "#between splits stability\n",
    "for outcome in outcomes:\n",
    "    print (outcome)\n",
    "    print(summary_result[summary_result.outcome==outcome].groupby(['model_name', 'imbalance_method'])['auc'].std())\n",
    "    "
   ]
  },
  {
   "cell_type": "code",
   "execution_count": null,
   "id": "ba190579-c987-4873-acbb-703a82ea630c",
   "metadata": {
    "tags": []
   },
   "outputs": [],
   "source": []
  },
  {
   "cell_type": "markdown",
   "id": "4aeea54f-2a65-4a99-9ac4-d1325d0ae597",
   "metadata": {},
   "source": [
    "# 3months"
   ]
  },
  {
   "cell_type": "code",
   "execution_count": null,
   "id": "b30f895e-5381-46ba-b938-e4635f2cea72",
   "metadata": {},
   "outputs": [],
   "source": [
    "#Create X set for model development\n",
    "\n",
    "target_outcome = 'outcome_3months'\n",
    "X = trainingData[features_columns]\n",
    "y = trainingData[[target_outcome]]\n",
    "print('X shape: ', X.shape)\n",
    "print('y shape: ', y.shape)\n",
    "\n",
    "#model parameters\n",
    "params = {'xgb_lr': 0.6,\n",
    "         'xgb_maxdepth': 7}"
   ]
  },
  {
   "cell_type": "code",
   "execution_count": null,
   "id": "1bc35cae-8c88-4260-a968-25e098bbeedc",
   "metadata": {
    "scrolled": true,
    "tags": []
   },
   "outputs": [],
   "source": [
    "%%time\n",
    "\n",
    "#EXECUTE model training\n",
    "\n",
    "kf = StratifiedKFold(n_splits=n_splits, random_state=1234, shuffle=True)\n",
    "kf.get_n_splits(X)\n",
    "models1 = pd.DataFrame(columns=['modelname', 'class_ratio'])\n",
    "summary_result1 = []\n",
    "cols = ['model_name', 'class_ratio', 'acc','spec','sens','auc', 'auprc', 'balance_accuracy', 'f1_score', 'ppv', 'npv']\n",
    "split_counter = 0\n",
    "\n",
    "#train model\n",
    "for train_index, test_index in kf.split(X, y):\n",
    "    #split data\n",
    "    X_train, X_test = X.iloc[train_index], X.iloc[test_index]\n",
    "    y_train, y_test = y.iloc[train_index], y.iloc[test_index]\n",
    "    \n",
    "    #Build models -> it can be commented if the models have been trained\n",
    "    models_temp = pd.DataFrame(build_models(X_train, y_train[target_outcome], params, split_counter), columns=['modelname', 'class_ratio'])\n",
    "    models1 = pd.concat([models1,models_temp]).reset_index(drop=True)\n",
    "    split_counter+=1\n",
    "        \n",
    "#evaluate model\n",
    "for modelname, classratio in models1.values:\n",
    "    # print('======================================================================')\n",
    "    print(modelname)\n",
    "    model = pickle.load(open('./models/'+ target_outcome + '/'+ modelname + '.sav', 'rb'))\n",
    "    summary_result1.append((str(model), classratio, ) + summariseResult (X_test, y_test[target_outcome], model) )       \n",
    "\n",
    "\n",
    "summary_result1 = pd.DataFrame(summary_result1, columns=cols)\n",
    "summary_result1['model_num'] = summary_result1.index\n",
    "\n"
   ]
  },
  {
   "cell_type": "code",
   "execution_count": null,
   "id": "552fe2d3-7c89-47cd-ae82-c10fb64cd3a8",
   "metadata": {},
   "outputs": [],
   "source": [
    "print(target_outcome)\n",
    "summary_result1['model_name'] = summary_result1.apply(lambda x: modelNameFixer(x.model_name), axis=1)\n",
    "summary_result1.groupby('model_name').mean().sort_values(['auc'], ascending=False)"
   ]
  },
  {
   "cell_type": "code",
   "execution_count": null,
   "id": "b731a567-350a-409e-8bfd-dea303c9f7dc",
   "metadata": {},
   "outputs": [],
   "source": [
    "summary_result1.to_csv(\"summaryResult_outcome1.csv\")\n",
    "summary_result1 = pd.read_csv(\"summaryResult_outcome1.csv\")\n",
    "\n",
    "bar = sns.catplot(x = \"model_name\",       # x variable name\n",
    "            y = \"auc\",       # y variable name            \n",
    "            data = summary_result1,     # dataframe to plot\n",
    "            kind = \"bar\",\n",
    "            height=5,\n",
    "            aspect=5/2.5,\n",
    "            ci = None)\n",
    "ax = bar.facet_axis(0,0)\n",
    "for p in ax.patches:\n",
    "    ax.text(p.get_x() + 0.01, \n",
    "            p.get_height() * 1.01, \n",
    "            '{0:.4f}'.format(p.get_height()), \n",
    "            color='black', rotation='horizontal', fontsize=11)\n",
    "    \n",
    "# listOf_Yticks = np.arange(0.5, 0.7, 0.05)\n",
    "ax.set_ylim(0.4, 1)\n",
    "ax.set_ylabel('AUC Score', fontsize=11)\n",
    "ax.set_xlabel('Method', fontsize=11)"
   ]
  },
  {
   "cell_type": "code",
   "execution_count": null,
   "id": "3831d05a-49bd-41a9-8294-8ddeae8bc2ce",
   "metadata": {},
   "outputs": [],
   "source": [
    "# kf = StratifiedKFold(n_splits=2, random_state=1234, shuffle=True)\n",
    "# kf.get_n_splits(X)\n",
    "# for train_index, test_index in kf.split(X, y):\n",
    "#     #split data\n",
    "#     X_train, X_test = X.iloc[train_index], X.iloc[test_index]\n",
    "#     y_train, y_test = y.iloc[train_index], y.iloc[test_index]\n",
    "#     trymodel = SVC(class_weight='balanced', C = 0.7, degree=2, kernel='poly', random_state=1234, cache_size=2048)\n",
    "#     trymodel.fit(X_train,y_train)\n",
    "#     print(summariseResult(X_test, y_test, trymodel))\n"
   ]
  },
  {
   "cell_type": "code",
   "execution_count": null,
   "id": "baaabe03-0654-40e4-846c-26c3b1ebb50d",
   "metadata": {},
   "outputs": [],
   "source": [
    "best_model1 = pickle.load(open('./models/outcome_3months/0DTModel.sav', 'rb'))\n",
    "\n",
    "# pd.DataFrame([best_model3.feature_importances_], columns=X.columns).T.sort_values(0, ascending=False)\n",
    "sorted_idx = best_model1.feature_importances_.argsort()\n",
    "plt.figure(figsize=(5,7))\n",
    "plt.barh(X.columns[sorted_idx][-10:], best_model1.feature_importances_[sorted_idx][-10:])\n",
    "plt.xlabel(\"Decision Tree Feature Importance\")\n",
    "plt.show()"
   ]
  },
  {
   "cell_type": "code",
   "execution_count": null,
   "id": "585071b8-244d-4f64-bd03-6cfcb038b749",
   "metadata": {},
   "outputs": [],
   "source": [
    "best_model1 = pickle.load(open('./models/outcome_3months/0RFModel.sav', 'rb'))\n",
    "\n",
    "# pd.DataFrame([best_model3.feature_importances_], columns=X.columns).T.sort_values(0, ascending=False)\n",
    "sorted_idx = best_model1.feature_importances_.argsort()\n",
    "plt.figure(figsize=(5,7))\n",
    "plt.barh(X.columns[sorted_idx][-10:], best_model1.feature_importances_[sorted_idx][-10:])\n",
    "plt.xlabel(\"Random Forest Feature Importance\")\n",
    "plt.show()"
   ]
  },
  {
   "cell_type": "code",
   "execution_count": null,
   "id": "7e292a9c-e922-4f1d-8655-ff243fb4f1e6",
   "metadata": {},
   "outputs": [],
   "source": [
    "best_model1 = pickle.load(open('./models/outcome_3months/0XGBoostModel.sav', 'rb'))\n",
    "\n",
    "# pd.DataFrame([best_model3.feature_importances_], columns=X.columns).T.sort_values(0, ascending=False)\n",
    "sorted_idx = best_model1.feature_importances_.argsort()\n",
    "plt.figure(figsize=(5,7))\n",
    "plt.barh(X.columns[sorted_idx][-10:], best_model1.feature_importances_[sorted_idx][-10:])\n",
    "plt.xlabel(\"XGBoost Feature Importance\")\n",
    "plt.show()"
   ]
  },
  {
   "cell_type": "markdown",
   "id": "76596db2-c810-4c3a-b724-e59b6f9cd19a",
   "metadata": {},
   "source": [
    "# 6months"
   ]
  },
  {
   "cell_type": "code",
   "execution_count": null,
   "id": "4ae588b5-980f-4712-bfef-e84dfcb1c902",
   "metadata": {},
   "outputs": [],
   "source": [
    "target_outcome = 'outcome_combined_6months'\n",
    "y = trainingData[[target_outcome]]\n",
    "\n",
    "#model parameters\n",
    "params = {'xgb_lr': 0.6,\n",
    "         'xgb_maxdepth': 7}"
   ]
  },
  {
   "cell_type": "code",
   "execution_count": null,
   "id": "70c88a10-ffac-4051-82e6-0866d4c3b28b",
   "metadata": {
    "scrolled": true,
    "tags": []
   },
   "outputs": [],
   "source": [
    "%%time\n",
    "\n",
    "#EXECUTE model training\n",
    "\n",
    "kf = StratifiedKFold(n_splits=n_splits, random_state=1234, shuffle=True)\n",
    "kf.get_n_splits(X)\n",
    "models2 = pd.DataFrame(columns=['modelname', 'class_ratio'])\n",
    "summary_result2 = []\n",
    "cols = ['model_name', 'class_ratio', 'acc','spec','sens','auc', 'auprc', 'balance_accuracy', 'f1_score', 'ppv', 'npv']\n",
    "split_counter = 0\n",
    "\n",
    "#train model\n",
    "for train_index, test_index in kf.split(X, y):\n",
    "    #split data\n",
    "    X_train, X_test = X.iloc[train_index], X.iloc[test_index]\n",
    "    y_train, y_test = y.iloc[train_index], y.iloc[test_index]\n",
    "    \n",
    "    #Build models -> it can be commented if the models have been trained\n",
    "    models_temp = pd.DataFrame(build_models(X_train, y_train[target_outcome], params, split_counter), columns=['modelname', 'class_ratio'])\n",
    "    models2 = pd.concat([models2,models_temp]).reset_index(drop=True)\n",
    "    split_counter+=1\n",
    "        \n",
    "#evaluate model\n",
    "for modelname, classratio in models2.values:\n",
    "    # print('======================================================================')\n",
    "    print(modelname)\n",
    "    model = pickle.load(open('./models/'+ target_outcome + '/'+ modelname + '.sav', 'rb'))\n",
    "    summary_result2.append((str(model), classratio, ) + summariseResult (X_test, y_test[target_outcome], model) )       \n",
    "\n",
    "\n",
    "summary_result2 = pd.DataFrame(summary_result2, columns=cols)\n",
    "summary_result2['model_num'] = summary_result2.index\n",
    "# summary_result1['method_name'] = summary_result1.apply(lambda x: 'LR' if x.model_num%2 == 0 else 'XGBoost', axis=1)\n"
   ]
  },
  {
   "cell_type": "code",
   "execution_count": null,
   "id": "d11f1f49-3ade-41c8-82d1-8d346211c299",
   "metadata": {},
   "outputs": [],
   "source": [
    "print(target_outcome)\n",
    "summary_result2['model_name'] = summary_result2.apply(lambda x: modelNameFixer(x.model_name), axis=1)\n",
    "summary_result2.groupby('model_name').mean().sort_values(['auc'], ascending=False)"
   ]
  },
  {
   "cell_type": "code",
   "execution_count": null,
   "id": "8506386d-27a9-49fa-856b-a5683e7144e9",
   "metadata": {},
   "outputs": [],
   "source": [
    "summary_result2.to_csv(\"summaryResult_outcome2.csv\")\n",
    "summary_result2 = pd.read_csv(\"summaryResult_outcome2.csv\")\n",
    "\n",
    "bar = sns.catplot(x = \"model_name\",       # x variable name\n",
    "            y = \"auc\",       # y variable name            \n",
    "            data = summary_result2,     # dataframe to plot\n",
    "            kind = \"bar\",\n",
    "            height=5,\n",
    "            aspect=5/2.5,\n",
    "            ci = None)\n",
    "ax = bar.facet_axis(0,0)\n",
    "for p in ax.patches:\n",
    "    ax.text(p.get_x() + 0.01, \n",
    "            p.get_height() * 1.01, \n",
    "            '{0:.4f}'.format(p.get_height()), \n",
    "            color='black', rotation='horizontal', fontsize=11)\n",
    "    \n",
    "# listOf_Yticks = np.arange(0.5, 0.7, 0.05)\n",
    "ax.set_ylim(0.4, 1)\n",
    "ax.set_ylabel('AUC Score', fontsize=11)\n",
    "ax.set_xlabel('Method', fontsize=11)"
   ]
  },
  {
   "cell_type": "code",
   "execution_count": null,
   "id": "10426f78-d63b-4430-aa28-9781fe41a744",
   "metadata": {},
   "outputs": [],
   "source": [
    "best_model2 = pickle.load(open('./models/outcome_combined_6months/0DTModel.sav', 'rb'))\n",
    "\n",
    "# pd.DataFrame([best_model3.feature_importances_], columns=X.columns).T.sort_values(0, ascending=False)\n",
    "sorted_idx = best_model2.feature_importances_.argsort()\n",
    "plt.figure(figsize=(5,7))\n",
    "plt.barh(X.columns[sorted_idx][-10:], best_model2.feature_importances_[sorted_idx][-10:])\n",
    "plt.xlabel(\"Decision Tree Feature Importance\")\n",
    "plt.show()"
   ]
  },
  {
   "cell_type": "code",
   "execution_count": null,
   "id": "a3090a2a-1dcd-4723-8538-acc2ecafd220",
   "metadata": {},
   "outputs": [],
   "source": [
    "best_model2 = pickle.load(open('./models/outcome_combined_6months/0RFModel.sav', 'rb'))\n",
    "\n",
    "# pd.DataFrame([best_model3.feature_importances_], columns=X.columns).T.sort_values(0, ascending=False)\n",
    "sorted_idx = best_model2.feature_importances_.argsort()\n",
    "plt.figure(figsize=(5,7))\n",
    "plt.barh(X.columns[sorted_idx][-10:], best_model2.feature_importances_[sorted_idx][-10:])\n",
    "plt.xlabel(\"Random Forest Feature Importance\")\n",
    "plt.show()"
   ]
  },
  {
   "cell_type": "code",
   "execution_count": null,
   "id": "e4ca7472-0652-49bd-aef2-81ca61469336",
   "metadata": {},
   "outputs": [],
   "source": [
    "best_model2 = pickle.load(open('./models/outcome_combined_6months/0XGBoostModel.sav', 'rb'))\n",
    "\n",
    "# pd.DataFrame([best_model3.feature_importances_], columns=X.columns).T.sort_values(0, ascending=False)\n",
    "sorted_idx = best_model2.feature_importances_.argsort()\n",
    "plt.figure(figsize=(5,7))\n",
    "plt.barh(X.columns[sorted_idx][-10:], best_model2.feature_importances_[sorted_idx][-10:])\n",
    "plt.xlabel(\"XGBoost Feature Importance\")\n",
    "plt.show()"
   ]
  },
  {
   "cell_type": "markdown",
   "id": "0c9953e6-6fc4-481c-a5dc-5be9e2d97063",
   "metadata": {},
   "source": [
    "# 12 months"
   ]
  },
  {
   "cell_type": "code",
   "execution_count": null,
   "id": "bfe3cacf-85d8-4889-b3f7-b0653c74d935",
   "metadata": {},
   "outputs": [],
   "source": [
    "target_outcome = 'outcome_combined_12months'\n",
    "y = trainingData[[target_outcome]]\n",
    "\n",
    "#model parameters\n",
    "params = {'xgb_lr': 0.6,\n",
    "         'xgb_maxdepth': 10}"
   ]
  },
  {
   "cell_type": "code",
   "execution_count": null,
   "id": "8b801fbf-b23b-4c62-8e31-083cd3b5635f",
   "metadata": {
    "scrolled": true,
    "tags": []
   },
   "outputs": [],
   "source": [
    "%%time\n",
    "\n",
    "#EXECUTE model training\n",
    "\n",
    "kf = StratifiedKFold(n_splits=n_splits, random_state=1234, shuffle=True)\n",
    "kf.get_n_splits(X)\n",
    "models3 = pd.DataFrame(columns=['modelname', 'class_ratio'])\n",
    "summary_result3 = []\n",
    "cols = ['model_name', 'class_ratio', 'acc','spec','sens','auc', 'auprc', 'balance_accuracy', 'f1_score', 'ppv', 'npv']\n",
    "split_counter = 0\n",
    "\n",
    "#train model\n",
    "for train_index, test_index in kf.split(X, y):\n",
    "    #split data\n",
    "    X_train, X_test = X.iloc[train_index], X.iloc[test_index]\n",
    "    y_train, y_test = y.iloc[train_index], y.iloc[test_index]\n",
    "    \n",
    "    #Build models -> it can be commented if the models have been trained\n",
    "    models_temp = pd.DataFrame(build_models(X_train, y_train[target_outcome], params, split_counter), columns=['modelname', 'class_ratio'])\n",
    "    models3 = pd.concat([models3,models_temp]).reset_index(drop=True)\n",
    "    split_counter+=1\n",
    "        \n",
    "#evaluate model\n",
    "for modelname, classratio in models3.values:\n",
    "    # print('======================================================================')\n",
    "    print(modelname)\n",
    "    model = pickle.load(open('./models/'+ target_outcome + '/'+ modelname + '.sav', 'rb'))\n",
    "    summary_result3.append((str(model), classratio, ) + summariseResult (X_test, y_test[target_outcome], model) )       \n",
    "\n",
    "\n",
    "summary_result3 = pd.DataFrame(summary_result3, columns=cols)\n",
    "summary_result3['model_num'] = summary_result3.index\n",
    "# summary_result1['method_name'] = summary_result1.apply(lambda x: 'LR' if x.model_num%2 == 0 else 'XGBoost', axis=1)\n"
   ]
  },
  {
   "cell_type": "code",
   "execution_count": null,
   "id": "e27d5bb5-e42f-4ad0-9c59-af9b9f5645cb",
   "metadata": {},
   "outputs": [],
   "source": [
    "print(target_outcome)\n",
    "summary_result3['model_name'] = summary_result3.apply(lambda x: modelNameFixer(x.model_name), axis=1)\n",
    "summary_result3.groupby('model_name').mean().sort_values(['auc'], ascending=False)"
   ]
  },
  {
   "cell_type": "code",
   "execution_count": null,
   "id": "6365bfd3-728e-4071-9abd-d8b87135d795",
   "metadata": {},
   "outputs": [],
   "source": [
    "summary_result3.to_csv(\"summaryResult_outcome3.csv\")\n",
    "summary_result3 = pd.read_csv(\"summaryResult_outcome3.csv\")\n",
    "\n",
    "bar = sns.catplot(x = \"model_name\",       # x variable name\n",
    "            y = \"auc\",       # y variable name            \n",
    "            data = summary_result3,     # dataframe to plot\n",
    "            kind = \"bar\",\n",
    "            height=5,\n",
    "            aspect=5/2.5,\n",
    "            ci = None)\n",
    "ax = bar.facet_axis(0,0)\n",
    "for p in ax.patches:\n",
    "    ax.text(p.get_x() + 0.01, \n",
    "            p.get_height() * 1.01, \n",
    "            '{0:.4f}'.format(p.get_height()), \n",
    "            color='black', rotation='horizontal', fontsize=11)\n",
    "    \n",
    "# listOf_Yticks = np.arange(0.5, 0.7, 0.05)\n",
    "ax.set_ylim(0.4, 1)\n",
    "ax.set_ylabel('AUC Score', fontsize=11)\n",
    "ax.set_xlabel('Method', fontsize=11)"
   ]
  },
  {
   "cell_type": "code",
   "execution_count": null,
   "id": "722308db-b7ef-479b-b5fd-4f57a8ff1fa4",
   "metadata": {},
   "outputs": [],
   "source": [
    "best_model3 = pickle.load(open('./models/outcome_combined_12months/0DTModel.sav', 'rb'))\n",
    "\n",
    "# pd.DataFrame([best_model3.feature_importances_], columns=X.columns).T.sort_values(0, ascending=False)\n",
    "sorted_idx = best_model3.feature_importances_.argsort()\n",
    "plt.figure(figsize=(5,7))\n",
    "plt.barh(X.columns[sorted_idx][-10:], best_model3.feature_importances_[sorted_idx][-10:])\n",
    "plt.xlabel(\"Decision Tree Feature Importance\")\n",
    "plt.show()"
   ]
  },
  {
   "cell_type": "code",
   "execution_count": null,
   "id": "0d90e68e-3bb4-4768-9026-eaa1af12ef41",
   "metadata": {
    "tags": []
   },
   "outputs": [],
   "source": [
    "best_model3 = pickle.load(open('./models/outcome_combined_12months/0RFModel.sav', 'rb'))\n",
    "\n",
    "# pd.DataFrame([best_model3.feature_importances_], columns=X.columns).T.sort_values(0, ascending=False)\n",
    "sorted_idx = best_model3.feature_importances_.argsort()\n",
    "plt.figure(figsize=(5,7))\n",
    "plt.barh(X.columns[sorted_idx][-10:], best_model3.feature_importances_[sorted_idx][-10:])\n",
    "plt.xlabel(\"Random Forest Feature Importance\")\n",
    "plt.show()"
   ]
  },
  {
   "cell_type": "code",
   "execution_count": null,
   "id": "63e290ea-fbf1-42bd-b7db-4712fdf65e11",
   "metadata": {
    "tags": []
   },
   "outputs": [],
   "source": [
    "best_model3 = pickle.load(open('./models/outcome_combined_12months/0XGBoostModel.sav', 'rb'))\n",
    "\n",
    "# pd.DataFrame([best_model3.feature_importances_], columns=X.columns).T.sort_values(0, ascending=False)\n",
    "sorted_idx = best_model3.feature_importances_.argsort()\n",
    "plt.figure(figsize=(5,7))\n",
    "plt.barh(X.columns[sorted_idx][-10:], best_model3.feature_importances_[sorted_idx][-10:])\n",
    "plt.xlabel(\"XGBoost Feature Importance\")\n",
    "plt.show()"
   ]
  }
 ],
 "metadata": {
  "kernelspec": {
   "display_name": "Python 3 (ipykernel)",
   "language": "python",
   "name": "python3"
  },
  "language_info": {
   "codemirror_mode": {
    "name": "ipython",
    "version": 3
   },
   "file_extension": ".py",
   "mimetype": "text/x-python",
   "name": "python",
   "nbconvert_exporter": "python",
   "pygments_lexer": "ipython3",
   "version": "3.10.11"
  }
 },
 "nbformat": 4,
 "nbformat_minor": 5
}
