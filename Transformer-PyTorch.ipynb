{
 "cells": [
  {
   "cell_type": "code",
   "execution_count": 2,
   "id": "60d4a1c1-37b8-4f4b-b7eb-92da87c1dbe5",
   "metadata": {
    "tags": []
   },
   "outputs": [],
   "source": [
    "import torch\n",
    "import torch.nn as nn\n",
    "import torch.optim as optim\n",
    "import torch.utils.data as data\n",
    "import math\n",
    "import copy"
   ]
  },
  {
   "cell_type": "code",
   "execution_count": 3,
   "id": "d6e8ef0a-997b-466b-b899-e24bbcad9d04",
   "metadata": {
    "tags": []
   },
   "outputs": [],
   "source": [
    "class MultiHeadAttention(nn.Module):\n",
    "    def __init__(self, d_model, num_heads):\n",
    "        super(MultiHeadAttention, self).__init__()\n",
    "        assert d_model % num_heads == 0, \"d_model must be divisible by num_heads\"\n",
    "        \n",
    "        self.d_model = d_model\n",
    "        self.num_heads = num_heads\n",
    "        self.d_k = d_model // num_heads\n",
    "        \n",
    "        self.W_q = nn.Linear(d_model, d_model)\n",
    "        self.W_k = nn.Linear(d_model, d_model)\n",
    "        self.W_v = nn.Linear(d_model, d_model)\n",
    "        self.W_o = nn.Linear(d_model, d_model)\n",
    "        \n",
    "    def scaled_dot_product_attention(self, Q, K, V, mask=None):\n",
    "        attn_scores = torch.matmul(Q, K.transpose(-2, -1)) / math.sqrt(self.d_k)\n",
    "        if mask is not None:\n",
    "            attn_scores = attn_scores.masked_fill(mask == 0, -1e9)\n",
    "        attn_probs = torch.softmax(attn_scores, dim=-1)\n",
    "        output = torch.matmul(attn_probs, V)\n",
    "        return output\n",
    "        \n",
    "    def split_heads(self, x):\n",
    "        batch_size, seq_length, d_model = x.size()\n",
    "        return x.view(batch_size, seq_length, self.num_heads, self.d_k).transpose(1, 2)\n",
    "        \n",
    "    def combine_heads(self, x):\n",
    "        batch_size, _, seq_length, d_k = x.size()\n",
    "        return x.transpose(1, 2).contiguous().view(batch_size, seq_length, self.d_model)\n",
    "        \n",
    "    def forward(self, Q, K, V, mask=None):\n",
    "        Q = self.split_heads(self.W_q(Q))\n",
    "        K = self.split_heads(self.W_k(K))\n",
    "        V = self.split_heads(self.W_v(V))\n",
    "        \n",
    "        attn_output = self.scaled_dot_product_attention(Q, K, V, mask)\n",
    "        output = self.W_o(self.combine_heads(attn_output))\n",
    "        return output"
   ]
  },
  {
   "cell_type": "code",
   "execution_count": 4,
   "id": "ca77cfe7-da7e-4edb-bd74-5bf36a030166",
   "metadata": {
    "tags": []
   },
   "outputs": [],
   "source": [
    "class PositionWiseFeedForward(nn.Module):\n",
    "    def __init__(self, d_model, d_ff):\n",
    "        super(PositionWiseFeedForward, self).__init__()\n",
    "        self.fc1 = nn.Linear(d_model, d_ff)\n",
    "        self.fc2 = nn.Linear(d_ff, d_model)\n",
    "        self.relu = nn.ReLU()\n",
    "\n",
    "    def forward(self, x):\n",
    "        return self.fc2(self.relu(self.fc1(x)))"
   ]
  },
  {
   "cell_type": "code",
   "execution_count": 5,
   "id": "97d27ab2-3380-4db5-a69b-b6a64172992c",
   "metadata": {
    "tags": []
   },
   "outputs": [],
   "source": [
    "class PositionalEncoding(nn.Module):\n",
    "    def __init__(self, d_model, max_seq_length):\n",
    "        super(PositionalEncoding, self).__init__()\n",
    "        \n",
    "        pe = torch.zeros(max_seq_length, d_model)\n",
    "        position = torch.arange(0, max_seq_length, dtype=torch.float).unsqueeze(1)\n",
    "        div_term = torch.exp(torch.arange(0, d_model, 2).float() * -(math.log(10000.0) / d_model))\n",
    "        \n",
    "        pe[:, 0::2] = torch.sin(position * div_term)\n",
    "        pe[:, 1::2] = torch.cos(position * div_term)\n",
    "        \n",
    "        self.register_buffer('pe', pe.unsqueeze(0))\n",
    "        \n",
    "    def forward(self, x):\n",
    "        return x + self.pe[:, :x.size(1)]"
   ]
  },
  {
   "cell_type": "code",
   "execution_count": 7,
   "id": "bfef56d8-d3ef-47f1-a18a-0e2fb09c9cc8",
   "metadata": {
    "tags": []
   },
   "outputs": [],
   "source": [
    "class EncoderLayer(nn.Module):\n",
    "    def __init__(self, d_model, num_heads, d_ff, dropout):\n",
    "        super(EncoderLayer, self).__init__()\n",
    "        self.self_attn = MultiHeadAttention(d_model, num_heads)\n",
    "        self.feed_forward = PositionWiseFeedForward(d_model, d_ff)\n",
    "        self.norm1 = nn.LayerNorm(d_model)\n",
    "        self.norm2 = nn.LayerNorm(d_model)\n",
    "        self.dropout = nn.Dropout(dropout)\n",
    "        \n",
    "    def forward(self, x, mask):\n",
    "        attn_output = self.self_attn(x, x, x, mask)\n",
    "        x = self.norm1(x + self.dropout(attn_output))\n",
    "        ff_output = self.feed_forward(x)\n",
    "        x = self.norm2(x + self.dropout(ff_output))\n",
    "        return x"
   ]
  },
  {
   "cell_type": "code",
   "execution_count": 8,
   "id": "29d336c3-52d7-4593-b74e-b42f1d6a6d79",
   "metadata": {
    "tags": []
   },
   "outputs": [],
   "source": [
    "class DecoderLayer(nn.Module):\n",
    "    def __init__(self, d_model, num_heads, d_ff, dropout):\n",
    "        super(DecoderLayer, self).__init__()\n",
    "        self.self_attn = MultiHeadAttention(d_model, num_heads)\n",
    "        self.cross_attn = MultiHeadAttention(d_model, num_heads)\n",
    "        self.feed_forward = PositionWiseFeedForward(d_model, d_ff)\n",
    "        self.norm1 = nn.LayerNorm(d_model)\n",
    "        self.norm2 = nn.LayerNorm(d_model)\n",
    "        self.norm3 = nn.LayerNorm(d_model)\n",
    "        self.dropout = nn.Dropout(dropout)\n",
    "        \n",
    "    def forward(self, x, enc_output, src_mask, tgt_mask):\n",
    "        attn_output = self.self_attn(x, x, x, tgt_mask)\n",
    "        x = self.norm1(x + self.dropout(attn_output))\n",
    "        attn_output = self.cross_attn(x, enc_output, enc_output, src_mask)\n",
    "        x = self.norm2(x + self.dropout(attn_output))\n",
    "        ff_output = self.feed_forward(x)\n",
    "        x = self.norm3(x + self.dropout(ff_output))\n",
    "        return x"
   ]
  },
  {
   "cell_type": "code",
   "execution_count": 9,
   "id": "14d3d436-8082-47a9-a3a3-0a62a07ee6de",
   "metadata": {
    "tags": []
   },
   "outputs": [],
   "source": [
    "class Transformer(nn.Module):\n",
    "    def __init__(self, src_vocab_size, tgt_vocab_size, d_model, num_heads, num_layers, d_ff, max_seq_length, dropout):\n",
    "        super(Transformer, self).__init__()\n",
    "        self.encoder_embedding = nn.Embedding(src_vocab_size, d_model)\n",
    "        self.decoder_embedding = nn.Embedding(tgt_vocab_size, d_model)\n",
    "        self.positional_encoding = PositionalEncoding(d_model, max_seq_length)\n",
    "\n",
    "        self.encoder_layers = nn.ModuleList([EncoderLayer(d_model, num_heads, d_ff, dropout) for _ in range(num_layers)])\n",
    "        self.decoder_layers = nn.ModuleList([DecoderLayer(d_model, num_heads, d_ff, dropout) for _ in range(num_layers)])\n",
    "\n",
    "        self.fc = nn.Linear(d_model, tgt_vocab_size)\n",
    "        self.dropout = nn.Dropout(dropout)\n",
    "\n",
    "    def generate_mask(self, src, tgt):\n",
    "        src_mask = (src != 0).unsqueeze(1).unsqueeze(2)\n",
    "        tgt_mask = (tgt != 0).unsqueeze(1).unsqueeze(3)\n",
    "        seq_length = tgt.size(1)\n",
    "        nopeak_mask = (1 - torch.triu(torch.ones(1, seq_length, seq_length), diagonal=1)).bool()\n",
    "        tgt_mask = tgt_mask & nopeak_mask\n",
    "        return src_mask, tgt_mask\n",
    "\n",
    "    def forward(self, src, tgt):\n",
    "        src_mask, tgt_mask = self.generate_mask(src, tgt)\n",
    "        src_embedded = self.dropout(self.positional_encoding(self.encoder_embedding(src)))\n",
    "        tgt_embedded = self.dropout(self.positional_encoding(self.decoder_embedding(tgt)))\n",
    "\n",
    "        enc_output = src_embedded\n",
    "        for enc_layer in self.encoder_layers:\n",
    "            enc_output = enc_layer(enc_output, src_mask)\n",
    "\n",
    "        dec_output = tgt_embedded\n",
    "        for dec_layer in self.decoder_layers:\n",
    "            dec_output = dec_layer(dec_output, enc_output, src_mask, tgt_mask)\n",
    "\n",
    "        output = self.fc(dec_output)\n",
    "        return output"
   ]
  },
  {
   "cell_type": "code",
   "execution_count": 10,
   "id": "011c73c4-c392-4a0f-a6d7-771083a086f6",
   "metadata": {
    "tags": []
   },
   "outputs": [],
   "source": [
    "src_vocab_size = 5000\n",
    "tgt_vocab_size = 5000\n",
    "d_model = 512\n",
    "num_heads = 8\n",
    "num_layers = 6\n",
    "d_ff = 2048\n",
    "max_seq_length = 100\n",
    "dropout = 0.1\n",
    "\n",
    "transformer = Transformer(src_vocab_size, tgt_vocab_size, d_model, num_heads, num_layers, d_ff, max_seq_length, dropout)\n",
    "\n",
    "# Generate random sample data\n",
    "src_data = torch.randint(1, src_vocab_size, (64, max_seq_length))  # (batch_size, seq_length)\n",
    "tgt_data = torch.randint(1, tgt_vocab_size, (64, max_seq_length))  # (batch_size, seq_length)"
   ]
  },
  {
   "cell_type": "code",
   "execution_count": 12,
   "id": "495d529c-40d7-4417-b788-02862153860f",
   "metadata": {
    "tags": []
   },
   "outputs": [
    {
     "data": {
      "text/plain": [
       "tensor([ 831, 1089, 1544, 2858, 1944, 3100, 1948, 2870, 4983,  325, 2870, 3484,\n",
       "        4936,  776,  413, 3564, 1520, 2668, 4321,  634, 4942, 4309, 4283, 2581,\n",
       "        1289, 4999, 2518, 3404, 1188, 3217, 1015, 2550, 1674, 4367, 2944, 4626,\n",
       "        1230, 2217, 4564, 4867, 4028, 2351, 2622, 4405,  641, 2619,  268, 1996,\n",
       "        3703, 1517, 4098, 2349, 1367,   70, 1559, 2460, 2731, 3183, 3785,  774,\n",
       "        2744, 1755, 2758, 1482, 3119, 1522, 3408,  622, 3112, 3507, 3140,  333,\n",
       "        2731, 2133,  717, 1693, 2968, 4518, 4998, 3096, 3881, 1046, 3348, 1088,\n",
       "        1930, 2789, 4578, 1672,  328, 2147, 2390, 1691, 4629, 4033, 4193, 2040,\n",
       "        3452, 2402, 3028,  498])"
      ]
     },
     "execution_count": 12,
     "metadata": {},
     "output_type": "execute_result"
    }
   ],
   "source": [
    "src_data[0]"
   ]
  },
  {
   "cell_type": "code",
   "execution_count": 13,
   "id": "52f55e49-476e-4f44-ab0e-154fba4b9c83",
   "metadata": {
    "tags": []
   },
   "outputs": [
    {
     "data": {
      "text/plain": [
       "tensor([2312, 1024, 1319,   97, 1381, 2151, 2639, 4886, 2458, 4039, 4577, 4275,\n",
       "        1947,  187, 3913, 3555,   71, 4783, 1219,  895, 3520,  586, 4693, 1868,\n",
       "        1381, 1262, 1728, 2946, 1513, 4065, 2613, 3969, 4674, 1468, 2524, 2009,\n",
       "        1706, 1708, 1464, 4197,  422, 4722, 2695, 4799, 2380, 3196, 1168, 3928,\n",
       "        3908, 1153, 2662, 4355, 1955, 1335, 1165, 2539, 1474, 4729, 1511, 3915,\n",
       "         158,  590, 2148, 3452,  693,  703, 4104,  736, 3649,  330, 1075,  281,\n",
       "         384, 3299, 2420, 2458, 1591, 1262, 4084, 2937, 1907, 1585, 4443,   44,\n",
       "        1661,  957, 1746,  751, 2732, 1514, 1424, 2700, 3026, 1703, 1206, 3251,\n",
       "        4677, 3646, 4407, 4759])"
      ]
     },
     "execution_count": 13,
     "metadata": {},
     "output_type": "execute_result"
    }
   ],
   "source": [
    "tgt_data[0]"
   ]
  },
  {
   "cell_type": "code",
   "execution_count": 14,
   "id": "a2b24d54-e811-47f7-8b7a-72d749476f6b",
   "metadata": {
    "tags": []
   },
   "outputs": [
    {
     "name": "stdout",
     "output_type": "stream",
     "text": [
      "Epoch: 1, Loss: 8.685395240783691\n",
      "Epoch: 2, Loss: 8.54706859588623\n",
      "Epoch: 3, Loss: 8.47192096710205\n",
      "Epoch: 4, Loss: 8.41326904296875\n",
      "Epoch: 5, Loss: 8.356627464294434\n",
      "Epoch: 6, Loss: 8.285500526428223\n",
      "Epoch: 7, Loss: 8.206507682800293\n",
      "Epoch: 8, Loss: 8.125670433044434\n",
      "Epoch: 9, Loss: 8.04018783569336\n",
      "Epoch: 10, Loss: 7.955439567565918\n",
      "Epoch: 11, Loss: 7.878020763397217\n",
      "Epoch: 12, Loss: 7.7993621826171875\n",
      "Epoch: 13, Loss: 7.710813045501709\n",
      "Epoch: 14, Loss: 7.63084602355957\n",
      "Epoch: 15, Loss: 7.545557975769043\n",
      "Epoch: 16, Loss: 7.4593424797058105\n",
      "Epoch: 17, Loss: 7.379349708557129\n",
      "Epoch: 18, Loss: 7.298091411590576\n",
      "Epoch: 19, Loss: 7.219499111175537\n",
      "Epoch: 20, Loss: 7.137020111083984\n",
      "Epoch: 21, Loss: 7.053585052490234\n",
      "Epoch: 22, Loss: 6.981748580932617\n",
      "Epoch: 23, Loss: 6.8979363441467285\n",
      "Epoch: 24, Loss: 6.828252792358398\n",
      "Epoch: 25, Loss: 6.753929615020752\n",
      "Epoch: 26, Loss: 6.6818928718566895\n",
      "Epoch: 27, Loss: 6.597039222717285\n",
      "Epoch: 28, Loss: 6.535000801086426\n",
      "Epoch: 29, Loss: 6.4587907791137695\n",
      "Epoch: 30, Loss: 6.379269599914551\n",
      "Epoch: 31, Loss: 6.318978309631348\n",
      "Epoch: 32, Loss: 6.248867988586426\n",
      "Epoch: 33, Loss: 6.175351142883301\n",
      "Epoch: 34, Loss: 6.117555141448975\n",
      "Epoch: 35, Loss: 6.05294942855835\n",
      "Epoch: 36, Loss: 5.98178768157959\n",
      "Epoch: 37, Loss: 5.918367862701416\n",
      "Epoch: 38, Loss: 5.850749969482422\n",
      "Epoch: 39, Loss: 5.786612033843994\n",
      "Epoch: 40, Loss: 5.718999862670898\n",
      "Epoch: 41, Loss: 5.661258697509766\n",
      "Epoch: 42, Loss: 5.598567485809326\n",
      "Epoch: 43, Loss: 5.539307117462158\n",
      "Epoch: 44, Loss: 5.483059406280518\n",
      "Epoch: 45, Loss: 5.423426628112793\n",
      "Epoch: 46, Loss: 5.367081642150879\n",
      "Epoch: 47, Loss: 5.305661201477051\n",
      "Epoch: 48, Loss: 5.246268272399902\n",
      "Epoch: 49, Loss: 5.191856384277344\n",
      "Epoch: 50, Loss: 5.128413200378418\n",
      "Epoch: 51, Loss: 5.067017078399658\n",
      "Epoch: 52, Loss: 5.020350933074951\n",
      "Epoch: 53, Loss: 4.964961528778076\n",
      "Epoch: 54, Loss: 4.913768768310547\n",
      "Epoch: 55, Loss: 4.8541765213012695\n",
      "Epoch: 56, Loss: 4.802992820739746\n",
      "Epoch: 57, Loss: 4.744717597961426\n",
      "Epoch: 58, Loss: 4.695992946624756\n",
      "Epoch: 59, Loss: 4.645984172821045\n",
      "Epoch: 60, Loss: 4.583278656005859\n",
      "Epoch: 61, Loss: 4.540713787078857\n",
      "Epoch: 62, Loss: 4.487943649291992\n",
      "Epoch: 63, Loss: 4.42518424987793\n",
      "Epoch: 64, Loss: 4.387943267822266\n",
      "Epoch: 65, Loss: 4.333366394042969\n",
      "Epoch: 66, Loss: 4.284064769744873\n",
      "Epoch: 67, Loss: 4.2345075607299805\n",
      "Epoch: 68, Loss: 4.184939861297607\n",
      "Epoch: 69, Loss: 4.1330342292785645\n",
      "Epoch: 70, Loss: 4.09035587310791\n",
      "Epoch: 71, Loss: 4.036931991577148\n",
      "Epoch: 72, Loss: 3.9889485836029053\n",
      "Epoch: 73, Loss: 3.944532632827759\n",
      "Epoch: 74, Loss: 3.8940789699554443\n",
      "Epoch: 75, Loss: 3.850419282913208\n",
      "Epoch: 76, Loss: 3.8002216815948486\n",
      "Epoch: 77, Loss: 3.7457590103149414\n",
      "Epoch: 78, Loss: 3.7034943103790283\n",
      "Epoch: 79, Loss: 3.6583821773529053\n",
      "Epoch: 80, Loss: 3.6089601516723633\n",
      "Epoch: 81, Loss: 3.564281463623047\n",
      "Epoch: 82, Loss: 3.51936674118042\n",
      "Epoch: 83, Loss: 3.4708213806152344\n",
      "Epoch: 84, Loss: 3.4271395206451416\n",
      "Epoch: 85, Loss: 3.3800511360168457\n",
      "Epoch: 86, Loss: 3.3323888778686523\n",
      "Epoch: 87, Loss: 3.2928109169006348\n",
      "Epoch: 88, Loss: 3.2459380626678467\n",
      "Epoch: 89, Loss: 3.201728582382202\n",
      "Epoch: 90, Loss: 3.1578328609466553\n",
      "Epoch: 91, Loss: 3.108428955078125\n",
      "Epoch: 92, Loss: 3.0718016624450684\n",
      "Epoch: 93, Loss: 3.0207295417785645\n",
      "Epoch: 94, Loss: 2.987332820892334\n",
      "Epoch: 95, Loss: 2.9349522590637207\n",
      "Epoch: 96, Loss: 2.897440195083618\n",
      "Epoch: 97, Loss: 2.8526699542999268\n",
      "Epoch: 98, Loss: 2.8139586448669434\n",
      "Epoch: 99, Loss: 2.7739901542663574\n",
      "Epoch: 100, Loss: 2.7294325828552246\n"
     ]
    }
   ],
   "source": [
    "criterion = nn.CrossEntropyLoss(ignore_index=0)\n",
    "optimizer = optim.Adam(transformer.parameters(), lr=0.0001, betas=(0.9, 0.98), eps=1e-9)\n",
    "\n",
    "transformer.train()\n",
    "\n",
    "for epoch in range(100):\n",
    "    optimizer.zero_grad()\n",
    "    output = transformer(src_data, tgt_data[:, :-1])\n",
    "    loss = criterion(output.contiguous().view(-1, tgt_vocab_size), tgt_data[:, 1:].contiguous().view(-1))\n",
    "    loss.backward()\n",
    "    optimizer.step()\n",
    "    print(f\"Epoch: {epoch+1}, Loss: {loss.item()}\")"
   ]
  },
  {
   "cell_type": "code",
   "execution_count": null,
   "id": "44fc3bdd-3ee2-45c8-907e-a4240fb6ea43",
   "metadata": {},
   "outputs": [],
   "source": []
  }
 ],
 "metadata": {
  "kernelspec": {
   "display_name": "Python 3 (ipykernel)",
   "language": "python",
   "name": "python3"
  },
  "language_info": {
   "codemirror_mode": {
    "name": "ipython",
    "version": 3
   },
   "file_extension": ".py",
   "mimetype": "text/x-python",
   "name": "python",
   "nbconvert_exporter": "python",
   "pygments_lexer": "ipython3",
   "version": "3.10.11"
  }
 },
 "nbformat": 4,
 "nbformat_minor": 5
}
