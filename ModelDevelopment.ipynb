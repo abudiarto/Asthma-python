{
 "cells": [
  {
   "cell_type": "markdown",
   "id": "3cf617ae-7cd6-4168-9b2a-c61a35fcaf7c",
   "metadata": {},
   "source": [
    "# ANALYSIS"
   ]
  },
  {
   "cell_type": "code",
   "execution_count": 1,
   "id": "a6f7287c-5c7e-4d25-9085-f3971b3d5784",
   "metadata": {},
   "outputs": [],
   "source": [
    "#uncomment this below code to install imblearn package\n",
    "# !pip install imbalanced-learn"
   ]
  },
  {
   "cell_type": "code",
   "execution_count": 1,
   "id": "c95c2128",
   "metadata": {
    "tags": []
   },
   "outputs": [],
   "source": [
    "import pandas as pd\n",
    "import numpy as np\n",
    "import sklearn\n",
    "\n",
    "#statistics\n",
    "from scipy.stats import chi2_contingency, ttest_ind\n",
    "\n",
    "import cudf #gpu-powered DataFrame (Pandas alternative)\n",
    "\n",
    "#imbalance handling\n",
    "from imblearn.over_sampling import SMOTE\n",
    "from imblearn.under_sampling import RandomUnderSampler, RepeatedEditedNearestNeighbours\n",
    "from imblearn.pipeline import Pipeline\n",
    "\n",
    "#preprocessing\n",
    "from sklearn import preprocessing\n",
    "from sklearn.preprocessing import OrdinalEncoder, OneHotEncoder, LabelEncoder, MinMaxScaler\n",
    "\n",
    "#internal validation\n",
    "from sklearn.model_selection import StratifiedKFold, KFold, RepeatedStratifiedKFold, cross_val_score, GridSearchCV, PredefinedSplit\n",
    "\n",
    "#performance metrices\n",
    "from sklearn.metrics import confusion_matrix, classification_report, f1_score, balanced_accuracy_score, matthews_corrcoef, auc, average_precision_score, roc_auc_score, balanced_accuracy_score, roc_curve, accuracy_score\n",
    "\n",
    "#Models selection\n",
    "from sklearn.naive_bayes import GaussianNB, ComplementNB\n",
    "from sklearn.linear_model import LogisticRegression\n",
    "from sklearn.tree import DecisionTreeClassifier\n",
    "from sklearn.ensemble import RandomForestClassifier\n",
    "import xgboost as xgb\n",
    "from cuml.svm import SVC #gpu-powered SVM\n",
    "\n",
    "\n",
    "\n",
    "#save and load trained model\n",
    "import pickle\n",
    "\n",
    "#visualisation\n",
    "import matplotlib.pyplot as plt\n",
    "import seaborn as sns\n",
    "\n",
    "from collections import Counter\n"
   ]
  },
  {
   "cell_type": "code",
   "execution_count": 14,
   "id": "11624789",
   "metadata": {
    "tags": []
   },
   "outputs": [
    {
     "name": "stderr",
     "output_type": "stream",
     "text": [
      "/tmp/ipykernel_109/2953091925.py:2: DtypeWarning: Columns (23,24,26,27,30,31) have mixed types. Specify dtype option on import or set low_memory=False.\n",
      "  features = pd.read_csv(\"../FinalData/data_features_10072023.csv\")\n"
     ]
    }
   ],
   "source": [
    "# Data loader\n",
    "features = pd.read_csv(\"../FinalData/data_features_10072023.csv\")\n",
    "outcomes = pd.read_csv(\"../FinalData/data_outcomes_10072023.csv\")\n",
    "# outcomes = outcomes[outcomes.columns[1:]]"
   ]
  },
  {
   "cell_type": "code",
   "execution_count": 18,
   "id": "eb99babd-f83f-4f3f-b9e3-1934a6f6ba12",
   "metadata": {
    "tags": []
   },
   "outputs": [
    {
     "data": {
      "text/plain": [
       "Index(['Unnamed: 0', 'patid', 'practice_id', 'sex', 'age', 'BMI', 'ethnicity',\n",
       "       'smokingStatus', 'CharlsonScore', 'count_rhinitis',\n",
       "       'count_cardiovascular', 'count_heartfailure', 'count_psoriasis',\n",
       "       'count_anaphylaxis', 'count_diabetes', 'count_ihd', 'count_anxiety',\n",
       "       'count_eczema', 'count_nasalpolyps', 'count_paracetamol',\n",
       "       'count_nsaids', 'count_betablocker', 'id', 'event_date',\n",
       "       'recorded_date', 'visit_id', 'code_id', 'snomed_id', 'numeric_1',\n",
       "       'numeric_2', 'created_datetime', 'updated_datetime', 'PEFStatus',\n",
       "       'EosinophilLevel', 'BTS_step', 'average_daily_dose_ICS',\n",
       "       'prescribed_daily_dose_ICS', 'ICS_medication_possesion_ratio',\n",
       "       'DeviceType', 'Spacer', 'numOCS', 'PriorEducation', 'numPCS',\n",
       "       'numPCSAsthma', 'numAntibioticsEvents', 'numAntibioticswithLRTI',\n",
       "       'numOCSEvents', 'numOCSwithLRTI', 'numAsthmaAttacks',\n",
       "       'numAcuteRespEvents', 'numHospEvents'],\n",
       "      dtype='object')"
      ]
     },
     "execution_count": 18,
     "metadata": {},
     "output_type": "execute_result"
    }
   ],
   "source": [
    "features.columns"
   ]
  },
  {
   "cell_type": "code",
   "execution_count": 21,
   "id": "45a70db7-2745-4a1a-82b6-972154341607",
   "metadata": {
    "tags": []
   },
   "outputs": [
    {
     "data": {
      "text/html": [
       "<div>\n",
       "<style scoped>\n",
       "    .dataframe tbody tr th:only-of-type {\n",
       "        vertical-align: middle;\n",
       "    }\n",
       "\n",
       "    .dataframe tbody tr th {\n",
       "        vertical-align: top;\n",
       "    }\n",
       "\n",
       "    .dataframe thead th {\n",
       "        text-align: right;\n",
       "    }\n",
       "</style>\n",
       "<table border=\"1\" class=\"dataframe\">\n",
       "  <thead>\n",
       "    <tr style=\"text-align: right;\">\n",
       "      <th></th>\n",
       "      <th>Unnamed: 0</th>\n",
       "      <th>patid</th>\n",
       "      <th>practice_id</th>\n",
       "      <th>sex</th>\n",
       "      <th>age</th>\n",
       "      <th>BMI</th>\n",
       "      <th>ethnicity</th>\n",
       "      <th>smokingStatus</th>\n",
       "      <th>CharlsonScore</th>\n",
       "      <th>count_rhinitis</th>\n",
       "      <th>...</th>\n",
       "      <th>PriorEducation</th>\n",
       "      <th>numPCS</th>\n",
       "      <th>numPCSAsthma</th>\n",
       "      <th>numAntibioticsEvents</th>\n",
       "      <th>numAntibioticswithLRTI</th>\n",
       "      <th>numOCSEvents</th>\n",
       "      <th>numOCSwithLRTI</th>\n",
       "      <th>numAsthmaAttacks</th>\n",
       "      <th>numAcuteRespEvents</th>\n",
       "      <th>numHospEvents</th>\n",
       "    </tr>\n",
       "  </thead>\n",
       "  <tbody>\n",
       "    <tr>\n",
       "      <th>0</th>\n",
       "      <td>1</td>\n",
       "      <td>43231452</td>\n",
       "      <td>39</td>\n",
       "      <td>0.0</td>\n",
       "      <td>48</td>\n",
       "      <td>26.609713</td>\n",
       "      <td>NaN</td>\n",
       "      <td>current</td>\n",
       "      <td>1.0</td>\n",
       "      <td>NaN</td>\n",
       "      <td>...</td>\n",
       "      <td>0.0</td>\n",
       "      <td>3.0</td>\n",
       "      <td>1.0</td>\n",
       "      <td>NaN</td>\n",
       "      <td>NaN</td>\n",
       "      <td>NaN</td>\n",
       "      <td>NaN</td>\n",
       "      <td>NaN</td>\n",
       "      <td>NaN</td>\n",
       "      <td>NaN</td>\n",
       "    </tr>\n",
       "    <tr>\n",
       "      <th>1</th>\n",
       "      <td>2</td>\n",
       "      <td>43206365</td>\n",
       "      <td>39</td>\n",
       "      <td>1.0</td>\n",
       "      <td>58</td>\n",
       "      <td>23.946360</td>\n",
       "      <td>NaN</td>\n",
       "      <td>former</td>\n",
       "      <td>1.0</td>\n",
       "      <td>0.0</td>\n",
       "      <td>...</td>\n",
       "      <td>1.0</td>\n",
       "      <td>1.0</td>\n",
       "      <td>1.0</td>\n",
       "      <td>NaN</td>\n",
       "      <td>NaN</td>\n",
       "      <td>NaN</td>\n",
       "      <td>NaN</td>\n",
       "      <td>NaN</td>\n",
       "      <td>NaN</td>\n",
       "      <td>NaN</td>\n",
       "    </tr>\n",
       "    <tr>\n",
       "      <th>2</th>\n",
       "      <td>3</td>\n",
       "      <td>43203606</td>\n",
       "      <td>559</td>\n",
       "      <td>0.0</td>\n",
       "      <td>51</td>\n",
       "      <td>17.104513</td>\n",
       "      <td>NaN</td>\n",
       "      <td>current</td>\n",
       "      <td>1.0</td>\n",
       "      <td>3.0</td>\n",
       "      <td>...</td>\n",
       "      <td>0.0</td>\n",
       "      <td>1.0</td>\n",
       "      <td>1.0</td>\n",
       "      <td>1.0</td>\n",
       "      <td>1.0</td>\n",
       "      <td>1.0</td>\n",
       "      <td>1.0</td>\n",
       "      <td>1.0</td>\n",
       "      <td>1.0</td>\n",
       "      <td>NaN</td>\n",
       "    </tr>\n",
       "    <tr>\n",
       "      <th>3</th>\n",
       "      <td>4</td>\n",
       "      <td>43117348</td>\n",
       "      <td>502</td>\n",
       "      <td>0.0</td>\n",
       "      <td>69</td>\n",
       "      <td>35.303241</td>\n",
       "      <td>NaN</td>\n",
       "      <td>former</td>\n",
       "      <td>1.0</td>\n",
       "      <td>1.0</td>\n",
       "      <td>...</td>\n",
       "      <td>0.0</td>\n",
       "      <td>3.0</td>\n",
       "      <td>1.0</td>\n",
       "      <td>1.0</td>\n",
       "      <td>NaN</td>\n",
       "      <td>NaN</td>\n",
       "      <td>NaN</td>\n",
       "      <td>NaN</td>\n",
       "      <td>NaN</td>\n",
       "      <td>NaN</td>\n",
       "    </tr>\n",
       "    <tr>\n",
       "      <th>4</th>\n",
       "      <td>5</td>\n",
       "      <td>43105858</td>\n",
       "      <td>536</td>\n",
       "      <td>0.0</td>\n",
       "      <td>16</td>\n",
       "      <td>28.731747</td>\n",
       "      <td>NaN</td>\n",
       "      <td>NaN</td>\n",
       "      <td>1.0</td>\n",
       "      <td>3.0</td>\n",
       "      <td>...</td>\n",
       "      <td>0.0</td>\n",
       "      <td>14.0</td>\n",
       "      <td>2.0</td>\n",
       "      <td>NaN</td>\n",
       "      <td>NaN</td>\n",
       "      <td>NaN</td>\n",
       "      <td>NaN</td>\n",
       "      <td>NaN</td>\n",
       "      <td>NaN</td>\n",
       "      <td>NaN</td>\n",
       "    </tr>\n",
       "    <tr>\n",
       "      <th>...</th>\n",
       "      <td>...</td>\n",
       "      <td>...</td>\n",
       "      <td>...</td>\n",
       "      <td>...</td>\n",
       "      <td>...</td>\n",
       "      <td>...</td>\n",
       "      <td>...</td>\n",
       "      <td>...</td>\n",
       "      <td>...</td>\n",
       "      <td>...</td>\n",
       "      <td>...</td>\n",
       "      <td>...</td>\n",
       "      <td>...</td>\n",
       "      <td>...</td>\n",
       "      <td>...</td>\n",
       "      <td>...</td>\n",
       "      <td>...</td>\n",
       "      <td>...</td>\n",
       "      <td>...</td>\n",
       "      <td>...</td>\n",
       "      <td>...</td>\n",
       "    </tr>\n",
       "    <tr>\n",
       "      <th>732467</th>\n",
       "      <td>732468</td>\n",
       "      <td>65016288</td>\n",
       "      <td>867</td>\n",
       "      <td>0.0</td>\n",
       "      <td>13</td>\n",
       "      <td>144179.423282</td>\n",
       "      <td>NaN</td>\n",
       "      <td>NaN</td>\n",
       "      <td>0.0</td>\n",
       "      <td>NaN</td>\n",
       "      <td>...</td>\n",
       "      <td>0.0</td>\n",
       "      <td>3.0</td>\n",
       "      <td>NaN</td>\n",
       "      <td>1.0</td>\n",
       "      <td>NaN</td>\n",
       "      <td>NaN</td>\n",
       "      <td>NaN</td>\n",
       "      <td>NaN</td>\n",
       "      <td>NaN</td>\n",
       "      <td>NaN</td>\n",
       "    </tr>\n",
       "    <tr>\n",
       "      <th>732468</th>\n",
       "      <td>732469</td>\n",
       "      <td>65728252</td>\n",
       "      <td>867</td>\n",
       "      <td>1.0</td>\n",
       "      <td>20</td>\n",
       "      <td>209370.755998</td>\n",
       "      <td>NaN</td>\n",
       "      <td>current</td>\n",
       "      <td>1.0</td>\n",
       "      <td>0.0</td>\n",
       "      <td>...</td>\n",
       "      <td>0.0</td>\n",
       "      <td>7.0</td>\n",
       "      <td>1.0</td>\n",
       "      <td>1.0</td>\n",
       "      <td>1.0</td>\n",
       "      <td>NaN</td>\n",
       "      <td>NaN</td>\n",
       "      <td>NaN</td>\n",
       "      <td>NaN</td>\n",
       "      <td>NaN</td>\n",
       "    </tr>\n",
       "    <tr>\n",
       "      <th>732469</th>\n",
       "      <td>732470</td>\n",
       "      <td>66464892</td>\n",
       "      <td>867</td>\n",
       "      <td>0.0</td>\n",
       "      <td>61</td>\n",
       "      <td>295833.490158</td>\n",
       "      <td>NaN</td>\n",
       "      <td>NaN</td>\n",
       "      <td>1.0</td>\n",
       "      <td>0.0</td>\n",
       "      <td>...</td>\n",
       "      <td>0.0</td>\n",
       "      <td>9.0</td>\n",
       "      <td>NaN</td>\n",
       "      <td>NaN</td>\n",
       "      <td>NaN</td>\n",
       "      <td>NaN</td>\n",
       "      <td>NaN</td>\n",
       "      <td>NaN</td>\n",
       "      <td>NaN</td>\n",
       "      <td>NaN</td>\n",
       "    </tr>\n",
       "    <tr>\n",
       "      <th>732470</th>\n",
       "      <td>732471</td>\n",
       "      <td>66464822</td>\n",
       "      <td>867</td>\n",
       "      <td>0.0</td>\n",
       "      <td>33</td>\n",
       "      <td>353795.777033</td>\n",
       "      <td>NaN</td>\n",
       "      <td>NaN</td>\n",
       "      <td>1.0</td>\n",
       "      <td>NaN</td>\n",
       "      <td>...</td>\n",
       "      <td>0.0</td>\n",
       "      <td>15.0</td>\n",
       "      <td>NaN</td>\n",
       "      <td>1.0</td>\n",
       "      <td>NaN</td>\n",
       "      <td>NaN</td>\n",
       "      <td>NaN</td>\n",
       "      <td>NaN</td>\n",
       "      <td>NaN</td>\n",
       "      <td>NaN</td>\n",
       "    </tr>\n",
       "    <tr>\n",
       "      <th>732471</th>\n",
       "      <td>732472</td>\n",
       "      <td>66426126</td>\n",
       "      <td>1038</td>\n",
       "      <td>0.0</td>\n",
       "      <td>6</td>\n",
       "      <td>NaN</td>\n",
       "      <td>NaN</td>\n",
       "      <td>NaN</td>\n",
       "      <td>0.0</td>\n",
       "      <td>0.0</td>\n",
       "      <td>...</td>\n",
       "      <td>0.0</td>\n",
       "      <td>11.0</td>\n",
       "      <td>NaN</td>\n",
       "      <td>NaN</td>\n",
       "      <td>NaN</td>\n",
       "      <td>NaN</td>\n",
       "      <td>NaN</td>\n",
       "      <td>NaN</td>\n",
       "      <td>NaN</td>\n",
       "      <td>NaN</td>\n",
       "    </tr>\n",
       "  </tbody>\n",
       "</table>\n",
       "<p>732472 rows × 51 columns</p>\n",
       "</div>"
      ],
      "text/plain": [
       "        Unnamed: 0     patid  practice_id  sex  age            BMI ethnicity  \\\n",
       "0                1  43231452           39  0.0   48      26.609713       NaN   \n",
       "1                2  43206365           39  1.0   58      23.946360       NaN   \n",
       "2                3  43203606          559  0.0   51      17.104513       NaN   \n",
       "3                4  43117348          502  0.0   69      35.303241       NaN   \n",
       "4                5  43105858          536  0.0   16      28.731747       NaN   \n",
       "...            ...       ...          ...  ...  ...            ...       ...   \n",
       "732467      732468  65016288          867  0.0   13  144179.423282       NaN   \n",
       "732468      732469  65728252          867  1.0   20  209370.755998       NaN   \n",
       "732469      732470  66464892          867  0.0   61  295833.490158       NaN   \n",
       "732470      732471  66464822          867  0.0   33  353795.777033       NaN   \n",
       "732471      732472  66426126         1038  0.0    6            NaN       NaN   \n",
       "\n",
       "       smokingStatus  CharlsonScore  count_rhinitis  ...  PriorEducation  \\\n",
       "0            current            1.0             NaN  ...             0.0   \n",
       "1             former            1.0             0.0  ...             1.0   \n",
       "2            current            1.0             3.0  ...             0.0   \n",
       "3             former            1.0             1.0  ...             0.0   \n",
       "4                NaN            1.0             3.0  ...             0.0   \n",
       "...              ...            ...             ...  ...             ...   \n",
       "732467           NaN            0.0             NaN  ...             0.0   \n",
       "732468       current            1.0             0.0  ...             0.0   \n",
       "732469           NaN            1.0             0.0  ...             0.0   \n",
       "732470           NaN            1.0             NaN  ...             0.0   \n",
       "732471           NaN            0.0             0.0  ...             0.0   \n",
       "\n",
       "        numPCS  numPCSAsthma  numAntibioticsEvents  numAntibioticswithLRTI  \\\n",
       "0          3.0           1.0                   NaN                     NaN   \n",
       "1          1.0           1.0                   NaN                     NaN   \n",
       "2          1.0           1.0                   1.0                     1.0   \n",
       "3          3.0           1.0                   1.0                     NaN   \n",
       "4         14.0           2.0                   NaN                     NaN   \n",
       "...        ...           ...                   ...                     ...   \n",
       "732467     3.0           NaN                   1.0                     NaN   \n",
       "732468     7.0           1.0                   1.0                     1.0   \n",
       "732469     9.0           NaN                   NaN                     NaN   \n",
       "732470    15.0           NaN                   1.0                     NaN   \n",
       "732471    11.0           NaN                   NaN                     NaN   \n",
       "\n",
       "        numOCSEvents  numOCSwithLRTI  numAsthmaAttacks  numAcuteRespEvents  \\\n",
       "0                NaN             NaN               NaN                 NaN   \n",
       "1                NaN             NaN               NaN                 NaN   \n",
       "2                1.0             1.0               1.0                 1.0   \n",
       "3                NaN             NaN               NaN                 NaN   \n",
       "4                NaN             NaN               NaN                 NaN   \n",
       "...              ...             ...               ...                 ...   \n",
       "732467           NaN             NaN               NaN                 NaN   \n",
       "732468           NaN             NaN               NaN                 NaN   \n",
       "732469           NaN             NaN               NaN                 NaN   \n",
       "732470           NaN             NaN               NaN                 NaN   \n",
       "732471           NaN             NaN               NaN                 NaN   \n",
       "\n",
       "        numHospEvents  \n",
       "0                 NaN  \n",
       "1                 NaN  \n",
       "2                 NaN  \n",
       "3                 NaN  \n",
       "4                 NaN  \n",
       "...               ...  \n",
       "732467            NaN  \n",
       "732468            NaN  \n",
       "732469            NaN  \n",
       "732470            NaN  \n",
       "732471            NaN  \n",
       "\n",
       "[732472 rows x 51 columns]"
      ]
     },
     "execution_count": 21,
     "metadata": {},
     "output_type": "execute_result"
    }
   ],
   "source": [
    "features"
   ]
  },
  {
   "cell_type": "code",
   "execution_count": 4,
   "id": "862ee9fb",
   "metadata": {},
   "outputs": [
    {
     "name": "stdout",
     "output_type": "stream",
     "text": [
      "original data shape:  (313405, 63)\n"
     ]
    }
   ],
   "source": [
    "masterData = features.merge(outcomes, how = 'left', left_on='patid', right_on='patid') #join table\n",
    "masterData = masterData.dropna() #NAs from Country\n",
    "masterData = masterData.reset_index(drop=True)\n",
    "print('original data shape: ', masterData.shape)"
   ]
  },
  {
   "cell_type": "code",
   "execution_count": 5,
   "id": "c12f64bc",
   "metadata": {},
   "outputs": [],
   "source": [
    "#Aggregate outcome for more than 3 months horizon\n",
    "\n",
    "masterData[\"outcome_combined_6months\"] = masterData.apply(lambda x: (x[\"outcome_3months\"] | x[\"outcome_6months\"]), axis=1)\n",
    "masterData[\"outcome_combined_9months\"] = masterData.apply(lambda x: (x[\"outcome_combined_6months\"] | x[\"outcome_9months\"]), axis=1)\n",
    "masterData[\"outcome_combined_12months\"] = masterData.apply(lambda x: (x[\"outcome_combined_9months\"] | x[\"outcome_12months\"]), axis=1)\n",
    "masterData[\"outcome_combined_15months\"] = masterData.apply(lambda x: (x[\"outcome_combined_12months\"] | x[\"outcome_15months\"]), axis=1)\n",
    "masterData[\"outcome_combined_18months\"] = masterData.apply(lambda x: (x[\"outcome_combined_15months\"] | x[\"outcome_18months\"]), axis=1)\n",
    "masterData[\"outcome_combined_24months\"] = masterData.apply(lambda x: (x[\"outcome_combined_18months\"] | x[\"outcome_24months\"]), axis=1)"
   ]
  },
  {
   "cell_type": "code",
   "execution_count": 6,
   "id": "ecdc7fd9",
   "metadata": {},
   "outputs": [
    {
     "name": "stdout",
     "output_type": "stream",
     "text": [
      "3 months -> 1 :  16.31\n",
      "6 months -> 1 :  10.44\n",
      "9 months -> 1 :  7.85\n",
      "12 months -> 1 :  5.68\n",
      "15 months -> 1 :  4.48\n",
      "18 months -> 1 :  4.0\n",
      "24 months -> 1 :  3.5\n"
     ]
    }
   ],
   "source": [
    "#Positive vs negative class ratio\n",
    "\n",
    "print('3 months -> 1 : ', round(masterData.outcome_3months.value_counts()[0]/masterData.outcome_3months.value_counts()[1],2))\n",
    "print('6 months -> 1 : ', round(masterData.outcome_combined_6months.value_counts()[0]/masterData.outcome_combined_6months.value_counts()[1],2))\n",
    "print('9 months -> 1 : ', round(masterData.outcome_combined_9months.value_counts()[0]/masterData.outcome_combined_9months.value_counts()[1],2))\n",
    "print('12 months -> 1 : ', round(masterData.outcome_combined_12months.value_counts()[0]/masterData.outcome_combined_12months.value_counts()[1],2))\n",
    "print('15 months -> 1 : ', round(masterData.outcome_combined_15months.value_counts()[0]/masterData.outcome_combined_15months.value_counts()[1],2))\n",
    "print('18 months -> 1 : ', round(masterData.outcome_combined_18months.value_counts()[0]/masterData.outcome_combined_18months.value_counts()[1],2))\n",
    "print('24 months -> 1 : ', round(masterData.outcome_combined_24months.value_counts()[0]/masterData.outcome_combined_24months.value_counts()[1],2))\n"
   ]
  },
  {
   "cell_type": "code",
   "execution_count": 7,
   "id": "346971ef",
   "metadata": {},
   "outputs": [
    {
     "name": "stdout",
     "output_type": "stream",
     "text": [
      "3 months ->  5.78 %\n",
      "6 months ->  8.74 %\n",
      "9 months ->  11.3 %\n",
      "12 months ->  14.98 %\n",
      "15 months ->  18.24 %\n",
      "18 months ->  20.0 %\n",
      "24 months ->  22.24 %\n"
     ]
    }
   ],
   "source": [
    "#Proportion of asthma attack in each outcome\n",
    "\n",
    "print('3 months -> ', round(masterData.outcome_3months.value_counts()[1]/len(masterData)*100,2), '%')\n",
    "print('6 months -> ', round(masterData.outcome_combined_6months.value_counts()[1]/len(masterData)*100,2), '%')\n",
    "print('9 months -> ', round(masterData.outcome_combined_9months.value_counts()[1]/len(masterData)*100,2), '%')\n",
    "print('12 months -> ', round(masterData.outcome_combined_12months.value_counts()[1]/len(masterData)*100,2), '%')\n",
    "print('15 months -> ', round(masterData.outcome_combined_15months.value_counts()[1]/len(masterData)*100,2), '%')\n",
    "print('18 months -> ', round(masterData.outcome_combined_18months.value_counts()[1]/len(masterData)*100,2), '%')\n",
    "print('24 months -> ', round(masterData.outcome_combined_24months.value_counts()[1]/len(masterData)*100,2), '%')"
   ]
  },
  {
   "cell_type": "code",
   "execution_count": 8,
   "id": "48e347d6-3a9f-4008-b9db-d73475693da6",
   "metadata": {},
   "outputs": [
    {
     "name": "stdout",
     "output_type": "stream",
     "text": [
      "Data shape for scenario 1 (313405, 68)\n"
     ]
    }
   ],
   "source": [
    "#Data scenario\n",
    "# 1: all data without ethnicity variable\n",
    "# 2: all data with ethnicity variable (include all missing values in ethnicity as separate group)\n",
    "# 3: filter data based on ethnicity (exclude missing values)\n",
    "\n",
    "scenario = 1 #change it based on the scenario\n",
    "\n",
    "if scenario == 1:\n",
    "    #Exclude ethnic column\n",
    "    allData = masterData.drop('ethnic', axis=1)\n",
    "elif scenario == 2:\n",
    "    #include all data\n",
    "    allData = masterData\n",
    "elif scenario == 3:\n",
    "    #exclude missing values for ethnic variable\n",
    "    allData = masterData[masterData.ethnic!='0']\n",
    "    \n",
    "allData = allData.reset_index(drop=True)\n",
    "print('Data shape for scenario', str(scenario), allData.shape)\n",
    "\n"
   ]
  },
  {
   "cell_type": "code",
   "execution_count": 9,
   "id": "0256b2dd-3faa-4666-8e8e-f330799f5909",
   "metadata": {},
   "outputs": [
    {
     "name": "stdout",
     "output_type": "stream",
     "text": [
      "Intersex proportion:  0.003828911472375999 %\n",
      "Data shape after excluding missing values in sex variable:  (313393, 68)\n"
     ]
    }
   ],
   "source": [
    "#change sex column to binary numeric, flag intersex as NAs\n",
    "\n",
    "def sexConverter (x):\n",
    "    if x == 'Female':\n",
    "        return 0\n",
    "    elif x == 'Male':\n",
    "        return 1\n",
    "    elif x == 'Intersex':\n",
    "        return None\n",
    "    else:\n",
    "        return x\n",
    "\n",
    "allData['sex'] = allData.apply(lambda x: sexConverter(x.sex), axis=1)\n",
    "print('Intersex proportion: ', sum(allData['sex'].isnull())/allData.shape[0]*100, '%')\n",
    "allData = allData.dropna(subset=['sex']) #exclude missing values (intersex)\n",
    "allData = allData.reset_index(drop=True)\n",
    "print('Data shape after excluding missing values in sex variable: ', allData.shape)\n"
   ]
  },
  {
   "cell_type": "code",
   "execution_count": 10,
   "id": "2b2ddc20-4158-4c1b-93df-4043c7c16520",
   "metadata": {},
   "outputs": [
    {
     "name": "stdout",
     "output_type": "stream",
     "text": [
      "Training data shape: (231121, 67)\n",
      "Evaluation data shape:  (10268, 67)\n"
     ]
    }
   ],
   "source": [
    "#Split data into training and evaluation set based on the country. Include only 18+ patients.\n",
    "\n",
    "trainingData = allData[(allData.Country == 'England') & (allData.age>18)]\n",
    "evaluationData = allData[((allData.Country == 'Scotland') | (allData.Country == 'Wales')) & (allData.age>18)] #used for internal validation\n",
    "\n",
    "#remove country variable\n",
    "trainingData = trainingData.drop('Country', axis=1)\n",
    "evaluationData = evaluationData.drop('Country', axis=1)\n",
    "\n",
    "trainingData = trainingData.reset_index(drop=True)\n",
    "evaluationData = evaluationData.reset_index(drop=True)\n",
    "\n",
    "print('Training data shape:', trainingData.shape)\n",
    "print('Evaluation data shape: ', evaluationData.shape)"
   ]
  },
  {
   "cell_type": "code",
   "execution_count": 11,
   "id": "4dab986e-f533-41c7-810c-442127311122",
   "metadata": {},
   "outputs": [],
   "source": [
    "#Identify categorical and continuous variables from the dataset for preprocessing purpose\n",
    "\n",
    "summaryData = trainingData.describe().T\n",
    "excludeVars = summaryData[summaryData['max'] == 0].index.to_list() #exclude variable with all zero values\n",
    "binaryVars = summaryData[summaryData['max'] == 1].index.to_list()\n",
    "categoricalNonnumericVars = trainingData.select_dtypes(['object']).columns.to_list()\n",
    "categoricalNonnumericVars = categoricalNonnumericVars + ['BTS_step'] #BTS step is numerical categorical"
   ]
  },
  {
   "cell_type": "code",
   "execution_count": 12,
   "id": "f81e0adc-7a4b-4e28-852c-811c20125656",
   "metadata": {},
   "outputs": [
    {
     "name": "stdout",
     "output_type": "stream",
     "text": [
      "Features size:  34\n",
      "['sex', 'age', 'smokingStatus', 'CharlsonScore', 'PEFStatus', 'EosinophilLevel', 'BTS_step', 'average_daily_dose_ICS', 'prescribed_daily_dose_ICS', 'DeviceType', 'numOCS', 'PriorEducation', 'numPCS', 'numAntibioticsEvents', 'numAntibioticswithLRTI', 'numOCSEvents', 'numOCSwithLRTI', 'numAsthmaAttacks', 'numAcuteRespEvents', 'numHospEvents', 'BMI_cat', 'comorbid_anaphylaxis', 'comorbid_anxiety', 'comorbid_cardiovascular disease', 'comorbid_rhinitis', 'comorbid_eczema', 'comorbid_heart failure', 'comorbid_ischaemic heart disease', 'comorbid_nasal polyp', 'comorbid_psoriasis', 'comorbid_diabetes mellitus', 'comedication_paracetamol', 'comedication_nsaids', 'comedication_betablocker']\n"
     ]
    }
   ],
   "source": [
    "#Define feature candidates\n",
    "\n",
    "features_columns = trainingData.columns.to_list()\n",
    "exclude_columns = ['patid', 'practice_id', #identifier\n",
    "                   'BMI', #use the categorical instead\n",
    "                   'ICS_medication_possesion_ratio', #the max value is inf\n",
    "                   'Spacer', 'numPCSAsthma',  #all zero\n",
    "                   'outcome_3months', 'outcome_6months', 'outcome_9months', 'outcome_12months', 'outcome_15months', 'outcome_18months', \n",
    "                   'outcome_21months', 'outcome_24months', 'outcome_combined_6months', 'outcome_combined_9months', 'outcome_combined_12months', \n",
    "                   'outcome_combined_15months', 'outcome_combined_18months', 'outcome_combined_24months', #outcomes variable\n",
    "                  ]\n",
    "exclude_columns = exclude_columns + [x for x in features_columns if '_count' in x] #filter out commorbid count variables\n",
    "features_columns = [x for x in features_columns if x not in exclude_columns]\n",
    "print('Features size: ', len(features_columns))\n",
    "print(features_columns)"
   ]
  },
  {
   "cell_type": "code",
   "execution_count": 13,
   "id": "1483ee06-230b-40f9-8558-09545cbdae54",
   "metadata": {},
   "outputs": [
    {
     "name": "stderr",
     "output_type": "stream",
     "text": [
      "/opt/conda/envs/rapids/lib/python3.8/site-packages/sklearn/preprocessing/_encoders.py:868: FutureWarning: `sparse` was renamed to `sparse_output` in version 1.2 and will be removed in 1.4. `sparse_output` is ignored unless you leave `sparse` to its default value.\n",
      "  warnings.warn(\n"
     ]
    },
    {
     "name": "stdout",
     "output_type": "stream",
     "text": [
      "Data shape after one-hot encoding:  (231121, 86)\n"
     ]
    }
   ],
   "source": [
    "#ONE HOT encoding for categorical data\n",
    "\n",
    "categoricalNonnumericVars = pd.Series(list(set(categoricalNonnumericVars).intersection(set(features_columns)))).tolist() #select only variables within the feature candidate list\n",
    "\n",
    "# define one hot encoder\n",
    "categoricalEncoder = OneHotEncoder(sparse=False)\n",
    "\n",
    "# transform data\n",
    "result = categoricalEncoder.fit_transform(trainingData[categoricalNonnumericVars]) \n",
    "result = pd.DataFrame(result, columns=categoricalEncoder.get_feature_names_out())\n",
    "\n",
    "#save encoder\n",
    "pickle.dump(categoricalEncoder, open('./models/categoricalEncoder.pkl', 'wb'))\n",
    "\n",
    "# replace categorical variables in the original data with the one hot version\n",
    "trainingData = pd.concat([trainingData.loc[:, ~trainingData.columns.isin(categoricalNonnumericVars)],result], axis=1)\n",
    "print('Data shape after one-hot encoding: ', trainingData.shape)"
   ]
  },
  {
   "cell_type": "code",
   "execution_count": 14,
   "id": "9f56f78d-dce5-45d8-b48e-36850b75a73b",
   "metadata": {},
   "outputs": [
    {
     "name": "stdout",
     "output_type": "stream",
     "text": [
      "Data shape after scaling:  (231121, 86)\n"
     ]
    }
   ],
   "source": [
    "#Scaling continous variable into 0-1 range\n",
    "\n",
    "# summaryData = allData.describe().T\n",
    "continuous_vars = summaryData[summaryData['max'] >5].index.to_list() + ['numHospEvents'] #Num hospital events is continuous with \n",
    "continuous_vars = pd.Series(list(set(continuous_vars).intersection(set(features_columns)))).tolist() #select only variables within the feature candidate list\n",
    "\n",
    "# define scaler\n",
    "scaler = MinMaxScaler()\n",
    "\n",
    "#save scaler\n",
    "pickle.dump(scaler, open('./models/scaler.pkl', 'wb'))\n",
    "\n",
    "\n",
    "# transform data\n",
    "result = scaler.fit_transform(trainingData[continuous_vars])\n",
    "result = pd.DataFrame(result, columns=scaler.get_feature_names_out())\n",
    "\n",
    "allData = pd.concat([trainingData.loc[:,~trainingData.columns.isin(continuous_vars)],result], axis=1)\n",
    "\n",
    "print('Data shape after scaling: ', trainingData.shape)"
   ]
  },
  {
   "cell_type": "code",
   "execution_count": 15,
   "id": "78506188-cadc-4410-ad66-4c62812faeb6",
   "metadata": {},
   "outputs": [
    {
     "name": "stdout",
     "output_type": "stream",
     "text": [
      "Features size:  53\n",
      "['sex', 'age', 'CharlsonScore', 'average_daily_dose_ICS', 'prescribed_daily_dose_ICS', 'numOCS', 'PriorEducation', 'numPCS', 'numAntibioticsEvents', 'numAntibioticswithLRTI', 'numOCSEvents', 'numOCSwithLRTI', 'numAsthmaAttacks', 'numAcuteRespEvents', 'numHospEvents', 'comorbid_anaphylaxis', 'comorbid_anxiety', 'comorbid_cardiovascular disease', 'comorbid_rhinitis', 'comorbid_eczema', 'comorbid_heart failure', 'comorbid_ischaemic heart disease', 'comorbid_nasal polyp', 'comorbid_psoriasis', 'comorbid_diabetes mellitus', 'comedication_paracetamol', 'comedication_nsaids', 'comedication_betablocker', 'PEFStatus_PEF_60-80', 'PEFStatus_PEF_less than 60', 'PEFStatus_PEF_more than 80', 'PEFStatus_PEF_not recroded', 'smokingStatus_Smoking_current', 'smokingStatus_Smoking_former', 'smokingStatus_Smoking_never', 'DeviceType_DeviceType_BAI', 'DeviceType_DeviceType_DPI', 'DeviceType_DeviceType_NEB', 'DeviceType_DeviceType_pMDI', 'DeviceType_DeviceType_unknown', 'BMI_cat_Normalweight', 'BMI_cat_Obese', 'BMI_cat_Overweight', 'BMI_cat_Underweight', 'EosinophilLevel_Eosinophil_high', 'EosinophilLevel_Eosinophil_normal', 'EosinophilLevel_Eosinophil_unknown', 'BTS_step_0.0', 'BTS_step_1.0', 'BTS_step_2.0', 'BTS_step_3.0', 'BTS_step_4.0', 'BTS_step_5.0']\n"
     ]
    }
   ],
   "source": [
    "#Update feature candidates\n",
    "\n",
    "features_columns = trainingData.columns.to_list()\n",
    "exclude_columns = ['patid', 'practice_id', #identifier\n",
    "                   'BMI', #use the categorical instead\n",
    "                   'ICS_medication_possesion_ratio', #the max value is inf\n",
    "                   'Spacer', 'numPCSAsthma',  #all zero\n",
    "                   'outcome_3months', 'outcome_6months', 'outcome_9months', 'outcome_12months', 'outcome_15months', 'outcome_18months', \n",
    "                   'outcome_21months', 'outcome_24months', 'outcome_combined_6months', 'outcome_combined_9months', 'outcome_combined_12months', \n",
    "                   'outcome_combined_15months', 'outcome_combined_18months', 'outcome_combined_24months', #outcomes variable\n",
    "                  ]\n",
    "exclude_columns = exclude_columns + [x for x in features_columns if '_count' in x] #filter out commorbid count variables\n",
    "features_columns = [x for x in features_columns if x not in exclude_columns]\n",
    "print('Features size: ', len(features_columns))\n",
    "print(features_columns)"
   ]
  },
  {
   "cell_type": "code",
   "execution_count": 16,
   "id": "9b24a133-cba6-4246-a8e5-91911d8f4d8e",
   "metadata": {},
   "outputs": [
    {
     "name": "stdout",
     "output_type": "stream",
     "text": [
      "Data shape after one-hot encoding:  (10268, 86)\n"
     ]
    }
   ],
   "source": [
    "#ONE HOT encoding for evaluation dataset\n",
    "\n",
    "# transform data\n",
    "result = categoricalEncoder.transform(evaluationData[categoricalNonnumericVars]) \n",
    "result = pd.DataFrame(result, columns=categoricalEncoder.get_feature_names_out())\n",
    "\n",
    "# replace categorical variables in the original data with the one hot version\n",
    "evaluationData = pd.concat([evaluationData.loc[:, ~evaluationData.columns.isin(categoricalNonnumericVars)],result], axis=1)\n",
    "print('Data shape after one-hot encoding: ', evaluationData.shape)"
   ]
  },
  {
   "cell_type": "code",
   "execution_count": 17,
   "id": "1cad1832-4118-44c9-acdf-da61cefb7a76",
   "metadata": {},
   "outputs": [
    {
     "name": "stdout",
     "output_type": "stream",
     "text": [
      "Data shape after scaling:  (10268, 86)\n"
     ]
    }
   ],
   "source": [
    "#Scaling continous variable into 0-1 range for evaluation dataset\n",
    "\n",
    "\n",
    "# transform data\n",
    "result = scaler.transform(evaluationData[continuous_vars])\n",
    "result = pd.DataFrame(result, columns=scaler.get_feature_names_out())\n",
    "\n",
    "evaluationData = pd.concat([evaluationData.loc[:,~evaluationData.columns.isin(continuous_vars)],result], axis=1)\n",
    "\n",
    "print('Data shape after scaling: ', evaluationData.shape)"
   ]
  },
  {
   "cell_type": "code",
   "execution_count": null,
   "id": "06cfac26-3aa7-4d1d-8a1b-aaa7bb24cc6f",
   "metadata": {},
   "outputs": [],
   "source": [
    "excludeDesc_columns = ['patid', 'practice_id', #identifier\n",
    "                   'BMI', #use the categorical instead\n",
    "                   'ICS_medication_possesion_ratio', #the max value is inf\n",
    "                   'Spacer', 'numPCSAsthma',  #all zero\n",
    "                   'outcome_6months', 'outcome_9months', 'outcome_12months', 'outcome_15months', 'outcome_18months',\n",
    "                   'outcome_21months', 'outcome_24months', 'outcome_combined_9months', \n",
    "                   'outcome_combined_15months', 'outcome_combined_18months', 'outcome_combined_24months', #outcomes variable\n",
    "                   'Country',#used for train-tes split only\n",
    "                  ]\n",
    "excludeDesc_columns = excludeDesc_columns + [x for x in features_columns if '_count' in x]\n",
    "descData = masterData[masterData.columns.difference(excludeDesc_columns)]"
   ]
  },
  {
   "cell_type": "code",
   "execution_count": null,
   "id": "33c548a7-76d9-42ac-b95c-8897ac411f20",
   "metadata": {},
   "outputs": [],
   "source": [
    "summaryData = descData.describe().T"
   ]
  },
  {
   "cell_type": "code",
   "execution_count": null,
   "id": "a12af225-3d07-4ce8-83ac-0d6c0c6cd631",
   "metadata": {},
   "outputs": [],
   "source": [
    "cat_vars = summaryData[summaryData['max'] <= 5].index.to_list() \n",
    "cat_vars.remove('numHospEvents')\n",
    "cat_vars = cat_vars + categoricalNonnumericVars\n",
    "cont_vars = summaryData[summaryData['max'] > 5].index.to_list() + ['numHospEvents']"
   ]
  },
  {
   "cell_type": "code",
   "execution_count": null,
   "id": "88ed6071-cba6-48a9-ab36-9c4e39582564",
   "metadata": {},
   "outputs": [],
   "source": [
    "# writer = pd.ExcelWriter('../../code/descriptive_cat.xlsx', engine='xlsxwriter')\n",
    "outcomes = ['outcome_combined_12months']\n",
    "# cat_vars = ['gender_x', 'language', 'marital_status', 'ethnicity', 'admission_location', 'discharge_location']\n",
    "for target_outcome in outcomes:\n",
    "    desc_table = []\n",
    "    print(target_outcome)\n",
    "    for var in cat_vars:\n",
    "        chi,pval,df,tab = chi2_contingency(pd.crosstab(descData[var].values, descData[target_outcome].values).apply(lambda c: c/c.sum(), axis=0))\n",
    "        desc_table.append((var  + ' (n, % of total)','-' ,'-'))\n",
    "        for group in descData[var].unique():\n",
    "            noAsthma = descData[(descData[var]==group)&(descData[target_outcome]==0)].shape[0]\n",
    "            noAsthmaPercent = round(noAsthma/sum(descData[target_outcome]==0)*100,2)\n",
    "            asthma = descData[(descData[var]==group)&(descData[target_outcome]==1)].shape[0]\n",
    "            asthmaPercent = round(asthma/sum(descData[target_outcome]==1)*100,2)\n",
    "            desc_table.append((group, str(noAsthma) + ' (' + str(noAsthmaPercent) + '%)' , str(asthma) + ' (' + str(asthmaPercent) + '%)'))\n",
    "    descriptive_cat = pd.DataFrame(desc_table, columns=['var','No asthma attack', 'Asthma attack'])\n",
    "    # descriptive_cat.to_excel(writer, sheet_name=target_outcome)\n",
    "    print('writing to Excel done!!')\n",
    "# writer.save()"
   ]
  },
  {
   "cell_type": "code",
   "execution_count": null,
   "id": "30197693-a565-4e94-b80b-a613770cf1f3",
   "metadata": {},
   "outputs": [],
   "source": [
    "\n",
    "for target_outcome in outcomes:\n",
    "    desc_table_cont = []\n",
    "    print(target_outcome)\n",
    "    for var in descData.columns:\n",
    "        if (var in cont_vars):\n",
    "            tval,pval = ttest_ind(descData[var],descData[target_outcome])\n",
    "            noAsthmaMean = np.round(np.mean(descData[var][descData[target_outcome]==0]),2)\n",
    "            noAsthmaSD = np.round(np.std(descData[var][descData[target_outcome]==0]),2)\n",
    "            asthmaMean = np.round(np.mean(descData[var][descData[target_outcome]==1]),2)\n",
    "            asthmaSD = np.round(np.std(descData[var][descData[target_outcome]==1]),2)\n",
    "            desc_table_cont.append((var  + ' (mean, std)', str(noAsthmaMean)  + ' (' + str(noAsthmaSD) + ')', str(asthmaMean) + ' (' + str(asthmaSD) + ')'))\n",
    "    descriptive_cont = pd.DataFrame(desc_table_cont, columns=['var','No asthma attack', 'Asthma attack'])\n",
    "    # descriptive_cont.to_excel(writer, sheet_name=target_outcome)\n",
    "    print('writing to Excel done!!')\n",
    "# writer.save()"
   ]
  },
  {
   "cell_type": "code",
   "execution_count": null,
   "id": "7963f5d6-d9a1-45a5-89d4-efef6b4aee9d",
   "metadata": {},
   "outputs": [],
   "source": [
    "pd.concat([descriptive_cat, descriptive_cont]).to_csv(target_outcome + '.csv', index_label=False, index=False)"
   ]
  },
  {
   "cell_type": "markdown",
   "id": "7037f720-0ed4-4e4a-84c8-f511fadac736",
   "metadata": {},
   "source": [
    "# UTILS"
   ]
  },
  {
   "cell_type": "code",
   "execution_count": 18,
   "id": "a4db59da-1f72-428e-9203-08d62c6d9090",
   "metadata": {},
   "outputs": [],
   "source": [
    "#Model evaluation function\n",
    "\n",
    "def summariseResult (testX, testY, model):\n",
    "    preds = model.predict(testX)\n",
    "    tn, fp, fn, tp = confusion_matrix(testY, preds).ravel()\n",
    "    specificity = tn / (tn+fp)\n",
    "    sensitivity = tp / (tp+fn)\n",
    "    ppv = 100*tp/(tp+fp)\n",
    "    npv = 100*tn/(fn+tn)\n",
    "    acc = accuracy_score(testY, preds)\n",
    "    f1score = f1_score(testY, preds, average = 'binary')\n",
    "    balanceacc = balanced_accuracy_score(testY, preds)\n",
    "    fpr, tpr, thresholds = roc_curve(testY, preds, pos_label=1)\n",
    "    aucscore = auc(fpr, tpr)\n",
    "    # auc = roc_auc_score(testY, preds)\n",
    "    auprc = average_precision_score(testY, preds)\n",
    "    # plot_confusion_matrix(model, testX, testY, cmap='viridis')  \n",
    "    return np.round(acc,4), np.round(specificity,4), np.round(sensitivity,4), np.round(aucscore,4), np.round(auprc,4), np.round(balanceacc,4), np.round(f1score,4), np.round(ppv,4), np.round(npv,4)"
   ]
  },
  {
   "cell_type": "code",
   "execution_count": 19,
   "id": "2bfef79e-1dce-4010-b0cc-8694c6c79202",
   "metadata": {},
   "outputs": [],
   "source": [
    "#Fix model name for visualisation\n",
    "\n",
    "def modelNameFixer(x):\n",
    "    if 'liblinear' in x:\n",
    "        return 'Lasso'\n",
    "    elif 'GaussianNB' in x:\n",
    "        return 'GNB'\n",
    "    elif 'SVC' in x:\n",
    "        return 'SVC'\n",
    "    elif 'RandomForest' in x:\n",
    "        return 'RF'\n",
    "    elif 'XGB' in x:\n",
    "        return 'XGBoost'\n",
    "    elif 'DecisionTree' in x:\n",
    "        return 'DT'\n",
    "    else:\n",
    "        return 'LR'"
   ]
  },
  {
   "cell_type": "code",
   "execution_count": 20,
   "id": "fc6d0fd2-ae3d-48ba-8b46-50c0c67e2674",
   "metadata": {},
   "outputs": [],
   "source": [
    "#Define number of split in k-fold\n",
    "\n",
    "n_splits = 10"
   ]
  },
  {
   "cell_type": "code",
   "execution_count": 21,
   "id": "7b28f624-2c79-4f33-bc78-84ba16c78938",
   "metadata": {},
   "outputs": [],
   "source": [
    "# instantiate the model (using the default parameters)\n",
    "def build_models (X_train, y_train, params, split_counter):\n",
    "    models = [] #list to store all the models\n",
    "    model_counter = 0\n",
    "    print(\"Building models . . . .\")\n",
    "\n",
    "    #LR\n",
    "    lr_model = LogisticRegression(class_weight='balanced', penalty='l2', random_state=1234)\n",
    "    lr_model.fit(X_train,y_train)\n",
    "    modelname =str(split_counter) + 'LRModel' \n",
    "    models.append([modelname, y_train.value_counts()[1]/y_train.value_counts()[0]])\n",
    "    model_counter+=1\n",
    "    pickle.dump(lr_model, open('./models/'+ target_outcome + '/'+ modelname + '.sav', 'wb')) \n",
    "    print(\"LR done\")\n",
    "\n",
    "    #Lasso\n",
    "    lasso_model = LogisticRegression(class_weight='balanced', penalty='l1', solver='liblinear', random_state=1234) #only the LIBLINEAR and SAGA (added in v0.19) solvers handle the L1 penalty\n",
    "    lasso_model.fit(X_train, y_train)\n",
    "    modelname =str(split_counter) + 'LassoModel' \n",
    "    models.append([modelname, y_train.value_counts()[1]/y_train.value_counts()[0]])\n",
    "    model_counter+=1\n",
    "    pickle.dump(lasso_model, open('./models/'+ target_outcome + '/'+ modelname + '.sav', 'wb'))\n",
    "    print(\"LR done\")\n",
    "\n",
    "    #GNB\n",
    "    gnb_model = GaussianNB()\n",
    "    gnb_model.fit(X_train, y_train)\n",
    "    modelname =str(split_counter) + 'GNBModel' \n",
    "    models.append([modelname, y_train.value_counts()[1]/y_train.value_counts()[0]])\n",
    "    model_counter+=1\n",
    "    pickle.dump(gnb_model, open('./models/'+ target_outcome + '/'+ modelname + '.sav', 'wb'))     \n",
    "    print(\"GNB done\")\n",
    "\n",
    "    #SVM\n",
    "    svc_model = SVC(class_weight='balanced', C = 0.7, degree=2, kernel='poly', random_state=1234, cache_size=2048)\n",
    "    svc_model.fit(X_train,y_train)\n",
    "    modelname =str(split_counter) + 'SVCModel' \n",
    "    models.append([modelname, y_train.value_counts()[1]/y_train.value_counts()[0]])\n",
    "    model_counter+=1\n",
    "    pickle.dump(svc_model, open('./models/'+ target_outcome + '/'+ modelname + '.sav', 'wb'))     \n",
    "    print(\"SVM done\")\n",
    "\n",
    "    #DT\n",
    "    dt_model = DecisionTreeClassifier(class_weight='balanced', random_state=1234)\n",
    "    dt_model.fit(X_train, y_train)\n",
    "    modelname =str(split_counter) + 'DTModel' \n",
    "    models.append([modelname, y_train.value_counts()[1]/y_train.value_counts()[0]])\n",
    "    model_counter+=1\n",
    "    pickle.dump(dt_model, open('./models/'+ target_outcome + '/'+ modelname + '.sav', 'wb'))     \n",
    "    print(\"DT done\")\n",
    "\n",
    "    #RF\n",
    "    rf_model = RandomForestClassifier(class_weight='balanced', n_estimators=500, random_state=1234)\n",
    "    rf_model.fit(X_train, y_train)\n",
    "    modelname =str(split_counter) + 'RFModel' \n",
    "    models.append([modelname, y_train.value_counts()[1]/y_train.value_counts()[0]])\n",
    "    model_counter+=1\n",
    "    pickle.dump(rf_model, open('./models/'+ target_outcome + '/'+ modelname + '.sav', 'wb'))     \n",
    "    print(\"RF done\")\n",
    "\n",
    "\n",
    "\n",
    "    #XGB\n",
    "    scale_pos_ratio = y_train.value_counts()[0]/y_train.value_counts()[1]\n",
    "    xgb_model = xgb.XGBClassifier(objective ='binary:logistic', max_depth = params['xgb_maxdepth'], n_estimators = 2000,  tree_method='gpu_hist', gpu_id=0,  verbosity = 0, random_state = 1234,\n",
    "                                 importance_type = 'gain', scale_pos_weight = scale_pos_ratio, use_label_encoder=False, learning_rate=params['xgb_lr'])\n",
    "    # xgb_model = xgb.XGBClassifier(objective ='binary:logistic', learning_rate = 0.001, tree_method='gpu_hist', gpu_id=0,  verbosity = 0, random_state = 1234)\n",
    "    xgb_model.fit(X_train,y_train)\n",
    "    #save model\n",
    "    modelname = str(split_counter) + 'XGBoostModel'\n",
    "    models.append([modelname,  y_train.value_counts()[1]/y_train.value_counts()[0]])\n",
    "    pickle.dump(xgb_model, open('./models/'+ target_outcome + '/'+ modelname + '.sav', 'wb')) \n",
    "    model_counter+=1\n",
    "    print(\"XGB done\")\n",
    "    \n",
    "    return models\n",
    "    # return [xgb_model]"
   ]
  },
  {
   "cell_type": "markdown",
   "id": "4aeea54f-2a65-4a99-9ac4-d1325d0ae597",
   "metadata": {},
   "source": [
    "# 3months"
   ]
  },
  {
   "cell_type": "code",
   "execution_count": 49,
   "id": "b30f895e-5381-46ba-b938-e4635f2cea72",
   "metadata": {},
   "outputs": [
    {
     "name": "stdout",
     "output_type": "stream",
     "text": [
      "X shape:  (231121, 53)\n",
      "y shape:  (231121, 1)\n"
     ]
    }
   ],
   "source": [
    "#Create X set for model development\n",
    "\n",
    "target_outcome = 'outcome_3months'\n",
    "X = trainingData[features_columns]\n",
    "y = trainingData[[target_outcome]]\n",
    "print('X shape: ', X.shape)\n",
    "print('y shape: ', y.shape)\n",
    "\n",
    "#model parameters\n",
    "params = {'xgb_lr': 0.6,\n",
    "         'xgb_maxdepth': 7}"
   ]
  },
  {
   "cell_type": "code",
   "execution_count": 50,
   "id": "1bc35cae-8c88-4260-a968-25e098bbeedc",
   "metadata": {
    "scrolled": true,
    "tags": []
   },
   "outputs": [
    {
     "name": "stdout",
     "output_type": "stream",
     "text": [
      "Building models . . . .\n"
     ]
    },
    {
     "name": "stderr",
     "output_type": "stream",
     "text": [
      "/opt/conda/envs/rapids/lib/python3.8/site-packages/sklearn/linear_model/_logistic.py:458: ConvergenceWarning: lbfgs failed to converge (status=1):\n",
      "STOP: TOTAL NO. of ITERATIONS REACHED LIMIT.\n",
      "\n",
      "Increase the number of iterations (max_iter) or scale the data as shown in:\n",
      "    https://scikit-learn.org/stable/modules/preprocessing.html\n",
      "Please also refer to the documentation for alternative solver options:\n",
      "    https://scikit-learn.org/stable/modules/linear_model.html#logistic-regression\n",
      "  n_iter_i = _check_optimize_result(\n"
     ]
    },
    {
     "name": "stdout",
     "output_type": "stream",
     "text": [
      "LR done\n",
      "LR done\n",
      "GNB done\n",
      "SVM done\n",
      "DT done\n",
      "RF done\n",
      "XGB done\n",
      "Building models . . . .\n"
     ]
    },
    {
     "name": "stderr",
     "output_type": "stream",
     "text": [
      "/opt/conda/envs/rapids/lib/python3.8/site-packages/sklearn/linear_model/_logistic.py:458: ConvergenceWarning: lbfgs failed to converge (status=1):\n",
      "STOP: TOTAL NO. of ITERATIONS REACHED LIMIT.\n",
      "\n",
      "Increase the number of iterations (max_iter) or scale the data as shown in:\n",
      "    https://scikit-learn.org/stable/modules/preprocessing.html\n",
      "Please also refer to the documentation for alternative solver options:\n",
      "    https://scikit-learn.org/stable/modules/linear_model.html#logistic-regression\n",
      "  n_iter_i = _check_optimize_result(\n"
     ]
    },
    {
     "name": "stdout",
     "output_type": "stream",
     "text": [
      "LR done\n",
      "LR done\n",
      "GNB done\n",
      "SVM done\n",
      "DT done\n",
      "RF done\n",
      "XGB done\n",
      "Building models . . . .\n"
     ]
    },
    {
     "name": "stderr",
     "output_type": "stream",
     "text": [
      "/opt/conda/envs/rapids/lib/python3.8/site-packages/sklearn/linear_model/_logistic.py:458: ConvergenceWarning: lbfgs failed to converge (status=1):\n",
      "STOP: TOTAL NO. of ITERATIONS REACHED LIMIT.\n",
      "\n",
      "Increase the number of iterations (max_iter) or scale the data as shown in:\n",
      "    https://scikit-learn.org/stable/modules/preprocessing.html\n",
      "Please also refer to the documentation for alternative solver options:\n",
      "    https://scikit-learn.org/stable/modules/linear_model.html#logistic-regression\n",
      "  n_iter_i = _check_optimize_result(\n"
     ]
    },
    {
     "name": "stdout",
     "output_type": "stream",
     "text": [
      "LR done\n",
      "LR done\n",
      "GNB done\n",
      "SVM done\n",
      "DT done\n",
      "RF done\n",
      "XGB done\n",
      "Building models . . . .\n"
     ]
    },
    {
     "name": "stderr",
     "output_type": "stream",
     "text": [
      "/opt/conda/envs/rapids/lib/python3.8/site-packages/sklearn/linear_model/_logistic.py:458: ConvergenceWarning: lbfgs failed to converge (status=1):\n",
      "STOP: TOTAL NO. of ITERATIONS REACHED LIMIT.\n",
      "\n",
      "Increase the number of iterations (max_iter) or scale the data as shown in:\n",
      "    https://scikit-learn.org/stable/modules/preprocessing.html\n",
      "Please also refer to the documentation for alternative solver options:\n",
      "    https://scikit-learn.org/stable/modules/linear_model.html#logistic-regression\n",
      "  n_iter_i = _check_optimize_result(\n"
     ]
    },
    {
     "name": "stdout",
     "output_type": "stream",
     "text": [
      "LR done\n",
      "LR done\n",
      "GNB done\n",
      "SVM done\n",
      "DT done\n",
      "RF done\n",
      "XGB done\n",
      "Building models . . . .\n"
     ]
    },
    {
     "name": "stderr",
     "output_type": "stream",
     "text": [
      "/opt/conda/envs/rapids/lib/python3.8/site-packages/sklearn/linear_model/_logistic.py:458: ConvergenceWarning: lbfgs failed to converge (status=1):\n",
      "STOP: TOTAL NO. of ITERATIONS REACHED LIMIT.\n",
      "\n",
      "Increase the number of iterations (max_iter) or scale the data as shown in:\n",
      "    https://scikit-learn.org/stable/modules/preprocessing.html\n",
      "Please also refer to the documentation for alternative solver options:\n",
      "    https://scikit-learn.org/stable/modules/linear_model.html#logistic-regression\n",
      "  n_iter_i = _check_optimize_result(\n"
     ]
    },
    {
     "name": "stdout",
     "output_type": "stream",
     "text": [
      "LR done\n",
      "LR done\n",
      "GNB done\n",
      "SVM done\n",
      "DT done\n",
      "RF done\n",
      "XGB done\n",
      "Building models . . . .\n"
     ]
    },
    {
     "name": "stderr",
     "output_type": "stream",
     "text": [
      "/opt/conda/envs/rapids/lib/python3.8/site-packages/sklearn/linear_model/_logistic.py:458: ConvergenceWarning: lbfgs failed to converge (status=1):\n",
      "STOP: TOTAL NO. of ITERATIONS REACHED LIMIT.\n",
      "\n",
      "Increase the number of iterations (max_iter) or scale the data as shown in:\n",
      "    https://scikit-learn.org/stable/modules/preprocessing.html\n",
      "Please also refer to the documentation for alternative solver options:\n",
      "    https://scikit-learn.org/stable/modules/linear_model.html#logistic-regression\n",
      "  n_iter_i = _check_optimize_result(\n"
     ]
    },
    {
     "name": "stdout",
     "output_type": "stream",
     "text": [
      "LR done\n",
      "LR done\n",
      "GNB done\n",
      "SVM done\n",
      "DT done\n",
      "RF done\n",
      "XGB done\n",
      "Building models . . . .\n"
     ]
    },
    {
     "name": "stderr",
     "output_type": "stream",
     "text": [
      "/opt/conda/envs/rapids/lib/python3.8/site-packages/sklearn/linear_model/_logistic.py:458: ConvergenceWarning: lbfgs failed to converge (status=1):\n",
      "STOP: TOTAL NO. of ITERATIONS REACHED LIMIT.\n",
      "\n",
      "Increase the number of iterations (max_iter) or scale the data as shown in:\n",
      "    https://scikit-learn.org/stable/modules/preprocessing.html\n",
      "Please also refer to the documentation for alternative solver options:\n",
      "    https://scikit-learn.org/stable/modules/linear_model.html#logistic-regression\n",
      "  n_iter_i = _check_optimize_result(\n"
     ]
    },
    {
     "name": "stdout",
     "output_type": "stream",
     "text": [
      "LR done\n",
      "LR done\n",
      "GNB done\n",
      "SVM done\n",
      "DT done\n",
      "RF done\n",
      "XGB done\n",
      "Building models . . . .\n"
     ]
    },
    {
     "name": "stderr",
     "output_type": "stream",
     "text": [
      "/opt/conda/envs/rapids/lib/python3.8/site-packages/sklearn/linear_model/_logistic.py:458: ConvergenceWarning: lbfgs failed to converge (status=1):\n",
      "STOP: TOTAL NO. of ITERATIONS REACHED LIMIT.\n",
      "\n",
      "Increase the number of iterations (max_iter) or scale the data as shown in:\n",
      "    https://scikit-learn.org/stable/modules/preprocessing.html\n",
      "Please also refer to the documentation for alternative solver options:\n",
      "    https://scikit-learn.org/stable/modules/linear_model.html#logistic-regression\n",
      "  n_iter_i = _check_optimize_result(\n"
     ]
    },
    {
     "name": "stdout",
     "output_type": "stream",
     "text": [
      "LR done\n",
      "LR done\n",
      "GNB done\n",
      "SVM done\n",
      "DT done\n",
      "RF done\n",
      "XGB done\n",
      "Building models . . . .\n"
     ]
    },
    {
     "name": "stderr",
     "output_type": "stream",
     "text": [
      "/opt/conda/envs/rapids/lib/python3.8/site-packages/sklearn/linear_model/_logistic.py:458: ConvergenceWarning: lbfgs failed to converge (status=1):\n",
      "STOP: TOTAL NO. of ITERATIONS REACHED LIMIT.\n",
      "\n",
      "Increase the number of iterations (max_iter) or scale the data as shown in:\n",
      "    https://scikit-learn.org/stable/modules/preprocessing.html\n",
      "Please also refer to the documentation for alternative solver options:\n",
      "    https://scikit-learn.org/stable/modules/linear_model.html#logistic-regression\n",
      "  n_iter_i = _check_optimize_result(\n"
     ]
    },
    {
     "name": "stdout",
     "output_type": "stream",
     "text": [
      "LR done\n",
      "LR done\n",
      "GNB done\n",
      "SVM done\n",
      "DT done\n",
      "RF done\n",
      "XGB done\n",
      "Building models . . . .\n"
     ]
    },
    {
     "name": "stderr",
     "output_type": "stream",
     "text": [
      "/opt/conda/envs/rapids/lib/python3.8/site-packages/sklearn/linear_model/_logistic.py:458: ConvergenceWarning: lbfgs failed to converge (status=1):\n",
      "STOP: TOTAL NO. of ITERATIONS REACHED LIMIT.\n",
      "\n",
      "Increase the number of iterations (max_iter) or scale the data as shown in:\n",
      "    https://scikit-learn.org/stable/modules/preprocessing.html\n",
      "Please also refer to the documentation for alternative solver options:\n",
      "    https://scikit-learn.org/stable/modules/linear_model.html#logistic-regression\n",
      "  n_iter_i = _check_optimize_result(\n"
     ]
    },
    {
     "name": "stdout",
     "output_type": "stream",
     "text": [
      "LR done\n",
      "LR done\n",
      "GNB done\n",
      "SVM done\n",
      "DT done\n",
      "RF done\n",
      "XGB done\n",
      "0LRModel\n",
      "0LassoModel\n",
      "0GNBModel\n",
      "0SVCModel\n",
      "0DTModel\n",
      "0RFModel\n",
      "0XGBoostModel\n",
      "1LRModel\n",
      "1LassoModel\n",
      "1GNBModel\n",
      "1SVCModel\n",
      "1DTModel\n",
      "1RFModel\n",
      "1XGBoostModel\n",
      "2LRModel\n",
      "2LassoModel\n",
      "2GNBModel\n",
      "2SVCModel\n",
      "2DTModel\n",
      "2RFModel\n",
      "2XGBoostModel\n",
      "3LRModel\n",
      "3LassoModel\n",
      "3GNBModel\n",
      "3SVCModel\n",
      "3DTModel\n",
      "3RFModel\n",
      "3XGBoostModel\n",
      "4LRModel\n",
      "4LassoModel\n",
      "4GNBModel\n",
      "4SVCModel\n",
      "4DTModel\n",
      "4RFModel\n",
      "4XGBoostModel\n",
      "5LRModel\n",
      "5LassoModel\n",
      "5GNBModel\n",
      "5SVCModel\n",
      "5DTModel\n",
      "5RFModel\n",
      "5XGBoostModel\n",
      "6LRModel\n",
      "6LassoModel\n",
      "6GNBModel\n",
      "6SVCModel\n",
      "6DTModel\n",
      "6RFModel\n",
      "6XGBoostModel\n",
      "7LRModel\n",
      "7LassoModel\n",
      "7GNBModel\n",
      "7SVCModel\n",
      "7DTModel\n",
      "7RFModel\n",
      "7XGBoostModel\n",
      "8LRModel\n",
      "8LassoModel\n",
      "8GNBModel\n",
      "8SVCModel\n",
      "8DTModel\n",
      "8RFModel\n",
      "8XGBoostModel\n",
      "9LRModel\n",
      "9LassoModel\n",
      "9GNBModel\n",
      "9SVCModel\n",
      "9DTModel\n",
      "9RFModel\n",
      "9XGBoostModel\n",
      "CPU times: user 1h 1min 58s, sys: 1min 37s, total: 1h 3min 36s\n",
      "Wall time: 1h 4min 33s\n"
     ]
    }
   ],
   "source": [
    "%%time\n",
    "\n",
    "#EXECUTE model training\n",
    "\n",
    "kf = StratifiedKFold(n_splits=n_splits, random_state=1234, shuffle=True)\n",
    "kf.get_n_splits(X)\n",
    "models1 = pd.DataFrame(columns=['modelname', 'class_ratio'])\n",
    "summary_result1 = []\n",
    "cols = ['model_name', 'class_ratio', 'acc','spec','sens','auc', 'auprc', 'balance_accuracy', 'f1_score', 'ppv', 'npv']\n",
    "split_counter = 0\n",
    "\n",
    "#train model\n",
    "for train_index, test_index in kf.split(X, y):\n",
    "    #split data\n",
    "    X_train, X_test = X.iloc[train_index], X.iloc[test_index]\n",
    "    y_train, y_test = y.iloc[train_index], y.iloc[test_index]\n",
    "    \n",
    "    #Build models -> it can be commented if the models have been trained\n",
    "    models_temp = pd.DataFrame(build_models(X_train, y_train[target_outcome], params, split_counter), columns=['modelname', 'class_ratio'])\n",
    "    models1 = pd.concat([models1,models_temp]).reset_index(drop=True)\n",
    "    split_counter+=1\n",
    "        \n",
    "#evaluate model\n",
    "for modelname, classratio in models1.values:\n",
    "    # print('======================================================================')\n",
    "    print(modelname)\n",
    "    model = pickle.load(open('./models/'+ target_outcome + '/'+ modelname + '.sav', 'rb'))\n",
    "    summary_result1.append((str(model), classratio, ) + summariseResult (X_test, y_test[target_outcome], model) )       \n",
    "\n",
    "\n",
    "summary_result1 = pd.DataFrame(summary_result1, columns=cols)\n",
    "summary_result1['model_num'] = summary_result1.index\n",
    "\n"
   ]
  },
  {
   "cell_type": "code",
   "execution_count": 51,
   "id": "552fe2d3-7c89-47cd-ae82-c10fb64cd3a8",
   "metadata": {},
   "outputs": [
    {
     "name": "stdout",
     "output_type": "stream",
     "text": [
      "outcome_3months\n"
     ]
    },
    {
     "data": {
      "text/html": [
       "<div>\n",
       "<style scoped>\n",
       "    .dataframe tbody tr th:only-of-type {\n",
       "        vertical-align: middle;\n",
       "    }\n",
       "\n",
       "    .dataframe tbody tr th {\n",
       "        vertical-align: top;\n",
       "    }\n",
       "\n",
       "    .dataframe thead th {\n",
       "        text-align: right;\n",
       "    }\n",
       "</style>\n",
       "<table border=\"1\" class=\"dataframe\">\n",
       "  <thead>\n",
       "    <tr style=\"text-align: right;\">\n",
       "      <th></th>\n",
       "      <th>class_ratio</th>\n",
       "      <th>acc</th>\n",
       "      <th>spec</th>\n",
       "      <th>sens</th>\n",
       "      <th>auc</th>\n",
       "      <th>auprc</th>\n",
       "      <th>balance_accuracy</th>\n",
       "      <th>f1_score</th>\n",
       "      <th>ppv</th>\n",
       "      <th>npv</th>\n",
       "      <th>model_num</th>\n",
       "    </tr>\n",
       "    <tr>\n",
       "      <th>model_name</th>\n",
       "      <th></th>\n",
       "      <th></th>\n",
       "      <th></th>\n",
       "      <th></th>\n",
       "      <th></th>\n",
       "      <th></th>\n",
       "      <th></th>\n",
       "      <th></th>\n",
       "      <th></th>\n",
       "      <th></th>\n",
       "      <th></th>\n",
       "    </tr>\n",
       "  </thead>\n",
       "  <tbody>\n",
       "    <tr>\n",
       "      <th>XGBoost</th>\n",
       "      <td>0.065697</td>\n",
       "      <td>0.99182</td>\n",
       "      <td>0.99676</td>\n",
       "      <td>0.91656</td>\n",
       "      <td>0.95666</td>\n",
       "      <td>0.90875</td>\n",
       "      <td>0.95666</td>\n",
       "      <td>0.91965</td>\n",
       "      <td>92.45991</td>\n",
       "      <td>99.46379</td>\n",
       "      <td>37.5</td>\n",
       "    </tr>\n",
       "    <tr>\n",
       "      <th>DT</th>\n",
       "      <td>0.065697</td>\n",
       "      <td>0.98948</td>\n",
       "      <td>0.99428</td>\n",
       "      <td>0.91635</td>\n",
       "      <td>0.95532</td>\n",
       "      <td>0.90718</td>\n",
       "      <td>0.95532</td>\n",
       "      <td>0.91576</td>\n",
       "      <td>91.52573</td>\n",
       "      <td>99.44914</td>\n",
       "      <td>35.5</td>\n",
       "    </tr>\n",
       "    <tr>\n",
       "      <th>RF</th>\n",
       "      <td>0.065697</td>\n",
       "      <td>0.99393</td>\n",
       "      <td>0.99981</td>\n",
       "      <td>0.90449</td>\n",
       "      <td>0.95215</td>\n",
       "      <td>0.90807</td>\n",
       "      <td>0.95215</td>\n",
       "      <td>0.90805</td>\n",
       "      <td>96.03916</td>\n",
       "      <td>99.40844</td>\n",
       "      <td>36.5</td>\n",
       "    </tr>\n",
       "    <tr>\n",
       "      <th>Lasso</th>\n",
       "      <td>0.065697</td>\n",
       "      <td>0.75722</td>\n",
       "      <td>0.76507</td>\n",
       "      <td>0.63769</td>\n",
       "      <td>0.70137</td>\n",
       "      <td>0.11886</td>\n",
       "      <td>0.70137</td>\n",
       "      <td>0.24465</td>\n",
       "      <td>15.13626</td>\n",
       "      <td>96.98220</td>\n",
       "      <td>32.5</td>\n",
       "    </tr>\n",
       "    <tr>\n",
       "      <th>LR</th>\n",
       "      <td>0.065697</td>\n",
       "      <td>0.75650</td>\n",
       "      <td>0.76470</td>\n",
       "      <td>0.63173</td>\n",
       "      <td>0.69821</td>\n",
       "      <td>0.11742</td>\n",
       "      <td>0.69821</td>\n",
       "      <td>0.24239</td>\n",
       "      <td>14.99635</td>\n",
       "      <td>96.93297</td>\n",
       "      <td>31.5</td>\n",
       "    </tr>\n",
       "    <tr>\n",
       "      <th>SVC</th>\n",
       "      <td>0.065697</td>\n",
       "      <td>0.84904</td>\n",
       "      <td>0.87852</td>\n",
       "      <td>0.40042</td>\n",
       "      <td>0.63944</td>\n",
       "      <td>0.10825</td>\n",
       "      <td>0.63944</td>\n",
       "      <td>0.24649</td>\n",
       "      <td>17.80205</td>\n",
       "      <td>95.70796</td>\n",
       "      <td>34.5</td>\n",
       "    </tr>\n",
       "    <tr>\n",
       "      <th>GNB</th>\n",
       "      <td>0.065697</td>\n",
       "      <td>0.87659</td>\n",
       "      <td>0.91100</td>\n",
       "      <td>0.35307</td>\n",
       "      <td>0.63203</td>\n",
       "      <td>0.11289</td>\n",
       "      <td>0.63203</td>\n",
       "      <td>0.26080</td>\n",
       "      <td>20.67649</td>\n",
       "      <td>95.54180</td>\n",
       "      <td>33.5</td>\n",
       "    </tr>\n",
       "  </tbody>\n",
       "</table>\n",
       "</div>"
      ],
      "text/plain": [
       "            class_ratio      acc     spec     sens      auc    auprc  \\\n",
       "model_name                                                             \n",
       "XGBoost        0.065697  0.99182  0.99676  0.91656  0.95666  0.90875   \n",
       "DT             0.065697  0.98948  0.99428  0.91635  0.95532  0.90718   \n",
       "RF             0.065697  0.99393  0.99981  0.90449  0.95215  0.90807   \n",
       "Lasso          0.065697  0.75722  0.76507  0.63769  0.70137  0.11886   \n",
       "LR             0.065697  0.75650  0.76470  0.63173  0.69821  0.11742   \n",
       "SVC            0.065697  0.84904  0.87852  0.40042  0.63944  0.10825   \n",
       "GNB            0.065697  0.87659  0.91100  0.35307  0.63203  0.11289   \n",
       "\n",
       "            balance_accuracy  f1_score       ppv       npv  model_num  \n",
       "model_name                                                             \n",
       "XGBoost              0.95666   0.91965  92.45991  99.46379       37.5  \n",
       "DT                   0.95532   0.91576  91.52573  99.44914       35.5  \n",
       "RF                   0.95215   0.90805  96.03916  99.40844       36.5  \n",
       "Lasso                0.70137   0.24465  15.13626  96.98220       32.5  \n",
       "LR                   0.69821   0.24239  14.99635  96.93297       31.5  \n",
       "SVC                  0.63944   0.24649  17.80205  95.70796       34.5  \n",
       "GNB                  0.63203   0.26080  20.67649  95.54180       33.5  "
      ]
     },
     "execution_count": 51,
     "metadata": {},
     "output_type": "execute_result"
    }
   ],
   "source": [
    "print(target_outcome)\n",
    "summary_result1['model_name'] = summary_result1.apply(lambda x: modelNameFixer(x.model_name), axis=1)\n",
    "summary_result1.groupby('model_name').mean().sort_values(['auc'], ascending=False)"
   ]
  },
  {
   "cell_type": "code",
   "execution_count": 52,
   "id": "b731a567-350a-409e-8bfd-dea303c9f7dc",
   "metadata": {},
   "outputs": [
    {
     "data": {
      "text/plain": [
       "Text(0.5, 6.79999999999999, 'Method')"
      ]
     },
     "execution_count": 52,
     "metadata": {},
     "output_type": "execute_result"
    },
    {
     "data": {
      "image/png": "[encoded data removed]",
      "text/plain": [
       "<Figure size 720x360 with 1 Axes>"
      ]
     },
     "metadata": {
      "needs_background": "light"
     },
     "output_type": "display_data"
    }
   ],
   "source": [
    "summary_result1.to_csv(\"summaryResult_outcome1.csv\")\n",
    "summary_result1 = pd.read_csv(\"summaryResult_outcome1.csv\")\n",
    "\n",
    "bar = sns.catplot(x = \"model_name\",       # x variable name\n",
    "            y = \"auc\",       # y variable name            \n",
    "            data = summary_result1,     # dataframe to plot\n",
    "            kind = \"bar\",\n",
    "            height=5,\n",
    "            aspect=5/2.5,\n",
    "            ci = None)\n",
    "ax = bar.facet_axis(0,0)\n",
    "for p in ax.patches:\n",
    "    ax.text(p.get_x() + 0.01, \n",
    "            p.get_height() * 1.01, \n",
    "            '{0:.4f}'.format(p.get_height()), \n",
    "            color='black', rotation='horizontal', fontsize=11)\n",
    "    \n",
    "# listOf_Yticks = np.arange(0.5, 0.7, 0.05)\n",
    "ax.set_ylim(0.4, 1)\n",
    "ax.set_ylabel('AUC Score', fontsize=11)\n",
    "ax.set_xlabel('Method', fontsize=11)"
   ]
  },
  {
   "cell_type": "code",
   "execution_count": 53,
   "id": "3831d05a-49bd-41a9-8294-8ddeae8bc2ce",
   "metadata": {},
   "outputs": [],
   "source": [
    "# kf = StratifiedKFold(n_splits=2, random_state=1234, shuffle=True)\n",
    "# kf.get_n_splits(X)\n",
    "# for train_index, test_index in kf.split(X, y):\n",
    "#     #split data\n",
    "#     X_train, X_test = X.iloc[train_index], X.iloc[test_index]\n",
    "#     y_train, y_test = y.iloc[train_index], y.iloc[test_index]\n",
    "#     trymodel = SVC(class_weight='balanced', C = 0.7, degree=2, kernel='poly', random_state=1234, cache_size=2048)\n",
    "#     trymodel.fit(X_train,y_train)\n",
    "#     print(summariseResult(X_test, y_test, trymodel))\n"
   ]
  },
  {
   "cell_type": "code",
   "execution_count": 58,
   "id": "baaabe03-0654-40e4-846c-26c3b1ebb50d",
   "metadata": {},
   "outputs": [
    {
     "data": {
      "image/png": "[encoded data removed]",
      "text/plain": [
       "<Figure size 360x504 with 1 Axes>"
      ]
     },
     "metadata": {
      "needs_background": "light"
     },
     "output_type": "display_data"
    }
   ],
   "source": [
    "best_model1 = pickle.load(open('./models/outcome_3months/0DTModel.sav', 'rb'))\n",
    "\n",
    "# pd.DataFrame([best_model3.feature_importances_], columns=X.columns).T.sort_values(0, ascending=False)\n",
    "sorted_idx = best_model1.feature_importances_.argsort()\n",
    "plt.figure(figsize=(5,7))\n",
    "plt.barh(X.columns[sorted_idx][-10:], best_model1.feature_importances_[sorted_idx][-10:])\n",
    "plt.xlabel(\"Decision Tree Feature Importance\")\n",
    "plt.show()"
   ]
  },
  {
   "cell_type": "code",
   "execution_count": 55,
   "id": "585071b8-244d-4f64-bd03-6cfcb038b749",
   "metadata": {},
   "outputs": [
    {
     "data": {
      "image/png": "[encoded data removed]",
      "text/plain": [
       "<Figure size 360x504 with 1 Axes>"
      ]
     },
     "metadata": {
      "needs_background": "light"
     },
     "output_type": "display_data"
    }
   ],
   "source": [
    "best_model1 = pickle.load(open('./models/outcome_3months/0RFModel.sav', 'rb'))\n",
    "\n",
    "# pd.DataFrame([best_model3.feature_importances_], columns=X.columns).T.sort_values(0, ascending=False)\n",
    "sorted_idx = best_model1.feature_importances_.argsort()\n",
    "plt.figure(figsize=(5,7))\n",
    "plt.barh(X.columns[sorted_idx][-10:], best_model1.feature_importances_[sorted_idx][-10:])\n",
    "plt.xlabel(\"Random Forest Feature Importance\")\n",
    "plt.show()"
   ]
  },
  {
   "cell_type": "code",
   "execution_count": 59,
   "id": "7e292a9c-e922-4f1d-8655-ff243fb4f1e6",
   "metadata": {},
   "outputs": [
    {
     "data": {
      "image/png": "[encoded data removed]",
      "text/plain": [
       "<Figure size 360x504 with 1 Axes>"
      ]
     },
     "metadata": {
      "needs_background": "light"
     },
     "output_type": "display_data"
    }
   ],
   "source": [
    "best_model1 = pickle.load(open('./models/outcome_3months/0XGBoostModel.sav', 'rb'))\n",
    "\n",
    "# pd.DataFrame([best_model3.feature_importances_], columns=X.columns).T.sort_values(0, ascending=False)\n",
    "sorted_idx = best_model1.feature_importances_.argsort()\n",
    "plt.figure(figsize=(5,7))\n",
    "plt.barh(X.columns[sorted_idx][-10:], best_model1.feature_importances_[sorted_idx][-10:])\n",
    "plt.xlabel(\"XGBoost Feature Importance\")\n",
    "plt.show()"
   ]
  },
  {
   "cell_type": "markdown",
   "id": "76596db2-c810-4c3a-b724-e59b6f9cd19a",
   "metadata": {},
   "source": [
    "# 6months"
   ]
  },
  {
   "cell_type": "code",
   "execution_count": 33,
   "id": "4ae588b5-980f-4712-bfef-e84dfcb1c902",
   "metadata": {},
   "outputs": [],
   "source": [
    "target_outcome = 'outcome_combined_6months'\n",
    "y = trainingData[[target_outcome]]\n",
    "\n",
    "#model parameters\n",
    "params = {'xgb_lr': 0.6,\n",
    "         'xgb_maxdepth': 7}"
   ]
  },
  {
   "cell_type": "code",
   "execution_count": 34,
   "id": "70c88a10-ffac-4051-82e6-0866d4c3b28b",
   "metadata": {
    "scrolled": true,
    "tags": []
   },
   "outputs": [
    {
     "name": "stdout",
     "output_type": "stream",
     "text": [
      "Building models . . . .\n"
     ]
    },
    {
     "name": "stderr",
     "output_type": "stream",
     "text": [
      "/opt/conda/envs/rapids/lib/python3.8/site-packages/sklearn/linear_model/_logistic.py:458: ConvergenceWarning: lbfgs failed to converge (status=1):\n",
      "STOP: TOTAL NO. of ITERATIONS REACHED LIMIT.\n",
      "\n",
      "Increase the number of iterations (max_iter) or scale the data as shown in:\n",
      "    https://scikit-learn.org/stable/modules/preprocessing.html\n",
      "Please also refer to the documentation for alternative solver options:\n",
      "    https://scikit-learn.org/stable/modules/linear_model.html#logistic-regression\n",
      "  n_iter_i = _check_optimize_result(\n"
     ]
    },
    {
     "name": "stdout",
     "output_type": "stream",
     "text": [
      "LR done\n",
      "LR done\n",
      "GNB done\n",
      "SVM done\n",
      "DT done\n",
      "RF done\n",
      "XGB done\n",
      "Building models . . . .\n"
     ]
    },
    {
     "name": "stderr",
     "output_type": "stream",
     "text": [
      "/opt/conda/envs/rapids/lib/python3.8/site-packages/sklearn/linear_model/_logistic.py:458: ConvergenceWarning: lbfgs failed to converge (status=1):\n",
      "STOP: TOTAL NO. of ITERATIONS REACHED LIMIT.\n",
      "\n",
      "Increase the number of iterations (max_iter) or scale the data as shown in:\n",
      "    https://scikit-learn.org/stable/modules/preprocessing.html\n",
      "Please also refer to the documentation for alternative solver options:\n",
      "    https://scikit-learn.org/stable/modules/linear_model.html#logistic-regression\n",
      "  n_iter_i = _check_optimize_result(\n"
     ]
    },
    {
     "name": "stdout",
     "output_type": "stream",
     "text": [
      "LR done\n",
      "LR done\n",
      "GNB done\n",
      "SVM done\n",
      "DT done\n",
      "RF done\n",
      "XGB done\n",
      "Building models . . . .\n"
     ]
    },
    {
     "name": "stderr",
     "output_type": "stream",
     "text": [
      "/opt/conda/envs/rapids/lib/python3.8/site-packages/sklearn/linear_model/_logistic.py:458: ConvergenceWarning: lbfgs failed to converge (status=1):\n",
      "STOP: TOTAL NO. of ITERATIONS REACHED LIMIT.\n",
      "\n",
      "Increase the number of iterations (max_iter) or scale the data as shown in:\n",
      "    https://scikit-learn.org/stable/modules/preprocessing.html\n",
      "Please also refer to the documentation for alternative solver options:\n",
      "    https://scikit-learn.org/stable/modules/linear_model.html#logistic-regression\n",
      "  n_iter_i = _check_optimize_result(\n"
     ]
    },
    {
     "name": "stdout",
     "output_type": "stream",
     "text": [
      "LR done\n",
      "LR done\n",
      "GNB done\n",
      "SVM done\n",
      "DT done\n",
      "RF done\n",
      "XGB done\n",
      "Building models . . . .\n"
     ]
    },
    {
     "name": "stderr",
     "output_type": "stream",
     "text": [
      "/opt/conda/envs/rapids/lib/python3.8/site-packages/sklearn/linear_model/_logistic.py:458: ConvergenceWarning: lbfgs failed to converge (status=1):\n",
      "STOP: TOTAL NO. of ITERATIONS REACHED LIMIT.\n",
      "\n",
      "Increase the number of iterations (max_iter) or scale the data as shown in:\n",
      "    https://scikit-learn.org/stable/modules/preprocessing.html\n",
      "Please also refer to the documentation for alternative solver options:\n",
      "    https://scikit-learn.org/stable/modules/linear_model.html#logistic-regression\n",
      "  n_iter_i = _check_optimize_result(\n"
     ]
    },
    {
     "name": "stdout",
     "output_type": "stream",
     "text": [
      "LR done\n",
      "LR done\n",
      "GNB done\n",
      "SVM done\n",
      "DT done\n",
      "RF done\n",
      "XGB done\n",
      "Building models . . . .\n"
     ]
    },
    {
     "name": "stderr",
     "output_type": "stream",
     "text": [
      "/opt/conda/envs/rapids/lib/python3.8/site-packages/sklearn/linear_model/_logistic.py:458: ConvergenceWarning: lbfgs failed to converge (status=1):\n",
      "STOP: TOTAL NO. of ITERATIONS REACHED LIMIT.\n",
      "\n",
      "Increase the number of iterations (max_iter) or scale the data as shown in:\n",
      "    https://scikit-learn.org/stable/modules/preprocessing.html\n",
      "Please also refer to the documentation for alternative solver options:\n",
      "    https://scikit-learn.org/stable/modules/linear_model.html#logistic-regression\n",
      "  n_iter_i = _check_optimize_result(\n"
     ]
    },
    {
     "name": "stdout",
     "output_type": "stream",
     "text": [
      "LR done\n",
      "LR done\n",
      "GNB done\n",
      "SVM done\n",
      "DT done\n",
      "RF done\n",
      "XGB done\n",
      "Building models . . . .\n"
     ]
    },
    {
     "name": "stderr",
     "output_type": "stream",
     "text": [
      "/opt/conda/envs/rapids/lib/python3.8/site-packages/sklearn/linear_model/_logistic.py:458: ConvergenceWarning: lbfgs failed to converge (status=1):\n",
      "STOP: TOTAL NO. of ITERATIONS REACHED LIMIT.\n",
      "\n",
      "Increase the number of iterations (max_iter) or scale the data as shown in:\n",
      "    https://scikit-learn.org/stable/modules/preprocessing.html\n",
      "Please also refer to the documentation for alternative solver options:\n",
      "    https://scikit-learn.org/stable/modules/linear_model.html#logistic-regression\n",
      "  n_iter_i = _check_optimize_result(\n"
     ]
    },
    {
     "name": "stdout",
     "output_type": "stream",
     "text": [
      "LR done\n",
      "LR done\n",
      "GNB done\n",
      "SVM done\n",
      "DT done\n",
      "RF done\n",
      "XGB done\n",
      "Building models . . . .\n"
     ]
    },
    {
     "name": "stderr",
     "output_type": "stream",
     "text": [
      "/opt/conda/envs/rapids/lib/python3.8/site-packages/sklearn/linear_model/_logistic.py:458: ConvergenceWarning: lbfgs failed to converge (status=1):\n",
      "STOP: TOTAL NO. of ITERATIONS REACHED LIMIT.\n",
      "\n",
      "Increase the number of iterations (max_iter) or scale the data as shown in:\n",
      "    https://scikit-learn.org/stable/modules/preprocessing.html\n",
      "Please also refer to the documentation for alternative solver options:\n",
      "    https://scikit-learn.org/stable/modules/linear_model.html#logistic-regression\n",
      "  n_iter_i = _check_optimize_result(\n"
     ]
    },
    {
     "name": "stdout",
     "output_type": "stream",
     "text": [
      "LR done\n",
      "LR done\n",
      "GNB done\n",
      "SVM done\n",
      "DT done\n",
      "RF done\n",
      "XGB done\n",
      "Building models . . . .\n"
     ]
    },
    {
     "name": "stderr",
     "output_type": "stream",
     "text": [
      "/opt/conda/envs/rapids/lib/python3.8/site-packages/sklearn/linear_model/_logistic.py:458: ConvergenceWarning: lbfgs failed to converge (status=1):\n",
      "STOP: TOTAL NO. of ITERATIONS REACHED LIMIT.\n",
      "\n",
      "Increase the number of iterations (max_iter) or scale the data as shown in:\n",
      "    https://scikit-learn.org/stable/modules/preprocessing.html\n",
      "Please also refer to the documentation for alternative solver options:\n",
      "    https://scikit-learn.org/stable/modules/linear_model.html#logistic-regression\n",
      "  n_iter_i = _check_optimize_result(\n"
     ]
    },
    {
     "name": "stdout",
     "output_type": "stream",
     "text": [
      "LR done\n",
      "LR done\n",
      "GNB done\n",
      "SVM done\n",
      "DT done\n",
      "RF done\n",
      "XGB done\n",
      "Building models . . . .\n"
     ]
    },
    {
     "name": "stderr",
     "output_type": "stream",
     "text": [
      "/opt/conda/envs/rapids/lib/python3.8/site-packages/sklearn/linear_model/_logistic.py:458: ConvergenceWarning: lbfgs failed to converge (status=1):\n",
      "STOP: TOTAL NO. of ITERATIONS REACHED LIMIT.\n",
      "\n",
      "Increase the number of iterations (max_iter) or scale the data as shown in:\n",
      "    https://scikit-learn.org/stable/modules/preprocessing.html\n",
      "Please also refer to the documentation for alternative solver options:\n",
      "    https://scikit-learn.org/stable/modules/linear_model.html#logistic-regression\n",
      "  n_iter_i = _check_optimize_result(\n"
     ]
    },
    {
     "name": "stdout",
     "output_type": "stream",
     "text": [
      "LR done\n",
      "LR done\n",
      "GNB done\n",
      "SVM done\n",
      "DT done\n",
      "RF done\n",
      "XGB done\n",
      "Building models . . . .\n"
     ]
    },
    {
     "name": "stderr",
     "output_type": "stream",
     "text": [
      "/opt/conda/envs/rapids/lib/python3.8/site-packages/sklearn/linear_model/_logistic.py:458: ConvergenceWarning: lbfgs failed to converge (status=1):\n",
      "STOP: TOTAL NO. of ITERATIONS REACHED LIMIT.\n",
      "\n",
      "Increase the number of iterations (max_iter) or scale the data as shown in:\n",
      "    https://scikit-learn.org/stable/modules/preprocessing.html\n",
      "Please also refer to the documentation for alternative solver options:\n",
      "    https://scikit-learn.org/stable/modules/linear_model.html#logistic-regression\n",
      "  n_iter_i = _check_optimize_result(\n"
     ]
    },
    {
     "name": "stdout",
     "output_type": "stream",
     "text": [
      "LR done\n",
      "LR done\n",
      "GNB done\n",
      "SVM done\n",
      "DT done\n",
      "RF done\n",
      "XGB done\n",
      "0LRModel\n",
      "0LassoModel\n",
      "0GNBModel\n",
      "0SVCModel\n",
      "0DTModel\n",
      "0RFModel\n",
      "0XGBoostModel\n",
      "1LRModel\n",
      "1LassoModel\n",
      "1GNBModel\n",
      "1SVCModel\n",
      "1DTModel\n",
      "1RFModel\n",
      "1XGBoostModel\n",
      "2LRModel\n",
      "2LassoModel\n",
      "2GNBModel\n",
      "2SVCModel\n",
      "2DTModel\n",
      "2RFModel\n",
      "2XGBoostModel\n",
      "3LRModel\n",
      "3LassoModel\n",
      "3GNBModel\n",
      "3SVCModel\n",
      "3DTModel\n",
      "3RFModel\n",
      "3XGBoostModel\n",
      "4LRModel\n",
      "4LassoModel\n",
      "4GNBModel\n",
      "4SVCModel\n",
      "4DTModel\n",
      "4RFModel\n",
      "4XGBoostModel\n",
      "5LRModel\n",
      "5LassoModel\n",
      "5GNBModel\n",
      "5SVCModel\n",
      "5DTModel\n",
      "5RFModel\n",
      "5XGBoostModel\n",
      "6LRModel\n",
      "6LassoModel\n",
      "6GNBModel\n",
      "6SVCModel\n",
      "6DTModel\n",
      "6RFModel\n",
      "6XGBoostModel\n",
      "7LRModel\n",
      "7LassoModel\n",
      "7GNBModel\n",
      "7SVCModel\n",
      "7DTModel\n",
      "7RFModel\n",
      "7XGBoostModel\n",
      "8LRModel\n",
      "8LassoModel\n",
      "8GNBModel\n",
      "8SVCModel\n",
      "8DTModel\n",
      "8RFModel\n",
      "8XGBoostModel\n",
      "9LRModel\n",
      "9LassoModel\n",
      "9GNBModel\n",
      "9SVCModel\n",
      "9DTModel\n",
      "9RFModel\n",
      "9XGBoostModel\n",
      "CPU times: user 1h 11min 28s, sys: 2min 6s, total: 1h 13min 34s\n",
      "Wall time: 1h 14min 55s\n"
     ]
    }
   ],
   "source": [
    "%%time\n",
    "\n",
    "#EXECUTE model training\n",
    "\n",
    "kf = StratifiedKFold(n_splits=n_splits, random_state=1234, shuffle=True)\n",
    "kf.get_n_splits(X)\n",
    "models2 = pd.DataFrame(columns=['modelname', 'class_ratio'])\n",
    "summary_result2 = []\n",
    "cols = ['model_name', 'class_ratio', 'acc','spec','sens','auc', 'auprc', 'balance_accuracy', 'f1_score', 'ppv', 'npv']\n",
    "split_counter = 0\n",
    "\n",
    "#train model\n",
    "for train_index, test_index in kf.split(X, y):\n",
    "    #split data\n",
    "    X_train, X_test = X.iloc[train_index], X.iloc[test_index]\n",
    "    y_train, y_test = y.iloc[train_index], y.iloc[test_index]\n",
    "    \n",
    "    #Build models -> it can be commented if the models have been trained\n",
    "    models_temp = pd.DataFrame(build_models(X_train, y_train[target_outcome], params, split_counter), columns=['modelname', 'class_ratio'])\n",
    "    models2 = pd.concat([models2,models_temp]).reset_index(drop=True)\n",
    "    split_counter+=1\n",
    "        \n",
    "#evaluate model\n",
    "for modelname, classratio in models2.values:\n",
    "    # print('======================================================================')\n",
    "    print(modelname)\n",
    "    model = pickle.load(open('./models/'+ target_outcome + '/'+ modelname + '.sav', 'rb'))\n",
    "    summary_result2.append((str(model), classratio, ) + summariseResult (X_test, y_test[target_outcome], model) )       \n",
    "\n",
    "\n",
    "summary_result2 = pd.DataFrame(summary_result2, columns=cols)\n",
    "summary_result2['model_num'] = summary_result2.index\n",
    "# summary_result1['method_name'] = summary_result1.apply(lambda x: 'LR' if x.model_num%2 == 0 else 'XGBoost', axis=1)\n"
   ]
  },
  {
   "cell_type": "code",
   "execution_count": 35,
   "id": "d11f1f49-3ade-41c8-82d1-8d346211c299",
   "metadata": {},
   "outputs": [
    {
     "name": "stdout",
     "output_type": "stream",
     "text": [
      "outcome_combined_6months\n"
     ]
    },
    {
     "data": {
      "text/html": [
       "<div>\n",
       "<style scoped>\n",
       "    .dataframe tbody tr th:only-of-type {\n",
       "        vertical-align: middle;\n",
       "    }\n",
       "\n",
       "    .dataframe tbody tr th {\n",
       "        vertical-align: top;\n",
       "    }\n",
       "\n",
       "    .dataframe thead th {\n",
       "        text-align: right;\n",
       "    }\n",
       "</style>\n",
       "<table border=\"1\" class=\"dataframe\">\n",
       "  <thead>\n",
       "    <tr style=\"text-align: right;\">\n",
       "      <th></th>\n",
       "      <th>class_ratio</th>\n",
       "      <th>acc</th>\n",
       "      <th>spec</th>\n",
       "      <th>sens</th>\n",
       "      <th>auc</th>\n",
       "      <th>auprc</th>\n",
       "      <th>balance_accuracy</th>\n",
       "      <th>f1_score</th>\n",
       "      <th>ppv</th>\n",
       "      <th>npv</th>\n",
       "      <th>model_num</th>\n",
       "    </tr>\n",
       "    <tr>\n",
       "      <th>model_name</th>\n",
       "      <th></th>\n",
       "      <th></th>\n",
       "      <th></th>\n",
       "      <th></th>\n",
       "      <th></th>\n",
       "      <th></th>\n",
       "      <th></th>\n",
       "      <th></th>\n",
       "      <th></th>\n",
       "      <th></th>\n",
       "      <th></th>\n",
       "    </tr>\n",
       "  </thead>\n",
       "  <tbody>\n",
       "    <tr>\n",
       "      <th>XGBoost</th>\n",
       "      <td>0.102161</td>\n",
       "      <td>0.98771</td>\n",
       "      <td>0.99442</td>\n",
       "      <td>0.92217</td>\n",
       "      <td>0.95829</td>\n",
       "      <td>0.91211</td>\n",
       "      <td>0.95829</td>\n",
       "      <td>0.92447</td>\n",
       "      <td>92.78181</td>\n",
       "      <td>99.22415</td>\n",
       "      <td>37.5</td>\n",
       "    </tr>\n",
       "    <tr>\n",
       "      <th>DT</th>\n",
       "      <td>0.102161</td>\n",
       "      <td>0.98565</td>\n",
       "      <td>0.99204</td>\n",
       "      <td>0.92315</td>\n",
       "      <td>0.95759</td>\n",
       "      <td>0.91203</td>\n",
       "      <td>0.95759</td>\n",
       "      <td>0.92287</td>\n",
       "      <td>92.25371</td>\n",
       "      <td>99.21373</td>\n",
       "      <td>35.5</td>\n",
       "    </tr>\n",
       "    <tr>\n",
       "      <th>RF</th>\n",
       "      <td>0.102161</td>\n",
       "      <td>0.99114</td>\n",
       "      <td>0.99959</td>\n",
       "      <td>0.90849</td>\n",
       "      <td>0.95404</td>\n",
       "      <td>0.91383</td>\n",
       "      <td>0.95404</td>\n",
       "      <td>0.91493</td>\n",
       "      <td>96.72852</td>\n",
       "      <td>99.14153</td>\n",
       "      <td>36.5</td>\n",
       "    </tr>\n",
       "    <tr>\n",
       "      <th>Lasso</th>\n",
       "      <td>0.102161</td>\n",
       "      <td>0.75989</td>\n",
       "      <td>0.77285</td>\n",
       "      <td>0.63308</td>\n",
       "      <td>0.70299</td>\n",
       "      <td>0.17438</td>\n",
       "      <td>0.70299</td>\n",
       "      <td>0.32839</td>\n",
       "      <td>22.17008</td>\n",
       "      <td>95.37264</td>\n",
       "      <td>32.5</td>\n",
       "    </tr>\n",
       "    <tr>\n",
       "      <th>LR</th>\n",
       "      <td>0.102161</td>\n",
       "      <td>0.76090</td>\n",
       "      <td>0.77531</td>\n",
       "      <td>0.61998</td>\n",
       "      <td>0.69763</td>\n",
       "      <td>0.17161</td>\n",
       "      <td>0.69763</td>\n",
       "      <td>0.32472</td>\n",
       "      <td>21.99764</td>\n",
       "      <td>95.22959</td>\n",
       "      <td>31.5</td>\n",
       "    </tr>\n",
       "    <tr>\n",
       "      <th>GNB</th>\n",
       "      <td>0.102161</td>\n",
       "      <td>0.85759</td>\n",
       "      <td>0.90792</td>\n",
       "      <td>0.36503</td>\n",
       "      <td>0.63648</td>\n",
       "      <td>0.16414</td>\n",
       "      <td>0.63648</td>\n",
       "      <td>0.32220</td>\n",
       "      <td>28.83563</td>\n",
       "      <td>93.32958</td>\n",
       "      <td>33.5</td>\n",
       "    </tr>\n",
       "    <tr>\n",
       "      <th>SVC</th>\n",
       "      <td>0.102161</td>\n",
       "      <td>0.83690</td>\n",
       "      <td>0.88307</td>\n",
       "      <td>0.38516</td>\n",
       "      <td>0.63410</td>\n",
       "      <td>0.15400</td>\n",
       "      <td>0.63410</td>\n",
       "      <td>0.30454</td>\n",
       "      <td>25.18482</td>\n",
       "      <td>93.35703</td>\n",
       "      <td>34.5</td>\n",
       "    </tr>\n",
       "  </tbody>\n",
       "</table>\n",
       "</div>"
      ],
      "text/plain": [
       "            class_ratio      acc     spec     sens      auc    auprc  \\\n",
       "model_name                                                             \n",
       "XGBoost        0.102161  0.98771  0.99442  0.92217  0.95829  0.91211   \n",
       "DT             0.102161  0.98565  0.99204  0.92315  0.95759  0.91203   \n",
       "RF             0.102161  0.99114  0.99959  0.90849  0.95404  0.91383   \n",
       "Lasso          0.102161  0.75989  0.77285  0.63308  0.70299  0.17438   \n",
       "LR             0.102161  0.76090  0.77531  0.61998  0.69763  0.17161   \n",
       "GNB            0.102161  0.85759  0.90792  0.36503  0.63648  0.16414   \n",
       "SVC            0.102161  0.83690  0.88307  0.38516  0.63410  0.15400   \n",
       "\n",
       "            balance_accuracy  f1_score       ppv       npv  model_num  \n",
       "model_name                                                             \n",
       "XGBoost              0.95829   0.92447  92.78181  99.22415       37.5  \n",
       "DT                   0.95759   0.92287  92.25371  99.21373       35.5  \n",
       "RF                   0.95404   0.91493  96.72852  99.14153       36.5  \n",
       "Lasso                0.70299   0.32839  22.17008  95.37264       32.5  \n",
       "LR                   0.69763   0.32472  21.99764  95.22959       31.5  \n",
       "GNB                  0.63648   0.32220  28.83563  93.32958       33.5  \n",
       "SVC                  0.63410   0.30454  25.18482  93.35703       34.5  "
      ]
     },
     "execution_count": 35,
     "metadata": {},
     "output_type": "execute_result"
    }
   ],
   "source": [
    "print(target_outcome)\n",
    "summary_result2['model_name'] = summary_result2.apply(lambda x: modelNameFixer(x.model_name), axis=1)\n",
    "summary_result2.groupby('model_name').mean().sort_values(['auc'], ascending=False)"
   ]
  },
  {
   "cell_type": "code",
   "execution_count": 36,
   "id": "8506386d-27a9-49fa-856b-a5683e7144e9",
   "metadata": {},
   "outputs": [
    {
     "data": {
      "text/plain": [
       "Text(0.5, 6.79999999999999, 'Method')"
      ]
     },
     "execution_count": 36,
     "metadata": {},
     "output_type": "execute_result"
    },
    {
     "data": {
      "image/png": "[encoded data removed]",
      "text/plain": [
       "<Figure size 720x360 with 1 Axes>"
      ]
     },
     "metadata": {
      "needs_background": "light"
     },
     "output_type": "display_data"
    }
   ],
   "source": [
    "summary_result2.to_csv(\"summaryResult_outcome2.csv\")\n",
    "summary_result2 = pd.read_csv(\"summaryResult_outcome2.csv\")\n",
    "\n",
    "bar = sns.catplot(x = \"model_name\",       # x variable name\n",
    "            y = \"auc\",       # y variable name            \n",
    "            data = summary_result2,     # dataframe to plot\n",
    "            kind = \"bar\",\n",
    "            height=5,\n",
    "            aspect=5/2.5,\n",
    "            ci = None)\n",
    "ax = bar.facet_axis(0,0)\n",
    "for p in ax.patches:\n",
    "    ax.text(p.get_x() + 0.01, \n",
    "            p.get_height() * 1.01, \n",
    "            '{0:.4f}'.format(p.get_height()), \n",
    "            color='black', rotation='horizontal', fontsize=11)\n",
    "    \n",
    "# listOf_Yticks = np.arange(0.5, 0.7, 0.05)\n",
    "ax.set_ylim(0.4, 1)\n",
    "ax.set_ylabel('AUC Score', fontsize=11)\n",
    "ax.set_xlabel('Method', fontsize=11)"
   ]
  },
  {
   "cell_type": "code",
   "execution_count": 60,
   "id": "10426f78-d63b-4430-aa28-9781fe41a744",
   "metadata": {},
   "outputs": [
    {
     "data": {
      "image/png": "[encoded data removed]",
      "text/plain": [
       "<Figure size 360x504 with 1 Axes>"
      ]
     },
     "metadata": {
      "needs_background": "light"
     },
     "output_type": "display_data"
    }
   ],
   "source": [
    "best_model2 = pickle.load(open('./models/outcome_combined_6months/0DTModel.sav', 'rb'))\n",
    "\n",
    "# pd.DataFrame([best_model3.feature_importances_], columns=X.columns).T.sort_values(0, ascending=False)\n",
    "sorted_idx = best_model2.feature_importances_.argsort()\n",
    "plt.figure(figsize=(5,7))\n",
    "plt.barh(X.columns[sorted_idx][-10:], best_model2.feature_importances_[sorted_idx][-10:])\n",
    "plt.xlabel(\"Decision Tree Feature Importance\")\n",
    "plt.show()"
   ]
  },
  {
   "cell_type": "code",
   "execution_count": 38,
   "id": "a3090a2a-1dcd-4723-8538-acc2ecafd220",
   "metadata": {},
   "outputs": [
    {
     "data": {
      "image/png": "[encoded data removed]",
      "text/plain": [
       "<Figure size 360x504 with 1 Axes>"
      ]
     },
     "metadata": {
      "needs_background": "light"
     },
     "output_type": "display_data"
    }
   ],
   "source": [
    "best_model2 = pickle.load(open('./models/outcome_combined_6months/0RFModel.sav', 'rb'))\n",
    "\n",
    "# pd.DataFrame([best_model3.feature_importances_], columns=X.columns).T.sort_values(0, ascending=False)\n",
    "sorted_idx = best_model2.feature_importances_.argsort()\n",
    "plt.figure(figsize=(5,7))\n",
    "plt.barh(X.columns[sorted_idx][-10:], best_model2.feature_importances_[sorted_idx][-10:])\n",
    "plt.xlabel(\"Random Forest Feature Importance\")\n",
    "plt.show()"
   ]
  },
  {
   "cell_type": "code",
   "execution_count": 61,
   "id": "e4ca7472-0652-49bd-aef2-81ca61469336",
   "metadata": {},
   "outputs": [
    {
     "data": {
      "image/png": "[encoded data removed]",
      "text/plain": [
       "<Figure size 360x504 with 1 Axes>"
      ]
     },
     "metadata": {
      "needs_background": "light"
     },
     "output_type": "display_data"
    }
   ],
   "source": [
    "best_model2 = pickle.load(open('./models/outcome_combined_6months/0XGBoostModel.sav', 'rb'))\n",
    "\n",
    "# pd.DataFrame([best_model3.feature_importances_], columns=X.columns).T.sort_values(0, ascending=False)\n",
    "sorted_idx = best_model2.feature_importances_.argsort()\n",
    "plt.figure(figsize=(5,7))\n",
    "plt.barh(X.columns[sorted_idx][-10:], best_model2.feature_importances_[sorted_idx][-10:])\n",
    "plt.xlabel(\"XGBoost Feature Importance\")\n",
    "plt.show()"
   ]
  },
  {
   "cell_type": "markdown",
   "id": "0c9953e6-6fc4-481c-a5dc-5be9e2d97063",
   "metadata": {},
   "source": [
    "# 12 months"
   ]
  },
  {
   "cell_type": "code",
   "execution_count": 42,
   "id": "bfe3cacf-85d8-4889-b3f7-b0653c74d935",
   "metadata": {},
   "outputs": [],
   "source": [
    "target_outcome = 'outcome_combined_12months'\n",
    "y = trainingData[[target_outcome]]\n",
    "\n",
    "#model parameters\n",
    "params = {'xgb_lr': 0.6,\n",
    "         'xgb_maxdepth': 10}"
   ]
  },
  {
   "cell_type": "code",
   "execution_count": 43,
   "id": "8b801fbf-b23b-4c62-8e31-083cd3b5635f",
   "metadata": {
    "scrolled": true,
    "tags": []
   },
   "outputs": [
    {
     "name": "stdout",
     "output_type": "stream",
     "text": [
      "Building models . . . .\n"
     ]
    },
    {
     "name": "stderr",
     "output_type": "stream",
     "text": [
      "/opt/conda/envs/rapids/lib/python3.8/site-packages/sklearn/linear_model/_logistic.py:458: ConvergenceWarning: lbfgs failed to converge (status=1):\n",
      "STOP: TOTAL NO. of ITERATIONS REACHED LIMIT.\n",
      "\n",
      "Increase the number of iterations (max_iter) or scale the data as shown in:\n",
      "    https://scikit-learn.org/stable/modules/preprocessing.html\n",
      "Please also refer to the documentation for alternative solver options:\n",
      "    https://scikit-learn.org/stable/modules/linear_model.html#logistic-regression\n",
      "  n_iter_i = _check_optimize_result(\n"
     ]
    },
    {
     "name": "stdout",
     "output_type": "stream",
     "text": [
      "LR done\n",
      "LR done\n",
      "GNB done\n",
      "SVM done\n",
      "DT done\n",
      "RF done\n",
      "XGB done\n",
      "Building models . . . .\n"
     ]
    },
    {
     "name": "stderr",
     "output_type": "stream",
     "text": [
      "/opt/conda/envs/rapids/lib/python3.8/site-packages/sklearn/linear_model/_logistic.py:458: ConvergenceWarning: lbfgs failed to converge (status=1):\n",
      "STOP: TOTAL NO. of ITERATIONS REACHED LIMIT.\n",
      "\n",
      "Increase the number of iterations (max_iter) or scale the data as shown in:\n",
      "    https://scikit-learn.org/stable/modules/preprocessing.html\n",
      "Please also refer to the documentation for alternative solver options:\n",
      "    https://scikit-learn.org/stable/modules/linear_model.html#logistic-regression\n",
      "  n_iter_i = _check_optimize_result(\n"
     ]
    },
    {
     "name": "stdout",
     "output_type": "stream",
     "text": [
      "LR done\n",
      "LR done\n",
      "GNB done\n",
      "SVM done\n",
      "DT done\n",
      "RF done\n",
      "XGB done\n",
      "Building models . . . .\n"
     ]
    },
    {
     "name": "stderr",
     "output_type": "stream",
     "text": [
      "/opt/conda/envs/rapids/lib/python3.8/site-packages/sklearn/linear_model/_logistic.py:458: ConvergenceWarning: lbfgs failed to converge (status=1):\n",
      "STOP: TOTAL NO. of ITERATIONS REACHED LIMIT.\n",
      "\n",
      "Increase the number of iterations (max_iter) or scale the data as shown in:\n",
      "    https://scikit-learn.org/stable/modules/preprocessing.html\n",
      "Please also refer to the documentation for alternative solver options:\n",
      "    https://scikit-learn.org/stable/modules/linear_model.html#logistic-regression\n",
      "  n_iter_i = _check_optimize_result(\n"
     ]
    },
    {
     "name": "stdout",
     "output_type": "stream",
     "text": [
      "LR done\n",
      "LR done\n",
      "GNB done\n",
      "SVM done\n",
      "DT done\n",
      "RF done\n",
      "XGB done\n",
      "Building models . . . .\n"
     ]
    },
    {
     "name": "stderr",
     "output_type": "stream",
     "text": [
      "/opt/conda/envs/rapids/lib/python3.8/site-packages/sklearn/linear_model/_logistic.py:458: ConvergenceWarning: lbfgs failed to converge (status=1):\n",
      "STOP: TOTAL NO. of ITERATIONS REACHED LIMIT.\n",
      "\n",
      "Increase the number of iterations (max_iter) or scale the data as shown in:\n",
      "    https://scikit-learn.org/stable/modules/preprocessing.html\n",
      "Please also refer to the documentation for alternative solver options:\n",
      "    https://scikit-learn.org/stable/modules/linear_model.html#logistic-regression\n",
      "  n_iter_i = _check_optimize_result(\n"
     ]
    },
    {
     "name": "stdout",
     "output_type": "stream",
     "text": [
      "LR done\n",
      "LR done\n",
      "GNB done\n",
      "SVM done\n",
      "DT done\n",
      "RF done\n",
      "XGB done\n",
      "Building models . . . .\n"
     ]
    },
    {
     "name": "stderr",
     "output_type": "stream",
     "text": [
      "/opt/conda/envs/rapids/lib/python3.8/site-packages/sklearn/linear_model/_logistic.py:458: ConvergenceWarning: lbfgs failed to converge (status=1):\n",
      "STOP: TOTAL NO. of ITERATIONS REACHED LIMIT.\n",
      "\n",
      "Increase the number of iterations (max_iter) or scale the data as shown in:\n",
      "    https://scikit-learn.org/stable/modules/preprocessing.html\n",
      "Please also refer to the documentation for alternative solver options:\n",
      "    https://scikit-learn.org/stable/modules/linear_model.html#logistic-regression\n",
      "  n_iter_i = _check_optimize_result(\n"
     ]
    },
    {
     "name": "stdout",
     "output_type": "stream",
     "text": [
      "LR done\n",
      "LR done\n",
      "GNB done\n",
      "SVM done\n",
      "DT done\n",
      "RF done\n",
      "XGB done\n",
      "Building models . . . .\n"
     ]
    },
    {
     "name": "stderr",
     "output_type": "stream",
     "text": [
      "/opt/conda/envs/rapids/lib/python3.8/site-packages/sklearn/linear_model/_logistic.py:458: ConvergenceWarning: lbfgs failed to converge (status=1):\n",
      "STOP: TOTAL NO. of ITERATIONS REACHED LIMIT.\n",
      "\n",
      "Increase the number of iterations (max_iter) or scale the data as shown in:\n",
      "    https://scikit-learn.org/stable/modules/preprocessing.html\n",
      "Please also refer to the documentation for alternative solver options:\n",
      "    https://scikit-learn.org/stable/modules/linear_model.html#logistic-regression\n",
      "  n_iter_i = _check_optimize_result(\n"
     ]
    },
    {
     "name": "stdout",
     "output_type": "stream",
     "text": [
      "LR done\n",
      "LR done\n",
      "GNB done\n",
      "SVM done\n",
      "DT done\n",
      "RF done\n",
      "XGB done\n",
      "Building models . . . .\n"
     ]
    },
    {
     "name": "stderr",
     "output_type": "stream",
     "text": [
      "/opt/conda/envs/rapids/lib/python3.8/site-packages/sklearn/linear_model/_logistic.py:458: ConvergenceWarning: lbfgs failed to converge (status=1):\n",
      "STOP: TOTAL NO. of ITERATIONS REACHED LIMIT.\n",
      "\n",
      "Increase the number of iterations (max_iter) or scale the data as shown in:\n",
      "    https://scikit-learn.org/stable/modules/preprocessing.html\n",
      "Please also refer to the documentation for alternative solver options:\n",
      "    https://scikit-learn.org/stable/modules/linear_model.html#logistic-regression\n",
      "  n_iter_i = _check_optimize_result(\n"
     ]
    },
    {
     "name": "stdout",
     "output_type": "stream",
     "text": [
      "LR done\n",
      "LR done\n",
      "GNB done\n",
      "SVM done\n",
      "DT done\n",
      "RF done\n",
      "XGB done\n",
      "Building models . . . .\n"
     ]
    },
    {
     "name": "stderr",
     "output_type": "stream",
     "text": [
      "/opt/conda/envs/rapids/lib/python3.8/site-packages/sklearn/linear_model/_logistic.py:458: ConvergenceWarning: lbfgs failed to converge (status=1):\n",
      "STOP: TOTAL NO. of ITERATIONS REACHED LIMIT.\n",
      "\n",
      "Increase the number of iterations (max_iter) or scale the data as shown in:\n",
      "    https://scikit-learn.org/stable/modules/preprocessing.html\n",
      "Please also refer to the documentation for alternative solver options:\n",
      "    https://scikit-learn.org/stable/modules/linear_model.html#logistic-regression\n",
      "  n_iter_i = _check_optimize_result(\n"
     ]
    },
    {
     "name": "stdout",
     "output_type": "stream",
     "text": [
      "LR done\n",
      "LR done\n",
      "GNB done\n",
      "SVM done\n",
      "DT done\n",
      "RF done\n",
      "XGB done\n",
      "Building models . . . .\n"
     ]
    },
    {
     "name": "stderr",
     "output_type": "stream",
     "text": [
      "/opt/conda/envs/rapids/lib/python3.8/site-packages/sklearn/linear_model/_logistic.py:458: ConvergenceWarning: lbfgs failed to converge (status=1):\n",
      "STOP: TOTAL NO. of ITERATIONS REACHED LIMIT.\n",
      "\n",
      "Increase the number of iterations (max_iter) or scale the data as shown in:\n",
      "    https://scikit-learn.org/stable/modules/preprocessing.html\n",
      "Please also refer to the documentation for alternative solver options:\n",
      "    https://scikit-learn.org/stable/modules/linear_model.html#logistic-regression\n",
      "  n_iter_i = _check_optimize_result(\n"
     ]
    },
    {
     "name": "stdout",
     "output_type": "stream",
     "text": [
      "LR done\n",
      "LR done\n",
      "GNB done\n",
      "SVM done\n",
      "DT done\n",
      "RF done\n",
      "XGB done\n",
      "Building models . . . .\n"
     ]
    },
    {
     "name": "stderr",
     "output_type": "stream",
     "text": [
      "/opt/conda/envs/rapids/lib/python3.8/site-packages/sklearn/linear_model/_logistic.py:458: ConvergenceWarning: lbfgs failed to converge (status=1):\n",
      "STOP: TOTAL NO. of ITERATIONS REACHED LIMIT.\n",
      "\n",
      "Increase the number of iterations (max_iter) or scale the data as shown in:\n",
      "    https://scikit-learn.org/stable/modules/preprocessing.html\n",
      "Please also refer to the documentation for alternative solver options:\n",
      "    https://scikit-learn.org/stable/modules/linear_model.html#logistic-regression\n",
      "  n_iter_i = _check_optimize_result(\n"
     ]
    },
    {
     "name": "stdout",
     "output_type": "stream",
     "text": [
      "LR done\n",
      "LR done\n",
      "GNB done\n",
      "SVM done\n",
      "DT done\n",
      "RF done\n",
      "XGB done\n",
      "0LRModel\n",
      "0LassoModel\n",
      "0GNBModel\n",
      "0SVCModel\n",
      "0DTModel\n",
      "0RFModel\n",
      "0XGBoostModel\n",
      "1LRModel\n",
      "1LassoModel\n",
      "1GNBModel\n",
      "1SVCModel\n",
      "1DTModel\n",
      "1RFModel\n",
      "1XGBoostModel\n",
      "2LRModel\n",
      "2LassoModel\n",
      "2GNBModel\n",
      "2SVCModel\n",
      "2DTModel\n",
      "2RFModel\n",
      "2XGBoostModel\n",
      "3LRModel\n",
      "3LassoModel\n",
      "3GNBModel\n",
      "3SVCModel\n",
      "3DTModel\n",
      "3RFModel\n",
      "3XGBoostModel\n",
      "4LRModel\n",
      "4LassoModel\n",
      "4GNBModel\n",
      "4SVCModel\n",
      "4DTModel\n",
      "4RFModel\n",
      "4XGBoostModel\n",
      "5LRModel\n",
      "5LassoModel\n",
      "5GNBModel\n",
      "5SVCModel\n",
      "5DTModel\n",
      "5RFModel\n",
      "5XGBoostModel\n",
      "6LRModel\n",
      "6LassoModel\n",
      "6GNBModel\n",
      "6SVCModel\n",
      "6DTModel\n",
      "6RFModel\n",
      "6XGBoostModel\n",
      "7LRModel\n",
      "7LassoModel\n",
      "7GNBModel\n",
      "7SVCModel\n",
      "7DTModel\n",
      "7RFModel\n",
      "7XGBoostModel\n",
      "8LRModel\n",
      "8LassoModel\n",
      "8GNBModel\n",
      "8SVCModel\n",
      "8DTModel\n",
      "8RFModel\n",
      "8XGBoostModel\n",
      "9LRModel\n",
      "9LassoModel\n",
      "9GNBModel\n",
      "9SVCModel\n",
      "9DTModel\n",
      "9RFModel\n",
      "9XGBoostModel\n",
      "CPU times: user 1h 18min 45s, sys: 3min 33s, total: 1h 22min 19s\n",
      "Wall time: 1h 24min\n"
     ]
    }
   ],
   "source": [
    "%%time\n",
    "\n",
    "#EXECUTE model training\n",
    "\n",
    "kf = StratifiedKFold(n_splits=n_splits, random_state=1234, shuffle=True)\n",
    "kf.get_n_splits(X)\n",
    "models3 = pd.DataFrame(columns=['modelname', 'class_ratio'])\n",
    "summary_result3 = []\n",
    "cols = ['model_name', 'class_ratio', 'acc','spec','sens','auc', 'auprc', 'balance_accuracy', 'f1_score', 'ppv', 'npv']\n",
    "split_counter = 0\n",
    "\n",
    "#train model\n",
    "for train_index, test_index in kf.split(X, y):\n",
    "    #split data\n",
    "    X_train, X_test = X.iloc[train_index], X.iloc[test_index]\n",
    "    y_train, y_test = y.iloc[train_index], y.iloc[test_index]\n",
    "    \n",
    "    #Build models -> it can be commented if the models have been trained\n",
    "    models_temp = pd.DataFrame(build_models(X_train, y_train[target_outcome], params, split_counter), columns=['modelname', 'class_ratio'])\n",
    "    models3 = pd.concat([models3,models_temp]).reset_index(drop=True)\n",
    "    split_counter+=1\n",
    "        \n",
    "#evaluate model\n",
    "for modelname, classratio in models3.values:\n",
    "    # print('======================================================================')\n",
    "    print(modelname)\n",
    "    model = pickle.load(open('./models/'+ target_outcome + '/'+ modelname + '.sav', 'rb'))\n",
    "    summary_result3.append((str(model), classratio, ) + summariseResult (X_test, y_test[target_outcome], model) )       \n",
    "\n",
    "\n",
    "summary_result3 = pd.DataFrame(summary_result3, columns=cols)\n",
    "summary_result3['model_num'] = summary_result3.index\n",
    "# summary_result1['method_name'] = summary_result1.apply(lambda x: 'LR' if x.model_num%2 == 0 else 'XGBoost', axis=1)\n"
   ]
  },
  {
   "cell_type": "code",
   "execution_count": 44,
   "id": "e27d5bb5-e42f-4ad0-9c59-af9b9f5645cb",
   "metadata": {},
   "outputs": [
    {
     "name": "stdout",
     "output_type": "stream",
     "text": [
      "outcome_combined_12months\n"
     ]
    },
    {
     "data": {
      "text/html": [
       "<div>\n",
       "<style scoped>\n",
       "    .dataframe tbody tr th:only-of-type {\n",
       "        vertical-align: middle;\n",
       "    }\n",
       "\n",
       "    .dataframe tbody tr th {\n",
       "        vertical-align: top;\n",
       "    }\n",
       "\n",
       "    .dataframe thead th {\n",
       "        text-align: right;\n",
       "    }\n",
       "</style>\n",
       "<table border=\"1\" class=\"dataframe\">\n",
       "  <thead>\n",
       "    <tr style=\"text-align: right;\">\n",
       "      <th></th>\n",
       "      <th>class_ratio</th>\n",
       "      <th>acc</th>\n",
       "      <th>spec</th>\n",
       "      <th>sens</th>\n",
       "      <th>auc</th>\n",
       "      <th>auprc</th>\n",
       "      <th>balance_accuracy</th>\n",
       "      <th>f1_score</th>\n",
       "      <th>ppv</th>\n",
       "      <th>npv</th>\n",
       "      <th>model_num</th>\n",
       "    </tr>\n",
       "    <tr>\n",
       "      <th>model_name</th>\n",
       "      <th></th>\n",
       "      <th></th>\n",
       "      <th></th>\n",
       "      <th></th>\n",
       "      <th></th>\n",
       "      <th></th>\n",
       "      <th></th>\n",
       "      <th></th>\n",
       "      <th></th>\n",
       "      <th></th>\n",
       "      <th></th>\n",
       "    </tr>\n",
       "  </thead>\n",
       "  <tbody>\n",
       "    <tr>\n",
       "      <th>XGBoost</th>\n",
       "      <td>0.186556</td>\n",
       "      <td>0.98205</td>\n",
       "      <td>0.99162</td>\n",
       "      <td>0.93068</td>\n",
       "      <td>0.96117</td>\n",
       "      <td>0.92242</td>\n",
       "      <td>0.96117</td>\n",
       "      <td>0.93460</td>\n",
       "      <td>94.01235</td>\n",
       "      <td>98.76574</td>\n",
       "      <td>37.5</td>\n",
       "    </tr>\n",
       "    <tr>\n",
       "      <th>DT</th>\n",
       "      <td>0.186556</td>\n",
       "      <td>0.97807</td>\n",
       "      <td>0.98705</td>\n",
       "      <td>0.92986</td>\n",
       "      <td>0.95848</td>\n",
       "      <td>0.91898</td>\n",
       "      <td>0.95848</td>\n",
       "      <td>0.92956</td>\n",
       "      <td>92.93249</td>\n",
       "      <td>98.69610</td>\n",
       "      <td>35.5</td>\n",
       "    </tr>\n",
       "    <tr>\n",
       "      <th>RF</th>\n",
       "      <td>0.186556</td>\n",
       "      <td>0.98546</td>\n",
       "      <td>0.99812</td>\n",
       "      <td>0.91756</td>\n",
       "      <td>0.95786</td>\n",
       "      <td>0.92349</td>\n",
       "      <td>0.95786</td>\n",
       "      <td>0.92719</td>\n",
       "      <td>96.53313</td>\n",
       "      <td>98.64753</td>\n",
       "      <td>36.5</td>\n",
       "    </tr>\n",
       "    <tr>\n",
       "      <th>Lasso</th>\n",
       "      <td>0.186556</td>\n",
       "      <td>0.75600</td>\n",
       "      <td>0.78099</td>\n",
       "      <td>0.62207</td>\n",
       "      <td>0.70152</td>\n",
       "      <td>0.27490</td>\n",
       "      <td>0.70152</td>\n",
       "      <td>0.44497</td>\n",
       "      <td>34.63696</td>\n",
       "      <td>91.71922</td>\n",
       "      <td>32.5</td>\n",
       "    </tr>\n",
       "    <tr>\n",
       "      <th>LR</th>\n",
       "      <td>0.186556</td>\n",
       "      <td>0.74390</td>\n",
       "      <td>0.76906</td>\n",
       "      <td>0.60891</td>\n",
       "      <td>0.68899</td>\n",
       "      <td>0.26230</td>\n",
       "      <td>0.68899</td>\n",
       "      <td>0.42782</td>\n",
       "      <td>32.98417</td>\n",
       "      <td>91.33616</td>\n",
       "      <td>31.5</td>\n",
       "    </tr>\n",
       "    <tr>\n",
       "      <th>GNB</th>\n",
       "      <td>0.186556</td>\n",
       "      <td>0.82133</td>\n",
       "      <td>0.90913</td>\n",
       "      <td>0.35089</td>\n",
       "      <td>0.62999</td>\n",
       "      <td>0.24897</td>\n",
       "      <td>0.62999</td>\n",
       "      <td>0.38181</td>\n",
       "      <td>41.87120</td>\n",
       "      <td>88.24471</td>\n",
       "      <td>33.5</td>\n",
       "    </tr>\n",
       "    <tr>\n",
       "      <th>SVC</th>\n",
       "      <td>0.186556</td>\n",
       "      <td>0.80298</td>\n",
       "      <td>0.88647</td>\n",
       "      <td>0.35558</td>\n",
       "      <td>0.62103</td>\n",
       "      <td>0.23245</td>\n",
       "      <td>0.62103</td>\n",
       "      <td>0.36208</td>\n",
       "      <td>36.88170</td>\n",
       "      <td>88.05714</td>\n",
       "      <td>34.5</td>\n",
       "    </tr>\n",
       "  </tbody>\n",
       "</table>\n",
       "</div>"
      ],
      "text/plain": [
       "            class_ratio      acc     spec     sens      auc    auprc  \\\n",
       "model_name                                                             \n",
       "XGBoost        0.186556  0.98205  0.99162  0.93068  0.96117  0.92242   \n",
       "DT             0.186556  0.97807  0.98705  0.92986  0.95848  0.91898   \n",
       "RF             0.186556  0.98546  0.99812  0.91756  0.95786  0.92349   \n",
       "Lasso          0.186556  0.75600  0.78099  0.62207  0.70152  0.27490   \n",
       "LR             0.186556  0.74390  0.76906  0.60891  0.68899  0.26230   \n",
       "GNB            0.186556  0.82133  0.90913  0.35089  0.62999  0.24897   \n",
       "SVC            0.186556  0.80298  0.88647  0.35558  0.62103  0.23245   \n",
       "\n",
       "            balance_accuracy  f1_score       ppv       npv  model_num  \n",
       "model_name                                                             \n",
       "XGBoost              0.96117   0.93460  94.01235  98.76574       37.5  \n",
       "DT                   0.95848   0.92956  92.93249  98.69610       35.5  \n",
       "RF                   0.95786   0.92719  96.53313  98.64753       36.5  \n",
       "Lasso                0.70152   0.44497  34.63696  91.71922       32.5  \n",
       "LR                   0.68899   0.42782  32.98417  91.33616       31.5  \n",
       "GNB                  0.62999   0.38181  41.87120  88.24471       33.5  \n",
       "SVC                  0.62103   0.36208  36.88170  88.05714       34.5  "
      ]
     },
     "execution_count": 44,
     "metadata": {},
     "output_type": "execute_result"
    }
   ],
   "source": [
    "print(target_outcome)\n",
    "summary_result3['model_name'] = summary_result3.apply(lambda x: modelNameFixer(x.model_name), axis=1)\n",
    "summary_result3.groupby('model_name').mean().sort_values(['auc'], ascending=False)"
   ]
  },
  {
   "cell_type": "code",
   "execution_count": 45,
   "id": "6365bfd3-728e-4071-9abd-d8b87135d795",
   "metadata": {},
   "outputs": [
    {
     "data": {
      "text/plain": [
       "Text(0.5, 6.79999999999999, 'Method')"
      ]
     },
     "execution_count": 45,
     "metadata": {},
     "output_type": "execute_result"
    },
    {
     "data": {
      "image/png": "[encoded data removed]",
      "text/plain": [
       "<Figure size 720x360 with 1 Axes>"
      ]
     },
     "metadata": {
      "needs_background": "light"
     },
     "output_type": "display_data"
    }
   ],
   "source": [
    "summary_result3.to_csv(\"summaryResult_outcome3.csv\")\n",
    "summary_result3 = pd.read_csv(\"summaryResult_outcome3.csv\")\n",
    "\n",
    "bar = sns.catplot(x = \"model_name\",       # x variable name\n",
    "            y = \"auc\",       # y variable name            \n",
    "            data = summary_result3,     # dataframe to plot\n",
    "            kind = \"bar\",\n",
    "            height=5,\n",
    "            aspect=5/2.5,\n",
    "            ci = None)\n",
    "ax = bar.facet_axis(0,0)\n",
    "for p in ax.patches:\n",
    "    ax.text(p.get_x() + 0.01, \n",
    "            p.get_height() * 1.01, \n",
    "            '{0:.4f}'.format(p.get_height()), \n",
    "            color='black', rotation='horizontal', fontsize=11)\n",
    "    \n",
    "# listOf_Yticks = np.arange(0.5, 0.7, 0.05)\n",
    "ax.set_ylim(0.4, 1)\n",
    "ax.set_ylabel('AUC Score', fontsize=11)\n",
    "ax.set_xlabel('Method', fontsize=11)"
   ]
  },
  {
   "cell_type": "code",
   "execution_count": 62,
   "id": "722308db-b7ef-479b-b5fd-4f57a8ff1fa4",
   "metadata": {},
   "outputs": [
    {
     "data": {
      "image/png": "[encoded data removed]",
      "text/plain": [
       "<Figure size 360x504 with 1 Axes>"
      ]
     },
     "metadata": {
      "needs_background": "light"
     },
     "output_type": "display_data"
    }
   ],
   "source": [
    "best_model3 = pickle.load(open('./models/outcome_combined_12months/0DTModel.sav', 'rb'))\n",
    "\n",
    "# pd.DataFrame([best_model3.feature_importances_], columns=X.columns).T.sort_values(0, ascending=False)\n",
    "sorted_idx = best_model3.feature_importances_.argsort()\n",
    "plt.figure(figsize=(5,7))\n",
    "plt.barh(X.columns[sorted_idx][-10:], best_model3.feature_importances_[sorted_idx][-10:])\n",
    "plt.xlabel(\"Decision Tree Feature Importance\")\n",
    "plt.show()"
   ]
  },
  {
   "cell_type": "code",
   "execution_count": 47,
   "id": "0d90e68e-3bb4-4768-9026-eaa1af12ef41",
   "metadata": {
    "tags": []
   },
   "outputs": [
    {
     "data": {
      "image/png": "[encoded data removed]",
      "text/plain": [
       "<Figure size 360x504 with 1 Axes>"
      ]
     },
     "metadata": {
      "needs_background": "light"
     },
     "output_type": "display_data"
    }
   ],
   "source": [
    "best_model3 = pickle.load(open('./models/outcome_combined_12months/0RFModel.sav', 'rb'))\n",
    "\n",
    "# pd.DataFrame([best_model3.feature_importances_], columns=X.columns).T.sort_values(0, ascending=False)\n",
    "sorted_idx = best_model3.feature_importances_.argsort()\n",
    "plt.figure(figsize=(5,7))\n",
    "plt.barh(X.columns[sorted_idx][-10:], best_model3.feature_importances_[sorted_idx][-10:])\n",
    "plt.xlabel(\"Random Forest Feature Importance\")\n",
    "plt.show()"
   ]
  },
  {
   "cell_type": "code",
   "execution_count": 63,
   "id": "63e290ea-fbf1-42bd-b7db-4712fdf65e11",
   "metadata": {
    "tags": []
   },
   "outputs": [
    {
     "data": {
      "image/png": "[encoded data removed]",
      "text/plain": [
       "<Figure size 360x504 with 1 Axes>"
      ]
     },
     "metadata": {
      "needs_background": "light"
     },
     "output_type": "display_data"
    }
   ],
   "source": [
    "best_model3 = pickle.load(open('./models/outcome_combined_12months/0XGBoostModel.sav', 'rb'))\n",
    "\n",
    "# pd.DataFrame([best_model3.feature_importances_], columns=X.columns).T.sort_values(0, ascending=False)\n",
    "sorted_idx = best_model3.feature_importances_.argsort()\n",
    "plt.figure(figsize=(5,7))\n",
    "plt.barh(X.columns[sorted_idx][-10:], best_model3.feature_importances_[sorted_idx][-10:])\n",
    "plt.xlabel(\"XGBoost Feature Importance\")\n",
    "plt.show()"
   ]
  }
 ],
 "metadata": {
  "kernelspec": {
   "display_name": "Python 3 (ipykernel)",
   "language": "python",
   "name": "python3"
  },
  "language_info": {
   "codemirror_mode": {
    "name": "ipython",
    "version": 3
   },
   "file_extension": ".py",
   "mimetype": "text/x-python",
   "name": "python",
   "nbconvert_exporter": "python",
   "pygments_lexer": "ipython3",
   "version": "3.10.11"
  }
 },
 "nbformat": 4,
 "nbformat_minor": 5
}
