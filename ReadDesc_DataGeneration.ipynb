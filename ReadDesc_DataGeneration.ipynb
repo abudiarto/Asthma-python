{
 "cells": [
  {
   "cell_type": "code",
   "execution_count": 1,
   "id": "51665ff1-d51a-4b31-bd51-10d56d5769a8",
   "metadata": {
    "tags": []
   },
   "outputs": [
    {
     "name": "stderr",
     "output_type": "stream",
     "text": [
      "2024-05-14 17:15:15.717168: I tensorflow/core/util/port.cc:111] oneDNN custom operations are on. You may see slightly different numerical results due to floating-point round-off errors from different computation orders. To turn them off, set the environment variable `TF_ENABLE_ONEDNN_OPTS=0`.\n",
      "2024-05-14 17:15:15.918543: E tensorflow/compiler/xla/stream_executor/cuda/cuda_dnn.cc:9342] Unable to register cuDNN factory: Attempting to register factory for plugin cuDNN when one has already been registered\n",
      "2024-05-14 17:15:15.918703: E tensorflow/compiler/xla/stream_executor/cuda/cuda_fft.cc:609] Unable to register cuFFT factory: Attempting to register factory for plugin cuFFT when one has already been registered\n",
      "2024-05-14 17:15:15.919326: E tensorflow/compiler/xla/stream_executor/cuda/cuda_blas.cc:1518] Unable to register cuBLAS factory: Attempting to register factory for plugin cuBLAS when one has already been registered\n",
      "2024-05-14 17:15:16.036453: I tensorflow/core/platform/cpu_feature_guard.cc:182] This TensorFlow binary is optimized to use available CPU instructions in performance-critical operations.\n",
      "To enable the following instructions: AVX2 AVX512F AVX512_VNNI FMA, in other operations, rebuild TensorFlow with the appropriate compiler flags.\n"
     ]
    }
   ],
   "source": [
    "import pickle\n",
    "import _pickle as cPickle\n",
    "import pandas as pd\n",
    "import numpy as np\n",
    "import math\n",
    "from sklearn.model_selection import train_test_split\n",
    "from transformers import DistilBertForSequenceClassification, Trainer, TrainingArguments\n",
    "from transformers import AutoTokenizer, AutoModelForCausalLM\n",
    "from transformers import DistilBertTokenizerFast\n",
    "from transformers import LlamaForCausalLM, LlamaTokenizer"
   ]
  },
  {
   "cell_type": "code",
   "execution_count": 2,
   "id": "62278b2d-0712-41e6-8a39-97a8abafa592",
   "metadata": {
    "tags": []
   },
   "outputs": [],
   "source": [
    "# vocab_clinical = pickle.load(open('../SeqModel/all_vocab_clinical_new.sav', 'rb'))\n",
    "\n",
    "\n",
    "# data_clinical = pd.read_feather('../SeqModel/all_data_clinical_new.feather')\n",
    "\n",
    "\n",
    "# vocab_stat_clinical = pd.read_csv('../FinalData/pivotClinicalCodesbyCountry.csv')\n",
    "# vocab_stat_therapy = pd.read_csv('../FinalData/pivotTherapyCodesbyCountry.csv')\n",
    "\n",
    "data = pickle.load(open('../Clean_data/clinical_data.sav', 'rb'))\n",
    "dataDesc = pickle.load(open('../Clean_data/NewDataWithDesc.sav', 'rb'))\n",
    "ReadAll = pd.read_csv('../Clean_data/Read-Desc.csv')\n",
    "\n",
    "# # read2desc = read2desc.drop_duplicates('CC')\n",
    "# read2desc.reset_index(drop=True, inplace=True)\n"
   ]
  },
  {
   "cell_type": "code",
   "execution_count": 3,
   "id": "7b3b841d-e013-45dd-b4ce-a648a4e97423",
   "metadata": {
    "tags": []
   },
   "outputs": [],
   "source": [
    "trainingData, validationData, internalEvaluationData, evaluationData, evaluationDataWales, evaluationDataScotland = pickle.load(open('../FinalData/dataset_2vs1_15022024.sav', 'rb'))\n",
    "features = pickle.load(open('../FinalData/cleaned_features_2vs1_15022024.sav', 'rb'))"
   ]
  },
  {
   "cell_type": "code",
   "execution_count": 4,
   "id": "923b3e31-5bdd-49bd-a11d-ce3f772c9cea",
   "metadata": {
    "tags": []
   },
   "outputs": [],
   "source": [
    "newTrainingData = trainingData[['patid']].merge(\n",
    "    dataDesc, on='patid', how='inner').reset_index(drop=True)\n",
    "newTrainingData = newTrainingData.merge(features[['patid', 'sex', 'age', 'cat_BMI', 'smokingStatus', 'ethnic_group', 'imd_decile', 'OutputAreaClassification']], on='patid', how='inner').reset_index(drop=True)\n"
   ]
  },
  {
   "cell_type": "code",
   "execution_count": 5,
   "id": "4de37f0f-0260-40c6-ac92-88e271f91b41",
   "metadata": {
    "tags": []
   },
   "outputs": [
    {
     "data": {
      "text/plain": [
       "(378193, 9)"
      ]
     },
     "execution_count": 5,
     "metadata": {},
     "output_type": "execute_result"
    }
   ],
   "source": [
    "newTrainingData.shape"
   ]
  },
  {
   "cell_type": "code",
   "execution_count": 6,
   "id": "72ce8e88-a59f-4ca4-adaf-155c81771164",
   "metadata": {
    "tags": []
   },
   "outputs": [],
   "source": [
    "def fix_ethnic(x):\n",
    "    if x == 'not_recorded':\n",
    "        return 'unknown ethnicity'\n",
    "    elif x == 'White - ethnic group':        \n",
    "        return 'White ethnicity'\n",
    "    elif x == 'Other ethnic group':\n",
    "        return 'other ethnicity'\n",
    "    elif x == 'Asian - ethnic group':\n",
    "        return 'Asian ethnicity'\n",
    "    elif x == 'Black - ethnic group':\n",
    "        return 'Black ethnicity'\n",
    "    elif x == 'Mixed ethnic census group':\n",
    "        return 'Mixed ethnicity'\n",
    "    \n",
    "def fix_BMI(x):\n",
    "    if x == 'normal':\n",
    "        return 'normal BMI'\n",
    "    elif x == 'obese':        \n",
    "        return 'obese BMI'\n",
    "    elif x == 'overweight':\n",
    "        return 'overweight BMI'\n",
    "    elif x == 'not recorded':\n",
    "        return 'unknown BMI'\n",
    "    elif x == 'underweight':\n",
    "        return 'underweight BMI'\n",
    "\n"
   ]
  },
  {
   "cell_type": "code",
   "execution_count": 7,
   "id": "ff2d6cff-eea9-476c-8a03-297950a6131b",
   "metadata": {
    "tags": []
   },
   "outputs": [],
   "source": [
    "newTrainingData['sex'] = newTrainingData.sex.apply(lambda x: 'female' if x == 0 else 'male')\n",
    "newTrainingData['age'] = newTrainingData.age.apply(lambda x: str(x) + ' years old')\n",
    "newTrainingData['OutputAreaClassification'] = newTrainingData.OutputAreaClassification.apply(lambda x: x.replace(';', ', '))\n",
    "newTrainingData['imd_decile'] = newTrainingData.imd_decile.apply(lambda x: 'imd decile ' + str(x) + ' area')\n",
    "newTrainingData['cat_BMI'] = newTrainingData.cat_BMI.apply(lambda x: fix_BMI(x))\n",
    "newTrainingData['ethnic_group'] = newTrainingData.ethnic_group.apply(lambda x: fix_ethnic(x))\n"
   ]
  },
  {
   "cell_type": "code",
   "execution_count": 8,
   "id": "73172299-41a5-496a-9488-3cbf345b62ca",
   "metadata": {
    "tags": []
   },
   "outputs": [],
   "source": [
    "newTrainingData['profile'] = newTrainingData.apply(lambda x: x.ethnic_group + ' ' + x.sex + ', ' + x.age + ', ' \n",
    "                                                       + x.smokingStatus + ', with ' + x.cat_BMI + ', and lives in a ' \n",
    "                                                       + x.OutputAreaClassification +' area.', axis=1)\n",
    "newTrainingData['full_text'] = newTrainingData.apply(lambda x: x.profile + ' ' + x.TERM60, axis=1)\n",
    "newTrainingData['seq_length'] = newTrainingData.full_text.apply(lambda x: len(x.split()))\n",
    "newTrainingData['profile_length'] = newTrainingData.profile.apply(lambda x: len(x.split()))"
   ]
  },
  {
   "cell_type": "code",
   "execution_count": 9,
   "id": "7e13e66d-3d5f-48c0-bf08-6908ab650e56",
   "metadata": {
    "tags": []
   },
   "outputs": [
    {
     "data": {
      "text/plain": [
       "<Axes: >"
      ]
     },
     "execution_count": 9,
     "metadata": {},
     "output_type": "execute_result"
    },
    {
     "data": {
      "image/png": "[encoded data removed]",
      "text/plain": [
       "<Figure size 640x480 with 1 Axes>"
      ]
     },
     "metadata": {},
     "output_type": "display_data"
    }
   ],
   "source": [
    "newTrainingData.seq_length.hist()"
   ]
  },
  {
   "cell_type": "code",
   "execution_count": 10,
   "id": "4dac73f2-88f1-4da8-8c9e-ca93264f1e67",
   "metadata": {
    "tags": []
   },
   "outputs": [
    {
     "data": {
      "text/plain": [
       "<Axes: >"
      ]
     },
     "execution_count": 10,
     "metadata": {},
     "output_type": "execute_result"
    },
    {
     "data": {
      "image/png": "[encoded data removed]",
      "text/plain": [
       "<Figure size 640x480 with 1 Axes>"
      ]
     },
     "metadata": {},
     "output_type": "display_data"
    }
   ],
   "source": [
    "newTrainingData.profile_length.hist()"
   ]
  },
  {
   "cell_type": "code",
   "execution_count": 11,
   "id": "4b5bcf97-a0da-4083-917e-19331e8ae36a",
   "metadata": {
    "tags": []
   },
   "outputs": [],
   "source": [
    "newTrainingData = newTrainingData.merge(data, on='patid', how='left').newTrainingData.reset_index(drop=True)"
   ]
  },
  {
   "cell_type": "code",
   "execution_count": 13,
   "id": "75929bdc-95d6-4390-a8ff-cc6bfebb82e1",
   "metadata": {
    "tags": []
   },
   "outputs": [
    {
     "data": {
      "text/plain": [
       "(378193, 21)"
      ]
     },
     "execution_count": 13,
     "metadata": {},
     "output_type": "execute_result"
    }
   ],
   "source": [
    "newTrainingData.shape"
   ]
  },
  {
   "cell_type": "code",
   "execution_count": 15,
   "id": "9935d84b-4033-46c2-9826-f81480cf0277",
   "metadata": {
    "tags": []
   },
   "outputs": [
    {
     "data": {
      "text/plain": [
       "Index(['patid', 'TERM60', 'sex', 'age_x', 'cat_BMI', 'smokingStatus',\n",
       "       'ethnic_group', 'imd_decile', 'OutputAreaClassification', 'profile',\n",
       "       'full_text', 'seq_length', 'profile_length', 'Country', 'age_y',\n",
       "       'read_code_seq_padded_noPAD', 'text', '3months', '6months', '9months',\n",
       "       '12months'],\n",
       "      dtype='object')"
      ]
     },
     "execution_count": 15,
     "metadata": {},
     "output_type": "execute_result"
    }
   ],
   "source": [
    "newTrainingData.columns"
   ]
  },
  {
   "cell_type": "code",
   "execution_count": 16,
   "id": "93dec24c-fc7e-4442-aa30-856a7be3c0b6",
   "metadata": {
    "tags": []
   },
   "outputs": [],
   "source": [
    "pickle.dump(newTrainingData[['patid', 'full_text', '3months', '6months', '9months',\n",
    "       '12months']], open('../Clean_data/clinical+profile_training.sav', 'wb'))"
   ]
  },
  {
   "cell_type": "code",
   "execution_count": null,
   "id": "14ad5b0e-23d6-4b4b-9f51-8daebe009b56",
   "metadata": {
    "tags": []
   },
   "outputs": [],
   "source": [
    "longData = data.explode('read_code_seq_padded_noPAD')\n",
    "longData.reset_index(drop=True, inplace=True)\n",
    "longData.shape"
   ]
  },
  {
   "cell_type": "code",
   "execution_count": null,
   "id": "5390db5d-7eed-4387-af9f-210ec9381ccc",
   "metadata": {
    "tags": []
   },
   "outputs": [],
   "source": [
    "longData = longData.merge(ReadAll[['CC', 'TERM60']], how='left', left_on='read_code_seq_padded_noPAD', right_on='CC',)\n",
    "longData.shape"
   ]
  },
  {
   "cell_type": "code",
   "execution_count": null,
   "id": "9d16c3bf-4755-47ba-b2b2-1d84fa61fd0c",
   "metadata": {
    "tags": []
   },
   "outputs": [],
   "source": [
    "longData['CC'] = longData.CC.fillna('unknnownReadCodes')\n",
    "longData['TERM60'] = longData.TERM60.fillna('unknnown Read code')"
   ]
  },
  {
   "cell_type": "code",
   "execution_count": null,
   "id": "2c0fb9a8-ef46-4c7a-a351-9b9d742698cf",
   "metadata": {
    "tags": []
   },
   "outputs": [],
   "source": [
    "longData = longData.groupby('patid').agg({'TERM60': lambda x: \". \".join(x)}).reset_index()"
   ]
  },
  {
   "cell_type": "code",
   "execution_count": null,
   "id": "f4b6b2e0-27f9-4963-ab06-dd4c4dc9ce75",
   "metadata": {
    "tags": []
   },
   "outputs": [],
   "source": [
    "pickle.dump(longData, open('../Clean_data/NewDataWithDesc.sav', 'wb'))"
   ]
  },
  {
   "cell_type": "code",
   "execution_count": null,
   "id": "b1b7b3fd-7d8a-4919-bb54-7fc312894532",
   "metadata": {
    "tags": []
   },
   "outputs": [],
   "source": [
    "data = data.merge(longData, on='patid')\n",
    "pickle.dump(data, open('../Clean_data/Clinical_data_WithDesc.sav', 'wb'))"
   ]
  },
  {
   "cell_type": "code",
   "execution_count": null,
   "id": "0144ac21-75b1-4739-bcac-afd088f782fc",
   "metadata": {
    "tags": []
   },
   "outputs": [],
   "source": [
    "data"
   ]
  },
  {
   "cell_type": "code",
   "execution_count": null,
   "id": "021b3f91-f5e9-4669-ac42-298d43e4bf2a",
   "metadata": {
    "tags": []
   },
   "outputs": [],
   "source": [
    "target_outcomes = '12months'\n",
    "ignore, use = train_test_split(data, stratify=data[target_outcomes], test_size=0.2, random_state=1234)\n",
    "search_train, search_val = train_test_split(use, stratify=use[target_outcomes], test_size=0.2, random_state=1234)\n",
    "search_train.reset_index(inplace=True, drop=True)\n",
    "search_val.reset_index(inplace=True, drop=True)\n",
    "print(search_train.shape)\n",
    "print(search_val.shape)\n"
   ]
  },
  {
   "cell_type": "code",
   "execution_count": null,
   "id": "349befc7-b6cf-458a-b8e6-e53d6ddf8a2d",
   "metadata": {
    "tags": []
   },
   "outputs": [],
   "source": [
    "# search_train[['Desc']].to_csv('../SeqModel/DescDataset.csv', index_label=False, index=False)"
   ]
  },
  {
   "cell_type": "code",
   "execution_count": null,
   "id": "3a18d5e8-acf9-4854-875e-13eabb6c2143",
   "metadata": {
    "tags": []
   },
   "outputs": [],
   "source": [
    "train_texts = search_train['TERM60'].values.tolist()\n",
    "train_labels = search_train['12months'].values.tolist()\n",
    "val_texts = search_val['TERM60'].values.tolist()\n",
    "val_labels = search_val['12months'].values.tolist()"
   ]
  },
  {
   "cell_type": "code",
   "execution_count": null,
   "id": "1ebd8c8e-d9ad-4e50-97ee-d0e43fd5a7fe",
   "metadata": {
    "tags": []
   },
   "outputs": [],
   "source": [
    "train_texts, test_texts, train_labels, test_labels = train_test_split(train_texts, train_labels, test_size=.2)"
   ]
  },
  {
   "cell_type": "code",
   "execution_count": null,
   "id": "b93e15c2-8168-4b41-b647-f2a38777ffe7",
   "metadata": {
    "tags": []
   },
   "outputs": [],
   "source": [
    "tokenizer = DistilBertTokenizerFast.from_pretrained('distilbert-base-uncased')\n",
    "# tokenizer = AutoTokenizer.from_pretrained(\"AdaptLLM/medicine-LLM\")\n"
   ]
  },
  {
   "cell_type": "code",
   "execution_count": null,
   "id": "6c5ce8f0-d444-4a2f-8827-f76aa4971097",
   "metadata": {},
   "outputs": [],
   "source": []
  },
  {
   "cell_type": "code",
   "execution_count": null,
   "id": "8d42eda9-bbe3-4ba2-9ce3-87180f49d851",
   "metadata": {
    "tags": []
   },
   "outputs": [],
   "source": [
    "texts = newTrainingData[:100]['full_text'].values.tolist()\n",
    "train_encodings = tokenizer(texts, truncation=True, padding=True, max_length = 500)\n",
    "train_labels = newTrainingData.age.values.tolist()"
   ]
  },
  {
   "cell_type": "code",
   "execution_count": null,
   "id": "9c470945-a78b-40ec-ab7d-458c1a122cd2",
   "metadata": {
    "tags": []
   },
   "outputs": [],
   "source": [
    "train_encodings = tokenizer(train_texts, truncation=True, padding=True, max_length = 500)\n",
    "val_encodings = tokenizer(val_texts, truncation=True, padding=True, max_length = 500)\n",
    "test_encodings = tokenizer(test_texts, truncation=True, padding=True, max_length = 500)"
   ]
  },
  {
   "cell_type": "code",
   "execution_count": null,
   "id": "92e8670b-3515-4832-ac6f-9323108d3a3b",
   "metadata": {
    "tags": []
   },
   "outputs": [],
   "source": [
    "import torch\n",
    "\n",
    "class GetDataset(torch.utils.data.Dataset):\n",
    "    def __init__(self, encodings, labels):\n",
    "        self.encodings = encodings\n",
    "        self.labels = labels\n",
    "\n",
    "    def __getitem__(self, idx):\n",
    "        item = {key: torch.tensor(val[idx]) for key, val in self.encodings.items()}\n",
    "        item['labels'] = torch.tensor(self.labels[idx])\n",
    "        return item\n",
    "\n",
    "    def __len__(self):\n",
    "        return len(self.labels)\n",
    "\n",
    "train_dataset = GetDataset(train_encodings, train_labels)\n",
    "# train_dataset = GetDataset(train_encodings, train_labels)\n",
    "# val_dataset = GetDataset(val_encodings, val_labels)\n",
    "# test_dataset = GetDataset(test_encodings, test_labels)"
   ]
  },
  {
   "cell_type": "code",
   "execution_count": null,
   "id": "b50f5a48-8af4-4626-b409-f2ca06206c90",
   "metadata": {
    "tags": []
   },
   "outputs": [],
   "source": [
    "len(train_dataset.encodings['input_ids'][0])"
   ]
  },
  {
   "cell_type": "code",
   "execution_count": null,
   "id": "3b443ed9-ec5a-4de2-b9cb-18382c6d518b",
   "metadata": {
    "scrolled": true,
    "tags": []
   },
   "outputs": [],
   "source": [
    "#######################ONLY ACCURACY#########################################\n",
    "\n",
    "\n",
    "# training_args = TrainingArguments(\n",
    "#     output_dir='./results',          # output directory\n",
    "#     num_train_epochs=3,              # total number of training epochs\n",
    "#     per_device_train_batch_size=64,  # batch size per device during training\n",
    "#     per_device_eval_batch_size=64,   # batch size for evaluation\n",
    "#     warmup_steps=500,                # number of warmup steps for learning rate scheduler\n",
    "#     weight_decay=0.01,               # strength of weight decay\n",
    "#     logging_dir='./logs',            # directory for storing logs\n",
    "#     logging_steps=10,\n",
    "# )\n",
    "\n",
    "# model = DistilBertForSequenceClassification.from_pretrained(\"distilbert-base-uncased\")\n",
    "\n",
    "# trainer = Trainer(\n",
    "#     model=model,                         # the instantiated 🤗 Transformers model to be trained\n",
    "#     args=training_args,                  # training arguments, defined above\n",
    "#     train_dataset=train_dataset,         # training dataset\n",
    "#     eval_dataset=val_dataset             # evaluation dataset\n",
    "# )\n",
    "\n",
    "# trainer.train()"
   ]
  },
  {
   "cell_type": "code",
   "execution_count": null,
   "id": "2a3e19c9-c440-43a2-866c-d4d5b059fc65",
   "metadata": {
    "scrolled": true,
    "tags": []
   },
   "outputs": [],
   "source": [
    "from sklearn.metrics import precision_recall_fscore_support, accuracy_score, log_loss\n",
    "from torch.nn import CrossEntropyLoss\n",
    "import numpy as np\n",
    "from copy import deepcopy\n",
    "from transformers import TrainerCallback\n",
    "\n",
    "lang = 'en'\n",
    "\n",
    "class CustomCallback(TrainerCallback):\n",
    "    \n",
    "    def __init__(self, trainer) -> None:\n",
    "        super().__init__()\n",
    "        self._trainer = trainer\n",
    "    \n",
    "    def on_epoch_end(self, args, state, control, **kwargs):\n",
    "        if control.should_evaluate:\n",
    "            control_copy = deepcopy(control)\n",
    "            self._trainer.evaluate(eval_dataset=self._trainer.train_dataset, metric_key_prefix=\"train@\"+lang)\n",
    "            return control_copy\n",
    "\n",
    "def compute_metrics(pred):\n",
    "    global num_labels\n",
    "    num_labels = 2\n",
    "    labels = pred.label_ids\n",
    "    preds = pred.predictions.argmax(-1)\n",
    "    precision, recall, f1, _ = precision_recall_fscore_support(labels, preds, average='macro')\n",
    "    acc = accuracy_score(labels, preds)\n",
    "    loss_fct = CrossEntropyLoss()\n",
    "    logits = torch.tensor(pred.predictions)\n",
    "    labels = torch.tensor(labels)\n",
    "    loss = loss_fct(logits.view(-1, num_labels), labels.view(-1))\n",
    "    return {\n",
    "        # 'accuracy@'+lang: acc,\n",
    "        'f1@'+lang: f1,\n",
    "        'precision@'+lang: precision,\n",
    "        'recall@'+lang: recall,\n",
    "        'loss@'+lang: loss,\n",
    "    }\n",
    "\n",
    "training_args = TrainingArguments(\n",
    "    output_dir='./results',          # output directory\n",
    "    num_train_epochs=2,              # total number of training epochs\n",
    "    per_device_train_batch_size=64,  # batch size per device during training\n",
    "    per_device_eval_batch_size=64,   # batch size for evaluation\n",
    "    warmup_steps=500,                # number of warmup steps for learning rate scheduler\n",
    "    weight_decay=0.01,               # strength of weight decay\n",
    "    logging_dir='./logs',            # directory for storing logs\n",
    "    logging_steps=10,\n",
    ")\n",
    "\n",
    "model = DistilBertForSequenceClassification.from_pretrained(\"distilbert-base-uncased\")\n",
    "# model = AutoModelForCausalLM.from_pretrained(\"AdaptLLM/medicine-LLM\")\n",
    "\n",
    "\n",
    "trainer = Trainer(\n",
    "    model=model,                         # the instantiated 🤗 Transformers model to be trained\n",
    "    args=training_args,                  # training arguments, defined above\n",
    "    train_dataset=train_dataset,         # training dataset\n",
    "    eval_dataset=val_dataset,             # evaluation dataset\n",
    "    compute_metrics=compute_metrics,\n",
    ")\n",
    "\n",
    "trainer.add_callback(CustomCallback(trainer)) \n",
    "\n",
    "train_result = trainer.train()\n",
    "\n",
    "# trainer.evaluate(metric_key_prefix='test_en',\n",
    "#                 eval_dataset=en_test_dataset)"
   ]
  },
  {
   "cell_type": "code",
   "execution_count": null,
   "id": "14e9bd8c-4671-4fec-bfc9-21028fd33ed5",
   "metadata": {
    "tags": []
   },
   "outputs": [],
   "source": [
    "trainer.save_model(\"../Clean_data/ModelDesc10052024.mdl\")"
   ]
  },
  {
   "cell_type": "code",
   "execution_count": null,
   "id": "b42abc32-f76b-45b8-bfae-eed44b638f93",
   "metadata": {
    "tags": []
   },
   "outputs": [],
   "source": [
    "pickle.dump(train_result, open('../Clean_data/Result_ModelDesc10052024.sav', 'wb'))"
   ]
  },
  {
   "cell_type": "code",
   "execution_count": null,
   "id": "1417796b-309d-4362-850a-8977912de164",
   "metadata": {
    "tags": []
   },
   "outputs": [],
   "source": [
    "val_metrics = trainer.evaluate(metric_key_prefix='val_en',\n",
    "                eval_dataset=val_dataset)"
   ]
  },
  {
   "cell_type": "code",
   "execution_count": null,
   "id": "24f7d2ec-4692-4416-99b8-d0c47a95ad60",
   "metadata": {
    "tags": []
   },
   "outputs": [],
   "source": [
    "val_metrics"
   ]
  },
  {
   "cell_type": "code",
   "execution_count": null,
   "id": "5ca05114-d789-4541-a505-9ba101e824b8",
   "metadata": {
    "tags": []
   },
   "outputs": [],
   "source": [
    "test_metrics = trainer.evaluate(metric_key_prefix='test_en',\n",
    "                eval_dataset=test_dataset)"
   ]
  },
  {
   "cell_type": "code",
   "execution_count": null,
   "id": "a2374486-01df-43c2-96f4-b515774d2133",
   "metadata": {
    "tags": []
   },
   "outputs": [],
   "source": [
    "test_metrics"
   ]
  },
  {
   "cell_type": "code",
   "execution_count": null,
   "id": "c793108c-1d0b-4a01-8d56-9d26f17df38c",
   "metadata": {
    "tags": []
   },
   "outputs": [],
   "source": [
    "val_metrics"
   ]
  },
  {
   "cell_type": "code",
   "execution_count": null,
   "id": "cf850110-18a1-4230-bdd4-0b1a866f91b0",
   "metadata": {
    "tags": []
   },
   "outputs": [],
   "source": [
    "test_pred = trainer.predict(test_dataset)\n",
    "preds = []\n",
    "for x in test_pred.predictions:\n",
    "    preds.append(np.argmax(x))"
   ]
  },
  {
   "cell_type": "code",
   "execution_count": null,
   "id": "4612be96-6740-46f1-b050-710c6f88a7ba",
   "metadata": {
    "tags": []
   },
   "outputs": [],
   "source": []
  },
  {
   "cell_type": "code",
   "execution_count": null,
   "id": "cc592b0d-9484-4d7b-bc5c-1e2b24af836d",
   "metadata": {
    "tags": []
   },
   "outputs": [],
   "source": [
    "test_pred.label_ids"
   ]
  },
  {
   "cell_type": "code",
   "execution_count": null,
   "id": "c599ab1a-5827-4a98-a7ec-407fa0341563",
   "metadata": {
    "tags": []
   },
   "outputs": [],
   "source": [
    "from sklearn.metrics import confusion_matrix\n",
    "confusion_matrix(test_pred.label_ids, preds)"
   ]
  },
  {
   "cell_type": "code",
   "execution_count": null,
   "id": "c2c0f72c-f3c7-4511-b92c-bd21b6d51b40",
   "metadata": {},
   "outputs": [],
   "source": []
  }
 ],
 "metadata": {
  "kernelspec": {
   "display_name": "Python 3 (ipykernel)",
   "language": "python",
   "name": "python3"
  },
  "language_info": {
   "codemirror_mode": {
    "name": "ipython",
    "version": 3
   },
   "file_extension": ".py",
   "mimetype": "text/x-python",
   "name": "python",
   "nbconvert_exporter": "python",
   "pygments_lexer": "ipython3",
   "version": "3.10.11"
  }
 },
 "nbformat": 4,
 "nbformat_minor": 5
}
