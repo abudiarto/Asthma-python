{
 "cells": [
  {
   "cell_type": "code",
   "execution_count": 1,
   "id": "a1c15047-44d5-4913-8fbf-05c4f0f92a66",
   "metadata": {
    "tags": []
   },
   "outputs": [],
   "source": [
    "import pandas as pd\n",
    "import numpy as np\n",
    "import sklearn\n",
    "import pyreadr\n",
    "\n",
    "#statistics\n",
    "from scipy.stats import chi2_contingency, ttest_ind\n",
    "\n",
    "# import cudf #gpu-powered DataFrame (Pandas alternative)\n",
    "\n",
    "#imbalance handling\n",
    "from imblearn.over_sampling import SMOTE\n",
    "from imblearn.under_sampling import RandomUnderSampler, RepeatedEditedNearestNeighbours\n",
    "from imblearn.pipeline import Pipeline\n",
    "\n",
    "#preprocessing\n",
    "from sklearn import preprocessing\n",
    "from sklearn.preprocessing import OrdinalEncoder, OneHotEncoder, LabelEncoder, MinMaxScaler, StandardScaler\n",
    "\n",
    "\n",
    "#internal validation\n",
    "from sklearn.model_selection import StratifiedKFold, KFold, RepeatedStratifiedKFold, cross_val_score, GridSearchCV, PredefinedSplit, train_test_split\n",
    "\n",
    "#performance metrices\n",
    "from sklearn.metrics import confusion_matrix, classification_report, f1_score, balanced_accuracy_score, matthews_corrcoef, auc, average_precision_score, roc_auc_score, balanced_accuracy_score, roc_curve, accuracy_score\n",
    "from sklearn.metrics import log_loss\n",
    "#Models selection\n",
    "from sklearn.naive_bayes import GaussianNB, ComplementNB\n",
    "from sklearn.linear_model import LogisticRegression\n",
    "from sklearn.tree import DecisionTreeClassifier\n",
    "from sklearn.ensemble import RandomForestClassifier\n",
    "import xgboost as xgb\n",
    "# from cuml.svm import SVC #gpu-powered SVM\n",
    "\n",
    "from sklearn.calibration import calibration_curve, CalibrationDisplay\n",
    "from sklearn.isotonic import IsotonicRegression\n",
    "from sklearn.linear_model import LogisticRegression\n",
    "#for model calibration:\n",
    "from sklearn.calibration import CalibratedClassifierCV\n",
    "import ml_insights as mli\n",
    "\n",
    "#Tree pruning\n",
    "from sklearn.tree._tree import TREE_LEAF\n",
    "\n",
    "\n",
    "#save and load trained model\n",
    "import pickle\n",
    "\n",
    "#visualisation\n",
    "import matplotlib.pyplot as plt\n",
    "from matplotlib.gridspec import GridSpec\n",
    "import seaborn as sns\n",
    "from sklearn import tree\n",
    "\n",
    "from collections import Counter\n",
    "import os"
   ]
  },
  {
   "cell_type": "code",
   "execution_count": 2,
   "id": "53d35751-61b2-4a32-9085-7f2b34b7b154",
   "metadata": {
    "tags": []
   },
   "outputs": [],
   "source": [
    "# Data loader\n",
    "# features = pd.read_csv(\"../FinalData/cleaned_features_11072023.csv\")\n",
    "gridSearchData, crossValData, internalEvaluationData, externalEvaluationData = pickle.load(open('../../Clean_data/dataset_scaled_ordinal.sav', 'rb'))\n",
    "outcomes = pd.read_csv(\"../../Clean_data/cleaned_outcomes_24102024.csv\")\n",
    "# features = features[features.columns[1:]]\n",
    "# outcomes = outcomes[outcomes.columns[1:]]"
   ]
  },
  {
   "cell_type": "code",
   "execution_count": 3,
   "id": "98ab2f18-c8cf-46e3-be71-9d8b9b940e02",
   "metadata": {
    "tags": []
   },
   "outputs": [
    {
     "name": "stdout",
     "output_type": "stream",
     "text": [
      "Features size:  48\n",
      "['sex', 'rhinitis', 'cardiovascular', 'heartfailure', 'psoriasis', 'anaphylaxis', 'diabetes', 'ihd', 'anxiety', 'eczema', 'nasalpolyps', 'ethnic_group_Asian', 'ethnic_group_Black', 'ethnic_group_Mixed', 'ethnic_group_Other', 'ethnic_group_White', 'ethnic_group_not recorded', 'smokingStatus_current', 'smokingStatus_former', 'smokingStatus_never', 'DeviceType_BAI', 'DeviceType_DPI', 'DeviceType_NEB', 'DeviceType_not recorded', 'DeviceType_pMDI', 'PriorEducation_No', 'PriorEducation_Yes', 'age', 'average_daily_dose_ICS', 'prescribed_daily_dose_ICS', 'ICS_medication_possesion_ratio', 'numPCS', 'numPCSAsthma', 'numAntibioticsEvents', 'numAntibioticswithLRTI', 'numOCSEvents', 'numOCSwithLRTI', 'numAsthmaAttacks', 'numAcuteRespEvents', 'numHospEvents', 'numAsthmaManagement', 'numAsthmaReview', 'imd_decile', 'CharlsonScore', 'BTS_step', 'BMI_cat', 'PEFStatus', 'EosinophilLevel']\n"
     ]
    }
   ],
   "source": [
    "#Define feature candidates\n",
    "\n",
    "features_columns = gridSearchData.columns.to_list()\n",
    "exclude_columns = ['patid', 'practice_id', 'set', #identifier\n",
    "                   'BMI', #use the categorical instead\n",
    "                   'ethnicity', #use ethnic_group instead\n",
    "                   'Spacer',  #all zero\n",
    "                   'asthmaPlan', #use the continuous one\n",
    "                   \n",
    "                   'outcome_3months', 'outcome_6months', 'outcome_9months', 'outcome_12months', 'outcome_15months', 'outcome_18months', \n",
    "                   'outcome_21months', 'outcome_24months', 'outcome_combined_6months', 'outcome_combined_9months', 'outcome_combined_12months', \n",
    "                   'outcome_combined_15months', 'outcome_combined_18months', 'outcome_combined_24months', '3months', '6months', '12months', '24months', #outcomes variable\n",
    "                   \n",
    "                   'postcode_district', 'County', 'LocalAuthority', 'OutputAreaClassification', #location related variables, use IMD decile only\n",
    "                   \n",
    "                   'age_cat', 'ICS_medication_possesion_ratio_cat', 'numOCS_cat', 'numOCSEvents_cat', 'numOCSwithLRTI_cat', 'numAcuteRespEvents_cat', \n",
    "                   'numAntibioticsEvents_cat', 'numAntibioticswithLRTI_cat', 'numAsthmaAttacks_cat', 'numHospEvents_cat', 'numPCS_cat', 'numPCSAsthma_cat', \n",
    "                   'numAsthmaManagement_cat', 'numAsthmaReview_cat', 'numAsthmaMedReview_cat', 'numAsthmaReviewRCP_cat', 'average_daily_dose_ICS_cat', \n",
    "                   'prescribed_daily_dose_ICS_cat', #use continous vars instead\n",
    "                   \n",
    "                   'count_rhinitis', 'count_cardiovascular', 'count_heartfailure',\n",
    "                   'count_psoriasis', 'count_anaphylaxis', 'count_diabetes', 'count_ihd',\n",
    "                   'count_anxiety', 'count_eczema', 'count_nasalpolyps',\n",
    "                   'count_paracetamol', 'count_nsaids', 'count_betablocker', #use binary ones\n",
    "                   \n",
    "                   'paracetamol', 'nsaids', 'betablocker', #no data in evaluation\n",
    "                   'numAsthmaMedReview', 'numAsthmaReviewRCP',\n",
    "                                      \n",
    "                  ]\n",
    "# exclude_columns = exclude_columns + [x for x in features_columns if '_count' in x] #filter out commorbid count variables\n",
    "features_columns = [x for x in features_columns if x not in exclude_columns]\n",
    "print('Features size: ', len(features_columns))\n",
    "print(features_columns)"
   ]
  },
  {
   "cell_type": "code",
   "execution_count": 4,
   "id": "6241d48f-02c4-41d0-a0b6-60876dcbf91a",
   "metadata": {
    "tags": []
   },
   "outputs": [
    {
     "name": "stdout",
     "output_type": "stream",
     "text": [
      "(474188, 48)\n",
      "(121714, 48)\n",
      "(19860, 48)\n"
     ]
    }
   ],
   "source": [
    "X = crossValData[features_columns]\n",
    "X_gridSearch = gridSearchData[features_columns]\n",
    "X = pd.concat([X, X_gridSearch])\n",
    "X.reset_index(drop=True, inplace=True)\n",
    "X_internalVal = internalEvaluationData[features_columns]\n",
    "X_externalVal = externalEvaluationData[features_columns]\n",
    "\n",
    "\n",
    "print(X.shape)\n",
    "print(X_internalVal.shape)\n",
    "print(X_externalVal.shape)\n",
    "\n",
    "\n",
    "target_outcomes = [\n",
    "    'outcome_3months', 'outcome_6months', 'outcome_9months', \n",
    "    'outcome_12months',\n",
    "] \n",
    "# target_outcomes = ['12months'] \n",
    "model_names = [\n",
    "    'LR', \n",
    "    'DT', 'RF', \n",
    "    'XGB'\n",
    "              ]"
   ]
  },
  {
   "cell_type": "code",
   "execution_count": 5,
   "id": "a3d985ae-d09e-4931-b79e-15502525a801",
   "metadata": {
    "tags": []
   },
   "outputs": [],
   "source": [
    "target_outcome = 'outcome_12months'\n",
    "y = crossValData[target_outcome]\n",
    "y_gridSearch = gridSearchData[target_outcome]\n",
    "y = pd.concat([y, y_gridSearch])\n",
    "y.reset_index(drop=True, inplace=True)\n",
    "y_internalVal = internalEvaluationData[target_outcome]\n",
    "y_externalVal = externalEvaluationData[target_outcome]"
   ]
  },
  {
   "cell_type": "code",
   "execution_count": null,
   "id": "228b609f-f37f-4f7f-855c-22316f233cd5",
   "metadata": {},
   "outputs": [],
   "source": []
  },
  {
   "cell_type": "markdown",
   "id": "97606e69-f6bc-4cbd-9fc1-65a7862a13b6",
   "metadata": {
    "jp-MarkdownHeadingCollapsed": true
   },
   "source": [
    "# Experiment"
   ]
  },
  {
   "cell_type": "code",
   "execution_count": null,
   "id": "8fcf8c03-396f-4e9f-b288-bb323cbb54b3",
   "metadata": {
    "tags": []
   },
   "outputs": [],
   "source": [
    "model_names = ['LR', 'DT', 'RF', 'XGB']\n",
    "for model_name in model_names:\n",
    "    model = pickle.load(open('../MODELS/TestResult/outcome_12months_'+model_name+'.sav', 'rb'))\n",
    "    preds = model.predict_proba(X_externalVal)\n",
    "    preds = [x[1] for x in preds]\n",
    "    fpr, tpr, thresholds = roc_curve(y_externalVal, preds, pos_label=1)\n",
    "    auc = np.round(roc_auc_score(y_externalVal, preds), 4)\n",
    "    plt.plot(fpr,tpr,label=model_name+\", auc=\"+str(auc))\n",
    "\n",
    "plt.legend(loc=4)\n",
    "plt.show()"
   ]
  },
  {
   "cell_type": "code",
   "execution_count": null,
   "id": "1c940b33-bd4d-4b7c-83bc-794e186e316c",
   "metadata": {},
   "outputs": [],
   "source": []
  },
  {
   "cell_type": "code",
   "execution_count": null,
   "id": "bc33f6cf-d535-4d6c-bab7-eeffed400e39",
   "metadata": {},
   "outputs": [],
   "source": [
    "preds = model.predict_proba(X)[:,1]\n",
    "\n",
    "# Fit Isotonic Regression\n",
    "iso = IsotonicRegression()\n",
    "iso.fit(preds, y)\n",
    "\n",
    "# Fit Platt scaling (logistic calibration)\n",
    "lr = LogisticRegression(C=99999999999)\n",
    "lr.fit(preds.reshape(-1,1), y)\n",
    "\n",
    "#spline\n",
    "calib = mli.SplineCalib()\n",
    "calib.fit(preds, y)"
   ]
  },
  {
   "cell_type": "code",
   "execution_count": null,
   "id": "b2ba6d87-922a-43ec-a298-224ed096fc54",
   "metadata": {},
   "outputs": [],
   "source": [
    "tvec = np.linspace(0,1,1001)\n",
    "preds_externalVal = model.predict_proba(X_externalVal)[:,1]\n",
    "iso_probs = iso.predict(tvec)\n",
    "platt_probs = lr.predict_proba(tvec.reshape(-1,1))[:,1]\n",
    "splinecalib_probs = calib.calibrate(tvec)\n",
    "mli.plot_reliability_diagram(y_externalVal, preds_externalVal, error_bars=False);\n",
    "plt.plot(tvec, splinecalib_probs, label='SplineCalib')\n",
    "plt.plot(tvec, iso_probs, label='Isotonic')\n",
    "plt.plot(tvec, platt_probs, label='Platt')\n",
    "plt.legend()\n",
    "plt.title('Calibration Curves for different methods');"
   ]
  },
  {
   "cell_type": "markdown",
   "id": "d71d536c-6d44-4730-9bce-ced26986eaee",
   "metadata": {},
   "source": [
    "# START HERE"
   ]
  },
  {
   "cell_type": "code",
   "execution_count": 6,
   "id": "bbb474bc-8384-46a9-9207-ce34b79aabce",
   "metadata": {},
   "outputs": [],
   "source": [
    "def calibration_error(true_labels, samples, M):\n",
    "    # uniform binning approach with M number of bins\n",
    "    bin_boundaries = np.linspace(0, 1, M + 1)\n",
    "    bin_lowers = bin_boundaries[:-1]\n",
    "    bin_uppers = bin_boundaries[1:]\n",
    "\n",
    "    # get max probability per sample i\n",
    "    confidences = np.max(samples, axis=1)\n",
    "    # get predictions from confidences (positional in this case)\n",
    "    predicted_label = np.argmax(samples, axis=1)\n",
    "\n",
    "    # get a boolean list of correct/false predictions\n",
    "    accuracies = predicted_label==true_labels\n",
    "\n",
    "    ece = np.zeros(1)\n",
    "    for bin_lower, bin_upper in zip(bin_lowers, bin_uppers):\n",
    "        # determine if sample is in bin m (between bin lower & upper)\n",
    "        in_bin = np.logical_and(confidences > bin_lower.item(), confidences <= bin_upper.item())\n",
    "        # can calculate the empirical probability of a sample falling into bin m: (|Bm|/n)\n",
    "        prob_in_bin = in_bin.mean()\n",
    "\n",
    "        if prob_in_bin.item() > 0:\n",
    "            # get the accuracy of bin m: acc(Bm)\n",
    "            accuracy_in_bin = accuracies[in_bin].mean()\n",
    "            # get the average confidence of bin m: conf(Bm)\n",
    "            avg_confidence_in_bin = confidences[in_bin].mean()\n",
    "            # calculate |acc(Bm) - conf(Bm)| * (|Bm|/n) for bin m and add to the total ECE\n",
    "            ece += np.abs(avg_confidence_in_bin - accuracy_in_bin) * prob_in_bin\n",
    "    return ece[0]"
   ]
  },
  {
   "cell_type": "code",
   "execution_count": 7,
   "id": "27328959-4136-4b81-baad-410452de965e",
   "metadata": {
    "scrolled": true,
    "tags": []
   },
   "outputs": [
    {
     "name": "stdout",
     "output_type": "stream",
     "text": [
      "LR\n",
      "calibration method fit\n",
      "calibrated pred on eval\n",
      "calculate log loss\n",
      "calculate ECE\n",
      "DT\n",
      "calibration method fit\n",
      "calibrated pred on eval\n",
      "calculate log loss\n",
      "calculate ECE\n",
      "RF\n",
      "calibration method fit\n",
      "calibrated pred on eval\n",
      "calculate log loss\n",
      "calculate ECE\n",
      "XGB\n",
      "[16:47:43] DEBUG: /workspace/src/gbm/gbtree.cc:130: Using tree method: 3\n",
      "[16:47:43] DEBUG: /workspace/src/tree/updater_gpu_hist.cu:822: [GPU Hist]: Configure\n"
     ]
    },
    {
     "name": "stderr",
     "output_type": "stream",
     "text": [
      "/home/abudiarto/miniconda3/envs/tf2.13/lib/python3.10/site-packages/xgboost/core.py:158: UserWarning: [16:47:43] WARNING: /workspace/src/common/error_msg.cc:58: Falling back to prediction using DMatrix due to mismatched devices. This might lead to higher memory usage and slower performance. XGBoost is running on: cuda:0, while the input data is on: cpu.\n",
      "Potential solutions:\n",
      "- Use a data structure that matches the device ordinal in the booster.\n",
      "- Set the device for booster before call to inplace_predict.\n",
      "\n",
      "This warning will only be shown once.\n",
      "\n",
      "  warnings.warn(smsg, UserWarning)\n"
     ]
    },
    {
     "name": "stdout",
     "output_type": "stream",
     "text": [
      "calibration method fit\n",
      "calibrated pred on eval\n",
      "calculate log loss\n",
      "calculate ECE\n"
     ]
    }
   ],
   "source": [
    "result = []\n",
    "model_names = ['LR', 'DT', 'RF', 'XGB']\n",
    "for model_name in model_names:\n",
    "    print(model_name)\n",
    "    model = pickle.load(open('../../MODELS/TestResultOrdinal/outcome_12months_'+model_name+'.sav', 'rb'))\n",
    "    preds = model.predict_proba(X_gridSearch)[:,1]\n",
    "    \n",
    "    print('calibration method fit')\n",
    "    sigm_clf = CalibratedClassifierCV(model, cv=\"prefit\", method='sigmoid')\n",
    "    sigm_clf.fit(X_gridSearch, y_gridSearch)\n",
    "    iso_clf = CalibratedClassifierCV(model, cv=\"prefit\", method='isotonic')\n",
    "    iso_clf.fit(X_gridSearch, y_gridSearch)\n",
    "    calib = mli.SplineCalib()\n",
    "    calib.fit(preds, y_gridSearch)\n",
    "\n",
    "    print('calibrated pred on eval')\n",
    "    preds_eval = model.predict_proba(X_externalVal)[:,1] #uncalibrated\n",
    "    preds_sigm = sigm_clf.predict_proba(X_externalVal)[:,1] #sigmoid\n",
    "    preds_iso = iso_clf.predict_proba(X_externalVal)[:,1] #isotonic\n",
    "    preds_spline = calib.predict_proba(preds_eval) #spline\n",
    "    preds_naive = [.5] * y_externalVal.shape[0]\n",
    "    \n",
    "    \n",
    "    print('calculate log loss')\n",
    "    naive_loss = log_loss(y_externalVal, preds_naive)\n",
    "    uncalib_loss = log_loss(y_externalVal, preds_eval)\n",
    "    sigm_loss = log_loss(y_externalVal, preds_sigm)\n",
    "    iso_loss = log_loss(y_externalVal, preds_iso)\n",
    "    spline_loss = log_loss(y_externalVal, preds_spline)\n",
    "    \n",
    "    print('calculate ECE')\n",
    "    nbins = 10\n",
    "    naive_ECE = calibration_error(y_externalVal,[[.5, 0.5]] * y_externalVal.shape[0], nbins)\n",
    "    uncalib_ECE = calibration_error(y_externalVal, model.predict_proba(X_externalVal), nbins)\n",
    "    sigm_ECE = calibration_error(y_externalVal,sigm_clf.predict_proba(X_externalVal), nbins)\n",
    "    iso_ECE = calibration_error(y_externalVal,iso_clf.predict_proba(X_externalVal), nbins)\n",
    "    spline_ECE = calibration_error(y_externalVal,np.concatenate((1-calib.predict(preds_eval).reshape(-1,1),calib.predict(preds_eval).reshape(-1,1)),axis=1), nbins)\n",
    "\n",
    "    \n",
    "    temp = [model_name, naive_loss, uncalib_loss, sigm_loss, iso_loss, spline_loss, \n",
    "            naive_ECE, uncalib_ECE, sigm_ECE, iso_ECE, spline_ECE\n",
    "           ]\n",
    "    result.append(temp)\n",
    "\n",
    "#     print('Naive loss = {}'.format(np.round(naive_loss,5)))\n",
    "#     print('Uncalibrated loss = {}'.format(np.round(uncalib_loss,5)))\n",
    "#     print('Sigmoid loss = {}'.format(np.round(sigm_loss,5)))\n",
    "#     print('Isotonic loss = {}'.format(np.round(iso_loss,5)))\n",
    "#     print('Spline loss = {}'.format(np.round(spline_loss,5)))"
   ]
  },
  {
   "cell_type": "code",
   "execution_count": 8,
   "id": "bacf0a4c-39a7-4639-a4c2-08ef5de393d5",
   "metadata": {},
   "outputs": [
    {
     "data": {
      "text/html": [
       "<div>\n",
       "<style scoped>\n",
       "    .dataframe tbody tr th:only-of-type {\n",
       "        vertical-align: middle;\n",
       "    }\n",
       "\n",
       "    .dataframe tbody tr th {\n",
       "        vertical-align: top;\n",
       "    }\n",
       "\n",
       "    .dataframe thead th {\n",
       "        text-align: right;\n",
       "    }\n",
       "</style>\n",
       "<table border=\"1\" class=\"dataframe\">\n",
       "  <thead>\n",
       "    <tr style=\"text-align: right;\">\n",
       "      <th></th>\n",
       "      <th>model</th>\n",
       "      <th>naive loss</th>\n",
       "      <th>uncalibrated loss</th>\n",
       "      <th>sigmoid-calibrated loss</th>\n",
       "      <th>isotonic-calibrated loss</th>\n",
       "      <th>spline-calibrated loss</th>\n",
       "      <th>naive ECE</th>\n",
       "      <th>uncalibrated ECE</th>\n",
       "      <th>sigmoid-calibrated ECE</th>\n",
       "      <th>isotonic-calibrated ECE</th>\n",
       "      <th>spline-calibrated ECE</th>\n",
       "    </tr>\n",
       "  </thead>\n",
       "  <tbody>\n",
       "    <tr>\n",
       "      <th>0</th>\n",
       "      <td>LR</td>\n",
       "      <td>0.693147</td>\n",
       "      <td>0.616466</td>\n",
       "      <td>0.381625</td>\n",
       "      <td>0.381240</td>\n",
       "      <td>0.375916</td>\n",
       "      <td>0.344159</td>\n",
       "      <td>0.075034</td>\n",
       "      <td>0.033121</td>\n",
       "      <td>0.021722</td>\n",
       "      <td>0.020899</td>\n",
       "    </tr>\n",
       "    <tr>\n",
       "      <th>1</th>\n",
       "      <td>DT</td>\n",
       "      <td>0.693147</td>\n",
       "      <td>0.590196</td>\n",
       "      <td>0.369815</td>\n",
       "      <td>0.368094</td>\n",
       "      <td>0.366571</td>\n",
       "      <td>0.344159</td>\n",
       "      <td>0.099063</td>\n",
       "      <td>0.028290</td>\n",
       "      <td>0.025494</td>\n",
       "      <td>0.022267</td>\n",
       "    </tr>\n",
       "    <tr>\n",
       "      <th>2</th>\n",
       "      <td>RF</td>\n",
       "      <td>0.693147</td>\n",
       "      <td>0.579937</td>\n",
       "      <td>0.361364</td>\n",
       "      <td>0.371070</td>\n",
       "      <td>0.359785</td>\n",
       "      <td>0.344159</td>\n",
       "      <td>0.051354</td>\n",
       "      <td>0.022615</td>\n",
       "      <td>0.022096</td>\n",
       "      <td>0.019235</td>\n",
       "    </tr>\n",
       "    <tr>\n",
       "      <th>3</th>\n",
       "      <td>XGB</td>\n",
       "      <td>0.693147</td>\n",
       "      <td>0.589845</td>\n",
       "      <td>0.358025</td>\n",
       "      <td>0.363031</td>\n",
       "      <td>0.354304</td>\n",
       "      <td>0.344159</td>\n",
       "      <td>0.043553</td>\n",
       "      <td>0.025460</td>\n",
       "      <td>0.016921</td>\n",
       "      <td>0.011195</td>\n",
       "    </tr>\n",
       "  </tbody>\n",
       "</table>\n",
       "</div>"
      ],
      "text/plain": [
       "  model  naive loss  uncalibrated loss  sigmoid-calibrated loss  \\\n",
       "0    LR    0.693147           0.616466                 0.381625   \n",
       "1    DT    0.693147           0.590196                 0.369815   \n",
       "2    RF    0.693147           0.579937                 0.361364   \n",
       "3   XGB    0.693147           0.589845                 0.358025   \n",
       "\n",
       "   isotonic-calibrated loss  spline-calibrated loss  naive ECE  \\\n",
       "0                  0.381240                0.375916   0.344159   \n",
       "1                  0.368094                0.366571   0.344159   \n",
       "2                  0.371070                0.359785   0.344159   \n",
       "3                  0.363031                0.354304   0.344159   \n",
       "\n",
       "   uncalibrated ECE  sigmoid-calibrated ECE  isotonic-calibrated ECE  \\\n",
       "0          0.075034                0.033121                 0.021722   \n",
       "1          0.099063                0.028290                 0.025494   \n",
       "2          0.051354                0.022615                 0.022096   \n",
       "3          0.043553                0.025460                 0.016921   \n",
       "\n",
       "   spline-calibrated ECE  \n",
       "0               0.020899  \n",
       "1               0.022267  \n",
       "2               0.019235  \n",
       "3               0.011195  "
      ]
     },
     "execution_count": 8,
     "metadata": {},
     "output_type": "execute_result"
    }
   ],
   "source": [
    "pd.DataFrame(result, columns=['model', 'naive loss', 'uncalibrated loss', 'sigmoid-calibrated loss', 'isotonic-calibrated loss', 'spline-calibrated loss',\n",
    "                             'naive ECE', 'uncalibrated ECE', 'sigmoid-calibrated ECE', 'isotonic-calibrated ECE', 'spline-calibrated ECE'])"
   ]
  },
  {
   "cell_type": "code",
   "execution_count": null,
   "id": "02e5ed29-8396-4ade-9830-f6884d2fa755",
   "metadata": {},
   "outputs": [],
   "source": []
  },
  {
   "cell_type": "code",
   "execution_count": null,
   "id": "7fddd93d-a62e-4016-a5b2-7d192f1a84ab",
   "metadata": {},
   "outputs": [],
   "source": []
  },
  {
   "cell_type": "markdown",
   "id": "6cf87d1a-e6f8-47c4-a71f-5c761c7dc601",
   "metadata": {},
   "source": [
    "# Plot"
   ]
  },
  {
   "cell_type": "code",
   "execution_count": 9,
   "id": "4f2336ac-1097-4235-80e3-8e57e3efde44",
   "metadata": {
    "tags": []
   },
   "outputs": [
    {
     "name": "stderr",
     "output_type": "stream",
     "text": [
      "/tmp/ipykernel_2369/1539026038.py:3: MatplotlibDeprecationWarning: The get_cmap function was deprecated in Matplotlib 3.7 and will be removed in 3.11. Use ``matplotlib.colormaps[name]`` or ``matplotlib.colormaps.get_cmap()`` or ``pyplot.get_cmap()`` instead.\n",
      "  colors = plt.cm.get_cmap(\"Paired\")\n"
     ]
    },
    {
     "name": "stdout",
     "output_type": "stream",
     "text": [
      "[16:47:46] DEBUG: /workspace/src/gbm/gbtree.cc:130: Using tree method: 3\n",
      "[16:47:46] DEBUG: /workspace/src/tree/updater_gpu_hist.cu:822: [GPU Hist]: Configure\n"
     ]
    },
    {
     "data": {
      "image/png": "[encoded data removed]",
      "text/plain": [
       "<Figure size 720x1080 with 5 Axes>"
      ]
     },
     "metadata": {
      "needs_background": "light"
     },
     "output_type": "display_data"
    }
   ],
   "source": [
    "\n",
    "fig = plt.figure(figsize=(10, 15))\n",
    "gs = GridSpec(5, 3)\n",
    "colors = plt.cm.get_cmap(\"Paired\")\n",
    "\n",
    "ax_calibration_curve = fig.add_subplot(gs[:2, :3])\n",
    "calibration_displays = {}\n",
    "linestyles = [':', '--', '-.', '-']\n",
    "model_names = ['LR', 'DT', 'RF', 'XGB']\n",
    "for model_name, linestyle  in zip(model_names, linestyles):\n",
    "    model = pickle.load(open('../../MODELS/TestResultOrdinal/outcome_12months_'+model_name+'.sav', 'rb'))\n",
    "    display = CalibrationDisplay.from_estimator(\n",
    "        model,\n",
    "        X_externalVal,\n",
    "        y_externalVal,\n",
    "        n_bins=10,\n",
    "        name=model_name,\n",
    "        ax=ax_calibration_curve,\n",
    "        # color=colors(i),\n",
    "        linestyle=linestyle,\n",
    "    )\n",
    "    calibration_displays[model_name] = display\n",
    "\n",
    "ax_calibration_curve.grid()\n",
    "plt.xticks(np.arange(0, 1, step=.1))\n",
    "plt.yticks(np.arange(0, 1, step=.1))\n",
    "ax_calibration_curve.set_title(\"Calibration plots\")\n",
    "\n",
    "grid_positions = [(2, 0), (2, 1),(2, 2),(3,0),(3,1),(3,2),(4,0),(4,1),(4,2) ]\n",
    "i = 0\n",
    "for model_name in model_names:\n",
    "    row, col = grid_positions[i]\n",
    "    ax = fig.add_subplot(gs[row, col])\n",
    "\n",
    "    ax.hist(\n",
    "        calibration_displays[model_name].y_prob,\n",
    "        range=(0, 1),\n",
    "        bins=10,\n",
    "        label=model_name,\n",
    "        # color=colors(i),\n",
    "    )\n",
    "    ax.set(title=model_name, xlabel=\"Mean predicted probability\", ylabel=\"Count\")\n",
    "    i+=1\n",
    "\n",
    "plt.tight_layout()\n",
    "plt.show()\n",
    "\n"
   ]
  },
  {
   "cell_type": "code",
   "execution_count": null,
   "id": "7fc6826e-6335-4ba6-8536-12da64ec9066",
   "metadata": {},
   "outputs": [],
   "source": [
    "fig = plt.figure(figsize=(10, 15))\n",
    "gs = GridSpec(5, 3)\n",
    "colors = plt.get_cmap(\"Paired\")\n",
    "\n",
    "ax_calibration_curve = fig.add_subplot(gs[:2, :3])\n",
    "calibration_displays = {}\n",
    "linestyles = [':', '--', '-.', '-']\n",
    "model_names = ['LR', 'DT', 'RF', 'XGB']\n",
    "\n",
    "for model_name, linestyle  in zip(model_names, linestyles):\n",
    "    model = pickle.load(open('../../MODELS/TestResultOrdinal/outcome_12months_'+model_name+'.sav', 'rb'))\n",
    "    preds = model.predict_proba(X)[:,1]\n",
    "    preds_eval = model.predict_proba(X_externalVal)[:,1]\n",
    "    \n",
    "    # calibration method fit\n",
    "    calib = mli.SplineCalib()\n",
    "    calib.fit(preds, y)\n",
    "    preds_spline = calib.predict_proba(preds_eval)\n",
    "    display = CalibrationDisplay.from_predictions(\n",
    "        y_externalVal,\n",
    "        preds_spline,\n",
    "        n_bins=10,\n",
    "        name=model_name,\n",
    "        ax=ax_calibration_curve,\n",
    "        # color=colors(i),\n",
    "        linestyle = linestyle,\n",
    "    )\n",
    "    calibration_displays[model_name] = display\n",
    "    pickle.dump(calib, open('../../MODELS/CalibratedOrdinal/outcome_12months_'+model_name+'.sav', 'wb'))\n",
    "\n",
    "ax_calibration_curve.grid()\n",
    "plt.xticks(np.arange(0, 1, step=.1))\n",
    "plt.yticks(np.arange(0, 1, step=.1))\n",
    "ax_calibration_curve.set_title(\"Calibration plots\")\n",
    "\n",
    "grid_positions = [(2, 0), (2, 1),(2, 2),(3,0),(3,1),(3,2),(4,0),(4,1),(4,2) ]\n",
    "\n",
    "for model_name, linestyle  in zip(model_names, linestyles):\n",
    "    row, col = grid_positions[i]\n",
    "    ax = fig.add_subplot(gs[row, col])\n",
    "\n",
    "    ax.hist(\n",
    "        calibration_displays[model_name].y_prob,\n",
    "        range=(0, 1),\n",
    "        bins=10,\n",
    "        label=model_name,\n",
    "        # color=colors(i),\n",
    "        \n",
    "    )\n",
    "    ax.set(title=model_name, xlabel=\"Mean predicted probability\", ylabel=\"Count\")\n",
    "\n",
    "\n",
    "plt.tight_layout()\n",
    "plt.show()\n",
    "\n"
   ]
  },
  {
   "cell_type": "code",
   "execution_count": null,
   "id": "e65edecd-fe03-4cb5-88b2-dde6f956d308",
   "metadata": {},
   "outputs": [],
   "source": [
    "model = pickle.load(open('../MODELS/TestResult/outcome_12months_XGB.sav', 'rb'))\n",
    "calibrated_model = pickle.load(open('../MODELS/Calibrated/outcome_12months_XGB.sav', 'rb'))"
   ]
  },
  {
   "cell_type": "code",
   "execution_count": null,
   "id": "b2528c72-e244-47cb-aafd-2ef4c8fe326e",
   "metadata": {},
   "outputs": [],
   "source": []
  },
  {
   "cell_type": "code",
   "execution_count": null,
   "id": "17cea8af-77a3-4edd-89f0-f11eeddddc3d",
   "metadata": {},
   "outputs": [],
   "source": [
    "confusion_matrix(y_externalVal, preds)"
   ]
  },
  {
   "cell_type": "code",
   "execution_count": null,
   "id": "5ba32766-9da7-4404-9a78-b09f347e447f",
   "metadata": {},
   "outputs": [],
   "source": [
    "confusion_matrix(y_externalVal, preds_uncalibrated)"
   ]
  },
  {
   "cell_type": "markdown",
   "id": "7aa1e06c-0d44-42ce-ad49-f1c822fc85ad",
   "metadata": {},
   "source": [
    "# END"
   ]
  },
  {
   "cell_type": "code",
   "execution_count": null,
   "id": "ab9b4feb-ab12-403d-85ef-8c0d29a113ef",
   "metadata": {
    "scrolled": true,
    "tags": []
   },
   "outputs": [],
   "source": [
    "model_names = ['LR', 'Lasso', 'Elastics', 'DT', 'RF', 'XGB']\n",
    "for model_name in model_names:\n",
    "    print(model_name)\n",
    "    model = pickle.load(open('../Models_trainValEval/12months/'+model_name+'0_2vs1.sav', 'rb'))\n",
    "    preds = model.predict_proba(X_eval)[:,1]\n",
    "    # preds = [x[1] for x in preds]\n",
    "    plt.figure(figsize=(10, 5))\n",
    "    mli.plot_reliability_diagram(y_eval, preds, bins=[0.  , 0.1 , 0.2 , 0.3 ,  0.4 ,  0.5 ,\n",
    "        0.6 ,  0.7 ,  0.8 , 0.9 ,  1.  ])\n",
    "    plt.xticks(np.arange(0, 1, step=.1))\n",
    "    plt.yticks(np.arange(0, 1, step=.1))\n",
    "    plt.show()\n",
    "    # plt.title(model_name)\n",
    "    # prob_true, prob_pred = calibration_curve(y_eval.values, preds, n_bins=10)\n",
    "    # print(model_name, bin_total(y_eval.values, preds, n_bins=10))\n",
    "\n",
    "# plt.legend(loc=4)\n"
   ]
  },
  {
   "cell_type": "code",
   "execution_count": null,
   "id": "c9b77140-6a2b-47d2-bb2c-ca0a37809907",
   "metadata": {},
   "outputs": [],
   "source": [
    "calib1 = mli.SplineCalib()\n",
    "preds_cset = model.predict_proba(X_eval)[:,1]\n",
    "calib1.fit(preds_cset, y_eval)\n",
    "preds_test_calib1 = calib1.calibrate(preds_cset)\n",
    "mli.plot_reliability_diagram(y_eval, preds_test_calib1)\n",
    "# calib1.show_calibration_curve()"
   ]
  },
  {
   "cell_type": "code",
   "execution_count": null,
   "id": "155971d2-2846-48d7-81e5-d161169c6939",
   "metadata": {},
   "outputs": [],
   "source": [
    "\n",
    "log_loss(y_eval, preds_cset),log_loss(y_eval, preds_test_calib1)"
   ]
  },
  {
   "cell_type": "code",
   "execution_count": null,
   "id": "44cff101-74f6-43ee-9f8c-c8a4203714f8",
   "metadata": {},
   "outputs": [],
   "source": [
    "model_names = ['LR', 'Lasso', 'Elastics', 'DT', 'RF', 'XGB']\n",
    "for model_name in model_names:\n",
    "    model = pickle.load(open('../Models_trainValEval/12months/'+model_name+'0_2vs1.sav', 'rb'))\n",
    "    calibrated_clf = CalibratedClassifierCV(model, cv=\"prefit\", method='isotonic')\n",
    "    calibrated_clf.fit(X_eval, y_eval)\n",
    "    preds = calibrated_clf.predict_proba(X_eval)\n",
    "    preds = [x[1] for x in preds]\n",
    "    mli.plot_reliability_diagram(y_test, preds_test_uncalib, marker='.')\n",
    "    # prob_true, prob_pred = calibration_curve(y_eval.values, preds, n_bins=10)\n",
    "    # print(model_name, bin_total(y_eval.values, preds, n_bins=10))\n",
    "\n",
    "# plt.legend(loc=4)\n"
   ]
  },
  {
   "cell_type": "code",
   "execution_count": null,
   "id": "58fc4b60-c349-4cf3-a8c7-6551e3a09acc",
   "metadata": {
    "scrolled": true,
    "tags": []
   },
   "outputs": [],
   "source": [
    "def bin_total(y_true, y_prob, n_bins):\n",
    "    bins = np.linspace(0., 1. + 1e-8, n_bins + 1)\n",
    "\n",
    "    # In sklearn.calibration.calibration_curve,\n",
    "    # the last value in the array is always 0.\n",
    "    binids = np.digitize(y_prob, bins) - 1\n",
    "\n",
    "    return np.bincount(binids, minlength=len(bins))\n",
    "\n",
    "\n",
    "model_names = ['LR', 'Lasso', 'Elastics', 'DT', 'RF', 'XGB']\n",
    "for model_name in model_names:\n",
    "    model = pickle.load(open('../Models_trainValEval/12months/'+model_name+'0_2vs1.sav', 'rb'))\n",
    "    calibrated_clf = CalibratedClassifierCV(model, cv=\"prefit\", method='isotonic')\n",
    "    calibrated_clf.fit(X_eval, y_eval)\n",
    "    preds = calibrated_clf.predict_proba(X_eval)\n",
    "    preds = [x[1] for x in preds]\n",
    "    prob_true, prob_pred = calibration_curve(y_eval.values, preds, n_bins=10)\n",
    "    print(model_name, bin_total(y_eval.values, preds, n_bins=10))\n",
    "\n",
    "# plt.legend(loc=4)\n"
   ]
  },
  {
   "cell_type": "code",
   "execution_count": null,
   "id": "ce63a202-9eb3-455b-aff0-fbd348297ab4",
   "metadata": {
    "tags": []
   },
   "outputs": [],
   "source": [
    "X_eval.shape"
   ]
  },
  {
   "cell_type": "code",
   "execution_count": null,
   "id": "ae97d892-b342-4a89-a8dd-015085c3eb39",
   "metadata": {
    "scrolled": true,
    "tags": []
   },
   "outputs": [],
   "source": []
  },
  {
   "cell_type": "code",
   "execution_count": null,
   "id": "cdf5bf87-2334-4b92-b2e2-10cfb43f6260",
   "metadata": {
    "tags": []
   },
   "outputs": [],
   "source": [
    "\n",
    "model_names = ['LR', 'Lasso', 'Elastics', 'DT', 'RF', 'XGB']\n",
    "fig = plt.figure(figsize=(10, 15))\n",
    "gs = GridSpec(5, 3)\n",
    "colors = plt.cm.get_cmap(\"Dark2\")\n",
    "\n",
    "ax_calibration_curve = fig.add_subplot(gs[:2, :3])\n",
    "calibration_displays = {}\n",
    "for model_name in model_names:\n",
    "    model = pickle.load(open('../Models_trainValEval/12months/'+model_name+'0_2vs1.sav', 'rb'))\n",
    "    calibrated_clf = CalibratedClassifierCV(model, cv=\"prefit\", method='sigmoid')\n",
    "    calibrated_clf.fit(X_eval, y_eval)\n",
    "    display = CalibrationDisplay.from_estimator(\n",
    "        calibrated_clf,\n",
    "        X_eval,\n",
    "        y_eval,\n",
    "        n_bins=10,\n",
    "        name=model_name,\n",
    "        ax=ax_calibration_curve,\n",
    "        # color=colors(i),\n",
    "    )\n",
    "    calibration_displays[model_name] = display\n",
    "\n",
    "ax_calibration_curve.grid()\n",
    "plt.xticks(np.arange(0, 1, step=.1))\n",
    "plt.yticks(np.arange(0, 1, step=.1))\n",
    "ax_calibration_curve.set_title(\"Calibration plots\")\n",
    "\n",
    "grid_positions = [(2, 0), (2, 1),(2, 2),(3,0),(3,1),(3,2),(4,0),(4,1),(4,2) ]\n",
    "i = 0\n",
    "for model_name in model_names:\n",
    "    row, col = grid_positions[i]\n",
    "    ax = fig.add_subplot(gs[row, col])\n",
    "\n",
    "    ax.hist(\n",
    "        calibration_displays[model_name].y_prob,\n",
    "        range=(0, 1),\n",
    "        bins=10,\n",
    "        label=model_name,\n",
    "        # color=colors(i),\n",
    "    )\n",
    "    ax.set(title=model_name, xlabel=\"Mean predicted probability\", ylabel=\"Count\")\n",
    "    i+=1\n",
    "\n",
    "plt.tight_layout()\n",
    "plt.show()"
   ]
  },
  {
   "cell_type": "code",
   "execution_count": null,
   "id": "0dc87fb5-28eb-42d6-a8e6-1209ede66600",
   "metadata": {},
   "outputs": [],
   "source": [
    "\n",
    "model_names = ['LR', 'Lasso', 'Elastics', 'DT', 'RF', 'XGB']\n",
    "fig = plt.figure(figsize=(10, 15))\n",
    "gs = GridSpec(5, 3)\n",
    "colors = plt.cm.get_cmap(\"Dark2\")\n",
    "\n",
    "ax_calibration_curve = fig.add_subplot(gs[:2, :3])\n",
    "calibration_displays = {}\n",
    "for model_name in model_names:\n",
    "    model = pickle.load(open('../Models_trainValEval/12months/'+model_name+'0_2vs1.sav', 'rb'))\n",
    "    calib = mli.SplineCalib()\n",
    "    preds_cset = rfmodel1.predict_proba(X_internaleval)[:,1]\n",
    "    calib.fit(preds_cset, y_internaleval)\n",
    "    calibrated_clf.fit(X_eval, y_eval)\n",
    "    display = CalibrationDisplay.from_estimator(\n",
    "        calibrated_clf,\n",
    "        X_eval,\n",
    "        y_eval,\n",
    "        n_bins=10,\n",
    "        name=model_name,\n",
    "        ax=ax_calibration_curve,\n",
    "        # color=colors(i),\n",
    "    )\n",
    "    calibration_displays[model_name] = display\n",
    "    calib = \n",
    "\n",
    "ax_calibration_curve.grid()\n",
    "plt.xticks(np.arange(0, 1, step=.1))\n",
    "plt.yticks(np.arange(0, 1, step=.1))\n",
    "ax_calibration_curve.set_title(\"Calibration plots\")\n",
    "\n",
    "grid_positions = [(2, 0), (2, 1),(2, 2),(3,0),(3,1),(3,2),(4,0),(4,1),(4,2) ]\n",
    "i = 0\n",
    "for model_name in model_names:\n",
    "    row, col = grid_positions[i]\n",
    "    ax = fig.add_subplot(gs[row, col])\n",
    "\n",
    "    ax.hist(\n",
    "        calibration_displays[model_name].y_prob,\n",
    "        range=(0, 1),\n",
    "        bins=10,\n",
    "        label=model_name,\n",
    "        # color=colors(i),\n",
    "    )\n",
    "    ax.set(title=model_name, xlabel=\"Mean predicted probability\", ylabel=\"Count\")\n",
    "    i+=1\n",
    "\n",
    "plt.tight_layout()\n",
    "plt.show()"
   ]
  },
  {
   "cell_type": "code",
   "execution_count": null,
   "id": "11864f61-bfa1-44d8-9773-118c619ee1de",
   "metadata": {
    "tags": []
   },
   "outputs": [],
   "source": [
    "pred_cal = calibrated_clf.predict_proba(X_eval)\n",
    "pred_noncal = model.predict_proba(X_eval)"
   ]
  },
  {
   "cell_type": "code",
   "execution_count": null,
   "id": "e705b4f3-3034-4804-afa5-ea6fe7206263",
   "metadata": {
    "tags": []
   },
   "outputs": [],
   "source": [
    "confusion_matrix(y_eval, pred_cal)"
   ]
  },
  {
   "cell_type": "code",
   "execution_count": null,
   "id": "e45483ce-a594-4893-960e-7fbbede805a3",
   "metadata": {
    "tags": []
   },
   "outputs": [],
   "source": [
    "confusion_matrix(y_eval, pred_noncal)"
   ]
  },
  {
   "cell_type": "code",
   "execution_count": null,
   "id": "2153132e-0418-4ecd-8ed9-dbe9f2492c09",
   "metadata": {
    "tags": []
   },
   "outputs": [],
   "source": [
    "from sklearn.metrics import log_loss\n",
    "log_loss(y_eval, pred_noncal)"
   ]
  },
  {
   "cell_type": "code",
   "execution_count": null,
   "id": "5581e85c-a566-4876-b4ba-3caff1a5836c",
   "metadata": {
    "tags": []
   },
   "outputs": [],
   "source": [
    "y_eval.value_counts()[0]/y_eval.value_counts()[1]"
   ]
  },
  {
   "cell_type": "code",
   "execution_count": null,
   "id": "7f95617b-4b95-4149-b3a0-ae2b74627b8d",
   "metadata": {
    "tags": []
   },
   "outputs": [],
   "source": [
    "log_loss(y_eval, pred_cal)"
   ]
  },
  {
   "cell_type": "code",
   "execution_count": null,
   "id": "f6dea220-c343-43c7-a6ac-300f38f73863",
   "metadata": {},
   "outputs": [],
   "source": [
    "a = pd.DataFrame([y_eval.values, pred_noncal, pred_cal]).T\n",
    "a.tail(10)"
   ]
  },
  {
   "cell_type": "code",
   "execution_count": null,
   "id": "5832667f-48d0-492f-a6cb-5c5175eb0437",
   "metadata": {
    "tags": []
   },
   "outputs": [],
   "source": [
    "def summariseResultCalibration (testX, testY, model, threshold):\n",
    "    preds = model.predict_proba(testX)\n",
    "    preds = [0 if x[1] < threshold else 1 for x in preds]\n",
    "    tn, fp, fn, tp = confusion_matrix(testY, preds).ravel()\n",
    "    specificity = tn / (tn+fp)\n",
    "    sensitivity = tp / (tp+fn)\n",
    "    ppv = 100*tp/(tp+fp)\n",
    "    npv = 100*tn/(fn+tn)\n",
    "    acc = accuracy_score(testY, preds)\n",
    "    f1score = f1_score(testY, preds, average = 'binary')\n",
    "    balanceacc = balanced_accuracy_score(testY, preds)\n",
    "    aucscore = roc_auc_score(testY, preds)\n",
    "    return np.round(acc,4), np.round(specificity,4), np.round(sensitivity,4), np.round(balanceacc,4), np.round(f1score,4), np.round(ppv,4), np.round(npv,4), np.round(aucscore,4)\n",
    "\n",
    "\n",
    "\n",
    "for model_name in model_names:\n",
    "    model = pickle.load(open('../Models_trainValEval/12months/'+model_name+'0_2vs1.sav', 'rb'))\n",
    "    calibrated_clf = CalibratedClassifierCV(model, cv=\"prefit\", method='isotonic')\n",
    "    calibrated_clf.fit(X_eval, y_eval)\n",
    "    preds = calibrated_clf.predict_proba(X_eval)\n",
    "    preds = [x[1] for x in preds]\n",
    "    fpr, tpr, thresholds = roc_curve(y_eval, preds)\n",
    "    optimal_idx = np.argmax(tpr - fpr)# Find optimal probability threshold\n",
    "    threshold = thresholds[optimal_idx]\n",
    "    # calibrationResult.append(((outcome, model_name, threshold)+summariseResultCalibration(X_eval, y_eval, model, threshold)))\n",
    "    aucscore = roc_auc_score(y_eval, preds)\n",
    "    auprc = average_precision_score(y_eval, preds)\n",
    "    print(aucscore, auprc)\n",
    "    print (model_name, threshold, summariseResultCalibration(X_eval, y_eval, calibrated_clf, threshold))\n",
    "    "
   ]
  },
  {
   "cell_type": "code",
   "execution_count": null,
   "id": "6181766d-a56c-4b2b-9a67-9b33412669c2",
   "metadata": {
    "tags": []
   },
   "outputs": [],
   "source": [
    "def summariseResultCalibration (testX, testY, model, threshold):\n",
    "    preds = model.predict_proba(testX)\n",
    "    preds = [0 if x[1] < threshold else 1 for x in preds]\n",
    "    tn, fp, fn, tp = confusion_matrix(testY, preds).ravel()\n",
    "    specificity = tn / (tn+fp)\n",
    "    sensitivity = tp / (tp+fn)\n",
    "    ppv = 100*tp/(tp+fp)\n",
    "    npv = 100*tn/(fn+tn)\n",
    "    acc = accuracy_score(testY, preds)\n",
    "    f1score = f1_score(testY, preds, average = 'binary')\n",
    "    balanceacc = balanced_accuracy_score(testY, preds)\n",
    "    aucscore = roc_auc_score(testY, preds)\n",
    "    return np.round(acc,4), np.round(specificity,4), np.round(sensitivity,4), np.round(balanceacc,4), np.round(f1score,4), np.round(ppv,4), np.round(npv,4), np.round(aucscore,4)\n",
    "\n",
    "\n",
    "\n",
    "for model_name in model_names:\n",
    "    model = pickle.load(open('../Models_trainValEval/12months/'+model_name+'0_2vs1.sav', 'rb'))\n",
    "    # calibrated_clf = CalibratedClassifierCV(model, cv=\"prefit\", method='isotonic')\n",
    "    # calibrated_clf.fit(X_internaleval, y_internaleval)\n",
    "    preds = model.predict_proba(X_eval)\n",
    "    preds = [x[1] for x in preds]\n",
    "    fpr, tpr, thresholds = roc_curve(y_eval, preds)\n",
    "    optimal_idx = np.argmax(tpr - fpr)# Find optimal probability threshold\n",
    "    threshold = thresholds[optimal_idx]\n",
    "    # calibrationResult.append(((outcome, model_name, threshold)+summariseResultCalibration(X_eval, y_eval, model, threshold)))\n",
    "    aucscore = roc_auc_score(y_eval, preds)\n",
    "    auprc = average_precision_score(y_eval, preds)\n",
    "    print(aucscore, auprc)\n",
    "    print (model_name, threshold, summariseResultCalibration(X_eval, y_eval, model, threshold))\n",
    "    "
   ]
  },
  {
   "cell_type": "code",
   "execution_count": null,
   "id": "54c0ecd4-1e6b-4fd6-9e18-7871f9ddf30c",
   "metadata": {},
   "outputs": [],
   "source": []
  },
  {
   "cell_type": "code",
   "execution_count": null,
   "id": "90e75f4e-803d-4b99-80b7-d6b102d29bbe",
   "metadata": {},
   "outputs": [],
   "source": []
  },
  {
   "cell_type": "code",
   "execution_count": null,
   "id": "2f15cbc2-0408-4e34-b722-1612f118e024",
   "metadata": {},
   "outputs": [],
   "source": []
  },
  {
   "cell_type": "code",
   "execution_count": null,
   "id": "f6f05ced-a339-4601-ab6d-515e90b47920",
   "metadata": {
    "tags": []
   },
   "outputs": [],
   "source": [
    "from matplotlib.gridspec import GridSpec\n",
    "fig = plt.figure(figsize=(10, 15))\n",
    "gs = GridSpec(5, 3)\n",
    "colors = plt.cm.get_cmap(\"Dark2\")\n",
    "\n",
    "ax_calibration_curve = fig.add_subplot(gs[:2, :3])\n",
    "calibration_displays = {}\n",
    "for model_name in model_names:\n",
    "    model = pickle.load(open('../Models_trainValEval/12months/'+model_name+'0.sav', 'rb'))\n",
    "    display = CalibrationDisplay.from_estimator(\n",
    "        model,\n",
    "        X_eval,\n",
    "        y_eval,\n",
    "        n_bins=10,\n",
    "        name=model_name,\n",
    "        ax=ax_calibration_curve,\n",
    "        # color=colors(i),\n",
    "    )\n",
    "    calibration_displays[model_name] = display\n",
    "\n",
    "\n",
    "ax_calibration_curve.grid()\n",
    "plt.xticks(np.arange(0, 1, step=.1))\n",
    "plt.yticks(np.arange(0, 1, step=.1))\n",
    "ax_calibration_curve.set_title(\"Calibration plots\")\n",
    "\n",
    "grid_positions = [(2, 0), (2, 1),(2, 2),(3,0),(3,1),(3,2)]\n",
    "i = 0\n",
    "for model_name in model_names:\n",
    "    row, col = grid_positions[i]\n",
    "    ax = fig.add_subplot(gs[row, col])\n",
    "\n",
    "    ax.hist(\n",
    "        calibration_displays[model_name].y_prob,\n",
    "        range=(0, 1),\n",
    "        bins=10,\n",
    "        label=model_name,\n",
    "        # color=colors(i),\n",
    "    )\n",
    "    ax.set(title=model_name, xlabel=\"Mean predicted probability\", ylabel=\"Count\")\n",
    "    i+=1\n",
    "\n",
    "plt.tight_layout()\n",
    "plt.show()\n"
   ]
  },
  {
   "cell_type": "code",
   "execution_count": null,
   "id": "ec3a8357-692d-4c11-be52-228440b3d518",
   "metadata": {},
   "outputs": [],
   "source": []
  },
  {
   "cell_type": "code",
   "execution_count": null,
   "id": "d6c70dfc-df66-44bb-beef-c33aaf01b759",
   "metadata": {},
   "outputs": [],
   "source": []
  }
 ],
 "metadata": {
  "kernelspec": {
   "display_name": "Python 3 (ipykernel)",
   "language": "python",
   "name": "python3"
  },
  "language_info": {
   "codemirror_mode": {
    "name": "ipython",
    "version": 3
   },
   "file_extension": ".py",
   "mimetype": "text/x-python",
   "name": "python",
   "nbconvert_exporter": "python",
   "pygments_lexer": "ipython3",
   "version": "3.10.14"
  }
 },
 "nbformat": 4,
 "nbformat_minor": 5
}
