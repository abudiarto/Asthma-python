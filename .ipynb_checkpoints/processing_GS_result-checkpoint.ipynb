{
 "cells": [
  {
   "cell_type": "code",
   "execution_count": 16,
   "id": "64f8b50c-a509-4f8d-b448-f9f35cc5d366",
   "metadata": {
    "tags": []
   },
   "outputs": [],
   "source": [
    "import pandas as pd\n",
    "import numpy as np\n",
    "import pickle\n",
    "import array\n",
    "import re\n",
    "import numpy.ma as ma\n",
    "from os import listdir\n",
    "from os.path import isfile, join"
   ]
  },
  {
   "cell_type": "markdown",
   "id": "02b5dbb9-ce98-4cb7-aff1-3e573e538b07",
   "metadata": {
    "tags": []
   },
   "source": [
    "# GS result reformating"
   ]
  },
  {
   "cell_type": "code",
   "execution_count": 8,
   "id": "699daa8e-af40-4552-b451-ecd723c06226",
   "metadata": {
    "tags": []
   },
   "outputs": [],
   "source": [
    "def str_to_dict(x):\n",
    "    a = x.replace(\"'\", \"\\\"\")\n",
    "    a = a.replace('masked_array','ma.masked_array')\n",
    "    a = a.replace(' array','np.array')\n",
    "    a = a.replace('\\n      ','')\n",
    "    a = a.replace(', dtype=int32','')\n",
    "    a = re.sub(' +', ' ', a)\n",
    "    a = eval(a)\n",
    "    return a"
   ]
  },
  {
   "cell_type": "code",
   "execution_count": 9,
   "id": "eae0686b-9219-45f1-b59b-462258039925",
   "metadata": {
    "tags": []
   },
   "outputs": [
    {
     "name": "stdout",
     "output_type": "stream",
     "text": [
      "3Months_LR\n",
      "3Months_Lasso\n",
      "3Months_NB\n",
      "3Months_DT\n",
      "3Months_RF\n",
      "3Months_XGB\n",
      "6Months_LR\n",
      "6Months_Lasso\n",
      "6Months_NB\n",
      "6Months_DT\n",
      "6Months_RF\n",
      "6Months_XGB\n",
      "12Months_LR\n",
      "12Months_Lasso\n",
      "12Months_NB\n",
      "12Months_DT\n",
      "12Months_RF\n",
      "12Months_XGB\n",
      "24Months_LR\n",
      "24Months_Lasso\n",
      "24Months_NB\n",
      "24Months_DT\n",
      "24Months_RF\n",
      "24Months_XGB\n"
     ]
    }
   ],
   "source": [
    "data_gs = pd.read_csv('../Models/GS.csv')\n",
    "for i,item in data_gs.iterrows():\n",
    "    model_name = item.outcome+'_'+item.model\n",
    "    cv_result = str_to_dict(item.GS_result)\n",
    "    pickle.dump(cv_result, open('../Models/gs/' + model_name + '.sav', 'wb'))\n",
    "    print(model_name)\n",
    "        "
   ]
  },
  {
   "cell_type": "code",
   "execution_count": 11,
   "id": "41257fc3-4d90-4286-8afb-930abe83a192",
   "metadata": {
    "tags": []
   },
   "outputs": [],
   "source": [
    "model = pickle.load(open('../Models/gs/' + model_name + '.sav', 'rb'))"
   ]
  },
  {
   "cell_type": "code",
   "execution_count": 34,
   "id": "0c09e7e2-77ee-4346-9727-c77800b84e00",
   "metadata": {
    "tags": []
   },
   "outputs": [
    {
     "data": {
      "text/plain": [
       "0.16068714"
      ]
     },
     "execution_count": 34,
     "metadata": {},
     "output_type": "execute_result"
    }
   ],
   "source": [
    "model['mean_test_average_precision'][model['rank_test_average_precision'][1]]"
   ]
  },
  {
   "cell_type": "code",
   "execution_count": 39,
   "id": "95b87b42-451c-4aa4-a0c6-dae4a0bf492f",
   "metadata": {
    "tags": []
   },
   "outputs": [
    {
     "data": {
      "text/plain": [
       "11"
      ]
     },
     "execution_count": 39,
     "metadata": {},
     "output_type": "execute_result"
    }
   ],
   "source": [
    "np.argmin(model['rank_test_average_precision'])"
   ]
  },
  {
   "cell_type": "code",
   "execution_count": 40,
   "id": "72b3695c-4a4c-4748-9d5c-ee0bd30a73ea",
   "metadata": {
    "tags": []
   },
   "outputs": [
    {
     "data": {
      "text/plain": [
       "0.1961109"
      ]
     },
     "execution_count": 40,
     "metadata": {},
     "output_type": "execute_result"
    }
   ],
   "source": [
    "model['mean_test_average_precision'][np.argmin(model['rank_test_average_precision'])]"
   ]
  },
  {
   "cell_type": "markdown",
   "id": "675a8998-ea93-40b6-81ec-5ea4d46063f3",
   "metadata": {},
   "source": [
    "# GS result visualisation"
   ]
  },
  {
   "cell_type": "code",
   "execution_count": 21,
   "id": "7f344c5c-0e44-4853-b5b8-693880c875e7",
   "metadata": {
    "tags": []
   },
   "outputs": [],
   "source": [
    "files = [f for f in listdir('../Models/gs/') if isfile(join('../Models/gs/', f))]"
   ]
  },
  {
   "cell_type": "code",
   "execution_count": 46,
   "id": "6f74bc97-7d2a-4beb-91b7-b0c1c8b67ae6",
   "metadata": {
    "tags": []
   },
   "outputs": [],
   "source": [
    "result = []\n",
    "for file in files:\n",
    "    model = pickle.load(open('../Models/gs/'+file, 'rb'))\n",
    "    best_score_auprc =  model['mean_test_average_precision'][np.argmin(model['rank_test_average_precision'])]\n",
    "    best_params_auprc = model['params'][np.argmin(model['rank_test_average_precision'])]\n",
    "    best_score_auc =  model['mean_test_balanced_accuracy'][np.argmin(model['rank_test_balanced_accuracy'])]\n",
    "    best_params_auc = model['params'][np.argmin(model['rank_test_balanced_accuracy'])]\n",
    "    result.append([file.replace('.sav',''), best_score_auprc, best_params_auprc, best_score_auc, best_params_auc])"
   ]
  },
  {
   "cell_type": "code",
   "execution_count": 48,
   "id": "7cbd1a17-36e8-42be-925d-ddd4bf3d4928",
   "metadata": {
    "tags": []
   },
   "outputs": [],
   "source": [
    "pd.DataFrame(result).to_csv('../Models/GS_result_tidy.csv', index_label=False, index=False)"
   ]
  },
  {
   "cell_type": "code",
   "execution_count": null,
   "id": "21f5e9ac-271a-4c24-9a4e-f86fc141f074",
   "metadata": {},
   "outputs": [],
   "source": []
  }
 ],
 "metadata": {
  "kernelspec": {
   "display_name": "Python 3 (ipykernel)",
   "language": "python",
   "name": "python3"
  },
  "language_info": {
   "codemirror_mode": {
    "name": "ipython",
    "version": 3
   },
   "file_extension": ".py",
   "mimetype": "text/x-python",
   "name": "python",
   "nbconvert_exporter": "python",
   "pygments_lexer": "ipython3",
   "version": "3.10.11"
  }
 },
 "nbformat": 4,
 "nbformat_minor": 5
}
