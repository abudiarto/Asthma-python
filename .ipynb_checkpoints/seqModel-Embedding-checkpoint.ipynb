{
 "cells": [
  {
   "cell_type": "markdown",
   "id": "455d01d3-b746-40dc-915a-3fd111ba52e1",
   "metadata": {},
   "source": [
    "# Sequence generation"
   ]
  },
  {
   "cell_type": "markdown",
   "id": "a5e965f6-5bb0-4bfb-a2cc-50eae440bac3",
   "metadata": {},
   "source": [
    "- all available historical data\n",
    "- include static features\n",
    "\n",
    "- attention mechanism\n",
    "\n",
    "- validation on DataLoch\n",
    "\n",
    "- model explanation"
   ]
  },
  {
   "cell_type": "markdown",
   "id": "ee4d8f95-286c-4067-8985-4b7d6f9d0b6c",
   "metadata": {},
   "source": [
    "# LSTM Model using Clinical + Therapy sequence"
   ]
  },
  {
   "cell_type": "code",
   "execution_count": 33,
   "id": "ae1286de-3d50-4eb3-b3c7-a4404748f00b",
   "metadata": {
    "tags": []
   },
   "outputs": [],
   "source": [
    "import tensorflow as tf\n",
    "from tensorflow.keras.datasets import imdb\n",
    "from tensorflow.keras.models import Sequential, Model, load_model\n",
    "from tensorflow.keras.layers import Dense, LSTM, Embedding, Dropout, Bidirectional, Input, Reshape, BatchNormalization, Flatten, concatenate, Add, Multiply, LeakyReLU\n",
    "from tensorflow.keras.preprocessing import sequence\n",
    "from tensorflow.keras.callbacks import EarlyStopping, ModelCheckpoint, ReduceLROnPlateau\n",
    "from tensorflow.keras.metrics import AUC, SensitivityAtSpecificity\n",
    "from tensorflow.keras.optimizers import Adam, Adagrad, RMSprop, Adamax, SGD\n",
    "from tensorflow.keras.initializers import Constant\n",
    "from tensorflow.keras.regularizers import L1L2, L1, L2\n",
    "from livelossplot import PlotLossesKeras\n",
    "\n",
    "# from tensorflow.keras.backend.tensorflow_backend import set_session\n",
    "from tensorflow.python.keras import backend as K\n",
    "\n",
    "#internal validation\n",
    "from sklearn.model_selection import train_test_split\n",
    "from sklearn.metrics import confusion_matrix, classification_report, f1_score, balanced_accuracy_score, matthews_corrcoef, auc, average_precision_score, roc_auc_score, balanced_accuracy_score, roc_curve, accuracy_score\n",
    "\n",
    "import matplotlib.pyplot as plt\n",
    "\n",
    "import numpy as np\n",
    "import pandas as pd\n",
    "import pickle\n",
    "\n",
    "# fix random seed for reproducibility\n",
    "tf.random.set_seed(1234)\n",
    "\n",
    "target_outcome = '12months'\n",
    "max_codes = 100"
   ]
  },
  {
   "cell_type": "code",
   "execution_count": 34,
   "id": "ea9bb248-b202-4a96-9c23-3d62d44466b7",
   "metadata": {
    "tags": []
   },
   "outputs": [
    {
     "name": "stdout",
     "output_type": "stream",
     "text": [
      "58558\n",
      "13\n"
     ]
    }
   ],
   "source": [
    "sets =  pickle.load(open('../SeqModel/sets_1year.sav', 'rb'))\n",
    "sets_eval = pickle.load(open('../SeqModel/sets_eval_1year.sav', 'rb'))\n",
    "code2idx = pickle.load(open('../SeqModel/all_vocab_1year.sav', 'rb'))\n",
    "month2idx = pickle.load(open('../SeqModel/all_vocab_month.sav', 'rb'))\n",
    "vocab_size = len(code2idx)+1\n",
    "month_size = len(month2idx)+1\n",
    "print(vocab_size)\n",
    "print(month_size)"
   ]
  },
  {
   "cell_type": "code",
   "execution_count": 23,
   "id": "c8a3097b-be84-4d29-a0b3-08214933ab5c",
   "metadata": {
    "tags": []
   },
   "outputs": [],
   "source": [
    "Xt_train, Xt_val, Xt_eval, Xs_train, Xs_val, Xs_eval, Xm_train, Xm_val, Xm_eval, y_train, y_val, y_eval = sets\n",
    "Xt_test, Xt_testWales, Xt_testScotland, Xs_test, Xs_testWales, Xs_testScotland, Xm_test, Xm_testWales, Xm_testScotland, y_test, y_testWales, y_testScotland = sets_eval"
   ]
  },
  {
   "cell_type": "code",
   "execution_count": 24,
   "id": "b243b2b0-2c59-481b-aa7a-87746c4d2370",
   "metadata": {
    "tags": []
   },
   "outputs": [
    {
     "name": "stdout",
     "output_type": "stream",
     "text": [
      "Train:  (110167, 194)\n",
      "Val:  59019\n",
      "Eval (internal validation):  27542\n",
      "Test:  7870\n",
      "Test - Wales:  5013\n",
      "Test - Scotland:  2857\n"
     ]
    }
   ],
   "source": [
    "print('Train: ', Xs_train.shape)\n",
    "print('Val: ', Xs_val.shape[0])\n",
    "print('Eval (internal validation): ', Xs_eval.shape[0])\n",
    "print('Test: ', Xs_test.shape[0])\n",
    "print('Test - Wales: ', Xs_testWales.shape[0])\n",
    "print('Test - Scotland: ', Xs_testScotland.shape[0])"
   ]
  },
  {
   "cell_type": "code",
   "execution_count": 25,
   "id": "3b572f71-e586-4cba-b0cf-eb194000acbe",
   "metadata": {
    "tags": []
   },
   "outputs": [],
   "source": [
    "from sklearn.utils import class_weight\n",
    "sklearn_weights = class_weight.compute_class_weight('balanced', classes=np.unique(y_train), y=y_train)\n",
    "class_weight = dict(enumerate(sklearn_weights))"
   ]
  },
  {
   "cell_type": "code",
   "execution_count": 26,
   "id": "76806668-a75f-4958-951b-70277beadd46",
   "metadata": {
    "tags": []
   },
   "outputs": [],
   "source": [
    "# pickle.dump(code2idx_all_big, open('../SeqModel/code2idx_all_big.sav', 'wb'))\n",
    "# pickle.dump(idx2code_all_big, open('../SeqModel/idx2code_all_big.sav', 'wb'))\n",
    "# pickle.dump(data, open('../SeqModel/data_all_big.sav', 'wb'))"
   ]
  },
  {
   "cell_type": "code",
   "execution_count": 38,
   "id": "4ae6a305-87a6-4371-ac5a-c8573063135e",
   "metadata": {
    "tags": []
   },
   "outputs": [
    {
     "name": "stdout",
     "output_type": "stream",
     "text": [
      "50\n"
     ]
    }
   ],
   "source": [
    "target_outcome = '12months'\n",
    "max_codes = 70\n",
    "tab_feature_size = Xt_train.shape[1]\n",
    "lr = 1e-5\n",
    "clipvalue = 0.2\n",
    "epoch = 1000\n",
    "batch_size = 256\n",
    "embedding_vector_length = 50\n",
    "month_embedding_vector_length = 5\n",
    "# embedding_vector_length = int(np.sqrt(vocab_size))\n",
    "# embedding_vector_length = int(np.cbrt(vocab_size))\n",
    "print(embedding_vector_length)"
   ]
  },
  {
   "cell_type": "code",
   "execution_count": 43,
   "id": "b3391acd-6b1a-415d-a8cc-0cb2a2ba3ae2",
   "metadata": {
    "tags": []
   },
   "outputs": [],
   "source": [
    "def earlyFussion():\n",
    "       \n",
    "    inputs1 = Input(shape=tab_feature_size)\n",
    "    inputs2 = Input(shape=max_codes)\n",
    "    inputs3 = Input(shape=max_codes)\n",
    "    \n",
    "    \n",
    "    #clinical embedding for lstm\n",
    "    embedding = Embedding(vocab_size, 50, input_length=max_codes)(inputs2)\n",
    "    \n",
    "    #month embedding for lstm\n",
    "    embedding_month = Embedding(month_size, 7, input_length=max_codes)(inputs3)\n",
    "    \n",
    "    nn = Dense(32, activation=LeakyReLU(), kernel_initializer='glorot_uniform', kernel_regularizer=L1L2(l1=0.0, l2=0.1))(inputs1)\n",
    "    nn = Dropout(0.5)(nn)\n",
    "    lstmClinical = Bidirectional(LSTM(units=16, return_sequences=True, kernel_regularizer=L1L2(l1=0.0, l2=0.1)))(embedding)\n",
    "    lstmMonth = Bidirectional(LSTM(units=16, return_sequences=True, kernel_regularizer=L1L2(l1=0.0, l2=0.1)))(embedding_month)\n",
    "    # lstm = Add()([lstmClinical, lstmMonth])\n",
    "    lstm = lstmClinical\n",
    "    \n",
    "    # nn = Reshape((1, 32))(nn)\n",
    "    # add = concatenate([nn, lstm], axis=1)\n",
    "    nn = Dense(16, activation=LeakyReLU(), kernel_initializer='glorot_uniform', kernel_regularizer=L1L2(l1=0.0, l2=0.1))(nn)\n",
    "    nn = Dropout(0.5)(nn)\n",
    "    lstm = Bidirectional(LSTM(units=8, return_sequences=True, kernel_regularizer=L1L2(l1=0.0, l2=0.1)))(lstm)\n",
    "    lstm = Dropout(0.5)(lstm)\n",
    "    \n",
    "    # # nn = Reshape((301, 64))(nn)\n",
    "    # add = concatenate([nn, lstm], axis=1)\n",
    "    nn = Dense(16, activation=LeakyReLU(), kernel_initializer='glorot_uniform', kernel_regularizer=L1L2(l1=0.0, l2=0.1))(nn)\n",
    "    nn = Dropout(0.5)(nn)\n",
    "    lstm = Bidirectional(LSTM(units=8, return_sequences=True, kernel_regularizer=L1L2(l1=0.0, l2=0.1)))(lstm)\n",
    "    lstm = Dropout(0.5)(lstm)\n",
    "    \n",
    "    nn = Reshape((1, 16))(nn)\n",
    "    model_tot = concatenate([nn, lstm], axis=1)\n",
    "    # model_tot = BatchNormalization()(model_tot)\n",
    "\n",
    "    model_tot = Dense(units=8, activation=LeakyReLU())(model_tot)\n",
    "    nn = Dropout(0.5)(nn)\n",
    "    \n",
    "    model_tot = Flatten()(model_tot)\n",
    "    output = Dense(1, activation='sigmoid')(model_tot)\n",
    "    \n",
    "    opt = RMSprop(learning_rate=1e-4, clipvalue=.5)\n",
    "    metrics = [\n",
    "        AUC(num_thresholds=1000, name='auc', curve='ROC'),\n",
    "        AUC(num_thresholds=1000, name='auprc', curve='PR'),\n",
    "        tf.keras.metrics.Precision(name='prec'),\n",
    "        tf.keras.metrics.Recall(name='rec'),\n",
    "        tf.keras.metrics.TrueNegatives(name='TN'),\n",
    "        tf.keras.metrics.TruePositives(name='TP'),\n",
    "        tf.keras.metrics.PrecisionAtRecall(0.8)\n",
    "    ]\n",
    "    \n",
    "    loss = tf.keras.losses.BinaryCrossentropy()\n",
    "    \n",
    "    model = Model(inputs=[inputs1, inputs2, inputs3], outputs=output)\n",
    "    model.compile(\n",
    "        loss='binary_crossentropy', \n",
    "        optimizer=opt, \n",
    "        metrics=metrics)\n",
    "    return model"
   ]
  },
  {
   "cell_type": "code",
   "execution_count": 44,
   "id": "9af0a085-97ea-48b3-813b-6cb8b07bfeff",
   "metadata": {
    "tags": []
   },
   "outputs": [
    {
     "name": "stdout",
     "output_type": "stream",
     "text": [
      "Model: \"model_2\"\n",
      "__________________________________________________________________________________________________\n",
      " Layer (type)                Output Shape                 Param #   Connected to                  \n",
      "==================================================================================================\n",
      " input_19 (InputLayer)       [(None, 20)]                 0         []                            \n",
      "                                                                                                  \n",
      " dense_34 (Dense)            (None, 32)                   672       ['input_19[0][0]']            \n",
      "                                                                                                  \n",
      " input_20 (InputLayer)       [(None, 70)]                 0         []                            \n",
      "                                                                                                  \n",
      " dropout_48 (Dropout)        (None, 32)                   0         ['dense_34[0][0]']            \n",
      "                                                                                                  \n",
      " embedding_17 (Embedding)    (None, 70, 50)               2927900   ['input_20[0][0]']            \n",
      "                                                                                                  \n",
      " dense_35 (Dense)            (None, 16)                   528       ['dropout_48[0][0]']          \n",
      "                                                                                                  \n",
      " bidirectional_24 (Bidirect  (None, 70, 32)               8576      ['embedding_17[0][0]']        \n",
      " ional)                                                                                           \n",
      "                                                                                                  \n",
      " dropout_49 (Dropout)        (None, 16)                   0         ['dense_35[0][0]']            \n",
      "                                                                                                  \n",
      " bidirectional_26 (Bidirect  (None, 70, 16)               2624      ['bidirectional_24[0][0]']    \n",
      " ional)                                                                                           \n",
      "                                                                                                  \n",
      " dense_36 (Dense)            (None, 16)                   272       ['dropout_49[0][0]']          \n",
      "                                                                                                  \n",
      " dropout_50 (Dropout)        (None, 70, 16)               0         ['bidirectional_26[0][0]']    \n",
      "                                                                                                  \n",
      " dropout_51 (Dropout)        (None, 16)                   0         ['dense_36[0][0]']            \n",
      "                                                                                                  \n",
      " bidirectional_27 (Bidirect  (None, 70, 16)               1600      ['dropout_50[0][0]']          \n",
      " ional)                                                                                           \n",
      "                                                                                                  \n",
      " reshape_5 (Reshape)         (None, 1, 16)                0         ['dropout_51[0][0]']          \n",
      "                                                                                                  \n",
      " dropout_52 (Dropout)        (None, 70, 16)               0         ['bidirectional_27[0][0]']    \n",
      "                                                                                                  \n",
      " concatenate_4 (Concatenate  (None, 71, 16)               0         ['reshape_5[0][0]',           \n",
      " )                                                                   'dropout_52[0][0]']          \n",
      "                                                                                                  \n",
      " dense_37 (Dense)            (None, 71, 8)                136       ['concatenate_4[0][0]']       \n",
      "                                                                                                  \n",
      " flatten_3 (Flatten)         (None, 568)                  0         ['dense_37[0][0]']            \n",
      "                                                                                                  \n",
      " input_21 (InputLayer)       [(None, 70)]                 0         []                            \n",
      "                                                                                                  \n",
      " dense_38 (Dense)            (None, 1)                    569       ['flatten_3[0][0]']           \n",
      "                                                                                                  \n",
      "==================================================================================================\n",
      "Total params: 2942877 (11.23 MB)\n",
      "Trainable params: 2942877 (11.23 MB)\n",
      "Non-trainable params: 0 (0.00 Byte)\n",
      "__________________________________________________________________________________________________\n",
      "None\n"
     ]
    }
   ],
   "source": [
    "#visualise model\n",
    "model = earlyFussion()\n",
    "# model = earlyFussion()\n",
    "print(model.summary())\n",
    "\n"
   ]
  },
  {
   "cell_type": "code",
   "execution_count": 45,
   "id": "636ce94d-af98-4b83-8191-8535cd8c7ab7",
   "metadata": {
    "scrolled": true,
    "tags": []
   },
   "outputs": [
    {
     "name": "stdout",
     "output_type": "stream",
     "text": [
      "Epoch 1/1000\n",
      "431/431 [==============================] - 42s 85ms/step - loss: 22.7867 - auc: 0.5882 - auprc: 0.1892 - prec: 0.1909 - rec: 0.5387 - TN: 54367.0000 - TP: 9154.0000 - precision_at_recall_8: 0.1794 - val_loss: 17.6615 - val_auc: 0.6373 - val_auprc: 0.2304 - val_prec: 0.1891 - val_rec: 0.8282 - val_TN: 17584.0000 - val_TP: 7539.0000 - val_precision_at_recall_8: 0.1921\n",
      "Epoch 2/1000\n"
     ]
    },
    {
     "name": "stderr",
     "output_type": "stream",
     "text": [
      "/opt/conda/envs/rapids/lib/python3.10/site-packages/keras/src/engine/training.py:3079: UserWarning: You are saving your model as an HDF5 file via `model.save()`. This file format is considered legacy. We recommend using instead the native Keras format, e.g. `model.save('my_model.keras')`.\n",
      "  saving_api.save_model(\n"
     ]
    },
    {
     "name": "stdout",
     "output_type": "stream",
     "text": [
      "431/431 [==============================] - 30s 70ms/step - loss: 13.7257 - auc: 0.6295 - auprc: 0.2244 - prec: 0.1912 - rec: 0.8071 - TN: 35168.0000 - TP: 13715.0000 - precision_at_recall_8: 0.1920 - val_loss: 10.2347 - val_auc: 0.6662 - val_auprc: 0.2790 - val_prec: 0.1950 - val_rec: 0.8068 - val_TN: 19605.0000 - val_TP: 7344.0000 - val_precision_at_recall_8: 0.1960\n",
      "Epoch 3/1000\n",
      "431/431 [==============================] - 28s 64ms/step - loss: 7.6921 - auc: 0.6619 - auprc: 0.2683 - prec: 0.2033 - rec: 0.7535 - TN: 42993.0000 - TP: 12805.0000 - precision_at_recall_8: 0.1941 - val_loss: 5.4654 - val_auc: 0.6842 - val_auprc: 0.2990 - val_prec: 0.2511 - val_rec: 0.5986 - val_TN: 33667.0000 - val_TP: 5449.0000 - val_precision_at_recall_8: 0.2021\n",
      "Epoch 4/1000\n",
      "431/431 [==============================] - 27s 62ms/step - loss: 4.0287 - auc: 0.6906 - auprc: 0.3054 - prec: 0.2449 - rec: 0.6422 - TN: 59522.0000 - TP: 10913.0000 - precision_at_recall_8: 0.2046 - val_loss: 2.7674 - val_auc: 0.7003 - val_auprc: 0.3180 - val_prec: 0.2882 - val_rec: 0.5068 - val_TN: 38524.0000 - val_TP: 4613.0000 - val_precision_at_recall_8: 0.2095\n",
      "Epoch 5/1000\n",
      "431/431 [==============================] - 26s 61ms/step - loss: 2.0918 - auc: 0.7019 - auprc: 0.3241 - prec: 0.2594 - rec: 0.6197 - TN: 63107.0000 - TP: 10530.0000 - precision_at_recall_8: 0.2080 - val_loss: 1.6018 - val_auc: 0.7062 - val_auprc: 0.3282 - val_prec: 0.2246 - val_rec: 0.7545 - val_TN: 26202.0000 - val_TP: 6868.0000 - val_precision_at_recall_8: 0.2100\n",
      "Epoch 6/1000\n",
      "431/431 [==============================] - 26s 61ms/step - loss: 1.1907 - auc: 0.7099 - auprc: 0.3340 - prec: 0.2654 - rec: 0.6238 - TN: 63834.0000 - TP: 10600.0000 - precision_at_recall_8: 0.2115 - val_loss: 0.8818 - val_auc: 0.7092 - val_auprc: 0.3334 - val_prec: 0.3052 - val_rec: 0.4914 - val_TN: 39733.0000 - val_TP: 4473.0000 - val_precision_at_recall_8: 0.2117\n",
      "Epoch 7/1000\n",
      "431/431 [==============================] - 25s 59ms/step - loss: 0.8087 - auc: 0.7165 - auprc: 0.3406 - prec: 0.2736 - rec: 0.6290 - TN: 64794.0000 - TP: 10688.0000 - precision_at_recall_8: 0.2141 - val_loss: 0.7002 - val_auc: 0.7104 - val_auprc: 0.3364 - val_prec: 0.2761 - val_rec: 0.5765 - val_TN: 36154.0000 - val_TP: 5248.0000 - val_precision_at_recall_8: 0.2120\n",
      "Epoch 8/1000\n",
      "431/431 [==============================] - 25s 59ms/step - loss: 0.6768 - auc: 0.7211 - auprc: 0.3485 - prec: 0.2768 - rec: 0.6337 - TN: 65037.0000 - TP: 10769.0000 - precision_at_recall_8: 0.2177 - val_loss: 0.6720 - val_auc: 0.7111 - val_auprc: 0.3381 - val_prec: 0.2587 - val_rec: 0.6357 - val_TN: 33330.0000 - val_TP: 5787.0000 - val_precision_at_recall_8: 0.2117\n",
      "Epoch 9/1000\n",
      "431/431 [==============================] - 26s 60ms/step - loss: 0.6374 - auc: 0.7264 - auprc: 0.3527 - prec: 0.2800 - rec: 0.6431 - TN: 65067.0000 - TP: 10929.0000 - precision_at_recall_8: 0.2214 - val_loss: 0.6388 - val_auc: 0.7111 - val_auprc: 0.3398 - val_prec: 0.2651 - val_rec: 0.6175 - val_TN: 34334.0000 - val_TP: 5621.0000 - val_precision_at_recall_8: 0.2137\n",
      "Epoch 10/1000\n",
      "431/431 [==============================] - 26s 60ms/step - loss: 0.6238 - auc: 0.7291 - auprc: 0.3554 - prec: 0.2836 - rec: 0.6397 - TN: 65714.0000 - TP: 10871.0000 - precision_at_recall_8: 0.2242 - val_loss: 0.6476 - val_auc: 0.7085 - val_auprc: 0.3383 - val_prec: 0.2625 - val_rec: 0.6256 - val_TN: 33914.0000 - val_TP: 5695.0000 - val_precision_at_recall_8: 0.2110\n",
      "Epoch 11/1000\n",
      "431/431 [==============================] - 26s 61ms/step - loss: 0.6188 - auc: 0.7314 - auprc: 0.3600 - prec: 0.2851 - rec: 0.6459 - TN: 65649.0000 - TP: 10975.0000 - precision_at_recall_8: 0.2265 - val_loss: 0.5247 - val_auc: 0.7103 - val_auprc: 0.3398 - val_prec: 0.3365 - val_rec: 0.4207 - val_TN: 42363.0000 - val_TP: 3830.0000 - val_precision_at_recall_8: 0.2117\n",
      "Epoch 12/1000\n",
      "431/431 [==============================] - 27s 64ms/step - loss: 0.6146 - auc: 0.7349 - auprc: 0.3629 - prec: 0.2870 - rec: 0.6456 - TN: 65919.0000 - TP: 10971.0000 - precision_at_recall_8: 0.2258 - val_loss: 0.7154 - val_auc: 0.7090 - val_auprc: 0.3395 - val_prec: 0.2326 - val_rec: 0.7300 - val_TN: 27992.0000 - val_TP: 6645.0000 - val_precision_at_recall_8: 0.2125\n",
      "Epoch 13/1000\n",
      "431/431 [==============================] - 26s 61ms/step - loss: 0.6128 - auc: 0.7362 - auprc: 0.3633 - prec: 0.2895 - rec: 0.6447 - TN: 66281.0000 - TP: 10956.0000 - precision_at_recall_8: 0.2281 - val_loss: 0.6189 - val_auc: 0.7088 - val_auprc: 0.3400 - val_prec: 0.2697 - val_rec: 0.6002 - val_TN: 35120.0000 - val_TP: 5464.0000 - val_precision_at_recall_8: 0.2106\n",
      "Epoch 14/1000\n",
      "431/431 [==============================] - 26s 60ms/step - loss: 0.6103 - auc: 0.7379 - auprc: 0.3668 - prec: 0.2894 - rec: 0.6506 - TN: 66023.0000 - TP: 11056.0000 - precision_at_recall_8: 0.2283 - val_loss: 0.7269 - val_auc: 0.7056 - val_auprc: 0.3388 - val_prec: 0.2307 - val_rec: 0.7238 - val_TN: 27942.0000 - val_TP: 6589.0000 - val_precision_at_recall_8: 0.2108\n",
      "Epoch 15/1000\n",
      "431/431 [==============================] - 26s 61ms/step - loss: 0.6079 - auc: 0.7407 - auprc: 0.3693 - prec: 0.2930 - rec: 0.6492 - TN: 66552.0000 - TP: 11032.0000 - precision_at_recall_8: 0.2313 - val_loss: 0.5159 - val_auc: 0.7062 - val_auprc: 0.3384 - val_prec: 0.3341 - val_rec: 0.4112 - val_TN: 42457.0000 - val_TP: 3743.0000 - val_precision_at_recall_8: 0.2108\n",
      "Epoch 16/1000\n",
      "431/431 [==============================] - 26s 61ms/step - loss: 0.6061 - auc: 0.7424 - auprc: 0.3711 - prec: 0.2920 - rec: 0.6520 - TN: 66305.0000 - TP: 11079.0000 - precision_at_recall_8: 0.2320 - val_loss: 0.5499 - val_auc: 0.7051 - val_auprc: 0.3385 - val_prec: 0.3059 - val_rec: 0.4770 - val_TN: 40064.0000 - val_TP: 4342.0000 - val_precision_at_recall_8: 0.2101\n",
      "Epoch 17/1000\n",
      "431/431 [==============================] - 25s 57ms/step - loss: 0.6038 - auc: 0.7456 - auprc: 0.3750 - prec: 0.2936 - rec: 0.6634 - TN: 66052.0000 - TP: 11273.0000 - precision_at_recall_8: 0.2378 - val_loss: 0.5300 - val_auc: 0.7057 - val_auprc: 0.3379 - val_prec: 0.3149 - val_rec: 0.4522 - val_TN: 40962.0000 - val_TP: 4116.0000 - val_precision_at_recall_8: 0.2106\n",
      "Epoch 18/1000\n",
      "431/431 [==============================] - 25s 59ms/step - loss: 0.6015 - auc: 0.7481 - auprc: 0.3766 - prec: 0.2975 - rec: 0.6576 - TN: 66781.0000 - TP: 11175.0000 - precision_at_recall_8: 0.2382 - val_loss: 0.7778 - val_auc: 0.7007 - val_auprc: 0.3343 - val_prec: 0.2148 - val_rec: 0.7808 - val_TN: 23934.0000 - val_TP: 7108.0000 - val_precision_at_recall_8: 0.2093\n",
      "Epoch 19/1000\n",
      "431/431 [==============================] - 26s 61ms/step - loss: 0.6003 - auc: 0.7490 - auprc: 0.3791 - prec: 0.2998 - rec: 0.6617 - TN: 66916.0000 - TP: 11244.0000 - precision_at_recall_8: 0.2350 - val_loss: 0.5238 - val_auc: 0.7006 - val_auprc: 0.3346 - val_prec: 0.3184 - val_rec: 0.4374 - val_TN: 41393.0000 - val_TP: 3982.0000 - val_precision_at_recall_8: 0.2065\n",
      "Epoch 20/1000\n",
      "431/431 [==============================] - 26s 61ms/step - loss: 0.5998 - auc: 0.7494 - auprc: 0.3778 - prec: 0.2998 - rec: 0.6596 - TN: 66991.0000 - TP: 11208.0000 - precision_at_recall_8: 0.2382 - val_loss: 0.4995 - val_auc: 0.6974 - val_auprc: 0.3322 - val_prec: 0.3407 - val_rec: 0.3891 - val_TN: 43061.0000 - val_TP: 3542.0000 - val_precision_at_recall_8: 0.2063\n",
      "Epoch 21/1000\n",
      "431/431 [==============================] - 26s 61ms/step - loss: 0.5981 - auc: 0.7516 - auprc: 0.3833 - prec: 0.3004 - rec: 0.6676 - TN: 66753.0000 - TP: 11345.0000 - precision_at_recall_8: 0.2399 - val_loss: 0.7834 - val_auc: 0.6989 - val_auprc: 0.3328 - val_prec: 0.2136 - val_rec: 0.7800 - val_TN: 23777.0000 - val_TP: 7100.0000 - val_precision_at_recall_8: 0.2084\n",
      "Epoch 22/1000\n",
      "431/431 [==============================] - 26s 61ms/step - loss: 0.5950 - auc: 0.7554 - auprc: 0.3859 - prec: 0.3043 - rec: 0.6685 - TN: 67199.0000 - TP: 11360.0000 - precision_at_recall_8: 0.2428 - val_loss: 0.7900 - val_auc: 0.6997 - val_auprc: 0.3316 - val_prec: 0.2193 - val_rec: 0.7611 - val_TN: 25247.0000 - val_TP: 6928.0000 - val_precision_at_recall_8: 0.2088\n",
      "Epoch 23/1000\n",
      "431/431 [==============================] - 26s 61ms/step - loss: 0.5935 - auc: 0.7577 - auprc: 0.3888 - prec: 0.3037 - rec: 0.6779 - TN: 66763.0000 - TP: 11519.0000 - precision_at_recall_8: 0.2450 - val_loss: 0.5359 - val_auc: 0.6955 - val_auprc: 0.3299 - val_prec: 0.3087 - val_rec: 0.4510 - val_TN: 40724.0000 - val_TP: 4105.0000 - val_precision_at_recall_8: 0.2038\n",
      "Epoch 24/1000\n",
      "431/431 [==============================] - 26s 59ms/step - loss: 0.5924 - auc: 0.7590 - auprc: 0.3879 - prec: 0.3094 - rec: 0.6702 - TN: 67753.0000 - TP: 11388.0000 - precision_at_recall_8: 0.2475 - val_loss: 0.8186 - val_auc: 0.6942 - val_auprc: 0.3276 - val_prec: 0.2063 - val_rec: 0.8012 - val_TN: 21851.0000 - val_TP: 7293.0000 - val_precision_at_recall_8: 0.2057\n",
      "Epoch 25/1000\n",
      "431/431 [==============================] - 26s 60ms/step - loss: 0.5913 - auc: 0.7602 - auprc: 0.3903 - prec: 0.3089 - rec: 0.6759 - TN: 67477.0000 - TP: 11486.0000 - precision_at_recall_8: 0.2482 - val_loss: 0.7245 - val_auc: 0.6925 - val_auprc: 0.3264 - val_prec: 0.2251 - val_rec: 0.7078 - val_TN: 27734.0000 - val_TP: 6443.0000 - val_precision_at_recall_8: 0.2041\n",
      "Epoch 26/1000\n",
      "431/431 [==============================] - 26s 61ms/step - loss: 0.5905 - auc: 0.7607 - auprc: 0.3916 - prec: 0.3099 - rec: 0.6742 - TN: 67663.0000 - TP: 11456.0000 - precision_at_recall_8: 0.2473 - val_loss: 0.5664 - val_auc: 0.6923 - val_auprc: 0.3268 - val_prec: 0.2890 - val_rec: 0.4883 - val_TN: 38983.0000 - val_TP: 4445.0000 - val_precision_at_recall_8: 0.2038\n",
      "Epoch 27/1000\n",
      "431/431 [==============================] - 26s 60ms/step - loss: 0.5886 - auc: 0.7634 - auprc: 0.3947 - prec: 0.3111 - rec: 0.6779 - TN: 67665.0000 - TP: 11520.0000 - precision_at_recall_8: 0.2512 - val_loss: 0.5901 - val_auc: 0.6897 - val_auprc: 0.3248 - val_prec: 0.2753 - val_rec: 0.5189 - val_TN: 37480.0000 - val_TP: 4724.0000 - val_precision_at_recall_8: 0.2019\n",
      "Epoch 28/1000\n",
      "431/431 [==============================] - 25s 58ms/step - loss: 0.5870 - auc: 0.7657 - auprc: 0.3953 - prec: 0.3123 - rec: 0.6773 - TN: 67833.0000 - TP: 11509.0000 - precision_at_recall_8: 0.2538 - val_loss: 0.7584 - val_auc: 0.6924 - val_auprc: 0.3246 - val_prec: 0.2217 - val_rec: 0.7307 - val_TN: 26565.0000 - val_TP: 6652.0000 - val_precision_at_recall_8: 0.2069\n",
      "Epoch 29/1000\n",
      "431/431 [==============================] - 25s 59ms/step - loss: 0.5868 - auc: 0.7664 - auprc: 0.3966 - prec: 0.3119 - rec: 0.6893 - TN: 67330.0000 - TP: 11713.0000 - precision_at_recall_8: 0.2568 - val_loss: 0.5572 - val_auc: 0.6900 - val_auprc: 0.3246 - val_prec: 0.2924 - val_rec: 0.4752 - val_TN: 39448.0000 - val_TP: 4326.0000 - val_precision_at_recall_8: 0.1995\n",
      "Epoch 30/1000\n",
      "431/431 [==============================] - 26s 60ms/step - loss: 0.5851 - auc: 0.7684 - auprc: 0.4012 - prec: 0.3156 - rec: 0.6862 - TN: 67891.0000 - TP: 11660.0000 - precision_at_recall_8: 0.2547 - val_loss: 0.5636 - val_auc: 0.6898 - val_auprc: 0.3230 - val_prec: 0.2880 - val_rec: 0.4837 - val_TN: 39029.0000 - val_TP: 4403.0000 - val_precision_at_recall_8: 0.2029\n",
      "Epoch 31/1000\n",
      "431/431 [==============================] - 26s 61ms/step - loss: 0.5838 - auc: 0.7702 - auprc: 0.4033 - prec: 0.3175 - rec: 0.6884 - TN: 68028.0000 - TP: 11698.0000 - precision_at_recall_8: 0.2586 - val_loss: 0.6704 - val_auc: 0.6900 - val_auprc: 0.3228 - val_prec: 0.2444 - val_rec: 0.6222 - val_TN: 32407.0000 - val_TP: 5664.0000 - val_precision_at_recall_8: 0.2025\n",
      "Epoch 32/1000\n",
      "431/431 [==============================] - 27s 63ms/step - loss: 0.5823 - auc: 0.7719 - auprc: 0.4043 - prec: 0.3178 - rec: 0.6903 - TN: 67992.0000 - TP: 11731.0000 - precision_at_recall_8: 0.2592 - val_loss: 0.9067 - val_auc: 0.6860 - val_auprc: 0.3187 - val_prec: 0.1925 - val_rec: 0.8406 - val_TN: 17814.0000 - val_TP: 7652.0000 - val_precision_at_recall_8: 0.2015\n",
      "Epoch 33/1000\n",
      "431/431 [==============================] - 26s 61ms/step - loss: 0.5798 - auc: 0.7745 - auprc: 0.4062 - prec: 0.3189 - rec: 0.6963 - TN: 67898.0000 - TP: 11832.0000 - precision_at_recall_8: 0.2620 - val_loss: 0.6175 - val_auc: 0.6841 - val_auprc: 0.3174 - val_prec: 0.2642 - val_rec: 0.5394 - val_TN: 36240.0000 - val_TP: 4910.0000 - val_precision_at_recall_8: 0.1983\n",
      "Epoch 34/1000\n",
      "431/431 [==============================] - 26s 60ms/step - loss: 0.5801 - auc: 0.7744 - auprc: 0.4065 - prec: 0.3219 - rec: 0.6918 - TN: 68409.0000 - TP: 11756.0000 - precision_at_recall_8: 0.2606 - val_loss: 0.5548 - val_auc: 0.6816 - val_auprc: 0.3173 - val_prec: 0.3005 - val_rec: 0.4472 - val_TN: 40441.0000 - val_TP: 4071.0000 - val_precision_at_recall_8: 0.1941\n",
      "Epoch 35/1000\n",
      "431/431 [==============================] - 26s 61ms/step - loss: 0.5790 - auc: 0.7756 - auprc: 0.4075 - prec: 0.3219 - rec: 0.6915 - TN: 68417.0000 - TP: 11750.0000 - precision_at_recall_8: 0.2635 - val_loss: 0.5686 - val_auc: 0.6834 - val_auprc: 0.3162 - val_prec: 0.2898 - val_rec: 0.4697 - val_TN: 39439.0000 - val_TP: 4276.0000 - val_precision_at_recall_8: 0.1966\n",
      "Epoch 36/1000\n",
      "431/431 [==============================] - 27s 62ms/step - loss: 0.5778 - auc: 0.7769 - auprc: 0.4088 - prec: 0.3229 - rec: 0.6926 - TN: 68500.0000 - TP: 11769.0000 - precision_at_recall_8: 0.2644 - val_loss: 0.5850 - val_auc: 0.6855 - val_auprc: 0.3178 - val_prec: 0.2746 - val_rec: 0.5050 - val_TN: 37772.0000 - val_TP: 4597.0000 - val_precision_at_recall_8: 0.1986\n",
      "Epoch 37/1000\n",
      "431/431 [==============================] - 30s 69ms/step - loss: 0.5773 - auc: 0.7774 - auprc: 0.4117 - prec: 0.3236 - rec: 0.6988 - TN: 68357.0000 - TP: 11875.0000 - precision_at_recall_8: 0.2658 - val_loss: 0.8178 - val_auc: 0.6855 - val_auprc: 0.3170 - val_prec: 0.2095 - val_rec: 0.7626 - val_TN: 23728.0000 - val_TP: 6942.0000 - val_precision_at_recall_8: 0.2012\n",
      "Epoch 38/1000\n",
      "431/431 [==============================] - 28s 65ms/step - loss: 0.5778 - auc: 0.7773 - auprc: 0.4103 - prec: 0.3243 - rec: 0.6948 - TN: 68573.0000 - TP: 11807.0000 - precision_at_recall_8: 0.2670 - val_loss: 0.6633 - val_auc: 0.6807 - val_auprc: 0.3142 - val_prec: 0.2450 - val_rec: 0.5884 - val_TN: 33411.0000 - val_TP: 5356.0000 - val_precision_at_recall_8: 0.1976\n",
      "Epoch 39/1000\n",
      "431/431 [==============================] - 27s 62ms/step - loss: 0.5763 - auc: 0.7790 - auprc: 0.4119 - prec: 0.3238 - rec: 0.6995 - TN: 68351.0000 - TP: 11887.0000 - precision_at_recall_8: 0.2698 - val_loss: 0.8311 - val_auc: 0.6815 - val_auprc: 0.3134 - val_prec: 0.2050 - val_rec: 0.7715 - val_TN: 22687.0000 - val_TP: 7023.0000 - val_precision_at_recall_8: 0.1976\n",
      "Epoch 40/1000\n",
      "431/431 [==============================] - 27s 62ms/step - loss: 0.5767 - auc: 0.7788 - auprc: 0.4107 - prec: 0.3229 - rec: 0.7032 - TN: 68120.0000 - TP: 11949.0000 - precision_at_recall_8: 0.2695 - val_loss: 0.8495 - val_auc: 0.6772 - val_auprc: 0.3114 - val_prec: 0.1969 - val_rec: 0.7961 - val_TN: 20354.0000 - val_TP: 7247.0000 - val_precision_at_recall_8: 0.1950\n",
      "Epoch 41/1000\n",
      "431/431 [==============================] - 27s 63ms/step - loss: 0.5765 - auc: 0.7792 - auprc: 0.4118 - prec: 0.3242 - rec: 0.7047 - TN: 68213.0000 - TP: 11975.0000 - precision_at_recall_8: 0.2705 - val_loss: 0.6546 - val_auc: 0.6817 - val_auprc: 0.3145 - val_prec: 0.2473 - val_rec: 0.5916 - val_TN: 33529.0000 - val_TP: 5385.0000 - val_precision_at_recall_8: 0.1969\n",
      "Epoch 42/1000\n",
      "431/431 [==============================] - 27s 62ms/step - loss: 0.5734 - auc: 0.7825 - auprc: 0.4167 - prec: 0.3263 - rec: 0.7097 - TN: 68273.0000 - TP: 12060.0000 - precision_at_recall_8: 0.2725 - val_loss: 0.5680 - val_auc: 0.6805 - val_auprc: 0.3127 - val_prec: 0.2822 - val_rec: 0.4837 - val_TN: 38715.0000 - val_TP: 4403.0000 - val_precision_at_recall_8: 0.1963\n",
      "Epoch 43/1000\n",
      "431/431 [==============================] - 27s 62ms/step - loss: 0.5727 - auc: 0.7838 - auprc: 0.4155 - prec: 0.3254 - rec: 0.7106 - TN: 68146.0000 - TP: 12075.0000 - precision_at_recall_8: 0.2740 - val_loss: 0.4810 - val_auc: 0.6799 - val_auprc: 0.3126 - val_prec: 0.3391 - val_rec: 0.3394 - val_TN: 43893.0000 - val_TP: 3090.0000 - val_precision_at_recall_8: 0.1942\n",
      "Epoch 44/1000\n",
      "431/431 [==============================] - 27s 62ms/step - loss: 0.5709 - auc: 0.7854 - auprc: 0.4174 - prec: 0.3292 - rec: 0.7131 - TN: 68483.0000 - TP: 12118.0000 - precision_at_recall_8: 0.2770 - val_loss: 0.7235 - val_auc: 0.6783 - val_auprc: 0.3088 - val_prec: 0.2264 - val_rec: 0.6675 - val_TN: 29150.0000 - val_TP: 6076.0000 - val_precision_at_recall_8: 0.1966\n",
      "Epoch 45/1000\n",
      "431/431 [==============================] - 27s 63ms/step - loss: 0.5715 - auc: 0.7850 - auprc: 0.4172 - prec: 0.3282 - rec: 0.7188 - TN: 68177.0000 - TP: 12214.0000 - precision_at_recall_8: 0.2765 - val_loss: 0.5740 - val_auc: 0.6791 - val_auprc: 0.3109 - val_prec: 0.2778 - val_rec: 0.4937 - val_TN: 38231.0000 - val_TP: 4494.0000 - val_precision_at_recall_8: 0.1962\n",
      "Epoch 46/1000\n",
      "431/431 [==============================] - 27s 63ms/step - loss: 0.5709 - auc: 0.7857 - auprc: 0.4198 - prec: 0.3333 - rec: 0.7087 - TN: 69084.0000 - TP: 12043.0000 - precision_at_recall_8: 0.2785 - val_loss: 0.5658 - val_auc: 0.6739 - val_auprc: 0.3066 - val_prec: 0.2870 - val_rec: 0.4594 - val_TN: 39526.0000 - val_TP: 4182.0000 - val_precision_at_recall_8: 0.1928\n",
      "Epoch 47/1000\n",
      "431/431 [==============================] - 26s 61ms/step - loss: 0.5688 - auc: 0.7877 - auprc: 0.4211 - prec: 0.3332 - rec: 0.7124 - TN: 68954.0000 - TP: 12105.0000 - precision_at_recall_8: 0.2769 - val_loss: 0.5662 - val_auc: 0.6800 - val_auprc: 0.3098 - val_prec: 0.2835 - val_rec: 0.4712 - val_TN: 39077.0000 - val_TP: 4289.0000 - val_precision_at_recall_8: 0.1969\n",
      "Epoch 48/1000\n",
      "431/431 [==============================] - 27s 62ms/step - loss: 0.5685 - auc: 0.7877 - auprc: 0.4216 - prec: 0.3344 - rec: 0.7140 - TN: 69026.0000 - TP: 12133.0000 - precision_at_recall_8: 0.2805 - val_loss: 0.6832 - val_auc: 0.6728 - val_auprc: 0.3039 - val_prec: 0.2378 - val_rec: 0.6046 - val_TN: 32273.0000 - val_TP: 5504.0000 - val_precision_at_recall_8: 0.1937\n",
      "Epoch 49/1000\n",
      "431/431 [==============================] - 27s 64ms/step - loss: 0.5680 - auc: 0.7883 - auprc: 0.4222 - prec: 0.3327 - rec: 0.7141 - TN: 68834.0000 - TP: 12134.0000 - precision_at_recall_8: 0.2786 - val_loss: 0.7383 - val_auc: 0.6793 - val_auprc: 0.3064 - val_prec: 0.2267 - val_rec: 0.6703 - val_TN: 29105.0000 - val_TP: 6102.0000 - val_precision_at_recall_8: 0.1985\n",
      "Epoch 50/1000\n",
      "431/431 [==============================] - 27s 63ms/step - loss: 0.5676 - auc: 0.7886 - auprc: 0.4227 - prec: 0.3337 - rec: 0.7145 - TN: 68935.0000 - TP: 12142.0000 - precision_at_recall_8: 0.2799 - val_loss: 0.5759 - val_auc: 0.6747 - val_auprc: 0.3069 - val_prec: 0.2798 - val_rec: 0.4753 - val_TN: 38778.0000 - val_TP: 4327.0000 - val_precision_at_recall_8: 0.1948\n",
      "Epoch 51/1000\n",
      "431/431 [==============================] - 27s 62ms/step - loss: 0.5671 - auc: 0.7895 - auprc: 0.4244 - prec: 0.3307 - rec: 0.7176 - TN: 68494.0000 - TP: 12194.0000 - precision_at_recall_8: 0.2819 - val_loss: 0.6059 - val_auc: 0.6733 - val_auprc: 0.3042 - val_prec: 0.2636 - val_rec: 0.5225 - val_TN: 36629.0000 - val_TP: 4756.0000 - val_precision_at_recall_8: 0.1916\n",
      "Epoch 52/1000\n",
      "431/431 [==============================] - 27s 62ms/step - loss: 0.5662 - auc: 0.7905 - auprc: 0.4249 - prec: 0.3310 - rec: 0.7202 - TN: 68440.0000 - TP: 12238.0000 - precision_at_recall_8: 0.2831 - val_loss: 0.5609 - val_auc: 0.6736 - val_auprc: 0.3051 - val_prec: 0.2830 - val_rec: 0.4642 - val_TN: 39208.0000 - val_TP: 4226.0000 - val_precision_at_recall_8: 0.1929\n",
      "Epoch 53/1000\n",
      "431/431 [==============================] - 27s 63ms/step - loss: 0.5665 - auc: 0.7901 - auprc: 0.4231 - prec: 0.3343 - rec: 0.7214 - TN: 68760.0000 - TP: 12259.0000 - precision_at_recall_8: 0.2841 - val_loss: 0.5331 - val_auc: 0.6764 - val_auprc: 0.3069 - val_prec: 0.3015 - val_rec: 0.4272 - val_TN: 40906.0000 - val_TP: 3889.0000 - val_precision_at_recall_8: 0.1937\n",
      "Epoch 54/1000\n",
      "431/431 [==============================] - 27s 64ms/step - loss: 0.5646 - auc: 0.7921 - auprc: 0.4257 - prec: 0.3348 - rec: 0.7242 - TN: 68727.0000 - TP: 12307.0000 - precision_at_recall_8: 0.2864 - val_loss: 0.8242 - val_auc: 0.6715 - val_auprc: 0.3012 - val_prec: 0.2088 - val_rec: 0.7268 - val_TN: 24844.0000 - val_TP: 6616.0000 - val_precision_at_recall_8: 0.1950\n",
      "Epoch 55/1000\n",
      "431/431 [==============================] - 27s 62ms/step - loss: 0.5644 - auc: 0.7922 - auprc: 0.4277 - prec: 0.3378 - rec: 0.7235 - TN: 69068.0000 - TP: 12295.0000 - precision_at_recall_8: 0.2848 - val_loss: 0.5247 - val_auc: 0.6756 - val_auprc: 0.3045 - val_prec: 0.3084 - val_rec: 0.4049 - val_TN: 41650.0000 - val_TP: 3686.0000 - val_precision_at_recall_8: 0.1919\n",
      "Epoch 56/1000\n",
      "431/431 [==============================] - 27s 62ms/step - loss: 0.5641 - auc: 0.7929 - auprc: 0.4253 - prec: 0.3327 - rec: 0.7308 - TN: 68264.0000 - TP: 12419.0000 - precision_at_recall_8: 0.2890 - val_loss: 0.6455 - val_auc: 0.6742 - val_auprc: 0.3016 - val_prec: 0.2505 - val_rec: 0.5640 - val_TN: 34555.0000 - val_TP: 5134.0000 - val_precision_at_recall_8: 0.1948\n",
      "Epoch 57/1000\n",
      "431/431 [==============================] - 28s 65ms/step - loss: 0.5636 - auc: 0.7935 - auprc: 0.4271 - prec: 0.3362 - rec: 0.7319 - TN: 68620.0000 - TP: 12437.0000 - precision_at_recall_8: 0.2914 - val_loss: 0.5223 - val_auc: 0.6754 - val_auprc: 0.3039 - val_prec: 0.3075 - val_rec: 0.4077 - val_TN: 41560.0000 - val_TP: 3711.0000 - val_precision_at_recall_8: 0.1944\n",
      "Epoch 58/1000\n",
      "431/431 [==============================] - 28s 64ms/step - loss: 0.5634 - auc: 0.7939 - auprc: 0.4285 - prec: 0.3367 - rec: 0.7309 - TN: 68707.0000 - TP: 12421.0000 - precision_at_recall_8: 0.2917 - val_loss: 0.5981 - val_auc: 0.6719 - val_auprc: 0.2999 - val_prec: 0.2650 - val_rec: 0.5133 - val_TN: 36955.0000 - val_TP: 4673.0000 - val_precision_at_recall_8: 0.1914\n",
      "Epoch 59/1000\n",
      "431/431 [==============================] - 27s 64ms/step - loss: 0.5624 - auc: 0.7949 - auprc: 0.4300 - prec: 0.3395 - rec: 0.7244 - TN: 69229.0000 - TP: 12310.0000 - precision_at_recall_8: 0.2903 - val_loss: 0.5226 - val_auc: 0.6723 - val_auprc: 0.3015 - val_prec: 0.3100 - val_rec: 0.3991 - val_TN: 41831.0000 - val_TP: 3633.0000 - val_precision_at_recall_8: 0.1890\n",
      "CPU times: user 20min 50s, sys: 15min 43s, total: 36min 33s\n",
      "Wall time: 26min 26s\n"
     ]
    }
   ],
   "source": [
    "%%time\n",
    "# TF_GPU_ALLOCATOR=cuda_malloc_async\n",
    "#training\n",
    "with tf.device('/GPU:0'):\n",
    "    earlyStopping = EarlyStopping(monitor='val_auc', patience=50, verbose=0, mode='max', restore_best_weights=True)\n",
    "    mcp_save = ModelCheckpoint('../SeqModel/seqModel_therapy_tabSeq.mdl_wts.hdf5', save_best_only=True, monitor='val_auc', mode='min')\n",
    "    history = model.fit([Xt_train, Xs_train[:,:max_codes], Xm_train[:,:max_codes]], y_train, validation_data=([Xt_val, Xs_val[:,:max_codes], Xm_val[:,:max_codes]], y_val), \n",
    "                            epochs=epoch, batch_size=256, \n",
    "                        class_weight = class_weight, \n",
    "                        callbacks = [earlyStopping, mcp_save])"
   ]
  },
  {
   "cell_type": "code",
   "execution_count": 46,
   "id": "69776c31-4f5e-4781-951d-63e6b28bc32e",
   "metadata": {
    "tags": []
   },
   "outputs": [
    {
     "name": "stdout",
     "output_type": "stream",
     "text": [
      "dict_keys(['loss', 'auc', 'auprc', 'prec', 'rec', 'TN', 'TP', 'precision_at_recall_8', 'val_loss', 'val_auc', 'val_auprc', 'val_prec', 'val_rec', 'val_TN', 'val_TP', 'val_precision_at_recall_8'])\n"
     ]
    },
    {
     "data": {
      "image/png": "[encoded data removed]",
      "text/plain": [
       "<Figure size 640x480 with 1 Axes>"
      ]
     },
     "metadata": {},
     "output_type": "display_data"
    },
    {
     "data": {
      "image/png": "[encoded data removed]",
      "text/plain": [
       "<Figure size 640x480 with 1 Axes>"
      ]
     },
     "metadata": {},
     "output_type": "display_data"
    }
   ],
   "source": [
    "# list all data in history\n",
    "print(history.history.keys())\n",
    "# summarize history for accuracy\n",
    "plt.plot(history.history['auc'])\n",
    "plt.plot(history.history['val_auc'])\n",
    "# plt.ylim(0.55,1)\n",
    "plt.title('model AUC')\n",
    "plt.ylabel('AUC')\n",
    "plt.xlabel('epoch')\n",
    "plt.legend(['train', 'test'], loc='upper left')\n",
    "plt.show()\n",
    "# summarize history for loss\n",
    "plt.plot(history.history['loss'])\n",
    "plt.plot(history.history['val_loss'])\n",
    "plt.title('model loss')\n",
    "# plt.ylim(0.1, 1.15)\n",
    "plt.ylabel('loss')\n",
    "plt.xlabel('epoch')\n",
    "plt.legend(['train', 'val'], loc='upper left')\n",
    "plt.show()"
   ]
  },
  {
   "cell_type": "code",
   "execution_count": null,
   "id": "3a67e324-a9d9-453a-bd0f-ef90c3467ec2",
   "metadata": {},
   "outputs": [],
   "source": []
  },
  {
   "cell_type": "code",
   "execution_count": null,
   "id": "23a9bb79-4132-4388-9f9e-04b07cdcd816",
   "metadata": {},
   "outputs": [],
   "source": []
  },
  {
   "cell_type": "code",
   "execution_count": null,
   "id": "4755c4e5-d778-45f8-bee7-8c14f15f5b80",
   "metadata": {},
   "outputs": [],
   "source": []
  },
  {
   "cell_type": "code",
   "execution_count": null,
   "id": "39cf7906-eb77-4c44-8e17-f7fc6520af47",
   "metadata": {},
   "outputs": [],
   "source": []
  },
  {
   "cell_type": "code",
   "execution_count": 11,
   "id": "afeed10f-72a8-457d-bfcb-f2662e74bfc6",
   "metadata": {
    "tags": []
   },
   "outputs": [
    {
     "name": "stdout",
     "output_type": "stream",
     "text": [
      "Model: \"sequential_4\"\n",
      "_________________________________________________________________\n",
      " Layer (type)                Output Shape              Param #   \n",
      "=================================================================\n",
      " embedding_4 (Embedding)     (None, 100, 100)          5855800   \n",
      "                                                                 \n",
      " lstm_12 (LSTM)              (None, 100, 128)          117248    \n",
      "                                                                 \n",
      " dropout_12 (Dropout)        (None, 100, 128)          0         \n",
      "                                                                 \n",
      " lstm_13 (LSTM)              (None, 100, 128)          131584    \n",
      "                                                                 \n",
      " dropout_13 (Dropout)        (None, 100, 128)          0         \n",
      "                                                                 \n",
      " lstm_14 (LSTM)              (None, 128)               131584    \n",
      "                                                                 \n",
      " dropout_14 (Dropout)        (None, 128)               0         \n",
      "                                                                 \n",
      " dense_8 (Dense)             (None, 128)               16512     \n",
      "                                                                 \n",
      " dense_9 (Dense)             (None, 1)                 129       \n",
      "                                                                 \n",
      "=================================================================\n",
      "Total params: 6252857 (23.85 MB)\n",
      "Trainable params: 6252857 (23.85 MB)\n",
      "Non-trainable params: 0 (0.00 Byte)\n",
      "_________________________________________________________________\n",
      "None\n",
      "Epoch 1/1000\n"
     ]
    },
    {
     "name": "stderr",
     "output_type": "stream",
     "text": [
      "2023-12-07 23:05:22.810897: I tensorflow/compiler/mlir/tensorflow/utils/dump_mlir_util.cc:269] disabling MLIR crash reproducer, set env var `MLIR_CRASH_REPRODUCER_DIRECTORY` to enable.\n"
     ]
    },
    {
     "name": "stdout",
     "output_type": "stream",
     "text": [
      "861/861 [==============================] - 57s 62ms/step - loss: 3.0541 - auc: 0.6739 - auprc: 0.2963 - prec: 0.2478 - rec: 0.5827 - TN: 63114.0000 - TP: 9902.0000 - precision_at_recall_4: 0.1930 - val_loss: 1.8354 - val_auc: 0.7139 - val_auprc: 0.3515 - val_prec: 0.2768 - val_rec: 0.5973 - val_TN: 35714.0000 - val_TP: 5437.0000 - val_precision_at_recall_4: 0.2113\n",
      "Epoch 2/1000\n",
      "  3/861 [..............................] - ETA: 29s - loss: 1.7722 - auc: 0.8066 - auprc: 0.4184 - prec: 0.3130 - rec: 0.6923 - TN: 253.0000 - TP: 36.0000 - precision_at_recall_4: 0.2588"
     ]
    },
    {
     "name": "stderr",
     "output_type": "stream",
     "text": [
      "/opt/conda/envs/rapids/lib/python3.10/site-packages/keras/src/engine/training.py:3079: UserWarning: You are saving your model as an HDF5 file via `model.save()`. This file format is considered legacy. We recommend using instead the native Keras format, e.g. `model.save('my_model.keras')`.\n",
      "  saving_api.save_model(\n"
     ]
    },
    {
     "name": "stdout",
     "output_type": "stream",
     "text": [
      "861/861 [==============================] - 36s 42ms/step - loss: 1.1840 - auc: 0.7056 - auprc: 0.3358 - prec: 0.2859 - rec: 0.5834 - TN: 68408.0000 - TP: 9914.0000 - precision_at_recall_4: 0.2050 - val_loss: 0.7161 - val_auc: 0.7185 - val_auprc: 0.3507 - val_prec: 0.3091 - val_rec: 0.5261 - val_TN: 39214.0000 - val_TP: 4789.0000 - val_precision_at_recall_4: 0.2158\n",
      "Epoch 3/1000\n",
      "861/861 [==============================] - 35s 40ms/step - loss: 0.6392 - auc: 0.7123 - auprc: 0.3454 - prec: 0.2946 - rec: 0.5841 - TN: 69406.0000 - TP: 9925.0000 - precision_at_recall_4: 0.2081 - val_loss: 0.6077 - val_auc: 0.7123 - val_auprc: 0.3512 - val_prec: 0.2871 - val_rec: 0.5744 - val_TN: 36931.0000 - val_TP: 5229.0000 - val_precision_at_recall_4: 0.2104\n",
      "Epoch 4/1000\n",
      "861/861 [==============================] - 34s 40ms/step - loss: 0.6169 - auc: 0.7180 - auprc: 0.3489 - prec: 0.2981 - rec: 0.5997 - TN: 69178.0000 - TP: 10190.0000 - precision_at_recall_4: 0.2118 - val_loss: 0.5500 - val_auc: 0.7185 - val_auprc: 0.3547 - val_prec: 0.3246 - val_rec: 0.4943 - val_TN: 40553.0000 - val_TP: 4500.0000 - val_precision_at_recall_4: 0.2155\n",
      "Epoch 5/1000\n",
      "861/861 [==============================] - 34s 40ms/step - loss: 0.6124 - auc: 0.7218 - auprc: 0.3571 - prec: 0.3037 - rec: 0.6007 - TN: 69765.0000 - TP: 10208.0000 - precision_at_recall_4: 0.2127 - val_loss: 0.6622 - val_auc: 0.7136 - val_auprc: 0.3533 - val_prec: 0.2650 - val_rec: 0.6392 - val_TN: 33774.0000 - val_TP: 5819.0000 - val_precision_at_recall_4: 0.2097\n",
      "Epoch 6/1000\n",
      "861/861 [==============================] - 34s 40ms/step - loss: 0.6078 - auc: 0.7277 - auprc: 0.3672 - prec: 0.3069 - rec: 0.6077 - TN: 69856.0000 - TP: 10327.0000 - precision_at_recall_4: 0.2158 - val_loss: 0.5665 - val_auc: 0.7189 - val_auprc: 0.3530 - val_prec: 0.2958 - val_rec: 0.5579 - val_TN: 37825.0000 - val_TP: 5079.0000 - val_precision_at_recall_4: 0.2160\n",
      "Epoch 7/1000\n",
      "861/861 [==============================] - 35s 41ms/step - loss: 0.6032 - auc: 0.7337 - auprc: 0.3714 - prec: 0.3117 - rec: 0.6273 - TN: 69636.0000 - TP: 10659.0000 - precision_at_recall_4: 0.2183 - val_loss: 0.5692 - val_auc: 0.6987 - val_auprc: 0.3397 - val_prec: 0.3078 - val_rec: 0.4560 - val_TN: 40582.0000 - val_TP: 4151.0000 - val_precision_at_recall_4: 0.2073\n",
      "Epoch 8/1000\n",
      "861/861 [==============================] - 34s 39ms/step - loss: 0.5987 - auc: 0.7387 - auprc: 0.3817 - prec: 0.3174 - rec: 0.6296 - TN: 70169.0000 - TP: 10698.0000 - precision_at_recall_4: 0.2232 - val_loss: 0.6385 - val_auc: 0.7108 - val_auprc: 0.3443 - val_prec: 0.2936 - val_rec: 0.5522 - val_TN: 37820.0000 - val_TP: 5027.0000 - val_precision_at_recall_4: 0.2088\n",
      "Epoch 9/1000\n",
      "861/861 [==============================] - 33s 39ms/step - loss: 0.5943 - auc: 0.7435 - auprc: 0.3908 - prec: 0.3217 - rec: 0.6360 - TN: 70388.0000 - TP: 10808.0000 - precision_at_recall_4: 0.2244 - val_loss: 0.6069 - val_auc: 0.7114 - val_auprc: 0.3408 - val_prec: 0.2850 - val_rec: 0.5697 - val_TN: 36906.0000 - val_TP: 5186.0000 - val_precision_at_recall_4: 0.2105\n",
      "Epoch 10/1000\n",
      "861/861 [==============================] - 34s 39ms/step - loss: 0.5887 - auc: 0.7512 - auprc: 0.4018 - prec: 0.3263 - rec: 0.6401 - TN: 70720.0000 - TP: 10877.0000 - precision_at_recall_4: 0.2304 - val_loss: 0.6534 - val_auc: 0.7012 - val_auprc: 0.3385 - val_prec: 0.2623 - val_rec: 0.6146 - val_TN: 34179.0000 - val_TP: 5595.0000 - val_precision_at_recall_4: 0.2012\n",
      "Epoch 11/1000\n",
      "861/861 [==============================] - 35s 40ms/step - loss: 0.5819 - auc: 0.7582 - auprc: 0.4151 - prec: 0.3372 - rec: 0.6496 - TN: 71475.0000 - TP: 11038.0000 - precision_at_recall_4: 0.2350 - val_loss: 0.5404 - val_auc: 0.7084 - val_auprc: 0.3348 - val_prec: 0.3199 - val_rec: 0.4730 - val_TN: 40760.0000 - val_TP: 4306.0000 - val_precision_at_recall_4: 0.2100\n",
      "Epoch 12/1000\n",
      "861/861 [==============================] - 34s 39ms/step - loss: 0.5765 - auc: 0.7649 - auprc: 0.4251 - prec: 0.3425 - rec: 0.6517 - TN: 71915.0000 - TP: 11074.0000 - precision_at_recall_4: 0.2435 - val_loss: 0.8349 - val_auc: 0.6927 - val_auprc: 0.3076 - val_prec: 0.2178 - val_rec: 0.7535 - val_TN: 25279.0000 - val_TP: 6859.0000 - val_precision_at_recall_4: 0.2057\n",
      "Epoch 13/1000\n",
      "861/861 [==============================] - 34s 40ms/step - loss: 0.5699 - auc: 0.7718 - auprc: 0.4379 - prec: 0.3523 - rec: 0.6572 - TN: 72646.0000 - TP: 11167.0000 - precision_at_recall_4: 0.2479 - val_loss: 0.6628 - val_auc: 0.6732 - val_auprc: 0.3111 - val_prec: 0.2703 - val_rec: 0.5549 - val_TN: 36280.0000 - val_TP: 5051.0000 - val_precision_at_recall_4: 0.1844\n",
      "Epoch 14/1000\n",
      "861/861 [==============================] - 34s 39ms/step - loss: 0.5625 - auc: 0.7795 - auprc: 0.4543 - prec: 0.3582 - rec: 0.6643 - TN: 72950.0000 - TP: 11289.0000 - precision_at_recall_4: 0.2547 - val_loss: 0.7278 - val_auc: 0.6774 - val_auprc: 0.3006 - val_prec: 0.2152 - val_rec: 0.7106 - val_TN: 26319.0000 - val_TP: 6469.0000 - val_precision_at_recall_4: 0.1875\n",
      "Epoch 15/1000\n",
      "861/861 [==============================] - 33s 39ms/step - loss: 0.5552 - auc: 0.7862 - auprc: 0.4696 - prec: 0.3711 - rec: 0.6616 - TN: 74124.0000 - TP: 11242.0000 - precision_at_recall_4: 0.2588 - val_loss: 0.5303 - val_auc: 0.6875 - val_auprc: 0.3224 - val_prec: 0.3196 - val_rec: 0.4343 - val_TN: 41501.0000 - val_TP: 3953.0000 - val_precision_at_recall_4: 0.2014\n",
      "Epoch 16/1000\n",
      "861/861 [==============================] - 34s 40ms/step - loss: 0.5467 - auc: 0.7931 - auprc: 0.4906 - prec: 0.3834 - rec: 0.6664 - TN: 74963.0000 - TP: 11324.0000 - precision_at_recall_4: 0.2654 - val_loss: 0.5773 - val_auc: 0.6831 - val_auprc: 0.3063 - val_prec: 0.2931 - val_rec: 0.4836 - val_TN: 39301.0000 - val_TP: 4402.0000 - val_precision_at_recall_4: 0.1998\n",
      "CPU times: user 7min 27s, sys: 4min 1s, total: 11min 29s\n",
      "Wall time: 9min 30s\n"
     ]
    }
   ],
   "source": [
    "%%time\n",
    "\n",
    "# create the model\n",
    "# embedding_vector_length = int(np.sqrt(vocab_size))\n",
    "embedding_vector_length = 100\n",
    "earlyStopping = EarlyStopping(monitor='val_auc', patience=10, verbose=0, mode='max', restore_best_weights=True)\n",
    "mcp_save = ModelCheckpoint('../SeqModel/seqModel_all_new.mdl_wts.hdf5', save_best_only=True, monitor='val_auc', mode='min')\n",
    "# class_weight = {0: 1, 1: 6}\n",
    "\n",
    "\n",
    "with tf.device('/GPU:0'):\n",
    "    model = Sequential()\n",
    "    model.add(Embedding(vocab_size, embedding_vector_length, input_length=max_codes))\n",
    "    model.add(LSTM(128, return_sequences=True,\n",
    "                   bias_regularizer=L1L2(l1=0.0, l2=0.01)))\n",
    "    model.add(Dropout(0.5))\n",
    "    model.add(LSTM(128, return_sequences=True,\n",
    "                   bias_regularizer=L1L2(l1=0.0, l2=0.01)))\n",
    "    model.add(Dropout(0.5))\n",
    "    model.add(LSTM(128, bias_regularizer=L1L2(l1=0.0, l2=0.01)))\n",
    "    model.add(Dropout(0.3))\n",
    "    model.add(Dense(128, activation='relu'))\n",
    "    # model.add(Dense(32, activation='relu'))\n",
    "    model.add(Dense(1, activation='sigmoid'))\n",
    "    opt = RMSprop(learning_rate=5e-4, clipvalue=0.5)\n",
    "    metrics = [\n",
    "        AUC(num_thresholds=1000, name='auc', curve='ROC'),\n",
    "        AUC(num_thresholds=1000, name='auprc', curve='PR'),\n",
    "        tf.keras.metrics.Precision(name='prec'),\n",
    "        tf.keras.metrics.Recall(name='rec'),\n",
    "        tf.keras.metrics.TrueNegatives(name='TN'),\n",
    "        tf.keras.metrics.TruePositives(name='TP'),\n",
    "        tf.keras.metrics.PrecisionAtRecall(0.8)\n",
    "    ]\n",
    "    model.compile(loss='binary_crossentropy', optimizer=opt, metrics=metrics, )\n",
    "    print(model.summary())\n",
    "    history = model.fit(Xs_train[:,:max_codes], y_train, validation_data=(Xs_val[:,:max_codes], y_val), \n",
    "                        epochs=1000, batch_size=128, \n",
    "                        class_weight = class_weight, \n",
    "                        callbacks = [earlyStopping, mcp_save])\n",
    "\n"
   ]
  },
  {
   "cell_type": "code",
   "execution_count": null,
   "id": "9c2a56d1-042d-4fb9-98ba-55323ae95c15",
   "metadata": {
    "tags": []
   },
   "outputs": [],
   "source": [
    "model.summary()"
   ]
  },
  {
   "cell_type": "code",
   "execution_count": null,
   "id": "fb4cf3d2-2342-4df8-98ee-ecca942d40a0",
   "metadata": {
    "tags": []
   },
   "outputs": [],
   "source": []
  },
  {
   "cell_type": "code",
   "execution_count": null,
   "id": "f29527ec-f7d3-4668-ad0e-92c91e57411e",
   "metadata": {
    "tags": []
   },
   "outputs": [],
   "source": [
    "import io\n",
    "out_v = io.open('../SeqModel/vectors.tsv', 'w', encoding='utf-8')\n",
    "out_m = io.open('../SeqModel/metadata.tsv', 'w', encoding='utf-8')\n",
    "for index, word in enumerate(vocab):\n",
    "  if (index == 0)|(index == 1)|(index == 2):\n",
    "    continue  # skip 0,1,2, it's padding, satr and end\n",
    "  vec = embeddings_vector[index]\n",
    "  out_v.write('\\t'.join([str(x) for x in vec]) + \"\\n\")\n",
    "  out_m.write(word + \"\\n\")\n",
    "\n",
    "out_v.close()\n",
    "out_m.close()"
   ]
  },
  {
   "cell_type": "code",
   "execution_count": null,
   "id": "c14e76ce-0a39-4ca0-a8cd-d9ba570ddd1f",
   "metadata": {},
   "outputs": [],
   "source": []
  },
  {
   "cell_type": "code",
   "execution_count": null,
   "id": "fdbddf77-c941-48d2-9bbd-b80b77d85e5b",
   "metadata": {
    "tags": []
   },
   "outputs": [],
   "source": []
  },
  {
   "cell_type": "code",
   "execution_count": null,
   "id": "20c11344-dfa9-40e6-b2d2-63388d84ba09",
   "metadata": {
    "tags": []
   },
   "outputs": [],
   "source": [
    "with tf.device('/CPU:0'):\n",
    "    # model.evaluate(X_train, y_train)\n",
    "    model.evaluate(X_val, y_val, batch_size=300)\n",
    "    model.evaluate(X_eval, y_eval, batch_size=300)\n",
    "    model.evaluate(X_test, y_test, batch_size=300)\n",
    "    model.evaluate(X_testWales, y_testWales, batch_size=300)\n",
    "    model.evaluate(X_testScotland, y_testScotland, batch_size=300)"
   ]
  },
  {
   "cell_type": "code",
   "execution_count": null,
   "id": "3f7fd35d-2903-48e4-a655-b55f16b99da1",
   "metadata": {
    "tags": []
   },
   "outputs": [],
   "source": [
    "#Model evaluation function\n",
    "def summariseResult (testY, preds):\n",
    "    tn, fp, fn, tp = confusion_matrix(testY, preds).ravel()\n",
    "    specificity = tn / (tn+fp)\n",
    "    sensitivity = tp / (tp+fn)\n",
    "    ppv = 100*tp/(tp+fp)\n",
    "    npv = 100*tn/(fn+tn)\n",
    "    acc = accuracy_score(testY, preds)\n",
    "    f1score = f1_score(testY, preds, average = 'binary')\n",
    "    balanceacc = balanced_accuracy_score(testY, preds)\n",
    "    fpr, tpr, thresholds = roc_curve(testY, preds, pos_label=1)\n",
    "    aucscore = auc(fpr, tpr)\n",
    "    # aucscore = roc_auc_score(testY, preds)\n",
    "    auprc = average_precision_score(testY, preds)\n",
    "    # plot_confusion_matrix(model, testX, testY, cmap='viridis')  \n",
    "    return np.round(acc,4), np.round(specificity,4), np.round(sensitivity,4), np.round(aucscore,4), np.round(auprc,4), np.round(balanceacc,4), np.round(f1score,4), np.round(ppv,4), np.round(npv,4)\n",
    "\n",
    "data_test_Xs = [X_eval, X_test, X_testWales, X_testScotland]\n",
    "data_test_ys = [y_eval, y_test, y_testWales, y_testScotland]\n",
    "for data_test_X, data_test_y in zip(data_test_Xs, data_test_ys):\n",
    "    with tf.device('/CPU:0'):\n",
    "        preds = model.predict(data_test_X)\n",
    "    preds = [0 if pred <0.5 else 1 for pred in preds]\n",
    "    print(summariseResult(data_test_y, np.squeeze(preds)))"
   ]
  },
  {
   "cell_type": "code",
   "execution_count": null,
   "id": "e8a50962-2f80-4931-8eb7-df84792130ed",
   "metadata": {
    "tags": []
   },
   "outputs": [],
   "source": [
    "# model.save('../SeqModel/model_all.h5')"
   ]
  },
  {
   "cell_type": "code",
   "execution_count": null,
   "id": "5f9f42bb-89f7-4693-852f-ae329cc7afe7",
   "metadata": {},
   "outputs": [],
   "source": []
  },
  {
   "cell_type": "code",
   "execution_count": null,
   "id": "cd0c4b94-3df3-47ba-9ef3-ab2d5c61df98",
   "metadata": {},
   "outputs": [],
   "source": [
    "extractor = tf.keras.Model(inputs=model.inputs, outputs=model.get_layer('embedding').output)\n",
    "embeddings_vector = model.layers[0].get_weights()[0]\n",
    "\n",
    "# `embeddings` has a shape of (num_vocab, embedding_dim) \n",
    "\n",
    "# `word_to_index` is a mapping (i.e. dict) from words to their index, e.g. `love`: 69\n",
    "words_embeddings = {w:embeddings_vector[idx] for w, idx in code2idx.items()}\n",
    "\n",
    "vocab = list(code2idx.keys())"
   ]
  },
  {
   "cell_type": "code",
   "execution_count": null,
   "id": "104cf9ea-6871-4009-9e7e-f626adbde85a",
   "metadata": {
    "tags": []
   },
   "outputs": [],
   "source": [
    "from sklearn.decomposition import PCA\n",
    "pca_2dim = PCA(random_state=0).fit_transform(embeddings_vector)[:,:2]\n",
    "pca_2dim = pd.DataFrame(pca_2dim, columns=['PC1', 'PC2'])\n",
    "pca_2dim['code'] = vocab"
   ]
  },
  {
   "cell_type": "code",
   "execution_count": null,
   "id": "8d59d49e-2c2f-4fb3-8327-62ce56522beb",
   "metadata": {
    "tags": []
   },
   "outputs": [],
   "source": [
    "asthma_readcodes = pd.read_csv('../RCodes/ClinicalCodes/definite_asthma_read_codes.csv')[['readcode_new']]\n",
    "ethnicity = pd.read_csv('../RCodes/ClinicalCodes/Ethinicity.csv')[['Read.Code']]\n",
    "smoking = pd.read_csv('../RCodes/ClinicalCodes/SmokingReadcodes.csv')[['Read Code']]\n",
    "ICS = pd.read_csv('../RCodes/ClinicalCodes/ICS_Asthma.csv')[['code_id']]"
   ]
  },
  {
   "cell_type": "code",
   "execution_count": null,
   "id": "bcb211b9-1c91-421a-9c6b-6fada17fe001",
   "metadata": {
    "tags": []
   },
   "outputs": [],
   "source": [
    "asthma_readcodes.columns = ['ReadCode']\n",
    "asthma_readcodes['label'] = 'asthma specific'\n",
    "asthma_readcodes['label_num'] = 0\n",
    "ethnicity.columns = ['ReadCode']\n",
    "ethnicity['label'] = 'ethnicity'\n",
    "ethnicity['label_num'] = '1'\n",
    "smoking.columns = ['ReadCode']\n",
    "smoking['label'] = 'smoking'\n",
    "smoking['label_num'] = '2'\n",
    "ICS.columns = ['ReadCode']\n",
    "ICS['label'] = 'ICS'\n",
    "ICS['label_num'] = '3'"
   ]
  },
  {
   "cell_type": "code",
   "execution_count": null,
   "id": "0effbdc3-8838-4044-8832-7896bc25f704",
   "metadata": {
    "tags": []
   },
   "outputs": [],
   "source": [
    "df = pd.concat([asthma_readcodes, ethnicity, smoking, ICS])"
   ]
  },
  {
   "cell_type": "code",
   "execution_count": null,
   "id": "01aafc54-69d3-4a8c-99d2-7604318ba548",
   "metadata": {
    "tags": []
   },
   "outputs": [],
   "source": [
    "pca_subset = pca_2dim[pca_2dim.code.isin(df.ReadCode.unique())]"
   ]
  },
  {
   "cell_type": "code",
   "execution_count": null,
   "id": "b758107c-f214-4ac1-b0a0-4d237b5c6793",
   "metadata": {
    "tags": []
   },
   "outputs": [],
   "source": [
    "pca_subset = df.merge(pca_subset, how='right', left_on='ReadCode', right_on='code')"
   ]
  },
  {
   "cell_type": "code",
   "execution_count": null,
   "id": "392e4cba-da65-4c65-b756-7fcbf75920e8",
   "metadata": {
    "tags": []
   },
   "outputs": [],
   "source": [
    "import matplotlib.pyplot as plt\n",
    "plt.scatter(pca_subset.PC1.values,pca_subset.PC2.values, c=pca_subset.label_num.values)\n",
    "plt.show()\n"
   ]
  }
 ],
 "metadata": {
  "kernelspec": {
   "display_name": "Python 3 (ipykernel)",
   "language": "python",
   "name": "python3"
  },
  "language_info": {
   "codemirror_mode": {
    "name": "ipython",
    "version": 3
   },
   "file_extension": ".py",
   "mimetype": "text/x-python",
   "name": "python",
   "nbconvert_exporter": "python",
   "pygments_lexer": "ipython3",
   "version": "3.10.11"
  }
 },
 "nbformat": 4,
 "nbformat_minor": 5
}
