{
 "cells": [
  {
   "cell_type": "markdown",
   "id": "fa08f1bc-f995-446d-9d01-569bb5721d43",
   "metadata": {
    "tags": []
   },
   "source": [
    "## parameter search"
   ]
  },
  {
   "cell_type": "code",
   "execution_count": null,
   "id": "91d5dca5-ff2e-4d72-859f-0591120484b3",
   "metadata": {
    "tags": []
   },
   "outputs": [],
   "source": [
    "# !pip install scikeras\n",
    "# !pip install keras-tuner --upgrade"
   ]
  },
  {
   "cell_type": "code",
   "execution_count": null,
   "id": "a1df8b3a-af8f-4e3b-8aed-f5d1c92c52b4",
   "metadata": {
    "tags": []
   },
   "outputs": [],
   "source": [
    "import model_helper_Search\n",
    "import pandas as pd\n",
    "import numpy as np\n",
    "import numpy as np\n",
    "import tensorflow as tf\n",
    "from sklearn.model_selection import GridSearchCV\n",
    "from tensorflow.keras.models import Sequential\n",
    "from tensorflow.keras.layers import Dense, LeakyReLU\n",
    "from scikeras.wrappers import KerasClassifier\n",
    "import keras_tuner\n",
    "import matplotlib.pyplot as plt\n",
    "import pickle\n",
    "\n",
    "tf.random.set_seed(99)\n",
    "\n",
    "target_outcome = 'new_12MonthsOutcome'\n",
    "max_codes = 300"
   ]
  },
  {
   "cell_type": "code",
   "execution_count": null,
   "id": "807ed6e0-f537-4743-95fd-d24dac736a09",
   "metadata": {
    "tags": []
   },
   "outputs": [],
   "source": [
    "# # %%time\n",
    "\n",
    "# trainingData, valData, evalData, testData, testDataWales, testDataScotland, vocab_size, month_size = model_helper_Search.load_data(target_outcome)\n",
    "\n",
    "# #generate X and y\n",
    "# Xt_train, Xt_val, Xt_eval, Xt_test, Xt_testWales, Xt_testScotland, Xs_train, Xs_val, Xs_eval, Xs_test, Xs_testWales, Xs_testScotland, Xm_train, Xm_val, Xm_eval, Xm_test, Xm_testWales, Xm_testScotland, y_train, y_val, y_eval, y_test, y_testWales, y_testScotland = model_helper_Search.generate_X_y(trainingData, valData, evalData, testData, testDataWales, testDataScotland, target_outcome)\n",
    "\n"
   ]
  },
  {
   "cell_type": "code",
   "execution_count": null,
   "id": "91d23fac-c37c-4295-af1e-09ec49e6f13f",
   "metadata": {
    "scrolled": true,
    "tags": []
   },
   "outputs": [],
   "source": [
    "# n_train = 20000\n",
    "# n_val = int((20/100)*50000)\n",
    "# sets_parameterSearch = Xt_train[:n_train], Xt_val[:n_val], Xs_train[:n_train], Xs_val[:n_val], Xm_train[:n_train], Xm_val[:n_val], y_train[:n_train], y_val[:n_val]\n",
    "# pickle.dump(sets_parameterSearch, open('../SeqModel/sets_search.sav', 'wb'))\n",
    "\n",
    "# sets = pickle.load(open('../SeqModel/sets_search.sav', 'rb'))"
   ]
  },
  {
   "cell_type": "code",
   "execution_count": null,
   "id": "be06e1e5-9f12-4918-9e14-9883b07922c9",
   "metadata": {
    "scrolled": true,
    "tags": []
   },
   "outputs": [],
   "source": [
    "tuner = model_helper_Search.search_model_parameters('early')"
   ]
  },
  {
   "cell_type": "code",
   "execution_count": null,
   "id": "6875dd5d-eebe-4eeb-b493-d47c09b3a0da",
   "metadata": {
    "scrolled": true,
    "tags": []
   },
   "outputs": [],
   "source": [
    "best_hps = tuner.get_best_hyperparameters(5)\n",
    "# Build the model with the best hp.\n",
    "model = model_helper_Search.MyHyperModel_late()\n",
    "model = model.build(best_hps[0])"
   ]
  },
  {
   "cell_type": "code",
   "execution_count": null,
   "id": "93d304c6-8a00-4cb2-972b-19b284658e19",
   "metadata": {
    "tags": []
   },
   "outputs": [],
   "source": [
    "sets = pickle.load(open('../SeqModel/sets.sav', 'rb'))\n",
    "Xt_train, Xt_val, Xt_eval, Xt_test, Xt_testWales, Xt_testScotland, Xs_train, Xs_val, Xs_eval, Xs_test, Xs_testWales, Xs_testScotland, Xm_train, Xm_val, Xm_eval, Xm_test, Xm_testWales, Xm_testScotland, y_train, y_val, y_eval, y_test, y_testWales, y_testScotland = sets\n"
   ]
  },
  {
   "cell_type": "code",
   "execution_count": null,
   "id": "55ed5ae7-8302-46bf-bcf3-9b299f51e7dd",
   "metadata": {
    "tags": []
   },
   "outputs": [],
   "source": [
    "pos_weight = sum(x == 0 for x in y_train)/sum(x == 1 for x in y_train)\n",
    "class_weight = {0:1, 1:pos_weight}"
   ]
  },
  {
   "cell_type": "code",
   "execution_count": null,
   "id": "c5ad1a43-947f-48b5-8d9f-e875b9c006bc",
   "metadata": {
    "scrolled": true,
    "tags": []
   },
   "outputs": [],
   "source": [
    "from tensorflow.keras.callbacks import EarlyStopping, ModelCheckpoint, ReduceLROnPlateau, TensorBoard\n",
    "earlyStopping = EarlyStopping(monitor='val_auc', patience=8, verbose=0, mode='max', restore_best_weights=True)\n",
    "mcp_save = ModelCheckpoint('../SeqModel/seqModel_all_tabSeq.mdl_wts.hdf5', save_best_only=True, monitor='val_auc', mode='min')\n",
    "# log_dir = \"../SeqModel/logs/fit/\" + datetime.datetime.now().strftime(\"%Y%m%d-%H%M%S\")\n",
    "# tensorboard_callback = tf.keras.callbacks.TensorBoard(log_dir=log_dir, histogram_freq=1)\n",
    "history = model.fit([Xt_train, Xs_train, Xm_train], y_train, validation_data=([Xt_val, Xs_val, Xm_val], y_val), \n",
    "                        epochs=100, batch_size=128, \n",
    "                            class_weight = class_weight, \n",
    "                            callbacks = [earlyStopping, mcp_save])"
   ]
  },
  {
   "cell_type": "code",
   "execution_count": null,
   "id": "d6f12e8d-3846-4bfc-8f62-5de99c1e7e53",
   "metadata": {
    "tags": []
   },
   "outputs": [],
   "source": [
    "# list all data in history\n",
    "print(history.history.keys())\n",
    "# summarize history for accuracy\n",
    "plt.plot(history.history['auc'])\n",
    "plt.plot(history.history['val_auc'])\n",
    "# plt.ylim(0.55,1)\n",
    "plt.title('model AUC')\n",
    "plt.ylabel('AUC')\n",
    "plt.xlabel('epoch')\n",
    "plt.legend(['train', 'test'], loc='upper left')\n",
    "plt.show()\n",
    "# summarize history for loss\n",
    "plt.plot(history.history['loss'])\n",
    "plt.plot(history.history['val_loss'])\n",
    "plt.title('model loss')\n",
    "# plt.ylim(0.1, 1.15)\n",
    "plt.ylabel('loss')\n",
    "plt.xlabel('epoch')\n",
    "plt.legend(['train', 'val'], loc='upper left')\n",
    "plt.show()"
   ]
  },
  {
   "cell_type": "code",
   "execution_count": null,
   "id": "f2ace446-7e38-4c1f-879d-b09e916d0ed8",
   "metadata": {
    "tags": []
   },
   "outputs": [],
   "source": [
    "%%time\n",
    "#model evaluation\n",
    "Xts = [Xt_eval, Xt_test, Xt_testWales, Xt_testScotland]\n",
    "Xss = [Xs_eval, Xs_test, Xs_testWales, Xs_testScotland]\n",
    "Xms = [Xm_eval, Xm_test, Xm_testWales, Xm_testScotland]\n",
    "ys = [y_eval, y_test, y_testWales, y_testScotland]\n",
    "sets = zip(Xts, Xss, Xms, ys)\n",
    "model_helper_Search.evaluate_model(model, sets)"
   ]
  },
  {
   "cell_type": "code",
   "execution_count": null,
   "id": "7ef24211-1123-48fb-91b8-091402cce427",
   "metadata": {
    "tags": []
   },
   "outputs": [],
   "source": [
    "metrics = [\n",
    "    AUC(num_thresholds=3, name='auc', curve='ROC'),\n",
    "    tf.keras.metrics.Precision(name='prec'),\n",
    "    tf.keras.metrics.Recall(name='rec'),\n",
    "    tf.keras.metrics.TrueNegatives(name='TN'),\n",
    "    tf.keras.metrics.TruePositives(name='TP'),\n",
    "    tf.keras.metrics.PrecisionAtRecall(0.8)\n",
    "]\n",
    "\n",
    "gs_model = KerasClassifier(model=model, loss=\"binary_crossentropy\", epochs=100, batch_size=128, verbose=0)\n",
    "optimizer = ['SGD', 'RMSprop', 'Adagrad', 'Adadelta', 'Adam', 'Adamax', 'Nadam']\n",
    "learning_rate = [1e-3, 1e-4, 1e-5]\n",
    "clipvalue = [0.3, 0.5, 0.7]\n",
    "param_grid = dict(optimizer = optimizer,\n",
    "                 learning_rate = learning_rate,\n",
    "                 clipvalue = clipvalue)\n",
    "grid = GridSearchCV(estimator=model, param_grid=param_grid, n_jobs=-1, cv=3)\n",
    "grid_result = grid.fit(X, Y)"
   ]
  }
 ],
 "metadata": {
  "kernelspec": {
   "display_name": "Python 3 (ipykernel)",
   "language": "python",
   "name": "python3"
  },
  "language_info": {
   "codemirror_mode": {
    "name": "ipython",
    "version": 3
   },
   "file_extension": ".py",
   "mimetype": "text/x-python",
   "name": "python",
   "nbconvert_exporter": "python",
   "pygments_lexer": "ipython3",
   "version": "3.10.11"
  }
 },
 "nbformat": 4,
 "nbformat_minor": 5
}
