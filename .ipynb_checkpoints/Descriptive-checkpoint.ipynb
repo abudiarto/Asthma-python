{
 "cells": [
  {
   "cell_type": "code",
   "execution_count": null,
   "id": "dff9d612-74a2-4ecd-a4b0-eb1b10c47a87",
   "metadata": {},
   "outputs": [],
   "source": []
  },
  {
   "cell_type": "code",
   "execution_count": null,
   "id": "9fd8b9bd-91b7-42f6-9f12-1e0f5c61f045",
   "metadata": {},
   "outputs": [],
   "source": []
  },
  {
   "cell_type": "code",
   "execution_count": null,
   "id": "528b9eaf-3f26-40b0-b52b-8816fe572a4c",
   "metadata": {},
   "outputs": [],
   "source": [
    "excludeDesc_columns = ['patid', 'practice_id', #identifier\n",
    "                   'BMI', #use the categorical instead\n",
    "                   'ICS_medication_possesion_ratio', #the max value is inf\n",
    "                   'Spacer', 'numPCSAsthma',  #all zero\n",
    "                   'outcome_6months', 'outcome_9months', 'outcome_12months', 'outcome_15months', 'outcome_18months',\n",
    "                   'outcome_21months', 'outcome_24months', 'outcome_combined_9months', \n",
    "                   'outcome_combined_15months', 'outcome_combined_18months', 'outcome_combined_24months', #outcomes variable\n",
    "                   'Country',#used for train-tes split only\n",
    "                  ]\n",
    "excludeDesc_columns = excludeDesc_columns + [x for x in features_columns if '_count' in x]\n",
    "descData = masterData[masterData.columns.difference(excludeDesc_columns)]"
   ]
  },
  {
   "cell_type": "code",
   "execution_count": null,
   "id": "05fe5c05-9386-4544-9297-c534dbe1ae43",
   "metadata": {},
   "outputs": [],
   "source": [
    "cat_vars = summaryData[summaryData['max'] <= 5].index.to_list() \n",
    "cat_vars.remove('numHospEvents')\n",
    "cat_vars = cat_vars + categoricalNonnumericVars\n",
    "cont_vars = summaryData[summaryData['max'] > 5].index.to_list() + ['numHospEvents']"
   ]
  },
  {
   "cell_type": "code",
   "execution_count": null,
   "id": "e06d9d09-7673-43f6-8429-6237b08834e8",
   "metadata": {},
   "outputs": [],
   "source": [
    "# writer = pd.ExcelWriter('../../code/descriptive_cat.xlsx', engine='xlsxwriter')\n",
    "outcomes = ['outcome_combined_12months']\n",
    "# cat_vars = ['gender_x', 'language', 'marital_status', 'ethnicity', 'admission_location', 'discharge_location']\n",
    "for target_outcome in outcomes:\n",
    "    desc_table = []\n",
    "    print(target_outcome)\n",
    "    for var in cat_vars:\n",
    "        chi,pval,df,tab = chi2_contingency(pd.crosstab(descData[var].values, descData[target_outcome].values).apply(lambda c: c/c.sum(), axis=0))\n",
    "        desc_table.append((var  + ' (n, % of total)','-' ,'-'))\n",
    "        for group in descData[var].unique():\n",
    "            noAsthma = descData[(descData[var]==group)&(descData[target_outcome]==0)].shape[0]\n",
    "            noAsthmaPercent = round(noAsthma/sum(descData[target_outcome]==0)*100,2)\n",
    "            asthma = descData[(descData[var]==group)&(descData[target_outcome]==1)].shape[0]\n",
    "            asthmaPercent = round(asthma/sum(descData[target_outcome]==1)*100,2)\n",
    "            desc_table.append((group, str(noAsthma) + ' (' + str(noAsthmaPercent) + '%)' , str(asthma) + ' (' + str(asthmaPercent) + '%)'))\n",
    "    descriptive_cat = pd.DataFrame(desc_table, columns=['var','No asthma attack', 'Asthma attack'])\n",
    "    # descriptive_cat.to_excel(writer, sheet_name=target_outcome)\n",
    "    print('writing to Excel done!!')\n",
    "# writer.save()"
   ]
  },
  {
   "cell_type": "code",
   "execution_count": null,
   "id": "92110103-0e75-4e9d-8463-caec216ac142",
   "metadata": {},
   "outputs": [],
   "source": [
    "\n",
    "for target_outcome in outcomes:\n",
    "    desc_table_cont = []\n",
    "    print(target_outcome)\n",
    "    for var in descData.columns:\n",
    "        if (var in cont_vars):\n",
    "            tval,pval = ttest_ind(descData[var],descData[target_outcome])\n",
    "            noAsthmaMean = np.round(np.mean(descData[var][descData[target_outcome]==0]),2)\n",
    "            noAsthmaSD = np.round(np.std(descData[var][descData[target_outcome]==0]),2)\n",
    "            asthmaMean = np.round(np.mean(descData[var][descData[target_outcome]==1]),2)\n",
    "            asthmaSD = np.round(np.std(descData[var][descData[target_outcome]==1]),2)\n",
    "            desc_table_cont.append((var  + ' (mean, std)', str(noAsthmaMean)  + ' (' + str(noAsthmaSD) + ')', str(asthmaMean) + ' (' + str(asthmaSD) + ')'))\n",
    "    descriptive_cont = pd.DataFrame(desc_table_cont, columns=['var','No asthma attack', 'Asthma attack'])\n",
    "    # descriptive_cont.to_excel(writer, sheet_name=target_outcome)\n",
    "    print('writing to Excel done!!')\n",
    "# writer.save()"
   ]
  },
  {
   "cell_type": "code",
   "execution_count": null,
   "id": "42bdaf3a-fe8b-4a3a-889b-f12f6f841561",
   "metadata": {},
   "outputs": [],
   "source": [
    "pd.concat([descriptive_cat, descriptive_cont]).to_csv(target_outcome + '.csv', index_label=False, index=False)"
   ]
  }
 ],
 "metadata": {
  "kernelspec": {
   "display_name": "Python 3 (ipykernel)",
   "language": "python",
   "name": "python3"
  },
  "language_info": {
   "codemirror_mode": {
    "name": "ipython",
    "version": 3
   },
   "file_extension": ".py",
   "mimetype": "text/x-python",
   "name": "python",
   "nbconvert_exporter": "python",
   "pygments_lexer": "ipython3",
   "version": "3.10.11"
  }
 },
 "nbformat": 4,
 "nbformat_minor": 5
}
