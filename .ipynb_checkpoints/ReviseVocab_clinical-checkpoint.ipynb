{
 "cells": [
  {
   "cell_type": "code",
   "execution_count": 1,
   "id": "8ce0f414-d8a6-4816-9a6b-3f69956ea214",
   "metadata": {
    "tags": []
   },
   "outputs": [],
   "source": [
    "import pandas as pd\n",
    "import pickle"
   ]
  },
  {
   "cell_type": "code",
   "execution_count": 5,
   "id": "4277417a-e1e9-4a71-9c16-5de34b28e610",
   "metadata": {
    "tags": []
   },
   "outputs": [],
   "source": [
    "vocab_clinical = pickle.load(open('../SeqModel/all_vocab_clinical.sav', 'rb'))\n",
    "vocab_therapy = pickle.load(open('../SeqModel/all_vocab_therapy.sav', 'rb'))\n",
    "\n",
    "data_clinical = pd.read_feather('../SeqModel/all_data_clinical.feather')\n",
    "data_therapy = pd.read_feather('../SeqModel/all_data_therapy.feather')\n",
    "\n",
    "vocab_stat_clinical = pd.read_csv('../FinalData/pivotClinicalCodesbyCountry.csv')\n",
    "vocab_stat_therapy = pd.read_csv('../FinalData/pivotTherapyCodesbyCountry.csv')"
   ]
  },
  {
   "cell_type": "code",
   "execution_count": null,
   "id": "8a60e4cc-ab0d-4c5e-80d6-f649fad1f6ad",
   "metadata": {},
   "outputs": [],
   "source": []
  }
 ],
 "metadata": {
  "kernelspec": {
   "display_name": "Python 3 (ipykernel)",
   "language": "python",
   "name": "python3"
  },
  "language_info": {
   "codemirror_mode": {
    "name": "ipython",
    "version": 3
   },
   "file_extension": ".py",
   "mimetype": "text/x-python",
   "name": "python",
   "nbconvert_exporter": "python",
   "pygments_lexer": "ipython3",
   "version": "3.10.11"
  }
 },
 "nbformat": 4,
 "nbformat_minor": 5
}
