{
 "cells": [
  {
   "cell_type": "markdown",
   "id": "3cf617ae-7cd6-4168-9b2a-c61a35fcaf7c",
   "metadata": {},
   "source": [
    "# ANALYSIS"
   ]
  },
  {
   "cell_type": "code",
   "execution_count": 1,
   "id": "a6f7287c-5c7e-4d25-9085-f3971b3d5784",
   "metadata": {
    "tags": []
   },
   "outputs": [],
   "source": [
    "#uncomment this below code to install imblearn package\n",
    "# !pip install imbalanced-learn"
   ]
  },
  {
   "cell_type": "code",
   "execution_count": 2,
   "id": "c95c2128",
   "metadata": {
    "tags": []
   },
   "outputs": [],
   "source": [
    "import pandas as pd\n",
    "import numpy as np\n",
    "import sklearn\n",
    "\n",
    "#statistics\n",
    "from scipy.stats import chi2_contingency, ttest_ind\n",
    "\n",
    "import cudf #gpu-powered DataFrame (Pandas alternative)\n",
    "\n",
    "#imbalance handling\n",
    "from imblearn.over_sampling import SMOTE\n",
    "from imblearn.under_sampling import RandomUnderSampler, RepeatedEditedNearestNeighbours\n",
    "from imblearn.pipeline import Pipeline\n",
    "\n",
    "#preprocessing\n",
    "from sklearn import preprocessing\n",
    "from sklearn.preprocessing import OrdinalEncoder, OneHotEncoder, LabelEncoder, MinMaxScaler, StandardScaler\n",
    "\n",
    "#internal validation\n",
    "from sklearn.model_selection import StratifiedKFold, KFold, RepeatedStratifiedKFold, cross_val_score, GridSearchCV, PredefinedSplit\n",
    "\n",
    "#performance metrices\n",
    "from sklearn.metrics import confusion_matrix, classification_report, f1_score, balanced_accuracy_score, matthews_corrcoef, auc, average_precision_score, roc_auc_score, balanced_accuracy_score, roc_curve, accuracy_score\n",
    "\n",
    "#Models selection\n",
    "from sklearn.naive_bayes import GaussianNB, ComplementNB\n",
    "from sklearn.linear_model import LogisticRegression\n",
    "from sklearn.tree import DecisionTreeClassifier\n",
    "from sklearn.ensemble import RandomForestClassifier\n",
    "import xgboost as xgb\n",
    "from cuml.svm import SVC #gpu-powered SVM\n",
    "\n",
    "\n",
    "\n",
    "#save and load trained model\n",
    "import pickle\n",
    "\n",
    "#visualisation\n",
    "import matplotlib.pyplot as plt\n",
    "import seaborn as sns\n",
    "from sklearn import tree\n",
    "\n",
    "from collections import Counter\n",
    "import os"
   ]
  },
  {
   "cell_type": "code",
   "execution_count": 3,
   "id": "11624789",
   "metadata": {
    "tags": []
   },
   "outputs": [
    {
     "name": "stderr",
     "output_type": "stream",
     "text": [
      "/tmp/ipykernel_13427/3164845275.py:2: DtypeWarning: Columns (26,27,29,30,33,34,68,72) have mixed types. Specify dtype option on import or set low_memory=False.\n",
      "  features = pd.read_csv(\"../FinalData/cleaned_features_11072023.csv\")\n"
     ]
    }
   ],
   "source": [
    "# Data loader\n",
    "features = pd.read_csv(\"../FinalData/cleaned_features_11072023.csv\")\n",
    "outcomes = pd.read_csv(\"../FinalData/cleaned_outcomes_11072023.csv\")\n",
    "features = features[features.columns[1:]]\n",
    "# outcomes = outcomes[outcomes.columns[1:]]"
   ]
  },
  {
   "cell_type": "code",
   "execution_count": 4,
   "id": "c3d4d97c-6eff-4df9-b769-8fcde18f5fcf",
   "metadata": {
    "tags": []
   },
   "outputs": [
    {
     "name": "stdout",
     "output_type": "stream",
     "text": [
      "(577962, 87)\n",
      "(577962, 15)\n"
     ]
    }
   ],
   "source": [
    "print(features.shape)\n",
    "print(outcomes.shape)"
   ]
  },
  {
   "cell_type": "code",
   "execution_count": 5,
   "id": "eb99babd-f83f-4f3f-b9e3-1934a6f6ba12",
   "metadata": {
    "tags": []
   },
   "outputs": [
    {
     "data": {
      "text/plain": [
       "Index(['patid', 'practice_id', 'sex', 'age', 'BMI', 'weight', 'height',\n",
       "       'ethnicity', 'ethnic_group', 'smokingStatus', 'CharlsonScore',\n",
       "       'count_rhinitis', 'count_cardiovascular', 'count_heartfailure',\n",
       "       'count_psoriasis', 'count_anaphylaxis', 'count_diabetes', 'count_ihd',\n",
       "       'count_anxiety', 'count_eczema', 'count_nasalpolyps',\n",
       "       'count_paracetamol', 'count_nsaids', 'count_betablocker', 'id',\n",
       "       'event_date', 'recorded_date', 'visit_id', 'code_id', 'snomed_id',\n",
       "       'numeric_1', 'numeric_2', 'created_datetime', 'updated_datetime',\n",
       "       'PEFStatus', 'EosinophilLevel', 'BTS_step', 'average_daily_dose_ICS',\n",
       "       'prescribed_daily_dose_ICS', 'ICS_medication_possesion_ratio',\n",
       "       'DeviceType', 'Spacer', 'numOCS', 'PriorEducation', 'numPCS',\n",
       "       'numPCSAsthma', 'numAntibioticsEvents', 'numAntibioticswithLRTI',\n",
       "       'numOCSEvents', 'numOCSwithLRTI', 'numAsthmaAttacks',\n",
       "       'numAcuteRespEvents', 'numHospEvents', 'postcode_district',\n",
       "       'imd_decile', 'Country', 'County', 'LocalAuthority',\n",
       "       'OutputAreaClassification', 'cat_BMI', 'cat_age',\n",
       "       'cat_average_daily_dose_ICS', 'cat_prescribed_daily_dose_ICS',\n",
       "       'cat_ICS_medication_possesion_ratio', 'cat_numOCS', 'cat_numOCSEvents',\n",
       "       'cat_numOCSwithLRTI', 'cat_numAcuteRespEvents',\n",
       "       'cat_numAntibioticsEvents', 'cat_numAntibioticswithLRTI',\n",
       "       'cat_numAsthmaAttacks', 'cat_numHospEvents', 'cat_numPCS',\n",
       "       'cat_numPCSAsthma', 'rhinitis', 'cardiovascular', 'heartfailure',\n",
       "       'psoriasis', 'anaphylaxis', 'diabetes', 'ihd', 'anxiety', 'eczema',\n",
       "       'nasalpolyps', 'paracetamol', 'nsaids', 'betablocker'],\n",
       "      dtype='object')"
      ]
     },
     "execution_count": 5,
     "metadata": {},
     "output_type": "execute_result"
    }
   ],
   "source": [
    "features.columns"
   ]
  },
  {
   "cell_type": "code",
   "execution_count": 6,
   "id": "5754f4e6-c1eb-48b6-8cd3-3864ee8f639e",
   "metadata": {
    "tags": []
   },
   "outputs": [
    {
     "data": {
      "text/html": [
       "<div>\n",
       "<style scoped>\n",
       "    .dataframe tbody tr th:only-of-type {\n",
       "        vertical-align: middle;\n",
       "    }\n",
       "\n",
       "    .dataframe tbody tr th {\n",
       "        vertical-align: top;\n",
       "    }\n",
       "\n",
       "    .dataframe thead th {\n",
       "        text-align: right;\n",
       "    }\n",
       "</style>\n",
       "<table border=\"1\" class=\"dataframe\">\n",
       "  <thead>\n",
       "    <tr style=\"text-align: right;\">\n",
       "      <th></th>\n",
       "      <th>patid</th>\n",
       "      <th>practice_id</th>\n",
       "      <th>sex</th>\n",
       "      <th>age</th>\n",
       "      <th>BMI</th>\n",
       "      <th>weight</th>\n",
       "      <th>height</th>\n",
       "      <th>ethnicity</th>\n",
       "      <th>ethnic_group</th>\n",
       "      <th>smokingStatus</th>\n",
       "      <th>...</th>\n",
       "      <th>psoriasis</th>\n",
       "      <th>anaphylaxis</th>\n",
       "      <th>diabetes</th>\n",
       "      <th>ihd</th>\n",
       "      <th>anxiety</th>\n",
       "      <th>eczema</th>\n",
       "      <th>nasalpolyps</th>\n",
       "      <th>paracetamol</th>\n",
       "      <th>nsaids</th>\n",
       "      <th>betablocker</th>\n",
       "    </tr>\n",
       "  </thead>\n",
       "  <tbody>\n",
       "    <tr>\n",
       "      <th>0</th>\n",
       "      <td>43231452</td>\n",
       "      <td>39</td>\n",
       "      <td>0.0</td>\n",
       "      <td>48</td>\n",
       "      <td>26.609713</td>\n",
       "      <td>76.0</td>\n",
       "      <td>1.6900</td>\n",
       "      <td>not_recorded</td>\n",
       "      <td>not_recorded</td>\n",
       "      <td>Active Smoker</td>\n",
       "      <td>...</td>\n",
       "      <td>0</td>\n",
       "      <td>0</td>\n",
       "      <td>0</td>\n",
       "      <td>0</td>\n",
       "      <td>0</td>\n",
       "      <td>0</td>\n",
       "      <td>0</td>\n",
       "      <td>0</td>\n",
       "      <td>0</td>\n",
       "      <td>0</td>\n",
       "    </tr>\n",
       "    <tr>\n",
       "      <th>1</th>\n",
       "      <td>43206365</td>\n",
       "      <td>39</td>\n",
       "      <td>1.0</td>\n",
       "      <td>58</td>\n",
       "      <td>23.946360</td>\n",
       "      <td>72.5</td>\n",
       "      <td>1.7400</td>\n",
       "      <td>not_recorded</td>\n",
       "      <td>not_recorded</td>\n",
       "      <td>Former Smoker</td>\n",
       "      <td>...</td>\n",
       "      <td>0</td>\n",
       "      <td>0</td>\n",
       "      <td>0</td>\n",
       "      <td>0</td>\n",
       "      <td>1</td>\n",
       "      <td>0</td>\n",
       "      <td>0</td>\n",
       "      <td>0</td>\n",
       "      <td>0</td>\n",
       "      <td>0</td>\n",
       "    </tr>\n",
       "    <tr>\n",
       "      <th>2</th>\n",
       "      <td>43203606</td>\n",
       "      <td>559</td>\n",
       "      <td>0.0</td>\n",
       "      <td>51</td>\n",
       "      <td>17.104513</td>\n",
       "      <td>39.0</td>\n",
       "      <td>1.5100</td>\n",
       "      <td>not_recorded</td>\n",
       "      <td>not_recorded</td>\n",
       "      <td>Active Smoker</td>\n",
       "      <td>...</td>\n",
       "      <td>0</td>\n",
       "      <td>0</td>\n",
       "      <td>0</td>\n",
       "      <td>0</td>\n",
       "      <td>0</td>\n",
       "      <td>1</td>\n",
       "      <td>0</td>\n",
       "      <td>0</td>\n",
       "      <td>0</td>\n",
       "      <td>0</td>\n",
       "    </tr>\n",
       "    <tr>\n",
       "      <th>3</th>\n",
       "      <td>43117348</td>\n",
       "      <td>502</td>\n",
       "      <td>0.0</td>\n",
       "      <td>69</td>\n",
       "      <td>35.303241</td>\n",
       "      <td>74.0</td>\n",
       "      <td>1.4478</td>\n",
       "      <td>not_recorded</td>\n",
       "      <td>not_recorded</td>\n",
       "      <td>Former Smoker</td>\n",
       "      <td>...</td>\n",
       "      <td>1</td>\n",
       "      <td>0</td>\n",
       "      <td>0</td>\n",
       "      <td>0</td>\n",
       "      <td>0</td>\n",
       "      <td>1</td>\n",
       "      <td>0</td>\n",
       "      <td>0</td>\n",
       "      <td>0</td>\n",
       "      <td>0</td>\n",
       "    </tr>\n",
       "    <tr>\n",
       "      <th>4</th>\n",
       "      <td>43289035</td>\n",
       "      <td>593</td>\n",
       "      <td>0.0</td>\n",
       "      <td>49</td>\n",
       "      <td>31.217482</td>\n",
       "      <td>75.0</td>\n",
       "      <td>1.5500</td>\n",
       "      <td>White British</td>\n",
       "      <td>White - ethnic group</td>\n",
       "      <td>Active Smoker</td>\n",
       "      <td>...</td>\n",
       "      <td>0</td>\n",
       "      <td>0</td>\n",
       "      <td>0</td>\n",
       "      <td>0</td>\n",
       "      <td>0</td>\n",
       "      <td>1</td>\n",
       "      <td>0</td>\n",
       "      <td>0</td>\n",
       "      <td>0</td>\n",
       "      <td>0</td>\n",
       "    </tr>\n",
       "  </tbody>\n",
       "</table>\n",
       "<p>5 rows × 87 columns</p>\n",
       "</div>"
      ],
      "text/plain": [
       "      patid  practice_id  sex  age        BMI  weight  height      ethnicity  \\\n",
       "0  43231452           39  0.0   48  26.609713    76.0  1.6900   not_recorded   \n",
       "1  43206365           39  1.0   58  23.946360    72.5  1.7400   not_recorded   \n",
       "2  43203606          559  0.0   51  17.104513    39.0  1.5100   not_recorded   \n",
       "3  43117348          502  0.0   69  35.303241    74.0  1.4478   not_recorded   \n",
       "4  43289035          593  0.0   49  31.217482    75.0  1.5500  White British   \n",
       "\n",
       "           ethnic_group  smokingStatus  ...  psoriasis  anaphylaxis  diabetes  \\\n",
       "0          not_recorded  Active Smoker  ...          0            0         0   \n",
       "1          not_recorded  Former Smoker  ...          0            0         0   \n",
       "2          not_recorded  Active Smoker  ...          0            0         0   \n",
       "3          not_recorded  Former Smoker  ...          1            0         0   \n",
       "4  White - ethnic group  Active Smoker  ...          0            0         0   \n",
       "\n",
       "   ihd  anxiety  eczema  nasalpolyps  paracetamol  nsaids  betablocker  \n",
       "0    0        0       0            0            0       0            0  \n",
       "1    0        1       0            0            0       0            0  \n",
       "2    0        0       1            0            0       0            0  \n",
       "3    0        0       1            0            0       0            0  \n",
       "4    0        0       1            0            0       0            0  \n",
       "\n",
       "[5 rows x 87 columns]"
      ]
     },
     "execution_count": 6,
     "metadata": {},
     "output_type": "execute_result"
    }
   ],
   "source": [
    "features.head()"
   ]
  },
  {
   "cell_type": "code",
   "execution_count": 7,
   "id": "03d70236-7158-4812-8a5b-d5d9890a94e4",
   "metadata": {
    "tags": []
   },
   "outputs": [
    {
     "data": {
      "text/html": [
       "<div>\n",
       "<style scoped>\n",
       "    .dataframe tbody tr th:only-of-type {\n",
       "        vertical-align: middle;\n",
       "    }\n",
       "\n",
       "    .dataframe tbody tr th {\n",
       "        vertical-align: top;\n",
       "    }\n",
       "\n",
       "    .dataframe thead th {\n",
       "        text-align: right;\n",
       "    }\n",
       "</style>\n",
       "<table border=\"1\" class=\"dataframe\">\n",
       "  <thead>\n",
       "    <tr style=\"text-align: right;\">\n",
       "      <th></th>\n",
       "      <th>patid</th>\n",
       "      <th>outcome_3months</th>\n",
       "      <th>outcome_6months</th>\n",
       "      <th>outcome_9months</th>\n",
       "      <th>outcome_12months</th>\n",
       "      <th>outcome_15months</th>\n",
       "      <th>outcome_18months</th>\n",
       "      <th>outcome_21months</th>\n",
       "      <th>outcome_24months</th>\n",
       "      <th>outcome_combined_6months</th>\n",
       "      <th>outcome_combined_9months</th>\n",
       "      <th>outcome_combined_12months</th>\n",
       "      <th>outcome_combined_15months</th>\n",
       "      <th>outcome_combined_18months</th>\n",
       "      <th>outcome_combined_24months</th>\n",
       "    </tr>\n",
       "  </thead>\n",
       "  <tbody>\n",
       "    <tr>\n",
       "      <th>0</th>\n",
       "      <td>43231452</td>\n",
       "      <td>0</td>\n",
       "      <td>0</td>\n",
       "      <td>0</td>\n",
       "      <td>0</td>\n",
       "      <td>0</td>\n",
       "      <td>0</td>\n",
       "      <td>0</td>\n",
       "      <td>0</td>\n",
       "      <td>0</td>\n",
       "      <td>0</td>\n",
       "      <td>0</td>\n",
       "      <td>0</td>\n",
       "      <td>0</td>\n",
       "      <td>0</td>\n",
       "    </tr>\n",
       "    <tr>\n",
       "      <th>1</th>\n",
       "      <td>43206365</td>\n",
       "      <td>0</td>\n",
       "      <td>0</td>\n",
       "      <td>0</td>\n",
       "      <td>0</td>\n",
       "      <td>0</td>\n",
       "      <td>0</td>\n",
       "      <td>0</td>\n",
       "      <td>0</td>\n",
       "      <td>0</td>\n",
       "      <td>0</td>\n",
       "      <td>0</td>\n",
       "      <td>0</td>\n",
       "      <td>0</td>\n",
       "      <td>0</td>\n",
       "    </tr>\n",
       "    <tr>\n",
       "      <th>2</th>\n",
       "      <td>43203606</td>\n",
       "      <td>0</td>\n",
       "      <td>0</td>\n",
       "      <td>0</td>\n",
       "      <td>0</td>\n",
       "      <td>0</td>\n",
       "      <td>0</td>\n",
       "      <td>0</td>\n",
       "      <td>0</td>\n",
       "      <td>0</td>\n",
       "      <td>0</td>\n",
       "      <td>0</td>\n",
       "      <td>0</td>\n",
       "      <td>0</td>\n",
       "      <td>0</td>\n",
       "    </tr>\n",
       "    <tr>\n",
       "      <th>3</th>\n",
       "      <td>43117348</td>\n",
       "      <td>0</td>\n",
       "      <td>0</td>\n",
       "      <td>0</td>\n",
       "      <td>0</td>\n",
       "      <td>0</td>\n",
       "      <td>0</td>\n",
       "      <td>0</td>\n",
       "      <td>0</td>\n",
       "      <td>0</td>\n",
       "      <td>0</td>\n",
       "      <td>0</td>\n",
       "      <td>0</td>\n",
       "      <td>0</td>\n",
       "      <td>0</td>\n",
       "    </tr>\n",
       "    <tr>\n",
       "      <th>4</th>\n",
       "      <td>43289035</td>\n",
       "      <td>0</td>\n",
       "      <td>0</td>\n",
       "      <td>0</td>\n",
       "      <td>0</td>\n",
       "      <td>0</td>\n",
       "      <td>0</td>\n",
       "      <td>0</td>\n",
       "      <td>0</td>\n",
       "      <td>0</td>\n",
       "      <td>0</td>\n",
       "      <td>0</td>\n",
       "      <td>0</td>\n",
       "      <td>0</td>\n",
       "      <td>0</td>\n",
       "    </tr>\n",
       "  </tbody>\n",
       "</table>\n",
       "</div>"
      ],
      "text/plain": [
       "      patid  outcome_3months  outcome_6months  outcome_9months  \\\n",
       "0  43231452                0                0                0   \n",
       "1  43206365                0                0                0   \n",
       "2  43203606                0                0                0   \n",
       "3  43117348                0                0                0   \n",
       "4  43289035                0                0                0   \n",
       "\n",
       "   outcome_12months  outcome_15months  outcome_18months  outcome_21months  \\\n",
       "0                 0                 0                 0                 0   \n",
       "1                 0                 0                 0                 0   \n",
       "2                 0                 0                 0                 0   \n",
       "3                 0                 0                 0                 0   \n",
       "4                 0                 0                 0                 0   \n",
       "\n",
       "   outcome_24months  outcome_combined_6months  outcome_combined_9months  \\\n",
       "0                 0                         0                         0   \n",
       "1                 0                         0                         0   \n",
       "2                 0                         0                         0   \n",
       "3                 0                         0                         0   \n",
       "4                 0                         0                         0   \n",
       "\n",
       "   outcome_combined_12months  outcome_combined_15months  \\\n",
       "0                          0                          0   \n",
       "1                          0                          0   \n",
       "2                          0                          0   \n",
       "3                          0                          0   \n",
       "4                          0                          0   \n",
       "\n",
       "   outcome_combined_18months  outcome_combined_24months  \n",
       "0                          0                          0  \n",
       "1                          0                          0  \n",
       "2                          0                          0  \n",
       "3                          0                          0  \n",
       "4                          0                          0  "
      ]
     },
     "execution_count": 7,
     "metadata": {},
     "output_type": "execute_result"
    }
   ],
   "source": [
    "outcomes.head()"
   ]
  },
  {
   "cell_type": "code",
   "execution_count": 8,
   "id": "862ee9fb",
   "metadata": {
    "tags": []
   },
   "outputs": [
    {
     "name": "stdout",
     "output_type": "stream",
     "text": [
      "original data shape:  (577962, 89)\n"
     ]
    }
   ],
   "source": [
    "masterData = features.merge(outcomes, how = 'left', left_on='patid', right_on='patid') #join table\n",
    "# masterData = masterData.dropna() #NAs from Country\n",
    "masterData = masterData.reset_index(drop=True)\n",
    "exclude_columns = ['weight', 'height', 'id', 'event_date', 'recorded_date', 'visit_id', 'code_id', 'snomed_id',\n",
    "       'numeric_1', 'numeric_2', 'created_datetime', 'updated_datetime',]\n",
    "masterData = masterData.loc[:,~masterData.columns.isin(exclude_columns)]\n",
    "masterData = masterData.rename({'outcome_3months': '3months', 'outcome_combined_6months': '6months','outcome_combined_12months': '12months','outcome_combined_24months': '24months',}, axis=1)\n",
    "print('original data shape: ', masterData.shape)"
   ]
  },
  {
   "cell_type": "code",
   "execution_count": 9,
   "id": "48e347d6-3a9f-4008-b9db-d73475693da6",
   "metadata": {
    "tags": []
   },
   "outputs": [
    {
     "name": "stdout",
     "output_type": "stream",
     "text": [
      "Data shape for scenario 1 (577962, 89)\n"
     ]
    }
   ],
   "source": [
    "#Data scenario\n",
    "# 1: all data without ethnicity variable\n",
    "# 2: all data with ethnicity variable (include all missing values in ethnicity as separate group)\n",
    "# 3: filter data based on ethnicity (exclude missing values)\n",
    "\n",
    "scenario = 1 #change it based on the scenario\n",
    "\n",
    "if scenario == 1:\n",
    "    #include all data\n",
    "    allData = masterData\n",
    "    \n",
    "elif scenario == 2:\n",
    "    #Exclude ethnic column\n",
    "    allData = masterData.drop('ethnic_group', axis=1)\n",
    "    \n",
    "elif scenario == 3:\n",
    "    #exclude missing values for ethnic variable\n",
    "    allData = masterData[masterData.ethnic_group!='not_recorded']\n",
    "    \n",
    "allData = allData.reset_index(drop=True)\n",
    "print('Data shape for scenario', str(scenario), allData.shape)\n",
    "\n"
   ]
  },
  {
   "cell_type": "code",
   "execution_count": 10,
   "id": "2b2ddc20-4158-4c1b-93df-4043c7c16520",
   "metadata": {
    "tags": []
   },
   "outputs": [
    {
     "name": "stdout",
     "output_type": "stream",
     "text": [
      "Training data shape: (555836, 88)\n",
      "Evaluation data shape:  (22126, 88)\n",
      "Evaluation data Wales shape:  (14159, 88)\n",
      "Evaluation data Scotland shape:  (7967, 88)\n"
     ]
    }
   ],
   "source": [
    "#Split data into training and evaluation set based on the country. Include only 18+ patients.\n",
    "\n",
    "trainingData = allData[(allData.Country == 'England') & (allData.age>=18)]\n",
    "evaluationData = allData[((allData.Country == 'Scotland') | (allData.Country == 'Wales')) & (allData.age>=18)] #used for validation\n",
    "evaluationDataWales = allData[(allData.Country == 'Wales') & (allData.age>=18)] #used for validation\n",
    "evaluationDataScotland = allData[(allData.Country == 'Scotland') & (allData.age>=18)] #used for validation\n",
    "\n",
    "#remove country variable\n",
    "trainingData = trainingData.drop('Country', axis=1)\n",
    "evaluationData = evaluationData.drop('Country', axis=1)\n",
    "evaluationDataWales = evaluationDataWales.drop('Country', axis=1)\n",
    "evaluationDataScotland = evaluationDataScotland.drop('Country', axis=1)\n",
    "\n",
    "trainingData = trainingData.reset_index(drop=True)\n",
    "evaluationData = evaluationData.reset_index(drop=True)\n",
    "evaluationDataWales = evaluationDataWales.reset_index(drop=True)\n",
    "evaluationDataScotland = evaluationDataScotland.reset_index(drop=True)\n",
    "\n",
    "print('Training data shape:', trainingData.shape)\n",
    "print('Evaluation data shape: ', evaluationData.shape)\n",
    "print('Evaluation data Wales shape: ', evaluationDataWales.shape)\n",
    "print('Evaluation data Scotland shape: ', evaluationDataScotland.shape)"
   ]
  },
  {
   "cell_type": "code",
   "execution_count": 11,
   "id": "4dab986e-f533-41c7-810c-442127311122",
   "metadata": {
    "tags": []
   },
   "outputs": [
    {
     "name": "stdout",
     "output_type": "stream",
     "text": [
      "Data shape after encoding:  (555836, 113)\n"
     ]
    }
   ],
   "source": [
    "#encode categorical data\n",
    "\n",
    "cat_vars = ['PEFStatus','EosinophilLevel']\n",
    "onehot_vars = ['ethnic_group','smokingStatus', 'DeviceType', 'cat_BMI', 'imd_decile']\n",
    "data_categorical = trainingData[cat_vars]\n",
    "data_onehot = trainingData[onehot_vars]\n",
    "\n",
    "#ordinal encoder\n",
    "encoder = OrdinalEncoder(categories=[['not_recorded','less than 60', '60-80', 'more than 80'], ['unknown', 'normal', 'high']]).set_output(transform=\"pandas\")\n",
    "data_encoded = encoder.fit_transform(data_categorical)\n",
    "pickle.dump(encoder, open('../Models/cat_encoder.pkl', 'wb'))\n",
    "    \n",
    "#one hot encoder\n",
    "onehot_encoder = OneHotEncoder(sparse_output=False).set_output(transform=\"pandas\")\n",
    "onehot_encoded = onehot_encoder.fit_transform(data_onehot)\n",
    "pickle.dump(onehot_encoder, open('../Models/onehot_encoder.pkl', 'wb'))\n",
    "\n",
    "trainingData = pd.concat([trainingData.drop(cat_vars, axis=1), data_encoded], axis=1)\n",
    "trainingData = pd.concat([trainingData.drop(onehot_vars, axis=1), onehot_encoded], axis=1)\n",
    "\n",
    "print('Data shape after encoding: ', trainingData.shape)"
   ]
  },
  {
   "cell_type": "code",
   "execution_count": 12,
   "id": "a26da411-500c-4b6d-b9eb-a973ee8b8dc4",
   "metadata": {
    "tags": []
   },
   "outputs": [
    {
     "name": "stdout",
     "output_type": "stream",
     "text": [
      "Data shape after encoding:  (22126, 113)\n",
      "Evaluation data Wales shape:  (14159, 113)\n",
      "Evaluation data Scotland shape:  (7967, 113)\n"
     ]
    }
   ],
   "source": [
    "#encode cat vars for evaluation set\n",
    "data_eval_categorical = evaluationData[cat_vars]\n",
    "data_eval_onehot = evaluationData[onehot_vars]\n",
    "data_eval_Wales_categorical = evaluationDataWales[cat_vars]\n",
    "data_eval_Wales_onehot = evaluationDataWales[onehot_vars]\n",
    "data_eval_Scotland_categorical = evaluationDataScotland[cat_vars]\n",
    "data_eval_Scotland_onehot = evaluationDataScotland[onehot_vars]\n",
    "\n",
    "encoder = pickle.load(open('../Models/cat_encoder.pkl', 'rb'))\n",
    "data_eval_encoded = encoder.transform(data_eval_categorical)\n",
    "data_eval_Wales_encoded = encoder.transform(data_eval_Wales_categorical)\n",
    "data_eval_Scotland_encoded = encoder.transform(data_eval_Scotland_categorical)\n",
    "\n",
    "onehot_encoder = pickle.load(open('../Models/onehot_encoder.pkl', 'rb'))\n",
    "onehot_eval_encoded = onehot_encoder.transform(data_eval_onehot)\n",
    "onehot_eval_Wales_encoded = onehot_encoder.transform(data_eval_Wales_onehot)\n",
    "onehot_eval_Scotland_encoded = onehot_encoder.transform(data_eval_Scotland_onehot)\n",
    "\n",
    "evaluationData = pd.concat([evaluationData.drop(cat_vars, axis=1), data_eval_encoded], axis=1)\n",
    "evaluationData = pd.concat([evaluationData.drop(onehot_vars, axis=1), onehot_eval_encoded], axis=1)\n",
    "\n",
    "evaluationDataWales = pd.concat([evaluationDataWales.drop(cat_vars, axis=1), data_eval_Wales_encoded], axis=1)\n",
    "evaluationDataWales = pd.concat([evaluationDataWales.drop(onehot_vars, axis=1), onehot_eval_Wales_encoded], axis=1)\n",
    "\n",
    "evaluationDataScotland = pd.concat([evaluationDataScotland.drop(cat_vars, axis=1), data_eval_Scotland_encoded], axis=1)\n",
    "evaluationDataScotland = pd.concat([evaluationDataScotland.drop(onehot_vars, axis=1), onehot_eval_Scotland_encoded], axis=1)\n",
    "\n",
    "print('Data shape after encoding: ', evaluationData.shape)\n",
    "print('Evaluation data Wales shape: ', evaluationDataWales.shape)\n",
    "print('Evaluation data Scotland shape: ', evaluationDataScotland.shape)"
   ]
  },
  {
   "cell_type": "code",
   "execution_count": 13,
   "id": "2a0563a7-f5bb-474d-b954-8907d5d6de91",
   "metadata": {
    "tags": []
   },
   "outputs": [
    {
     "name": "stdout",
     "output_type": "stream",
     "text": [
      "Data shape after scaling:  (555836, 113)\n"
     ]
    }
   ],
   "source": [
    "#Data normalisation for continous variable into 0-1 range\n",
    "\n",
    "\n",
    "continuous_vars = ['age', 'CharlsonScore', 'average_daily_dose_ICS', 'prescribed_daily_dose_ICS', 'ICS_medication_possesion_ratio', \n",
    "                   'numOCS', 'numPCS', 'numPCSAsthma', 'numAntibioticsEvents', 'numAntibioticswithLRTI', 'numOCSEvents', 'numOCSwithLRTI', \n",
    "                   'numAsthmaAttacks', 'numAcuteRespEvents', 'numHospEvents']\n",
    "\n",
    "# define scaler\n",
    "scaler = StandardScaler()\n",
    "data_scaled = scaler.fit_transform(trainingData[continuous_vars])\n",
    "pickle.dump(scaler, open('../Models/cont_scaler.pkl', 'wb'))\n",
    "\n",
    "\n",
    "data_scaled = pd.DataFrame(data_scaled, columns=scaler.get_feature_names_out())\n",
    "trainingData = pd.concat([trainingData.drop(continuous_vars, axis=1), data_scaled], axis=1)\n",
    "\n",
    "print('Data shape after scaling: ', trainingData.shape)"
   ]
  },
  {
   "cell_type": "code",
   "execution_count": 14,
   "id": "e5c49212-5785-490c-96be-7ccc65ce801c",
   "metadata": {
    "tags": []
   },
   "outputs": [
    {
     "name": "stdout",
     "output_type": "stream",
     "text": [
      "Data shape after scaling:  (22126, 113)\n",
      "Evaluation data Wales shape:  (14159, 113)\n",
      "Evaluation data Scotland shape:  (7967, 113)\n"
     ]
    }
   ],
   "source": [
    "#Normalisation for evaluation data\n",
    "\n",
    "scaler = pickle.load(open('../Models/cont_scaler.pkl', 'rb'))\n",
    "data_eval_scaled = scaler.transform(evaluationData[continuous_vars])\n",
    "data_eval_Wales_scaled = scaler.transform(evaluationDataWales[continuous_vars])\n",
    "data_eval_Scotland_scaled = scaler.transform(evaluationDataScotland[continuous_vars])\n",
    "\n",
    "data_eval_scaled = pd.DataFrame(data_eval_scaled, columns=scaler.get_feature_names_out())\n",
    "evaluationData = pd.concat([evaluationData.drop(continuous_vars, axis=1), data_eval_scaled], axis=1)\n",
    "\n",
    "data_eval_Wales_scaled = pd.DataFrame(data_eval_Wales_scaled, columns=scaler.get_feature_names_out())\n",
    "evaluationDataWales = pd.concat([evaluationDataWales.drop(continuous_vars, axis=1), data_eval_Wales_scaled], axis=1)\n",
    "\n",
    "data_eval_Scotland_scaled = pd.DataFrame(data_eval_Scotland_scaled, columns=scaler.get_feature_names_out())\n",
    "evaluationDataScotland = pd.concat([evaluationDataScotland.drop(continuous_vars, axis=1), data_eval_Scotland_scaled], axis=1)\n",
    "\n",
    "print('Data shape after scaling: ', evaluationData.shape)\n",
    "print('Evaluation data Wales shape: ', evaluationDataWales.shape)\n",
    "print('Evaluation data Scotland shape: ', evaluationDataScotland.shape)"
   ]
  },
  {
   "cell_type": "code",
   "execution_count": 15,
   "id": "f81e0adc-7a4b-4e28-852c-811c20125656",
   "metadata": {
    "tags": []
   },
   "outputs": [
    {
     "name": "stdout",
     "output_type": "stream",
     "text": [
      "Features size:  63\n",
      "['sex', 'BTS_step', 'PriorEducation', 'rhinitis', 'cardiovascular', 'heartfailure', 'psoriasis', 'anaphylaxis', 'diabetes', 'ihd', 'anxiety', 'eczema', 'nasalpolyps', 'paracetamol', 'nsaids', 'betablocker', 'PEFStatus', 'EosinophilLevel', 'ethnic_group_Asian - ethnic group', 'ethnic_group_Black - ethnic group', 'ethnic_group_Mixed ethnic census group', 'ethnic_group_Other ethnic group', 'ethnic_group_White - ethnic group', 'ethnic_group_not_recorded', 'smokingStatus_Active Smoker', 'smokingStatus_Former Smoker', 'smokingStatus_Non Smoker', 'DeviceType_BAI', 'DeviceType_DPI', 'DeviceType_NEB', 'DeviceType_pMDI', 'DeviceType_unknown', 'cat_BMI_normal', 'cat_BMI_not recorded', 'cat_BMI_obese', 'cat_BMI_overweight', 'cat_BMI_underweight', 'imd_decile_0', 'imd_decile_1', 'imd_decile_2', 'imd_decile_3', 'imd_decile_4', 'imd_decile_5', 'imd_decile_6', 'imd_decile_7', 'imd_decile_8', 'imd_decile_9', 'imd_decile_10', 'age', 'CharlsonScore', 'average_daily_dose_ICS', 'prescribed_daily_dose_ICS', 'ICS_medication_possesion_ratio', 'numOCS', 'numPCS', 'numPCSAsthma', 'numAntibioticsEvents', 'numAntibioticswithLRTI', 'numOCSEvents', 'numOCSwithLRTI', 'numAsthmaAttacks', 'numAcuteRespEvents', 'numHospEvents']\n"
     ]
    }
   ],
   "source": [
    "#Define feature candidates\n",
    "\n",
    "features_columns = trainingData.columns.to_list()\n",
    "exclude_columns = ['patid', 'practice_id', #identifier\n",
    "                   'BMI', #use the categorical instead\n",
    "                   'ethnicity', #use ethnic_group instead\n",
    "                   'Spacer',  #all zero\n",
    "                   \n",
    "                   'outcome_3months', 'outcome_6months', 'outcome_9months', 'outcome_12months', 'outcome_15months', 'outcome_18months', \n",
    "                   'outcome_21months', 'outcome_24months', 'outcome_combined_6months', 'outcome_combined_9months', 'outcome_combined_12months', \n",
    "                   'outcome_combined_15months', 'outcome_combined_18months', 'outcome_combined_24months', '3months', '6months', '12months', '24months', #outcomes variable\n",
    "                   \n",
    "                   'postcode_district', 'County', 'LocalAuthority', 'OutputAreaClassification', #location related variables, use IMD decile only\n",
    "                   \n",
    "                   'cat_age', 'cat_average_daily_dose_ICS', 'cat_prescribed_daily_dose_ICS', 'cat_ICS_medication_possesion_ratio', 'cat_numOCS', 'cat_numOCSEvents', \n",
    "                   'cat_numOCSwithLRTI', 'cat_numAcuteRespEvents', 'cat_numAntibioticsEvents', 'cat_numAntibioticswithLRTI', 'cat_numAsthmaAttacks', 'cat_numHospEvents', \n",
    "                   'cat_numPCS', 'cat_numPCSAsthma', #use continous vars instead\n",
    "                   \n",
    "                   'count_rhinitis', 'count_cardiovascular', 'count_heartfailure',\n",
    "                   'count_psoriasis', 'count_anaphylaxis', 'count_diabetes', 'count_ihd',\n",
    "                   'count_anxiety', 'count_eczema', 'count_nasalpolyps',\n",
    "                   'count_paracetamol', 'count_nsaids', 'count_betablocker', #use binary ones\n",
    "                  ]\n",
    "exclude_columns = exclude_columns + [x for x in features_columns if '_count' in x] #filter out commorbid count variables\n",
    "features_columns = [x for x in features_columns if x not in exclude_columns]\n",
    "print('Features size: ', len(features_columns))\n",
    "print(features_columns)"
   ]
  },
  {
   "cell_type": "code",
   "execution_count": 16,
   "id": "1483ee06-230b-40f9-8558-09545cbdae54",
   "metadata": {
    "tags": []
   },
   "outputs": [],
   "source": [
    "#ONE HOT encoding for categorical data\n",
    "\n",
    "# categoricalNonnumericVars = pd.Series(list(set(categoricalNonnumericVars).intersection(set(features_columns)))).tolist() #select only variables within the feature candidate list\n",
    "\n",
    "# # define one hot encoder\n",
    "# categoricalEncoder = OneHotEncoder(sparse=False)\n",
    "\n",
    "# # transform data\n",
    "# result = categoricalEncoder.fit_transform(trainingData[categoricalNonnumericVars]) \n",
    "# result = pd.DataFrame(result, columns=categoricalEncoder.get_feature_names_out())\n",
    "\n",
    "# #save encoder\n",
    "# pickle.dump(categoricalEncoder, open('./models/categoricalEncoder.pkl', 'wb'))\n",
    "\n",
    "# # replace categorical variables in the original data with the one hot version\n",
    "# trainingData = pd.concat([trainingData.loc[:, ~trainingData.columns.isin(categoricalNonnumericVars)],result], axis=1)\n",
    "# print('Data shape after one-hot encoding: ', trainingData.shape)"
   ]
  },
  {
   "cell_type": "code",
   "execution_count": 17,
   "id": "9f56f78d-dce5-45d8-b48e-36850b75a73b",
   "metadata": {
    "tags": []
   },
   "outputs": [],
   "source": [
    "# #Scaling continous variable into 0-1 range\n",
    "\n",
    "# # summaryData = allData.describe().T\n",
    "# continuous_vars = summaryData[summaryData['max'] >5].index.to_list() + ['numHospEvents'] #Num hospital events is continuous with \n",
    "# continuous_vars = pd.Series(list(set(continuous_vars).intersection(set(features_columns)))).tolist() #select only variables within the feature candidate list\n",
    "\n",
    "# # define scaler\n",
    "# scaler = MinMaxScaler()\n",
    "\n",
    "# #save scaler\n",
    "# pickle.dump(scaler, open('./models/scaler.pkl', 'wb'))\n",
    "\n",
    "\n",
    "# # transform data\n",
    "# result = scaler.fit_transform(trainingData[continuous_vars])\n",
    "# result = pd.DataFrame(result, columns=scaler.get_feature_names_out())\n",
    "\n",
    "# allData = pd.concat([trainingData.loc[:,~trainingData.columns.isin(continuous_vars)],result], axis=1)\n",
    "\n",
    "# print('Data shape after scaling: ', trainingData.shape)"
   ]
  },
  {
   "cell_type": "code",
   "execution_count": 18,
   "id": "9b24a133-cba6-4246-a8e5-91911d8f4d8e",
   "metadata": {
    "tags": []
   },
   "outputs": [],
   "source": [
    "# #ONE HOT encoding for evaluation dataset\n",
    "\n",
    "# # transform data\n",
    "# result = categoricalEncoder.transform(evaluationData[categoricalNonnumericVars]) \n",
    "# result = pd.DataFrame(result, columns=categoricalEncoder.get_feature_names_out())\n",
    "\n",
    "# # replace categorical variables in the original data with the one hot version\n",
    "# evaluationData = pd.concat([evaluationData.loc[:, ~evaluationData.columns.isin(categoricalNonnumericVars)],result], axis=1)\n",
    "# print('Data shape after one-hot encoding: ', evaluationData.shape)"
   ]
  },
  {
   "cell_type": "code",
   "execution_count": 19,
   "id": "1cad1832-4118-44c9-acdf-da61cefb7a76",
   "metadata": {
    "tags": []
   },
   "outputs": [],
   "source": [
    "# #Scaling continous variable into 0-1 range for evaluation dataset\n",
    "\n",
    "\n",
    "# # transform data\n",
    "# result = scaler.transform(evaluationData[continuous_vars])\n",
    "# result = pd.DataFrame(result, columns=scaler.get_feature_names_out())\n",
    "\n",
    "# evaluationData = pd.concat([evaluationData.loc[:,~evaluationData.columns.isin(continuous_vars)],result], axis=1)\n",
    "\n",
    "# print('Data shape after scaling: ', evaluationData.shape)"
   ]
  },
  {
   "cell_type": "markdown",
   "id": "7037f720-0ed4-4e4a-84c8-f511fadac736",
   "metadata": {
    "tags": []
   },
   "source": [
    "# UTILS"
   ]
  },
  {
   "cell_type": "code",
   "execution_count": 78,
   "id": "a4db59da-1f72-428e-9203-08d62c6d9090",
   "metadata": {
    "tags": []
   },
   "outputs": [],
   "source": [
    "#Model evaluation function\n",
    "\n",
    "def summariseResult (testX, testY, model):\n",
    "    preds = model.predict(testX)\n",
    "    tn, fp, fn, tp = confusion_matrix(testY, preds).ravel()\n",
    "    specificity = tn / (tn+fp)\n",
    "    sensitivity = tp / (tp+fn)\n",
    "    ppv = 100*tp/(tp+fp)\n",
    "    npv = 100*tn/(fn+tn)\n",
    "    acc = accuracy_score(testY, preds)\n",
    "    f1score = f1_score(testY, preds, average = 'binary')\n",
    "    balanceacc = balanced_accuracy_score(testY, preds)\n",
    "    fpr, tpr, thresholds = roc_curve(testY, preds, pos_label=1)\n",
    "    # aucscore = auc(fpr, tpr)\n",
    "    aucscore = roc_auc_score(testY, preds)\n",
    "    auprc = average_precision_score(testY, preds)\n",
    "    # plot_confusion_matrix(model, testX, testY, cmap='viridis')  \n",
    "    return np.round(acc,4), np.round(specificity,4), np.round(sensitivity,4), np.round(aucscore,4), np.round(auprc,4), np.round(balanceacc,4), np.round(f1score,4), np.round(ppv,4), np.round(npv,4)"
   ]
  },
  {
   "cell_type": "code",
   "execution_count": 21,
   "id": "2bfef79e-1dce-4010-b0cc-8694c6c79202",
   "metadata": {
    "tags": []
   },
   "outputs": [],
   "source": [
    "#Fix model name for visualisation\n",
    "\n",
    "def modelNameFixer(x):\n",
    "    if 'liblinear' in x:\n",
    "        return 'Lasso'\n",
    "    elif 'GaussianNB' in x:\n",
    "        return 'GNB'\n",
    "    elif 'SVC' in x:\n",
    "        return 'SVC'\n",
    "    elif 'RandomForest' in x:\n",
    "        return 'RF'\n",
    "    elif 'XGB' in x:\n",
    "        return 'XGBoost'\n",
    "    elif 'DecisionTree' in x:\n",
    "        return 'DT'\n",
    "    else:\n",
    "        return 'LR'"
   ]
  },
  {
   "cell_type": "code",
   "execution_count": 22,
   "id": "7b28f624-2c79-4f33-bc78-84ba16c78938",
   "metadata": {
    "tags": []
   },
   "outputs": [],
   "source": [
    "# instantiate the model (using the default parameters)\n",
    "def build_models (X_train, y_train, target_outcome, params):\n",
    "    models = [] #list to store all the models\n",
    "    print(\"Building models . . . .\")\n",
    "\n",
    "    #LR\n",
    "    model = 'LR'\n",
    "    params = params_dict[(params_dict['outcome']==target_outcome)&(params_dict['model']==model)]['best_params_auc'].tolist()[0]\n",
    "    params = eval(params)\n",
    "    print(params)\n",
    "    lr_model = LogisticRegression(class_weight='balanced', C = params['C'], max_iter=params['max_iter'], solver=params['solver'], random_state=1234)\n",
    "    lr_model.fit(X_train,y_train)\n",
    "    pickle.dump(lr_model, open('../Models/'+ target_outcome + '/'+ model + '.sav', 'wb'))\n",
    "    models.append([model, target_outcome, y_train.value_counts()[1]/y_train.value_counts()[0]]) \n",
    "    print(\"LR done\")\n",
    "\n",
    "    #Lasso\n",
    "    model = 'Lasso'\n",
    "    params = params_dict[(params_dict['outcome']==target_outcome)&(params_dict['model']==model)]['best_params_auc'].tolist()[0]\n",
    "    params = eval(params)\n",
    "    print(params)\n",
    "    lasso_model = LogisticRegression(class_weight='balanced',  C = params['C'], max_iter=params['max_iter'], penalty='l1', solver=params['solver'], random_state=1234) #only the LIBLINEAR and SAGA (added in v0.19) solvers handle the L1 penalty\n",
    "    lasso_model.fit(X_train, y_train)\n",
    "    pickle.dump(lasso_model, open('../Models/'+ target_outcome + '/'+ model + '.sav', 'wb'))\n",
    "    models.append([model, target_outcome, y_train.value_counts()[1]/y_train.value_counts()[0]])\n",
    "    print(\"Lasso done\")\n",
    "\n",
    "    #GNB\n",
    "    model = 'NB'\n",
    "    params = params_dict[(params_dict['outcome']==target_outcome)&(params_dict['model']==model)]['best_params_auc'].tolist()[0]\n",
    "    params = eval(params)\n",
    "    print(params)\n",
    "    gnb_model = GaussianNB(var_smoothing = params['var_smoothing'])\n",
    "    gnb_model.fit(X_train, y_train)\n",
    "    pickle.dump(gnb_model, open('../Models/'+ target_outcome + '/'+ model + '.sav', 'wb'))  \n",
    "    models.append([model, target_outcome, y_train.value_counts()[1]/y_train.value_counts()[0]])\n",
    "    print(\"GNB done\")\n",
    "\n",
    "    # #SVM\n",
    "    # model = 'SVM'\n",
    "    # params = params_dict[(params_dict['outcome']==target_outcome)&(params_dict['model']==model)]['best_params_auc'].tolist()[0]\n",
    "    # params = eval(params)\n",
    "    # print(params)\n",
    "    # svc_model = SVC(class_weight='balanced', C = params['C'], degree=2, kernel=params['kernel'], random_state=1234, cache_size=1024)\n",
    "    # svc_model.fit(X_train,y_train)\n",
    "    # pickle.dump(svc_model, open('../Models/'+ target_outcome + '/'+ model + '.sav', 'wb')) \n",
    "    # models.append([model, target_outcome, y_train.value_counts()[1]/y_train.value_counts()[0]])\n",
    "    # print(\"SVM done\")\n",
    "\n",
    "    #DT\n",
    "    model = 'DT'\n",
    "    params = params_dict[(params_dict['outcome']==target_outcome)&(params_dict['model']==model)]['best_params_auc'].tolist()[0]\n",
    "    params = eval(params)\n",
    "    print(params)\n",
    "    dt_model = DecisionTreeClassifier(class_weight='balanced', max_depth=params['max_depth'], criterion=params['criterion'], splitter=params['splitter'], random_state=1234)\n",
    "    dt_model.fit(X_train, y_train)\n",
    "    pickle.dump(dt_model, open('../Models/'+ target_outcome + '/'+ model + '.sav', 'wb'))    \n",
    "    models.append([model, target_outcome, y_train.value_counts()[1]/y_train.value_counts()[0]])\n",
    "    print(\"DT done\")\n",
    "\n",
    "    #RF\n",
    "    model = 'RF'\n",
    "    params = params_dict[(params_dict['outcome']==target_outcome)&(params_dict['model']==model)]['best_params_auc'].tolist()[0]\n",
    "    params = eval(params)\n",
    "    print(params)\n",
    "    rf_model = RandomForestClassifier(class_weight='balanced', max_depth=params['max_depth'], criterion=params['criterion'], n_estimators=params['n_estimators'], random_state=1234)\n",
    "    rf_model.fit(X_train, y_train)\n",
    "    pickle.dump(rf_model, open('../Models/'+ target_outcome + '/'+ model + '.sav', 'wb'))     \n",
    "    models.append([model, target_outcome, y_train.value_counts()[1]/y_train.value_counts()[0]])\n",
    "    print(\"RF done\")\n",
    "\n",
    "\n",
    "\n",
    "    #XGB\n",
    "    model = 'XGB'\n",
    "    params = params_dict[(params_dict['outcome']==target_outcome)&(params_dict['model']==model)]['best_params_auc'].tolist()[0]\n",
    "    params = eval(params)\n",
    "    print(params)\n",
    "    scale_pos_ratio = y_train.value_counts()[0]/y_train.value_counts()[1]\n",
    "    xgb_model = xgb.XGBClassifier(objective ='binary:logistic', max_depth = params['max_depth'], n_estimators = params['n_estimators'],   \n",
    "                                  learning_rate=params['learning_rate'], reg_alpha = params['reg_alpha'], reg_lambda = params['reg_lambda'],\n",
    "                                  importance_type = 'gain', scale_pos_weight = scale_pos_ratio, use_label_encoder=False, tree_method='gpu_hist', \n",
    "                                  gpu_id=0, verbosity = 0, random_state = 1234,)\n",
    "    # xgb_model = xgb.XGBClassifier(objective ='binary:logistic', learning_rate = 0.001, tree_method='gpu_hist', gpu_id=0,  verbosity = 0, random_state = 1234)\n",
    "    xgb_model.fit(X_train,y_train)\n",
    "    pickle.dump(xgb_model, open('../Models/'+ target_outcome + '/'+ model+ '.sav', 'wb')) \n",
    "    models.append([model,  target_outcome, y_train.value_counts()[1]/y_train.value_counts()[0]])\n",
    "    print(\"XGB done\")\n",
    "    \n",
    "    return models\n",
    "    # return [xgb_model]"
   ]
  },
  {
   "cell_type": "code",
   "execution_count": 23,
   "id": "8e131976-5d4b-49ee-a3aa-9fc0c7e3d32f",
   "metadata": {
    "tags": []
   },
   "outputs": [],
   "source": [
    "#Tree pruning\n",
    "from sklearn.tree._tree import TREE_LEAF\n",
    "\n",
    "def is_leaf(inner_tree, index):\n",
    "    # Check whether node is leaf node\n",
    "    return (inner_tree.children_left[index] == TREE_LEAF and \n",
    "            inner_tree.children_right[index] == TREE_LEAF)\n",
    "\n",
    "def prune_index(inner_tree, decisions, index=0):\n",
    "    # Start pruning from the bottom - if we start from the top, we might miss\n",
    "    # nodes that become leaves during pruning.\n",
    "    # Do not use this directly - use prune_duplicate_leaves instead.\n",
    "    if not is_leaf(inner_tree, inner_tree.children_left[index]):\n",
    "        prune_index(inner_tree, decisions, inner_tree.children_left[index])\n",
    "    if not is_leaf(inner_tree, inner_tree.children_right[index]):\n",
    "        prune_index(inner_tree, decisions, inner_tree.children_right[index])\n",
    "\n",
    "    # Prune children if both children are leaves now and make the same decision:     \n",
    "    if (is_leaf(inner_tree, inner_tree.children_left[index]) and\n",
    "        is_leaf(inner_tree, inner_tree.children_right[index]) and\n",
    "        (decisions[index] == decisions[inner_tree.children_left[index]]) and \n",
    "        (decisions[index] == decisions[inner_tree.children_right[index]])):\n",
    "        # turn node into a leaf by \"unlinking\" its children\n",
    "        inner_tree.children_left[index] = TREE_LEAF\n",
    "        inner_tree.children_right[index] = TREE_LEAF\n",
    "        ##print(\"Pruned {}\".format(index))\n",
    "\n",
    "def prune_duplicate_leaves(mdl):\n",
    "    # Remove leaves if both \n",
    "    decisions = mdl.tree_.value.argmax(axis=2).flatten().tolist() # Decision for each node\n",
    "    prune_index(mdl.tree_, decisions)"
   ]
  },
  {
   "cell_type": "markdown",
   "id": "ba329484-ef88-4bba-a169-70f029879bf0",
   "metadata": {},
   "source": [
    "# Train Model"
   ]
  },
  {
   "cell_type": "code",
   "execution_count": 79,
   "id": "977620af-cffb-4e5d-a21f-8f5ff3df530d",
   "metadata": {
    "tags": []
   },
   "outputs": [],
   "source": [
    "X = trainingData[features_columns]\n",
    "X_test = evaluationData[features_columns]\n",
    "X_test_Wales = evaluationDataWales[features_columns]\n",
    "X_test_Scotland = evaluationDataScotland[features_columns]\n",
    "target_outcomes = ['3months', '6months', '12months', '24months'] \n",
    "model_names = ['LR', 'Lasso', 'NB', 'DT', 'RF', 'XGB']"
   ]
  },
  {
   "cell_type": "code",
   "execution_count": 25,
   "id": "7f225c66-5f1f-4331-a3c1-45e22ab444c8",
   "metadata": {
    "tags": []
   },
   "outputs": [],
   "source": [
    "#params\n",
    "params_dict = pd.read_csv('../Models/GS_result.csv')\n"
   ]
  },
  {
   "cell_type": "code",
   "execution_count": 26,
   "id": "6bf35146-ffe8-41e8-a831-a840906e440c",
   "metadata": {
    "scrolled": true,
    "tags": []
   },
   "outputs": [
    {
     "name": "stdout",
     "output_type": "stream",
     "text": [
      "3months\n",
      "Building models . . . .\n",
      "{'C': 0.1, 'max_iter': 80, 'solver': 'liblinear'}\n",
      "LR done\n",
      "{'C': 10, 'max_iter': 80, 'solver': 'saga'}\n"
     ]
    },
    {
     "name": "stderr",
     "output_type": "stream",
     "text": [
      "/opt/conda/envs/rapids/lib/python3.10/site-packages/sklearn/linear_model/_sag.py:350: ConvergenceWarning: The max_iter was reached which means the coef_ did not converge\n",
      "  warnings.warn(\n"
     ]
    },
    {
     "name": "stdout",
     "output_type": "stream",
     "text": [
      "Lasso done\n",
      "{'var_smoothing': 1e-09}\n",
      "GNB done\n",
      "{'criterion': 'entropy', 'max_depth': 7, 'splitter': 'best'}\n",
      "DT done\n",
      "{'criterion': 'entropy', 'max_depth': 9, 'n_estimators': 300}\n",
      "RF done\n",
      "{'learning_rate': 0.03, 'max_depth': 5, 'n_estimators': 200, 'reg_alpha': 0.7, 'reg_lambda': 0.5}\n"
     ]
    },
    {
     "name": "stderr",
     "output_type": "stream",
     "text": [
      "/opt/conda/envs/rapids/lib/python3.10/site-packages/xgboost/sklearn.py:1395: UserWarning: `use_label_encoder` is deprecated in 1.7.0.\n",
      "  warnings.warn(\"`use_label_encoder` is deprecated in 1.7.0.\")\n"
     ]
    },
    {
     "name": "stdout",
     "output_type": "stream",
     "text": [
      "XGB done\n",
      "LR\n",
      "Lasso\n",
      "NB\n",
      "DT\n",
      "RF\n",
      "XGB\n",
      "6months\n",
      "Building models . . . .\n",
      "{'C': 0.1, 'max_iter': 80, 'solver': 'liblinear'}\n",
      "LR done\n",
      "{'C': 10, 'max_iter': 80, 'solver': 'saga'}\n"
     ]
    },
    {
     "name": "stderr",
     "output_type": "stream",
     "text": [
      "/opt/conda/envs/rapids/lib/python3.10/site-packages/sklearn/linear_model/_sag.py:350: ConvergenceWarning: The max_iter was reached which means the coef_ did not converge\n",
      "  warnings.warn(\n"
     ]
    },
    {
     "name": "stdout",
     "output_type": "stream",
     "text": [
      "Lasso done\n",
      "{'var_smoothing': 5e-09}\n",
      "GNB done\n",
      "{'criterion': 'gini', 'max_depth': 7, 'splitter': 'best'}\n",
      "DT done\n",
      "{'criterion': 'gini', 'max_depth': 9, 'n_estimators': 300}\n",
      "RF done\n",
      "{'learning_rate': 0.03, 'max_depth': 5, 'n_estimators': 200, 'reg_alpha': 0.3, 'reg_lambda': 0.5}\n"
     ]
    },
    {
     "name": "stderr",
     "output_type": "stream",
     "text": [
      "/opt/conda/envs/rapids/lib/python3.10/site-packages/xgboost/sklearn.py:1395: UserWarning: `use_label_encoder` is deprecated in 1.7.0.\n",
      "  warnings.warn(\"`use_label_encoder` is deprecated in 1.7.0.\")\n"
     ]
    },
    {
     "name": "stdout",
     "output_type": "stream",
     "text": [
      "XGB done\n",
      "LR\n",
      "Lasso\n",
      "NB\n",
      "DT\n",
      "RF\n",
      "XGB\n",
      "12months\n",
      "Building models . . . .\n",
      "{'C': 0.1, 'max_iter': 80, 'solver': 'liblinear'}\n",
      "LR done\n",
      "{'C': 10, 'max_iter': 80, 'solver': 'saga'}\n"
     ]
    },
    {
     "name": "stderr",
     "output_type": "stream",
     "text": [
      "/opt/conda/envs/rapids/lib/python3.10/site-packages/sklearn/linear_model/_sag.py:350: ConvergenceWarning: The max_iter was reached which means the coef_ did not converge\n",
      "  warnings.warn(\n"
     ]
    },
    {
     "name": "stdout",
     "output_type": "stream",
     "text": [
      "Lasso done\n",
      "{'var_smoothing': 1e-09}\n",
      "GNB done\n",
      "{'criterion': 'gini', 'max_depth': 7, 'splitter': 'best'}\n",
      "DT done\n",
      "{'criterion': 'gini', 'max_depth': 9, 'n_estimators': 100}\n",
      "RF done\n",
      "{'learning_rate': 0.03, 'max_depth': 5, 'n_estimators': 300, 'reg_alpha': 0.5, 'reg_lambda': 0.7}\n"
     ]
    },
    {
     "name": "stderr",
     "output_type": "stream",
     "text": [
      "/opt/conda/envs/rapids/lib/python3.10/site-packages/xgboost/sklearn.py:1395: UserWarning: `use_label_encoder` is deprecated in 1.7.0.\n",
      "  warnings.warn(\"`use_label_encoder` is deprecated in 1.7.0.\")\n"
     ]
    },
    {
     "name": "stdout",
     "output_type": "stream",
     "text": [
      "XGB done\n",
      "LR\n",
      "Lasso\n",
      "NB\n",
      "DT\n",
      "RF\n",
      "XGB\n",
      "24months\n",
      "Building models . . . .\n",
      "{'C': 0.1, 'max_iter': 80, 'solver': 'liblinear'}\n",
      "LR done\n",
      "{'C': 10, 'max_iter': 80, 'solver': 'saga'}\n"
     ]
    },
    {
     "name": "stderr",
     "output_type": "stream",
     "text": [
      "/opt/conda/envs/rapids/lib/python3.10/site-packages/sklearn/linear_model/_sag.py:350: ConvergenceWarning: The max_iter was reached which means the coef_ did not converge\n",
      "  warnings.warn(\n"
     ]
    },
    {
     "name": "stdout",
     "output_type": "stream",
     "text": [
      "Lasso done\n",
      "{'var_smoothing': 1e-09}\n",
      "GNB done\n",
      "{'criterion': 'gini', 'max_depth': 9, 'splitter': 'best'}\n",
      "DT done\n",
      "{'criterion': 'gini', 'max_depth': 9, 'n_estimators': 100}\n",
      "RF done\n",
      "{'learning_rate': 0.03, 'max_depth': 7, 'n_estimators': 300, 'reg_alpha': 0.7, 'reg_lambda': 0.7}\n"
     ]
    },
    {
     "name": "stderr",
     "output_type": "stream",
     "text": [
      "/opt/conda/envs/rapids/lib/python3.10/site-packages/xgboost/sklearn.py:1395: UserWarning: `use_label_encoder` is deprecated in 1.7.0.\n",
      "  warnings.warn(\"`use_label_encoder` is deprecated in 1.7.0.\")\n"
     ]
    },
    {
     "name": "stdout",
     "output_type": "stream",
     "text": [
      "XGB done\n",
      "LR\n",
      "Lasso\n",
      "NB\n",
      "DT\n",
      "RF\n",
      "XGB\n",
      "CPU times: user 11min 3s, sys: 29.7 s, total: 11min 33s\n",
      "Wall time: 10min 26s\n"
     ]
    }
   ],
   "source": [
    "%%time\n",
    "\n",
    "\n",
    "#EXECUTE model training\n",
    "summary_result_train = []\n",
    "summary_result = []\n",
    "summary_result_Wales = []\n",
    "summary_result_Scotland = []\n",
    "cols = ['model_name', 'outcome', 'class_ratio', 'acc','spec','sens','auc', 'auprc', 'balance_accuracy', 'f1_score', 'ppv', 'npv']\n",
    "\n",
    "for target_outcome in target_outcomes:\n",
    "    models = pd.DataFrame(columns=['modelname', 'target_outcome', 'class_ratio'])\n",
    "    print(target_outcome)\n",
    "    y = trainingData[target_outcome]\n",
    "    y_test = evaluationData[target_outcome]\n",
    "    y_test_Wales = evaluationDataWales[target_outcome]\n",
    "    y_test_Scotland = evaluationDataScotland[target_outcome]\n",
    "    #Build models -> it can be commented if the models have been trained\n",
    "    models_temp = pd.DataFrame(build_models(X, y, target_outcome, params_dict), columns=['modelname', 'target_outcome', 'class_ratio'])\n",
    "    models = pd.concat([models,models_temp]).reset_index(drop=True)\n",
    "\n",
    "    #evaluate model\n",
    "    for modelname, target_outcome, classratio in models.values:\n",
    "        # print('======================================================================')\n",
    "        print(modelname)\n",
    "        model = pickle.load(open('../Models/'+ target_outcome + '/'+ modelname + '.sav', 'rb'))\n",
    "        summary_result.append((str(model), target_outcome, classratio, ) + summariseResult (X_test, y_test, model) )\n",
    "        summary_result_Wales.append((str(model), target_outcome, classratio, ) + summariseResult (X_test_Wales, y_test_Wales, model) )       \n",
    "        summary_result_Scotland.append((str(model), target_outcome, classratio, ) + summariseResult (X_test_Scotland, y_test_Scotland, model) )       \n",
    "        summary_result_train.append((str(model), target_outcome, classratio, ) + summariseResult (X, y, model) )       \n",
    "\n",
    "\n",
    "summary_result = pd.DataFrame(summary_result, columns=cols)\n",
    "summary_result['model_num'] = summary_result.index\n",
    "\n",
    "summary_result_Wales = pd.DataFrame(summary_result_Wales, columns=cols)\n",
    "summary_result_Wales['model_num'] = summary_result_Wales.index\n",
    "\n",
    "summary_result_Scotland = pd.DataFrame(summary_result_Scotland, columns=cols)\n",
    "summary_result_Scotland['model_num'] = summary_result_Scotland.index\n",
    "\n",
    "summary_result_train = pd.DataFrame(summary_result_train, columns=cols)\n",
    "summary_result_train['model_num'] = summary_result_train.index\n"
   ]
  },
  {
   "cell_type": "code",
   "execution_count": 27,
   "id": "b1df0bb2-a000-4236-a576-7d625e72205c",
   "metadata": {
    "tags": []
   },
   "outputs": [],
   "source": [
    "summary_result['model_name'] = summary_result.apply(lambda x: modelNameFixer(x['model_name']), axis=1)\n",
    "summary_result_train['model_name'] = summary_result_train.apply(lambda x: modelNameFixer(x['model_name']), axis=1)\n",
    "summary_result_Wales['model_name'] = summary_result_Wales.apply(lambda x: modelNameFixer(x['model_name']), axis=1)\n",
    "summary_result_Scotland['model_name'] = summary_result_Scotland.apply(lambda x: modelNameFixer(x['model_name']), axis=1)"
   ]
  },
  {
   "cell_type": "code",
   "execution_count": 28,
   "id": "993827f6-2c42-4670-8d36-c1e016c7b46c",
   "metadata": {
    "tags": []
   },
   "outputs": [],
   "source": [
    "# summary_result.to_csv('../Models/summary_result_test.csv', index_label=False, index=False)"
   ]
  },
  {
   "cell_type": "code",
   "execution_count": 29,
   "id": "78d90777-2b7e-47bf-b71a-4830b584e880",
   "metadata": {
    "tags": []
   },
   "outputs": [],
   "source": [
    "# summary_result = pd.read_csv('../Models/summary_result_test.csv')"
   ]
  },
  {
   "cell_type": "code",
   "execution_count": 37,
   "id": "dc3017ee-42a8-4f9f-83f2-af18bbc05fde",
   "metadata": {
    "tags": []
   },
   "outputs": [],
   "source": [
    "summary_result_train['set'] = 'train'\n",
    "summary_result['set'] = 'eval'\n",
    "summary_result_Wales['set'] = 'Wales'\n",
    "summary_result_Scotland['set'] = 'Scotland'"
   ]
  },
  {
   "cell_type": "code",
   "execution_count": 77,
   "id": "293c5456-18e0-4966-a596-be3a3c5c4c6c",
   "metadata": {
    "tags": []
   },
   "outputs": [],
   "source": [
    "combine = pd.concat([summary_result_train, summary_result, summary_result_Wales, summary_result_Scotland])"
   ]
  },
  {
   "cell_type": "code",
   "execution_count": 76,
   "id": "b40e33cb-b043-41b5-8cd6-56f7d1d7fc41",
   "metadata": {
    "tags": []
   },
   "outputs": [
    {
     "data": {
      "image/png": "[encoded data removed]",
      "text/plain": [
       "<Figure size 1910.5x1800 with 24 Axes>"
      ]
     },
     "metadata": {},
     "output_type": "display_data"
    }
   ],
   "source": [
    "g = sns.FacetGrid(combine, col='outcome', row='model_name', hue = 'set', height=3, aspect=1.5, ylim=(0.5, 0.8))\n",
    "g.map(sns.barplot, 'set', 'auc', order=combine.set.unique()).add_legend()\n",
    "\n",
    "for ax in g.axes:\n",
    "    for item in ax:\n",
    "        for p in item.patches:\n",
    "                 item.annotate(\"%.4f\" % p.get_height(), (p.get_x() + p.get_width() / 2., p.get_height()),\n",
    "                     ha='center', va='center', fontsize=8, color='black', xytext=(0, 5),\n",
    "                     textcoords='offset points')\n",
    "        item.set_ylabel('AUC Score', fontsize=8)\n",
    "        item.set_xlabel('Method', fontsize=11)"
   ]
  },
  {
   "cell_type": "code",
   "execution_count": 31,
   "id": "6cf6d295-4c30-4c9f-bdac-1ccff2382f65",
   "metadata": {
    "tags": []
   },
   "outputs": [
    {
     "data": {
      "image/png": "[encoded data removed]",
      "text/plain": [
       "<Figure size 911.111x600 with 4 Axes>"
      ]
     },
     "metadata": {},
     "output_type": "display_data"
    }
   ],
   "source": [
    "g = sns.FacetGrid(summary_result_Wales, col='outcome', col_wrap=2, height=3, aspect=1.5, ylim=(0.5, 0.8))\n",
    "g.map(sns.barplot, 'model_name', 'auc', order=summary_result_Wales.model_name.unique()).add_legend()\n",
    "\n",
    "for ax in g.axes:\n",
    "    for p in ax.patches:\n",
    "             ax.annotate(\"%.4f\" % p.get_height(), (p.get_x() + p.get_width() / 2., p.get_height()),\n",
    "                 ha='center', va='center', fontsize=8, color='black', xytext=(0, 5),\n",
    "                 textcoords='offset points')\n",
    "    ax.set_ylabel('AUC Score', fontsize=8)\n",
    "    ax.set_xlabel('Method', fontsize=11)"
   ]
  },
  {
   "cell_type": "code",
   "execution_count": 34,
   "id": "5ec3ad88-12fd-4b6e-a60b-c094cfb44907",
   "metadata": {
    "tags": []
   },
   "outputs": [
    {
     "data": {
      "image/png": "[encoded data removed]",
      "text/plain": [
       "<Figure size 911.111x600 with 4 Axes>"
      ]
     },
     "metadata": {},
     "output_type": "display_data"
    }
   ],
   "source": [
    "g = sns.FacetGrid(summary_result_Scotland, col='outcome', col_wrap=2, height=3, aspect=1.5, ylim=(0.5, 0.8))\n",
    "g.map(sns.barplot, 'model_name', 'auc', order=summary_result_Scotland.model_name.unique()).add_legend()\n",
    "\n",
    "for ax in g.axes:\n",
    "    for p in ax.patches:\n",
    "             ax.annotate(\"%.4f\" % p.get_height(), (p.get_x() + p.get_width() / 2., p.get_height()),\n",
    "                 ha='center', va='center', fontsize=8, color='black', xytext=(0, 5),\n",
    "                 textcoords='offset points')\n",
    "    ax.set_ylabel('AUC Score', fontsize=8)\n",
    "    ax.set_xlabel('Method', fontsize=11)"
   ]
  },
  {
   "cell_type": "code",
   "execution_count": 33,
   "id": "d88c658b-646e-44fa-826c-9d173c1250f6",
   "metadata": {
    "tags": []
   },
   "outputs": [
    {
     "data": {
      "image/png": "[encoded data removed]",
      "text/plain": [
       "<Figure size 911.111x600 with 4 Axes>"
      ]
     },
     "metadata": {},
     "output_type": "display_data"
    }
   ],
   "source": [
    "g = sns.FacetGrid(summary_result_train, col='outcome', col_wrap=2, height=3, aspect=1.5, ylim=(0.5, 0.8))\n",
    "g.map(sns.barplot, 'model_name', 'auc', order=summary_result_train.model_name.unique()).add_legend()\n",
    "\n",
    "for ax in g.axes:\n",
    "    for p in ax.patches:\n",
    "             ax.annotate(\"%.4f\" % p.get_height(), (p.get_x() + p.get_width() / 2., p.get_height()),\n",
    "                 ha='center', va='center', fontsize=8, color='black', xytext=(0, 5),\n",
    "                 textcoords='offset points')\n",
    "    ax.set_ylabel('AUC Score', fontsize=8)\n",
    "    ax.set_xlabel('Method', fontsize=11)"
   ]
  },
  {
   "cell_type": "code",
   "execution_count": 35,
   "id": "dec8fb20-bd6e-4012-a757-50d98faac847",
   "metadata": {
    "tags": []
   },
   "outputs": [
    {
     "data": {
      "text/html": [
       "<div>\n",
       "<style scoped>\n",
       "    .dataframe tbody tr th:only-of-type {\n",
       "        vertical-align: middle;\n",
       "    }\n",
       "\n",
       "    .dataframe tbody tr th {\n",
       "        vertical-align: top;\n",
       "    }\n",
       "\n",
       "    .dataframe thead th {\n",
       "        text-align: right;\n",
       "    }\n",
       "</style>\n",
       "<table border=\"1\" class=\"dataframe\">\n",
       "  <thead>\n",
       "    <tr style=\"text-align: right;\">\n",
       "      <th></th>\n",
       "      <th>outcome</th>\n",
       "      <th>target_model</th>\n",
       "      <th>trainVSeval</th>\n",
       "      <th>trainVSWales</th>\n",
       "      <th>trainVSScotland</th>\n",
       "    </tr>\n",
       "  </thead>\n",
       "  <tbody>\n",
       "    <tr>\n",
       "      <th>0</th>\n",
       "      <td>3months</td>\n",
       "      <td>Lasso</td>\n",
       "      <td>7.14</td>\n",
       "      <td>4.64</td>\n",
       "      <td>11.35</td>\n",
       "    </tr>\n",
       "    <tr>\n",
       "      <th>1</th>\n",
       "      <td>3months</td>\n",
       "      <td>LR</td>\n",
       "      <td>7.15</td>\n",
       "      <td>4.66</td>\n",
       "      <td>11.36</td>\n",
       "    </tr>\n",
       "    <tr>\n",
       "      <th>2</th>\n",
       "      <td>3months</td>\n",
       "      <td>GNB</td>\n",
       "      <td>-0.70</td>\n",
       "      <td>-1.80</td>\n",
       "      <td>1.28</td>\n",
       "    </tr>\n",
       "    <tr>\n",
       "      <th>3</th>\n",
       "      <td>3months</td>\n",
       "      <td>DT</td>\n",
       "      <td>7.60</td>\n",
       "      <td>5.34</td>\n",
       "      <td>11.44</td>\n",
       "    </tr>\n",
       "    <tr>\n",
       "      <th>4</th>\n",
       "      <td>3months</td>\n",
       "      <td>RF</td>\n",
       "      <td>7.33</td>\n",
       "      <td>5.50</td>\n",
       "      <td>10.42</td>\n",
       "    </tr>\n",
       "    <tr>\n",
       "      <th>5</th>\n",
       "      <td>3months</td>\n",
       "      <td>XGBoost</td>\n",
       "      <td>8.96</td>\n",
       "      <td>6.00</td>\n",
       "      <td>13.97</td>\n",
       "    </tr>\n",
       "    <tr>\n",
       "      <th>6</th>\n",
       "      <td>6months</td>\n",
       "      <td>Lasso</td>\n",
       "      <td>5.98</td>\n",
       "      <td>3.16</td>\n",
       "      <td>10.26</td>\n",
       "    </tr>\n",
       "    <tr>\n",
       "      <th>7</th>\n",
       "      <td>6months</td>\n",
       "      <td>LR</td>\n",
       "      <td>5.99</td>\n",
       "      <td>3.17</td>\n",
       "      <td>10.27</td>\n",
       "    </tr>\n",
       "    <tr>\n",
       "      <th>8</th>\n",
       "      <td>6months</td>\n",
       "      <td>GNB</td>\n",
       "      <td>-0.84</td>\n",
       "      <td>-1.80</td>\n",
       "      <td>0.99</td>\n",
       "    </tr>\n",
       "    <tr>\n",
       "      <th>9</th>\n",
       "      <td>6months</td>\n",
       "      <td>DT</td>\n",
       "      <td>7.62</td>\n",
       "      <td>4.74</td>\n",
       "      <td>12.00</td>\n",
       "    </tr>\n",
       "    <tr>\n",
       "      <th>10</th>\n",
       "      <td>6months</td>\n",
       "      <td>RF</td>\n",
       "      <td>6.84</td>\n",
       "      <td>4.07</td>\n",
       "      <td>11.07</td>\n",
       "    </tr>\n",
       "    <tr>\n",
       "      <th>11</th>\n",
       "      <td>6months</td>\n",
       "      <td>XGBoost</td>\n",
       "      <td>8.04</td>\n",
       "      <td>4.54</td>\n",
       "      <td>13.41</td>\n",
       "    </tr>\n",
       "    <tr>\n",
       "      <th>12</th>\n",
       "      <td>12months</td>\n",
       "      <td>Lasso</td>\n",
       "      <td>6.08</td>\n",
       "      <td>4.90</td>\n",
       "      <td>8.20</td>\n",
       "    </tr>\n",
       "    <tr>\n",
       "      <th>13</th>\n",
       "      <td>12months</td>\n",
       "      <td>LR</td>\n",
       "      <td>6.08</td>\n",
       "      <td>4.90</td>\n",
       "      <td>8.20</td>\n",
       "    </tr>\n",
       "    <tr>\n",
       "      <th>14</th>\n",
       "      <td>12months</td>\n",
       "      <td>GNB</td>\n",
       "      <td>-0.58</td>\n",
       "      <td>-1.11</td>\n",
       "      <td>0.36</td>\n",
       "    </tr>\n",
       "    <tr>\n",
       "      <th>15</th>\n",
       "      <td>12months</td>\n",
       "      <td>DT</td>\n",
       "      <td>7.30</td>\n",
       "      <td>5.30</td>\n",
       "      <td>10.92</td>\n",
       "    </tr>\n",
       "    <tr>\n",
       "      <th>16</th>\n",
       "      <td>12months</td>\n",
       "      <td>RF</td>\n",
       "      <td>6.39</td>\n",
       "      <td>5.41</td>\n",
       "      <td>8.15</td>\n",
       "    </tr>\n",
       "    <tr>\n",
       "      <th>17</th>\n",
       "      <td>12months</td>\n",
       "      <td>XGBoost</td>\n",
       "      <td>7.56</td>\n",
       "      <td>6.05</td>\n",
       "      <td>10.26</td>\n",
       "    </tr>\n",
       "    <tr>\n",
       "      <th>18</th>\n",
       "      <td>24months</td>\n",
       "      <td>Lasso</td>\n",
       "      <td>5.88</td>\n",
       "      <td>4.44</td>\n",
       "      <td>8.62</td>\n",
       "    </tr>\n",
       "    <tr>\n",
       "      <th>19</th>\n",
       "      <td>24months</td>\n",
       "      <td>LR</td>\n",
       "      <td>5.86</td>\n",
       "      <td>4.44</td>\n",
       "      <td>8.56</td>\n",
       "    </tr>\n",
       "    <tr>\n",
       "      <th>20</th>\n",
       "      <td>24months</td>\n",
       "      <td>GNB</td>\n",
       "      <td>0.24</td>\n",
       "      <td>-0.23</td>\n",
       "      <td>0.83</td>\n",
       "    </tr>\n",
       "    <tr>\n",
       "      <th>21</th>\n",
       "      <td>24months</td>\n",
       "      <td>DT</td>\n",
       "      <td>6.87</td>\n",
       "      <td>4.46</td>\n",
       "      <td>11.61</td>\n",
       "    </tr>\n",
       "    <tr>\n",
       "      <th>22</th>\n",
       "      <td>24months</td>\n",
       "      <td>RF</td>\n",
       "      <td>6.28</td>\n",
       "      <td>4.70</td>\n",
       "      <td>9.28</td>\n",
       "    </tr>\n",
       "    <tr>\n",
       "      <th>23</th>\n",
       "      <td>24months</td>\n",
       "      <td>XGBoost</td>\n",
       "      <td>8.42</td>\n",
       "      <td>6.79</td>\n",
       "      <td>11.52</td>\n",
       "    </tr>\n",
       "  </tbody>\n",
       "</table>\n",
       "</div>"
      ],
      "text/plain": [
       "     outcome target_model  trainVSeval  trainVSWales  trainVSScotland\n",
       "0    3months        Lasso         7.14          4.64            11.35\n",
       "1    3months           LR         7.15          4.66            11.36\n",
       "2    3months          GNB        -0.70         -1.80             1.28\n",
       "3    3months           DT         7.60          5.34            11.44\n",
       "4    3months           RF         7.33          5.50            10.42\n",
       "5    3months      XGBoost         8.96          6.00            13.97\n",
       "6    6months        Lasso         5.98          3.16            10.26\n",
       "7    6months           LR         5.99          3.17            10.27\n",
       "8    6months          GNB        -0.84         -1.80             0.99\n",
       "9    6months           DT         7.62          4.74            12.00\n",
       "10   6months           RF         6.84          4.07            11.07\n",
       "11   6months      XGBoost         8.04          4.54            13.41\n",
       "12  12months        Lasso         6.08          4.90             8.20\n",
       "13  12months           LR         6.08          4.90             8.20\n",
       "14  12months          GNB        -0.58         -1.11             0.36\n",
       "15  12months           DT         7.30          5.30            10.92\n",
       "16  12months           RF         6.39          5.41             8.15\n",
       "17  12months      XGBoost         7.56          6.05            10.26\n",
       "18  24months        Lasso         5.88          4.44             8.62\n",
       "19  24months           LR         5.86          4.44             8.56\n",
       "20  24months          GNB         0.24         -0.23             0.83\n",
       "21  24months           DT         6.87          4.46            11.61\n",
       "22  24months           RF         6.28          4.70             9.28\n",
       "23  24months      XGBoost         8.42          6.79            11.52"
      ]
     },
     "execution_count": 35,
     "metadata": {},
     "output_type": "execute_result"
    }
   ],
   "source": [
    "target_models = summary_result.model_name.unique()\n",
    "model_difference = []\n",
    "for outcome in target_outcomes:\n",
    "    for target_model in target_models:\n",
    "        train_auc = summary_result_train[(summary_result_train.outcome == outcome)&(summary_result_train.model_name == target_model)]['auc'].values[0]\n",
    "        eval_auc = summary_result[(summary_result.outcome == outcome)&(summary_result.model_name == target_model)]['auc'].values[0]\n",
    "        Wales_auc = summary_result_Wales[(summary_result_Wales.outcome == outcome)&(summary_result_Wales.model_name == target_model)]['auc'].values[0]\n",
    "        Scotland_auc = summary_result_Scotland[(summary_result_Scotland.outcome == outcome)&(summary_result_Scotland.model_name == target_model)]['auc'].values[0]\n",
    "        trainVSeval = (train_auc - eval_auc)*100\n",
    "        trainVSWales = (train_auc - Wales_auc)*100\n",
    "        trainVSScotland = (train_auc - Scotland_auc)*100\n",
    "        model_difference.append([outcome, target_model, trainVSeval, trainVSWales, trainVSScotland])\n",
    "\n",
    "pd.DataFrame(model_difference, columns=['outcome', 'target_model','trainVSeval', 'trainVSWales', 'trainVSScotland'])\n",
    "        "
   ]
  },
  {
   "cell_type": "code",
   "execution_count": null,
   "id": "150ff9ff-2baa-4697-98c4-cefa5c77290b",
   "metadata": {
    "tags": []
   },
   "outputs": [],
   "source": [
    "#Visualise\n",
    "bar = sns.catplot(x = \"outcome\",       # x variable name\n",
    "            y = \"auc\",       # y variable name            \n",
    "            data = summary_result,     # dataframe to plot\n",
    "            kind = \"bar\",\n",
    "            hue = \"model_name\",\n",
    "            height=5,\n",
    "            aspect=6/2,\n",
    "            ci = None)\n",
    "ax = bar.facet_axis(0,0)\n",
    "for p in ax.patches:\n",
    "    ax.text(p.get_x() + 0.01, \n",
    "            p.get_height() * 1.01, \n",
    "            '{0:.4f}'.format(p.get_height()), \n",
    "            color='black', rotation='horizontal', fontsize=7)\n",
    "    \n",
    "# listOf_Yticks = np.arange(0.5, 0.7, 0.05)\n",
    "ax.set_ylim(0.4, 1)\n",
    "ax.set_ylabel('AUC Score', fontsize=11)\n",
    "ax.set_xlabel('Method', fontsize=11)"
   ]
  },
  {
   "cell_type": "code",
   "execution_count": null,
   "id": "840e3891-118b-41d6-b159-8d5649973607",
   "metadata": {
    "tags": []
   },
   "outputs": [],
   "source": [
    "best_model_dt.feature_importances_"
   ]
  },
  {
   "cell_type": "code",
   "execution_count": null,
   "id": "baaabe03-0654-40e4-846c-26c3b1ebb50d",
   "metadata": {
    "tags": []
   },
   "outputs": [],
   "source": [
    "best_model_dt = pickle.load(open('../Models/12months/DT.sav', 'rb'))\n",
    "\n",
    "# pd.DataFrame([best_model3.feature_importances_], columns=X.columns).T.sort_values(0, ascending=False)\n",
    "sorted_idx = best_model_dt.feature_importances_.argsort()\n",
    "plt.figure(figsize=(3,4))\n",
    "plt.barh(X.columns[sorted_idx][-10:], best_model_dt.feature_importances_[sorted_idx][-10:])\n",
    "plt.xlabel(\"Decision Tree Feature Importance\")\n",
    "plt.show()"
   ]
  },
  {
   "cell_type": "code",
   "execution_count": null,
   "id": "90a8f97d-a9f8-42b5-ad63-a3007d853013",
   "metadata": {
    "tags": []
   },
   "outputs": [],
   "source": [
    "dttop10 = X.columns[sorted_idx][-10:]"
   ]
  },
  {
   "cell_type": "code",
   "execution_count": null,
   "id": "585071b8-244d-4f64-bd03-6cfcb038b749",
   "metadata": {
    "tags": []
   },
   "outputs": [],
   "source": [
    "best_model_lasso = pickle.load(open('../Models/12months/Lasso.sav', 'rb'))\n",
    "\n",
    "# pd.DataFrame([best_model3.feature_importances_], columns=X.columns).T.sort_values(0, ascending=False)\n",
    "sorted_idx = best_model_lasso.coef_[0].argsort()\n",
    "plt.figure(figsize=(3,4))\n",
    "plt.barh(X.columns[sorted_idx][-10:], best_model_lasso.coef_[0][sorted_idx][-10:])\n",
    "plt.xlabel(\"Lasso Feature Importance\")\n",
    "plt.show()"
   ]
  },
  {
   "cell_type": "code",
   "execution_count": null,
   "id": "43e7d254-18ba-4e6c-a70f-e232cef0d971",
   "metadata": {
    "tags": []
   },
   "outputs": [],
   "source": [
    "lassotop10 = X.columns[sorted_idx][-10:]"
   ]
  },
  {
   "cell_type": "code",
   "execution_count": null,
   "id": "a91b58c1-a6cd-4616-b37e-8a838c4e694e",
   "metadata": {
    "tags": []
   },
   "outputs": [],
   "source": [
    "list(set(dttop10).intersection(set(lassotop10)))"
   ]
  },
  {
   "cell_type": "code",
   "execution_count": null,
   "id": "3210cf71-819b-4110-a6da-a8476d3164f3",
   "metadata": {
    "tags": []
   },
   "outputs": [],
   "source": [
    "prune_duplicate_leaves(best_model_dt)\n",
    "fig = plt.figure(figsize=(30,10))\n",
    "_ = tree.plot_tree(best_model_dt, \n",
    "                   feature_names=X.columns,  \n",
    "                   class_names=['no asthma attack','asthma attack'],\n",
    "                   filled=True,)\n",
    "plt.savefig('../FinalData/dt.png',format='png',bbox_inches = \"tight\")"
   ]
  },
  {
   "cell_type": "markdown",
   "id": "18cc8cb2-0b7c-4068-8602-3f20ce245e3b",
   "metadata": {},
   "source": [
    "## Minimum depth DT"
   ]
  },
  {
   "cell_type": "code",
   "execution_count": null,
   "id": "cd9f3421-1c24-4b2a-a9d4-883463ff6890",
   "metadata": {
    "tags": []
   },
   "outputs": [],
   "source": [
    "%%time\n",
    "#DT with minimum max of depth\n",
    "\n",
    "#EXECUTE model training\n",
    "X = trainingData[features_columns]\n",
    "X_test = evaluationData[features_columns]\n",
    "target_outcome = '12months'\n",
    "\n",
    "print(target_outcome)\n",
    "y = trainingData[target_outcome]\n",
    "y_test = evaluationData[target_outcome]\n",
    "#Build models -> it can be commented if the models have been trained\n",
    "\n",
    "if os.path.isfile('../Models/dt_minimum_depth.sav'):\n",
    "    dt_model = pickle.load(open('../Models/dt_minimum_depth.sav', 'rb'))\n",
    "else:\n",
    "    dt_model = DecisionTreeClassifier(class_weight='balanced', max_depth=3, splitter='best', random_state=1234)\n",
    "    dt_model.fit(X, y)\n",
    "    pickle.dump(dt_model, open('../Models/dt_minimum_depth.sav', 'wb'))    \n",
    "    \n",
    "\n",
    "result = summariseResult (X_test, y_test, dt_model)\n",
    "print(\"DT done\")"
   ]
  },
  {
   "cell_type": "code",
   "execution_count": null,
   "id": "6bd45d55-ad6d-4eda-a7e6-5cfa285efc3a",
   "metadata": {
    "tags": []
   },
   "outputs": [],
   "source": [
    "result"
   ]
  },
  {
   "cell_type": "code",
   "execution_count": null,
   "id": "69bca650-b488-4717-9563-093c43b119f2",
   "metadata": {
    "tags": []
   },
   "outputs": [],
   "source": [
    "prune_duplicate_leaves(dt_model)\n",
    "fig = plt.figure(figsize=(15,10))\n",
    "_ = tree.plot_tree(dt_model, \n",
    "                   feature_names=X.columns,  \n",
    "                   class_names=['no asthma attack','asthma attack'],\n",
    "                   filled=True)\n",
    "plt.savefig('../FinalData/dt_minimumdepth.png',format='png',bbox_inches = \"tight\")"
   ]
  },
  {
   "cell_type": "markdown",
   "id": "76596db2-c810-4c3a-b724-e59b6f9cd19a",
   "metadata": {},
   "source": [
    "# 6months"
   ]
  },
  {
   "cell_type": "code",
   "execution_count": null,
   "id": "4ae588b5-980f-4712-bfef-e84dfcb1c902",
   "metadata": {},
   "outputs": [],
   "source": []
  },
  {
   "cell_type": "code",
   "execution_count": null,
   "id": "70c88a10-ffac-4051-82e6-0866d4c3b28b",
   "metadata": {
    "scrolled": true,
    "tags": []
   },
   "outputs": [],
   "source": [
    "%%time\n",
    "\n",
    "target_outcome = 'outcome_combined_6months'\n",
    "y = trainingData[[target_outcome]]\n",
    "\n",
    "#model parameters\n",
    "params = {'xgb_lr': 0.6,\n",
    "         'xgb_maxdepth': 7}\n",
    "#EXECUTE model training\n",
    "\n",
    "kf = StratifiedKFold(n_splits=n_splits, random_state=1234, shuffle=True)\n",
    "kf.get_n_splits(X)\n",
    "models2 = pd.DataFrame(columns=['modelname', 'class_ratio'])\n",
    "summary_result2 = []\n",
    "cols = ['model_name', 'class_ratio', 'acc','spec','sens','auc', 'auprc', 'balance_accuracy', 'f1_score', 'ppv', 'npv']\n",
    "split_counter = 0\n",
    "\n",
    "#train model\n",
    "for train_index, test_index in kf.split(X, y):\n",
    "    #split data\n",
    "    X_train, X_test = X.iloc[train_index], X.iloc[test_index]\n",
    "    y_train, y_test = y.iloc[train_index], y.iloc[test_index]\n",
    "    \n",
    "    #Build models -> it can be commented if the models have been trained\n",
    "    models_temp = pd.DataFrame(build_models(X_train, y_train[target_outcome], params, split_counter), columns=['modelname', 'class_ratio'])\n",
    "    models2 = pd.concat([models2,models_temp]).reset_index(drop=True)\n",
    "    split_counter+=1\n",
    "        \n",
    "#evaluate model\n",
    "for modelname, classratio in models2.values:\n",
    "    # print('======================================================================')\n",
    "    print(modelname)\n",
    "    model = pickle.load(open('./models/'+ target_outcome + '/'+ modelname + '.sav', 'rb'))\n",
    "    summary_result2.append((str(model), classratio, ) + summariseResult (X_test, y_test[target_outcome], model) )       \n",
    "\n",
    "\n",
    "summary_result2 = pd.DataFrame(summary_result2, columns=cols)\n",
    "summary_result2['model_num'] = summary_result2.index\n",
    "# summary_result1['method_name'] = summary_result1.apply(lambda x: 'LR' if x.model_num%2 == 0 else 'XGBoost', axis=1)\n"
   ]
  },
  {
   "cell_type": "code",
   "execution_count": null,
   "id": "d11f1f49-3ade-41c8-82d1-8d346211c299",
   "metadata": {},
   "outputs": [],
   "source": [
    "print(target_outcome)\n",
    "summary_result2['model_name'] = summary_result2.apply(lambda x: modelNameFixer(x.model_name), axis=1)\n",
    "summary_result2.groupby('model_name').mean().sort_values(['auc'], ascending=False)"
   ]
  },
  {
   "cell_type": "code",
   "execution_count": null,
   "id": "8506386d-27a9-49fa-856b-a5683e7144e9",
   "metadata": {},
   "outputs": [],
   "source": [
    "summary_result2.to_csv(\"summaryResult_outcome2.csv\")\n",
    "summary_result2 = pd.read_csv(\"summaryResult_outcome2.csv\")\n",
    "\n",
    "bar = sns.catplot(x = \"model_name\",       # x variable name\n",
    "            y = \"auc\",       # y variable name            \n",
    "            data = summary_result2,     # dataframe to plot\n",
    "            kind = \"bar\",\n",
    "            height=5,\n",
    "            aspect=5/2.5,\n",
    "            ci = None)\n",
    "ax = bar.facet_axis(0,0)\n",
    "for p in ax.patches:\n",
    "    ax.text(p.get_x() + 0.01, \n",
    "            p.get_height() * 1.01, \n",
    "            '{0:.4f}'.format(p.get_height()), \n",
    "            color='black', rotation='horizontal', fontsize=11)\n",
    "    \n",
    "# listOf_Yticks = np.arange(0.5, 0.7, 0.05)\n",
    "ax.set_ylim(0.4, 1)\n",
    "ax.set_ylabel('AUC Score', fontsize=11)\n",
    "ax.set_xlabel('Method', fontsize=11)"
   ]
  },
  {
   "cell_type": "code",
   "execution_count": null,
   "id": "10426f78-d63b-4430-aa28-9781fe41a744",
   "metadata": {},
   "outputs": [],
   "source": [
    "best_model2 = pickle.load(open('./models/outcome_combined_6months/0DTModel.sav', 'rb'))\n",
    "\n",
    "# pd.DataFrame([best_model3.feature_importances_], columns=X.columns).T.sort_values(0, ascending=False)\n",
    "sorted_idx = best_model2.feature_importances_.argsort()\n",
    "plt.figure(figsize=(5,7))\n",
    "plt.barh(X.columns[sorted_idx][-10:], best_model2.feature_importances_[sorted_idx][-10:])\n",
    "plt.xlabel(\"Decision Tree Feature Importance\")\n",
    "plt.show()"
   ]
  },
  {
   "cell_type": "code",
   "execution_count": null,
   "id": "a3090a2a-1dcd-4723-8538-acc2ecafd220",
   "metadata": {},
   "outputs": [],
   "source": [
    "best_model2 = pickle.load(open('./models/outcome_combined_6months/0RFModel.sav', 'rb'))\n",
    "\n",
    "# pd.DataFrame([best_model3.feature_importances_], columns=X.columns).T.sort_values(0, ascending=False)\n",
    "sorted_idx = best_model2.feature_importances_.argsort()\n",
    "plt.figure(figsize=(5,7))\n",
    "plt.barh(X.columns[sorted_idx][-10:], best_model2.feature_importances_[sorted_idx][-10:])\n",
    "plt.xlabel(\"Random Forest Feature Importance\")\n",
    "plt.show()"
   ]
  },
  {
   "cell_type": "code",
   "execution_count": null,
   "id": "e4ca7472-0652-49bd-aef2-81ca61469336",
   "metadata": {},
   "outputs": [],
   "source": [
    "best_model2 = pickle.load(open('./models/outcome_combined_6months/0XGBoostModel.sav', 'rb'))\n",
    "\n",
    "# pd.DataFrame([best_model3.feature_importances_], columns=X.columns).T.sort_values(0, ascending=False)\n",
    "sorted_idx = best_model2.feature_importances_.argsort()\n",
    "plt.figure(figsize=(5,7))\n",
    "plt.barh(X.columns[sorted_idx][-10:], best_model2.feature_importances_[sorted_idx][-10:])\n",
    "plt.xlabel(\"XGBoost Feature Importance\")\n",
    "plt.show()"
   ]
  },
  {
   "cell_type": "markdown",
   "id": "0c9953e6-6fc4-481c-a5dc-5be9e2d97063",
   "metadata": {},
   "source": [
    "# 12 months"
   ]
  },
  {
   "cell_type": "code",
   "execution_count": null,
   "id": "bfe3cacf-85d8-4889-b3f7-b0653c74d935",
   "metadata": {},
   "outputs": [],
   "source": [
    "target_outcome = 'outcome_combined_12months'\n",
    "y = trainingData[[target_outcome]]\n",
    "\n",
    "#model parameters\n",
    "params = {'xgb_lr': 0.6,\n",
    "         'xgb_maxdepth': 10}"
   ]
  },
  {
   "cell_type": "code",
   "execution_count": null,
   "id": "8b801fbf-b23b-4c62-8e31-083cd3b5635f",
   "metadata": {
    "scrolled": true,
    "tags": []
   },
   "outputs": [],
   "source": [
    "%%time\n",
    "\n",
    "#EXECUTE model training\n",
    "\n",
    "kf = StratifiedKFold(n_splits=n_splits, random_state=1234, shuffle=True)\n",
    "kf.get_n_splits(X)\n",
    "models3 = pd.DataFrame(columns=['modelname', 'class_ratio'])\n",
    "summary_result3 = []\n",
    "cols = ['model_name', 'class_ratio', 'acc','spec','sens','auc', 'auprc', 'balance_accuracy', 'f1_score', 'ppv', 'npv']\n",
    "split_counter = 0\n",
    "\n",
    "#train model\n",
    "for train_index, test_index in kf.split(X, y):\n",
    "    #split data\n",
    "    X_train, X_test = X.iloc[train_index], X.iloc[test_index]\n",
    "    y_train, y_test = y.iloc[train_index], y.iloc[test_index]\n",
    "    \n",
    "    #Build models -> it can be commented if the models have been trained\n",
    "    models_temp = pd.DataFrame(build_models(X_train, y_train[target_outcome], params, split_counter), columns=['modelname', 'class_ratio'])\n",
    "    models3 = pd.concat([models3,models_temp]).reset_index(drop=True)\n",
    "    split_counter+=1\n",
    "        \n",
    "#evaluate model\n",
    "for modelname, classratio in models3.values:\n",
    "    # print('======================================================================')\n",
    "    print(modelname)\n",
    "    model = pickle.load(open('./models/'+ target_outcome + '/'+ modelname + '.sav', 'rb'))\n",
    "    summary_result3.append((str(model), classratio, ) + summariseResult (X_test, y_test[target_outcome], model) )       \n",
    "\n",
    "\n",
    "summary_result3 = pd.DataFrame(summary_result3, columns=cols)\n",
    "summary_result3['model_num'] = summary_result3.index\n",
    "# summary_result1['method_name'] = summary_result1.apply(lambda x: 'LR' if x.model_num%2 == 0 else 'XGBoost', axis=1)\n"
   ]
  },
  {
   "cell_type": "code",
   "execution_count": null,
   "id": "e27d5bb5-e42f-4ad0-9c59-af9b9f5645cb",
   "metadata": {},
   "outputs": [],
   "source": [
    "print(target_outcome)\n",
    "summary_result3['model_name'] = summary_result3.apply(lambda x: modelNameFixer(x.model_name), axis=1)\n",
    "summary_result3.groupby('model_name').mean().sort_values(['auc'], ascending=False)"
   ]
  },
  {
   "cell_type": "code",
   "execution_count": null,
   "id": "6365bfd3-728e-4071-9abd-d8b87135d795",
   "metadata": {},
   "outputs": [],
   "source": [
    "summary_result3.to_csv(\"summaryResult_outcome3.csv\")\n",
    "summary_result3 = pd.read_csv(\"summaryResult_outcome3.csv\")\n",
    "\n",
    "bar = sns.catplot(x = \"model_name\",       # x variable name\n",
    "            y = \"auc\",       # y variable name            \n",
    "            data = summary_result3,     # dataframe to plot\n",
    "            kind = \"bar\",\n",
    "            height=5,\n",
    "            aspect=5/2.5,\n",
    "            ci = None)\n",
    "ax = bar.facet_axis(0,0)\n",
    "for p in ax.patches:\n",
    "    ax.text(p.get_x() + 0.01, \n",
    "            p.get_height() * 1.01, \n",
    "            '{0:.4f}'.format(p.get_height()), \n",
    "            color='black', rotation='horizontal', fontsize=11)\n",
    "    \n",
    "# listOf_Yticks = np.arange(0.5, 0.7, 0.05)\n",
    "ax.set_ylim(0.4, 1)\n",
    "ax.set_ylabel('AUC Score', fontsize=11)\n",
    "ax.set_xlabel('Method', fontsize=11)"
   ]
  },
  {
   "cell_type": "code",
   "execution_count": null,
   "id": "722308db-b7ef-479b-b5fd-4f57a8ff1fa4",
   "metadata": {},
   "outputs": [],
   "source": [
    "best_model3 = pickle.load(open('./models/outcome_combined_12months/0DTModel.sav', 'rb'))\n",
    "\n",
    "# pd.DataFrame([best_model3.feature_importances_], columns=X.columns).T.sort_values(0, ascending=False)\n",
    "sorted_idx = best_model3.feature_importances_.argsort()\n",
    "plt.figure(figsize=(5,7))\n",
    "plt.barh(X.columns[sorted_idx][-10:], best_model3.feature_importances_[sorted_idx][-10:])\n",
    "plt.xlabel(\"Decision Tree Feature Importance\")\n",
    "plt.show()"
   ]
  },
  {
   "cell_type": "code",
   "execution_count": null,
   "id": "0d90e68e-3bb4-4768-9026-eaa1af12ef41",
   "metadata": {
    "tags": []
   },
   "outputs": [],
   "source": [
    "best_model3 = pickle.load(open('./models/outcome_combined_12months/0RFModel.sav', 'rb'))\n",
    "\n",
    "# pd.DataFrame([best_model3.feature_importances_], columns=X.columns).T.sort_values(0, ascending=False)\n",
    "sorted_idx = best_model3.feature_importances_.argsort()\n",
    "plt.figure(figsize=(5,7))\n",
    "plt.barh(X.columns[sorted_idx][-10:], best_model3.feature_importances_[sorted_idx][-10:])\n",
    "plt.xlabel(\"Random Forest Feature Importance\")\n",
    "plt.show()"
   ]
  },
  {
   "cell_type": "code",
   "execution_count": null,
   "id": "63e290ea-fbf1-42bd-b7db-4712fdf65e11",
   "metadata": {
    "tags": []
   },
   "outputs": [],
   "source": [
    "best_model3 = pickle.load(open('./models/outcome_combined_12months/0XGBoostModel.sav', 'rb'))\n",
    "\n",
    "# pd.DataFrame([best_model3.feature_importances_], columns=X.columns).T.sort_values(0, ascending=False)\n",
    "sorted_idx = best_model3.feature_importances_.argsort()\n",
    "plt.figure(figsize=(5,7))\n",
    "plt.barh(X.columns[sorted_idx][-10:], best_model3.feature_importances_[sorted_idx][-10:])\n",
    "plt.xlabel(\"XGBoost Feature Importance\")\n",
    "plt.show()"
   ]
  }
 ],
 "metadata": {
  "kernelspec": {
   "display_name": "Python 3 (ipykernel)",
   "language": "python",
   "name": "python3"
  },
  "language_info": {
   "codemirror_mode": {
    "name": "ipython",
    "version": 3
   },
   "file_extension": ".py",
   "mimetype": "text/x-python",
   "name": "python",
   "nbconvert_exporter": "python",
   "pygments_lexer": "ipython3",
   "version": "3.10.11"
  }
 },
 "nbformat": 4,
 "nbformat_minor": 5
}
