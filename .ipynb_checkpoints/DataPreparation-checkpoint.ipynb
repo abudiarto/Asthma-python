{
 "cells": [
  {
   "cell_type": "code",
   "execution_count": 1,
   "id": "dd434039-7bdb-4bb4-83d3-64b6d540487a",
   "metadata": {
    "tags": []
   },
   "outputs": [],
   "source": [
    "import pandas as pd\n",
    "import pyreadr\n",
    "import numpy as np\n",
    "import pickle"
   ]
  },
  {
   "cell_type": "code",
   "execution_count": 2,
   "id": "a14d36c1-1789-4890-8231-6ff90e7be8e2",
   "metadata": {
    "tags": []
   },
   "outputs": [
    {
     "name": "stderr",
     "output_type": "stream",
     "text": [
      "/tmp/ipykernel_216/826744712.py:2: DtypeWarning: Columns (26,27,29,30,33,34) have mixed types. Specify dtype option on import or set low_memory=False.\n",
      "  features = pd.read_csv('../FinalData/data_features_2vs1_15022024.csv')\n"
     ]
    },
    {
     "data": {
      "text/plain": [
       "Index(['patid', 'practice_id', 'sex', 'age', 'BMI', 'weight', 'height',\n",
       "       'ethnicity', 'ethnic_group', 'smokingStatus', 'CharlsonScore',\n",
       "       'count_rhinitis', 'count_cardiovascular', 'count_heartfailure',\n",
       "       'count_psoriasis', 'count_anaphylaxis', 'count_diabetes', 'count_ihd',\n",
       "       'count_anxiety', 'count_eczema', 'count_nasalpolyps',\n",
       "       'count_paracetamol', 'count_nsaids', 'count_betablocker', 'id',\n",
       "       'event_date', 'recorded_date', 'visit_id', 'code_id', 'snomed_id',\n",
       "       'numeric_1', 'numeric_2', 'created_datetime', 'updated_datetime',\n",
       "       'PEFStatus', 'EosinophilLevel', 'BTS_step', 'average_daily_dose_ICS',\n",
       "       'prescribed_daily_dose_ICS', 'ICS_medication_possesion_ratio',\n",
       "       'DeviceType', 'Spacer', 'numOCS', 'PriorEducation', 'numPCS',\n",
       "       'numPCSAsthma', 'numAntibioticsEvents', 'numAntibioticswithLRTI',\n",
       "       'numOCSEvents', 'numOCSwithLRTI', 'numAsthmaAttacks',\n",
       "       'numAcuteRespEvents', 'numHospEvents', 'month_12', 'month_1', 'month_3',\n",
       "       'month_4', 'month_5', 'month_7', 'month_10', 'month_6', 'month_11',\n",
       "       'month_9', 'month_2', 'month_8'],\n",
       "      dtype='object')"
      ]
     },
     "execution_count": 2,
     "metadata": {},
     "output_type": "execute_result"
    }
   ],
   "source": [
    "#load features data\n",
    "features = pd.read_csv('../FinalData/data_features_2vs1_15022024.csv')\n",
    "features = features.iloc[:,1:]\n",
    "features.columns"
   ]
  },
  {
   "cell_type": "code",
   "execution_count": 3,
   "id": "6f0ba0c5-8832-454a-b8e1-3b60c6d1931e",
   "metadata": {
    "tags": []
   },
   "outputs": [],
   "source": [
    "features = features.drop_duplicates('patid')"
   ]
  },
  {
   "cell_type": "code",
   "execution_count": 4,
   "id": "42715aa7-52c9-4742-b705-97b463d48dca",
   "metadata": {
    "tags": []
   },
   "outputs": [
    {
     "name": "stderr",
     "output_type": "stream",
     "text": [
      "/opt/conda/envs/rapids/lib/python3.10/site-packages/pyreadr/_pyreadr_parser.py:233: RuntimeWarning: invalid value encountered in cast\n",
      "  df[colname] = df[colname].values.astype(\"datetime64[D]\").astype(datetime)\n"
     ]
    },
    {
     "data": {
      "text/plain": [
       "(732472, 72)"
      ]
     },
     "execution_count": 4,
     "metadata": {},
     "output_type": "execute_result"
    }
   ],
   "source": [
    "#add paractice information\n",
    "\n",
    "def fix_system(x): #clean system variable\n",
    "    if ('SystmOne' in x):\n",
    "        return 'SystemOne'\n",
    "    elif ('emis' in x) | ('Emis' in x) | ('EMIS' in x):\n",
    "        return 'EMIS'\n",
    "    elif ('Vision' in x):\n",
    "        return 'Vision'\n",
    "    elif ('iSoft' in x):\n",
    "        return 'iSoft'\n",
    "    elif ('Microtest' in x):\n",
    "        return 'Microtest'\n",
    "    else:\n",
    "        return 'unknown'\n",
    "    \n",
    "\n",
    "    \n",
    "practice = pyreadr.read_r('../ServerData_13Oct2020/d_practice.Rdata')\n",
    "practice = practice['d_practice']\n",
    "practice['system'] = practice.apply(lambda x: fix_system(x.system), axis=1)\n",
    "\n",
    "features = features.merge(practice[['practice_id','postcode_district','imd_decile','Country','County','LocalAuthority','OutputAreaClassification', 'system']], on='practice_id',how='left')\n",
    "features.reset_index(drop=True, inplace=True)\n",
    "features.shape"
   ]
  },
  {
   "cell_type": "code",
   "execution_count": 5,
   "id": "406e8338-b046-4e23-bbc8-5ae0f4be6d0c",
   "metadata": {
    "tags": []
   },
   "outputs": [
    {
     "name": "stdout",
     "output_type": "stream",
     "text": [
      "(724438, 72)\n",
      "train : 697668\n",
      "val : 26770\n"
     ]
    }
   ],
   "source": [
    "#BASE DATA\n",
    "#extract patients from England, Wales, Scotland\n",
    "features = features[(features.Country == 'England') |(features.Country == 'Wales') | (features.Country == 'Scotland')]\n",
    "print(features.shape)\n",
    "print('train :', features[features.Country == 'England'].shape[0])\n",
    "print('val :', features[(features.Country == 'Wales') | (features.Country == 'Scotland')].shape[0])\n",
    "features.reset_index(inplace=True, drop=True)"
   ]
  },
  {
   "cell_type": "code",
   "execution_count": 6,
   "id": "9183f0b2-42f8-4870-aca1-d2b0c45f9d3a",
   "metadata": {
    "tags": []
   },
   "outputs": [
    {
     "name": "stdout",
     "output_type": "stream",
     "text": [
      "new N:  720611\n",
      "diff:  3827\n",
      "train : 693841\n",
      "val : 26770\n",
      "diff train:  3827\n",
      "diff val:  0\n"
     ]
    }
   ],
   "source": [
    "# SEX drop NA\n",
    "temp = features.dropna(subset=('sex'))\n",
    "print('new N: ', temp.shape[0])\n",
    "print('diff: ', features.shape[0] - temp.shape[0])\n",
    "print('train :', temp[temp.Country == 'England'].shape[0])\n",
    "print('val :', temp[(temp.Country == 'Wales') | (temp.Country == 'Scotland')].shape[0])\n",
    "print('diff train: ', features[features.Country == 'England'].shape[0] - temp[temp.Country == 'England'].shape[0])\n",
    "print('diff val: ', features[(features.Country == 'Wales') | (features.Country == 'Scotland')].shape[0] - temp[(temp.Country == 'Wales') | (temp.Country == 'Scotland')].shape[0])\n",
    "features = temp\n",
    "features.reset_index(drop=True, inplace=True)"
   ]
  },
  {
   "cell_type": "code",
   "execution_count": 7,
   "id": "34a093f4-661d-4733-aa34-a6dfd7eb6fb0",
   "metadata": {
    "tags": []
   },
   "outputs": [
    {
     "name": "stdout",
     "output_type": "stream",
     "text": [
      "Missing BMI:  62221\n"
     ]
    }
   ],
   "source": [
    "print('Missing BMI: ', features[features.height.isna()].shape[0])"
   ]
  },
  {
   "cell_type": "code",
   "execution_count": 8,
   "id": "185eb250-1da7-41de-82b9-f36eb674c018",
   "metadata": {
    "tags": []
   },
   "outputs": [
    {
     "name": "stderr",
     "output_type": "stream",
     "text": [
      "/tmp/ipykernel_216/1773957297.py:3: SettingWithCopyWarning: \n",
      "A value is trying to be set on a copy of a slice from a DataFrame\n",
      "\n",
      "See the caveats in the documentation: https://pandas.pydata.org/pandas-docs/stable/user_guide/indexing.html#returning-a-view-versus-a-copy\n",
      "  temp['BMI'][temp.BMI.isna()] = 0\n",
      "/tmp/ipykernel_216/1773957297.py:3: SettingWithCopyWarning: \n",
      "A value is trying to be set on a copy of a slice from a DataFrame\n",
      "\n",
      "See the caveats in the documentation: https://pandas.pydata.org/pandas-docs/stable/user_guide/indexing.html#returning-a-view-versus-a-copy\n",
      "  temp['BMI'][temp.BMI.isna()] = 0\n"
     ]
    },
    {
     "name": "stdout",
     "output_type": "stream",
     "text": [
      "new N:  697533\n",
      "diff:  23078\n",
      "train : 671479\n",
      "val : 26054\n",
      "diff train:  22362\n",
      "diff val:  716\n"
     ]
    }
   ],
   "source": [
    "# BMI include only 15-75 and code NA as 0 (not recorded)\n",
    "temp = features[((features.BMI >= 15) & (features.BMI <= 75))|(features.BMI.isna())]\n",
    "temp['BMI'][temp.BMI.isna()] = 0\n",
    "print('new N: ', temp.shape[0])\n",
    "print('diff: ', features.shape[0] - temp.shape[0])\n",
    "print('train :', temp[temp.Country == 'England'].shape[0])\n",
    "print('val :', temp[(temp.Country == 'Wales') | (temp.Country == 'Scotland')].shape[0])\n",
    "print('diff train: ', features[features.Country == 'England'].shape[0] - temp[temp.Country == 'England'].shape[0])\n",
    "print('diff val: ', features[(features.Country == 'Wales') | (features.Country == 'Scotland')].shape[0] - temp[(temp.Country == 'Wales') | (temp.Country == 'Scotland')].shape[0])\n",
    "features = temp\n",
    "features = temp\n",
    "features.reset_index(drop=True, inplace=True)"
   ]
  },
  {
   "cell_type": "code",
   "execution_count": 9,
   "id": "dccdceb1-df9d-4ff7-823e-6fd62d4792c4",
   "metadata": {
    "tags": []
   },
   "outputs": [
    {
     "name": "stdout",
     "output_type": "stream",
     "text": [
      "new N:  633601\n",
      "diff:  63932\n",
      "train : 609708\n",
      "val : 23893\n",
      "diff train:  61771\n",
      "diff val:  2161\n"
     ]
    }
   ],
   "source": [
    "# Include only 8-80 years old\n",
    "temp = features[(features.age >= 8) & (features.age <= 80)]\n",
    "print('new N: ', temp.shape[0])\n",
    "print('diff: ', features.shape[0] - temp.shape[0])\n",
    "print('train :', temp[temp.Country == 'England'].shape[0])\n",
    "print('val :', temp[(temp.Country == 'Wales') | (temp.Country == 'Scotland')].shape[0])\n",
    "print('diff train: ', features[features.Country == 'England'].shape[0] - temp[temp.Country == 'England'].shape[0])\n",
    "print('diff val: ', features[(features.Country == 'Wales') | (features.Country == 'Scotland')].shape[0] - temp[(temp.Country == 'Wales') | (temp.Country == 'Scotland')].shape[0])\n",
    "features = temp\n",
    "features.reset_index(drop=True, inplace=True)"
   ]
  },
  {
   "cell_type": "code",
   "execution_count": 10,
   "id": "33cff9e7-c83d-4403-a98f-b081ddd98fd0",
   "metadata": {
    "tags": []
   },
   "outputs": [
    {
     "name": "stdout",
     "output_type": "stream",
     "text": [
      "new N:  633601\n",
      "diff:  0\n"
     ]
    }
   ],
   "source": [
    "# replace NA in ethnicity and ethnic_group with 'not_recorded'\n",
    "features.ethnicity[features.ethnic_group.isna()] = 'not_recorded'\n",
    "features.ethnic_group[features.ethnic_group.isna()] = 'not_recorded'\n",
    "features.reset_index(inplace=True, drop=True)\n",
    "print('new N: ', temp.shape[0])\n",
    "print('diff: ', features.shape[0] - temp.shape[0])"
   ]
  },
  {
   "cell_type": "code",
   "execution_count": 11,
   "id": "52400210-86cd-435c-b238-6dbfa8d5d2a2",
   "metadata": {
    "tags": []
   },
   "outputs": [
    {
     "name": "stdout",
     "output_type": "stream",
     "text": [
      "new N:  633601\n",
      "diff:  0\n"
     ]
    }
   ],
   "source": [
    "#for smoking, anyone with no record, consider them non-smoker\n",
    "features.smokingStatus[features.smokingStatus.isna()] = 'never'\n",
    "features.reset_index(inplace=True, drop=True)\n",
    "print('new N: ', temp.shape[0])\n",
    "print('diff: ', features.shape[0] - temp.shape[0])"
   ]
  },
  {
   "cell_type": "code",
   "execution_count": 12,
   "id": "09ada55c-f745-4926-a2fe-8043b2e9f071",
   "metadata": {
    "tags": []
   },
   "outputs": [
    {
     "name": "stdout",
     "output_type": "stream",
     "text": [
      "new N:  633601\n",
      "diff:  0\n"
     ]
    }
   ],
   "source": [
    "#for PEF, re-assign those with no data as a 'not_recorded'\n",
    "features.PEFStatus[features.PEFStatus.isna()] = 'not_recorded'\n",
    "features.reset_index(inplace=True, drop=True)\n",
    "print('new N: ', temp.shape[0])\n",
    "print('diff: ', features.shape[0] - temp.shape[0])"
   ]
  },
  {
   "cell_type": "code",
   "execution_count": 13,
   "id": "aa2444bc-a0eb-4ff2-a169-506b46109d3e",
   "metadata": {
    "tags": []
   },
   "outputs": [
    {
     "name": "stdout",
     "output_type": "stream",
     "text": [
      "new N:  633601\n",
      "diff:  0\n"
     ]
    }
   ],
   "source": [
    "#for Eosinophil, re-assign those with no data as a 'unknown'\n",
    "features.EosinophilLevel[features.EosinophilLevel.isna()] = 'unknown'\n",
    "features.reset_index(inplace=True, drop=True)\n",
    "print('new N: ', temp.shape[0])\n",
    "print('diff: ', features.shape[0] - temp.shape[0])"
   ]
  },
  {
   "cell_type": "code",
   "execution_count": 14,
   "id": "24bbc519-daf6-4ee7-8a35-6fdf069cad3e",
   "metadata": {
    "tags": []
   },
   "outputs": [
    {
     "name": "stdout",
     "output_type": "stream",
     "text": [
      "new N:  633601\n",
      "diff:  0\n"
     ]
    }
   ],
   "source": [
    "#for Device type, re-assign those with no data as a 'unknown'\n",
    "features.DeviceType[features.DeviceType.isna()] = 'unknown'\n",
    "features.reset_index(inplace=True, drop=True)\n",
    "print('new N: ', temp.shape[0])\n",
    "print('diff: ', features.shape[0] - temp.shape[0])"
   ]
  },
  {
   "cell_type": "code",
   "execution_count": 15,
   "id": "8d3ca2ae-13ef-4dad-83fb-9f09ca7069ce",
   "metadata": {
    "tags": []
   },
   "outputs": [
    {
     "name": "stdout",
     "output_type": "stream",
     "text": [
      "new N:  633601\n",
      "diff:  0\n"
     ]
    }
   ],
   "source": [
    "#BTS Step (if none recorded, it means that they are at step 0\n",
    "features.BTS_step[features.BTS_step.isna()] = 0\n",
    "features.reset_index(inplace=True, drop=True)\n",
    "print('new N: ', temp.shape[0])\n",
    "print('diff: ', features.shape[0] - temp.shape[0])"
   ]
  },
  {
   "cell_type": "code",
   "execution_count": 16,
   "id": "a2c00222-921a-46c9-b6b2-25d773725bdc",
   "metadata": {
    "tags": []
   },
   "outputs": [
    {
     "data": {
      "text/plain": [
       "Index(['month_12', 'month_1', 'month_3', 'month_4', 'month_5', 'month_7',\n",
       "       'month_10', 'month_6', 'month_11', 'month_9', 'month_2', 'month_8'],\n",
       "      dtype='object')"
      ]
     },
     "execution_count": 16,
     "metadata": {},
     "output_type": "execute_result"
    }
   ],
   "source": [
    "features.columns[features.columns.str.contains('month')]"
   ]
  },
  {
   "cell_type": "code",
   "execution_count": 17,
   "id": "aa064a85-2840-4c8f-8223-18cbbe9b902a",
   "metadata": {
    "tags": []
   },
   "outputs": [
    {
     "name": "stdout",
     "output_type": "stream",
     "text": [
      "month_12\n",
      "month_1\n",
      "month_3\n",
      "month_4\n",
      "month_5\n",
      "month_7\n",
      "month_10\n",
      "month_6\n",
      "month_11\n",
      "month_9\n",
      "month_2\n",
      "month_8\n",
      "new N:  633601\n",
      "diff:  0\n"
     ]
    }
   ],
   "source": [
    "#asthma attack month (NA to zero)\n",
    "month_cols = features.columns[features.columns.str.contains('month')]\n",
    "for col in month_cols:\n",
    "    print(col)\n",
    "    features[col][features[col].isna()] = 0\n",
    "features.reset_index(inplace=True, drop=True)\n",
    "print('new N: ', temp.shape[0])\n",
    "print('diff: ', features.shape[0] - temp.shape[0])"
   ]
  },
  {
   "cell_type": "code",
   "execution_count": 18,
   "id": "444f788f-8078-4ebf-b32a-fcfea329c3c5",
   "metadata": {
    "tags": []
   },
   "outputs": [
    {
     "name": "stdout",
     "output_type": "stream",
     "text": [
      "new N:  633601\n",
      "diff:  0\n"
     ]
    }
   ],
   "source": [
    "#do the same thing for other continuous vars\n",
    "features.average_daily_dose_ICS[features.average_daily_dose_ICS.isna()] = 0\n",
    "features.prescribed_daily_dose_ICS[features.prescribed_daily_dose_ICS.isna()] = 0\n",
    "features.ICS_medication_possesion_ratio[features.ICS_medication_possesion_ratio.isna()] = 0\n",
    "features.Spacer[features.Spacer.isna()] = 0\n",
    "features.numOCS[features.numOCS.isna()] = 0\n",
    "features.numPCS[features.numPCS.isna()] = 0\n",
    "features.numAntibioticsEvents[features.numAntibioticsEvents.isna()] = 0\n",
    "features.numAntibioticswithLRTI[features.numAntibioticswithLRTI.isna()] = 0\n",
    "features.numOCSEvents[features.numOCSEvents.isna()] = 0\n",
    "features.numOCSwithLRTI[features.numOCSwithLRTI.isna()] = 0\n",
    "features.numAsthmaAttacks[features.numAsthmaAttacks.isna()] = 0\n",
    "features.numAcuteRespEvents[features.numAcuteRespEvents.isna()] = 0\n",
    "features.PriorEducation[features.PriorEducation.isna()] = 0\n",
    "features.numPCSAsthma[features.numPCSAsthma.isna()] = 0\n",
    "features.CharlsonScore[features.CharlsonScore.isna()] = 0\n",
    "features.numHospEvents[features.numHospEvents.isna()] = 0\n",
    "features.reset_index(inplace=True, drop=True)\n",
    "print('new N: ', temp.shape[0])\n",
    "print('diff: ', features.shape[0] - temp.shape[0])"
   ]
  },
  {
   "cell_type": "code",
   "execution_count": 19,
   "id": "afa5cfda-53b6-4c62-bead-1c8dbeabba6e",
   "metadata": {
    "tags": []
   },
   "outputs": [
    {
     "data": {
      "text/plain": [
       "Index(['patid', 'practice_id', 'sex', 'age', 'BMI', 'weight', 'height',\n",
       "       'ethnicity', 'ethnic_group', 'smokingStatus', 'CharlsonScore',\n",
       "       'count_rhinitis', 'count_cardiovascular', 'count_heartfailure',\n",
       "       'count_psoriasis', 'count_anaphylaxis', 'count_diabetes', 'count_ihd',\n",
       "       'count_anxiety', 'count_eczema', 'count_nasalpolyps',\n",
       "       'count_paracetamol', 'count_nsaids', 'count_betablocker', 'id',\n",
       "       'event_date', 'recorded_date', 'visit_id', 'code_id', 'snomed_id',\n",
       "       'numeric_1', 'numeric_2', 'created_datetime', 'updated_datetime',\n",
       "       'PEFStatus', 'EosinophilLevel', 'BTS_step', 'average_daily_dose_ICS',\n",
       "       'prescribed_daily_dose_ICS', 'ICS_medication_possesion_ratio',\n",
       "       'DeviceType', 'Spacer', 'numOCS', 'PriorEducation', 'numPCS',\n",
       "       'numPCSAsthma', 'numAntibioticsEvents', 'numAntibioticswithLRTI',\n",
       "       'numOCSEvents', 'numOCSwithLRTI', 'numAsthmaAttacks',\n",
       "       'numAcuteRespEvents', 'numHospEvents', 'month_12', 'month_1', 'month_3',\n",
       "       'month_4', 'month_5', 'month_7', 'month_10', 'month_6', 'month_11',\n",
       "       'month_9', 'month_2', 'month_8', 'postcode_district', 'imd_decile',\n",
       "       'Country', 'County', 'LocalAuthority', 'OutputAreaClassification',\n",
       "       'system'],\n",
       "      dtype='object')"
      ]
     },
     "execution_count": 19,
     "metadata": {},
     "output_type": "execute_result"
    }
   ],
   "source": [
    "features.columns"
   ]
  },
  {
   "cell_type": "code",
   "execution_count": null,
   "id": "8105eb95-002d-41d6-b746-2b2d495fdf70",
   "metadata": {},
   "outputs": [],
   "source": []
  },
  {
   "cell_type": "markdown",
   "id": "81e3c07e-c238-40f9-b9e3-ae14c39b0070",
   "metadata": {},
   "source": [
    "## Categorized cont vars"
   ]
  },
  {
   "cell_type": "code",
   "execution_count": 20,
   "id": "ed775dc2-a651-44a5-a120-f940ad200a5c",
   "metadata": {
    "tags": []
   },
   "outputs": [
    {
     "data": {
      "text/plain": [
       "(633601, 73)"
      ]
     },
     "execution_count": 20,
     "metadata": {},
     "output_type": "execute_result"
    }
   ],
   "source": [
    "#BMI\n",
    "def cat_bmi(x):\n",
    "    if (x==0):\n",
    "        return 'not recorded'\n",
    "    elif (x>=15) & (x<18.5):\n",
    "        return 'underweight'\n",
    "    elif (x>=18.5) & (x<25):\n",
    "        return 'normal'\n",
    "    elif (x>=25) & (x<30):\n",
    "        return 'overweight'\n",
    "    elif (x>=30):\n",
    "        return 'obese'\n",
    "    \n",
    "    \n",
    "features['cat_BMI'] = features.BMI.apply(lambda x: cat_bmi(x))\n",
    "features.reset_index(inplace=True, drop=True)\n",
    "features.shape"
   ]
  },
  {
   "cell_type": "code",
   "execution_count": 21,
   "id": "23a633bb-d74b-450b-b5de-477ad187b2a3",
   "metadata": {
    "tags": []
   },
   "outputs": [
    {
     "data": {
      "text/plain": [
       "(633601, 74)"
      ]
     },
     "execution_count": 21,
     "metadata": {},
     "output_type": "execute_result"
    }
   ],
   "source": [
    "#Age\n",
    "def cat_age(x):\n",
    "    if (x<18):\n",
    "        return '<18'\n",
    "    elif (x>=18) & (x<35):\n",
    "        return '18-34'\n",
    "    elif (x>=35) & (x<55):\n",
    "        return '35-54'\n",
    "    elif (x>=55) & (x<75):\n",
    "        return '55-74'\n",
    "    elif (x>=75):\n",
    "        return '>=75'\n",
    "    \n",
    "features['cat_age'] = features.age.apply(lambda x: cat_age(x))\n",
    "features.reset_index(inplace=True, drop=True)\n",
    "features.shape"
   ]
  },
  {
   "cell_type": "code",
   "execution_count": 22,
   "id": "e0f5975e-7e55-4469-b4ee-acdf002d485b",
   "metadata": {
    "tags": []
   },
   "outputs": [
    {
     "data": {
      "text/plain": [
       "(633601, 74)"
      ]
     },
     "execution_count": 22,
     "metadata": {},
     "output_type": "execute_result"
    }
   ],
   "source": [
    "#Smoking\n",
    "def cat_smoking(x):\n",
    "    if (x=='never'):\n",
    "        return 'Non Smoker'\n",
    "    elif (x=='former'):\n",
    "        return 'Former Smoker'\n",
    "    elif (x=='current'):\n",
    "        return 'Active Smoker'\n",
    "features['smokingStatus'] = features.smokingStatus.apply(lambda x: cat_smoking(x))\n",
    "features.reset_index(inplace=True, drop=True)\n",
    "features.shape"
   ]
  },
  {
   "cell_type": "code",
   "execution_count": 23,
   "id": "0948ce52-6280-46d0-b280-54acc9c48041",
   "metadata": {
    "tags": []
   },
   "outputs": [
    {
     "data": {
      "text/plain": [
       "Non Smoker       326692\n",
       "Active Smoker    156060\n",
       "Former Smoker    150849\n",
       "Name: smokingStatus, dtype: int64"
      ]
     },
     "execution_count": 23,
     "metadata": {},
     "output_type": "execute_result"
    }
   ],
   "source": [
    "features.smokingStatus.value_counts()"
   ]
  },
  {
   "cell_type": "code",
   "execution_count": 24,
   "id": "275c0bc8-1320-4246-bd71-159be12b7cf7",
   "metadata": {
    "tags": []
   },
   "outputs": [
    {
     "data": {
      "text/plain": [
       "(633601, 76)"
      ]
     },
     "execution_count": 24,
     "metadata": {},
     "output_type": "execute_result"
    }
   ],
   "source": [
    "#Average daily ICS\n",
    "def cat_ics(x):\n",
    "    if (x==0):\n",
    "        return '0'\n",
    "    elif (x>=1) & (x<=200):\n",
    "        return '1-200'\n",
    "    elif (x>200) & (x<=400):\n",
    "        return '201-400'\n",
    "    elif (x>400):\n",
    "        return '>400'\n",
    "    \n",
    "features['cat_average_daily_dose_ICS'] = features.average_daily_dose_ICS.apply(lambda x: cat_ics(x))\n",
    "features['cat_prescribed_daily_dose_ICS'] = features.prescribed_daily_dose_ICS.apply(lambda x: cat_ics(x))\n",
    "features.reset_index(inplace=True, drop=True)\n",
    "features.shape\n"
   ]
  },
  {
   "cell_type": "code",
   "execution_count": 25,
   "id": "05166545-fd65-463d-9605-ceb4f813bafa",
   "metadata": {
    "tags": []
   },
   "outputs": [
    {
     "name": "stdout",
     "output_type": "stream",
     "text": [
      "new N:  633476\n",
      "diff:  125\n",
      "train : 609593\n",
      "val : 23883\n",
      "diff train:  115\n",
      "diff val:  10\n"
     ]
    }
   ],
   "source": [
    "#clean ICS medication ratio\n",
    "temp = features.drop(features[features.ICS_medication_possesion_ratio==np.inf].index)\n",
    "print('new N: ', temp.shape[0])\n",
    "print('diff: ', features.shape[0] - temp.shape[0])\n",
    "print('train :', temp[temp.Country == 'England'].shape[0])\n",
    "print('val :', temp[(temp.Country == 'Wales') | (temp.Country == 'Scotland')].shape[0])\n",
    "print('diff train: ', features[features.Country == 'England'].shape[0] - temp[temp.Country == 'England'].shape[0])\n",
    "print('diff val: ', features[(features.Country == 'Wales') | (features.Country == 'Scotland')].shape[0] - temp[(temp.Country == 'Wales') | (temp.Country == 'Scotland')].shape[0])\n",
    "features.reset_index(inplace=True, drop=True)\n",
    "features = temp\n"
   ]
  },
  {
   "cell_type": "code",
   "execution_count": 26,
   "id": "88fde7e9-4012-4521-90bd-70e86bb4fe98",
   "metadata": {
    "tags": []
   },
   "outputs": [
    {
     "data": {
      "text/plain": [
       "(633476, 77)"
      ]
     },
     "execution_count": 26,
     "metadata": {},
     "output_type": "execute_result"
    }
   ],
   "source": [
    "#cat ICS medication ratio\n",
    "def cat_ics_medication(x):\n",
    "    if x==0:\n",
    "        return 'No ICS Prescribed'\n",
    "    elif (x>0) & (x<0.40):\n",
    "        return '>0%-39.9%'\n",
    "    elif (x>=0.40) & (x<.60):\n",
    "        return '40%-59.9%'\n",
    "    elif (x>0.60) :\n",
    "        return '>=60%'\n",
    "    \n",
    "features['cat_ICS_medication_possesion_ratio'] = features.ICS_medication_possesion_ratio.apply(lambda x: cat_ics_medication(x))\n",
    "features.reset_index(inplace=True, drop=True)\n",
    "features.shape\n"
   ]
  },
  {
   "cell_type": "code",
   "execution_count": 27,
   "id": "6173ed3a-efff-412f-81e5-a07020f293a9",
   "metadata": {
    "tags": []
   },
   "outputs": [
    {
     "data": {
      "text/plain": [
       "(633476, 87)"
      ]
     },
     "execution_count": 27,
     "metadata": {},
     "output_type": "execute_result"
    }
   ],
   "source": [
    "#cat other continuous vars\n",
    "def cat_continuous(x):\n",
    "    if x==0:\n",
    "        return '0'\n",
    "    elif x==1:\n",
    "        return '1'\n",
    "    elif x==2:\n",
    "        return '2'\n",
    "    elif (x>2) :\n",
    "        return '>=3'\n",
    "    \n",
    "features['cat_numOCS'] = features.numOCS.apply(lambda x: cat_continuous(x))\n",
    "features['cat_numOCSEvents'] = features.numOCSEvents.apply(lambda x: cat_continuous(x))\n",
    "features['cat_numOCSwithLRTI'] = features.numOCSwithLRTI.apply(lambda x: cat_continuous(x))\n",
    "features['cat_numAcuteRespEvents'] = features.numAcuteRespEvents.apply(lambda x: cat_continuous(x))\n",
    "features['cat_numAntibioticsEvents'] = features.numAntibioticsEvents.apply(lambda x: cat_continuous(x))\n",
    "features['cat_numAntibioticswithLRTI'] = features.numAntibioticswithLRTI.apply(lambda x: cat_continuous(x))\n",
    "features['cat_numAsthmaAttacks'] = features.numAsthmaAttacks.apply(lambda x: cat_continuous(x))\n",
    "features['cat_numHospEvents'] = features.numHospEvents.apply(lambda x: cat_continuous(x))\n",
    "features['cat_numPCS'] = features.numPCS.apply(lambda x: cat_continuous(x))\n",
    "features['cat_numPCSAsthma'] = features.numPCSAsthma.apply(lambda x: cat_continuous(x))\n",
    "features.reset_index(inplace=True, drop=True)\n",
    "features.shape"
   ]
  },
  {
   "cell_type": "code",
   "execution_count": 28,
   "id": "bc492da3-4f88-49df-a7ce-4104955436bc",
   "metadata": {
    "tags": []
   },
   "outputs": [
    {
     "data": {
      "text/plain": [
       "Index(['patid', 'practice_id', 'sex', 'age', 'BMI', 'weight', 'height',\n",
       "       'ethnicity', 'ethnic_group', 'smokingStatus', 'CharlsonScore',\n",
       "       'count_rhinitis', 'count_cardiovascular', 'count_heartfailure',\n",
       "       'count_psoriasis', 'count_anaphylaxis', 'count_diabetes', 'count_ihd',\n",
       "       'count_anxiety', 'count_eczema', 'count_nasalpolyps',\n",
       "       'count_paracetamol', 'count_nsaids', 'count_betablocker', 'id',\n",
       "       'event_date', 'recorded_date', 'visit_id', 'code_id', 'snomed_id',\n",
       "       'numeric_1', 'numeric_2', 'created_datetime', 'updated_datetime',\n",
       "       'PEFStatus', 'EosinophilLevel', 'BTS_step', 'average_daily_dose_ICS',\n",
       "       'prescribed_daily_dose_ICS', 'ICS_medication_possesion_ratio',\n",
       "       'DeviceType', 'Spacer', 'numOCS', 'PriorEducation', 'numPCS',\n",
       "       'numPCSAsthma', 'numAntibioticsEvents', 'numAntibioticswithLRTI',\n",
       "       'numOCSEvents', 'numOCSwithLRTI', 'numAsthmaAttacks',\n",
       "       'numAcuteRespEvents', 'numHospEvents', 'month_12', 'month_1', 'month_3',\n",
       "       'month_4', 'month_5', 'month_7', 'month_10', 'month_6', 'month_11',\n",
       "       'month_9', 'month_2', 'month_8', 'postcode_district', 'imd_decile',\n",
       "       'Country', 'County', 'LocalAuthority', 'OutputAreaClassification',\n",
       "       'system', 'cat_BMI', 'cat_age', 'cat_average_daily_dose_ICS',\n",
       "       'cat_prescribed_daily_dose_ICS', 'cat_ICS_medication_possesion_ratio',\n",
       "       'cat_numOCS', 'cat_numOCSEvents', 'cat_numOCSwithLRTI',\n",
       "       'cat_numAcuteRespEvents', 'cat_numAntibioticsEvents',\n",
       "       'cat_numAntibioticswithLRTI', 'cat_numAsthmaAttacks',\n",
       "       'cat_numHospEvents', 'cat_numPCS', 'cat_numPCSAsthma'],\n",
       "      dtype='object')"
      ]
     },
     "execution_count": 28,
     "metadata": {},
     "output_type": "execute_result"
    }
   ],
   "source": [
    "features.columns"
   ]
  },
  {
   "cell_type": "code",
   "execution_count": 29,
   "id": "7f3b5642-cf16-485d-8ecb-03d752f079d4",
   "metadata": {
    "tags": []
   },
   "outputs": [],
   "source": [
    "features.loc[features['count_paracetamol'].isna(),col] = 0"
   ]
  },
  {
   "cell_type": "code",
   "execution_count": 30,
   "id": "8dfd41a4-2ebc-43dc-934b-21a1902a11aa",
   "metadata": {
    "tags": []
   },
   "outputs": [
    {
     "name": "stdout",
     "output_type": "stream",
     "text": [
      "count_rhinitis\n",
      "count_cardiovascular\n",
      "count_heartfailure\n",
      "count_psoriasis\n",
      "count_anaphylaxis\n",
      "count_diabetes\n",
      "count_ihd\n",
      "count_anxiety\n",
      "count_eczema\n",
      "count_nasalpolyps\n",
      "count_paracetamol\n",
      "count_nsaids\n",
      "count_betablocker\n"
     ]
    }
   ],
   "source": [
    "# clean comorbidity and comedication -> NA to 0\n",
    "com_columns = features.columns[features.columns.str.contains('count')]\n",
    "for col in com_columns:\n",
    "    print(col)\n",
    "    # features.loc[features[col].isna(),col] = 0\n",
    "    \n",
    "features.reset_index(inplace=True, drop=True)"
   ]
  },
  {
   "cell_type": "code",
   "execution_count": 31,
   "id": "85e34a96-e027-4377-b794-85d6f85490db",
   "metadata": {
    "tags": []
   },
   "outputs": [],
   "source": [
    "#transform comorbidity and comedication into binary\n",
    "def count2cat(x):\n",
    "    if x == 0:\n",
    "        return 0\n",
    "    else:\n",
    "        return 1\n",
    "        \n",
    "countVars = features.columns[features.columns.str.contains('count')]\n",
    "for var in countVars:\n",
    "    features[var.split('_')[1]] = features.apply(lambda x: count2cat(x[var]), axis=1)\n",
    "features.reset_index(inplace=True, drop=True)"
   ]
  },
  {
   "cell_type": "code",
   "execution_count": 32,
   "id": "9decadda-bad2-4024-afd2-ebe249f3ce43",
   "metadata": {
    "tags": []
   },
   "outputs": [],
   "source": [
    "# Clean imd_decile, NA to 0\n",
    "features.loc[features['imd_decile'].isna(),'imd_decile'] = 0\n",
    "features.reset_index(inplace=True, drop=True)"
   ]
  },
  {
   "cell_type": "code",
   "execution_count": 33,
   "id": "25c65785-15d3-4b63-9b11-7d7c42df2749",
   "metadata": {
    "tags": []
   },
   "outputs": [
    {
     "data": {
      "text/plain": [
       "array(['Vision', 'EMIS', 'SystemOne'], dtype=object)"
      ]
     },
     "execution_count": 33,
     "metadata": {},
     "output_type": "execute_result"
    }
   ],
   "source": [
    "features.system.unique()"
   ]
  },
  {
   "cell_type": "code",
   "execution_count": 34,
   "id": "3fcab402-f4db-465b-981b-7647e76b02e1",
   "metadata": {
    "tags": []
   },
   "outputs": [
    {
     "data": {
      "text/html": [
       "<div>\n",
       "<style scoped>\n",
       "    .dataframe tbody tr th:only-of-type {\n",
       "        vertical-align: middle;\n",
       "    }\n",
       "\n",
       "    .dataframe tbody tr th {\n",
       "        vertical-align: top;\n",
       "    }\n",
       "\n",
       "    .dataframe thead th {\n",
       "        text-align: right;\n",
       "    }\n",
       "</style>\n",
       "<table border=\"1\" class=\"dataframe\">\n",
       "  <thead>\n",
       "    <tr style=\"text-align: right;\">\n",
       "      <th>system</th>\n",
       "      <th>EMIS</th>\n",
       "      <th>SystemOne</th>\n",
       "      <th>Vision</th>\n",
       "    </tr>\n",
       "    <tr>\n",
       "      <th>Country</th>\n",
       "      <th></th>\n",
       "      <th></th>\n",
       "      <th></th>\n",
       "    </tr>\n",
       "  </thead>\n",
       "  <tbody>\n",
       "    <tr>\n",
       "      <th>England</th>\n",
       "      <td>315842.0</td>\n",
       "      <td>287660.0</td>\n",
       "      <td>6091.0</td>\n",
       "    </tr>\n",
       "    <tr>\n",
       "      <th>Scotland</th>\n",
       "      <td>NaN</td>\n",
       "      <td>NaN</td>\n",
       "      <td>8611.0</td>\n",
       "    </tr>\n",
       "    <tr>\n",
       "      <th>Wales</th>\n",
       "      <td>7752.0</td>\n",
       "      <td>NaN</td>\n",
       "      <td>7520.0</td>\n",
       "    </tr>\n",
       "  </tbody>\n",
       "</table>\n",
       "</div>"
      ],
      "text/plain": [
       "system        EMIS  SystemOne  Vision\n",
       "Country                              \n",
       "England   315842.0   287660.0  6091.0\n",
       "Scotland       NaN        NaN  8611.0\n",
       "Wales       7752.0        NaN  7520.0"
      ]
     },
     "execution_count": 34,
     "metadata": {},
     "output_type": "execute_result"
    }
   ],
   "source": [
    "pd.pivot_table(features, values='patid', index = 'Country', columns='system', aggfunc = 'count')"
   ]
  },
  {
   "cell_type": "code",
   "execution_count": null,
   "id": "5812c8fd-2a35-438c-aebd-438d8bcecbb2",
   "metadata": {
    "tags": []
   },
   "outputs": [],
   "source": [
    "features.to_csv('../FinalData/cleaned_features_2vs1_15022024.csv', index_label=False, index=False)\n",
    "pickle.dump(features, open('../FinalData/cleaned_features_2vs1_15022024.sav', 'wb'))"
   ]
  },
  {
   "cell_type": "markdown",
   "id": "21944671-0221-47fc-abdb-5b0fef1d89d9",
   "metadata": {},
   "source": [
    "# Outcome"
   ]
  },
  {
   "cell_type": "code",
   "execution_count": 36,
   "id": "ab066368-37b9-4cdd-9fb5-94201ed2d7dc",
   "metadata": {
    "tags": []
   },
   "outputs": [
    {
     "data": {
      "text/plain": [
       "(631167, 9)"
      ]
     },
     "execution_count": 36,
     "metadata": {},
     "output_type": "execute_result"
    }
   ],
   "source": [
    "outcomes = pd.read_csv('../FinalData/data_outcomes_08112023.csv')\n",
    "outcomes = outcomes.iloc[:,1:]\n",
    "#select only patients included in features\n",
    "outcomes = outcomes[outcomes.patid.isin(features.patid.values)]\n",
    "outcomes.shape"
   ]
  },
  {
   "cell_type": "code",
   "execution_count": 37,
   "id": "e1593f1d-3811-4b36-930a-3aefa2b74f65",
   "metadata": {
    "tags": []
   },
   "outputs": [
    {
     "data": {
      "text/plain": [
       "Index(['patid', 'outcome_3months', 'outcome_6months', 'outcome_9months',\n",
       "       'outcome_12months', 'outcome_15months', 'outcome_18months',\n",
       "       'outcome_21months', 'outcome_24months'],\n",
       "      dtype='object')"
      ]
     },
     "execution_count": 37,
     "metadata": {},
     "output_type": "execute_result"
    }
   ],
   "source": [
    "outcomes.columns"
   ]
  },
  {
   "cell_type": "code",
   "execution_count": 38,
   "id": "f8f68ae8-4af4-4e5e-afd5-6f668e8287b2",
   "metadata": {
    "tags": []
   },
   "outputs": [
    {
     "data": {
      "text/plain": [
       "(631167, 15)"
      ]
     },
     "execution_count": 38,
     "metadata": {},
     "output_type": "execute_result"
    }
   ],
   "source": [
    "outcomes[\"outcome_combined_6months\"] = outcomes.apply(lambda x: (x[\"outcome_3months\"] | x[\"outcome_6months\"]), axis=1)\n",
    "outcomes[\"outcome_combined_9months\"] = outcomes.apply(lambda x: (x[\"outcome_combined_6months\"] | x[\"outcome_9months\"]), axis=1)\n",
    "outcomes[\"outcome_combined_12months\"] = outcomes.apply(lambda x: (x[\"outcome_combined_9months\"] | x[\"outcome_12months\"]), axis=1)\n",
    "outcomes[\"outcome_combined_15months\"] = outcomes.apply(lambda x: (x[\"outcome_combined_12months\"] | x[\"outcome_15months\"]), axis=1)\n",
    "outcomes[\"outcome_combined_18months\"] = outcomes.apply(lambda x: (x[\"outcome_combined_15months\"] | x[\"outcome_18months\"]), axis=1)\n",
    "outcomes[\"outcome_combined_24months\"] = outcomes.apply(lambda x: (x[\"outcome_combined_18months\"] | x[\"outcome_24months\"]), axis=1)\n",
    "\n",
    "# outcomes['3MonthsOutcome'] = outcomes.apply(lambda x: x.outcome_3months, axis=1)\n",
    "# outcomes['6MonthsOutcome'] = outcomes.apply(lambda x: (x.outcome_3months)|(x.outcome_6months), axis=1)\n",
    "# outcomes['9MonthsOutcome'] = outcomes.apply(lambda x: (x.outcome_3months)|(x.outcome_6months)|(x.outcome_9months), axis=1)\n",
    "# outcomes['12MonthsOutcome'] = outcomes.apply(lambda x: (x.outcome_3months)|(x.outcome_6months)|(x.outcome_9months)|(x.outcome_12months), axis=1)\n",
    "outcomes.shape"
   ]
  },
  {
   "cell_type": "code",
   "execution_count": 39,
   "id": "019bb4bd-d45f-48a4-af90-13c1063eb40b",
   "metadata": {
    "tags": []
   },
   "outputs": [
    {
     "data": {
      "text/plain": [
       "Index(['patid', 'outcome_3months', 'outcome_6months', 'outcome_9months',\n",
       "       'outcome_12months', 'outcome_15months', 'outcome_18months',\n",
       "       'outcome_21months', 'outcome_24months', 'outcome_combined_6months',\n",
       "       'outcome_combined_9months', 'outcome_combined_12months',\n",
       "       'outcome_combined_15months', 'outcome_combined_18months',\n",
       "       'outcome_combined_24months'],\n",
       "      dtype='object')"
      ]
     },
     "execution_count": 39,
     "metadata": {},
     "output_type": "execute_result"
    }
   ],
   "source": [
    "outcomes.columns"
   ]
  },
  {
   "cell_type": "code",
   "execution_count": 40,
   "id": "c9ca7297-0d77-45d8-a948-e8a993e7387e",
   "metadata": {
    "tags": []
   },
   "outputs": [],
   "source": [
    "outcomes.to_csv('../FinalData/cleaned_outcomes_10122023.csv', index_label=False, index=False)\n",
    "pickle.dump(outcomes, open('../FinalData/cleaned_outcomes_10122023.sav', 'wb'))"
   ]
  },
  {
   "cell_type": "code",
   "execution_count": null,
   "id": "663b2976-4d63-431f-9ea6-c632d46710cc",
   "metadata": {},
   "outputs": [],
   "source": []
  }
 ],
 "metadata": {
  "kernelspec": {
   "display_name": "Python 3 (ipykernel)",
   "language": "python",
   "name": "python3"
  },
  "language_info": {
   "codemirror_mode": {
    "name": "ipython",
    "version": 3
   },
   "file_extension": ".py",
   "mimetype": "text/x-python",
   "name": "python",
   "nbconvert_exporter": "python",
   "pygments_lexer": "ipython3",
   "version": "3.10.11"
  }
 },
 "nbformat": 4,
 "nbformat_minor": 5
}
