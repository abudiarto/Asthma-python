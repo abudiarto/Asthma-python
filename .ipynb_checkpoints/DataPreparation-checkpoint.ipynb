{
 "cells": [
  {
   "cell_type": "code",
   "execution_count": 12,
   "id": "dd434039-7bdb-4bb4-83d3-64b6d540487a",
   "metadata": {
    "tags": []
   },
   "outputs": [],
   "source": [
    "import pandas as pd\n",
    "import pyreadr\n",
    "import numpy as np"
   ]
  },
  {
   "cell_type": "code",
   "execution_count": 13,
   "id": "a14d36c1-1789-4890-8231-6ff90e7be8e2",
   "metadata": {
    "tags": []
   },
   "outputs": [
    {
     "name": "stderr",
     "output_type": "stream",
     "text": [
      "/tmp/ipykernel_1705/1682257126.py:2: DtypeWarning: Columns (26,27,29,30,33,34) have mixed types. Specify dtype option on import or set low_memory=False.\n",
      "  features = pd.read_csv('../FinalData/data_features_10072023.csv')\n"
     ]
    },
    {
     "data": {
      "text/plain": [
       "(732472, 54)"
      ]
     },
     "execution_count": 13,
     "metadata": {},
     "output_type": "execute_result"
    }
   ],
   "source": [
    "#load features data\n",
    "features = pd.read_csv('../FinalData/data_features_10072023.csv')\n",
    "features.shape"
   ]
  },
  {
   "cell_type": "code",
   "execution_count": 14,
   "id": "42715aa7-52c9-4742-b705-97b463d48dca",
   "metadata": {
    "tags": []
   },
   "outputs": [
    {
     "name": "stderr",
     "output_type": "stream",
     "text": [
      "/opt/conda/envs/rapids/lib/python3.10/site-packages/pyreadr/_pyreadr_parser.py:233: RuntimeWarning: invalid value encountered in cast\n",
      "  df[colname] = df[colname].values.astype(\"datetime64[D]\").astype(datetime)\n"
     ]
    },
    {
     "data": {
      "text/plain": [
       "(732472, 60)"
      ]
     },
     "execution_count": 14,
     "metadata": {},
     "output_type": "execute_result"
    }
   ],
   "source": [
    "#add paractice information\n",
    "practice = pyreadr.read_r('../RCodes/ServerData_13Oct2020/d_practice.Rdata')\n",
    "practice = practice['d_practice']\n",
    "features = features.merge(practice[['practice_id','postcode_district','imd_decile','Country','County','LocalAuthority','OutputAreaClassification']], on='practice_id',how='left')\n",
    "features.reset_index(drop=True, inplace=True)\n",
    "features.shape"
   ]
  },
  {
   "cell_type": "code",
   "execution_count": 15,
   "id": "406e8338-b046-4e23-bbc8-5ae0f4be6d0c",
   "metadata": {
    "tags": []
   },
   "outputs": [
    {
     "name": "stdout",
     "output_type": "stream",
     "text": [
      "(724438, 60)\n",
      "train : 697668\n",
      "val : 26770\n"
     ]
    }
   ],
   "source": [
    "#BASE DATA\n",
    "#extract patients from England, Wales, Scotland\n",
    "features = features[(features.Country == 'England') |(features.Country == 'Wales') | (features.Country == 'Scotland')]\n",
    "print(features.shape)\n",
    "print('train :', features[features.Country == 'England'].shape[0])\n",
    "print('val :', features[(features.Country == 'Wales') | (features.Country == 'Scotland')].shape[0])"
   ]
  },
  {
   "cell_type": "code",
   "execution_count": 16,
   "id": "9183f0b2-42f8-4870-aca1-d2b0c45f9d3a",
   "metadata": {
    "tags": []
   },
   "outputs": [
    {
     "name": "stdout",
     "output_type": "stream",
     "text": [
      "new N:  720611\n",
      "diff:  3827\n",
      "train : 693841\n",
      "val : 26770\n",
      "diff train:  3827\n",
      "diff val:  0\n"
     ]
    }
   ],
   "source": [
    "# SEX drop NA\n",
    "temp = features.dropna(subset=('sex'))\n",
    "print('new N: ', temp.shape[0])\n",
    "print('diff: ', features.shape[0] - temp.shape[0])\n",
    "print('train :', temp[temp.Country == 'England'].shape[0])\n",
    "print('val :', temp[(temp.Country == 'Wales') | (temp.Country == 'Scotland')].shape[0])\n",
    "print('diff train: ', features[features.Country == 'England'].shape[0] - temp[temp.Country == 'England'].shape[0])\n",
    "print('diff val: ', features[(features.Country == 'Wales') | (features.Country == 'Scotland')].shape[0] - temp[(temp.Country == 'Wales') | (temp.Country == 'Scotland')].shape[0])\n",
    "features = temp\n",
    "features.reset_index(drop=True, inplace=True)"
   ]
  },
  {
   "cell_type": "code",
   "execution_count": 17,
   "id": "d09f699e-5d9a-45d6-8016-c52587f1551f",
   "metadata": {
    "tags": []
   },
   "outputs": [
    {
     "name": "stdout",
     "output_type": "stream",
     "text": [
      "new N:  583370\n",
      "diff:  137241\n",
      "train : 561100\n",
      "val : 22270\n",
      "diff train:  132741\n",
      "diff val:  4500\n"
     ]
    }
   ],
   "source": [
    "# Include only 18+\n",
    "temp = features[features.age >= 18]\n",
    "print('new N: ', temp.shape[0])\n",
    "print('diff: ', features.shape[0] - temp.shape[0])\n",
    "print('train :', temp[temp.Country == 'England'].shape[0])\n",
    "print('val :', temp[(temp.Country == 'Wales') | (temp.Country == 'Scotland')].shape[0])\n",
    "print('diff train: ', features[features.Country == 'England'].shape[0] - temp[temp.Country == 'England'].shape[0])\n",
    "print('diff val: ', features[(features.Country == 'Wales') | (features.Country == 'Scotland')].shape[0] - temp[(temp.Country == 'Wales') | (temp.Country == 'Scotland')].shape[0])\n",
    "features = temp\n",
    "features.reset_index(drop=True, inplace=True)"
   ]
  },
  {
   "cell_type": "code",
   "execution_count": 18,
   "id": "34a093f4-661d-4733-aa34-a6dfd7eb6fb0",
   "metadata": {
    "tags": []
   },
   "outputs": [
    {
     "name": "stdout",
     "output_type": "stream",
     "text": [
      "Missing BMI:  48186\n"
     ]
    }
   ],
   "source": [
    "print('Missing BMI: ', features[features.height.isna()].shape[0])"
   ]
  },
  {
   "cell_type": "code",
   "execution_count": 19,
   "id": "185eb250-1da7-41de-82b9-f36eb674c018",
   "metadata": {
    "tags": []
   },
   "outputs": [
    {
     "name": "stdout",
     "output_type": "stream",
     "text": [
      "new N:  578096\n",
      "diff:  5274\n"
     ]
    },
    {
     "name": "stderr",
     "output_type": "stream",
     "text": [
      "/tmp/ipykernel_1705/1773957297.py:3: SettingWithCopyWarning: \n",
      "A value is trying to be set on a copy of a slice from a DataFrame\n",
      "\n",
      "See the caveats in the documentation: https://pandas.pydata.org/pandas-docs/stable/user_guide/indexing.html#returning-a-view-versus-a-copy\n",
      "  temp['BMI'][temp.BMI.isna()] = 0\n",
      "/tmp/ipykernel_1705/1773957297.py:3: SettingWithCopyWarning: \n",
      "A value is trying to be set on a copy of a slice from a DataFrame\n",
      "\n",
      "See the caveats in the documentation: https://pandas.pydata.org/pandas-docs/stable/user_guide/indexing.html#returning-a-view-versus-a-copy\n",
      "  temp['BMI'][temp.BMI.isna()] = 0\n"
     ]
    },
    {
     "name": "stdout",
     "output_type": "stream",
     "text": [
      "train : 555964\n",
      "val : 22132\n",
      "diff train:  5136\n",
      "diff val:  138\n"
     ]
    }
   ],
   "source": [
    "# BMI include only 15-75 and code NA as 0 (not recorded)\n",
    "temp = features[((features.BMI >= 15) & (features.BMI <= 75))|(features.BMI.isna())]\n",
    "temp['BMI'][temp.BMI.isna()] = 0\n",
    "print('new N: ', temp.shape[0])\n",
    "print('diff: ', features.shape[0] - temp.shape[0])\n",
    "print('train :', temp[temp.Country == 'England'].shape[0])\n",
    "print('val :', temp[(temp.Country == 'Wales') | (temp.Country == 'Scotland')].shape[0])\n",
    "print('diff train: ', features[features.Country == 'England'].shape[0] - temp[temp.Country == 'England'].shape[0])\n",
    "print('diff val: ', features[(features.Country == 'Wales') | (features.Country == 'Scotland')].shape[0] - temp[(temp.Country == 'Wales') | (temp.Country == 'Scotland')].shape[0])\n",
    "features = temp\n",
    "features = temp\n",
    "features.reset_index(drop=True, inplace=True)"
   ]
  },
  {
   "cell_type": "code",
   "execution_count": 24,
   "id": "33cff9e7-c83d-4403-a98f-b081ddd98fd0",
   "metadata": {
    "tags": []
   },
   "outputs": [
    {
     "name": "stdout",
     "output_type": "stream",
     "text": [
      "new N:  578096\n",
      "diff:  0\n"
     ]
    }
   ],
   "source": [
    "# replace NA in ethnicity and ethnic_group with 'not_recorded'\n",
    "features.ethnicity[features.ethnic_group.isna()] = 'not_recorded'\n",
    "features.ethnic_group[features.ethnic_group.isna()] = 'not_recorded'\n",
    "print('new N: ', temp.shape[0])\n",
    "print('diff: ', features.shape[0] - temp.shape[0])"
   ]
  },
  {
   "cell_type": "code",
   "execution_count": 29,
   "id": "52400210-86cd-435c-b238-6dbfa8d5d2a2",
   "metadata": {
    "tags": []
   },
   "outputs": [
    {
     "name": "stdout",
     "output_type": "stream",
     "text": [
      "new N:  578096\n",
      "diff:  0\n"
     ]
    }
   ],
   "source": [
    "#for smoking, anyone with no record, consider them non-smoker\n",
    "features.smokingStatus[features.smokingStatus.isna()] = 'never'\n",
    "print('new N: ', temp.shape[0])\n",
    "print('diff: ', features.shape[0] - temp.shape[0])"
   ]
  },
  {
   "cell_type": "code",
   "execution_count": 32,
   "id": "09ada55c-f745-4926-a2fe-8043b2e9f071",
   "metadata": {
    "tags": []
   },
   "outputs": [
    {
     "name": "stdout",
     "output_type": "stream",
     "text": [
      "new N:  578096\n",
      "diff:  0\n"
     ]
    }
   ],
   "source": [
    "#for PEF, re-assign those with no data as a 'not_recorded'\n",
    "features.PEFStatus[features.PEFStatus.isna()] = 'not_recorded'\n",
    "print('new N: ', temp.shape[0])\n",
    "print('diff: ', features.shape[0] - temp.shape[0])"
   ]
  },
  {
   "cell_type": "code",
   "execution_count": 35,
   "id": "aa2444bc-a0eb-4ff2-a169-506b46109d3e",
   "metadata": {
    "tags": []
   },
   "outputs": [
    {
     "name": "stdout",
     "output_type": "stream",
     "text": [
      "new N:  578096\n",
      "diff:  0\n"
     ]
    }
   ],
   "source": [
    "#for Eosinophil, re-assign those with no data as a 'unknown'\n",
    "features.EosinophilLevel[features.EosinophilLevel.isna()] = 'unknown'\n",
    "print('new N: ', temp.shape[0])\n",
    "print('diff: ', features.shape[0] - temp.shape[0])"
   ]
  },
  {
   "cell_type": "code",
   "execution_count": null,
   "id": "8d3ca2ae-13ef-4dad-83fb-9f09ca7069ce",
   "metadata": {},
   "outputs": [],
   "source": []
  },
  {
   "cell_type": "code",
   "execution_count": 36,
   "id": "9dfb058f-46eb-431a-85dc-e9e64d7c88f5",
   "metadata": {
    "tags": []
   },
   "outputs": [
    {
     "data": {
      "text/plain": [
       "array(['normal', 'unknown', 'high'], dtype=object)"
      ]
     },
     "execution_count": 36,
     "metadata": {},
     "output_type": "execute_result"
    }
   ],
   "source": [
    "features.EosinophilLevel.unique()"
   ]
  }
 ],
 "metadata": {
  "kernelspec": {
   "display_name": "Python 3 (ipykernel)",
   "language": "python",
   "name": "python3"
  },
  "language_info": {
   "codemirror_mode": {
    "name": "ipython",
    "version": 3
   },
   "file_extension": ".py",
   "mimetype": "text/x-python",
   "name": "python",
   "nbconvert_exporter": "python",
   "pygments_lexer": "ipython3",
   "version": "3.10.11"
  }
 },
 "nbformat": 4,
 "nbformat_minor": 5
}
