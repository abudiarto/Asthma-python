{
 "cells": [
  {
   "cell_type": "code",
   "execution_count": 10,
   "id": "dd434039-7bdb-4bb4-83d3-64b6d540487a",
   "metadata": {
    "tags": []
   },
   "outputs": [],
   "source": [
    "import pandas as pd\n",
    "import pyreadr\n",
    "import numpy as np"
   ]
  },
  {
   "cell_type": "code",
   "execution_count": 11,
   "id": "a14d36c1-1789-4890-8231-6ff90e7be8e2",
   "metadata": {
    "tags": []
   },
   "outputs": [
    {
     "name": "stderr",
     "output_type": "stream",
     "text": [
      "/tmp/ipykernel_1869/1390680421.py:2: DtypeWarning: Columns (26,27,29,30,33,34) have mixed types. Specify dtype option on import or set low_memory=False.\n",
      "  features = pd.read_csv('../FinalData/data_features_08112023.csv')\n"
     ]
    },
    {
     "data": {
      "text/plain": [
       "(735368, 66)"
      ]
     },
     "execution_count": 11,
     "metadata": {},
     "output_type": "execute_result"
    }
   ],
   "source": [
    "#load features data\n",
    "features = pd.read_csv('../FinalData/data_features_08112023.csv')\n",
    "features.iloc[:,1:]\n",
    "features.shape"
   ]
  },
  {
   "cell_type": "code",
   "execution_count": 12,
   "id": "42715aa7-52c9-4742-b705-97b463d48dca",
   "metadata": {
    "tags": []
   },
   "outputs": [
    {
     "name": "stderr",
     "output_type": "stream",
     "text": [
      "/opt/conda/envs/rapids/lib/python3.10/site-packages/pyreadr/_pyreadr_parser.py:233: RuntimeWarning: invalid value encountered in cast\n",
      "  df[colname] = df[colname].values.astype(\"datetime64[D]\").astype(datetime)\n"
     ]
    },
    {
     "data": {
      "text/plain": [
       "(735368, 72)"
      ]
     },
     "execution_count": 12,
     "metadata": {},
     "output_type": "execute_result"
    }
   ],
   "source": [
    "#add paractice information\n",
    "practice = pyreadr.read_r('../ServerData_13Oct2020/d_practice.Rdata')\n",
    "practice = practice['d_practice']\n",
    "features = features.merge(practice[['practice_id','postcode_district','imd_decile','Country','County','LocalAuthority','OutputAreaClassification']], on='practice_id',how='left')\n",
    "features.reset_index(drop=True, inplace=True)\n",
    "features.shape"
   ]
  },
  {
   "cell_type": "code",
   "execution_count": 13,
   "id": "406e8338-b046-4e23-bbc8-5ae0f4be6d0c",
   "metadata": {
    "tags": []
   },
   "outputs": [
    {
     "name": "stdout",
     "output_type": "stream",
     "text": [
      "(727322, 72)\n",
      "train : 699843\n",
      "val : 27479\n"
     ]
    }
   ],
   "source": [
    "#BASE DATA\n",
    "#extract patients from England, Wales, Scotland\n",
    "features = features[(features.Country == 'England') |(features.Country == 'Wales') | (features.Country == 'Scotland')]\n",
    "print(features.shape)\n",
    "print('train :', features[features.Country == 'England'].shape[0])\n",
    "print('val :', features[(features.Country == 'Wales') | (features.Country == 'Scotland')].shape[0])\n",
    "features.reset_index(inplace=True, drop=True)"
   ]
  },
  {
   "cell_type": "code",
   "execution_count": 14,
   "id": "9183f0b2-42f8-4870-aca1-d2b0c45f9d3a",
   "metadata": {
    "tags": []
   },
   "outputs": [
    {
     "name": "stdout",
     "output_type": "stream",
     "text": [
      "new N:  723488\n",
      "diff:  3834\n",
      "train : 696009\n",
      "val : 27479\n",
      "diff train:  3834\n",
      "diff val:  0\n"
     ]
    }
   ],
   "source": [
    "# SEX drop NA\n",
    "temp = features.dropna(subset=('sex'))\n",
    "print('new N: ', temp.shape[0])\n",
    "print('diff: ', features.shape[0] - temp.shape[0])\n",
    "print('train :', temp[temp.Country == 'England'].shape[0])\n",
    "print('val :', temp[(temp.Country == 'Wales') | (temp.Country == 'Scotland')].shape[0])\n",
    "print('diff train: ', features[features.Country == 'England'].shape[0] - temp[temp.Country == 'England'].shape[0])\n",
    "print('diff val: ', features[(features.Country == 'Wales') | (features.Country == 'Scotland')].shape[0] - temp[(temp.Country == 'Wales') | (temp.Country == 'Scotland')].shape[0])\n",
    "features = temp\n",
    "features.reset_index(drop=True, inplace=True)"
   ]
  },
  {
   "cell_type": "code",
   "execution_count": 15,
   "id": "d09f699e-5d9a-45d6-8016-c52587f1551f",
   "metadata": {
    "tags": []
   },
   "outputs": [
    {
     "name": "stdout",
     "output_type": "stream",
     "text": [
      "new N:  723488\n",
      "diff:  0\n",
      "train : 696009\n",
      "val : 27479\n",
      "diff train:  0\n",
      "diff val:  0\n"
     ]
    }
   ],
   "source": [
    "# Include only 18+\n",
    "# temp = features[features.age >= 18]\n",
    "print('new N: ', temp.shape[0])\n",
    "print('diff: ', features.shape[0] - temp.shape[0])\n",
    "print('train :', temp[temp.Country == 'England'].shape[0])\n",
    "print('val :', temp[(temp.Country == 'Wales') | (temp.Country == 'Scotland')].shape[0])\n",
    "print('diff train: ', features[features.Country == 'England'].shape[0] - temp[temp.Country == 'England'].shape[0])\n",
    "print('diff val: ', features[(features.Country == 'Wales') | (features.Country == 'Scotland')].shape[0] - temp[(temp.Country == 'Wales') | (temp.Country == 'Scotland')].shape[0])\n",
    "features = temp\n",
    "features.reset_index(drop=True, inplace=True)"
   ]
  },
  {
   "cell_type": "code",
   "execution_count": 16,
   "id": "34a093f4-661d-4733-aa34-a6dfd7eb6fb0",
   "metadata": {
    "tags": []
   },
   "outputs": [
    {
     "name": "stdout",
     "output_type": "stream",
     "text": [
      "Missing BMI:  82381\n"
     ]
    }
   ],
   "source": [
    "print('Missing BMI: ', features[features.height.isna()].shape[0])"
   ]
  },
  {
   "cell_type": "code",
   "execution_count": 17,
   "id": "185eb250-1da7-41de-82b9-f36eb674c018",
   "metadata": {
    "tags": []
   },
   "outputs": [
    {
     "name": "stderr",
     "output_type": "stream",
     "text": [
      "/tmp/ipykernel_1869/1773957297.py:3: SettingWithCopyWarning: \n",
      "A value is trying to be set on a copy of a slice from a DataFrame\n",
      "\n",
      "See the caveats in the documentation: https://pandas.pydata.org/pandas-docs/stable/user_guide/indexing.html#returning-a-view-versus-a-copy\n",
      "  temp['BMI'][temp.BMI.isna()] = 0\n",
      "/tmp/ipykernel_1869/1773957297.py:3: SettingWithCopyWarning: \n",
      "A value is trying to be set on a copy of a slice from a DataFrame\n",
      "\n",
      "See the caveats in the documentation: https://pandas.pydata.org/pandas-docs/stable/user_guide/indexing.html#returning-a-view-versus-a-copy\n",
      "  temp['BMI'][temp.BMI.isna()] = 0\n"
     ]
    },
    {
     "name": "stdout",
     "output_type": "stream",
     "text": [
      "new N:  699633\n",
      "diff:  23855\n",
      "train : 672857\n",
      "val : 26776\n",
      "diff train:  23152\n",
      "diff val:  703\n"
     ]
    }
   ],
   "source": [
    "# BMI include only 15-75 and code NA as 0 (not recorded)\n",
    "temp = features[((features.BMI >= 15) & (features.BMI <= 75))|(features.BMI.isna())]\n",
    "temp['BMI'][temp.BMI.isna()] = 0\n",
    "print('new N: ', temp.shape[0])\n",
    "print('diff: ', features.shape[0] - temp.shape[0])\n",
    "print('train :', temp[temp.Country == 'England'].shape[0])\n",
    "print('val :', temp[(temp.Country == 'Wales') | (temp.Country == 'Scotland')].shape[0])\n",
    "print('diff train: ', features[features.Country == 'England'].shape[0] - temp[temp.Country == 'England'].shape[0])\n",
    "print('diff val: ', features[(features.Country == 'Wales') | (features.Country == 'Scotland')].shape[0] - temp[(temp.Country == 'Wales') | (temp.Country == 'Scotland')].shape[0])\n",
    "features = temp\n",
    "features = temp\n",
    "features.reset_index(drop=True, inplace=True)"
   ]
  },
  {
   "cell_type": "code",
   "execution_count": 18,
   "id": "33cff9e7-c83d-4403-a98f-b081ddd98fd0",
   "metadata": {
    "tags": []
   },
   "outputs": [
    {
     "name": "stdout",
     "output_type": "stream",
     "text": [
      "new N:  699633\n",
      "diff:  0\n"
     ]
    }
   ],
   "source": [
    "# replace NA in ethnicity and ethnic_group with 'not_recorded'\n",
    "features.ethnicity[features.ethnic_group.isna()] = 'not_recorded'\n",
    "features.ethnic_group[features.ethnic_group.isna()] = 'not_recorded'\n",
    "features.reset_index(inplace=True, drop=True)\n",
    "print('new N: ', temp.shape[0])\n",
    "print('diff: ', features.shape[0] - temp.shape[0])"
   ]
  },
  {
   "cell_type": "code",
   "execution_count": 19,
   "id": "52400210-86cd-435c-b238-6dbfa8d5d2a2",
   "metadata": {
    "tags": []
   },
   "outputs": [
    {
     "name": "stdout",
     "output_type": "stream",
     "text": [
      "new N:  699633\n",
      "diff:  0\n"
     ]
    }
   ],
   "source": [
    "#for smoking, anyone with no record, consider them non-smoker\n",
    "features.smokingStatus[features.smokingStatus.isna()] = 'never'\n",
    "features.reset_index(inplace=True, drop=True)\n",
    "print('new N: ', temp.shape[0])\n",
    "print('diff: ', features.shape[0] - temp.shape[0])"
   ]
  },
  {
   "cell_type": "code",
   "execution_count": 20,
   "id": "09ada55c-f745-4926-a2fe-8043b2e9f071",
   "metadata": {
    "tags": []
   },
   "outputs": [
    {
     "name": "stdout",
     "output_type": "stream",
     "text": [
      "new N:  699633\n",
      "diff:  0\n"
     ]
    }
   ],
   "source": [
    "#for PEF, re-assign those with no data as a 'not_recorded'\n",
    "features.PEFStatus[features.PEFStatus.isna()] = 'not_recorded'\n",
    "features.reset_index(inplace=True, drop=True)\n",
    "print('new N: ', temp.shape[0])\n",
    "print('diff: ', features.shape[0] - temp.shape[0])"
   ]
  },
  {
   "cell_type": "code",
   "execution_count": 21,
   "id": "aa2444bc-a0eb-4ff2-a169-506b46109d3e",
   "metadata": {
    "tags": []
   },
   "outputs": [
    {
     "name": "stdout",
     "output_type": "stream",
     "text": [
      "new N:  699633\n",
      "diff:  0\n"
     ]
    }
   ],
   "source": [
    "#for Eosinophil, re-assign those with no data as a 'unknown'\n",
    "features.EosinophilLevel[features.EosinophilLevel.isna()] = 'unknown'\n",
    "features.reset_index(inplace=True, drop=True)\n",
    "print('new N: ', temp.shape[0])\n",
    "print('diff: ', features.shape[0] - temp.shape[0])"
   ]
  },
  {
   "cell_type": "code",
   "execution_count": 22,
   "id": "24bbc519-daf6-4ee7-8a35-6fdf069cad3e",
   "metadata": {
    "tags": []
   },
   "outputs": [
    {
     "name": "stdout",
     "output_type": "stream",
     "text": [
      "new N:  699633\n",
      "diff:  0\n"
     ]
    }
   ],
   "source": [
    "#for Device type, re-assign those with no data as a 'unknown'\n",
    "features.DeviceType[features.DeviceType.isna()] = 'unknown'\n",
    "features.reset_index(inplace=True, drop=True)\n",
    "print('new N: ', temp.shape[0])\n",
    "print('diff: ', features.shape[0] - temp.shape[0])"
   ]
  },
  {
   "cell_type": "code",
   "execution_count": 23,
   "id": "8d3ca2ae-13ef-4dad-83fb-9f09ca7069ce",
   "metadata": {
    "tags": []
   },
   "outputs": [
    {
     "name": "stdout",
     "output_type": "stream",
     "text": [
      "new N:  699633\n",
      "diff:  0\n"
     ]
    }
   ],
   "source": [
    "#BTS Step (if none recorded, it means that they are at step 0\n",
    "features.BTS_step[features.BTS_step.isna()] = 0\n",
    "features.reset_index(inplace=True, drop=True)\n",
    "print('new N: ', temp.shape[0])\n",
    "print('diff: ', features.shape[0] - temp.shape[0])"
   ]
  },
  {
   "cell_type": "code",
   "execution_count": 24,
   "id": "a2c00222-921a-46c9-b6b2-25d773725bdc",
   "metadata": {
    "tags": []
   },
   "outputs": [
    {
     "data": {
      "text/plain": [
       "Index(['month_12', 'month_4', 'month_5', 'month_10', 'month_1', 'month_6',\n",
       "       'month_3', 'month_11', 'month_8', 'month_9', 'month_7', 'month_2'],\n",
       "      dtype='object')"
      ]
     },
     "execution_count": 24,
     "metadata": {},
     "output_type": "execute_result"
    }
   ],
   "source": [
    "features.columns[features.columns.str.contains('month')]"
   ]
  },
  {
   "cell_type": "code",
   "execution_count": 25,
   "id": "aa064a85-2840-4c8f-8223-18cbbe9b902a",
   "metadata": {
    "tags": []
   },
   "outputs": [
    {
     "name": "stdout",
     "output_type": "stream",
     "text": [
      "month_12\n",
      "month_4\n",
      "month_5\n",
      "month_10\n",
      "month_1\n",
      "month_6\n",
      "month_3\n",
      "month_11\n",
      "month_8\n",
      "month_9\n",
      "month_7\n",
      "month_2\n",
      "new N:  699633\n",
      "diff:  0\n"
     ]
    }
   ],
   "source": [
    "#asthma attack month (NA to zero)\n",
    "month_cols = features.columns[features.columns.str.contains('month')]\n",
    "for col in month_cols:\n",
    "    print(col)\n",
    "    features[col][features[col].isna()] = 0\n",
    "features.reset_index(inplace=True, drop=True)\n",
    "print('new N: ', temp.shape[0])\n",
    "print('diff: ', features.shape[0] - temp.shape[0])"
   ]
  },
  {
   "cell_type": "code",
   "execution_count": 26,
   "id": "444f788f-8078-4ebf-b32a-fcfea329c3c5",
   "metadata": {
    "tags": []
   },
   "outputs": [
    {
     "name": "stdout",
     "output_type": "stream",
     "text": [
      "new N:  699633\n",
      "diff:  0\n"
     ]
    }
   ],
   "source": [
    "#do the same thing for other continuous vars\n",
    "features.average_daily_dose_ICS[features.average_daily_dose_ICS.isna()] = 0\n",
    "features.prescribed_daily_dose_ICS[features.prescribed_daily_dose_ICS.isna()] = 0\n",
    "features.ICS_medication_possesion_ratio[features.ICS_medication_possesion_ratio.isna()] = 0\n",
    "features.Spacer[features.Spacer.isna()] = 0\n",
    "features.numOCS[features.numOCS.isna()] = 0\n",
    "features.numPCS[features.numPCS.isna()] = 0\n",
    "features.numAntibioticsEvents[features.numAntibioticsEvents.isna()] = 0\n",
    "features.numAntibioticswithLRTI[features.numAntibioticswithLRTI.isna()] = 0\n",
    "features.numOCSEvents[features.numOCSEvents.isna()] = 0\n",
    "features.numOCSwithLRTI[features.numOCSwithLRTI.isna()] = 0\n",
    "features.numAsthmaAttacks[features.numAsthmaAttacks.isna()] = 0\n",
    "features.numAcuteRespEvents[features.numAcuteRespEvents.isna()] = 0\n",
    "features.PriorEducation[features.PriorEducation.isna()] = 0\n",
    "features.numPCSAsthma[features.numPCSAsthma.isna()] = 0\n",
    "features.CharlsonScore[features.CharlsonScore.isna()] = 0\n",
    "features.numHospEvents[features.numHospEvents.isna()] = 0\n",
    "features.reset_index(inplace=True, drop=True)\n",
    "print('new N: ', temp.shape[0])\n",
    "print('diff: ', features.shape[0] - temp.shape[0])"
   ]
  },
  {
   "cell_type": "code",
   "execution_count": 27,
   "id": "afa5cfda-53b6-4c62-bead-1c8dbeabba6e",
   "metadata": {
    "tags": []
   },
   "outputs": [
    {
     "data": {
      "text/plain": [
       "Index(['Unnamed: 0', 'patid', 'practice_id', 'sex', 'age', 'BMI', 'weight',\n",
       "       'height', 'ethnicity', 'ethnic_group', 'smokingStatus', 'CharlsonScore',\n",
       "       'count_rhinitis', 'count_cardiovascular', 'count_heartfailure',\n",
       "       'count_psoriasis', 'count_anaphylaxis', 'count_diabetes', 'count_ihd',\n",
       "       'count_anxiety', 'count_eczema', 'count_nasalpolyps',\n",
       "       'count_paracetamol', 'count_nsaids', 'count_betablocker', 'id',\n",
       "       'event_date', 'recorded_date', 'visit_id', 'code_id', 'snomed_id',\n",
       "       'numeric_1', 'numeric_2', 'created_datetime', 'updated_datetime',\n",
       "       'PEFStatus', 'EosinophilLevel', 'BTS_step', 'average_daily_dose_ICS',\n",
       "       'prescribed_daily_dose_ICS', 'ICS_medication_possesion_ratio',\n",
       "       'DeviceType', 'Spacer', 'numOCS', 'PriorEducation', 'numPCS',\n",
       "       'numPCSAsthma', 'numAntibioticsEvents', 'numAntibioticswithLRTI',\n",
       "       'numOCSEvents', 'numOCSwithLRTI', 'numAsthmaAttacks',\n",
       "       'numAcuteRespEvents', 'numHospEvents', 'month_12', 'month_4', 'month_5',\n",
       "       'month_10', 'month_1', 'month_6', 'month_3', 'month_11', 'month_8',\n",
       "       'month_9', 'month_7', 'month_2', 'postcode_district', 'imd_decile',\n",
       "       'Country', 'County', 'LocalAuthority', 'OutputAreaClassification'],\n",
       "      dtype='object')"
      ]
     },
     "execution_count": 27,
     "metadata": {},
     "output_type": "execute_result"
    }
   ],
   "source": [
    "features.columns"
   ]
  },
  {
   "cell_type": "code",
   "execution_count": null,
   "id": "8105eb95-002d-41d6-b746-2b2d495fdf70",
   "metadata": {},
   "outputs": [],
   "source": []
  },
  {
   "cell_type": "markdown",
   "id": "81e3c07e-c238-40f9-b9e3-ae14c39b0070",
   "metadata": {},
   "source": [
    "## Categorized cont vars"
   ]
  },
  {
   "cell_type": "code",
   "execution_count": 28,
   "id": "ed775dc2-a651-44a5-a120-f940ad200a5c",
   "metadata": {
    "tags": []
   },
   "outputs": [
    {
     "data": {
      "text/plain": [
       "(699633, 73)"
      ]
     },
     "execution_count": 28,
     "metadata": {},
     "output_type": "execute_result"
    }
   ],
   "source": [
    "#BMI\n",
    "def cat_bmi(x):\n",
    "    if (x==0):\n",
    "        return 'not recorded'\n",
    "    elif (x>=15) & (x<18.5):\n",
    "        return 'underweight'\n",
    "    elif (x>=18.5) & (x<25):\n",
    "        return 'normal'\n",
    "    elif (x>=25) & (x<30):\n",
    "        return 'overweight'\n",
    "    elif (x>=30):\n",
    "        return 'obese'\n",
    "    \n",
    "    \n",
    "features['cat_BMI'] = features.BMI.apply(lambda x: cat_bmi(x))\n",
    "features.reset_index(inplace=True, drop=True)\n",
    "features.shape"
   ]
  },
  {
   "cell_type": "code",
   "execution_count": 29,
   "id": "23a633bb-d74b-450b-b5de-477ad187b2a3",
   "metadata": {
    "tags": []
   },
   "outputs": [
    {
     "data": {
      "text/plain": [
       "(699633, 74)"
      ]
     },
     "execution_count": 29,
     "metadata": {},
     "output_type": "execute_result"
    }
   ],
   "source": [
    "#Age\n",
    "def cat_age(x):\n",
    "    if (x<18):\n",
    "        return '<18'\n",
    "    elif (x>=18) & (x<35):\n",
    "        return '18-34'\n",
    "    elif (x>=35) & (x<55):\n",
    "        return '35-54'\n",
    "    elif (x>=55) & (x<75):\n",
    "        return '55-74'\n",
    "    elif (x>=75):\n",
    "        return '>=75'\n",
    "    \n",
    "features['cat_age'] = features.age.apply(lambda x: cat_age(x))\n",
    "features.reset_index(inplace=True, drop=True)\n",
    "features.shape"
   ]
  },
  {
   "cell_type": "code",
   "execution_count": 30,
   "id": "e0f5975e-7e55-4469-b4ee-acdf002d485b",
   "metadata": {
    "tags": []
   },
   "outputs": [
    {
     "data": {
      "text/plain": [
       "(699633, 74)"
      ]
     },
     "execution_count": 30,
     "metadata": {},
     "output_type": "execute_result"
    }
   ],
   "source": [
    "#Smoking\n",
    "def cat_smoking(x):\n",
    "    if (x=='never'):\n",
    "        return 'Non Smoker'\n",
    "    elif (x=='former'):\n",
    "        return 'Former Smoker'\n",
    "    elif (x=='current'):\n",
    "        return 'Active Smoker'\n",
    "features['smokingStatus'] = features.smokingStatus.apply(lambda x: cat_smoking(x))\n",
    "features.reset_index(inplace=True, drop=True)\n",
    "features.shape"
   ]
  },
  {
   "cell_type": "code",
   "execution_count": 31,
   "id": "275c0bc8-1320-4246-bd71-159be12b7cf7",
   "metadata": {
    "tags": []
   },
   "outputs": [
    {
     "data": {
      "text/plain": [
       "(699633, 76)"
      ]
     },
     "execution_count": 31,
     "metadata": {},
     "output_type": "execute_result"
    }
   ],
   "source": [
    "#Average daily ICS\n",
    "def cat_ics(x):\n",
    "    if (x==0):\n",
    "        return '0'\n",
    "    elif (x>=1) & (x<=200):\n",
    "        return '1-200'\n",
    "    elif (x>200) & (x<=400):\n",
    "        return '201-400'\n",
    "    elif (x>400):\n",
    "        return '>400'\n",
    "    \n",
    "features['cat_average_daily_dose_ICS'] = features.average_daily_dose_ICS.apply(lambda x: cat_ics(x))\n",
    "features['cat_prescribed_daily_dose_ICS'] = features.prescribed_daily_dose_ICS.apply(lambda x: cat_ics(x))\n",
    "features.reset_index(inplace=True, drop=True)\n",
    "features.shape\n"
   ]
  },
  {
   "cell_type": "code",
   "execution_count": 32,
   "id": "05166545-fd65-463d-9605-ceb4f813bafa",
   "metadata": {
    "tags": []
   },
   "outputs": [
    {
     "name": "stdout",
     "output_type": "stream",
     "text": [
      "new N:  699495\n",
      "diff:  138\n",
      "train : 672726\n",
      "val : 26769\n",
      "diff train:  131\n",
      "diff val:  7\n"
     ]
    }
   ],
   "source": [
    "#clean ICS medication ratio\n",
    "temp = features.drop(features[features.ICS_medication_possesion_ratio==np.inf].index)\n",
    "print('new N: ', temp.shape[0])\n",
    "print('diff: ', features.shape[0] - temp.shape[0])\n",
    "print('train :', temp[temp.Country == 'England'].shape[0])\n",
    "print('val :', temp[(temp.Country == 'Wales') | (temp.Country == 'Scotland')].shape[0])\n",
    "print('diff train: ', features[features.Country == 'England'].shape[0] - temp[temp.Country == 'England'].shape[0])\n",
    "print('diff val: ', features[(features.Country == 'Wales') | (features.Country == 'Scotland')].shape[0] - temp[(temp.Country == 'Wales') | (temp.Country == 'Scotland')].shape[0])\n",
    "features.reset_index(inplace=True, drop=True)\n",
    "features = temp\n"
   ]
  },
  {
   "cell_type": "code",
   "execution_count": 33,
   "id": "88fde7e9-4012-4521-90bd-70e86bb4fe98",
   "metadata": {
    "tags": []
   },
   "outputs": [
    {
     "data": {
      "text/plain": [
       "(699495, 77)"
      ]
     },
     "execution_count": 33,
     "metadata": {},
     "output_type": "execute_result"
    }
   ],
   "source": [
    "#cat ICS medication ratio\n",
    "def cat_ics_medication(x):\n",
    "    if x==0:\n",
    "        return 'No ICS Prescribed'\n",
    "    elif (x>0) & (x<0.40):\n",
    "        return '>0%-39.9%'\n",
    "    elif (x>=0.40) & (x<.60):\n",
    "        return '40%-59.9%'\n",
    "    elif (x>0.60) :\n",
    "        return '>=60%'\n",
    "    \n",
    "features['cat_ICS_medication_possesion_ratio'] = features.ICS_medication_possesion_ratio.apply(lambda x: cat_ics_medication(x))\n",
    "features.reset_index(inplace=True, drop=True)\n",
    "features.shape\n"
   ]
  },
  {
   "cell_type": "code",
   "execution_count": 34,
   "id": "eef056ef-15e8-4785-9270-319c164d6b3d",
   "metadata": {
    "tags": []
   },
   "outputs": [
    {
     "data": {
      "text/plain": [
       "array([ 0.,  1.,  2.,  3., 10.,  4.,  5., 12.])"
      ]
     },
     "execution_count": 34,
     "metadata": {},
     "output_type": "execute_result"
    }
   ],
   "source": [
    "features.numHospEvents.unique()"
   ]
  },
  {
   "cell_type": "code",
   "execution_count": 35,
   "id": "6173ed3a-efff-412f-81e5-a07020f293a9",
   "metadata": {
    "tags": []
   },
   "outputs": [
    {
     "data": {
      "text/plain": [
       "(699495, 87)"
      ]
     },
     "execution_count": 35,
     "metadata": {},
     "output_type": "execute_result"
    }
   ],
   "source": [
    "#cat other continuous vars\n",
    "def cat_continuous(x):\n",
    "    if x==0:\n",
    "        return '0'\n",
    "    elif x==1:\n",
    "        return '1'\n",
    "    elif x==2:\n",
    "        return '2'\n",
    "    elif (x>2) :\n",
    "        return '>=3'\n",
    "    \n",
    "features['cat_numOCS'] = features.numOCS.apply(lambda x: cat_continuous(x))\n",
    "features['cat_numOCSEvents'] = features.numOCSEvents.apply(lambda x: cat_continuous(x))\n",
    "features['cat_numOCSwithLRTI'] = features.numOCSwithLRTI.apply(lambda x: cat_continuous(x))\n",
    "features['cat_numAcuteRespEvents'] = features.numAcuteRespEvents.apply(lambda x: cat_continuous(x))\n",
    "features['cat_numAntibioticsEvents'] = features.numAntibioticsEvents.apply(lambda x: cat_continuous(x))\n",
    "features['cat_numAntibioticswithLRTI'] = features.numAntibioticswithLRTI.apply(lambda x: cat_continuous(x))\n",
    "features['cat_numAsthmaAttacks'] = features.numAsthmaAttacks.apply(lambda x: cat_continuous(x))\n",
    "features['cat_numHospEvents'] = features.numHospEvents.apply(lambda x: cat_continuous(x))\n",
    "features['cat_numPCS'] = features.numPCS.apply(lambda x: cat_continuous(x))\n",
    "features['cat_numPCSAsthma'] = features.numPCSAsthma.apply(lambda x: cat_continuous(x))\n",
    "features.reset_index(inplace=True, drop=True)\n",
    "features.shape"
   ]
  },
  {
   "cell_type": "code",
   "execution_count": 36,
   "id": "bc492da3-4f88-49df-a7ce-4104955436bc",
   "metadata": {
    "tags": []
   },
   "outputs": [
    {
     "data": {
      "text/plain": [
       "Index(['Unnamed: 0', 'patid', 'practice_id', 'sex', 'age', 'BMI', 'weight',\n",
       "       'height', 'ethnicity', 'ethnic_group', 'smokingStatus', 'CharlsonScore',\n",
       "       'count_rhinitis', 'count_cardiovascular', 'count_heartfailure',\n",
       "       'count_psoriasis', 'count_anaphylaxis', 'count_diabetes', 'count_ihd',\n",
       "       'count_anxiety', 'count_eczema', 'count_nasalpolyps',\n",
       "       'count_paracetamol', 'count_nsaids', 'count_betablocker', 'id',\n",
       "       'event_date', 'recorded_date', 'visit_id', 'code_id', 'snomed_id',\n",
       "       'numeric_1', 'numeric_2', 'created_datetime', 'updated_datetime',\n",
       "       'PEFStatus', 'EosinophilLevel', 'BTS_step', 'average_daily_dose_ICS',\n",
       "       'prescribed_daily_dose_ICS', 'ICS_medication_possesion_ratio',\n",
       "       'DeviceType', 'Spacer', 'numOCS', 'PriorEducation', 'numPCS',\n",
       "       'numPCSAsthma', 'numAntibioticsEvents', 'numAntibioticswithLRTI',\n",
       "       'numOCSEvents', 'numOCSwithLRTI', 'numAsthmaAttacks',\n",
       "       'numAcuteRespEvents', 'numHospEvents', 'month_12', 'month_4', 'month_5',\n",
       "       'month_10', 'month_1', 'month_6', 'month_3', 'month_11', 'month_8',\n",
       "       'month_9', 'month_7', 'month_2', 'postcode_district', 'imd_decile',\n",
       "       'Country', 'County', 'LocalAuthority', 'OutputAreaClassification',\n",
       "       'cat_BMI', 'cat_age', 'cat_average_daily_dose_ICS',\n",
       "       'cat_prescribed_daily_dose_ICS', 'cat_ICS_medication_possesion_ratio',\n",
       "       'cat_numOCS', 'cat_numOCSEvents', 'cat_numOCSwithLRTI',\n",
       "       'cat_numAcuteRespEvents', 'cat_numAntibioticsEvents',\n",
       "       'cat_numAntibioticswithLRTI', 'cat_numAsthmaAttacks',\n",
       "       'cat_numHospEvents', 'cat_numPCS', 'cat_numPCSAsthma'],\n",
       "      dtype='object')"
      ]
     },
     "execution_count": 36,
     "metadata": {},
     "output_type": "execute_result"
    }
   ],
   "source": [
    "features.columns"
   ]
  },
  {
   "cell_type": "code",
   "execution_count": 37,
   "id": "8dfd41a4-2ebc-43dc-934b-21a1902a11aa",
   "metadata": {
    "tags": []
   },
   "outputs": [
    {
     "name": "stdout",
     "output_type": "stream",
     "text": [
      "count_rhinitis\n",
      "count_cardiovascular\n",
      "count_heartfailure\n",
      "count_psoriasis\n",
      "count_anaphylaxis\n",
      "count_diabetes\n",
      "count_ihd\n",
      "count_anxiety\n",
      "count_eczema\n",
      "count_nasalpolyps\n",
      "count_paracetamol\n",
      "count_nsaids\n",
      "count_betablocker\n"
     ]
    }
   ],
   "source": [
    "# clean comorbidity and comedication -> NA to 0\n",
    "com_columns = features.columns[features.columns.str.contains('count')]\n",
    "for col in com_columns:\n",
    "    print(col)\n",
    "    features.loc[features[col].isna(),col] = 0\n",
    "    \n",
    "features.reset_index(inplace=True, drop=True)"
   ]
  },
  {
   "cell_type": "code",
   "execution_count": 38,
   "id": "85e34a96-e027-4377-b794-85d6f85490db",
   "metadata": {
    "tags": []
   },
   "outputs": [],
   "source": [
    "#transform comorbidity and comedication into binary\n",
    "def count2cat(x):\n",
    "    if x == 0:\n",
    "        return 0\n",
    "    else:\n",
    "        return 1\n",
    "        \n",
    "countVars = features.columns[features.columns.str.contains('count')]\n",
    "for var in countVars:\n",
    "    features[var.split('_')[1]] = features.apply(lambda x: count2cat(x[var]), axis=1)\n",
    "features.reset_index(inplace=True, drop=True)"
   ]
  },
  {
   "cell_type": "code",
   "execution_count": 39,
   "id": "9decadda-bad2-4024-afd2-ebe249f3ce43",
   "metadata": {
    "tags": []
   },
   "outputs": [],
   "source": [
    "# Clean imd_decile, NA to 0\n",
    "features.loc[features['imd_decile'].isna(),'imd_decile'] = 0\n",
    "features.reset_index(inplace=True, drop=True)"
   ]
  },
  {
   "cell_type": "code",
   "execution_count": null,
   "id": "9451f9ff-3244-4c03-90ea-ab96fe339896",
   "metadata": {},
   "outputs": [],
   "source": [
    "features.reset_index(inplace=True, drop=True)"
   ]
  },
  {
   "cell_type": "code",
   "execution_count": 42,
   "id": "5812c8fd-2a35-438c-aebd-438d8bcecbb2",
   "metadata": {
    "tags": []
   },
   "outputs": [
    {
     "ename": "ValueError",
     "evalue": "feather does not support serializing a non-default index for the index; you can .reset_index() to make the index into column(s)",
     "output_type": "error",
     "traceback": [
      "\u001b[0;31m---------------------------------------------------------------------------\u001b[0m",
      "\u001b[0;31mValueError\u001b[0m                                Traceback (most recent call last)",
      "\u001b[0;32m/tmp/ipykernel_1869/1874269685.py\u001b[0m in \u001b[0;36m<module>\u001b[0;34m\u001b[0m\n\u001b[0;32m----> 1\u001b[0;31m \u001b[0mfeatures\u001b[0m\u001b[0;34m.\u001b[0m\u001b[0mto_feather\u001b[0m\u001b[0;34m(\u001b[0m\u001b[0;34m'../FinalData/cleaned_features_08112023.feather'\u001b[0m\u001b[0;34m)\u001b[0m\u001b[0;34m\u001b[0m\u001b[0;34m\u001b[0m\u001b[0m\n\u001b[0m",
      "\u001b[0;32m/opt/conda/envs/rapids/lib/python3.10/site-packages/pandas/util/_decorators.py\u001b[0m in \u001b[0;36mwrapper\u001b[0;34m(*args, **kwargs)\u001b[0m\n\u001b[1;32m    209\u001b[0m                 \u001b[0;32melse\u001b[0m\u001b[0;34m:\u001b[0m\u001b[0;34m\u001b[0m\u001b[0;34m\u001b[0m\u001b[0m\n\u001b[1;32m    210\u001b[0m                     \u001b[0mkwargs\u001b[0m\u001b[0;34m[\u001b[0m\u001b[0mnew_arg_name\u001b[0m\u001b[0;34m]\u001b[0m \u001b[0;34m=\u001b[0m \u001b[0mnew_arg_value\u001b[0m\u001b[0;34m\u001b[0m\u001b[0;34m\u001b[0m\u001b[0m\n\u001b[0;32m--> 211\u001b[0;31m             \u001b[0;32mreturn\u001b[0m \u001b[0mfunc\u001b[0m\u001b[0;34m(\u001b[0m\u001b[0;34m*\u001b[0m\u001b[0margs\u001b[0m\u001b[0;34m,\u001b[0m \u001b[0;34m**\u001b[0m\u001b[0mkwargs\u001b[0m\u001b[0;34m)\u001b[0m\u001b[0;34m\u001b[0m\u001b[0;34m\u001b[0m\u001b[0m\n\u001b[0m\u001b[1;32m    212\u001b[0m \u001b[0;34m\u001b[0m\u001b[0m\n\u001b[1;32m    213\u001b[0m         \u001b[0;32mreturn\u001b[0m \u001b[0mcast\u001b[0m\u001b[0;34m(\u001b[0m\u001b[0mF\u001b[0m\u001b[0;34m,\u001b[0m \u001b[0mwrapper\u001b[0m\u001b[0;34m)\u001b[0m\u001b[0;34m\u001b[0m\u001b[0;34m\u001b[0m\u001b[0m\n",
      "\u001b[0;32m/opt/conda/envs/rapids/lib/python3.10/site-packages/pandas/core/frame.py\u001b[0m in \u001b[0;36mto_feather\u001b[0;34m(self, path, **kwargs)\u001b[0m\n\u001b[1;32m   2793\u001b[0m         \u001b[0;32mfrom\u001b[0m \u001b[0mpandas\u001b[0m\u001b[0;34m.\u001b[0m\u001b[0mio\u001b[0m\u001b[0;34m.\u001b[0m\u001b[0mfeather_format\u001b[0m \u001b[0;32mimport\u001b[0m \u001b[0mto_feather\u001b[0m\u001b[0;34m\u001b[0m\u001b[0;34m\u001b[0m\u001b[0m\n\u001b[1;32m   2794\u001b[0m \u001b[0;34m\u001b[0m\u001b[0m\n\u001b[0;32m-> 2795\u001b[0;31m         \u001b[0mto_feather\u001b[0m\u001b[0;34m(\u001b[0m\u001b[0mself\u001b[0m\u001b[0;34m,\u001b[0m \u001b[0mpath\u001b[0m\u001b[0;34m,\u001b[0m \u001b[0;34m**\u001b[0m\u001b[0mkwargs\u001b[0m\u001b[0;34m)\u001b[0m\u001b[0;34m\u001b[0m\u001b[0;34m\u001b[0m\u001b[0m\n\u001b[0m\u001b[1;32m   2796\u001b[0m \u001b[0;34m\u001b[0m\u001b[0m\n\u001b[1;32m   2797\u001b[0m     @doc(\n",
      "\u001b[0;32m/opt/conda/envs/rapids/lib/python3.10/site-packages/pandas/io/feather_format.py\u001b[0m in \u001b[0;36mto_feather\u001b[0;34m(df, path, storage_options, **kwargs)\u001b[0m\n\u001b[1;32m     71\u001b[0m \u001b[0;34m\u001b[0m\u001b[0m\n\u001b[1;32m     72\u001b[0m     \u001b[0;32mif\u001b[0m \u001b[0;32mnot\u001b[0m \u001b[0mdf\u001b[0m\u001b[0;34m.\u001b[0m\u001b[0mindex\u001b[0m\u001b[0;34m.\u001b[0m\u001b[0mequals\u001b[0m\u001b[0;34m(\u001b[0m\u001b[0mRangeIndex\u001b[0m\u001b[0;34m.\u001b[0m\u001b[0mfrom_range\u001b[0m\u001b[0;34m(\u001b[0m\u001b[0mrange\u001b[0m\u001b[0;34m(\u001b[0m\u001b[0mlen\u001b[0m\u001b[0;34m(\u001b[0m\u001b[0mdf\u001b[0m\u001b[0;34m)\u001b[0m\u001b[0;34m)\u001b[0m\u001b[0;34m)\u001b[0m\u001b[0;34m)\u001b[0m\u001b[0;34m:\u001b[0m\u001b[0;34m\u001b[0m\u001b[0;34m\u001b[0m\u001b[0m\n\u001b[0;32m---> 73\u001b[0;31m         raise ValueError(\n\u001b[0m\u001b[1;32m     74\u001b[0m             \u001b[0;34m\"feather does not support serializing a non-default index for the index; \"\u001b[0m\u001b[0;34m\u001b[0m\u001b[0;34m\u001b[0m\u001b[0m\n\u001b[1;32m     75\u001b[0m             \u001b[0;34m\"you can .reset_index() to make the index into column(s)\"\u001b[0m\u001b[0;34m\u001b[0m\u001b[0;34m\u001b[0m\u001b[0m\n",
      "\u001b[0;31mValueError\u001b[0m: feather does not support serializing a non-default index for the index; you can .reset_index() to make the index into column(s)"
     ]
    }
   ],
   "source": [
    "features.to_feather('../FinalData/cleaned_features_08112023.feather')"
   ]
  },
  {
   "cell_type": "markdown",
   "id": "21944671-0221-47fc-abdb-5b0fef1d89d9",
   "metadata": {},
   "source": [
    "# Outcome"
   ]
  },
  {
   "cell_type": "code",
   "execution_count": 41,
   "id": "ab066368-37b9-4cdd-9fb5-94201ed2d7dc",
   "metadata": {
    "tags": []
   },
   "outputs": [
    {
     "data": {
      "text/plain": [
       "(696659, 9)"
      ]
     },
     "execution_count": 41,
     "metadata": {},
     "output_type": "execute_result"
    }
   ],
   "source": [
    "outcomes = pd.read_csv('../FinalData/data_outcomes_08112023.csv')\n",
    "outcomes = outcomes.iloc[:,1:]\n",
    "#select only patients included in features\n",
    "outcomes = outcomes[outcomes.patid.isin(features.patid.values)]\n",
    "outcomes.shape"
   ]
  },
  {
   "cell_type": "code",
   "execution_count": 9,
   "id": "e1593f1d-3811-4b36-930a-3aefa2b74f65",
   "metadata": {
    "tags": []
   },
   "outputs": [
    {
     "data": {
      "text/plain": [
       "(732472, 9)"
      ]
     },
     "execution_count": 9,
     "metadata": {},
     "output_type": "execute_result"
    }
   ],
   "source": [
    "outcomes.shape"
   ]
  },
  {
   "cell_type": "code",
   "execution_count": null,
   "id": "f8f68ae8-4af4-4e5e-afd5-6f668e8287b2",
   "metadata": {
    "tags": []
   },
   "outputs": [],
   "source": [
    "outcomes[\"outcome_combined_6months\"] = outcomes.apply(lambda x: (x[\"outcome_3months\"] | x[\"outcome_6months\"]), axis=1)\n",
    "outcomes[\"outcome_combined_9months\"] = outcomes.apply(lambda x: (x[\"outcome_combined_6months\"] | x[\"outcome_9months\"]), axis=1)\n",
    "outcomes[\"outcome_combined_12months\"] = outcomes.apply(lambda x: (x[\"outcome_combined_9months\"] | x[\"outcome_12months\"]), axis=1)\n",
    "outcomes[\"outcome_combined_15months\"] = outcomes.apply(lambda x: (x[\"outcome_combined_12months\"] | x[\"outcome_15months\"]), axis=1)\n",
    "outcomes[\"outcome_combined_18months\"] = outcomes.apply(lambda x: (x[\"outcome_combined_15months\"] | x[\"outcome_18months\"]), axis=1)\n",
    "outcomes[\"outcome_combined_24months\"] = outcomes.apply(lambda x: (x[\"outcome_combined_18months\"] | x[\"outcome_24months\"]), axis=1)\n",
    "outcomes['new_3MonthsOutcome'] = outcomes.apply(lambda x: x.outcome_15months, axis=1)\n",
    "outcomes['new_6MonthsOutcome'] = outcomes.apply(lambda x: (x.outcome_15months)|(x.outcome_18months), axis=1)\n",
    "outcomes['new_9MonthsOutcome'] = outcomes.apply(lambda x: (x.outcome_15months)|(x.outcome_18months)|(x.outcome_21months), axis=1)\n",
    "outcomes['new_12MonthsOutcome'] = outcomes.apply(lambda x: (x.outcome_15months)|(x.outcome_18months)|(x.outcome_21months)|(x.outcome_24months), axis=1)\n",
    "outcomes.shape"
   ]
  },
  {
   "cell_type": "code",
   "execution_count": null,
   "id": "8ce0d8c0-51e9-49c9-985f-3feece6a308e",
   "metadata": {
    "tags": []
   },
   "outputs": [],
   "source": [
    "outcomes.shape"
   ]
  },
  {
   "cell_type": "code",
   "execution_count": null,
   "id": "019bb4bd-d45f-48a4-af90-13c1063eb40b",
   "metadata": {
    "tags": []
   },
   "outputs": [],
   "source": [
    "outcomes.columns"
   ]
  },
  {
   "cell_type": "code",
   "execution_count": null,
   "id": "c9ca7297-0d77-45d8-a948-e8a993e7387e",
   "metadata": {
    "tags": []
   },
   "outputs": [],
   "source": [
    "outcomes.to_csv('../FinalData/cleaned_outcomes_11072023.csv', index_label=False, index=False)"
   ]
  }
 ],
 "metadata": {
  "kernelspec": {
   "display_name": "Python 3 (ipykernel)",
   "language": "python",
   "name": "python3"
  },
  "language_info": {
   "codemirror_mode": {
    "name": "ipython",
    "version": 3
   },
   "file_extension": ".py",
   "mimetype": "text/x-python",
   "name": "python",
   "nbconvert_exporter": "python",
   "pygments_lexer": "ipython3",
   "version": "3.10.11"
  }
 },
 "nbformat": 4,
 "nbformat_minor": 5
}
