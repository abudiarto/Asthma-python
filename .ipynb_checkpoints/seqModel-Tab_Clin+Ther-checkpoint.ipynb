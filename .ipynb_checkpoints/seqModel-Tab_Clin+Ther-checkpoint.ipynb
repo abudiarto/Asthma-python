{
 "cells": [
  {
   "cell_type": "markdown",
   "id": "cc8032a7-260b-40a8-8cbe-e292ab403047",
   "metadata": {},
   "source": [
    "# LSTM Model using Therapy sequence"
   ]
  },
  {
   "cell_type": "code",
   "execution_count": 1,
   "id": "ae1286de-3d50-4eb3-b3c7-a4404748f00b",
   "metadata": {
    "tags": []
   },
   "outputs": [
    {
     "name": "stderr",
     "output_type": "stream",
     "text": [
      "2023-12-08 09:49:44.023668: I tensorflow/core/util/port.cc:111] oneDNN custom operations are on. You may see slightly different numerical results due to floating-point round-off errors from different computation orders. To turn them off, set the environment variable `TF_ENABLE_ONEDNN_OPTS=0`.\n",
      "2023-12-08 09:49:44.055232: E tensorflow/compiler/xla/stream_executor/cuda/cuda_dnn.cc:9342] Unable to register cuDNN factory: Attempting to register factory for plugin cuDNN when one has already been registered\n",
      "2023-12-08 09:49:44.055272: E tensorflow/compiler/xla/stream_executor/cuda/cuda_fft.cc:609] Unable to register cuFFT factory: Attempting to register factory for plugin cuFFT when one has already been registered\n",
      "2023-12-08 09:49:44.055297: E tensorflow/compiler/xla/stream_executor/cuda/cuda_blas.cc:1518] Unable to register cuBLAS factory: Attempting to register factory for plugin cuBLAS when one has already been registered\n",
      "2023-12-08 09:49:44.061968: I tensorflow/core/platform/cpu_feature_guard.cc:182] This TensorFlow binary is optimized to use available CPU instructions in performance-critical operations.\n",
      "To enable the following instructions: AVX2 AVX512F AVX512_VNNI FMA, in other operations, rebuild TensorFlow with the appropriate compiler flags.\n"
     ]
    }
   ],
   "source": [
    "import tensorflow as tf\n",
    "from tensorflow.keras.datasets import imdb\n",
    "from tensorflow.keras.models import Sequential, Model, load_model\n",
    "from tensorflow.keras.layers import Dense, LSTM, Embedding, Dropout, Bidirectional, Input, concatenate, Reshape, Activation, Flatten, Add, BatchNormalization, Multiply, LeakyReLU\n",
    "from tensorflow.keras.preprocessing import sequence\n",
    "from tensorflow.keras.callbacks import EarlyStopping, ModelCheckpoint, ReduceLROnPlateau, TensorBoard\n",
    "from tensorflow.keras.metrics import AUC, SensitivityAtSpecificity\n",
    "from tensorflow.keras.optimizers import Adam, Adagrad, RMSprop, Adamax, SGD, Adadelta\n",
    "from tensorflow.keras.initializers import Constant\n",
    "from tensorflow.keras.regularizers import L1L2, L1, L2\n",
    "from livelossplot import PlotLossesKeras\n",
    "#internal validation\n",
    "from sklearn.model_selection import train_test_split\n",
    "from sklearn.metrics import confusion_matrix, classification_report, f1_score, balanced_accuracy_score, matthews_corrcoef, auc, average_precision_score, roc_auc_score, balanced_accuracy_score, roc_curve, accuracy_score\n",
    "from sklearn.preprocessing import StandardScaler, MinMaxScaler\n",
    "\n",
    "import matplotlib.pyplot as plt\n",
    "\n",
    "import numpy as np\n",
    "import pandas as pd\n",
    "import pickle\n",
    "\n",
    "# fix random seed for reproducibility\n",
    "tf.random.set_seed(1234)\n",
    "\n"
   ]
  },
  {
   "cell_type": "code",
   "execution_count": null,
   "id": "99d66269-80cc-4450-9432-b75bcb598efb",
   "metadata": {
    "tags": []
   },
   "outputs": [],
   "source": [
    "# # load the dataset but only keep the top n words, zero the rest\n",
    "# data = pickle.load(open('../SeqModel/data_all_big_08112023_75%.sav', 'rb'))\n",
    "# code2idx = pickle.load(open('../SeqModel/code2idx_all_big_08112023_75%.sav', 'rb'))\n",
    "# idx2code = pickle.load(open('../SeqModel/idx2code_all_big_08112023_75%.sav', 'rb'))\n",
    "\n",
    "# vocab_size = len(code2idx)\n",
    "# vocab_size"
   ]
  },
  {
   "cell_type": "code",
   "execution_count": null,
   "id": "eedb216e-17e1-487b-b392-ce5936f396de",
   "metadata": {
    "tags": []
   },
   "outputs": [],
   "source": [
    "# tabularData = pd.read_csv('../FinalData/cleaned_features_08112023.csv')\n",
    "# tabularData = tabularData.drop_duplicates(subset=['patid'])\n",
    "\n",
    "# extractVars = ['patid', 'sex', 'BMI', 'imd_decile', 'smokingStatus', 'month_1', 'month_2', 'month_3',\n",
    "#  'month_4', 'month_5', 'month_6', 'month_7', 'month_8', 'month_9',\n",
    "#  'month_10', 'month_11', 'month_12', ]\n",
    "\n",
    "# data = data.merge(tabularData[extractVars], how = 'left', on='patid')\n",
    "# data = pd.get_dummies(data, columns=['imd_decile', 'smokingStatus']) #one hot encoding\n",
    "# tabularData = []"
   ]
  },
  {
   "cell_type": "code",
   "execution_count": null,
   "id": "23098e77-76c5-422c-bdbd-a0152e9876c4",
   "metadata": {
    "tags": []
   },
   "outputs": [],
   "source": [
    "# #Data split conventional (mixed countries)\n",
    "# trainingData, testData = train_test_split(data, test_size=0.1, stratify=data[target_outcome], random_state=1234)\n",
    "# trainingData, valData = train_test_split(trainingData, test_size=0.2, stratify=trainingData[target_outcome], random_state=1234)\n",
    "# print(trainingData.shape)\n",
    "# print(valData.shape)\n",
    "# print(testData.shape)"
   ]
  },
  {
   "cell_type": "code",
   "execution_count": null,
   "id": "9d0d0809-4055-42b9-a738-5438011b7eb4",
   "metadata": {
    "tags": []
   },
   "outputs": [],
   "source": [
    "# #Data split, train=England, eval=Scot+Wales\n",
    "# trainingData = data[(data.Country == 'England') & (data.age >= 18)]\n",
    "# trainingData, valData = train_test_split(trainingData, test_size=0.2, stratify=trainingData[target_outcome], random_state=1234)\n",
    "# trainingData, evalData = train_test_split(trainingData, test_size=0.2, stratify=trainingData[target_outcome], random_state=1234)\n",
    "# testData = data[((data.Country == 'Wales') | (data.Country == 'Scotland')) & (data.age >= 18)]\n",
    "# testDataWales = data[(data.Country == 'Wales') & (data.age >= 18)]\n",
    "# testDataScotland = data[(data.Country == 'Scotland') & (data.age >= 18)]"
   ]
  },
  {
   "cell_type": "code",
   "execution_count": null,
   "id": "9f157bd3-b8a1-47e5-b6de-3e4f7d466bb5",
   "metadata": {
    "tags": []
   },
   "outputs": [],
   "source": [
    "# print('Train: ', trainingData.shape[0])\n",
    "# print('Val: ', valData.shape[0])\n",
    "# print('Eval (internal validation): ', evalData.shape[0])\n",
    "# print('Test: ', testData.shape[0])\n",
    "# print('Test - Wales: ', testDataWales.shape[0])\n",
    "# print('Test - Scotland: ', testDataScotland.shape[0])"
   ]
  },
  {
   "cell_type": "code",
   "execution_count": null,
   "id": "bdf217de-6216-4a7d-b8ef-705c69fb52cf",
   "metadata": {
    "tags": []
   },
   "outputs": [],
   "source": [
    "# print(trainingData.patid.unique().shape)\n",
    "# print(trainingData.shape)"
   ]
  },
  {
   "cell_type": "code",
   "execution_count": null,
   "id": "a8913a7a-5e44-4359-85a4-5e4bdf6501c7",
   "metadata": {
    "scrolled": true,
    "tags": []
   },
   "outputs": [],
   "source": [
    "# #make sure no data leak between sets\n",
    "# print(list(set(trainingData.patid.values).intersection(set(valData.patid.values))))\n",
    "# print(list(set(trainingData.patid.values).intersection(set(evalData.patid.values))))\n",
    "# print(list(set(valData.patid.values).intersection(set(evalData.patid.values))))\n",
    "# print(list(set(valData.patid.values).intersection(set(testData.patid.values))))\n",
    "# print(list(set(trainingData.patid.values).intersection(set(testData.patid.values))))\n",
    "# print(list(set(testData.patid.values).intersection(set(testDataScotland.patid.values)))) # here data leak is expected"
   ]
  },
  {
   "cell_type": "code",
   "execution_count": null,
   "id": "a8ae2fa9-09d0-4bdc-ba46-3abec45b4c66",
   "metadata": {
    "scrolled": true,
    "tags": []
   },
   "outputs": [],
   "source": [
    "# print(trainingData[target_outcome].value_counts(normalize=True))\n",
    "# print(valData[target_outcome].value_counts(normalize=True))\n",
    "# print(evalData[target_outcome].value_counts(normalize=True))\n",
    "# print(testData[target_outcome].value_counts(normalize=True))\n",
    "# print(testDataWales[target_outcome].value_counts(normalize=True))\n",
    "# print(testDataScotland[target_outcome].value_counts(normalize=True))"
   ]
  },
  {
   "cell_type": "code",
   "execution_count": null,
   "id": "fda86638-d182-41ef-9b33-679250bb3445",
   "metadata": {
    "tags": []
   },
   "outputs": [],
   "source": [
    "# tabularVars = ['age', 'sex', 'BMI', 'smokingStatus_Active Smoker', \n",
    "#                    'smokingStatus_Former Smoker', 'smokingStatus_Non Smoker',\n",
    "#                    'imd_decile_0.0', 'imd_decile_1.0', 'imd_decile_2.0', 'imd_decile_3.0',\n",
    "#                    'imd_decile_4.0', 'imd_decile_5.0', 'imd_decile_6.0', 'imd_decile_7.0',\n",
    "#                    'imd_decile_8.0', 'imd_decile_9.0', 'imd_decile_10.0', \n",
    "#                    # 'month_1', 'month_2', 'month_3','month_4', 'month_5', \n",
    "#                    # 'month_6', 'month_7', 'month_8', 'month_9', 'month_10', \n",
    "#                    # 'month_11', 'month_12',\n",
    "#                   ]\n",
    "# Xt_train = np.array(trainingData[tabularVars].values)\n",
    "# Xt_val = np.array(valData[tabularVars].values)\n",
    "# Xt_eval = np.array(evalData[tabularVars].values)\n",
    "# Xt_test = np.array(testData[tabularVars].values)\n",
    "# Xt_testWales = np.array(testDataWales[tabularVars].values)\n",
    "# Xt_testScotland= np.array(testDataScotland[tabularVars].values)\n",
    "\n",
    "# Xs_train = np.array(trainingData.read_code_seq_padded_idx_end.values)\n",
    "# Xs_train = np.array([x for x in Xs_train])\n",
    "# Xs_val = np.array(valData.read_code_seq_padded_idx_end.values)\n",
    "# Xs_val = np.array([x for x in Xs_val])\n",
    "# Xs_eval = np.array(evalData.read_code_seq_padded_idx_end.values)\n",
    "# Xs_eval = np.array([x for x in Xs_eval])\n",
    "# Xs_test = np.array(testData.read_code_seq_padded_idx_end.values)\n",
    "# Xs_test = np.array([x for x in Xs_test])\n",
    "# Xs_testWales = np.array(testDataWales.read_code_seq_padded_idx_end.values)\n",
    "# Xs_testWales = np.array([x for x in Xs_testWales])\n",
    "# Xs_testScotland = np.array(testDataScotland.read_code_seq_padded_idx_end.values)\n",
    "# Xs_testScotland = np.array([x for x in Xs_testScotland])\n",
    "\n",
    "# Xm_train = np.array(trainingData.month_padded_idx_end.values)\n",
    "# Xm_train = np.array([x for x in Xm_train])\n",
    "# Xm_val = np.array(valData.month_padded_idx_end.values)\n",
    "# Xm_val = np.array([x for x in Xm_val])\n",
    "# Xm_eval = np.array(evalData.month_padded_idx_end.values)\n",
    "# Xm_eval = np.array([x for x in Xm_eval])\n",
    "# Xm_test = np.array(testData.month_padded_idx_end.values)\n",
    "# Xm_test = np.array([x for x in Xm_test])\n",
    "# Xm_testWales = np.array(testDataWales.month_padded_idx_end.values)\n",
    "# Xm_testWales = np.array([x for x in Xm_testWales])\n",
    "# Xm_testScotland = np.array(testDataScotland.month_padded_idx_end.values)\n",
    "# Xm_testScotland = np.array([x for x in Xm_testScotland])\n",
    "\n",
    "# y_train = trainingData[target_outcome].values\n",
    "# y_val = valData[target_outcome].values\n",
    "# y_eval = evalData[target_outcome].values\n",
    "# y_test = testData[target_outcome].values\n",
    "# y_testWales = testDataWales[target_outcome].values\n",
    "# y_testScotland = testDataScotland[target_outcome].values\n",
    "\n",
    "# #scalling tabular data\n",
    "# scaler = StandardScaler().fit(Xt_train)\n",
    "# Xt_train = scaler.transform(Xt_train)\n",
    "# Xt_val = scaler.transform(Xt_val)\n",
    "# Xt_eval = scaler.transform(Xt_eval)\n",
    "# Xt_test = scaler.transform(Xt_test)\n",
    "# Xt_testWales = scaler.transform(Xt_testWales)\n",
    "# Xt_testScotland = scaler.transform(Xt_testScotland)"
   ]
  },
  {
   "cell_type": "code",
   "execution_count": null,
   "id": "25ed906e-adb2-4c91-b2ef-fb50bd84ba3c",
   "metadata": {
    "tags": []
   },
   "outputs": [],
   "source": [
    "# # X and y\n",
    "# X_train = np.array(trainingData.read_code_seq_padded_idx.values)\n",
    "# X_train = np.array([x for x in X_train])\n",
    "# X_val = np.array(valData.read_code_seq_padded_idx.values)\n",
    "# X_val = np.array([x for x in X_val])\n",
    "# X_eval = np.array(evalData.read_code_seq_padded_idx.values)\n",
    "# X_eval = np.array([x for x in X_eval])\n",
    "# X_test = np.array(testData.read_code_seq_padded_idx.values)\n",
    "# X_test = np.array([x for x in X_test])\n",
    "# X_testWales = np.array(testDataWales.read_code_seq_padded_idx.values)\n",
    "# X_testWales = np.array([x for x in X_testWales])\n",
    "# X_testScotland = np.array(testDataScotland.read_code_seq_padded_idx.values)\n",
    "# X_testScotland = np.array([x for x in X_testScotland])\n",
    "\n",
    "# y_train = trainingData[target_outcome].values\n",
    "# y_val = valData[target_outcome].values\n",
    "# y_eval = evalData[target_outcome].values\n",
    "# y_test = testData[target_outcome].values\n",
    "# y_testWales = testDataWales[target_outcome].values\n",
    "# y_testScotland = testDataScotland[target_outcome].values"
   ]
  },
  {
   "cell_type": "code",
   "execution_count": null,
   "id": "6e68994d-76d7-4bb4-9dcd-fb1b2bf394bc",
   "metadata": {
    "tags": []
   },
   "outputs": [],
   "source": [
    "datasets_therapy = pickle.load(open('../SeqModel/datasets_1year_therapy.sav', 'rb'))\n",
    "trainingData_therapy, valData_therapy, evalData_therapy, testData_therapy, testDataWales_therapy, testDataScotland_therapy = datasets_therapy"
   ]
  },
  {
   "cell_type": "code",
   "execution_count": null,
   "id": "3e2d84be-2e37-4050-b591-8730d3adfda4",
   "metadata": {
    "tags": []
   },
   "outputs": [],
   "source": [
    "datasets_clinical = pickle.load(open('../SeqModel/datasets_1year_clinical.sav', 'rb'))\n",
    "trainingData_clinical, valData_clinical, evalData_clinical, testData_clinical, testDataWales_clinical, testDataScotland_clinical = datasets_clinical"
   ]
  },
  {
   "cell_type": "code",
   "execution_count": null,
   "id": "609ba987-c617-491a-b98c-877d3b449fca",
   "metadata": {
    "tags": []
   },
   "outputs": [],
   "source": [
    "trainingData_therapy.columns"
   ]
  },
  {
   "cell_type": "code",
   "execution_count": null,
   "id": "f444c72e-18e9-4aa5-9da3-90944cdcdf57",
   "metadata": {
    "tags": []
   },
   "outputs": [],
   "source": [
    "data_therapy = pd.read_feather('../SeqModel/all_data_1year_therapy.feather')"
   ]
  },
  {
   "cell_type": "code",
   "execution_count": null,
   "id": "9ac18bcb-eced-4360-93f6-4d529c65a505",
   "metadata": {
    "tags": []
   },
   "outputs": [],
   "source": [
    "data_therapy.merge(datasets_clinical, suffixes=)"
   ]
  },
  {
   "cell_type": "markdown",
   "id": "a9d1e4f0-1280-448d-8df8-55a2dd6648d9",
   "metadata": {},
   "source": [
    "# RUN"
   ]
  },
  {
   "cell_type": "code",
   "execution_count": 3,
   "id": "f2e26e6d-1fba-430e-a954-9676cc730947",
   "metadata": {
    "tags": []
   },
   "outputs": [
    {
     "name": "stdout",
     "output_type": "stream",
     "text": [
      "49405\n",
      "10313\n",
      "13\n"
     ]
    }
   ],
   "source": [
    "sets =  pickle.load(open('../SeqModel/training_dataset_ClinTher.sav', 'rb'))\n",
    "sets_eval = pickle.load(open('../SeqModel/test_dataset_ClinTher.sav', 'rb'))\n",
    "code2idx_clin = pickle.load(open('../SeqModel/all_vocab_1year_clinical.sav', 'rb'))\n",
    "code2idx_ther = pickle.load(open('../SeqModel/all_vocab_1year_therapy.sav', 'rb'))\n",
    "month2idx = pickle.load(open('../SeqModel/all_vocab_month.sav', 'rb'))\n",
    "vocab_size_clinical = len(code2idx_clin)+1\n",
    "vocab_size_therapy = len(code2idx_ther)+1\n",
    "month_size = len(month2idx)+1\n",
    "print(vocab_size_clinical)\n",
    "print(vocab_size_therapy)\n",
    "print(month_size)"
   ]
  },
  {
   "cell_type": "code",
   "execution_count": 4,
   "id": "6af0a99e-6756-4ac7-81ff-cf991c3d21bd",
   "metadata": {
    "tags": []
   },
   "outputs": [],
   "source": [
    "Xt_train, Xt_val, Xt_eval, Xs_clin_train, Xs_clin_val, Xs_clin_eval, Xs_ther_train, Xs_ther_val, Xs_ther_eval, Xm_clin_train, Xm_clin_val, Xm_clin_eval, Xm_ther_train, Xm_ther_val, Xm_ther_eval, y_train, y_val, y_eval = sets\n",
    "Xt_test, Xt_testWales, Xt_testScotland, Xs_clin_test, Xs_clin_testWales, Xs_clin_testScotland, Xs_ther_test, Xs_ther_testWales, Xs_ther_testScotland, Xm_clin_test, Xm_clin_testWales, Xm_clin_testScotland, Xm_ther_test, Xm_ther_testWales, Xm_ther_testScotland, y_test, y_testWales, y_testScotland = sets_eval"
   ]
  },
  {
   "cell_type": "code",
   "execution_count": 5,
   "id": "add5e859-7525-40af-966e-02c99c4399af",
   "metadata": {
    "tags": []
   },
   "outputs": [
    {
     "name": "stdout",
     "output_type": "stream",
     "text": [
      "Train:  (45552, 118)\n",
      "Val:  24403\n",
      "Eval (internal validation):  11388\n",
      "Test:  5287\n",
      "Test - Wales:  3023\n",
      "Test - Scotland:  2264\n"
     ]
    }
   ],
   "source": [
    "print('Train: ', Xs_ther_train.shape)\n",
    "print('Val: ', Xs_ther_val.shape[0])\n",
    "print('Eval (internal validation): ', Xs_ther_eval.shape[0])\n",
    "print('Test: ', Xs_ther_test.shape[0])\n",
    "print('Test - Wales: ', Xs_ther_testWales.shape[0])\n",
    "print('Test - Scotland: ', Xs_ther_testScotland.shape[0])"
   ]
  },
  {
   "cell_type": "code",
   "execution_count": 6,
   "id": "692d48bc-7f2c-49f0-89d3-6ce06ebfb9dd",
   "metadata": {
    "tags": []
   },
   "outputs": [
    {
     "name": "stdout",
     "output_type": "stream",
     "text": [
      "{0: 1, 1: 5.049402390438247}\n"
     ]
    }
   ],
   "source": [
    "pos_weight = sum(x == 0 for x in y_train)/sum(x == 1 for x in y_train)\n",
    "class_weight = {0:1, 1:pos_weight}\n",
    "print(class_weight)"
   ]
  },
  {
   "cell_type": "code",
   "execution_count": 7,
   "id": "95667606-62df-44a4-a3db-7a440d36947f",
   "metadata": {
    "tags": []
   },
   "outputs": [],
   "source": [
    "target_outcome = '12months'\n",
    "max_codes_clin = 31\n",
    "max_codes_ther = 63\n",
    "tab_feature_size = Xt_train.shape[1]"
   ]
  },
  {
   "cell_type": "code",
   "execution_count": 22,
   "id": "ff45f82c-62f0-4eab-8a38-1f6519f8d2e5",
   "metadata": {
    "tags": []
   },
   "outputs": [],
   "source": [
    "def hierarchical():\n",
    "    #tabular dara - demography   \n",
    "    inputs1 = Input(shape=tab_feature_size)\n",
    "    nn = Dense(32, activation='relu', kernel_initializer='glorot_uniform', kernel_regularizer=L1L2(l1=0.0, l2=0.1))(inputs1)\n",
    "    nn = Dropout(0.5)(nn)\n",
    "    \n",
    "    #clinical embedding for lstm\n",
    "    inputs2 = Input(shape=max_codes_clin)\n",
    "    embedding_clin = Embedding(vocab_size_clinical, int(np.cbrt(vocab_size_clinical)), input_length=max_codes_clin)(inputs2)\n",
    "    lstmClinical = Bidirectional(LSTM(units=16, return_sequences=True, kernel_regularizer=L1L2(l1=0.0, l2=0.1)))(embedding_clin)\n",
    "    \n",
    "    \n",
    "    ###Layer 1 - merge tab and lstm clin\n",
    "    nn = Reshape((1, 32))(nn)\n",
    "    add = concatenate([nn, lstmClinical], axis=1)\n",
    "    \n",
    "    \n",
    "    #therapy embedding for lstm\n",
    "    inputs3 = Input(shape=max_codes_ther)\n",
    "    embedding_ther = Embedding(vocab_size_therapy, int(np.cbrt(vocab_size_therapy)), input_length=max_codes_ther)(inputs3)\n",
    "    lstmTherapy = Bidirectional(LSTM(units=16, return_sequences=True, kernel_regularizer=L1L2(l1=0.0, l2=0.1)))(embedding_ther)\n",
    "    \n",
    "    ###Layer 2 - merge add (tab+clin) and lstm ther\n",
    "    add = concatenate([add, lstmTherapy], axis=1)\n",
    "    \n",
    "    ###layer 3 - LSTM to the final product\n",
    "    lstm = Bidirectional(LSTM(units=8, return_sequences=True, kernel_regularizer=L1L2(l1=0.0, l2=0.1)))(add)\n",
    "    lstm = Dropout(0.5)(lstm)\n",
    "    \n",
    "    \n",
    "    ###layer 4 - FCN before classification layer\n",
    "    final = Dense(units=8, activation=LeakyReLU())(lstm)\n",
    "    final = Flatten()(final)\n",
    "    finalr = Dropout(0.5)(final)\n",
    "    \n",
    "    ###layer 5 - classification layer\n",
    "    output = Dense(1, activation='sigmoid')(final)\n",
    "    \n",
    "    opt = RMSprop(learning_rate=1e-3, clipvalue=.5)\n",
    "    metrics = [\n",
    "        AUC(num_thresholds=1000, name='auc', curve='ROC'),\n",
    "        AUC(num_thresholds=1000, name='auprc', curve='PR'),\n",
    "        tf.keras.metrics.Precision(name='prec'),\n",
    "        tf.keras.metrics.Recall(name='rec'),\n",
    "        tf.keras.metrics.TrueNegatives(name='TN'),\n",
    "        tf.keras.metrics.TruePositives(name='TP'),\n",
    "        tf.keras.metrics.PrecisionAtRecall(0.8)\n",
    "    ]\n",
    "    \n",
    "    loss = tf.keras.losses.BinaryCrossentropy()\n",
    "    \n",
    "    model = Model(inputs=[inputs1, inputs2, inputs3], outputs=output)\n",
    "    model.compile(\n",
    "        loss='binary_crossentropy', \n",
    "        optimizer=opt, \n",
    "        metrics=metrics)\n",
    "    return model"
   ]
  },
  {
   "cell_type": "code",
   "execution_count": 23,
   "id": "b1375ac8-eeac-420d-bb0b-3c62b2494cf9",
   "metadata": {
    "tags": []
   },
   "outputs": [
    {
     "name": "stdout",
     "output_type": "stream",
     "text": [
      "50\n"
     ]
    }
   ],
   "source": [
    "# from sklearn.utils import class_weight\n",
    "# sklearn_weights = class_weight.compute_class_weight('balanced', classes=np.unique(y_train), y=y_train)\n",
    "# class_weight = dict(enumerate(sklearn_weights))\n",
    "\n",
    "#Hyperparameter\n",
    "lr = 1e-5\n",
    "clipvalue = 0.2\n",
    "epoch = 1000\n",
    "batch_size = 256\n",
    "embedding_vector_length = 50\n",
    "month_embedding_vector_length = 5\n",
    "# embedding_vector_length = int(np.sqrt(vocab_size))\n",
    "# embedding_vector_length = int(np.cbrt(vocab_size))\n",
    "print(embedding_vector_length)"
   ]
  },
  {
   "cell_type": "code",
   "execution_count": 24,
   "id": "4bb0d784-620b-44e3-8aeb-c3d39b8dce0a",
   "metadata": {
    "scrolled": true,
    "tags": []
   },
   "outputs": [
    {
     "name": "stdout",
     "output_type": "stream",
     "text": [
      "Model: \"model_1\"\n",
      "__________________________________________________________________________________________________\n",
      " Layer (type)                Output Shape                 Param #   Connected to                  \n",
      "==================================================================================================\n",
      " input_11 (InputLayer)       [(None, 20)]                 0         []                            \n",
      "                                                                                                  \n",
      " dense_7 (Dense)             (None, 32)                   672       ['input_11[0][0]']            \n",
      "                                                                                                  \n",
      " input_12 (InputLayer)       [(None, 31)]                 0         []                            \n",
      "                                                                                                  \n",
      " dropout_7 (Dropout)         (None, 32)                   0         ['dense_7[0][0]']             \n",
      "                                                                                                  \n",
      " embedding_6 (Embedding)     (None, 31, 36)               1778580   ['input_12[0][0]']            \n",
      "                                                                                                  \n",
      " input_13 (InputLayer)       [(None, 63)]                 0         []                            \n",
      "                                                                                                  \n",
      " reshape_2 (Reshape)         (None, 1, 32)                0         ['dropout_7[0][0]']           \n",
      "                                                                                                  \n",
      " bidirectional_6 (Bidirecti  (None, 31, 32)               6784      ['embedding_6[0][0]']         \n",
      " onal)                                                                                            \n",
      "                                                                                                  \n",
      " embedding_7 (Embedding)     (None, 63, 21)               216573    ['input_13[0][0]']            \n",
      "                                                                                                  \n",
      " concatenate_4 (Concatenate  (None, 32, 32)               0         ['reshape_2[0][0]',           \n",
      " )                                                                   'bidirectional_6[0][0]']     \n",
      "                                                                                                  \n",
      " bidirectional_7 (Bidirecti  (None, 63, 32)               4864      ['embedding_7[0][0]']         \n",
      " onal)                                                                                            \n",
      "                                                                                                  \n",
      " concatenate_5 (Concatenate  (None, 95, 32)               0         ['concatenate_4[0][0]',       \n",
      " )                                                                   'bidirectional_7[0][0]']     \n",
      "                                                                                                  \n",
      " bidirectional_8 (Bidirecti  (None, 95, 16)               2624      ['concatenate_5[0][0]']       \n",
      " onal)                                                                                            \n",
      "                                                                                                  \n",
      " dropout_8 (Dropout)         (None, 95, 16)               0         ['bidirectional_8[0][0]']     \n",
      "                                                                                                  \n",
      " dense_8 (Dense)             (None, 95, 8)                136       ['dropout_8[0][0]']           \n",
      "                                                                                                  \n",
      " flatten_2 (Flatten)         (None, 760)                  0         ['dense_8[0][0]']             \n",
      "                                                                                                  \n",
      " dense_9 (Dense)             (None, 1)                    761       ['flatten_2[0][0]']           \n",
      "                                                                                                  \n",
      "==================================================================================================\n",
      "Total params: 2010994 (7.67 MB)\n",
      "Trainable params: 2010994 (7.67 MB)\n",
      "Non-trainable params: 0 (0.00 Byte)\n",
      "__________________________________________________________________________________________________\n",
      "None\n"
     ]
    }
   ],
   "source": [
    "#visualise model\n",
    "model = hierarchical()\n",
    "# model = earlyFussion()\n",
    "print(model.summary())\n",
    "\n"
   ]
  },
  {
   "cell_type": "code",
   "execution_count": 26,
   "id": "71dcd4e8-9bc0-479d-b5ac-ec2488e953ac",
   "metadata": {
    "scrolled": true,
    "tags": []
   },
   "outputs": [
    {
     "name": "stdout",
     "output_type": "stream",
     "text": [
      "Epoch 1/1000\n",
      "356/356 [==============================] - 37s 105ms/step - loss: 1.0738 - auc: 0.7056 - auprc: 0.3662 - prec: 0.3054 - rec: 0.5659 - TN: 28333.0000 - TP: 4261.0000 - precision_at_recall_1: 0.2169 - val_loss: 0.6536 - val_auc: 0.7085 - val_auprc: 0.3679 - val_prec: 0.3060 - val_rec: 0.5627 - val_TN: 15221.0000 - val_TP: 2270.0000 - val_precision_at_recall_1: 0.2205\n",
      "Epoch 2/1000\n",
      "  1/356 [..............................] - ETA: 19s - loss: 1.1148 - auc: 0.6785 - auprc: 0.4518 - prec: 0.3611 - rec: 0.5417 - TN: 81.0000 - TP: 13.0000 - precision_at_recall_1: 0.2381"
     ]
    },
    {
     "name": "stderr",
     "output_type": "stream",
     "text": [
      "/opt/conda/envs/rapids/lib/python3.10/site-packages/keras/src/engine/training.py:3079: UserWarning: You are saving your model as an HDF5 file via `model.save()`. This file format is considered legacy. We recommend using instead the native Keras format, e.g. `model.save('my_model.keras')`.\n",
      "  saving_api.save_model(\n"
     ]
    },
    {
     "name": "stdout",
     "output_type": "stream",
     "text": [
      "356/356 [==============================] - 25s 70ms/step - loss: 1.0334 - auc: 0.7170 - auprc: 0.3878 - prec: 0.3254 - rec: 0.5744 - TN: 29057.0000 - TP: 4325.0000 - precision_at_recall_1: 0.2250 - val_loss: 0.7080 - val_auc: 0.7080 - val_auprc: 0.3689 - val_prec: 0.2639 - val_rec: 0.6701 - val_TN: 12831.0000 - val_TP: 2703.0000 - val_precision_at_recall_1: 0.2201\n",
      "Epoch 3/1000\n",
      "356/356 [==============================] - 24s 68ms/step - loss: 1.0227 - auc: 0.7253 - auprc: 0.3987 - prec: 0.3259 - rec: 0.5932 - TN: 28784.0000 - TP: 4467.0000 - precision_at_recall_1: 0.2260 - val_loss: 0.6787 - val_auc: 0.7038 - val_auprc: 0.3687 - val_prec: 0.2864 - val_rec: 0.6197 - val_TN: 14141.0000 - val_TP: 2500.0000 - val_precision_at_recall_1: 0.2175\n",
      "Epoch 4/1000\n",
      "356/356 [==============================] - 23s 65ms/step - loss: 1.0176 - auc: 0.7293 - auprc: 0.4022 - prec: 0.3301 - rec: 0.5871 - TN: 29050.0000 - TP: 4421.0000 - precision_at_recall_1: 0.2294 - val_loss: 0.9125 - val_auc: 0.7079 - val_auprc: 0.3691 - val_prec: 0.2121 - val_rec: 0.8394 - val_TN: 7793.0000 - val_TP: 3386.0000 - val_precision_at_recall_1: 0.2243\n",
      "Epoch 5/1000\n",
      "356/356 [==============================] - 22s 62ms/step - loss: 1.0156 - auc: 0.7281 - auprc: 0.4051 - prec: 0.3347 - rec: 0.5892 - TN: 29203.0000 - TP: 4437.0000 - precision_at_recall_1: 0.2255 - val_loss: 0.5968 - val_auc: 0.7054 - val_auprc: 0.3680 - val_prec: 0.3297 - val_rec: 0.4945 - val_TN: 16313.0000 - val_TP: 1995.0000 - val_precision_at_recall_1: 0.2178\n",
      "Epoch 6/1000\n",
      "356/356 [==============================] - 22s 62ms/step - loss: 1.0122 - auc: 0.7315 - auprc: 0.4071 - prec: 0.3363 - rec: 0.5858 - TN: 29318.0000 - TP: 4411.0000 - precision_at_recall_1: 0.2291 - val_loss: 0.7082 - val_auc: 0.7069 - val_auprc: 0.3683 - val_prec: 0.2712 - val_rec: 0.6564 - val_TN: 13252.0000 - val_TP: 2648.0000 - val_precision_at_recall_1: 0.2226\n",
      "Epoch 7/1000\n",
      "356/356 [==============================] - 22s 62ms/step - loss: 1.0114 - auc: 0.7321 - auprc: 0.4060 - prec: 0.3372 - rec: 0.5972 - TN: 29182.0000 - TP: 4497.0000 - precision_at_recall_1: 0.2315 - val_loss: 0.5446 - val_auc: 0.7075 - val_auprc: 0.3682 - val_prec: 0.3705 - val_rec: 0.4160 - val_TN: 17518.0000 - val_TP: 1678.0000 - val_precision_at_recall_1: 0.2174\n",
      "Epoch 8/1000\n",
      "356/356 [==============================] - 22s 62ms/step - loss: 1.0094 - auc: 0.7337 - auprc: 0.4076 - prec: 0.3358 - rec: 0.5965 - TN: 29138.0000 - TP: 4492.0000 - precision_at_recall_1: 0.2327 - val_loss: 0.5578 - val_auc: 0.7063 - val_auprc: 0.3669 - val_prec: 0.3496 - val_rec: 0.4569 - val_TN: 16940.0000 - val_TP: 1843.0000 - val_precision_at_recall_1: 0.2221\n",
      "Epoch 9/1000\n",
      "356/356 [==============================] - 22s 61ms/step - loss: 1.0081 - auc: 0.7331 - auprc: 0.4100 - prec: 0.3320 - rec: 0.6028 - TN: 28890.0000 - TP: 4539.0000 - precision_at_recall_1: 0.2343 - val_loss: 0.6140 - val_auc: 0.7092 - val_auprc: 0.3686 - val_prec: 0.3040 - val_rec: 0.5669 - val_TN: 15132.0000 - val_TP: 2287.0000 - val_precision_at_recall_1: 0.2224\n",
      "Epoch 10/1000\n",
      "356/356 [==============================] - 21s 59ms/step - loss: 1.0056 - auc: 0.7356 - auprc: 0.4136 - prec: 0.3327 - rec: 0.6088 - TN: 28827.0000 - TP: 4584.0000 - precision_at_recall_1: 0.2324 - val_loss: 0.6100 - val_auc: 0.7096 - val_auprc: 0.3681 - val_prec: 0.3063 - val_rec: 0.5592 - val_TN: 15260.0000 - val_TP: 2256.0000 - val_precision_at_recall_1: 0.2237\n",
      "Epoch 11/1000\n",
      "356/356 [==============================] - 22s 61ms/step - loss: 1.0041 - auc: 0.7366 - auprc: 0.4126 - prec: 0.3343 - rec: 0.6141 - TN: 28814.0000 - TP: 4624.0000 - precision_at_recall_1: 0.2316 - val_loss: 0.5940 - val_auc: 0.7086 - val_auprc: 0.3665 - val_prec: 0.3108 - val_rec: 0.5526 - val_TN: 15426.0000 - val_TP: 2229.0000 - val_precision_at_recall_1: 0.2227\n",
      "Epoch 12/1000\n",
      "356/356 [==============================] - 22s 62ms/step - loss: 1.0027 - auc: 0.7382 - auprc: 0.4144 - prec: 0.3316 - rec: 0.6223 - TN: 28578.0000 - TP: 4686.0000 - precision_at_recall_1: 0.2354 - val_loss: 0.5977 - val_auc: 0.7084 - val_auprc: 0.3684 - val_prec: 0.3164 - val_rec: 0.5384 - val_TN: 15676.0000 - val_TP: 2172.0000 - val_precision_at_recall_1: 0.2250\n",
      "Epoch 13/1000\n",
      "356/356 [==============================] - 22s 61ms/step - loss: 1.0030 - auc: 0.7374 - auprc: 0.4130 - prec: 0.3296 - rec: 0.6218 - TN: 28499.0000 - TP: 4682.0000 - precision_at_recall_1: 0.2352 - val_loss: 0.5782 - val_auc: 0.7103 - val_auprc: 0.3694 - val_prec: 0.3371 - val_rec: 0.4903 - val_TN: 16480.0000 - val_TP: 1978.0000 - val_precision_at_recall_1: 0.2249\n",
      "Epoch 14/1000\n",
      "356/356 [==============================] - 22s 62ms/step - loss: 1.0019 - auc: 0.7378 - auprc: 0.4174 - prec: 0.3307 - rec: 0.6134 - TN: 28672.0000 - TP: 4619.0000 - precision_at_recall_1: 0.2371 - val_loss: 0.6028 - val_auc: 0.7087 - val_auprc: 0.3675 - val_prec: 0.3171 - val_rec: 0.5317 - val_TN: 15749.0000 - val_TP: 2145.0000 - val_precision_at_recall_1: 0.2229\n",
      "Epoch 15/1000\n",
      "356/356 [==============================] - 22s 61ms/step - loss: 1.0018 - auc: 0.7385 - auprc: 0.4166 - prec: 0.3298 - rec: 0.6173 - TN: 28577.0000 - TP: 4648.0000 - precision_at_recall_1: 0.2364 - val_loss: 0.5315 - val_auc: 0.7111 - val_auprc: 0.3694 - val_prec: 0.3555 - val_rec: 0.4499 - val_TN: 17079.0000 - val_TP: 1815.0000 - val_precision_at_recall_1: 0.2238\n",
      "Epoch 16/1000\n",
      "356/356 [==============================] - 22s 62ms/step - loss: 1.0000 - auc: 0.7403 - auprc: 0.4162 - prec: 0.3323 - rec: 0.6174 - TN: 28681.0000 - TP: 4649.0000 - precision_at_recall_1: 0.2370 - val_loss: 0.7176 - val_auc: 0.7093 - val_auprc: 0.3632 - val_prec: 0.2637 - val_rec: 0.6859 - val_TN: 12643.0000 - val_TP: 2767.0000 - val_precision_at_recall_1: 0.2258\n",
      "Epoch 17/1000\n",
      "356/356 [==============================] - 22s 61ms/step - loss: 1.0009 - auc: 0.7380 - auprc: 0.4206 - prec: 0.3334 - rec: 0.6189 - TN: 28703.0000 - TP: 4660.0000 - precision_at_recall_1: 0.2355 - val_loss: 0.5405 - val_auc: 0.7105 - val_auprc: 0.3685 - val_prec: 0.3510 - val_rec: 0.4673 - val_TN: 16884.0000 - val_TP: 1885.0000 - val_precision_at_recall_1: 0.2241\n",
      "Epoch 18/1000\n",
      "356/356 [==============================] - 22s 61ms/step - loss: 0.9987 - auc: 0.7400 - auprc: 0.4219 - prec: 0.3322 - rec: 0.6201 - TN: 28637.0000 - TP: 4669.0000 - precision_at_recall_1: 0.2379 - val_loss: 0.6313 - val_auc: 0.7143 - val_auprc: 0.3707 - val_prec: 0.2886 - val_rec: 0.6135 - val_TN: 14267.0000 - val_TP: 2475.0000 - val_precision_at_recall_1: 0.2282\n",
      "Epoch 19/1000\n",
      "356/356 [==============================] - 21s 60ms/step - loss: 0.9955 - auc: 0.7442 - auprc: 0.4237 - prec: 0.3334 - rec: 0.6199 - TN: 28687.0000 - TP: 4668.0000 - precision_at_recall_1: 0.2409 - val_loss: 0.6270 - val_auc: 0.7144 - val_auprc: 0.3724 - val_prec: 0.2952 - val_rec: 0.6001 - val_TN: 14588.0000 - val_TP: 2421.0000 - val_precision_at_recall_1: 0.2290\n",
      "Epoch 20/1000\n",
      "356/356 [==============================] - 22s 60ms/step - loss: 0.9918 - auc: 0.7480 - auprc: 0.4248 - prec: 0.3328 - rec: 0.6266 - TN: 28563.0000 - TP: 4718.0000 - precision_at_recall_1: 0.2443 - val_loss: 0.6358 - val_auc: 0.7139 - val_auprc: 0.3692 - val_prec: 0.2867 - val_rec: 0.6200 - val_TN: 14148.0000 - val_TP: 2501.0000 - val_precision_at_recall_1: 0.2290\n",
      "Epoch 21/1000\n",
      "356/356 [==============================] - 22s 61ms/step - loss: 0.9897 - auc: 0.7493 - auprc: 0.4299 - prec: 0.3342 - rec: 0.6266 - TN: 28621.0000 - TP: 4718.0000 - precision_at_recall_1: 0.2468 - val_loss: 0.5904 - val_auc: 0.7162 - val_auprc: 0.3743 - val_prec: 0.3116 - val_rec: 0.5498 - val_TN: 15469.0000 - val_TP: 2218.0000 - val_precision_at_recall_1: 0.2275\n",
      "Epoch 22/1000\n",
      "356/356 [==============================] - 22s 62ms/step - loss: 0.9860 - auc: 0.7534 - auprc: 0.4328 - prec: 0.3374 - rec: 0.6262 - TN: 28762.0000 - TP: 4715.0000 - precision_at_recall_1: 0.2490 - val_loss: 0.5719 - val_auc: 0.7147 - val_auprc: 0.3767 - val_prec: 0.3263 - val_rec: 0.5178 - val_TN: 16056.0000 - val_TP: 2089.0000 - val_precision_at_recall_1: 0.2260\n",
      "Epoch 23/1000\n",
      "356/356 [==============================] - 22s 61ms/step - loss: 0.9788 - auc: 0.7596 - auprc: 0.4366 - prec: 0.3359 - rec: 0.6375 - TN: 28531.0000 - TP: 4800.0000 - precision_at_recall_1: 0.2597 - val_loss: 0.6176 - val_auc: 0.7151 - val_auprc: 0.3774 - val_prec: 0.3007 - val_rec: 0.5759 - val_TN: 14967.0000 - val_TP: 2323.0000 - val_precision_at_recall_1: 0.2268\n",
      "Epoch 24/1000\n",
      "356/356 [==============================] - 22s 61ms/step - loss: 0.9737 - auc: 0.7633 - auprc: 0.4460 - prec: 0.3372 - rec: 0.6429 - TN: 28506.0000 - TP: 4841.0000 - precision_at_recall_1: 0.2610 - val_loss: 0.6090 - val_auc: 0.7095 - val_auprc: 0.3723 - val_prec: 0.3006 - val_rec: 0.5642 - val_TN: 15073.0000 - val_TP: 2276.0000 - val_precision_at_recall_1: 0.2234\n",
      "Epoch 25/1000\n",
      "356/356 [==============================] - 22s 62ms/step - loss: 0.9661 - auc: 0.7687 - auprc: 0.4483 - prec: 0.3430 - rec: 0.6513 - TN: 28630.0000 - TP: 4904.0000 - precision_at_recall_1: 0.2658 - val_loss: 0.5854 - val_auc: 0.7117 - val_auprc: 0.3706 - val_prec: 0.3088 - val_rec: 0.5473 - val_TN: 15426.0000 - val_TP: 2208.0000 - val_precision_at_recall_1: 0.2236\n",
      "Epoch 26/1000\n",
      "356/356 [==============================] - 22s 62ms/step - loss: 0.9642 - auc: 0.7697 - auprc: 0.4514 - prec: 0.3451 - rec: 0.6586 - TN: 28610.0000 - TP: 4959.0000 - precision_at_recall_1: 0.2685 - val_loss: 0.6383 - val_auc: 0.7093 - val_auprc: 0.3702 - val_prec: 0.2894 - val_rec: 0.6014 - val_TN: 14413.0000 - val_TP: 2426.0000 - val_precision_at_recall_1: 0.2215\n",
      "Epoch 27/1000\n",
      "356/356 [==============================] - 22s 61ms/step - loss: 0.9568 - auc: 0.7747 - auprc: 0.4594 - prec: 0.3435 - rec: 0.6595 - TN: 28531.0000 - TP: 4966.0000 - precision_at_recall_1: 0.2712 - val_loss: 0.6534 - val_auc: 0.7118 - val_auprc: 0.3719 - val_prec: 0.2808 - val_rec: 0.6225 - val_TN: 13938.0000 - val_TP: 2511.0000 - val_precision_at_recall_1: 0.2246\n",
      "Epoch 28/1000\n",
      "356/356 [==============================] - 24s 66ms/step - loss: 0.9551 - auc: 0.7763 - auprc: 0.4622 - prec: 0.3491 - rec: 0.6663 - TN: 28668.0000 - TP: 5017.0000 - precision_at_recall_1: 0.2780 - val_loss: 0.6194 - val_auc: 0.7037 - val_auprc: 0.3642 - val_prec: 0.2911 - val_rec: 0.5669 - val_TN: 14799.0000 - val_TP: 2287.0000 - val_precision_at_recall_1: 0.2196\n",
      "Epoch 29/1000\n",
      "356/356 [==============================] - 23s 65ms/step - loss: 0.9501 - auc: 0.7797 - auprc: 0.4690 - prec: 0.3509 - rec: 0.6675 - TN: 28725.0000 - TP: 5026.0000 - precision_at_recall_1: 0.2792 - val_loss: 0.6511 - val_auc: 0.7063 - val_auprc: 0.3635 - val_prec: 0.2765 - val_rec: 0.6200 - val_TN: 13826.0000 - val_TP: 2501.0000 - val_precision_at_recall_1: 0.2236\n",
      "Epoch 30/1000\n",
      "356/356 [==============================] - 23s 63ms/step - loss: 0.9480 - auc: 0.7807 - auprc: 0.4707 - prec: 0.3553 - rec: 0.6708 - TN: 28855.0000 - TP: 5051.0000 - precision_at_recall_1: 0.2806 - val_loss: 0.6650 - val_auc: 0.7076 - val_auprc: 0.3679 - val_prec: 0.2776 - val_rec: 0.6272 - val_TN: 13786.0000 - val_TP: 2530.0000 - val_precision_at_recall_1: 0.2219\n",
      "Epoch 31/1000\n",
      "356/356 [==============================] - 23s 63ms/step - loss: 0.9454 - auc: 0.7818 - auprc: 0.4736 - prec: 0.3523 - rec: 0.6770 - TN: 28649.0000 - TP: 5098.0000 - precision_at_recall_1: 0.2830 - val_loss: 0.5994 - val_auc: 0.7065 - val_auprc: 0.3533 - val_prec: 0.2983 - val_rec: 0.5627 - val_TN: 15029.0000 - val_TP: 2270.0000 - val_precision_at_recall_1: 0.2248\n",
      "Epoch 32/1000\n",
      "356/356 [==============================] - 24s 67ms/step - loss: 0.9438 - auc: 0.7832 - auprc: 0.4738 - prec: 0.3552 - rec: 0.6724 - TN: 28831.0000 - TP: 5063.0000 - precision_at_recall_1: 0.2804 - val_loss: 0.7990 - val_auc: 0.7063 - val_auprc: 0.3543 - val_prec: 0.2427 - val_rec: 0.7432 - val_TN: 11015.0000 - val_TP: 2998.0000 - val_precision_at_recall_1: 0.2257\n",
      "Epoch 33/1000\n",
      "356/356 [==============================] - 23s 64ms/step - loss: 0.9431 - auc: 0.7840 - auprc: 0.4756 - prec: 0.3552 - rec: 0.6802 - TN: 28722.0000 - TP: 5122.0000 - precision_at_recall_1: 0.2884 - val_loss: 0.5113 - val_auc: 0.7019 - val_auprc: 0.3503 - val_prec: 0.3487 - val_rec: 0.4043 - val_TN: 17323.0000 - val_TP: 1631.0000 - val_precision_at_recall_1: 0.2198\n",
      "Epoch 34/1000\n",
      "356/356 [==============================] - 23s 63ms/step - loss: 0.9402 - auc: 0.7856 - auprc: 0.4801 - prec: 0.3563 - rec: 0.6801 - TN: 28772.0000 - TP: 5121.0000 - precision_at_recall_1: 0.2856 - val_loss: 0.4863 - val_auc: 0.7036 - val_auprc: 0.3592 - val_prec: 0.3819 - val_rec: 0.3713 - val_TN: 17944.0000 - val_TP: 1498.0000 - val_precision_at_recall_1: 0.2175\n",
      "Epoch 35/1000\n",
      "356/356 [==============================] - 22s 63ms/step - loss: 0.9423 - auc: 0.7843 - auprc: 0.4776 - prec: 0.3569 - rec: 0.6742 - TN: 28872.0000 - TP: 5077.0000 - precision_at_recall_1: 0.2841 - val_loss: 0.6044 - val_auc: 0.7036 - val_auprc: 0.3513 - val_prec: 0.2971 - val_rec: 0.5597 - val_TN: 15026.0000 - val_TP: 2258.0000 - val_precision_at_recall_1: 0.2219\n",
      "Epoch 36/1000\n",
      "356/356 [==============================] - 23s 64ms/step - loss: 0.9359 - auc: 0.7876 - auprc: 0.4824 - prec: 0.3608 - rec: 0.6774 - TN: 28984.0000 - TP: 5101.0000 - precision_at_recall_1: 0.2858 - val_loss: 0.7945 - val_auc: 0.6963 - val_auprc: 0.3545 - val_prec: 0.2306 - val_rec: 0.7444 - val_TN: 10350.0000 - val_TP: 3003.0000 - val_precision_at_recall_1: 0.2182\n",
      "Epoch 37/1000\n",
      "356/356 [==============================] - 22s 63ms/step - loss: 0.9336 - auc: 0.7895 - auprc: 0.4838 - prec: 0.3613 - rec: 0.6890 - TN: 28852.0000 - TP: 5188.0000 - precision_at_recall_1: 0.2889 - val_loss: 0.5044 - val_auc: 0.6955 - val_auprc: 0.3467 - val_prec: 0.3519 - val_rec: 0.3872 - val_TN: 17492.0000 - val_TP: 1562.0000 - val_precision_at_recall_1: 0.2139\n",
      "Epoch 38/1000\n",
      "356/356 [==============================] - 22s 61ms/step - loss: 0.9334 - auc: 0.7895 - auprc: 0.4890 - prec: 0.3627 - rec: 0.6834 - TN: 28979.0000 - TP: 5146.0000 - precision_at_recall_1: 0.2910 - val_loss: 0.6614 - val_auc: 0.6982 - val_auprc: 0.3435 - val_prec: 0.2710 - val_rec: 0.6168 - val_TN: 13675.0000 - val_TP: 2488.0000 - val_precision_at_recall_1: 0.2224\n",
      "Epoch 39/1000\n",
      "356/356 [==============================] - 22s 61ms/step - loss: 0.9318 - auc: 0.7907 - auprc: 0.4883 - prec: 0.3608 - rec: 0.6865 - TN: 28864.0000 - TP: 5169.0000 - precision_at_recall_1: 0.2919 - val_loss: 0.5533 - val_auc: 0.6976 - val_auprc: 0.3496 - val_prec: 0.3234 - val_rec: 0.4792 - val_TN: 16324.0000 - val_TP: 1933.0000 - val_precision_at_recall_1: 0.2161\n",
      "Epoch 40/1000\n",
      "356/356 [==============================] - 21s 60ms/step - loss: 0.9313 - auc: 0.7904 - auprc: 0.4892 - prec: 0.3610 - rec: 0.6866 - TN: 28870.0000 - TP: 5170.0000 - precision_at_recall_1: 0.2915 - val_loss: 0.6975 - val_auc: 0.7001 - val_auprc: 0.3465 - val_prec: 0.2626 - val_rec: 0.6547 - val_TN: 12952.0000 - val_TP: 2641.0000 - val_precision_at_recall_1: 0.2234\n",
      "Epoch 41/1000\n",
      "356/356 [==============================] - 22s 62ms/step - loss: 0.9303 - auc: 0.7909 - auprc: 0.4914 - prec: 0.3672 - rec: 0.6886 - TN: 29087.0000 - TP: 5185.0000 - precision_at_recall_1: 0.2866 - val_loss: 0.6896 - val_auc: 0.6998 - val_auprc: 0.3439 - val_prec: 0.2677 - val_rec: 0.6371 - val_TN: 13337.0000 - val_TP: 2570.0000 - val_precision_at_recall_1: 0.2242\n",
      "Epoch 42/1000\n",
      "356/356 [==============================] - 22s 63ms/step - loss: 0.9289 - auc: 0.7916 - auprc: 0.4935 - prec: 0.3660 - rec: 0.6870 - TN: 29063.0000 - TP: 5173.0000 - precision_at_recall_1: 0.2902 - val_loss: 0.5832 - val_auc: 0.7017 - val_auprc: 0.3505 - val_prec: 0.3088 - val_rec: 0.5136 - val_TN: 15731.0000 - val_TP: 2072.0000 - val_precision_at_recall_1: 0.2214\n",
      "Epoch 43/1000\n",
      "356/356 [==============================] - 22s 63ms/step - loss: 0.9257 - auc: 0.7932 - auprc: 0.4949 - prec: 0.3650 - rec: 0.6876 - TN: 29014.0000 - TP: 5178.0000 - precision_at_recall_1: 0.2920 - val_loss: 0.5798 - val_auc: 0.7018 - val_auprc: 0.3502 - val_prec: 0.3063 - val_rec: 0.5221 - val_TN: 15600.0000 - val_TP: 2106.0000 - val_precision_at_recall_1: 0.2232\n",
      "Epoch 44/1000\n",
      "356/356 [==============================] - 22s 62ms/step - loss: 0.9256 - auc: 0.7936 - auprc: 0.4941 - prec: 0.3657 - rec: 0.6875 - TN: 29042.0000 - TP: 5177.0000 - precision_at_recall_1: 0.2958 - val_loss: 0.7984 - val_auc: 0.6928 - val_auprc: 0.3453 - val_prec: 0.2407 - val_rec: 0.7053 - val_TN: 11393.0000 - val_TP: 2845.0000 - val_precision_at_recall_1: 0.2189\n",
      "Epoch 45/1000\n",
      "356/356 [==============================] - 22s 61ms/step - loss: 0.9239 - auc: 0.7948 - auprc: 0.4956 - prec: 0.3703 - rec: 0.6887 - TN: 29202.0000 - TP: 5186.0000 - precision_at_recall_1: 0.2960 - val_loss: 0.7479 - val_auc: 0.6965 - val_auprc: 0.3433 - val_prec: 0.2444 - val_rec: 0.7070 - val_TN: 11551.0000 - val_TP: 2852.0000 - val_precision_at_recall_1: 0.2228\n",
      "Epoch 46/1000\n",
      "356/356 [==============================] - 22s 63ms/step - loss: 0.9230 - auc: 0.7956 - auprc: 0.4959 - prec: 0.3664 - rec: 0.6898 - TN: 29039.0000 - TP: 5194.0000 - precision_at_recall_1: 0.2960 - val_loss: 0.5473 - val_auc: 0.6923 - val_auprc: 0.3369 - val_prec: 0.3252 - val_rec: 0.4388 - val_TN: 16696.0000 - val_TP: 1770.0000 - val_precision_at_recall_1: 0.2167\n",
      "Epoch 47/1000\n",
      "356/356 [==============================] - 23s 64ms/step - loss: 0.9239 - auc: 0.7952 - auprc: 0.4959 - prec: 0.3692 - rec: 0.6911 - TN: 29129.0000 - TP: 5204.0000 - precision_at_recall_1: 0.2969 - val_loss: 0.5835 - val_auc: 0.7014 - val_auprc: 0.3441 - val_prec: 0.3089 - val_rec: 0.5191 - val_TN: 15685.0000 - val_TP: 2094.0000 - val_precision_at_recall_1: 0.2220\n",
      "Epoch 48/1000\n",
      "356/356 [==============================] - 22s 61ms/step - loss: 0.9227 - auc: 0.7949 - auprc: 0.5002 - prec: 0.3678 - rec: 0.6928 - TN: 29055.0000 - TP: 5217.0000 - precision_at_recall_1: 0.2965 - val_loss: 0.7479 - val_auc: 0.6943 - val_auprc: 0.3433 - val_prec: 0.2448 - val_rec: 0.6953 - val_TN: 11714.0000 - val_TP: 2805.0000 - val_precision_at_recall_1: 0.2198\n",
      "Epoch 49/1000\n",
      "356/356 [==============================] - 22s 63ms/step - loss: 0.9238 - auc: 0.7954 - auprc: 0.4985 - prec: 0.3694 - rec: 0.6939 - TN: 29104.0000 - TP: 5225.0000 - precision_at_recall_1: 0.2941 - val_loss: 0.5753 - val_auc: 0.6962 - val_auprc: 0.3435 - val_prec: 0.3095 - val_rec: 0.5084 - val_TN: 15794.0000 - val_TP: 2051.0000 - val_precision_at_recall_1: 0.2155\n",
      "Epoch 50/1000\n",
      "356/356 [==============================] - 22s 62ms/step - loss: 0.9220 - auc: 0.7957 - auprc: 0.4995 - prec: 0.3698 - rec: 0.6915 - TN: 29148.0000 - TP: 5207.0000 - precision_at_recall_1: 0.2971 - val_loss: 0.6953 - val_auc: 0.6977 - val_auprc: 0.3443 - val_prec: 0.2653 - val_rec: 0.6455 - val_TN: 13157.0000 - val_TP: 2604.0000 - val_precision_at_recall_1: 0.2216\n",
      "Epoch 51/1000\n",
      "356/356 [==============================] - 22s 62ms/step - loss: 0.9196 - auc: 0.7967 - auprc: 0.5035 - prec: 0.3722 - rec: 0.6922 - TN: 29231.0000 - TP: 5212.0000 - precision_at_recall_1: 0.2979 - val_loss: 0.6084 - val_auc: 0.6957 - val_auprc: 0.3510 - val_prec: 0.2942 - val_rec: 0.5416 - val_TN: 15126.0000 - val_TP: 2185.0000 - val_precision_at_recall_1: 0.2169\n",
      "Epoch 52/1000\n",
      "356/356 [==============================] - 23s 63ms/step - loss: 0.9178 - auc: 0.7978 - auprc: 0.5030 - prec: 0.3745 - rec: 0.6975 - TN: 29249.0000 - TP: 5252.0000 - precision_at_recall_1: 0.3010 - val_loss: 0.5903 - val_auc: 0.6929 - val_auprc: 0.3436 - val_prec: 0.3014 - val_rec: 0.5159 - val_TN: 15546.0000 - val_TP: 2081.0000 - val_precision_at_recall_1: 0.2150\n",
      "Epoch 53/1000\n",
      "356/356 [==============================] - 22s 63ms/step - loss: 0.9174 - auc: 0.7985 - auprc: 0.5044 - prec: 0.3704 - rec: 0.6928 - TN: 29153.0000 - TP: 5217.0000 - precision_at_recall_1: 0.2999 - val_loss: 0.5841 - val_auc: 0.6949 - val_auprc: 0.3409 - val_prec: 0.3048 - val_rec: 0.5042 - val_TN: 15730.0000 - val_TP: 2034.0000 - val_precision_at_recall_1: 0.2186\n",
      "Epoch 54/1000\n",
      "356/356 [==============================] - 22s 63ms/step - loss: 0.9186 - auc: 0.7979 - auprc: 0.5022 - prec: 0.3704 - rec: 0.6931 - TN: 29149.0000 - TP: 5219.0000 - precision_at_recall_1: 0.3009 - val_loss: 0.5562 - val_auc: 0.6921 - val_auprc: 0.3360 - val_prec: 0.3162 - val_rec: 0.4618 - val_TN: 16341.0000 - val_TP: 1863.0000 - val_precision_at_recall_1: 0.2195\n",
      "Epoch 55/1000\n",
      "356/356 [==============================] - 22s 63ms/step - loss: 0.9172 - auc: 0.7983 - auprc: 0.5057 - prec: 0.3756 - rec: 0.6958 - TN: 29313.0000 - TP: 5239.0000 - precision_at_recall_1: 0.2977 - val_loss: 0.6290 - val_auc: 0.6989 - val_auprc: 0.3444 - val_prec: 0.2889 - val_rec: 0.5764 - val_TN: 14647.0000 - val_TP: 2325.0000 - val_precision_at_recall_1: 0.2222\n",
      "Epoch 56/1000\n",
      "356/356 [==============================] - 22s 63ms/step - loss: 0.9169 - auc: 0.7988 - auprc: 0.5051 - prec: 0.3717 - rec: 0.6959 - TN: 29164.0000 - TP: 5240.0000 - precision_at_recall_1: 0.3020 - val_loss: 0.5803 - val_auc: 0.6961 - val_auprc: 0.3390 - val_prec: 0.3059 - val_rec: 0.5032 - val_TN: 15763.0000 - val_TP: 2030.0000 - val_precision_at_recall_1: 0.2197\n",
      "Epoch 57/1000\n",
      "356/356 [==============================] - 23s 64ms/step - loss: 0.9156 - auc: 0.7995 - auprc: 0.5063 - prec: 0.3755 - rec: 0.6946 - TN: 29324.0000 - TP: 5230.0000 - precision_at_recall_1: 0.2993 - val_loss: 0.6147 - val_auc: 0.6999 - val_auprc: 0.3456 - val_prec: 0.2943 - val_rec: 0.5620 - val_TN: 14934.0000 - val_TP: 2267.0000 - val_precision_at_recall_1: 0.2209\n",
      "Epoch 58/1000\n",
      "356/356 [==============================] - 23s 64ms/step - loss: 0.9157 - auc: 0.7990 - auprc: 0.5070 - prec: 0.3759 - rec: 0.6939 - TN: 29347.0000 - TP: 5225.0000 - precision_at_recall_1: 0.3001 - val_loss: 0.6406 - val_auc: 0.6924 - val_auprc: 0.3298 - val_prec: 0.2800 - val_rec: 0.5840 - val_TN: 14311.0000 - val_TP: 2356.0000 - val_precision_at_recall_1: 0.2187\n",
      "Epoch 59/1000\n",
      "356/356 [==============================] - 23s 64ms/step - loss: 0.9145 - auc: 0.8001 - auprc: 0.5069 - prec: 0.3745 - rec: 0.6981 - TN: 29241.0000 - TP: 5257.0000 - precision_at_recall_1: 0.3035 - val_loss: 0.6242 - val_auc: 0.6990 - val_auprc: 0.3449 - val_prec: 0.2929 - val_rec: 0.5600 - val_TN: 14915.0000 - val_TP: 2259.0000 - val_precision_at_recall_1: 0.2203\n",
      "Epoch 60/1000\n",
      "356/356 [==============================] - 23s 63ms/step - loss: 0.9130 - auc: 0.8009 - auprc: 0.5081 - prec: 0.3748 - rec: 0.6943 - TN: 29303.0000 - TP: 5228.0000 - precision_at_recall_1: 0.3055 - val_loss: 0.7134 - val_auc: 0.6963 - val_auprc: 0.3290 - val_prec: 0.2602 - val_rec: 0.6760 - val_TN: 12615.0000 - val_TP: 2727.0000 - val_precision_at_recall_1: 0.2226\n",
      "Epoch 61/1000\n",
      "356/356 [==============================] - 23s 64ms/step - loss: 0.9099 - auc: 0.8020 - auprc: 0.5135 - prec: 0.3790 - rec: 0.6979 - TN: 29410.0000 - TP: 5255.0000 - precision_at_recall_1: 0.3054 - val_loss: 0.6123 - val_auc: 0.6896 - val_auprc: 0.3355 - val_prec: 0.2872 - val_rec: 0.5260 - val_TN: 15102.0000 - val_TP: 2122.0000 - val_precision_at_recall_1: 0.2166\n",
      "Epoch 62/1000\n",
      "356/356 [==============================] - 22s 63ms/step - loss: 0.9099 - auc: 0.8023 - auprc: 0.5125 - prec: 0.3784 - rec: 0.6956 - TN: 29418.0000 - TP: 5238.0000 - precision_at_recall_1: 0.3070 - val_loss: 0.6125 - val_auc: 0.6923 - val_auprc: 0.3385 - val_prec: 0.2887 - val_rec: 0.5384 - val_TN: 15018.0000 - val_TP: 2172.0000 - val_precision_at_recall_1: 0.2210\n",
      "Epoch 63/1000\n",
      "356/356 [==============================] - 29s 81ms/step - loss: 0.9109 - auc: 0.8020 - auprc: 0.5118 - prec: 0.3781 - rec: 0.6975 - TN: 29383.0000 - TP: 5252.0000 - precision_at_recall_1: 0.3034 - val_loss: 0.5922 - val_auc: 0.6977 - val_auprc: 0.3389 - val_prec: 0.3049 - val_rec: 0.5183 - val_TN: 15602.0000 - val_TP: 2091.0000 - val_precision_at_recall_1: 0.2196\n",
      "Epoch 64/1000\n",
      "356/356 [==============================] - 27s 69ms/step - loss: 0.9106 - auc: 0.8014 - auprc: 0.5120 - prec: 0.3792 - rec: 0.6944 - TN: 29463.0000 - TP: 5229.0000 - precision_at_recall_1: 0.3064 - val_loss: 0.5955 - val_auc: 0.6998 - val_auprc: 0.3460 - val_prec: 0.3074 - val_rec: 0.5300 - val_TN: 15552.0000 - val_TP: 2138.0000 - val_precision_at_recall_1: 0.2178\n",
      "Epoch 65/1000\n",
      "356/356 [==============================] - 24s 68ms/step - loss: 0.9105 - auc: 0.8022 - auprc: 0.5112 - prec: 0.3787 - rec: 0.6997 - TN: 29379.0000 - TP: 5269.0000 - precision_at_recall_1: 0.3034 - val_loss: 0.6190 - val_auc: 0.6945 - val_auprc: 0.3391 - val_prec: 0.2911 - val_rec: 0.5516 - val_TN: 14951.0000 - val_TP: 2225.0000 - val_precision_at_recall_1: 0.2192\n",
      "Epoch 66/1000\n",
      "356/356 [==============================] - 24s 67ms/step - loss: 0.9079 - auc: 0.8032 - auprc: 0.5140 - prec: 0.3795 - rec: 0.7011 - TN: 29391.0000 - TP: 5279.0000 - precision_at_recall_1: 0.3094 - val_loss: 0.5691 - val_auc: 0.6856 - val_auprc: 0.3270 - val_prec: 0.3047 - val_rec: 0.4633 - val_TN: 16105.0000 - val_TP: 1869.0000 - val_precision_at_recall_1: 0.2123\n",
      "Epoch 67/1000\n",
      "356/356 [==============================] - 24s 68ms/step - loss: 0.9082 - auc: 0.8032 - auprc: 0.5126 - prec: 0.3787 - rec: 0.6942 - TN: 29445.0000 - TP: 5227.0000 - precision_at_recall_1: 0.3116 - val_loss: 0.6945 - val_auc: 0.6926 - val_auprc: 0.3326 - val_prec: 0.2621 - val_rec: 0.6326 - val_TN: 13186.0000 - val_TP: 2552.0000 - val_precision_at_recall_1: 0.2205\n",
      "Epoch 68/1000\n",
      "356/356 [==============================] - 24s 68ms/step - loss: 0.9110 - auc: 0.8020 - auprc: 0.5116 - prec: 0.3789 - rec: 0.6965 - TN: 29425.0000 - TP: 5245.0000 - precision_at_recall_1: 0.3054 - val_loss: 0.6860 - val_auc: 0.7017 - val_auprc: 0.3388 - val_prec: 0.2737 - val_rec: 0.6294 - val_TN: 13633.0000 - val_TP: 2539.0000 - val_precision_at_recall_1: 0.2244\n",
      "Epoch 69/1000\n",
      "356/356 [==============================] - 24s 69ms/step - loss: 0.9094 - auc: 0.8028 - auprc: 0.5137 - prec: 0.3830 - rec: 0.7012 - TN: 29517.0000 - TP: 5280.0000 - precision_at_recall_1: 0.3054 - val_loss: 0.7184 - val_auc: 0.6846 - val_auprc: 0.3324 - val_prec: 0.2557 - val_rec: 0.6314 - val_TN: 12954.0000 - val_TP: 2547.0000 - val_precision_at_recall_1: 0.2150\n",
      "Epoch 70/1000\n",
      "356/356 [==============================] - 24s 69ms/step - loss: 0.9061 - auc: 0.8045 - auprc: 0.5174 - prec: 0.3819 - rec: 0.6985 - TN: 29507.0000 - TP: 5260.0000 - precision_at_recall_1: 0.3053 - val_loss: 0.6943 - val_auc: 0.6891 - val_auprc: 0.3323 - val_prec: 0.2591 - val_rec: 0.6415 - val_TN: 12967.0000 - val_TP: 2588.0000 - val_precision_at_recall_1: 0.2182\n",
      "Epoch 71/1000\n",
      "356/356 [==============================] - 24s 69ms/step - loss: 0.9075 - auc: 0.8035 - auprc: 0.5146 - prec: 0.3828 - rec: 0.6975 - TN: 29554.0000 - TP: 5252.0000 - precision_at_recall_1: 0.3092 - val_loss: 0.7217 - val_auc: 0.6982 - val_auprc: 0.3374 - val_prec: 0.2645 - val_rec: 0.6567 - val_TN: 13004.0000 - val_TP: 2649.0000 - val_precision_at_recall_1: 0.2212\n",
      "CPU times: user 21min 22s, sys: 17min, total: 38min 22s\n",
      "Wall time: 27min 2s\n"
     ]
    }
   ],
   "source": [
    "%%time\n",
    "# TF_GPU_ALLOCATOR=cuda_malloc_async\n",
    "#training\n",
    "with tf.device('/GPU:0'):\n",
    "    earlyStopping = EarlyStopping(monitor='val_auc', patience=50, verbose=0, mode='max', restore_best_weights=True)\n",
    "    mcp_save = ModelCheckpoint('../SeqModel/seqModel_therapy_tabSeq.mdl_wts.hdf5', save_best_only=True, monitor='val_auc', mode='min')\n",
    "    history = model.fit([Xt_train, Xs_clin_train[:,:max_codes_clin], Xs_ther_train[:,:max_codes_ther]], y_train, validation_data=([Xt_val, Xs_clin_val[:,:max_codes_clin], Xs_ther_val[:,:max_codes_ther]], y_val), \n",
    "                            epochs=epoch, batch_size=128, \n",
    "                        class_weight = class_weight, \n",
    "                        callbacks = [earlyStopping, mcp_save])"
   ]
  },
  {
   "cell_type": "code",
   "execution_count": 27,
   "id": "fdbddf77-c941-48d2-9bbd-b80b77d85e5b",
   "metadata": {
    "tags": []
   },
   "outputs": [
    {
     "name": "stdout",
     "output_type": "stream",
     "text": [
      "dict_keys(['loss', 'auc', 'auprc', 'prec', 'rec', 'TN', 'TP', 'precision_at_recall_1', 'val_loss', 'val_auc', 'val_auprc', 'val_prec', 'val_rec', 'val_TN', 'val_TP', 'val_precision_at_recall_1'])\n"
     ]
    },
    {
     "data": {
      "image/png": "[encoded data removed]",
      "text/plain": [
       "<Figure size 640x480 with 1 Axes>"
      ]
     },
     "metadata": {},
     "output_type": "display_data"
    },
    {
     "data": {
      "image/png": "[encoded data removed]",
      "text/plain": [
       "<Figure size 640x480 with 1 Axes>"
      ]
     },
     "metadata": {},
     "output_type": "display_data"
    },
    {
     "data": {
      "image/png": "[encoded data removed]",
      "text/plain": [
       "<Figure size 640x480 with 1 Axes>"
      ]
     },
     "metadata": {},
     "output_type": "display_data"
    }
   ],
   "source": [
    "# list all data in history\n",
    "print(history.history.keys())\n",
    "# summarize history for accuracy\n",
    "plt.plot(history.history['auc'])\n",
    "plt.plot(history.history['val_auc'])\n",
    "plt.title('model AUC')\n",
    "plt.ylabel('AUC')\n",
    "plt.xlabel('epoch')\n",
    "plt.legend(['train', 'test'], loc='upper left')\n",
    "plt.show()\n",
    "# summarize history for loss\n",
    "plt.plot(history.history['loss'])\n",
    "plt.plot(history.history['val_loss'])\n",
    "plt.title('model loss')\n",
    "# plt.ylim(0.3, 1)\n",
    "plt.ylabel('loss')\n",
    "plt.xlabel('epoch')\n",
    "plt.legend(['train', 'val'], loc='upper left')\n",
    "plt.show()\n",
    "\n",
    "plt.plot(history.history['auprc'])\n",
    "plt.plot(history.history['val_auprc'])\n",
    "plt.title('model auprc')\n",
    "# plt.ylim(0.3, 1)\n",
    "plt.ylabel('auprc')\n",
    "plt.xlabel('epoch')\n",
    "plt.legend(['train', 'val'], loc='upper left')\n",
    "plt.show()"
   ]
  },
  {
   "cell_type": "code",
   "execution_count": 31,
   "id": "1af5a989-8735-4b2e-955d-c4c1852626d4",
   "metadata": {
    "tags": []
   },
   "outputs": [
    {
     "name": "stdout",
     "output_type": "stream",
     "text": [
      "356/356 [==============================] - 10s 26ms/step - loss: 0.5917 - auc: 0.7163 - auprc: 0.3792 - prec: 0.3138 - rec: 0.5635 - TN: 7185.0000 - TP: 1061.0000 - precision_at_recall_1: 0.2243\n",
      "166/166 [==============================] - 4s 26ms/step - loss: 0.6603 - auc: 0.6576 - auprc: 0.4153 - prec: 0.3392 - rec: 0.5479 - TN: 2804.0000 - TP: 658.0000 - precision_at_recall_1: 0.2656\n",
      "95/95 [==============================] - 2s 26ms/step - loss: 0.6629 - auc: 0.6951 - auprc: 0.4502 - prec: 0.3438 - rec: 0.6124 - TN: 1585.0000 - TP: 406.0000 - precision_at_recall_1: 0.2760\n",
      "71/71 [==============================] - 2s 26ms/step - loss: 0.6568 - auc: 0.6165 - auprc: 0.3730 - prec: 0.3320 - rec: 0.4684 - TN: 1219.0000 - TP: 252.0000 - precision_at_recall_1: 0.2616\n"
     ]
    }
   ],
   "source": [
    "with tf.device('/GPU:0'):\n",
    "    model.evaluate([Xt_eval, Xs_clin_eval[:,:max_codes_clin], Xs_ther_eval[:,:max_codes_ther]], y_eval)\n",
    "    model.evaluate([Xt_test, Xs_clin_test[:,:max_codes_clin], Xs_ther_test[:,:max_codes_ther]], y_test)\n",
    "    model.evaluate([Xt_testWales, Xs_clin_testWales[:,:max_codes_clin], Xs_ther_testWales[:,:max_codes_ther]], y_testWales)\n",
    "    model.evaluate([Xt_testScotland, Xs_clin_testScotland[:,:max_codes_clin], Xs_ther_testScotland[:,:max_codes_ther]], y_testScotland)"
   ]
  },
  {
   "cell_type": "code",
   "execution_count": 33,
   "id": "d1f8ec53-d208-499f-8ff5-87d475065fd7",
   "metadata": {
    "tags": []
   },
   "outputs": [
    {
     "name": "stdout",
     "output_type": "stream",
     "text": [
      "166/166 [==============================] - 3s 20ms/step\n"
     ]
    },
    {
     "data": {
      "text/plain": [
       "array([[0.45771667],\n",
       "       [0.8698995 ],\n",
       "       [0.29059112],\n",
       "       ...,\n",
       "       [0.73903906],\n",
       "       [0.2769045 ],\n",
       "       [0.45587802]], dtype=float32)"
      ]
     },
     "execution_count": 33,
     "metadata": {},
     "output_type": "execute_result"
    }
   ],
   "source": [
    "model.predict([Xt_test, Xs_clin_test[:,:max_codes_clin], Xs_ther_test[:,:max_codes_ther]])"
   ]
  },
  {
   "cell_type": "code",
   "execution_count": 48,
   "id": "50569eb6-1ac3-40f2-9c84-da785fdaff72",
   "metadata": {
    "tags": []
   },
   "outputs": [],
   "source": [
    "def summariseResultWithThreshold (Xt_test, Xs_clin_test, Xs_ther_test, testY, model):\n",
    "    preds = model.predict([Xt_test, Xs_clin_test, Xs_ther_test])\n",
    "    # tn, fp, fn, tp = confusion_matrix(testY, preds).ravel()\n",
    "    # specificity = tn / (tn+fp)\n",
    "    # sensitivity = tp / (tp+fn)\n",
    "    # ppv = 100*tp/(tp+fp)\n",
    "    # npv = 100*tn/(fn+tn)\n",
    "    # acc = accuracy_score(testY, preds)\n",
    "    # f1score = f1_score(testY, preds, average = 'binary')\n",
    "    # balanceacc = balanced_accuracy_score(testY, preds)\n",
    "    fpr, tpr, thresholds = roc_curve(testY, preds, pos_label=1)\n",
    "    # aucscore = auc(fpr, tpr)\n",
    "    aucscore = roc_auc_score(testY, preds)\n",
    "    auprc = average_precision_score(testY, preds)\n",
    "    # plot_confusion_matrix(model, testX, testY, cmap='viridis')  \n",
    "    return np.round(aucscore,4), np.round(auprc,4)"
   ]
  },
  {
   "cell_type": "code",
   "execution_count": 50,
   "id": "5e1a6da4-5e73-4a66-9597-c4239873e2e3",
   "metadata": {
    "tags": []
   },
   "outputs": [
    {
     "name": "stdout",
     "output_type": "stream",
     "text": [
      "356/356 [==============================] - 8s 21ms/step\n",
      "(0.7162, 0.3795)\n",
      "166/166 [==============================] - 3s 20ms/step\n",
      "(0.6576, 0.4157)\n",
      "95/95 [==============================] - 2s 20ms/step\n",
      "(0.6951, 0.4509)\n",
      "71/71 [==============================] - 1s 19ms/step\n",
      "(0.6165, 0.3742)\n"
     ]
    }
   ],
   "source": [
    "print(summariseResultWithThreshold(Xt_eval, Xs_clin_eval[:,:max_codes_clin], Xs_ther_eval[:,:max_codes_ther], y_eval, model))\n",
    "print(summariseResultWithThreshold(Xt_test, Xs_clin_test[:,:max_codes_clin], Xs_ther_test[:,:max_codes_ther], y_test, model))\n",
    "print(summariseResultWithThreshold(Xt_testWales, Xs_clin_testWales[:,:max_codes_clin], Xs_ther_testWales[:,:max_codes_ther], y_testWales, model))\n",
    "print(summariseResultWithThreshold(Xt_testScotland, Xs_clin_testScotland[:,:max_codes_clin], Xs_ther_testScotland[:,:max_codes_ther], y_testScotland, model))"
   ]
  },
  {
   "cell_type": "code",
   "execution_count": 28,
   "id": "afeed10f-72a8-457d-bfcb-f2662e74bfc6",
   "metadata": {
    "scrolled": true,
    "tags": []
   },
   "outputs": [],
   "source": [
    "# %%time\n",
    "\n",
    "# # create the model\n",
    "# embedding_vector_length = 50\n",
    "# earlyStopping = EarlyStopping(monitor='val_auc', patience=10, verbose=0, mode='max', restore_best_weights=True)\n",
    "# mcp_save = ModelCheckpoint('../SeqModel/seqModel_therapy.mdl_wts.hdf5', save_best_only=True, monitor='val_auc', mode='min')\n",
    "\n",
    "# with tf.device('/GPU:0'):\n",
    "#     model = Sequential()\n",
    "#     model.add(Embedding(vocab_size, embedding_vector_length, input_length=max_codes))\n",
    "#     model.add(LSTM(128, return_sequences=True, kernel_regularizer=L1L2(l1=0.02, l2=0.03)))\n",
    "#     model.add(Dropout(0.5))\n",
    "#     model.add(LSTM(64,  kernel_regularizer=L1L2(l1=0.02, l2=0.03)))\n",
    "#     model.add(Dropout(0.5))\n",
    "#     model.add(Dense(32, activation=LeakyReLU(alpha=.3), kernel_regularizer=L1L2(l1=0.02, l2=0.03)))\n",
    "#     model.add(Dense(1, activation='sigmoid'))\n",
    "#     opt = Adadelta(learning_rate=5e-3, clipvalue=0.3)\n",
    "#     metrics = [\n",
    "#         AUC(num_thresholds=3, name='auc'),\n",
    "#     ]\n",
    "#     model.compile(loss='binary_crossentropy', optimizer=opt, metrics=metrics, )\n",
    "#     print(model.summary())\n",
    "#     history = model.fit(Xs_train, y_train, validation_data=(Xs_val, y_val), epochs=30, batch_size=128, class_weight = class_weight, callbacks = [earlyStopping, mcp_save])"
   ]
  },
  {
   "cell_type": "code",
   "execution_count": 29,
   "id": "4943f759-cf30-4366-b7c8-bf33fbb73101",
   "metadata": {
    "tags": []
   },
   "outputs": [],
   "source": [
    "def earlyFussion():\n",
    "       \n",
    "    inputs1 = Input(shape=tab_feature_size)\n",
    "    inputs2 = Input(shape=max_codes)\n",
    "    inputs3 = Input(shape=max_codes)\n",
    "    \n",
    "    \n",
    "    #clinical embedding for lstm\n",
    "    embedding = Embedding(vocab_size, 50, input_length=max_codes)(inputs2)\n",
    "    \n",
    "    #month embedding for lstm\n",
    "    embedding_month = Embedding(month_size, 7, input_length=max_codes)(inputs3)\n",
    "    \n",
    "    nn = Dense(32, activation='relu', kernel_initializer='glorot_uniform', kernel_regularizer=L1L2(l1=0.0, l2=0.1))(inputs1)\n",
    "    nn = Dropout(0.5)(nn)\n",
    "    lstmClinical = Bidirectional(LSTM(units=16, return_sequences=True, kernel_regularizer=L1L2(l1=0.0, l2=0.1)))(embedding)\n",
    "    lstmMonth = Bidirectional(LSTM(units=16, return_sequences=True, kernel_regularizer=L1L2(l1=0.0, l2=0.1)))(embedding_month)\n",
    "    # lstm = Add()([lstmClinical, lstmMonth])\n",
    "    lstm = lstmClinical\n",
    "    \n",
    "    # nn = Reshape((1, 32))(nn)\n",
    "    # add = concatenate([nn, lstm], axis=1)\n",
    "    nn = Dense(16, activation='relu', kernel_initializer='glorot_uniform', kernel_regularizer=L1L2(l1=0.0, l2=0.1))(nn)\n",
    "    nn = Dropout(0.5)(nn)\n",
    "    lstm = Bidirectional(LSTM(units=8, return_sequences=True, kernel_regularizer=L1L2(l1=0.0, l2=0.1)))(lstm)\n",
    "    lstm = Dropout(0.5)(lstm)\n",
    "    \n",
    "    # # nn = Reshape((301, 64))(nn)\n",
    "    # add = concatenate([nn, lstm], axis=1)\n",
    "    nn = Dense(16, activation='relu', kernel_initializer='glorot_uniform', kernel_regularizer=L1L2(l1=0.0, l2=0.1))(nn)\n",
    "    nn = Dropout(0.5)(nn)\n",
    "    lstm = Bidirectional(LSTM(units=8, return_sequences=True, kernel_regularizer=L1L2(l1=0.0, l2=0.1)))(lstm)\n",
    "    lstm = Dropout(0.5)(lstm)\n",
    "    \n",
    "    nn = Reshape((1, 16))(nn)\n",
    "    model_tot = concatenate([nn, lstm], axis=1)\n",
    "    # model_tot = BatchNormalization()(model_tot)\n",
    "\n",
    "    model_tot = Dense(units=8, activation=LeakyReLU())(model_tot)\n",
    "    nn = Dropout(0.5)(nn)\n",
    "    \n",
    "    model_tot = Flatten()(model_tot)\n",
    "    output = Dense(1, activation='sigmoid')(model_tot)\n",
    "    \n",
    "    opt = RMSprop(learning_rate=1e-4, clipvalue=.5)\n",
    "    metrics = [\n",
    "        AUC(num_thresholds=3, name='auc', curve='ROC'),\n",
    "        AUC(num_thresholds=3, name='auprc', curve='PR'),\n",
    "        tf.keras.metrics.Precision(name='prec'),\n",
    "        tf.keras.metrics.Recall(name='rec'),\n",
    "        tf.keras.metrics.TrueNegatives(name='TN'),\n",
    "        tf.keras.metrics.TruePositives(name='TP'),\n",
    "        tf.keras.metrics.PrecisionAtRecall(0.8)\n",
    "    ]\n",
    "    \n",
    "    loss = tf.keras.losses.BinaryCrossentropy()\n",
    "    \n",
    "    model = Model(inputs=[inputs1, inputs2, inputs3], outputs=output)\n",
    "    model.compile(\n",
    "        loss='binary_crossentropy', \n",
    "        optimizer=opt, \n",
    "        metrics=metrics)\n",
    "    return model"
   ]
  },
  {
   "cell_type": "code",
   "execution_count": null,
   "id": "20c11344-dfa9-40e6-b2d2-63388d84ba09",
   "metadata": {
    "tags": []
   },
   "outputs": [],
   "source": [
    "with tf.device('/GPU:0'):\n",
    "    model.evaluate([Xt_eval, Xs_eval[:,:max_codes], Xm_eval[:,:max_codes]], y_eval)\n",
    "    model.evaluate([Xt_test, Xs_test[:,:max_codes], Xm_test[:,:max_codes]], y_test)\n",
    "    # model.evaluate(X_testWales, y_testWales)\n",
    "    # model.evaluate(X_testScotland, y_testScotland)"
   ]
  },
  {
   "cell_type": "code",
   "execution_count": null,
   "id": "3f7fd35d-2903-48e4-a655-b55f16b99da1",
   "metadata": {
    "tags": []
   },
   "outputs": [],
   "source": [
    "#Model evaluation function\n",
    "def summariseResult (testY, preds):\n",
    "    tn, fp, fn, tp = confusion_matrix(testY, preds).ravel()\n",
    "    specificity = tn / (tn+fp)\n",
    "    sensitivity = tp / (tp+fn)\n",
    "    ppv = 100*tp/(tp+fp)\n",
    "    npv = 100*tn/(fn+tn)\n",
    "    acc = accuracy_score(testY, preds)\n",
    "    f1score = f1_score(testY, preds, average = 'binary')\n",
    "    balanceacc = balanced_accuracy_score(testY, preds)\n",
    "    fpr, tpr, thresholds = roc_curve(testY, preds, pos_label=1)\n",
    "    aucscore = auc(fpr, tpr)\n",
    "    # aucscore = roc_auc_score(testY, preds)\n",
    "    auprc = average_precision_score(testY, preds)\n",
    "    # plot_confusion_matrix(model, testX, testY, cmap='viridis')  \n",
    "    return np.round(acc,4), np.round(specificity,4), np.round(sensitivity,4), np.round(aucscore,4), np.round(auprc,4), np.round(balanceacc,4), np.round(f1score,4), np.round(ppv,4), np.round(npv,4)\n",
    "\n",
    "data_test_Xs = [X_eval, X_test, X_testWales, X_testScotland]\n",
    "data_test_ys = [y_eval, y_test, y_testWales, y_testScotland]\n",
    "for data_test_X, data_test_y in zip(data_test_Xs, data_test_ys):\n",
    "    with tf.device('/CPU:0'):\n",
    "        preds = model.predict(data_test_X)\n",
    "    preds = [0 if pred <0.5 else 1 for pred in preds]\n",
    "    print(summariseResult(data_test_y, np.squeeze(preds)))"
   ]
  },
  {
   "cell_type": "code",
   "execution_count": null,
   "id": "e8a50962-2f80-4931-8eb7-df84792130ed",
   "metadata": {
    "tags": []
   },
   "outputs": [],
   "source": [
    "model.save('../SeqModel/model_therapy.h5')"
   ]
  },
  {
   "cell_type": "code",
   "execution_count": null,
   "id": "e1adb28e-44a2-4303-8b79-25348bfcaad9",
   "metadata": {
    "tags": []
   },
   "outputs": [],
   "source": [
    "# from keras.models import load_model\n",
    "# a = load_model('../SeqModel/my_model.h5')"
   ]
  },
  {
   "cell_type": "code",
   "execution_count": null,
   "id": "5f9f42bb-89f7-4693-852f-ae329cc7afe7",
   "metadata": {},
   "outputs": [],
   "source": []
  }
 ],
 "metadata": {
  "kernelspec": {
   "display_name": "Python 3 (ipykernel)",
   "language": "python",
   "name": "python3"
  },
  "language_info": {
   "codemirror_mode": {
    "name": "ipython",
    "version": 3
   },
   "file_extension": ".py",
   "mimetype": "text/x-python",
   "name": "python",
   "nbconvert_exporter": "python",
   "pygments_lexer": "ipython3",
   "version": "3.10.11"
  }
 },
 "nbformat": 4,
 "nbformat_minor": 5
}
