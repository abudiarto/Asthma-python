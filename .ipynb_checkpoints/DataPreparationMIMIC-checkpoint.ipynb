{
 "cells": [
  {
   "cell_type": "code",
   "execution_count": 1,
   "id": "dd434039-7bdb-4bb4-83d3-64b6d540487a",
   "metadata": {
    "tags": []
   },
   "outputs": [],
   "source": [
    "import pandas as pd\n",
    "import pyreadr\n",
    "import numpy as np"
   ]
  },
  {
   "cell_type": "code",
   "execution_count": 3,
   "id": "a14d36c1-1789-4890-8231-6ff90e7be8e2",
   "metadata": {
    "tags": []
   },
   "outputs": [
    {
     "data": {
      "text/plain": [
       "(425087, 120)"
      ]
     },
     "execution_count": 3,
     "metadata": {},
     "output_type": "execute_result"
    }
   ],
   "source": [
    "#load features data\n",
    "features = pd.read_csv('../mimic_data/master_dataset.csv')\n",
    "features.shape"
   ]
  },
  {
   "cell_type": "code",
   "execution_count": 6,
   "id": "890bc4b8-3846-4a2a-9df3-1fae3e41762a",
   "metadata": {
    "tags": []
   },
   "outputs": [],
   "source": [
    "icd10 = pd.read_csv('../mimic_data/ALL/icd_list_dataset_v10.csv')"
   ]
  },
  {
   "cell_type": "code",
   "execution_count": 46,
   "id": "51d7297e-c242-4b22-af36-0ace0c70310b",
   "metadata": {
    "tags": []
   },
   "outputs": [],
   "source": [
    "admission = pd.read_csv('../mimic4ed-benchmark-main/data/core/admissions.csv')\n",
    "ed = pd.read_csv('../mimic4ed-benchmark-main/data/ed/edstays.csv')\n",
    "diagnosis = pd.read_csv('../mimic4ed-benchmark-main/data/hosp/diagnoses_icd.csv')\n",
    "diagnosis_code = pd.read_csv('../mimic4ed-benchmark-main/data/hosp/d_icd_diagnoses.csv')\n",
    "patients = pd.read_csv('../mimic4ed-benchmark-main/data/core/patients.csv')"
   ]
  },
  {
   "cell_type": "code",
   "execution_count": 11,
   "id": "17125bf2-1525-43f9-a834-96c15f744414",
   "metadata": {
    "tags": []
   },
   "outputs": [
    {
     "data": {
      "text/plain": [
       "array(['subject_id', 'hadm_id', 'admittime', 'dischtime', 'deathtime',\n",
       "       'admission_type', 'admit_provider_id', 'admission_location',\n",
       "       'discharge_location', 'insurance', 'language', 'marital_status',\n",
       "       'race', 'edregtime', 'edouttime', 'hospital_expire_flag'],\n",
       "      dtype=object)"
      ]
     },
     "execution_count": 11,
     "metadata": {},
     "output_type": "execute_result"
    }
   ],
   "source": [
    "admission.columns.values"
   ]
  },
  {
   "cell_type": "code",
   "execution_count": 15,
   "id": "c24f0adf-6810-4a77-a9d6-2b8c0b0286d9",
   "metadata": {
    "tags": []
   },
   "outputs": [
    {
     "data": {
      "text/plain": [
       "array(['subject_id', 'hadm_id', 'seq_num', 'icd_code', 'icd_version'],\n",
       "      dtype=object)"
      ]
     },
     "execution_count": 15,
     "metadata": {},
     "output_type": "execute_result"
    }
   ],
   "source": [
    "diagnosis.columns.values"
   ]
  },
  {
   "cell_type": "code",
   "execution_count": 16,
   "id": "9c59e863-1a1e-4620-b154-daafd1362a7e",
   "metadata": {
    "tags": []
   },
   "outputs": [
    {
     "data": {
      "text/plain": [
       "array([ 9, 10])"
      ]
     },
     "execution_count": 16,
     "metadata": {},
     "output_type": "execute_result"
    }
   ],
   "source": [
    "diagnosis.icd_version.unique()"
   ]
  },
  {
   "cell_type": "code",
   "execution_count": 22,
   "id": "adbd6a13-1376-48ac-9619-11d45eec69a3",
   "metadata": {
    "tags": []
   },
   "outputs": [],
   "source": [
    "included_icd9 = diagnosis[(diagnosis.icd_version == 9) & (diagnosis.icd_code.str.startswith('493'))].icd_code.unique()"
   ]
  },
  {
   "cell_type": "code",
   "execution_count": 23,
   "id": "f3a3a77f-04c5-429f-8560-340e676850d8",
   "metadata": {
    "tags": []
   },
   "outputs": [],
   "source": [
    "included_icd10 = diagnosis[(diagnosis.icd_version == 10) & (diagnosis.icd_code.str.startswith('J45'))].icd_code.unique()"
   ]
  },
  {
   "cell_type": "code",
   "execution_count": 25,
   "id": "183dd281-2b09-4cec-abd9-1ffb188e3dab",
   "metadata": {
    "tags": []
   },
   "outputs": [
    {
     "data": {
      "text/html": [
       "<div>\n",
       "<style scoped>\n",
       "    .dataframe tbody tr th:only-of-type {\n",
       "        vertical-align: middle;\n",
       "    }\n",
       "\n",
       "    .dataframe tbody tr th {\n",
       "        vertical-align: top;\n",
       "    }\n",
       "\n",
       "    .dataframe thead th {\n",
       "        text-align: right;\n",
       "    }\n",
       "</style>\n",
       "<table border=\"1\" class=\"dataframe\">\n",
       "  <thead>\n",
       "    <tr style=\"text-align: right;\">\n",
       "      <th></th>\n",
       "      <th>icd_code</th>\n",
       "      <th>icd_version</th>\n",
       "      <th>long_title</th>\n",
       "    </tr>\n",
       "  </thead>\n",
       "  <tbody>\n",
       "    <tr>\n",
       "      <th>5238</th>\n",
       "      <td>49300</td>\n",
       "      <td>9</td>\n",
       "      <td>Extrinsic asthma, unspecified</td>\n",
       "    </tr>\n",
       "    <tr>\n",
       "      <th>5239</th>\n",
       "      <td>49301</td>\n",
       "      <td>9</td>\n",
       "      <td>Extrinsic asthma with status asthmaticus</td>\n",
       "    </tr>\n",
       "    <tr>\n",
       "      <th>5240</th>\n",
       "      <td>49302</td>\n",
       "      <td>9</td>\n",
       "      <td>Extrinsic asthma with (acute) exacerbation</td>\n",
       "    </tr>\n",
       "    <tr>\n",
       "      <th>5241</th>\n",
       "      <td>49310</td>\n",
       "      <td>9</td>\n",
       "      <td>Intrinsic asthma, unspecified</td>\n",
       "    </tr>\n",
       "    <tr>\n",
       "      <th>5243</th>\n",
       "      <td>49312</td>\n",
       "      <td>9</td>\n",
       "      <td>Intrinsic asthma with (acute) exacerbation</td>\n",
       "    </tr>\n",
       "    <tr>\n",
       "      <th>5244</th>\n",
       "      <td>49320</td>\n",
       "      <td>9</td>\n",
       "      <td>Chronic obstructive asthma, unspecified</td>\n",
       "    </tr>\n",
       "    <tr>\n",
       "      <th>5245</th>\n",
       "      <td>49321</td>\n",
       "      <td>9</td>\n",
       "      <td>Chronic obstructive asthma with status asthmat...</td>\n",
       "    </tr>\n",
       "    <tr>\n",
       "      <th>5246</th>\n",
       "      <td>49322</td>\n",
       "      <td>9</td>\n",
       "      <td>Chronic obstructive asthma with (acute) exacer...</td>\n",
       "    </tr>\n",
       "    <tr>\n",
       "      <th>5247</th>\n",
       "      <td>49381</td>\n",
       "      <td>9</td>\n",
       "      <td>Exercise induced bronchospasm</td>\n",
       "    </tr>\n",
       "    <tr>\n",
       "      <th>5248</th>\n",
       "      <td>49382</td>\n",
       "      <td>9</td>\n",
       "      <td>Cough variant asthma</td>\n",
       "    </tr>\n",
       "    <tr>\n",
       "      <th>5249</th>\n",
       "      <td>49390</td>\n",
       "      <td>9</td>\n",
       "      <td>Asthma, unspecified type, unspecified</td>\n",
       "    </tr>\n",
       "    <tr>\n",
       "      <th>5250</th>\n",
       "      <td>49391</td>\n",
       "      <td>9</td>\n",
       "      <td>Asthma, unspecified type, with status asthmaticus</td>\n",
       "    </tr>\n",
       "    <tr>\n",
       "      <th>5251</th>\n",
       "      <td>49392</td>\n",
       "      <td>9</td>\n",
       "      <td>Asthma, unspecified type, with (acute) exacerb...</td>\n",
       "    </tr>\n",
       "  </tbody>\n",
       "</table>\n",
       "</div>"
      ],
      "text/plain": [
       "     icd_code  icd_version                                         long_title\n",
       "5238    49300            9                      Extrinsic asthma, unspecified\n",
       "5239    49301            9           Extrinsic asthma with status asthmaticus\n",
       "5240    49302            9         Extrinsic asthma with (acute) exacerbation\n",
       "5241    49310            9                      Intrinsic asthma, unspecified\n",
       "5243    49312            9         Intrinsic asthma with (acute) exacerbation\n",
       "5244    49320            9            Chronic obstructive asthma, unspecified\n",
       "5245    49321            9  Chronic obstructive asthma with status asthmat...\n",
       "5246    49322            9  Chronic obstructive asthma with (acute) exacer...\n",
       "5247    49381            9                      Exercise induced bronchospasm\n",
       "5248    49382            9                               Cough variant asthma\n",
       "5249    49390            9              Asthma, unspecified type, unspecified\n",
       "5250    49391            9  Asthma, unspecified type, with status asthmaticus\n",
       "5251    49392            9  Asthma, unspecified type, with (acute) exacerb..."
      ]
     },
     "execution_count": 25,
     "metadata": {},
     "output_type": "execute_result"
    }
   ],
   "source": [
    "diagnosis_code[(diagnosis_code.icd_version==9) & (diagnosis_code.icd_code.isin(included_icd9))]"
   ]
  },
  {
   "cell_type": "code",
   "execution_count": 27,
   "id": "be2af835-775a-4401-b65d-21b017fa8d03",
   "metadata": {
    "tags": []
   },
   "outputs": [
    {
     "data": {
      "text/html": [
       "<div>\n",
       "<style scoped>\n",
       "    .dataframe tbody tr th:only-of-type {\n",
       "        vertical-align: middle;\n",
       "    }\n",
       "\n",
       "    .dataframe tbody tr th {\n",
       "        vertical-align: top;\n",
       "    }\n",
       "\n",
       "    .dataframe thead th {\n",
       "        text-align: right;\n",
       "    }\n",
       "</style>\n",
       "<table border=\"1\" class=\"dataframe\">\n",
       "  <thead>\n",
       "    <tr style=\"text-align: right;\">\n",
       "      <th></th>\n",
       "      <th>icd_code</th>\n",
       "      <th>icd_version</th>\n",
       "      <th>long_title</th>\n",
       "    </tr>\n",
       "  </thead>\n",
       "  <tbody>\n",
       "    <tr>\n",
       "      <th>26415</th>\n",
       "      <td>J4520</td>\n",
       "      <td>10</td>\n",
       "      <td>Mild intermittent asthma, uncomplicated</td>\n",
       "    </tr>\n",
       "    <tr>\n",
       "      <th>26416</th>\n",
       "      <td>J4521</td>\n",
       "      <td>10</td>\n",
       "      <td>Mild intermittent asthma with (acute) exacerba...</td>\n",
       "    </tr>\n",
       "    <tr>\n",
       "      <th>26417</th>\n",
       "      <td>J4522</td>\n",
       "      <td>10</td>\n",
       "      <td>Mild intermittent asthma with status asthmaticus</td>\n",
       "    </tr>\n",
       "    <tr>\n",
       "      <th>26419</th>\n",
       "      <td>J4530</td>\n",
       "      <td>10</td>\n",
       "      <td>Mild persistent asthma, uncomplicated</td>\n",
       "    </tr>\n",
       "    <tr>\n",
       "      <th>26420</th>\n",
       "      <td>J4531</td>\n",
       "      <td>10</td>\n",
       "      <td>Mild persistent asthma with (acute) exacerbation</td>\n",
       "    </tr>\n",
       "    <tr>\n",
       "      <th>26423</th>\n",
       "      <td>J4540</td>\n",
       "      <td>10</td>\n",
       "      <td>Moderate persistent asthma, uncomplicated</td>\n",
       "    </tr>\n",
       "    <tr>\n",
       "      <th>26424</th>\n",
       "      <td>J4541</td>\n",
       "      <td>10</td>\n",
       "      <td>Moderate persistent asthma with (acute) exacer...</td>\n",
       "    </tr>\n",
       "    <tr>\n",
       "      <th>26427</th>\n",
       "      <td>J4550</td>\n",
       "      <td>10</td>\n",
       "      <td>Severe persistent asthma, uncomplicated</td>\n",
       "    </tr>\n",
       "    <tr>\n",
       "      <th>26428</th>\n",
       "      <td>J4551</td>\n",
       "      <td>10</td>\n",
       "      <td>Severe persistent asthma with (acute) exacerba...</td>\n",
       "    </tr>\n",
       "    <tr>\n",
       "      <th>26429</th>\n",
       "      <td>J4552</td>\n",
       "      <td>10</td>\n",
       "      <td>Severe persistent asthma with status asthmaticus</td>\n",
       "    </tr>\n",
       "    <tr>\n",
       "      <th>26432</th>\n",
       "      <td>J45901</td>\n",
       "      <td>10</td>\n",
       "      <td>Unspecified asthma with (acute) exacerbation</td>\n",
       "    </tr>\n",
       "    <tr>\n",
       "      <th>26433</th>\n",
       "      <td>J45902</td>\n",
       "      <td>10</td>\n",
       "      <td>Unspecified asthma with status asthmaticus</td>\n",
       "    </tr>\n",
       "    <tr>\n",
       "      <th>26434</th>\n",
       "      <td>J45909</td>\n",
       "      <td>10</td>\n",
       "      <td>Unspecified asthma, uncomplicated</td>\n",
       "    </tr>\n",
       "    <tr>\n",
       "      <th>26436</th>\n",
       "      <td>J45990</td>\n",
       "      <td>10</td>\n",
       "      <td>Exercise induced bronchospasm</td>\n",
       "    </tr>\n",
       "    <tr>\n",
       "      <th>26437</th>\n",
       "      <td>J45991</td>\n",
       "      <td>10</td>\n",
       "      <td>Cough variant asthma</td>\n",
       "    </tr>\n",
       "    <tr>\n",
       "      <th>26438</th>\n",
       "      <td>J45998</td>\n",
       "      <td>10</td>\n",
       "      <td>Other asthma</td>\n",
       "    </tr>\n",
       "  </tbody>\n",
       "</table>\n",
       "</div>"
      ],
      "text/plain": [
       "      icd_code  icd_version                                         long_title\n",
       "26415    J4520           10            Mild intermittent asthma, uncomplicated\n",
       "26416    J4521           10  Mild intermittent asthma with (acute) exacerba...\n",
       "26417    J4522           10   Mild intermittent asthma with status asthmaticus\n",
       "26419    J4530           10              Mild persistent asthma, uncomplicated\n",
       "26420    J4531           10   Mild persistent asthma with (acute) exacerbation\n",
       "26423    J4540           10          Moderate persistent asthma, uncomplicated\n",
       "26424    J4541           10  Moderate persistent asthma with (acute) exacer...\n",
       "26427    J4550           10            Severe persistent asthma, uncomplicated\n",
       "26428    J4551           10  Severe persistent asthma with (acute) exacerba...\n",
       "26429    J4552           10   Severe persistent asthma with status asthmaticus\n",
       "26432   J45901           10       Unspecified asthma with (acute) exacerbation\n",
       "26433   J45902           10         Unspecified asthma with status asthmaticus\n",
       "26434   J45909           10                  Unspecified asthma, uncomplicated\n",
       "26436   J45990           10                      Exercise induced bronchospasm\n",
       "26437   J45991           10                               Cough variant asthma\n",
       "26438   J45998           10                                       Other asthma"
      ]
     },
     "execution_count": 27,
     "metadata": {},
     "output_type": "execute_result"
    }
   ],
   "source": [
    "diagnosis_code[(diagnosis_code.icd_version==10) & (diagnosis_code.icd_code.isin(included_icd10))]"
   ]
  },
  {
   "cell_type": "code",
   "execution_count": 36,
   "id": "835567f7-400c-4b48-bb27-324c72477e9c",
   "metadata": {
    "tags": []
   },
   "outputs": [],
   "source": [
    "included_data = diagnosis[((diagnosis.icd_version == 9) & (diagnosis.icd_code.str.startswith('493')))|((diagnosis.icd_version == 10) & (diagnosis.icd_code.str.startswith('J45')))]\n",
    "# included_data = included_data[(included_data.icd_version == 10) & (included_data.icd_code.str.startswith('J45'))]"
   ]
  },
  {
   "cell_type": "code",
   "execution_count": 41,
   "id": "973b419e-4246-4e5b-b91b-59e65fac3b9d",
   "metadata": {
    "tags": []
   },
   "outputs": [
    {
     "data": {
      "text/plain": [
       "array([25563031, 21268656, 21577720, ..., 26008899, 25345411, 26785317])"
      ]
     },
     "execution_count": 41,
     "metadata": {},
     "output_type": "execute_result"
    }
   ],
   "source": [
    "included_data.hadm_id.values"
   ]
  },
  {
   "cell_type": "code",
   "execution_count": 42,
   "id": "82188ab1-c56d-4e27-b21d-76029e5405f9",
   "metadata": {
    "tags": []
   },
   "outputs": [
    {
     "data": {
      "text/html": [
       "<div>\n",
       "<style scoped>\n",
       "    .dataframe tbody tr th:only-of-type {\n",
       "        vertical-align: middle;\n",
       "    }\n",
       "\n",
       "    .dataframe tbody tr th {\n",
       "        vertical-align: top;\n",
       "    }\n",
       "\n",
       "    .dataframe thead th {\n",
       "        text-align: right;\n",
       "    }\n",
       "</style>\n",
       "<table border=\"1\" class=\"dataframe\">\n",
       "  <thead>\n",
       "    <tr style=\"text-align: right;\">\n",
       "      <th></th>\n",
       "      <th>subject_id</th>\n",
       "      <th>hadm_id</th>\n",
       "      <th>stay_id</th>\n",
       "      <th>intime</th>\n",
       "      <th>outtime</th>\n",
       "      <th>gender</th>\n",
       "      <th>race</th>\n",
       "      <th>arrival_transport</th>\n",
       "      <th>disposition</th>\n",
       "    </tr>\n",
       "  </thead>\n",
       "  <tbody>\n",
       "    <tr>\n",
       "      <th>73</th>\n",
       "      <td>10001884</td>\n",
       "      <td>24325811.0</td>\n",
       "      <td>33281437</td>\n",
       "      <td>2126-11-03 19:15:00</td>\n",
       "      <td>2126-11-04 12:49:00</td>\n",
       "      <td>F</td>\n",
       "      <td>BLACK/AFRICAN AMERICAN</td>\n",
       "      <td>WALK IN</td>\n",
       "      <td>HOME</td>\n",
       "    </tr>\n",
       "    <tr>\n",
       "      <th>74</th>\n",
       "      <td>10001884</td>\n",
       "      <td>24746267.0</td>\n",
       "      <td>35329716</td>\n",
       "      <td>2130-12-27 15:48:00</td>\n",
       "      <td>2130-12-27 22:30:00</td>\n",
       "      <td>F</td>\n",
       "      <td>BLACK/AFRICAN AMERICAN</td>\n",
       "      <td>WALK IN</td>\n",
       "      <td>ADMITTED</td>\n",
       "    </tr>\n",
       "    <tr>\n",
       "      <th>75</th>\n",
       "      <td>10001884</td>\n",
       "      <td>24962904.0</td>\n",
       "      <td>31742950</td>\n",
       "      <td>2130-12-06 16:46:00</td>\n",
       "      <td>2130-12-06 22:05:00</td>\n",
       "      <td>F</td>\n",
       "      <td>BLACK/AFRICAN AMERICAN</td>\n",
       "      <td>WALK IN</td>\n",
       "      <td>ADMITTED</td>\n",
       "    </tr>\n",
       "    <tr>\n",
       "      <th>76</th>\n",
       "      <td>10001884</td>\n",
       "      <td>25758848.0</td>\n",
       "      <td>38343289</td>\n",
       "      <td>2128-07-15 15:15:00</td>\n",
       "      <td>2128-07-15 20:17:00</td>\n",
       "      <td>F</td>\n",
       "      <td>BLACK/AFRICAN AMERICAN</td>\n",
       "      <td>WALK IN</td>\n",
       "      <td>HOME</td>\n",
       "    </tr>\n",
       "    <tr>\n",
       "      <th>77</th>\n",
       "      <td>10001884</td>\n",
       "      <td>26170293.0</td>\n",
       "      <td>38261474</td>\n",
       "      <td>2130-04-15 16:38:00</td>\n",
       "      <td>2130-04-15 22:19:00</td>\n",
       "      <td>F</td>\n",
       "      <td>BLACK/AFRICAN AMERICAN</td>\n",
       "      <td>WALK IN</td>\n",
       "      <td>ADMITTED</td>\n",
       "    </tr>\n",
       "    <tr>\n",
       "      <th>...</th>\n",
       "      <td>...</td>\n",
       "      <td>...</td>\n",
       "      <td>...</td>\n",
       "      <td>...</td>\n",
       "      <td>...</td>\n",
       "      <td>...</td>\n",
       "      <td>...</td>\n",
       "      <td>...</td>\n",
       "      <td>...</td>\n",
       "    </tr>\n",
       "    <tr>\n",
       "      <th>424765</th>\n",
       "      <td>19992167</td>\n",
       "      <td>25148291.0</td>\n",
       "      <td>36727273</td>\n",
       "      <td>2200-06-02 21:19:00</td>\n",
       "      <td>2200-06-03 02:35:00</td>\n",
       "      <td>F</td>\n",
       "      <td>WHITE</td>\n",
       "      <td>WALK IN</td>\n",
       "      <td>ADMITTED</td>\n",
       "    </tr>\n",
       "    <tr>\n",
       "      <th>424766</th>\n",
       "      <td>19992202</td>\n",
       "      <td>20329411.0</td>\n",
       "      <td>36334096</td>\n",
       "      <td>2153-02-25 18:11:00</td>\n",
       "      <td>2153-02-26 01:58:00</td>\n",
       "      <td>F</td>\n",
       "      <td>WHITE</td>\n",
       "      <td>AMBULANCE</td>\n",
       "      <td>ADMITTED</td>\n",
       "    </tr>\n",
       "    <tr>\n",
       "      <th>424962</th>\n",
       "      <td>19996832</td>\n",
       "      <td>29420557.0</td>\n",
       "      <td>32130207</td>\n",
       "      <td>2179-02-21 13:29:00</td>\n",
       "      <td>2179-02-22 11:51:00</td>\n",
       "      <td>F</td>\n",
       "      <td>ASIAN</td>\n",
       "      <td>AMBULANCE</td>\n",
       "      <td>HOME</td>\n",
       "    </tr>\n",
       "    <tr>\n",
       "      <th>425023</th>\n",
       "      <td>19998350</td>\n",
       "      <td>21130518.0</td>\n",
       "      <td>32922923</td>\n",
       "      <td>2131-04-25 20:34:00</td>\n",
       "      <td>2131-04-26 20:17:00</td>\n",
       "      <td>M</td>\n",
       "      <td>BLACK/AFRICAN AMERICAN</td>\n",
       "      <td>WALK IN</td>\n",
       "      <td>ADMITTED</td>\n",
       "    </tr>\n",
       "    <tr>\n",
       "      <th>425024</th>\n",
       "      <td>19998350</td>\n",
       "      <td>27108332.0</td>\n",
       "      <td>32237509</td>\n",
       "      <td>2128-02-21 08:08:00</td>\n",
       "      <td>2128-02-21 09:42:07</td>\n",
       "      <td>M</td>\n",
       "      <td>BLACK/AFRICAN AMERICAN</td>\n",
       "      <td>WALK IN</td>\n",
       "      <td>ADMITTED</td>\n",
       "    </tr>\n",
       "  </tbody>\n",
       "</table>\n",
       "<p>19441 rows × 9 columns</p>\n",
       "</div>"
      ],
      "text/plain": [
       "        subject_id     hadm_id   stay_id               intime  \\\n",
       "73        10001884  24325811.0  33281437  2126-11-03 19:15:00   \n",
       "74        10001884  24746267.0  35329716  2130-12-27 15:48:00   \n",
       "75        10001884  24962904.0  31742950  2130-12-06 16:46:00   \n",
       "76        10001884  25758848.0  38343289  2128-07-15 15:15:00   \n",
       "77        10001884  26170293.0  38261474  2130-04-15 16:38:00   \n",
       "...            ...         ...       ...                  ...   \n",
       "424765    19992167  25148291.0  36727273  2200-06-02 21:19:00   \n",
       "424766    19992202  20329411.0  36334096  2153-02-25 18:11:00   \n",
       "424962    19996832  29420557.0  32130207  2179-02-21 13:29:00   \n",
       "425023    19998350  21130518.0  32922923  2131-04-25 20:34:00   \n",
       "425024    19998350  27108332.0  32237509  2128-02-21 08:08:00   \n",
       "\n",
       "                    outtime gender                    race arrival_transport  \\\n",
       "73      2126-11-04 12:49:00      F  BLACK/AFRICAN AMERICAN           WALK IN   \n",
       "74      2130-12-27 22:30:00      F  BLACK/AFRICAN AMERICAN           WALK IN   \n",
       "75      2130-12-06 22:05:00      F  BLACK/AFRICAN AMERICAN           WALK IN   \n",
       "76      2128-07-15 20:17:00      F  BLACK/AFRICAN AMERICAN           WALK IN   \n",
       "77      2130-04-15 22:19:00      F  BLACK/AFRICAN AMERICAN           WALK IN   \n",
       "...                     ...    ...                     ...               ...   \n",
       "424765  2200-06-03 02:35:00      F                   WHITE           WALK IN   \n",
       "424766  2153-02-26 01:58:00      F                   WHITE         AMBULANCE   \n",
       "424962  2179-02-22 11:51:00      F                   ASIAN         AMBULANCE   \n",
       "425023  2131-04-26 20:17:00      M  BLACK/AFRICAN AMERICAN           WALK IN   \n",
       "425024  2128-02-21 09:42:07      M  BLACK/AFRICAN AMERICAN           WALK IN   \n",
       "\n",
       "       disposition  \n",
       "73            HOME  \n",
       "74        ADMITTED  \n",
       "75        ADMITTED  \n",
       "76            HOME  \n",
       "77        ADMITTED  \n",
       "...            ...  \n",
       "424765    ADMITTED  \n",
       "424766    ADMITTED  \n",
       "424962        HOME  \n",
       "425023    ADMITTED  \n",
       "425024    ADMITTED  \n",
       "\n",
       "[19441 rows x 9 columns]"
      ]
     },
     "execution_count": 42,
     "metadata": {},
     "output_type": "execute_result"
    }
   ],
   "source": [
    "ed[ed.hadm_id.isin(included_data.hadm_id.values)]"
   ]
  },
  {
   "cell_type": "code",
   "execution_count": 45,
   "id": "212bc2d4-4108-4481-9aad-447828349e14",
   "metadata": {
    "tags": []
   },
   "outputs": [
    {
     "data": {
      "text/html": [
       "<div>\n",
       "<style scoped>\n",
       "    .dataframe tbody tr th:only-of-type {\n",
       "        vertical-align: middle;\n",
       "    }\n",
       "\n",
       "    .dataframe tbody tr th {\n",
       "        vertical-align: top;\n",
       "    }\n",
       "\n",
       "    .dataframe thead th {\n",
       "        text-align: right;\n",
       "    }\n",
       "</style>\n",
       "<table border=\"1\" class=\"dataframe\">\n",
       "  <thead>\n",
       "    <tr style=\"text-align: right;\">\n",
       "      <th></th>\n",
       "      <th>subject_id</th>\n",
       "      <th>hadm_id</th>\n",
       "      <th>admittime</th>\n",
       "      <th>dischtime</th>\n",
       "      <th>deathtime</th>\n",
       "      <th>admission_type</th>\n",
       "      <th>admit_provider_id</th>\n",
       "      <th>admission_location</th>\n",
       "      <th>discharge_location</th>\n",
       "      <th>insurance</th>\n",
       "      <th>language</th>\n",
       "      <th>marital_status</th>\n",
       "      <th>race</th>\n",
       "      <th>edregtime</th>\n",
       "      <th>edouttime</th>\n",
       "      <th>hospital_expire_flag</th>\n",
       "    </tr>\n",
       "  </thead>\n",
       "  <tbody>\n",
       "    <tr>\n",
       "      <th>58</th>\n",
       "      <td>10001725</td>\n",
       "      <td>25563031</td>\n",
       "      <td>2110-04-11 15:08:00</td>\n",
       "      <td>2110-04-14 15:00:00</td>\n",
       "      <td>NaN</td>\n",
       "      <td>EW EMER.</td>\n",
       "      <td>P35SU0</td>\n",
       "      <td>PACU</td>\n",
       "      <td>HOME</td>\n",
       "      <td>Other</td>\n",
       "      <td>ENGLISH</td>\n",
       "      <td>MARRIED</td>\n",
       "      <td>WHITE</td>\n",
       "      <td>NaN</td>\n",
       "      <td>NaN</td>\n",
       "      <td>0</td>\n",
       "    </tr>\n",
       "    <tr>\n",
       "      <th>64</th>\n",
       "      <td>10001884</td>\n",
       "      <td>21268656</td>\n",
       "      <td>2125-10-18 16:50:00</td>\n",
       "      <td>2125-10-20 15:15:00</td>\n",
       "      <td>NaN</td>\n",
       "      <td>EW EMER.</td>\n",
       "      <td>P20301</td>\n",
       "      <td>EMERGENCY ROOM</td>\n",
       "      <td>HOME</td>\n",
       "      <td>Medicare</td>\n",
       "      <td>ENGLISH</td>\n",
       "      <td>MARRIED</td>\n",
       "      <td>BLACK/AFRICAN AMERICAN</td>\n",
       "      <td>2125-10-18 15:01:00</td>\n",
       "      <td>2125-10-18 18:30:00</td>\n",
       "      <td>0</td>\n",
       "    </tr>\n",
       "    <tr>\n",
       "      <th>65</th>\n",
       "      <td>10001884</td>\n",
       "      <td>21577720</td>\n",
       "      <td>2125-12-26 17:06:00</td>\n",
       "      <td>2125-12-27 16:52:00</td>\n",
       "      <td>NaN</td>\n",
       "      <td>EU OBSERVATION</td>\n",
       "      <td>P20301</td>\n",
       "      <td>EMERGENCY ROOM</td>\n",
       "      <td>NaN</td>\n",
       "      <td>Medicare</td>\n",
       "      <td>ENGLISH</td>\n",
       "      <td>MARRIED</td>\n",
       "      <td>BLACK/AFRICAN AMERICAN</td>\n",
       "      <td>2125-12-26 13:50:00</td>\n",
       "      <td>2125-12-26 18:17:00</td>\n",
       "      <td>0</td>\n",
       "    </tr>\n",
       "    <tr>\n",
       "      <th>67</th>\n",
       "      <td>10001884</td>\n",
       "      <td>23594368</td>\n",
       "      <td>2125-11-30 16:02:00</td>\n",
       "      <td>2125-12-03 14:44:00</td>\n",
       "      <td>NaN</td>\n",
       "      <td>EW EMER.</td>\n",
       "      <td>P20301</td>\n",
       "      <td>EMERGENCY ROOM</td>\n",
       "      <td>HOME HEALTH CARE</td>\n",
       "      <td>Medicare</td>\n",
       "      <td>ENGLISH</td>\n",
       "      <td>MARRIED</td>\n",
       "      <td>BLACK/AFRICAN AMERICAN</td>\n",
       "      <td>2125-11-30 13:25:00</td>\n",
       "      <td>2125-11-30 19:57:00</td>\n",
       "      <td>0</td>\n",
       "    </tr>\n",
       "    <tr>\n",
       "      <th>68</th>\n",
       "      <td>10001884</td>\n",
       "      <td>24325811</td>\n",
       "      <td>2126-11-04 00:50:00</td>\n",
       "      <td>2126-11-04 12:49:00</td>\n",
       "      <td>NaN</td>\n",
       "      <td>EU OBSERVATION</td>\n",
       "      <td>P20D4W</td>\n",
       "      <td>EMERGENCY ROOM</td>\n",
       "      <td>NaN</td>\n",
       "      <td>Medicare</td>\n",
       "      <td>ENGLISH</td>\n",
       "      <td>MARRIED</td>\n",
       "      <td>BLACK/AFRICAN AMERICAN</td>\n",
       "      <td>2126-11-03 19:15:00</td>\n",
       "      <td>2126-11-04 12:49:00</td>\n",
       "      <td>0</td>\n",
       "    </tr>\n",
       "    <tr>\n",
       "      <th>...</th>\n",
       "      <td>...</td>\n",
       "      <td>...</td>\n",
       "      <td>...</td>\n",
       "      <td>...</td>\n",
       "      <td>...</td>\n",
       "      <td>...</td>\n",
       "      <td>...</td>\n",
       "      <td>...</td>\n",
       "      <td>...</td>\n",
       "      <td>...</td>\n",
       "      <td>...</td>\n",
       "      <td>...</td>\n",
       "      <td>...</td>\n",
       "      <td>...</td>\n",
       "      <td>...</td>\n",
       "      <td>...</td>\n",
       "    </tr>\n",
       "    <tr>\n",
       "      <th>431148</th>\n",
       "      <td>19998350</td>\n",
       "      <td>21130518</td>\n",
       "      <td>2131-04-26 18:43:00</td>\n",
       "      <td>2131-04-27 15:44:00</td>\n",
       "      <td>NaN</td>\n",
       "      <td>EU OBSERVATION</td>\n",
       "      <td>P03G4D</td>\n",
       "      <td>EMERGENCY ROOM</td>\n",
       "      <td>NaN</td>\n",
       "      <td>Other</td>\n",
       "      <td>ENGLISH</td>\n",
       "      <td>MARRIED</td>\n",
       "      <td>BLACK/AFRICAN AMERICAN</td>\n",
       "      <td>2131-04-25 20:34:00</td>\n",
       "      <td>2131-04-26 20:17:00</td>\n",
       "      <td>0</td>\n",
       "    </tr>\n",
       "    <tr>\n",
       "      <th>431149</th>\n",
       "      <td>19998350</td>\n",
       "      <td>27108332</td>\n",
       "      <td>2128-02-21 09:41:00</td>\n",
       "      <td>2128-02-22 17:04:00</td>\n",
       "      <td>NaN</td>\n",
       "      <td>EU OBSERVATION</td>\n",
       "      <td>P122SD</td>\n",
       "      <td>EMERGENCY ROOM</td>\n",
       "      <td>NaN</td>\n",
       "      <td>Medicare</td>\n",
       "      <td>ENGLISH</td>\n",
       "      <td>SINGLE</td>\n",
       "      <td>BLACK/AFRICAN AMERICAN</td>\n",
       "      <td>2128-02-21 08:08:00</td>\n",
       "      <td>2128-02-21 11:54:00</td>\n",
       "      <td>0</td>\n",
       "    </tr>\n",
       "    <tr>\n",
       "      <th>431197</th>\n",
       "      <td>19999379</td>\n",
       "      <td>26008899</td>\n",
       "      <td>2174-11-04 07:34:00</td>\n",
       "      <td>2174-11-05 14:05:00</td>\n",
       "      <td>NaN</td>\n",
       "      <td>EU OBSERVATION</td>\n",
       "      <td>P886Y0</td>\n",
       "      <td>EMERGENCY ROOM</td>\n",
       "      <td>NaN</td>\n",
       "      <td>Medicare</td>\n",
       "      <td>ENGLISH</td>\n",
       "      <td>MARRIED</td>\n",
       "      <td>WHITE</td>\n",
       "      <td>2174-11-04 00:25:00</td>\n",
       "      <td>2174-11-04 09:04:00</td>\n",
       "      <td>0</td>\n",
       "    </tr>\n",
       "    <tr>\n",
       "      <th>431199</th>\n",
       "      <td>19999442</td>\n",
       "      <td>25345411</td>\n",
       "      <td>2146-12-19 15:32:00</td>\n",
       "      <td>2146-12-27 17:20:00</td>\n",
       "      <td>NaN</td>\n",
       "      <td>ELECTIVE</td>\n",
       "      <td>P58A9J</td>\n",
       "      <td>PHYSICIAN REFERRAL</td>\n",
       "      <td>HOME</td>\n",
       "      <td>Other</td>\n",
       "      <td>ENGLISH</td>\n",
       "      <td>SINGLE</td>\n",
       "      <td>WHITE</td>\n",
       "      <td>NaN</td>\n",
       "      <td>NaN</td>\n",
       "      <td>0</td>\n",
       "    </tr>\n",
       "    <tr>\n",
       "      <th>431200</th>\n",
       "      <td>19999442</td>\n",
       "      <td>26785317</td>\n",
       "      <td>2148-11-19 10:00:00</td>\n",
       "      <td>2148-12-04 16:25:00</td>\n",
       "      <td>NaN</td>\n",
       "      <td>ELECTIVE</td>\n",
       "      <td>P147HV</td>\n",
       "      <td>PHYSICIAN REFERRAL</td>\n",
       "      <td>REHAB</td>\n",
       "      <td>Medicaid</td>\n",
       "      <td>ENGLISH</td>\n",
       "      <td>DIVORCED</td>\n",
       "      <td>WHITE</td>\n",
       "      <td>NaN</td>\n",
       "      <td>NaN</td>\n",
       "      <td>0</td>\n",
       "    </tr>\n",
       "  </tbody>\n",
       "</table>\n",
       "<p>39992 rows × 16 columns</p>\n",
       "</div>"
      ],
      "text/plain": [
       "        subject_id   hadm_id            admittime            dischtime  \\\n",
       "58        10001725  25563031  2110-04-11 15:08:00  2110-04-14 15:00:00   \n",
       "64        10001884  21268656  2125-10-18 16:50:00  2125-10-20 15:15:00   \n",
       "65        10001884  21577720  2125-12-26 17:06:00  2125-12-27 16:52:00   \n",
       "67        10001884  23594368  2125-11-30 16:02:00  2125-12-03 14:44:00   \n",
       "68        10001884  24325811  2126-11-04 00:50:00  2126-11-04 12:49:00   \n",
       "...            ...       ...                  ...                  ...   \n",
       "431148    19998350  21130518  2131-04-26 18:43:00  2131-04-27 15:44:00   \n",
       "431149    19998350  27108332  2128-02-21 09:41:00  2128-02-22 17:04:00   \n",
       "431197    19999379  26008899  2174-11-04 07:34:00  2174-11-05 14:05:00   \n",
       "431199    19999442  25345411  2146-12-19 15:32:00  2146-12-27 17:20:00   \n",
       "431200    19999442  26785317  2148-11-19 10:00:00  2148-12-04 16:25:00   \n",
       "\n",
       "       deathtime  admission_type admit_provider_id  admission_location  \\\n",
       "58           NaN        EW EMER.            P35SU0                PACU   \n",
       "64           NaN        EW EMER.            P20301      EMERGENCY ROOM   \n",
       "65           NaN  EU OBSERVATION            P20301      EMERGENCY ROOM   \n",
       "67           NaN        EW EMER.            P20301      EMERGENCY ROOM   \n",
       "68           NaN  EU OBSERVATION            P20D4W      EMERGENCY ROOM   \n",
       "...          ...             ...               ...                 ...   \n",
       "431148       NaN  EU OBSERVATION            P03G4D      EMERGENCY ROOM   \n",
       "431149       NaN  EU OBSERVATION            P122SD      EMERGENCY ROOM   \n",
       "431197       NaN  EU OBSERVATION            P886Y0      EMERGENCY ROOM   \n",
       "431199       NaN        ELECTIVE            P58A9J  PHYSICIAN REFERRAL   \n",
       "431200       NaN        ELECTIVE            P147HV  PHYSICIAN REFERRAL   \n",
       "\n",
       "       discharge_location insurance language marital_status  \\\n",
       "58                   HOME     Other  ENGLISH        MARRIED   \n",
       "64                   HOME  Medicare  ENGLISH        MARRIED   \n",
       "65                    NaN  Medicare  ENGLISH        MARRIED   \n",
       "67       HOME HEALTH CARE  Medicare  ENGLISH        MARRIED   \n",
       "68                    NaN  Medicare  ENGLISH        MARRIED   \n",
       "...                   ...       ...      ...            ...   \n",
       "431148                NaN     Other  ENGLISH        MARRIED   \n",
       "431149                NaN  Medicare  ENGLISH         SINGLE   \n",
       "431197                NaN  Medicare  ENGLISH        MARRIED   \n",
       "431199               HOME     Other  ENGLISH         SINGLE   \n",
       "431200              REHAB  Medicaid  ENGLISH       DIVORCED   \n",
       "\n",
       "                          race            edregtime            edouttime  \\\n",
       "58                       WHITE                  NaN                  NaN   \n",
       "64      BLACK/AFRICAN AMERICAN  2125-10-18 15:01:00  2125-10-18 18:30:00   \n",
       "65      BLACK/AFRICAN AMERICAN  2125-12-26 13:50:00  2125-12-26 18:17:00   \n",
       "67      BLACK/AFRICAN AMERICAN  2125-11-30 13:25:00  2125-11-30 19:57:00   \n",
       "68      BLACK/AFRICAN AMERICAN  2126-11-03 19:15:00  2126-11-04 12:49:00   \n",
       "...                        ...                  ...                  ...   \n",
       "431148  BLACK/AFRICAN AMERICAN  2131-04-25 20:34:00  2131-04-26 20:17:00   \n",
       "431149  BLACK/AFRICAN AMERICAN  2128-02-21 08:08:00  2128-02-21 11:54:00   \n",
       "431197                   WHITE  2174-11-04 00:25:00  2174-11-04 09:04:00   \n",
       "431199                   WHITE                  NaN                  NaN   \n",
       "431200                   WHITE                  NaN                  NaN   \n",
       "\n",
       "        hospital_expire_flag  \n",
       "58                         0  \n",
       "64                         0  \n",
       "65                         0  \n",
       "67                         0  \n",
       "68                         0  \n",
       "...                      ...  \n",
       "431148                     0  \n",
       "431149                     0  \n",
       "431197                     0  \n",
       "431199                     0  \n",
       "431200                     0  \n",
       "\n",
       "[39992 rows x 16 columns]"
      ]
     },
     "execution_count": 45,
     "metadata": {},
     "output_type": "execute_result"
    }
   ],
   "source": [
    "admission[admission.hadm_id.isin(included_data.hadm_id.values)]"
   ]
  },
  {
   "cell_type": "code",
   "execution_count": 50,
   "id": "f214ac60-74f8-43e7-a258-94f210d0e553",
   "metadata": {
    "tags": []
   },
   "outputs": [
    {
     "data": {
      "text/plain": [
       "array(['WHITE', 'OTHER', 'BLACK/AFRICAN AMERICAN', 'UNABLE TO OBTAIN',\n",
       "       'UNKNOWN', 'WHITE - RUSSIAN', 'PORTUGUESE',\n",
       "       'WHITE - OTHER EUROPEAN', 'BLACK/CAPE VERDEAN', 'ASIAN',\n",
       "       'ASIAN - CHINESE', 'HISPANIC/LATINO - DOMINICAN',\n",
       "       'HISPANIC/LATINO - SALVADORAN', 'HISPANIC/LATINO - PUERTO RICAN',\n",
       "       'HISPANIC/LATINO - GUATEMALAN', 'ASIAN - SOUTH EAST ASIAN',\n",
       "       'WHITE - BRAZILIAN', 'HISPANIC OR LATINO', 'BLACK/AFRICAN',\n",
       "       'NATIVE HAWAIIAN OR OTHER PACIFIC ISLANDER',\n",
       "       'BLACK/CARIBBEAN ISLAND', 'HISPANIC/LATINO - MEXICAN',\n",
       "       'PATIENT DECLINED TO ANSWER', 'HISPANIC/LATINO - CUBAN',\n",
       "       'AMERICAN INDIAN/ALASKA NATIVE', 'MULTIPLE RACE/ETHNICITY',\n",
       "       'WHITE - EASTERN EUROPEAN', 'ASIAN - KOREAN',\n",
       "       'HISPANIC/LATINO - HONDURAN', 'ASIAN - ASIAN INDIAN',\n",
       "       'HISPANIC/LATINO - COLUMBIAN',\n",
       "       'HISPANIC/LATINO - CENTRAL AMERICAN', 'SOUTH AMERICAN'],\n",
       "      dtype=object)"
      ]
     },
     "execution_count": 50,
     "metadata": {},
     "output_type": "execute_result"
    }
   ],
   "source": [
    "admission.race.unique()"
   ]
  },
  {
   "cell_type": "code",
   "execution_count": 47,
   "id": "149df05d-1e59-4f15-97da-fea348f3aec4",
   "metadata": {
    "tags": []
   },
   "outputs": [
    {
     "data": {
      "text/plain": [
       "Index(['subject_id', 'gender', 'anchor_age', 'anchor_year',\n",
       "       'anchor_year_group', 'dod'],\n",
       "      dtype='object')"
      ]
     },
     "execution_count": 47,
     "metadata": {},
     "output_type": "execute_result"
    }
   ],
   "source": [
    "patients.columns"
   ]
  },
  {
   "cell_type": "code",
   "execution_count": null,
   "id": "31d2e1eb-3f5a-42b1-a0bf-b2eb8d68bb60",
   "metadata": {},
   "outputs": [],
   "source": []
  },
  {
   "cell_type": "code",
   "execution_count": 3,
   "id": "42715aa7-52c9-4742-b705-97b463d48dca",
   "metadata": {
    "tags": []
   },
   "outputs": [
    {
     "name": "stderr",
     "output_type": "stream",
     "text": [
      "/opt/conda/envs/rapids/lib/python3.10/site-packages/pyreadr/_pyreadr_parser.py:233: RuntimeWarning: invalid value encountered in cast\n",
      "  df[colname] = df[colname].values.astype(\"datetime64[D]\").astype(datetime)\n"
     ]
    },
    {
     "data": {
      "text/plain": [
       "(732472, 60)"
      ]
     },
     "execution_count": 3,
     "metadata": {},
     "output_type": "execute_result"
    }
   ],
   "source": [
    "#add paractice information\n",
    "practice = pyreadr.read_r('../RCodes/ServerData_13Oct2020/d_practice.Rdata')\n",
    "practice = practice['d_practice']\n",
    "features = features.merge(practice[['practice_id','postcode_district','imd_decile','Country','County','LocalAuthority','OutputAreaClassification']], on='practice_id',how='left')\n",
    "features.reset_index(drop=True, inplace=True)\n",
    "features.shape"
   ]
  },
  {
   "cell_type": "code",
   "execution_count": 4,
   "id": "406e8338-b046-4e23-bbc8-5ae0f4be6d0c",
   "metadata": {
    "tags": []
   },
   "outputs": [
    {
     "name": "stdout",
     "output_type": "stream",
     "text": [
      "(724438, 60)\n",
      "train : 697668\n",
      "val : 26770\n"
     ]
    }
   ],
   "source": [
    "#BASE DATA\n",
    "#extract patients from England, Wales, Scotland\n",
    "features = features[(features.Country == 'England') |(features.Country == 'Wales') | (features.Country == 'Scotland')]\n",
    "print(features.shape)\n",
    "print('train :', features[features.Country == 'England'].shape[0])\n",
    "print('val :', features[(features.Country == 'Wales') | (features.Country == 'Scotland')].shape[0])"
   ]
  },
  {
   "cell_type": "code",
   "execution_count": 5,
   "id": "9183f0b2-42f8-4870-aca1-d2b0c45f9d3a",
   "metadata": {
    "tags": []
   },
   "outputs": [
    {
     "name": "stdout",
     "output_type": "stream",
     "text": [
      "new N:  720611\n",
      "diff:  3827\n",
      "train : 693841\n",
      "val : 26770\n",
      "diff train:  3827\n",
      "diff val:  0\n"
     ]
    }
   ],
   "source": [
    "# SEX drop NA\n",
    "temp = features.dropna(subset=('sex'))\n",
    "print('new N: ', temp.shape[0])\n",
    "print('diff: ', features.shape[0] - temp.shape[0])\n",
    "print('train :', temp[temp.Country == 'England'].shape[0])\n",
    "print('val :', temp[(temp.Country == 'Wales') | (temp.Country == 'Scotland')].shape[0])\n",
    "print('diff train: ', features[features.Country == 'England'].shape[0] - temp[temp.Country == 'England'].shape[0])\n",
    "print('diff val: ', features[(features.Country == 'Wales') | (features.Country == 'Scotland')].shape[0] - temp[(temp.Country == 'Wales') | (temp.Country == 'Scotland')].shape[0])\n",
    "features = temp\n",
    "features.reset_index(drop=True, inplace=True)"
   ]
  },
  {
   "cell_type": "code",
   "execution_count": 6,
   "id": "d09f699e-5d9a-45d6-8016-c52587f1551f",
   "metadata": {
    "tags": []
   },
   "outputs": [
    {
     "name": "stdout",
     "output_type": "stream",
     "text": [
      "new N:  583370\n",
      "diff:  137241\n",
      "train : 561100\n",
      "val : 22270\n",
      "diff train:  132741\n",
      "diff val:  4500\n"
     ]
    }
   ],
   "source": [
    "# Include only 18+\n",
    "temp = features[features.age >= 18]\n",
    "print('new N: ', temp.shape[0])\n",
    "print('diff: ', features.shape[0] - temp.shape[0])\n",
    "print('train :', temp[temp.Country == 'England'].shape[0])\n",
    "print('val :', temp[(temp.Country == 'Wales') | (temp.Country == 'Scotland')].shape[0])\n",
    "print('diff train: ', features[features.Country == 'England'].shape[0] - temp[temp.Country == 'England'].shape[0])\n",
    "print('diff val: ', features[(features.Country == 'Wales') | (features.Country == 'Scotland')].shape[0] - temp[(temp.Country == 'Wales') | (temp.Country == 'Scotland')].shape[0])\n",
    "features = temp\n",
    "features.reset_index(drop=True, inplace=True)"
   ]
  },
  {
   "cell_type": "code",
   "execution_count": 7,
   "id": "34a093f4-661d-4733-aa34-a6dfd7eb6fb0",
   "metadata": {
    "tags": []
   },
   "outputs": [
    {
     "name": "stdout",
     "output_type": "stream",
     "text": [
      "Missing BMI:  48186\n"
     ]
    }
   ],
   "source": [
    "print('Missing BMI: ', features[features.height.isna()].shape[0])"
   ]
  },
  {
   "cell_type": "code",
   "execution_count": 8,
   "id": "185eb250-1da7-41de-82b9-f36eb674c018",
   "metadata": {
    "tags": []
   },
   "outputs": [
    {
     "name": "stdout",
     "output_type": "stream",
     "text": [
      "new N:  578096\n",
      "diff:  5274\n"
     ]
    },
    {
     "name": "stderr",
     "output_type": "stream",
     "text": [
      "/tmp/ipykernel_2812/1773957297.py:3: SettingWithCopyWarning: \n",
      "A value is trying to be set on a copy of a slice from a DataFrame\n",
      "\n",
      "See the caveats in the documentation: https://pandas.pydata.org/pandas-docs/stable/user_guide/indexing.html#returning-a-view-versus-a-copy\n",
      "  temp['BMI'][temp.BMI.isna()] = 0\n",
      "/tmp/ipykernel_2812/1773957297.py:3: SettingWithCopyWarning: \n",
      "A value is trying to be set on a copy of a slice from a DataFrame\n",
      "\n",
      "See the caveats in the documentation: https://pandas.pydata.org/pandas-docs/stable/user_guide/indexing.html#returning-a-view-versus-a-copy\n",
      "  temp['BMI'][temp.BMI.isna()] = 0\n"
     ]
    },
    {
     "name": "stdout",
     "output_type": "stream",
     "text": [
      "train : 555964\n",
      "val : 22132\n",
      "diff train:  5136\n",
      "diff val:  138\n"
     ]
    }
   ],
   "source": [
    "# BMI include only 15-75 and code NA as 0 (not recorded)\n",
    "temp = features[((features.BMI >= 15) & (features.BMI <= 75))|(features.BMI.isna())]\n",
    "temp['BMI'][temp.BMI.isna()] = 0\n",
    "print('new N: ', temp.shape[0])\n",
    "print('diff: ', features.shape[0] - temp.shape[0])\n",
    "print('train :', temp[temp.Country == 'England'].shape[0])\n",
    "print('val :', temp[(temp.Country == 'Wales') | (temp.Country == 'Scotland')].shape[0])\n",
    "print('diff train: ', features[features.Country == 'England'].shape[0] - temp[temp.Country == 'England'].shape[0])\n",
    "print('diff val: ', features[(features.Country == 'Wales') | (features.Country == 'Scotland')].shape[0] - temp[(temp.Country == 'Wales') | (temp.Country == 'Scotland')].shape[0])\n",
    "features = temp\n",
    "features = temp\n",
    "features.reset_index(drop=True, inplace=True)"
   ]
  },
  {
   "cell_type": "code",
   "execution_count": 9,
   "id": "33cff9e7-c83d-4403-a98f-b081ddd98fd0",
   "metadata": {
    "tags": []
   },
   "outputs": [
    {
     "name": "stdout",
     "output_type": "stream",
     "text": [
      "new N:  578096\n",
      "diff:  0\n"
     ]
    }
   ],
   "source": [
    "# replace NA in ethnicity and ethnic_group with 'not_recorded'\n",
    "features.ethnicity[features.ethnic_group.isna()] = 'not_recorded'\n",
    "features.ethnic_group[features.ethnic_group.isna()] = 'not_recorded'\n",
    "print('new N: ', temp.shape[0])\n",
    "print('diff: ', features.shape[0] - temp.shape[0])"
   ]
  },
  {
   "cell_type": "code",
   "execution_count": 10,
   "id": "52400210-86cd-435c-b238-6dbfa8d5d2a2",
   "metadata": {
    "tags": []
   },
   "outputs": [
    {
     "name": "stdout",
     "output_type": "stream",
     "text": [
      "new N:  578096\n",
      "diff:  0\n"
     ]
    }
   ],
   "source": [
    "#for smoking, anyone with no record, consider them non-smoker\n",
    "features.smokingStatus[features.smokingStatus.isna()] = 'never'\n",
    "print('new N: ', temp.shape[0])\n",
    "print('diff: ', features.shape[0] - temp.shape[0])"
   ]
  },
  {
   "cell_type": "code",
   "execution_count": 11,
   "id": "09ada55c-f745-4926-a2fe-8043b2e9f071",
   "metadata": {
    "tags": []
   },
   "outputs": [
    {
     "name": "stdout",
     "output_type": "stream",
     "text": [
      "new N:  578096\n",
      "diff:  0\n"
     ]
    }
   ],
   "source": [
    "#for PEF, re-assign those with no data as a 'not_recorded'\n",
    "features.PEFStatus[features.PEFStatus.isna()] = 'not_recorded'\n",
    "print('new N: ', temp.shape[0])\n",
    "print('diff: ', features.shape[0] - temp.shape[0])"
   ]
  },
  {
   "cell_type": "code",
   "execution_count": 12,
   "id": "aa2444bc-a0eb-4ff2-a169-506b46109d3e",
   "metadata": {
    "tags": []
   },
   "outputs": [
    {
     "name": "stdout",
     "output_type": "stream",
     "text": [
      "new N:  578096\n",
      "diff:  0\n"
     ]
    }
   ],
   "source": [
    "#for Eosinophil, re-assign those with no data as a 'unknown'\n",
    "features.EosinophilLevel[features.EosinophilLevel.isna()] = 'unknown'\n",
    "print('new N: ', temp.shape[0])\n",
    "print('diff: ', features.shape[0] - temp.shape[0])"
   ]
  },
  {
   "cell_type": "code",
   "execution_count": 13,
   "id": "24bbc519-daf6-4ee7-8a35-6fdf069cad3e",
   "metadata": {
    "tags": []
   },
   "outputs": [
    {
     "name": "stdout",
     "output_type": "stream",
     "text": [
      "new N:  578096\n",
      "diff:  0\n"
     ]
    }
   ],
   "source": [
    "#for Device type, re-assign those with no data as a 'unknown'\n",
    "features.DeviceType[features.DeviceType.isna()] = 'unknown'\n",
    "print('new N: ', temp.shape[0])\n",
    "print('diff: ', features.shape[0] - temp.shape[0])"
   ]
  },
  {
   "cell_type": "code",
   "execution_count": 14,
   "id": "8d3ca2ae-13ef-4dad-83fb-9f09ca7069ce",
   "metadata": {
    "tags": []
   },
   "outputs": [
    {
     "name": "stdout",
     "output_type": "stream",
     "text": [
      "new N:  578096\n",
      "diff:  0\n"
     ]
    }
   ],
   "source": [
    "#BTS Step (if none recorded, it means that they are at step 0\n",
    "features.BTS_step[features.BTS_step.isna()] = 0\n",
    "print('new N: ', temp.shape[0])\n",
    "print('diff: ', features.shape[0] - temp.shape[0])"
   ]
  },
  {
   "cell_type": "code",
   "execution_count": 15,
   "id": "444f788f-8078-4ebf-b32a-fcfea329c3c5",
   "metadata": {
    "tags": []
   },
   "outputs": [
    {
     "name": "stdout",
     "output_type": "stream",
     "text": [
      "new N:  578096\n",
      "diff:  0\n"
     ]
    }
   ],
   "source": [
    "#do the same thing for other continuous vars\n",
    "features.average_daily_dose_ICS[features.average_daily_dose_ICS.isna()] = 0\n",
    "features.prescribed_daily_dose_ICS[features.prescribed_daily_dose_ICS.isna()] = 0\n",
    "features.ICS_medication_possesion_ratio[features.ICS_medication_possesion_ratio.isna()] = 0\n",
    "features.Spacer[features.Spacer.isna()] = 0\n",
    "features.numOCS[features.numOCS.isna()] = 0\n",
    "features.numPCS[features.numPCS.isna()] = 0\n",
    "features.numAntibioticsEvents[features.numAntibioticsEvents.isna()] = 0\n",
    "features.numAntibioticswithLRTI[features.numAntibioticswithLRTI.isna()] = 0\n",
    "features.numOCSEvents[features.numOCSEvents.isna()] = 0\n",
    "features.numOCSwithLRTI[features.numOCSwithLRTI.isna()] = 0\n",
    "features.numAsthmaAttacks[features.numAsthmaAttacks.isna()] = 0\n",
    "features.numAcuteRespEvents[features.numAcuteRespEvents.isna()] = 0\n",
    "features.PriorEducation[features.PriorEducation.isna()] = 0\n",
    "features.numPCSAsthma[features.numPCSAsthma.isna()] = 0\n",
    "features.CharlsonScore[features.CharlsonScore.isna()] = 0\n",
    "features.numHospEvents[features.numHospEvents.isna()] = 0\n",
    "print('new N: ', temp.shape[0])\n",
    "print('diff: ', features.shape[0] - temp.shape[0])"
   ]
  },
  {
   "cell_type": "code",
   "execution_count": 16,
   "id": "afa5cfda-53b6-4c62-bead-1c8dbeabba6e",
   "metadata": {
    "tags": []
   },
   "outputs": [
    {
     "data": {
      "text/plain": [
       "Index(['Unnamed: 0', 'patid', 'practice_id', 'sex', 'age', 'BMI', 'weight',\n",
       "       'height', 'ethnicity', 'ethnic_group', 'smokingStatus', 'CharlsonScore',\n",
       "       'count_rhinitis', 'count_cardiovascular', 'count_heartfailure',\n",
       "       'count_psoriasis', 'count_anaphylaxis', 'count_diabetes', 'count_ihd',\n",
       "       'count_anxiety', 'count_eczema', 'count_nasalpolyps',\n",
       "       'count_paracetamol', 'count_nsaids', 'count_betablocker', 'id',\n",
       "       'event_date', 'recorded_date', 'visit_id', 'code_id', 'snomed_id',\n",
       "       'numeric_1', 'numeric_2', 'created_datetime', 'updated_datetime',\n",
       "       'PEFStatus', 'EosinophilLevel', 'BTS_step', 'average_daily_dose_ICS',\n",
       "       'prescribed_daily_dose_ICS', 'ICS_medication_possesion_ratio',\n",
       "       'DeviceType', 'Spacer', 'numOCS', 'PriorEducation', 'numPCS',\n",
       "       'numPCSAsthma', 'numAntibioticsEvents', 'numAntibioticswithLRTI',\n",
       "       'numOCSEvents', 'numOCSwithLRTI', 'numAsthmaAttacks',\n",
       "       'numAcuteRespEvents', 'numHospEvents', 'postcode_district',\n",
       "       'imd_decile', 'Country', 'County', 'LocalAuthority',\n",
       "       'OutputAreaClassification'],\n",
       "      dtype='object')"
      ]
     },
     "execution_count": 16,
     "metadata": {},
     "output_type": "execute_result"
    }
   ],
   "source": [
    "features.columns"
   ]
  },
  {
   "cell_type": "code",
   "execution_count": null,
   "id": "8105eb95-002d-41d6-b746-2b2d495fdf70",
   "metadata": {},
   "outputs": [],
   "source": []
  },
  {
   "cell_type": "markdown",
   "id": "81e3c07e-c238-40f9-b9e3-ae14c39b0070",
   "metadata": {},
   "source": [
    "## Categorized cont vars"
   ]
  },
  {
   "cell_type": "code",
   "execution_count": 17,
   "id": "ed775dc2-a651-44a5-a120-f940ad200a5c",
   "metadata": {
    "tags": []
   },
   "outputs": [
    {
     "data": {
      "text/plain": [
       "(578096, 61)"
      ]
     },
     "execution_count": 17,
     "metadata": {},
     "output_type": "execute_result"
    }
   ],
   "source": [
    "#BMI\n",
    "def cat_bmi(x):\n",
    "    if (x>=15) & (x<18.5):\n",
    "        return 'underweight'\n",
    "    elif (x>=18.5) & (x<25):\n",
    "        return 'normal'\n",
    "    elif (x>=25) & (x<30):\n",
    "        return 'overweight'\n",
    "    elif (x>=50):\n",
    "        return 'obese'\n",
    "    \n",
    "features['cat_BMI'] = features.BMI.apply(lambda x: cat_bmi(x))\n",
    "features.shape"
   ]
  },
  {
   "cell_type": "code",
   "execution_count": 18,
   "id": "23a633bb-d74b-450b-b5de-477ad187b2a3",
   "metadata": {
    "tags": []
   },
   "outputs": [
    {
     "data": {
      "text/plain": [
       "(578096, 62)"
      ]
     },
     "execution_count": 18,
     "metadata": {},
     "output_type": "execute_result"
    }
   ],
   "source": [
    "#Age\n",
    "def cat_age(x):\n",
    "    if (x>=18) & (x<35):\n",
    "        return '18-34'\n",
    "    elif (x>=35) & (x<55):\n",
    "        return '35-54'\n",
    "    elif (x>=55) & (x<75):\n",
    "        return '55-74'\n",
    "    elif (x>=75):\n",
    "        return '>=75'\n",
    "    \n",
    "features['cat_age'] = features.age.apply(lambda x: cat_age(x))\n",
    "features.shape"
   ]
  },
  {
   "cell_type": "code",
   "execution_count": 19,
   "id": "e0f5975e-7e55-4469-b4ee-acdf002d485b",
   "metadata": {
    "tags": []
   },
   "outputs": [
    {
     "data": {
      "text/plain": [
       "(578096, 62)"
      ]
     },
     "execution_count": 19,
     "metadata": {},
     "output_type": "execute_result"
    }
   ],
   "source": [
    "#Smoking\n",
    "def cat_smoking(x):\n",
    "    if (x=='never'):\n",
    "        return 'Non Smoker'\n",
    "    elif (x=='former'):\n",
    "        return 'Former Smoker'\n",
    "    elif (x=='current'):\n",
    "        return 'Active Smoker'\n",
    "features['smokingStatus'] = features.smokingStatus.apply(lambda x: cat_smoking(x))\n",
    "features.shape"
   ]
  },
  {
   "cell_type": "code",
   "execution_count": 20,
   "id": "275c0bc8-1320-4246-bd71-159be12b7cf7",
   "metadata": {
    "tags": []
   },
   "outputs": [
    {
     "data": {
      "text/plain": [
       "(578096, 64)"
      ]
     },
     "execution_count": 20,
     "metadata": {},
     "output_type": "execute_result"
    }
   ],
   "source": [
    "#Average daily ICS\n",
    "def cat_ics(x):\n",
    "    if (x==0):\n",
    "        return '0'\n",
    "    elif (x>=1) & (x<=200):\n",
    "        return '1-200'\n",
    "    elif (x>200) & (x<=400):\n",
    "        return '201-400'\n",
    "    elif (x>400):\n",
    "        return '>400'\n",
    "    \n",
    "features['cat_average_daily_dose_ICS'] = features.average_daily_dose_ICS.apply(lambda x: cat_ics(x))\n",
    "features['cat_prescribed_daily_dose_ICS'] = features.prescribed_daily_dose_ICS.apply(lambda x: cat_ics(x))\n",
    "features.shape\n"
   ]
  },
  {
   "cell_type": "code",
   "execution_count": 21,
   "id": "05166545-fd65-463d-9605-ceb4f813bafa",
   "metadata": {
    "tags": []
   },
   "outputs": [
    {
     "name": "stdout",
     "output_type": "stream",
     "text": [
      "new N:  577962\n",
      "diff:  134\n",
      "train : 555836\n",
      "val : 22126\n",
      "diff train:  128\n",
      "diff val:  6\n"
     ]
    }
   ],
   "source": [
    "#clean ICS medication ratio\n",
    "temp = features.drop(features[features.ICS_medication_possesion_ratio==np.inf].index)\n",
    "print('new N: ', temp.shape[0])\n",
    "print('diff: ', features.shape[0] - temp.shape[0])\n",
    "print('train :', temp[temp.Country == 'England'].shape[0])\n",
    "print('val :', temp[(temp.Country == 'Wales') | (temp.Country == 'Scotland')].shape[0])\n",
    "print('diff train: ', features[features.Country == 'England'].shape[0] - temp[temp.Country == 'England'].shape[0])\n",
    "print('diff val: ', features[(features.Country == 'Wales') | (features.Country == 'Scotland')].shape[0] - temp[(temp.Country == 'Wales') | (temp.Country == 'Scotland')].shape[0])\n",
    "features = temp\n"
   ]
  },
  {
   "cell_type": "code",
   "execution_count": 22,
   "id": "88fde7e9-4012-4521-90bd-70e86bb4fe98",
   "metadata": {
    "tags": []
   },
   "outputs": [
    {
     "data": {
      "text/plain": [
       "(577962, 65)"
      ]
     },
     "execution_count": 22,
     "metadata": {},
     "output_type": "execute_result"
    }
   ],
   "source": [
    "#cat ICS medication ratio\n",
    "def cat_ics_medication(x):\n",
    "    if x==0:\n",
    "        return 'No ICS Prescribed'\n",
    "    elif (x>0) & (x<0.40):\n",
    "        return '>0%-39.9%'\n",
    "    elif (x>=0.40) & (x<.60):\n",
    "        return '40%-59.9%'\n",
    "    elif (x>0.60) :\n",
    "        return '>=60%'\n",
    "    \n",
    "features['cat_ICS_medication_possesion_ratio'] = features.ICS_medication_possesion_ratio.apply(lambda x: cat_ics_medication(x))\n",
    "features.shape\n"
   ]
  },
  {
   "cell_type": "code",
   "execution_count": 23,
   "id": "6173ed3a-efff-412f-81e5-a07020f293a9",
   "metadata": {
    "tags": []
   },
   "outputs": [
    {
     "data": {
      "text/plain": [
       "(577962, 75)"
      ]
     },
     "execution_count": 23,
     "metadata": {},
     "output_type": "execute_result"
    }
   ],
   "source": [
    "#cat other continuous vars\n",
    "def cat_continuous(x):\n",
    "    if x==0:\n",
    "        return '0'\n",
    "    elif x==1:\n",
    "        return '1'\n",
    "    elif x==2:\n",
    "        return '2'\n",
    "    elif (x>2) :\n",
    "        return '>=3'\n",
    "    \n",
    "features['cat_numOCS'] = features.numOCS.apply(lambda x: cat_continuous(x))\n",
    "features['cat_numOCSEvents'] = features.numOCSEvents.apply(lambda x: cat_continuous(x))\n",
    "features['cat_numOCSwithLRTI'] = features.numOCSwithLRTI.apply(lambda x: cat_continuous(x))\n",
    "features['cat_numAcuteRespEvents'] = features.numAcuteRespEvents.apply(lambda x: cat_continuous(x))\n",
    "features['cat_numAntibioticsEvents'] = features.numAntibioticsEvents.apply(lambda x: cat_continuous(x))\n",
    "features['cat_numAntibioticswithLRTI'] = features.numAntibioticswithLRTI.apply(lambda x: cat_continuous(x))\n",
    "features['cat_numAsthmaAttacks'] = features.numAsthmaAttacks.apply(lambda x: cat_continuous(x))\n",
    "features['cat_numHospEvents'] = features.numHospEvents.apply(lambda x: cat_continuous(x))\n",
    "features['cat_numPCS'] = features.numPCS.apply(lambda x: cat_continuous(x))\n",
    "features['cat_numPCSAsthma'] = features.numPCSAsthma.apply(lambda x: cat_continuous(x))\n",
    "features.shape"
   ]
  },
  {
   "cell_type": "code",
   "execution_count": 24,
   "id": "bc492da3-4f88-49df-a7ce-4104955436bc",
   "metadata": {
    "tags": []
   },
   "outputs": [
    {
     "data": {
      "text/plain": [
       "Index(['Unnamed: 0', 'patid', 'practice_id', 'sex', 'age', 'BMI', 'weight',\n",
       "       'height', 'ethnicity', 'ethnic_group', 'smokingStatus', 'CharlsonScore',\n",
       "       'count_rhinitis', 'count_cardiovascular', 'count_heartfailure',\n",
       "       'count_psoriasis', 'count_anaphylaxis', 'count_diabetes', 'count_ihd',\n",
       "       'count_anxiety', 'count_eczema', 'count_nasalpolyps',\n",
       "       'count_paracetamol', 'count_nsaids', 'count_betablocker', 'id',\n",
       "       'event_date', 'recorded_date', 'visit_id', 'code_id', 'snomed_id',\n",
       "       'numeric_1', 'numeric_2', 'created_datetime', 'updated_datetime',\n",
       "       'PEFStatus', 'EosinophilLevel', 'BTS_step', 'average_daily_dose_ICS',\n",
       "       'prescribed_daily_dose_ICS', 'ICS_medication_possesion_ratio',\n",
       "       'DeviceType', 'Spacer', 'numOCS', 'PriorEducation', 'numPCS',\n",
       "       'numPCSAsthma', 'numAntibioticsEvents', 'numAntibioticswithLRTI',\n",
       "       'numOCSEvents', 'numOCSwithLRTI', 'numAsthmaAttacks',\n",
       "       'numAcuteRespEvents', 'numHospEvents', 'postcode_district',\n",
       "       'imd_decile', 'Country', 'County', 'LocalAuthority',\n",
       "       'OutputAreaClassification', 'cat_BMI', 'cat_age',\n",
       "       'cat_average_daily_dose_ICS', 'cat_prescribed_daily_dose_ICS',\n",
       "       'cat_ICS_medication_possesion_ratio', 'cat_numOCS', 'cat_numOCSEvents',\n",
       "       'cat_numOCSwithLRTI', 'cat_numAcuteRespEvents',\n",
       "       'cat_numAntibioticsEvents', 'cat_numAntibioticswithLRTI',\n",
       "       'cat_numAsthmaAttacks', 'cat_numHospEvents', 'cat_numPCS',\n",
       "       'cat_numPCSAsthma'],\n",
       "      dtype='object')"
      ]
     },
     "execution_count": 24,
     "metadata": {},
     "output_type": "execute_result"
    }
   ],
   "source": [
    "features.columns"
   ]
  },
  {
   "cell_type": "code",
   "execution_count": 29,
   "id": "5812c8fd-2a35-438c-aebd-438d8bcecbb2",
   "metadata": {
    "tags": []
   },
   "outputs": [],
   "source": [
    "features.to_csv('../FinalData/cleaned_features_11072023.csv', index_label=False, index=False)"
   ]
  },
  {
   "cell_type": "markdown",
   "id": "21944671-0221-47fc-abdb-5b0fef1d89d9",
   "metadata": {},
   "source": [
    "# Outcome"
   ]
  },
  {
   "cell_type": "code",
   "execution_count": 25,
   "id": "ab066368-37b9-4cdd-9fb5-94201ed2d7dc",
   "metadata": {
    "tags": []
   },
   "outputs": [
    {
     "data": {
      "text/plain": [
       "(577962, 9)"
      ]
     },
     "execution_count": 25,
     "metadata": {},
     "output_type": "execute_result"
    }
   ],
   "source": [
    "outcomes = pd.read_csv('../FinalData/data_outcomes_10072023.csv')\n",
    "outcomes = outcomes.iloc[:,1:]\n",
    "#select only patients included in features\n",
    "outcomes = outcomes[outcomes.patid.isin(features.patid.values)]\n",
    "outcomes.shape"
   ]
  },
  {
   "cell_type": "code",
   "execution_count": 26,
   "id": "f8f68ae8-4af4-4e5e-afd5-6f668e8287b2",
   "metadata": {
    "tags": []
   },
   "outputs": [
    {
     "data": {
      "text/plain": [
       "(577962, 15)"
      ]
     },
     "execution_count": 26,
     "metadata": {},
     "output_type": "execute_result"
    }
   ],
   "source": [
    "outcomes[\"outcome_combined_6months\"] = outcomes.apply(lambda x: (x[\"outcome_3months\"] | x[\"outcome_6months\"]), axis=1)\n",
    "outcomes[\"outcome_combined_9months\"] = outcomes.apply(lambda x: (x[\"outcome_combined_6months\"] | x[\"outcome_9months\"]), axis=1)\n",
    "outcomes[\"outcome_combined_12months\"] = outcomes.apply(lambda x: (x[\"outcome_combined_9months\"] | x[\"outcome_12months\"]), axis=1)\n",
    "outcomes[\"outcome_combined_15months\"] = outcomes.apply(lambda x: (x[\"outcome_combined_12months\"] | x[\"outcome_15months\"]), axis=1)\n",
    "outcomes[\"outcome_combined_18months\"] = outcomes.apply(lambda x: (x[\"outcome_combined_15months\"] | x[\"outcome_18months\"]), axis=1)\n",
    "outcomes[\"outcome_combined_24months\"] = outcomes.apply(lambda x: (x[\"outcome_combined_18months\"] | x[\"outcome_24months\"]), axis=1)\n",
    "outcomes.shape"
   ]
  },
  {
   "cell_type": "code",
   "execution_count": 27,
   "id": "8ce0d8c0-51e9-49c9-985f-3feece6a308e",
   "metadata": {
    "tags": []
   },
   "outputs": [
    {
     "data": {
      "text/plain": [
       "(577962, 15)"
      ]
     },
     "execution_count": 27,
     "metadata": {},
     "output_type": "execute_result"
    }
   ],
   "source": [
    "outcomes.shape"
   ]
  },
  {
   "cell_type": "code",
   "execution_count": 28,
   "id": "019bb4bd-d45f-48a4-af90-13c1063eb40b",
   "metadata": {
    "tags": []
   },
   "outputs": [
    {
     "data": {
      "text/plain": [
       "Index(['patid', 'outcome_3months', 'outcome_6months', 'outcome_9months',\n",
       "       'outcome_12months', 'outcome_15months', 'outcome_18months',\n",
       "       'outcome_21months', 'outcome_24months', 'outcome_combined_6months',\n",
       "       'outcome_combined_9months', 'outcome_combined_12months',\n",
       "       'outcome_combined_15months', 'outcome_combined_18months',\n",
       "       'outcome_combined_24months'],\n",
       "      dtype='object')"
      ]
     },
     "execution_count": 28,
     "metadata": {},
     "output_type": "execute_result"
    }
   ],
   "source": [
    "outcomes.columns"
   ]
  },
  {
   "cell_type": "code",
   "execution_count": 30,
   "id": "c9ca7297-0d77-45d8-a948-e8a993e7387e",
   "metadata": {
    "tags": []
   },
   "outputs": [],
   "source": [
    "outcomes.to_csv('../FinalData/cleaned_outcomes_11072023.csv', index_label=False, index=False)"
   ]
  }
 ],
 "metadata": {
  "kernelspec": {
   "display_name": "Python 3 (ipykernel)",
   "language": "python",
   "name": "python3"
  },
  "language_info": {
   "codemirror_mode": {
    "name": "ipython",
    "version": 3
   },
   "file_extension": ".py",
   "mimetype": "text/x-python",
   "name": "python",
   "nbconvert_exporter": "python",
   "pygments_lexer": "ipython3",
   "version": "3.10.11"
  }
 },
 "nbformat": 4,
 "nbformat_minor": 5
}
