{
 "cells": [
  {
   "cell_type": "code",
   "execution_count": 35,
   "id": "a657b3a1-dc2c-455d-954c-3fca2ac33cdf",
   "metadata": {
    "tags": []
   },
   "outputs": [],
   "source": [
    "import pandas as pd\n",
    "import pyreadr\n",
    "import numpy as np\n",
    "import torch\n",
    "import pickle"
   ]
  },
  {
   "cell_type": "code",
   "execution_count": 2,
   "id": "20ac4658-b423-4955-ae0e-15c9eb2999fd",
   "metadata": {
    "tags": []
   },
   "outputs": [
    {
     "name": "stderr",
     "output_type": "stream",
     "text": [
      "/opt/conda/envs/rapids/lib/python3.10/site-packages/pyreadr/_pyreadr_parser.py:233: RuntimeWarning: invalid value encountered in cast\n",
      "  df[colname] = df[colname].values.astype(\"datetime64[D]\").astype(datetime)\n",
      "/opt/conda/envs/rapids/lib/python3.10/site-packages/pandas/core/tools/datetimes.py:557: RuntimeWarning: invalid value encountered in cast\n",
      "  arr, tz_parsed = tslib.array_with_unit_to_datetime(arg, unit, errors=errors)\n",
      "/opt/conda/envs/rapids/lib/python3.10/site-packages/pandas/core/tools/datetimes.py:557: RuntimeWarning: invalid value encountered in multiply\n",
      "  arr, tz_parsed = tslib.array_with_unit_to_datetime(arg, unit, errors=errors)\n",
      "/opt/conda/envs/rapids/lib/python3.10/site-packages/pandas/core/tools/datetimes.py:557: RuntimeWarning: invalid value encountered in cast\n",
      "  arr, tz_parsed = tslib.array_with_unit_to_datetime(arg, unit, errors=errors)\n",
      "/opt/conda/envs/rapids/lib/python3.10/site-packages/pandas/core/tools/datetimes.py:557: RuntimeWarning: invalid value encountered in multiply\n",
      "  arr, tz_parsed = tslib.array_with_unit_to_datetime(arg, unit, errors=errors)\n"
     ]
    }
   ],
   "source": [
    "#add paractice information\n",
    "practice = pyreadr.read_r('../ServerData_13Oct2020/f_clinical_part1.Rdata')\n",
    "practice = practice['f_clinical_part']\n"
   ]
  },
  {
   "cell_type": "code",
   "execution_count": 3,
   "id": "6099505f-cb42-4924-a23c-2705135c1afa",
   "metadata": {
    "tags": []
   },
   "outputs": [],
   "source": [
    "#data selection \n",
    "practice = practice.dropna(subset=['code_id'])\n",
    "practice['event_date'] = pd.to_datetime(practice['event_date'])\n",
    "practice = practice.loc[(practice['event_date'] >= '2016-01-01') & (practice['event_date'] < '2018-01-01')]"
   ]
  },
  {
   "cell_type": "code",
   "execution_count": 4,
   "id": "76a74a00-2108-41e4-9498-cf06ba4786e8",
   "metadata": {
    "tags": []
   },
   "outputs": [
    {
     "data": {
      "text/plain": [
       "(19859,)"
      ]
     },
     "execution_count": 4,
     "metadata": {},
     "output_type": "execute_result"
    }
   ],
   "source": [
    "practice.code_id.unique().shape"
   ]
  },
  {
   "cell_type": "code",
   "execution_count": 5,
   "id": "de518074-2d36-4d0f-9e70-e8a938bf2723",
   "metadata": {
    "tags": []
   },
   "outputs": [
    {
     "name": "stdout",
     "output_type": "stream",
     "text": [
      "code2idx Size: 19860\n",
      "idx2code Size: 19860\n"
     ]
    }
   ],
   "source": [
    "#vocab and code2idx generation\n",
    "vocab = practice.code_id.unique().tolist()\n",
    "idx = range(1, len(vocab)+1)\n",
    "\n",
    "code2idx = dict(zip(vocab, idx))\n",
    "idx2code = dict(zip(idx, vocab))\n",
    "\n",
    "code2idx['PAD'] = 0\n",
    "idx2code[0] = 'PAD'\n",
    "VOCAB_SIZE = len(code2idx)\n",
    "print('code2idx Size: {}'.format(len(code2idx)))\n",
    "print('idx2code Size: {}'.format(len(idx2code)))\n",
    "# print(code2idx)"
   ]
  },
  {
   "cell_type": "code",
   "execution_count": 6,
   "id": "c0dd4305-7942-45e4-bc1a-d0586ea1a415",
   "metadata": {
    "tags": []
   },
   "outputs": [],
   "source": [
    "#extract year, month, day from event date\n",
    "practice['day'] = practice.apply(lambda x: str(x['event_date'].day), axis=1)\n",
    "practice['month'] = practice.apply(lambda x: str(x['event_date'].month), axis=1)\n",
    "practice['year'] = practice.apply(lambda x: str(x['event_date'].year), axis=1)"
   ]
  },
  {
   "cell_type": "code",
   "execution_count": 7,
   "id": "f81e3634-77a6-40cc-89c3-ea7c91fda6ce",
   "metadata": {
    "tags": []
   },
   "outputs": [
    {
     "data": {
      "text/plain": [
       "(9951,)"
      ]
     },
     "execution_count": 7,
     "metadata": {},
     "output_type": "execute_result"
    }
   ],
   "source": [
    "practice.patid.unique().shape"
   ]
  },
  {
   "cell_type": "code",
   "execution_count": 8,
   "id": "4706dd5b-ece0-4a67-beb9-05e2df3171a3",
   "metadata": {
    "tags": []
   },
   "outputs": [],
   "source": [
    "# Outcomes data\n",
    "outcomes = pd.read_csv(\"../FinalData/cleaned_outcomes_11072023.csv\")"
   ]
  },
  {
   "cell_type": "code",
   "execution_count": 9,
   "id": "76a7a665-8432-480b-815b-d3a8d9a1b191",
   "metadata": {
    "tags": []
   },
   "outputs": [
    {
     "data": {
      "text/plain": [
       "0    6565\n",
       "1    1505\n",
       "Name: outcome_combined_12months, dtype: int64"
      ]
     },
     "execution_count": 9,
     "metadata": {},
     "output_type": "execute_result"
    }
   ],
   "source": [
    "outcomes[outcomes.patid.isin(practice.patid.unique())].outcome_combined_12months.value_counts()"
   ]
  },
  {
   "cell_type": "code",
   "execution_count": 10,
   "id": "56a28882-9e0d-4805-9448-a229257dd7ea",
   "metadata": {
    "tags": []
   },
   "outputs": [],
   "source": [
    "practice['read_code_seq'] = practice.sort_values(['event_date'], ascending=True).groupby('patid')['code_id'].transform(lambda x: ', '.join(x))\n"
   ]
  },
  {
   "cell_type": "code",
   "execution_count": 11,
   "id": "22a8afc6-4991-4534-a7dc-cf4657fb570e",
   "metadata": {
    "tags": []
   },
   "outputs": [],
   "source": [
    "event_data_seq = practice.sort_values(['event_date']).groupby('patid').agg({'day': lambda x: x.tolist(),\n",
    "                                                          'month': lambda x: x.tolist(),\n",
    "                                                          'year': lambda x: x.tolist()}).reset_index()"
   ]
  },
  {
   "cell_type": "code",
   "execution_count": 12,
   "id": "0258d563-90d7-4939-8b14-01d550c052be",
   "metadata": {
    "tags": []
   },
   "outputs": [],
   "source": [
    "practice = practice.drop_duplicates(subset=['patid']).reset_index(drop=True)     "
   ]
  },
  {
   "cell_type": "code",
   "execution_count": 13,
   "id": "0511385e-9ac7-4a10-bc20-7f48d303e99c",
   "metadata": {
    "tags": []
   },
   "outputs": [
    {
     "data": {
      "text/html": [
       "<div>\n",
       "<style scoped>\n",
       "    .dataframe tbody tr th:only-of-type {\n",
       "        vertical-align: middle;\n",
       "    }\n",
       "\n",
       "    .dataframe tbody tr th {\n",
       "        vertical-align: top;\n",
       "    }\n",
       "\n",
       "    .dataframe thead th {\n",
       "        text-align: right;\n",
       "    }\n",
       "</style>\n",
       "<table border=\"1\" class=\"dataframe\">\n",
       "  <thead>\n",
       "    <tr style=\"text-align: right;\">\n",
       "      <th></th>\n",
       "      <th>id</th>\n",
       "      <th>patid</th>\n",
       "      <th>event_date</th>\n",
       "      <th>recorded_date</th>\n",
       "      <th>visit_id</th>\n",
       "      <th>code_id</th>\n",
       "      <th>snomed_id</th>\n",
       "      <th>numeric_1</th>\n",
       "      <th>numeric_2</th>\n",
       "      <th>created_datetime</th>\n",
       "      <th>updated_datetime</th>\n",
       "      <th>day</th>\n",
       "      <th>month</th>\n",
       "      <th>year</th>\n",
       "      <th>read_code_seq</th>\n",
       "    </tr>\n",
       "  </thead>\n",
       "  <tbody>\n",
       "    <tr>\n",
       "      <th>0</th>\n",
       "      <td>1.141732e+09</td>\n",
       "      <td>43671012</td>\n",
       "      <td>2016-01-22</td>\n",
       "      <td>None</td>\n",
       "      <td>NaN</td>\n",
       "      <td>Xab9D</td>\n",
       "      <td>908481000000105</td>\n",
       "      <td>NaN</td>\n",
       "      <td>NaN</td>\n",
       "      <td>2020-02-18 19:46:46.609999872</td>\n",
       "      <td>2021-09-16 05:16:24.663000064</td>\n",
       "      <td>22</td>\n",
       "      <td>1</td>\n",
       "      <td>2016</td>\n",
       "      <td>XaMiI, 663Q., XaY2V, XaINa, XaQHq, 8795., 1731...</td>\n",
       "    </tr>\n",
       "    <tr>\n",
       "      <th>1</th>\n",
       "      <td>1.142251e+09</td>\n",
       "      <td>43655540</td>\n",
       "      <td>2016-01-22</td>\n",
       "      <td>None</td>\n",
       "      <td>NaN</td>\n",
       "      <td>XaEJK</td>\n",
       "      <td>313334002</td>\n",
       "      <td>NaN</td>\n",
       "      <td>NaN</td>\n",
       "      <td>2020-02-18 19:46:46.609999872</td>\n",
       "      <td>2021-09-16 05:16:24.663000064</td>\n",
       "      <td>22</td>\n",
       "      <td>1</td>\n",
       "      <td>2016</td>\n",
       "      <td>246.., 2469., 246A., XaZ4m, 1737., XaIeq, H33....</td>\n",
       "    </tr>\n",
       "    <tr>\n",
       "      <th>2</th>\n",
       "      <td>1.150410e+09</td>\n",
       "      <td>43582797</td>\n",
       "      <td>2016-01-12</td>\n",
       "      <td>None</td>\n",
       "      <td>NaN</td>\n",
       "      <td>Xa1hD</td>\n",
       "      <td>281239006</td>\n",
       "      <td>NaN</td>\n",
       "      <td>NaN</td>\n",
       "      <td>2020-02-18 19:46:46.609999872</td>\n",
       "      <td>2021-09-16 05:16:24.663000064</td>\n",
       "      <td>12</td>\n",
       "      <td>1</td>\n",
       "      <td>2016</td>\n",
       "      <td>3395., 2E3.., X770D, 242.., Xa1hD, XaIer, XaXZ...</td>\n",
       "    </tr>\n",
       "    <tr>\n",
       "      <th>3</th>\n",
       "      <td>1.155379e+09</td>\n",
       "      <td>43554478</td>\n",
       "      <td>2016-01-04</td>\n",
       "      <td>None</td>\n",
       "      <td>NaN</td>\n",
       "      <td>663N.</td>\n",
       "      <td>170631002</td>\n",
       "      <td>NaN</td>\n",
       "      <td>NaN</td>\n",
       "      <td>2020-02-18 19:46:46.609999872</td>\n",
       "      <td>2021-09-16 05:16:24.663000064</td>\n",
       "      <td>4</td>\n",
       "      <td>1</td>\n",
       "      <td>2016</td>\n",
       "      <td>Ua1Nz, 663e., XaINd, 8B314, XaIeq, 1371., 663N...</td>\n",
       "    </tr>\n",
       "    <tr>\n",
       "      <th>4</th>\n",
       "      <td>1.155159e+09</td>\n",
       "      <td>43611754</td>\n",
       "      <td>2016-01-13</td>\n",
       "      <td>None</td>\n",
       "      <td>NaN</td>\n",
       "      <td>173A.</td>\n",
       "      <td>31387002</td>\n",
       "      <td>NaN</td>\n",
       "      <td>NaN</td>\n",
       "      <td>2020-02-18 19:46:46.609999872</td>\n",
       "      <td>2021-09-16 05:16:24.663000064</td>\n",
       "      <td>13</td>\n",
       "      <td>1</td>\n",
       "      <td>2016</td>\n",
       "      <td>173A., XaASl</td>\n",
       "    </tr>\n",
       "  </tbody>\n",
       "</table>\n",
       "</div>"
      ],
      "text/plain": [
       "             id     patid event_date recorded_date  visit_id code_id  \\\n",
       "0  1.141732e+09  43671012 2016-01-22          None       NaN   Xab9D   \n",
       "1  1.142251e+09  43655540 2016-01-22          None       NaN   XaEJK   \n",
       "2  1.150410e+09  43582797 2016-01-12          None       NaN   Xa1hD   \n",
       "3  1.155379e+09  43554478 2016-01-04          None       NaN   663N.   \n",
       "4  1.155159e+09  43611754 2016-01-13          None       NaN   173A.   \n",
       "\n",
       "              snomed_id  numeric_1  numeric_2              created_datetime  \\\n",
       "0  908481000000105             NaN        NaN 2020-02-18 19:46:46.609999872   \n",
       "1  313334002                   NaN        NaN 2020-02-18 19:46:46.609999872   \n",
       "2  281239006                   NaN        NaN 2020-02-18 19:46:46.609999872   \n",
       "3  170631002                   NaN        NaN 2020-02-18 19:46:46.609999872   \n",
       "4  31387002                    NaN        NaN 2020-02-18 19:46:46.609999872   \n",
       "\n",
       "               updated_datetime day month  year  \\\n",
       "0 2021-09-16 05:16:24.663000064  22     1  2016   \n",
       "1 2021-09-16 05:16:24.663000064  22     1  2016   \n",
       "2 2021-09-16 05:16:24.663000064  12     1  2016   \n",
       "3 2021-09-16 05:16:24.663000064   4     1  2016   \n",
       "4 2021-09-16 05:16:24.663000064  13     1  2016   \n",
       "\n",
       "                                       read_code_seq  \n",
       "0  XaMiI, 663Q., XaY2V, XaINa, XaQHq, 8795., 1731...  \n",
       "1  246.., 2469., 246A., XaZ4m, 1737., XaIeq, H33....  \n",
       "2  3395., 2E3.., X770D, 242.., Xa1hD, XaIer, XaXZ...  \n",
       "3  Ua1Nz, 663e., XaINd, 8B314, XaIeq, 1371., 663N...  \n",
       "4                                       173A., XaASl  "
      ]
     },
     "execution_count": 13,
     "metadata": {},
     "output_type": "execute_result"
    }
   ],
   "source": [
    "practice.head()"
   ]
  },
  {
   "cell_type": "code",
   "execution_count": 14,
   "id": "e74bb6a8-2711-4581-a086-99edb3c1ddcf",
   "metadata": {
    "tags": []
   },
   "outputs": [],
   "source": [
    "data = practice[['patid', 'read_code_seq']].merge(event_data_seq,  on='patid')"
   ]
  },
  {
   "cell_type": "code",
   "execution_count": 15,
   "id": "edbea00c-3e2b-464f-b105-66d52df7aa02",
   "metadata": {
    "tags": []
   },
   "outputs": [],
   "source": [
    "data = data.merge(outcomes[['patid', 'outcome_combined_12months']], on='patid')"
   ]
  },
  {
   "cell_type": "code",
   "execution_count": 16,
   "id": "80a6c10e-234d-43a4-ad4d-d1df481a9c56",
   "metadata": {
    "tags": []
   },
   "outputs": [
    {
     "data": {
      "text/plain": [
       "0    6565\n",
       "1    1505\n",
       "Name: outcome_combined_12months, dtype: int64"
      ]
     },
     "execution_count": 16,
     "metadata": {},
     "output_type": "execute_result"
    }
   ],
   "source": [
    "data.outcome_combined_12months.value_counts()"
   ]
  },
  {
   "cell_type": "code",
   "execution_count": 17,
   "id": "89d1523d-1127-4d50-b0da-dc5bcc85c691",
   "metadata": {
    "tags": []
   },
   "outputs": [],
   "source": [
    "data['read_code_seq'] = data['read_code_seq'].apply(lambda x: x.strip('\"\"').split(', '))"
   ]
  },
  {
   "cell_type": "code",
   "execution_count": 18,
   "id": "0aa9adc7-f417-45ac-a705-66c5df18dbde",
   "metadata": {
    "tags": []
   },
   "outputs": [],
   "source": [
    "data['length_read_code_seq'] = data['read_code_seq'].apply(lambda x: len(x))"
   ]
  },
  {
   "cell_type": "code",
   "execution_count": 19,
   "id": "6a72ba91-ece8-40b2-87b4-6528213f2e58",
   "metadata": {
    "tags": []
   },
   "outputs": [],
   "source": [
    "data = data[data.length_read_code_seq > 50]"
   ]
  },
  {
   "cell_type": "code",
   "execution_count": 20,
   "id": "db0e4090-e437-446a-a2e1-1216886b30c3",
   "metadata": {
    "tags": []
   },
   "outputs": [],
   "source": [
    "#padding\n",
    "max_seq = 100\n",
    "def make_uniform_data(x):\n",
    "    if len(x) < max_seq:\n",
    "        pads = ['PAD'] * (max_seq - len(x))\n",
    "        return x + pads\n",
    "    elif len(x) > max_seq:\n",
    "        x = x[:max_seq]\n",
    "        return x\n",
    "    else:\n",
    "        return x"
   ]
  },
  {
   "cell_type": "code",
   "execution_count": 21,
   "id": "1e69e460-2953-485b-b4c8-5ac980603a58",
   "metadata": {
    "tags": []
   },
   "outputs": [],
   "source": [
    "data['read_code_seq_padded'] = data['read_code_seq'].apply(lambda x: make_uniform_data(x))"
   ]
  },
  {
   "cell_type": "code",
   "execution_count": 23,
   "id": "4edc0703-7e9c-4717-8a12-df92b0d39c73",
   "metadata": {
    "tags": []
   },
   "outputs": [],
   "source": [
    "data['read_code_seq_padded_idx'] = data['read_code_seq'].apply(lambda x: [code2idx.get(key) for key in x])"
   ]
  },
  {
   "cell_type": "code",
   "execution_count": 29,
   "id": "0a000d0b-d2fe-44d0-bd77-cd248460e269",
   "metadata": {
    "tags": []
   },
   "outputs": [],
   "source": [
    "X = np.array(data.read_code_seq_padded_idx.values)"
   ]
  },
  {
   "cell_type": "code",
   "execution_count": 30,
   "id": "a8bb15e1-0de1-4e0a-98e1-8b39b7649624",
   "metadata": {
    "tags": []
   },
   "outputs": [
    {
     "data": {
      "text/plain": [
       "(6721,)"
      ]
     },
     "execution_count": 30,
     "metadata": {},
     "output_type": "execute_result"
    }
   ],
   "source": [
    "X.shape"
   ]
  },
  {
   "cell_type": "code",
   "execution_count": 47,
   "id": "7bec401c-d870-4dd2-bcb6-92d16494101e",
   "metadata": {
    "tags": []
   },
   "outputs": [
    {
     "data": {
      "text/plain": [
       "[100,\n",
       " 519,\n",
       " 520,\n",
       " 49,\n",
       " 50,\n",
       " 26,\n",
       " 51,\n",
       " 52,\n",
       " 53,\n",
       " 36,\n",
       " 35,\n",
       " 5,\n",
       " 4,\n",
       " 34,\n",
       " 6,\n",
       " 20,\n",
       " 42,\n",
       " 41,\n",
       " 40,\n",
       " 46,\n",
       " 39,\n",
       " 38,\n",
       " 47,\n",
       " 43,\n",
       " 44,\n",
       " 45,\n",
       " 13,\n",
       " 48,\n",
       " 18,\n",
       " 37,\n",
       " 8,\n",
       " 17,\n",
       " 33,\n",
       " 1768,\n",
       " 30,\n",
       " 32,\n",
       " 31,\n",
       " 32,\n",
       " 431,\n",
       " 63,\n",
       " 76,\n",
       " 66,\n",
       " 736,\n",
       " 75,\n",
       " 77,\n",
       " 78,\n",
       " 80,\n",
       " 71,\n",
       " 83,\n",
       " 244,\n",
       " 265,\n",
       " 93,\n",
       " 65,\n",
       " 72,\n",
       " 258,\n",
       " 81,\n",
       " 91,\n",
       " 84,\n",
       " 92,\n",
       " 82,\n",
       " 67,\n",
       " 64,\n",
       " 69,\n",
       " 90,\n",
       " 79,\n",
       " 74,\n",
       " 274,\n",
       " 247,\n",
       " 70,\n",
       " 73,\n",
       " 89,\n",
       " 68,\n",
       " 1,\n",
       " 29,\n",
       " 297,\n",
       " 663,\n",
       " 663,\n",
       " 3083,\n",
       " 619,\n",
       " 618,\n",
       " 902,\n",
       " 439,\n",
       " 902,\n",
       " 33,\n",
       " 3276,\n",
       " 189,\n",
       " 908,\n",
       " 3449,\n",
       " 109,\n",
       " 34,\n",
       " 24,\n",
       " 12899,\n",
       " 134,\n",
       " 353,\n",
       " 37,\n",
       " 52,\n",
       " 41,\n",
       " 51,\n",
       " 8,\n",
       " 145,\n",
       " 9,\n",
       " 49,\n",
       " 35,\n",
       " 5,\n",
       " 28,\n",
       " 519,\n",
       " 1888,\n",
       " 131,\n",
       " 4,\n",
       " 38,\n",
       " 44,\n",
       " 10,\n",
       " 229,\n",
       " 13,\n",
       " 520,\n",
       " 916,\n",
       " 14,\n",
       " 20,\n",
       " 228,\n",
       " 26,\n",
       " 16,\n",
       " 46,\n",
       " 48,\n",
       " 39,\n",
       " 17,\n",
       " 3730,\n",
       " 45,\n",
       " 100,\n",
       " 146,\n",
       " 23,\n",
       " 141,\n",
       " 28,\n",
       " 67,\n",
       " 68,\n",
       " 63,\n",
       " 66,\n",
       " 80,\n",
       " 92,\n",
       " 591,\n",
       " 274,\n",
       " 736,\n",
       " 82,\n",
       " 71,\n",
       " 247,\n",
       " 78,\n",
       " 265,\n",
       " 65,\n",
       " 64,\n",
       " 93,\n",
       " 81,\n",
       " 72,\n",
       " 621,\n",
       " 621,\n",
       " 28,\n",
       " 621,\n",
       " 28,\n",
       " 2806,\n",
       " 28,\n",
       " 38,\n",
       " 621,\n",
       " 621,\n",
       " 28,\n",
       " 794,\n",
       " 28,\n",
       " 51,\n",
       " 56,\n",
       " 621,\n",
       " 28,\n",
       " 194,\n",
       " 1301,\n",
       " 1691,\n",
       " 621,\n",
       " 28,\n",
       " 28,\n",
       " 28,\n",
       " 1301,\n",
       " 1691,\n",
       " 621,\n",
       " 28,\n",
       " 28,\n",
       " 28,\n",
       " 2011,\n",
       " 621,\n",
       " 3081,\n",
       " 32,\n",
       " 4916,\n",
       " 204,\n",
       " 3,\n",
       " 2,\n",
       " 28,\n",
       " 1031,\n",
       " 17062,\n",
       " 1888,\n",
       " 100,\n",
       " 4227,\n",
       " 30,\n",
       " 519,\n",
       " 520,\n",
       " 543,\n",
       " 17060,\n",
       " 842,\n",
       " 68,\n",
       " 93,\n",
       " 258,\n",
       " 30,\n",
       " 520,\n",
       " 28,\n",
       " 1691,\n",
       " 78,\n",
       " 1301,\n",
       " 100,\n",
       " 274,\n",
       " 82,\n",
       " 80,\n",
       " 519]"
      ]
     },
     "execution_count": 47,
     "metadata": {},
     "output_type": "execute_result"
    }
   ],
   "source": [
    "X[0]"
   ]
  },
  {
   "cell_type": "code",
   "execution_count": 33,
   "id": "3429f975-f114-444c-a65a-611e3ffb2d89",
   "metadata": {
    "tags": []
   },
   "outputs": [
    {
     "data": {
      "text/plain": [
       "0    5315\n",
       "1    1406\n",
       "Name: outcome_combined_12months, dtype: int64"
      ]
     },
     "execution_count": 33,
     "metadata": {},
     "output_type": "execute_result"
    }
   ],
   "source": [
    "data.outcome_combined_12months.value_counts()"
   ]
  },
  {
   "cell_type": "code",
   "execution_count": 41,
   "id": "7692c189-e328-425c-a021-9f72212aafde",
   "metadata": {
    "tags": []
   },
   "outputs": [],
   "source": [
    "#SAVE all important materials\n",
    "pickle.dump(code2idx, open('../SeqModel/code2idx.sav', 'wb'))\n",
    "pickle.dump(idx2code, open('../SeqModel/idx2code.sav', 'wb'))\n",
    "data.to_csv('../SeqModel/seqDataRaw.csv', index_label=False, index=False)"
   ]
  },
  {
   "cell_type": "code",
   "execution_count": null,
   "id": "9a3177b2-a484-47d9-a671-d0040640557c",
   "metadata": {},
   "outputs": [],
   "source": []
  }
 ],
 "metadata": {
  "kernelspec": {
   "display_name": "Python 3 (ipykernel)",
   "language": "python",
   "name": "python3"
  },
  "language_info": {
   "codemirror_mode": {
    "name": "ipython",
    "version": 3
   },
   "file_extension": ".py",
   "mimetype": "text/x-python",
   "name": "python",
   "nbconvert_exporter": "python",
   "pygments_lexer": "ipython3",
   "version": "3.10.11"
  }
 },
 "nbformat": 4,
 "nbformat_minor": 5
}
