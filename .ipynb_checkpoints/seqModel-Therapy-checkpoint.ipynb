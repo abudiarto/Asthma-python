{
 "cells": [
  {
   "cell_type": "markdown",
   "id": "cc8032a7-260b-40a8-8cbe-e292ab403047",
   "metadata": {},
   "source": [
    "# LSTM Model using Therapy sequence"
   ]
  },
  {
   "cell_type": "code",
   "execution_count": 1,
   "id": "ae1286de-3d50-4eb3-b3c7-a4404748f00b",
   "metadata": {
    "tags": []
   },
   "outputs": [
    {
     "name": "stderr",
     "output_type": "stream",
     "text": [
      "2023-12-04 20:38:15.897959: I tensorflow/core/util/port.cc:111] oneDNN custom operations are on. You may see slightly different numerical results due to floating-point round-off errors from different computation orders. To turn them off, set the environment variable `TF_ENABLE_ONEDNN_OPTS=0`.\n",
      "2023-12-04 20:38:16.172622: E tensorflow/compiler/xla/stream_executor/cuda/cuda_dnn.cc:9342] Unable to register cuDNN factory: Attempting to register factory for plugin cuDNN when one has already been registered\n",
      "2023-12-04 20:38:16.172767: E tensorflow/compiler/xla/stream_executor/cuda/cuda_fft.cc:609] Unable to register cuFFT factory: Attempting to register factory for plugin cuFFT when one has already been registered\n",
      "2023-12-04 20:38:16.173131: E tensorflow/compiler/xla/stream_executor/cuda/cuda_blas.cc:1518] Unable to register cuBLAS factory: Attempting to register factory for plugin cuBLAS when one has already been registered\n",
      "2023-12-04 20:38:16.255910: I tensorflow/core/platform/cpu_feature_guard.cc:182] This TensorFlow binary is optimized to use available CPU instructions in performance-critical operations.\n",
      "To enable the following instructions: AVX2 AVX512F AVX512_VNNI FMA, in other operations, rebuild TensorFlow with the appropriate compiler flags.\n"
     ]
    }
   ],
   "source": [
    "import tensorflow as tf\n",
    "from tensorflow.keras.datasets import imdb\n",
    "from tensorflow.keras.models import Sequential, Model, load_model\n",
    "from tensorflow.keras.layers import Dense, LSTM, Embedding, Dropout, Bidirectional, Input, concatenate, Reshape, Activation, Flatten, Add, BatchNormalization, Multiply, LeakyReLU\n",
    "from tensorflow.keras.preprocessing import sequence\n",
    "from tensorflow.keras.callbacks import EarlyStopping, ModelCheckpoint, ReduceLROnPlateau, TensorBoard\n",
    "from tensorflow.keras.metrics import AUC, SensitivityAtSpecificity\n",
    "from tensorflow.keras.optimizers import Adam, Adagrad, RMSprop, Adamax, SGD, Adadelta\n",
    "from tensorflow.keras.initializers import Constant\n",
    "from tensorflow.keras.regularizers import L1L2, L1, L2\n",
    "from livelossplot import PlotLossesKeras\n",
    "#internal validation\n",
    "from sklearn.model_selection import train_test_split\n",
    "from sklearn.metrics import confusion_matrix, classification_report, f1_score, balanced_accuracy_score, matthews_corrcoef, auc, average_precision_score, roc_auc_score, balanced_accuracy_score, roc_curve, accuracy_score\n",
    "from sklearn.preprocessing import StandardScaler, MinMaxScaler\n",
    "\n",
    "import matplotlib.pyplot as plt\n",
    "\n",
    "import numpy as np\n",
    "import pandas as pd\n",
    "import pickle\n",
    "\n",
    "# fix random seed for reproducibility\n",
    "tf.random.set_seed(1234)\n",
    "\n"
   ]
  },
  {
   "cell_type": "code",
   "execution_count": null,
   "id": "99d66269-80cc-4450-9432-b75bcb598efb",
   "metadata": {
    "tags": []
   },
   "outputs": [],
   "source": [
    "# load the dataset but only keep the top n words, zero the rest\n",
    "data = pickle.load(open('../SeqModel/data_all_big_08112023_75%.sav', 'rb'))\n",
    "code2idx = pickle.load(open('../SeqModel/code2idx_all_big_08112023_75%.sav', 'rb'))\n",
    "idx2code = pickle.load(open('../SeqModel/idx2code_all_big_08112023_75%.sav', 'rb'))\n",
    "\n",
    "vocab_size = len(code2idx)\n",
    "vocab_size"
   ]
  },
  {
   "cell_type": "code",
   "execution_count": null,
   "id": "eedb216e-17e1-487b-b392-ce5936f396de",
   "metadata": {
    "tags": []
   },
   "outputs": [],
   "source": [
    "tabularData = pd.read_csv('../FinalData/cleaned_features_08112023.csv')\n",
    "tabularData = tabularData.drop_duplicates(subset=['patid'])\n",
    "\n",
    "extractVars = ['patid', 'sex', 'BMI', 'imd_decile', 'smokingStatus', 'month_1', 'month_2', 'month_3',\n",
    " 'month_4', 'month_5', 'month_6', 'month_7', 'month_8', 'month_9',\n",
    " 'month_10', 'month_11', 'month_12', ]\n",
    "\n",
    "data = data.merge(tabularData[extractVars], how = 'left', on='patid')\n",
    "data = pd.get_dummies(data, columns=['imd_decile', 'smokingStatus']) #one hot encoding\n",
    "tabularData = []"
   ]
  },
  {
   "cell_type": "code",
   "execution_count": null,
   "id": "23098e77-76c5-422c-bdbd-a0152e9876c4",
   "metadata": {
    "tags": []
   },
   "outputs": [],
   "source": [
    "# #Data split conventional (mixed countries)\n",
    "# trainingData, testData = train_test_split(data, test_size=0.1, stratify=data[target_outcome], random_state=1234)\n",
    "# trainingData, valData = train_test_split(trainingData, test_size=0.2, stratify=trainingData[target_outcome], random_state=1234)\n",
    "# print(trainingData.shape)\n",
    "# print(valData.shape)\n",
    "# print(testData.shape)"
   ]
  },
  {
   "cell_type": "code",
   "execution_count": null,
   "id": "9d0d0809-4055-42b9-a738-5438011b7eb4",
   "metadata": {
    "tags": []
   },
   "outputs": [],
   "source": [
    "#Data split, train=England, eval=Scot+Wales\n",
    "trainingData = data[(data.Country == 'England') & (data.age >= 18)]\n",
    "trainingData, valData = train_test_split(trainingData, test_size=0.2, stratify=trainingData[target_outcome], random_state=1234)\n",
    "trainingData, evalData = train_test_split(trainingData, test_size=0.2, stratify=trainingData[target_outcome], random_state=1234)\n",
    "testData = data[((data.Country == 'Wales') | (data.Country == 'Scotland')) & (data.age >= 18)]\n",
    "testDataWales = data[(data.Country == 'Wales') & (data.age >= 18)]\n",
    "testDataScotland = data[(data.Country == 'Scotland') & (data.age >= 18)]"
   ]
  },
  {
   "cell_type": "code",
   "execution_count": null,
   "id": "9f157bd3-b8a1-47e5-b6de-3e4f7d466bb5",
   "metadata": {
    "tags": []
   },
   "outputs": [],
   "source": [
    "print('Train: ', trainingData.shape[0])\n",
    "print('Val: ', valData.shape[0])\n",
    "print('Eval (internal validation): ', evalData.shape[0])\n",
    "print('Test: ', testData.shape[0])\n",
    "print('Test - Wales: ', testDataWales.shape[0])\n",
    "print('Test - Scotland: ', testDataScotland.shape[0])"
   ]
  },
  {
   "cell_type": "code",
   "execution_count": null,
   "id": "bdf217de-6216-4a7d-b8ef-705c69fb52cf",
   "metadata": {
    "tags": []
   },
   "outputs": [],
   "source": [
    "print(trainingData.patid.unique().shape)\n",
    "print(trainingData.shape)"
   ]
  },
  {
   "cell_type": "code",
   "execution_count": null,
   "id": "a8913a7a-5e44-4359-85a4-5e4bdf6501c7",
   "metadata": {
    "scrolled": true,
    "tags": []
   },
   "outputs": [],
   "source": [
    "#make sure no data leak between sets\n",
    "print(list(set(trainingData.patid.values).intersection(set(valData.patid.values))))\n",
    "print(list(set(trainingData.patid.values).intersection(set(evalData.patid.values))))\n",
    "print(list(set(valData.patid.values).intersection(set(evalData.patid.values))))\n",
    "print(list(set(valData.patid.values).intersection(set(testData.patid.values))))\n",
    "print(list(set(trainingData.patid.values).intersection(set(testData.patid.values))))\n",
    "print(list(set(testData.patid.values).intersection(set(testDataScotland.patid.values)))) # here data leak is expected"
   ]
  },
  {
   "cell_type": "code",
   "execution_count": null,
   "id": "a8ae2fa9-09d0-4bdc-ba46-3abec45b4c66",
   "metadata": {
    "scrolled": true,
    "tags": []
   },
   "outputs": [],
   "source": [
    "print(trainingData[target_outcome].value_counts(normalize=True))\n",
    "print(valData[target_outcome].value_counts(normalize=True))\n",
    "print(evalData[target_outcome].value_counts(normalize=True))\n",
    "print(testData[target_outcome].value_counts(normalize=True))\n",
    "print(testDataWales[target_outcome].value_counts(normalize=True))\n",
    "print(testDataScotland[target_outcome].value_counts(normalize=True))"
   ]
  },
  {
   "cell_type": "code",
   "execution_count": null,
   "id": "fda86638-d182-41ef-9b33-679250bb3445",
   "metadata": {
    "tags": []
   },
   "outputs": [],
   "source": [
    "tabularVars = ['age', 'sex', 'BMI', 'smokingStatus_Active Smoker', \n",
    "                   'smokingStatus_Former Smoker', 'smokingStatus_Non Smoker',\n",
    "                   'imd_decile_0.0', 'imd_decile_1.0', 'imd_decile_2.0', 'imd_decile_3.0',\n",
    "                   'imd_decile_4.0', 'imd_decile_5.0', 'imd_decile_6.0', 'imd_decile_7.0',\n",
    "                   'imd_decile_8.0', 'imd_decile_9.0', 'imd_decile_10.0', \n",
    "                   # 'month_1', 'month_2', 'month_3','month_4', 'month_5', \n",
    "                   # 'month_6', 'month_7', 'month_8', 'month_9', 'month_10', \n",
    "                   # 'month_11', 'month_12',\n",
    "                  ]\n",
    "Xt_train = np.array(trainingData[tabularVars].values)\n",
    "Xt_val = np.array(valData[tabularVars].values)\n",
    "Xt_eval = np.array(evalData[tabularVars].values)\n",
    "Xt_test = np.array(testData[tabularVars].values)\n",
    "Xt_testWales = np.array(testDataWales[tabularVars].values)\n",
    "Xt_testScotland= np.array(testDataScotland[tabularVars].values)\n",
    "\n",
    "Xs_train = np.array(trainingData.read_code_seq_padded_idx_end.values)\n",
    "Xs_train = np.array([x for x in Xs_train])\n",
    "Xs_val = np.array(valData.read_code_seq_padded_idx_end.values)\n",
    "Xs_val = np.array([x for x in Xs_val])\n",
    "Xs_eval = np.array(evalData.read_code_seq_padded_idx_end.values)\n",
    "Xs_eval = np.array([x for x in Xs_eval])\n",
    "Xs_test = np.array(testData.read_code_seq_padded_idx_end.values)\n",
    "Xs_test = np.array([x for x in Xs_test])\n",
    "Xs_testWales = np.array(testDataWales.read_code_seq_padded_idx_end.values)\n",
    "Xs_testWales = np.array([x for x in Xs_testWales])\n",
    "Xs_testScotland = np.array(testDataScotland.read_code_seq_padded_idx_end.values)\n",
    "Xs_testScotland = np.array([x for x in Xs_testScotland])\n",
    "\n",
    "Xm_train = np.array(trainingData.month_padded_idx_end.values)\n",
    "Xm_train = np.array([x for x in Xm_train])\n",
    "Xm_val = np.array(valData.month_padded_idx_end.values)\n",
    "Xm_val = np.array([x for x in Xm_val])\n",
    "Xm_eval = np.array(evalData.month_padded_idx_end.values)\n",
    "Xm_eval = np.array([x for x in Xm_eval])\n",
    "Xm_test = np.array(testData.month_padded_idx_end.values)\n",
    "Xm_test = np.array([x for x in Xm_test])\n",
    "Xm_testWales = np.array(testDataWales.month_padded_idx_end.values)\n",
    "Xm_testWales = np.array([x for x in Xm_testWales])\n",
    "Xm_testScotland = np.array(testDataScotland.month_padded_idx_end.values)\n",
    "Xm_testScotland = np.array([x for x in Xm_testScotland])\n",
    "\n",
    "y_train = trainingData[target_outcome].values\n",
    "y_val = valData[target_outcome].values\n",
    "y_eval = evalData[target_outcome].values\n",
    "y_test = testData[target_outcome].values\n",
    "y_testWales = testDataWales[target_outcome].values\n",
    "y_testScotland = testDataScotland[target_outcome].values\n",
    "\n",
    "#scalling tabular data\n",
    "scaler = StandardScaler().fit(Xt_train)\n",
    "Xt_train = scaler.transform(Xt_train)\n",
    "Xt_val = scaler.transform(Xt_val)\n",
    "Xt_eval = scaler.transform(Xt_eval)\n",
    "Xt_test = scaler.transform(Xt_test)\n",
    "Xt_testWales = scaler.transform(Xt_testWales)\n",
    "Xt_testScotland = scaler.transform(Xt_testScotland)"
   ]
  },
  {
   "cell_type": "code",
   "execution_count": null,
   "id": "25ed906e-adb2-4c91-b2ef-fb50bd84ba3c",
   "metadata": {
    "tags": []
   },
   "outputs": [],
   "source": [
    "# # X and y\n",
    "# X_train = np.array(trainingData.read_code_seq_padded_idx.values)\n",
    "# X_train = np.array([x for x in X_train])\n",
    "# X_val = np.array(valData.read_code_seq_padded_idx.values)\n",
    "# X_val = np.array([x for x in X_val])\n",
    "# X_eval = np.array(evalData.read_code_seq_padded_idx.values)\n",
    "# X_eval = np.array([x for x in X_eval])\n",
    "# X_test = np.array(testData.read_code_seq_padded_idx.values)\n",
    "# X_test = np.array([x for x in X_test])\n",
    "# X_testWales = np.array(testDataWales.read_code_seq_padded_idx.values)\n",
    "# X_testWales = np.array([x for x in X_testWales])\n",
    "# X_testScotland = np.array(testDataScotland.read_code_seq_padded_idx.values)\n",
    "# X_testScotland = np.array([x for x in X_testScotland])\n",
    "\n",
    "# y_train = trainingData[target_outcome].values\n",
    "# y_val = valData[target_outcome].values\n",
    "# y_eval = evalData[target_outcome].values\n",
    "# y_test = testData[target_outcome].values\n",
    "# y_testWales = testDataWales[target_outcome].values\n",
    "# y_testScotland = testDataScotland[target_outcome].values"
   ]
  },
  {
   "cell_type": "code",
   "execution_count": null,
   "id": "f5b6dee9-3c3f-4b97-b3b4-6e9879f51620",
   "metadata": {},
   "outputs": [],
   "source": []
  },
  {
   "cell_type": "markdown",
   "id": "a9d1e4f0-1280-448d-8df8-55a2dd6648d9",
   "metadata": {},
   "source": [
    "# RUN"
   ]
  },
  {
   "cell_type": "code",
   "execution_count": 2,
   "id": "f2e26e6d-1fba-430e-a954-9676cc730947",
   "metadata": {
    "tags": []
   },
   "outputs": [
    {
     "name": "stdout",
     "output_type": "stream",
     "text": [
      "121958\n",
      "13\n"
     ]
    }
   ],
   "source": [
    "sets =  pickle.load(open('../SeqModel/sets_search_long.sav', 'rb'))\n",
    "sets_eval = pickle.load(open('../SeqModel/sets_search_long_eval.sav', 'rb'))\n",
    "code2idx = pickle.load(open('../SeqModel/all_vocab.sav', 'rb'))\n",
    "month2idx = pickle.load(open('../SeqModel/all_vocab_month.sav', 'rb'))\n",
    "vocab_size = len(code2idx)+1\n",
    "month_size = len(month2idx)+1\n",
    "print(vocab_size)\n",
    "print(month_size)"
   ]
  },
  {
   "cell_type": "code",
   "execution_count": 3,
   "id": "6af0a99e-6756-4ac7-81ff-cf991c3d21bd",
   "metadata": {
    "tags": []
   },
   "outputs": [],
   "source": [
    "Xt_train, Xt_val, Xt_eval, Xs_train, Xs_val, Xs_eval, Xm_train, Xm_val, Xm_eval, y_train, y_val, y_eval = sets\n",
    "Xt_test, Xt_testWales, Xt_testScotland, Xs_test, Xs_testWales, Xs_testScotland, Xm_test, Xm_testWales, Xm_testScotland, y_test, y_testWales, y_testScotland = sets_eval"
   ]
  },
  {
   "cell_type": "code",
   "execution_count": 4,
   "id": "add5e859-7525-40af-966e-02c99c4399af",
   "metadata": {
    "tags": []
   },
   "outputs": [
    {
     "name": "stdout",
     "output_type": "stream",
     "text": [
      "Train:  (3251, 1500)\n",
      "Val:  1743\n",
      "Eval (internal validation):  813\n",
      "Test:  194729\n",
      "Test - Wales:  4722\n",
      "Test - Scotland:  3408\n"
     ]
    }
   ],
   "source": [
    "print('Train: ', Xs_train.shape)\n",
    "print('Val: ', Xs_val.shape[0])\n",
    "print('Eval (internal validation): ', Xs_eval.shape[0])\n",
    "print('Test: ', Xs_test.shape[0])\n",
    "print('Test - Wales: ', Xs_testWales.shape[0])\n",
    "print('Test - Scotland: ', Xs_testScotland.shape[0])"
   ]
  },
  {
   "cell_type": "code",
   "execution_count": 5,
   "id": "692d48bc-7f2c-49f0-89d3-6ce06ebfb9dd",
   "metadata": {
    "tags": []
   },
   "outputs": [
    {
     "name": "stdout",
     "output_type": "stream",
     "text": [
      "{0: 1, 1: 3.521557719054242}\n"
     ]
    }
   ],
   "source": [
    "pos_weight = sum(x == 0 for x in y_train)/sum(x == 1 for x in y_train)\n",
    "class_weight = {0:1, 1:pos_weight}\n",
    "print(class_weight)"
   ]
  },
  {
   "cell_type": "code",
   "execution_count": 6,
   "id": "1ef863ce-002a-4913-a8e4-a7492f20c049",
   "metadata": {
    "tags": []
   },
   "outputs": [
    {
     "data": {
      "text/plain": [
       "349.22485593096036"
      ]
     },
     "execution_count": 6,
     "metadata": {},
     "output_type": "execute_result"
    }
   ],
   "source": [
    "np.sqrt(vocab_size)"
   ]
  },
  {
   "cell_type": "code",
   "execution_count": 7,
   "id": "95667606-62df-44a4-a3db-7a440d36947f",
   "metadata": {
    "tags": []
   },
   "outputs": [],
   "source": [
    "target_outcome = '12months'\n",
    "max_codes = 750\n",
    "tab_feature_size = Xt_train.shape[1]"
   ]
  },
  {
   "cell_type": "code",
   "execution_count": 8,
   "id": "4943f759-cf30-4366-b7c8-bf33fbb73101",
   "metadata": {
    "tags": []
   },
   "outputs": [],
   "source": [
    "def earlyFussion():\n",
    "       \n",
    "    inputs1 = Input(shape=tab_feature_size)\n",
    "    inputs2 = Input(shape=max_codes)\n",
    "    inputs3 = Input(shape=max_codes)\n",
    "    \n",
    "    \n",
    "    #clinical embedding for lstm\n",
    "    embedding = Embedding(vocab_size, 50, input_length=max_codes)(inputs2)\n",
    "    \n",
    "    #month embedding for lstm\n",
    "    embedding_month = Embedding(month_size, 7, input_length=max_codes)(inputs3)\n",
    "    \n",
    "    nn = Dense(32, activation='relu', kernel_initializer='glorot_uniform', kernel_regularizer=L1L2(l1=0.0, l2=0.1))(inputs1)\n",
    "    nn = Dropout(0.5)(nn)\n",
    "    lstmClinical = Bidirectional(LSTM(units=16, return_sequences=True, kernel_regularizer=L1L2(l1=0.0, l2=0.1)))(embedding)\n",
    "    lstmMonth = Bidirectional(LSTM(units=16, return_sequences=True, kernel_regularizer=L1L2(l1=0.0, l2=0.1)))(embedding_month)\n",
    "    # lstm = Add()([lstmClinical, lstmMonth])\n",
    "    lstm = lstmClinical\n",
    "    \n",
    "    # nn = Reshape((1, 32))(nn)\n",
    "    # add = concatenate([nn, lstm], axis=1)\n",
    "    nn = Dense(16, activation='relu', kernel_initializer='glorot_uniform', kernel_regularizer=L1L2(l1=0.0, l2=0.1))(nn)\n",
    "    nn = Dropout(0.5)(nn)\n",
    "    lstm = Bidirectional(LSTM(units=8, return_sequences=True, kernel_regularizer=L1L2(l1=0.0, l2=0.1)))(lstm)\n",
    "    lstm = Dropout(0.5)(lstm)\n",
    "    \n",
    "    # # nn = Reshape((301, 64))(nn)\n",
    "    # add = concatenate([nn, lstm], axis=1)\n",
    "    nn = Dense(16, activation='relu', kernel_initializer='glorot_uniform', kernel_regularizer=L1L2(l1=0.0, l2=0.1))(nn)\n",
    "    nn = Dropout(0.5)(nn)\n",
    "    lstm = Bidirectional(LSTM(units=8, return_sequences=True, kernel_regularizer=L1L2(l1=0.0, l2=0.1)))(lstm)\n",
    "    lstm = Dropout(0.5)(lstm)\n",
    "    \n",
    "    nn = Reshape((1, 16))(nn)\n",
    "    model_tot = concatenate([nn, lstm], axis=1)\n",
    "    # model_tot = BatchNormalization()(model_tot)\n",
    "\n",
    "    model_tot = Dense(units=8, activation=LeakyReLU())(model_tot)\n",
    "    nn = Dropout(0.5)(nn)\n",
    "    \n",
    "    model_tot = Flatten()(model_tot)\n",
    "    output = Dense(1, activation='sigmoid')(model_tot)\n",
    "    \n",
    "    opt = RMSprop(learning_rate=5e-5, clipvalue=.5)\n",
    "    metrics = [\n",
    "        AUC(num_thresholds=3, name='auc', curve='ROC'),\n",
    "        AUC(num_thresholds=3, name='auprc', curve='PR'),\n",
    "        tf.keras.metrics.Precision(name='prec'),\n",
    "        tf.keras.metrics.Recall(name='rec'),\n",
    "        tf.keras.metrics.TrueNegatives(name='TN'),\n",
    "        tf.keras.metrics.TruePositives(name='TP'),\n",
    "        tf.keras.metrics.PrecisionAtRecall(0.8)\n",
    "    ]\n",
    "    \n",
    "    loss = tf.keras.losses.BinaryCrossentropy()\n",
    "    \n",
    "    model = Model(inputs=[inputs1, inputs2, inputs3], outputs=output)\n",
    "    model.compile(\n",
    "        loss='binary_crossentropy', \n",
    "        optimizer=opt, \n",
    "        metrics=metrics)\n",
    "    return model"
   ]
  },
  {
   "cell_type": "code",
   "execution_count": 9,
   "id": "b1375ac8-eeac-420d-bb0b-3c62b2494cf9",
   "metadata": {
    "tags": []
   },
   "outputs": [
    {
     "name": "stdout",
     "output_type": "stream",
     "text": [
      "50\n"
     ]
    }
   ],
   "source": [
    "# from sklearn.utils import class_weight\n",
    "# sklearn_weights = class_weight.compute_class_weight('balanced', classes=np.unique(y_train), y=y_train)\n",
    "# class_weight = dict(enumerate(sklearn_weights))\n",
    "\n",
    "#Hyperparameter\n",
    "lr = 1e-5\n",
    "clipvalue = 0.2\n",
    "epoch = 1000\n",
    "batch_size = 256\n",
    "embedding_vector_length = 50\n",
    "month_embedding_vector_length = 5\n",
    "# embedding_vector_length = int(np.sqrt(vocab_size))\n",
    "# embedding_vector_length = int(np.cbrt(vocab_size))\n",
    "print(embedding_vector_length)"
   ]
  },
  {
   "cell_type": "code",
   "execution_count": 10,
   "id": "4bb0d784-620b-44e3-8aeb-c3d39b8dce0a",
   "metadata": {
    "scrolled": true,
    "tags": []
   },
   "outputs": [
    {
     "name": "stderr",
     "output_type": "stream",
     "text": [
      "2023-12-04 20:38:32.769020: I tensorflow/compiler/xla/stream_executor/cuda/cuda_gpu_executor.cc:880] could not open file to read NUMA node: /sys/bus/pci/devices/0000:01:00.0/numa_node\n",
      "Your kernel may have been built without NUMA support.\n",
      "2023-12-04 20:38:32.803615: I tensorflow/compiler/xla/stream_executor/cuda/cuda_gpu_executor.cc:880] could not open file to read NUMA node: /sys/bus/pci/devices/0000:01:00.0/numa_node\n",
      "Your kernel may have been built without NUMA support.\n",
      "2023-12-04 20:38:32.803655: I tensorflow/compiler/xla/stream_executor/cuda/cuda_gpu_executor.cc:880] could not open file to read NUMA node: /sys/bus/pci/devices/0000:01:00.0/numa_node\n",
      "Your kernel may have been built without NUMA support.\n",
      "2023-12-04 20:38:32.824774: I tensorflow/compiler/xla/stream_executor/cuda/cuda_gpu_executor.cc:880] could not open file to read NUMA node: /sys/bus/pci/devices/0000:01:00.0/numa_node\n",
      "Your kernel may have been built without NUMA support.\n",
      "2023-12-04 20:38:32.824842: I tensorflow/compiler/xla/stream_executor/cuda/cuda_gpu_executor.cc:880] could not open file to read NUMA node: /sys/bus/pci/devices/0000:01:00.0/numa_node\n",
      "Your kernel may have been built without NUMA support.\n",
      "2023-12-04 20:38:32.824856: I tensorflow/compiler/xla/stream_executor/cuda/cuda_gpu_executor.cc:880] could not open file to read NUMA node: /sys/bus/pci/devices/0000:01:00.0/numa_node\n",
      "Your kernel may have been built without NUMA support.\n",
      "2023-12-04 20:38:35.269214: I tensorflow/compiler/xla/stream_executor/cuda/cuda_gpu_executor.cc:880] could not open file to read NUMA node: /sys/bus/pci/devices/0000:01:00.0/numa_node\n",
      "Your kernel may have been built without NUMA support.\n",
      "2023-12-04 20:38:35.269264: I tensorflow/compiler/xla/stream_executor/cuda/cuda_gpu_executor.cc:880] could not open file to read NUMA node: /sys/bus/pci/devices/0000:01:00.0/numa_node\n",
      "Your kernel may have been built without NUMA support.\n",
      "2023-12-04 20:38:35.269272: I tensorflow/core/common_runtime/gpu/gpu_device.cc:1977] Could not identify NUMA node of platform GPU id 0, defaulting to 0.  Your kernel may not have been built with NUMA support.\n",
      "2023-12-04 20:38:35.269296: I tensorflow/compiler/xla/stream_executor/cuda/cuda_gpu_executor.cc:880] could not open file to read NUMA node: /sys/bus/pci/devices/0000:01:00.0/numa_node\n",
      "Your kernel may have been built without NUMA support.\n",
      "2023-12-04 20:38:35.269353: I tensorflow/core/common_runtime/gpu/gpu_device.cc:1886] Created device /job:localhost/replica:0/task:0/device:GPU:0 with 3413 MB memory:  -> device: 0, name: NVIDIA GeForce RTX 3060 Laptop GPU, pci bus id: 0000:01:00.0, compute capability: 8.6\n",
      "2023-12-04 20:38:35.610169: I tensorflow/tsl/platform/default/subprocess.cc:304] Start cannot spawn child process: No such file or directory\n"
     ]
    },
    {
     "name": "stdout",
     "output_type": "stream",
     "text": [
      "Model: \"model\"\n",
      "__________________________________________________________________________________________________\n",
      " Layer (type)                Output Shape                 Param #   Connected to                  \n",
      "==================================================================================================\n",
      " input_1 (InputLayer)        [(None, 20)]                 0         []                            \n",
      "                                                                                                  \n",
      " input_2 (InputLayer)        [(None, 750)]                0         []                            \n",
      "                                                                                                  \n",
      " input_3 (InputLayer)        [(None, 750)]                0         []                            \n",
      "                                                                                                  \n",
      " dense (Dense)               (None, 32)                   672       ['input_1[0][0]']             \n",
      "                                                                                                  \n",
      " embedding (Embedding)       (None, 750, 50)              6097900   ['input_2[0][0]']             \n",
      "                                                                                                  \n",
      " embedding_1 (Embedding)     (None, 750, 7)               91        ['input_3[0][0]']             \n",
      "                                                                                                  \n",
      " dropout (Dropout)           (None, 32)                   0         ['dense[0][0]']               \n",
      "                                                                                                  \n",
      " bidirectional (Bidirection  (None, 750, 32)              8576      ['embedding[0][0]']           \n",
      " al)                                                                                              \n",
      "                                                                                                  \n",
      " bidirectional_1 (Bidirecti  (None, 750, 32)              3072      ['embedding_1[0][0]']         \n",
      " onal)                                                                                            \n",
      "                                                                                                  \n",
      " dense_1 (Dense)             (None, 16)                   528       ['dropout[0][0]']             \n",
      "                                                                                                  \n",
      " add (Add)                   (None, 750, 32)              0         ['bidirectional[0][0]',       \n",
      "                                                                     'bidirectional_1[0][0]']     \n",
      "                                                                                                  \n",
      " dropout_1 (Dropout)         (None, 16)                   0         ['dense_1[0][0]']             \n",
      "                                                                                                  \n",
      " bidirectional_2 (Bidirecti  (None, 750, 16)              2624      ['add[0][0]']                 \n",
      " onal)                                                                                            \n",
      "                                                                                                  \n",
      " reshape (Reshape)           (None, 1, 16)                0         ['dropout_1[0][0]']           \n",
      "                                                                                                  \n",
      " dropout_2 (Dropout)         (None, 750, 16)              0         ['bidirectional_2[0][0]']     \n",
      "                                                                                                  \n",
      " concatenate (Concatenate)   (None, 751, 16)              0         ['reshape[0][0]',             \n",
      "                                                                     'dropout_2[0][0]']           \n",
      "                                                                                                  \n",
      " dense_2 (Dense)             (None, 751, 8)               136       ['concatenate[0][0]']         \n",
      "                                                                                                  \n",
      " flatten (Flatten)           (None, 6008)                 0         ['dense_2[0][0]']             \n",
      "                                                                                                  \n",
      " dense_3 (Dense)             (None, 1)                    6009      ['flatten[0][0]']             \n",
      "                                                                                                  \n",
      "==================================================================================================\n",
      "Total params: 6119608 (23.34 MB)\n",
      "Trainable params: 6119608 (23.34 MB)\n",
      "Non-trainable params: 0 (0.00 Byte)\n",
      "__________________________________________________________________________________________________\n",
      "None\n"
     ]
    }
   ],
   "source": [
    "#visualise model\n",
    "model = earlyFussion()\n",
    "# model = earlyFussion()\n",
    "print(model.summary())\n",
    "\n"
   ]
  },
  {
   "cell_type": "code",
   "execution_count": 11,
   "id": "71dcd4e8-9bc0-479d-b5ac-ec2488e953ac",
   "metadata": {
    "scrolled": true,
    "tags": []
   },
   "outputs": [
    {
     "name": "stdout",
     "output_type": "stream",
     "text": [
      "Epoch 1/1000\n"
     ]
    },
    {
     "name": "stderr",
     "output_type": "stream",
     "text": [
      "2023-12-04 20:38:52.076229: I tensorflow/compiler/xla/stream_executor/cuda/cuda_dnn.cc:442] Loaded cuDNN version 8700\n",
      "2023-12-04 20:38:53.658876: I tensorflow/compiler/xla/service/service.cc:168] XLA service 0x7efcb90db7c0 initialized for platform CUDA (this does not guarantee that XLA will be used). Devices:\n",
      "2023-12-04 20:38:53.658937: I tensorflow/compiler/xla/service/service.cc:176]   StreamExecutor device (0): NVIDIA GeForce RTX 3060 Laptop GPU, Compute Capability 8.6\n",
      "2023-12-04 20:38:53.667935: I tensorflow/compiler/mlir/tensorflow/utils/dump_mlir_util.cc:269] disabling MLIR crash reproducer, set env var `MLIR_CRASH_REPRODUCER_DIRECTORY` to enable.\n",
      "2023-12-04 20:38:53.741280: I ./tensorflow/compiler/jit/device_compiler.h:186] Compiled cluster using XLA!  This line is logged at most once for the lifetime of the process.\n"
     ]
    },
    {
     "name": "stdout",
     "output_type": "stream",
     "text": [
      "51/51 [==============================] - 30s 343ms/step - loss: 25.1939 - auc: 0.5490 - auprc: 0.2561 - prec: 0.2889 - rec: 0.3255 - TN: 1956.0000 - TP: 234.0000 - precision_at_recall: 0.2553 - val_loss: 24.4249 - val_auc: 0.5755 - val_auprc: 0.2895 - val_prec: 0.3709 - val_rec: 0.2909 - val_TN: 1168.0000 - val_TP: 112.0000 - val_precision_at_recall: 0.2619\n",
      "Epoch 2/1000\n"
     ]
    },
    {
     "name": "stderr",
     "output_type": "stream",
     "text": [
      "/opt/conda/envs/rapids/lib/python3.10/site-packages/keras/src/engine/training.py:3079: UserWarning: You are saving your model as an HDF5 file via `model.save()`. This file format is considered legacy. We recommend using instead the native Keras format, e.g. `model.save('my_model.keras')`.\n",
      "  saving_api.save_model(\n"
     ]
    },
    {
     "name": "stdout",
     "output_type": "stream",
     "text": [
      "51/51 [==============================] - 15s 286ms/step - loss: 24.4904 - auc: 0.5497 - auprc: 0.2631 - prec: 0.3187 - rec: 0.2531 - TN: 2143.0000 - TP: 182.0000 - precision_at_recall: 0.2541 - val_loss: 23.7391 - val_auc: 0.5880 - val_auprc: 0.2847 - val_prec: 0.3286 - val_rec: 0.4182 - val_TN: 1029.0000 - val_TP: 161.0000 - val_precision_at_recall: 0.2640\n",
      "Epoch 3/1000\n",
      "51/51 [==============================] - 15s 294ms/step - loss: 23.8151 - auc: 0.5883 - auprc: 0.2837 - prec: 0.3243 - rec: 0.4325 - TN: 1884.0000 - TP: 311.0000 - precision_at_recall: 0.2591 - val_loss: 23.0688 - val_auc: 0.5980 - val_auprc: 0.2775 - val_prec: 0.2968 - val_rec: 0.5974 - val_TN: 813.0000 - val_TP: 230.0000 - val_precision_at_recall: 0.2626\n",
      "Epoch 4/1000\n",
      "51/51 [==============================] - 14s 280ms/step - loss: 23.1585 - auc: 0.5908 - auprc: 0.2745 - prec: 0.2951 - rec: 0.5647 - TN: 1562.0000 - TP: 406.0000 - precision_at_recall: 0.2550 - val_loss: 22.4247 - val_auc: 0.6035 - val_auprc: 0.2762 - val_prec: 0.2895 - val_rec: 0.6805 - val_TN: 715.0000 - val_TP: 262.0000 - val_precision_at_recall: 0.2707\n",
      "Epoch 5/1000\n",
      "51/51 [==============================] - 14s 282ms/step - loss: 22.5093 - auc: 0.5999 - auprc: 0.2738 - prec: 0.2861 - rec: 0.6857 - TN: 1302.0000 - TP: 493.0000 - precision_at_recall: 0.2601 - val_loss: 21.7905 - val_auc: 0.6032 - val_auprc: 0.2754 - val_prec: 0.2879 - val_rec: 0.6909 - val_TN: 700.0000 - val_TP: 266.0000 - val_precision_at_recall: 0.2695\n",
      "Epoch 6/1000\n",
      "51/51 [==============================] - 13s 261ms/step - loss: 21.8781 - auc: 0.6001 - auprc: 0.2732 - prec: 0.2847 - rec: 0.6982 - TN: 1271.0000 - TP: 502.0000 - precision_at_recall: 0.2627 - val_loss: 21.1718 - val_auc: 0.6041 - val_auprc: 0.2756 - val_prec: 0.2877 - val_rec: 0.6987 - val_TN: 692.0000 - val_TP: 269.0000 - val_precision_at_recall: 0.2686\n",
      "Epoch 7/1000\n",
      "51/51 [==============================] - 14s 268ms/step - loss: 21.2591 - auc: 0.6007 - auprc: 0.2732 - prec: 0.2843 - rec: 0.7065 - TN: 1253.0000 - TP: 508.0000 - precision_at_recall: 0.2595 - val_loss: 20.5606 - val_auc: 0.6045 - val_auprc: 0.2758 - val_prec: 0.2880 - val_rec: 0.6987 - val_TN: 693.0000 - val_TP: 269.0000 - val_precision_at_recall: 0.2698\n",
      "Epoch 8/1000\n",
      "51/51 [==============================] - 14s 266ms/step - loss: 20.6549 - auc: 0.5952 - auprc: 0.2699 - prec: 0.2805 - rec: 0.7010 - TN: 1239.0000 - TP: 504.0000 - precision_at_recall: 0.2598 - val_loss: 19.9602 - val_auc: 0.6063 - val_auprc: 0.2771 - val_prec: 0.2896 - val_rec: 0.6987 - val_TN: 698.0000 - val_TP: 269.0000 - val_precision_at_recall: 0.2709\n",
      "Epoch 9/1000\n",
      "51/51 [==============================] - 13s 262ms/step - loss: 20.0611 - auc: 0.5995 - auprc: 0.2728 - prec: 0.2843 - rec: 0.6982 - TN: 1268.0000 - TP: 502.0000 - precision_at_recall: 0.2602 - val_loss: 19.3862 - val_auc: 0.6045 - val_auprc: 0.2755 - val_prec: 0.2874 - val_rec: 0.7039 - val_TN: 686.0000 - val_TP: 271.0000 - val_precision_at_recall: 0.2695\n",
      "Epoch 10/1000\n",
      "51/51 [==============================] - 13s 252ms/step - loss: 19.4832 - auc: 0.6001 - auprc: 0.2729 - prec: 0.2841 - rec: 0.7038 - TN: 1257.0000 - TP: 506.0000 - precision_at_recall: 0.2582 - val_loss: 18.8154 - val_auc: 0.6071 - val_auprc: 0.2770 - val_prec: 0.2889 - val_rec: 0.7091 - val_TN: 686.0000 - val_TP: 273.0000 - val_precision_at_recall: 0.2705\n",
      "Epoch 11/1000\n",
      "51/51 [==============================] - 12s 244ms/step - loss: 18.9128 - auc: 0.6046 - auprc: 0.2764 - prec: 0.2889 - rec: 0.6954 - TN: 1301.0000 - TP: 500.0000 - precision_at_recall: 0.2621 - val_loss: 18.2567 - val_auc: 0.6064 - val_auprc: 0.2765 - val_prec: 0.2883 - val_rec: 0.7091 - val_TN: 684.0000 - val_TP: 273.0000 - val_precision_at_recall: 0.2715\n",
      "Epoch 12/1000\n",
      "51/51 [==============================] - 13s 256ms/step - loss: 18.3568 - auc: 0.6118 - auprc: 0.2811 - prec: 0.2945 - rec: 0.6996 - TN: 1327.0000 - TP: 503.0000 - precision_at_recall: 0.2678 - val_loss: 17.7178 - val_auc: 0.6131 - val_auprc: 0.2798 - val_prec: 0.2912 - val_rec: 0.7299 - val_TN: 674.0000 - val_TP: 281.0000 - val_precision_at_recall: 0.2712\n",
      "Epoch 13/1000\n",
      "51/51 [==============================] - 13s 254ms/step - loss: 17.8134 - auc: 0.6151 - auprc: 0.2834 - prec: 0.2972 - rec: 0.7010 - TN: 1340.0000 - TP: 504.0000 - precision_at_recall: 0.2685 - val_loss: 17.1948 - val_auc: 0.6120 - val_auprc: 0.2785 - val_prec: 0.2890 - val_rec: 0.7403 - val_TN: 657.0000 - val_TP: 285.0000 - val_precision_at_recall: 0.2728\n",
      "Epoch 14/1000\n",
      "51/51 [==============================] - 12s 245ms/step - loss: 17.2808 - auc: 0.6125 - auprc: 0.2811 - prec: 0.2939 - rec: 0.7079 - TN: 1309.0000 - TP: 509.0000 - precision_at_recall: 0.2716 - val_loss: 16.6465 - val_auc: 0.6085 - val_auprc: 0.2789 - val_prec: 0.2921 - val_rec: 0.6935 - val_TN: 711.0000 - val_TP: 267.0000 - val_precision_at_recall: 0.2780\n",
      "Epoch 15/1000\n",
      "51/51 [==============================] - 14s 275ms/step - loss: 16.7600 - auc: 0.6303 - auprc: 0.2957 - prec: 0.3133 - rec: 0.6898 - TN: 1445.0000 - TP: 496.0000 - precision_at_recall: 0.2678 - val_loss: 16.1624 - val_auc: 0.6151 - val_auprc: 0.2808 - val_prec: 0.2919 - val_rec: 0.7377 - val_TN: 669.0000 - val_TP: 284.0000 - val_precision_at_recall: 0.2797\n",
      "Epoch 16/1000\n",
      "51/51 [==============================] - 14s 280ms/step - loss: 16.2501 - auc: 0.6336 - auprc: 0.2974 - prec: 0.3148 - rec: 0.6996 - TN: 1437.0000 - TP: 503.0000 - precision_at_recall: 0.2738 - val_loss: 15.6445 - val_auc: 0.6244 - val_auprc: 0.2897 - val_prec: 0.3048 - val_rec: 0.7039 - val_TN: 740.0000 - val_TP: 271.0000 - val_precision_at_recall: 0.2809\n",
      "Epoch 17/1000\n",
      "51/51 [==============================] - 13s 248ms/step - loss: 15.7518 - auc: 0.6369 - auprc: 0.3012 - prec: 0.3204 - rec: 0.6885 - TN: 1482.0000 - TP: 495.0000 - precision_at_recall: 0.2771 - val_loss: 15.1499 - val_auc: 0.6319 - val_auprc: 0.2965 - val_prec: 0.3144 - val_rec: 0.6909 - val_TN: 778.0000 - val_TP: 266.0000 - val_precision_at_recall: 0.2861\n",
      "Epoch 18/1000\n",
      "51/51 [==============================] - 12s 238ms/step - loss: 15.2636 - auc: 0.6493 - auprc: 0.3129 - prec: 0.3361 - rec: 0.6801 - TN: 1566.0000 - TP: 489.0000 - precision_at_recall: 0.2843 - val_loss: 14.6799 - val_auc: 0.6377 - val_auprc: 0.3000 - val_prec: 0.3177 - val_rec: 0.7039 - val_TN: 776.0000 - val_TP: 271.0000 - val_precision_at_recall: 0.2841\n",
      "Epoch 19/1000\n",
      "51/51 [==============================] - 14s 271ms/step - loss: 14.7892 - auc: 0.6563 - auprc: 0.3189 - prec: 0.3433 - rec: 0.6843 - TN: 1591.0000 - TP: 492.0000 - precision_at_recall: 0.2874 - val_loss: 14.2145 - val_auc: 0.6402 - val_auprc: 0.3036 - val_prec: 0.3236 - val_rec: 0.6883 - val_TN: 804.0000 - val_TP: 265.0000 - val_precision_at_recall: 0.2927\n",
      "Epoch 20/1000\n",
      "51/51 [==============================] - 13s 252ms/step - loss: 14.3244 - auc: 0.6646 - auprc: 0.3270 - prec: 0.3537 - rec: 0.6843 - TN: 1633.0000 - TP: 492.0000 - precision_at_recall: 0.2953 - val_loss: 13.7538 - val_auc: 0.6419 - val_auprc: 0.3085 - val_prec: 0.3329 - val_rec: 0.6571 - val_TN: 851.0000 - val_TP: 253.0000 - val_precision_at_recall: 0.2904\n",
      "Epoch 21/1000\n",
      "51/51 [==============================] - 13s 265ms/step - loss: 13.8699 - auc: 0.6733 - auprc: 0.3379 - prec: 0.3692 - rec: 0.6732 - TN: 1705.0000 - TP: 484.0000 - precision_at_recall: 0.3019 - val_loss: 13.3410 - val_auc: 0.6452 - val_auprc: 0.3055 - val_prec: 0.3239 - val_rec: 0.7117 - val_TN: 786.0000 - val_TP: 274.0000 - val_precision_at_recall: 0.2920\n",
      "Epoch 22/1000\n",
      "51/51 [==============================] - 14s 279ms/step - loss: 13.4261 - auc: 0.6729 - auprc: 0.3379 - prec: 0.3696 - rec: 0.6704 - TN: 1710.0000 - TP: 482.0000 - precision_at_recall: 0.3098 - val_loss: 12.8931 - val_auc: 0.6519 - val_auprc: 0.3159 - val_prec: 0.3408 - val_rec: 0.6727 - val_TN: 857.0000 - val_TP: 259.0000 - val_precision_at_recall: 0.2959\n",
      "Epoch 23/1000\n",
      "51/51 [==============================] - 13s 266ms/step - loss: 12.9933 - auc: 0.6819 - auprc: 0.3505 - prec: 0.3879 - rec: 0.6592 - TN: 1784.0000 - TP: 474.0000 - precision_at_recall: 0.3276 - val_loss: 12.5005 - val_auc: 0.6513 - val_auprc: 0.3116 - val_prec: 0.3321 - val_rec: 0.7039 - val_TN: 813.0000 - val_TP: 271.0000 - val_precision_at_recall: 0.3009\n",
      "Epoch 24/1000\n",
      "51/51 [==============================] - 13s 260ms/step - loss: 12.5714 - auc: 0.6850 - auprc: 0.3499 - prec: 0.3838 - rec: 0.6801 - TN: 1747.0000 - TP: 489.0000 - precision_at_recall: 0.3339 - val_loss: 12.0847 - val_auc: 0.6623 - val_auprc: 0.3223 - val_prec: 0.3462 - val_rec: 0.6987 - val_TN: 850.0000 - val_TP: 269.0000 - val_precision_at_recall: 0.2985\n",
      "Epoch 25/1000\n",
      "51/51 [==============================] - 13s 259ms/step - loss: 12.1633 - auc: 0.6953 - auprc: 0.3651 - prec: 0.4056 - rec: 0.6690 - TN: 1827.0000 - TP: 481.0000 - precision_at_recall: 0.3430 - val_loss: 11.6940 - val_auc: 0.6655 - val_auprc: 0.3250 - val_prec: 0.3493 - val_rec: 0.7013 - val_TN: 855.0000 - val_TP: 270.0000 - val_precision_at_recall: 0.3013\n",
      "Epoch 26/1000\n",
      "51/51 [==============================] - 14s 271ms/step - loss: 11.7634 - auc: 0.7097 - auprc: 0.3761 - prec: 0.4141 - rec: 0.7010 - TN: 1819.0000 - TP: 504.0000 - precision_at_recall: 0.3467 - val_loss: 11.2660 - val_auc: 0.6590 - val_auprc: 0.3347 - val_prec: 0.3762 - val_rec: 0.6000 - val_TN: 975.0000 - val_TP: 231.0000 - val_precision_at_recall: 0.3050\n",
      "Epoch 27/1000\n",
      "51/51 [==============================] - 15s 284ms/step - loss: 11.3746 - auc: 0.7033 - auprc: 0.3771 - prec: 0.4223 - rec: 0.6648 - TN: 1878.0000 - TP: 478.0000 - precision_at_recall: 0.3564 - val_loss: 10.9231 - val_auc: 0.6647 - val_auprc: 0.3310 - val_prec: 0.3625 - val_rec: 0.6571 - val_TN: 913.0000 - val_TP: 253.0000 - val_precision_at_recall: 0.3095\n",
      "Epoch 28/1000\n",
      "51/51 [==============================] - 14s 280ms/step - loss: 10.9978 - auc: 0.7081 - auprc: 0.3805 - prec: 0.4242 - rec: 0.6773 - TN: 1871.0000 - TP: 487.0000 - precision_at_recall: 0.3606 - val_loss: 10.5623 - val_auc: 0.6714 - val_auprc: 0.3373 - val_prec: 0.3701 - val_rec: 0.6623 - val_TN: 924.0000 - val_TP: 255.0000 - val_precision_at_recall: 0.3136\n",
      "Epoch 29/1000\n",
      "51/51 [==============================] - 13s 259ms/step - loss: 10.6298 - auc: 0.7202 - auprc: 0.3914 - prec: 0.4340 - rec: 0.6996 - TN: 1876.0000 - TP: 503.0000 - precision_at_recall: 0.3634 - val_loss: 10.2282 - val_auc: 0.6724 - val_auprc: 0.3344 - val_prec: 0.3631 - val_rec: 0.6857 - val_TN: 895.0000 - val_TP: 264.0000 - val_precision_at_recall: 0.3097\n",
      "Epoch 30/1000\n",
      "51/51 [==============================] - 14s 267ms/step - loss: 10.2734 - auc: 0.7212 - auprc: 0.3920 - prec: 0.4342 - rec: 0.7024 - TN: 1874.0000 - TP: 505.0000 - precision_at_recall: 0.3782 - val_loss: 9.8902 - val_auc: 0.6737 - val_auprc: 0.3354 - val_prec: 0.3640 - val_rec: 0.6883 - val_TN: 895.0000 - val_TP: 265.0000 - val_precision_at_recall: 0.3197\n",
      "Epoch 31/1000\n",
      "51/51 [==============================] - 14s 267ms/step - loss: 9.9294 - auc: 0.7232 - auprc: 0.3950 - prec: 0.4380 - rec: 0.7024 - TN: 1884.0000 - TP: 505.0000 - precision_at_recall: 0.3897 - val_loss: 9.5396 - val_auc: 0.6706 - val_auprc: 0.3393 - val_prec: 0.3750 - val_rec: 0.6468 - val_TN: 943.0000 - val_TP: 249.0000 - val_precision_at_recall: 0.3122\n",
      "Epoch 32/1000\n",
      "51/51 [==============================] - 13s 253ms/step - loss: 9.5946 - auc: 0.7305 - auprc: 0.4063 - prec: 0.4525 - rec: 0.7024 - TN: 1921.0000 - TP: 505.0000 - precision_at_recall: 0.3931 - val_loss: 9.2112 - val_auc: 0.6729 - val_auprc: 0.3446 - val_prec: 0.3843 - val_rec: 0.6338 - val_TN: 967.0000 - val_TP: 244.0000 - val_precision_at_recall: 0.3128\n",
      "Epoch 33/1000\n",
      "51/51 [==============================] - 14s 275ms/step - loss: 9.2718 - auc: 0.7330 - auprc: 0.4107 - prec: 0.4586 - rec: 0.7010 - TN: 1937.0000 - TP: 504.0000 - precision_at_recall: 0.3868 - val_loss: 8.9083 - val_auc: 0.6727 - val_auprc: 0.3439 - val_prec: 0.3828 - val_rec: 0.6364 - val_TN: 963.0000 - val_TP: 245.0000 - val_precision_at_recall: 0.3125\n",
      "Epoch 34/1000\n",
      "51/51 [==============================] - 13s 259ms/step - loss: 8.9536 - auc: 0.7453 - auprc: 0.4239 - prec: 0.4709 - rec: 0.7204 - TN: 1950.0000 - TP: 518.0000 - precision_at_recall: 0.3997 - val_loss: 8.6352 - val_auc: 0.6688 - val_auprc: 0.3328 - val_prec: 0.3627 - val_rec: 0.6727 - val_TN: 903.0000 - val_TP: 259.0000 - val_precision_at_recall: 0.3119\n",
      "Epoch 35/1000\n",
      "51/51 [==============================] - 12s 246ms/step - loss: 8.6475 - auc: 0.7412 - auprc: 0.4176 - prec: 0.4633 - rec: 0.7191 - TN: 1933.0000 - TP: 517.0000 - precision_at_recall: 0.4162 - val_loss: 8.3213 - val_auc: 0.6694 - val_auprc: 0.3399 - val_prec: 0.3775 - val_rec: 0.6364 - val_TN: 954.0000 - val_TP: 245.0000 - val_precision_at_recall: 0.3111\n",
      "Epoch 36/1000\n",
      "51/51 [==============================] - 13s 257ms/step - loss: 8.3514 - auc: 0.7522 - auprc: 0.4349 - prec: 0.4842 - rec: 0.7232 - TN: 1978.0000 - TP: 520.0000 - precision_at_recall: 0.4193 - val_loss: 8.0198 - val_auc: 0.6658 - val_auprc: 0.3414 - val_prec: 0.3842 - val_rec: 0.6078 - val_TN: 983.0000 - val_TP: 234.0000 - val_precision_at_recall: 0.3112\n",
      "Epoch 37/1000\n",
      "51/51 [==============================] - 13s 263ms/step - loss: 8.0602 - auc: 0.7558 - auprc: 0.4401 - prec: 0.4901 - rec: 0.7260 - TN: 1989.0000 - TP: 522.0000 - precision_at_recall: 0.4324 - val_loss: 7.7996 - val_auc: 0.6604 - val_auprc: 0.3226 - val_prec: 0.3483 - val_rec: 0.6831 - val_TN: 866.0000 - val_TP: 263.0000 - val_precision_at_recall: 0.2971\n",
      "Epoch 38/1000\n",
      "51/51 [==============================] - 13s 262ms/step - loss: 7.7804 - auc: 0.7671 - auprc: 0.4536 - prec: 0.5028 - rec: 0.7427 - TN: 2004.0000 - TP: 534.0000 - precision_at_recall: 0.4360 - val_loss: 7.4938 - val_auc: 0.6683 - val_auprc: 0.3396 - val_prec: 0.3779 - val_rec: 0.6312 - val_TN: 958.0000 - val_TP: 243.0000 - val_precision_at_recall: 0.3169\n",
      "Epoch 39/1000\n",
      "51/51 [==============================] - 14s 282ms/step - loss: 7.5079 - auc: 0.7671 - auprc: 0.4523 - prec: 0.5005 - rec: 0.7455 - TN: 1997.0000 - TP: 536.0000 - precision_at_recall: 0.4484 - val_loss: 7.2383 - val_auc: 0.6661 - val_auprc: 0.3390 - val_prec: 0.3788 - val_rec: 0.6208 - val_TN: 966.0000 - val_TP: 239.0000 - val_precision_at_recall: 0.3133\n",
      "Epoch 40/1000\n",
      "51/51 [==============================] - 14s 277ms/step - loss: 7.2449 - auc: 0.7747 - auprc: 0.4666 - prec: 0.5178 - rec: 0.7469 - TN: 2032.0000 - TP: 537.0000 - precision_at_recall: 0.4515 - val_loss: 6.9942 - val_auc: 0.6655 - val_auprc: 0.3379 - val_prec: 0.3768 - val_rec: 0.6234 - val_TN: 961.0000 - val_TP: 240.0000 - val_precision_at_recall: 0.3050\n",
      "Epoch 41/1000\n",
      "51/51 [==============================] - 13s 253ms/step - loss: 6.9869 - auc: 0.7731 - auprc: 0.4648 - prec: 0.5164 - rec: 0.7441 - TN: 2031.0000 - TP: 535.0000 - precision_at_recall: 0.4586 - val_loss: 6.7489 - val_auc: 0.6649 - val_auprc: 0.3387 - val_prec: 0.3792 - val_rec: 0.6156 - val_TN: 970.0000 - val_TP: 237.0000 - val_precision_at_recall: 0.3068\n",
      "Epoch 42/1000\n",
      "51/51 [==============================] - 13s 254ms/step - loss: 6.7403 - auc: 0.7822 - auprc: 0.4736 - prec: 0.5224 - rec: 0.7622 - TN: 2031.0000 - TP: 548.0000 - precision_at_recall: 0.4695 - val_loss: 6.5607 - val_auc: 0.6678 - val_auprc: 0.3308 - val_prec: 0.3595 - val_rec: 0.6779 - val_TN: 893.0000 - val_TP: 261.0000 - val_precision_at_recall: 0.3099\n",
      "Epoch 43/1000\n",
      "51/51 [==============================] - 13s 250ms/step - loss: 6.4972 - auc: 0.7841 - auprc: 0.4777 - prec: 0.5274 - rec: 0.7622 - TN: 2041.0000 - TP: 548.0000 - precision_at_recall: 0.4820 - val_loss: 6.2386 - val_auc: 0.6686 - val_auprc: 0.3563 - val_prec: 0.4154 - val_rec: 0.5610 - val_TN: 1054.0000 - val_TP: 216.0000 - val_precision_at_recall: 0.3215\n",
      "Epoch 44/1000\n",
      "51/51 [==============================] - 13s 257ms/step - loss: 6.2666 - auc: 0.7890 - auprc: 0.4873 - prec: 0.5388 - rec: 0.7636 - TN: 2062.0000 - TP: 549.0000 - precision_at_recall: 0.5048 - val_loss: 6.0540 - val_auc: 0.6670 - val_auprc: 0.3469 - val_prec: 0.3955 - val_rec: 0.5896 - val_TN: 1011.0000 - val_TP: 227.0000 - val_precision_at_recall: 0.2984\n",
      "Epoch 45/1000\n",
      "51/51 [==============================] - 14s 276ms/step - loss: 6.0384 - auc: 0.7895 - auprc: 0.4972 - prec: 0.5551 - rec: 0.7497 - TN: 2100.0000 - TP: 539.0000 - precision_at_recall: 0.5133 - val_loss: 5.8530 - val_auc: 0.6708 - val_auprc: 0.3481 - val_prec: 0.3942 - val_rec: 0.6052 - val_TN: 1000.0000 - val_TP: 233.0000 - val_precision_at_recall: 0.2940\n",
      "Epoch 46/1000\n",
      "51/51 [==============================] - 13s 259ms/step - loss: 5.8193 - auc: 0.7947 - auprc: 0.4967 - prec: 0.5486 - rec: 0.7691 - TN: 2077.0000 - TP: 553.0000 - precision_at_recall: 0.5097 - val_loss: 5.6780 - val_auc: 0.6696 - val_auprc: 0.3397 - val_prec: 0.3767 - val_rec: 0.6390 - val_TN: 951.0000 - val_TP: 246.0000 - val_precision_at_recall: 0.2929\n",
      "Epoch 47/1000\n",
      "51/51 [==============================] - 14s 274ms/step - loss: 5.6059 - auc: 0.8044 - auprc: 0.5101 - prec: 0.5608 - rec: 0.7830 - TN: 2091.0000 - TP: 563.0000 - precision_at_recall: 0.5547 - val_loss: 5.4541 - val_auc: 0.6765 - val_auprc: 0.3526 - val_prec: 0.3980 - val_rec: 0.6182 - val_TN: 998.0000 - val_TP: 238.0000 - val_precision_at_recall: 0.3046\n",
      "Epoch 48/1000\n",
      "51/51 [==============================] - 13s 261ms/step - loss: 5.3985 - auc: 0.8108 - auprc: 0.5215 - prec: 0.5727 - rec: 0.7886 - TN: 2109.0000 - TP: 567.0000 - precision_at_recall: 0.5598 - val_loss: 5.2427 - val_auc: 0.6675 - val_auprc: 0.3547 - val_prec: 0.4130 - val_rec: 0.5610 - val_TN: 1051.0000 - val_TP: 216.0000 - val_precision_at_recall: 0.2936\n",
      "Epoch 49/1000\n",
      "51/51 [==============================] - 12s 244ms/step - loss: 5.2020 - auc: 0.8085 - auprc: 0.5151 - prec: 0.5646 - rec: 0.7900 - TN: 2094.0000 - TP: 568.0000 - precision_at_recall: 0.5495 - val_loss: 5.0961 - val_auc: 0.6688 - val_auprc: 0.3450 - val_prec: 0.3894 - val_rec: 0.6078 - val_TN: 991.0000 - val_TP: 234.0000 - val_precision_at_recall: 0.2955\n",
      "Epoch 50/1000\n",
      "51/51 [==============================] - 14s 270ms/step - loss: 5.0116 - auc: 0.8146 - auprc: 0.5281 - prec: 0.5793 - rec: 0.7928 - TN: 2118.0000 - TP: 570.0000 - precision_at_recall: 0.5642 - val_loss: 4.9138 - val_auc: 0.6578 - val_auprc: 0.3375 - val_prec: 0.3838 - val_rec: 0.5792 - val_TN: 1000.0000 - val_TP: 223.0000 - val_precision_at_recall: 0.2796\n",
      "Epoch 51/1000\n",
      "51/51 [==============================] - 13s 255ms/step - loss: 4.8231 - auc: 0.8174 - auprc: 0.5269 - prec: 0.5746 - rec: 0.8039 - TN: 2104.0000 - TP: 578.0000 - precision_at_recall: 0.5854 - val_loss: 4.7272 - val_auc: 0.6708 - val_auprc: 0.3581 - val_prec: 0.4168 - val_rec: 0.5662 - val_TN: 1053.0000 - val_TP: 218.0000 - val_precision_at_recall: 0.2800\n",
      "Epoch 52/1000\n",
      "51/51 [==============================] - 14s 284ms/step - loss: 4.6446 - auc: 0.8229 - auprc: 0.5375 - prec: 0.5857 - rec: 0.8081 - TN: 2121.0000 - TP: 581.0000 - precision_at_recall: 0.5924 - val_loss: 4.5216 - val_auc: 0.6552 - val_auprc: 0.3606 - val_prec: 0.4447 - val_rec: 0.4805 - val_TN: 1127.0000 - val_TP: 185.0000 - val_precision_at_recall: 0.2800\n",
      "Epoch 53/1000\n",
      "51/51 [==============================] - 13s 251ms/step - loss: 4.4673 - auc: 0.8288 - auprc: 0.5486 - prec: 0.5969 - rec: 0.8136 - TN: 2137.0000 - TP: 585.0000 - precision_at_recall: 0.6088 - val_loss: 4.4102 - val_auc: 0.6684 - val_auprc: 0.3582 - val_prec: 0.4201 - val_rec: 0.5532 - val_TN: 1064.0000 - val_TP: 213.0000 - val_precision_at_recall: 0.2761\n",
      "Epoch 54/1000\n",
      "51/51 [==============================] - 13s 250ms/step - loss: 4.3000 - auc: 0.8295 - auprc: 0.5493 - prec: 0.5973 - rec: 0.8150 - TN: 2137.0000 - TP: 586.0000 - precision_at_recall: 0.6074 - val_loss: 4.2687 - val_auc: 0.6651 - val_auprc: 0.3533 - val_prec: 0.4128 - val_rec: 0.5532 - val_TN: 1055.0000 - val_TP: 213.0000 - val_precision_at_recall: 0.2748\n",
      "Epoch 55/1000\n",
      "51/51 [==============================] - 13s 248ms/step - loss: 4.1378 - auc: 0.8331 - auprc: 0.5499 - prec: 0.5946 - rec: 0.8261 - TN: 2127.0000 - TP: 594.0000 - precision_at_recall: 0.6314 - val_loss: 4.0970 - val_auc: 0.6640 - val_auprc: 0.3653 - val_prec: 0.4434 - val_rec: 0.5091 - val_TN: 1112.0000 - val_TP: 196.0000 - val_precision_at_recall: 0.2780\n",
      "Epoch 56/1000\n",
      "51/51 [==============================] - 12s 237ms/step - loss: 3.9880 - auc: 0.8351 - auprc: 0.5596 - prec: 0.6076 - rec: 0.8206 - TN: 2151.0000 - TP: 590.0000 - precision_at_recall: 0.6167 - val_loss: 3.9926 - val_auc: 0.6678 - val_auprc: 0.3566 - val_prec: 0.4172 - val_rec: 0.5558 - val_TN: 1059.0000 - val_TP: 214.0000 - val_precision_at_recall: 0.2744\n",
      "Epoch 57/1000\n",
      "51/51 [==============================] - 13s 248ms/step - loss: 3.8314 - auc: 0.8380 - auprc: 0.5608 - prec: 0.6063 - rec: 0.8289 - TN: 2145.0000 - TP: 596.0000 - precision_at_recall: 0.6498 - val_loss: 3.8382 - val_auc: 0.6670 - val_auprc: 0.3667 - val_prec: 0.4425 - val_rec: 0.5195 - val_TN: 1106.0000 - val_TP: 200.0000 - val_precision_at_recall: 0.2873\n",
      "Epoch 58/1000\n",
      "51/51 [==============================] - 13s 254ms/step - loss: 3.6902 - auc: 0.8450 - auprc: 0.5777 - prec: 0.6249 - rec: 0.8317 - TN: 2173.0000 - TP: 598.0000 - precision_at_recall: 0.6671 - val_loss: 3.7840 - val_auc: 0.6595 - val_auprc: 0.3390 - val_prec: 0.3855 - val_rec: 0.5818 - val_TN: 1001.0000 - val_TP: 224.0000 - val_precision_at_recall: 0.2667\n",
      "Epoch 59/1000\n",
      "51/51 [==============================] - 13s 259ms/step - loss: 3.5533 - auc: 0.8485 - auprc: 0.5805 - prec: 0.6253 - rec: 0.8401 - TN: 2170.0000 - TP: 604.0000 - precision_at_recall: 0.6640 - val_loss: 3.6236 - val_auc: 0.6663 - val_auprc: 0.3574 - val_prec: 0.4208 - val_rec: 0.5455 - val_TN: 1069.0000 - val_TP: 210.0000 - val_precision_at_recall: 0.2689\n",
      "Epoch 60/1000\n",
      "51/51 [==============================] - 13s 255ms/step - loss: 3.4158 - auc: 0.8609 - auprc: 0.5958 - prec: 0.6352 - rec: 0.8623 - TN: 2176.0000 - TP: 620.0000 - precision_at_recall: 0.7071 - val_loss: 3.4827 - val_auc: 0.6563 - val_auprc: 0.3663 - val_prec: 0.4582 - val_rec: 0.4701 - val_TN: 1144.0000 - val_TP: 181.0000 - val_precision_at_recall: 0.2639\n",
      "Epoch 61/1000\n",
      "51/51 [==============================] - 13s 264ms/step - loss: 3.2899 - auc: 0.8597 - auprc: 0.6018 - prec: 0.6453 - rec: 0.8526 - TN: 2195.0000 - TP: 613.0000 - precision_at_recall: 0.6989 - val_loss: 3.5267 - val_auc: 0.6364 - val_auprc: 0.3036 - val_prec: 0.3265 - val_rec: 0.6571 - val_TN: 836.0000 - val_TP: 253.0000 - val_precision_at_recall: 0.2577\n",
      "Epoch 62/1000\n",
      "51/51 [==============================] - 13s 254ms/step - loss: 3.1670 - auc: 0.8707 - auprc: 0.6160 - prec: 0.6545 - rec: 0.8720 - TN: 2201.0000 - TP: 627.0000 - precision_at_recall: 0.7042 - val_loss: 3.3123 - val_auc: 0.6613 - val_auprc: 0.3552 - val_prec: 0.4220 - val_rec: 0.5273 - val_TN: 1080.0000 - val_TP: 203.0000 - val_precision_at_recall: 0.2610\n",
      "Epoch 63/1000\n",
      "51/51 [==============================] - 13s 253ms/step - loss: 3.0462 - auc: 0.8728 - auprc: 0.6200 - prec: 0.6579 - rec: 0.8748 - TN: 2205.0000 - TP: 629.0000 - precision_at_recall: 0.7379 - val_loss: 3.2531 - val_auc: 0.6592 - val_auprc: 0.3439 - val_prec: 0.3974 - val_rec: 0.5584 - val_TN: 1032.0000 - val_TP: 215.0000 - val_precision_at_recall: 0.2561\n",
      "Epoch 64/1000\n",
      "51/51 [==============================] - 13s 259ms/step - loss: 2.9343 - auc: 0.8762 - auprc: 0.6307 - prec: 0.6699 - rec: 0.8748 - TN: 2222.0000 - TP: 629.0000 - precision_at_recall: 0.7235 - val_loss: 3.1798 - val_auc: 0.6628 - val_auprc: 0.3432 - val_prec: 0.3916 - val_rec: 0.5818 - val_TN: 1010.0000 - val_TP: 224.0000 - val_precision_at_recall: 0.2548\n",
      "Epoch 65/1000\n",
      "51/51 [==============================] - 13s 256ms/step - loss: 2.8199 - auc: 0.8772 - auprc: 0.6251 - prec: 0.6608 - rec: 0.8832 - TN: 2206.0000 - TP: 635.0000 - precision_at_recall: 0.7458 - val_loss: 3.0594 - val_auc: 0.6502 - val_auprc: 0.3432 - val_prec: 0.4070 - val_rec: 0.5117 - val_TN: 1071.0000 - val_TP: 197.0000 - val_precision_at_recall: 0.2556\n",
      "Epoch 66/1000\n",
      "51/51 [==============================] - 13s 252ms/step - loss: 2.7193 - auc: 0.8750 - auprc: 0.6359 - prec: 0.6786 - rec: 0.8665 - TN: 2237.0000 - TP: 623.0000 - precision_at_recall: 0.7569 - val_loss: 3.0117 - val_auc: 0.6498 - val_auprc: 0.3346 - val_prec: 0.3860 - val_rec: 0.5455 - val_TN: 1024.0000 - val_TP: 210.0000 - val_precision_at_recall: 0.2529\n",
      "Epoch 67/1000\n",
      "51/51 [==============================] - 13s 251ms/step - loss: 2.6108 - auc: 0.8819 - auprc: 0.6357 - prec: 0.6709 - rec: 0.8873 - TN: 2219.0000 - TP: 638.0000 - precision_at_recall: 0.7569 - val_loss: 2.9196 - val_auc: 0.6398 - val_auprc: 0.3314 - val_prec: 0.3907 - val_rec: 0.5013 - val_TN: 1057.0000 - val_TP: 193.0000 - val_precision_at_recall: 0.2533\n",
      "Epoch 68/1000\n",
      "51/51 [==============================] - 13s 250ms/step - loss: 2.5215 - auc: 0.8822 - auprc: 0.6462 - prec: 0.6855 - rec: 0.8790 - TN: 2242.0000 - TP: 632.0000 - precision_at_recall: 0.7559 - val_loss: 2.8897 - val_auc: 0.6621 - val_auprc: 0.3400 - val_prec: 0.3851 - val_rec: 0.5922 - val_TN: 994.0000 - val_TP: 228.0000 - val_precision_at_recall: 0.2514\n",
      "Epoch 69/1000\n",
      "51/51 [==============================] - 12s 243ms/step - loss: 2.4224 - auc: 0.8959 - auprc: 0.6641 - prec: 0.6959 - rec: 0.9040 - TN: 2248.0000 - TP: 650.0000 - precision_at_recall: 0.7794 - val_loss: 2.7649 - val_auc: 0.6514 - val_auprc: 0.3486 - val_prec: 0.4192 - val_rec: 0.4987 - val_TN: 1092.0000 - val_TP: 192.0000 - val_precision_at_recall: 0.2518\n",
      "Epoch 70/1000\n",
      "51/51 [==============================] - 12s 246ms/step - loss: 2.3347 - auc: 0.8961 - auprc: 0.6750 - prec: 0.7108 - rec: 0.8957 - TN: 2270.0000 - TP: 644.0000 - precision_at_recall: 0.7830 - val_loss: 2.7572 - val_auc: 0.6609 - val_auprc: 0.3408 - val_prec: 0.3882 - val_rec: 0.5818 - val_TN: 1005.0000 - val_TP: 224.0000 - val_precision_at_recall: 0.2498\n",
      "Epoch 71/1000\n",
      "51/51 [==============================] - 13s 249ms/step - loss: 2.2470 - auc: 0.8995 - auprc: 0.6768 - prec: 0.7096 - rec: 0.9040 - TN: 2266.0000 - TP: 650.0000 - precision_at_recall: 0.7907 - val_loss: 2.6398 - val_auc: 0.6289 - val_auprc: 0.3477 - val_prec: 0.4559 - val_rec: 0.3896 - val_TN: 1179.0000 - val_TP: 150.0000 - val_precision_at_recall: 0.2458\n",
      "Epoch 72/1000\n",
      "51/51 [==============================] - 13s 247ms/step - loss: 2.1705 - auc: 0.8943 - auprc: 0.6652 - prec: 0.6991 - rec: 0.8985 - TN: 2254.0000 - TP: 646.0000 - precision_at_recall: 0.8083 - val_loss: 2.6127 - val_auc: 0.6457 - val_auprc: 0.3395 - val_prec: 0.4038 - val_rec: 0.5013 - val_TN: 1073.0000 - val_TP: 193.0000 - val_precision_at_recall: 0.2460\n",
      "Epoch 73/1000\n",
      "51/51 [==============================] - 13s 252ms/step - loss: 2.0878 - auc: 0.9014 - auprc: 0.6854 - prec: 0.7195 - rec: 0.9026 - TN: 2279.0000 - TP: 649.0000 - precision_at_recall: 0.8138 - val_loss: 2.6045 - val_auc: 0.6474 - val_auprc: 0.3290 - val_prec: 0.3752 - val_rec: 0.5584 - val_TN: 1000.0000 - val_TP: 215.0000 - val_precision_at_recall: 0.2453\n",
      "Epoch 74/1000\n",
      "51/51 [==============================] - 13s 255ms/step - loss: 2.0125 - auc: 0.9035 - auprc: 0.6773 - prec: 0.7060 - rec: 0.9152 - TN: 2258.0000 - TP: 658.0000 - precision_at_recall: 0.8290 - val_loss: 2.5285 - val_auc: 0.6543 - val_auprc: 0.3449 - val_prec: 0.4060 - val_rec: 0.5273 - val_TN: 1061.0000 - val_TP: 203.0000 - val_precision_at_recall: 0.2466\n",
      "Epoch 75/1000\n",
      "51/51 [==============================] - 13s 255ms/step - loss: 1.9444 - auc: 0.9063 - auprc: 0.6968 - prec: 0.7296 - rec: 0.9082 - TN: 2290.0000 - TP: 653.0000 - precision_at_recall: 0.8364 - val_loss: 2.4614 - val_auc: 0.6495 - val_auprc: 0.3536 - val_prec: 0.4354 - val_rec: 0.4727 - val_TN: 1122.0000 - val_TP: 182.0000 - val_precision_at_recall: 0.2449\n",
      "Epoch 76/1000\n",
      "51/51 [==============================] - 12s 242ms/step - loss: 1.8778 - auc: 0.9086 - auprc: 0.6999 - prec: 0.7313 - rec: 0.9124 - TN: 2291.0000 - TP: 656.0000 - precision_at_recall: 0.8446 - val_loss: 2.4464 - val_auc: 0.6528 - val_auprc: 0.3416 - val_prec: 0.3996 - val_rec: 0.5325 - val_TN: 1050.0000 - val_TP: 205.0000 - val_precision_at_recall: 0.2417\n",
      "Epoch 77/1000\n",
      "51/51 [==============================] - 13s 247ms/step - loss: 1.8111 - auc: 0.9152 - auprc: 0.7162 - prec: 0.7460 - rec: 0.9193 - TN: 2307.0000 - TP: 661.0000 - precision_at_recall: 0.8485 - val_loss: 2.4723 - val_auc: 0.6279 - val_auprc: 0.3089 - val_prec: 0.3470 - val_rec: 0.5481 - val_TN: 961.0000 - val_TP: 211.0000 - val_precision_at_recall: 0.2423\n",
      "Epoch 78/1000\n",
      "51/51 [==============================] - 13s 253ms/step - loss: 1.7420 - auc: 0.9169 - auprc: 0.7291 - prec: 0.7616 - rec: 0.9152 - TN: 2326.0000 - TP: 658.0000 - precision_at_recall: 0.8703 - val_loss: 2.4650 - val_auc: 0.6233 - val_auprc: 0.3032 - val_prec: 0.3375 - val_rec: 0.5558 - val_TN: 938.0000 - val_TP: 214.0000 - val_precision_at_recall: 0.2375\n",
      "Epoch 79/1000\n",
      "51/51 [==============================] - 13s 250ms/step - loss: 1.6816 - auc: 0.9170 - auprc: 0.7194 - prec: 0.7483 - rec: 0.9221 - TN: 2309.0000 - TP: 663.0000 - precision_at_recall: 0.8649 - val_loss: 2.4050 - val_auc: 0.6231 - val_auprc: 0.3088 - val_prec: 0.3523 - val_rec: 0.5143 - val_TN: 994.0000 - val_TP: 198.0000 - val_precision_at_recall: 0.2343\n",
      "Epoch 80/1000\n",
      "51/51 [==============================] - 13s 251ms/step - loss: 1.6307 - auc: 0.9217 - auprc: 0.7322 - prec: 0.7603 - rec: 0.9263 - TN: 2322.0000 - TP: 666.0000 - precision_at_recall: 0.8670 - val_loss: 2.3469 - val_auc: 0.6305 - val_auprc: 0.3410 - val_prec: 0.4324 - val_rec: 0.4156 - val_TN: 1148.0000 - val_TP: 160.0000 - val_precision_at_recall: 0.2209\n",
      "Epoch 81/1000\n",
      "51/51 [==============================] - 13s 255ms/step - loss: 1.5733 - auc: 0.9223 - auprc: 0.7305 - prec: 0.7574 - rec: 0.9291 - TN: 2318.0000 - TP: 668.0000 - precision_at_recall: 0.8920 - val_loss: 2.3082 - val_auc: 0.6425 - val_auprc: 0.3518 - val_prec: 0.4419 - val_rec: 0.4442 - val_TN: 1142.0000 - val_TP: 171.0000 - val_precision_at_recall: 0.2209\n",
      "Epoch 82/1000\n",
      "51/51 [==============================] - 13s 254ms/step - loss: 1.5229 - auc: 0.9261 - auprc: 0.7445 - prec: 0.7716 - rec: 0.9305 - TN: 2334.0000 - TP: 669.0000 - precision_at_recall: 0.8989 - val_loss: 2.3718 - val_auc: 0.6345 - val_auprc: 0.3152 - val_prec: 0.3556 - val_rec: 0.5532 - val_TN: 972.0000 - val_TP: 213.0000 - val_precision_at_recall: 0.2381\n",
      "Epoch 83/1000\n",
      "51/51 [==============================] - 13s 258ms/step - loss: 1.4682 - auc: 0.9271 - auprc: 0.7444 - prec: 0.7704 - rec: 0.9332 - TN: 2332.0000 - TP: 671.0000 - precision_at_recall: 0.8969 - val_loss: 2.3079 - val_auc: 0.6276 - val_auprc: 0.3463 - val_prec: 0.4543 - val_rec: 0.3870 - val_TN: 1179.0000 - val_TP: 149.0000 - val_precision_at_recall: 0.2209\n",
      "Epoch 84/1000\n",
      "51/51 [==============================] - 13s 259ms/step - loss: 1.4271 - auc: 0.9288 - auprc: 0.7628 - prec: 0.7929 - rec: 0.9263 - TN: 2358.0000 - TP: 666.0000 - precision_at_recall: 0.9028 - val_loss: 2.4077 - val_auc: 0.6272 - val_auprc: 0.3007 - val_prec: 0.3277 - val_rec: 0.6078 - val_TN: 878.0000 - val_TP: 234.0000 - val_precision_at_recall: 0.2352\n",
      "Epoch 85/1000\n",
      "51/51 [==============================] - 13s 255ms/step - loss: 1.3849 - auc: 0.9303 - auprc: 0.7493 - prec: 0.7732 - rec: 0.9388 - TN: 2334.0000 - TP: 675.0000 - precision_at_recall: 0.9003 - val_loss: 2.2811 - val_auc: 0.6535 - val_auprc: 0.3480 - val_prec: 0.4147 - val_rec: 0.5117 - val_TN: 1080.0000 - val_TP: 197.0000 - val_precision_at_recall: 0.2209\n",
      "Epoch 86/1000\n",
      "51/51 [==============================] - 13s 251ms/step - loss: 1.3382 - auc: 0.9341 - auprc: 0.7684 - prec: 0.7939 - rec: 0.9374 - TN: 2357.0000 - TP: 674.0000 - precision_at_recall: 0.9216 - val_loss: 2.2640 - val_auc: 0.6450 - val_auprc: 0.3481 - val_prec: 0.4276 - val_rec: 0.4675 - val_TN: 1117.0000 - val_TP: 180.0000 - val_precision_at_recall: 0.2209\n",
      "Epoch 87/1000\n",
      "51/51 [==============================] - 13s 257ms/step - loss: 1.2966 - auc: 0.9350 - auprc: 0.7747 - prec: 0.8012 - rec: 0.9360 - TN: 2365.0000 - TP: 673.0000 - precision_at_recall: 0.9308 - val_loss: 2.2963 - val_auc: 0.6241 - val_auprc: 0.3408 - val_prec: 0.4444 - val_rec: 0.3844 - val_TN: 1173.0000 - val_TP: 148.0000 - val_precision_at_recall: 0.2209\n",
      "Epoch 88/1000\n",
      "51/51 [==============================] - 13s 257ms/step - loss: 1.2552 - auc: 0.9373 - auprc: 0.7781 - prec: 0.8029 - rec: 0.9402 - TN: 2366.0000 - TP: 676.0000 - precision_at_recall: 0.9231 - val_loss: 2.3094 - val_auc: 0.6325 - val_auprc: 0.3200 - val_prec: 0.3703 - val_rec: 0.5117 - val_TN: 1023.0000 - val_TP: 197.0000 - val_precision_at_recall: 0.2209\n",
      "Epoch 89/1000\n",
      "51/51 [==============================] - 13s 255ms/step - loss: 1.2221 - auc: 0.9400 - auprc: 0.7881 - prec: 0.8127 - rec: 0.9416 - TN: 2376.0000 - TP: 677.0000 - precision_at_recall: 0.9305 - val_loss: 2.2447 - val_auc: 0.6390 - val_auprc: 0.3467 - val_prec: 0.4337 - val_rec: 0.4416 - val_TN: 1136.0000 - val_TP: 170.0000 - val_precision_at_recall: 0.2209\n",
      "Epoch 90/1000\n",
      "51/51 [==============================] - 13s 252ms/step - loss: 1.1820 - auc: 0.9475 - auprc: 0.8091 - prec: 0.8309 - rec: 0.9499 - TN: 2393.0000 - TP: 683.0000 - precision_at_recall: 0.9398 - val_loss: 2.2940 - val_auc: 0.6331 - val_auprc: 0.3272 - val_prec: 0.3887 - val_rec: 0.4805 - val_TN: 1067.0000 - val_TP: 185.0000 - val_precision_at_recall: 0.2209\n",
      "Epoch 91/1000\n",
      "51/51 [==============================] - 14s 271ms/step - loss: 1.1491 - auc: 0.9524 - auprc: 0.8147 - prec: 0.8323 - rec: 0.9597 - TN: 2393.0000 - TP: 690.0000 - precision_at_recall: 0.9490 - val_loss: 2.3658 - val_auc: 0.6143 - val_auprc: 0.3409 - val_prec: 0.4676 - val_rec: 0.3377 - val_TN: 1210.0000 - val_TP: 130.0000 - val_precision_at_recall: 0.2209\n",
      "Epoch 92/1000\n",
      "51/51 [==============================] - 13s 257ms/step - loss: 1.1123 - auc: 0.9452 - auprc: 0.8006 - prec: 0.8227 - rec: 0.9485 - TN: 2385.0000 - TP: 682.0000 - precision_at_recall: 0.9511 - val_loss: 2.3452 - val_auc: 0.6371 - val_auprc: 0.3284 - val_prec: 0.3863 - val_rec: 0.4987 - val_TN: 1053.0000 - val_TP: 192.0000 - val_precision_at_recall: 0.2209\n",
      "Epoch 93/1000\n",
      "51/51 [==============================] - 13s 251ms/step - loss: 1.0810 - auc: 0.9472 - auprc: 0.8102 - prec: 0.8327 - rec: 0.9485 - TN: 2395.0000 - TP: 682.0000 - precision_at_recall: 0.9538 - val_loss: 2.3826 - val_auc: 0.6152 - val_auprc: 0.3195 - val_prec: 0.3945 - val_rec: 0.4078 - val_TN: 1117.0000 - val_TP: 157.0000 - val_precision_at_recall: 0.2209\n",
      "Epoch 94/1000\n",
      "51/51 [==============================] - 13s 257ms/step - loss: 1.0747 - auc: 0.9479 - auprc: 0.8327 - prec: 0.8610 - rec: 0.9388 - TN: 2423.0000 - TP: 675.0000 - precision_at_recall: 0.9522 - val_loss: 2.4927 - val_auc: 0.6203 - val_auprc: 0.2954 - val_prec: 0.3213 - val_rec: 0.6000 - val_TN: 870.0000 - val_TP: 231.0000 - val_precision_at_recall: 0.2209\n",
      "Epoch 95/1000\n",
      "51/51 [==============================] - 13s 255ms/step - loss: 1.0333 - auc: 0.9516 - auprc: 0.8213 - prec: 0.8417 - rec: 0.9541 - TN: 2403.0000 - TP: 686.0000 - precision_at_recall: 0.9542 - val_loss: 2.5358 - val_auc: 0.6204 - val_auprc: 0.2939 - val_prec: 0.3177 - val_rec: 0.6156 - val_TN: 849.0000 - val_TP: 237.0000 - val_precision_at_recall: 0.2209\n",
      "Epoch 96/1000\n",
      "51/51 [==============================] - 13s 255ms/step - loss: 0.9996 - auc: 0.9564 - auprc: 0.8379 - prec: 0.8570 - rec: 0.9583 - TN: 2417.0000 - TP: 689.0000 - precision_at_recall: 0.9664 - val_loss: 2.4178 - val_auc: 0.6196 - val_auprc: 0.3425 - val_prec: 0.4600 - val_rec: 0.3584 - val_TN: 1196.0000 - val_TP: 138.0000 - val_precision_at_recall: 0.2209\n",
      "Epoch 97/1000\n",
      "51/51 [==============================] - 13s 263ms/step - loss: 0.9824 - auc: 0.9558 - auprc: 0.8404 - prec: 0.8609 - rec: 0.9555 - TN: 2421.0000 - TP: 687.0000 - precision_at_recall: 0.9649 - val_loss: 2.5179 - val_auc: 0.6166 - val_auprc: 0.2932 - val_prec: 0.3193 - val_rec: 0.5896 - val_TN: 874.0000 - val_TP: 227.0000 - val_precision_at_recall: 0.2209\n",
      "CPU times: user 12min 52s, sys: 6min 49s, total: 19min 41s\n",
      "Wall time: 21min 34s\n"
     ]
    }
   ],
   "source": [
    "%%time\n",
    "# TF_GPU_ALLOCATOR=cuda_malloc_async\n",
    "#training\n",
    "with tf.device('/GPU:0'):\n",
    "    earlyStopping = EarlyStopping(monitor='val_auc', patience=50, verbose=0, mode='max', restore_best_weights=True)\n",
    "    mcp_save = ModelCheckpoint('../SeqModel/seqModel_therapy_tabSeq.mdl_wts.hdf5', save_best_only=True, monitor='val_auc', mode='min')\n",
    "    history = model.fit([Xt_train, Xs_train[:,:max_codes], Xm_train[:,:max_codes]], y_train, validation_data=([Xt_val, Xs_val[:,:max_codes], Xm_val[:,:max_codes]], y_val), \n",
    "                            epochs=epoch, batch_size=64, \n",
    "                        class_weight = class_weight, \n",
    "                        callbacks = [earlyStopping, mcp_save])"
   ]
  },
  {
   "cell_type": "code",
   "execution_count": null,
   "id": "afeed10f-72a8-457d-bfcb-f2662e74bfc6",
   "metadata": {
    "scrolled": true,
    "tags": []
   },
   "outputs": [],
   "source": [
    "# %%time\n",
    "\n",
    "# # create the model\n",
    "# embedding_vector_length = 50\n",
    "# earlyStopping = EarlyStopping(monitor='val_auc', patience=10, verbose=0, mode='max', restore_best_weights=True)\n",
    "# mcp_save = ModelCheckpoint('../SeqModel/seqModel_therapy.mdl_wts.hdf5', save_best_only=True, monitor='val_auc', mode='min')\n",
    "\n",
    "# with tf.device('/GPU:0'):\n",
    "#     model = Sequential()\n",
    "#     model.add(Embedding(vocab_size, embedding_vector_length, input_length=max_codes))\n",
    "#     model.add(LSTM(128, return_sequences=True, kernel_regularizer=L1L2(l1=0.02, l2=0.03)))\n",
    "#     model.add(Dropout(0.5))\n",
    "#     model.add(LSTM(64,  kernel_regularizer=L1L2(l1=0.02, l2=0.03)))\n",
    "#     model.add(Dropout(0.5))\n",
    "#     model.add(Dense(32, activation=LeakyReLU(alpha=.3), kernel_regularizer=L1L2(l1=0.02, l2=0.03)))\n",
    "#     model.add(Dense(1, activation='sigmoid'))\n",
    "#     opt = Adadelta(learning_rate=5e-3, clipvalue=0.3)\n",
    "#     metrics = [\n",
    "#         AUC(num_thresholds=3, name='auc'),\n",
    "#     ]\n",
    "#     model.compile(loss='binary_crossentropy', optimizer=opt, metrics=metrics, )\n",
    "#     print(model.summary())\n",
    "#     history = model.fit(Xs_train, y_train, validation_data=(Xs_val, y_val), epochs=30, batch_size=128, class_weight = class_weight, callbacks = [earlyStopping, mcp_save])"
   ]
  },
  {
   "cell_type": "code",
   "execution_count": 12,
   "id": "fdbddf77-c941-48d2-9bbd-b80b77d85e5b",
   "metadata": {
    "tags": []
   },
   "outputs": [
    {
     "name": "stdout",
     "output_type": "stream",
     "text": [
      "dict_keys(['loss', 'auc', 'auprc', 'prec', 'rec', 'TN', 'TP', 'precision_at_recall', 'val_loss', 'val_auc', 'val_auprc', 'val_prec', 'val_rec', 'val_TN', 'val_TP', 'val_precision_at_recall'])\n"
     ]
    },
    {
     "data": {
      "image/png": "[encoded data removed]",
      "text/plain": [
       "<Figure size 640x480 with 1 Axes>"
      ]
     },
     "metadata": {},
     "output_type": "display_data"
    },
    {
     "data": {
      "image/png": "[encoded data removed]",
      "text/plain": [
       "<Figure size 640x480 with 1 Axes>"
      ]
     },
     "metadata": {},
     "output_type": "display_data"
    },
    {
     "data": {
      "image/png": "[encoded data removed]",
      "text/plain": [
       "<Figure size 640x480 with 1 Axes>"
      ]
     },
     "metadata": {},
     "output_type": "display_data"
    }
   ],
   "source": [
    "# list all data in history\n",
    "print(history.history.keys())\n",
    "# summarize history for accuracy\n",
    "plt.plot(history.history['auc'])\n",
    "plt.plot(history.history['val_auc'])\n",
    "plt.title('model AUC')\n",
    "plt.ylabel('AUC')\n",
    "plt.xlabel('epoch')\n",
    "plt.legend(['train', 'test'], loc='upper left')\n",
    "plt.show()\n",
    "# summarize history for loss\n",
    "plt.plot(history.history['loss'])\n",
    "plt.plot(history.history['val_loss'])\n",
    "plt.title('model loss')\n",
    "# plt.ylim(0.3, 1)\n",
    "plt.ylabel('loss')\n",
    "plt.xlabel('epoch')\n",
    "plt.legend(['train', 'val'], loc='upper left')\n",
    "plt.show()\n",
    "\n",
    "plt.plot(history.history['auprc'])\n",
    "plt.plot(history.history['val_auprc'])\n",
    "plt.title('model auprc')\n",
    "# plt.ylim(0.3, 1)\n",
    "plt.ylabel('auprc')\n",
    "plt.xlabel('epoch')\n",
    "plt.legend(['train', 'val'], loc='upper left')\n",
    "plt.show()"
   ]
  },
  {
   "cell_type": "code",
   "execution_count": 17,
   "id": "20c11344-dfa9-40e6-b2d2-63388d84ba09",
   "metadata": {
    "tags": []
   },
   "outputs": [
    {
     "name": "stdout",
     "output_type": "stream",
     "text": [
      "26/26 [==============================] - 3s 96ms/step - loss: 5.4357 - auc: 0.6828 - auprc: 0.3591 - prec: 0.4050 - rec: 0.6278 - TN: 467.0000 - TP: 113.0000 - precision_at_recall: 0.3237\n",
      "6086/6086 [==============================] - 577s 95ms/step - loss: 5.5395 - auc: 0.6102 - auprc: 0.1913 - prec: 0.2083 - rec: 0.5989 - TN: 103760.0000 - TP: 16626.0000 - precision_at_recall: 0.1698\n"
     ]
    }
   ],
   "source": [
    "with tf.device('/GPU:0'):\n",
    "    model.evaluate([Xt_eval, Xs_eval[:,:max_codes], Xm_eval[:,:max_codes]], y_eval)\n",
    "    model.evaluate([Xt_test, Xs_test[:,:max_codes], Xm_test[:,:max_codes]], y_test)\n",
    "    # model.evaluate(X_testWales, y_testWales)\n",
    "    # model.evaluate(X_testScotland, y_testScotland)"
   ]
  },
  {
   "cell_type": "code",
   "execution_count": null,
   "id": "3f7fd35d-2903-48e4-a655-b55f16b99da1",
   "metadata": {
    "tags": []
   },
   "outputs": [],
   "source": [
    "#Model evaluation function\n",
    "def summariseResult (testY, preds):\n",
    "    tn, fp, fn, tp = confusion_matrix(testY, preds).ravel()\n",
    "    specificity = tn / (tn+fp)\n",
    "    sensitivity = tp / (tp+fn)\n",
    "    ppv = 100*tp/(tp+fp)\n",
    "    npv = 100*tn/(fn+tn)\n",
    "    acc = accuracy_score(testY, preds)\n",
    "    f1score = f1_score(testY, preds, average = 'binary')\n",
    "    balanceacc = balanced_accuracy_score(testY, preds)\n",
    "    fpr, tpr, thresholds = roc_curve(testY, preds, pos_label=1)\n",
    "    aucscore = auc(fpr, tpr)\n",
    "    # aucscore = roc_auc_score(testY, preds)\n",
    "    auprc = average_precision_score(testY, preds)\n",
    "    # plot_confusion_matrix(model, testX, testY, cmap='viridis')  \n",
    "    return np.round(acc,4), np.round(specificity,4), np.round(sensitivity,4), np.round(aucscore,4), np.round(auprc,4), np.round(balanceacc,4), np.round(f1score,4), np.round(ppv,4), np.round(npv,4)\n",
    "\n",
    "data_test_Xs = [X_eval, X_test, X_testWales, X_testScotland]\n",
    "data_test_ys = [y_eval, y_test, y_testWales, y_testScotland]\n",
    "for data_test_X, data_test_y in zip(data_test_Xs, data_test_ys):\n",
    "    with tf.device('/CPU:0'):\n",
    "        preds = model.predict(data_test_X)\n",
    "    preds = [0 if pred <0.5 else 1 for pred in preds]\n",
    "    print(summariseResult(data_test_y, np.squeeze(preds)))"
   ]
  },
  {
   "cell_type": "code",
   "execution_count": null,
   "id": "e8a50962-2f80-4931-8eb7-df84792130ed",
   "metadata": {
    "tags": []
   },
   "outputs": [],
   "source": [
    "model.save('../SeqModel/model_therapy.h5')"
   ]
  },
  {
   "cell_type": "code",
   "execution_count": null,
   "id": "e1adb28e-44a2-4303-8b79-25348bfcaad9",
   "metadata": {
    "tags": []
   },
   "outputs": [],
   "source": [
    "# from keras.models import load_model\n",
    "# a = load_model('../SeqModel/my_model.h5')"
   ]
  },
  {
   "cell_type": "code",
   "execution_count": null,
   "id": "5f9f42bb-89f7-4693-852f-ae329cc7afe7",
   "metadata": {},
   "outputs": [],
   "source": []
  }
 ],
 "metadata": {
  "kernelspec": {
   "display_name": "Python 3 (ipykernel)",
   "language": "python",
   "name": "python3"
  },
  "language_info": {
   "codemirror_mode": {
    "name": "ipython",
    "version": 3
   },
   "file_extension": ".py",
   "mimetype": "text/x-python",
   "name": "python",
   "nbconvert_exporter": "python",
   "pygments_lexer": "ipython3",
   "version": "3.10.11"
  }
 },
 "nbformat": 4,
 "nbformat_minor": 5
}
