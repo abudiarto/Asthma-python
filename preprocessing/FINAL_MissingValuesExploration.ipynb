{
 "cells": [
  {
   "cell_type": "markdown",
   "id": "be3271fb-e881-42fa-a9d1-4d10453c474e",
   "metadata": {},
   "source": [
    "## START"
   ]
  },
  {
   "cell_type": "code",
   "execution_count": 1,
   "id": "dd434039-7bdb-4bb4-83d3-64b6d540487a",
   "metadata": {
    "tags": []
   },
   "outputs": [],
   "source": [
    "import pandas as pd\n",
    "import pyreadr\n",
    "import numpy as np\n",
    "import pickle\n",
    "import math\n",
    "import matplotlib.pyplot as plt\n",
    "import seaborn as sns"
   ]
  },
  {
   "cell_type": "code",
   "execution_count": 2,
   "id": "31f77fcf-0b75-4282-a4bf-44f2fd0b00ec",
   "metadata": {},
   "outputs": [],
   "source": [
    "pd.set_option('display.max_rows', 100)"
   ]
  },
  {
   "cell_type": "code",
   "execution_count": 3,
   "id": "406e8338-b046-4e23-bbc8-5ae0f4be6d0c",
   "metadata": {
    "tags": []
   },
   "outputs": [
    {
     "name": "stdout",
     "output_type": "stream",
     "text": [
      "This is the starting point for SAMPLE SELECTION -> all asthma patients from England, Wales, Scotland who were active between 2016-1-1 to 2018-12-31. It is separated into: \n",
      "data size: (716487, 56)\n",
      "Training dataset:  (682516, 56)\n",
      "External evaluation dataset :  (25937, 56)\n"
     ]
    }
   ],
   "source": [
    "#STARTING POINT DATA\n",
    "#extract patients from England, Wales, Scotland\n",
    "# Training data -> England\n",
    "# External evaluation -> Wales and Scotland\n",
    "features = pd.read_csv('../../Clean_data/data_features_2vs1_2016-2018_21102024.csv', low_memory=False)\n",
    "# features = features.drop(columns=['Unnamed: 0']) #drop the first column - index\n",
    "features = features.drop(columns=['id',\n",
    "       'practice_id.y', 'event_date.x', 'recorded_date', 'visit_id', 'code_id',\n",
    "       'snomed_id', 'numeric_1', 'numeric_2', 'created_datetime',\n",
    "       'updated_datetime', 'event_date.y',]) #drop unnecessary columns\n",
    "features.rename(columns={'practice_id.x': \"practice_id\"}, inplace=True) #fix practice_id column name\n",
    "features.drop_duplicates('patid', inplace=True)\n",
    "features.reset_index(drop=True, inplace=True)\n",
    "#add paractice information\n",
    "\n",
    "def fix_system(x): #clean system variable\n",
    "    if ('SystmOne' in x):\n",
    "        return 'SystemOne'\n",
    "    elif ('emis' in x) | ('Emis' in x) | ('EMIS' in x):\n",
    "        return 'EMIS'\n",
    "    elif ('Vision' in x):\n",
    "        return 'Vision'\n",
    "    elif ('iSoft' in x):\n",
    "        return 'iSoft'\n",
    "    elif ('Microtest' in x):\n",
    "        return 'Microtest'\n",
    "    else:\n",
    "        return 'unknown'\n",
    "    \n",
    "\n",
    "    \n",
    "# practice = pyreadr.read_r('../ServerData_13Oct2020/d_practice.Rdata')\n",
    "# practice = practice['d_practice']\n",
    "practice = pd.read_csv('../../Clean_data/practice_information.csv')\n",
    "practice['system'] = practice.apply(lambda x: fix_system(x.system), axis=1)\n",
    "\n",
    "features = features.merge(practice[['practice_id','postcode_district','imd_decile','Country','County','LocalAuthority','OutputAreaClassification', 'system']], on='practice_id',how='inner')\n",
    "features.reset_index(drop=True, inplace=True)\n",
    "features.shape\n",
    "\n",
    "print('This is the starting point for SAMPLE SELECTION -> all asthma patients from England, Wales, Scotland who were active between 2016-1-1 to 2018-12-31. It is separated into: ')\n",
    "\n",
    "def add_set(x):\n",
    "    if x == 'England':\n",
    "        return 'training'\n",
    "    elif (x=='Wales')|(x=='Scotland'):\n",
    "        return 'evaluation'\n",
    "\n",
    "features = features[features.Country!=''] #remove data without Country information\n",
    "features['set'] = features.Country.apply(lambda x: add_set(x))\n",
    "\n",
    "\n",
    "#print data size\n",
    "print(f'data size: {features.shape}')\n",
    "print('Training dataset: ', features[features.set == 'training'].shape)\n",
    "print('External evaluation dataset : ', features[features.set == 'evaluation'].shape)\n",
    "features.reset_index(inplace=True, drop=True)\n",
    "\n",
    "master_features = features #keep the original data"
   ]
  },
  {
   "cell_type": "code",
   "execution_count": 4,
   "id": "1d2a9b15-1a3e-4131-a8f6-c77570c524fc",
   "metadata": {},
   "outputs": [],
   "source": [
    "var_names_fix = {\n",
    "    'patid': 'patid', #identifier\n",
    "    'set': 'set', #data split information\n",
    "    'sex': 'Sex', #1\n",
    "    'age': 'Age', #2\n",
    "    'BMI': 'BMI', #3\n",
    "    'ethnic_group': 'Ethnicity', #4\n",
    "    'smokingStatus': 'Smoking status', #5\n",
    "    'imd_decile': 'Index of multiple deprivation', #6\n",
    "    'CharlsonScore': 'Charlson comorbidity index', #7\n",
    "    'count_rhinitis': 'Comorbidities - rhinitis', #8\n",
    "    'count_cardiovascular': 'Comorbidities - cardiovascular', #8\n",
    "    'count_heartfailure': 'Comorbidities - heart failure', #8\n",
    "    'count_psoriasis': 'Comorbidities - psoriasis', #8\n",
    "    'count_anaphylaxis': 'Comorbidities - anaphilaxis', #8\n",
    "    'count_diabetes': 'Comorbidities - diabetes', #8\n",
    "    'count_ihd': 'Comorbidities - ischaemic heart disease', #8\n",
    "    'count_anxiety': 'Comorbidities - anxiety', #8\n",
    "    'count_eczema': 'Comorbidities - eczema', #8\n",
    "    'count_nasalpolyps': 'Comorbidities - nasalpolyps', #8\n",
    "    'count_paracetamol': 'Comedications - paracetamol', #9\n",
    "    'count_nsaids': 'Comedications - NSAIDS', #9\n",
    "    'count_betablocker': 'Comedications - betablocker', #9\n",
    "    'PEFStatus': '% predicted PEF',  #10\n",
    "    'EosinophilLevel': 'Blood eosinophil count', #11\n",
    "    'BTS_step': 'BTS step', #12\n",
    "    'DeviceType': 'ICS device type', #13\n",
    "    'PriorEducation': 'Prior asthma education', #14\n",
    "    'average_daily_dose_ICS': 'Average daily dose of ICS', #15\n",
    "    'prescribed_daily_dose_ICS': 'Last prescribed daily dose of ICS', #16\n",
    "    'ICS_medication_possesion_ratio': 'ICS medication possession ratio', #17\n",
    "    'numPCS': 'Number of primary care consultations', #18\n",
    "    'numPCSAsthma': 'Number of asthma-related primary care consultations', #19\n",
    "    'numAntibioticsEvents': 'Number of antibiotics courses', #20\n",
    "    'numAntibioticswithLRTI': 'Number of antibiotics courses with LRTI', #21\n",
    "    'numOCSEvents': 'Number of OCS courses', #22\n",
    "    'numOCSwithLRTI': 'Number of OCS courses with LRTI', #23\n",
    "    'numAsthmaAttacks': 'Number of previous asthma attacks', #24\n",
    "    'numAcuteRespEvents': 'Number of acute respiratory events', #25\n",
    "    'numHospEvents': 'Number of hospital attendance/admission', #26\n",
    "    'numAsthmaManagement' : 'Number of previous asthma mangement plan given', #27\n",
    "    'numAsthmaReview': 'Number of previous asthma annual review', #28\n",
    "    # 'numAsthmaMedReview': 'Number of previous asthma medication review', #29\n",
    "    # 'numAsthmaReviewRCP': 'Number of previous asthma review (Royal College of Physicians Questionnaire)', #30\n",
    "}"
   ]
  },
  {
   "cell_type": "code",
   "execution_count": 5,
   "id": "025a3329-fd4c-4147-aa3b-1f7a083d6a5d",
   "metadata": {},
   "outputs": [],
   "source": [
    "# select the relevant candidate features\n",
    "features = master_features[var_names_fix.keys()]\n",
    "# features = features.rename(columns=var_names_fix)\n"
   ]
  },
  {
   "cell_type": "code",
   "execution_count": 6,
   "id": "dccdceb1-df9d-4ff7-823e-6fd62d4792c4",
   "metadata": {
    "tags": []
   },
   "outputs": [
    {
     "name": "stdout",
     "output_type": "stream",
     "text": [
      "new N:  644602\n",
      "diff:  71885\n",
      "train : 613708\n",
      "val : 23633\n",
      "diff train:  68808\n",
      "diff val:  2304\n"
     ]
    },
    {
     "data": {
      "image/png": "[encoded data removed]",
      "text/plain": [
       "<Figure size 1080x360 with 2 Axes>"
      ]
     },
     "metadata": {
      "needs_background": "light"
     },
     "output_type": "display_data"
    }
   ],
   "source": [
    "# Include only 8-80 years old\n",
    "temp = features[(features.age >= 8) & (features.age <= 80)]\n",
    "print('new N: ', temp.shape[0])\n",
    "print('diff: ', features.shape[0] - temp.shape[0])\n",
    "print('train :', temp[temp.set == 'training'].shape[0])\n",
    "print('val :', temp[temp.set == 'evaluation'].shape[0])\n",
    "print('diff train: ', features[features.set == 'training'].shape[0] - temp[temp.set == 'training'].shape[0])\n",
    "print('diff val: ', features[features.set == 'evaluation'].shape[0] - temp[temp.set == 'evaluation'].shape[0])\n",
    "\n",
    "features = temp\n",
    "temp = []\n",
    "features.reset_index(drop=True, inplace=True)\n",
    "fig, axs = plt.subplots(1, 2, figsize=(15, 5))\n",
    "features[['age']].hist(ax=axs[0], grid=False, )\n",
    "axs[0].set_ylabel(\"Sample count\")\n",
    "features[['age']].boxplot(ax=axs[1], grid=False)\n",
    "plt.show()"
   ]
  },
  {
   "cell_type": "code",
   "execution_count": 7,
   "id": "9183f0b2-42f8-4870-aca1-d2b0c45f9d3a",
   "metadata": {
    "tags": []
   },
   "outputs": [
    {
     "name": "stdout",
     "output_type": "stream",
     "text": [
      "new N:  642252\n",
      "diff:  2350\n",
      "train : 611372\n",
      "val : 23633\n",
      "diff train:  2336\n",
      "diff val:  0\n",
      "sex\n",
      "Female    0.571126\n",
      "Male      0.428874\n",
      "Name: proportion, dtype: float64\n"
     ]
    },
    {
     "data": {
      "text/plain": [
       "Text(0, 0.5, 'Sample count')"
      ]
     },
     "execution_count": 7,
     "metadata": {},
     "output_type": "execute_result"
    },
    {
     "data": {
      "image/png": "[encoded data removed]",
      "text/plain": [
       "<Figure size 432x288 with 1 Axes>"
      ]
     },
     "metadata": {
      "needs_background": "light"
     },
     "output_type": "display_data"
    }
   ],
   "source": [
    "# SEX drop NA\n",
    "temp = features.dropna(subset=('sex'))\n",
    "temp = temp[temp.sex!=2] #exclude samples with intersex\n",
    "print('new N: ', temp.shape[0])\n",
    "print('diff: ', features.shape[0] - temp.shape[0])\n",
    "print('train :', temp[temp.set == 'training'].shape[0])\n",
    "print('val :', temp[temp.set == 'evaluation'].shape[0])\n",
    "print('diff train: ', features[features.set == 'training'].shape[0] - temp[temp.set == 'training'].shape[0])\n",
    "print('diff val: ', features[features.set == 'evaluation'].shape[0] - temp[temp.set == 'evaluation'].shape[0])\n",
    "\n",
    "features = temp\n",
    "temp = []\n",
    "features.reset_index(drop=True, inplace=True)\n",
    "features['sex'] = features['sex'].apply(lambda x: 'Female' if x==0 else 'Male') #rename group 0: F, 1: M\n",
    "print(features.sex.value_counts(normalize =True, sort = False))\n",
    "ax = features.sex.value_counts(sort=False).plot(kind='bar')\n",
    "ax.set_xlabel(\"Sex\")\n",
    "ax.set_ylabel(\"Sample count\")"
   ]
  },
  {
   "cell_type": "code",
   "execution_count": 8,
   "id": "83043bf1-af79-4e92-847e-c61f232d217a",
   "metadata": {},
   "outputs": [
    {
     "data": {
      "image/png": "[encoded data removed]",
      "text/plain": [
       "<Figure size 432x288 with 1 Axes>"
      ]
     },
     "metadata": {
      "needs_background": "light"
     },
     "output_type": "display_data"
    },
    {
     "name": "stdout",
     "output_type": "stream",
     "text": [
      "new N:  629906\n",
      "diff:  12346\n",
      "train : 602577\n",
      "val : 20105\n",
      "diff train:  8795\n",
      "diff val:  3528\n"
     ]
    }
   ],
   "source": [
    "#add missing values rate per sample\n",
    "features['missingValuesRate']=features.apply(lambda x: x.isnull().sum()/features.shape[1], axis=1) #% of missing values\n",
    "\n",
    "#visualise missing values rate per sample\n",
    "features.missingValuesRate.hist(grid=False)\n",
    "plt.show()\n",
    "\n",
    "#based on the histogram, all samples with misisng values rate more than 50% will be excluded\n",
    "temp = features[features.missingValuesRate <= .5]\n",
    "print('new N: ', temp.shape[0])\n",
    "print('diff: ', features.shape[0] - temp.shape[0])\n",
    "print('train :', temp[temp.set == 'training'].shape[0])\n",
    "print('val :', temp[temp.set == 'evaluation'].shape[0])\n",
    "print('diff train: ', features[features.set == 'training'].shape[0] - temp[temp.set == 'training'].shape[0])\n",
    "print('diff val: ', features[features.set == 'evaluation'].shape[0] - temp[temp.set == 'evaluation'].shape[0])\n",
    "\n",
    "features = temp\n",
    "temp = []\n",
    "features.drop(columns=['missingValuesRate'], inplace=True)\n",
    "features.reset_index(drop=True, inplace=True)\n"
   ]
  },
  {
   "cell_type": "code",
   "execution_count": 14,
   "id": "2ef39fd0-0a95-40ed-b9e4-87388ba319c3",
   "metadata": {},
   "outputs": [
    {
     "data": {
      "text/plain": [
       "Index(['patid', 'set', 'sex', 'age', 'BMI', 'ethnic_group', 'smokingStatus',\n",
       "       'imd_decile', 'CharlsonScore', 'count_rhinitis', 'count_cardiovascular',\n",
       "       'count_heartfailure', 'count_psoriasis', 'count_anaphylaxis',\n",
       "       'count_diabetes', 'count_ihd', 'count_anxiety', 'count_eczema',\n",
       "       'count_nasalpolyps', 'count_paracetamol', 'count_nsaids',\n",
       "       'count_betablocker', 'PEFStatus', 'EosinophilLevel', 'BTS_step',\n",
       "       'DeviceType', 'PriorEducation', 'average_daily_dose_ICS',\n",
       "       'prescribed_daily_dose_ICS', 'ICS_medication_possesion_ratio', 'numPCS',\n",
       "       'numPCSAsthma', 'numAntibioticsEvents', 'numAntibioticswithLRTI',\n",
       "       'numOCSEvents', 'numOCSwithLRTI', 'numAsthmaAttacks',\n",
       "       'numAcuteRespEvents', 'numHospEvents', 'numAsthmaManagement',\n",
       "       'numAsthmaReview'],\n",
       "      dtype='object')"
      ]
     },
     "execution_count": 14,
     "metadata": {},
     "output_type": "execute_result"
    }
   ],
   "source": [
    "features.columns"
   ]
  },
  {
   "cell_type": "code",
   "execution_count": 16,
   "id": "a81da856-6664-4d44-85c5-ab7dddf47b10",
   "metadata": {},
   "outputs": [
    {
     "name": "stdout",
     "output_type": "stream",
     "text": [
      "average_daily_dose_ICS\n",
      "prescribed_daily_dose_ICS\n",
      "ICS_medication_possesion_ratio\n",
      "numPCS\n",
      "numPCSAsthma\n",
      "numAntibioticsEvents\n",
      "numAntibioticswithLRTI\n",
      "numOCSEvents\n",
      "numOCSwithLRTI\n",
      "numAsthmaAttacks\n",
      "numAcuteRespEvents\n",
      "numHospEvents\n",
      "numAsthmaManagement\n",
      "numAsthmaReview\n"
     ]
    }
   ],
   "source": [
    "#continuos misisng values to 0\n",
    "cont_vars = ['average_daily_dose_ICS',\n",
    "       'prescribed_daily_dose_ICS', 'ICS_medication_possesion_ratio', 'numPCS',\n",
    "       'numPCSAsthma', 'numAntibioticsEvents', 'numAntibioticswithLRTI',\n",
    "       'numOCSEvents', 'numOCSwithLRTI', 'numAsthmaAttacks',\n",
    "       'numAcuteRespEvents', 'numHospEvents', 'numAsthmaManagement',\n",
    "       'numAsthmaReview']\n",
    "# labels = ['Average daily dose of ICS', 'Prescribed daily dose ICS', 'Number of OCS courses', \n",
    "#           'Number of primary care consultations', 'Number of asthma-related primary care consultations', 'Number of antibiotics events', 'Number of antibiotics events with LRTI', \n",
    "#           'Number of OCS courses with LRTI']\n",
    "# outliers_check = []\n",
    "# outlier_threshold = .999 #quantile\n",
    "# cont_features = features\n",
    "for var in cont_vars:\n",
    "    print(var)    \n",
    "    features[var] = features[var].apply(lambda x: 0 if pd.isnull(x) | math.isinf(x) else x)\n",
    "    \n",
    "    # cont_features[var] = cont_features[var].apply(lambda x: 0 if pd.isnull(x) | math.isinf(x) else x)"
   ]
  },
  {
   "cell_type": "code",
   "execution_count": 25,
   "id": "31102d0a-5a12-482f-9b54-365278e2c78e",
   "metadata": {},
   "outputs": [
    {
     "data": {
      "image/png": "[encoded data removed]",
      "text/plain": [
       "<Figure size 504x504 with 1 Axes>"
      ]
     },
     "metadata": {
      "needs_background": "light"
     },
     "output_type": "display_data"
    }
   ],
   "source": [
    "# plot missing values per variable after cleaning the age, sex, and exluding high missing values rate sampls\n",
    "\n",
    "exclude_vars = ['patid', 'set'] #for visualising missing values\n",
    "comed_comorb = features.columns[features.columns.str.contains('count')].tolist()\n",
    "# exclude_vars = exclude_vars + comed_comorb\n",
    "\n",
    "notnull = features.drop(columns=exclude_vars)\n",
    "notnull = pd.DataFrame(np.round((notnull.shape[0]-notnull.notnull().sum())/notnull.shape[0], 3)*100, columns=['notnull_rate'])\n",
    "notnull['var'] = notnull.index\n",
    "notnull = notnull.replace({'var': var_names_fix})\n",
    "notnull = notnull[notnull.notnull_rate>0]\n",
    "notnull.reset_index(inplace=True, drop=True)\n",
    "ax = notnull.plot.barh(x='var', y='notnull_rate', figsize = (7,7), ylabel = '', xlabel = 'Non-missing rate (%)', legend=False, rot = 0, label='notnull_rate')\n",
    "ax.bar_label(ax.containers[0], fontsize = 8)\n",
    "plt.gca().invert_yaxis()\n",
    "plt.show()"
   ]
  },
  {
   "cell_type": "code",
   "execution_count": null,
   "id": "185eb250-1da7-41de-82b9-f36eb674c018",
   "metadata": {
    "tags": []
   },
   "outputs": [],
   "source": [
    "# BMI include only 15-75 \n",
    "# all other invalid values and NA will be coded as 0 (not recorded)\n",
    " # - missing BMI -> replace with 0\n",
    " # - invalid BMI (x<15 | x>75) -> replace with 0\n",
    "temp = features\n",
    "invalid_bmi = temp[(temp.BMI < 15) | (temp.BMI > 75)].shape[0]\n",
    "missing_BMI = temp[temp.BMI.isna()].shape[0]\n",
    "print(f'missing BMI: {missing_BMI}, invalid BMI: {invalid_bmi}')\n",
    "temp[((temp.BMI < 15) | (temp.BMI > 75))|(temp.BMI.isna())]\n",
    "temp['BMI'] = temp['BMI'].apply(lambda x: 0  if ((x < 15) | (x > 75))| (math.isnan(x)) else x)\n",
    "print('new N: ', temp.shape[0])\n",
    "print('diff: ', features.shape[0] - temp.shape[0])\n",
    "print('train :', temp[temp.set == 'training'].shape[0])\n",
    "print('val :', temp[temp.set == 'evaluation'].shape[0])\n",
    "print('diff train: ', features[features.set == 'training'].shape[0] - temp[temp.set == 'training'].shape[0])\n",
    "print('diff val: ', features[features.set == 'evaluation'].shape[0] - temp[temp.set == 'evaluation'].shape[0])\n",
    "\n",
    "features = temp\n",
    "temp = []\n",
    "features.reset_index(drop=True, inplace=True)\n",
    "fig, axs = plt.subplots(1, 2, figsize=(15, 5))\n",
    "features[['BMI']].hist(ax=axs[0], grid=False)\n",
    "axs[0].set_ylabel(\"Sample count\")\n",
    "features[['BMI']].boxplot(ax=axs[1], grid=False)\n",
    "plt.show()"
   ]
  },
  {
   "cell_type": "code",
   "execution_count": null,
   "id": "c663f53f-26f3-446b-8fce-81f7282f6441",
   "metadata": {},
   "outputs": [],
   "source": [
    "#plot BMI without zero BMI\n",
    "print('N without 0 BMI: ', features[features.BMI>0].shape[0])\n",
    "fig, axs = plt.subplots(1, 2, figsize=(15, 5))\n",
    "features[features.BMI>0][['BMI']].hist(ax=axs[0], grid=False)\n",
    "axs[0].set_ylabel(\"Sample count\")\n",
    "features[features.BMI>0][['BMI']].boxplot(ax=axs[1], grid=False)\n",
    "plt.show()"
   ]
  },
  {
   "cell_type": "code",
   "execution_count": null,
   "id": "33cff9e7-c83d-4403-a98f-b081ddd98fd0",
   "metadata": {
    "tags": []
   },
   "outputs": [],
   "source": [
    "# replace NA in ethnicity and ethnic_group with 'not recorded'\n",
    "# features['ethnicity'] = features.ethnicity.apply(lambda x: 'not recorded' if pd.isnull(x) else x) \n",
    "temp = features\n",
    "temp['ethnic_group'] = temp.ethnic_group.apply(lambda x: 'not recorded' if pd.isnull(x) else x)\n",
    "temp.reset_index(inplace=True, drop=True)\n",
    "temp['ethnic_group'] = temp[\"ethnic_group\"].astype('category').cat.set_categories(['Asian - ethnic group', 'Black - ethnic group', 'White - ethnic group', \n",
    "                                                                                           'Mixed ethnic census group', 'Other ethnic group',  'not recorded',])\n",
    "\n",
    "def fix_ethnic(x):\n",
    "    if x=='Asian - ethnic group':\n",
    "        return 'Asian'\n",
    "    elif x=='Black - ethnic group':\n",
    "        return 'Black'\n",
    "    elif x=='White - ethnic group':\n",
    "        return 'White'\n",
    "    elif x=='Mixed ethnic census group':\n",
    "        return 'Mixed'\n",
    "    elif x=='Other ethnic group':\n",
    "        return 'Other'\n",
    "    elif x=='not recorded':\n",
    "        return x\n",
    "        \n",
    "temp['ethnic_group'] = temp['ethnic_group'].apply(lambda x: fix_ethnic(x) )\n",
    "print('new N: ', temp.shape[0])\n",
    "print('diff: ', features.shape[0] - temp.shape[0])\n",
    "\n",
    "features = temp\n",
    "temp = []\n",
    "features.reset_index(drop=True, inplace=True)\n",
    "\n",
    "print('missing: ', features.ethnic_group.isnull().sum())\n",
    "print(features.ethnic_group.value_counts(normalize=True, sort=False))\n",
    "\n",
    "ax = features.ethnic_group.value_counts(sort=False).plot(kind='bar')\n",
    "ax.set_xlabel(\"Ethnicity\")\n",
    "ax.set_ylabel(\"Sample count\")"
   ]
  },
  {
   "cell_type": "code",
   "execution_count": null,
   "id": "52400210-86cd-435c-b238-6dbfa8d5d2a2",
   "metadata": {
    "tags": []
   },
   "outputs": [],
   "source": [
    "#for smoking, anyone with no record, consider them non-smoker\n",
    "temp = features\n",
    "temp['smokingStatus'] = temp.smokingStatus.apply(lambda x: 'never' if pd.isnull(x) else x)\n",
    "temp.reset_index(inplace=True, drop=True)\n",
    "temp['smokingStatus'] = temp[\"smokingStatus\"].astype('category').cat.set_categories(['never', 'former', 'current'])\n",
    "print('new N: ', temp.shape[0])\n",
    "print('diff: ', features.shape[0] - temp.shape[0])\n",
    "\n",
    "features = temp\n",
    "temp = []\n",
    "features.reset_index(drop=True, inplace=True)\n",
    "print('missing: ', features.smokingStatus.isnull().sum())\n",
    "print(features.smokingStatus.value_counts(normalize=True, sort=False))\n",
    "ax = features.smokingStatus.value_counts(sort=False).plot(kind='bar')\n",
    "ax.set_xlabel(\"Smoking status\")\n",
    "ax.set_ylabel(\"Sample count\")"
   ]
  },
  {
   "cell_type": "code",
   "execution_count": null,
   "id": "5cac4030-77ef-4452-b3fa-b8ee58e38434",
   "metadata": {},
   "outputs": [],
   "source": [
    "#for IMD, re-assign those with no data as 0\n",
    "temp = features\n",
    "temp['imd_decile'] = temp.imd_decile.apply(lambda x: 0 if pd.isnull(x) else x)\n",
    "temp.reset_index(inplace=True, drop=True)\n",
    "temp['imd_decile'] = temp[\"imd_decile\"].astype('int').astype('category').cat.set_categories([0, 1, 2, 3, 4, 5, 6, 7, 8, 9, 10])\n",
    "print('new N: ', temp.shape[0])\n",
    "print('diff: ', features.shape[0] - temp.shape[0])\n",
    "\n",
    "features = temp\n",
    "temp = []\n",
    "features.reset_index(drop=True, inplace=True)\n",
    "print('missing: ', features.imd_decile.isnull().sum())\n",
    "print(features.imd_decile.value_counts(normalize=True, sort=False))\n",
    "ax = features.imd_decile.value_counts(sort=False).plot(kind='bar')\n",
    "ax.set_xlabel(\"IMD Decile\")\n",
    "ax.set_ylabel(\"Sample count\")"
   ]
  },
  {
   "cell_type": "code",
   "execution_count": null,
   "id": "09ada55c-f745-4926-a2fe-8043b2e9f071",
   "metadata": {
    "tags": []
   },
   "outputs": [],
   "source": [
    "#for PEF, re-assign those with no data as a 'not_recorded' ---> too many missing values > 96%\n",
    "temp = features\n",
    "temp['PEFStatus'] = temp.PEFStatus.apply(lambda x: 'not recorded' if pd.isnull(x) else x)\n",
    "temp.reset_index(inplace=True, drop=True)\n",
    "temp['PEFStatus'] = temp[\"PEFStatus\"].astype('category').cat.set_categories(['less than 60', '60-80', 'more than 80', 'not recorded'])\n",
    "print('new N: ', temp.shape[0])\n",
    "print('diff: ', features.shape[0] - temp.shape[0])\n",
    "\n",
    "features = temp\n",
    "temp = []\n",
    "features.reset_index(drop=True, inplace=True)\n",
    "print('missing: ', features.PEFStatus.isnull().sum())\n",
    "print(features.PEFStatus.value_counts(normalize=True, sort=False))\n",
    "ax = features.PEFStatus.value_counts(sort=False).plot(kind='bar')\n",
    "ax.set_xlabel(\"% Predicted PEF\")\n",
    "ax.set_ylabel(\"Sample count\")"
   ]
  },
  {
   "cell_type": "code",
   "execution_count": null,
   "id": "aa2444bc-a0eb-4ff2-a169-506b46109d3e",
   "metadata": {
    "tags": []
   },
   "outputs": [],
   "source": [
    "#for Eosinophil, re-assign those with no data as a not recorded\n",
    "temp = features\n",
    "temp['EosinophilLevel'] = temp['EosinophilLevel'].apply(lambda x: 'not recorded' if ((pd.isnull(x)) or (x=='unknown')) else x)\n",
    "temp.reset_index(inplace=True, drop=True)\n",
    "temp['EosinophilLevel'] = temp[\"EosinophilLevel\"].astype('category').cat.set_categories(['normal', 'high', 'not recorded'])\n",
    "print('new N: ', temp.shape[0])\n",
    "print('diff: ', features.shape[0] - temp.shape[0])\n",
    "\n",
    "features = temp\n",
    "temp = []\n",
    "features.reset_index(drop=True, inplace=True)\n",
    "print('missing: ', features.EosinophilLevel.isnull().sum())\n",
    "print(features.EosinophilLevel.value_counts(normalize=True, sort=False))\n",
    "ax = features.EosinophilLevel.value_counts(sort=False).plot(kind='bar')\n",
    "ax.set_xlabel(\"Blood Eosinophil Count\")\n",
    "ax.set_ylabel(\"Sample count\")"
   ]
  },
  {
   "cell_type": "code",
   "execution_count": null,
   "id": "8d3ca2ae-13ef-4dad-83fb-9f09ca7069ce",
   "metadata": {
    "tags": []
   },
   "outputs": [],
   "source": [
    "#BTS Step (if none recorded, it means that they are at step 0\n",
    "temp = features\n",
    "temp['BTS_step'] = temp.BTS_step.apply(lambda x: 0 if pd.isnull(x) else x)\n",
    "temp.reset_index(inplace=True, drop=True)\n",
    "temp['BTS_step'] = temp[\"BTS_step\"].astype('int').astype('category').cat.set_categories([0, 1, 2, 3, 4, 5])\n",
    "print('new N: ', features.shape[0])\n",
    "print('diff: ', features.shape[0] - temp.shape[0])\n",
    "\n",
    "features = temp\n",
    "temp = []\n",
    "features.reset_index(drop=True, inplace=True)\n",
    "print('missing: ', features.BTS_step.isnull().sum())\n",
    "print(features.BTS_step.value_counts(normalize=True,sort=False))\n",
    "ax = features.BTS_step.value_counts(sort=False).plot(kind='bar')\n",
    "ax.set_xlabel(\"BTS step\")\n",
    "ax.set_ylabel(\"Sample count\")"
   ]
  },
  {
   "cell_type": "code",
   "execution_count": null,
   "id": "24bbc519-daf6-4ee7-8a35-6fdf069cad3e",
   "metadata": {
    "tags": []
   },
   "outputs": [],
   "source": [
    "#for Device type, re-assign those with no data as a 'not recorded'\n",
    "temp = features\n",
    "temp['DeviceType'] = temp.DeviceType.apply(lambda x: 'not recorded' if pd.isnull(x) else x)\n",
    "temp.reset_index(inplace=True, drop=True)\n",
    "temp['DeviceType'] = temp[\"DeviceType\"].astype('category').cat.set_categories(['BAI', 'DPI', 'NEB', 'pMDI', 'not recorded'])\n",
    "print('new N: ', temp.shape[0])\n",
    "print('diff: ', features.shape[0] - temp.shape[0])\n",
    "\n",
    "features = temp\n",
    "temp = []\n",
    "features.reset_index(drop=True, inplace=True)\n",
    "print('missing: ', features.DeviceType.isnull().sum())\n",
    "print(features.DeviceType.value_counts(normalize=True,sort=False))\n",
    "ax = features.DeviceType.value_counts(sort=False).plot(kind='bar')\n",
    "ax.set_xlabel(\"Device Type\")\n",
    "ax.set_ylabel(\"Sample count\")"
   ]
  },
  {
   "cell_type": "code",
   "execution_count": null,
   "id": "ce88c13d-94e9-4a40-a107-3ef9c61020f4",
   "metadata": {},
   "outputs": [],
   "source": [
    "#Prior asthma education\n",
    "\n",
    "\n",
    "def fix_priorAsthmaEducation(x):\n",
    "    if x==1 :\n",
    "        return 'Yes'\n",
    "    elif x==0 :\n",
    "        return 'No'\n",
    "    elif x!=np.nan:\n",
    "        return 'not recorded'\n",
    "\n",
    "temp = features\n",
    "temp['PriorEducation'] = temp.PriorEducation.apply(lambda x: fix_priorAsthmaEducation(x))\n",
    "temp.reset_index(inplace=True, drop=True)\n",
    "temp['PriorEducation'] = temp[\"PriorEducation\"].astype('category').cat.set_categories(['Yes', 'No', 'not recorded'])\n",
    "print('new N: ', temp.shape[0])\n",
    "print('diff: ', features.shape[0] - temp.shape[0])\n",
    "\n",
    "features = temp\n",
    "temp = []\n",
    "features.reset_index(drop=True, inplace=True)\n",
    "print(features.PriorEducation.value_counts(normalize=True,sort=False))\n",
    "features.PriorEducation.value_counts(sort=False).plot(kind='bar')"
   ]
  },
  {
   "cell_type": "code",
   "execution_count": null,
   "id": "2e90703d-ed06-4bac-9ecf-69ad54c62f6f",
   "metadata": {},
   "outputs": [],
   "source": [
    "#Charlson's commorbidity index\n",
    "temp = features\n",
    "temp['CharlsonScore'] = temp.CharlsonScore.apply(lambda x: 0 if pd.isnull(x) else x)\n",
    "temp.reset_index(inplace=True, drop=True)\n",
    "print('new N: ', temp.shape[0])\n",
    "print('diff: ', features.shape[0] - temp.shape[0])\n",
    "\n",
    "features = temp\n",
    "temp = []\n",
    "features.reset_index(drop=True, inplace=True)\n",
    "ax = pd.DataFrame(features.CharlsonScore.value_counts(dropna=False)).sort_index().plot.bar(xlabel = \"Charlson's Commorbidity Index\", legend=False)\n",
    "ax.bar_label(ax.containers[0], fontsize = 7)"
   ]
  },
  {
   "cell_type": "code",
   "execution_count": null,
   "id": "aa064a85-2840-4c8f-8223-18cbbe9b902a",
   "metadata": {
    "scrolled": true,
    "tags": []
   },
   "outputs": [],
   "source": [
    "# #asthma attack month (NA to zero)\n",
    "# month_cols = features.columns[features.columns.str.contains('month')]\n",
    "# for col in month_cols:\n",
    "#     print(col)\n",
    "#     features[col][features[col].isna()] = 0\n",
    "# features.reset_index(inplace=True, drop=True)\n",
    "# print('new N: ', temp.shape[0])\n",
    "# print('diff: ', features.shape[0] - temp.shape[0])"
   ]
  },
  {
   "cell_type": "code",
   "execution_count": null,
   "id": "2b46d523-d119-4d9c-8cf2-6b607073034d",
   "metadata": {},
   "outputs": [],
   "source": [
    "features.columns"
   ]
  },
  {
   "cell_type": "code",
   "execution_count": null,
   "id": "444f788f-8078-4ebf-b32a-fcfea329c3c5",
   "metadata": {
    "scrolled": true,
    "tags": []
   },
   "outputs": [],
   "source": [
    "# explore outliers in continous variables. Exclude samples more than .99 quantile\n",
    "\n",
    "cont_vars = ['average_daily_dose_ICS', 'prescribed_daily_dose_ICS', 'ICS_medication_possesion_ratio', 'numOCSEvents', \n",
    "             'numPCS', 'numPCSAsthma', 'numAntibioticsEvents', 'numAntibioticswithLRTI', \n",
    "             'numOCSwithLRTI', 'numAsthmaAttacks', 'numAcuteRespEvents', 'numHospEvents', 'numAsthmaManagement',\n",
    "             'numAsthmaReview', 'numAsthmaMedReview', 'numAsthmaReviewRCP' ]\n",
    "labels = ['Average daily dose of ICS', 'Prescribed daily dose ICS', 'ICS medication possesion ratio', 'Number of OCS courses', \n",
    "          'Number of primary care consultations', 'Number of asthma-related primary care consultations', 'Number of antibiotics events', 'Number of antibiotics events with LRTI', \n",
    "          'Number of OCS courses with LRTI', 'Number of asthma attacks', 'Number of acute respiratory events', 'Number of hospitalisation events (recorded in primary care)', \n",
    "          'Number of previous asthma mangement plan given', 'Number of previous asthma annual review', 'Number of previous asthma medication review', \n",
    "          'Number of previous asthma review (Royal College of Physicians']\n",
    "outliers_check = []\n",
    "outlier_threshold = .999 #quantile\n",
    "cont_features = features\n",
    "for var, label in zip(cont_vars, labels):\n",
    "    print(var)    \n",
    "    features[var] = features[var].apply(lambda x: 0 if pd.isnull(x) | math.isinf(x) else x)\n",
    "    fig = plt.figure()\n",
    "    a = features[[var]]\n",
    "    a = a.rename(columns={var: label})\n",
    "    a.boxplot(grid=False, tick_labels = [\" \"])\n",
    "    plt.show()\n",
    "\n",
    "\n",
    "    \n",
    "    cont_features[var] = cont_features[var].apply(lambda x: 0 if pd.isnull(x) | math.isinf(x) else x)\n",
    "    initial_max = max(features[var])\n",
    "    initial_min = min(features[var])\n",
    "    print(f'max: {initial_max}, min: {initial_min}')\n",
    "    n_outliers = cont_features[cont_features[var] > features[var].quantile(outlier_threshold)].shape[0]\n",
    "    print(f'n outliers: {n_outliers}')\n",
    "    cont_features = cont_features[cont_features[var] <= features[var].quantile(outlier_threshold)]\n",
    "    new_max = max(cont_features[var])\n",
    "    new_min = min(cont_features[var])\n",
    "    print(f'new max: {new_max}, new min: {new_min}')\n",
    "    outliers_check.append([label, outlier_threshold, initial_max, initial_min, n_outliers, new_max, new_min])\n",
    "    cont_features.reset_index(inplace=True, drop=True)\n",
    "    # fig, axs = plt.subplots(1, 2, figsize=(15, 5))\n",
    "    # features[[var]].hist(ax=axs[0], )\n",
    "    # features[[var]].plot(kind='hist', bins=10, ax=axs[0])\n",
    "    # plt.show()\n",
    "    fig = plt.figure()\n",
    "    a = cont_features[[var]]\n",
    "    a = a.rename(columns={var: label})\n",
    "    a.boxplot(grid=False, tick_labels = [\" \"])\n",
    "    plt.show()\n",
    "    fig.savefig('../Clean_data/'+var+'.png')\n",
    "\n"
   ]
  },
  {
   "cell_type": "code",
   "execution_count": null,
   "id": "0f87df84-bf87-4dda-ba10-9a8042998bf8",
   "metadata": {},
   "outputs": [],
   "source": [
    "outliers_check = pd.DataFrame(outliers_check, columns=['variable', 'percentile', 'initial max', 'initial min', 'n outliers', 'new max', 'new min'])\n",
    "outliers_check['n outliers'].sum()"
   ]
  },
  {
   "cell_type": "code",
   "execution_count": null,
   "id": "c5fe3802-89ed-4893-8fdd-d51419244846",
   "metadata": {},
   "outputs": [],
   "source": [
    "outliers_check"
   ]
  },
  {
   "cell_type": "code",
   "execution_count": null,
   "id": "ff52e364-b0b3-40b6-9127-c8a61ccc3565",
   "metadata": {
    "scrolled": true
   },
   "outputs": [],
   "source": [
    "# based on above table, I decided to exclude some variables from outliers removal due to very narrow min-max gap: 'ICS_medication_possesion_ratio', 'numAsthmaAttacks', 'numAcuteRespEvents', 'numHospEvents', 'numAsthmaManagement',\n",
    "#             'numAsthmaReview', 'numAsthmaMedReview', 'numAsthmaReviewRCP'\n",
    "# do the same outliers removal step and overwrite dataframe\n",
    "\n",
    "# explore outliers in continous variables. Exclude samples more than .99 quantile\n",
    "\n",
    "cont_vars = ['average_daily_dose_ICS', 'prescribed_daily_dose_ICS', 'numOCSEvents', \n",
    "             'numPCS', 'numPCSAsthma', 'numAntibioticsEvents', 'numAntibioticswithLRTI', \n",
    "             'numOCSwithLRTI',  ]\n",
    "labels = ['Average daily dose of ICS', 'Prescribed daily dose ICS', 'Number of OCS courses', \n",
    "          'Number of primary care consultations', 'Number of asthma-related primary care consultations', 'Number of antibiotics events', 'Number of antibiotics events with LRTI', \n",
    "          'Number of OCS courses with LRTI']\n",
    "outliers_check = []\n",
    "outlier_threshold = .999 #quantile\n",
    "cont_features = features\n",
    "for var, label in zip(cont_vars, labels):\n",
    "    print(var)    \n",
    "    features[var] = features[var].apply(lambda x: 0 if pd.isnull(x) | math.isinf(x) else x)\n",
    "\n",
    "    \n",
    "    cont_features[var] = cont_features[var].apply(lambda x: 0 if pd.isnull(x) | math.isinf(x) else x)\n",
    "    initial_max = max(features[var])\n",
    "    initial_min = min(features[var])\n",
    "    print(f'max: {initial_max}, min: {initial_min}')\n",
    "    n_outliers = cont_features[cont_features[var] > features[var].quantile(outlier_threshold)].shape[0]\n",
    "    print(f'n outliers: {n_outliers}')\n",
    "    cont_features = cont_features[cont_features[var] <= features[var].quantile(outlier_threshold)]\n",
    "    new_max = max(cont_features[var])\n",
    "    new_min = min(cont_features[var])\n",
    "    print(f'new max: {new_max}, new min: {new_min}')\n",
    "    outliers_check.append([label, outlier_threshold, initial_max, initial_min, n_outliers, new_max, new_min])\n",
    "    cont_features.reset_index(inplace=True, drop=True)\n",
    "\n",
    "\n",
    "print('new N: ', cont_features.shape[0])\n",
    "print('diff: ', features.shape[0] - cont_features.shape[0])\n",
    "print('train :', cont_features[cont_features.set == 'training'].shape[0])\n",
    "print('val :', cont_features[cont_features.set == 'evaluation'].shape[0])\n",
    "print('diff train: ', features[features.set == 'training'].shape[0] - cont_features[cont_features.set == 'training'].shape[0])\n",
    "print('diff val: ', features[features.set == 'evaluation'].shape[0] - cont_features[cont_features.set == 'evaluation'].shape[0])\n",
    "\n",
    "features = cont_features"
   ]
  },
  {
   "cell_type": "code",
   "execution_count": null,
   "id": "a7a16f8e-9036-4b7b-bcb8-2513dff18918",
   "metadata": {},
   "outputs": [],
   "source": [
    "#corelation heat map\n",
    "cont_vars = ['average_daily_dose_ICS', 'prescribed_daily_dose_ICS', 'ICS_medication_possesion_ratio', 'numOCSEvents', \n",
    "             'numPCS', 'numPCSAsthma', 'numAntibioticsEvents', 'numAntibioticswithLRTI', \n",
    "             'numOCSwithLRTI', 'numAsthmaAttacks', 'numAcuteRespEvents', 'numHospEvents', 'numAsthmaManagement',\n",
    "             'numAsthmaReview', \n",
    "             # 'numAsthmaMedReview', 'numAsthmaReviewRCP' \n",
    "            ]\n",
    "a = features[cont_vars]\n",
    "a = a.rename(columns=var_names_fix)\n",
    "corr = a.corr()\n",
    "f, ax = plt.subplots(figsize=(15, 10))\n",
    "# corr = dataframe.corr()\n",
    "sns.set(font_scale=1)\n",
    "sns.heatmap(corr, annot = True,\n",
    "    cmap=sns.diverging_palette(220, 10, as_cmap=True),\n",
    "    vmin=-1.0, vmax=1.0,\n",
    "    square=True, ax=ax,\n",
    "           annot_kws={\"fontsize\":10})"
   ]
  },
  {
   "cell_type": "code",
   "execution_count": null,
   "id": "f058c41a-6eed-487d-bb2f-da36913715b0",
   "metadata": {},
   "outputs": [],
   "source": [
    "# plot missing values per variable after cleaning the age, sex, and exluding high missing values rate sampls\n",
    "\n",
    "exclude_vars = ['patid', 'set'] #for visualising missing values\n",
    "comed_comorb = features.columns[features.columns.str.contains('count')].tolist()\n",
    "# exclude_vars = exclude_vars + comed_comorb\n",
    "\n",
    "notnull = features.drop(columns=exclude_vars)\n",
    "notnull = pd.DataFrame(np.round(notnull.notnull().sum()/notnull.shape[0], 5)*100, columns=['notnull_rate'])\n",
    "notnull['var'] = notnull.index\n",
    "notnull = notnull.replace({'var': var_names_fix})\n",
    "notnull.reset_index(inplace=True, drop=True)\n",
    "ax = notnull.plot.barh(x='var', y='notnull_rate', figsize = (6,15), ylabel = '', xlabel = 'Non-missing rate (%)', legend=False, rot = 0, label='notnull_rate')\n",
    "ax.bar_label(ax.containers[0], fontsize = 8)\n",
    "plt.gca().invert_yaxis()\n",
    "plt.show()"
   ]
  },
  {
   "cell_type": "code",
   "execution_count": null,
   "id": "1b60bfe0-87d2-4d66-b7cc-65353d528a8f",
   "metadata": {},
   "outputs": [],
   "source": [
    "# features.average_daily_dose_ICS[features.average_daily_dose_ICS.isna()] = 0\n",
    "# features.prescribed_daily_dose_ICS[features.prescribed_daily_dose_ICS.isna()] = 0\n",
    "# features.ICS_medication_possesion_ratio[features.ICS_medication_possesion_ratio.isna()] = 0\n",
    "# features.Spacer[features.Spacer.isna()] = 0\n",
    "# features.numOCS[features.numOCS.isna()] = 0\n",
    "# features.numPCS[features.numPCS.isna()] = 0\n",
    "# features.numAntibioticsEvents[features.numAntibioticsEvents.isna()] = 0\n",
    "# features.numAntibioticswithLRTI[features.numAntibioticswithLRTI.isna()] = 0\n",
    "# features.numOCSEvents[features.numOCSEvents.isna()] = 0\n",
    "# features.numOCSwithLRTI[features.numOCSwithLRTI.isna()] = 0\n",
    "# features.numAsthmaAttacks[features.numAsthmaAttacks.isna()] = 0\n",
    "# features.numAcuteRespEvents[features.numAcuteRespEvents.isna()] = 0\n",
    "# features.PriorEducation[features.PriorEducation.isna()] = 0\n",
    "# features.numPCSAsthma[features.numPCSAsthma.isna()] = 0\n",
    "# features.CharlsonScore[features.CharlsonScore.isna()] = 0\n",
    "# features.numHospEvents[features.numHospEvents.isna()] = 0\n",
    "# features.reset_index(inplace=True, drop=True)\n",
    "# print('new N: ', temp.shape[0])\n",
    "# print('diff: ', features.shape[0] -  temp.shape[0])"
   ]
  },
  {
   "cell_type": "code",
   "execution_count": null,
   "id": "8105eb95-002d-41d6-b746-2b2d495fdf70",
   "metadata": {},
   "outputs": [],
   "source": []
  },
  {
   "cell_type": "markdown",
   "id": "81e3c07e-c238-40f9-b9e3-ae14c39b0070",
   "metadata": {},
   "source": [
    "## Categorized cont vars"
   ]
  },
  {
   "cell_type": "code",
   "execution_count": null,
   "id": "ed775dc2-a651-44a5-a120-f940ad200a5c",
   "metadata": {
    "tags": []
   },
   "outputs": [],
   "source": [
    "#BMI\n",
    "def cat_bmi(x):\n",
    "    if (x==0):\n",
    "        return 'not recorded'\n",
    "    elif (x<20): \n",
    "        return 'underweight'\n",
    "    elif (x>=20) & (x<25):\n",
    "        return 'normal'\n",
    "    elif (x>=25) & (x<30):\n",
    "        return 'overweight'\n",
    "    elif (x>=30):\n",
    "        return 'obese'\n",
    "    \n",
    "    \n",
    "features['BMI_cat'] = features.BMI.apply(lambda x: cat_bmi(x))\n",
    "features.reset_index(inplace=True, drop=True)\n",
    "features.shape"
   ]
  },
  {
   "cell_type": "code",
   "execution_count": null,
   "id": "23a633bb-d74b-450b-b5de-477ad187b2a3",
   "metadata": {
    "tags": []
   },
   "outputs": [],
   "source": [
    "#Age\n",
    "def cat_age(x):\n",
    "    if (x<12):\n",
    "        return 'younger than 12'\n",
    "    elif (x>=12) & (x<18):\n",
    "        return '12-17'\n",
    "    elif (x>=18) & (x<35):\n",
    "        return '18-34'\n",
    "    elif (x>=35) & (x<55):\n",
    "        return '35-54'\n",
    "    elif (x>=55) & (x<75):\n",
    "        return '55-74'\n",
    "    elif (x>=75):\n",
    "        return '>=75'\n",
    "    \n",
    "features['age_cat'] = features.age.apply(lambda x: cat_age(x))\n",
    "features.reset_index(inplace=True, drop=True)\n",
    "features.shape"
   ]
  },
  {
   "cell_type": "code",
   "execution_count": null,
   "id": "275c0bc8-1320-4246-bd71-159be12b7cf7",
   "metadata": {
    "tags": []
   },
   "outputs": [],
   "source": [
    "#Average daily ICS\n",
    "def cat_ics(x):\n",
    "    if (x==0):\n",
    "        return '0'\n",
    "    elif (x>0) & (x<=200):\n",
    "        return '1-200'\n",
    "    elif (x>200) & (x<=400):\n",
    "        return '201-400'\n",
    "    elif (x>400):\n",
    "        return '>400'\n",
    "    \n",
    "features['average_daily_dose_ICS_cat'] = features.average_daily_dose_ICS.apply(lambda x: cat_ics(x))\n",
    "features['prescribed_daily_dose_ICS_cat'] = features.prescribed_daily_dose_ICS.apply(lambda x: cat_ics(x))\n",
    "features.reset_index(inplace=True, drop=True)\n",
    "features.shape\n"
   ]
  },
  {
   "cell_type": "code",
   "execution_count": null,
   "id": "88fde7e9-4012-4521-90bd-70e86bb4fe98",
   "metadata": {
    "tags": []
   },
   "outputs": [],
   "source": [
    "#cat ICS medication ratio\n",
    "def cat_ics_medication(x):\n",
    "    if x==0:\n",
    "        return 'No ICS Prescribed'\n",
    "    elif (x>0) & (x<0.40):\n",
    "        return '>0%-39.9%'\n",
    "    elif (x>=0.40) & (x<.60):\n",
    "        return '40%-59.9%'\n",
    "    elif (x>0.60) :\n",
    "        return '>=60%'\n",
    "    \n",
    "features['ICS_medication_possesion_ratio_cat'] = features.ICS_medication_possesion_ratio.apply(lambda x: cat_ics_medication(x))\n",
    "features.reset_index(inplace=True, drop=True)\n",
    "features.shape\n"
   ]
  },
  {
   "cell_type": "code",
   "execution_count": null,
   "id": "6173ed3a-efff-412f-81e5-a07020f293a9",
   "metadata": {
    "tags": []
   },
   "outputs": [],
   "source": [
    "#cat other continuous vars\n",
    "def cat_continuous(x):\n",
    "    if x==0:\n",
    "        return '0'\n",
    "    elif x==1:\n",
    "        return '1'\n",
    "    elif x==2:\n",
    "        return '2'\n",
    "    elif (x>2) :\n",
    "        return '>=3'\n",
    "    \n",
    "features['numOCS_cat'] = features.numOCSEvents.apply(lambda x: cat_continuous(x))\n",
    "features['numOCSEvents_cat'] = features.numOCSEvents.apply(lambda x: cat_continuous(x))\n",
    "features['numOCSwithLRTI_cat'] = features.numOCSwithLRTI.apply(lambda x: cat_continuous(x))\n",
    "features['numAcuteRespEvents_cat'] = features.numAcuteRespEvents.apply(lambda x: cat_continuous(x))\n",
    "features['numAntibioticsEvents_cat'] = features.numAntibioticsEvents.apply(lambda x: cat_continuous(x))\n",
    "features['numAntibioticswithLRTI_cat'] = features.numAntibioticswithLRTI.apply(lambda x: cat_continuous(x))\n",
    "features['numAsthmaAttacks_cat'] = features.numAsthmaAttacks.apply(lambda x: cat_continuous(x))\n",
    "features['numHospEvents_cat'] = features.numHospEvents.apply(lambda x: cat_continuous(x))\n",
    "features['numPCS_cat'] = features.numPCS.apply(lambda x: cat_continuous(x))\n",
    "features['numPCSAsthma_cat'] = features.numPCSAsthma.apply(lambda x: cat_continuous(x))\n",
    "features['numAsthmaManagement_cat'] = features.numAsthmaManagement.apply(lambda x: cat_continuous(x))\n",
    "features['numAsthmaReview_cat'] = features.numAsthmaReview.apply(lambda x: cat_continuous(x))\n",
    "features['numAsthmaMedReview_cat'] = features.numAsthmaMedReview.apply(lambda x: cat_continuous(x))\n",
    "features['numAsthmaReviewRCP_cat'] = features.numAsthmaReviewRCP.apply(lambda x: cat_continuous(x))\n",
    "features.reset_index(inplace=True, drop=True)\n",
    "features.shape"
   ]
  },
  {
   "cell_type": "code",
   "execution_count": null,
   "id": "85e34a96-e027-4377-b794-85d6f85490db",
   "metadata": {
    "tags": []
   },
   "outputs": [],
   "source": [
    "#transform comorbidity and comedication into binary\n",
    "def count2cat(x):\n",
    "    if x == 0:\n",
    "        return 0\n",
    "    else:\n",
    "        return 1\n",
    "        \n",
    "countVars = features.columns[features.columns.str.contains('count')]\n",
    "for var in countVars:\n",
    "    features[var.split('_')[1]] = features.apply(lambda x: count2cat(x[var]), axis=1)\n",
    "features.reset_index(inplace=True, drop=True)"
   ]
  },
  {
   "cell_type": "code",
   "execution_count": null,
   "id": "4651aeb5-cf7c-432c-b6ef-da2865057a94",
   "metadata": {},
   "outputs": [],
   "source": [
    "comorbidities = ['rhinitis', 'cardiovascular', 'heartfailure', 'psoriasis', 'anaphylaxis',\n",
    "                 'diabetes', 'ihd', 'anxiety', 'eczema', 'nasalpolyps']\n",
    "comedications = ['paracetamol', 'nsaids', 'betablocker']"
   ]
  },
  {
   "cell_type": "code",
   "execution_count": null,
   "id": "5089bbc0-14a7-48a2-9fa9-f79086d8f80a",
   "metadata": {
    "scrolled": true
   },
   "outputs": [],
   "source": [
    "# fig, axs = plt.subplots(7, 2, figsize=(15, 5))\n",
    "\n",
    "# for i in range(7):\n",
    "#     for j in range(2):\n",
    "#         print(f'{i}, {j}')\n",
    "#         col = com_columns[(i+1)*(i+1)]\n",
    "#         a = features[[col]]\n",
    "#         a.boxplot(ax=axs[i,j])\n",
    "# plt.show()\n",
    "\n",
    "for col in comorbidities:\n",
    "    print(features[col].value_counts())\n",
    "    fig = plt.figure()\n",
    "    a = features[col].value_counts(sort=False).plot(kind='bar', )\n",
    "    a.set_ylabel(\"Sample count\", labelpad = 1)\n",
    "    plt.show()\n",
    "    fig.savefig('../Clean_data/'+col+'.png')"
   ]
  },
  {
   "cell_type": "code",
   "execution_count": null,
   "id": "34250b4b-4a39-446f-8767-27d6bbca5c30",
   "metadata": {
    "scrolled": true
   },
   "outputs": [],
   "source": [
    "for col in comedications:\n",
    "    fig = plt.figure()\n",
    "    print(features[col].value_counts())\n",
    "    a = features[col].value_counts(sort=False).plot(kind='bar', )\n",
    "    a.set_ylabel(\"Sample count\", labelpad = 1)\n",
    "    plt.show()\n",
    "    fig.savefig('../Clean_data/'+col+'.png')"
   ]
  },
  {
   "cell_type": "code",
   "execution_count": null,
   "id": "a05587cf-be75-4c7e-8ed6-5ab6d56f29fe",
   "metadata": {},
   "outputs": [],
   "source": [
    "#code sex variable into 0=female and 1=male\n",
    "features['sex'] = features['sex'].apply(lambda x: 0 if x=='Female' else 1)"
   ]
  },
  {
   "cell_type": "code",
   "execution_count": null,
   "id": "68d5a1c4-48be-4db1-8a85-f57c36f93459",
   "metadata": {},
   "outputs": [],
   "source": [
    "#final check for the missing values\n",
    "# plot missing values per variable after cleaning the age, sex, and exluding high missing values rate sampls\n",
    "\n",
    "exclude_vars = ['patid', 'set'] #for visualising missing values\n",
    "comed_comorb = features.columns[features.columns.str.contains('count')].tolist()\n",
    "# exclude_vars = exclude_vars + comed_comorb\n",
    "\n",
    "notnull = features.drop(columns=exclude_vars)\n",
    "notnull = pd.DataFrame(np.round(notnull.notnull().sum()/notnull.shape[0], 5)*100, columns=['notnull_rate'])\n",
    "notnull['var'] = notnull.index\n",
    "notnull = notnull.replace({'var': var_names_fix})\n",
    "notnull.reset_index(inplace=True, drop=True)\n",
    "ax = notnull.plot.barh(x='var', y='notnull_rate', figsize = (6,15), ylabel = '', xlabel = 'Non-missing rate (%)', legend=False, rot = 0, label='notnull_rate')\n",
    "ax.bar_label(ax.containers[0], fontsize = 8)\n",
    "plt.gca().invert_yaxis()\n",
    "plt.show()"
   ]
  },
  {
   "cell_type": "code",
   "execution_count": null,
   "id": "e6b4ac37-f912-4716-abd8-17df46c61d30",
   "metadata": {
    "scrolled": true
   },
   "outputs": [],
   "source": [
    "pd.options.display.max_rows = 287\n",
    "features.isna().sum()"
   ]
  },
  {
   "cell_type": "code",
   "execution_count": null,
   "id": "1eeabd03-ae5c-43c5-abe3-038157e81b5d",
   "metadata": {},
   "outputs": [],
   "source": [
    "#final check for cat vars\n",
    "cat_vars = ['age_cat',\n",
    "'ICS_medication_possesion_ratio_cat', 'numOCS_cat',\n",
    "'numOCSEvents_cat', 'numOCSwithLRTI_cat', 'numAcuteRespEvents_cat',\n",
    "'numAntibioticsEvents_cat', 'numAntibioticswithLRTI_cat',\n",
    "'numAsthmaAttacks_cat', 'numHospEvents_cat', 'numPCS_cat',\n",
    "'numPCSAsthma_cat', 'numAsthmaManagement_cat',\n",
    "'numAsthmaReview_cat', 'numAsthmaMedReview_cat',\n",
    "'numAsthmaReviewRCP_cat']\n",
    "for var in cat_vars:\n",
    "    print(var, features[var].unique())"
   ]
  },
  {
   "cell_type": "code",
   "execution_count": null,
   "id": "5812c8fd-2a35-438c-aebd-438d8bcecbb2",
   "metadata": {
    "tags": []
   },
   "outputs": [],
   "source": [
    "features.to_csv('../Clean_data/cleaned_features_22102024.csv', index_label=False, index=False)\n",
    "pickle.dump(features, open('../Clean_data/cleaned_features_22102024.sav', 'wb'))"
   ]
  },
  {
   "cell_type": "markdown",
   "id": "21944671-0221-47fc-abdb-5b0fef1d89d9",
   "metadata": {},
   "source": [
    "# Outcome"
   ]
  },
  {
   "cell_type": "code",
   "execution_count": null,
   "id": "ab066368-37b9-4cdd-9fb5-94201ed2d7dc",
   "metadata": {
    "tags": []
   },
   "outputs": [],
   "source": [
    "outcomes = pd.read_csv('../Clean_data/data_outcomes_2vs1_15112023.csv')\n",
    "outcomes = outcomes.iloc[:,1:]\n",
    "#select only patients included in features\n",
    "outcomes = outcomes[outcomes.patid.isin(features.patid.values)]\n",
    "outcomes.shape"
   ]
  },
  {
   "cell_type": "code",
   "execution_count": null,
   "id": "e1593f1d-3811-4b36-930a-3aefa2b74f65",
   "metadata": {
    "tags": []
   },
   "outputs": [],
   "source": [
    "outcomes.outcome_12months.value_counts(normalize=True)"
   ]
  },
  {
   "cell_type": "code",
   "execution_count": null,
   "id": "f8f68ae8-4af4-4e5e-afd5-6f668e8287b2",
   "metadata": {
    "tags": []
   },
   "outputs": [],
   "source": [
    "# outcomes[\"outcome_combined_6months\"] = outcomes.apply(lambda x: (x[\"outcome_3months\"] | x[\"outcome_6months\"]), axis=1)\n",
    "# outcomes[\"outcome_combined_9months\"] = outcomes.apply(lambda x: (x[\"outcome_combined_6months\"] | x[\"outcome_9months\"]), axis=1)\n",
    "# outcomes[\"outcome_combined_12months\"] = outcomes.apply(lambda x: (x[\"outcome_combined_9months\"] | x[\"outcome_12months\"]), axis=1)\n",
    "# outcomes[\"outcome_combined_15months\"] = outcomes.apply(lambda x: (x[\"outcome_combined_12months\"] | x[\"outcome_15months\"]), axis=1)\n",
    "# outcomes[\"outcome_combined_18months\"] = outcomes.apply(lambda x: (x[\"outcome_combined_15months\"] | x[\"outcome_18months\"]), axis=1)\n",
    "# outcomes[\"outcome_combined_24months\"] = outcomes.apply(lambda x: (x[\"outcome_combined_18months\"] | x[\"outcome_24months\"]), axis=1)\n",
    "\n",
    "# outcomes['3MonthsOutcome'] = outcomes.apply(lambda x: x.outcome_3months, axis=1)\n",
    "outcomes['outcome_6months'] = outcomes.apply(lambda x: (x.outcome_3months)|(x.outcome_6months), axis=1)\n",
    "outcomes['outcome_9months'] = outcomes.apply(lambda x: (x.outcome_6months)|(x.outcome_9months), axis=1)\n",
    "outcomes['outcome_12months'] = outcomes.apply(lambda x: (x.outcome_9months)|(x.outcome_12months), axis=1)\n",
    "outcomes.shape"
   ]
  },
  {
   "cell_type": "code",
   "execution_count": null,
   "id": "5097e2c0-7221-4e29-b083-39e4eaf20d7f",
   "metadata": {},
   "outputs": [],
   "source": [
    "outcomes.outcome_12months.value_counts(normalize=True)"
   ]
  },
  {
   "cell_type": "code",
   "execution_count": null,
   "id": "c9ca7297-0d77-45d8-a948-e8a993e7387e",
   "metadata": {
    "tags": []
   },
   "outputs": [],
   "source": [
    "outcomes.to_csv('../Clean_data/cleaned_outcomes_24102024.csv', index_label=False, index=False)\n",
    "pickle.dump(outcomes, open('../Clean_data/cleaned_outcomes_24102024.sav', 'wb'))"
   ]
  },
  {
   "cell_type": "code",
   "execution_count": null,
   "id": "663b2976-4d63-431f-9ea6-c632d46710cc",
   "metadata": {},
   "outputs": [],
   "source": []
  }
 ],
 "metadata": {
  "kernelspec": {
   "display_name": "Python 3 (ipykernel)",
   "language": "python",
   "name": "python3"
  },
  "language_info": {
   "codemirror_mode": {
    "name": "ipython",
    "version": 3
   },
   "file_extension": ".py",
   "mimetype": "text/x-python",
   "name": "python",
   "nbconvert_exporter": "python",
   "pygments_lexer": "ipython3",
   "version": "3.10.14"
  }
 },
 "nbformat": 4,
 "nbformat_minor": 5
}
