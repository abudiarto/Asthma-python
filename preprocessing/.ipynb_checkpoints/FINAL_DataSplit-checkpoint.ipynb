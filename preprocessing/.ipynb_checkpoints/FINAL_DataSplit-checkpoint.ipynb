{
 "cells": [
  {
   "cell_type": "markdown",
   "id": "3cf617ae-7cd6-4168-9b2a-c61a35fcaf7c",
   "metadata": {},
   "source": [
    "# Split Data into Train - Val - Eval"
   ]
  },
  {
   "cell_type": "markdown",
   "id": "f50e5fe5-19e3-4aa6-ad1c-0f8d87ecd708",
   "metadata": {},
   "source": [
    "Grid search -> England 10%\n",
    "\n",
    "Train set -> England 70%\n",
    "\n",
    "Internal val set -> England 20% (internal validation)\n",
    "\n",
    "External val set -> Wales & Scotland (External validation)"
   ]
  },
  {
   "cell_type": "code",
   "execution_count": null,
   "id": "a6f7287c-5c7e-4d25-9085-f3971b3d5784",
   "metadata": {
    "tags": []
   },
   "outputs": [],
   "source": [
    "#uncomment this below code to install imblearn package\n",
    "# !pip install imbalanced-learn"
   ]
  },
  {
   "cell_type": "code",
   "execution_count": null,
   "id": "5bdbffb2-b2a4-45fb-b395-13d2cd7513a3",
   "metadata": {
    "tags": []
   },
   "outputs": [],
   "source": [
    "# !pip install scikit-optimize"
   ]
  },
  {
   "cell_type": "code",
   "execution_count": 1,
   "id": "c95c2128",
   "metadata": {
    "tags": []
   },
   "outputs": [],
   "source": [
    "import pandas as pd\n",
    "import numpy as np\n",
    "import sklearn\n",
    "\n",
    "#statistics\n",
    "from scipy.stats import chi2_contingency, ttest_ind\n",
    "\n",
    "# import cudf #gpu-powered DataFrame (Pandas alternative)\n",
    "\n",
    "#imbalance handling\n",
    "from imblearn.over_sampling import SMOTE\n",
    "from imblearn.under_sampling import RandomUnderSampler, RepeatedEditedNearestNeighbours\n",
    "from imblearn.pipeline import Pipeline\n",
    "\n",
    "#preprocessing\n",
    "from sklearn import preprocessing\n",
    "from sklearn.preprocessing import OrdinalEncoder, OneHotEncoder, LabelEncoder, MinMaxScaler, StandardScaler, RobustScaler\n",
    "from sklearn.model_selection import train_test_split\n",
    "\n",
    "#hyperparameter search\n",
    "from skopt import BayesSearchCV\n",
    "from skopt.space import Real, Integer, Categorical\n",
    "from skopt.utils import use_named_args\n",
    "from skopt import gp_minimize\n",
    "\n",
    "#internal validation\n",
    "from sklearn.model_selection import StratifiedKFold, KFold, RepeatedStratifiedKFold, cross_val_score, GridSearchCV, PredefinedSplit, RandomizedSearchCV\n",
    "\n",
    "\n",
    "#performance metrices\n",
    "from sklearn.metrics import make_scorer, confusion_matrix, classification_report, f1_score, balanced_accuracy_score, r2_score, auc, average_precision_score, roc_auc_score, recall_score, roc_curve, accuracy_score\n",
    "\n",
    "#Models selection\n",
    "from sklearn.naive_bayes import GaussianNB, ComplementNB\n",
    "from sklearn.linear_model import LogisticRegression, ElasticNet\n",
    "from sklearn.tree import DecisionTreeClassifier\n",
    "from sklearn.ensemble import RandomForestClassifier\n",
    "import xgboost as xgb\n",
    "# from cuml.svm import SVC #gpu-powered SVM\n",
    "\n",
    "\n",
    "#save and load trained model\n",
    "import pickle\n",
    "\n",
    "#visualisation\n",
    "import matplotlib.pyplot as plt\n",
    "import seaborn as sns\n",
    "\n",
    "from collections import Counter\n",
    "\n",
    "import os\n",
    "\n",
    "random_state = 42"
   ]
  },
  {
   "cell_type": "code",
   "execution_count": 2,
   "id": "11624789",
   "metadata": {
    "tags": []
   },
   "outputs": [
    {
     "name": "stderr",
     "output_type": "stream",
     "text": [
      "/tmp/ipykernel_3565/1895772149.py:2: DtypeWarning: Columns (51,55,58,59,60,61) have mixed types. Specify dtype option on import or set low_memory=False.\n",
      "  features = pd.read_csv(\"../Clean_data/cleaned_features_22102024.csv\")\n"
     ]
    }
   ],
   "source": [
    "# Data loader\n",
    "features = pd.read_csv(\"../Clean_data/cleaned_features_22102024.csv\")\n",
    "# features = pickle.load(open('../FinalData/cleaned_features_0112202.sav', 'rb'))\n",
    "outcomes = pd.read_csv(\"../Clean_data/cleaned_outcomes_24102024.csv\")\n",
    "# outcomes = pickle.load(open('../FinalData/cleaned_outcomes_01122023.sav', 'rb'))\n",
    "features = features.drop_duplicates(subset=[\"patid\"])\n",
    "outcomes = outcomes.drop_duplicates(subset=[\"patid\"])\n",
    "features.reset_index(inplace=True, drop=True)\n",
    "outcomes.reset_index(inplace=True, drop=True)\n",
    "# features = features[features.columns[1:]]\n",
    "# outcomes = outcomes[outcomes.columns[1:]]"
   ]
  },
  {
   "cell_type": "code",
   "execution_count": 3,
   "id": "c3d4d97c-6eff-4df9-b769-8fcde18f5fcf",
   "metadata": {
    "tags": []
   },
   "outputs": [
    {
     "name": "stdout",
     "output_type": "stream",
     "text": [
      "(615762, 75)\n",
      "(615762, 5)\n"
     ]
    }
   ],
   "source": [
    "print(features.shape)\n",
    "print(outcomes.shape)"
   ]
  },
  {
   "cell_type": "code",
   "execution_count": 4,
   "id": "2a04d815-2a32-425a-966a-c7ec873b363d",
   "metadata": {},
   "outputs": [],
   "source": [
    "features['asthmaPlan'] = features.numAsthmaManagement.apply(lambda x: 0 if x==0 else 1)"
   ]
  },
  {
   "cell_type": "code",
   "execution_count": 5,
   "id": "eb99babd-f83f-4f3f-b9e3-1934a6f6ba12",
   "metadata": {
    "tags": []
   },
   "outputs": [
    {
     "data": {
      "text/plain": [
       "Index(['patid', 'set', 'sex', 'age', 'BMI', 'ethnic_group', 'smokingStatus',\n",
       "       'imd_decile', 'CharlsonScore', 'count_rhinitis', 'count_cardiovascular',\n",
       "       'count_heartfailure', 'count_psoriasis', 'count_anaphylaxis',\n",
       "       'count_diabetes', 'count_ihd', 'count_anxiety', 'count_eczema',\n",
       "       'count_nasalpolyps', 'count_paracetamol', 'count_nsaids',\n",
       "       'count_betablocker', 'PEFStatus', 'EosinophilLevel', 'BTS_step',\n",
       "       'DeviceType', 'PriorEducation', 'average_daily_dose_ICS',\n",
       "       'prescribed_daily_dose_ICS', 'ICS_medication_possesion_ratio', 'numPCS',\n",
       "       'numPCSAsthma', 'numAntibioticsEvents', 'numAntibioticswithLRTI',\n",
       "       'numOCSEvents', 'numOCSwithLRTI', 'numAsthmaAttacks',\n",
       "       'numAcuteRespEvents', 'numHospEvents', 'numAsthmaManagement',\n",
       "       'numAsthmaReview', 'numAsthmaMedReview', 'numAsthmaReviewRCP',\n",
       "       'BMI_cat', 'age_cat', 'average_daily_dose_ICS_cat',\n",
       "       'prescribed_daily_dose_ICS_cat', 'ICS_medication_possesion_ratio_cat',\n",
       "       'numOCS_cat', 'numOCSEvents_cat', 'numOCSwithLRTI_cat',\n",
       "       'numAcuteRespEvents_cat', 'numAntibioticsEvents_cat',\n",
       "       'numAntibioticswithLRTI_cat', 'numAsthmaAttacks_cat',\n",
       "       'numHospEvents_cat', 'numPCS_cat', 'numPCSAsthma_cat',\n",
       "       'numAsthmaManagement_cat', 'numAsthmaReview_cat',\n",
       "       'numAsthmaMedReview_cat', 'numAsthmaReviewRCP_cat', 'rhinitis',\n",
       "       'cardiovascular', 'heartfailure', 'psoriasis', 'anaphylaxis',\n",
       "       'diabetes', 'ihd', 'anxiety', 'eczema', 'nasalpolyps', 'paracetamol',\n",
       "       'nsaids', 'betablocker', 'asthmaPlan'],\n",
       "      dtype='object')"
      ]
     },
     "execution_count": 5,
     "metadata": {},
     "output_type": "execute_result"
    }
   ],
   "source": [
    "features.columns"
   ]
  },
  {
   "cell_type": "code",
   "execution_count": 6,
   "id": "5754f4e6-c1eb-48b6-8cd3-3864ee8f639e",
   "metadata": {
    "tags": []
   },
   "outputs": [
    {
     "data": {
      "text/html": [
       "<div>\n",
       "<style scoped>\n",
       "    .dataframe tbody tr th:only-of-type {\n",
       "        vertical-align: middle;\n",
       "    }\n",
       "\n",
       "    .dataframe tbody tr th {\n",
       "        vertical-align: top;\n",
       "    }\n",
       "\n",
       "    .dataframe thead th {\n",
       "        text-align: right;\n",
       "    }\n",
       "</style>\n",
       "<table border=\"1\" class=\"dataframe\">\n",
       "  <thead>\n",
       "    <tr style=\"text-align: right;\">\n",
       "      <th></th>\n",
       "      <th>patid</th>\n",
       "      <th>set</th>\n",
       "      <th>sex</th>\n",
       "      <th>age</th>\n",
       "      <th>BMI</th>\n",
       "      <th>ethnic_group</th>\n",
       "      <th>smokingStatus</th>\n",
       "      <th>imd_decile</th>\n",
       "      <th>CharlsonScore</th>\n",
       "      <th>count_rhinitis</th>\n",
       "      <th>...</th>\n",
       "      <th>anaphylaxis</th>\n",
       "      <th>diabetes</th>\n",
       "      <th>ihd</th>\n",
       "      <th>anxiety</th>\n",
       "      <th>eczema</th>\n",
       "      <th>nasalpolyps</th>\n",
       "      <th>paracetamol</th>\n",
       "      <th>nsaids</th>\n",
       "      <th>betablocker</th>\n",
       "      <th>asthmaPlan</th>\n",
       "    </tr>\n",
       "  </thead>\n",
       "  <tbody>\n",
       "    <tr>\n",
       "      <th>0</th>\n",
       "      <td>43231452</td>\n",
       "      <td>training</td>\n",
       "      <td>0</td>\n",
       "      <td>48.0</td>\n",
       "      <td>0.0</td>\n",
       "      <td>not recorded</td>\n",
       "      <td>never</td>\n",
       "      <td>8</td>\n",
       "      <td>1.0</td>\n",
       "      <td>0.0</td>\n",
       "      <td>...</td>\n",
       "      <td>0</td>\n",
       "      <td>0</td>\n",
       "      <td>0</td>\n",
       "      <td>0</td>\n",
       "      <td>0</td>\n",
       "      <td>0</td>\n",
       "      <td>0</td>\n",
       "      <td>0</td>\n",
       "      <td>0</td>\n",
       "      <td>1</td>\n",
       "    </tr>\n",
       "    <tr>\n",
       "      <th>1</th>\n",
       "      <td>43206365</td>\n",
       "      <td>training</td>\n",
       "      <td>1</td>\n",
       "      <td>58.0</td>\n",
       "      <td>0.0</td>\n",
       "      <td>not recorded</td>\n",
       "      <td>never</td>\n",
       "      <td>8</td>\n",
       "      <td>1.0</td>\n",
       "      <td>0.0</td>\n",
       "      <td>...</td>\n",
       "      <td>0</td>\n",
       "      <td>0</td>\n",
       "      <td>0</td>\n",
       "      <td>0</td>\n",
       "      <td>0</td>\n",
       "      <td>0</td>\n",
       "      <td>0</td>\n",
       "      <td>0</td>\n",
       "      <td>0</td>\n",
       "      <td>1</td>\n",
       "    </tr>\n",
       "    <tr>\n",
       "      <th>2</th>\n",
       "      <td>43203606</td>\n",
       "      <td>training</td>\n",
       "      <td>0</td>\n",
       "      <td>51.0</td>\n",
       "      <td>0.0</td>\n",
       "      <td>not recorded</td>\n",
       "      <td>current</td>\n",
       "      <td>6</td>\n",
       "      <td>1.0</td>\n",
       "      <td>0.0</td>\n",
       "      <td>...</td>\n",
       "      <td>0</td>\n",
       "      <td>0</td>\n",
       "      <td>0</td>\n",
       "      <td>0</td>\n",
       "      <td>0</td>\n",
       "      <td>0</td>\n",
       "      <td>0</td>\n",
       "      <td>0</td>\n",
       "      <td>0</td>\n",
       "      <td>0</td>\n",
       "    </tr>\n",
       "    <tr>\n",
       "      <th>3</th>\n",
       "      <td>43117348</td>\n",
       "      <td>training</td>\n",
       "      <td>0</td>\n",
       "      <td>69.0</td>\n",
       "      <td>35.3</td>\n",
       "      <td>not recorded</td>\n",
       "      <td>never</td>\n",
       "      <td>9</td>\n",
       "      <td>1.0</td>\n",
       "      <td>0.0</td>\n",
       "      <td>...</td>\n",
       "      <td>0</td>\n",
       "      <td>0</td>\n",
       "      <td>0</td>\n",
       "      <td>0</td>\n",
       "      <td>0</td>\n",
       "      <td>0</td>\n",
       "      <td>0</td>\n",
       "      <td>0</td>\n",
       "      <td>0</td>\n",
       "      <td>0</td>\n",
       "    </tr>\n",
       "    <tr>\n",
       "      <th>4</th>\n",
       "      <td>43105858</td>\n",
       "      <td>training</td>\n",
       "      <td>0</td>\n",
       "      <td>16.0</td>\n",
       "      <td>27.0</td>\n",
       "      <td>not recorded</td>\n",
       "      <td>never</td>\n",
       "      <td>3</td>\n",
       "      <td>1.0</td>\n",
       "      <td>0.0</td>\n",
       "      <td>...</td>\n",
       "      <td>0</td>\n",
       "      <td>0</td>\n",
       "      <td>0</td>\n",
       "      <td>0</td>\n",
       "      <td>0</td>\n",
       "      <td>0</td>\n",
       "      <td>0</td>\n",
       "      <td>0</td>\n",
       "      <td>0</td>\n",
       "      <td>1</td>\n",
       "    </tr>\n",
       "  </tbody>\n",
       "</table>\n",
       "<p>5 rows × 76 columns</p>\n",
       "</div>"
      ],
      "text/plain": [
       "      patid       set  sex   age   BMI  ethnic_group smokingStatus  \\\n",
       "0  43231452  training    0  48.0   0.0  not recorded         never   \n",
       "1  43206365  training    1  58.0   0.0  not recorded         never   \n",
       "2  43203606  training    0  51.0   0.0  not recorded       current   \n",
       "3  43117348  training    0  69.0  35.3  not recorded         never   \n",
       "4  43105858  training    0  16.0  27.0  not recorded         never   \n",
       "\n",
       "   imd_decile  CharlsonScore  count_rhinitis  ...  anaphylaxis  diabetes  ihd  \\\n",
       "0           8            1.0             0.0  ...            0         0    0   \n",
       "1           8            1.0             0.0  ...            0         0    0   \n",
       "2           6            1.0             0.0  ...            0         0    0   \n",
       "3           9            1.0             0.0  ...            0         0    0   \n",
       "4           3            1.0             0.0  ...            0         0    0   \n",
       "\n",
       "   anxiety  eczema  nasalpolyps  paracetamol  nsaids  betablocker  asthmaPlan  \n",
       "0        0       0            0            0       0            0           1  \n",
       "1        0       0            0            0       0            0           1  \n",
       "2        0       0            0            0       0            0           0  \n",
       "3        0       0            0            0       0            0           0  \n",
       "4        0       0            0            0       0            0           1  \n",
       "\n",
       "[5 rows x 76 columns]"
      ]
     },
     "execution_count": 6,
     "metadata": {},
     "output_type": "execute_result"
    }
   ],
   "source": [
    "features.head()"
   ]
  },
  {
   "cell_type": "code",
   "execution_count": 7,
   "id": "03d70236-7158-4812-8a5b-d5d9890a94e4",
   "metadata": {
    "tags": []
   },
   "outputs": [
    {
     "data": {
      "text/html": [
       "<div>\n",
       "<style scoped>\n",
       "    .dataframe tbody tr th:only-of-type {\n",
       "        vertical-align: middle;\n",
       "    }\n",
       "\n",
       "    .dataframe tbody tr th {\n",
       "        vertical-align: top;\n",
       "    }\n",
       "\n",
       "    .dataframe thead th {\n",
       "        text-align: right;\n",
       "    }\n",
       "</style>\n",
       "<table border=\"1\" class=\"dataframe\">\n",
       "  <thead>\n",
       "    <tr style=\"text-align: right;\">\n",
       "      <th></th>\n",
       "      <th>patid</th>\n",
       "      <th>outcome_3months</th>\n",
       "      <th>outcome_6months</th>\n",
       "      <th>outcome_9months</th>\n",
       "      <th>outcome_12months</th>\n",
       "    </tr>\n",
       "  </thead>\n",
       "  <tbody>\n",
       "    <tr>\n",
       "      <th>0</th>\n",
       "      <td>43231452</td>\n",
       "      <td>0</td>\n",
       "      <td>0</td>\n",
       "      <td>0</td>\n",
       "      <td>0</td>\n",
       "    </tr>\n",
       "    <tr>\n",
       "      <th>1</th>\n",
       "      <td>43206365</td>\n",
       "      <td>0</td>\n",
       "      <td>0</td>\n",
       "      <td>0</td>\n",
       "      <td>0</td>\n",
       "    </tr>\n",
       "    <tr>\n",
       "      <th>2</th>\n",
       "      <td>43203606</td>\n",
       "      <td>0</td>\n",
       "      <td>0</td>\n",
       "      <td>0</td>\n",
       "      <td>0</td>\n",
       "    </tr>\n",
       "    <tr>\n",
       "      <th>3</th>\n",
       "      <td>43117348</td>\n",
       "      <td>0</td>\n",
       "      <td>0</td>\n",
       "      <td>0</td>\n",
       "      <td>0</td>\n",
       "    </tr>\n",
       "    <tr>\n",
       "      <th>4</th>\n",
       "      <td>43105858</td>\n",
       "      <td>0</td>\n",
       "      <td>0</td>\n",
       "      <td>0</td>\n",
       "      <td>0</td>\n",
       "    </tr>\n",
       "  </tbody>\n",
       "</table>\n",
       "</div>"
      ],
      "text/plain": [
       "      patid  outcome_3months  outcome_6months  outcome_9months  \\\n",
       "0  43231452                0                0                0   \n",
       "1  43206365                0                0                0   \n",
       "2  43203606                0                0                0   \n",
       "3  43117348                0                0                0   \n",
       "4  43105858                0                0                0   \n",
       "\n",
       "   outcome_12months  \n",
       "0                 0  \n",
       "1                 0  \n",
       "2                 0  \n",
       "3                 0  \n",
       "4                 0  "
      ]
     },
     "execution_count": 7,
     "metadata": {},
     "output_type": "execute_result"
    }
   ],
   "source": [
    "outcomes.head()"
   ]
  },
  {
   "cell_type": "code",
   "execution_count": 8,
   "id": "862ee9fb",
   "metadata": {
    "tags": []
   },
   "outputs": [
    {
     "name": "stdout",
     "output_type": "stream",
     "text": [
      "original data shape:  (615762, 80)\n"
     ]
    }
   ],
   "source": [
    "masterData = features.merge(outcomes, how = 'inner', left_on='patid', right_on='patid') #join table\n",
    "# masterData = masterData.dropna() #NAs from Country\n",
    "masterData = masterData.reset_index(drop=True)\n",
    "exclude_columns = ['weight', 'height', 'id', 'event_date', 'recorded_date', 'visit_id', 'code_id', 'snomed_id',\n",
    "       'numeric_1', 'numeric_2', 'created_datetime', 'updated_datetime',]\n",
    "masterData = masterData.loc[:,~masterData.columns.isin(exclude_columns)]\n",
    "print('original data shape: ', masterData.shape)"
   ]
  },
  {
   "cell_type": "code",
   "execution_count": 9,
   "id": "8e7a7bee-e74a-4c9f-87ff-0b557c67c82c",
   "metadata": {
    "scrolled": true,
    "tags": []
   },
   "outputs": [
    {
     "data": {
      "text/plain": [
       "patid                                 0\n",
       "set                                   0\n",
       "sex                                   0\n",
       "age                                   0\n",
       "BMI                                   0\n",
       "ethnic_group                          0\n",
       "smokingStatus                         0\n",
       "imd_decile                            0\n",
       "CharlsonScore                         0\n",
       "count_rhinitis                        0\n",
       "count_cardiovascular                  0\n",
       "count_heartfailure                    0\n",
       "count_psoriasis                       0\n",
       "count_anaphylaxis                     0\n",
       "count_diabetes                        0\n",
       "count_ihd                             0\n",
       "count_anxiety                         0\n",
       "count_eczema                          0\n",
       "count_nasalpolyps                     0\n",
       "count_paracetamol                     0\n",
       "count_nsaids                          0\n",
       "count_betablocker                     0\n",
       "PEFStatus                             0\n",
       "EosinophilLevel                       0\n",
       "BTS_step                              0\n",
       "DeviceType                            0\n",
       "PriorEducation                        0\n",
       "average_daily_dose_ICS                0\n",
       "prescribed_daily_dose_ICS             0\n",
       "ICS_medication_possesion_ratio        0\n",
       "numPCS                                0\n",
       "numPCSAsthma                          0\n",
       "numAntibioticsEvents                  0\n",
       "numAntibioticswithLRTI                0\n",
       "numOCSEvents                          0\n",
       "numOCSwithLRTI                        0\n",
       "numAsthmaAttacks                      0\n",
       "numAcuteRespEvents                    0\n",
       "numHospEvents                         0\n",
       "numAsthmaManagement                   0\n",
       "numAsthmaReview                       0\n",
       "numAsthmaMedReview                    0\n",
       "numAsthmaReviewRCP                    0\n",
       "BMI_cat                               0\n",
       "age_cat                               0\n",
       "average_daily_dose_ICS_cat            0\n",
       "prescribed_daily_dose_ICS_cat         0\n",
       "ICS_medication_possesion_ratio_cat    0\n",
       "numOCS_cat                            0\n",
       "numOCSEvents_cat                      0\n",
       "numOCSwithLRTI_cat                    0\n",
       "numAcuteRespEvents_cat                0\n",
       "numAntibioticsEvents_cat              0\n",
       "numAntibioticswithLRTI_cat            0\n",
       "numAsthmaAttacks_cat                  0\n",
       "numHospEvents_cat                     0\n",
       "numPCS_cat                            0\n",
       "numPCSAsthma_cat                      0\n",
       "numAsthmaManagement_cat               0\n",
       "numAsthmaReview_cat                   0\n",
       "numAsthmaMedReview_cat                0\n",
       "numAsthmaReviewRCP_cat                0\n",
       "rhinitis                              0\n",
       "cardiovascular                        0\n",
       "heartfailure                          0\n",
       "psoriasis                             0\n",
       "anaphylaxis                           0\n",
       "diabetes                              0\n",
       "ihd                                   0\n",
       "anxiety                               0\n",
       "eczema                                0\n",
       "nasalpolyps                           0\n",
       "paracetamol                           0\n",
       "nsaids                                0\n",
       "betablocker                           0\n",
       "asthmaPlan                            0\n",
       "outcome_3months                       0\n",
       "outcome_6months                       0\n",
       "outcome_9months                       0\n",
       "outcome_12months                      0\n",
       "dtype: int64"
      ]
     },
     "execution_count": 9,
     "metadata": {},
     "output_type": "execute_result"
    }
   ],
   "source": [
    "pd.options.display.max_rows = 287\n",
    "masterData.isna().sum()"
   ]
  },
  {
   "cell_type": "code",
   "execution_count": 10,
   "id": "ecdc7fd9",
   "metadata": {
    "tags": []
   },
   "outputs": [
    {
     "name": "stdout",
     "output_type": "stream",
     "text": [
      "3 months -> 1 :  20.32\n",
      "6 months -> 1 :  13.06\n",
      "9 months -> 1 :  10.11\n",
      "12 months -> 1 :  7.59\n"
     ]
    }
   ],
   "source": [
    "#Positive vs negative class ratio\n",
    "\n",
    "print('3 months -> 1 : ', round(masterData['outcome_3months'].value_counts()[0]/masterData['outcome_3months'].value_counts()[1],2))\n",
    "print('6 months -> 1 : ', round(masterData['outcome_6months'].value_counts()[0]/masterData['outcome_6months'].value_counts()[1],2))\n",
    "print('9 months -> 1 : ', round(masterData['outcome_9months'].value_counts()[0]/masterData['outcome_9months'].value_counts()[1],2))\n",
    "print('12 months -> 1 : ', round(masterData['outcome_12months'].value_counts()[0]/masterData['outcome_12months'].value_counts()[1],2))\n",
    "# print('3 months -> 1 : ', round(masterData.outcome_3months.value_counts()[0]/masterData.outcome_3months.value_counts()[1],2))\n",
    "# print('6 months -> 1 : ', round(masterData.outcome_combined_6months.value_counts()[0]/masterData.outcome_combined_6months.value_counts()[1],2))\n",
    "# print('9 months -> 1 : ', round(masterData.outcome_combined_9months.value_counts()[0]/masterData.outcome_combined_9months.value_counts()[1],2))\n",
    "# print('12 months -> 1 : ', round(masterData.outcome_combined_12months.value_counts()[0]/masterData.outcome_combined_12months.value_counts()[1],2))\n",
    "# print('15 months -> 1 : ', round(masterData.outcome_combined_15months.value_counts()[0]/masterData.outcome_combined_15months.value_counts()[1],2))\n",
    "# print('18 months -> 1 : ', round(masterData.outcome_combined_18months.value_counts()[0]/masterData.outcome_combined_18months.value_counts()[1],2))\n",
    "# print('24 months -> 1 : ', round(masterData.outcome_combined_24months.value_counts()[0]/masterData.outcome_combined_24months.value_counts()[1],2))\n"
   ]
  },
  {
   "cell_type": "code",
   "execution_count": null,
   "id": "40816ff0-f383-41bc-83e7-4d142e0b5313",
   "metadata": {},
   "outputs": [],
   "source": []
  },
  {
   "cell_type": "code",
   "execution_count": 11,
   "id": "346971ef",
   "metadata": {
    "tags": []
   },
   "outputs": [
    {
     "name": "stdout",
     "output_type": "stream",
     "text": [
      "3 months ->  4.69 %\n",
      "6 months ->  7.11 %\n",
      "9 months ->  9.0 %\n",
      "12 months ->  11.64 %\n"
     ]
    }
   ],
   "source": [
    "#Proportion of asthma attack in each outcome\n",
    "\n",
    "print('3 months -> ', round(masterData.outcome_3months.value_counts(normalize=True)[1]*100,2), '%')\n",
    "print('6 months -> ', round(masterData.outcome_6months.value_counts(normalize=True)[1]*100,2), '%')\n",
    "print('9 months -> ', round(masterData.outcome_9months.value_counts(normalize=True)[1]*100,2), '%')\n",
    "print('12 months -> ', round(masterData.outcome_12months.value_counts(normalize=True)[1]*100,2), '%')\n",
    "# print('3 months -> ', round(masterData['outcome_3months'].value_counts()[1]/len(masterData)*100,2), '%')\n",
    "# print('6 months -> ', round(masterData['outcome_combined_6months'].value_counts()[1]/len(masterData)*100,2), '%')\n",
    "# print('9 months -> ', round(masterData['outcome_combined_9months'].value_counts()[1]/len(masterData)*100,2), '%')\n",
    "# print('12 months -> ', round(masterData['outcome_combined_12months'].value_counts()[1]/len(masterData)*100,2), '%')\n",
    "# print('24 months -> ', round(masterData['outcome_combined_24months'].value_counts()[1]/len(masterData)*100,2), '%')"
   ]
  },
  {
   "cell_type": "markdown",
   "id": "9fd496fc-1876-4d5f-aaa2-277002d17adb",
   "metadata": {},
   "source": [
    "# Start HERE"
   ]
  },
  {
   "cell_type": "code",
   "execution_count": 12,
   "id": "48e347d6-3a9f-4008-b9db-d73475693da6",
   "metadata": {
    "tags": []
   },
   "outputs": [
    {
     "name": "stdout",
     "output_type": "stream",
     "text": [
      "Data shape for scenario 1 (615762, 80)\n"
     ]
    }
   ],
   "source": [
    "#Data scenario\n",
    "# 1: all data with ethnicity variable (include all missing values in ethnicity as separate group)\n",
    "# 2: all data without ethnicity variable\n",
    "# 3: filter data based on ethnicity (exclude missing values)\n",
    "\n",
    "scenario = 1 #change it based on the scenario\n",
    "\n",
    "if scenario == 1:\n",
    "    #include all data\n",
    "    allData = masterData\n",
    "    \n",
    "elif scenario == 2:\n",
    "    #Exclude ethnic column\n",
    "    allData = masterData.drop('ethnic_group', axis=1)\n",
    "    \n",
    "elif scenario == 3:\n",
    "    #exclude missing values for ethnic variable\n",
    "    allData = masterData[masterData.ethnic_group!='not_recorded']\n",
    "    \n",
    "allData = allData.reset_index(drop=True)\n",
    "print('Data shape for scenario', str(scenario), allData.shape)\n",
    "\n"
   ]
  },
  {
   "cell_type": "code",
   "execution_count": 13,
   "id": "96cba262-0c24-48b4-9fd3-f96eb52f717a",
   "metadata": {},
   "outputs": [
    {
     "data": {
      "text/plain": [
       "Index(['patid', 'set', 'sex', 'age', 'BMI', 'ethnic_group', 'smokingStatus',\n",
       "       'imd_decile', 'CharlsonScore', 'count_rhinitis', 'count_cardiovascular',\n",
       "       'count_heartfailure', 'count_psoriasis', 'count_anaphylaxis',\n",
       "       'count_diabetes', 'count_ihd', 'count_anxiety', 'count_eczema',\n",
       "       'count_nasalpolyps', 'count_paracetamol', 'count_nsaids',\n",
       "       'count_betablocker', 'PEFStatus', 'EosinophilLevel', 'BTS_step',\n",
       "       'DeviceType', 'PriorEducation', 'average_daily_dose_ICS',\n",
       "       'prescribed_daily_dose_ICS', 'ICS_medication_possesion_ratio', 'numPCS',\n",
       "       'numPCSAsthma', 'numAntibioticsEvents', 'numAntibioticswithLRTI',\n",
       "       'numOCSEvents', 'numOCSwithLRTI', 'numAsthmaAttacks',\n",
       "       'numAcuteRespEvents', 'numHospEvents', 'numAsthmaManagement',\n",
       "       'numAsthmaReview', 'numAsthmaMedReview', 'numAsthmaReviewRCP',\n",
       "       'BMI_cat', 'age_cat', 'average_daily_dose_ICS_cat',\n",
       "       'prescribed_daily_dose_ICS_cat', 'ICS_medication_possesion_ratio_cat',\n",
       "       'numOCS_cat', 'numOCSEvents_cat', 'numOCSwithLRTI_cat',\n",
       "       'numAcuteRespEvents_cat', 'numAntibioticsEvents_cat',\n",
       "       'numAntibioticswithLRTI_cat', 'numAsthmaAttacks_cat',\n",
       "       'numHospEvents_cat', 'numPCS_cat', 'numPCSAsthma_cat',\n",
       "       'numAsthmaManagement_cat', 'numAsthmaReview_cat',\n",
       "       'numAsthmaMedReview_cat', 'numAsthmaReviewRCP_cat', 'rhinitis',\n",
       "       'cardiovascular', 'heartfailure', 'psoriasis', 'anaphylaxis',\n",
       "       'diabetes', 'ihd', 'anxiety', 'eczema', 'nasalpolyps', 'paracetamol',\n",
       "       'nsaids', 'betablocker', 'asthmaPlan', 'outcome_3months',\n",
       "       'outcome_6months', 'outcome_9months', 'outcome_12months'],\n",
       "      dtype='object')"
      ]
     },
     "execution_count": 13,
     "metadata": {},
     "output_type": "execute_result"
    }
   ],
   "source": [
    "allData.columns"
   ]
  },
  {
   "cell_type": "code",
   "execution_count": 14,
   "id": "0d13cdbe-6da3-4607-853f-176ee7a3a34c",
   "metadata": {},
   "outputs": [
    {
     "data": {
      "text/plain": [
       "41"
      ]
     },
     "execution_count": 14,
     "metadata": {},
     "output_type": "execute_result"
    }
   ],
   "source": [
    "features_candidate = ['sex', 'age', 'BMI', 'ethnic_group', 'smokingStatus',\n",
    "       'imd_decile', 'CharlsonScore', 'count_rhinitis', 'count_cardiovascular',\n",
    "       'count_heartfailure', 'count_psoriasis', 'count_anaphylaxis',\n",
    "       'count_diabetes', 'count_ihd', 'count_anxiety', 'count_eczema',\n",
    "       'count_nasalpolyps', 'count_paracetamol', 'count_nsaids',\n",
    "       'count_betablocker', 'PEFStatus', 'EosinophilLevel', 'BTS_step',\n",
    "       'DeviceType', 'PriorEducation', 'average_daily_dose_ICS',\n",
    "       'prescribed_daily_dose_ICS', 'ICS_medication_possesion_ratio', 'numPCS',\n",
    "       'numPCSAsthma', 'numAntibioticsEvents', 'numAntibioticswithLRTI',\n",
    "       'numOCSEvents', 'numOCSwithLRTI', 'numAsthmaAttacks',\n",
    "       'numAcuteRespEvents', 'numHospEvents', 'numAsthmaManagement',\n",
    "       'numAsthmaReview', 'numAsthmaMedReview', 'numAsthmaReviewRCP']\n",
    "len(features_candidate)"
   ]
  },
  {
   "cell_type": "code",
   "execution_count": 15,
   "id": "a1110e82-5ceb-45dc-b6d5-687821b36f49",
   "metadata": {
    "tags": []
   },
   "outputs": [],
   "source": [
    "#Split training set into grid search, cross val, and internal validation\n",
    "\n",
    "trainingData = allData[(allData.set == 'training')] #& (allData.age>=18)\n",
    "gridSearchData, crossValData = train_test_split(trainingData, train_size=0.05, stratify=trainingData['outcome_12months'], random_state=random_state)\n",
    "crossValData, internalEvaluationData = train_test_split(crossValData, test_size=0.215, stratify=crossValData['outcome_12months'],  random_state=random_state)\n",
    "externalEvaluationData = allData[allData.set == 'evaluation']\n",
    "gridSearchData.reset_index(drop=True, inplace=True)\n",
    "crossValData.reset_index(drop=True, inplace=True)\n",
    "internalEvaluationData.reset_index(drop=True, inplace=True)\n",
    "externalEvaluationData = externalEvaluationData.drop_duplicates('patid')\n",
    "externalEvaluationData.reset_index(drop=True, inplace=True)\n"
   ]
  },
  {
   "cell_type": "code",
   "execution_count": 16,
   "id": "2c78dc2c-7d0c-49a2-950e-e50838ee6538",
   "metadata": {},
   "outputs": [],
   "source": [
    "#save data before onehot encoding and scalling\n",
    "sets = [gridSearchData, crossValData, internalEvaluationData, externalEvaluationData]\n",
    "pickle.dump(sets, open('../Clean_data/dataset_2vs1_25102024.sav', 'wb'))"
   ]
  },
  {
   "cell_type": "code",
   "execution_count": null,
   "id": "7cb14714-1e47-47b8-99ca-af24c3e894cc",
   "metadata": {},
   "outputs": [],
   "source": []
  },
  {
   "cell_type": "markdown",
   "id": "e7a9756f-81ea-4691-bcd3-7501e974d61d",
   "metadata": {},
   "source": [
    "# One Hot Encoding"
   ]
  },
  {
   "cell_type": "code",
   "execution_count": 17,
   "id": "c7701170-0e17-4fb5-b175-3525369136e6",
   "metadata": {
    "tags": []
   },
   "outputs": [
    {
     "data": {
      "text/plain": [
       "Index(['patid', 'set', 'sex', 'age', 'BMI', 'count_rhinitis',\n",
       "       'count_cardiovascular', 'count_heartfailure', 'count_psoriasis',\n",
       "       'count_anaphylaxis',\n",
       "       ...\n",
       "       'BTS_step_3', 'BTS_step_4', 'BTS_step_5', 'DeviceType_BAI',\n",
       "       'DeviceType_DPI', 'DeviceType_NEB', 'DeviceType_not recorded',\n",
       "       'DeviceType_pMDI', 'PriorEducation_No', 'PriorEducation_Yes'],\n",
       "      dtype='object', length=128)"
      ]
     },
     "execution_count": 17,
     "metadata": {},
     "output_type": "execute_result"
    }
   ],
   "source": [
    "#onehot encoding for categorical variables\n",
    "onehot_vars = ['BMI_cat', 'ethnic_group', 'smokingStatus', 'imd_decile', 'CharlsonScore',\n",
    "               'PEFStatus', 'EosinophilLevel', 'BTS_step', 'DeviceType',  'PriorEducation',]\n",
    "allData = pd.get_dummies(allData, columns=onehot_vars, dtype='int')\n",
    "allData.columns"
   ]
  },
  {
   "cell_type": "code",
   "execution_count": 18,
   "id": "9257eba9-11c2-49fa-bd0f-4e589edc87b4",
   "metadata": {},
   "outputs": [],
   "source": [
    "gridSearchData = allData.merge(gridSearchData[['patid']], on='patid', how='inner', sort=False)\n",
    "crossValData = allData.merge(crossValData[['patid']], on='patid', how='inner', sort=False)\n",
    "internalEvaluationData = allData.merge(internalEvaluationData[['patid']], on='patid', how='inner', sort=False)\n",
    "externalEvaluationData = allData.merge(externalEvaluationData[['patid']], on='patid', how='inner', sort=False)\n",
    "gridSearchData.reset_index(drop=True, inplace=True)\n",
    "crossValData.reset_index(drop=True, inplace=True)\n",
    "internalEvaluationData.reset_index(drop=True, inplace=True)\n",
    "externalEvaluationData.reset_index(drop=True, inplace=True)"
   ]
  },
  {
   "cell_type": "code",
   "execution_count": 19,
   "id": "a74229f7-f027-4a21-b434-086129767d2a",
   "metadata": {
    "tags": []
   },
   "outputs": [
    {
     "name": "stdout",
     "output_type": "stream",
     "text": [
      "3 months ->  4.6 %\n",
      "6 months ->  6.93 %\n",
      "9 months ->  8.85 %\n",
      "12 months ->  11.51 %\n"
     ]
    }
   ],
   "source": [
    "#Proportion of asthma attack in each outcome - training\n",
    "\n",
    "print('3 months -> ', round(gridSearchData['outcome_3months'].value_counts()[1]/len(gridSearchData)*100,2), '%')\n",
    "print('6 months -> ', round(gridSearchData['outcome_6months'].value_counts()[1]/len(gridSearchData)*100,2), '%')\n",
    "print('9 months -> ', round(gridSearchData['outcome_9months'].value_counts()[1]/len(gridSearchData)*100,2), '%')\n",
    "print('12 months -> ', round(gridSearchData['outcome_12months'].value_counts()[1]/len(gridSearchData)*100,2), '%')\n",
    "# print('3 months -> ', round(trainingData['outcome_3months'].value_counts()[1]/len(trainingData)*100,2), '%')\n",
    "# print('6 months -> ', round(trainingData['outcome_combined_6months'].value_counts()[1]/len(trainingData)*100,2), '%')\n",
    "# print('9 months -> ', round(trainingData['outcome_combined_9months'].value_counts()[1]/len(trainingData)*100,2), '%')\n",
    "# print('12 months -> ', round(trainingData['outcome_combined_12months'].value_counts()[1]/len(trainingData)*100,2), '%')\n",
    "# print('24 months -> ', round(trainingData['outcome_combined_24months'].value_counts()[1]/len(trainingData)*100,2), '%')"
   ]
  },
  {
   "cell_type": "code",
   "execution_count": 20,
   "id": "029a026a-bcd3-42ef-99bb-66a3fa918534",
   "metadata": {
    "tags": []
   },
   "outputs": [
    {
     "name": "stdout",
     "output_type": "stream",
     "text": [
      "3 months ->  4.65 %\n",
      "6 months ->  7.04 %\n",
      "9 months ->  8.91 %\n",
      "12 months ->  11.51 %\n"
     ]
    }
   ],
   "source": [
    "#Proportion of asthma attack in each outcome - validation\n",
    "\n",
    "print('3 months -> ', round(crossValData['outcome_3months'].value_counts()[1]/len(crossValData)*100,2), '%')\n",
    "print('6 months -> ', round(crossValData['outcome_6months'].value_counts()[1]/len(crossValData)*100,2), '%')\n",
    "print('9 months -> ', round(crossValData['outcome_9months'].value_counts()[1]/len(crossValData)*100,2), '%')\n",
    "print('12 months -> ', round(crossValData['outcome_12months'].value_counts()[1]/len(crossValData)*100,2), '%')\n",
    "# print('3 months -> ', round(validationData['outcome_3months'].value_counts()[1]/len(validationData)*100,2), '%')\n",
    "# print('6 months -> ', round(validationData['outcome_combined_6months'].value_counts()[1]/len(validationData)*100,2), '%')\n",
    "# print('9 months -> ', round(validationData['outcome_combined_9months'].value_counts()[1]/len(validationData)*100,2), '%')\n",
    "# print('12 months -> ', round(validationData['outcome_combined_12months'].value_counts()[1]/len(validationData)*100,2), '%')\n",
    "# print('24 months -> ', round(validationData['outcome_combined_24months'].value_counts()[1]/len(validationData)*100,2), '%')"
   ]
  },
  {
   "cell_type": "code",
   "execution_count": 21,
   "id": "6d109ff0-917b-4bdd-b3e2-6249af187209",
   "metadata": {},
   "outputs": [
    {
     "name": "stdout",
     "output_type": "stream",
     "text": [
      "3 months ->  4.61 %\n",
      "6 months ->  7.0 %\n",
      "9 months ->  8.88 %\n",
      "12 months ->  11.51 %\n"
     ]
    }
   ],
   "source": [
    "#Proportion of asthma attack in each outcome - internalEvaluation\n",
    "\n",
    "print('3 months -> ', round(internalEvaluationData['outcome_3months'].value_counts()[1]/len(internalEvaluationData)*100,2), '%')\n",
    "print('6 months -> ', round(internalEvaluationData['outcome_6months'].value_counts()[1]/len(internalEvaluationData)*100,2), '%')\n",
    "print('9 months -> ', round(internalEvaluationData['outcome_9months'].value_counts()[1]/len(internalEvaluationData)*100,2), '%')\n",
    "print('12 months -> ', round(internalEvaluationData['outcome_12months'].value_counts()[1]/len(internalEvaluationData)*100,2), '%')"
   ]
  },
  {
   "cell_type": "code",
   "execution_count": 22,
   "id": "165292fd-2b9c-46b8-9e19-98906df0691a",
   "metadata": {},
   "outputs": [
    {
     "name": "stdout",
     "output_type": "stream",
     "text": [
      "3 months ->  6.15 %\n",
      "6 months ->  9.61 %\n",
      "9 months ->  12.11 %\n",
      "12 months ->  15.58 %\n"
     ]
    }
   ],
   "source": [
    "\n",
    "#Proportion of asthma attack in each outcome - internalEvaluation\n",
    "\n",
    "print('3 months -> ', round(externalEvaluationData['outcome_3months'].value_counts()[1]/len(externalEvaluationData)*100,2), '%')\n",
    "print('6 months -> ', round(externalEvaluationData['outcome_6months'].value_counts()[1]/len(externalEvaluationData)*100,2), '%')\n",
    "print('9 months -> ', round(externalEvaluationData['outcome_9months'].value_counts()[1]/len(externalEvaluationData)*100,2), '%')\n",
    "print('12 months -> ', round(externalEvaluationData['outcome_12months'].value_counts()[1]/len(externalEvaluationData)*100,2), '%')"
   ]
  },
  {
   "cell_type": "code",
   "execution_count": 23,
   "id": "883b1ad8-1754-42bf-9a66-77de63262ec1",
   "metadata": {},
   "outputs": [
    {
     "name": "stdout",
     "output_type": "stream",
     "text": [
      "Grid search size: (29795, 128)\n",
      "Cross val size: (444393, 128)\n",
      "Internal val size: (121714, 128)\n",
      "External val size: (19860, 128)\n"
     ]
    }
   ],
   "source": [
    "print(f'Grid search size: {gridSearchData.shape}')\n",
    "print(f'Cross val size: {crossValData.shape}')\n",
    "print(f'Internal val size: {internalEvaluationData.shape}')\n",
    "print(f'External val size: {externalEvaluationData.shape}')"
   ]
  },
  {
   "cell_type": "code",
   "execution_count": 24,
   "id": "4ce85eb7-ba5c-4171-9ade-60173e7386c4",
   "metadata": {
    "tags": []
   },
   "outputs": [],
   "source": [
    "#Save one-hot encoded data\n",
    "\n",
    "sets = [gridSearchData, crossValData, internalEvaluationData, externalEvaluationData]\n",
    "pickle.dump(sets, open('../Clean_data/dataset_onehotencoded_2vs1_25102024.sav', 'wb'))"
   ]
  },
  {
   "cell_type": "markdown",
   "id": "34c2cc76-dba2-4570-9447-a3e80fa3bdbf",
   "metadata": {},
   "source": [
    "# Cont Var Scalling"
   ]
  },
  {
   "cell_type": "code",
   "execution_count": 25,
   "id": "d1084df9-b834-4509-bd40-8d1de06b5149",
   "metadata": {},
   "outputs": [
    {
     "data": {
      "text/plain": [
       "array(['patid', 'set', 'sex', 'age', 'BMI', 'count_rhinitis',\n",
       "       'count_cardiovascular', 'count_heartfailure', 'count_psoriasis',\n",
       "       'count_anaphylaxis', 'count_diabetes', 'count_ihd',\n",
       "       'count_anxiety', 'count_eczema', 'count_nasalpolyps',\n",
       "       'count_paracetamol', 'count_nsaids', 'count_betablocker',\n",
       "       'average_daily_dose_ICS', 'prescribed_daily_dose_ICS',\n",
       "       'ICS_medication_possesion_ratio', 'numPCS', 'numPCSAsthma',\n",
       "       'numAntibioticsEvents', 'numAntibioticswithLRTI', 'numOCSEvents',\n",
       "       'numOCSwithLRTI', 'numAsthmaAttacks', 'numAcuteRespEvents',\n",
       "       'numHospEvents', 'numAsthmaManagement', 'numAsthmaReview',\n",
       "       'numAsthmaMedReview', 'numAsthmaReviewRCP', 'age_cat',\n",
       "       'average_daily_dose_ICS_cat', 'prescribed_daily_dose_ICS_cat',\n",
       "       'ICS_medication_possesion_ratio_cat', 'numOCS_cat',\n",
       "       'numOCSEvents_cat', 'numOCSwithLRTI_cat', 'numAcuteRespEvents_cat',\n",
       "       'numAntibioticsEvents_cat', 'numAntibioticswithLRTI_cat',\n",
       "       'numAsthmaAttacks_cat', 'numHospEvents_cat', 'numPCS_cat',\n",
       "       'numPCSAsthma_cat', 'numAsthmaManagement_cat',\n",
       "       'numAsthmaReview_cat', 'numAsthmaMedReview_cat',\n",
       "       'numAsthmaReviewRCP_cat', 'rhinitis', 'cardiovascular',\n",
       "       'heartfailure', 'psoriasis', 'anaphylaxis', 'diabetes', 'ihd',\n",
       "       'anxiety', 'eczema', 'nasalpolyps', 'paracetamol', 'nsaids',\n",
       "       'betablocker', 'asthmaPlan', 'outcome_3months', 'outcome_6months',\n",
       "       'outcome_9months', 'outcome_12months', 'BMI_cat_normal',\n",
       "       'BMI_cat_not recorded', 'BMI_cat_obese', 'BMI_cat_overweight',\n",
       "       'BMI_cat_underweight', 'ethnic_group_Asian', 'ethnic_group_Black',\n",
       "       'ethnic_group_Mixed', 'ethnic_group_Other', 'ethnic_group_White',\n",
       "       'ethnic_group_not recorded', 'smokingStatus_current',\n",
       "       'smokingStatus_former', 'smokingStatus_never', 'imd_decile_0',\n",
       "       'imd_decile_1', 'imd_decile_2', 'imd_decile_3', 'imd_decile_4',\n",
       "       'imd_decile_5', 'imd_decile_6', 'imd_decile_7', 'imd_decile_8',\n",
       "       'imd_decile_9', 'imd_decile_10', 'CharlsonScore_0.0',\n",
       "       'CharlsonScore_1.0', 'CharlsonScore_2.0', 'CharlsonScore_3.0',\n",
       "       'CharlsonScore_4.0', 'CharlsonScore_5.0', 'CharlsonScore_6.0',\n",
       "       'CharlsonScore_7.0', 'CharlsonScore_8.0', 'CharlsonScore_9.0',\n",
       "       'CharlsonScore_10.0', 'CharlsonScore_11.0', 'CharlsonScore_12.0',\n",
       "       'PEFStatus_60-80', 'PEFStatus_less than 60',\n",
       "       'PEFStatus_more than 80', 'PEFStatus_not recorded',\n",
       "       'EosinophilLevel_high', 'EosinophilLevel_normal',\n",
       "       'EosinophilLevel_not recorded', 'BTS_step_0', 'BTS_step_1',\n",
       "       'BTS_step_2', 'BTS_step_3', 'BTS_step_4', 'BTS_step_5',\n",
       "       'DeviceType_BAI', 'DeviceType_DPI', 'DeviceType_NEB',\n",
       "       'DeviceType_not recorded', 'DeviceType_pMDI', 'PriorEducation_No',\n",
       "       'PriorEducation_Yes'], dtype=object)"
      ]
     },
     "execution_count": 25,
     "metadata": {},
     "output_type": "execute_result"
    }
   ],
   "source": [
    "allData.columns.values"
   ]
  },
  {
   "cell_type": "code",
   "execution_count": 26,
   "id": "f6fd6e87-b1a8-4419-b93e-be1aebf5bb77",
   "metadata": {},
   "outputs": [
    {
     "data": {
      "text/plain": [
       "17"
      ]
     },
     "execution_count": 26,
     "metadata": {},
     "output_type": "execute_result"
    }
   ],
   "source": [
    "continuous_vars = ['age', 'average_daily_dose_ICS', 'prescribed_daily_dose_ICS',\n",
    "                   'ICS_medication_possesion_ratio', 'numPCS', 'numPCSAsthma',\n",
    "                   'numAntibioticsEvents', 'numAntibioticswithLRTI', 'numOCSEvents',\n",
    "                   'numOCSwithLRTI', 'numAsthmaAttacks', 'numAcuteRespEvents',\n",
    "                   'numHospEvents', 'numAsthmaManagement', 'numAsthmaReview',\n",
    "                   'numAsthmaMedReview', 'numAsthmaReviewRCP',]\n",
    "len(continuous_vars)"
   ]
  },
  {
   "cell_type": "code",
   "execution_count": 27,
   "id": "fd1a28e0-3029-4ced-a4a2-16195934702a",
   "metadata": {
    "tags": []
   },
   "outputs": [
    {
     "name": "stdout",
     "output_type": "stream",
     "text": [
      "Data shape after scaling:  (29795, 128)\n"
     ]
    }
   ],
   "source": [
    "#Data normalisation for continous variable into 0-1 range based on gridSearch set\n",
    "\n",
    "# define scaler\n",
    "scaler = MinMaxScaler()\n",
    "data_scaled = scaler.fit_transform(gridSearchData[continuous_vars])\n",
    "pickle.dump(scaler, open('../Models/cont_scaler.pkl', 'wb'))\n",
    "\n",
    "\n",
    "data_scaled = pd.DataFrame(data_scaled, columns=scaler.get_feature_names_out())\n",
    "gridSearchData = pd.concat([gridSearchData.drop(continuous_vars, axis=1), data_scaled], axis=1)\n",
    "\n",
    "print('Data shape after scaling: ', gridSearchData.shape)"
   ]
  },
  {
   "cell_type": "code",
   "execution_count": 28,
   "id": "def13feb-0286-4dac-93dc-6dff6f85a223",
   "metadata": {
    "tags": []
   },
   "outputs": [
    {
     "name": "stdout",
     "output_type": "stream",
     "text": [
      "Val data shape after scaling:  (444393, 128)\n",
      "Eval data shape after scaling:  (121714, 128)\n",
      "Evaluation data Wales shape:  (19860, 128)\n"
     ]
    }
   ],
   "source": [
    "#Normalisation for other sets\n",
    "\n",
    "scaler = pickle.load(open('../Models/cont_scaler.pkl', 'rb'))\n",
    "data_val_scaled = scaler.transform(crossValData[continuous_vars])\n",
    "data_internal_eval_scaled = scaler.transform(internalEvaluationData[continuous_vars])\n",
    "data_external_eval_scaled = scaler.transform(externalEvaluationData[continuous_vars])\n",
    "\n",
    "data_val_scaled = pd.DataFrame(data_val_scaled, columns=scaler.get_feature_names_out())\n",
    "crossValData = pd.concat([crossValData.drop(continuous_vars, axis=1), data_val_scaled], axis=1)\n",
    "\n",
    "data_internal_eval_scaled = pd.DataFrame(data_internal_eval_scaled, columns=scaler.get_feature_names_out())\n",
    "internalEvaluationData = pd.concat([internalEvaluationData.drop(continuous_vars, axis=1), data_internal_eval_scaled], axis=1)\n",
    "\n",
    "data_external_eval_scaled = pd.DataFrame(data_external_eval_scaled, columns=scaler.get_feature_names_out())\n",
    "externalEvaluationData = pd.concat([externalEvaluationData.drop(continuous_vars, axis=1), data_external_eval_scaled], axis=1)\n",
    "\n",
    "\n",
    "print('Val data shape after scaling: ', crossValData.shape)\n",
    "print('Eval data shape after scaling: ', internalEvaluationData.shape)\n",
    "print('Evaluation data Wales shape: ', externalEvaluationData.shape)"
   ]
  },
  {
   "cell_type": "code",
   "execution_count": 29,
   "id": "f81e0adc-7a4b-4e28-852c-811c20125656",
   "metadata": {
    "tags": []
   },
   "outputs": [
    {
     "name": "stdout",
     "output_type": "stream",
     "text": [
      "Features size:  87\n",
      "['sex', 'rhinitis', 'cardiovascular', 'heartfailure', 'psoriasis', 'anaphylaxis', 'diabetes', 'ihd', 'anxiety', 'eczema', 'nasalpolyps', 'asthmaPlan', 'BMI_cat_normal', 'BMI_cat_not recorded', 'BMI_cat_obese', 'BMI_cat_overweight', 'BMI_cat_underweight', 'ethnic_group_Asian', 'ethnic_group_Black', 'ethnic_group_Mixed', 'ethnic_group_Other', 'ethnic_group_White', 'ethnic_group_not recorded', 'smokingStatus_current', 'smokingStatus_former', 'smokingStatus_never', 'imd_decile_0', 'imd_decile_1', 'imd_decile_2', 'imd_decile_3', 'imd_decile_4', 'imd_decile_5', 'imd_decile_6', 'imd_decile_7', 'imd_decile_8', 'imd_decile_9', 'imd_decile_10', 'CharlsonScore_0.0', 'CharlsonScore_1.0', 'CharlsonScore_2.0', 'CharlsonScore_3.0', 'CharlsonScore_4.0', 'CharlsonScore_5.0', 'CharlsonScore_6.0', 'CharlsonScore_7.0', 'CharlsonScore_8.0', 'CharlsonScore_9.0', 'CharlsonScore_10.0', 'CharlsonScore_11.0', 'CharlsonScore_12.0', 'PEFStatus_60-80', 'PEFStatus_less than 60', 'PEFStatus_more than 80', 'PEFStatus_not recorded', 'EosinophilLevel_high', 'EosinophilLevel_normal', 'EosinophilLevel_not recorded', 'BTS_step_0', 'BTS_step_1', 'BTS_step_2', 'BTS_step_3', 'BTS_step_4', 'BTS_step_5', 'DeviceType_BAI', 'DeviceType_DPI', 'DeviceType_NEB', 'DeviceType_not recorded', 'DeviceType_pMDI', 'PriorEducation_No', 'PriorEducation_Yes', 'age', 'average_daily_dose_ICS', 'prescribed_daily_dose_ICS', 'ICS_medication_possesion_ratio', 'numPCS', 'numPCSAsthma', 'numAntibioticsEvents', 'numAntibioticswithLRTI', 'numOCSEvents', 'numOCSwithLRTI', 'numAsthmaAttacks', 'numAcuteRespEvents', 'numHospEvents', 'numAsthmaManagement', 'numAsthmaReview', 'numAsthmaMedReview', 'numAsthmaReviewRCP']\n"
     ]
    }
   ],
   "source": [
    "#Define feature candidates\n",
    "\n",
    "features_columns = gridSearchData.columns.to_list()\n",
    "exclude_columns = ['patid', 'practice_id', 'set', #identifier\n",
    "                   'BMI', #use the categorical instead\n",
    "                   'ethnicity', #use ethnic_group instead\n",
    "                   'Spacer',  #all zero\n",
    "                   \n",
    "                   'outcome_3months', 'outcome_6months', 'outcome_9months', 'outcome_12months', 'outcome_15months', 'outcome_18months', \n",
    "                   'outcome_21months', 'outcome_24months', 'outcome_combined_6months', 'outcome_combined_9months', 'outcome_combined_12months', \n",
    "                   'outcome_combined_15months', 'outcome_combined_18months', 'outcome_combined_24months', '3months', '6months', '12months', '24months', #outcomes variable\n",
    "                   \n",
    "                   'postcode_district', 'County', 'LocalAuthority', 'OutputAreaClassification', #location related variables, use IMD decile only\n",
    "                   \n",
    "                   'age_cat', 'ICS_medication_possesion_ratio_cat', 'numOCS_cat', 'numOCSEvents_cat', 'numOCSwithLRTI_cat', 'numAcuteRespEvents_cat', \n",
    "                   'numAntibioticsEvents_cat', 'numAntibioticswithLRTI_cat', 'numAsthmaAttacks_cat', 'numHospEvents_cat', 'numPCS_cat', 'numPCSAsthma_cat', \n",
    "                   'numAsthmaManagement_cat', 'numAsthmaReview_cat', 'numAsthmaMedReview_cat', 'numAsthmaReviewRCP_cat', 'average_daily_dose_ICS_cat', \n",
    "                   'prescribed_daily_dose_ICS_cat', #use continous vars instead\n",
    "                   \n",
    "                   'count_rhinitis', 'count_cardiovascular', 'count_heartfailure',\n",
    "                   'count_psoriasis', 'count_anaphylaxis', 'count_diabetes', 'count_ihd',\n",
    "                   'count_anxiety', 'count_eczema', 'count_nasalpolyps',\n",
    "                   'count_paracetamol', 'count_nsaids', 'count_betablocker', #use binary ones\n",
    "                   \n",
    "                   'paracetamol', 'nsaids', 'betablocker', #no data in evaluation\n",
    "                                      \n",
    "                  ]\n",
    "# exclude_columns = exclude_columns + [x for x in features_columns if '_count' in x] #filter out commorbid count variables\n",
    "features_columns = [x for x in features_columns if x not in exclude_columns]\n",
    "print('Features size: ', len(features_columns))\n",
    "print(features_columns)"
   ]
  },
  {
   "cell_type": "code",
   "execution_count": 30,
   "id": "4caf0aab-7dee-4a07-b3c9-d986448653e2",
   "metadata": {
    "tags": []
   },
   "outputs": [
    {
     "name": "stdout",
     "output_type": "stream",
     "text": [
      "[]\n",
      "[]\n",
      "[]\n",
      "[]\n",
      "[]\n"
     ]
    }
   ],
   "source": [
    "#make sure no data leak between sets\n",
    "print(list(set(gridSearchData.patid.values).intersection(set(crossValData.patid.values))))\n",
    "print(list(set(gridSearchData.patid.values).intersection(set(internalEvaluationData.patid.values))))\n",
    "print(list(set(crossValData.patid.values).intersection(set(internalEvaluationData.patid.values))))\n",
    "print(list(set(crossValData.patid.values).intersection(set(externalEvaluationData.patid.values))))\n",
    "print(list(set(gridSearchData.patid.values).intersection(set(externalEvaluationData.patid.values))))\n"
   ]
  },
  {
   "cell_type": "code",
   "execution_count": 31,
   "id": "ba3d9a9b-16e9-475f-aed6-ce583f15ba5a",
   "metadata": {
    "tags": []
   },
   "outputs": [],
   "source": [
    "#Save encoded data\n",
    "# trainingData.to_csv('../FinalData/trainingDataEncoded_2vs1_16112023.csv', index_label=False, index=False)\n",
    "# validationData.to_csv('../FinalData/validationDataEncoded_2vs1_16112023.csv', index_label=False, index=False)\n",
    "# internalEvaluationData.to_csv('../FinalData/internalEvaluationDataEncoded_2vs1_16112023.csv', index_label=False, index=False)\n",
    "# evaluationData.to_csv('../FinalData/evaluationDataEncoded_2vs1_16112023.csv', index_label=False, index=False)\n",
    "# evaluationDataWales.to_csv('../FinalData/evaluationDataWalesEncoded_2vs1_16112023.csv', index_label=False, index=False)\n",
    "# evaluationDataScotland.to_csv('../FinalData/evaluationDataScotlandEncoded_2vs1_16112023.csv', index_label=False, index=False)\n",
    "sets = [gridSearchData, crossValData, internalEvaluationData, externalEvaluationData]\n",
    "pickle.dump(sets, open('../Clean_data/dataset_scaled_2vs1_25102024.sav', 'wb'))"
   ]
  },
  {
   "cell_type": "code",
   "execution_count": null,
   "id": "435a3d2a-7c7e-4aac-a76f-8769d8082fcb",
   "metadata": {},
   "outputs": [],
   "source": []
  },
  {
   "cell_type": "code",
   "execution_count": null,
   "id": "2f3927f4-8f4a-4e03-a2f4-637de3a72b3a",
   "metadata": {},
   "outputs": [],
   "source": []
  }
 ],
 "metadata": {
  "kernelspec": {
   "display_name": "Python 3 (ipykernel)",
   "language": "python",
   "name": "python3"
  },
  "language_info": {
   "codemirror_mode": {
    "name": "ipython",
    "version": 3
   },
   "file_extension": ".py",
   "mimetype": "text/x-python",
   "name": "python",
   "nbconvert_exporter": "python",
   "pygments_lexer": "ipython3",
   "version": "3.10.14"
  }
 },
 "nbformat": 4,
 "nbformat_minor": 5
}
