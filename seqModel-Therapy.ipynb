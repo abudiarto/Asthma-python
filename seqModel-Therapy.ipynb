{
 "cells": [
  {
   "cell_type": "markdown",
   "id": "cc8032a7-260b-40a8-8cbe-e292ab403047",
   "metadata": {},
   "source": [
    "# LSTM Model using Therapy sequence"
   ]
  },
  {
   "cell_type": "code",
   "execution_count": 30,
   "id": "ae1286de-3d50-4eb3-b3c7-a4404748f00b",
   "metadata": {
    "tags": []
   },
   "outputs": [],
   "source": [
    "import tensorflow as tf\n",
    "from tensorflow.keras.datasets import imdb\n",
    "from tensorflow.keras.models import Sequential\n",
    "from tensorflow.keras.layers import Dense, LSTM, Embedding, Dropout\n",
    "from tensorflow.keras.preprocessing import sequence\n",
    "from tensorflow.keras.callbacks import EarlyStopping, ModelCheckpoint, ReduceLROnPlateau\n",
    "from tensorflow.keras.metrics import AUC, SensitivityAtSpecificity\n",
    "from tensorflow.keras.optimizers import Adam, Adagrad, RMSprop\n",
    "#internal validation\n",
    "from sklearn.model_selection import train_test_split\n",
    "from sklearn.metrics import confusion_matrix, classification_report, f1_score, balanced_accuracy_score, matthews_corrcoef, auc, average_precision_score, roc_auc_score, balanced_accuracy_score, roc_curve, accuracy_score\n",
    "\n",
    "import matplotlib.pyplot as plt\n",
    "\n",
    "import numpy as np\n",
    "import pandas as pd\n",
    "import pickle\n",
    "\n",
    "# fix random seed for reproducibility\n",
    "tf.random.set_seed(1234)\n",
    "\n",
    "target_outcome = 'outcome_combined_12months'\n",
    "max_codes = 50"
   ]
  },
  {
   "cell_type": "code",
   "execution_count": 31,
   "id": "99d66269-80cc-4450-9432-b75bcb598efb",
   "metadata": {
    "tags": []
   },
   "outputs": [
    {
     "data": {
      "text/plain": [
       "6021"
      ]
     },
     "execution_count": 31,
     "metadata": {},
     "output_type": "execute_result"
    }
   ],
   "source": [
    "# load the dataset but only keep the top n words, zero the rest\n",
    "data = pickle.load(open('../SeqModel/data_therapy.sav', 'rb'))\n",
    "code2idx = pickle.load(open('../SeqModel/code2idx_therapy.sav', 'rb'))\n",
    "idx2code = pickle.load(open('../SeqModel/idx2code_therapy.sav', 'rb'))\n",
    "\n",
    "vocab_size = len(code2idx)\n",
    "vocab_size"
   ]
  },
  {
   "cell_type": "code",
   "execution_count": 32,
   "id": "23098e77-76c5-422c-bdbd-a0152e9876c4",
   "metadata": {
    "tags": []
   },
   "outputs": [],
   "source": [
    "# #Data split conventional (mixed countries)\n",
    "# trainingData, testData = train_test_split(data, test_size=0.1, stratify=data[target_outcome], random_state=1234)\n",
    "# trainingData, valData = train_test_split(trainingData, test_size=0.2, stratify=trainingData[target_outcome], random_state=1234)\n",
    "# print(trainingData.shape)\n",
    "# print(valData.shape)\n",
    "# print(testData.shape)"
   ]
  },
  {
   "cell_type": "code",
   "execution_count": 33,
   "id": "9d0d0809-4055-42b9-a738-5438011b7eb4",
   "metadata": {
    "tags": []
   },
   "outputs": [],
   "source": [
    "#Data split, train=England, eval=Scot+Wales\n",
    "trainingData = data[(data.Country == 'England') & (data.age >= 18)]\n",
    "trainingData, valData = train_test_split(trainingData, test_size=0.2, stratify=trainingData[target_outcome], random_state=1234)\n",
    "trainingData, evalData = train_test_split(trainingData, test_size=0.2, stratify=trainingData[target_outcome], random_state=1234)\n",
    "testData = data[((data.Country == 'Wales') | (data.Country == 'Scotland')) & (data.age >= 18)]\n",
    "testDataWales = data[(data.Country == 'Wales') & (data.age >= 18)]\n",
    "testDataScotland = data[(data.Country == 'Scotland') & (data.age >= 18)]"
   ]
  },
  {
   "cell_type": "code",
   "execution_count": 34,
   "id": "9f157bd3-b8a1-47e5-b6de-3e4f7d466bb5",
   "metadata": {
    "tags": []
   },
   "outputs": [
    {
     "name": "stdout",
     "output_type": "stream",
     "text": [
      "Train:  9679\n",
      "Val:  3025\n",
      "Eval (internal validation):  2420\n",
      "Test:  1263\n",
      "Test - Wales:  844\n",
      "Test - Scotland:  419\n"
     ]
    }
   ],
   "source": [
    "print('Train: ', trainingData.shape[0])\n",
    "print('Val: ', valData.shape[0])\n",
    "print('Eval (internal validation): ', evalData.shape[0])\n",
    "print('Test: ', testData.shape[0])\n",
    "print('Test - Wales: ', testDataWales.shape[0])\n",
    "print('Test - Scotland: ', testDataScotland.shape[0])"
   ]
  },
  {
   "cell_type": "code",
   "execution_count": 35,
   "id": "bdf217de-6216-4a7d-b8ef-705c69fb52cf",
   "metadata": {
    "tags": []
   },
   "outputs": [
    {
     "name": "stdout",
     "output_type": "stream",
     "text": [
      "(9679,)\n",
      "(9679, 14)\n"
     ]
    }
   ],
   "source": [
    "print(trainingData.patid.unique().shape)\n",
    "print(trainingData.shape)"
   ]
  },
  {
   "cell_type": "code",
   "execution_count": 36,
   "id": "a8913a7a-5e44-4359-85a4-5e4bdf6501c7",
   "metadata": {
    "tags": []
   },
   "outputs": [
    {
     "name": "stdout",
     "output_type": "stream",
     "text": [
      "[]\n",
      "[]\n",
      "[]\n",
      "[]\n",
      "[]\n",
      "[43487233, 43487235, 43464708, 43378699, 43139096, 43378721, 43165731, 43487269, 43165746, 43325496, 43311166, 43464772, 43227211, 43378773, 43311191, 43339865, 43139165, 43284586, 43374709, 43139214, 43315349, 43165847, 43430042, 43442340, 43145381, 43327661, 43350191, 43491513, 43315386, 43135161, 43145404, 43253954, 43430083, 43190477, 43339982, 43190478, 43253966, 43303126, 43423963, 43430108, 43426012, 43317488, 43340029, 43317502, 43190531, 43317508, 43204870, 43491591, 43340044, 43317518, 43430159, 43190548, 43317526, 43208987, 43315486, 43317538, 43208998, 43317543, 43209011, 43430199, 43430210, 43413830, 43489611, 43340108, 43209038, 43340118, 43477336, 43491683, 43272551, 43413865, 43342206, 43413898, 43336077, 43209102, 43342222, 43489683, 43426195, 43489687, 43188637, 43491760, 43262384, 43145648, 43262393, 43426234, 43420103, 43336137, 43426256, 43373014, 43188697, 43188698, 43491804, 43426270, 43373023, 43489770, 43416050, 43336187, 43188732, 43354623, 43188737, 43416074, 43205133, 43336208, 43145745, 43426324, 43420181, 43334167, 43348507, 43137590, 43334201, 43225657, 43141693, 43188798, 43422271, 43221570, 43201099, 43334223, 43141712, 43205204, 43141717, 43201115, 43141724, 43139682, 43201124, 43137642, 43205226, 43205230, 43446898, 43137653, 43420278, 43446903, 43227772, 43221631, 43201160, 43305611, 43221657, 43381406, 43446951, 43446952, 43137715, 43221684, 43137725, 43334334, 43229886, 43305665, 43446982, 43305679, 43408084, 43447001, 43221722, 43221726, 43408102, 43375338, 43125484, 43229934, 43444976, 43447031, 43383544, 43447038, 43143934, 43143938, 43307779, 43467524, 43283205, 43264772, 43496205, 43383569, 43143956, 43191061, 43275032, 43332380, 43264796, 43275038, 43229988, 43275048, 43166506, 43143980, 43223860, 43180852, 43223863, 43248444, 43166525, 43469637, 43223884, 43176784, 43326293, 43248471, 43469657, 43311969, 43332458, 43191146, 43176813, 43176816, 43275120, 43463538, 43166580, 43414391, 43248507, 43275133, 43275145, 43322250, 43223947, 43094922, 43344781, 43309965, 43447183, 43463569, 43275156, 43275157, 43322263, 43463575, 43158425, 43180955, 43475872, 43322273, 43340707, 43176870, 43322297, 43287496, 43322322, 43344866, 43463676, 43344894, 43172865, 43179009, 43203589, 43496454, 43144197, 43463689, 43428900, 43346990, 43258927, 43205690, 43254846, 43443263, 43447360, 43344961, 43322437, 43443270, 43347017, 43308107, 43347019, 43426892, 43443278, 43443280, 43308119, 43254875, 43347045, 43447403, 43261036, 43351153, 43254898, 43478133, 43347069, 43205762, 43254917, 43457670, 43347084, 43207853, 43261103, 43261110, 43379896, 43414715, 43461828, 43457746, 43347159, 43410656, 43130099, 43130106, 43103485, 43382013, 43267328, 43130118, 43113735, 43267351, 43136279, 43412762, 43103514, 43267359, 43427108, 43267371, 43144492, 43410742, 43337020, 43136320, 43414861, 43130190, 43330895, 43144532, 43451736, 43378008, 43113822, 43312483, 43412837, 43451773, 43144573, 43451776, 43337095, 43337102, 43412882, 43337111, 43429276, 43259292, 43226530, 43160994, 43167138, 43136422, 43136427, 43425197, 43169205, 43337148, 43265481, 43345357, 43259348, 43339226, 43169244, 43343329, 43169255, 43306489, 43255291, 43169279, 43259395, 43265544, 43265559, 43124248, 43413018, 43124250, 43181599, 43480612, 43181604, 43259431, 43181608, 43429423, 43259451, 43189823, 43140677, 43419215, 43327067, 43306623, 43181700, 43191940, 43349638, 43286154, 43286158, 43286159, 43286168, 43089567, 43271855, 43142845, 43382470, 43257551, 43349714, 43349728, 43175653, 43185893, 43349736, 43323121, 43349748, 43179769, 43470587, 43456259, 43323148, 43165455, 43489041, 43224854, 43261723, 43226914, 43226915, 43464484, 43144996, 43228966, 43323184, 43323192, 43163449, 43253564, 43286338, 43493188, 43464518, 43323226, 43226974, 43226978, 43251554, 43173731, 43226981, 43253602, 43323241, 43304816, 43325303, 43446138, 43145086, 43251585, 43323273, 43491212, 43179916, 43253654, 43464599, 43165591, 43227034, 43202459, 43423654, 43261865, 43173801, 43446192, 43499441, 43423666, 43284403, 43251636, 43227060, 43251641, 43378623, 43372481, 43304898, 43337667, 43491273, 43263961, 43378652, 43339761, 43423730, 43268088, 43378684]\n"
     ]
    }
   ],
   "source": [
    "#make sure no data leak between sets\n",
    "print(list(set(trainingData.patid.values).intersection(set(valData.patid.values))))\n",
    "print(list(set(trainingData.patid.values).intersection(set(evalData.patid.values))))\n",
    "print(list(set(valData.patid.values).intersection(set(evalData.patid.values))))\n",
    "print(list(set(valData.patid.values).intersection(set(testData.patid.values))))\n",
    "print(list(set(trainingData.patid.values).intersection(set(testData.patid.values))))\n",
    "print(list(set(testData.patid.values).intersection(set(testDataScotland.patid.values)))) # here data leak is expected"
   ]
  },
  {
   "cell_type": "code",
   "execution_count": 37,
   "id": "a8ae2fa9-09d0-4bdc-ba46-3abec45b4c66",
   "metadata": {
    "tags": []
   },
   "outputs": [
    {
     "name": "stdout",
     "output_type": "stream",
     "text": [
      "0    0.797603\n",
      "1    0.202397\n",
      "Name: outcome_combined_12months, dtype: float64\n",
      "0    0.797686\n",
      "1    0.202314\n",
      "Name: outcome_combined_12months, dtype: float64\n",
      "0    0.797521\n",
      "1    0.202479\n",
      "Name: outcome_combined_12months, dtype: float64\n",
      "0    0.722882\n",
      "1    0.277118\n",
      "Name: outcome_combined_12months, dtype: float64\n",
      "0    0.720379\n",
      "1    0.279621\n",
      "Name: outcome_combined_12months, dtype: float64\n",
      "0    0.727924\n",
      "1    0.272076\n",
      "Name: outcome_combined_12months, dtype: float64\n"
     ]
    }
   ],
   "source": [
    "print(trainingData[target_outcome].value_counts(normalize=True))\n",
    "print(valData[target_outcome].value_counts(normalize=True))\n",
    "print(evalData[target_outcome].value_counts(normalize=True))\n",
    "print(testData[target_outcome].value_counts(normalize=True))\n",
    "print(testDataWales[target_outcome].value_counts(normalize=True))\n",
    "print(testDataScotland[target_outcome].value_counts(normalize=True))"
   ]
  },
  {
   "cell_type": "code",
   "execution_count": 38,
   "id": "25ed906e-adb2-4c91-b2ef-fb50bd84ba3c",
   "metadata": {
    "tags": []
   },
   "outputs": [],
   "source": [
    "# X and y\n",
    "X_train = np.array(trainingData.read_code_seq_padded_idx.values)\n",
    "X_train = np.array([x for x in X_train])\n",
    "X_val = np.array(valData.read_code_seq_padded_idx.values)\n",
    "X_val = np.array([x for x in X_val])\n",
    "X_eval = np.array(evalData.read_code_seq_padded_idx.values)\n",
    "X_eval = np.array([x for x in X_eval])\n",
    "X_test = np.array(testData.read_code_seq_padded_idx.values)\n",
    "X_test = np.array([x for x in X_test])\n",
    "X_testWales = np.array(testDataWales.read_code_seq_padded_idx.values)\n",
    "X_testWales = np.array([x for x in X_testWales])\n",
    "X_testScotland = np.array(testDataScotland.read_code_seq_padded_idx.values)\n",
    "X_testScotland = np.array([x for x in X_testScotland])\n",
    "\n",
    "y_train = trainingData[target_outcome].values\n",
    "y_val = valData[target_outcome].values\n",
    "y_eval = evalData[target_outcome].values\n",
    "y_test = testData[target_outcome].values\n",
    "y_testWales = testDataWales[target_outcome].values\n",
    "y_testScotland = testDataScotland[target_outcome].values"
   ]
  },
  {
   "cell_type": "code",
   "execution_count": 39,
   "id": "add5e859-7525-40af-966e-02c99c4399af",
   "metadata": {
    "tags": []
   },
   "outputs": [
    {
     "name": "stdout",
     "output_type": "stream",
     "text": [
      "Train:  (9679, 50)\n",
      "Val:  3025\n",
      "Eval (internal validation):  2420\n",
      "Test:  1263\n",
      "Test - Wales:  844\n",
      "Test - Scotland:  419\n"
     ]
    }
   ],
   "source": [
    "print('Train: ', X_train.shape)\n",
    "print('Val: ', X_val.shape[0])\n",
    "print('Eval (internal validation): ', X_eval.shape[0])\n",
    "print('Test: ', X_test.shape[0])\n",
    "print('Test - Wales: ', X_testWales.shape[0])\n",
    "print('Test - Scotland: ', X_testScotland.shape[0])"
   ]
  },
  {
   "cell_type": "code",
   "execution_count": 40,
   "id": "692d48bc-7f2c-49f0-89d3-6ce06ebfb9dd",
   "metadata": {
    "tags": []
   },
   "outputs": [
    {
     "name": "stdout",
     "output_type": "stream",
     "text": [
      "{0: 1, 1: 3.940786115364982}\n"
     ]
    }
   ],
   "source": [
    "pos_weight = trainingData.outcome_combined_12months.value_counts()[0]/trainingData.outcome_combined_12months.value_counts()[1]\n",
    "class_weight = {0:1, 1:pos_weight}\n",
    "print(class_weight)"
   ]
  },
  {
   "cell_type": "code",
   "execution_count": 49,
   "id": "afeed10f-72a8-457d-bfcb-f2662e74bfc6",
   "metadata": {
    "scrolled": true,
    "tags": []
   },
   "outputs": [
    {
     "name": "stdout",
     "output_type": "stream",
     "text": [
      "Model: \"sequential_8\"\n",
      "_________________________________________________________________\n",
      " Layer (type)                Output Shape              Param #   \n",
      "=================================================================\n",
      " embedding_8 (Embedding)     (None, 50, 200)           1204200   \n",
      "                                                                 \n",
      " lstm_16 (LSTM)              (None, 50)                50200     \n",
      "                                                                 \n",
      " dropout_16 (Dropout)        (None, 50)                0         \n",
      "                                                                 \n",
      " dense_16 (Dense)            (None, 32)                1632      \n",
      "                                                                 \n",
      " dense_17 (Dense)            (None, 1)                 33        \n",
      "                                                                 \n",
      "=================================================================\n",
      "Total params: 1256065 (4.79 MB)\n",
      "Trainable params: 1256065 (4.79 MB)\n",
      "Non-trainable params: 0 (0.00 Byte)\n",
      "_________________________________________________________________\n",
      "None\n",
      "Epoch 1/30\n",
      "303/303 [==============================] - 13s 40ms/step - loss: 1.1050 - auc: 0.5253 - val_loss: 0.6875 - val_auc: 0.6236\n",
      "Epoch 2/30\n",
      "  4/303 [..............................] - ETA: 6s - loss: 1.1561 - auc: 0.5084"
     ]
    },
    {
     "name": "stderr",
     "output_type": "stream",
     "text": [
      "/opt/conda/envs/rapids/lib/python3.10/site-packages/keras/src/engine/training.py:3079: UserWarning: You are saving your model as an HDF5 file via `model.save()`. This file format is considered legacy. We recommend using instead the native Keras format, e.g. `model.save('my_model.keras')`.\n",
      "  saving_api.save_model(\n"
     ]
    },
    {
     "name": "stdout",
     "output_type": "stream",
     "text": [
      "303/303 [==============================] - 8s 25ms/step - loss: 1.0886 - auc: 0.6378 - val_loss: 0.6483 - val_auc: 0.6588\n",
      "Epoch 3/30\n",
      "303/303 [==============================] - 7s 22ms/step - loss: 1.0312 - auc: 0.6780 - val_loss: 0.6327 - val_auc: 0.6801\n",
      "Epoch 4/30\n",
      "303/303 [==============================] - 6s 21ms/step - loss: 0.9888 - auc: 0.7125 - val_loss: 0.6223 - val_auc: 0.6859\n",
      "Epoch 5/30\n",
      "303/303 [==============================] - 7s 22ms/step - loss: 0.9680 - auc: 0.7284 - val_loss: 0.6142 - val_auc: 0.6847\n",
      "Epoch 6/30\n",
      "303/303 [==============================] - 7s 23ms/step - loss: 0.9604 - auc: 0.7342 - val_loss: 0.6243 - val_auc: 0.6836\n",
      "Epoch 7/30\n",
      "303/303 [==============================] - 7s 23ms/step - loss: 0.9469 - auc: 0.7452 - val_loss: 0.6191 - val_auc: 0.6800\n",
      "Epoch 8/30\n",
      "303/303 [==============================] - 7s 23ms/step - loss: 0.9378 - auc: 0.7520 - val_loss: 0.6277 - val_auc: 0.6752\n",
      "Epoch 9/30\n",
      "303/303 [==============================] - 7s 22ms/step - loss: 0.9355 - auc: 0.7538 - val_loss: 0.6168 - val_auc: 0.6704\n",
      "Epoch 10/30\n",
      "303/303 [==============================] - 7s 23ms/step - loss: 0.9261 - auc: 0.7599 - val_loss: 0.6665 - val_auc: 0.6696\n",
      "Epoch 11/30\n",
      "303/303 [==============================] - 7s 23ms/step - loss: 0.9205 - auc: 0.7641 - val_loss: 0.6536 - val_auc: 0.6713\n",
      "Epoch 12/30\n",
      "303/303 [==============================] - 7s 22ms/step - loss: 0.9168 - auc: 0.7684 - val_loss: 0.6040 - val_auc: 0.6622\n",
      "Epoch 13/30\n",
      "303/303 [==============================] - 7s 22ms/step - loss: 0.9094 - auc: 0.7720 - val_loss: 0.6295 - val_auc: 0.6710\n",
      "Epoch 14/30\n",
      "303/303 [==============================] - 7s 22ms/step - loss: 0.9065 - auc: 0.7736 - val_loss: 0.6791 - val_auc: 0.6675\n",
      "CPU times: user 3min 26s, sys: 57.7 s, total: 4min 23s\n",
      "Wall time: 1min 42s\n"
     ]
    }
   ],
   "source": [
    "%%time\n",
    "\n",
    "# create the model\n",
    "embedding_vector_length = 200\n",
    "earlyStopping = EarlyStopping(monitor='val_auc', patience=10, verbose=0, mode='max', restore_best_weights=True)\n",
    "mcp_save = ModelCheckpoint('../SeqModel/seqModel_therapy.mdl_wts.hdf5', save_best_only=True, monitor='val_auc', mode='min')\n",
    "\n",
    "with tf.device('/CPU:0'):\n",
    "    model = Sequential()\n",
    "    model.add(Embedding(vocab_size, embedding_vector_length, input_length=max_codes))\n",
    "    # model.add(LSTM(50, return_sequences=True))\n",
    "    # model.add(Dropout(0.5))\n",
    "    model.add(LSTM(50))\n",
    "    model.add(Dropout(0.5))\n",
    "    model.add(Dense(32, activation='relu'))\n",
    "    model.add(Dense(1, activation='sigmoid'))\n",
    "    opt = RMSprop(learning_rate=0.0001)\n",
    "    metrics = [\n",
    "        AUC(num_thresholds=4000, name='auc'),\n",
    "    ]\n",
    "    model.compile(loss='binary_crossentropy', optimizer=opt, metrics=metrics, )\n",
    "    print(model.summary())\n",
    "    history = model.fit(X_train, y_train, validation_data=(X_val, y_val), epochs=30, batch_size=32, class_weight = class_weight, callbacks = [earlyStopping, mcp_save])"
   ]
  },
  {
   "cell_type": "code",
   "execution_count": 52,
   "id": "fdbddf77-c941-48d2-9bbd-b80b77d85e5b",
   "metadata": {
    "tags": []
   },
   "outputs": [
    {
     "name": "stdout",
     "output_type": "stream",
     "text": [
      "dict_keys(['loss', 'auc', 'val_loss', 'val_auc'])\n"
     ]
    },
    {
     "data": {
      "image/png": "[encoded data removed]",
      "text/plain": [
       "<Figure size 640x480 with 1 Axes>"
      ]
     },
     "metadata": {},
     "output_type": "display_data"
    },
    {
     "data": {
      "image/png": "[encoded data removed]",
      "text/plain": [
       "<Figure size 640x480 with 1 Axes>"
      ]
     },
     "metadata": {},
     "output_type": "display_data"
    }
   ],
   "source": [
    "# list all data in history\n",
    "print(history.history.keys())\n",
    "# summarize history for accuracy\n",
    "plt.plot(history.history['auc'])\n",
    "plt.plot(history.history['val_auc'])\n",
    "plt.title('model AUC')\n",
    "plt.ylabel('AUC')\n",
    "plt.xlabel('epoch')\n",
    "plt.legend(['train', 'test'], loc='upper left')\n",
    "plt.show()\n",
    "# summarize history for loss\n",
    "plt.plot(history.history['loss'])\n",
    "plt.plot(history.history['val_loss'])\n",
    "plt.title('model loss')\n",
    "# plt.ylim(0.3, 1)\n",
    "plt.ylabel('loss')\n",
    "plt.xlabel('epoch')\n",
    "plt.legend(['train', 'val'], loc='upper left')\n",
    "plt.show()"
   ]
  },
  {
   "cell_type": "code",
   "execution_count": 53,
   "id": "20c11344-dfa9-40e6-b2d2-63388d84ba09",
   "metadata": {
    "tags": []
   },
   "outputs": [
    {
     "name": "stdout",
     "output_type": "stream",
     "text": [
      "76/76 [==============================] - 0s 6ms/step - loss: 0.6208 - auc: 0.6725\n",
      "40/40 [==============================] - 0s 6ms/step - loss: 0.6406 - auc: 0.6414\n",
      "27/27 [==============================] - 0s 7ms/step - loss: 0.6366 - auc: 0.6676\n",
      "14/14 [==============================] - 0s 7ms/step - loss: 0.6487 - auc: 0.5806\n"
     ]
    }
   ],
   "source": [
    "with tf.device('/CPU:0'):\n",
    "    model.evaluate(X_eval, y_eval)\n",
    "    model.evaluate(X_test, y_test)\n",
    "    model.evaluate(X_testWales, y_testWales)\n",
    "    model.evaluate(X_testScotland, y_testScotland)"
   ]
  },
  {
   "cell_type": "code",
   "execution_count": 54,
   "id": "3f7fd35d-2903-48e4-a655-b55f16b99da1",
   "metadata": {
    "tags": []
   },
   "outputs": [
    {
     "name": "stdout",
     "output_type": "stream",
     "text": [
      "76/76 [==============================] - 1s 7ms/step\n",
      "(0.7099, 0.7694, 0.4755, 0.6225, 0.2696, 0.6225, 0.399, 34.3658, 85.2468)\n",
      "40/40 [==============================] - 0s 6ms/step\n",
      "(0.6595, 0.7492, 0.4257, 0.5874, 0.327, 0.5874, 0.4093, 39.418, 77.2881)\n",
      "27/27 [==============================] - 0s 6ms/step\n",
      "(0.6623, 0.7385, 0.4661, 0.6023, 0.3399, 0.6023, 0.4356, 40.8922, 78.087)\n",
      "14/14 [==============================] - 0s 6ms/step\n",
      "(0.6539, 0.7705, 0.3421, 0.5563, 0.3014, 0.5563, 0.3498, 35.7798, 75.8065)\n"
     ]
    }
   ],
   "source": [
    "#Model evaluation function\n",
    "def summariseResult (testY, preds):\n",
    "    tn, fp, fn, tp = confusion_matrix(testY, preds).ravel()\n",
    "    specificity = tn / (tn+fp)\n",
    "    sensitivity = tp / (tp+fn)\n",
    "    ppv = 100*tp/(tp+fp)\n",
    "    npv = 100*tn/(fn+tn)\n",
    "    acc = accuracy_score(testY, preds)\n",
    "    f1score = f1_score(testY, preds, average = 'binary')\n",
    "    balanceacc = balanced_accuracy_score(testY, preds)\n",
    "    fpr, tpr, thresholds = roc_curve(testY, preds, pos_label=1)\n",
    "    aucscore = auc(fpr, tpr)\n",
    "    # aucscore = roc_auc_score(testY, preds)\n",
    "    auprc = average_precision_score(testY, preds)\n",
    "    # plot_confusion_matrix(model, testX, testY, cmap='viridis')  \n",
    "    return np.round(acc,4), np.round(specificity,4), np.round(sensitivity,4), np.round(aucscore,4), np.round(auprc,4), np.round(balanceacc,4), np.round(f1score,4), np.round(ppv,4), np.round(npv,4)\n",
    "\n",
    "data_test_Xs = [X_eval, X_test, X_testWales, X_testScotland]\n",
    "data_test_ys = [y_eval, y_test, y_testWales, y_testScotland]\n",
    "for data_test_X, data_test_y in zip(data_test_Xs, data_test_ys):\n",
    "    with tf.device('/CPU:0'):\n",
    "        preds = model.predict(data_test_X)\n",
    "    preds = [0 if pred <0.5 else 1 for pred in preds]\n",
    "    print(summariseResult(data_test_y, np.squeeze(preds)))"
   ]
  },
  {
   "cell_type": "code",
   "execution_count": 55,
   "id": "e8a50962-2f80-4931-8eb7-df84792130ed",
   "metadata": {
    "tags": []
   },
   "outputs": [
    {
     "name": "stderr",
     "output_type": "stream",
     "text": [
      "/opt/conda/envs/rapids/lib/python3.10/site-packages/keras/src/engine/training.py:3079: UserWarning: You are saving your model as an HDF5 file via `model.save()`. This file format is considered legacy. We recommend using instead the native Keras format, e.g. `model.save('my_model.keras')`.\n",
      "  saving_api.save_model(\n"
     ]
    }
   ],
   "source": [
    "model.save('../SeqModel/model_therapy.h5')"
   ]
  },
  {
   "cell_type": "code",
   "execution_count": null,
   "id": "e1adb28e-44a2-4303-8b79-25348bfcaad9",
   "metadata": {
    "tags": []
   },
   "outputs": [],
   "source": [
    "# from keras.models import load_model\n",
    "# a = load_model('../SeqModel/my_model.h5')"
   ]
  },
  {
   "cell_type": "code",
   "execution_count": null,
   "id": "5f9f42bb-89f7-4693-852f-ae329cc7afe7",
   "metadata": {},
   "outputs": [],
   "source": []
  }
 ],
 "metadata": {
  "kernelspec": {
   "display_name": "Python 3 (ipykernel)",
   "language": "python",
   "name": "python3"
  },
  "language_info": {
   "codemirror_mode": {
    "name": "ipython",
    "version": 3
   },
   "file_extension": ".py",
   "mimetype": "text/x-python",
   "name": "python",
   "nbconvert_exporter": "python",
   "pygments_lexer": "ipython3",
   "version": "3.10.11"
  }
 },
 "nbformat": 4,
 "nbformat_minor": 5
}
