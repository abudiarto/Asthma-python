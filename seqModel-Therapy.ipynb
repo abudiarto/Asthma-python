{
 "cells": [
  {
   "cell_type": "markdown",
   "id": "cc8032a7-260b-40a8-8cbe-e292ab403047",
   "metadata": {},
   "source": [
    "# LSTM Model using Therapy sequence"
   ]
  },
  {
   "cell_type": "code",
   "execution_count": 1,
   "id": "ae1286de-3d50-4eb3-b3c7-a4404748f00b",
   "metadata": {
    "tags": []
   },
   "outputs": [
    {
     "name": "stderr",
     "output_type": "stream",
     "text": [
      "2023-12-01 10:37:56.594276: I tensorflow/core/util/port.cc:111] oneDNN custom operations are on. You may see slightly different numerical results due to floating-point round-off errors from different computation orders. To turn them off, set the environment variable `TF_ENABLE_ONEDNN_OPTS=0`.\n",
      "2023-12-01 10:37:56.664628: E tensorflow/compiler/xla/stream_executor/cuda/cuda_dnn.cc:9342] Unable to register cuDNN factory: Attempting to register factory for plugin cuDNN when one has already been registered\n",
      "2023-12-01 10:37:56.664680: E tensorflow/compiler/xla/stream_executor/cuda/cuda_fft.cc:609] Unable to register cuFFT factory: Attempting to register factory for plugin cuFFT when one has already been registered\n",
      "2023-12-01 10:37:56.664704: E tensorflow/compiler/xla/stream_executor/cuda/cuda_blas.cc:1518] Unable to register cuBLAS factory: Attempting to register factory for plugin cuBLAS when one has already been registered\n",
      "2023-12-01 10:37:56.675769: I tensorflow/core/platform/cpu_feature_guard.cc:182] This TensorFlow binary is optimized to use available CPU instructions in performance-critical operations.\n",
      "To enable the following instructions: AVX2 AVX512F AVX512_VNNI FMA, in other operations, rebuild TensorFlow with the appropriate compiler flags.\n"
     ]
    }
   ],
   "source": [
    "import tensorflow as tf\n",
    "from tensorflow.keras.datasets import imdb\n",
    "from tensorflow.keras.models import Sequential, Model, load_model\n",
    "from tensorflow.keras.layers import Dense, LSTM, Embedding, Dropout, Bidirectional, Input, concatenate, Reshape, Activation, Flatten, Add, BatchNormalization, Multiply, LeakyReLU\n",
    "from tensorflow.keras.preprocessing import sequence\n",
    "from tensorflow.keras.callbacks import EarlyStopping, ModelCheckpoint, ReduceLROnPlateau, TensorBoard\n",
    "from tensorflow.keras.metrics import AUC, SensitivityAtSpecificity\n",
    "from tensorflow.keras.optimizers import Adam, Adagrad, RMSprop, Adamax, SGD, Adadelta\n",
    "from tensorflow.keras.initializers import Constant\n",
    "from tensorflow.keras.regularizers import L1L2, L1, L2\n",
    "from livelossplot import PlotLossesKeras\n",
    "#internal validation\n",
    "from sklearn.model_selection import train_test_split\n",
    "from sklearn.metrics import confusion_matrix, classification_report, f1_score, balanced_accuracy_score, matthews_corrcoef, auc, average_precision_score, roc_auc_score, balanced_accuracy_score, roc_curve, accuracy_score\n",
    "from sklearn.preprocessing import StandardScaler, MinMaxScaler\n",
    "\n",
    "import matplotlib.pyplot as plt\n",
    "\n",
    "import numpy as np\n",
    "import pandas as pd\n",
    "import pickle\n",
    "\n",
    "# fix random seed for reproducibility\n",
    "tf.random.set_seed(1234)\n",
    "\n",
    "target_outcome = '12months'\n",
    "max_codes = 300"
   ]
  },
  {
   "cell_type": "code",
   "execution_count": null,
   "id": "99d66269-80cc-4450-9432-b75bcb598efb",
   "metadata": {
    "tags": []
   },
   "outputs": [],
   "source": [
    "# load the dataset but only keep the top n words, zero the rest\n",
    "data = pickle.load(open('../SeqModel/data_all_big_08112023_75%.sav', 'rb'))\n",
    "code2idx = pickle.load(open('../SeqModel/code2idx_all_big_08112023_75%.sav', 'rb'))\n",
    "idx2code = pickle.load(open('../SeqModel/idx2code_all_big_08112023_75%.sav', 'rb'))\n",
    "\n",
    "vocab_size = len(code2idx)\n",
    "vocab_size"
   ]
  },
  {
   "cell_type": "code",
   "execution_count": null,
   "id": "eedb216e-17e1-487b-b392-ce5936f396de",
   "metadata": {
    "tags": []
   },
   "outputs": [],
   "source": [
    "tabularData = pd.read_csv('../FinalData/cleaned_features_08112023.csv')\n",
    "tabularData = tabularData.drop_duplicates(subset=['patid'])\n",
    "\n",
    "extractVars = ['patid', 'sex', 'BMI', 'imd_decile', 'smokingStatus', 'month_1', 'month_2', 'month_3',\n",
    " 'month_4', 'month_5', 'month_6', 'month_7', 'month_8', 'month_9',\n",
    " 'month_10', 'month_11', 'month_12', ]\n",
    "\n",
    "data = data.merge(tabularData[extractVars], how = 'left', on='patid')\n",
    "data = pd.get_dummies(data, columns=['imd_decile', 'smokingStatus']) #one hot encoding\n",
    "tabularData = []"
   ]
  },
  {
   "cell_type": "code",
   "execution_count": null,
   "id": "23098e77-76c5-422c-bdbd-a0152e9876c4",
   "metadata": {
    "tags": []
   },
   "outputs": [],
   "source": [
    "# #Data split conventional (mixed countries)\n",
    "# trainingData, testData = train_test_split(data, test_size=0.1, stratify=data[target_outcome], random_state=1234)\n",
    "# trainingData, valData = train_test_split(trainingData, test_size=0.2, stratify=trainingData[target_outcome], random_state=1234)\n",
    "# print(trainingData.shape)\n",
    "# print(valData.shape)\n",
    "# print(testData.shape)"
   ]
  },
  {
   "cell_type": "code",
   "execution_count": null,
   "id": "9d0d0809-4055-42b9-a738-5438011b7eb4",
   "metadata": {
    "tags": []
   },
   "outputs": [],
   "source": [
    "#Data split, train=England, eval=Scot+Wales\n",
    "trainingData = data[(data.Country == 'England') & (data.age >= 18)]\n",
    "trainingData, valData = train_test_split(trainingData, test_size=0.2, stratify=trainingData[target_outcome], random_state=1234)\n",
    "trainingData, evalData = train_test_split(trainingData, test_size=0.2, stratify=trainingData[target_outcome], random_state=1234)\n",
    "testData = data[((data.Country == 'Wales') | (data.Country == 'Scotland')) & (data.age >= 18)]\n",
    "testDataWales = data[(data.Country == 'Wales') & (data.age >= 18)]\n",
    "testDataScotland = data[(data.Country == 'Scotland') & (data.age >= 18)]"
   ]
  },
  {
   "cell_type": "code",
   "execution_count": null,
   "id": "9f157bd3-b8a1-47e5-b6de-3e4f7d466bb5",
   "metadata": {
    "tags": []
   },
   "outputs": [],
   "source": [
    "print('Train: ', trainingData.shape[0])\n",
    "print('Val: ', valData.shape[0])\n",
    "print('Eval (internal validation): ', evalData.shape[0])\n",
    "print('Test: ', testData.shape[0])\n",
    "print('Test - Wales: ', testDataWales.shape[0])\n",
    "print('Test - Scotland: ', testDataScotland.shape[0])"
   ]
  },
  {
   "cell_type": "code",
   "execution_count": null,
   "id": "bdf217de-6216-4a7d-b8ef-705c69fb52cf",
   "metadata": {
    "tags": []
   },
   "outputs": [],
   "source": [
    "print(trainingData.patid.unique().shape)\n",
    "print(trainingData.shape)"
   ]
  },
  {
   "cell_type": "code",
   "execution_count": null,
   "id": "a8913a7a-5e44-4359-85a4-5e4bdf6501c7",
   "metadata": {
    "scrolled": true,
    "tags": []
   },
   "outputs": [],
   "source": [
    "#make sure no data leak between sets\n",
    "print(list(set(trainingData.patid.values).intersection(set(valData.patid.values))))\n",
    "print(list(set(trainingData.patid.values).intersection(set(evalData.patid.values))))\n",
    "print(list(set(valData.patid.values).intersection(set(evalData.patid.values))))\n",
    "print(list(set(valData.patid.values).intersection(set(testData.patid.values))))\n",
    "print(list(set(trainingData.patid.values).intersection(set(testData.patid.values))))\n",
    "print(list(set(testData.patid.values).intersection(set(testDataScotland.patid.values)))) # here data leak is expected"
   ]
  },
  {
   "cell_type": "code",
   "execution_count": null,
   "id": "a8ae2fa9-09d0-4bdc-ba46-3abec45b4c66",
   "metadata": {
    "scrolled": true,
    "tags": []
   },
   "outputs": [],
   "source": [
    "print(trainingData[target_outcome].value_counts(normalize=True))\n",
    "print(valData[target_outcome].value_counts(normalize=True))\n",
    "print(evalData[target_outcome].value_counts(normalize=True))\n",
    "print(testData[target_outcome].value_counts(normalize=True))\n",
    "print(testDataWales[target_outcome].value_counts(normalize=True))\n",
    "print(testDataScotland[target_outcome].value_counts(normalize=True))"
   ]
  },
  {
   "cell_type": "code",
   "execution_count": null,
   "id": "fda86638-d182-41ef-9b33-679250bb3445",
   "metadata": {
    "tags": []
   },
   "outputs": [],
   "source": [
    "tabularVars = ['age', 'sex', 'BMI', 'smokingStatus_Active Smoker', \n",
    "                   'smokingStatus_Former Smoker', 'smokingStatus_Non Smoker',\n",
    "                   'imd_decile_0.0', 'imd_decile_1.0', 'imd_decile_2.0', 'imd_decile_3.0',\n",
    "                   'imd_decile_4.0', 'imd_decile_5.0', 'imd_decile_6.0', 'imd_decile_7.0',\n",
    "                   'imd_decile_8.0', 'imd_decile_9.0', 'imd_decile_10.0', \n",
    "                   # 'month_1', 'month_2', 'month_3','month_4', 'month_5', \n",
    "                   # 'month_6', 'month_7', 'month_8', 'month_9', 'month_10', \n",
    "                   # 'month_11', 'month_12',\n",
    "                  ]\n",
    "Xt_train = np.array(trainingData[tabularVars].values)\n",
    "Xt_val = np.array(valData[tabularVars].values)\n",
    "Xt_eval = np.array(evalData[tabularVars].values)\n",
    "Xt_test = np.array(testData[tabularVars].values)\n",
    "Xt_testWales = np.array(testDataWales[tabularVars].values)\n",
    "Xt_testScotland= np.array(testDataScotland[tabularVars].values)\n",
    "\n",
    "Xs_train = np.array(trainingData.read_code_seq_padded_idx_end.values)\n",
    "Xs_train = np.array([x for x in Xs_train])\n",
    "Xs_val = np.array(valData.read_code_seq_padded_idx_end.values)\n",
    "Xs_val = np.array([x for x in Xs_val])\n",
    "Xs_eval = np.array(evalData.read_code_seq_padded_idx_end.values)\n",
    "Xs_eval = np.array([x for x in Xs_eval])\n",
    "Xs_test = np.array(testData.read_code_seq_padded_idx_end.values)\n",
    "Xs_test = np.array([x for x in Xs_test])\n",
    "Xs_testWales = np.array(testDataWales.read_code_seq_padded_idx_end.values)\n",
    "Xs_testWales = np.array([x for x in Xs_testWales])\n",
    "Xs_testScotland = np.array(testDataScotland.read_code_seq_padded_idx_end.values)\n",
    "Xs_testScotland = np.array([x for x in Xs_testScotland])\n",
    "\n",
    "Xm_train = np.array(trainingData.month_padded_idx_end.values)\n",
    "Xm_train = np.array([x for x in Xm_train])\n",
    "Xm_val = np.array(valData.month_padded_idx_end.values)\n",
    "Xm_val = np.array([x for x in Xm_val])\n",
    "Xm_eval = np.array(evalData.month_padded_idx_end.values)\n",
    "Xm_eval = np.array([x for x in Xm_eval])\n",
    "Xm_test = np.array(testData.month_padded_idx_end.values)\n",
    "Xm_test = np.array([x for x in Xm_test])\n",
    "Xm_testWales = np.array(testDataWales.month_padded_idx_end.values)\n",
    "Xm_testWales = np.array([x for x in Xm_testWales])\n",
    "Xm_testScotland = np.array(testDataScotland.month_padded_idx_end.values)\n",
    "Xm_testScotland = np.array([x for x in Xm_testScotland])\n",
    "\n",
    "y_train = trainingData[target_outcome].values\n",
    "y_val = valData[target_outcome].values\n",
    "y_eval = evalData[target_outcome].values\n",
    "y_test = testData[target_outcome].values\n",
    "y_testWales = testDataWales[target_outcome].values\n",
    "y_testScotland = testDataScotland[target_outcome].values\n",
    "\n",
    "#scalling tabular data\n",
    "scaler = StandardScaler().fit(Xt_train)\n",
    "Xt_train = scaler.transform(Xt_train)\n",
    "Xt_val = scaler.transform(Xt_val)\n",
    "Xt_eval = scaler.transform(Xt_eval)\n",
    "Xt_test = scaler.transform(Xt_test)\n",
    "Xt_testWales = scaler.transform(Xt_testWales)\n",
    "Xt_testScotland = scaler.transform(Xt_testScotland)"
   ]
  },
  {
   "cell_type": "code",
   "execution_count": null,
   "id": "25ed906e-adb2-4c91-b2ef-fb50bd84ba3c",
   "metadata": {
    "tags": []
   },
   "outputs": [],
   "source": [
    "# # X and y\n",
    "# X_train = np.array(trainingData.read_code_seq_padded_idx.values)\n",
    "# X_train = np.array([x for x in X_train])\n",
    "# X_val = np.array(valData.read_code_seq_padded_idx.values)\n",
    "# X_val = np.array([x for x in X_val])\n",
    "# X_eval = np.array(evalData.read_code_seq_padded_idx.values)\n",
    "# X_eval = np.array([x for x in X_eval])\n",
    "# X_test = np.array(testData.read_code_seq_padded_idx.values)\n",
    "# X_test = np.array([x for x in X_test])\n",
    "# X_testWales = np.array(testDataWales.read_code_seq_padded_idx.values)\n",
    "# X_testWales = np.array([x for x in X_testWales])\n",
    "# X_testScotland = np.array(testDataScotland.read_code_seq_padded_idx.values)\n",
    "# X_testScotland = np.array([x for x in X_testScotland])\n",
    "\n",
    "# y_train = trainingData[target_outcome].values\n",
    "# y_val = valData[target_outcome].values\n",
    "# y_eval = evalData[target_outcome].values\n",
    "# y_test = testData[target_outcome].values\n",
    "# y_testWales = testDataWales[target_outcome].values\n",
    "# y_testScotland = testDataScotland[target_outcome].values"
   ]
  },
  {
   "cell_type": "code",
   "execution_count": null,
   "id": "f5b6dee9-3c3f-4b97-b3b4-6e9879f51620",
   "metadata": {},
   "outputs": [],
   "source": []
  },
  {
   "cell_type": "markdown",
   "id": "a9d1e4f0-1280-448d-8df8-55a2dd6648d9",
   "metadata": {},
   "source": [
    "# RUN"
   ]
  },
  {
   "cell_type": "code",
   "execution_count": 2,
   "id": "f2e26e6d-1fba-430e-a954-9676cc730947",
   "metadata": {
    "tags": []
   },
   "outputs": [
    {
     "name": "stdout",
     "output_type": "stream",
     "text": [
      "67481\n",
      "12\n"
     ]
    }
   ],
   "source": [
    "sets =  pickle.load(open('../SeqModel/sets_search_long.sav', 'rb'))\n",
    "code2idx = pickle.load(open('../SeqModel/all_vocab.sav', 'rb'))\n",
    "month2idx = pickle.load(open('../SeqModel/all_vocab_month.sav', 'rb'))\n",
    "vocab_size = len(code2idx)\n",
    "month_size = len(month2idx)\n",
    "print(vocab_size)\n",
    "print(month_size)"
   ]
  },
  {
   "cell_type": "code",
   "execution_count": 3,
   "id": "6af0a99e-6756-4ac7-81ff-cf991c3d21bd",
   "metadata": {
    "tags": []
   },
   "outputs": [],
   "source": [
    "Xt_train, Xt_val, Xs_train, Xs_val, Xm_train, Xm_val, y_train, y_val = sets"
   ]
  },
  {
   "cell_type": "code",
   "execution_count": 4,
   "id": "add5e859-7525-40af-966e-02c99c4399af",
   "metadata": {
    "tags": []
   },
   "outputs": [
    {
     "name": "stdout",
     "output_type": "stream",
     "text": [
      "Train:  (17693, 1500)\n",
      "Val:  9480\n"
     ]
    }
   ],
   "source": [
    "print('Train: ', Xs_train.shape)\n",
    "print('Val: ', Xs_val.shape[0])\n",
    "# print('Eval (internal validation): ', Xs_eval.shape[0])\n",
    "# print('Test: ', Xs_test.shape[0])\n",
    "# print('Test - Wales: ', Xs_testWales.shape[0])\n",
    "# print('Test - Scotland: ', Xs_testScotland.shape[0])"
   ]
  },
  {
   "cell_type": "code",
   "execution_count": 5,
   "id": "692d48bc-7f2c-49f0-89d3-6ce06ebfb9dd",
   "metadata": {
    "tags": []
   },
   "outputs": [
    {
     "name": "stdout",
     "output_type": "stream",
     "text": [
      "{0: 1, 1: 5.005770536320434}\n"
     ]
    }
   ],
   "source": [
    "pos_weight = sum(x == 0 for x in y_train)/sum(x == 1 for x in y_train)\n",
    "class_weight = {0:1, 1:pos_weight}\n",
    "print(class_weight)"
   ]
  },
  {
   "cell_type": "code",
   "execution_count": 6,
   "id": "1ef863ce-002a-4913-a8e4-a7492f20c049",
   "metadata": {
    "tags": []
   },
   "outputs": [
    {
     "data": {
      "text/plain": [
       "259.77105304479176"
      ]
     },
     "execution_count": 6,
     "metadata": {},
     "output_type": "execute_result"
    }
   ],
   "source": [
    "np.sqrt(vocab_size)"
   ]
  },
  {
   "cell_type": "code",
   "execution_count": 19,
   "id": "4943f759-cf30-4366-b7c8-bf33fbb73101",
   "metadata": {
    "tags": []
   },
   "outputs": [],
   "source": [
    "def earlyFussion():\n",
    "       \n",
    "    inputs1 = Input(shape=(Xt_train.shape[1],))\n",
    "    inputs2 = Input(shape=(Xs_train.shape[1],))\n",
    "    inputs3 = Input(shape=(Xm_train.shape[1],))\n",
    "    \n",
    "    \n",
    "    #clinical embedding for lstm\n",
    "    embedding = Embedding(vocab_size, 200, input_length=1500)(inputs2)\n",
    "    \n",
    "    #month embedding for lstm\n",
    "    embedding_month = Embedding(month_size, 7, input_length=1500)(inputs3)\n",
    "    \n",
    "    nn = Dense(64, activation='relu', kernel_initializer='glorot_uniform', kernel_regularizer=L1L2(l1=0.0, l2=0.01))(inputs1)\n",
    "    nn = Dropout(0.5)(nn)\n",
    "    lstmClinical = LSTM(units=64, return_sequences=False, kernel_regularizer=L1L2(l1=0.0, l2=0.01))(embedding)\n",
    "    lstmMonth = LSTM(units=64, return_sequences=True, kernel_regularizer=L1L2(l1=0.0, l2=0.01))(embedding_month)\n",
    "    lstm = Multiply()([lstmClinical, lstmMonth])\n",
    "    # lstm = lstmClinical\n",
    "    \n",
    "    nn = Reshape((1, 64))(nn)\n",
    "    add = concatenate([nn, lstm], axis=1)\n",
    "    nn = Dense(32, activation='relu', kernel_initializer='glorot_uniform', kernel_regularizer=L1L2(l1=0.0, l2=0.01))(add)\n",
    "    nn = Dropout(0.5)(nn)\n",
    "    lstm = LSTM(units=32, return_sequences=True, kernel_regularizer=L1L2(l1=0.0, l2=0.01))(lstm)\n",
    "    \n",
    "    # nn = Reshape((301, 64))(nn)\n",
    "    add = concatenate([nn, lstm], axis=1)\n",
    "    nn = Dense(16, activation='relu', kernel_initializer='glorot_uniform', kernel_regularizer=L1L2(l1=0.0, l2=0.01))(add)\n",
    "    nn = Dropout(0.5)(nn)\n",
    "    lstm = LSTM(units=16, return_sequences=True, kernel_regularizer=L1L2(l1=0.0, l2=0.01))(lstm)\n",
    "    \n",
    "    model_tot = concatenate([nn, lstm], axis=1)\n",
    "    model_tot = BatchNormalization()(model_tot)\n",
    "\n",
    "    model_tot = Dense(units=16, activation=LeakyReLU())(model_tot)\n",
    "    \n",
    "    model_tot = Flatten()(model_tot)\n",
    "    output = Dense(1, activation='sigmoid')(model_tot)\n",
    "    \n",
    "    opt = Adamax(learning_rate=1e-3, clipvalue=.5)\n",
    "    metrics = [\n",
    "        AUC(num_thresholds=3, name='auc', curve='ROC'),\n",
    "        AUC(num_thresholds=3, name='auprc', curve='PR'),\n",
    "        tf.keras.metrics.Precision(name='prec'),\n",
    "        tf.keras.metrics.Recall(name='rec'),\n",
    "        tf.keras.metrics.TrueNegatives(name='TN'),\n",
    "        tf.keras.metrics.TruePositives(name='TP'),\n",
    "        tf.keras.metrics.PrecisionAtRecall(0.8)\n",
    "    ]\n",
    "    \n",
    "    loss = tf.keras.losses.BinaryCrossentropy()\n",
    "    \n",
    "    model = Model(inputs=[inputs1, inputs2, inputs3], outputs=output)\n",
    "    model.compile(\n",
    "        loss='binary_crossentropy', \n",
    "        optimizer=opt, \n",
    "        metrics=metrics)\n",
    "    return model"
   ]
  },
  {
   "cell_type": "code",
   "execution_count": 20,
   "id": "b1375ac8-eeac-420d-bb0b-3c62b2494cf9",
   "metadata": {
    "tags": []
   },
   "outputs": [
    {
     "name": "stdout",
     "output_type": "stream",
     "text": [
      "50\n"
     ]
    }
   ],
   "source": [
    "# from sklearn.utils import class_weight\n",
    "# sklearn_weights = class_weight.compute_class_weight('balanced', classes=np.unique(y_train), y=y_train)\n",
    "# class_weight = dict(enumerate(sklearn_weights))\n",
    "\n",
    "#Hyperparameter\n",
    "lr = 1e-5\n",
    "clipvalue = 0.2\n",
    "epoch = 1000\n",
    "batch_size = 256\n",
    "embedding_vector_length = 50\n",
    "month_embedding_vector_length = 5\n",
    "# embedding_vector_length = int(np.sqrt(vocab_size))\n",
    "# embedding_vector_length = int(np.cbrt(vocab_size))\n",
    "print(embedding_vector_length)"
   ]
  },
  {
   "cell_type": "code",
   "execution_count": 21,
   "id": "4bb0d784-620b-44e3-8aeb-c3d39b8dce0a",
   "metadata": {
    "scrolled": true,
    "tags": []
   },
   "outputs": [
    {
     "name": "stdout",
     "output_type": "stream",
     "text": [
      "Model: \"model_3\"\n",
      "__________________________________________________________________________________________________\n",
      " Layer (type)                Output Shape                 Param #   Connected to                  \n",
      "==================================================================================================\n",
      " input_10 (InputLayer)       [(None, 20)]                 0         []                            \n",
      "                                                                                                  \n",
      " input_11 (InputLayer)       [(None, 1500)]               0         []                            \n",
      "                                                                                                  \n",
      " input_12 (InputLayer)       [(None, 1500)]               0         []                            \n",
      "                                                                                                  \n",
      " dense_15 (Dense)            (None, 64)                   1344      ['input_10[0][0]']            \n",
      "                                                                                                  \n",
      " embedding_6 (Embedding)     (None, 1500, 200)            1349620   ['input_11[0][0]']            \n",
      "                                                          0                                       \n",
      "                                                                                                  \n",
      " embedding_7 (Embedding)     (None, 1500, 7)              84        ['input_12[0][0]']            \n",
      "                                                                                                  \n",
      " dropout_9 (Dropout)         (None, 64)                   0         ['dense_15[0][0]']            \n",
      "                                                                                                  \n",
      " lstm_12 (LSTM)              (None, 64)                   67840     ['embedding_6[0][0]']         \n",
      "                                                                                                  \n",
      " lstm_13 (LSTM)              (None, 1500, 64)             18432     ['embedding_7[0][0]']         \n",
      "                                                                                                  \n",
      " reshape_3 (Reshape)         (None, 1, 64)                0         ['dropout_9[0][0]']           \n",
      "                                                                                                  \n",
      " multiply_3 (Multiply)       (None, 1500, 64)             0         ['lstm_12[0][0]',             \n",
      "                                                                     'lstm_13[0][0]']             \n",
      "                                                                                                  \n",
      " concatenate_9 (Concatenate  (None, 1501, 64)             0         ['reshape_3[0][0]',           \n",
      " )                                                                   'multiply_3[0][0]']          \n",
      "                                                                                                  \n",
      " dense_16 (Dense)            (None, 1501, 32)             2080      ['concatenate_9[0][0]']       \n",
      "                                                                                                  \n",
      " dropout_10 (Dropout)        (None, 1501, 32)             0         ['dense_16[0][0]']            \n",
      "                                                                                                  \n",
      " lstm_14 (LSTM)              (None, 1500, 32)             12416     ['multiply_3[0][0]']          \n",
      "                                                                                                  \n",
      " concatenate_10 (Concatenat  (None, 3001, 32)             0         ['dropout_10[0][0]',          \n",
      " e)                                                                  'lstm_14[0][0]']             \n",
      "                                                                                                  \n",
      " dense_17 (Dense)            (None, 3001, 16)             528       ['concatenate_10[0][0]']      \n",
      "                                                                                                  \n",
      " dropout_11 (Dropout)        (None, 3001, 16)             0         ['dense_17[0][0]']            \n",
      "                                                                                                  \n",
      " lstm_15 (LSTM)              (None, 1500, 16)             3136      ['lstm_14[0][0]']             \n",
      "                                                                                                  \n",
      " concatenate_11 (Concatenat  (None, 4501, 16)             0         ['dropout_11[0][0]',          \n",
      " e)                                                                  'lstm_15[0][0]']             \n",
      "                                                                                                  \n",
      " batch_normalization_3 (Bat  (None, 4501, 16)             64        ['concatenate_11[0][0]']      \n",
      " chNormalization)                                                                                 \n",
      "                                                                                                  \n",
      " dense_18 (Dense)            (None, 4501, 16)             272       ['batch_normalization_3[0][0]'\n",
      "                                                                    ]                             \n",
      "                                                                                                  \n",
      " flatten_3 (Flatten)         (None, 72016)                0         ['dense_18[0][0]']            \n",
      "                                                                                                  \n",
      " dense_19 (Dense)            (None, 1)                    72017     ['flatten_3[0][0]']           \n",
      "                                                                                                  \n",
      "==================================================================================================\n",
      "Total params: 13674413 (52.16 MB)\n",
      "Trainable params: 13674381 (52.16 MB)\n",
      "Non-trainable params: 32 (128.00 Byte)\n",
      "__________________________________________________________________________________________________\n",
      "None\n"
     ]
    }
   ],
   "source": [
    "#visualise model\n",
    "model = earlyFussion()\n",
    "# model = earlyFussion()\n",
    "print(model.summary())\n",
    "\n"
   ]
  },
  {
   "cell_type": "code",
   "execution_count": 22,
   "id": "71dcd4e8-9bc0-479d-b5ac-ec2488e953ac",
   "metadata": {
    "scrolled": true,
    "tags": []
   },
   "outputs": [
    {
     "name": "stdout",
     "output_type": "stream",
     "text": [
      "Epoch 1/1000\n",
      "139/139 [==============================] - ETA: 0s - loss: 3.2551 - auc: 0.5720 - auprc: 0.1991 - prec: 0.2116 - rec: 0.5631 - TN: 8566.0000 - TP: 1659.0000 - precision_at_recall_3: 0.1881"
     ]
    },
    {
     "name": "stderr",
     "output_type": "stream",
     "text": [
      "/opt/conda/envs/rapids/lib/python3.10/site-packages/keras/src/engine/training.py:3079: UserWarning: You are saving your model as an HDF5 file via `model.save()`. This file format is considered legacy. We recommend using instead the native Keras format, e.g. `model.save('my_model.keras')`.\n",
      "  saving_api.save_model(\n"
     ]
    },
    {
     "name": "stdout",
     "output_type": "stream",
     "text": [
      "139/139 [==============================] - 68s 446ms/step - loss: 3.2551 - auc: 0.5720 - auprc: 0.1991 - prec: 0.2116 - rec: 0.5631 - TN: 8566.0000 - TP: 1659.0000 - precision_at_recall_3: 0.1881 - val_loss: 1.6405 - val_auc: 0.5000 - val_auprc: 0.1666 - val_prec: 0.0000e+00 - val_rec: 0.0000e+00 - val_TN: 7901.0000 - val_TP: 0.0000e+00 - val_precision_at_recall_3: 0.1886\n",
      "Epoch 2/1000\n",
      "139/139 [==============================] - 60s 435ms/step - loss: 1.9394 - auc: 0.5931 - auprc: 0.2093 - prec: 0.2231 - rec: 0.6113 - TN: 8477.0000 - TP: 1801.0000 - precision_at_recall_3: 0.1953 - val_loss: 1.2957 - val_auc: 0.5000 - val_auprc: 0.1666 - val_prec: 0.0000e+00 - val_rec: 0.0000e+00 - val_TN: 7901.0000 - val_TP: 0.0000e+00 - val_precision_at_recall_3: 0.2053\n",
      "Epoch 3/1000\n",
      "139/139 [==============================] - 60s 428ms/step - loss: 1.6936 - auc: 0.5981 - auprc: 0.2120 - prec: 0.2264 - rec: 0.6185 - TN: 8520.0000 - TP: 1822.0000 - precision_at_recall_3: 0.2000 - val_loss: 1.2192 - val_auc: 0.5866 - val_auprc: 0.1978 - val_prec: 0.2006 - val_rec: 0.8505 - val_TN: 2549.0000 - val_TP: 1343.0000 - val_precision_at_recall_3: 0.2046\n",
      "Epoch 4/1000\n",
      "139/139 [==============================] - 60s 429ms/step - loss: 1.5312 - auc: 0.6223 - auprc: 0.2327 - prec: 0.2590 - rec: 0.5709 - TN: 9934.0000 - TP: 1682.0000 - precision_at_recall_3: 0.2062 - val_loss: 1.0047 - val_auc: 0.5511 - val_auprc: 0.2339 - val_prec: 0.4597 - val_rec: 0.1336 - val_TN: 7653.0000 - val_TP: 211.0000 - val_precision_at_recall_3: 0.2018\n",
      "Epoch 5/1000\n",
      "139/139 [==============================] - 61s 438ms/step - loss: 1.3961 - auc: 0.6542 - auprc: 0.2598 - prec: 0.2959 - rec: 0.5879 - TN: 10625.0000 - TP: 1732.0000 - precision_at_recall_3: 0.2236 - val_loss: 0.7853 - val_auc: 0.5464 - val_auprc: 0.2279 - val_prec: 0.4501 - val_rec: 0.1229 - val_TN: 7664.0000 - val_TP: 194.0000 - val_precision_at_recall_3: 0.1991\n",
      "Epoch 6/1000\n",
      "139/139 [==============================] - 59s 425ms/step - loss: 1.3055 - auc: 0.6599 - auprc: 0.2656 - prec: 0.3041 - rec: 0.5889 - TN: 10777.0000 - TP: 1735.0000 - precision_at_recall_3: 0.2312 - val_loss: 1.5997 - val_auc: 0.5061 - val_auprc: 0.1683 - val_prec: 0.1683 - val_rec: 0.9734 - val_TN: 306.0000 - val_TP: 1537.0000 - val_precision_at_recall_3: 0.1952\n",
      "Epoch 7/1000\n",
      "139/139 [==============================] - 59s 423ms/step - loss: 1.2009 - auc: 0.6884 - auprc: 0.2944 - prec: 0.3411 - rec: 0.6134 - TN: 11257.0000 - TP: 1807.0000 - precision_at_recall_3: 0.2436 - val_loss: 0.7769 - val_auc: 0.5687 - val_auprc: 0.2312 - val_prec: 0.3455 - val_rec: 0.2210 - val_TN: 7240.0000 - val_TP: 349.0000 - val_precision_at_recall_3: 0.1951\n",
      "Epoch 8/1000\n",
      "139/139 [==============================] - 63s 452ms/step - loss: 1.1432 - auc: 0.6899 - auprc: 0.2946 - prec: 0.3400 - rec: 0.6205 - TN: 11198.0000 - TP: 1828.0000 - precision_at_recall_3: 0.2529 - val_loss: 2.2173 - val_auc: 0.4984 - val_auprc: 0.1661 - val_prec: 0.1661 - val_rec: 0.8930 - val_TN: 820.0000 - val_TP: 1410.0000 - val_precision_at_recall_3: 0.1685\n",
      "CPU times: user 5min 34s, sys: 2min 21s, total: 7min 55s\n",
      "Wall time: 8min 9s\n"
     ]
    }
   ],
   "source": [
    "%%time\n",
    "# TF_GPU_ALLOCATOR=cuda_malloc_async\n",
    "\n",
    "#training\n",
    "with tf.device('/GPU:0'):\n",
    "    earlyStopping = EarlyStopping(monitor='val_auc', patience=5, verbose=0, mode='max', restore_best_weights=True)\n",
    "    mcp_save = ModelCheckpoint('../SeqModel/seqModel_therapy_tabSeq.mdl_wts.hdf5', save_best_only=True, monitor='val_auc', mode='min')\n",
    "    history = model.fit([Xt_train, Xs_train, Xm_train], y_train, validation_data=([Xt_val, Xs_val, Xm_val], y_val), \n",
    "                            epochs=epoch, batch_size=128, \n",
    "                        class_weight = class_weight, \n",
    "                        callbacks = [earlyStopping, mcp_save])"
   ]
  },
  {
   "cell_type": "code",
   "execution_count": null,
   "id": "afeed10f-72a8-457d-bfcb-f2662e74bfc6",
   "metadata": {
    "scrolled": true,
    "tags": []
   },
   "outputs": [],
   "source": [
    "# %%time\n",
    "\n",
    "# # create the model\n",
    "# embedding_vector_length = 50\n",
    "# earlyStopping = EarlyStopping(monitor='val_auc', patience=10, verbose=0, mode='max', restore_best_weights=True)\n",
    "# mcp_save = ModelCheckpoint('../SeqModel/seqModel_therapy.mdl_wts.hdf5', save_best_only=True, monitor='val_auc', mode='min')\n",
    "\n",
    "# with tf.device('/GPU:0'):\n",
    "#     model = Sequential()\n",
    "#     model.add(Embedding(vocab_size, embedding_vector_length, input_length=max_codes))\n",
    "#     model.add(LSTM(128, return_sequences=True, kernel_regularizer=L1L2(l1=0.02, l2=0.03)))\n",
    "#     model.add(Dropout(0.5))\n",
    "#     model.add(LSTM(64,  kernel_regularizer=L1L2(l1=0.02, l2=0.03)))\n",
    "#     model.add(Dropout(0.5))\n",
    "#     model.add(Dense(32, activation=LeakyReLU(alpha=.3), kernel_regularizer=L1L2(l1=0.02, l2=0.03)))\n",
    "#     model.add(Dense(1, activation='sigmoid'))\n",
    "#     opt = Adadelta(learning_rate=5e-3, clipvalue=0.3)\n",
    "#     metrics = [\n",
    "#         AUC(num_thresholds=3, name='auc'),\n",
    "#     ]\n",
    "#     model.compile(loss='binary_crossentropy', optimizer=opt, metrics=metrics, )\n",
    "#     print(model.summary())\n",
    "#     history = model.fit(Xs_train, y_train, validation_data=(Xs_val, y_val), epochs=30, batch_size=128, class_weight = class_weight, callbacks = [earlyStopping, mcp_save])"
   ]
  },
  {
   "cell_type": "code",
   "execution_count": 23,
   "id": "fdbddf77-c941-48d2-9bbd-b80b77d85e5b",
   "metadata": {
    "tags": []
   },
   "outputs": [
    {
     "name": "stdout",
     "output_type": "stream",
     "text": [
      "dict_keys(['loss', 'auc', 'auprc', 'prec', 'rec', 'TN', 'TP', 'precision_at_recall_3', 'val_loss', 'val_auc', 'val_auprc', 'val_prec', 'val_rec', 'val_TN', 'val_TP', 'val_precision_at_recall_3'])\n"
     ]
    },
    {
     "data": {
      "image/png": "[encoded data removed]",
      "text/plain": [
       "<Figure size 640x480 with 1 Axes>"
      ]
     },
     "metadata": {},
     "output_type": "display_data"
    },
    {
     "data": {
      "image/png": "[encoded data removed]",
      "text/plain": [
       "<Figure size 640x480 with 1 Axes>"
      ]
     },
     "metadata": {},
     "output_type": "display_data"
    },
    {
     "data": {
      "image/png": "[encoded data removed]",
      "text/plain": [
       "<Figure size 640x480 with 1 Axes>"
      ]
     },
     "metadata": {},
     "output_type": "display_data"
    }
   ],
   "source": [
    "# list all data in history\n",
    "print(history.history.keys())\n",
    "# summarize history for accuracy\n",
    "plt.plot(history.history['auc'])\n",
    "plt.plot(history.history['val_auc'])\n",
    "plt.title('model AUC')\n",
    "plt.ylabel('AUC')\n",
    "plt.xlabel('epoch')\n",
    "plt.legend(['train', 'test'], loc='upper left')\n",
    "plt.show()\n",
    "# summarize history for loss\n",
    "plt.plot(history.history['loss'])\n",
    "plt.plot(history.history['val_loss'])\n",
    "plt.title('model loss')\n",
    "# plt.ylim(0.3, 1)\n",
    "plt.ylabel('loss')\n",
    "plt.xlabel('epoch')\n",
    "plt.legend(['train', 'val'], loc='upper left')\n",
    "plt.show()\n",
    "\n",
    "plt.plot(history.history['auprc'])\n",
    "plt.plot(history.history['val_auprc'])\n",
    "plt.title('model auprc')\n",
    "# plt.ylim(0.3, 1)\n",
    "plt.ylabel('auprc')\n",
    "plt.xlabel('epoch')\n",
    "plt.legend(['train', 'val'], loc='upper left')\n",
    "plt.show()"
   ]
  },
  {
   "cell_type": "code",
   "execution_count": 18,
   "id": "20c11344-dfa9-40e6-b2d2-63388d84ba09",
   "metadata": {
    "tags": []
   },
   "outputs": [
    {
     "ename": "NameError",
     "evalue": "name 'X_eval' is not defined",
     "output_type": "error",
     "traceback": [
      "\u001b[0;31m---------------------------------------------------------------------------\u001b[0m",
      "\u001b[0;31mNameError\u001b[0m                                 Traceback (most recent call last)",
      "\u001b[0;32m/tmp/ipykernel_1352623/2942379814.py\u001b[0m in \u001b[0;36m<module>\u001b[0;34m\u001b[0m\n\u001b[1;32m      1\u001b[0m \u001b[0;32mwith\u001b[0m \u001b[0mtf\u001b[0m\u001b[0;34m.\u001b[0m\u001b[0mdevice\u001b[0m\u001b[0;34m(\u001b[0m\u001b[0;34m'/CPU:0'\u001b[0m\u001b[0;34m)\u001b[0m\u001b[0;34m:\u001b[0m\u001b[0;34m\u001b[0m\u001b[0;34m\u001b[0m\u001b[0m\n\u001b[0;32m----> 2\u001b[0;31m     \u001b[0mmodel\u001b[0m\u001b[0;34m.\u001b[0m\u001b[0mevaluate\u001b[0m\u001b[0;34m(\u001b[0m\u001b[0mX_eval\u001b[0m\u001b[0;34m,\u001b[0m \u001b[0my_eval\u001b[0m\u001b[0;34m)\u001b[0m\u001b[0;34m\u001b[0m\u001b[0;34m\u001b[0m\u001b[0m\n\u001b[0m\u001b[1;32m      3\u001b[0m     \u001b[0mmodel\u001b[0m\u001b[0;34m.\u001b[0m\u001b[0mevaluate\u001b[0m\u001b[0;34m(\u001b[0m\u001b[0mX_test\u001b[0m\u001b[0;34m,\u001b[0m \u001b[0my_test\u001b[0m\u001b[0;34m)\u001b[0m\u001b[0;34m\u001b[0m\u001b[0;34m\u001b[0m\u001b[0m\n\u001b[1;32m      4\u001b[0m     \u001b[0mmodel\u001b[0m\u001b[0;34m.\u001b[0m\u001b[0mevaluate\u001b[0m\u001b[0;34m(\u001b[0m\u001b[0mX_testWales\u001b[0m\u001b[0;34m,\u001b[0m \u001b[0my_testWales\u001b[0m\u001b[0;34m)\u001b[0m\u001b[0;34m\u001b[0m\u001b[0;34m\u001b[0m\u001b[0m\n\u001b[1;32m      5\u001b[0m     \u001b[0mmodel\u001b[0m\u001b[0;34m.\u001b[0m\u001b[0mevaluate\u001b[0m\u001b[0;34m(\u001b[0m\u001b[0mX_testScotland\u001b[0m\u001b[0;34m,\u001b[0m \u001b[0my_testScotland\u001b[0m\u001b[0;34m)\u001b[0m\u001b[0;34m\u001b[0m\u001b[0;34m\u001b[0m\u001b[0m\n",
      "\u001b[0;31mNameError\u001b[0m: name 'X_eval' is not defined"
     ]
    }
   ],
   "source": [
    "with tf.device('/CPU:0'):\n",
    "    model.evaluate(X_eval, y_eval)\n",
    "    model.evaluate(X_test, y_test)\n",
    "    model.evaluate(X_testWales, y_testWales)\n",
    "    model.evaluate(X_testScotland, y_testScotland)"
   ]
  },
  {
   "cell_type": "code",
   "execution_count": null,
   "id": "3f7fd35d-2903-48e4-a655-b55f16b99da1",
   "metadata": {
    "tags": []
   },
   "outputs": [],
   "source": [
    "#Model evaluation function\n",
    "def summariseResult (testY, preds):\n",
    "    tn, fp, fn, tp = confusion_matrix(testY, preds).ravel()\n",
    "    specificity = tn / (tn+fp)\n",
    "    sensitivity = tp / (tp+fn)\n",
    "    ppv = 100*tp/(tp+fp)\n",
    "    npv = 100*tn/(fn+tn)\n",
    "    acc = accuracy_score(testY, preds)\n",
    "    f1score = f1_score(testY, preds, average = 'binary')\n",
    "    balanceacc = balanced_accuracy_score(testY, preds)\n",
    "    fpr, tpr, thresholds = roc_curve(testY, preds, pos_label=1)\n",
    "    aucscore = auc(fpr, tpr)\n",
    "    # aucscore = roc_auc_score(testY, preds)\n",
    "    auprc = average_precision_score(testY, preds)\n",
    "    # plot_confusion_matrix(model, testX, testY, cmap='viridis')  \n",
    "    return np.round(acc,4), np.round(specificity,4), np.round(sensitivity,4), np.round(aucscore,4), np.round(auprc,4), np.round(balanceacc,4), np.round(f1score,4), np.round(ppv,4), np.round(npv,4)\n",
    "\n",
    "data_test_Xs = [X_eval, X_test, X_testWales, X_testScotland]\n",
    "data_test_ys = [y_eval, y_test, y_testWales, y_testScotland]\n",
    "for data_test_X, data_test_y in zip(data_test_Xs, data_test_ys):\n",
    "    with tf.device('/CPU:0'):\n",
    "        preds = model.predict(data_test_X)\n",
    "    preds = [0 if pred <0.5 else 1 for pred in preds]\n",
    "    print(summariseResult(data_test_y, np.squeeze(preds)))"
   ]
  },
  {
   "cell_type": "code",
   "execution_count": null,
   "id": "e8a50962-2f80-4931-8eb7-df84792130ed",
   "metadata": {
    "tags": []
   },
   "outputs": [],
   "source": [
    "model.save('../SeqModel/model_therapy.h5')"
   ]
  },
  {
   "cell_type": "code",
   "execution_count": null,
   "id": "e1adb28e-44a2-4303-8b79-25348bfcaad9",
   "metadata": {
    "tags": []
   },
   "outputs": [],
   "source": [
    "# from keras.models import load_model\n",
    "# a = load_model('../SeqModel/my_model.h5')"
   ]
  },
  {
   "cell_type": "code",
   "execution_count": null,
   "id": "5f9f42bb-89f7-4693-852f-ae329cc7afe7",
   "metadata": {},
   "outputs": [],
   "source": []
  }
 ],
 "metadata": {
  "kernelspec": {
   "display_name": "Python 3 (ipykernel)",
   "language": "python",
   "name": "python3"
  },
  "language_info": {
   "codemirror_mode": {
    "name": "ipython",
    "version": 3
   },
   "file_extension": ".py",
   "mimetype": "text/x-python",
   "name": "python",
   "nbconvert_exporter": "python",
   "pygments_lexer": "ipython3",
   "version": "3.10.11"
  }
 },
 "nbformat": 4,
 "nbformat_minor": 5
}
