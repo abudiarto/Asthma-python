{
 "cells": [
  {
   "cell_type": "markdown",
   "id": "3cf617ae-7cd6-4168-9b2a-c61a35fcaf7c",
   "metadata": {},
   "source": [
    "# ANALYSIS"
   ]
  },
  {
   "cell_type": "code",
   "execution_count": 1,
   "id": "a6f7287c-5c7e-4d25-9085-f3971b3d5784",
   "metadata": {
    "tags": []
   },
   "outputs": [],
   "source": [
    "#uncomment this below code to install imblearn package\n",
    "# !pip install imbalanced-learn\n",
    "# !pip install GPUtil"
   ]
  },
  {
   "cell_type": "code",
   "execution_count": 2,
   "id": "c95c2128",
   "metadata": {
    "tags": []
   },
   "outputs": [],
   "source": [
    "import pandas as pd\n",
    "import numpy as np\n",
    "import sklearn\n",
    "\n",
    "#statistics\n",
    "from scipy.stats import chi2_contingency, ttest_ind\n",
    "\n",
    "import cudf #gpu-powered DataFrame (Pandas alternative)\n",
    "\n",
    "#imbalance handling\n",
    "from imblearn.over_sampling import SMOTE\n",
    "from imblearn.under_sampling import RandomUnderSampler, RepeatedEditedNearestNeighbours\n",
    "from imblearn.pipeline import Pipeline\n",
    "\n",
    "#preprocessing\n",
    "from sklearn import preprocessing\n",
    "from sklearn.preprocessing import OrdinalEncoder, OneHotEncoder, LabelEncoder, MinMaxScaler, StandardScaler\n",
    "\n",
    "#internal validation\n",
    "from sklearn.model_selection import StratifiedKFold, KFold, RepeatedStratifiedKFold, cross_val_score, GridSearchCV, PredefinedSplit\n",
    "\n",
    "#performance metrices\n",
    "from sklearn.metrics import confusion_matrix, classification_report, f1_score, balanced_accuracy_score, matthews_corrcoef, auc, average_precision_score, roc_auc_score, balanced_accuracy_score, roc_curve, accuracy_score\n",
    "\n",
    "#Models selection\n",
    "from sklearn.naive_bayes import GaussianNB, ComplementNB\n",
    "from sklearn.linear_model import LogisticRegression\n",
    "from sklearn.tree import DecisionTreeClassifier\n",
    "from sklearn.ensemble import RandomForestClassifier\n",
    "import xgboost as xgb\n",
    "from cuml.svm import SVC #gpu-powered SVM\n",
    "\n",
    "\n",
    "\n",
    "#save and load trained model\n",
    "import pickle\n",
    "\n",
    "#visualisation\n",
    "import matplotlib.pyplot as plt\n",
    "import seaborn as sns\n",
    "from sklearn import tree\n",
    "\n",
    "from collections import Counter\n",
    "import os\n",
    "\n",
    "import torch\n",
    "from GPUtil import showUtilization as gpu_usage\n",
    "from numba import cuda"
   ]
  },
  {
   "cell_type": "code",
   "execution_count": 3,
   "id": "11624789",
   "metadata": {
    "tags": []
   },
   "outputs": [
    {
     "name": "stderr",
     "output_type": "stream",
     "text": [
      "/tmp/ipykernel_5370/1470992490.py:2: DtypeWarning: Columns (26,27,29,30,33,34,80,84) have mixed types. Specify dtype option on import or set low_memory=False.\n",
      "  features = pd.read_csv(\"../FinalData/cleaned_features_03102023.csv\")\n"
     ]
    }
   ],
   "source": [
    "# Data loader\n",
    "features = pd.read_csv(\"../FinalData/cleaned_features_03102023.csv\")\n",
    "outcomes = pd.read_csv(\"../FinalData/cleaned_outcomes_11072023.csv\")\n",
    "features = features[features.columns[1:]]\n",
    "# outcomes = outcomes[outcomes.columns[1:]]"
   ]
  },
  {
   "cell_type": "code",
   "execution_count": 4,
   "id": "c3d4d97c-6eff-4df9-b769-8fcde18f5fcf",
   "metadata": {
    "tags": []
   },
   "outputs": [
    {
     "name": "stdout",
     "output_type": "stream",
     "text": [
      "(580607, 99)\n",
      "(577962, 15)\n"
     ]
    }
   ],
   "source": [
    "print(features.shape)\n",
    "print(outcomes.shape)"
   ]
  },
  {
   "cell_type": "code",
   "execution_count": 5,
   "id": "eb99babd-f83f-4f3f-b9e3-1934a6f6ba12",
   "metadata": {
    "tags": []
   },
   "outputs": [
    {
     "data": {
      "text/plain": [
       "Index(['patid', 'practice_id', 'sex', 'age', 'BMI', 'weight', 'height',\n",
       "       'ethnicity', 'ethnic_group', 'smokingStatus', 'CharlsonScore',\n",
       "       'count_rhinitis', 'count_cardiovascular', 'count_heartfailure',\n",
       "       'count_psoriasis', 'count_anaphylaxis', 'count_diabetes', 'count_ihd',\n",
       "       'count_anxiety', 'count_eczema', 'count_nasalpolyps',\n",
       "       'count_paracetamol', 'count_nsaids', 'count_betablocker', 'id',\n",
       "       'event_date', 'recorded_date', 'visit_id', 'code_id', 'snomed_id',\n",
       "       'numeric_1', 'numeric_2', 'created_datetime', 'updated_datetime',\n",
       "       'PEFStatus', 'EosinophilLevel', 'BTS_step', 'average_daily_dose_ICS',\n",
       "       'prescribed_daily_dose_ICS', 'ICS_medication_possesion_ratio',\n",
       "       'DeviceType', 'Spacer', 'numOCS', 'PriorEducation', 'numPCS',\n",
       "       'numPCSAsthma', 'numAntibioticsEvents', 'numAntibioticswithLRTI',\n",
       "       'numOCSEvents', 'numOCSwithLRTI', 'numAsthmaAttacks',\n",
       "       'numAcuteRespEvents', 'numHospEvents', 'month_12', 'month_4', 'month_5',\n",
       "       'month_10', 'month_1', 'month_6', 'month_3', 'month_11', 'month_8',\n",
       "       'month_9', 'month_7', 'month_2', 'postcode_district', 'imd_decile',\n",
       "       'Country', 'County', 'LocalAuthority', 'OutputAreaClassification',\n",
       "       'cat_BMI', 'cat_age', 'cat_average_daily_dose_ICS',\n",
       "       'cat_prescribed_daily_dose_ICS', 'cat_ICS_medication_possesion_ratio',\n",
       "       'cat_numOCS', 'cat_numOCSEvents', 'cat_numOCSwithLRTI',\n",
       "       'cat_numAcuteRespEvents', 'cat_numAntibioticsEvents',\n",
       "       'cat_numAntibioticswithLRTI', 'cat_numAsthmaAttacks',\n",
       "       'cat_numHospEvents', 'cat_numPCS', 'cat_numPCSAsthma', 'rhinitis',\n",
       "       'cardiovascular', 'heartfailure', 'psoriasis', 'anaphylaxis',\n",
       "       'diabetes', 'ihd', 'anxiety', 'eczema', 'nasalpolyps', 'paracetamol',\n",
       "       'nsaids', 'betablocker'],\n",
       "      dtype='object')"
      ]
     },
     "execution_count": 5,
     "metadata": {},
     "output_type": "execute_result"
    }
   ],
   "source": [
    "features.columns"
   ]
  },
  {
   "cell_type": "code",
   "execution_count": 6,
   "id": "5754f4e6-c1eb-48b6-8cd3-3864ee8f639e",
   "metadata": {
    "tags": []
   },
   "outputs": [
    {
     "data": {
      "text/html": [
       "<div>\n",
       "<style scoped>\n",
       "    .dataframe tbody tr th:only-of-type {\n",
       "        vertical-align: middle;\n",
       "    }\n",
       "\n",
       "    .dataframe tbody tr th {\n",
       "        vertical-align: top;\n",
       "    }\n",
       "\n",
       "    .dataframe thead th {\n",
       "        text-align: right;\n",
       "    }\n",
       "</style>\n",
       "<table border=\"1\" class=\"dataframe\">\n",
       "  <thead>\n",
       "    <tr style=\"text-align: right;\">\n",
       "      <th></th>\n",
       "      <th>patid</th>\n",
       "      <th>practice_id</th>\n",
       "      <th>sex</th>\n",
       "      <th>age</th>\n",
       "      <th>BMI</th>\n",
       "      <th>weight</th>\n",
       "      <th>height</th>\n",
       "      <th>ethnicity</th>\n",
       "      <th>ethnic_group</th>\n",
       "      <th>smokingStatus</th>\n",
       "      <th>...</th>\n",
       "      <th>psoriasis</th>\n",
       "      <th>anaphylaxis</th>\n",
       "      <th>diabetes</th>\n",
       "      <th>ihd</th>\n",
       "      <th>anxiety</th>\n",
       "      <th>eczema</th>\n",
       "      <th>nasalpolyps</th>\n",
       "      <th>paracetamol</th>\n",
       "      <th>nsaids</th>\n",
       "      <th>betablocker</th>\n",
       "    </tr>\n",
       "  </thead>\n",
       "  <tbody>\n",
       "    <tr>\n",
       "      <th>0</th>\n",
       "      <td>43231452</td>\n",
       "      <td>39</td>\n",
       "      <td>0.0</td>\n",
       "      <td>48</td>\n",
       "      <td>26.609713</td>\n",
       "      <td>76.0</td>\n",
       "      <td>1.6900</td>\n",
       "      <td>not_recorded</td>\n",
       "      <td>not_recorded</td>\n",
       "      <td>Active Smoker</td>\n",
       "      <td>...</td>\n",
       "      <td>0</td>\n",
       "      <td>0</td>\n",
       "      <td>0</td>\n",
       "      <td>0</td>\n",
       "      <td>0</td>\n",
       "      <td>0</td>\n",
       "      <td>0</td>\n",
       "      <td>0</td>\n",
       "      <td>0</td>\n",
       "      <td>0</td>\n",
       "    </tr>\n",
       "    <tr>\n",
       "      <th>1</th>\n",
       "      <td>43206365</td>\n",
       "      <td>39</td>\n",
       "      <td>1.0</td>\n",
       "      <td>58</td>\n",
       "      <td>23.946360</td>\n",
       "      <td>72.5</td>\n",
       "      <td>1.7400</td>\n",
       "      <td>not_recorded</td>\n",
       "      <td>not_recorded</td>\n",
       "      <td>Former Smoker</td>\n",
       "      <td>...</td>\n",
       "      <td>0</td>\n",
       "      <td>0</td>\n",
       "      <td>0</td>\n",
       "      <td>0</td>\n",
       "      <td>1</td>\n",
       "      <td>0</td>\n",
       "      <td>0</td>\n",
       "      <td>0</td>\n",
       "      <td>0</td>\n",
       "      <td>0</td>\n",
       "    </tr>\n",
       "    <tr>\n",
       "      <th>2</th>\n",
       "      <td>43203606</td>\n",
       "      <td>559</td>\n",
       "      <td>0.0</td>\n",
       "      <td>51</td>\n",
       "      <td>17.104513</td>\n",
       "      <td>39.0</td>\n",
       "      <td>1.5100</td>\n",
       "      <td>not_recorded</td>\n",
       "      <td>not_recorded</td>\n",
       "      <td>Active Smoker</td>\n",
       "      <td>...</td>\n",
       "      <td>0</td>\n",
       "      <td>0</td>\n",
       "      <td>0</td>\n",
       "      <td>0</td>\n",
       "      <td>0</td>\n",
       "      <td>1</td>\n",
       "      <td>0</td>\n",
       "      <td>0</td>\n",
       "      <td>0</td>\n",
       "      <td>0</td>\n",
       "    </tr>\n",
       "    <tr>\n",
       "      <th>3</th>\n",
       "      <td>43117348</td>\n",
       "      <td>502</td>\n",
       "      <td>0.0</td>\n",
       "      <td>69</td>\n",
       "      <td>35.303241</td>\n",
       "      <td>74.0</td>\n",
       "      <td>1.4478</td>\n",
       "      <td>not_recorded</td>\n",
       "      <td>not_recorded</td>\n",
       "      <td>Former Smoker</td>\n",
       "      <td>...</td>\n",
       "      <td>1</td>\n",
       "      <td>0</td>\n",
       "      <td>0</td>\n",
       "      <td>0</td>\n",
       "      <td>0</td>\n",
       "      <td>1</td>\n",
       "      <td>0</td>\n",
       "      <td>0</td>\n",
       "      <td>0</td>\n",
       "      <td>0</td>\n",
       "    </tr>\n",
       "    <tr>\n",
       "      <th>4</th>\n",
       "      <td>43289035</td>\n",
       "      <td>593</td>\n",
       "      <td>0.0</td>\n",
       "      <td>49</td>\n",
       "      <td>31.217482</td>\n",
       "      <td>75.0</td>\n",
       "      <td>1.5500</td>\n",
       "      <td>White British</td>\n",
       "      <td>White - ethnic group</td>\n",
       "      <td>Active Smoker</td>\n",
       "      <td>...</td>\n",
       "      <td>0</td>\n",
       "      <td>0</td>\n",
       "      <td>0</td>\n",
       "      <td>0</td>\n",
       "      <td>0</td>\n",
       "      <td>1</td>\n",
       "      <td>0</td>\n",
       "      <td>0</td>\n",
       "      <td>0</td>\n",
       "      <td>0</td>\n",
       "    </tr>\n",
       "  </tbody>\n",
       "</table>\n",
       "<p>5 rows × 99 columns</p>\n",
       "</div>"
      ],
      "text/plain": [
       "      patid  practice_id  sex  age        BMI  weight  height      ethnicity  \\\n",
       "0  43231452           39  0.0   48  26.609713    76.0  1.6900   not_recorded   \n",
       "1  43206365           39  1.0   58  23.946360    72.5  1.7400   not_recorded   \n",
       "2  43203606          559  0.0   51  17.104513    39.0  1.5100   not_recorded   \n",
       "3  43117348          502  0.0   69  35.303241    74.0  1.4478   not_recorded   \n",
       "4  43289035          593  0.0   49  31.217482    75.0  1.5500  White British   \n",
       "\n",
       "           ethnic_group  smokingStatus  ...  psoriasis  anaphylaxis  diabetes  \\\n",
       "0          not_recorded  Active Smoker  ...          0            0         0   \n",
       "1          not_recorded  Former Smoker  ...          0            0         0   \n",
       "2          not_recorded  Active Smoker  ...          0            0         0   \n",
       "3          not_recorded  Former Smoker  ...          1            0         0   \n",
       "4  White - ethnic group  Active Smoker  ...          0            0         0   \n",
       "\n",
       "   ihd  anxiety  eczema  nasalpolyps  paracetamol  nsaids  betablocker  \n",
       "0    0        0       0            0            0       0            0  \n",
       "1    0        1       0            0            0       0            0  \n",
       "2    0        0       1            0            0       0            0  \n",
       "3    0        0       1            0            0       0            0  \n",
       "4    0        0       1            0            0       0            0  \n",
       "\n",
       "[5 rows x 99 columns]"
      ]
     },
     "execution_count": 6,
     "metadata": {},
     "output_type": "execute_result"
    }
   ],
   "source": [
    "features.head()"
   ]
  },
  {
   "cell_type": "code",
   "execution_count": 7,
   "id": "03d70236-7158-4812-8a5b-d5d9890a94e4",
   "metadata": {
    "tags": []
   },
   "outputs": [
    {
     "data": {
      "text/html": [
       "<div>\n",
       "<style scoped>\n",
       "    .dataframe tbody tr th:only-of-type {\n",
       "        vertical-align: middle;\n",
       "    }\n",
       "\n",
       "    .dataframe tbody tr th {\n",
       "        vertical-align: top;\n",
       "    }\n",
       "\n",
       "    .dataframe thead th {\n",
       "        text-align: right;\n",
       "    }\n",
       "</style>\n",
       "<table border=\"1\" class=\"dataframe\">\n",
       "  <thead>\n",
       "    <tr style=\"text-align: right;\">\n",
       "      <th></th>\n",
       "      <th>patid</th>\n",
       "      <th>outcome_3months</th>\n",
       "      <th>outcome_6months</th>\n",
       "      <th>outcome_9months</th>\n",
       "      <th>outcome_12months</th>\n",
       "      <th>outcome_15months</th>\n",
       "      <th>outcome_18months</th>\n",
       "      <th>outcome_21months</th>\n",
       "      <th>outcome_24months</th>\n",
       "      <th>outcome_combined_6months</th>\n",
       "      <th>outcome_combined_9months</th>\n",
       "      <th>outcome_combined_12months</th>\n",
       "      <th>outcome_combined_15months</th>\n",
       "      <th>outcome_combined_18months</th>\n",
       "      <th>outcome_combined_24months</th>\n",
       "    </tr>\n",
       "  </thead>\n",
       "  <tbody>\n",
       "    <tr>\n",
       "      <th>0</th>\n",
       "      <td>43231452</td>\n",
       "      <td>0</td>\n",
       "      <td>0</td>\n",
       "      <td>0</td>\n",
       "      <td>0</td>\n",
       "      <td>0</td>\n",
       "      <td>0</td>\n",
       "      <td>0</td>\n",
       "      <td>0</td>\n",
       "      <td>0</td>\n",
       "      <td>0</td>\n",
       "      <td>0</td>\n",
       "      <td>0</td>\n",
       "      <td>0</td>\n",
       "      <td>0</td>\n",
       "    </tr>\n",
       "    <tr>\n",
       "      <th>1</th>\n",
       "      <td>43206365</td>\n",
       "      <td>0</td>\n",
       "      <td>0</td>\n",
       "      <td>0</td>\n",
       "      <td>0</td>\n",
       "      <td>0</td>\n",
       "      <td>0</td>\n",
       "      <td>0</td>\n",
       "      <td>0</td>\n",
       "      <td>0</td>\n",
       "      <td>0</td>\n",
       "      <td>0</td>\n",
       "      <td>0</td>\n",
       "      <td>0</td>\n",
       "      <td>0</td>\n",
       "    </tr>\n",
       "    <tr>\n",
       "      <th>2</th>\n",
       "      <td>43203606</td>\n",
       "      <td>0</td>\n",
       "      <td>0</td>\n",
       "      <td>0</td>\n",
       "      <td>0</td>\n",
       "      <td>0</td>\n",
       "      <td>0</td>\n",
       "      <td>0</td>\n",
       "      <td>0</td>\n",
       "      <td>0</td>\n",
       "      <td>0</td>\n",
       "      <td>0</td>\n",
       "      <td>0</td>\n",
       "      <td>0</td>\n",
       "      <td>0</td>\n",
       "    </tr>\n",
       "    <tr>\n",
       "      <th>3</th>\n",
       "      <td>43117348</td>\n",
       "      <td>0</td>\n",
       "      <td>0</td>\n",
       "      <td>0</td>\n",
       "      <td>0</td>\n",
       "      <td>0</td>\n",
       "      <td>0</td>\n",
       "      <td>0</td>\n",
       "      <td>0</td>\n",
       "      <td>0</td>\n",
       "      <td>0</td>\n",
       "      <td>0</td>\n",
       "      <td>0</td>\n",
       "      <td>0</td>\n",
       "      <td>0</td>\n",
       "    </tr>\n",
       "    <tr>\n",
       "      <th>4</th>\n",
       "      <td>43289035</td>\n",
       "      <td>0</td>\n",
       "      <td>0</td>\n",
       "      <td>0</td>\n",
       "      <td>0</td>\n",
       "      <td>0</td>\n",
       "      <td>0</td>\n",
       "      <td>0</td>\n",
       "      <td>0</td>\n",
       "      <td>0</td>\n",
       "      <td>0</td>\n",
       "      <td>0</td>\n",
       "      <td>0</td>\n",
       "      <td>0</td>\n",
       "      <td>0</td>\n",
       "    </tr>\n",
       "  </tbody>\n",
       "</table>\n",
       "</div>"
      ],
      "text/plain": [
       "      patid  outcome_3months  outcome_6months  outcome_9months  \\\n",
       "0  43231452                0                0                0   \n",
       "1  43206365                0                0                0   \n",
       "2  43203606                0                0                0   \n",
       "3  43117348                0                0                0   \n",
       "4  43289035                0                0                0   \n",
       "\n",
       "   outcome_12months  outcome_15months  outcome_18months  outcome_21months  \\\n",
       "0                 0                 0                 0                 0   \n",
       "1                 0                 0                 0                 0   \n",
       "2                 0                 0                 0                 0   \n",
       "3                 0                 0                 0                 0   \n",
       "4                 0                 0                 0                 0   \n",
       "\n",
       "   outcome_24months  outcome_combined_6months  outcome_combined_9months  \\\n",
       "0                 0                         0                         0   \n",
       "1                 0                         0                         0   \n",
       "2                 0                         0                         0   \n",
       "3                 0                         0                         0   \n",
       "4                 0                         0                         0   \n",
       "\n",
       "   outcome_combined_12months  outcome_combined_15months  \\\n",
       "0                          0                          0   \n",
       "1                          0                          0   \n",
       "2                          0                          0   \n",
       "3                          0                          0   \n",
       "4                          0                          0   \n",
       "\n",
       "   outcome_combined_18months  outcome_combined_24months  \n",
       "0                          0                          0  \n",
       "1                          0                          0  \n",
       "2                          0                          0  \n",
       "3                          0                          0  \n",
       "4                          0                          0  "
      ]
     },
     "execution_count": 7,
     "metadata": {},
     "output_type": "execute_result"
    }
   ],
   "source": [
    "outcomes.head()"
   ]
  },
  {
   "cell_type": "code",
   "execution_count": 8,
   "id": "862ee9fb",
   "metadata": {
    "tags": []
   },
   "outputs": [
    {
     "name": "stdout",
     "output_type": "stream",
     "text": [
      "original data shape:  (580607, 101)\n"
     ]
    }
   ],
   "source": [
    "masterData = features.merge(outcomes, how = 'left', left_on='patid', right_on='patid') #join table\n",
    "# masterData = masterData.dropna() #NAs from Country\n",
    "masterData = masterData.reset_index(drop=True)\n",
    "exclude_columns = ['weight', 'height', 'id', 'event_date', 'recorded_date', 'visit_id', 'code_id', 'snomed_id',\n",
    "       'numeric_1', 'numeric_2', 'created_datetime', 'updated_datetime',]\n",
    "masterData = masterData.loc[:,~masterData.columns.isin(exclude_columns)]\n",
    "masterData = masterData.rename({'outcome_3months': '3months', 'outcome_combined_6months': '6months','outcome_combined_12months': '12months','outcome_combined_24months': '24months',}, axis=1)\n",
    "print('original data shape: ', masterData.shape)"
   ]
  },
  {
   "cell_type": "code",
   "execution_count": 9,
   "id": "48e347d6-3a9f-4008-b9db-d73475693da6",
   "metadata": {
    "tags": []
   },
   "outputs": [
    {
     "name": "stdout",
     "output_type": "stream",
     "text": [
      "Data shape for scenario 1 (580607, 101)\n"
     ]
    }
   ],
   "source": [
    "#Data scenario\n",
    "# 1: all data without ethnicity variable\n",
    "# 2: all data with ethnicity variable (include all missing values in ethnicity as separate group)\n",
    "# 3: filter data based on ethnicity (exclude missing values)\n",
    "\n",
    "scenario = 1 #change it based on the scenario\n",
    "\n",
    "if scenario == 1:\n",
    "    #include all data\n",
    "    allData = masterData\n",
    "    \n",
    "elif scenario == 2:\n",
    "    #Exclude ethnic column\n",
    "    allData = masterData.drop('ethnic_group', axis=1)\n",
    "    \n",
    "elif scenario == 3:\n",
    "    #exclude missing values for ethnic variable\n",
    "    allData = masterData[masterData.ethnic_group!='not_recorded']\n",
    "    \n",
    "allData = allData.reset_index(drop=True)\n",
    "print('Data shape for scenario', str(scenario), allData.shape)\n",
    "\n"
   ]
  },
  {
   "cell_type": "code",
   "execution_count": 10,
   "id": "2b2ddc20-4158-4c1b-93df-4043c7c16520",
   "metadata": {
    "tags": []
   },
   "outputs": [
    {
     "name": "stdout",
     "output_type": "stream",
     "text": [
      "Training data shape: (557782, 100)\n",
      "Evaluation data shape:  (22825, 100)\n",
      "Evaluation data Wales shape:  (14485, 100)\n",
      "Evaluation data Scotland shape:  (8340, 100)\n"
     ]
    }
   ],
   "source": [
    "#Split data into training and evaluation set based on the country. Include only 18+ patients.\n",
    "\n",
    "trainingData = allData[(allData.Country == 'England') & (allData.age>=18)]\n",
    "evaluationData = allData[((allData.Country == 'Scotland') | (allData.Country == 'Wales')) & (allData.age>=18)] #used for validation\n",
    "evaluationDataWales = allData[(allData.Country == 'Wales') & (allData.age>=18)] #used for validation\n",
    "evaluationDataScotland = allData[(allData.Country == 'Scotland') & (allData.age>=18)] #used for validation\n",
    "\n",
    "#remove country variable\n",
    "trainingData = trainingData.drop('Country', axis=1)\n",
    "evaluationData = evaluationData.drop('Country', axis=1)\n",
    "evaluationDataWales = evaluationDataWales.drop('Country', axis=1)\n",
    "evaluationDataScotland = evaluationDataScotland.drop('Country', axis=1)\n",
    "\n",
    "trainingData = trainingData.reset_index(drop=True)\n",
    "evaluationData = evaluationData.reset_index(drop=True)\n",
    "evaluationDataWales = evaluationDataWales.reset_index(drop=True)\n",
    "evaluationDataScotland = evaluationDataScotland.reset_index(drop=True)\n",
    "\n",
    "print('Training data shape:', trainingData.shape)\n",
    "print('Evaluation data shape: ', evaluationData.shape)\n",
    "print('Evaluation data Wales shape: ', evaluationDataWales.shape)\n",
    "print('Evaluation data Scotland shape: ', evaluationDataScotland.shape)"
   ]
  },
  {
   "cell_type": "code",
   "execution_count": 11,
   "id": "4dab986e-f533-41c7-810c-442127311122",
   "metadata": {
    "tags": []
   },
   "outputs": [
    {
     "name": "stdout",
     "output_type": "stream",
     "text": [
      "Data shape after encoding:  (557782, 125)\n"
     ]
    }
   ],
   "source": [
    "#encode categorical data\n",
    "\n",
    "cat_vars = ['PEFStatus','EosinophilLevel']\n",
    "onehot_vars = ['ethnic_group','smokingStatus', 'DeviceType', 'cat_BMI', 'imd_decile']\n",
    "data_categorical = trainingData[cat_vars]\n",
    "data_onehot = trainingData[onehot_vars]\n",
    "\n",
    "#ordinal encoder\n",
    "encoder = OrdinalEncoder(categories=[['not_recorded','less than 60', '60-80', 'more than 80'], ['unknown', 'normal', 'high']]).set_output(transform=\"pandas\")\n",
    "data_encoded = encoder.fit_transform(data_categorical)\n",
    "pickle.dump(encoder, open('../Models/cat_encoder.pkl', 'wb'))\n",
    "    \n",
    "#one hot encoder\n",
    "onehot_encoder = OneHotEncoder(sparse_output=False).set_output(transform=\"pandas\")\n",
    "onehot_encoded = onehot_encoder.fit_transform(data_onehot)\n",
    "pickle.dump(onehot_encoder, open('../Models/onehot_encoder.pkl', 'wb'))\n",
    "\n",
    "trainingData = pd.concat([trainingData.drop(cat_vars, axis=1), data_encoded], axis=1)\n",
    "trainingData = pd.concat([trainingData.drop(onehot_vars, axis=1), onehot_encoded], axis=1)\n",
    "\n",
    "print('Data shape after encoding: ', trainingData.shape)"
   ]
  },
  {
   "cell_type": "code",
   "execution_count": 12,
   "id": "a26da411-500c-4b6d-b9eb-a973ee8b8dc4",
   "metadata": {
    "tags": []
   },
   "outputs": [
    {
     "name": "stdout",
     "output_type": "stream",
     "text": [
      "Data shape after encoding:  (22825, 125)\n",
      "Evaluation data Wales shape:  (14485, 125)\n",
      "Evaluation data Scotland shape:  (8340, 125)\n"
     ]
    }
   ],
   "source": [
    "#encode cat vars for evaluation set\n",
    "data_eval_categorical = evaluationData[cat_vars]\n",
    "data_eval_onehot = evaluationData[onehot_vars]\n",
    "data_eval_Wales_categorical = evaluationDataWales[cat_vars]\n",
    "data_eval_Wales_onehot = evaluationDataWales[onehot_vars]\n",
    "data_eval_Scotland_categorical = evaluationDataScotland[cat_vars]\n",
    "data_eval_Scotland_onehot = evaluationDataScotland[onehot_vars]\n",
    "\n",
    "encoder = pickle.load(open('../Models/cat_encoder.pkl', 'rb'))\n",
    "data_eval_encoded = encoder.transform(data_eval_categorical)\n",
    "data_eval_Wales_encoded = encoder.transform(data_eval_Wales_categorical)\n",
    "data_eval_Scotland_encoded = encoder.transform(data_eval_Scotland_categorical)\n",
    "\n",
    "onehot_encoder = pickle.load(open('../Models/onehot_encoder.pkl', 'rb'))\n",
    "onehot_eval_encoded = onehot_encoder.transform(data_eval_onehot)\n",
    "onehot_eval_Wales_encoded = onehot_encoder.transform(data_eval_Wales_onehot)\n",
    "onehot_eval_Scotland_encoded = onehot_encoder.transform(data_eval_Scotland_onehot)\n",
    "\n",
    "evaluationData = pd.concat([evaluationData.drop(cat_vars, axis=1), data_eval_encoded], axis=1)\n",
    "evaluationData = pd.concat([evaluationData.drop(onehot_vars, axis=1), onehot_eval_encoded], axis=1)\n",
    "\n",
    "evaluationDataWales = pd.concat([evaluationDataWales.drop(cat_vars, axis=1), data_eval_Wales_encoded], axis=1)\n",
    "evaluationDataWales = pd.concat([evaluationDataWales.drop(onehot_vars, axis=1), onehot_eval_Wales_encoded], axis=1)\n",
    "\n",
    "evaluationDataScotland = pd.concat([evaluationDataScotland.drop(cat_vars, axis=1), data_eval_Scotland_encoded], axis=1)\n",
    "evaluationDataScotland = pd.concat([evaluationDataScotland.drop(onehot_vars, axis=1), onehot_eval_Scotland_encoded], axis=1)\n",
    "\n",
    "print('Data shape after encoding: ', evaluationData.shape)\n",
    "print('Evaluation data Wales shape: ', evaluationDataWales.shape)\n",
    "print('Evaluation data Scotland shape: ', evaluationDataScotland.shape)"
   ]
  },
  {
   "cell_type": "code",
   "execution_count": 13,
   "id": "2a0563a7-f5bb-474d-b954-8907d5d6de91",
   "metadata": {
    "tags": []
   },
   "outputs": [
    {
     "name": "stdout",
     "output_type": "stream",
     "text": [
      "Data shape after scaling:  (557782, 125)\n"
     ]
    }
   ],
   "source": [
    "#Data normalisation for continous variable into 0-1 range\n",
    "\n",
    "\n",
    "continuous_vars = ['age', 'CharlsonScore', 'average_daily_dose_ICS', 'prescribed_daily_dose_ICS', 'ICS_medication_possesion_ratio', \n",
    "                   'numOCS', 'numPCS', 'numPCSAsthma', 'numAntibioticsEvents', 'numAntibioticswithLRTI', 'numOCSEvents', 'numOCSwithLRTI', \n",
    "                   'numAsthmaAttacks', 'numAcuteRespEvents', 'numHospEvents']\n",
    "\n",
    "# define scaler\n",
    "scaler = StandardScaler()\n",
    "data_scaled = scaler.fit_transform(trainingData[continuous_vars])\n",
    "pickle.dump(scaler, open('../Models/cont_scaler.pkl', 'wb'))\n",
    "\n",
    "\n",
    "data_scaled = pd.DataFrame(data_scaled, columns=scaler.get_feature_names_out())\n",
    "trainingData = pd.concat([trainingData.drop(continuous_vars, axis=1), data_scaled], axis=1)\n",
    "\n",
    "print('Data shape after scaling: ', trainingData.shape)"
   ]
  },
  {
   "cell_type": "code",
   "execution_count": 14,
   "id": "e5c49212-5785-490c-96be-7ccc65ce801c",
   "metadata": {
    "tags": []
   },
   "outputs": [
    {
     "name": "stdout",
     "output_type": "stream",
     "text": [
      "Data shape after scaling:  (22825, 125)\n",
      "Evaluation data Wales shape:  (14485, 125)\n",
      "Evaluation data Scotland shape:  (8340, 125)\n"
     ]
    }
   ],
   "source": [
    "#Normalisation for evaluation data\n",
    "\n",
    "scaler = pickle.load(open('../Models/cont_scaler.pkl', 'rb'))\n",
    "data_eval_scaled = scaler.transform(evaluationData[continuous_vars])\n",
    "data_eval_Wales_scaled = scaler.transform(evaluationDataWales[continuous_vars])\n",
    "data_eval_Scotland_scaled = scaler.transform(evaluationDataScotland[continuous_vars])\n",
    "\n",
    "data_eval_scaled = pd.DataFrame(data_eval_scaled, columns=scaler.get_feature_names_out())\n",
    "evaluationData = pd.concat([evaluationData.drop(continuous_vars, axis=1), data_eval_scaled], axis=1)\n",
    "\n",
    "data_eval_Wales_scaled = pd.DataFrame(data_eval_Wales_scaled, columns=scaler.get_feature_names_out())\n",
    "evaluationDataWales = pd.concat([evaluationDataWales.drop(continuous_vars, axis=1), data_eval_Wales_scaled], axis=1)\n",
    "\n",
    "data_eval_Scotland_scaled = pd.DataFrame(data_eval_Scotland_scaled, columns=scaler.get_feature_names_out())\n",
    "evaluationDataScotland = pd.concat([evaluationDataScotland.drop(continuous_vars, axis=1), data_eval_Scotland_scaled], axis=1)\n",
    "\n",
    "print('Data shape after scaling: ', evaluationData.shape)\n",
    "print('Evaluation data Wales shape: ', evaluationDataWales.shape)\n",
    "print('Evaluation data Scotland shape: ', evaluationDataScotland.shape)"
   ]
  },
  {
   "cell_type": "code",
   "execution_count": 15,
   "id": "f81e0adc-7a4b-4e28-852c-811c20125656",
   "metadata": {
    "tags": []
   },
   "outputs": [
    {
     "name": "stdout",
     "output_type": "stream",
     "text": [
      "Features size:  71\n",
      "['sex', 'BTS_step', 'PriorEducation', 'month_12', 'month_4', 'month_5', 'month_10', 'month_1', 'month_6', 'month_3', 'month_11', 'month_8', 'month_9', 'month_7', 'month_2', 'rhinitis', 'cardiovascular', 'heartfailure', 'psoriasis', 'anaphylaxis', 'diabetes', 'ihd', 'anxiety', 'eczema', 'nasalpolyps', 'PEFStatus', 'EosinophilLevel', 'ethnic_group_Asian - ethnic group', 'ethnic_group_Black - ethnic group', 'ethnic_group_Mixed ethnic census group', 'ethnic_group_Other ethnic group', 'ethnic_group_White - ethnic group', 'ethnic_group_not_recorded', 'smokingStatus_Active Smoker', 'smokingStatus_Former Smoker', 'smokingStatus_Non Smoker', 'DeviceType_BAI', 'DeviceType_DPI', 'DeviceType_NEB', 'DeviceType_pMDI', 'DeviceType_unknown', 'cat_BMI_normal', 'cat_BMI_not recorded', 'cat_BMI_obese', 'cat_BMI_overweight', 'cat_BMI_underweight', 'imd_decile_0', 'imd_decile_1', 'imd_decile_2', 'imd_decile_3', 'imd_decile_4', 'imd_decile_5', 'imd_decile_6', 'imd_decile_7', 'imd_decile_8', 'imd_decile_9', 'imd_decile_10', 'age', 'CharlsonScore', 'average_daily_dose_ICS', 'prescribed_daily_dose_ICS', 'ICS_medication_possesion_ratio', 'numOCS', 'numPCS', 'numPCSAsthma', 'numAntibioticsEvents', 'numAntibioticswithLRTI', 'numOCSwithLRTI', 'numAsthmaAttacks', 'numAcuteRespEvents', 'numHospEvents']\n"
     ]
    }
   ],
   "source": [
    "#Define feature candidates\n",
    "\n",
    "features_columns = trainingData.columns.to_list()\n",
    "exclude_columns = ['patid', 'practice_id', #identifier\n",
    "                   'BMI', #use the categorical instead\n",
    "                   'ethnicity', #use ethnic_group instead\n",
    "                   'Spacer',  #all zero\n",
    "                   \n",
    "                   'outcome_3months', 'outcome_6months', 'outcome_9months', 'outcome_12months', 'outcome_15months', 'outcome_18months', \n",
    "                   'outcome_21months', 'outcome_24months', 'outcome_combined_6months', 'outcome_combined_9months', 'outcome_combined_12months', \n",
    "                   'outcome_combined_15months', 'outcome_combined_18months', 'outcome_combined_24months', '3months', '6months', '12months', '24months', #outcomes variable\n",
    "                   \n",
    "                   'postcode_district', 'County', 'LocalAuthority', 'OutputAreaClassification', #location related variables, use IMD decile only\n",
    "                   \n",
    "                   'cat_age', 'cat_average_daily_dose_ICS', 'cat_prescribed_daily_dose_ICS', 'cat_ICS_medication_possesion_ratio', 'cat_numOCS', 'cat_numOCSEvents', \n",
    "                   'cat_numOCSwithLRTI', 'cat_numAcuteRespEvents', 'cat_numAntibioticsEvents', 'cat_numAntibioticswithLRTI', 'cat_numAsthmaAttacks', 'cat_numHospEvents', \n",
    "                   'cat_numPCS', 'cat_numPCSAsthma', #use continous vars instead\n",
    "                   \n",
    "                   'count_rhinitis', 'count_cardiovascular', 'count_heartfailure',\n",
    "                   'count_psoriasis', 'count_anaphylaxis', 'count_diabetes', 'count_ihd',\n",
    "                   'count_anxiety', 'count_eczema', 'count_nasalpolyps',\n",
    "                   'count_paracetamol', 'count_nsaids', 'count_betablocker', #use binary ones\n",
    "                   \n",
    "                   'paracetamol', 'nsaids', 'betablocker', #no data in evaluation\n",
    "                   \n",
    "                   'numOCSEvents', #duplicate with numOCS\n",
    "                  ]\n",
    "exclude_columns = exclude_columns + [x for x in features_columns if '_count' in x] #filter out commorbid count variables\n",
    "features_columns = [x for x in features_columns if x not in exclude_columns]\n",
    "print('Features size: ', len(features_columns))\n",
    "print(features_columns)"
   ]
  },
  {
   "cell_type": "code",
   "execution_count": 16,
   "id": "1483ee06-230b-40f9-8558-09545cbdae54",
   "metadata": {
    "tags": []
   },
   "outputs": [],
   "source": [
    "#ONE HOT encoding for categorical data\n",
    "\n",
    "# categoricalNonnumericVars = pd.Series(list(set(categoricalNonnumericVars).intersection(set(features_columns)))).tolist() #select only variables within the feature candidate list\n",
    "\n",
    "# # define one hot encoder\n",
    "# categoricalEncoder = OneHotEncoder(sparse=False)\n",
    "\n",
    "# # transform data\n",
    "# result = categoricalEncoder.fit_transform(trainingData[categoricalNonnumericVars]) \n",
    "# result = pd.DataFrame(result, columns=categoricalEncoder.get_feature_names_out())\n",
    "\n",
    "# #save encoder\n",
    "# pickle.dump(categoricalEncoder, open('./models/categoricalEncoder.pkl', 'wb'))\n",
    "\n",
    "# # replace categorical variables in the original data with the one hot version\n",
    "# trainingData = pd.concat([trainingData.loc[:, ~trainingData.columns.isin(categoricalNonnumericVars)],result], axis=1)\n",
    "# print('Data shape after one-hot encoding: ', trainingData.shape)"
   ]
  },
  {
   "cell_type": "code",
   "execution_count": 17,
   "id": "9f56f78d-dce5-45d8-b48e-36850b75a73b",
   "metadata": {
    "tags": []
   },
   "outputs": [],
   "source": [
    "# #Scaling continous variable into 0-1 range\n",
    "\n",
    "# # summaryData = allData.describe().T\n",
    "# continuous_vars = summaryData[summaryData['max'] >5].index.to_list() + ['numHospEvents'] #Num hospital events is continuous with \n",
    "# continuous_vars = pd.Series(list(set(continuous_vars).intersection(set(features_columns)))).tolist() #select only variables within the feature candidate list\n",
    "\n",
    "# # define scaler\n",
    "# scaler = MinMaxScaler()\n",
    "\n",
    "# #save scaler\n",
    "# pickle.dump(scaler, open('./models/scaler.pkl', 'wb'))\n",
    "\n",
    "\n",
    "# # transform data\n",
    "# result = scaler.fit_transform(trainingData[continuous_vars])\n",
    "# result = pd.DataFrame(result, columns=scaler.get_feature_names_out())\n",
    "\n",
    "# allData = pd.concat([trainingData.loc[:,~trainingData.columns.isin(continuous_vars)],result], axis=1)\n",
    "\n",
    "# print('Data shape after scaling: ', trainingData.shape)"
   ]
  },
  {
   "cell_type": "code",
   "execution_count": 18,
   "id": "9b24a133-cba6-4246-a8e5-91911d8f4d8e",
   "metadata": {
    "tags": []
   },
   "outputs": [],
   "source": [
    "# #ONE HOT encoding for evaluation dataset\n",
    "\n",
    "# # transform data\n",
    "# result = categoricalEncoder.transform(evaluationData[categoricalNonnumericVars]) \n",
    "# result = pd.DataFrame(result, columns=categoricalEncoder.get_feature_names_out())\n",
    "\n",
    "# # replace categorical variables in the original data with the one hot version\n",
    "# evaluationData = pd.concat([evaluationData.loc[:, ~evaluationData.columns.isin(categoricalNonnumericVars)],result], axis=1)\n",
    "# print('Data shape after one-hot encoding: ', evaluationData.shape)"
   ]
  },
  {
   "cell_type": "code",
   "execution_count": 19,
   "id": "1cad1832-4118-44c9-acdf-da61cefb7a76",
   "metadata": {
    "tags": []
   },
   "outputs": [],
   "source": [
    "# #Scaling continous variable into 0-1 range for evaluation dataset\n",
    "\n",
    "\n",
    "# # transform data\n",
    "# result = scaler.transform(evaluationData[continuous_vars])\n",
    "# result = pd.DataFrame(result, columns=scaler.get_feature_names_out())\n",
    "\n",
    "# evaluationData = pd.concat([evaluationData.loc[:,~evaluationData.columns.isin(continuous_vars)],result], axis=1)\n",
    "\n",
    "# print('Data shape after scaling: ', evaluationData.shape)"
   ]
  },
  {
   "cell_type": "markdown",
   "id": "7037f720-0ed4-4e4a-84c8-f511fadac736",
   "metadata": {
    "tags": []
   },
   "source": [
    "# UTILS"
   ]
  },
  {
   "cell_type": "code",
   "execution_count": 20,
   "id": "a4db59da-1f72-428e-9203-08d62c6d9090",
   "metadata": {
    "tags": []
   },
   "outputs": [],
   "source": [
    "#Model evaluation function\n",
    "\n",
    "def summariseResult (testX, testY, model):\n",
    "    preds = model.predict(testX)\n",
    "    tn, fp, fn, tp = confusion_matrix(testY, preds).ravel()\n",
    "    specificity = tn / (tn+fp)\n",
    "    sensitivity = tp / (tp+fn)\n",
    "    ppv = 100*tp/(tp+fp)\n",
    "    npv = 100*tn/(fn+tn)\n",
    "    acc = accuracy_score(testY, preds)\n",
    "    f1score = f1_score(testY, preds, average = 'binary')\n",
    "    balanceacc = balanced_accuracy_score(testY, preds)\n",
    "    fpr, tpr, thresholds = roc_curve(testY, preds, pos_label=1)\n",
    "    # aucscore = auc(fpr, tpr)\n",
    "    aucscore = roc_auc_score(testY, preds)\n",
    "    auprc = average_precision_score(testY, preds)\n",
    "    # plot_confusion_matrix(model, testX, testY, cmap='viridis')  \n",
    "    return np.round(acc,4), np.round(specificity,4), np.round(sensitivity,4), np.round(aucscore,4), np.round(auprc,4), np.round(balanceacc,4), np.round(f1score,4), np.round(ppv,4), np.round(npv,4)"
   ]
  },
  {
   "cell_type": "code",
   "execution_count": 21,
   "id": "2bfef79e-1dce-4010-b0cc-8694c6c79202",
   "metadata": {
    "tags": []
   },
   "outputs": [],
   "source": [
    "#Fix model name for visualisation\n",
    "\n",
    "def modelNameFixer(x):\n",
    "    if 'liblinear' in x:\n",
    "        return 'LR'\n",
    "    if 'l1_ratio' in x:\n",
    "        return 'Elastics'\n",
    "    elif 'GaussianNB' in x:\n",
    "        return 'GNB'\n",
    "    elif 'SVC' in x:\n",
    "        return 'SVC'\n",
    "    elif 'RandomForest' in x:\n",
    "        return 'RF'\n",
    "    elif 'XGB' in x:\n",
    "        return 'XGBoost'\n",
    "    elif 'DecisionTree' in x:\n",
    "        return 'DT'\n",
    "    else:\n",
    "        return 'LR'"
   ]
  },
  {
   "cell_type": "code",
   "execution_count": 22,
   "id": "7b28f624-2c79-4f33-bc78-84ba16c78938",
   "metadata": {
    "tags": []
   },
   "outputs": [],
   "source": [
    "# instantiate the model (using the default parameters)\n",
    "def build_models (X_train, y_train, target_outcome, params_dict, fold):\n",
    "    models = [] #list to store all the models\n",
    "    print(\"Building models . . . .\")\n",
    "\n",
    "    #LR\n",
    "    model = 'LR'\n",
    "    params = params_dict[(params_dict['outcome']==target_outcome)&(params_dict['model']==model)]['params'].tolist()[0]\n",
    "    # params = eval(params)\n",
    "    print(params)\n",
    "    lr_model = LogisticRegression(class_weight='balanced', C = params['C'], max_iter=params['max_iter'], solver=params['solver'], random_state=1234)\n",
    "    lr_model.fit(X_train,y_train)\n",
    "    pickle.dump(lr_model, open('../Models/'+ target_outcome + '/'+ model + str(fold) + '.sav', 'wb'))\n",
    "    models.append([model + str(fold), target_outcome, y_train.value_counts()[1]/y_train.value_counts()[0]]) \n",
    "    print(\"LR done\")\n",
    "\n",
    "    #Lasso\n",
    "    model = 'Lasso'\n",
    "    params = params_dict[(params_dict['outcome']==target_outcome)&(params_dict['model']==model)]['params'].tolist()[0]\n",
    "    # params = eval(params)\n",
    "    print(params)\n",
    "    lasso_model = LogisticRegression(class_weight='balanced',  C = params['C'], max_iter=params['max_iter'], penalty='l1', solver=params['solver'], random_state=1234) #only the LIBLINEAR and SAGA (added in v0.19) solvers handle the L1 penalty\n",
    "    lasso_model.fit(X_train, y_train)\n",
    "    pickle.dump(lasso_model, open('../Models/'+ target_outcome + '/'+ model + str(fold) + '.sav', 'wb'))\n",
    "    models.append([model + str(fold), target_outcome, y_train.value_counts()[1]/y_train.value_counts()[0]])\n",
    "    print(\"Lasso done\")\n",
    "    \n",
    "    #Elastics\n",
    "    model = 'Elastics'\n",
    "    params = params_dict[(params_dict['outcome']==target_outcome)&(params_dict['model']==model)]['params'].tolist()[0]\n",
    "    # params = eval(params)\n",
    "    print(params)\n",
    "    elastics_model = LogisticRegression(class_weight='balanced', solver='saga', l1_ratio=params['l1_ratio'], max_iter=params['max_iter'],  penalty = 'elasticnet', random_state=1234)\n",
    "    elastics_model.fit(X_train, y_train)\n",
    "    pickle.dump(elastics_model, open('../Models/'+ target_outcome + '/'+ model + str(fold) + '.sav', 'wb'))\n",
    "    models.append([model + str(fold), target_outcome, y_train.value_counts()[1]/y_train.value_counts()[0]])\n",
    "    print(\"Elastics done\")\n",
    "\n",
    "    #GNB\n",
    "    model = 'NB'\n",
    "    params = params_dict[(params_dict['outcome']==target_outcome)&(params_dict['model']==model)]['params'].tolist()[0]\n",
    "    # params = eval(params)\n",
    "    print(params)\n",
    "    gnb_model = GaussianNB(var_smoothing = params['var_smoothing'])\n",
    "    gnb_model.fit(X_train, y_train)\n",
    "    pickle.dump(gnb_model, open('../Models/'+ target_outcome + '/'+ model + str(fold) + '.sav', 'wb'))  \n",
    "    models.append([model + str(fold), target_outcome, y_train.value_counts()[1]/y_train.value_counts()[0]])\n",
    "    print(\"GNB done\")\n",
    "\n",
    "    # # #SVM\n",
    "    # model = 'SVM'\n",
    "    # params = params_dict[(params_dict['outcome']==target_outcome)&(params_dict['model']==model)]['params'].tolist()[0]\n",
    "    # # params = eval(params)\n",
    "    # print(params)\n",
    "    # svc_model = SVC(class_weight='balanced', C = params['C'], gamma=params['gamma'], kernel='rbf', random_state=1234, cache_size=1000)\n",
    "    # svc_model.fit(X_train,y_train)\n",
    "    # pickle.dump(svc_model, open('../Models/'+ target_outcome + '/'+ model + str(fold) + '.sav', 'wb')) \n",
    "    # models.append([model + str(fold), target_outcome, y_train.value_counts()[1]/y_train.value_counts()[0]])\n",
    "    # print(\"SVM done\")\n",
    "\n",
    "    #DT\n",
    "    model = 'DT'\n",
    "    params = params_dict[(params_dict['outcome']==target_outcome)&(params_dict['model']==model)]['params'].tolist()[0]\n",
    "    # params = eval(params)\n",
    "    print(params)\n",
    "    dt_model = DecisionTreeClassifier(class_weight='balanced', max_depth=params['max_depth'], criterion=params['criterion'], splitter=params['splitter'], random_state=1234)\n",
    "    dt_model.fit(X_train, y_train)\n",
    "    pickle.dump(dt_model, open('../Models/'+ target_outcome + '/'+ model + str(fold) + '.sav', 'wb'))    \n",
    "    models.append([model + str(fold), target_outcome, y_train.value_counts()[1]/y_train.value_counts()[0]])\n",
    "    print(\"DT done\")\n",
    "\n",
    "    #RF\n",
    "    model = 'RF'\n",
    "    params = params_dict[(params_dict['outcome']==target_outcome)&(params_dict['model']==model)]['params'].tolist()[0]\n",
    "    # params = eval(params)\n",
    "    print(params)\n",
    "    rf_model = RandomForestClassifier(class_weight='balanced', max_depth=params['max_depth'], criterion=params['criterion'], n_estimators=params['n_estimators'], random_state=1234)\n",
    "    rf_model.fit(X_train, y_train)\n",
    "    pickle.dump(rf_model, open('../Models/'+ target_outcome + '/'+ model + str(fold) + '.sav', 'wb'))     \n",
    "    models.append([model + str(fold), target_outcome, y_train.value_counts()[1]/y_train.value_counts()[0]])\n",
    "    print(\"RF done\")\n",
    "\n",
    "\n",
    "\n",
    "    #XGB\n",
    "    model = 'XGB'\n",
    "    params = params_dict[(params_dict['outcome']==target_outcome)&(params_dict['model']==model)]['params'].tolist()[0]\n",
    "    # params = eval(params)\n",
    "    print(params)\n",
    "    scale_pos_ratio = y_train.value_counts()[0]/y_train.value_counts()[1]\n",
    "    xgb_model = xgb.XGBClassifier(objective ='binary:logistic', max_depth = params['max_depth'], n_estimators = params['n_estimators'],   \n",
    "                                  learning_rate=params['learning_rate'], reg_alpha = params['reg_alpha'], reg_lambda = params['reg_lambda'],\n",
    "                                  importance_type = 'gain', scale_pos_weight = scale_pos_ratio, use_label_encoder=False, tree_method='gpu_hist', \n",
    "                                  gpu_id=0, verbosity = 0, random_state = 1234,)\n",
    "    # xgb_model = xgb.XGBClassifier(objective ='binary:logistic', learning_rate = 0.001, tree_method='gpu_hist', gpu_id=0,  verbosity = 0, random_state = 1234)\n",
    "    xgb_model.fit(X_train,y_train)\n",
    "    pickle.dump(xgb_model, open('../Models/'+ target_outcome + '/'+ model + str(fold) + '.sav', 'wb')) \n",
    "    models.append([model + str(fold),  target_outcome, y_train.value_counts()[1]/y_train.value_counts()[0]])\n",
    "    print(\"XGB done\")\n",
    "    \n",
    "    return models\n",
    "    # return [xgb_model]"
   ]
  },
  {
   "cell_type": "code",
   "execution_count": 23,
   "id": "8e131976-5d4b-49ee-a3aa-9fc0c7e3d32f",
   "metadata": {
    "tags": []
   },
   "outputs": [],
   "source": [
    "#Tree pruning\n",
    "from sklearn.tree._tree import TREE_LEAF\n",
    "\n",
    "def is_leaf(inner_tree, index):\n",
    "    # Check whether node is leaf node\n",
    "    return (inner_tree.children_left[index] == TREE_LEAF and \n",
    "            inner_tree.children_right[index] == TREE_LEAF)\n",
    "\n",
    "def prune_index(inner_tree, decisions, index=0):\n",
    "    # Start pruning from the bottom - if we start from the top, we might miss\n",
    "    # nodes that become leaves during pruning.\n",
    "    # Do not use this directly - use prune_duplicate_leaves instead.\n",
    "    if not is_leaf(inner_tree, inner_tree.children_left[index]):\n",
    "        prune_index(inner_tree, decisions, inner_tree.children_left[index])\n",
    "    if not is_leaf(inner_tree, inner_tree.children_right[index]):\n",
    "        prune_index(inner_tree, decisions, inner_tree.children_right[index])\n",
    "\n",
    "    # Prune children if both children are leaves now and make the same decision:     \n",
    "    if (is_leaf(inner_tree, inner_tree.children_left[index]) and\n",
    "        is_leaf(inner_tree, inner_tree.children_right[index]) and\n",
    "        (decisions[index] == decisions[inner_tree.children_left[index]]) and \n",
    "        (decisions[index] == decisions[inner_tree.children_right[index]])):\n",
    "        # turn node into a leaf by \"unlinking\" its children\n",
    "        inner_tree.children_left[index] = TREE_LEAF\n",
    "        inner_tree.children_right[index] = TREE_LEAF\n",
    "        ##print(\"Pruned {}\".format(index))\n",
    "\n",
    "def prune_duplicate_leaves(mdl):\n",
    "    # Remove leaves if both \n",
    "    decisions = mdl.tree_.value.argmax(axis=2).flatten().tolist() # Decision for each node\n",
    "    prune_index(mdl.tree_, decisions)"
   ]
  },
  {
   "cell_type": "code",
   "execution_count": 24,
   "id": "e7943bf7-283c-4d58-bd18-90623e4bc715",
   "metadata": {
    "tags": []
   },
   "outputs": [],
   "source": [
    "#Free GPU memory\n",
    "\n",
    "def free_gpu_cache():\n",
    "    print(\"Initial GPU Usage\")\n",
    "    gpu_usage()                             \n",
    "\n",
    "    torch.cuda.empty_cache()\n",
    "\n",
    "    cuda.select_device(0)\n",
    "    cuda.close()\n",
    "    cuda.select_device(0)\n",
    "\n",
    "    print(\"GPU Usage after emptying the cache\")\n",
    "    gpu_usage()\n",
    "\n",
    "   "
   ]
  },
  {
   "cell_type": "code",
   "execution_count": 25,
   "id": "3ceaf883-c7ee-44c8-a50e-aeffc6c13e75",
   "metadata": {
    "tags": []
   },
   "outputs": [
    {
     "name": "stdout",
     "output_type": "stream",
     "text": [
      "0.9606876940856725\n",
      "0.03931230591432759\n"
     ]
    }
   ],
   "source": [
    "print(trainingData.shape[0]/allData.shape[0])\n",
    "print(evaluationData.shape[0]/allData.shape[0])"
   ]
  },
  {
   "cell_type": "markdown",
   "id": "ba329484-ef88-4bba-a169-70f029879bf0",
   "metadata": {},
   "source": [
    "# Train Model"
   ]
  },
  {
   "cell_type": "code",
   "execution_count": 26,
   "id": "977620af-cffb-4e5d-a21f-8f5ff3df530d",
   "metadata": {
    "tags": []
   },
   "outputs": [],
   "source": [
    "X = trainingData[features_columns]\n",
    "X_test = evaluationData[features_columns]\n",
    "X_test_Wales = evaluationDataWales[features_columns]\n",
    "X_test_Scotland = evaluationDataScotland[features_columns]\n",
    "target_outcomes = ['3months', '6months', '12months', '24months'] \n",
    "model_names = ['LR', 'Lasso', 'NB', 'DT', 'RF', 'XGB']"
   ]
  },
  {
   "cell_type": "code",
   "execution_count": 27,
   "id": "b1662c29-01db-45e4-893a-32cb31a2fe91",
   "metadata": {
    "tags": []
   },
   "outputs": [
    {
     "name": "stdout",
     "output_type": "stream",
     "text": [
      "#######################################################\n",
      "3months\n",
      "0    0.971905\n",
      "1    0.028095\n",
      "Name: 3months, dtype: float64\n",
      "0    0.960263\n",
      "1    0.039737\n",
      "Name: 3months, dtype: float64\n",
      "#######################################################\n",
      "6months\n",
      "0    0.958299\n",
      "1    0.041701\n",
      "Name: 6months, dtype: float64\n",
      "0    0.938269\n",
      "1    0.061731\n",
      "Name: 6months, dtype: float64\n",
      "#######################################################\n",
      "12months\n",
      "0    0.929795\n",
      "1    0.070205\n",
      "Name: 12months, dtype: float64\n",
      "0    0.904447\n",
      "1    0.095553\n",
      "Name: 12months, dtype: float64\n",
      "#######################################################\n",
      "24months\n",
      "0    0.897096\n",
      "1    0.102904\n",
      "Name: 24months, dtype: float64\n",
      "0    0.867426\n",
      "1    0.132574\n",
      "Name: 24months, dtype: float64\n"
     ]
    }
   ],
   "source": [
    "for target_outcome in target_outcomes:\n",
    "    print('#######################################################')\n",
    "    print(target_outcome)\n",
    "    print(trainingData[target_outcome].value_counts(normalize=True))\n",
    "    print(evaluationData[target_outcome].value_counts(normalize=True))"
   ]
  },
  {
   "cell_type": "code",
   "execution_count": 28,
   "id": "7f225c66-5f1f-4331-a3c1-45e22ab444c8",
   "metadata": {
    "tags": []
   },
   "outputs": [],
   "source": [
    "#params\n",
    "params_dict = pd.read_csv('../Models/BS_result_1.csv')"
   ]
  },
  {
   "cell_type": "code",
   "execution_count": 29,
   "id": "31ecad82-f5e9-4a7d-a88d-06e082f75d20",
   "metadata": {
    "tags": []
   },
   "outputs": [],
   "source": [
    "def process_params(param_items, best_param):\n",
    "    a = eval(param_items)\n",
    "    b = eval(best_param)\n",
    "    c = {}\n",
    "    for key, value in zip(a,b):\n",
    "        c[key] = value\n",
    "    return c\n",
    "\n",
    "params_dict['params'] = params_dict.apply(lambda x: process_params(x.param_items, x.best_param), axis=1)"
   ]
  },
  {
   "cell_type": "code",
   "execution_count": null,
   "id": "5113ebb1-ca3d-4112-8380-c5a1c615db5a",
   "metadata": {
    "scrolled": true,
    "tags": []
   },
   "outputs": [],
   "source": [
    "%%time\n",
    "\n",
    "## k-fold\n",
    "\n",
    "#EXECUTE model training\n",
    "summary_result_train_kfold = []\n",
    "# summary_result = []\n",
    "# summary_result_Wales = []\n",
    "# summary_result_Scotland = []\n",
    "cols = ['model_name', 'fold', 'outcome', 'class_ratio', 'acc','spec','sens','auc', 'auprc', 'balance_accuracy', 'f1_score', 'ppv', 'npv']\n",
    "n_splits = 10\n",
    "\n",
    "for target_outcome in target_outcomes:\n",
    "    models = pd.DataFrame(columns=['modelname', 'target_outcome', 'class_ratio'])\n",
    "    print(target_outcome)\n",
    "    y = trainingData[target_outcome]\n",
    "    # y_test = evaluationData[target_outcome]\n",
    "    # y_test_Wales = evaluationDataWales[target_outcome]\n",
    "    # y_test_Scotland = evaluationDataScotland[target_outcome]\n",
    "    kf = StratifiedKFold(n_splits=n_splits, random_state=1234, shuffle=True)\n",
    "    kf.get_n_splits(X)\n",
    "    fold = 0\n",
    "    \n",
    "    for train_index, test_index in kf.split(X, y):\n",
    "        #split data\n",
    "        fold+=1\n",
    "        print(fold)\n",
    "        X_train, X_test = X.iloc[train_index], X.iloc[test_index]\n",
    "        y_train, y_test = y.iloc[train_index], y.iloc[test_index]\n",
    "\n",
    "        #Build models -> it can be commented if the models have been trained\n",
    "        models_temp = pd.DataFrame(build_models(X_train, y_train, target_outcome, params_dict, fold), columns=['modelname', 'target_outcome', 'class_ratio'])\n",
    "        models = pd.concat([models,models_temp]).reset_index(drop=True)\n",
    "    \n",
    "    \n",
    "        #evaluate model\n",
    "        for modelname, target_outcome, classratio in models.values:\n",
    "            # print('======================================================================')\n",
    "            print(modelname)\n",
    "            model = pickle.load(open('../Models/'+ target_outcome + '/'+ modelname + '.sav', 'rb'))\n",
    "            # summary_result.append((modelname, target_outcome, classratio, ) + summariseResult (X_test, y_test, model) )\n",
    "            # summary_result_Wales.append((modelname, target_outcome, classratio, ) + summariseResult (X_test_Wales, y_test_Wales, model) )       \n",
    "            # summary_result_Scotland.append((modelname, target_outcome, classratio, ) + summariseResult (X_test_Scotland, y_test_Scotland, model) )       \n",
    "            summary_result_train_kfold.append((modelname, fold, target_outcome, classratio, ) + summariseResult (X_test, y_test, model) )       \n",
    "\n",
    "            torch.cuda.empty_cache()\n",
    "\n",
    "\n",
    "# summary_result = pd.DataFrame(summary_result, columns=cols)\n",
    "# summary_result['model_num'] = summary_result.index\n",
    "\n",
    "# summary_result_Wales = pd.DataFrame(summary_result_Wales, columns=cols)\n",
    "# summary_result_Wales['model_num'] = summary_result_Wales.index\n",
    "\n",
    "# summary_result_Scotland = pd.DataFrame(summary_result_Scotland, columns=cols)\n",
    "# summary_result_Scotland['model_num'] = summary_result_Scotland.index\n",
    "\n",
    "summary_result_train_kfold = pd.DataFrame(summary_result_train_kfold, columns=cols)\n",
    "summary_result_train_kfold['model_num'] = summary_result_train_kfold.index\n"
   ]
  },
  {
   "cell_type": "code",
   "execution_count": null,
   "id": "11f3245e-4b4b-43e2-8b52-ff4ae33c027b",
   "metadata": {
    "tags": []
   },
   "outputs": [],
   "source": [
    "def split_modelname (x):\n",
    "    x = x.replace('LR', 'LR_')\n",
    "    x = x.replace('Lasso', 'Lasso_')\n",
    "    x = x.replace('Elastics', 'Elastics_')\n",
    "    x = x.replace('NB', 'NB_')\n",
    "    x = x.replace('DT', 'DT_')\n",
    "    x = x.replace('RF', 'RF_')\n",
    "    x = x.replace('XGB', 'XGB_')\n",
    "    return x\n",
    "summary_result_train_kfold['model_name'] = summary_result_train_kfold.model_name.apply(lambda x: split_modelname(x))\n",
    "summary_result_train_kfold['fold'] = summary_result_train_kfold.model_name.apply(lambda x: x.split('_')[1])\n",
    "summary_result_train_kfold['model_name'] = summary_result_train_kfold.model_name.apply(lambda x: x.split('_')[0])"
   ]
  },
  {
   "cell_type": "code",
   "execution_count": null,
   "id": "934084b5-36f2-4ccc-b19a-5e770f3d24f8",
   "metadata": {
    "tags": []
   },
   "outputs": [],
   "source": [
    "summary_result_train_kfold"
   ]
  },
  {
   "cell_type": "code",
   "execution_count": 30,
   "id": "6bf35146-ffe8-41e8-a831-a840906e440c",
   "metadata": {
    "scrolled": true,
    "tags": []
   },
   "outputs": [
    {
     "name": "stdout",
     "output_type": "stream",
     "text": [
      "3months\n",
      "Building models . . . .\n",
      "{'solver': 'liblinear', 'C': 0.3110204078235362, 'max_iter': 161}\n",
      "LR done\n",
      "{'solver': 'saga', 'C': 5.264286812182277, 'max_iter': 73}\n"
     ]
    },
    {
     "name": "stderr",
     "output_type": "stream",
     "text": [
      "/opt/conda/envs/rapids/lib/python3.10/site-packages/sklearn/linear_model/_sag.py:350: ConvergenceWarning: The max_iter was reached which means the coef_ did not converge\n",
      "  warnings.warn(\n"
     ]
    },
    {
     "name": "stdout",
     "output_type": "stream",
     "text": [
      "Lasso done\n",
      "{'l1_ratio': 0.12538683368444242, 'max_iter': 328}\n",
      "Elastics done\n",
      "{'var_smoothing': 2.771271564091625e-06}\n",
      "GNB done\n",
      "{'criterion': 'entropy', 'splitter': 'best', 'max_depth': 4}\n",
      "DT done\n",
      "{'criterion': 'gini', 'n_estimators': 281, 'max_depth': 4}\n",
      "RF done\n",
      "{'n_estimators': 251, 'max_depth': 5, 'learning_rate': 0.017952118813409648, 'reg_alpha': 0.0038566417152755203, 'reg_lambda': 1.547768166339415e-05}\n"
     ]
    },
    {
     "name": "stderr",
     "output_type": "stream",
     "text": [
      "/opt/conda/envs/rapids/lib/python3.10/site-packages/xgboost/sklearn.py:1395: UserWarning: `use_label_encoder` is deprecated in 1.7.0.\n",
      "  warnings.warn(\"`use_label_encoder` is deprecated in 1.7.0.\")\n"
     ]
    },
    {
     "name": "stdout",
     "output_type": "stream",
     "text": [
      "XGB done\n",
      "LR0\n",
      "Lasso0\n",
      "Elastics0\n",
      "NB0\n",
      "DT0\n",
      "RF0\n",
      "XGB0\n",
      "6months\n",
      "Building models . . . .\n",
      "{'solver': 'liblinear', 'C': 4.029759596937809, 'max_iter': 65}\n",
      "LR done\n",
      "{'solver': 'saga', 'C': 5.264286812182277, 'max_iter': 73}\n"
     ]
    },
    {
     "name": "stderr",
     "output_type": "stream",
     "text": [
      "/opt/conda/envs/rapids/lib/python3.10/site-packages/sklearn/linear_model/_sag.py:350: ConvergenceWarning: The max_iter was reached which means the coef_ did not converge\n",
      "  warnings.warn(\n"
     ]
    },
    {
     "name": "stdout",
     "output_type": "stream",
     "text": [
      "Lasso done\n",
      "{'l1_ratio': 0.12538683368444242, 'max_iter': 328}\n",
      "Elastics done\n",
      "{'var_smoothing': 2.771271564091625e-06}\n",
      "GNB done\n",
      "{'criterion': 'gini', 'splitter': 'best', 'max_depth': 4}\n",
      "DT done\n",
      "{'criterion': 'gini', 'n_estimators': 199, 'max_depth': 4}\n",
      "RF done\n",
      "{'n_estimators': 281, 'max_depth': 5, 'learning_rate': 0.014537455903050606, 'reg_alpha': 0.0007300378404486753, 'reg_lambda': 0.0005512251323396136}\n"
     ]
    },
    {
     "name": "stderr",
     "output_type": "stream",
     "text": [
      "/opt/conda/envs/rapids/lib/python3.10/site-packages/xgboost/sklearn.py:1395: UserWarning: `use_label_encoder` is deprecated in 1.7.0.\n",
      "  warnings.warn(\"`use_label_encoder` is deprecated in 1.7.0.\")\n"
     ]
    },
    {
     "name": "stdout",
     "output_type": "stream",
     "text": [
      "XGB done\n",
      "LR0\n",
      "Lasso0\n",
      "Elastics0\n",
      "NB0\n",
      "DT0\n",
      "RF0\n",
      "XGB0\n",
      "12months\n",
      "Building models . . . .\n",
      "{'solver': 'liblinear', 'C': 4.321921577616365, 'max_iter': 142}\n",
      "LR done\n",
      "{'solver': 'saga', 'C': 9.424940225483164, 'max_iter': 68}\n"
     ]
    },
    {
     "name": "stderr",
     "output_type": "stream",
     "text": [
      "/opt/conda/envs/rapids/lib/python3.10/site-packages/sklearn/linear_model/_sag.py:350: ConvergenceWarning: The max_iter was reached which means the coef_ did not converge\n",
      "  warnings.warn(\n"
     ]
    },
    {
     "name": "stdout",
     "output_type": "stream",
     "text": [
      "Lasso done\n",
      "{'l1_ratio': 0.14415023448679715, 'max_iter': 358}\n",
      "Elastics done\n",
      "{'var_smoothing': 2.771271564091625e-06}\n",
      "GNB done\n",
      "{'criterion': 'gini', 'splitter': 'best', 'max_depth': 4}\n",
      "DT done\n",
      "{'criterion': 'gini', 'n_estimators': 199, 'max_depth': 4}\n",
      "RF done\n",
      "{'n_estimators': 251, 'max_depth': 5, 'learning_rate': 0.017952118813409648, 'reg_alpha': 0.0038566417152755203, 'reg_lambda': 1.547768166339415e-05}\n"
     ]
    },
    {
     "name": "stderr",
     "output_type": "stream",
     "text": [
      "/opt/conda/envs/rapids/lib/python3.10/site-packages/xgboost/sklearn.py:1395: UserWarning: `use_label_encoder` is deprecated in 1.7.0.\n",
      "  warnings.warn(\"`use_label_encoder` is deprecated in 1.7.0.\")\n"
     ]
    },
    {
     "name": "stdout",
     "output_type": "stream",
     "text": [
      "XGB done\n",
      "LR0\n",
      "Lasso0\n",
      "Elastics0\n",
      "NB0\n",
      "DT0\n",
      "RF0\n",
      "XGB0\n",
      "24months\n",
      "Building models . . . .\n",
      "{'solver': 'liblinear', 'C': 0.8043769526753184, 'max_iter': 131}\n",
      "LR done\n",
      "{'solver': 'saga', 'C': 5.264286812182277, 'max_iter': 73}\n"
     ]
    },
    {
     "name": "stderr",
     "output_type": "stream",
     "text": [
      "/opt/conda/envs/rapids/lib/python3.10/site-packages/sklearn/linear_model/_sag.py:350: ConvergenceWarning: The max_iter was reached which means the coef_ did not converge\n",
      "  warnings.warn(\n"
     ]
    },
    {
     "name": "stdout",
     "output_type": "stream",
     "text": [
      "Lasso done\n",
      "{'l1_ratio': 0.15794968314524718, 'max_iter': 708}\n",
      "Elastics done\n",
      "{'var_smoothing': 2.771271564091625e-06}\n",
      "GNB done\n",
      "{'criterion': 'gini', 'splitter': 'best', 'max_depth': 4}\n",
      "DT done\n",
      "{'criterion': 'gini', 'n_estimators': 199, 'max_depth': 4}\n",
      "RF done\n",
      "{'n_estimators': 281, 'max_depth': 4, 'learning_rate': 0.014537455903050606, 'reg_alpha': 0.0007300378404486753, 'reg_lambda': 0.0005512251323396136}\n"
     ]
    },
    {
     "name": "stderr",
     "output_type": "stream",
     "text": [
      "/opt/conda/envs/rapids/lib/python3.10/site-packages/xgboost/sklearn.py:1395: UserWarning: `use_label_encoder` is deprecated in 1.7.0.\n",
      "  warnings.warn(\"`use_label_encoder` is deprecated in 1.7.0.\")\n"
     ]
    },
    {
     "name": "stdout",
     "output_type": "stream",
     "text": [
      "XGB done\n",
      "LR0\n",
      "Lasso0\n",
      "Elastics0\n",
      "NB0\n",
      "DT0\n",
      "RF0\n",
      "XGB0\n",
      "CPU times: user 17min 6s, sys: 45 s, total: 17min 51s\n",
      "Wall time: 16min 23s\n"
     ]
    }
   ],
   "source": [
    "%%time\n",
    "\n",
    "\n",
    "#EXECUTE model training\n",
    "summary_result_train = []\n",
    "summary_result = []\n",
    "summary_result_Wales = []\n",
    "summary_result_Scotland = []\n",
    "cols = ['model_name', 'outcome', 'class_ratio', 'acc','spec','sens','auc', 'auprc', 'balance_accuracy', 'f1_score', 'ppv', 'npv']\n",
    "\n",
    "fold = 0\n",
    "for target_outcome in target_outcomes:\n",
    "    models = pd.DataFrame(columns=['modelname', 'target_outcome', 'class_ratio'])\n",
    "    print(target_outcome)\n",
    "    y = trainingData[target_outcome]\n",
    "    y_test = evaluationData[target_outcome]\n",
    "    y_test_Wales = evaluationDataWales[target_outcome]\n",
    "    y_test_Scotland = evaluationDataScotland[target_outcome]\n",
    "        \n",
    "    #Build models -> it can be commented if the models have been trained\n",
    "    models_temp = pd.DataFrame(build_models(X, y, target_outcome, params_dict, fold), columns=['modelname', 'target_outcome', 'class_ratio'])\n",
    "    models = pd.concat([models,models_temp]).reset_index(drop=True)\n",
    "    \n",
    "    \n",
    "    #evaluate model\n",
    "    for modelname, target_outcome, classratio in models.values:\n",
    "        # print('======================================================================')\n",
    "        print(modelname)\n",
    "        model = pickle.load(open('../Models/'+ target_outcome + '/'+ modelname + '.sav', 'rb'))\n",
    "        summary_result.append((modelname, target_outcome, classratio, ) + summariseResult (X_test, y_test, model) )\n",
    "        summary_result_Wales.append((modelname, target_outcome, classratio, ) + summariseResult (X_test_Wales, y_test_Wales, model) )       \n",
    "        summary_result_Scotland.append((modelname, target_outcome, classratio, ) + summariseResult (X_test_Scotland, y_test_Scotland, model) )       \n",
    "        summary_result_train.append((modelname, target_outcome, classratio, ) + summariseResult (X, y, model) )       \n",
    "        \n",
    "        torch.cuda.empty_cache()\n",
    "\n",
    "\n",
    "summary_result = pd.DataFrame(summary_result, columns=cols)\n",
    "summary_result['model_num'] = summary_result.index\n",
    "\n",
    "summary_result_Wales = pd.DataFrame(summary_result_Wales, columns=cols)\n",
    "summary_result_Wales['model_num'] = summary_result_Wales.index\n",
    "\n",
    "summary_result_Scotland = pd.DataFrame(summary_result_Scotland, columns=cols)\n",
    "summary_result_Scotland['model_num'] = summary_result_Scotland.index\n",
    "\n",
    "summary_result_train = pd.DataFrame(summary_result_train, columns=cols)\n",
    "summary_result_train['model_num'] = summary_result_train.index\n"
   ]
  },
  {
   "cell_type": "code",
   "execution_count": 31,
   "id": "b1df0bb2-a000-4236-a576-7d625e72205c",
   "metadata": {
    "tags": []
   },
   "outputs": [],
   "source": [
    "# summary_result['model_name'] = summary_result.apply(lambda x: modelNameFixer(x['model_name']), axis=1)\n",
    "# # summary_result_train['model_name'] = summary_result_train.apply(lambda x: modelNameFixer(x['model_name']), axis=1)\n",
    "# summary_result_Wales['model_name'] = summary_result_Wales.apply(lambda x: modelNameFixer(x['model_name']), axis=1)\n",
    "# summary_result_Scotland['model_name'] = summary_result_Scotland.apply(lambda x: modelNameFixer(x['model_name']), axis=1)"
   ]
  },
  {
   "cell_type": "code",
   "execution_count": 32,
   "id": "993827f6-2c42-4670-8d36-c1e016c7b46c",
   "metadata": {
    "tags": []
   },
   "outputs": [],
   "source": [
    "# summary_result.to_csv('../Models/summary_result_test.csv', index_label=False, index=False)"
   ]
  },
  {
   "cell_type": "code",
   "execution_count": 33,
   "id": "78d90777-2b7e-47bf-b71a-4830b584e880",
   "metadata": {
    "tags": []
   },
   "outputs": [],
   "source": [
    "# summary_result = pd.read_csv('../Models/summary_result_test.csv')"
   ]
  },
  {
   "cell_type": "code",
   "execution_count": 34,
   "id": "dc3017ee-42a8-4f9f-83f2-af18bbc05fde",
   "metadata": {
    "tags": []
   },
   "outputs": [],
   "source": [
    "summary_result_train['set'] = 'Training Set'\n",
    "summary_result['set'] = 'Evaluation Set'\n",
    "summary_result_Wales['set'] = 'Wales Only'\n",
    "summary_result_Scotland['set'] = 'Scotland Only'"
   ]
  },
  {
   "cell_type": "code",
   "execution_count": 35,
   "id": "293c5456-18e0-4966-a596-be3a3c5c4c6c",
   "metadata": {
    "tags": []
   },
   "outputs": [],
   "source": [
    "combine = pd.concat([summary_result_train, summary_result, summary_result_Wales, summary_result_Scotland])"
   ]
  },
  {
   "cell_type": "code",
   "execution_count": 36,
   "id": "594f7e1b-2e88-4ad7-9378-eb83a721728e",
   "metadata": {
    "tags": []
   },
   "outputs": [
    {
     "data": {
      "text/html": [
       "<div>\n",
       "<style scoped>\n",
       "    .dataframe tbody tr th:only-of-type {\n",
       "        vertical-align: middle;\n",
       "    }\n",
       "\n",
       "    .dataframe tbody tr th {\n",
       "        vertical-align: top;\n",
       "    }\n",
       "\n",
       "    .dataframe thead th {\n",
       "        text-align: right;\n",
       "    }\n",
       "</style>\n",
       "<table border=\"1\" class=\"dataframe\">\n",
       "  <thead>\n",
       "    <tr style=\"text-align: right;\">\n",
       "      <th></th>\n",
       "      <th>model_name</th>\n",
       "      <th>outcome</th>\n",
       "      <th>class_ratio</th>\n",
       "      <th>acc</th>\n",
       "      <th>spec</th>\n",
       "      <th>sens</th>\n",
       "      <th>auc</th>\n",
       "      <th>auprc</th>\n",
       "      <th>balance_accuracy</th>\n",
       "      <th>f1_score</th>\n",
       "      <th>ppv</th>\n",
       "      <th>npv</th>\n",
       "      <th>model_num</th>\n",
       "      <th>set</th>\n",
       "    </tr>\n",
       "  </thead>\n",
       "  <tbody>\n",
       "    <tr>\n",
       "      <th>0</th>\n",
       "      <td>LR0</td>\n",
       "      <td>3months</td>\n",
       "      <td>0.028907</td>\n",
       "      <td>0.7746</td>\n",
       "      <td>0.7770</td>\n",
       "      <td>0.6913</td>\n",
       "      <td>0.7341</td>\n",
       "      <td>0.0655</td>\n",
       "      <td>0.7341</td>\n",
       "      <td>0.1470</td>\n",
       "      <td>8.2230</td>\n",
       "      <td>98.8644</td>\n",
       "      <td>0</td>\n",
       "      <td>Training Set</td>\n",
       "    </tr>\n",
       "    <tr>\n",
       "      <th>1</th>\n",
       "      <td>Lasso0</td>\n",
       "      <td>3months</td>\n",
       "      <td>0.028907</td>\n",
       "      <td>0.7744</td>\n",
       "      <td>0.7768</td>\n",
       "      <td>0.6917</td>\n",
       "      <td>0.7342</td>\n",
       "      <td>0.0655</td>\n",
       "      <td>0.7342</td>\n",
       "      <td>0.1469</td>\n",
       "      <td>8.2207</td>\n",
       "      <td>98.8655</td>\n",
       "      <td>1</td>\n",
       "      <td>Training Set</td>\n",
       "    </tr>\n",
       "    <tr>\n",
       "      <th>2</th>\n",
       "      <td>Elastics0</td>\n",
       "      <td>3months</td>\n",
       "      <td>0.028907</td>\n",
       "      <td>0.7746</td>\n",
       "      <td>0.7770</td>\n",
       "      <td>0.6913</td>\n",
       "      <td>0.7341</td>\n",
       "      <td>0.0655</td>\n",
       "      <td>0.7341</td>\n",
       "      <td>0.1470</td>\n",
       "      <td>8.2233</td>\n",
       "      <td>98.8644</td>\n",
       "      <td>2</td>\n",
       "      <td>Training Set</td>\n",
       "    </tr>\n",
       "    <tr>\n",
       "      <th>3</th>\n",
       "      <td>NB0</td>\n",
       "      <td>3months</td>\n",
       "      <td>0.028907</td>\n",
       "      <td>0.8565</td>\n",
       "      <td>0.8662</td>\n",
       "      <td>0.5198</td>\n",
       "      <td>0.6930</td>\n",
       "      <td>0.0660</td>\n",
       "      <td>0.6930</td>\n",
       "      <td>0.1691</td>\n",
       "      <td>10.0979</td>\n",
       "      <td>98.4228</td>\n",
       "      <td>3</td>\n",
       "      <td>Training Set</td>\n",
       "    </tr>\n",
       "    <tr>\n",
       "      <th>4</th>\n",
       "      <td>DT0</td>\n",
       "      <td>3months</td>\n",
       "      <td>0.028907</td>\n",
       "      <td>0.7220</td>\n",
       "      <td>0.7212</td>\n",
       "      <td>0.7478</td>\n",
       "      <td>0.7345</td>\n",
       "      <td>0.0609</td>\n",
       "      <td>0.7345</td>\n",
       "      <td>0.1313</td>\n",
       "      <td>7.1963</td>\n",
       "      <td>98.9991</td>\n",
       "      <td>4</td>\n",
       "      <td>Training Set</td>\n",
       "    </tr>\n",
       "    <tr>\n",
       "      <th>...</th>\n",
       "      <td>...</td>\n",
       "      <td>...</td>\n",
       "      <td>...</td>\n",
       "      <td>...</td>\n",
       "      <td>...</td>\n",
       "      <td>...</td>\n",
       "      <td>...</td>\n",
       "      <td>...</td>\n",
       "      <td>...</td>\n",
       "      <td>...</td>\n",
       "      <td>...</td>\n",
       "      <td>...</td>\n",
       "      <td>...</td>\n",
       "      <td>...</td>\n",
       "    </tr>\n",
       "    <tr>\n",
       "      <th>23</th>\n",
       "      <td>Elastics0</td>\n",
       "      <td>24months</td>\n",
       "      <td>0.114708</td>\n",
       "      <td>0.6210</td>\n",
       "      <td>0.6115</td>\n",
       "      <td>0.6878</td>\n",
       "      <td>0.6496</td>\n",
       "      <td>0.1776</td>\n",
       "      <td>0.6496</td>\n",
       "      <td>0.3118</td>\n",
       "      <td>20.1577</td>\n",
       "      <td>93.2122</td>\n",
       "      <td>23</td>\n",
       "      <td>Scotland Only</td>\n",
       "    </tr>\n",
       "    <tr>\n",
       "      <th>24</th>\n",
       "      <td>NB0</td>\n",
       "      <td>24months</td>\n",
       "      <td>0.114708</td>\n",
       "      <td>0.7333</td>\n",
       "      <td>0.7574</td>\n",
       "      <td>0.5648</td>\n",
       "      <td>0.6611</td>\n",
       "      <td>0.1951</td>\n",
       "      <td>0.6611</td>\n",
       "      <td>0.3459</td>\n",
       "      <td>24.9258</td>\n",
       "      <td>92.4260</td>\n",
       "      <td>24</td>\n",
       "      <td>Scotland Only</td>\n",
       "    </tr>\n",
       "    <tr>\n",
       "      <th>25</th>\n",
       "      <td>DT0</td>\n",
       "      <td>24months</td>\n",
       "      <td>0.114708</td>\n",
       "      <td>0.6693</td>\n",
       "      <td>0.6849</td>\n",
       "      <td>0.5600</td>\n",
       "      <td>0.6225</td>\n",
       "      <td>0.1682</td>\n",
       "      <td>0.6225</td>\n",
       "      <td>0.2971</td>\n",
       "      <td>20.2220</td>\n",
       "      <td>91.6071</td>\n",
       "      <td>25</td>\n",
       "      <td>Scotland Only</td>\n",
       "    </tr>\n",
       "    <tr>\n",
       "      <th>26</th>\n",
       "      <td>RF0</td>\n",
       "      <td>24months</td>\n",
       "      <td>0.114708</td>\n",
       "      <td>0.6158</td>\n",
       "      <td>0.6017</td>\n",
       "      <td>0.7147</td>\n",
       "      <td>0.6582</td>\n",
       "      <td>0.1813</td>\n",
       "      <td>0.6582</td>\n",
       "      <td>0.3171</td>\n",
       "      <td>20.3780</td>\n",
       "      <td>93.6660</td>\n",
       "      <td>26</td>\n",
       "      <td>Scotland Only</td>\n",
       "    </tr>\n",
       "    <tr>\n",
       "      <th>27</th>\n",
       "      <td>XGB0</td>\n",
       "      <td>24months</td>\n",
       "      <td>0.114708</td>\n",
       "      <td>0.6282</td>\n",
       "      <td>0.6265</td>\n",
       "      <td>0.6398</td>\n",
       "      <td>0.6331</td>\n",
       "      <td>0.1706</td>\n",
       "      <td>0.6331</td>\n",
       "      <td>0.3005</td>\n",
       "      <td>19.6344</td>\n",
       "      <td>92.4212</td>\n",
       "      <td>27</td>\n",
       "      <td>Scotland Only</td>\n",
       "    </tr>\n",
       "  </tbody>\n",
       "</table>\n",
       "<p>112 rows × 14 columns</p>\n",
       "</div>"
      ],
      "text/plain": [
       "   model_name   outcome  class_ratio     acc    spec    sens     auc   auprc  \\\n",
       "0         LR0   3months     0.028907  0.7746  0.7770  0.6913  0.7341  0.0655   \n",
       "1      Lasso0   3months     0.028907  0.7744  0.7768  0.6917  0.7342  0.0655   \n",
       "2   Elastics0   3months     0.028907  0.7746  0.7770  0.6913  0.7341  0.0655   \n",
       "3         NB0   3months     0.028907  0.8565  0.8662  0.5198  0.6930  0.0660   \n",
       "4         DT0   3months     0.028907  0.7220  0.7212  0.7478  0.7345  0.0609   \n",
       "..        ...       ...          ...     ...     ...     ...     ...     ...   \n",
       "23  Elastics0  24months     0.114708  0.6210  0.6115  0.6878  0.6496  0.1776   \n",
       "24        NB0  24months     0.114708  0.7333  0.7574  0.5648  0.6611  0.1951   \n",
       "25        DT0  24months     0.114708  0.6693  0.6849  0.5600  0.6225  0.1682   \n",
       "26        RF0  24months     0.114708  0.6158  0.6017  0.7147  0.6582  0.1813   \n",
       "27       XGB0  24months     0.114708  0.6282  0.6265  0.6398  0.6331  0.1706   \n",
       "\n",
       "    balance_accuracy  f1_score      ppv      npv  model_num            set  \n",
       "0             0.7341    0.1470   8.2230  98.8644          0   Training Set  \n",
       "1             0.7342    0.1469   8.2207  98.8655          1   Training Set  \n",
       "2             0.7341    0.1470   8.2233  98.8644          2   Training Set  \n",
       "3             0.6930    0.1691  10.0979  98.4228          3   Training Set  \n",
       "4             0.7345    0.1313   7.1963  98.9991          4   Training Set  \n",
       "..               ...       ...      ...      ...        ...            ...  \n",
       "23            0.6496    0.3118  20.1577  93.2122         23  Scotland Only  \n",
       "24            0.6611    0.3459  24.9258  92.4260         24  Scotland Only  \n",
       "25            0.6225    0.2971  20.2220  91.6071         25  Scotland Only  \n",
       "26            0.6582    0.3171  20.3780  93.6660         26  Scotland Only  \n",
       "27            0.6331    0.3005  19.6344  92.4212         27  Scotland Only  \n",
       "\n",
       "[112 rows x 14 columns]"
      ]
     },
     "execution_count": 36,
     "metadata": {},
     "output_type": "execute_result"
    }
   ],
   "source": [
    "combine"
   ]
  },
  {
   "cell_type": "code",
   "execution_count": null,
   "id": "8effdbaf-a20f-4928-9f3e-70c51924a776",
   "metadata": {
    "tags": []
   },
   "outputs": [],
   "source": [
    "# combine.to_csv('../FinalData/ModelsPerformance.csv', index_label=False, index=False)"
   ]
  },
  {
   "cell_type": "code",
   "execution_count": null,
   "id": "ba8ddd78-f044-44ca-add9-b63a4c88f091",
   "metadata": {
    "tags": []
   },
   "outputs": [],
   "source": [
    "# combine = pd.read_csv('../FinalData/ModelsPerformance.csv')"
   ]
  },
  {
   "cell_type": "code",
   "execution_count": 37,
   "id": "544be41d-e002-4ca2-9a20-5cb82d8d3542",
   "metadata": {
    "tags": []
   },
   "outputs": [],
   "source": [
    "# def add_mean_labels(ax, fmt='.1f'):\n",
    "#     lines = ax.get_lines()\n",
    "#     boxes = [c for c in ax.get_children() if type(c).__name__ == 'PathPatch']\n",
    "#     lines_per_box = int(len(lines) / len(boxes))\n",
    "#     for median in lines[4:len(lines):lines_per_box]:\n",
    "#         x, y = (data.mean() for data in median.get_data())\n",
    "#         # choose value depending on horizontal or vertical plot orientation\n",
    "#         value = x if (median.get_xdata()[1] - median.get_xdata()[0]) == 0 else y\n",
    "#         text = ax.text(x, y, f'{value:{fmt}}', ha='center', va='center',\n",
    "#                        fontweight='bold', color='white')\n",
    "#         # create median-colored border around white text for contrast\n",
    "#         text.set_path_effects([\n",
    "#             path_effects.Stroke(linewidth=3, foreground=median.get_color()),\n",
    "#             path_effects.Normal(),\n",
    "#         ])\n",
    "        \n",
    "# plt.figure(figsize=(10,10))\n",
    "# bar = sns.boxplot(x = \"outcome\",       # x variable name\n",
    "#             y = \"auc\",       # y variable name            \n",
    "#             data = summary_result_train_kfold,     # dataframe to plot\n",
    "#             hue = 'model_name', )\n",
    "# # ax = bar.facet_axis(0,0)\n",
    "# # for p in ax.patches:\n",
    "# #     ax.text(p.get_x() + 0.01, \n",
    "# #             p.get_height() * 1.01, \n",
    "# #             '{0:.4f}'.format(p.get_height()), \n",
    "# #             color='black', rotation='horizontal', fontsize=7)\n",
    "    \n",
    "# # listOf_Yticks = np.arange(0.5, 0.7, 0.05)\n",
    "# # add_mean_labels(ax)\n",
    "# ax.set_ylim(0.5, 0.8)\n",
    "# ax.set_ylabel('AUC Score', fontsize=11)\n",
    "# ax.set_xlabel('Method', fontsize=11)\n",
    "# # plt.legend([],[], frameon=False)\n"
   ]
  },
  {
   "cell_type": "code",
   "execution_count": 38,
   "id": "dbb1312e-0065-4bea-b7e5-880946b8314e",
   "metadata": {
    "tags": []
   },
   "outputs": [],
   "source": [
    "# summary_result_train_kfold_grouped = summary_result_train_kfold.groupby(['outcome', 'model_name']).mean().reset_index()\n",
    "# summary_result_train_kfold_grouped['set'] = \"10-fold CV\"\n",
    "# combine = pd.concat(combine, summary_result_train_kfold_grouped)"
   ]
  },
  {
   "cell_type": "code",
   "execution_count": 39,
   "id": "eba8485b-8c61-48f7-8ca2-932f10f8167e",
   "metadata": {
    "tags": []
   },
   "outputs": [
    {
     "data": {
      "text/plain": [
       "Text(0.5, 29.1406250000001, 'Method')"
      ]
     },
     "execution_count": 39,
     "metadata": {},
     "output_type": "execute_result"
    },
    {
     "data": {
      "image/png": "[encoded data removed]",
      "text/plain": [
       "<Figure size 1650.63x2000 with 4 Axes>"
      ]
     },
     "metadata": {},
     "output_type": "display_data"
    }
   ],
   "source": [
    "data = combine\n",
    "# data = combine[combine.set!='Training Set']\n",
    "bar = sns.catplot(x = 'model_name',       # x variable name\n",
    "            y = 'auc',       # y variable name            \n",
    "            data=data,\n",
    "            kind = \"bar\",\n",
    "            hue = 'set',\n",
    "            # hue_order=['10-fold CV', 'Evaluation Set', 'Wales', 'Scotland'],\n",
    "            height=5,\n",
    "            row='outcome',\n",
    "            aspect=3,\n",
    "            errorbar = None,)\n",
    "\n",
    "for items in bar.axes:\n",
    "    for ax in items:\n",
    "        for p in ax.patches:\n",
    "            ax.text(p.get_x() + 0.01, \n",
    "                p.get_height() * 1.005, \n",
    "                '{0:.4f}'.format(p.get_height()), \n",
    "                color='black', rotation=20, fontsize=8)\n",
    "\n",
    "ax.set_ylim(0.55, 0.76)\n",
    "# ax.set_ylabel('AUC Score', fontsize=13)\n",
    "ax.set_xlabel('Method', fontsize=13)"
   ]
  },
  {
   "cell_type": "code",
   "execution_count": null,
   "id": "b40e33cb-b043-41b5-8cd6-56f7d1d7fc41",
   "metadata": {
    "tags": []
   },
   "outputs": [],
   "source": [
    "g = sns.FacetGrid(combine, col='outcome', row='set',  height=3, aspect=1.5, ylim=(0.3, 0.8))\n",
    "g.map(sns.barplot, 'model_name', 'auc', order=combine.model_name.unique()).add_legend()\n",
    "\n",
    "for ax in g.axes:\n",
    "    for item in ax:\n",
    "        for p in item.patches:\n",
    "                 item.annotate(\"%.4f\" % p.get_height(), (p.get_x() + p.get_width() / 2., p.get_height()),\n",
    "                     ha='center', va='center', fontsize=8, color='black', xytext=(0, 5),\n",
    "                     textcoords='offset points')\n",
    "        item.set_ylabel('AUC Score', fontsize=8)\n",
    "        item.set_xlabel('Method', fontsize=11)"
   ]
  },
  {
   "cell_type": "code",
   "execution_count": null,
   "id": "3713f2e1-f7a4-4e9a-aec6-cd24bfe1c28a",
   "metadata": {
    "tags": []
   },
   "outputs": [],
   "source": [
    "summary_result_train.model_name[1]"
   ]
  },
  {
   "cell_type": "code",
   "execution_count": null,
   "id": "9b806cca-89a1-4659-a6ce-4b9376f6055c",
   "metadata": {
    "tags": []
   },
   "outputs": [],
   "source": [
    "summary_result_train.apply(lambda x: modelNameFixer(x['model_name']), axis=1)"
   ]
  },
  {
   "cell_type": "code",
   "execution_count": null,
   "id": "3c9b3a0a-08b7-455e-962e-76d6bfe01416",
   "metadata": {
    "tags": []
   },
   "outputs": [],
   "source": [
    "bar = sns.catplot(x = \"model_name\",       # x variable name\n",
    "            y = \"auc\",       # y variable name            \n",
    "            data = combine,     # dataframe to plot\n",
    "            kind = \"bar\",\n",
    "            hue = \"set\",\n",
    "            height=5,\n",
    "            aspect=7/2.5,\n",
    "            ci = None)\n",
    "ax = bar.facet_axis(0,0)\n",
    "for p in ax.patches:\n",
    "    ax.text(p.get_x() + 0.01, \n",
    "            p.get_height() * 1.01, \n",
    "            '{0:.4f}'.format(p.get_height()), \n",
    "            color='black', rotation='horizontal', fontsize=11)\n",
    "    \n",
    "# listOf_Yticks = np.arange(0.5, 0.7, 0.05)\n",
    "ax.set_ylim(0.4, 1)\n",
    "ax.set_ylabel('AUC Score', fontsize=11)\n",
    "ax.set_xlabel('Method', fontsize=11)"
   ]
  },
  {
   "cell_type": "code",
   "execution_count": null,
   "id": "d1566e4f-756e-4f8a-a2a0-513b41b9a4ab",
   "metadata": {
    "tags": []
   },
   "outputs": [],
   "source": [
    "g = sns.FacetGrid(summary_result, col='outcome', col_wrap=2, height=3, aspect=1.5, ylim=(0.5, 0.8))\n",
    "g.map(sns.barplot, 'model_name', 'auc', order=summary_result.model_name.unique()).add_legend()\n",
    "\n",
    "for ax in g.axes:\n",
    "    for p in ax.patches:\n",
    "             ax.annotate(\"%.4f\" % p.get_height(), (p.get_x() + p.get_width() / 2., p.get_height()),\n",
    "                 ha='center', va='center', fontsize=8, color='black', xytext=(0, 5),\n",
    "                 textcoords='offset points')\n",
    "    ax.set_ylabel('AUC Score', fontsize=8)\n",
    "    ax.set_xlabel('Method', fontsize=11)"
   ]
  },
  {
   "cell_type": "code",
   "execution_count": null,
   "id": "6cf6d295-4c30-4c9f-bdac-1ccff2382f65",
   "metadata": {
    "tags": []
   },
   "outputs": [],
   "source": [
    "g = sns.FacetGrid(summary_result_Wales, col='outcome', col_wrap=2, height=3, aspect=1.5, ylim=(0.5, 0.8))\n",
    "g.map(sns.barplot, 'model_name', 'auc', order=summary_result_Wales.model_name.unique()).add_legend()\n",
    "\n",
    "for ax in g.axes:\n",
    "    for p in ax.patches:\n",
    "             ax.annotate(\"%.4f\" % p.get_height(), (p.get_x() + p.get_width() / 2., p.get_height()),\n",
    "                 ha='center', va='center', fontsize=8, color='black', xytext=(0, 5),\n",
    "                 textcoords='offset points')\n",
    "    ax.set_ylabel('AUC Score', fontsize=8)\n",
    "    ax.set_xlabel('Method', fontsize=11)"
   ]
  },
  {
   "cell_type": "code",
   "execution_count": null,
   "id": "5ec3ad88-12fd-4b6e-a60b-c094cfb44907",
   "metadata": {
    "tags": []
   },
   "outputs": [],
   "source": [
    "g = sns.FacetGrid(summary_result_Scotland, col='outcome', col_wrap=2, height=3, aspect=1.5, ylim=(0.5, 0.8))\n",
    "g.map(sns.barplot, 'model_name', 'auc', order=summary_result_Scotland.model_name.unique()).add_legend()\n",
    "\n",
    "for ax in g.axes:\n",
    "    for p in ax.patches:\n",
    "             ax.annotate(\"%.4f\" % p.get_height(), (p.get_x() + p.get_width() / 2., p.get_height()),\n",
    "                 ha='center', va='center', fontsize=8, color='black', xytext=(0, 5),\n",
    "                 textcoords='offset points')\n",
    "    ax.set_ylabel('AUC Score', fontsize=8)\n",
    "    ax.set_xlabel('Method', fontsize=11)"
   ]
  },
  {
   "cell_type": "code",
   "execution_count": null,
   "id": "d88c658b-646e-44fa-826c-9d173c1250f6",
   "metadata": {
    "tags": []
   },
   "outputs": [],
   "source": [
    "g = sns.FacetGrid(summary_result_train, col='outcome', col_wrap=2, height=3, aspect=1.5, ylim=(0.5, 0.8))\n",
    "g.map(sns.barplot, 'model_name', 'auc', order=summary_result_train.model_name.unique()).add_legend()\n",
    "\n",
    "for ax in g.axes:\n",
    "    for p in ax.patches:\n",
    "             ax.annotate(\"%.4f\" % p.get_height(), (p.get_x() + p.get_width() / 2., p.get_height()),\n",
    "                 ha='center', va='center', fontsize=8, color='black', xytext=(0, 5),\n",
    "                 textcoords='offset points')\n",
    "    ax.set_ylabel('AUC Score', fontsize=8)\n",
    "    ax.set_xlabel('Method', fontsize=11)"
   ]
  },
  {
   "cell_type": "code",
   "execution_count": null,
   "id": "dec8fb20-bd6e-4012-a757-50d98faac847",
   "metadata": {
    "tags": []
   },
   "outputs": [],
   "source": [
    "target_models = summary_result.model_name.unique()\n",
    "model_difference = []\n",
    "for outcome in target_outcomes:\n",
    "    for target_model in target_models:\n",
    "        train_auc = summary_result_train[(summary_result_train.outcome == outcome)&(summary_result_train.model_name == target_model)]['auc'].values[0]\n",
    "        eval_auc = summary_result[(summary_result.outcome == outcome)&(summary_result.model_name == target_model)]['auc'].values[0]\n",
    "        Wales_auc = summary_result_Wales[(summary_result_Wales.outcome == outcome)&(summary_result_Wales.model_name == target_model)]['auc'].values[0]\n",
    "        Scotland_auc = summary_result_Scotland[(summary_result_Scotland.outcome == outcome)&(summary_result_Scotland.model_name == target_model)]['auc'].values[0]\n",
    "        trainVSeval = (train_auc - eval_auc)*100\n",
    "        trainVSWales = (train_auc - Wales_auc)*100\n",
    "        trainVSScotland = (train_auc - Scotland_auc)*100\n",
    "        model_difference.append([outcome, target_model, trainVSeval, trainVSWales, trainVSScotland])\n",
    "\n",
    "pd.DataFrame(model_difference, columns=['outcome', 'target_model','trainVSeval', 'trainVSWales', 'trainVSScotland'])\n",
    "        "
   ]
  },
  {
   "cell_type": "markdown",
   "id": "a997559b-8f61-4e44-9950-40d846c2bef2",
   "metadata": {},
   "source": [
    "## model explanation"
   ]
  },
  {
   "cell_type": "code",
   "execution_count": null,
   "id": "a82ea26a-fd7d-4320-a06c-87796dce979a",
   "metadata": {
    "tags": []
   },
   "outputs": [],
   "source": [
    "best_model_lasso = pickle.load(open('../Models/6months/Lasso0.sav', 'rb'))\n",
    "\n",
    "# pd.DataFrame([best_model3.feature_importances_], columns=X.columns).T.sort_values(0, ascending=False)\n",
    "sorted_idx = best_model_lasso.coef_[0].argsort()\n",
    "plt.figure(figsize=(3,4))\n",
    "plt.barh(X.columns[sorted_idx][-10:], best_model_lasso.coef_[0][sorted_idx][-10:])\n",
    "plt.xlabel(\"Lasso Feature Importance\")\n",
    "plt.show()\n",
    "\n",
    "lassotop10 = X.columns[sorted_idx][-10:]"
   ]
  },
  {
   "cell_type": "code",
   "execution_count": null,
   "id": "baaabe03-0654-40e4-846c-26c3b1ebb50d",
   "metadata": {
    "tags": []
   },
   "outputs": [],
   "source": [
    "best_model_dt = pickle.load(open('../Models/12months/DT0.sav', 'rb'))\n",
    "\n",
    "# pd.DataFrame([best_model3.feature_importances_], columns=X.columns).T.sort_values(0, ascending=False)\n",
    "sorted_idx = best_model_dt.feature_importances_.argsort()\n",
    "plt.figure(figsize=(3,4))\n",
    "plt.barh(X.columns[sorted_idx][-10:], best_model_dt.feature_importances_[sorted_idx][-10:])\n",
    "plt.xlabel(\"Decision Tree Feature Importance\")\n",
    "plt.show()\n",
    "\n",
    "dttop10 = X.columns[sorted_idx][-10:]"
   ]
  },
  {
   "cell_type": "code",
   "execution_count": null,
   "id": "081d0a9e-4b33-4c21-9997-12de3d05261e",
   "metadata": {
    "tags": []
   },
   "outputs": [],
   "source": [
    "# important features overlap\n",
    "\n",
    "list(set(dttop10).intersection(set(lassotop10)))"
   ]
  },
  {
   "cell_type": "code",
   "execution_count": null,
   "id": "8a667fb8-84d3-4308-bb67-cbdc5b80989a",
   "metadata": {
    "tags": []
   },
   "outputs": [],
   "source": [
    "prune_duplicate_leaves(best_model_dt)\n",
    "fig = plt.figure(figsize=(30,10))\n",
    "_ = tree.plot_tree(best_model_dt, \n",
    "                   feature_names=X.columns,  \n",
    "                   class_names=['no asthma attack','asthma attack'],\n",
    "                   filled=True,)\n",
    "plt.savefig('../FinalData/dt.png',format='png',bbox_inches = \"tight\")"
   ]
  },
  {
   "cell_type": "markdown",
   "id": "55b23407-4dad-455e-b1a6-eb5c1589e71d",
   "metadata": {
    "tags": []
   },
   "source": [
    "## Minimum depth DT"
   ]
  },
  {
   "cell_type": "code",
   "execution_count": null,
   "id": "7e41900b-3885-407c-96fe-0d2078958bab",
   "metadata": {
    "tags": []
   },
   "outputs": [],
   "source": [
    "%%time\n",
    "#DT with minimum max of depth\n",
    "\n",
    "#EXECUTE model training\n",
    "X = trainingData[features_columns]\n",
    "X_test = evaluationData[features_columns]\n",
    "target_outcome = '12months'\n",
    "\n",
    "print(target_outcome)\n",
    "y = trainingData[target_outcome]\n",
    "y_test = evaluationData[target_outcome]\n",
    "#Build models -> it can be commented if the models have been trained\n",
    "\n",
    "if os.path.isfile('../Models/dt_minimum_depth.sav'):\n",
    "    dt_model = pickle.load(open('../Models/dt_minimum_depth.sav', 'rb'))\n",
    "else:\n",
    "    dt_model = DecisionTreeClassifier(class_weight='balanced', max_depth=3, splitter='best', random_state=1234)\n",
    "    dt_model.fit(X, y)\n",
    "    pickle.dump(dt_model, open('../Models/dt_minimum_depth.sav', 'wb'))    \n",
    "    \n",
    "\n",
    "result = summariseResult (X_test, y_test, dt_model)\n",
    "print(\"DT done\")"
   ]
  },
  {
   "cell_type": "code",
   "execution_count": null,
   "id": "65d276ee-92bb-4ab4-90fc-5a896b3d4bc2",
   "metadata": {
    "tags": []
   },
   "outputs": [],
   "source": [
    "result"
   ]
  },
  {
   "cell_type": "code",
   "execution_count": null,
   "id": "3cbfb0d6-105b-434c-a256-2f3edc760792",
   "metadata": {
    "tags": []
   },
   "outputs": [],
   "source": [
    "pd.DataFrame([result], columns=['acc','spec','sens','auc', 'auprc', 'balance_accuracy', 'f1_score', 'ppv', 'npv'])"
   ]
  },
  {
   "cell_type": "code",
   "execution_count": null,
   "id": "cccdc559-a53b-412b-863e-44cf56a4ddc4",
   "metadata": {
    "tags": []
   },
   "outputs": [],
   "source": [
    "prune_duplicate_leaves(dt_model)\n",
    "fig = plt.figure(figsize=(15,10))\n",
    "_ = tree.plot_tree(dt_model, \n",
    "                   feature_names=X.columns,  \n",
    "                   class_names=['no asthma attack','asthma attack'],\n",
    "                   filled=True)\n",
    "plt.savefig('../FinalData/dt_minimumdepth.png',format='png',bbox_inches = \"tight\")"
   ]
  },
  {
   "cell_type": "code",
   "execution_count": null,
   "id": "eda77bb6-8e88-4327-a746-90ee9015dff4",
   "metadata": {},
   "outputs": [],
   "source": [
    "#encode categorical data\n",
    "\n",
    "cat_vars = ['PEFStatus','EosinophilLevel']\n",
    "onehot_vars = ['ethnic_group','smokingStatus', 'DeviceType', 'cat_BMI', 'imd_decile']\n",
    "data_categorical = trainingData[cat_vars]\n",
    "data_onehot = trainingData[onehot_vars]\n",
    "\n",
    "#ordinal encoder\n",
    "encoder = OrdinalEncoder(categories=[['not_recorded','less than 60', '60-80', 'more than 80'], ['unknown', 'normal', 'high']]).set_output(transform=\"pandas\")\n",
    "data_encoded = encoder.fit_transform(data_categorical)\n",
    "pickle.dump(encoder, open('../Models/cat_encoder.pkl', 'wb'))\n",
    "    \n",
    "#one hot encoder\n",
    "onehot_encoder = OneHotEncoder(sparse_output=False).set_output(transform=\"pandas\")\n",
    "onehot_encoded = onehot_encoder.fit_transform(data_onehot)\n",
    "pickle.dump(onehot_encoder, open('../Models/onehot_encoder.pkl', 'wb'))\n",
    "\n",
    "trainingData = pd.concat([trainingData.drop(cat_vars, axis=1), data_encoded], axis=1)\n",
    "trainingData = pd.concat([trainingData.drop(onehot_vars, axis=1), onehot_encoded], axis=1)\n",
    "\n",
    "print('Data shape after encoding: ', trainingData.shape)\n",
    "\n",
    "#Data normalisation for continous variable into 0-1 range\n",
    "\n",
    "\n",
    "continuous_vars = ['age', 'CharlsonScore', 'average_daily_dose_ICS', 'prescribed_daily_dose_ICS', 'ICS_medication_possesion_ratio', \n",
    "                   'numOCS', 'numPCS', 'numPCSAsthma', 'numAntibioticsEvents', 'numAntibioticswithLRTI', 'numOCSEvents', 'numOCSwithLRTI', \n",
    "                   'numAsthmaAttacks', 'numAcuteRespEvents', 'numHospEvents']\n",
    "\n",
    "# define scaler\n",
    "scaler = StandardScaler()\n",
    "data_scaled = scaler.fit_transform(trainingData[continuous_vars])\n",
    "pickle.dump(scaler, open('../Models/cont_scaler.pkl', 'wb'))\n",
    "\n",
    "\n",
    "data_scaled = pd.DataFrame(data_scaled, columns=scaler.get_feature_names_out())\n",
    "trainingData = pd.concat([trainingData.drop(continuous_vars, axis=1), data_scaled], axis=1)\n",
    "\n",
    "print('Data shape after scaling: ', trainingData.shape)\n",
    "\n",
    "#Data normalisation for continous variable into 0-1 range\n",
    "\n",
    "\n",
    "continuous_vars = ['age', 'CharlsonScore', 'average_daily_dose_ICS', 'prescribed_daily_dose_ICS', 'ICS_medication_possesion_ratio', \n",
    "                   'numOCS', 'numPCS', 'numPCSAsthma', 'numAntibioticsEvents', 'numAntibioticswithLRTI', 'numOCSEvents', 'numOCSwithLRTI', \n",
    "                   'numAsthmaAttacks', 'numAcuteRespEvents', 'numHospEvents']\n",
    "\n",
    "# define scaler\n",
    "scaler = StandardScaler()\n",
    "data_scaled = scaler.fit_transform(trainingData[continuous_vars])\n",
    "pickle.dump(scaler, open('../Models/cont_scaler.pkl', 'wb'))\n",
    "\n",
    "\n",
    "data_scaled = pd.DataFrame(data_scaled, columns=scaler.get_feature_names_out())\n",
    "trainingData = pd.concat([trainingData.drop(continuous_vars, axis=1), data_scaled], axis=1)\n",
    "\n",
    "print('Data shape after scaling: ', trainingData.shape)"
   ]
  },
  {
   "cell_type": "markdown",
   "id": "cfdb982f-4934-417b-8115-b1e5bc9344fd",
   "metadata": {},
   "source": [
    "# Further exploration - 12months"
   ]
  },
  {
   "cell_type": "code",
   "execution_count": null,
   "id": "12bc1855-73c9-417c-bd7e-b5e12e65449c",
   "metadata": {
    "tags": []
   },
   "outputs": [],
   "source": [
    "DataOfInterest_cont = pd.DataFrame(scaler.inverse_transform(trainingData[continuous_vars]), columns=scaler.get_feature_names_out())"
   ]
  },
  {
   "cell_type": "code",
   "execution_count": null,
   "id": "f68fa984-6d64-4859-8cd8-1312142e3c0c",
   "metadata": {
    "tags": []
   },
   "outputs": [],
   "source": [
    "VarOfInterest = ['numOCSEvents', 'numOCS', 'numPCS']"
   ]
  },
  {
   "cell_type": "code",
   "execution_count": null,
   "id": "0e8aeb23-3a29-4beb-8029-d7f61fb346aa",
   "metadata": {},
   "outputs": [],
   "source": [
    "DataOfInterest = pd.concat((DataOfInterest_cont, trainingData[['BTS_step']+target_outcomes]), axis=1)\n",
    "#solve little problem with inverse scaling:\n",
    "DataOfInterest['numAsthmaAttacks'] = DataOfInterest.numAsthmaAttacks.apply(lambda x: 0 if x<1 else x)\n",
    "DataOfInterest['numOCSwithLRTI'] = DataOfInterest.numOCSwithLRTI.apply(lambda x: 0 if x<1 else x)\n",
    "DataOfInterest['numHospEvents'] = DataOfInterest.numHospEvents.apply(lambda x: 0 if x<1 else x)\n",
    "DataOfInterest.head()"
   ]
  },
  {
   "cell_type": "code",
   "execution_count": null,
   "id": "f5770eea-6185-407b-9997-8c7da3e880de",
   "metadata": {
    "tags": []
   },
   "outputs": [],
   "source": [
    "model_dt = pickle.load(open('../Models/12months/DT.sav', 'rb'))\n",
    "model_lasso = pickle.load(open('../Models/12months/Lasso.sav', 'rb'))"
   ]
  },
  {
   "cell_type": "code",
   "execution_count": null,
   "id": "8cbdfc0c-c64b-4523-9806-f6fcfcbf8ee0",
   "metadata": {
    "tags": []
   },
   "outputs": [],
   "source": [
    "preds_dt = model_dt.predict(trainingData[features_columns])\n",
    "preds_lasso = model_lasso.predict(trainingData[features_columns])"
   ]
  },
  {
   "cell_type": "code",
   "execution_count": null,
   "id": "795ffb48-b04e-4134-a223-38687c1967d7",
   "metadata": {
    "tags": []
   },
   "outputs": [],
   "source": [
    "confusion_matrix(trainingData['12months'],preds_dt)"
   ]
  },
  {
   "cell_type": "code",
   "execution_count": null,
   "id": "0bb782a0-0536-4dd1-9234-b5f4d63ee219",
   "metadata": {
    "tags": []
   },
   "outputs": [],
   "source": [
    "confusion_matrix(trainingData['12months'],preds_lasso)"
   ]
  },
  {
   "cell_type": "code",
   "execution_count": null,
   "id": "880aa2c9-2a96-4664-aa37-1d55daa85c35",
   "metadata": {
    "tags": []
   },
   "outputs": [],
   "source": [
    "prediction_table = pd.DataFrame([trainingData['12months'], preds_dt, preds_lasso]).T\n",
    "prediction_table.columns = ['y_true', 'y_pred_dt', 'y_pred_lasso']"
   ]
  },
  {
   "cell_type": "code",
   "execution_count": null,
   "id": "51e806a7-89d8-4a34-b152-0a50548a7189",
   "metadata": {
    "tags": []
   },
   "outputs": [],
   "source": [
    "false_positive = prediction_table[(prediction_table.y_pred_dt==1) & (prediction_table.y_true!=prediction_table.y_pred_dt)]\n",
    "false_negative = prediction_table[(prediction_table.y_pred_dt==0) & (prediction_table.y_true!=prediction_table.y_pred_dt)]\n",
    "true_positive = prediction_table[(prediction_table.y_pred_dt==1) & (prediction_table.y_true==prediction_table.y_pred_dt)]\n",
    "true_negative = prediction_table[(prediction_table.y_pred_dt==0) & (prediction_table.y_true==prediction_table.y_pred_dt)]"
   ]
  },
  {
   "cell_type": "markdown",
   "id": "3fb5d547-2557-4dd5-aed4-5cdb81c1197a",
   "metadata": {},
   "source": [
    "## summary stats"
   ]
  },
  {
   "cell_type": "code",
   "execution_count": null,
   "id": "f1b5ddb3-2f1f-4639-bcec-9867a4fd9849",
   "metadata": {
    "tags": []
   },
   "outputs": [],
   "source": [
    "print(DataOfInterest.iloc[true_positive.index][VarOfInterest+['BTS_step']].describe())\n",
    "print('-----------------------------------------------------------------------------------')\n",
    "print(DataOfInterest.iloc[false_negative.index][VarOfInterest+['BTS_step']].describe())\n",
    "print('-----------------------------------------------------------------------------------')\n",
    "print(DataOfInterest.iloc[true_negative.index][VarOfInterest+['BTS_step']].describe())"
   ]
  },
  {
   "cell_type": "code",
   "execution_count": null,
   "id": "236f5c27-74dc-4f0f-afc3-f33896bc0171",
   "metadata": {
    "tags": []
   },
   "outputs": [],
   "source": [
    "fig, ax = plt.subplots()\n",
    "DataOfInterest.iloc[true_positive.index][VarOfInterest+['BTS_step']].boxplot(ax=ax)\n",
    "ax.set_ylim(-50,400)\n",
    "plt.show()\n",
    "print('-----------------------------------------------------------------------------------')\n",
    "fig, ax = plt.subplots()\n",
    "DataOfInterest.iloc[false_negative.index][VarOfInterest+['BTS_step']].boxplot()\n",
    "ax.set_ylim(-50,400)\n",
    "plt.show()\n",
    "print('-----------------------------------------------------------------------------------')\n",
    "fig, ax = plt.subplots()\n",
    "DataOfInterest.iloc[true_negative.index][VarOfInterest+['BTS_step']].boxplot()\n",
    "ax.set_ylim(-50,400)\n",
    "plt.show()"
   ]
  },
  {
   "cell_type": "markdown",
   "id": "c5f32678-4be0-4e93-ad34-217c025b36b2",
   "metadata": {},
   "source": [
    "## top 4 variables"
   ]
  },
  {
   "cell_type": "code",
   "execution_count": null,
   "id": "07183a75-0f2b-4d5f-accb-b0fc569a271f",
   "metadata": {
    "tags": []
   },
   "outputs": [],
   "source": [
    "DataOfInterest.iloc[true_positive.index][VarOfInterest+['BTS_step']].sample(n=20, random_state=1234)"
   ]
  },
  {
   "cell_type": "code",
   "execution_count": null,
   "id": "772a74af-91ea-4bc1-bb8e-4019c435cd59",
   "metadata": {
    "tags": []
   },
   "outputs": [],
   "source": [
    "DataOfInterest.iloc[false_negative.index][VarOfInterest+['BTS_step']].sample(n=20, random_state=1234)"
   ]
  },
  {
   "cell_type": "code",
   "execution_count": null,
   "id": "3e3bb3f5-acc1-48f1-85de-e98ecbe33831",
   "metadata": {
    "tags": []
   },
   "outputs": [],
   "source": [
    "DataOfInterest.iloc[true_negative.index][VarOfInterest+['BTS_step']].sample(n=20, random_state=1234)"
   ]
  },
  {
   "cell_type": "markdown",
   "id": "05cab37c-dfa2-4113-9f66-cf28cfc7d113",
   "metadata": {
    "tags": []
   },
   "source": [
    "## all continuous var"
   ]
  },
  {
   "cell_type": "code",
   "execution_count": null,
   "id": "b9bbd4de-78f9-446b-81fe-163b00b1812c",
   "metadata": {
    "tags": []
   },
   "outputs": [],
   "source": [
    "DataOfInterest.iloc[true_positive.index].sample(n=20, random_state=1234)"
   ]
  },
  {
   "cell_type": "code",
   "execution_count": null,
   "id": "b27f6b08-604e-49e3-b779-c59583bad86e",
   "metadata": {
    "tags": []
   },
   "outputs": [],
   "source": [
    "DataOfInterest.iloc[false_negative.index].sample(n=20, random_state=1234)"
   ]
  },
  {
   "cell_type": "code",
   "execution_count": null,
   "id": "9d5ba1d0-8c24-482d-a7cf-c65359fd0a9e",
   "metadata": {
    "tags": []
   },
   "outputs": [],
   "source": [
    "DataOfInterest.iloc[true_negative.index].sample(n=20, random_state=1234)"
   ]
  },
  {
   "cell_type": "markdown",
   "id": "9bf3d8e8-98e3-460f-9711-03139f69174a",
   "metadata": {},
   "source": [
    "## all cat variables"
   ]
  },
  {
   "cell_type": "code",
   "execution_count": null,
   "id": "3ae08c96-0a9f-49e4-b384-0f6ccaa9595d",
   "metadata": {
    "tags": []
   },
   "outputs": [],
   "source": [
    "trainingData.iloc[true_positive.index][set(features_columns) - set(continuous_vars)].sample(n=20, random_state=1234)"
   ]
  },
  {
   "cell_type": "code",
   "execution_count": null,
   "id": "bf7b1269-1fc0-4b8c-9c85-956f4c7df327",
   "metadata": {
    "tags": []
   },
   "outputs": [],
   "source": [
    "trainingData.iloc[false_negative.index][set(features_columns) - set(continuous_vars)].sample(n=20, random_state=1234)"
   ]
  },
  {
   "cell_type": "code",
   "execution_count": null,
   "id": "89611cb4-8979-419e-aeba-5f4eecacc9d6",
   "metadata": {
    "tags": []
   },
   "outputs": [],
   "source": [
    "trainingData.iloc[true_negative.index][set(features_columns) - set(continuous_vars)].sample(n=20, random_state=1234)"
   ]
  },
  {
   "cell_type": "code",
   "execution_count": null,
   "id": "dc50c2c8-50ba-46bc-bdb1-d15d11187de6",
   "metadata": {},
   "outputs": [],
   "source": []
  },
  {
   "cell_type": "code",
   "execution_count": null,
   "id": "83bbf554-b388-4d1b-b034-37e5f4eca566",
   "metadata": {
    "tags": []
   },
   "outputs": [],
   "source": [
    "false_positive_samples_index = np.random.randint(0,false_positive.shape[0],10)\n",
    "false_negative_samples_index = np.random.randint(0,false_positive.shape[0],10)"
   ]
  },
  {
   "cell_type": "code",
   "execution_count": null,
   "id": "4468b6ea-c416-47b2-84ed-36604bb919fa",
   "metadata": {
    "tags": []
   },
   "outputs": [],
   "source": [
    "a = assessment_set_index.tolist()"
   ]
  },
  {
   "cell_type": "code",
   "execution_count": null,
   "id": "e8d75a33-6ba3-49ba-923c-993a988d24c3",
   "metadata": {
    "tags": []
   },
   "outputs": [],
   "source": [
    "b = false_positive.index.tolist()"
   ]
  },
  {
   "cell_type": "code",
   "execution_count": null,
   "id": "979e56ee-9c6c-4b4f-afea-6ef222992b18",
   "metadata": {
    "tags": []
   },
   "outputs": [],
   "source": [
    "import operator\n",
    "a = operator.itemgetter(a)\n",
    "list(a(b))"
   ]
  },
  {
   "cell_type": "code",
   "execution_count": null,
   "id": "a2e4e5b9-5f24-4bf9-94c2-1664c0349d03",
   "metadata": {
    "tags": []
   },
   "outputs": [],
   "source": [
    "a"
   ]
  },
  {
   "cell_type": "code",
   "execution_count": null,
   "id": "5ae54e68-efe9-42d6-8f41-b54b6c9268bb",
   "metadata": {
    "tags": []
   },
   "outputs": [],
   "source": [
    "false_positive[assessment_set_index.tolist()]"
   ]
  },
  {
   "cell_type": "code",
   "execution_count": null,
   "id": "073511f0-74c7-4729-8dda-ec78e250542b",
   "metadata": {},
   "outputs": [],
   "source": []
  },
  {
   "cell_type": "code",
   "execution_count": null,
   "id": "5efece32-be6f-4b9c-81d4-3876232b83ae",
   "metadata": {
    "tags": []
   },
   "outputs": [],
   "source": [
    "good_prediction_dt = trainingData[(prediction_table.y_true==1) & (prediction_table.y_true==prediction_table.y_pred_dt)]\n",
    "good_prediction_lasso = trainingData[(prediction_table.y_true==1) & (prediction_table.y_true==prediction_table.y_pred_lasso)]\n",
    "bad_prediction_dt = trainingData[(prediction_table.y_true==1) & (prediction_table.y_true!=prediction_table.y_pred_dt)]\n",
    "bad_prediction_lasso = trainingData[(prediction_table.y_true==1) & (prediction_table.y_true!=prediction_table.y_pred_lasso)]\n",
    "cat_vars = ['sex', 'cat_age', 'cat_BMI', 'ethnic_group', 'smokingStatus', 'CharlsonScore', 'rhinitis',\n",
    "       'cardiovascular', 'heartfailure', 'psoriasis',\n",
    "       'anaphylaxis', 'diabetes', 'ihd', 'anxiety',\n",
    "       'eczema', 'nasalpolyps', 'paracetamol',\n",
    "       'nsaids', 'betablocker', 'PEFStatus', 'EosinophilLevel',\n",
    "       'BTS_step', 'DeviceType', 'cat_imd_decile',  \n",
    "       'cat_average_daily_dose_ICS', 'cat_prescribed_daily_dose_ICS',\n",
    "       'cat_ICS_medication_possesion_ratio', 'cat_numOCS', 'cat_numOCSEvents',\n",
    "       'cat_numOCSwithLRTI', #'cat_numAcuteRespEvents',\n",
    "       'cat_numAntibioticsEvents', 'cat_numAntibioticswithLRTI',\n",
    "       'cat_numAsthmaAttacks', 'cat_numHospEvents', 'cat_numPCS',\n",
    "       'cat_numPCSAsthma']\n",
    "\n",
    "cont_vars = ['age']"
   ]
  },
  {
   "cell_type": "code",
   "execution_count": null,
   "id": "ebaaa191-b294-4ba5-95db-f3878d16f1de",
   "metadata": {
    "tags": []
   },
   "outputs": [],
   "source": [
    "writer = pd.ExcelWriter('../FinalData/descriptive_badPrediction.xlsx', engine='xlsxwriter')\n",
    "target_outcome = '12months'\n",
    "sets = [bad_prediction_dt, good_prediction_dt, bad_prediction_lasso, good_prediction_lasso]\n",
    "setsName = ['bad_prediction_dt', 'good_prediction_dt', 'bad_prediction_lasso', 'good_prediction_lasso']\n",
    "# cat_vars = ['gender_x', 'language', 'marital_status', 'ethnicity', 'admission_location', 'discharge_location']\n",
    "for data, setname in zip(sets, setsName):\n",
    "    desc_table = []\n",
    "    for var in data.columns:\n",
    "        if (var in cont_vars):\n",
    "            desc_table.append((var  + ' (n, % of total)','-' ))\n",
    "            asthmaMean = np.round(np.mean(data[var][data[target_outcome]==1]),2)\n",
    "            asthmaSD = np.round(np.std(data[var][data[target_outcome]==1]),2)\n",
    "            desc_table.append((var  + ' (mean, std)', str(asthmaMean) + ' (' + str(asthmaSD) + ')'))\n",
    "        elif (var in cat_vars):\n",
    "            desc_table.append((var  + ' (n, % of total)','-'))\n",
    "            groups = data[var].unique().tolist()\n",
    "            # groups.sort()\n",
    "            for group in groups:\n",
    "                asthma = data[(data[var]==group)&(data[target_outcome]==1)].shape[0]\n",
    "                asthmaPercent = round(asthma/sum(data[target_outcome]==1)*100,2)\n",
    "                desc_table.append((group,  str(asthma) + ' (' + str(asthmaPercent) + '%)'))\n",
    "    descriptive_cat = pd.DataFrame(desc_table, columns=['var', 'Asthma attack (N='+str(sum(data[target_outcome]==1))+')'])\n",
    "    descriptive_cat.to_excel(writer, sheet_name=setname)\n",
    "    print('writing to Excel done!!')\n",
    "writer.save()"
   ]
  },
  {
   "cell_type": "code",
   "execution_count": null,
   "id": "74391473-6cfa-4cba-9c0c-4f8a7c8e51a8",
   "metadata": {
    "tags": []
   },
   "outputs": [],
   "source": [
    "descriptive_cat"
   ]
  },
  {
   "cell_type": "code",
   "execution_count": null,
   "id": "a3185f44-a306-43b6-a3c7-7a1e0065c500",
   "metadata": {
    "tags": []
   },
   "outputs": [],
   "source": [
    "prediction_table[(prediction_table.y_true==1) & (prediction_table.y_true!=prediction_table.y_pred_lasso)]"
   ]
  },
  {
   "cell_type": "code",
   "execution_count": null,
   "id": "150ff9ff-2baa-4697-98c4-cefa5c77290b",
   "metadata": {
    "tags": []
   },
   "outputs": [],
   "source": [
    "#Visualise\n",
    "bar = sns.catplot(x = \"outcome\",       # x variable name\n",
    "            y = \"auc\",       # y variable name            \n",
    "            data = summary_result,     # dataframe to plot\n",
    "            kind = \"bar\",\n",
    "            hue = \"model_name\",\n",
    "            height=5,\n",
    "            aspect=6/2,\n",
    "            ci = None)\n",
    "ax = bar.facet_axis(0,0)\n",
    "for p in ax.patches:\n",
    "    ax.text(p.get_x() + 0.01, \n",
    "            p.get_height() * 1.01, \n",
    "            '{0:.4f}'.format(p.get_height()), \n",
    "            color='black', rotation='horizontal', fontsize=7)\n",
    "    \n",
    "# listOf_Yticks = np.arange(0.5, 0.7, 0.05)\n",
    "ax.set_ylim(0.4, 1)\n",
    "ax.set_ylabel('AUC Score', fontsize=11)\n",
    "ax.set_xlabel('Method', fontsize=11)"
   ]
  },
  {
   "cell_type": "code",
   "execution_count": null,
   "id": "840e3891-118b-41d6-b159-8d5649973607",
   "metadata": {
    "tags": []
   },
   "outputs": [],
   "source": [
    "best_model_dt.feature_importances_"
   ]
  },
  {
   "cell_type": "code",
   "execution_count": null,
   "id": "90a8f97d-a9f8-42b5-ad63-a3007d853013",
   "metadata": {
    "tags": []
   },
   "outputs": [],
   "source": []
  },
  {
   "cell_type": "code",
   "execution_count": null,
   "id": "585071b8-244d-4f64-bd03-6cfcb038b749",
   "metadata": {
    "tags": []
   },
   "outputs": [],
   "source": []
  },
  {
   "cell_type": "code",
   "execution_count": null,
   "id": "43e7d254-18ba-4e6c-a70f-e232cef0d971",
   "metadata": {
    "tags": []
   },
   "outputs": [],
   "source": []
  },
  {
   "cell_type": "code",
   "execution_count": null,
   "id": "a91b58c1-a6cd-4616-b37e-8a838c4e694e",
   "metadata": {
    "tags": []
   },
   "outputs": [],
   "source": []
  },
  {
   "cell_type": "code",
   "execution_count": null,
   "id": "3210cf71-819b-4110-a6da-a8476d3164f3",
   "metadata": {
    "tags": []
   },
   "outputs": [],
   "source": []
  },
  {
   "cell_type": "markdown",
   "id": "18cc8cb2-0b7c-4068-8602-3f20ce245e3b",
   "metadata": {},
   "source": []
  },
  {
   "cell_type": "code",
   "execution_count": null,
   "id": "cd9f3421-1c24-4b2a-a9d4-883463ff6890",
   "metadata": {
    "tags": []
   },
   "outputs": [],
   "source": []
  },
  {
   "cell_type": "code",
   "execution_count": null,
   "id": "6bd45d55-ad6d-4eda-a7e6-5cfa285efc3a",
   "metadata": {
    "tags": []
   },
   "outputs": [],
   "source": [
    "result"
   ]
  },
  {
   "cell_type": "code",
   "execution_count": null,
   "id": "69bca650-b488-4717-9563-093c43b119f2",
   "metadata": {
    "tags": []
   },
   "outputs": [],
   "source": []
  },
  {
   "cell_type": "markdown",
   "id": "76596db2-c810-4c3a-b724-e59b6f9cd19a",
   "metadata": {},
   "source": [
    "# BIN"
   ]
  },
  {
   "cell_type": "code",
   "execution_count": null,
   "id": "4ae588b5-980f-4712-bfef-e84dfcb1c902",
   "metadata": {},
   "outputs": [],
   "source": [
    "%%time\n",
    "\n",
    "\n",
    "#EXECUTE model training\n",
    "summary_result_train = []\n",
    "summary_result = []\n",
    "summary_result_Wales = []\n",
    "summary_result_Scotland = []\n",
    "cols = ['model_name', 'outcome', 'class_ratio', 'acc','spec','sens','auc', 'auprc', 'balance_accuracy', 'f1_score', 'ppv', 'npv']\n",
    "\n",
    "kf = StratifiedKFold(n_splits=n_splits, random_state=1234, shuffle=True)\n",
    "kf.get_n_splits(X)\n",
    "\n",
    "for target_outcome in target_outcomes:\n",
    "    models = pd.DataFrame(columns=['modelname', 'target_outcome', 'class_ratio'])\n",
    "    print(target_outcome)\n",
    "    y = trainingData[target_outcome]\n",
    "    y_test = evaluationData[target_outcome]\n",
    "    y_test_Wales = evaluationDataWales[target_outcome]\n",
    "    y_test_Scotland = evaluationDataScotland[target_outcome]\n",
    "   \n",
    "    for train_index, test_index in kf.split(X, y):\n",
    "        #split data\n",
    "        X_train, X_val = X.iloc[train_index], X.iloc[test_index]\n",
    "        y_train, y_val = y.iloc[train_index], y.iloc[test_index]\n",
    "        \n",
    "        #Build models -> it can be commented if the models have been trained\n",
    "        models_temp = pd.DataFrame(build_models(X_train, y_train, target_outcome, params_dict), columns=['modelname', 'target_outcome', 'class_ratio'])\n",
    "        models = pd.concat([models,models_temp]).reset_index(drop=True)\n",
    "    #evaluate model\n",
    "    for modelname, target_outcome, classratio in models.values:\n",
    "        # print('======================================================================')\n",
    "        print(modelname)\n",
    "        model = pickle.load(open('../Models/'+ target_outcome + '/'+ modelname + '.sav', 'rb'))\n",
    "        summary_result.append((str(model), target_outcome, classratio, ) + summariseResult (X_test, y_test, model) )\n",
    "        summary_result_Wales.append((str(model), target_outcome, classratio, ) + summariseResult (X_test_Wales, y_test_Wales, model) )       \n",
    "        summary_result_Scotland.append((str(model), target_outcome, classratio, ) + summariseResult (X_test_Scotland, y_test_Scotland, model) )       \n",
    "        summary_result_train.append((str(model), target_outcome, classratio, ) + summariseResult (X, y, model) )       \n",
    "\n",
    "\n",
    "summary_result = pd.DataFrame(summary_result, columns=cols)\n",
    "summary_result['model_num'] = summary_result.index\n",
    "\n",
    "summary_result_Wales = pd.DataFrame(summary_result_Wales, columns=cols)\n",
    "summary_result_Wales['model_num'] = summary_result_Wales.index\n",
    "\n",
    "summary_result_Scotland = pd.DataFrame(summary_result_Scotland, columns=cols)\n",
    "summary_result_Scotland['model_num'] = summary_result_Scotland.index\n",
    "\n",
    "summary_result_train = pd.DataFrame(summary_result_train, columns=cols)\n",
    "summary_result_train['model_num'] = summary_result_train.index\n"
   ]
  },
  {
   "cell_type": "code",
   "execution_count": null,
   "id": "70c88a10-ffac-4051-82e6-0866d4c3b28b",
   "metadata": {
    "scrolled": true,
    "tags": []
   },
   "outputs": [],
   "source": [
    "%%time\n",
    "\n",
    "target_outcome = 'outcome_combined_6months'\n",
    "y = trainingData[[target_outcome]]\n",
    "\n",
    "#model parameters\n",
    "params = {'xgb_lr': 0.6,\n",
    "         'xgb_maxdepth': 7}\n",
    "#EXECUTE model training\n",
    "\n",
    "kf = StratifiedKFold(n_splits=n_splits, random_state=1234, shuffle=True)\n",
    "kf.get_n_splits(X)\n",
    "models2 = pd.DataFrame(columns=['modelname', 'class_ratio'])\n",
    "summary_result2 = []\n",
    "cols = ['model_name', 'class_ratio', 'acc','spec','sens','auc', 'auprc', 'balance_accuracy', 'f1_score', 'ppv', 'npv']\n",
    "split_counter = 0\n",
    "\n",
    "#train model\n",
    "for train_index, test_index in kf.split(X, y):\n",
    "    #split data\n",
    "    X_train, X_test = X.iloc[train_index], X.iloc[test_index]\n",
    "    y_train, y_test = y.iloc[train_index], y.iloc[test_index]\n",
    "    \n",
    "    #Build models -> it can be commented if the models have been trained\n",
    "    models_temp = pd.DataFrame(build_models(X_train, y_train[target_outcome], params, split_counter), columns=['modelname', 'class_ratio'])\n",
    "    models2 = pd.concat([models2,models_temp]).reset_index(drop=True)\n",
    "    split_counter+=1\n",
    "        \n",
    "#evaluate model\n",
    "for modelname, classratio in models2.values:\n",
    "    # print('======================================================================')\n",
    "    print(modelname)\n",
    "    model = pickle.load(open('./models/'+ target_outcome + '/'+ modelname + '.sav', 'rb'))\n",
    "    summary_result2.append((str(model), classratio, ) + summariseResult (X_test, y_test[target_outcome], model) )       \n",
    "\n",
    "\n",
    "summary_result2 = pd.DataFrame(summary_result2, columns=cols)\n",
    "summary_result2['model_num'] = summary_result2.index\n",
    "# summary_result1['method_name'] = summary_result1.apply(lambda x: 'LR' if x.model_num%2 == 0 else 'XGBoost', axis=1)\n"
   ]
  },
  {
   "cell_type": "code",
   "execution_count": null,
   "id": "d11f1f49-3ade-41c8-82d1-8d346211c299",
   "metadata": {},
   "outputs": [],
   "source": [
    "print(target_outcome)\n",
    "summary_result2['model_name'] = summary_result2.apply(lambda x: modelNameFixer(x.model_name), axis=1)\n",
    "summary_result2.groupby('model_name').mean().sort_values(['auc'], ascending=False)"
   ]
  },
  {
   "cell_type": "code",
   "execution_count": null,
   "id": "8506386d-27a9-49fa-856b-a5683e7144e9",
   "metadata": {},
   "outputs": [],
   "source": [
    "summary_result2.to_csv(\"summaryResult_outcome2.csv\")\n",
    "summary_result2 = pd.read_csv(\"summaryResult_outcome2.csv\")\n",
    "\n",
    "bar = sns.catplot(x = \"model_name\",       # x variable name\n",
    "            y = \"auc\",       # y variable name            \n",
    "            data = summary_result2,     # dataframe to plot\n",
    "            kind = \"bar\",\n",
    "            height=5,\n",
    "            aspect=5/2.5,\n",
    "            ci = None)\n",
    "ax = bar.facet_axis(0,0)\n",
    "for p in ax.patches:\n",
    "    ax.text(p.get_x() + 0.01, \n",
    "            p.get_height() * 1.01, \n",
    "            '{0:.4f}'.format(p.get_height()), \n",
    "            color='black', rotation='horizontal', fontsize=11)\n",
    "    \n",
    "# listOf_Yticks = np.arange(0.5, 0.7, 0.05)\n",
    "ax.set_ylim(0.4, 1)\n",
    "ax.set_ylabel('AUC Score', fontsize=11)\n",
    "ax.set_xlabel('Method', fontsize=11)"
   ]
  },
  {
   "cell_type": "code",
   "execution_count": null,
   "id": "10426f78-d63b-4430-aa28-9781fe41a744",
   "metadata": {},
   "outputs": [],
   "source": [
    "best_model2 = pickle.load(open('./models/outcome_combined_6months/0DTModel.sav', 'rb'))\n",
    "\n",
    "# pd.DataFrame([best_model3.feature_importances_], columns=X.columns).T.sort_values(0, ascending=False)\n",
    "sorted_idx = best_model2.feature_importances_.argsort()\n",
    "plt.figure(figsize=(5,7))\n",
    "plt.barh(X.columns[sorted_idx][-10:], best_model2.feature_importances_[sorted_idx][-10:])\n",
    "plt.xlabel(\"Decision Tree Feature Importance\")\n",
    "plt.show()"
   ]
  },
  {
   "cell_type": "code",
   "execution_count": null,
   "id": "a3090a2a-1dcd-4723-8538-acc2ecafd220",
   "metadata": {},
   "outputs": [],
   "source": [
    "best_model2 = pickle.load(open('./models/outcome_combined_6months/0RFModel.sav', 'rb'))\n",
    "\n",
    "# pd.DataFrame([best_model3.feature_importances_], columns=X.columns).T.sort_values(0, ascending=False)\n",
    "sorted_idx = best_model2.feature_importances_.argsort()\n",
    "plt.figure(figsize=(5,7))\n",
    "plt.barh(X.columns[sorted_idx][-10:], best_model2.feature_importances_[sorted_idx][-10:])\n",
    "plt.xlabel(\"Random Forest Feature Importance\")\n",
    "plt.show()"
   ]
  },
  {
   "cell_type": "code",
   "execution_count": null,
   "id": "e4ca7472-0652-49bd-aef2-81ca61469336",
   "metadata": {},
   "outputs": [],
   "source": [
    "best_model2 = pickle.load(open('./models/outcome_combined_6months/0XGBoostModel.sav', 'rb'))\n",
    "\n",
    "# pd.DataFrame([best_model3.feature_importances_], columns=X.columns).T.sort_values(0, ascending=False)\n",
    "sorted_idx = best_model2.feature_importances_.argsort()\n",
    "plt.figure(figsize=(5,7))\n",
    "plt.barh(X.columns[sorted_idx][-10:], best_model2.feature_importances_[sorted_idx][-10:])\n",
    "plt.xlabel(\"XGBoost Feature Importance\")\n",
    "plt.show()"
   ]
  },
  {
   "cell_type": "code",
   "execution_count": null,
   "id": "894433df-7a68-4622-a12e-0d2407c5d00e",
   "metadata": {},
   "outputs": [],
   "source": [
    "# 12 months"
   ]
  },
  {
   "cell_type": "code",
   "execution_count": null,
   "id": "bfe3cacf-85d8-4889-b3f7-b0653c74d935",
   "metadata": {},
   "outputs": [],
   "source": [
    "target_outcome = 'outcome_combined_12months'\n",
    "y = trainingData[[target_outcome]]\n",
    "\n",
    "#model parameters\n",
    "params = {'xgb_lr': 0.6,\n",
    "         'xgb_maxdepth': 10}"
   ]
  },
  {
   "cell_type": "code",
   "execution_count": null,
   "id": "8b801fbf-b23b-4c62-8e31-083cd3b5635f",
   "metadata": {
    "scrolled": true,
    "tags": []
   },
   "outputs": [],
   "source": [
    "%%time\n",
    "\n",
    "#EXECUTE model training\n",
    "\n",
    "kf = StratifiedKFold(n_splits=n_splits, random_state=1234, shuffle=True)\n",
    "kf.get_n_splits(X)\n",
    "models3 = pd.DataFrame(columns=['modelname', 'class_ratio'])\n",
    "summary_result3 = []\n",
    "cols = ['model_name', 'class_ratio', 'acc','spec','sens','auc', 'auprc', 'balance_accuracy', 'f1_score', 'ppv', 'npv']\n",
    "split_counter = 0\n",
    "\n",
    "#train model\n",
    "for train_index, test_index in kf.split(X, y):\n",
    "    #split data\n",
    "    X_train, X_test = X.iloc[train_index], X.iloc[test_index]\n",
    "    y_train, y_test = y.iloc[train_index], y.iloc[test_index]\n",
    "    \n",
    "    #Build models -> it can be commented if the models have been trained\n",
    "    models_temp = pd.DataFrame(build_models(X_train, y_train[target_outcome], params, split_counter), columns=['modelname', 'class_ratio'])\n",
    "    models3 = pd.concat([models3,models_temp]).reset_index(drop=True)\n",
    "    split_counter+=1\n",
    "        \n",
    "#evaluate model\n",
    "for modelname, classratio in models3.values:\n",
    "    # print('======================================================================')\n",
    "    print(modelname)\n",
    "    model = pickle.load(open('./models/'+ target_outcome + '/'+ modelname + '.sav', 'rb'))\n",
    "    summary_result3.append((str(model), classratio, ) + summariseResult (X_test, y_test[target_outcome], model) )       \n",
    "\n",
    "\n",
    "summary_result3 = pd.DataFrame(summary_result3, columns=cols)\n",
    "summary_result3['model_num'] = summary_result3.index\n",
    "# summary_result1['method_name'] = summary_result1.apply(lambda x: 'LR' if x.model_num%2 == 0 else 'XGBoost', axis=1)\n"
   ]
  },
  {
   "cell_type": "code",
   "execution_count": null,
   "id": "e27d5bb5-e42f-4ad0-9c59-af9b9f5645cb",
   "metadata": {},
   "outputs": [],
   "source": [
    "print(target_outcome)\n",
    "summary_result3['model_name'] = summary_result3.apply(lambda x: modelNameFixer(x.model_name), axis=1)\n",
    "summary_result3.groupby('model_name').mean().sort_values(['auc'], ascending=False)"
   ]
  },
  {
   "cell_type": "code",
   "execution_count": null,
   "id": "6365bfd3-728e-4071-9abd-d8b87135d795",
   "metadata": {},
   "outputs": [],
   "source": [
    "summary_result3.to_csv(\"summaryResult_outcome3.csv\")\n",
    "summary_result3 = pd.read_csv(\"summaryResult_outcome3.csv\")\n",
    "\n",
    "bar = sns.catplot(x = \"model_name\",       # x variable name\n",
    "            y = \"auc\",       # y variable name            \n",
    "            data = summary_result3,     # dataframe to plot\n",
    "            kind = \"bar\",\n",
    "            height=5,\n",
    "            aspect=5/2.5,\n",
    "            ci = None)\n",
    "ax = bar.facet_axis(0,0)\n",
    "for p in ax.patches:\n",
    "    ax.text(p.get_x() + 0.01, \n",
    "            p.get_height() * 1.01, \n",
    "            '{0:.4f}'.format(p.get_height()), \n",
    "            color='black', rotation='horizontal', fontsize=11)\n",
    "    \n",
    "# listOf_Yticks = np.arange(0.5, 0.7, 0.05)\n",
    "ax.set_ylim(0.4, 1)\n",
    "ax.set_ylabel('AUC Score', fontsize=11)\n",
    "ax.set_xlabel('Method', fontsize=11)"
   ]
  },
  {
   "cell_type": "code",
   "execution_count": null,
   "id": "722308db-b7ef-479b-b5fd-4f57a8ff1fa4",
   "metadata": {},
   "outputs": [],
   "source": [
    "best_model3 = pickle.load(open('./models/outcome_combined_12months/0DTModel.sav', 'rb'))\n",
    "\n",
    "# pd.DataFrame([best_model3.feature_importances_], columns=X.columns).T.sort_values(0, ascending=False)\n",
    "sorted_idx = best_model3.feature_importances_.argsort()\n",
    "plt.figure(figsize=(5,7))\n",
    "plt.barh(X.columns[sorted_idx][-10:], best_model3.feature_importances_[sorted_idx][-10:])\n",
    "plt.xlabel(\"Decision Tree Feature Importance\")\n",
    "plt.show()"
   ]
  },
  {
   "cell_type": "code",
   "execution_count": null,
   "id": "0d90e68e-3bb4-4768-9026-eaa1af12ef41",
   "metadata": {
    "tags": []
   },
   "outputs": [],
   "source": [
    "best_model3 = pickle.load(open('./models/outcome_combined_12months/0RFModel.sav', 'rb'))\n",
    "\n",
    "# pd.DataFrame([best_model3.feature_importances_], columns=X.columns).T.sort_values(0, ascending=False)\n",
    "sorted_idx = best_model3.feature_importances_.argsort()\n",
    "plt.figure(figsize=(5,7))\n",
    "plt.barh(X.columns[sorted_idx][-10:], best_model3.feature_importances_[sorted_idx][-10:])\n",
    "plt.xlabel(\"Random Forest Feature Importance\")\n",
    "plt.show()"
   ]
  },
  {
   "cell_type": "code",
   "execution_count": null,
   "id": "63e290ea-fbf1-42bd-b7db-4712fdf65e11",
   "metadata": {
    "tags": []
   },
   "outputs": [],
   "source": [
    "best_model3 = pickle.load(open('./models/outcome_combined_12months/0XGBoostModel.sav', 'rb'))\n",
    "\n",
    "# pd.DataFrame([best_model3.feature_importances_], columns=X.columns).T.sort_values(0, ascending=False)\n",
    "sorted_idx = best_model3.feature_importances_.argsort()\n",
    "plt.figure(figsize=(5,7))\n",
    "plt.barh(X.columns[sorted_idx][-10:], best_model3.feature_importances_[sorted_idx][-10:])\n",
    "plt.xlabel(\"XGBoost Feature Importance\")\n",
    "plt.show()"
   ]
  }
 ],
 "metadata": {
  "kernelspec": {
   "display_name": "Python 3 (ipykernel)",
   "language": "python",
   "name": "python3"
  },
  "language_info": {
   "codemirror_mode": {
    "name": "ipython",
    "version": 3
   },
   "file_extension": ".py",
   "mimetype": "text/x-python",
   "name": "python",
   "nbconvert_exporter": "python",
   "pygments_lexer": "ipython3",
   "version": "3.10.11"
  }
 },
 "nbformat": 4,
 "nbformat_minor": 5
}
