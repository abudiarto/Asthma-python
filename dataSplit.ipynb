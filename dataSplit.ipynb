{
 "cells": [
  {
   "cell_type": "markdown",
   "id": "3cf617ae-7cd6-4168-9b2a-c61a35fcaf7c",
   "metadata": {},
   "source": [
    "# Split Data into Train - Val - Eval"
   ]
  },
  {
   "cell_type": "markdown",
   "id": "f50e5fe5-19e3-4aa6-ad1c-0f8d87ecd708",
   "metadata": {},
   "source": [
    "Train set -> England 90%\n",
    "\n",
    "Val set -> England 10% (internal validation)\n",
    "\n",
    "Eval set -> Wales & Scotland (External validation)"
   ]
  },
  {
   "cell_type": "code",
   "execution_count": 1,
   "id": "a6f7287c-5c7e-4d25-9085-f3971b3d5784",
   "metadata": {
    "tags": []
   },
   "outputs": [],
   "source": [
    "#uncomment this below code to install imblearn package\n",
    "# !pip install imbalanced-learn"
   ]
  },
  {
   "cell_type": "code",
   "execution_count": 2,
   "id": "5bdbffb2-b2a4-45fb-b395-13d2cd7513a3",
   "metadata": {
    "tags": []
   },
   "outputs": [],
   "source": [
    "# !pip install scikit-optimize"
   ]
  },
  {
   "cell_type": "code",
   "execution_count": 3,
   "id": "c95c2128",
   "metadata": {
    "tags": []
   },
   "outputs": [],
   "source": [
    "import pandas as pd\n",
    "import numpy as np\n",
    "import sklearn\n",
    "\n",
    "#statistics\n",
    "from scipy.stats import chi2_contingency, ttest_ind\n",
    "\n",
    "import cudf #gpu-powered DataFrame (Pandas alternative)\n",
    "\n",
    "#imbalance handling\n",
    "from imblearn.over_sampling import SMOTE\n",
    "from imblearn.under_sampling import RandomUnderSampler, RepeatedEditedNearestNeighbours\n",
    "from imblearn.pipeline import Pipeline\n",
    "\n",
    "#preprocessing\n",
    "from sklearn import preprocessing\n",
    "from sklearn.preprocessing import OrdinalEncoder, OneHotEncoder, LabelEncoder, MinMaxScaler, StandardScaler\n",
    "from sklearn.model_selection import train_test_split\n",
    "\n",
    "#hyperparameter search\n",
    "from skopt import BayesSearchCV\n",
    "from skopt.space import Real, Integer, Categorical\n",
    "from skopt.utils import use_named_args\n",
    "from skopt import gp_minimize\n",
    "\n",
    "#internal validation\n",
    "from sklearn.model_selection import StratifiedKFold, KFold, RepeatedStratifiedKFold, cross_val_score, GridSearchCV, PredefinedSplit, RandomizedSearchCV\n",
    "\n",
    "\n",
    "#performance metrices\n",
    "from sklearn.metrics import make_scorer, confusion_matrix, classification_report, f1_score, balanced_accuracy_score, r2_score, auc, average_precision_score, roc_auc_score, recall_score, roc_curve, accuracy_score\n",
    "\n",
    "#Models selection\n",
    "from sklearn.naive_bayes import GaussianNB, ComplementNB\n",
    "from sklearn.linear_model import LogisticRegression, ElasticNet\n",
    "from sklearn.tree import DecisionTreeClassifier\n",
    "from sklearn.ensemble import RandomForestClassifier\n",
    "import xgboost as xgb\n",
    "from cuml.svm import SVC #gpu-powered SVM\n",
    "\n",
    "\n",
    "#save and load trained model\n",
    "import pickle\n",
    "\n",
    "#visualisation\n",
    "import matplotlib.pyplot as plt\n",
    "import seaborn as sns\n",
    "\n",
    "from collections import Counter\n",
    "\n",
    "import os"
   ]
  },
  {
   "cell_type": "code",
   "execution_count": 4,
   "id": "11624789",
   "metadata": {
    "tags": []
   },
   "outputs": [
    {
     "name": "stderr",
     "output_type": "stream",
     "text": [
      "/tmp/ipykernel_18219/1470992490.py:2: DtypeWarning: Columns (26,27,29,30,33,34,80,84) have mixed types. Specify dtype option on import or set low_memory=False.\n",
      "  features = pd.read_csv(\"../FinalData/cleaned_features_03102023.csv\")\n"
     ]
    }
   ],
   "source": [
    "# Data loader\n",
    "features = pd.read_csv(\"../FinalData/cleaned_features_03102023.csv\")\n",
    "outcomes = pd.read_csv(\"../FinalData/cleaned_outcomes_11072023.csv\")\n",
    "features = features[features.columns[1:]]\n",
    "# outcomes = outcomes[outcomes.columns[1:]]"
   ]
  },
  {
   "cell_type": "code",
   "execution_count": 5,
   "id": "c3d4d97c-6eff-4df9-b769-8fcde18f5fcf",
   "metadata": {
    "tags": []
   },
   "outputs": [
    {
     "name": "stdout",
     "output_type": "stream",
     "text": [
      "(580607, 99)\n",
      "(577962, 15)\n"
     ]
    }
   ],
   "source": [
    "print(features.shape)\n",
    "print(outcomes.shape)"
   ]
  },
  {
   "cell_type": "code",
   "execution_count": 6,
   "id": "eb99babd-f83f-4f3f-b9e3-1934a6f6ba12",
   "metadata": {
    "tags": []
   },
   "outputs": [
    {
     "data": {
      "text/plain": [
       "Index(['patid', 'practice_id', 'sex', 'age', 'BMI', 'weight', 'height',\n",
       "       'ethnicity', 'ethnic_group', 'smokingStatus', 'CharlsonScore',\n",
       "       'count_rhinitis', 'count_cardiovascular', 'count_heartfailure',\n",
       "       'count_psoriasis', 'count_anaphylaxis', 'count_diabetes', 'count_ihd',\n",
       "       'count_anxiety', 'count_eczema', 'count_nasalpolyps',\n",
       "       'count_paracetamol', 'count_nsaids', 'count_betablocker', 'id',\n",
       "       'event_date', 'recorded_date', 'visit_id', 'code_id', 'snomed_id',\n",
       "       'numeric_1', 'numeric_2', 'created_datetime', 'updated_datetime',\n",
       "       'PEFStatus', 'EosinophilLevel', 'BTS_step', 'average_daily_dose_ICS',\n",
       "       'prescribed_daily_dose_ICS', 'ICS_medication_possesion_ratio',\n",
       "       'DeviceType', 'Spacer', 'numOCS', 'PriorEducation', 'numPCS',\n",
       "       'numPCSAsthma', 'numAntibioticsEvents', 'numAntibioticswithLRTI',\n",
       "       'numOCSEvents', 'numOCSwithLRTI', 'numAsthmaAttacks',\n",
       "       'numAcuteRespEvents', 'numHospEvents', 'month_12', 'month_4', 'month_5',\n",
       "       'month_10', 'month_1', 'month_6', 'month_3', 'month_11', 'month_8',\n",
       "       'month_9', 'month_7', 'month_2', 'postcode_district', 'imd_decile',\n",
       "       'Country', 'County', 'LocalAuthority', 'OutputAreaClassification',\n",
       "       'cat_BMI', 'cat_age', 'cat_average_daily_dose_ICS',\n",
       "       'cat_prescribed_daily_dose_ICS', 'cat_ICS_medication_possesion_ratio',\n",
       "       'cat_numOCS', 'cat_numOCSEvents', 'cat_numOCSwithLRTI',\n",
       "       'cat_numAcuteRespEvents', 'cat_numAntibioticsEvents',\n",
       "       'cat_numAntibioticswithLRTI', 'cat_numAsthmaAttacks',\n",
       "       'cat_numHospEvents', 'cat_numPCS', 'cat_numPCSAsthma', 'rhinitis',\n",
       "       'cardiovascular', 'heartfailure', 'psoriasis', 'anaphylaxis',\n",
       "       'diabetes', 'ihd', 'anxiety', 'eczema', 'nasalpolyps', 'paracetamol',\n",
       "       'nsaids', 'betablocker'],\n",
       "      dtype='object')"
      ]
     },
     "execution_count": 6,
     "metadata": {},
     "output_type": "execute_result"
    }
   ],
   "source": [
    "features.columns"
   ]
  },
  {
   "cell_type": "code",
   "execution_count": 7,
   "id": "5754f4e6-c1eb-48b6-8cd3-3864ee8f639e",
   "metadata": {
    "tags": []
   },
   "outputs": [
    {
     "data": {
      "text/html": [
       "<div>\n",
       "<style scoped>\n",
       "    .dataframe tbody tr th:only-of-type {\n",
       "        vertical-align: middle;\n",
       "    }\n",
       "\n",
       "    .dataframe tbody tr th {\n",
       "        vertical-align: top;\n",
       "    }\n",
       "\n",
       "    .dataframe thead th {\n",
       "        text-align: right;\n",
       "    }\n",
       "</style>\n",
       "<table border=\"1\" class=\"dataframe\">\n",
       "  <thead>\n",
       "    <tr style=\"text-align: right;\">\n",
       "      <th></th>\n",
       "      <th>patid</th>\n",
       "      <th>practice_id</th>\n",
       "      <th>sex</th>\n",
       "      <th>age</th>\n",
       "      <th>BMI</th>\n",
       "      <th>weight</th>\n",
       "      <th>height</th>\n",
       "      <th>ethnicity</th>\n",
       "      <th>ethnic_group</th>\n",
       "      <th>smokingStatus</th>\n",
       "      <th>...</th>\n",
       "      <th>psoriasis</th>\n",
       "      <th>anaphylaxis</th>\n",
       "      <th>diabetes</th>\n",
       "      <th>ihd</th>\n",
       "      <th>anxiety</th>\n",
       "      <th>eczema</th>\n",
       "      <th>nasalpolyps</th>\n",
       "      <th>paracetamol</th>\n",
       "      <th>nsaids</th>\n",
       "      <th>betablocker</th>\n",
       "    </tr>\n",
       "  </thead>\n",
       "  <tbody>\n",
       "    <tr>\n",
       "      <th>0</th>\n",
       "      <td>43231452</td>\n",
       "      <td>39</td>\n",
       "      <td>0.0</td>\n",
       "      <td>48</td>\n",
       "      <td>26.609713</td>\n",
       "      <td>76.0</td>\n",
       "      <td>1.6900</td>\n",
       "      <td>not_recorded</td>\n",
       "      <td>not_recorded</td>\n",
       "      <td>Active Smoker</td>\n",
       "      <td>...</td>\n",
       "      <td>0</td>\n",
       "      <td>0</td>\n",
       "      <td>0</td>\n",
       "      <td>0</td>\n",
       "      <td>0</td>\n",
       "      <td>0</td>\n",
       "      <td>0</td>\n",
       "      <td>0</td>\n",
       "      <td>0</td>\n",
       "      <td>0</td>\n",
       "    </tr>\n",
       "    <tr>\n",
       "      <th>1</th>\n",
       "      <td>43206365</td>\n",
       "      <td>39</td>\n",
       "      <td>1.0</td>\n",
       "      <td>58</td>\n",
       "      <td>23.946360</td>\n",
       "      <td>72.5</td>\n",
       "      <td>1.7400</td>\n",
       "      <td>not_recorded</td>\n",
       "      <td>not_recorded</td>\n",
       "      <td>Former Smoker</td>\n",
       "      <td>...</td>\n",
       "      <td>0</td>\n",
       "      <td>0</td>\n",
       "      <td>0</td>\n",
       "      <td>0</td>\n",
       "      <td>1</td>\n",
       "      <td>0</td>\n",
       "      <td>0</td>\n",
       "      <td>0</td>\n",
       "      <td>0</td>\n",
       "      <td>0</td>\n",
       "    </tr>\n",
       "    <tr>\n",
       "      <th>2</th>\n",
       "      <td>43203606</td>\n",
       "      <td>559</td>\n",
       "      <td>0.0</td>\n",
       "      <td>51</td>\n",
       "      <td>17.104513</td>\n",
       "      <td>39.0</td>\n",
       "      <td>1.5100</td>\n",
       "      <td>not_recorded</td>\n",
       "      <td>not_recorded</td>\n",
       "      <td>Active Smoker</td>\n",
       "      <td>...</td>\n",
       "      <td>0</td>\n",
       "      <td>0</td>\n",
       "      <td>0</td>\n",
       "      <td>0</td>\n",
       "      <td>0</td>\n",
       "      <td>1</td>\n",
       "      <td>0</td>\n",
       "      <td>0</td>\n",
       "      <td>0</td>\n",
       "      <td>0</td>\n",
       "    </tr>\n",
       "    <tr>\n",
       "      <th>3</th>\n",
       "      <td>43117348</td>\n",
       "      <td>502</td>\n",
       "      <td>0.0</td>\n",
       "      <td>69</td>\n",
       "      <td>35.303241</td>\n",
       "      <td>74.0</td>\n",
       "      <td>1.4478</td>\n",
       "      <td>not_recorded</td>\n",
       "      <td>not_recorded</td>\n",
       "      <td>Former Smoker</td>\n",
       "      <td>...</td>\n",
       "      <td>1</td>\n",
       "      <td>0</td>\n",
       "      <td>0</td>\n",
       "      <td>0</td>\n",
       "      <td>0</td>\n",
       "      <td>1</td>\n",
       "      <td>0</td>\n",
       "      <td>0</td>\n",
       "      <td>0</td>\n",
       "      <td>0</td>\n",
       "    </tr>\n",
       "    <tr>\n",
       "      <th>4</th>\n",
       "      <td>43289035</td>\n",
       "      <td>593</td>\n",
       "      <td>0.0</td>\n",
       "      <td>49</td>\n",
       "      <td>31.217482</td>\n",
       "      <td>75.0</td>\n",
       "      <td>1.5500</td>\n",
       "      <td>White British</td>\n",
       "      <td>White - ethnic group</td>\n",
       "      <td>Active Smoker</td>\n",
       "      <td>...</td>\n",
       "      <td>0</td>\n",
       "      <td>0</td>\n",
       "      <td>0</td>\n",
       "      <td>0</td>\n",
       "      <td>0</td>\n",
       "      <td>1</td>\n",
       "      <td>0</td>\n",
       "      <td>0</td>\n",
       "      <td>0</td>\n",
       "      <td>0</td>\n",
       "    </tr>\n",
       "  </tbody>\n",
       "</table>\n",
       "<p>5 rows × 99 columns</p>\n",
       "</div>"
      ],
      "text/plain": [
       "      patid  practice_id  sex  age        BMI  weight  height      ethnicity  \\\n",
       "0  43231452           39  0.0   48  26.609713    76.0  1.6900   not_recorded   \n",
       "1  43206365           39  1.0   58  23.946360    72.5  1.7400   not_recorded   \n",
       "2  43203606          559  0.0   51  17.104513    39.0  1.5100   not_recorded   \n",
       "3  43117348          502  0.0   69  35.303241    74.0  1.4478   not_recorded   \n",
       "4  43289035          593  0.0   49  31.217482    75.0  1.5500  White British   \n",
       "\n",
       "           ethnic_group  smokingStatus  ...  psoriasis  anaphylaxis  diabetes  \\\n",
       "0          not_recorded  Active Smoker  ...          0            0         0   \n",
       "1          not_recorded  Former Smoker  ...          0            0         0   \n",
       "2          not_recorded  Active Smoker  ...          0            0         0   \n",
       "3          not_recorded  Former Smoker  ...          1            0         0   \n",
       "4  White - ethnic group  Active Smoker  ...          0            0         0   \n",
       "\n",
       "   ihd  anxiety  eczema  nasalpolyps  paracetamol  nsaids  betablocker  \n",
       "0    0        0       0            0            0       0            0  \n",
       "1    0        1       0            0            0       0            0  \n",
       "2    0        0       1            0            0       0            0  \n",
       "3    0        0       1            0            0       0            0  \n",
       "4    0        0       1            0            0       0            0  \n",
       "\n",
       "[5 rows x 99 columns]"
      ]
     },
     "execution_count": 7,
     "metadata": {},
     "output_type": "execute_result"
    }
   ],
   "source": [
    "features.head()"
   ]
  },
  {
   "cell_type": "code",
   "execution_count": 8,
   "id": "03d70236-7158-4812-8a5b-d5d9890a94e4",
   "metadata": {
    "tags": []
   },
   "outputs": [
    {
     "data": {
      "text/html": [
       "<div>\n",
       "<style scoped>\n",
       "    .dataframe tbody tr th:only-of-type {\n",
       "        vertical-align: middle;\n",
       "    }\n",
       "\n",
       "    .dataframe tbody tr th {\n",
       "        vertical-align: top;\n",
       "    }\n",
       "\n",
       "    .dataframe thead th {\n",
       "        text-align: right;\n",
       "    }\n",
       "</style>\n",
       "<table border=\"1\" class=\"dataframe\">\n",
       "  <thead>\n",
       "    <tr style=\"text-align: right;\">\n",
       "      <th></th>\n",
       "      <th>patid</th>\n",
       "      <th>outcome_3months</th>\n",
       "      <th>outcome_6months</th>\n",
       "      <th>outcome_9months</th>\n",
       "      <th>outcome_12months</th>\n",
       "      <th>outcome_15months</th>\n",
       "      <th>outcome_18months</th>\n",
       "      <th>outcome_21months</th>\n",
       "      <th>outcome_24months</th>\n",
       "      <th>outcome_combined_6months</th>\n",
       "      <th>outcome_combined_9months</th>\n",
       "      <th>outcome_combined_12months</th>\n",
       "      <th>outcome_combined_15months</th>\n",
       "      <th>outcome_combined_18months</th>\n",
       "      <th>outcome_combined_24months</th>\n",
       "    </tr>\n",
       "  </thead>\n",
       "  <tbody>\n",
       "    <tr>\n",
       "      <th>0</th>\n",
       "      <td>43231452</td>\n",
       "      <td>0</td>\n",
       "      <td>0</td>\n",
       "      <td>0</td>\n",
       "      <td>0</td>\n",
       "      <td>0</td>\n",
       "      <td>0</td>\n",
       "      <td>0</td>\n",
       "      <td>0</td>\n",
       "      <td>0</td>\n",
       "      <td>0</td>\n",
       "      <td>0</td>\n",
       "      <td>0</td>\n",
       "      <td>0</td>\n",
       "      <td>0</td>\n",
       "    </tr>\n",
       "    <tr>\n",
       "      <th>1</th>\n",
       "      <td>43206365</td>\n",
       "      <td>0</td>\n",
       "      <td>0</td>\n",
       "      <td>0</td>\n",
       "      <td>0</td>\n",
       "      <td>0</td>\n",
       "      <td>0</td>\n",
       "      <td>0</td>\n",
       "      <td>0</td>\n",
       "      <td>0</td>\n",
       "      <td>0</td>\n",
       "      <td>0</td>\n",
       "      <td>0</td>\n",
       "      <td>0</td>\n",
       "      <td>0</td>\n",
       "    </tr>\n",
       "    <tr>\n",
       "      <th>2</th>\n",
       "      <td>43203606</td>\n",
       "      <td>0</td>\n",
       "      <td>0</td>\n",
       "      <td>0</td>\n",
       "      <td>0</td>\n",
       "      <td>0</td>\n",
       "      <td>0</td>\n",
       "      <td>0</td>\n",
       "      <td>0</td>\n",
       "      <td>0</td>\n",
       "      <td>0</td>\n",
       "      <td>0</td>\n",
       "      <td>0</td>\n",
       "      <td>0</td>\n",
       "      <td>0</td>\n",
       "    </tr>\n",
       "    <tr>\n",
       "      <th>3</th>\n",
       "      <td>43117348</td>\n",
       "      <td>0</td>\n",
       "      <td>0</td>\n",
       "      <td>0</td>\n",
       "      <td>0</td>\n",
       "      <td>0</td>\n",
       "      <td>0</td>\n",
       "      <td>0</td>\n",
       "      <td>0</td>\n",
       "      <td>0</td>\n",
       "      <td>0</td>\n",
       "      <td>0</td>\n",
       "      <td>0</td>\n",
       "      <td>0</td>\n",
       "      <td>0</td>\n",
       "    </tr>\n",
       "    <tr>\n",
       "      <th>4</th>\n",
       "      <td>43289035</td>\n",
       "      <td>0</td>\n",
       "      <td>0</td>\n",
       "      <td>0</td>\n",
       "      <td>0</td>\n",
       "      <td>0</td>\n",
       "      <td>0</td>\n",
       "      <td>0</td>\n",
       "      <td>0</td>\n",
       "      <td>0</td>\n",
       "      <td>0</td>\n",
       "      <td>0</td>\n",
       "      <td>0</td>\n",
       "      <td>0</td>\n",
       "      <td>0</td>\n",
       "    </tr>\n",
       "  </tbody>\n",
       "</table>\n",
       "</div>"
      ],
      "text/plain": [
       "      patid  outcome_3months  outcome_6months  outcome_9months  \\\n",
       "0  43231452                0                0                0   \n",
       "1  43206365                0                0                0   \n",
       "2  43203606                0                0                0   \n",
       "3  43117348                0                0                0   \n",
       "4  43289035                0                0                0   \n",
       "\n",
       "   outcome_12months  outcome_15months  outcome_18months  outcome_21months  \\\n",
       "0                 0                 0                 0                 0   \n",
       "1                 0                 0                 0                 0   \n",
       "2                 0                 0                 0                 0   \n",
       "3                 0                 0                 0                 0   \n",
       "4                 0                 0                 0                 0   \n",
       "\n",
       "   outcome_24months  outcome_combined_6months  outcome_combined_9months  \\\n",
       "0                 0                         0                         0   \n",
       "1                 0                         0                         0   \n",
       "2                 0                         0                         0   \n",
       "3                 0                         0                         0   \n",
       "4                 0                         0                         0   \n",
       "\n",
       "   outcome_combined_12months  outcome_combined_15months  \\\n",
       "0                          0                          0   \n",
       "1                          0                          0   \n",
       "2                          0                          0   \n",
       "3                          0                          0   \n",
       "4                          0                          0   \n",
       "\n",
       "   outcome_combined_18months  outcome_combined_24months  \n",
       "0                          0                          0  \n",
       "1                          0                          0  \n",
       "2                          0                          0  \n",
       "3                          0                          0  \n",
       "4                          0                          0  "
      ]
     },
     "execution_count": 8,
     "metadata": {},
     "output_type": "execute_result"
    }
   ],
   "source": [
    "outcomes.head()"
   ]
  },
  {
   "cell_type": "code",
   "execution_count": 9,
   "id": "862ee9fb",
   "metadata": {
    "tags": []
   },
   "outputs": [
    {
     "name": "stdout",
     "output_type": "stream",
     "text": [
      "original data shape:  (580607, 101)\n"
     ]
    }
   ],
   "source": [
    "masterData = features.merge(outcomes, how = 'left', left_on='patid', right_on='patid') #join table\n",
    "# masterData = masterData.dropna() #NAs from Country\n",
    "masterData = masterData.reset_index(drop=True)\n",
    "exclude_columns = ['weight', 'height', 'id', 'event_date', 'recorded_date', 'visit_id', 'code_id', 'snomed_id',\n",
    "       'numeric_1', 'numeric_2', 'created_datetime', 'updated_datetime',]\n",
    "masterData = masterData.loc[:,~masterData.columns.isin(exclude_columns)]\n",
    "print('original data shape: ', masterData.shape)"
   ]
  },
  {
   "cell_type": "code",
   "execution_count": 10,
   "id": "8e7a7bee-e74a-4c9f-87ff-0b557c67c82c",
   "metadata": {
    "tags": []
   },
   "outputs": [
    {
     "data": {
      "text/plain": [
       "patid                                 0\n",
       "practice_id                           0\n",
       "sex                                   0\n",
       "age                                   0\n",
       "BMI                                   0\n",
       "ethnicity                             0\n",
       "ethnic_group                          0\n",
       "smokingStatus                         0\n",
       "CharlsonScore                         0\n",
       "count_rhinitis                        0\n",
       "count_cardiovascular                  0\n",
       "count_heartfailure                    0\n",
       "count_psoriasis                       0\n",
       "count_anaphylaxis                     0\n",
       "count_diabetes                        0\n",
       "count_ihd                             0\n",
       "count_anxiety                         0\n",
       "count_eczema                          0\n",
       "count_nasalpolyps                     0\n",
       "count_paracetamol                     0\n",
       "count_nsaids                          0\n",
       "count_betablocker                     0\n",
       "PEFStatus                             0\n",
       "EosinophilLevel                       0\n",
       "BTS_step                              0\n",
       "average_daily_dose_ICS                0\n",
       "prescribed_daily_dose_ICS             0\n",
       "ICS_medication_possesion_ratio        0\n",
       "DeviceType                            0\n",
       "Spacer                                0\n",
       "numOCS                                0\n",
       "PriorEducation                        0\n",
       "numPCS                                0\n",
       "numPCSAsthma                          0\n",
       "numAntibioticsEvents                  0\n",
       "numAntibioticswithLRTI                0\n",
       "numOCSEvents                          0\n",
       "numOCSwithLRTI                        0\n",
       "numAsthmaAttacks                      0\n",
       "numAcuteRespEvents                    0\n",
       "numHospEvents                         0\n",
       "month_12                              0\n",
       "month_4                               0\n",
       "month_5                               0\n",
       "month_10                              0\n",
       "month_1                               0\n",
       "month_6                               0\n",
       "month_3                               0\n",
       "month_11                              0\n",
       "month_8                               0\n",
       "month_9                               0\n",
       "month_7                               0\n",
       "month_2                               0\n",
       "postcode_district                     0\n",
       "imd_decile                            0\n",
       "Country                               0\n",
       "County                                0\n",
       "LocalAuthority                        0\n",
       "OutputAreaClassification              0\n",
       "cat_BMI                               0\n",
       "cat_age                               0\n",
       "cat_average_daily_dose_ICS            0\n",
       "cat_prescribed_daily_dose_ICS         0\n",
       "cat_ICS_medication_possesion_ratio    0\n",
       "cat_numOCS                            0\n",
       "cat_numOCSEvents                      0\n",
       "cat_numOCSwithLRTI                    0\n",
       "cat_numAcuteRespEvents                0\n",
       "cat_numAntibioticsEvents              0\n",
       "cat_numAntibioticswithLRTI            0\n",
       "cat_numAsthmaAttacks                  0\n",
       "cat_numHospEvents                     0\n",
       "cat_numPCS                            0\n",
       "cat_numPCSAsthma                      0\n",
       "rhinitis                              0\n",
       "cardiovascular                        0\n",
       "heartfailure                          0\n",
       "psoriasis                             0\n",
       "anaphylaxis                           0\n",
       "diabetes                              0\n",
       "ihd                                   0\n",
       "anxiety                               0\n",
       "eczema                                0\n",
       "nasalpolyps                           0\n",
       "paracetamol                           0\n",
       "nsaids                                0\n",
       "betablocker                           0\n",
       "outcome_3months                       0\n",
       "outcome_6months                       0\n",
       "outcome_9months                       0\n",
       "outcome_12months                      0\n",
       "outcome_15months                      0\n",
       "outcome_18months                      0\n",
       "outcome_21months                      0\n",
       "outcome_24months                      0\n",
       "outcome_combined_6months              0\n",
       "outcome_combined_9months              0\n",
       "outcome_combined_12months             0\n",
       "outcome_combined_15months             0\n",
       "outcome_combined_18months             0\n",
       "outcome_combined_24months             0\n",
       "dtype: int64"
      ]
     },
     "execution_count": 10,
     "metadata": {},
     "output_type": "execute_result"
    }
   ],
   "source": [
    "pd.options.display.max_rows = 287\n",
    "masterData.isna().sum()"
   ]
  },
  {
   "cell_type": "code",
   "execution_count": 11,
   "id": "ecdc7fd9",
   "metadata": {
    "tags": []
   },
   "outputs": [
    {
     "name": "stdout",
     "output_type": "stream",
     "text": [
      "3 months -> 1 :  34.02\n",
      "6 months -> 1 :  22.54\n",
      "9 months -> 1 :  17.42\n",
      "12 months -> 1 :  13.04\n",
      "15 months -> 1 :  10.6\n",
      "18 months -> 1 :  9.64\n",
      "24 months -> 1 :  8.61\n"
     ]
    }
   ],
   "source": [
    "#Positive vs negative class ratio\n",
    "\n",
    "print('3 months -> 1 : ', round(masterData.outcome_3months.value_counts()[0]/masterData.outcome_3months.value_counts()[1],2))\n",
    "print('6 months -> 1 : ', round(masterData.outcome_combined_6months.value_counts()[0]/masterData.outcome_combined_6months.value_counts()[1],2))\n",
    "print('9 months -> 1 : ', round(masterData.outcome_combined_9months.value_counts()[0]/masterData.outcome_combined_9months.value_counts()[1],2))\n",
    "print('12 months -> 1 : ', round(masterData.outcome_combined_12months.value_counts()[0]/masterData.outcome_combined_12months.value_counts()[1],2))\n",
    "print('15 months -> 1 : ', round(masterData.outcome_combined_15months.value_counts()[0]/masterData.outcome_combined_15months.value_counts()[1],2))\n",
    "print('18 months -> 1 : ', round(masterData.outcome_combined_18months.value_counts()[0]/masterData.outcome_combined_18months.value_counts()[1],2))\n",
    "print('24 months -> 1 : ', round(masterData.outcome_combined_24months.value_counts()[0]/masterData.outcome_combined_24months.value_counts()[1],2))\n"
   ]
  },
  {
   "cell_type": "code",
   "execution_count": 12,
   "id": "346971ef",
   "metadata": {
    "tags": []
   },
   "outputs": [
    {
     "name": "stdout",
     "output_type": "stream",
     "text": [
      "3 months ->  2.86 %\n",
      "6 months ->  4.25 %\n",
      "9 months ->  5.43 %\n",
      "12 months ->  7.12 %\n",
      "15 months ->  8.62 %\n",
      "18 months ->  9.4 %\n",
      "24 months ->  10.41 %\n"
     ]
    }
   ],
   "source": [
    "#Proportion of asthma attack in each outcome\n",
    "\n",
    "print('3 months -> ', round(masterData.outcome_3months.value_counts()[1]/len(masterData)*100,2), '%')\n",
    "print('6 months -> ', round(masterData.outcome_combined_6months.value_counts()[1]/len(masterData)*100,2), '%')\n",
    "print('9 months -> ', round(masterData.outcome_combined_9months.value_counts()[1]/len(masterData)*100,2), '%')\n",
    "print('12 months -> ', round(masterData.outcome_combined_12months.value_counts()[1]/len(masterData)*100,2), '%')\n",
    "print('15 months -> ', round(masterData.outcome_combined_15months.value_counts()[1]/len(masterData)*100,2), '%')\n",
    "print('18 months -> ', round(masterData.outcome_combined_18months.value_counts()[1]/len(masterData)*100,2), '%')\n",
    "print('24 months -> ', round(masterData.outcome_combined_24months.value_counts()[1]/len(masterData)*100,2), '%')"
   ]
  },
  {
   "cell_type": "code",
   "execution_count": 13,
   "id": "48e347d6-3a9f-4008-b9db-d73475693da6",
   "metadata": {
    "tags": []
   },
   "outputs": [
    {
     "name": "stdout",
     "output_type": "stream",
     "text": [
      "Data shape for scenario 1 (580607, 101)\n"
     ]
    }
   ],
   "source": [
    "#Data scenario\n",
    "# 1: all data without ethnicity variable\n",
    "# 2: all data with ethnicity variable (include all missing values in ethnicity as separate group)\n",
    "# 3: filter data based on ethnicity (exclude missing values)\n",
    "\n",
    "scenario = 1 #change it based on the scenario\n",
    "\n",
    "if scenario == 1:\n",
    "    #include all data\n",
    "    allData = masterData\n",
    "    \n",
    "elif scenario == 2:\n",
    "    #Exclude ethnic column\n",
    "    allData = masterData.drop('ethnic_group', axis=1)\n",
    "    \n",
    "elif scenario == 3:\n",
    "    #exclude missing values for ethnic variable\n",
    "    allData = masterData[masterData.ethnic_group!='not_recorded']\n",
    "    \n",
    "allData = allData.reset_index(drop=True)\n",
    "print('Data shape for scenario', str(scenario), allData.shape)\n",
    "\n"
   ]
  },
  {
   "cell_type": "code",
   "execution_count": 14,
   "id": "a1110e82-5ceb-45dc-b6d5-687821b36f49",
   "metadata": {
    "tags": []
   },
   "outputs": [],
   "source": [
    "#Split data into training, validation, and evaluation set based on the country. Include only 18+ patients.\n",
    "\n",
    "trainingData = allData[(allData.Country == 'England') & (allData.age>=18)]\n",
    "trainingData, validationData = train_test_split(trainingData, test_size=0.1, stratify=trainingData['outcome_combined_12months'])"
   ]
  },
  {
   "cell_type": "code",
   "execution_count": 15,
   "id": "a74229f7-f027-4a21-b434-086129767d2a",
   "metadata": {
    "tags": []
   },
   "outputs": [
    {
     "name": "stdout",
     "output_type": "stream",
     "text": [
      "3 months ->  2.8 %\n",
      "6 months ->  4.17 %\n",
      "9 months ->  5.34 %\n",
      "12 months ->  7.02 %\n",
      "15 months ->  8.51 %\n",
      "18 months ->  9.29 %\n",
      "24 months ->  10.29 %\n"
     ]
    }
   ],
   "source": [
    "#Proportion of asthma attack in each outcome\n",
    "\n",
    "print('3 months -> ', round(trainingData.outcome_3months.value_counts()[1]/len(trainingData)*100,2), '%')\n",
    "print('6 months -> ', round(trainingData.outcome_combined_6months.value_counts()[1]/len(trainingData)*100,2), '%')\n",
    "print('9 months -> ', round(trainingData.outcome_combined_9months.value_counts()[1]/len(trainingData)*100,2), '%')\n",
    "print('12 months -> ', round(trainingData.outcome_combined_12months.value_counts()[1]/len(trainingData)*100,2), '%')\n",
    "print('15 months -> ', round(trainingData.outcome_combined_15months.value_counts()[1]/len(trainingData)*100,2), '%')\n",
    "print('18 months -> ', round(trainingData.outcome_combined_18months.value_counts()[1]/len(trainingData)*100,2), '%')\n",
    "print('24 months -> ', round(trainingData.outcome_combined_24months.value_counts()[1]/len(trainingData)*100,2), '%')"
   ]
  },
  {
   "cell_type": "code",
   "execution_count": 16,
   "id": "029a026a-bcd3-42ef-99bb-66a3fa918534",
   "metadata": {
    "tags": []
   },
   "outputs": [
    {
     "name": "stdout",
     "output_type": "stream",
     "text": [
      "3 months ->  2.85 %\n",
      "6 months ->  4.2 %\n",
      "9 months ->  5.37 %\n",
      "12 months ->  7.02 %\n",
      "15 months ->  8.54 %\n",
      "18 months ->  9.33 %\n",
      "24 months ->  10.32 %\n"
     ]
    }
   ],
   "source": [
    "#Proportion of asthma attack in each outcome\n",
    "\n",
    "print('3 months -> ', round(validationData.outcome_3months.value_counts()[1]/len(validationData)*100,2), '%')\n",
    "print('6 months -> ', round(validationData.outcome_combined_6months.value_counts()[1]/len(validationData)*100,2), '%')\n",
    "print('9 months -> ', round(validationData.outcome_combined_9months.value_counts()[1]/len(validationData)*100,2), '%')\n",
    "print('12 months -> ', round(validationData.outcome_combined_12months.value_counts()[1]/len(validationData)*100,2), '%')\n",
    "print('15 months -> ', round(validationData.outcome_combined_15months.value_counts()[1]/len(validationData)*100,2), '%')\n",
    "print('18 months -> ', round(validationData.outcome_combined_18months.value_counts()[1]/len(validationData)*100,2), '%')\n",
    "print('24 months -> ', round(validationData.outcome_combined_24months.value_counts()[1]/len(validationData)*100,2), '%')"
   ]
  },
  {
   "cell_type": "code",
   "execution_count": 17,
   "id": "2b2ddc20-4158-4c1b-93df-4043c7c16520",
   "metadata": {
    "tags": []
   },
   "outputs": [
    {
     "name": "stdout",
     "output_type": "stream",
     "text": [
      "Training data shape: (502003, 100)\n",
      "Validation data shape: (55779, 100)\n",
      "Evaluation data shape:  (22825, 100)\n",
      "Evaluation data Wales shape:  (14485, 100)\n",
      "Evaluation data Scotland shape:  (8340, 100)\n"
     ]
    }
   ],
   "source": [
    "#Split data into training and evaluation set based on the country. Include only 18+ patients.\n",
    "\n",
    "evaluationData = allData[((allData.Country == 'Scotland') | (allData.Country == 'Wales')) & (allData.age>=18)] #used for validation\n",
    "evaluationDataWales = allData[(allData.Country == 'Wales') & (allData.age>=18)] #used for validation\n",
    "evaluationDataScotland = allData[(allData.Country == 'Scotland') & (allData.age>=18)] #used for validation\n",
    "\n",
    "#remove country variable\n",
    "trainingData = trainingData.drop('Country', axis=1)\n",
    "validationData = validationData.drop('Country', axis=1)\n",
    "evaluationData = evaluationData.drop('Country', axis=1)\n",
    "evaluationDataWales = evaluationDataWales.drop('Country', axis=1)\n",
    "evaluationDataScotland = evaluationDataScotland.drop('Country', axis=1)\n",
    "\n",
    "trainingData = trainingData.reset_index(drop=True)\n",
    "validationData = validationData.reset_index(drop=True)\n",
    "evaluationData = evaluationData.reset_index(drop=True)\n",
    "evaluationDataWales = evaluationDataWales.reset_index(drop=True)\n",
    "evaluationDataScotland = evaluationDataScotland.reset_index(drop=True)\n",
    "\n",
    "print('Training data shape:', trainingData.shape)\n",
    "print('Validation data shape:', validationData.shape)\n",
    "print('Evaluation data shape: ', evaluationData.shape)\n",
    "print('Evaluation data Wales shape: ', evaluationDataWales.shape)\n",
    "print('Evaluation data Scotland shape: ', evaluationDataScotland.shape)"
   ]
  },
  {
   "cell_type": "code",
   "execution_count": 18,
   "id": "4ce85eb7-ba5c-4171-9ade-60173e7386c4",
   "metadata": {},
   "outputs": [],
   "source": [
    "#Save original data\n",
    "trainingData.to_csv('../FinalData/trainingData_08102023.csv', index_label=False, index=False)\n",
    "validationData.to_csv('../FinalData/validationData_08102023.csv', index_label=False, index=False)\n",
    "evaluationData.to_csv('../FinalData/evaluationData_08102023.csv', index_label=False, index=False)\n",
    "evaluationDataWales.to_csv('../FinalData/evaluationDataWales_08102023.csv', index_label=False, index=False)\n",
    "evaluationDataScotland.to_csv('../FinalData/evaluationDataScotland_08102023.csv', index_label=False, index=False)"
   ]
  },
  {
   "cell_type": "code",
   "execution_count": 19,
   "id": "4dab986e-f533-41c7-810c-442127311122",
   "metadata": {
    "tags": []
   },
   "outputs": [
    {
     "name": "stdout",
     "output_type": "stream",
     "text": [
      "Data shape after encoding:  (502003, 125)\n"
     ]
    }
   ],
   "source": [
    "#encode categorical data\n",
    "\n",
    "cat_vars = ['PEFStatus','EosinophilLevel']\n",
    "onehot_vars = ['ethnic_group','smokingStatus', 'DeviceType', 'cat_BMI', 'imd_decile']\n",
    "data_categorical = trainingData[cat_vars]\n",
    "data_onehot = trainingData[onehot_vars]\n",
    "\n",
    "#ordinal encoder\n",
    "encoder = OrdinalEncoder(categories=[['not_recorded','less than 60', '60-80', 'more than 80'], ['unknown', 'normal', 'high']]).set_output(transform=\"pandas\")\n",
    "data_encoded = encoder.fit_transform(data_categorical)\n",
    "pickle.dump(encoder, open('../Models/cat_encoder.pkl', 'wb'))\n",
    "    \n",
    "#one hot encoder\n",
    "onehot_encoder = OneHotEncoder(sparse_output=False).set_output(transform=\"pandas\")\n",
    "onehot_encoded = onehot_encoder.fit_transform(data_onehot)\n",
    "pickle.dump(onehot_encoder, open('../Models/onehot_encoder.pkl', 'wb'))\n",
    "\n",
    "trainingData = pd.concat([trainingData.drop(cat_vars, axis=1), data_encoded], axis=1)\n",
    "trainingData = pd.concat([trainingData.drop(onehot_vars, axis=1), onehot_encoded], axis=1)\n",
    "\n",
    "print('Data shape after encoding: ', trainingData.shape)"
   ]
  },
  {
   "cell_type": "code",
   "execution_count": 20,
   "id": "64df1129-df8b-4a9f-82c0-7b81c4a0c830",
   "metadata": {
    "tags": []
   },
   "outputs": [
    {
     "name": "stdout",
     "output_type": "stream",
     "text": [
      "Val data shape after encoding:  (55779, 125)\n",
      "Eval data shape after encoding:  (22825, 125)\n",
      "Evaluation data Wales shape:  (14485, 125)\n",
      "Evaluation data Scotland shape:  (8340, 125)\n"
     ]
    }
   ],
   "source": [
    "#encode cat vars for validation and evaluation set\n",
    "data_val_categorical = validationData[cat_vars]\n",
    "data_val_onehot = validationData[onehot_vars]\n",
    "data_eval_categorical = evaluationData[cat_vars]\n",
    "data_eval_onehot = evaluationData[onehot_vars]\n",
    "data_eval_Wales_categorical = evaluationDataWales[cat_vars]\n",
    "data_eval_Wales_onehot = evaluationDataWales[onehot_vars]\n",
    "data_eval_Scotland_categorical = evaluationDataScotland[cat_vars]\n",
    "data_eval_Scotland_onehot = evaluationDataScotland[onehot_vars]\n",
    "\n",
    "encoder = pickle.load(open('../Models/cat_encoder.pkl', 'rb'))\n",
    "data_val_encoded = encoder.transform(data_val_categorical)\n",
    "data_eval_encoded = encoder.transform(data_eval_categorical)\n",
    "data_eval_Wales_encoded = encoder.transform(data_eval_Wales_categorical)\n",
    "data_eval_Scotland_encoded = encoder.transform(data_eval_Scotland_categorical)\n",
    "\n",
    "onehot_encoder = pickle.load(open('../Models/onehot_encoder.pkl', 'rb'))\n",
    "onehot_val_encoded = onehot_encoder.transform(data_val_onehot)\n",
    "onehot_eval_encoded = onehot_encoder.transform(data_eval_onehot)\n",
    "onehot_eval_Wales_encoded = onehot_encoder.transform(data_eval_Wales_onehot)\n",
    "onehot_eval_Scotland_encoded = onehot_encoder.transform(data_eval_Scotland_onehot)\n",
    "\n",
    "validationData = pd.concat([validationData.drop(cat_vars, axis=1), data_val_encoded], axis=1)\n",
    "validationData = pd.concat([validationData.drop(onehot_vars, axis=1), onehot_val_encoded], axis=1)\n",
    "\n",
    "evaluationData = pd.concat([evaluationData.drop(cat_vars, axis=1), data_eval_encoded], axis=1)\n",
    "evaluationData = pd.concat([evaluationData.drop(onehot_vars, axis=1), onehot_eval_encoded], axis=1)\n",
    "\n",
    "evaluationDataWales = pd.concat([evaluationDataWales.drop(cat_vars, axis=1), data_eval_Wales_encoded], axis=1)\n",
    "evaluationDataWales = pd.concat([evaluationDataWales.drop(onehot_vars, axis=1), onehot_eval_Wales_encoded], axis=1)\n",
    "\n",
    "evaluationDataScotland = pd.concat([evaluationDataScotland.drop(cat_vars, axis=1), data_eval_Scotland_encoded], axis=1)\n",
    "evaluationDataScotland = pd.concat([evaluationDataScotland.drop(onehot_vars, axis=1), onehot_eval_Scotland_encoded], axis=1)\n",
    "\n",
    "print('Val data shape after encoding: ', validationData.shape)\n",
    "print('Eval data shape after encoding: ', evaluationData.shape)\n",
    "print('Evaluation data Wales shape: ', evaluationDataWales.shape)\n",
    "print('Evaluation data Scotland shape: ', evaluationDataScotland.shape)"
   ]
  },
  {
   "cell_type": "code",
   "execution_count": 21,
   "id": "fd1a28e0-3029-4ced-a4a2-16195934702a",
   "metadata": {
    "tags": []
   },
   "outputs": [
    {
     "name": "stdout",
     "output_type": "stream",
     "text": [
      "Data shape after scaling:  (502003, 125)\n"
     ]
    }
   ],
   "source": [
    "#Data normalisation for continous variable into 0-1 range\n",
    "\n",
    "\n",
    "continuous_vars = ['age', 'CharlsonScore', 'average_daily_dose_ICS', 'prescribed_daily_dose_ICS', 'ICS_medication_possesion_ratio', \n",
    "                   'numOCS', 'numPCS', 'numPCSAsthma', 'numAntibioticsEvents', 'numAntibioticswithLRTI', 'numOCSEvents', 'numOCSwithLRTI', \n",
    "                   'numAsthmaAttacks', 'numAcuteRespEvents', 'numHospEvents']\n",
    "\n",
    "# define scaler\n",
    "scaler = StandardScaler()\n",
    "data_scaled = scaler.fit_transform(trainingData[continuous_vars])\n",
    "pickle.dump(scaler, open('../Models/cont_scaler.pkl', 'wb'))\n",
    "\n",
    "\n",
    "data_scaled = pd.DataFrame(data_scaled, columns=scaler.get_feature_names_out())\n",
    "trainingData = pd.concat([trainingData.drop(continuous_vars, axis=1), data_scaled], axis=1)\n",
    "\n",
    "print('Data shape after scaling: ', trainingData.shape)"
   ]
  },
  {
   "cell_type": "code",
   "execution_count": 22,
   "id": "def13feb-0286-4dac-93dc-6dff6f85a223",
   "metadata": {
    "tags": []
   },
   "outputs": [
    {
     "name": "stdout",
     "output_type": "stream",
     "text": [
      "Val data shape after scaling:  (55779, 125)\n",
      "Eval data shape after scaling:  (22825, 125)\n",
      "Evaluation data Wales shape:  (14485, 125)\n",
      "Evaluation data Scotland shape:  (8340, 125)\n"
     ]
    }
   ],
   "source": [
    "#Normalisation for evaluation data\n",
    "\n",
    "scaler = pickle.load(open('../Models/cont_scaler.pkl', 'rb'))\n",
    "data_val_scaled = scaler.transform(validationData[continuous_vars])\n",
    "data_eval_scaled = scaler.transform(evaluationData[continuous_vars])\n",
    "data_eval_Wales_scaled = scaler.transform(evaluationDataWales[continuous_vars])\n",
    "data_eval_Scotland_scaled = scaler.transform(evaluationDataScotland[continuous_vars])\n",
    "\n",
    "data_val_scaled = pd.DataFrame(data_val_scaled, columns=scaler.get_feature_names_out())\n",
    "validationData = pd.concat([validationData.drop(continuous_vars, axis=1), data_val_scaled], axis=1)\n",
    "\n",
    "data_eval_scaled = pd.DataFrame(data_eval_scaled, columns=scaler.get_feature_names_out())\n",
    "evaluationData = pd.concat([evaluationData.drop(continuous_vars, axis=1), data_eval_scaled], axis=1)\n",
    "\n",
    "data_eval_Wales_scaled = pd.DataFrame(data_eval_Wales_scaled, columns=scaler.get_feature_names_out())\n",
    "evaluationDataWales = pd.concat([evaluationDataWales.drop(continuous_vars, axis=1), data_eval_Wales_scaled], axis=1)\n",
    "\n",
    "data_eval_Scotland_scaled = pd.DataFrame(data_eval_Scotland_scaled, columns=scaler.get_feature_names_out())\n",
    "evaluationDataScotland = pd.concat([evaluationDataScotland.drop(continuous_vars, axis=1), data_eval_Scotland_scaled], axis=1)\n",
    "\n",
    "print('Val data shape after scaling: ', validationData.shape)\n",
    "print('Eval data shape after scaling: ', evaluationData.shape)\n",
    "print('Evaluation data Wales shape: ', evaluationDataWales.shape)\n",
    "print('Evaluation data Scotland shape: ', evaluationDataScotland.shape)"
   ]
  },
  {
   "cell_type": "code",
   "execution_count": 23,
   "id": "f81e0adc-7a4b-4e28-852c-811c20125656",
   "metadata": {
    "tags": []
   },
   "outputs": [
    {
     "name": "stdout",
     "output_type": "stream",
     "text": [
      "Features size:  71\n",
      "['sex', 'BTS_step', 'PriorEducation', 'month_12', 'month_4', 'month_5', 'month_10', 'month_1', 'month_6', 'month_3', 'month_11', 'month_8', 'month_9', 'month_7', 'month_2', 'rhinitis', 'cardiovascular', 'heartfailure', 'psoriasis', 'anaphylaxis', 'diabetes', 'ihd', 'anxiety', 'eczema', 'nasalpolyps', 'PEFStatus', 'EosinophilLevel', 'ethnic_group_Asian - ethnic group', 'ethnic_group_Black - ethnic group', 'ethnic_group_Mixed ethnic census group', 'ethnic_group_Other ethnic group', 'ethnic_group_White - ethnic group', 'ethnic_group_not_recorded', 'smokingStatus_Active Smoker', 'smokingStatus_Former Smoker', 'smokingStatus_Non Smoker', 'DeviceType_BAI', 'DeviceType_DPI', 'DeviceType_NEB', 'DeviceType_pMDI', 'DeviceType_unknown', 'cat_BMI_normal', 'cat_BMI_not recorded', 'cat_BMI_obese', 'cat_BMI_overweight', 'cat_BMI_underweight', 'imd_decile_0', 'imd_decile_1', 'imd_decile_2', 'imd_decile_3', 'imd_decile_4', 'imd_decile_5', 'imd_decile_6', 'imd_decile_7', 'imd_decile_8', 'imd_decile_9', 'imd_decile_10', 'age', 'CharlsonScore', 'average_daily_dose_ICS', 'prescribed_daily_dose_ICS', 'ICS_medication_possesion_ratio', 'numOCS', 'numPCS', 'numPCSAsthma', 'numAntibioticsEvents', 'numAntibioticswithLRTI', 'numOCSwithLRTI', 'numAsthmaAttacks', 'numAcuteRespEvents', 'numHospEvents']\n"
     ]
    }
   ],
   "source": [
    "#Define feature candidates\n",
    "\n",
    "features_columns = trainingData.columns.to_list()\n",
    "exclude_columns = ['patid', 'practice_id', #identifier\n",
    "                   'BMI', #use the categorical instead\n",
    "                   'ethnicity', #use ethnic_group instead\n",
    "                   'Spacer',  #all zero\n",
    "                   \n",
    "                   'outcome_3months', 'outcome_6months', 'outcome_9months', 'outcome_12months', 'outcome_15months', 'outcome_18months', \n",
    "                   'outcome_21months', 'outcome_24months', 'outcome_combined_6months', 'outcome_combined_9months', 'outcome_combined_12months', \n",
    "                   'outcome_combined_15months', 'outcome_combined_18months', 'outcome_combined_24months', '3months', '6months', '12months', '24months', #outcomes variable\n",
    "                   \n",
    "                   'postcode_district', 'County', 'LocalAuthority', 'OutputAreaClassification', #location related variables, use IMD decile only\n",
    "                   \n",
    "                   'cat_age', 'cat_average_daily_dose_ICS', 'cat_prescribed_daily_dose_ICS', 'cat_ICS_medication_possesion_ratio', 'cat_numOCS', 'cat_numOCSEvents', \n",
    "                   'cat_numOCSwithLRTI', 'cat_numAcuteRespEvents', 'cat_numAntibioticsEvents', 'cat_numAntibioticswithLRTI', 'cat_numAsthmaAttacks', 'cat_numHospEvents', \n",
    "                   'cat_numPCS', 'cat_numPCSAsthma', #use continous vars instead\n",
    "                   \n",
    "                   'count_rhinitis', 'count_cardiovascular', 'count_heartfailure',\n",
    "                   'count_psoriasis', 'count_anaphylaxis', 'count_diabetes', 'count_ihd',\n",
    "                   'count_anxiety', 'count_eczema', 'count_nasalpolyps',\n",
    "                   'count_paracetamol', 'count_nsaids', 'count_betablocker', #use binary ones\n",
    "                   \n",
    "                   'paracetamol', 'nsaids', 'betablocker', #no data in evaluation\n",
    "                   \n",
    "                   'numOCSEvents', #duplicate with numOCS\n",
    "                  ]\n",
    "exclude_columns = exclude_columns + [x for x in features_columns if '_count' in x] #filter out commorbid count variables\n",
    "features_columns = [x for x in features_columns if x not in exclude_columns]\n",
    "print('Features size: ', len(features_columns))\n",
    "print(features_columns)"
   ]
  },
  {
   "cell_type": "code",
   "execution_count": 24,
   "id": "686ba697-a3a9-4608-bd7e-b071e1f2d0ca",
   "metadata": {
    "tags": []
   },
   "outputs": [],
   "source": [
    "#Save encoded data\n",
    "trainingData.to_csv('../FinalData/trainingDataEncoded_08102023.csv', index_label=False, index=False)\n",
    "validationData.to_csv('../FinalData/validationDataEncoded_08102023.csv', index_label=False, index=False)\n",
    "evaluationData.to_csv('../FinalData/evaluationDataEncoded_08102023.csv', index_label=False, index=False)\n",
    "evaluationDataWales.to_csv('../FinalData/evaluationDataWalesEncoded_08102023.csv', index_label=False, index=False)\n",
    "evaluationDataScotland.to_csv('../FinalData/evaluationDataScotlandEncoded_08102023.csv', index_label=False, index=False)"
   ]
  },
  {
   "cell_type": "code",
   "execution_count": null,
   "id": "4caf0aab-7dee-4a07-b3c9-d986448653e2",
   "metadata": {},
   "outputs": [],
   "source": []
  }
 ],
 "metadata": {
  "kernelspec": {
   "display_name": "Python 3 (ipykernel)",
   "language": "python",
   "name": "python3"
  },
  "language_info": {
   "codemirror_mode": {
    "name": "ipython",
    "version": 3
   },
   "file_extension": ".py",
   "mimetype": "text/x-python",
   "name": "python",
   "nbconvert_exporter": "python",
   "pygments_lexer": "ipython3",
   "version": "3.10.11"
  }
 },
 "nbformat": 4,
 "nbformat_minor": 5
}
