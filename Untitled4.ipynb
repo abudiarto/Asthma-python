{
 "cells": [
  {
   "cell_type": "code",
   "execution_count": 2,
   "id": "3b0cdd3f-9bd2-458f-81d5-c022df303d26",
   "metadata": {
    "tags": []
   },
   "outputs": [],
   "source": [
    "import torch\n",
    "import torch.nn as nn\n",
    "import torch.optim as optim\n",
    "import torch.utils.data as data\n",
    "import math\n",
    "import copy"
   ]
  },
  {
   "cell_type": "code",
   "execution_count": 3,
   "id": "fcefb749-4905-4a65-9d19-812e78b74915",
   "metadata": {
    "tags": []
   },
   "outputs": [],
   "source": [
    "src_vocab_size = 5000\n",
    "tgt_vocab_size = 5000\n",
    "d_model = 512\n",
    "num_heads = 8\n",
    "num_layers = 6\n",
    "d_ff = 2048\n",
    "max_seq_length = 100\n",
    "dropout = 0.1\n",
    "\n",
    "# transformer = Transformer(src_vocab_size, tgt_vocab_size, d_model, num_heads, num_layers, d_ff, max_seq_length, dropout)\n",
    "\n",
    "# Generate random sample data\n",
    "src_data = torch.randint(1, src_vocab_size, (64, max_seq_length))  # (batch_size, seq_length)\n",
    "tgt_data = torch.randint(1, tgt_vocab_size, (64, max_seq_length))  # (batch_size, seq_length)"
   ]
  },
  {
   "cell_type": "code",
   "execution_count": 8,
   "id": "dabd5d77-6c83-4bc5-b34b-4eca1153a9e9",
   "metadata": {
    "tags": []
   },
   "outputs": [
    {
     "data": {
      "text/plain": [
       "tensor([3696,  567, 1260, 3447, 2848, 3346, 1956, 1942,  406,  797, 1865, 1405,\n",
       "        2751, 2949, 2954, 2310, 2281,   44, 1428, 3923, 2286, 4694,   78, 1895,\n",
       "        2875, 3763, 4156, 1972, 3645, 2169, 3961, 3762, 1171, 1855, 3018,  182,\n",
       "        2772,  237,  855, 4553, 1595, 3147,  755, 1148, 1929, 2253, 1630, 4720,\n",
       "        1061, 4548, 1626,  482, 4905, 4906, 4803, 2428,  706,  941,  880, 3301,\n",
       "        4912, 3122,  367, 3986, 1820, 1878, 3637, 3129, 1639,  962,  953, 1773,\n",
       "         622, 2947, 3731, 3727,  459, 4226,  479, 2636, 3324,  423, 1439, 4801,\n",
       "        3788, 1982, 1625, 1948, 3455, 1953, 1307,   42,   61,  122,  411, 3821,\n",
       "        4130, 2506, 4817, 1324])"
      ]
     },
     "execution_count": 8,
     "metadata": {},
     "output_type": "execute_result"
    }
   ],
   "source": [
    "src_data[0]"
   ]
  },
  {
   "cell_type": "code",
   "execution_count": 12,
   "id": "c232b5b3-cba1-4052-b42f-2119610c93d7",
   "metadata": {
    "tags": []
   },
   "outputs": [
    {
     "data": {
      "text/plain": [
       "tensor([[3599, 1104, 1801,  ..., 1914,  292,  413],\n",
       "        [4919, 2449,  587,  ..., 4325, 2466, 1288],\n",
       "        [1868, 2833, 1877,  ..., 4059, 1336, 4121],\n",
       "        ...,\n",
       "        [ 939, 1600, 2281,  ...,  492, 3069, 4348],\n",
       "        [2953, 3642, 2039,  ..., 1041, 4982, 1523],\n",
       "        [3898, 2968,  320,  ..., 4523,  491, 1928]])"
      ]
     },
     "execution_count": 12,
     "metadata": {},
     "output_type": "execute_result"
    }
   ],
   "source": [
    "tgt_data[:, :-1]"
   ]
  },
  {
   "cell_type": "code",
   "execution_count": 13,
   "id": "3b0ffc4f-b53e-4c5e-ae64-503ad1188eb0",
   "metadata": {
    "tags": []
   },
   "outputs": [
    {
     "data": {
      "text/plain": [
       "tensor([[1104, 1801, 1554,  ...,  292,  413,  362],\n",
       "        [2449,  587, 1519,  ..., 2466, 1288, 4714],\n",
       "        [2833, 1877, 2751,  ..., 1336, 4121, 1597],\n",
       "        ...,\n",
       "        [1600, 2281, 3063,  ..., 3069, 4348, 4905],\n",
       "        [3642, 2039, 3901,  ..., 4982, 1523,   11],\n",
       "        [2968,  320,  431,  ...,  491, 1928, 4560]])"
      ]
     },
     "execution_count": 13,
     "metadata": {},
     "output_type": "execute_result"
    }
   ],
   "source": [
    "tgt_data[:, 1:]"
   ]
  },
  {
   "cell_type": "code",
   "execution_count": 14,
   "id": "605b26f7-92c4-4726-9133-8acd15bacbea",
   "metadata": {
    "tags": []
   },
   "outputs": [
    {
     "data": {
      "text/plain": [
       "tensor([[2, 4, 0, 0, 0],\n",
       "        [5, 5, 0, 0, 0],\n",
       "        [3, 4, 5, 6, 0],\n",
       "        [4, 2, 6, 2, 0],\n",
       "        [4, 3, 3, 2, 0]])"
      ]
     },
     "execution_count": 14,
     "metadata": {},
     "output_type": "execute_result"
    }
   ],
   "source": [
    "vocab_size = 10 # including [mask] and [pad]\n",
    "max_len = 5\n",
    "num_seq = 5\n",
    "\n",
    "def gen_sample_data(vocab_size, max_len, num_seq):\n",
    "    \"\"\"generate a list of text with variable lengths\n",
    "    \"\"\"\n",
    "    # minus 2 for [0: padding ,1: mask]\n",
    "    gen_single_sequence = lambda : torch.randint(2, vocab_size-3, size=(torch.randint(1,max_len, size=(1,)),))\n",
    "    return [gen_single_sequence() for _ in range(num_seq)]\n",
    "\n",
    "seqs = gen_sample_data(vocab_size, max_len, num_seq)\n",
    "\n",
    "def batch_data(data):\n",
    "    \"\"\"Generate batched_data with padding\n",
    "    \"\"\"\n",
    "    num_samples = len(data)\n",
    "    full_data = torch.zeros(num_samples, max_len)\n",
    "    for i, sent in enumerate(data):\n",
    "        min_length = min(len(sent), max_len)\n",
    "        full_data[i, :min_length] = sent[:min_length]\n",
    "    return full_data.long()\n",
    "\n",
    "batch_data = batch_data(seqs)\n",
    "batch_data"
   ]
  },
  {
   "cell_type": "code",
   "execution_count": 15,
   "id": "fa6b9fbf-4372-4682-bbc2-88efca642d95",
   "metadata": {
    "tags": []
   },
   "outputs": [
    {
     "data": {
      "text/plain": [
       "tensor([[ True, False, False, False,  True],\n",
       "        [ True,  True, False,  True,  True],\n",
       "        [False,  True,  True, False, False],\n",
       "        [ True,  True,  True,  True, False],\n",
       "        [False,  True,  True,  True, False]])"
      ]
     },
     "execution_count": 15,
     "metadata": {},
     "output_type": "execute_result"
    }
   ],
   "source": [
    "masking_prob = 0.15 \n",
    "full_mask = torch.randn(batch_data.shape) < masking_prob\n",
    "full_mask"
   ]
  },
  {
   "cell_type": "code",
   "execution_count": 16,
   "id": "a88e2f16-7c20-4ee7-a2ae-65c55f4d6289",
   "metadata": {
    "tags": []
   },
   "outputs": [
    {
     "data": {
      "text/plain": [
       "tensor([[ True, False, False, False, False],\n",
       "        [ True,  True, False, False, False],\n",
       "        [False,  True,  True, False, False],\n",
       "        [ True,  True,  True,  True, False],\n",
       "        [False,  True,  True,  True, False]])"
      ]
     },
     "execution_count": 16,
     "metadata": {},
     "output_type": "execute_result"
    }
   ],
   "source": [
    "special_tokens = [0]\n",
    "for tk in special_tokens:\n",
    "    full_mask = full_mask & (batch_data != tk)\n",
    "full_mask"
   ]
  },
  {
   "cell_type": "code",
   "execution_count": 17,
   "id": "607bcb52-c790-4a42-b656-4160b7ce59e1",
   "metadata": {
    "tags": []
   },
   "outputs": [
    {
     "data": {
      "text/plain": [
       "tensor([[False, False, False, False, False],\n",
       "        [False, False, False, False, False],\n",
       "        [False,  True,  True, False, False],\n",
       "        [False,  True, False, False, False],\n",
       "        [False,  True, False,  True, False]])"
      ]
     },
     "execution_count": 17,
     "metadata": {},
     "output_type": "execute_result"
    }
   ],
   "source": [
    "random_prob = 0.1\n",
    "random_mask = torch.randn(batch_data.shape) < random_prob\n",
    "# for all the tokens that should be masked, select those that should be randomly masked\n",
    "full_mask_with_random = full_mask & (random_mask)\n",
    "full_mask_with_random"
   ]
  },
  {
   "cell_type": "code",
   "execution_count": 18,
   "id": "d3fe7481-b802-4734-adf8-65265c556a82",
   "metadata": {
    "tags": []
   },
   "outputs": [
    {
     "data": {
      "text/plain": [
       "tensor([[ True, False, False, False, False],\n",
       "        [False, False, False, False, False],\n",
       "        [False,  True,  True, False, False],\n",
       "        [ True,  True,  True,  True, False],\n",
       "        [False, False,  True, False, False]])"
      ]
     },
     "execution_count": 18,
     "metadata": {},
     "output_type": "execute_result"
    }
   ],
   "source": [
    "unchanged_prob = 0.1\n",
    "unchanged_mask = torch.randn(batch_data.shape) < unchanged_prob\n",
    "# for all the tokens that should be masked, select those that should be unchanged\n",
    "full_mask_with_unchanged = full_mask & (unchanged_mask)\n",
    "full_mask_with_unchanged"
   ]
  },
  {
   "cell_type": "code",
   "execution_count": 19,
   "id": "bcd99001-0db3-45d4-9dd2-e9b8cc4c669f",
   "metadata": {
    "tags": []
   },
   "outputs": [
    {
     "data": {
      "text/plain": [
       "tensor([[False, False, False, False, False],\n",
       "        [ True,  True, False, False, False],\n",
       "        [False, False, False, False, False],\n",
       "        [False, False, False, False, False],\n",
       "        [False, False, False, False, False]])"
      ]
     },
     "execution_count": 19,
     "metadata": {},
     "output_type": "execute_result"
    }
   ],
   "source": [
    "# get the mask for [mask] tokens\n",
    "full_mask_with_mask = full_mask & (~full_mask_with_random) & (~full_mask_with_unchanged)\n",
    "full_mask_with_mask"
   ]
  },
  {
   "cell_type": "code",
   "execution_count": 21,
   "id": "e94524d3-3523-49a5-abfc-a599b77c30df",
   "metadata": {
    "tags": []
   },
   "outputs": [],
   "source": [
    "final_mask = batch_data.clone()\n",
    "\n",
    "num_random_tokens = full_mask_with_random.sum().item()\n",
    "random_tokens = torch.randint(0, vocab_size, size=(num_random_tokens,))\n",
    "indices = torch.nonzero(full_mask_with_random, as_tuple=True) # (returns tuples *(x,y), *(x,y)\n",
    "final_mask[indices] = random_tokens"
   ]
  },
  {
   "cell_type": "code",
   "execution_count": 22,
   "id": "1084e367-82b9-4a6f-a2d8-2e1626797e99",
   "metadata": {
    "tags": []
   },
   "outputs": [],
   "source": [
    "mask_token = 1\n",
    "final_mask = final_mask.masked_fill_(full_mask_with_mask, mask_token)"
   ]
  },
  {
   "cell_type": "code",
   "execution_count": 23,
   "id": "5b21f376-a8af-4e5e-8cab-61a4df281f87",
   "metadata": {
    "tags": []
   },
   "outputs": [],
   "source": [
    "y = batch_data.clone()\n",
    "padding_token = 0\n",
    "y = y.masked_fill_(~full_mask, padding_token)"
   ]
  },
  {
   "cell_type": "code",
   "execution_count": 25,
   "id": "dd8edb22-481a-4d41-9954-7b74f9bb3801",
   "metadata": {
    "tags": []
   },
   "outputs": [
    {
     "data": {
      "text/plain": [
       "tensor([[2, 4, 0, 0, 0],\n",
       "        [5, 5, 0, 0, 0],\n",
       "        [3, 4, 5, 6, 0],\n",
       "        [4, 2, 6, 2, 0],\n",
       "        [4, 3, 3, 2, 0]])"
      ]
     },
     "execution_count": 25,
     "metadata": {},
     "output_type": "execute_result"
    }
   ],
   "source": [
    "batch_data"
   ]
  },
  {
   "cell_type": "code",
   "execution_count": 24,
   "id": "9167a0d5-af9d-412d-9964-3623a3da2664",
   "metadata": {
    "tags": []
   },
   "outputs": [
    {
     "data": {
      "text/plain": [
       "tensor([[2, 4, 0, 0, 0],\n",
       "        [1, 1, 0, 0, 0],\n",
       "        [3, 4, 1, 6, 0],\n",
       "        [4, 2, 6, 2, 0],\n",
       "        [4, 9, 3, 2, 0]])"
      ]
     },
     "execution_count": 24,
     "metadata": {},
     "output_type": "execute_result"
    }
   ],
   "source": [
    "final_mask"
   ]
  },
  {
   "cell_type": "code",
   "execution_count": 26,
   "id": "97efab4a-41ff-4914-a7d7-505514b02c71",
   "metadata": {
    "tags": []
   },
   "outputs": [
    {
     "data": {
      "text/plain": [
       "tensor([[2, 0, 0, 0, 0],\n",
       "        [5, 5, 0, 0, 0],\n",
       "        [0, 4, 5, 0, 0],\n",
       "        [4, 2, 6, 2, 0],\n",
       "        [0, 3, 3, 2, 0]])"
      ]
     },
     "execution_count": 26,
     "metadata": {},
     "output_type": "execute_result"
    }
   ],
   "source": [
    "y"
   ]
  }
 ],
 "metadata": {
  "kernelspec": {
   "display_name": "Python 3 (ipykernel)",
   "language": "python",
   "name": "python3"
  },
  "language_info": {
   "codemirror_mode": {
    "name": "ipython",
    "version": 3
   },
   "file_extension": ".py",
   "mimetype": "text/x-python",
   "name": "python",
   "nbconvert_exporter": "python",
   "pygments_lexer": "ipython3",
   "version": "3.10.11"
  }
 },
 "nbformat": 4,
 "nbformat_minor": 5
}
