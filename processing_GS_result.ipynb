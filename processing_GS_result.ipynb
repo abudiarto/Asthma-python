{
 "cells": [
  {
   "cell_type": "code",
   "execution_count": 2,
   "id": "64f8b50c-a509-4f8d-b448-f9f35cc5d366",
   "metadata": {
    "tags": []
   },
   "outputs": [],
   "source": [
    "import pandas as pd\n",
    "import numpy as np\n",
    "import pickle\n",
    "import array\n",
    "import re\n",
    "import numpy.ma as ma\n",
    "from os import listdir\n",
    "from os.path import isfile, join\n",
    "import seaborn as sns\n",
    "import matplotlib.pyplot as plt"
   ]
  },
  {
   "cell_type": "markdown",
   "id": "02b5dbb9-ce98-4cb7-aff1-3e573e538b07",
   "metadata": {
    "tags": []
   },
   "source": [
    "# GS result reformating"
   ]
  },
  {
   "cell_type": "code",
   "execution_count": 8,
   "id": "699daa8e-af40-4552-b451-ecd723c06226",
   "metadata": {
    "tags": []
   },
   "outputs": [],
   "source": [
    "def str_to_dict(x):\n",
    "    a = x.replace(\"'\", \"\\\"\")\n",
    "    a = a.replace('masked_array','ma.masked_array')\n",
    "    a = a.replace(' array','np.array')\n",
    "    a = a.replace('\\n      ','')\n",
    "    a = a.replace(', dtype=int32','')\n",
    "    a = re.sub(' +', ' ', a)\n",
    "    a = eval(a)\n",
    "    return a"
   ]
  },
  {
   "cell_type": "code",
   "execution_count": 9,
   "id": "eae0686b-9219-45f1-b59b-462258039925",
   "metadata": {
    "tags": []
   },
   "outputs": [
    {
     "name": "stdout",
     "output_type": "stream",
     "text": [
      "3Months_LR\n",
      "3Months_Lasso\n",
      "3Months_NB\n",
      "3Months_DT\n",
      "3Months_RF\n",
      "3Months_XGB\n",
      "6Months_LR\n",
      "6Months_Lasso\n",
      "6Months_NB\n",
      "6Months_DT\n",
      "6Months_RF\n",
      "6Months_XGB\n",
      "12Months_LR\n",
      "12Months_Lasso\n",
      "12Months_NB\n",
      "12Months_DT\n",
      "12Months_RF\n",
      "12Months_XGB\n",
      "24Months_LR\n",
      "24Months_Lasso\n",
      "24Months_NB\n",
      "24Months_DT\n",
      "24Months_RF\n",
      "24Months_XGB\n"
     ]
    }
   ],
   "source": [
    "data_gs = pd.read_csv('../Models/GS.csv')\n",
    "for i,item in data_gs.iterrows():\n",
    "    model_name = item.outcome+'_'+item.model\n",
    "    cv_result = str_to_dict(item.GS_result)\n",
    "    pickle.dump(cv_result, open('../Models/gs/' + model_name + '.sav', 'wb'))\n",
    "    print(model_name)\n",
    "        "
   ]
  },
  {
   "cell_type": "code",
   "execution_count": 11,
   "id": "41257fc3-4d90-4286-8afb-930abe83a192",
   "metadata": {
    "tags": []
   },
   "outputs": [],
   "source": [
    "model = pickle.load(open('../Models/gs/' + model_name + '.sav', 'rb'))"
   ]
  },
  {
   "cell_type": "code",
   "execution_count": 34,
   "id": "0c09e7e2-77ee-4346-9727-c77800b84e00",
   "metadata": {
    "tags": []
   },
   "outputs": [
    {
     "data": {
      "text/plain": [
       "0.16068714"
      ]
     },
     "execution_count": 34,
     "metadata": {},
     "output_type": "execute_result"
    }
   ],
   "source": [
    "model['mean_test_average_precision'][model['rank_test_average_precision'][1]]"
   ]
  },
  {
   "cell_type": "code",
   "execution_count": 39,
   "id": "95b87b42-451c-4aa4-a0c6-dae4a0bf492f",
   "metadata": {
    "tags": []
   },
   "outputs": [
    {
     "data": {
      "text/plain": [
       "11"
      ]
     },
     "execution_count": 39,
     "metadata": {},
     "output_type": "execute_result"
    }
   ],
   "source": [
    "np.argmin(model['rank_test_average_precision'])"
   ]
  },
  {
   "cell_type": "code",
   "execution_count": 40,
   "id": "72b3695c-4a4c-4748-9d5c-ee0bd30a73ea",
   "metadata": {
    "tags": []
   },
   "outputs": [
    {
     "data": {
      "text/plain": [
       "0.1961109"
      ]
     },
     "execution_count": 40,
     "metadata": {},
     "output_type": "execute_result"
    }
   ],
   "source": [
    "model['mean_test_average_precision'][np.argmin(model['rank_test_average_precision'])]"
   ]
  },
  {
   "cell_type": "markdown",
   "id": "675a8998-ea93-40b6-81ec-5ea4d46063f3",
   "metadata": {},
   "source": [
    "# GS result visualisation"
   ]
  },
  {
   "cell_type": "code",
   "execution_count": 42,
   "id": "7f344c5c-0e44-4853-b5b8-693880c875e7",
   "metadata": {
    "tags": []
   },
   "outputs": [],
   "source": [
    "files = [f for f in listdir('../Models/gs/') if isfile(join('../Models/gs/', f))]"
   ]
  },
  {
   "cell_type": "code",
   "execution_count": 43,
   "id": "210416df-2547-4037-a36a-3bddb5ef3f25",
   "metadata": {
    "tags": []
   },
   "outputs": [
    {
     "data": {
      "text/plain": [
       "['12months_DT.sav',\n",
       " '12months_ElasticNet.sav',\n",
       " '12months_Lasso.sav',\n",
       " '12months_LR.sav',\n",
       " '12months_NB.sav',\n",
       " '12months_RF.sav',\n",
       " '12months_XGB.sav',\n",
       " '24months_DT.sav',\n",
       " '24months_ElasticNet.sav',\n",
       " '24months_Lasso.sav',\n",
       " '24months_LR.sav',\n",
       " '24months_NB.sav',\n",
       " '24months_RF.sav',\n",
       " '24months_XGB.sav',\n",
       " '3months_DT.sav',\n",
       " '3months_ElasticNet.sav',\n",
       " '3months_Lasso.sav',\n",
       " '3months_LR.sav',\n",
       " '3months_NB.sav',\n",
       " '3months_RF.sav',\n",
       " '3months_XGB.sav',\n",
       " '6months_DT.sav',\n",
       " '6months_ElasticNet.sav',\n",
       " '6months_Lasso.sav',\n",
       " '6months_LR.sav',\n",
       " '6months_NB.sav',\n",
       " '6months_RF.sav',\n",
       " '6months_XGB.sav']"
      ]
     },
     "execution_count": 43,
     "metadata": {},
     "output_type": "execute_result"
    }
   ],
   "source": [
    "files"
   ]
  },
  {
   "cell_type": "code",
   "execution_count": 49,
   "id": "6f74bc97-7d2a-4beb-91b7-b0c1c8b67ae6",
   "metadata": {
    "tags": []
   },
   "outputs": [],
   "source": [
    "result = []\n",
    "for file in files:\n",
    "    model = pickle.load(open('../Models/gs/'+file, 'rb'))\n",
    "    best_score_auprc =  model['mean_test_average_precision'][np.argmin(model['rank_test_average_precision'])]\n",
    "    best_params_auprc = model['params'][np.argmin(model['rank_test_average_precision'])]\n",
    "    best_score_ba =  model['mean_test_balanced_accuracy'][np.argmin(model['rank_test_balanced_accuracy'])]\n",
    "    best_params_ba = model['params'][np.argmin(model['rank_test_balanced_accuracy'])]\n",
    "    best_score_auc =  model['mean_test_roc_auc'][np.argmin(model['rank_test_roc_auc'])]\n",
    "    best_params_auc = model['params'][np.argmin(model['rank_test_roc_auc'])]\n",
    "    result.append([file.replace('.sav',''), best_score_auprc, best_params_auprc, best_score_ba, best_params_ba, best_score_auc, best_params_auc])"
   ]
  },
  {
   "cell_type": "code",
   "execution_count": 50,
   "id": "7cbd1a17-36e8-42be-925d-ddd4bf3d4928",
   "metadata": {
    "tags": []
   },
   "outputs": [],
   "source": [
    "result = pd.DataFrame(result, columns=['model', 'best_score_auprc', 'best_params_auprc', 'best_score_ba', 'best_params_ba','best_score_auc', 'best_params_auc'])\n",
    "result['outcome'] = result.apply(lambda x: x.model.split('_')[0], axis=1)\n",
    "result['model'] = result.apply(lambda x: x.model.split('_')[1], axis=1)\n",
    "result.to_csv('../Models/GS_result.csv', index_label=False, index=False)"
   ]
  },
  {
   "cell_type": "code",
   "execution_count": null,
   "id": "7ea5f622-1f24-4fce-9a6c-0ac3caec8067",
   "metadata": {},
   "outputs": [],
   "source": []
  },
  {
   "cell_type": "markdown",
   "id": "52652c0d-3d68-4f46-a43a-4e42903e4f14",
   "metadata": {},
   "source": [
    "# BS Result"
   ]
  },
  {
   "cell_type": "code",
   "execution_count": 3,
   "id": "4247f2aa-12c2-49fa-af2a-f6eada283d54",
   "metadata": {
    "tags": []
   },
   "outputs": [],
   "source": [
    "result = pd.read_csv('../Models/BS_result.csv')"
   ]
  },
  {
   "cell_type": "code",
   "execution_count": 4,
   "id": "21f5e9ac-271a-4c24-9a4e-f86fc141f074",
   "metadata": {
    "tags": []
   },
   "outputs": [
    {
     "name": "stderr",
     "output_type": "stream",
     "text": [
      "/tmp/ipykernel_195/1659550614.py:1: FutureWarning: \n",
      "\n",
      "The `ci` parameter is deprecated. Use `errorbar=None` for the same effect.\n",
      "\n",
      "  bar = sns.catplot(x = \"outcome\",       # x variable name\n"
     ]
    },
    {
     "data": {
      "text/plain": [
       "Text(0.5, 28.999999999999986, 'Method')"
      ]
     },
     "execution_count": 4,
     "metadata": {},
     "output_type": "execute_result"
    },
    {
     "data": {
      "image/png": "[encoded data removed]",
      "text/plain": [
       "<Figure size 1602.5x500 with 1 Axes>"
      ]
     },
     "metadata": {},
     "output_type": "display_data"
    }
   ],
   "source": [
    "bar = sns.catplot(x = \"outcome\",       # x variable name\n",
    "            y = \"best_score\",       # y variable name            \n",
    "            data = result,     # dataframe to plot\n",
    "            hue = 'model',\n",
    "            kind = \"bar\",\n",
    "            height=5,\n",
    "            aspect=6/2,\n",
    "            ci = None)\n",
    "ax = bar.facet_axis(0,0)\n",
    "for p in ax.patches:\n",
    "    ax.text(p.get_x() + 0.01, \n",
    "            p.get_height() * 1.01, \n",
    "            '{0:.4f}'.format(p.get_height()), \n",
    "            color='black', rotation='horizontal', fontsize=7)\n",
    "    \n",
    "# listOf_Yticks = np.arange(0.5, 0.7, 0.05)\n",
    "ax.set_ylim(0.5, .9)\n",
    "ax.set_ylabel('AUC Score', fontsize=8)\n",
    "ax.set_xlabel('Method', fontsize=11)"
   ]
  },
  {
   "cell_type": "code",
   "execution_count": 9,
   "id": "55ab6160-fc7e-4914-86fc-5c1de6c75040",
   "metadata": {
    "tags": []
   },
   "outputs": [],
   "source": [
    "result = result[result.model!='SVM']"
   ]
  },
  {
   "cell_type": "code",
   "execution_count": 10,
   "id": "7ee56d56-81d6-408c-afd0-b12776583d2e",
   "metadata": {
    "tags": []
   },
   "outputs": [
    {
     "data": {
      "image/png": "[encoded data removed]",
      "text/plain": [
       "<Figure size 911.111x600 with 4 Axes>"
      ]
     },
     "metadata": {},
     "output_type": "display_data"
    }
   ],
   "source": [
    "g = sns.FacetGrid(result, col='outcome', col_wrap=2, height=3, aspect=1.5, ylim=(0.5, 0.8))\n",
    "g.map(sns.barplot, 'model', 'best_score', order=result.model.unique()).add_legend()\n",
    "\n",
    "for ax in g.axes:\n",
    "    for p in ax.patches:\n",
    "             ax.annotate(\"%.4f\" % p.get_height(), (p.get_x() + p.get_width() / 2., p.get_height()),\n",
    "                 ha='center', va='center', fontsize=8, color='black', xytext=(0, 5),\n",
    "                 textcoords='offset points')\n",
    "    ax.set_ylabel('AUC Score', fontsize=8)\n",
    "    ax.set_xlabel('Method', fontsize=11)"
   ]
  },
  {
   "cell_type": "code",
   "execution_count": 9,
   "id": "2fd05464-d2bd-4682-b55d-136ce32accb1",
   "metadata": {
    "tags": []
   },
   "outputs": [
    {
     "data": {
      "text/html": [
       "<div>\n",
       "<style scoped>\n",
       "    .dataframe tbody tr th:only-of-type {\n",
       "        vertical-align: middle;\n",
       "    }\n",
       "\n",
       "    .dataframe tbody tr th {\n",
       "        vertical-align: top;\n",
       "    }\n",
       "\n",
       "    .dataframe thead th {\n",
       "        text-align: right;\n",
       "    }\n",
       "</style>\n",
       "<table border=\"1\" class=\"dataframe\">\n",
       "  <thead>\n",
       "    <tr style=\"text-align: right;\">\n",
       "      <th></th>\n",
       "      <th>outcome</th>\n",
       "      <th>model</th>\n",
       "      <th>best_score</th>\n",
       "      <th>best_param</th>\n",
       "    </tr>\n",
       "  </thead>\n",
       "  <tbody>\n",
       "    <tr>\n",
       "      <th>0</th>\n",
       "      <td>3months</td>\n",
       "      <td>lr</td>\n",
       "      <td>0.718657</td>\n",
       "      <td>['liblinear', 0.3110204078235362, 161]</td>\n",
       "    </tr>\n",
       "    <tr>\n",
       "      <th>1</th>\n",
       "      <td>3months</td>\n",
       "      <td>lasso</td>\n",
       "      <td>0.718719</td>\n",
       "      <td>['saga', 5.264286812182277, 73]</td>\n",
       "    </tr>\n",
       "    <tr>\n",
       "      <th>2</th>\n",
       "      <td>3months</td>\n",
       "      <td>elastic</td>\n",
       "      <td>0.718708</td>\n",
       "      <td>[0.12538683368444242, 328]</td>\n",
       "    </tr>\n",
       "    <tr>\n",
       "      <th>3</th>\n",
       "      <td>3months</td>\n",
       "      <td>gnb</td>\n",
       "      <td>0.638296</td>\n",
       "      <td>[2.771271564091625e-06]</td>\n",
       "    </tr>\n",
       "    <tr>\n",
       "      <th>4</th>\n",
       "      <td>3months</td>\n",
       "      <td>dt</td>\n",
       "      <td>0.728108</td>\n",
       "      <td>['entropy', 'best', 6]</td>\n",
       "    </tr>\n",
       "    <tr>\n",
       "      <th>5</th>\n",
       "      <td>3months</td>\n",
       "      <td>rf</td>\n",
       "      <td>0.731327</td>\n",
       "      <td>['gini', 281, 7]</td>\n",
       "    </tr>\n",
       "    <tr>\n",
       "      <th>6</th>\n",
       "      <td>3months</td>\n",
       "      <td>xgb</td>\n",
       "      <td>0.738290</td>\n",
       "      <td>[251, 5, 0.017952118813409648, 0.0038566417152...</td>\n",
       "    </tr>\n",
       "    <tr>\n",
       "      <th>7</th>\n",
       "      <td>3months</td>\n",
       "      <td>svm</td>\n",
       "      <td>0.702010</td>\n",
       "      <td>[6.860182732616174, 20.610083751390142]</td>\n",
       "    </tr>\n",
       "    <tr>\n",
       "      <th>8</th>\n",
       "      <td>6months</td>\n",
       "      <td>lr</td>\n",
       "      <td>0.714167</td>\n",
       "      <td>['liblinear', 4.029759596937809, 65]</td>\n",
       "    </tr>\n",
       "    <tr>\n",
       "      <th>9</th>\n",
       "      <td>6months</td>\n",
       "      <td>lasso</td>\n",
       "      <td>0.714181</td>\n",
       "      <td>['saga', 5.264286812182277, 73]</td>\n",
       "    </tr>\n",
       "    <tr>\n",
       "      <th>10</th>\n",
       "      <td>6months</td>\n",
       "      <td>elastic</td>\n",
       "      <td>0.714165</td>\n",
       "      <td>[0.12538683368444242, 328]</td>\n",
       "    </tr>\n",
       "    <tr>\n",
       "      <th>11</th>\n",
       "      <td>6months</td>\n",
       "      <td>gnb</td>\n",
       "      <td>0.634367</td>\n",
       "      <td>[2.771271564091625e-06]</td>\n",
       "    </tr>\n",
       "    <tr>\n",
       "      <th>12</th>\n",
       "      <td>6months</td>\n",
       "      <td>dt</td>\n",
       "      <td>0.723385</td>\n",
       "      <td>['gini', 'best', 7]</td>\n",
       "    </tr>\n",
       "    <tr>\n",
       "      <th>13</th>\n",
       "      <td>6months</td>\n",
       "      <td>rf</td>\n",
       "      <td>0.724836</td>\n",
       "      <td>['gini', 199, 8]</td>\n",
       "    </tr>\n",
       "    <tr>\n",
       "      <th>14</th>\n",
       "      <td>6months</td>\n",
       "      <td>xgb</td>\n",
       "      <td>0.731322</td>\n",
       "      <td>[281, 7, 0.014537455903050606, 0.0007300378404...</td>\n",
       "    </tr>\n",
       "    <tr>\n",
       "      <th>15</th>\n",
       "      <td>6months</td>\n",
       "      <td>svm</td>\n",
       "      <td>0.710600</td>\n",
       "      <td>[0.197131400195643, 0.14722458774700195]</td>\n",
       "    </tr>\n",
       "    <tr>\n",
       "      <th>16</th>\n",
       "      <td>12months</td>\n",
       "      <td>lr</td>\n",
       "      <td>0.703484</td>\n",
       "      <td>['liblinear', 4.321921577616365, 142]</td>\n",
       "    </tr>\n",
       "    <tr>\n",
       "      <th>17</th>\n",
       "      <td>12months</td>\n",
       "      <td>lasso</td>\n",
       "      <td>0.703443</td>\n",
       "      <td>['saga', 9.424940225483164, 68]</td>\n",
       "    </tr>\n",
       "    <tr>\n",
       "      <th>18</th>\n",
       "      <td>12months</td>\n",
       "      <td>elastic</td>\n",
       "      <td>0.703483</td>\n",
       "      <td>[0.14415023448679715, 358]</td>\n",
       "    </tr>\n",
       "    <tr>\n",
       "      <th>19</th>\n",
       "      <td>12months</td>\n",
       "      <td>gnb</td>\n",
       "      <td>0.622885</td>\n",
       "      <td>[2.771271564091625e-06]</td>\n",
       "    </tr>\n",
       "    <tr>\n",
       "      <th>20</th>\n",
       "      <td>12months</td>\n",
       "      <td>dt</td>\n",
       "      <td>0.711008</td>\n",
       "      <td>['gini', 'best', 7]</td>\n",
       "    </tr>\n",
       "    <tr>\n",
       "      <th>21</th>\n",
       "      <td>12months</td>\n",
       "      <td>rf</td>\n",
       "      <td>0.711751</td>\n",
       "      <td>['gini', 199, 8]</td>\n",
       "    </tr>\n",
       "    <tr>\n",
       "      <th>22</th>\n",
       "      <td>12months</td>\n",
       "      <td>xgb</td>\n",
       "      <td>0.720666</td>\n",
       "      <td>[251, 5, 0.017952118813409648, 0.0038566417152...</td>\n",
       "    </tr>\n",
       "    <tr>\n",
       "      <th>23</th>\n",
       "      <td>12months</td>\n",
       "      <td>svm</td>\n",
       "      <td>0.705749</td>\n",
       "      <td>[0.197131400195643, 0.14722458774700195]</td>\n",
       "    </tr>\n",
       "    <tr>\n",
       "      <th>24</th>\n",
       "      <td>24months</td>\n",
       "      <td>lr</td>\n",
       "      <td>0.703279</td>\n",
       "      <td>['liblinear', 0.8043769526753184, 131]</td>\n",
       "    </tr>\n",
       "    <tr>\n",
       "      <th>25</th>\n",
       "      <td>24months</td>\n",
       "      <td>lasso</td>\n",
       "      <td>0.703274</td>\n",
       "      <td>['saga', 5.264286812182277, 73]</td>\n",
       "    </tr>\n",
       "    <tr>\n",
       "      <th>26</th>\n",
       "      <td>24months</td>\n",
       "      <td>elastic</td>\n",
       "      <td>0.703242</td>\n",
       "      <td>[0.15794968314524718, 708]</td>\n",
       "    </tr>\n",
       "    <tr>\n",
       "      <th>27</th>\n",
       "      <td>24months</td>\n",
       "      <td>gnb</td>\n",
       "      <td>0.613207</td>\n",
       "      <td>[2.771271564091625e-06]</td>\n",
       "    </tr>\n",
       "    <tr>\n",
       "      <th>28</th>\n",
       "      <td>24months</td>\n",
       "      <td>dt</td>\n",
       "      <td>0.715524</td>\n",
       "      <td>['gini', 'best', 8]</td>\n",
       "    </tr>\n",
       "    <tr>\n",
       "      <th>29</th>\n",
       "      <td>24months</td>\n",
       "      <td>rf</td>\n",
       "      <td>0.717137</td>\n",
       "      <td>['gini', 199, 8]</td>\n",
       "    </tr>\n",
       "    <tr>\n",
       "      <th>30</th>\n",
       "      <td>24months</td>\n",
       "      <td>xgb</td>\n",
       "      <td>0.723843</td>\n",
       "      <td>[281, 7, 0.014537455903050606, 0.0007300378404...</td>\n",
       "    </tr>\n",
       "    <tr>\n",
       "      <th>31</th>\n",
       "      <td>24months</td>\n",
       "      <td>svm</td>\n",
       "      <td>0.713903</td>\n",
       "      <td>[0.197131400195643, 0.14722458774700195]</td>\n",
       "    </tr>\n",
       "  </tbody>\n",
       "</table>\n",
       "</div>"
      ],
      "text/plain": [
       "     outcome    model  best_score  \\\n",
       "0    3months       lr    0.718657   \n",
       "1    3months    lasso    0.718719   \n",
       "2    3months  elastic    0.718708   \n",
       "3    3months      gnb    0.638296   \n",
       "4    3months       dt    0.728108   \n",
       "5    3months       rf    0.731327   \n",
       "6    3months      xgb    0.738290   \n",
       "7    3months      svm    0.702010   \n",
       "8    6months       lr    0.714167   \n",
       "9    6months    lasso    0.714181   \n",
       "10   6months  elastic    0.714165   \n",
       "11   6months      gnb    0.634367   \n",
       "12   6months       dt    0.723385   \n",
       "13   6months       rf    0.724836   \n",
       "14   6months      xgb    0.731322   \n",
       "15   6months      svm    0.710600   \n",
       "16  12months       lr    0.703484   \n",
       "17  12months    lasso    0.703443   \n",
       "18  12months  elastic    0.703483   \n",
       "19  12months      gnb    0.622885   \n",
       "20  12months       dt    0.711008   \n",
       "21  12months       rf    0.711751   \n",
       "22  12months      xgb    0.720666   \n",
       "23  12months      svm    0.705749   \n",
       "24  24months       lr    0.703279   \n",
       "25  24months    lasso    0.703274   \n",
       "26  24months  elastic    0.703242   \n",
       "27  24months      gnb    0.613207   \n",
       "28  24months       dt    0.715524   \n",
       "29  24months       rf    0.717137   \n",
       "30  24months      xgb    0.723843   \n",
       "31  24months      svm    0.713903   \n",
       "\n",
       "                                           best_param  \n",
       "0              ['liblinear', 0.3110204078235362, 161]  \n",
       "1                     ['saga', 5.264286812182277, 73]  \n",
       "2                          [0.12538683368444242, 328]  \n",
       "3                             [2.771271564091625e-06]  \n",
       "4                              ['entropy', 'best', 6]  \n",
       "5                                    ['gini', 281, 7]  \n",
       "6   [251, 5, 0.017952118813409648, 0.0038566417152...  \n",
       "7             [6.860182732616174, 20.610083751390142]  \n",
       "8                ['liblinear', 4.029759596937809, 65]  \n",
       "9                     ['saga', 5.264286812182277, 73]  \n",
       "10                         [0.12538683368444242, 328]  \n",
       "11                            [2.771271564091625e-06]  \n",
       "12                                ['gini', 'best', 7]  \n",
       "13                                   ['gini', 199, 8]  \n",
       "14  [281, 7, 0.014537455903050606, 0.0007300378404...  \n",
       "15           [0.197131400195643, 0.14722458774700195]  \n",
       "16              ['liblinear', 4.321921577616365, 142]  \n",
       "17                    ['saga', 9.424940225483164, 68]  \n",
       "18                         [0.14415023448679715, 358]  \n",
       "19                            [2.771271564091625e-06]  \n",
       "20                                ['gini', 'best', 7]  \n",
       "21                                   ['gini', 199, 8]  \n",
       "22  [251, 5, 0.017952118813409648, 0.0038566417152...  \n",
       "23           [0.197131400195643, 0.14722458774700195]  \n",
       "24             ['liblinear', 0.8043769526753184, 131]  \n",
       "25                    ['saga', 5.264286812182277, 73]  \n",
       "26                         [0.15794968314524718, 708]  \n",
       "27                            [2.771271564091625e-06]  \n",
       "28                                ['gini', 'best', 8]  \n",
       "29                                   ['gini', 199, 8]  \n",
       "30  [281, 7, 0.014537455903050606, 0.0007300378404...  \n",
       "31           [0.197131400195643, 0.14722458774700195]  "
      ]
     },
     "execution_count": 9,
     "metadata": {},
     "output_type": "execute_result"
    }
   ],
   "source": [
    "result"
   ]
  }
 ],
 "metadata": {
  "kernelspec": {
   "display_name": "Python 3 (ipykernel)",
   "language": "python",
   "name": "python3"
  },
  "language_info": {
   "codemirror_mode": {
    "name": "ipython",
    "version": 3
   },
   "file_extension": ".py",
   "mimetype": "text/x-python",
   "name": "python",
   "nbconvert_exporter": "python",
   "pygments_lexer": "ipython3",
   "version": "3.10.11"
  }
 },
 "nbformat": 4,
 "nbformat_minor": 5
}
