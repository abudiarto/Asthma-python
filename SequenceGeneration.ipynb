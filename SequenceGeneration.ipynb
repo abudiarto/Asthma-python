{
 "cells": [
  {
   "cell_type": "code",
   "execution_count": 1,
   "id": "a657b3a1-dc2c-455d-954c-3fca2ac33cdf",
   "metadata": {
    "tags": []
   },
   "outputs": [],
   "source": [
    "import pandas as pd\n",
    "import pyreadr\n",
    "import numpy as np\n",
    "import torch\n",
    "import pickle"
   ]
  },
  {
   "cell_type": "code",
   "execution_count": 2,
   "id": "64c01226-5ead-4c97-a2d8-ea13efb71179",
   "metadata": {
    "tags": []
   },
   "outputs": [
    {
     "name": "stderr",
     "output_type": "stream",
     "text": [
      "/opt/conda/envs/rapids/lib/python3.10/site-packages/pyreadr/_pyreadr_parser.py:233: RuntimeWarning: invalid value encountered in cast\n",
      "  df[colname] = df[colname].values.astype(\"datetime64[D]\").astype(datetime)\n",
      "/opt/conda/envs/rapids/lib/python3.10/site-packages/pandas/core/tools/datetimes.py:557: RuntimeWarning: invalid value encountered in cast\n",
      "  arr, tz_parsed = tslib.array_with_unit_to_datetime(arg, unit, errors=errors)\n",
      "/opt/conda/envs/rapids/lib/python3.10/site-packages/pandas/core/tools/datetimes.py:557: RuntimeWarning: invalid value encountered in multiply\n",
      "  arr, tz_parsed = tslib.array_with_unit_to_datetime(arg, unit, errors=errors)\n",
      "/opt/conda/envs/rapids/lib/python3.10/site-packages/pyreadr/_pyreadr_parser.py:233: RuntimeWarning: invalid value encountered in cast\n",
      "  df[colname] = df[colname].values.astype(\"datetime64[D]\").astype(datetime)\n",
      "/opt/conda/envs/rapids/lib/python3.10/site-packages/pyreadr/_pyreadr_parser.py:233: RuntimeWarning: invalid value encountered in cast\n",
      "  df[colname] = df[colname].values.astype(\"datetime64[D]\").astype(datetime)\n"
     ]
    }
   ],
   "source": [
    "patient = pyreadr.read_r('../ServerData_13Oct2020/d_patient_overall.Rdata')\n",
    "practice = pyreadr.read_r('../ServerData_13Oct2020/d_practice.Rdata')"
   ]
  },
  {
   "cell_type": "code",
   "execution_count": 3,
   "id": "9b90b10e-aa0f-44c5-8bca-46eacea99898",
   "metadata": {
    "tags": []
   },
   "outputs": [],
   "source": [
    "patient = patient['d_patient_overall']\n",
    "practice = practice['d_practice']\n",
    "\n",
    "#Age in 2016-01-01\n",
    "patient['age'] = patient.year_of_birth.apply(lambda x: 2016-x)"
   ]
  },
  {
   "cell_type": "code",
   "execution_count": 4,
   "id": "5f9ea418-1f37-4db5-86d7-706d8a9493ae",
   "metadata": {
    "tags": []
   },
   "outputs": [],
   "source": [
    "patient = patient[['patid', 'practice_id', 'age']].merge(practice[['practice_id', 'Country']], how='left', on='practice_id')"
   ]
  },
  {
   "cell_type": "markdown",
   "id": "473a584d-ebf8-419d-9fe0-31ee057e7bef",
   "metadata": {},
   "source": [
    "# Clinical"
   ]
  },
  {
   "cell_type": "code",
   "execution_count": 5,
   "id": "20ac4658-b423-4955-ae0e-15c9eb2999fd",
   "metadata": {
    "tags": []
   },
   "outputs": [
    {
     "name": "stderr",
     "output_type": "stream",
     "text": [
      "/opt/conda/envs/rapids/lib/python3.10/site-packages/pyreadr/_pyreadr_parser.py:233: RuntimeWarning: invalid value encountered in cast\n",
      "  df[colname] = df[colname].values.astype(\"datetime64[D]\").astype(datetime)\n",
      "/opt/conda/envs/rapids/lib/python3.10/site-packages/pandas/core/tools/datetimes.py:557: RuntimeWarning: invalid value encountered in cast\n",
      "  arr, tz_parsed = tslib.array_with_unit_to_datetime(arg, unit, errors=errors)\n",
      "/opt/conda/envs/rapids/lib/python3.10/site-packages/pandas/core/tools/datetimes.py:557: RuntimeWarning: invalid value encountered in multiply\n",
      "  arr, tz_parsed = tslib.array_with_unit_to_datetime(arg, unit, errors=errors)\n",
      "/opt/conda/envs/rapids/lib/python3.10/site-packages/pandas/core/tools/datetimes.py:557: RuntimeWarning: invalid value encountered in cast\n",
      "  arr, tz_parsed = tslib.array_with_unit_to_datetime(arg, unit, errors=errors)\n",
      "/opt/conda/envs/rapids/lib/python3.10/site-packages/pandas/core/tools/datetimes.py:557: RuntimeWarning: invalid value encountered in multiply\n",
      "  arr, tz_parsed = tslib.array_with_unit_to_datetime(arg, unit, errors=errors)\n"
     ]
    }
   ],
   "source": [
    "#add paractice information\n",
    "clinical = pyreadr.read_r('../ServerData_13Oct2020/f_clinical_part1.Rdata')\n",
    "clinical = clinical['f_clinical_part']"
   ]
  },
  {
   "cell_type": "code",
   "execution_count": 6,
   "id": "6099505f-cb42-4924-a23c-2705135c1afa",
   "metadata": {
    "tags": []
   },
   "outputs": [],
   "source": [
    "#data selection \n",
    "clinical = clinical.dropna(subset=['code_id'])\n",
    "clinical['event_date'] = pd.to_datetime(clinical['event_date'])\n",
    "clinical = clinical.loc[(clinical['event_date'] >= '2016-01-01') & (clinical['event_date'] < '2018-01-01')]"
   ]
  },
  {
   "cell_type": "code",
   "execution_count": 7,
   "id": "76a74a00-2108-41e4-9498-cf06ba4786e8",
   "metadata": {
    "tags": []
   },
   "outputs": [
    {
     "name": "stdout",
     "output_type": "stream",
     "text": [
      "(9951,)\n",
      "(1620518, 11)\n"
     ]
    }
   ],
   "source": [
    "print(clinical.patid.unique().shape)\n",
    "print(clinical.shape)"
   ]
  },
  {
   "cell_type": "code",
   "execution_count": 8,
   "id": "de518074-2d36-4d0f-9e70-e8a938bf2723",
   "metadata": {
    "tags": []
   },
   "outputs": [
    {
     "name": "stdout",
     "output_type": "stream",
     "text": [
      "code2idx Size: 19860\n",
      "idx2code Size: 19860\n"
     ]
    }
   ],
   "source": [
    "#vocab and code2idx generation\n",
    "vocab = clinical.code_id.unique().tolist()\n",
    "idx = range(1, len(vocab)+1)\n",
    "\n",
    "code2idx = dict(zip(vocab, idx))\n",
    "idx2code = dict(zip(idx, vocab))\n",
    "\n",
    "code2idx['PAD'] = 0\n",
    "idx2code[0] = 'PAD'\n",
    "VOCAB_SIZE = len(code2idx)\n",
    "print('code2idx Size: {}'.format(len(code2idx)))\n",
    "print('idx2code Size: {}'.format(len(idx2code)))\n",
    "# print(code2idx)"
   ]
  },
  {
   "cell_type": "code",
   "execution_count": 9,
   "id": "c0dd4305-7942-45e4-bc1a-d0586ea1a415",
   "metadata": {
    "tags": []
   },
   "outputs": [],
   "source": [
    "#extract year, month, day from event date\n",
    "clinical['day'] = clinical.apply(lambda x: str(x['event_date'].day), axis=1)\n",
    "clinical['month'] = clinical.apply(lambda x: str(x['event_date'].month), axis=1)\n",
    "clinical['year'] = clinical.apply(lambda x: str(x['event_date'].year), axis=1)"
   ]
  },
  {
   "cell_type": "code",
   "execution_count": 10,
   "id": "f81e3634-77a6-40cc-89c3-ea7c91fda6ce",
   "metadata": {
    "tags": []
   },
   "outputs": [
    {
     "name": "stdout",
     "output_type": "stream",
     "text": [
      "(9951,)\n",
      "(1620518, 14)\n"
     ]
    }
   ],
   "source": [
    "print(clinical.patid.unique().shape)\n",
    "print(clinical.shape)"
   ]
  },
  {
   "cell_type": "code",
   "execution_count": 11,
   "id": "4706dd5b-ece0-4a67-beb9-05e2df3171a3",
   "metadata": {
    "tags": []
   },
   "outputs": [],
   "source": [
    "# Outcomes data\n",
    "outcomes = pd.read_csv(\"../FinalData/cleaned_outcomes_11072023.csv\")"
   ]
  },
  {
   "cell_type": "code",
   "execution_count": 12,
   "id": "76a7a665-8432-480b-815b-d3a8d9a1b191",
   "metadata": {
    "tags": []
   },
   "outputs": [
    {
     "data": {
      "text/plain": [
       "0    6565\n",
       "1    1505\n",
       "Name: outcome_combined_12months, dtype: int64"
      ]
     },
     "execution_count": 12,
     "metadata": {},
     "output_type": "execute_result"
    }
   ],
   "source": [
    "outcomes[outcomes.patid.isin(clinical.patid.unique())].outcome_combined_12months.value_counts()"
   ]
  },
  {
   "cell_type": "code",
   "execution_count": 13,
   "id": "56a28882-9e0d-4805-9448-a229257dd7ea",
   "metadata": {
    "tags": []
   },
   "outputs": [],
   "source": [
    "clinical['read_code_seq'] = clinical.sort_values(['event_date'], ascending=True).groupby('patid')['code_id'].transform(lambda x: ', '.join(x))\n"
   ]
  },
  {
   "cell_type": "code",
   "execution_count": 14,
   "id": "22a8afc6-4991-4534-a7dc-cf4657fb570e",
   "metadata": {
    "tags": []
   },
   "outputs": [],
   "source": [
    "event_data_seq = clinical.sort_values(['event_date']).groupby('patid').agg({'day': lambda x: x.tolist(),\n",
    "                                                          'month': lambda x: x.tolist(),\n",
    "                                                          'year': lambda x: x.tolist()}).reset_index()"
   ]
  },
  {
   "cell_type": "code",
   "execution_count": 15,
   "id": "0258d563-90d7-4939-8b14-01d550c052be",
   "metadata": {
    "tags": []
   },
   "outputs": [],
   "source": [
    "clinical = clinical.drop_duplicates(subset=['patid']).reset_index(drop=True)     "
   ]
  },
  {
   "cell_type": "code",
   "execution_count": 16,
   "id": "0511385e-9ac7-4a10-bc20-7f48d303e99c",
   "metadata": {
    "tags": []
   },
   "outputs": [
    {
     "name": "stdout",
     "output_type": "stream",
     "text": [
      "(9951,)\n",
      "(9951, 15)\n"
     ]
    }
   ],
   "source": [
    "print(clinical.patid.unique().shape)\n",
    "print(clinical.shape)"
   ]
  },
  {
   "cell_type": "code",
   "execution_count": 17,
   "id": "80a6c10e-234d-43a4-ad4d-d1df481a9c56",
   "metadata": {
    "tags": []
   },
   "outputs": [
    {
     "data": {
      "text/plain": [
       "0    6565\n",
       "1    1505\n",
       "Name: outcome_combined_12months, dtype: int64"
      ]
     },
     "execution_count": 17,
     "metadata": {},
     "output_type": "execute_result"
    }
   ],
   "source": [
    "data = clinical[['patid', 'read_code_seq']].merge(event_data_seq, how='left', on='patid')\n",
    "data = data.merge(outcomes[['patid', 'outcome_combined_12months']], how='inner', on='patid')\n",
    "data.outcome_combined_12months.value_counts()"
   ]
  },
  {
   "cell_type": "code",
   "execution_count": 18,
   "id": "40b26ad4-cdeb-48fc-9779-d78b76010b1f",
   "metadata": {
    "tags": []
   },
   "outputs": [
    {
     "name": "stdout",
     "output_type": "stream",
     "text": [
      "(8070,)\n",
      "(8070, 6)\n"
     ]
    }
   ],
   "source": [
    "print(data.patid.unique().shape)\n",
    "print(data.shape)"
   ]
  },
  {
   "cell_type": "code",
   "execution_count": 19,
   "id": "89d1523d-1127-4d50-b0da-dc5bcc85c691",
   "metadata": {
    "tags": []
   },
   "outputs": [],
   "source": [
    "data['read_code_seq'] = data['read_code_seq'].apply(lambda x: x.strip('\"\"').split(', '))\n",
    "data['length_read_code_seq'] = data['read_code_seq'].apply(lambda x: len(x))\n",
    "data = data[data.length_read_code_seq > 10]"
   ]
  },
  {
   "cell_type": "code",
   "execution_count": 20,
   "id": "a1825df4-22b7-4684-9874-d22bda64ef80",
   "metadata": {
    "tags": []
   },
   "outputs": [
    {
     "name": "stdout",
     "output_type": "stream",
     "text": [
      "(7923,)\n",
      "(7923, 7)\n"
     ]
    }
   ],
   "source": [
    "print(data.patid.unique().shape)\n",
    "print(data.shape)"
   ]
  },
  {
   "cell_type": "code",
   "execution_count": 21,
   "id": "db0e4090-e437-446a-a2e1-1216886b30c3",
   "metadata": {
    "tags": []
   },
   "outputs": [],
   "source": [
    "#padding at the beginning of the list\n",
    "max_seq = 500\n",
    "def make_uniform_data(x):\n",
    "    if len(x) < max_seq:\n",
    "        pads = ['PAD'] * (max_seq - len(x))\n",
    "        return pads + x\n",
    "    elif len(x) > max_seq:\n",
    "        x = x[len(x)-max_seq:]\n",
    "        return x\n",
    "    else:\n",
    "        return x"
   ]
  },
  {
   "cell_type": "code",
   "execution_count": 22,
   "id": "1e69e460-2953-485b-b4c8-5ac980603a58",
   "metadata": {
    "tags": []
   },
   "outputs": [],
   "source": [
    "data['read_code_seq_padded'] = data['read_code_seq'].apply(lambda x: make_uniform_data(x))\n",
    "data['read_code_seq_padded_idx'] = data['read_code_seq_padded'].apply(lambda x: [code2idx.get(key) for key in x])\n",
    "data = data.merge(patient[['patid', 'Country', 'age']], how='left', on='patid')"
   ]
  },
  {
   "cell_type": "code",
   "execution_count": 23,
   "id": "6521b1e5-19b7-4443-9610-8079b5ef8cbe",
   "metadata": {
    "tags": []
   },
   "outputs": [
    {
     "name": "stdout",
     "output_type": "stream",
     "text": [
      "(7923,)\n",
      "(7923, 11)\n"
     ]
    }
   ],
   "source": [
    "print(data.patid.unique().shape)\n",
    "print(data.shape)"
   ]
  },
  {
   "cell_type": "code",
   "execution_count": 24,
   "id": "7692c189-e328-425c-a021-9f72212aafde",
   "metadata": {
    "tags": []
   },
   "outputs": [],
   "source": [
    "#SAVE all important materials\n",
    "pickle.dump(code2idx, open('../SeqModel/code2idx.sav', 'wb'))\n",
    "pickle.dump(idx2code, open('../SeqModel/idx2code.sav', 'wb'))\n",
    "pickle.dump(data, open('../SeqModel/data.sav', 'wb'))\n",
    "data.to_csv('../SeqModel/seqDataRaw.csv', index_label=False, index=False)"
   ]
  },
  {
   "cell_type": "code",
   "execution_count": null,
   "id": "deef7eb7-a783-46c4-909a-d0ef38c1bf5c",
   "metadata": {
    "tags": []
   },
   "outputs": [],
   "source": [
    "data.length_read_code_seq.hist(bins=50)"
   ]
  },
  {
   "cell_type": "code",
   "execution_count": null,
   "id": "0ebd515b-e9c0-41aa-8754-5d5691388d5c",
   "metadata": {
    "tags": []
   },
   "outputs": [],
   "source": [
    "data[data.length_read_code_seq > 300].shape"
   ]
  },
  {
   "cell_type": "code",
   "execution_count": null,
   "id": "9a3177b2-a484-47d9-a671-d0040640557c",
   "metadata": {
    "tags": []
   },
   "outputs": [],
   "source": [
    "# a = pickle.load(open('../SeqModel/data.sav', 'rb'))"
   ]
  },
  {
   "cell_type": "markdown",
   "id": "80626e8d-53fa-40d2-b494-a1733842df4c",
   "metadata": {},
   "source": [
    "# Medication"
   ]
  },
  {
   "cell_type": "code",
   "execution_count": null,
   "id": "9afc7650-bcfc-4a1f-b2f3-5074b0a582b7",
   "metadata": {
    "tags": []
   },
   "outputs": [],
   "source": [
    "#add paractice information\n",
    "therapy = pyreadr.read_r('../ServerData_13Oct2020/f_therapy_part1.Rdata')\n",
    "therapy = therapy['f_therapy_part']"
   ]
  },
  {
   "cell_type": "code",
   "execution_count": null,
   "id": "aa4e2197-1bb5-4308-b860-85a38a91d977",
   "metadata": {
    "tags": []
   },
   "outputs": [],
   "source": [
    "#data selection \n",
    "therapy = therapy.dropna(subset=['code_id'])\n",
    "therapy['event_date'] = pd.to_datetime(therapy['event_date'])\n",
    "therapy = therapy.loc[(therapy['event_date'] >= '2016-01-01') & (therapy['event_date'] < '2018-01-01')]"
   ]
  },
  {
   "cell_type": "code",
   "execution_count": null,
   "id": "cfa925e6-1a67-4d71-b07a-d26c170c8a43",
   "metadata": {
    "tags": []
   },
   "outputs": [],
   "source": [
    "therapy.code_id.unique().shape"
   ]
  },
  {
   "cell_type": "code",
   "execution_count": null,
   "id": "1ca7c589-2e97-4739-ba2f-ddf56dd96734",
   "metadata": {
    "tags": []
   },
   "outputs": [],
   "source": [
    "therapy.patid.unique().shape"
   ]
  },
  {
   "cell_type": "code",
   "execution_count": null,
   "id": "905aee14-b516-4b48-9edc-b0e70442e40d",
   "metadata": {
    "tags": []
   },
   "outputs": [],
   "source": [
    "#vocab and code2idx generation\n",
    "vocab_therapy = therapy.code_id.unique().tolist()\n",
    "idx_therapy = range(1, len(vocab_therapy)+1)\n",
    "\n",
    "code2idx_therapy = dict(zip(vocab_therapy, idx_therapy))\n",
    "idx2code_therapy = dict(zip(idx_therapy, vocab_therapy))\n",
    "\n",
    "code2idx_therapy['PAD'] = 0\n",
    "idx2code_therapy[0] = 'PAD'\n",
    "VOCAB_SIZE = len(code2idx_therapy)\n",
    "print('code2idx Size: {}'.format(len(code2idx_therapy)))\n",
    "print('idx2code Size: {}'.format(len(idx2code_therapy)))\n",
    "# print(code2idx)"
   ]
  },
  {
   "cell_type": "code",
   "execution_count": null,
   "id": "1def8e92-0710-49d5-954c-841e5b957d80",
   "metadata": {
    "tags": []
   },
   "outputs": [],
   "source": [
    "#extract year, month, day from event date\n",
    "therapy['day'] = therapy.apply(lambda x: str(x['event_date'].day), axis=1)\n",
    "therapy['month'] = therapy.apply(lambda x: str(x['event_date'].month), axis=1)\n",
    "therapy['year'] = therapy.apply(lambda x: str(x['event_date'].year), axis=1)"
   ]
  },
  {
   "cell_type": "code",
   "execution_count": null,
   "id": "869e7642-1db2-4a95-93cb-5afa4f0b772a",
   "metadata": {
    "tags": []
   },
   "outputs": [],
   "source": [
    "therapy['read_code_seq'] = therapy.sort_values(['event_date'], ascending=True).groupby('patid')['code_id'].transform(lambda x: ', '.join(x))\n",
    "event_data_seq_therapy = therapy.sort_values(['event_date']).groupby('patid').agg({'day': lambda x: x.tolist(),\n",
    "                                                          'month': lambda x: x.tolist(),\n",
    "                                                          'year': lambda x: x.tolist()}).reset_index()\n",
    "therapy = therapy.drop_duplicates(subset=['patid']).reset_index(drop=True)     "
   ]
  },
  {
   "cell_type": "code",
   "execution_count": null,
   "id": "84b4d418-6295-4633-9007-5faddc328c3a",
   "metadata": {
    "tags": []
   },
   "outputs": [],
   "source": [
    "therapy.patid.unique().shape"
   ]
  },
  {
   "cell_type": "code",
   "execution_count": null,
   "id": "96ff5ea5-561d-4509-b724-bd9b83bbb574",
   "metadata": {
    "tags": []
   },
   "outputs": [],
   "source": [
    "therapy.shape"
   ]
  },
  {
   "cell_type": "code",
   "execution_count": null,
   "id": "91047aaf-3720-4573-b270-6b050efdf655",
   "metadata": {
    "tags": []
   },
   "outputs": [],
   "source": [
    "event_data_seq_therapy.shape"
   ]
  },
  {
   "cell_type": "code",
   "execution_count": null,
   "id": "92266194-3944-4e0d-9641-0087b6909f19",
   "metadata": {
    "tags": []
   },
   "outputs": [],
   "source": [
    "data_therapy = therapy[['patid', 'read_code_seq']].merge(event_data_seq_therapy, how='left',  on='patid')\n",
    "data_therapy = data_therapy.merge(outcomes[['patid', 'outcome_combined_12months']], how='inner', on='patid')\n",
    "data_therapy.outcome_combined_12months.value_counts()"
   ]
  },
  {
   "cell_type": "code",
   "execution_count": null,
   "id": "298a11f7-9d00-4db4-a445-351c53661e01",
   "metadata": {
    "tags": []
   },
   "outputs": [],
   "source": [
    "data_therapy.patid.unique().shape"
   ]
  },
  {
   "cell_type": "code",
   "execution_count": null,
   "id": "df1ecdf4-8ef6-4a6d-bd2b-d7f09af01157",
   "metadata": {
    "tags": []
   },
   "outputs": [],
   "source": [
    "data_therapy.shape"
   ]
  },
  {
   "cell_type": "code",
   "execution_count": null,
   "id": "be9df318-a41e-428d-b7d0-c2fe0c47d0a8",
   "metadata": {
    "tags": []
   },
   "outputs": [],
   "source": [
    "data_therapy['read_code_seq'] = data_therapy['read_code_seq'].apply(lambda x: x.strip('\"\"').split(', '))\n",
    "data_therapy['length_read_code_seq'] = data_therapy['read_code_seq'].apply(lambda x: len(x))\n",
    "data_therapy = data_therapy[data_therapy.length_read_code_seq > 10]"
   ]
  },
  {
   "cell_type": "code",
   "execution_count": null,
   "id": "304e70ff-78b0-43e2-a072-707888385048",
   "metadata": {
    "tags": []
   },
   "outputs": [],
   "source": [
    "#padding at the beginning of the list\n",
    "max_seq = 500\n",
    "def make_uniform_data(x):\n",
    "    if len(x) < max_seq:\n",
    "        pads = ['PAD'] * (max_seq - len(x))\n",
    "        return pads + x\n",
    "    elif len(x) > max_seq:\n",
    "        x = x[len(x)-max_seq:]\n",
    "        return x\n",
    "    else:\n",
    "        return x"
   ]
  },
  {
   "cell_type": "code",
   "execution_count": null,
   "id": "29b433a4-e3a6-4894-bf34-1a6e1ca22aa7",
   "metadata": {
    "tags": []
   },
   "outputs": [],
   "source": [
    "data_therapy['read_code_seq_padded'] = data_therapy['read_code_seq'].apply(lambda x: make_uniform_data(x))\n",
    "data_therapy['read_code_seq_padded_idx'] = data_therapy['read_code_seq_padded'].apply(lambda x: [code2idx_therapy.get(key) for key in x])"
   ]
  },
  {
   "cell_type": "code",
   "execution_count": null,
   "id": "03487110-af63-4746-b7b5-1cc4cfd7fd4a",
   "metadata": {
    "tags": []
   },
   "outputs": [],
   "source": [
    "data_therapy = data_therapy.merge(patient[['patid', 'Country', 'age']], how='left', on='patid')"
   ]
  },
  {
   "cell_type": "code",
   "execution_count": null,
   "id": "175b4673-e57c-43f7-8152-7c6a00832748",
   "metadata": {
    "tags": []
   },
   "outputs": [],
   "source": [
    "print(data_therapy.patid.unique().shape)\n",
    "print(data_therapy.shape)"
   ]
  },
  {
   "cell_type": "code",
   "execution_count": null,
   "id": "fdca844d-ada4-4eb3-9e78-9fb970500169",
   "metadata": {
    "tags": []
   },
   "outputs": [],
   "source": [
    "#SAVE all important materials\n",
    "pickle.dump(code2idx_therapy, open('../SeqModel/code2idx_therapy.sav', 'wb'))\n",
    "pickle.dump(idx2code_therapy, open('../SeqModel/idx2code_therapy.sav', 'wb'))\n",
    "pickle.dump(data_therapy, open('../SeqModel/data_therapy.sav', 'wb'))\n",
    "data_therapy.to_csv('../SeqModel/seqData_therapyRaw.csv', index_label=False, index=False)"
   ]
  },
  {
   "cell_type": "code",
   "execution_count": null,
   "id": "6757b0bd-4e43-483c-ba8d-18f322ab4056",
   "metadata": {
    "tags": []
   },
   "outputs": [],
   "source": [
    "data_therapy.length_read_code_seq.hist()"
   ]
  }
 ],
 "metadata": {
  "kernelspec": {
   "display_name": "Python 3 (ipykernel)",
   "language": "python",
   "name": "python3"
  },
  "language_info": {
   "codemirror_mode": {
    "name": "ipython",
    "version": 3
   },
   "file_extension": ".py",
   "mimetype": "text/x-python",
   "name": "python",
   "nbconvert_exporter": "python",
   "pygments_lexer": "ipython3",
   "version": "3.10.11"
  }
 },
 "nbformat": 4,
 "nbformat_minor": 5
}
