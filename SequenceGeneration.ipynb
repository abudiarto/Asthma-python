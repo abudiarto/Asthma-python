{
 "cells": [
  {
   "cell_type": "markdown",
   "id": "4ab24288-971e-4578-9845-6b28254354d2",
   "metadata": {
    "tags": []
   },
   "source": [
    "# Sequence data preprocessing"
   ]
  },
  {
   "cell_type": "code",
   "execution_count": 1,
   "id": "a657b3a1-dc2c-455d-954c-3fca2ac33cdf",
   "metadata": {
    "tags": []
   },
   "outputs": [],
   "source": [
    "import pandas as pd\n",
    "import pyreadr\n",
    "import numpy as np\n",
    "import torch\n",
    "import pickle\n",
    "from os import listdir\n",
    "from os.path import isfile, join"
   ]
  },
  {
   "cell_type": "code",
   "execution_count": 2,
   "id": "64c01226-5ead-4c97-a2d8-ea13efb71179",
   "metadata": {
    "tags": []
   },
   "outputs": [
    {
     "name": "stderr",
     "output_type": "stream",
     "text": [
      "/opt/conda/envs/rapids/lib/python3.10/site-packages/pyreadr/_pyreadr_parser.py:233: RuntimeWarning: invalid value encountered in cast\n",
      "  df[colname] = df[colname].values.astype(\"datetime64[D]\").astype(datetime)\n",
      "/opt/conda/envs/rapids/lib/python3.10/site-packages/pandas/core/tools/datetimes.py:557: RuntimeWarning: invalid value encountered in cast\n",
      "  arr, tz_parsed = tslib.array_with_unit_to_datetime(arg, unit, errors=errors)\n",
      "/opt/conda/envs/rapids/lib/python3.10/site-packages/pandas/core/tools/datetimes.py:557: RuntimeWarning: invalid value encountered in multiply\n",
      "  arr, tz_parsed = tslib.array_with_unit_to_datetime(arg, unit, errors=errors)\n",
      "/opt/conda/envs/rapids/lib/python3.10/site-packages/pyreadr/_pyreadr_parser.py:233: RuntimeWarning: invalid value encountered in cast\n",
      "  df[colname] = df[colname].values.astype(\"datetime64[D]\").astype(datetime)\n",
      "/opt/conda/envs/rapids/lib/python3.10/site-packages/pyreadr/_pyreadr_parser.py:233: RuntimeWarning: invalid value encountered in cast\n",
      "  df[colname] = df[colname].values.astype(\"datetime64[D]\").astype(datetime)\n"
     ]
    }
   ],
   "source": [
    "patient = pyreadr.read_r('../ServerData_13Oct2020/d_patient_overall.Rdata')\n",
    "practice = pyreadr.read_r('../ServerData_13Oct2020/d_practice.Rdata')"
   ]
  },
  {
   "cell_type": "code",
   "execution_count": 3,
   "id": "9b90b10e-aa0f-44c5-8bca-46eacea99898",
   "metadata": {
    "tags": []
   },
   "outputs": [],
   "source": [
    "patient = patient['d_patient_overall']\n",
    "practice = practice['d_practice']\n",
    "\n",
    "#Age in 2016-01-01\n",
    "patient['age'] = patient.year_of_birth.apply(lambda x: 2016-x)"
   ]
  },
  {
   "cell_type": "code",
   "execution_count": 4,
   "id": "5f9ea418-1f37-4db5-86d7-706d8a9493ae",
   "metadata": {
    "tags": []
   },
   "outputs": [],
   "source": [
    "patient = patient[['patid', 'practice_id', 'age']].merge(practice[['practice_id', 'Country']], how='left', on='practice_id')"
   ]
  },
  {
   "cell_type": "code",
   "execution_count": 5,
   "id": "e1a9136b-ca80-4d0b-80b0-35f9cbd304ab",
   "metadata": {
    "tags": []
   },
   "outputs": [],
   "source": [
    "# Outcomes data\n",
    "outcomes = pd.read_csv(\"../FinalData/cleaned_outcomes_11072023.csv\")"
   ]
  },
  {
   "cell_type": "markdown",
   "id": "473a584d-ebf8-419d-9fe0-31ee057e7bef",
   "metadata": {},
   "source": [
    "# Clinical"
   ]
  },
  {
   "cell_type": "code",
   "execution_count": null,
   "id": "20ac4658-b423-4955-ae0e-15c9eb2999fd",
   "metadata": {
    "tags": []
   },
   "outputs": [],
   "source": [
    "#load clinical information\n",
    "path = '../ServerData_13Oct2020/'\n",
    "clinical_files = [join(path, f) for f in listdir(path) if (isfile(join(path, f))) & ('f_clinical_part' in f)]\n",
    "clinical = pyreadr.read_r('../ServerData_13Oct2020/f_clinical_part1.Rdata')\n",
    "clinical = clinical['f_clinical_part']\n",
    "for file in clinical_files[1:3]:\n",
    "    temp = pyreadr.read_r(file)\n",
    "    temp = temp['f_clinical_part']\n",
    "    print(temp.shape)\n",
    "    clinical = pd.concat([clinical, temp])\n",
    "    clinical.reset_index(drop=True, inplace=True)"
   ]
  },
  {
   "cell_type": "code",
   "execution_count": null,
   "id": "8cc5da28-89ff-4bd5-9aeb-0af4cc575795",
   "metadata": {
    "tags": []
   },
   "outputs": [],
   "source": [
    "clinical.shape"
   ]
  },
  {
   "cell_type": "code",
   "execution_count": null,
   "id": "6099505f-cb42-4924-a23c-2705135c1afa",
   "metadata": {
    "tags": []
   },
   "outputs": [],
   "source": [
    "#data selection \n",
    "clinical = clinical.dropna(subset=['code_id'])\n",
    "clinical['event_date'] = pd.to_datetime(clinical['event_date'])\n",
    "clinical = clinical.loc[(clinical['event_date'] >= '2016-01-01') & (clinical['event_date'] < '2017-01-01')]"
   ]
  },
  {
   "cell_type": "code",
   "execution_count": null,
   "id": "76a74a00-2108-41e4-9498-cf06ba4786e8",
   "metadata": {
    "tags": []
   },
   "outputs": [],
   "source": [
    "print(clinical.patid.unique().shape)\n",
    "print(clinical.shape)"
   ]
  },
  {
   "cell_type": "code",
   "execution_count": null,
   "id": "de518074-2d36-4d0f-9e70-e8a938bf2723",
   "metadata": {
    "tags": []
   },
   "outputs": [],
   "source": [
    "#vocab and code2idx generation\n",
    "vocab = clinical.code_id.unique().tolist()\n",
    "idx = range(1, len(vocab)+1)\n",
    "\n",
    "code2idx = dict(zip(vocab, idx))\n",
    "idx2code = dict(zip(idx, vocab))\n",
    "\n",
    "code2idx['PAD'] = 0\n",
    "idx2code[0] = 'PAD'\n",
    "VOCAB_SIZE = len(code2idx)\n",
    "print('code2idx Size: {}'.format(len(code2idx)))\n",
    "print('idx2code Size: {}'.format(len(idx2code)))"
   ]
  },
  {
   "cell_type": "code",
   "execution_count": null,
   "id": "c0dd4305-7942-45e4-bc1a-d0586ea1a415",
   "metadata": {
    "tags": []
   },
   "outputs": [],
   "source": [
    "#extract year, month, day from event date\n",
    "clinical['day'] = clinical.apply(lambda x: str(x['event_date'].day), axis=1)\n",
    "clinical['month'] = clinical.apply(lambda x: str(x['event_date'].month), axis=1)\n",
    "clinical['year'] = clinical.apply(lambda x: str(x['event_date'].year), axis=1)"
   ]
  },
  {
   "cell_type": "code",
   "execution_count": null,
   "id": "f81e3634-77a6-40cc-89c3-ea7c91fda6ce",
   "metadata": {
    "tags": []
   },
   "outputs": [],
   "source": [
    "print(clinical.patid.unique().shape)\n",
    "print(clinical.shape)"
   ]
  },
  {
   "cell_type": "code",
   "execution_count": null,
   "id": "77186f16-1d90-4e93-8fe9-9b5446e50270",
   "metadata": {
    "tags": []
   },
   "outputs": [],
   "source": [
    "clinical.reset_index(drop=True, inplace=True)\n",
    "clinical['read_code_seq'] = clinical.sort_values(['event_date'], ascending=True).groupby('patid')['code_id'].transform(lambda x: ', '.join(x))\n",
    "event_data_seq = clinical.sort_values(['event_date']).groupby('patid').agg({'day': lambda x: x.tolist(),\n",
    "                                                          'month': lambda x: x.tolist(),\n",
    "                                                          'year': lambda x: x.tolist()}).reset_index()\n",
    "clinical = clinical.drop_duplicates(subset=['patid']).reset_index(drop=True)     "
   ]
  },
  {
   "cell_type": "code",
   "execution_count": null,
   "id": "0511385e-9ac7-4a10-bc20-7f48d303e99c",
   "metadata": {
    "tags": []
   },
   "outputs": [],
   "source": [
    "print(clinical.patid.unique().shape)\n",
    "print(clinical.shape)"
   ]
  },
  {
   "cell_type": "code",
   "execution_count": null,
   "id": "80a6c10e-234d-43a4-ad4d-d1df481a9c56",
   "metadata": {
    "tags": []
   },
   "outputs": [],
   "source": [
    "data = clinical[['patid', 'read_code_seq']].merge(event_data_seq, how='left', on='patid')\n",
    "data = data.merge(outcomes[['patid', 'outcome_3months','outcome_combined_6months','outcome_combined_12months',\n",
    "                           'outcome_combined_24months']], how='inner', on='patid')\n",
    "data.outcome_combined_12months.value_counts()"
   ]
  },
  {
   "cell_type": "code",
   "execution_count": null,
   "id": "40b26ad4-cdeb-48fc-9779-d78b76010b1f",
   "metadata": {
    "tags": []
   },
   "outputs": [],
   "source": [
    "print(data.patid.unique().shape)\n",
    "print(data.shape)"
   ]
  },
  {
   "cell_type": "code",
   "execution_count": null,
   "id": "89d1523d-1127-4d50-b0da-dc5bcc85c691",
   "metadata": {
    "tags": []
   },
   "outputs": [],
   "source": [
    "data['read_code_seq'] = data['read_code_seq'].apply(lambda x: x.strip('\"\"').split(', '))\n",
    "data['length_read_code_seq'] = data['read_code_seq'].apply(lambda x: len(x))\n",
    "data = data[data.length_read_code_seq > 10]"
   ]
  },
  {
   "cell_type": "code",
   "execution_count": null,
   "id": "4ac77cae-6483-408e-bd4f-521a9958eb15",
   "metadata": {
    "tags": []
   },
   "outputs": [],
   "source": [
    "data_therapy[data_therapy.length_read_code_seq>50].shape"
   ]
  },
  {
   "cell_type": "code",
   "execution_count": null,
   "id": "a1825df4-22b7-4684-9874-d22bda64ef80",
   "metadata": {
    "tags": []
   },
   "outputs": [],
   "source": [
    "print(data.patid.unique().shape)\n",
    "print(data.shape)"
   ]
  },
  {
   "cell_type": "code",
   "execution_count": null,
   "id": "db0e4090-e437-446a-a2e1-1216886b30c3",
   "metadata": {
    "tags": []
   },
   "outputs": [],
   "source": [
    "#padding at the beginning of the list\n",
    "max_seq = 500\n",
    "def make_uniform_data(x):\n",
    "    if len(x) < max_seq:\n",
    "        pads = ['PAD'] * (max_seq - len(x))\n",
    "        return pads + x\n",
    "    elif len(x) > max_seq:\n",
    "        x = x[len(x)-max_seq:]\n",
    "        return x\n",
    "    else:\n",
    "        return x"
   ]
  },
  {
   "cell_type": "code",
   "execution_count": null,
   "id": "1e69e460-2953-485b-b4c8-5ac980603a58",
   "metadata": {
    "tags": []
   },
   "outputs": [],
   "source": [
    "data['read_code_seq_padded'] = data['read_code_seq'].apply(lambda x: make_uniform_data(x))\n",
    "data['read_code_seq_padded_idx'] = data['read_code_seq_padded'].apply(lambda x: [code2idx.get(key) for key in x])\n",
    "data = data.merge(patient[['patid', 'Country', 'age']], how='left', on='patid')\n",
    "data = data.drop_duplicates(subset=['patid']).reset_index(drop=True)     "
   ]
  },
  {
   "cell_type": "code",
   "execution_count": null,
   "id": "6521b1e5-19b7-4443-9610-8079b5ef8cbe",
   "metadata": {
    "tags": []
   },
   "outputs": [],
   "source": [
    "print(data.patid.unique().shape)\n",
    "print(data.shape)"
   ]
  },
  {
   "cell_type": "code",
   "execution_count": null,
   "id": "7692c189-e328-425c-a021-9f72212aafde",
   "metadata": {
    "tags": []
   },
   "outputs": [],
   "source": [
    "#SAVE all important materials\n",
    "pickle.dump(code2idx, open('../SeqModel/code2idx.sav', 'wb'))\n",
    "pickle.dump(idx2code, open('../SeqModel/idx2code.sav', 'wb'))\n",
    "pickle.dump(data, open('../SeqModel/data.sav', 'wb'))\n",
    "data.to_csv('../SeqModel/seqDataRaw.csv', index_label=False, index=False)"
   ]
  },
  {
   "cell_type": "code",
   "execution_count": null,
   "id": "deef7eb7-a783-46c4-909a-d0ef38c1bf5c",
   "metadata": {
    "tags": []
   },
   "outputs": [],
   "source": [
    "data.length_read_code_seq.hist(bins=50)"
   ]
  },
  {
   "cell_type": "code",
   "execution_count": null,
   "id": "0ebd515b-e9c0-41aa-8754-5d5691388d5c",
   "metadata": {
    "tags": []
   },
   "outputs": [],
   "source": [
    "data[data.length_read_code_seq > 300].shape"
   ]
  },
  {
   "cell_type": "code",
   "execution_count": null,
   "id": "9a3177b2-a484-47d9-a671-d0040640557c",
   "metadata": {
    "tags": []
   },
   "outputs": [],
   "source": [
    "# a = pickle.load(open('../SeqModel/data.sav', 'rb'))"
   ]
  },
  {
   "cell_type": "markdown",
   "id": "80626e8d-53fa-40d2-b494-a1733842df4c",
   "metadata": {},
   "source": [
    "# Medication"
   ]
  },
  {
   "cell_type": "code",
   "execution_count": null,
   "id": "9afc7650-bcfc-4a1f-b2f3-5074b0a582b7",
   "metadata": {
    "tags": []
   },
   "outputs": [],
   "source": [
    "#add paractice information\n",
    "\n",
    "#load clinical information\n",
    "path = '../ServerData_13Oct2020/'\n",
    "therapy_files = [join(path, f) for f in listdir(path) if (isfile(join(path, f))) & ('f_therapy_part' in f)]\n",
    "therapy = pyreadr.read_r('../ServerData_13Oct2020/f_therapy_part1.Rdata')\n",
    "therapy = therapy['f_therapy_part']\n",
    "for file in therapy_files[1:3]:\n",
    "    temp = pyreadr.read_r(file)\n",
    "    temp = temp['f_therapy_part']\n",
    "    print(temp.shape)\n",
    "    therapy = pd.concat([therapy, temp])\n",
    "    therapy.reset_index(drop=True, inplace=True)"
   ]
  },
  {
   "cell_type": "code",
   "execution_count": null,
   "id": "aa4e2197-1bb5-4308-b860-85a38a91d977",
   "metadata": {
    "tags": []
   },
   "outputs": [],
   "source": [
    "#data selection \n",
    "therapy = therapy.dropna(subset=['code_id'])\n",
    "therapy['event_date'] = pd.to_datetime(therapy['event_date'])\n",
    "therapy = therapy.loc[(therapy['event_date'] >= '2016-01-01') & (therapy['event_date'] < '2017-01-01')]"
   ]
  },
  {
   "cell_type": "code",
   "execution_count": null,
   "id": "1ca7c589-2e97-4739-ba2f-ddf56dd96734",
   "metadata": {
    "tags": []
   },
   "outputs": [],
   "source": [
    "therapy.patid.unique().shape"
   ]
  },
  {
   "cell_type": "code",
   "execution_count": null,
   "id": "ef3c8280-4a9f-4876-9b91-d56c596e416e",
   "metadata": {
    "tags": []
   },
   "outputs": [],
   "source": [
    "therapy.shape"
   ]
  },
  {
   "cell_type": "code",
   "execution_count": null,
   "id": "905aee14-b516-4b48-9edc-b0e70442e40d",
   "metadata": {
    "tags": []
   },
   "outputs": [],
   "source": [
    "#vocab and code2idx generation\n",
    "vocab_therapy = therapy.code_id.unique().tolist()\n",
    "idx_therapy = range(1, len(vocab_therapy)+1)\n",
    "\n",
    "code2idx_therapy = dict(zip(vocab_therapy, idx_therapy))\n",
    "idx2code_therapy = dict(zip(idx_therapy, vocab_therapy))\n",
    "\n",
    "code2idx_therapy['PAD'] = 0\n",
    "idx2code_therapy[0] = 'PAD'\n",
    "VOCAB_SIZE = len(code2idx_therapy)\n",
    "print('code2idx Size: {}'.format(len(code2idx_therapy)))\n",
    "print('idx2code Size: {}'.format(len(idx2code_therapy)))\n",
    "# print(code2idx)"
   ]
  },
  {
   "cell_type": "code",
   "execution_count": null,
   "id": "1def8e92-0710-49d5-954c-841e5b957d80",
   "metadata": {
    "tags": []
   },
   "outputs": [],
   "source": [
    "#extract year, month, day from event date\n",
    "therapy['day'] = therapy.apply(lambda x: str(x['event_date'].day), axis=1)\n",
    "therapy['month'] = therapy.apply(lambda x: str(x['event_date'].month), axis=1)\n",
    "therapy['year'] = therapy.apply(lambda x: str(x['event_date'].year), axis=1)"
   ]
  },
  {
   "cell_type": "code",
   "execution_count": null,
   "id": "869e7642-1db2-4a95-93cb-5afa4f0b772a",
   "metadata": {
    "tags": []
   },
   "outputs": [],
   "source": [
    "therapy['read_code_seq'] = therapy.sort_values(['event_date'], ascending=True).groupby('patid')['code_id'].transform(lambda x: ', '.join(x))\n",
    "event_data_seq_therapy = therapy.sort_values(['event_date']).groupby('patid').agg({'day': lambda x: x.tolist(),\n",
    "                                                          'month': lambda x: x.tolist(),\n",
    "                                                          'year': lambda x: x.tolist()}).reset_index()\n",
    "therapy = therapy.drop_duplicates(subset=['patid']).reset_index(drop=True)     "
   ]
  },
  {
   "cell_type": "code",
   "execution_count": null,
   "id": "84b4d418-6295-4633-9007-5faddc328c3a",
   "metadata": {
    "tags": []
   },
   "outputs": [],
   "source": [
    "therapy.patid.unique().shape"
   ]
  },
  {
   "cell_type": "code",
   "execution_count": null,
   "id": "96ff5ea5-561d-4509-b724-bd9b83bbb574",
   "metadata": {
    "tags": []
   },
   "outputs": [],
   "source": [
    "therapy.shape"
   ]
  },
  {
   "cell_type": "code",
   "execution_count": null,
   "id": "92266194-3944-4e0d-9641-0087b6909f19",
   "metadata": {
    "tags": []
   },
   "outputs": [],
   "source": [
    "data_therapy = therapy[['patid', 'read_code_seq']].merge(event_data_seq_therapy, how='left',  on='patid')\n",
    "data_therapy = data_therapy.merge(outcomes[['patid', 'outcome_3months','outcome_combined_6months','outcome_combined_12months',\n",
    "                           'outcome_combined_24months']], how='inner', on='patid')\n",
    "data_therapy.outcome_combined_12months.value_counts()"
   ]
  },
  {
   "cell_type": "code",
   "execution_count": null,
   "id": "298a11f7-9d00-4db4-a445-351c53661e01",
   "metadata": {
    "tags": []
   },
   "outputs": [],
   "source": [
    "data_therapy.patid.unique().shape"
   ]
  },
  {
   "cell_type": "code",
   "execution_count": null,
   "id": "df1ecdf4-8ef6-4a6d-bd2b-d7f09af01157",
   "metadata": {
    "tags": []
   },
   "outputs": [],
   "source": [
    "data_therapy.shape"
   ]
  },
  {
   "cell_type": "code",
   "execution_count": null,
   "id": "be9df318-a41e-428d-b7d0-c2fe0c47d0a8",
   "metadata": {
    "tags": []
   },
   "outputs": [],
   "source": [
    "data_therapy['read_code_seq'] = data_therapy['read_code_seq'].apply(lambda x: x.strip('\"\"').split(', '))\n",
    "data_therapy['length_read_code_seq'] = data_therapy['read_code_seq'].apply(lambda x: len(x))\n",
    "data_therapy = data_therapy[data_therapy.length_read_code_seq > 10]"
   ]
  },
  {
   "cell_type": "code",
   "execution_count": null,
   "id": "304e70ff-78b0-43e2-a072-707888385048",
   "metadata": {
    "tags": []
   },
   "outputs": [],
   "source": [
    "#padding at the beginning of the list\n",
    "max_seq = 50\n",
    "def make_uniform_data(x):\n",
    "    if len(x) < max_seq:\n",
    "        pads = ['PAD'] * (max_seq - len(x))\n",
    "        return pads + x\n",
    "    elif len(x) > max_seq:\n",
    "        x = x[len(x)-max_seq:]\n",
    "        return x\n",
    "    else:\n",
    "        return x"
   ]
  },
  {
   "cell_type": "code",
   "execution_count": null,
   "id": "29b433a4-e3a6-4894-bf34-1a6e1ca22aa7",
   "metadata": {
    "tags": []
   },
   "outputs": [],
   "source": [
    "data_therapy['read_code_seq_padded'] = data_therapy['read_code_seq'].apply(lambda x: make_uniform_data(x))\n",
    "data_therapy['read_code_seq_padded_idx'] = data_therapy['read_code_seq_padded'].apply(lambda x: [code2idx_therapy.get(key) for key in x])\n",
    "data_therapy = data_therapy.merge(patient[['patid', 'Country', 'age']], how='left', on='patid')\n",
    "data_therapy = data_therapy.drop_duplicates(subset=['patid']).reset_index(drop=True)     "
   ]
  },
  {
   "cell_type": "code",
   "execution_count": null,
   "id": "175b4673-e57c-43f7-8152-7c6a00832748",
   "metadata": {
    "tags": []
   },
   "outputs": [],
   "source": [
    "print(data_therapy.patid.unique().shape)\n",
    "print(data_therapy.shape)"
   ]
  },
  {
   "cell_type": "code",
   "execution_count": null,
   "id": "fdca844d-ada4-4eb3-9e78-9fb970500169",
   "metadata": {
    "tags": []
   },
   "outputs": [],
   "source": [
    "#SAVE all important materials\n",
    "pickle.dump(code2idx_therapy, open('../SeqModel/code2idx_therapy.sav', 'wb'))\n",
    "pickle.dump(idx2code_therapy, open('../SeqModel/idx2code_therapy.sav', 'wb'))\n",
    "pickle.dump(data_therapy, open('../SeqModel/data_therapy.sav', 'wb'))\n",
    "data_therapy.to_csv('../SeqModel/seqData_therapyRaw.csv', index_label=False, index=False)"
   ]
  },
  {
   "cell_type": "code",
   "execution_count": null,
   "id": "6757b0bd-4e43-483c-ba8d-18f322ab4056",
   "metadata": {
    "tags": []
   },
   "outputs": [],
   "source": [
    "data_therapy.length_read_code_seq.hist()"
   ]
  },
  {
   "cell_type": "code",
   "execution_count": null,
   "id": "27980112-4df1-4b2a-bbf0-52b914aa8f09",
   "metadata": {
    "tags": []
   },
   "outputs": [],
   "source": [
    "data_therapy[data_therapy.length_read_code_seq<50].shape"
   ]
  },
  {
   "cell_type": "code",
   "execution_count": null,
   "id": "ef86cf0d-adc4-4e5d-809d-809da990a0b6",
   "metadata": {
    "tags": []
   },
   "outputs": [],
   "source": [
    "data_therapy.shape"
   ]
  },
  {
   "cell_type": "markdown",
   "id": "ec194629-9e2e-4ce8-9864-dd88d46642db",
   "metadata": {},
   "source": [
    "# Combine clinical + therapy"
   ]
  },
  {
   "cell_type": "code",
   "execution_count": null,
   "id": "a72ffba2-6ff3-4ebf-ba18-ece347b173b4",
   "metadata": {
    "tags": []
   },
   "outputs": [],
   "source": [
    "#load clinical information\n",
    "path = '../ServerData_13Oct2020/'\n",
    "clinical_files = [join(path, f) for f in listdir(path) if (isfile(join(path, f))) & ('f_clinical_part' in f)]\n",
    "clinical = pyreadr.read_r('../ServerData_13Oct2020/f_clinical_part1.Rdata')\n",
    "clinical = clinical['f_clinical_part']\n",
    "for file in clinical_files[1:3]:\n",
    "    temp = pyreadr.read_r(file)\n",
    "    temp = temp['f_clinical_part']\n",
    "    print(temp.shape)\n",
    "    clinical = pd.concat([clinical, temp])\n",
    "    clinical.reset_index(drop=True, inplace=True)\n",
    "    \n",
    "#data selection \n",
    "clinical = clinical.dropna(subset=['code_id'])\n",
    "clinical['event_date'] = pd.to_datetime(clinical['event_date'])\n",
    "clinical = clinical.loc[(clinical['event_date'] >= '2016-01-01') & (clinical['event_date'] < '2017-01-01')]"
   ]
  },
  {
   "cell_type": "code",
   "execution_count": null,
   "id": "bdd6ed64-8e51-43f5-b5c3-fb3c60d60697",
   "metadata": {
    "tags": []
   },
   "outputs": [],
   "source": [
    "#add paractice information\n",
    "\n",
    "#load clinical information\n",
    "path = '../ServerData_13Oct2020/'\n",
    "therapy_files = [join(path, f) for f in listdir(path) if (isfile(join(path, f))) & ('f_therapy_part' in f)]\n",
    "therapy = pyreadr.read_r('../ServerData_13Oct2020/f_therapy_part1.Rdata')\n",
    "therapy = therapy['f_therapy_part']\n",
    "for file in therapy_files[1:3]:\n",
    "    temp = pyreadr.read_r(file)\n",
    "    temp = temp['f_therapy_part']\n",
    "    print(temp.shape)\n",
    "    therapy = pd.concat([therapy, temp])\n",
    "    therapy.reset_index(drop=True, inplace=True)\n",
    "    \n",
    "#data selection \n",
    "therapy = therapy.dropna(subset=['code_id'])\n",
    "therapy['event_date'] = pd.to_datetime(therapy['event_date'])\n",
    "therapy = therapy.loc[(therapy['event_date'] >= '2016-01-01') & (therapy['event_date'] < '2017-01-01')]"
   ]
  },
  {
   "cell_type": "code",
   "execution_count": null,
   "id": "e0efef39-45ad-4f0d-a9c8-e20c1863d1aa",
   "metadata": {
    "tags": []
   },
   "outputs": [],
   "source": [
    "all_raw_data = pd.concat([clinical[['patid', 'event_date', 'code_id']],\n",
    "           therapy[['patid', 'event_date', 'code_id']]])\n",
    "all_raw_data.reset_index(drop=True, inplace=True)"
   ]
  },
  {
   "cell_type": "code",
   "execution_count": null,
   "id": "d84a246c-6aa1-48a9-bfef-13e78acee79e",
   "metadata": {
    "tags": []
   },
   "outputs": [],
   "source": [
    "#vocab and code2idx generation\n",
    "vocab_all = all_raw_data.code_id.unique().tolist()\n",
    "idx_all = range(1, len(vocab_all)+1)\n",
    "\n",
    "code2idx_all = dict(zip(vocab_all, idx_all))\n",
    "idx2code_all = dict(zip(idx_all, vocab_all))\n",
    "\n",
    "code2idx_all['PAD'] = 0\n",
    "idx2code_all[0] = 'PAD'\n",
    "VOCAB_SIZE= len(code2idx_all)\n",
    "print('code2idx Size: {}'.format(len(code2idx_all)))\n",
    "print('idx2code Size: {}'.format(len(idx2code_all)))\n",
    "# print(code2idx)"
   ]
  },
  {
   "cell_type": "code",
   "execution_count": null,
   "id": "0645c20c-41ee-41c4-a7a6-d6ead87c6ca5",
   "metadata": {
    "tags": []
   },
   "outputs": [],
   "source": [
    "#extract year, month, day from event date\n",
    "all_raw_data['day'] = all_raw_data.apply(lambda x: str(x['event_date'].day), axis=1)\n",
    "all_raw_data['month'] = all_raw_data.apply(lambda x: str(x['event_date'].month), axis=1)\n",
    "all_raw_data['year'] = all_raw_data.apply(lambda x: str(x['event_date'].year), axis=1)"
   ]
  },
  {
   "cell_type": "code",
   "execution_count": null,
   "id": "48a01fc2-b4bc-4256-800c-f4943f56b95e",
   "metadata": {
    "tags": []
   },
   "outputs": [],
   "source": [
    "all_raw_data['read_code_seq'] = all_raw_data.sort_values(['event_date'], ascending=True).groupby('patid')['code_id'].transform(lambda x: ', '.join(x))\n",
    "event_data_seq_all = all_raw_data.sort_values(['event_date']).groupby('patid').agg({'day': lambda x: x.tolist(),\n",
    "                                                          'month': lambda x: x.tolist(),\n",
    "                                                          'year': lambda x: x.tolist()}).reset_index()\n",
    "all_raw_data = all_raw_data.drop_duplicates(subset=['patid']).reset_index(drop=True)     "
   ]
  },
  {
   "cell_type": "code",
   "execution_count": null,
   "id": "bc37ef88-4b26-43ea-8700-fb8be59604fc",
   "metadata": {
    "tags": []
   },
   "outputs": [],
   "source": [
    "data_all = all_raw_data[['patid', 'read_code_seq']].merge(event_data_seq_all, how='left',  on='patid')\n",
    "data_all = data_all.merge(outcomes[['patid', 'outcome_3months','outcome_combined_6months','outcome_combined_12months',\n",
    "                           'outcome_combined_24months']], how='inner', on='patid')\n",
    "data_all.outcome_combined_12months.value_counts()"
   ]
  },
  {
   "cell_type": "code",
   "execution_count": null,
   "id": "e9cb26c8-efe8-494e-8919-8d7d1b9d4e17",
   "metadata": {
    "tags": []
   },
   "outputs": [],
   "source": [
    "print(data_all.shape)\n",
    "print(data_all.patid.unique().shape)"
   ]
  },
  {
   "cell_type": "code",
   "execution_count": null,
   "id": "ebabba83-7cf1-4aa1-a2af-0ea91282940d",
   "metadata": {
    "tags": []
   },
   "outputs": [],
   "source": [
    "data_all['read_code_seq'] = data_all['read_code_seq'].apply(lambda x: x.strip('\"\"').split(', '))\n",
    "data_all['length_read_code_seq'] = data_all['read_code_seq'].apply(lambda x: len(x))\n",
    "data_all = data_all[data_all.length_read_code_seq > 10]"
   ]
  },
  {
   "cell_type": "code",
   "execution_count": null,
   "id": "201d1947-4a20-4d01-aac6-71604e4a3623",
   "metadata": {
    "tags": []
   },
   "outputs": [],
   "source": [
    "data_all[data_all.length_read_code_seq>200].shape"
   ]
  },
  {
   "cell_type": "code",
   "execution_count": null,
   "id": "8886003a-3211-4bda-81b5-a6eeba3e944b",
   "metadata": {
    "tags": []
   },
   "outputs": [],
   "source": [
    "data_all.shape"
   ]
  },
  {
   "cell_type": "code",
   "execution_count": null,
   "id": "667b2875-30d8-4157-b6cd-30a1e0548fa9",
   "metadata": {
    "tags": []
   },
   "outputs": [],
   "source": [
    "#padding at the beginning of the list\n",
    "max_seq = 150\n",
    "def make_uniform_data(x):\n",
    "    if len(x) < max_seq:\n",
    "        pads = ['PAD'] * (max_seq - len(x))\n",
    "        return pads + x\n",
    "    elif len(x) > max_seq:\n",
    "        x = x[len(x)-max_seq:]\n",
    "        return x\n",
    "    else:\n",
    "        return x"
   ]
  },
  {
   "cell_type": "code",
   "execution_count": null,
   "id": "db23d4a9-6682-4ab6-98c7-9d44dbf50555",
   "metadata": {
    "tags": []
   },
   "outputs": [],
   "source": [
    "data_all['read_code_seq_padded'] = data_all['read_code_seq'].apply(lambda x: make_uniform_data(x))\n",
    "data_all['read_code_seq_padded_idx'] = data_all['read_code_seq_padded'].apply(lambda x: [code2idx_all.get(key) for key in x])\n",
    "data_all = data_all.merge(patient[['patid', 'Country', 'age']], how='left', on='patid')\n",
    "data_all = data_all.drop_duplicates(subset=['patid']).reset_index(drop=True)     "
   ]
  },
  {
   "cell_type": "code",
   "execution_count": null,
   "id": "482ef5f4-7561-4128-8c31-2bff92845a6f",
   "metadata": {
    "tags": []
   },
   "outputs": [],
   "source": [
    "print(data_all.shape)\n",
    "print(data_all.patid.unique().shape)"
   ]
  },
  {
   "cell_type": "code",
   "execution_count": null,
   "id": "6cbebfbb-71c5-4bbf-9bd0-3e145888fba3",
   "metadata": {
    "tags": []
   },
   "outputs": [],
   "source": [
    "#SAVE all important materials\n",
    "pickle.dump(code2idx_all, open('../SeqModel/code2idx_all.sav', 'wb'))\n",
    "pickle.dump(idx2code_all, open('../SeqModel/idx2code_all.sav', 'wb'))\n",
    "pickle.dump(data_all, open('../SeqModel/data_all.sav', 'wb'))\n",
    "data_all.to_csv('../SeqModel/seqData_all.csv', index_label=False, index=False)"
   ]
  },
  {
   "cell_type": "code",
   "execution_count": null,
   "id": "5d532bc6-2565-4446-9a83-c816bd79dac3",
   "metadata": {},
   "outputs": [],
   "source": []
  },
  {
   "cell_type": "markdown",
   "id": "529233dd-11eb-4876-aacd-08717216c6c2",
   "metadata": {},
   "source": [
    "# Get all data"
   ]
  },
  {
   "cell_type": "code",
   "execution_count": 6,
   "id": "51fef595-c521-4783-8187-516ce0de5abd",
   "metadata": {
    "tags": []
   },
   "outputs": [],
   "source": [
    "#load clinical and therapy information\n",
    "\n",
    "#function for sequence padding\n",
    "def make_uniform_data(x):\n",
    "    max_seq = 150\n",
    "    if len(x) < max_seq:\n",
    "        pads = ['PAD'] * (max_seq - len(x))\n",
    "        return pads + x\n",
    "    elif len(x) > max_seq:\n",
    "        x = x[len(x)-max_seq:]\n",
    "        return x\n",
    "    else:\n",
    "        return x\n",
    "\n",
    "\n",
    "#=========================================================================#\n",
    "\n",
    "#function to generate the sequence of clinical and therapy data\n",
    "def process_sequence(clinical_file, therapy_file):\n",
    "    clinical = pyreadr.read_r(clinical_file)\n",
    "    clinical = clinical['f_clinical_part']\n",
    "    therapy_files = [join(path, f) for f in listdir(path) if (isfile(join(path, f))) & ('f_therapy_part' in f)]\n",
    "    therapy = pyreadr.read_r(therapy_file)\n",
    "    therapy = therapy['f_therapy_part']\n",
    "\n",
    "    #data selection 2016&2017\n",
    "    clinical = clinical.dropna(subset=['code_id'])\n",
    "    clinical['event_date'] = pd.to_datetime(clinical['event_date'])\n",
    "    clinical = clinical.loc[(clinical['event_date'] >= '2016-01-01') & (clinical['event_date'] < '2017-01-01')]\n",
    "\n",
    "    therapy = therapy.dropna(subset=['code_id'])\n",
    "    therapy['event_date'] = pd.to_datetime(therapy['event_date'])\n",
    "    therapy = therapy.loc[(therapy['event_date'] >= '2016-01-01') & (therapy['event_date'] < '2017-01-01')]\n",
    "\n",
    "\n",
    "    #concat 2 data\n",
    "    temp_all_raw_data = pd.concat([clinical[['patid', 'event_date', 'code_id']],\n",
    "               therapy[['patid', 'event_date', 'code_id']]])\n",
    "    temp_all_raw_data.reset_index(drop=True, inplace=True)\n",
    "\n",
    "    #create vocab list\n",
    "    temp_vocab = temp_all_raw_data.code_id.unique().tolist()\n",
    "\n",
    "    #extract year, month, day from event date (if needed)\n",
    "    temp_all_raw_data['day'] = temp_all_raw_data.apply(lambda x: str(x['event_date'].day), axis=1)\n",
    "    temp_all_raw_data['month'] = temp_all_raw_data.apply(lambda x: str(x['event_date'].month), axis=1)\n",
    "    temp_all_raw_data['year'] = temp_all_raw_data.apply(lambda x: str(x['event_date'].year), axis=1)\n",
    "\n",
    "    #checkpoint 1\n",
    "    print(\"checkpoint1\")\n",
    "    print(temp_all_raw_data.shape)\n",
    "    print(temp_all_raw_data.patid.unique().shape)\n",
    "\n",
    "    #concat all read code per patient per event date (sorted by date, oldest to newest)\n",
    "    temp_all_raw_data['read_code_seq'] = temp_all_raw_data.sort_values(['event_date'], ascending=True).groupby('patid')['code_id'].transform(lambda x: ', '.join(x))\n",
    "    temp_event_data_seq_all = temp_all_raw_data.sort_values(['event_date']).groupby('patid').agg({'day': lambda x: x.tolist(),\n",
    "                                                              'month': lambda x: x.tolist(),\n",
    "                                                              'year': lambda x: x.tolist()}).reset_index()\n",
    "    temp_all_raw_data = temp_all_raw_data.drop_duplicates(subset=['patid']).reset_index(drop=True)     \n",
    "    temp_all_raw_data.reset_index(drop=True, inplace=True)\n",
    "\n",
    "    #checkpoint 2\n",
    "    print(\"checkpoint2\")\n",
    "    print(temp_all_raw_data.shape)\n",
    "    print(temp_all_raw_data.patid.unique().shape)\n",
    "\n",
    "\n",
    "    #merge sequence data with outcomes\n",
    "    temp_data_all = temp_all_raw_data[['patid', 'read_code_seq']].merge(temp_event_data_seq_all, how='left',  on='patid')\n",
    "\n",
    "    #checkpoint 3\n",
    "    print(\"checkpoint3\")\n",
    "    print(temp_data_all.shape)\n",
    "    print(temp_data_all.patid.unique().shape)\n",
    "\n",
    "\n",
    "    # get sequence length per patient and only keep patient with >10 read codes\n",
    "    temp_data_all['read_code_seq'] = temp_data_all['read_code_seq'].apply(lambda x: x.strip('\"\"').split(', '))\n",
    "    temp_data_all['length_read_code_seq'] = temp_data_all['read_code_seq'].apply(lambda x: len(x))\n",
    "    temp_data_all = temp_data_all[temp_data_all.length_read_code_seq > 10]\n",
    "\n",
    "    #checkpoint 4\n",
    "    print(\"checkpoint4\")\n",
    "    print(temp_data_all.shape)\n",
    "    print(temp_data_all.patid.unique().shape)\n",
    "\n",
    "    #padded data\n",
    "    temp_data_all['read_code_seq_padded'] = temp_data_all['read_code_seq'].apply(lambda x: make_uniform_data(x))\n",
    "\n",
    "    #checkpoint 5\n",
    "    print(\"checkpoint5\")\n",
    "    print(temp_data_all.shape)\n",
    "    print(temp_data_all.patid.unique().shape)\n",
    "    \n",
    "    return temp_data_all, temp_vocab\n"
   ]
  },
  {
   "cell_type": "code",
   "execution_count": 8,
   "id": "081b11cf-1904-47d9-becc-4bfa00d954ed",
   "metadata": {
    "scrolled": true,
    "tags": []
   },
   "outputs": [
    {
     "name": "stdout",
     "output_type": "stream",
     "text": [
      "#######################################################\n",
      "0 10\n",
      "===================================================\n",
      "../ServerData_13Oct2020/f_clinical_part1.Rdata ../ServerData_13Oct2020/f_therapy_part1.Rdata\n"
     ]
    },
    {
     "name": "stderr",
     "output_type": "stream",
     "text": [
      "/opt/conda/envs/rapids/lib/python3.10/site-packages/pyreadr/_pyreadr_parser.py:233: RuntimeWarning: invalid value encountered in cast\n",
      "  df[colname] = df[colname].values.astype(\"datetime64[D]\").astype(datetime)\n",
      "/opt/conda/envs/rapids/lib/python3.10/site-packages/pandas/core/tools/datetimes.py:557: RuntimeWarning: invalid value encountered in cast\n",
      "  arr, tz_parsed = tslib.array_with_unit_to_datetime(arg, unit, errors=errors)\n",
      "/opt/conda/envs/rapids/lib/python3.10/site-packages/pandas/core/tools/datetimes.py:557: RuntimeWarning: invalid value encountered in multiply\n",
      "  arr, tz_parsed = tslib.array_with_unit_to_datetime(arg, unit, errors=errors)\n",
      "/opt/conda/envs/rapids/lib/python3.10/site-packages/pandas/core/tools/datetimes.py:557: RuntimeWarning: invalid value encountered in cast\n",
      "  arr, tz_parsed = tslib.array_with_unit_to_datetime(arg, unit, errors=errors)\n",
      "/opt/conda/envs/rapids/lib/python3.10/site-packages/pandas/core/tools/datetimes.py:557: RuntimeWarning: invalid value encountered in multiply\n",
      "  arr, tz_parsed = tslib.array_with_unit_to_datetime(arg, unit, errors=errors)\n",
      "/opt/conda/envs/rapids/lib/python3.10/site-packages/pyreadr/_pyreadr_parser.py:233: RuntimeWarning: invalid value encountered in cast\n",
      "  df[colname] = df[colname].values.astype(\"datetime64[D]\").astype(datetime)\n",
      "/opt/conda/envs/rapids/lib/python3.10/site-packages/pandas/core/tools/datetimes.py:557: RuntimeWarning: invalid value encountered in cast\n",
      "  arr, tz_parsed = tslib.array_with_unit_to_datetime(arg, unit, errors=errors)\n",
      "/opt/conda/envs/rapids/lib/python3.10/site-packages/pandas/core/tools/datetimes.py:557: RuntimeWarning: invalid value encountered in multiply\n",
      "  arr, tz_parsed = tslib.array_with_unit_to_datetime(arg, unit, errors=errors)\n",
      "/opt/conda/envs/rapids/lib/python3.10/site-packages/pandas/core/tools/datetimes.py:557: RuntimeWarning: invalid value encountered in cast\n",
      "  arr, tz_parsed = tslib.array_with_unit_to_datetime(arg, unit, errors=errors)\n",
      "/opt/conda/envs/rapids/lib/python3.10/site-packages/pandas/core/tools/datetimes.py:557: RuntimeWarning: invalid value encountered in multiply\n",
      "  arr, tz_parsed = tslib.array_with_unit_to_datetime(arg, unit, errors=errors)\n"
     ]
    },
    {
     "name": "stdout",
     "output_type": "stream",
     "text": [
      "checkpoint1\n",
      "(1258874, 6)\n",
      "(9787,)\n",
      "checkpoint2\n",
      "(9787, 7)\n",
      "(9787,)\n",
      "checkpoint3\n",
      "(9787, 5)\n",
      "(9787,)\n",
      "checkpoint4\n",
      "(9207, 6)\n",
      "(9207,)\n",
      "checkpoint5\n",
      "(9207, 7)\n",
      "(9207,)\n",
      "===================================================\n",
      "../ServerData_13Oct2020/f_clinical_part10.Rdata ../ServerData_13Oct2020/f_therapy_part10.Rdata\n"
     ]
    },
    {
     "name": "stderr",
     "output_type": "stream",
     "text": [
      "/opt/conda/envs/rapids/lib/python3.10/site-packages/pyreadr/_pyreadr_parser.py:233: RuntimeWarning: invalid value encountered in cast\n",
      "  df[colname] = df[colname].values.astype(\"datetime64[D]\").astype(datetime)\n",
      "/opt/conda/envs/rapids/lib/python3.10/site-packages/pandas/core/tools/datetimes.py:557: RuntimeWarning: invalid value encountered in cast\n",
      "  arr, tz_parsed = tslib.array_with_unit_to_datetime(arg, unit, errors=errors)\n",
      "/opt/conda/envs/rapids/lib/python3.10/site-packages/pandas/core/tools/datetimes.py:557: RuntimeWarning: invalid value encountered in multiply\n",
      "  arr, tz_parsed = tslib.array_with_unit_to_datetime(arg, unit, errors=errors)\n",
      "/opt/conda/envs/rapids/lib/python3.10/site-packages/pandas/core/tools/datetimes.py:557: RuntimeWarning: invalid value encountered in cast\n",
      "  arr, tz_parsed = tslib.array_with_unit_to_datetime(arg, unit, errors=errors)\n",
      "/opt/conda/envs/rapids/lib/python3.10/site-packages/pandas/core/tools/datetimes.py:557: RuntimeWarning: invalid value encountered in multiply\n",
      "  arr, tz_parsed = tslib.array_with_unit_to_datetime(arg, unit, errors=errors)\n",
      "/opt/conda/envs/rapids/lib/python3.10/site-packages/pyreadr/_pyreadr_parser.py:233: RuntimeWarning: invalid value encountered in cast\n",
      "  df[colname] = df[colname].values.astype(\"datetime64[D]\").astype(datetime)\n",
      "/opt/conda/envs/rapids/lib/python3.10/site-packages/pandas/core/tools/datetimes.py:557: RuntimeWarning: invalid value encountered in cast\n",
      "  arr, tz_parsed = tslib.array_with_unit_to_datetime(arg, unit, errors=errors)\n",
      "/opt/conda/envs/rapids/lib/python3.10/site-packages/pandas/core/tools/datetimes.py:557: RuntimeWarning: invalid value encountered in multiply\n",
      "  arr, tz_parsed = tslib.array_with_unit_to_datetime(arg, unit, errors=errors)\n",
      "/opt/conda/envs/rapids/lib/python3.10/site-packages/pandas/core/tools/datetimes.py:557: RuntimeWarning: invalid value encountered in cast\n",
      "  arr, tz_parsed = tslib.array_with_unit_to_datetime(arg, unit, errors=errors)\n",
      "/opt/conda/envs/rapids/lib/python3.10/site-packages/pandas/core/tools/datetimes.py:557: RuntimeWarning: invalid value encountered in multiply\n",
      "  arr, tz_parsed = tslib.array_with_unit_to_datetime(arg, unit, errors=errors)\n"
     ]
    },
    {
     "name": "stdout",
     "output_type": "stream",
     "text": [
      "checkpoint1\n",
      "(1299245, 6)\n",
      "(9811,)\n",
      "checkpoint2\n",
      "(9811, 7)\n",
      "(9811,)\n",
      "checkpoint3\n",
      "(9811, 5)\n",
      "(9811,)\n",
      "checkpoint4\n",
      "(9301, 6)\n",
      "(9301,)\n",
      "checkpoint5\n",
      "(9301, 7)\n",
      "(9301,)\n",
      "===================================================\n",
      "../ServerData_13Oct2020/f_clinical_part11.Rdata ../ServerData_13Oct2020/f_therapy_part11.Rdata\n"
     ]
    },
    {
     "name": "stderr",
     "output_type": "stream",
     "text": [
      "/opt/conda/envs/rapids/lib/python3.10/site-packages/pyreadr/_pyreadr_parser.py:233: RuntimeWarning: invalid value encountered in cast\n",
      "  df[colname] = df[colname].values.astype(\"datetime64[D]\").astype(datetime)\n",
      "/opt/conda/envs/rapids/lib/python3.10/site-packages/pandas/core/tools/datetimes.py:557: RuntimeWarning: invalid value encountered in cast\n",
      "  arr, tz_parsed = tslib.array_with_unit_to_datetime(arg, unit, errors=errors)\n",
      "/opt/conda/envs/rapids/lib/python3.10/site-packages/pandas/core/tools/datetimes.py:557: RuntimeWarning: invalid value encountered in multiply\n",
      "  arr, tz_parsed = tslib.array_with_unit_to_datetime(arg, unit, errors=errors)\n",
      "/opt/conda/envs/rapids/lib/python3.10/site-packages/pandas/core/tools/datetimes.py:557: RuntimeWarning: invalid value encountered in cast\n",
      "  arr, tz_parsed = tslib.array_with_unit_to_datetime(arg, unit, errors=errors)\n",
      "/opt/conda/envs/rapids/lib/python3.10/site-packages/pandas/core/tools/datetimes.py:557: RuntimeWarning: invalid value encountered in multiply\n",
      "  arr, tz_parsed = tslib.array_with_unit_to_datetime(arg, unit, errors=errors)\n",
      "/opt/conda/envs/rapids/lib/python3.10/site-packages/pyreadr/_pyreadr_parser.py:233: RuntimeWarning: invalid value encountered in cast\n",
      "  df[colname] = df[colname].values.astype(\"datetime64[D]\").astype(datetime)\n",
      "/opt/conda/envs/rapids/lib/python3.10/site-packages/pandas/core/tools/datetimes.py:557: RuntimeWarning: invalid value encountered in cast\n",
      "  arr, tz_parsed = tslib.array_with_unit_to_datetime(arg, unit, errors=errors)\n",
      "/opt/conda/envs/rapids/lib/python3.10/site-packages/pandas/core/tools/datetimes.py:557: RuntimeWarning: invalid value encountered in multiply\n",
      "  arr, tz_parsed = tslib.array_with_unit_to_datetime(arg, unit, errors=errors)\n",
      "/opt/conda/envs/rapids/lib/python3.10/site-packages/pandas/core/tools/datetimes.py:557: RuntimeWarning: invalid value encountered in cast\n",
      "  arr, tz_parsed = tslib.array_with_unit_to_datetime(arg, unit, errors=errors)\n",
      "/opt/conda/envs/rapids/lib/python3.10/site-packages/pandas/core/tools/datetimes.py:557: RuntimeWarning: invalid value encountered in multiply\n",
      "  arr, tz_parsed = tslib.array_with_unit_to_datetime(arg, unit, errors=errors)\n"
     ]
    },
    {
     "name": "stdout",
     "output_type": "stream",
     "text": [
      "checkpoint1\n",
      "(1408019, 6)\n",
      "(9858,)\n",
      "checkpoint2\n",
      "(9858, 7)\n",
      "(9858,)\n",
      "checkpoint3\n",
      "(9858, 5)\n",
      "(9858,)\n",
      "checkpoint4\n",
      "(9402, 6)\n",
      "(9402,)\n",
      "checkpoint5\n",
      "(9402, 7)\n",
      "(9402,)\n",
      "===================================================\n",
      "../ServerData_13Oct2020/f_clinical_part12.Rdata ../ServerData_13Oct2020/f_therapy_part12.Rdata\n"
     ]
    },
    {
     "name": "stderr",
     "output_type": "stream",
     "text": [
      "/opt/conda/envs/rapids/lib/python3.10/site-packages/pyreadr/_pyreadr_parser.py:233: RuntimeWarning: invalid value encountered in cast\n",
      "  df[colname] = df[colname].values.astype(\"datetime64[D]\").astype(datetime)\n",
      "/opt/conda/envs/rapids/lib/python3.10/site-packages/pandas/core/tools/datetimes.py:557: RuntimeWarning: invalid value encountered in cast\n",
      "  arr, tz_parsed = tslib.array_with_unit_to_datetime(arg, unit, errors=errors)\n",
      "/opt/conda/envs/rapids/lib/python3.10/site-packages/pandas/core/tools/datetimes.py:557: RuntimeWarning: invalid value encountered in multiply\n",
      "  arr, tz_parsed = tslib.array_with_unit_to_datetime(arg, unit, errors=errors)\n",
      "/opt/conda/envs/rapids/lib/python3.10/site-packages/pandas/core/tools/datetimes.py:557: RuntimeWarning: invalid value encountered in cast\n",
      "  arr, tz_parsed = tslib.array_with_unit_to_datetime(arg, unit, errors=errors)\n",
      "/opt/conda/envs/rapids/lib/python3.10/site-packages/pandas/core/tools/datetimes.py:557: RuntimeWarning: invalid value encountered in multiply\n",
      "  arr, tz_parsed = tslib.array_with_unit_to_datetime(arg, unit, errors=errors)\n",
      "/opt/conda/envs/rapids/lib/python3.10/site-packages/pyreadr/_pyreadr_parser.py:233: RuntimeWarning: invalid value encountered in cast\n",
      "  df[colname] = df[colname].values.astype(\"datetime64[D]\").astype(datetime)\n",
      "/opt/conda/envs/rapids/lib/python3.10/site-packages/pandas/core/tools/datetimes.py:557: RuntimeWarning: invalid value encountered in cast\n",
      "  arr, tz_parsed = tslib.array_with_unit_to_datetime(arg, unit, errors=errors)\n",
      "/opt/conda/envs/rapids/lib/python3.10/site-packages/pandas/core/tools/datetimes.py:557: RuntimeWarning: invalid value encountered in multiply\n",
      "  arr, tz_parsed = tslib.array_with_unit_to_datetime(arg, unit, errors=errors)\n",
      "/opt/conda/envs/rapids/lib/python3.10/site-packages/pandas/core/tools/datetimes.py:557: RuntimeWarning: invalid value encountered in cast\n",
      "  arr, tz_parsed = tslib.array_with_unit_to_datetime(arg, unit, errors=errors)\n",
      "/opt/conda/envs/rapids/lib/python3.10/site-packages/pandas/core/tools/datetimes.py:557: RuntimeWarning: invalid value encountered in multiply\n",
      "  arr, tz_parsed = tslib.array_with_unit_to_datetime(arg, unit, errors=errors)\n"
     ]
    },
    {
     "name": "stdout",
     "output_type": "stream",
     "text": [
      "checkpoint1\n",
      "(1311678, 6)\n",
      "(9825,)\n",
      "checkpoint2\n",
      "(9825, 7)\n",
      "(9825,)\n",
      "checkpoint3\n",
      "(9825, 5)\n",
      "(9825,)\n",
      "checkpoint4\n",
      "(9317, 6)\n",
      "(9317,)\n",
      "checkpoint5\n",
      "(9317, 7)\n",
      "(9317,)\n",
      "===================================================\n",
      "../ServerData_13Oct2020/f_clinical_part13.Rdata ../ServerData_13Oct2020/f_therapy_part13.Rdata\n"
     ]
    },
    {
     "name": "stderr",
     "output_type": "stream",
     "text": [
      "/opt/conda/envs/rapids/lib/python3.10/site-packages/pyreadr/_pyreadr_parser.py:233: RuntimeWarning: invalid value encountered in cast\n",
      "  df[colname] = df[colname].values.astype(\"datetime64[D]\").astype(datetime)\n",
      "/opt/conda/envs/rapids/lib/python3.10/site-packages/pandas/core/tools/datetimes.py:557: RuntimeWarning: invalid value encountered in cast\n",
      "  arr, tz_parsed = tslib.array_with_unit_to_datetime(arg, unit, errors=errors)\n",
      "/opt/conda/envs/rapids/lib/python3.10/site-packages/pandas/core/tools/datetimes.py:557: RuntimeWarning: invalid value encountered in multiply\n",
      "  arr, tz_parsed = tslib.array_with_unit_to_datetime(arg, unit, errors=errors)\n",
      "/opt/conda/envs/rapids/lib/python3.10/site-packages/pandas/core/tools/datetimes.py:557: RuntimeWarning: invalid value encountered in cast\n",
      "  arr, tz_parsed = tslib.array_with_unit_to_datetime(arg, unit, errors=errors)\n",
      "/opt/conda/envs/rapids/lib/python3.10/site-packages/pandas/core/tools/datetimes.py:557: RuntimeWarning: invalid value encountered in multiply\n",
      "  arr, tz_parsed = tslib.array_with_unit_to_datetime(arg, unit, errors=errors)\n",
      "/opt/conda/envs/rapids/lib/python3.10/site-packages/pyreadr/_pyreadr_parser.py:233: RuntimeWarning: invalid value encountered in cast\n",
      "  df[colname] = df[colname].values.astype(\"datetime64[D]\").astype(datetime)\n",
      "/opt/conda/envs/rapids/lib/python3.10/site-packages/pandas/core/tools/datetimes.py:557: RuntimeWarning: invalid value encountered in cast\n",
      "  arr, tz_parsed = tslib.array_with_unit_to_datetime(arg, unit, errors=errors)\n",
      "/opt/conda/envs/rapids/lib/python3.10/site-packages/pandas/core/tools/datetimes.py:557: RuntimeWarning: invalid value encountered in multiply\n",
      "  arr, tz_parsed = tslib.array_with_unit_to_datetime(arg, unit, errors=errors)\n",
      "/opt/conda/envs/rapids/lib/python3.10/site-packages/pandas/core/tools/datetimes.py:557: RuntimeWarning: invalid value encountered in cast\n",
      "  arr, tz_parsed = tslib.array_with_unit_to_datetime(arg, unit, errors=errors)\n",
      "/opt/conda/envs/rapids/lib/python3.10/site-packages/pandas/core/tools/datetimes.py:557: RuntimeWarning: invalid value encountered in multiply\n",
      "  arr, tz_parsed = tslib.array_with_unit_to_datetime(arg, unit, errors=errors)\n"
     ]
    },
    {
     "name": "stdout",
     "output_type": "stream",
     "text": [
      "checkpoint1\n",
      "(1376058, 6)\n",
      "(9814,)\n",
      "checkpoint2\n",
      "(9814, 7)\n",
      "(9814,)\n",
      "checkpoint3\n",
      "(9814, 5)\n",
      "(9814,)\n",
      "checkpoint4\n",
      "(9324, 6)\n",
      "(9324,)\n",
      "checkpoint5\n",
      "(9324, 7)\n",
      "(9324,)\n",
      "===================================================\n",
      "../ServerData_13Oct2020/f_clinical_part14.Rdata ../ServerData_13Oct2020/f_therapy_part14.Rdata\n"
     ]
    },
    {
     "name": "stderr",
     "output_type": "stream",
     "text": [
      "/opt/conda/envs/rapids/lib/python3.10/site-packages/pyreadr/_pyreadr_parser.py:233: RuntimeWarning: invalid value encountered in cast\n",
      "  df[colname] = df[colname].values.astype(\"datetime64[D]\").astype(datetime)\n",
      "/opt/conda/envs/rapids/lib/python3.10/site-packages/pandas/core/tools/datetimes.py:557: RuntimeWarning: invalid value encountered in cast\n",
      "  arr, tz_parsed = tslib.array_with_unit_to_datetime(arg, unit, errors=errors)\n",
      "/opt/conda/envs/rapids/lib/python3.10/site-packages/pandas/core/tools/datetimes.py:557: RuntimeWarning: invalid value encountered in multiply\n",
      "  arr, tz_parsed = tslib.array_with_unit_to_datetime(arg, unit, errors=errors)\n",
      "/opt/conda/envs/rapids/lib/python3.10/site-packages/pandas/core/tools/datetimes.py:557: RuntimeWarning: invalid value encountered in cast\n",
      "  arr, tz_parsed = tslib.array_with_unit_to_datetime(arg, unit, errors=errors)\n",
      "/opt/conda/envs/rapids/lib/python3.10/site-packages/pandas/core/tools/datetimes.py:557: RuntimeWarning: invalid value encountered in multiply\n",
      "  arr, tz_parsed = tslib.array_with_unit_to_datetime(arg, unit, errors=errors)\n",
      "/opt/conda/envs/rapids/lib/python3.10/site-packages/pyreadr/_pyreadr_parser.py:233: RuntimeWarning: invalid value encountered in cast\n",
      "  df[colname] = df[colname].values.astype(\"datetime64[D]\").astype(datetime)\n",
      "/opt/conda/envs/rapids/lib/python3.10/site-packages/pandas/core/tools/datetimes.py:557: RuntimeWarning: invalid value encountered in cast\n",
      "  arr, tz_parsed = tslib.array_with_unit_to_datetime(arg, unit, errors=errors)\n",
      "/opt/conda/envs/rapids/lib/python3.10/site-packages/pandas/core/tools/datetimes.py:557: RuntimeWarning: invalid value encountered in multiply\n",
      "  arr, tz_parsed = tslib.array_with_unit_to_datetime(arg, unit, errors=errors)\n",
      "/opt/conda/envs/rapids/lib/python3.10/site-packages/pandas/core/tools/datetimes.py:557: RuntimeWarning: invalid value encountered in cast\n",
      "  arr, tz_parsed = tslib.array_with_unit_to_datetime(arg, unit, errors=errors)\n",
      "/opt/conda/envs/rapids/lib/python3.10/site-packages/pandas/core/tools/datetimes.py:557: RuntimeWarning: invalid value encountered in multiply\n",
      "  arr, tz_parsed = tslib.array_with_unit_to_datetime(arg, unit, errors=errors)\n"
     ]
    },
    {
     "name": "stdout",
     "output_type": "stream",
     "text": [
      "checkpoint1\n",
      "(1346813, 6)\n",
      "(9826,)\n",
      "checkpoint2\n",
      "(9826, 7)\n",
      "(9826,)\n",
      "checkpoint3\n",
      "(9826, 5)\n",
      "(9826,)\n",
      "checkpoint4\n",
      "(9306, 6)\n",
      "(9306,)\n",
      "checkpoint5\n",
      "(9306, 7)\n",
      "(9306,)\n",
      "===================================================\n",
      "../ServerData_13Oct2020/f_clinical_part15.Rdata ../ServerData_13Oct2020/f_therapy_part15.Rdata\n"
     ]
    },
    {
     "name": "stderr",
     "output_type": "stream",
     "text": [
      "/opt/conda/envs/rapids/lib/python3.10/site-packages/pyreadr/_pyreadr_parser.py:233: RuntimeWarning: invalid value encountered in cast\n",
      "  df[colname] = df[colname].values.astype(\"datetime64[D]\").astype(datetime)\n",
      "/opt/conda/envs/rapids/lib/python3.10/site-packages/pandas/core/tools/datetimes.py:557: RuntimeWarning: invalid value encountered in cast\n",
      "  arr, tz_parsed = tslib.array_with_unit_to_datetime(arg, unit, errors=errors)\n",
      "/opt/conda/envs/rapids/lib/python3.10/site-packages/pandas/core/tools/datetimes.py:557: RuntimeWarning: invalid value encountered in multiply\n",
      "  arr, tz_parsed = tslib.array_with_unit_to_datetime(arg, unit, errors=errors)\n",
      "/opt/conda/envs/rapids/lib/python3.10/site-packages/pandas/core/tools/datetimes.py:557: RuntimeWarning: invalid value encountered in cast\n",
      "  arr, tz_parsed = tslib.array_with_unit_to_datetime(arg, unit, errors=errors)\n",
      "/opt/conda/envs/rapids/lib/python3.10/site-packages/pandas/core/tools/datetimes.py:557: RuntimeWarning: invalid value encountered in multiply\n",
      "  arr, tz_parsed = tslib.array_with_unit_to_datetime(arg, unit, errors=errors)\n",
      "/opt/conda/envs/rapids/lib/python3.10/site-packages/pyreadr/_pyreadr_parser.py:233: RuntimeWarning: invalid value encountered in cast\n",
      "  df[colname] = df[colname].values.astype(\"datetime64[D]\").astype(datetime)\n",
      "/opt/conda/envs/rapids/lib/python3.10/site-packages/pandas/core/tools/datetimes.py:557: RuntimeWarning: invalid value encountered in cast\n",
      "  arr, tz_parsed = tslib.array_with_unit_to_datetime(arg, unit, errors=errors)\n",
      "/opt/conda/envs/rapids/lib/python3.10/site-packages/pandas/core/tools/datetimes.py:557: RuntimeWarning: invalid value encountered in multiply\n",
      "  arr, tz_parsed = tslib.array_with_unit_to_datetime(arg, unit, errors=errors)\n",
      "/opt/conda/envs/rapids/lib/python3.10/site-packages/pandas/core/tools/datetimes.py:557: RuntimeWarning: invalid value encountered in cast\n",
      "  arr, tz_parsed = tslib.array_with_unit_to_datetime(arg, unit, errors=errors)\n",
      "/opt/conda/envs/rapids/lib/python3.10/site-packages/pandas/core/tools/datetimes.py:557: RuntimeWarning: invalid value encountered in multiply\n",
      "  arr, tz_parsed = tslib.array_with_unit_to_datetime(arg, unit, errors=errors)\n"
     ]
    },
    {
     "name": "stdout",
     "output_type": "stream",
     "text": [
      "checkpoint1\n",
      "(1352232, 6)\n",
      "(9854,)\n",
      "checkpoint2\n",
      "(9854, 7)\n",
      "(9854,)\n",
      "checkpoint3\n",
      "(9854, 5)\n",
      "(9854,)\n",
      "checkpoint4\n",
      "(9370, 6)\n",
      "(9370,)\n",
      "checkpoint5\n",
      "(9370, 7)\n",
      "(9370,)\n",
      "===================================================\n",
      "../ServerData_13Oct2020/f_clinical_part16.Rdata ../ServerData_13Oct2020/f_therapy_part16.Rdata\n"
     ]
    },
    {
     "name": "stderr",
     "output_type": "stream",
     "text": [
      "/opt/conda/envs/rapids/lib/python3.10/site-packages/pyreadr/_pyreadr_parser.py:233: RuntimeWarning: invalid value encountered in cast\n",
      "  df[colname] = df[colname].values.astype(\"datetime64[D]\").astype(datetime)\n",
      "/opt/conda/envs/rapids/lib/python3.10/site-packages/pandas/core/tools/datetimes.py:557: RuntimeWarning: invalid value encountered in cast\n",
      "  arr, tz_parsed = tslib.array_with_unit_to_datetime(arg, unit, errors=errors)\n",
      "/opt/conda/envs/rapids/lib/python3.10/site-packages/pandas/core/tools/datetimes.py:557: RuntimeWarning: invalid value encountered in multiply\n",
      "  arr, tz_parsed = tslib.array_with_unit_to_datetime(arg, unit, errors=errors)\n",
      "/opt/conda/envs/rapids/lib/python3.10/site-packages/pandas/core/tools/datetimes.py:557: RuntimeWarning: invalid value encountered in cast\n",
      "  arr, tz_parsed = tslib.array_with_unit_to_datetime(arg, unit, errors=errors)\n",
      "/opt/conda/envs/rapids/lib/python3.10/site-packages/pandas/core/tools/datetimes.py:557: RuntimeWarning: invalid value encountered in multiply\n",
      "  arr, tz_parsed = tslib.array_with_unit_to_datetime(arg, unit, errors=errors)\n",
      "/opt/conda/envs/rapids/lib/python3.10/site-packages/pyreadr/_pyreadr_parser.py:233: RuntimeWarning: invalid value encountered in cast\n",
      "  df[colname] = df[colname].values.astype(\"datetime64[D]\").astype(datetime)\n",
      "/opt/conda/envs/rapids/lib/python3.10/site-packages/pandas/core/tools/datetimes.py:557: RuntimeWarning: invalid value encountered in cast\n",
      "  arr, tz_parsed = tslib.array_with_unit_to_datetime(arg, unit, errors=errors)\n",
      "/opt/conda/envs/rapids/lib/python3.10/site-packages/pandas/core/tools/datetimes.py:557: RuntimeWarning: invalid value encountered in multiply\n",
      "  arr, tz_parsed = tslib.array_with_unit_to_datetime(arg, unit, errors=errors)\n",
      "/opt/conda/envs/rapids/lib/python3.10/site-packages/pandas/core/tools/datetimes.py:557: RuntimeWarning: invalid value encountered in cast\n",
      "  arr, tz_parsed = tslib.array_with_unit_to_datetime(arg, unit, errors=errors)\n",
      "/opt/conda/envs/rapids/lib/python3.10/site-packages/pandas/core/tools/datetimes.py:557: RuntimeWarning: invalid value encountered in multiply\n",
      "  arr, tz_parsed = tslib.array_with_unit_to_datetime(arg, unit, errors=errors)\n"
     ]
    },
    {
     "name": "stdout",
     "output_type": "stream",
     "text": [
      "checkpoint1\n",
      "(1306752, 6)\n",
      "(9845,)\n",
      "checkpoint2\n",
      "(9845, 7)\n",
      "(9845,)\n",
      "checkpoint3\n",
      "(9845, 5)\n",
      "(9845,)\n",
      "checkpoint4\n",
      "(9313, 6)\n",
      "(9313,)\n",
      "checkpoint5\n",
      "(9313, 7)\n",
      "(9313,)\n",
      "===================================================\n",
      "../ServerData_13Oct2020/f_clinical_part17.Rdata ../ServerData_13Oct2020/f_therapy_part17.Rdata\n"
     ]
    },
    {
     "name": "stderr",
     "output_type": "stream",
     "text": [
      "/opt/conda/envs/rapids/lib/python3.10/site-packages/pyreadr/_pyreadr_parser.py:233: RuntimeWarning: invalid value encountered in cast\n",
      "  df[colname] = df[colname].values.astype(\"datetime64[D]\").astype(datetime)\n",
      "/opt/conda/envs/rapids/lib/python3.10/site-packages/pandas/core/tools/datetimes.py:557: RuntimeWarning: invalid value encountered in cast\n",
      "  arr, tz_parsed = tslib.array_with_unit_to_datetime(arg, unit, errors=errors)\n",
      "/opt/conda/envs/rapids/lib/python3.10/site-packages/pandas/core/tools/datetimes.py:557: RuntimeWarning: invalid value encountered in multiply\n",
      "  arr, tz_parsed = tslib.array_with_unit_to_datetime(arg, unit, errors=errors)\n",
      "/opt/conda/envs/rapids/lib/python3.10/site-packages/pandas/core/tools/datetimes.py:557: RuntimeWarning: invalid value encountered in cast\n",
      "  arr, tz_parsed = tslib.array_with_unit_to_datetime(arg, unit, errors=errors)\n",
      "/opt/conda/envs/rapids/lib/python3.10/site-packages/pandas/core/tools/datetimes.py:557: RuntimeWarning: invalid value encountered in multiply\n",
      "  arr, tz_parsed = tslib.array_with_unit_to_datetime(arg, unit, errors=errors)\n",
      "/opt/conda/envs/rapids/lib/python3.10/site-packages/pyreadr/_pyreadr_parser.py:233: RuntimeWarning: invalid value encountered in cast\n",
      "  df[colname] = df[colname].values.astype(\"datetime64[D]\").astype(datetime)\n",
      "/opt/conda/envs/rapids/lib/python3.10/site-packages/pandas/core/tools/datetimes.py:557: RuntimeWarning: invalid value encountered in cast\n",
      "  arr, tz_parsed = tslib.array_with_unit_to_datetime(arg, unit, errors=errors)\n",
      "/opt/conda/envs/rapids/lib/python3.10/site-packages/pandas/core/tools/datetimes.py:557: RuntimeWarning: invalid value encountered in multiply\n",
      "  arr, tz_parsed = tslib.array_with_unit_to_datetime(arg, unit, errors=errors)\n",
      "/opt/conda/envs/rapids/lib/python3.10/site-packages/pandas/core/tools/datetimes.py:557: RuntimeWarning: invalid value encountered in cast\n",
      "  arr, tz_parsed = tslib.array_with_unit_to_datetime(arg, unit, errors=errors)\n",
      "/opt/conda/envs/rapids/lib/python3.10/site-packages/pandas/core/tools/datetimes.py:557: RuntimeWarning: invalid value encountered in multiply\n",
      "  arr, tz_parsed = tslib.array_with_unit_to_datetime(arg, unit, errors=errors)\n"
     ]
    },
    {
     "name": "stdout",
     "output_type": "stream",
     "text": [
      "checkpoint1\n",
      "(1282650, 6)\n",
      "(9796,)\n",
      "checkpoint2\n",
      "(9796, 7)\n",
      "(9796,)\n",
      "checkpoint3\n",
      "(9796, 5)\n",
      "(9796,)\n",
      "checkpoint4\n",
      "(9264, 6)\n",
      "(9264,)\n",
      "checkpoint5\n",
      "(9264, 7)\n",
      "(9264,)\n",
      "===================================================\n",
      "../ServerData_13Oct2020/f_clinical_part18.Rdata ../ServerData_13Oct2020/f_therapy_part18.Rdata\n"
     ]
    },
    {
     "name": "stderr",
     "output_type": "stream",
     "text": [
      "/opt/conda/envs/rapids/lib/python3.10/site-packages/pyreadr/_pyreadr_parser.py:233: RuntimeWarning: invalid value encountered in cast\n",
      "  df[colname] = df[colname].values.astype(\"datetime64[D]\").astype(datetime)\n",
      "/opt/conda/envs/rapids/lib/python3.10/site-packages/pandas/core/tools/datetimes.py:557: RuntimeWarning: invalid value encountered in cast\n",
      "  arr, tz_parsed = tslib.array_with_unit_to_datetime(arg, unit, errors=errors)\n",
      "/opt/conda/envs/rapids/lib/python3.10/site-packages/pandas/core/tools/datetimes.py:557: RuntimeWarning: invalid value encountered in multiply\n",
      "  arr, tz_parsed = tslib.array_with_unit_to_datetime(arg, unit, errors=errors)\n",
      "/opt/conda/envs/rapids/lib/python3.10/site-packages/pandas/core/tools/datetimes.py:557: RuntimeWarning: invalid value encountered in cast\n",
      "  arr, tz_parsed = tslib.array_with_unit_to_datetime(arg, unit, errors=errors)\n",
      "/opt/conda/envs/rapids/lib/python3.10/site-packages/pandas/core/tools/datetimes.py:557: RuntimeWarning: invalid value encountered in multiply\n",
      "  arr, tz_parsed = tslib.array_with_unit_to_datetime(arg, unit, errors=errors)\n",
      "/opt/conda/envs/rapids/lib/python3.10/site-packages/pyreadr/_pyreadr_parser.py:233: RuntimeWarning: invalid value encountered in cast\n",
      "  df[colname] = df[colname].values.astype(\"datetime64[D]\").astype(datetime)\n",
      "/opt/conda/envs/rapids/lib/python3.10/site-packages/pandas/core/tools/datetimes.py:557: RuntimeWarning: invalid value encountered in cast\n",
      "  arr, tz_parsed = tslib.array_with_unit_to_datetime(arg, unit, errors=errors)\n",
      "/opt/conda/envs/rapids/lib/python3.10/site-packages/pandas/core/tools/datetimes.py:557: RuntimeWarning: invalid value encountered in multiply\n",
      "  arr, tz_parsed = tslib.array_with_unit_to_datetime(arg, unit, errors=errors)\n",
      "/opt/conda/envs/rapids/lib/python3.10/site-packages/pandas/core/tools/datetimes.py:557: RuntimeWarning: invalid value encountered in cast\n",
      "  arr, tz_parsed = tslib.array_with_unit_to_datetime(arg, unit, errors=errors)\n",
      "/opt/conda/envs/rapids/lib/python3.10/site-packages/pandas/core/tools/datetimes.py:557: RuntimeWarning: invalid value encountered in multiply\n",
      "  arr, tz_parsed = tslib.array_with_unit_to_datetime(arg, unit, errors=errors)\n"
     ]
    },
    {
     "name": "stdout",
     "output_type": "stream",
     "text": [
      "checkpoint1\n",
      "(1256231, 6)\n",
      "(9785,)\n",
      "checkpoint2\n",
      "(9785, 7)\n",
      "(9785,)\n",
      "checkpoint3\n",
      "(9785, 5)\n",
      "(9785,)\n",
      "checkpoint4\n",
      "(9156, 6)\n",
      "(9156,)\n",
      "checkpoint5\n",
      "(9156, 7)\n",
      "(9156,)\n"
     ]
    }
   ],
   "source": [
    "path = '../ServerData_13Oct2020/'\n",
    "clinical_files = [join(path, f) for f in listdir(path) if (isfile(join(path, f))) & ('f_clinical_part' in f)]\n",
    "therapy_files = [join(path, f) for f in listdir(path) if (isfile(join(path, f))) & ('f_therapy_part' in f)]\n",
    "vocab_all = []\n",
    "cols = ['patid', 'read_code_seq', 'day', 'month', 'year', 'length_read_code_seq',\n",
    "           'read_code_seq_padded']\n",
    "data_all = pd.DataFrame(columns=cols)\n",
    "\n",
    "nFiles=len(therapy_files)\n",
    "batch=10\n",
    "\n",
    "for i in range(0,1):\n",
    "    startIndexFile = i*batch\n",
    "    endIndexFile = startIndexFile+batch\n",
    "    if endIndexFile > nFiles:\n",
    "        endIndexFile = nFiles\n",
    "    print(\"#######################################################\")\n",
    "    print(startIndexFile, endIndexFile)\n",
    "    data_chunk = pd.DataFrame(columns=cols)\n",
    "    vocab_chunk = [] \n",
    "    for clinical_file, therapy_file in zip(clinical_files[startIndexFile:endIndexFile], therapy_files[startIndexFile:endIndexFile]):\n",
    "        print(\"===================================================\")\n",
    "        print(clinical_file, therapy_file)\n",
    "        #combine data_all\n",
    "        temp_data, temp_vocab = process_sequence(clinical_file, therapy_file)\n",
    "        data_chunk = pd.concat([data_chunk, temp_data])\n",
    "        data_chunk.reset_index(drop=True, inplace=True)\n",
    "        vocab_chunk = vocab_chunk + temp_vocab\n",
    "    data_all = pd.concat([data_all, data_chunk])\n",
    "    data_all.reset_index(drop=True, inplace=True)\n",
    "    vocab_all = vocab_all + vocab_chunk\n",
    "    pickle.dump(vocab_all, open('../SeqModel/vocab_all_big.sav', 'wb'))\n",
    "    pickle.dump(data_all, open('../SeqModel/data_all_big.sav', 'wb'))\n",
    "    \n",
    "    \n",
    "    \n",
    "    \n",
    "\n"
   ]
  },
  {
   "cell_type": "code",
   "execution_count": 10,
   "id": "8bef60a7-1735-4474-ab19-4731816693aa",
   "metadata": {
    "tags": []
   },
   "outputs": [
    {
     "data": {
      "text/plain": [
       "(92960, 7)"
      ]
     },
     "execution_count": 10,
     "metadata": {},
     "output_type": "execute_result"
    }
   ],
   "source": [
    "data_all.shape"
   ]
  },
  {
   "cell_type": "code",
   "execution_count": 11,
   "id": "88fde970-378c-438c-9ac3-64237d3fc5ce",
   "metadata": {
    "tags": []
   },
   "outputs": [
    {
     "name": "stdout",
     "output_type": "stream",
     "text": [
      "code2idx Size: 45211\n",
      "idx2code Size: 45211\n"
     ]
    }
   ],
   "source": [
    "#vocab and code2idx generation\n",
    "vocab_all_big = vocab_all\n",
    "vocab_all_big=list(dict.fromkeys(vocab_all_big)) #remove duplicate\n",
    "idx_all = range(1, len(vocab_all_big)+1)\n",
    "code2idx_all = dict(zip(vocab_all_big, idx_all))\n",
    "idx2code_all = dict(zip(idx_all, vocab_all_big))\n",
    "code2idx_all['PAD'] = 0\n",
    "idx2code_all[0] = 'PAD'\n",
    "VOCAB_SIZE= len(code2idx_all)\n",
    "print('code2idx Size: {}'.format(len(code2idx_all)))\n",
    "print('idx2code Size: {}'.format(len(idx2code_all)))\n",
    "# print(code2idx)\n",
    "\n",
    "# padded to index, and merge with patient data (age, Country)\n",
    "data_all_big = data_all\n",
    "data_all_big['read_code_seq_padded_idx'] = data_all_big['read_code_seq_padded'].apply(lambda x: [code2idx_all.get(key) for key in x])\n",
    "data_all_big = data_all_big.merge(outcomes[['patid', 'outcome_3months','outcome_combined_6months','outcome_combined_12months',\n",
    "                               'outcome_combined_24months', ]], how='inner', on='patid')\n",
    "data_all_big = data_all_big.merge(patient[['patid', 'Country', 'age']], how='left', on='patid')\n",
    "data_all_big = data_all_big.drop_duplicates(subset=['patid']).reset_index(drop=True)     \n"
   ]
  },
  {
   "cell_type": "code",
   "execution_count": 12,
   "id": "2cb6e5ab-a3d6-49f8-a458-4f75e3934851",
   "metadata": {
    "tags": []
   },
   "outputs": [
    {
     "data": {
      "text/plain": [
       "(75059, 14)"
      ]
     },
     "execution_count": 12,
     "metadata": {},
     "output_type": "execute_result"
    }
   ],
   "source": [
    "data_all_big.shape"
   ]
  },
  {
   "cell_type": "code",
   "execution_count": 14,
   "id": "fb1018f3-b951-4f1f-9df1-f60d57afa744",
   "metadata": {
    "tags": []
   },
   "outputs": [
    {
     "data": {
      "text/plain": [
       "(75059,)"
      ]
     },
     "execution_count": 14,
     "metadata": {},
     "output_type": "execute_result"
    }
   ],
   "source": [
    "data_all_big.patid.unique().shape"
   ]
  },
  {
   "cell_type": "code",
   "execution_count": 16,
   "id": "bfbc2593-a4c0-4659-ac18-18bed198e27c",
   "metadata": {
    "tags": []
   },
   "outputs": [
    {
     "data": {
      "text/plain": [
       "45210"
      ]
     },
     "execution_count": 16,
     "metadata": {},
     "output_type": "execute_result"
    }
   ],
   "source": [
    "len(vocab_all_big)"
   ]
  },
  {
   "cell_type": "code",
   "execution_count": 15,
   "id": "3e29dc79-f4c5-46f9-86e9-ce4e038b91ed",
   "metadata": {
    "tags": []
   },
   "outputs": [],
   "source": [
    "#SAVE all important materials\n",
    "pickle.dump(code2idx_all, open('../SeqModel/code2idx_all_big.sav', 'wb'))\n",
    "pickle.dump(idx2code_all, open('../SeqModel/idx2code_all_big.sav', 'wb'))\n",
    "pickle.dump(data_all_big, open('../SeqModel/data_all_big.sav', 'wb'))\n",
    "# data_all.to_csv('../SeqModel/seqData_all.csv', index_label=False, index=False)"
   ]
  },
  {
   "cell_type": "code",
   "execution_count": 17,
   "id": "27e18c9e-5eac-46be-80cc-5ccc82af5747",
   "metadata": {
    "tags": []
   },
   "outputs": [
    {
     "data": {
      "text/html": [
       "<div>\n",
       "<style scoped>\n",
       "    .dataframe tbody tr th:only-of-type {\n",
       "        vertical-align: middle;\n",
       "    }\n",
       "\n",
       "    .dataframe tbody tr th {\n",
       "        vertical-align: top;\n",
       "    }\n",
       "\n",
       "    .dataframe thead th {\n",
       "        text-align: right;\n",
       "    }\n",
       "</style>\n",
       "<table border=\"1\" class=\"dataframe\">\n",
       "  <thead>\n",
       "    <tr style=\"text-align: right;\">\n",
       "      <th></th>\n",
       "      <th>patid</th>\n",
       "      <th>outcome_3months</th>\n",
       "      <th>outcome_6months</th>\n",
       "      <th>outcome_9months</th>\n",
       "      <th>outcome_12months</th>\n",
       "      <th>outcome_15months</th>\n",
       "      <th>outcome_18months</th>\n",
       "      <th>outcome_21months</th>\n",
       "      <th>outcome_24months</th>\n",
       "      <th>outcome_combined_6months</th>\n",
       "      <th>outcome_combined_9months</th>\n",
       "      <th>outcome_combined_12months</th>\n",
       "      <th>outcome_combined_15months</th>\n",
       "      <th>outcome_combined_18months</th>\n",
       "      <th>outcome_combined_24months</th>\n",
       "    </tr>\n",
       "  </thead>\n",
       "  <tbody>\n",
       "    <tr>\n",
       "      <th>0</th>\n",
       "      <td>43231452</td>\n",
       "      <td>0</td>\n",
       "      <td>0</td>\n",
       "      <td>0</td>\n",
       "      <td>0</td>\n",
       "      <td>0</td>\n",
       "      <td>0</td>\n",
       "      <td>0</td>\n",
       "      <td>0</td>\n",
       "      <td>0</td>\n",
       "      <td>0</td>\n",
       "      <td>0</td>\n",
       "      <td>0</td>\n",
       "      <td>0</td>\n",
       "      <td>0</td>\n",
       "    </tr>\n",
       "    <tr>\n",
       "      <th>1</th>\n",
       "      <td>43206365</td>\n",
       "      <td>0</td>\n",
       "      <td>0</td>\n",
       "      <td>0</td>\n",
       "      <td>0</td>\n",
       "      <td>0</td>\n",
       "      <td>0</td>\n",
       "      <td>0</td>\n",
       "      <td>0</td>\n",
       "      <td>0</td>\n",
       "      <td>0</td>\n",
       "      <td>0</td>\n",
       "      <td>0</td>\n",
       "      <td>0</td>\n",
       "      <td>0</td>\n",
       "    </tr>\n",
       "    <tr>\n",
       "      <th>2</th>\n",
       "      <td>43203606</td>\n",
       "      <td>0</td>\n",
       "      <td>0</td>\n",
       "      <td>0</td>\n",
       "      <td>0</td>\n",
       "      <td>0</td>\n",
       "      <td>0</td>\n",
       "      <td>0</td>\n",
       "      <td>0</td>\n",
       "      <td>0</td>\n",
       "      <td>0</td>\n",
       "      <td>0</td>\n",
       "      <td>0</td>\n",
       "      <td>0</td>\n",
       "      <td>0</td>\n",
       "    </tr>\n",
       "    <tr>\n",
       "      <th>3</th>\n",
       "      <td>43117348</td>\n",
       "      <td>0</td>\n",
       "      <td>0</td>\n",
       "      <td>0</td>\n",
       "      <td>0</td>\n",
       "      <td>0</td>\n",
       "      <td>0</td>\n",
       "      <td>0</td>\n",
       "      <td>0</td>\n",
       "      <td>0</td>\n",
       "      <td>0</td>\n",
       "      <td>0</td>\n",
       "      <td>0</td>\n",
       "      <td>0</td>\n",
       "      <td>0</td>\n",
       "    </tr>\n",
       "    <tr>\n",
       "      <th>4</th>\n",
       "      <td>43289035</td>\n",
       "      <td>0</td>\n",
       "      <td>0</td>\n",
       "      <td>0</td>\n",
       "      <td>0</td>\n",
       "      <td>0</td>\n",
       "      <td>0</td>\n",
       "      <td>0</td>\n",
       "      <td>0</td>\n",
       "      <td>0</td>\n",
       "      <td>0</td>\n",
       "      <td>0</td>\n",
       "      <td>0</td>\n",
       "      <td>0</td>\n",
       "      <td>0</td>\n",
       "    </tr>\n",
       "    <tr>\n",
       "      <th>...</th>\n",
       "      <td>...</td>\n",
       "      <td>...</td>\n",
       "      <td>...</td>\n",
       "      <td>...</td>\n",
       "      <td>...</td>\n",
       "      <td>...</td>\n",
       "      <td>...</td>\n",
       "      <td>...</td>\n",
       "      <td>...</td>\n",
       "      <td>...</td>\n",
       "      <td>...</td>\n",
       "      <td>...</td>\n",
       "      <td>...</td>\n",
       "      <td>...</td>\n",
       "      <td>...</td>\n",
       "    </tr>\n",
       "    <tr>\n",
       "      <th>577957</th>\n",
       "      <td>66462185</td>\n",
       "      <td>0</td>\n",
       "      <td>0</td>\n",
       "      <td>0</td>\n",
       "      <td>0</td>\n",
       "      <td>0</td>\n",
       "      <td>0</td>\n",
       "      <td>0</td>\n",
       "      <td>0</td>\n",
       "      <td>0</td>\n",
       "      <td>0</td>\n",
       "      <td>0</td>\n",
       "      <td>0</td>\n",
       "      <td>0</td>\n",
       "      <td>0</td>\n",
       "    </tr>\n",
       "    <tr>\n",
       "      <th>577958</th>\n",
       "      <td>66462486</td>\n",
       "      <td>0</td>\n",
       "      <td>0</td>\n",
       "      <td>0</td>\n",
       "      <td>0</td>\n",
       "      <td>0</td>\n",
       "      <td>0</td>\n",
       "      <td>0</td>\n",
       "      <td>0</td>\n",
       "      <td>0</td>\n",
       "      <td>0</td>\n",
       "      <td>0</td>\n",
       "      <td>0</td>\n",
       "      <td>0</td>\n",
       "      <td>0</td>\n",
       "    </tr>\n",
       "    <tr>\n",
       "      <th>577959</th>\n",
       "      <td>65728252</td>\n",
       "      <td>0</td>\n",
       "      <td>0</td>\n",
       "      <td>0</td>\n",
       "      <td>0</td>\n",
       "      <td>0</td>\n",
       "      <td>0</td>\n",
       "      <td>0</td>\n",
       "      <td>0</td>\n",
       "      <td>0</td>\n",
       "      <td>0</td>\n",
       "      <td>0</td>\n",
       "      <td>0</td>\n",
       "      <td>0</td>\n",
       "      <td>0</td>\n",
       "    </tr>\n",
       "    <tr>\n",
       "      <th>577960</th>\n",
       "      <td>66464892</td>\n",
       "      <td>0</td>\n",
       "      <td>0</td>\n",
       "      <td>0</td>\n",
       "      <td>0</td>\n",
       "      <td>0</td>\n",
       "      <td>0</td>\n",
       "      <td>0</td>\n",
       "      <td>0</td>\n",
       "      <td>0</td>\n",
       "      <td>0</td>\n",
       "      <td>0</td>\n",
       "      <td>0</td>\n",
       "      <td>0</td>\n",
       "      <td>0</td>\n",
       "    </tr>\n",
       "    <tr>\n",
       "      <th>577961</th>\n",
       "      <td>66464822</td>\n",
       "      <td>0</td>\n",
       "      <td>0</td>\n",
       "      <td>0</td>\n",
       "      <td>0</td>\n",
       "      <td>0</td>\n",
       "      <td>0</td>\n",
       "      <td>0</td>\n",
       "      <td>0</td>\n",
       "      <td>0</td>\n",
       "      <td>0</td>\n",
       "      <td>0</td>\n",
       "      <td>0</td>\n",
       "      <td>0</td>\n",
       "      <td>0</td>\n",
       "    </tr>\n",
       "  </tbody>\n",
       "</table>\n",
       "<p>577962 rows × 15 columns</p>\n",
       "</div>"
      ],
      "text/plain": [
       "           patid  outcome_3months  outcome_6months  outcome_9months  \\\n",
       "0       43231452                0                0                0   \n",
       "1       43206365                0                0                0   \n",
       "2       43203606                0                0                0   \n",
       "3       43117348                0                0                0   \n",
       "4       43289035                0                0                0   \n",
       "...          ...              ...              ...              ...   \n",
       "577957  66462185                0                0                0   \n",
       "577958  66462486                0                0                0   \n",
       "577959  65728252                0                0                0   \n",
       "577960  66464892                0                0                0   \n",
       "577961  66464822                0                0                0   \n",
       "\n",
       "        outcome_12months  outcome_15months  outcome_18months  \\\n",
       "0                      0                 0                 0   \n",
       "1                      0                 0                 0   \n",
       "2                      0                 0                 0   \n",
       "3                      0                 0                 0   \n",
       "4                      0                 0                 0   \n",
       "...                  ...               ...               ...   \n",
       "577957                 0                 0                 0   \n",
       "577958                 0                 0                 0   \n",
       "577959                 0                 0                 0   \n",
       "577960                 0                 0                 0   \n",
       "577961                 0                 0                 0   \n",
       "\n",
       "        outcome_21months  outcome_24months  outcome_combined_6months  \\\n",
       "0                      0                 0                         0   \n",
       "1                      0                 0                         0   \n",
       "2                      0                 0                         0   \n",
       "3                      0                 0                         0   \n",
       "4                      0                 0                         0   \n",
       "...                  ...               ...                       ...   \n",
       "577957                 0                 0                         0   \n",
       "577958                 0                 0                         0   \n",
       "577959                 0                 0                         0   \n",
       "577960                 0                 0                         0   \n",
       "577961                 0                 0                         0   \n",
       "\n",
       "        outcome_combined_9months  outcome_combined_12months  \\\n",
       "0                              0                          0   \n",
       "1                              0                          0   \n",
       "2                              0                          0   \n",
       "3                              0                          0   \n",
       "4                              0                          0   \n",
       "...                          ...                        ...   \n",
       "577957                         0                          0   \n",
       "577958                         0                          0   \n",
       "577959                         0                          0   \n",
       "577960                         0                          0   \n",
       "577961                         0                          0   \n",
       "\n",
       "        outcome_combined_15months  outcome_combined_18months  \\\n",
       "0                               0                          0   \n",
       "1                               0                          0   \n",
       "2                               0                          0   \n",
       "3                               0                          0   \n",
       "4                               0                          0   \n",
       "...                           ...                        ...   \n",
       "577957                          0                          0   \n",
       "577958                          0                          0   \n",
       "577959                          0                          0   \n",
       "577960                          0                          0   \n",
       "577961                          0                          0   \n",
       "\n",
       "        outcome_combined_24months  \n",
       "0                               0  \n",
       "1                               0  \n",
       "2                               0  \n",
       "3                               0  \n",
       "4                               0  \n",
       "...                           ...  \n",
       "577957                          0  \n",
       "577958                          0  \n",
       "577959                          0  \n",
       "577960                          0  \n",
       "577961                          0  \n",
       "\n",
       "[577962 rows x 15 columns]"
      ]
     },
     "execution_count": 17,
     "metadata": {},
     "output_type": "execute_result"
    }
   ],
   "source": [
    "outcomes"
   ]
  },
  {
   "cell_type": "markdown",
   "id": "41c07b40-babf-4c91-b495-ddbe1675cc48",
   "metadata": {},
   "source": [
    "# END"
   ]
  }
 ],
 "metadata": {
  "kernelspec": {
   "display_name": "Python 3 (ipykernel)",
   "language": "python",
   "name": "python3"
  },
  "language_info": {
   "codemirror_mode": {
    "name": "ipython",
    "version": 3
   },
   "file_extension": ".py",
   "mimetype": "text/x-python",
   "name": "python",
   "nbconvert_exporter": "python",
   "pygments_lexer": "ipython3",
   "version": "3.10.11"
  }
 },
 "nbformat": 4,
 "nbformat_minor": 5
}
