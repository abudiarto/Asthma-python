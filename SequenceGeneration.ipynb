{
 "cells": [
  {
   "cell_type": "markdown",
   "id": "4ab24288-971e-4578-9845-6b28254354d2",
   "metadata": {
    "tags": []
   },
   "source": [
    "# Sequence data preprocessing"
   ]
  },
  {
   "cell_type": "code",
   "execution_count": 1,
   "id": "a657b3a1-dc2c-455d-954c-3fca2ac33cdf",
   "metadata": {
    "tags": []
   },
   "outputs": [],
   "source": [
    "import pandas as pd\n",
    "import cudf\n",
    "import pyreadr\n",
    "import numpy as np\n",
    "import torch\n",
    "import pickle\n",
    "from os import listdir\n",
    "from os.path import isfile, join"
   ]
  },
  {
   "cell_type": "code",
   "execution_count": 24,
   "id": "368baee7-17dc-4734-96f5-3c5139c9930d",
   "metadata": {
    "tags": []
   },
   "outputs": [],
   "source": []
  },
  {
   "cell_type": "code",
   "execution_count": 11,
   "id": "45234f3f-ab9d-4b6c-ba35-521e7e17c52b",
   "metadata": {
    "tags": []
   },
   "outputs": [
    {
     "data": {
      "text/plain": [
       "Index(['patid', 'length_read_code_seq', 'read_code_seq_padded',\n",
       "       'read_code_seq_padded_end', 'month_padded', 'month_padded_end'],\n",
       "      dtype='object')"
      ]
     },
     "execution_count": 11,
     "metadata": {},
     "output_type": "execute_result"
    }
   ],
   "source": [
    "# file1 = pickle.load(open('../SeqModel/SeqChunks/seq_data_1.sav', 'rb'))\n",
    "file1.columns"
   ]
  },
  {
   "cell_type": "code",
   "execution_count": 22,
   "id": "64c01226-5ead-4c97-a2d8-ea13efb71179",
   "metadata": {
    "tags": []
   },
   "outputs": [
    {
     "name": "stderr",
     "output_type": "stream",
     "text": [
      "/opt/conda/envs/rapids/lib/python3.10/site-packages/pyreadr/_pyreadr_parser.py:233: RuntimeWarning: invalid value encountered in cast\n",
      "  df[colname] = df[colname].values.astype(\"datetime64[D]\").astype(datetime)\n",
      "/opt/conda/envs/rapids/lib/python3.10/site-packages/pandas/core/tools/datetimes.py:557: RuntimeWarning: invalid value encountered in cast\n",
      "  arr, tz_parsed = tslib.array_with_unit_to_datetime(arg, unit, errors=errors)\n",
      "/opt/conda/envs/rapids/lib/python3.10/site-packages/pandas/core/tools/datetimes.py:557: RuntimeWarning: invalid value encountered in multiply\n",
      "  arr, tz_parsed = tslib.array_with_unit_to_datetime(arg, unit, errors=errors)\n",
      "/opt/conda/envs/rapids/lib/python3.10/site-packages/pyreadr/_pyreadr_parser.py:233: RuntimeWarning: invalid value encountered in cast\n",
      "  df[colname] = df[colname].values.astype(\"datetime64[D]\").astype(datetime)\n",
      "/opt/conda/envs/rapids/lib/python3.10/site-packages/pyreadr/_pyreadr_parser.py:233: RuntimeWarning: invalid value encountered in cast\n",
      "  df[colname] = df[colname].values.astype(\"datetime64[D]\").astype(datetime)\n"
     ]
    }
   ],
   "source": [
    "patient = pyreadr.read_r('../ServerData_13Oct2020/d_patient_overall.Rdata')\n",
    "practice = pyreadr.read_r('../ServerData_13Oct2020/d_practice.Rdata')"
   ]
  },
  {
   "cell_type": "code",
   "execution_count": 25,
   "id": "9b90b10e-aa0f-44c5-8bca-46eacea99898",
   "metadata": {
    "tags": []
   },
   "outputs": [],
   "source": [
    "patient = patient['d_patient_overall']\n",
    "practice = practice['d_practice']\n",
    "\n",
    "#Age in 2016-01-01\n",
    "patient['age'] = patient.year_of_birth.apply(lambda x: 2016-x)"
   ]
  },
  {
   "cell_type": "code",
   "execution_count": 46,
   "id": "9a442864-409d-4341-85bb-206e6fcd6d93",
   "metadata": {
    "tags": []
   },
   "outputs": [],
   "source": [
    "def fix_system(x):\n",
    "    if ('SystmOne' in x):\n",
    "        return 'SystemOne'\n",
    "    elif ('emis' in x) | ('Emis' in x) | ('EMIS' in x):\n",
    "        return 'EMIS'\n",
    "    elif ('Vision' in x):\n",
    "        return 'Vision'\n",
    "    elif ('iSoft' in x):\n",
    "        return 'iSoft'\n",
    "    elif ('Microtest' in x):\n",
    "        return 'Microtest'\n",
    "    else:\n",
    "        return 'unknown'"
   ]
  },
  {
   "cell_type": "code",
   "execution_count": 48,
   "id": "63691e06-fcf5-4bb0-ae7d-2c864a49c381",
   "metadata": {
    "tags": []
   },
   "outputs": [],
   "source": [
    "practice['system'] = practice.apply(lambda x: fix_system(x.system), axis=1)"
   ]
  },
  {
   "cell_type": "code",
   "execution_count": 50,
   "id": "5f9ea418-1f37-4db5-86d7-706d8a9493ae",
   "metadata": {
    "tags": []
   },
   "outputs": [],
   "source": [
    "patient = patient[['patid', 'practice_id', 'age']].merge(practice[['practice_id', 'Country', 'system']], how='left', on='practice_id')"
   ]
  },
  {
   "cell_type": "code",
   "execution_count": null,
   "id": "e1a9136b-ca80-4d0b-80b0-35f9cbd304ab",
   "metadata": {
    "tags": []
   },
   "outputs": [],
   "source": [
    "# Outcomes data\n",
    "outcomes = cudf.read_csv(\"../FinalData/cleaned_outcomes_2vs1_15112023.csv\")\n",
    "outcomes['3months'] = outcomes.apply(lambda x: x.outcome_3months, axis=1)\n",
    "outcomes['6months'] = outcomes.apply(lambda x: (x.outcome_3months)|(x.outcome_6months), axis=1)\n",
    "outcomes['9months'] = outcomes.apply(lambda x: (x.outcome_3months)|(x.outcome_6months)|(x.outcome_9months), axis=1)\n",
    "outcomes['12months'] = outcomes.apply(lambda x: (x.outcome_3months)|(x.outcome_6months)|(x.outcome_9months)|(x.outcome_12months), axis=1)"
   ]
  },
  {
   "cell_type": "markdown",
   "id": "473a584d-ebf8-419d-9fe0-31ee057e7bef",
   "metadata": {
    "jp-MarkdownHeadingCollapsed": true,
    "tags": []
   },
   "source": [
    "# Clinical"
   ]
  },
  {
   "cell_type": "code",
   "execution_count": null,
   "id": "20ac4658-b423-4955-ae0e-15c9eb2999fd",
   "metadata": {
    "tags": []
   },
   "outputs": [],
   "source": [
    "#load clinical information\n",
    "path = '../ServerData_13Oct2020/'\n",
    "clinical_files = [join(path, f) for f in listdir(path) if (isfile(join(path, f))) & ('f_clinical_part' in f)]\n",
    "clinical = pyreadr.read_r('../ServerData_13Oct2020/f_clinical_part1.Rdata')\n",
    "clinical = clinical['f_clinical_part']\n",
    "# for file in clinical_files[1:3]:\n",
    "#     temp = pyreadr.read_r(file)\n",
    "#     temp = temp['f_clinical_part']\n",
    "#     print(temp.shape)\n",
    "#     clinical = pd.concat([clinical, temp])\n",
    "#     clinical.reset_index(drop=True, inplace=True)"
   ]
  },
  {
   "cell_type": "code",
   "execution_count": null,
   "id": "8cc5da28-89ff-4bd5-9aeb-0af4cc575795",
   "metadata": {
    "tags": []
   },
   "outputs": [],
   "source": [
    "clinical.shape"
   ]
  },
  {
   "cell_type": "code",
   "execution_count": null,
   "id": "6099505f-cb42-4924-a23c-2705135c1afa",
   "metadata": {
    "tags": []
   },
   "outputs": [],
   "source": [
    "#data selection \n",
    "clinical = clinical.dropna(subset=['code_id'])\n",
    "clinical['event_date'] = pd.to_datetime(clinical['event_date'])\n",
    "clinical = clinical.loc[(clinical['event_date'] >= '2013-01-01') & (clinical['event_date'] < '2018-01-01')]"
   ]
  },
  {
   "cell_type": "code",
   "execution_count": null,
   "id": "76a74a00-2108-41e4-9498-cf06ba4786e8",
   "metadata": {
    "tags": []
   },
   "outputs": [],
   "source": [
    "print(clinical.patid.unique().shape)\n",
    "print(clinical.shape)"
   ]
  },
  {
   "cell_type": "code",
   "execution_count": null,
   "id": "de518074-2d36-4d0f-9e70-e8a938bf2723",
   "metadata": {
    "tags": []
   },
   "outputs": [],
   "source": [
    "#vocab and code2idx generation\n",
    "vocab = clinical.code_id.unique().tolist()\n",
    "idx = range(1, len(vocab)+1)\n",
    "\n",
    "code2idx = dict(zip(vocab, idx))\n",
    "idx2code = dict(zip(idx, vocab))\n",
    "\n",
    "code2idx['PAD'] = 0\n",
    "idx2code[0] = 'PAD'\n",
    "VOCAB_SIZE = len(code2idx)\n",
    "print('code2idx Size: {}'.format(len(code2idx)))\n",
    "print('idx2code Size: {}'.format(len(idx2code)))"
   ]
  },
  {
   "cell_type": "code",
   "execution_count": null,
   "id": "c0dd4305-7942-45e4-bc1a-d0586ea1a415",
   "metadata": {
    "tags": []
   },
   "outputs": [],
   "source": [
    "#extract year, month, day from event date\n",
    "clinical['day'] = clinical.apply(lambda x: str(x['event_date'].day), axis=1)\n",
    "clinical['month'] = clinical.apply(lambda x: str(x['event_date'].month), axis=1)\n",
    "clinical['year'] = clinical.apply(lambda x: str(x['event_date'].year), axis=1)"
   ]
  },
  {
   "cell_type": "code",
   "execution_count": null,
   "id": "f81e3634-77a6-40cc-89c3-ea7c91fda6ce",
   "metadata": {
    "tags": []
   },
   "outputs": [],
   "source": [
    "print(clinical.patid.unique().shape)\n",
    "print(clinical.shape)"
   ]
  },
  {
   "cell_type": "code",
   "execution_count": null,
   "id": "77186f16-1d90-4e93-8fe9-9b5446e50270",
   "metadata": {
    "tags": []
   },
   "outputs": [],
   "source": [
    "clinical.reset_index(drop=True, inplace=True)\n",
    "clinical['read_code_seq_perdate'] = clinical.sort_values(['event_date'], ascending=True).groupby(['patid', 'event_date'])['code_id'].transform(lambda x: ', '.join(x))\n",
    "clinical['read_code_seq_perdate'] = clinical['read_code_seq_perdate'].apply(lambda x: 'start_visit, ' + x + ', end_visit')\n",
    "clinical = clinical.drop_duplicates(subset=['patid', 'event_date']).reset_index(drop=True)\n",
    "clinical['read_code_seq'] = clinical.sort_values(['event_date'], ascending=True).groupby(['patid'])['read_code_seq_perdate'].transform(lambda x: ', '.join(x))\n",
    "# clinical['read_code_seq'] = clinical.sort_values(['event_date'], ascending=True).groupby('patid')['code_id'].transform(lambda x: ', '.join(x))\n",
    "event_data_seq = clinical.sort_values(['event_date']).groupby('patid').agg({'day': lambda x: x.tolist(),\n",
    "                                                          'month': lambda x: x.tolist(),\n",
    "                                                          'year': lambda x: x.tolist()}).reset_index()\n",
    "clinical = clinical.drop_duplicates(subset=['patid']).reset_index(drop=True)     "
   ]
  },
  {
   "cell_type": "code",
   "execution_count": null,
   "id": "0511385e-9ac7-4a10-bc20-7f48d303e99c",
   "metadata": {
    "tags": []
   },
   "outputs": [],
   "source": [
    "print(clinical.patid.unique().shape)\n",
    "print(clinical.shape)"
   ]
  },
  {
   "cell_type": "code",
   "execution_count": null,
   "id": "80a6c10e-234d-43a4-ad4d-d1df481a9c56",
   "metadata": {
    "tags": []
   },
   "outputs": [],
   "source": [
    "data = clinical[['patid', 'read_code_seq']].merge(event_data_seq, how='left', on='patid')\n",
    "data = data.merge(outcomes[['patid', 'outcome_3months','outcome_combined_6months','outcome_combined_12months',\n",
    "                           'outcome_combined_24months']], how='inner', on='patid')\n",
    "data.outcome_combined_12months.value_counts()"
   ]
  },
  {
   "cell_type": "code",
   "execution_count": null,
   "id": "40b26ad4-cdeb-48fc-9779-d78b76010b1f",
   "metadata": {
    "tags": []
   },
   "outputs": [],
   "source": [
    "print(data.patid.unique().shape)\n",
    "print(data.shape)"
   ]
  },
  {
   "cell_type": "code",
   "execution_count": null,
   "id": "89d1523d-1127-4d50-b0da-dc5bcc85c691",
   "metadata": {
    "tags": []
   },
   "outputs": [],
   "source": [
    "data['read_code_seq'] = data['read_code_seq'].apply(lambda x: x.strip('\"\"').split(', '))\n",
    "data['length_read_code_seq'] = data['read_code_seq'].apply(lambda x: len(x))\n",
    "data = data[data.length_read_code_seq > 10]"
   ]
  },
  {
   "cell_type": "code",
   "execution_count": null,
   "id": "4ac77cae-6483-408e-bd4f-521a9958eb15",
   "metadata": {
    "tags": []
   },
   "outputs": [],
   "source": [
    "data_therapy[data_therapy.length_read_code_seq>50].shape"
   ]
  },
  {
   "cell_type": "code",
   "execution_count": null,
   "id": "a1825df4-22b7-4684-9874-d22bda64ef80",
   "metadata": {
    "tags": []
   },
   "outputs": [],
   "source": [
    "print(data.patid.unique().shape)\n",
    "print(data.shape)"
   ]
  },
  {
   "cell_type": "code",
   "execution_count": null,
   "id": "db0e4090-e437-446a-a2e1-1216886b30c3",
   "metadata": {
    "tags": []
   },
   "outputs": [],
   "source": [
    "#padding at the beginning of the list\n",
    "max_seq = 500\n",
    "def make_uniform_data(x):\n",
    "    if len(x) < max_seq:\n",
    "        pads = ['PAD'] * (max_seq - len(x))\n",
    "        return pads + x\n",
    "    elif len(x) > max_seq:\n",
    "        x = x[len(x)-max_seq:]\n",
    "        return x\n",
    "    else:\n",
    "        return x"
   ]
  },
  {
   "cell_type": "code",
   "execution_count": null,
   "id": "1e69e460-2953-485b-b4c8-5ac980603a58",
   "metadata": {
    "tags": []
   },
   "outputs": [],
   "source": [
    "data['read_code_seq_padded'] = data['read_code_seq'].apply(lambda x: make_uniform_data(x))\n",
    "data['read_code_seq_padded_idx'] = data['read_code_seq_padded'].apply(lambda x: [code2idx.get(key) for key in x])\n",
    "data = data.merge(patient[['patid', 'Country', 'age']], how='left', on='patid')\n",
    "data = data.drop_duplicates(subset=['patid']).reset_index(drop=True)     "
   ]
  },
  {
   "cell_type": "code",
   "execution_count": null,
   "id": "6521b1e5-19b7-4443-9610-8079b5ef8cbe",
   "metadata": {
    "tags": []
   },
   "outputs": [],
   "source": [
    "print(data.patid.unique().shape)\n",
    "print(data.shape)"
   ]
  },
  {
   "cell_type": "code",
   "execution_count": null,
   "id": "7692c189-e328-425c-a021-9f72212aafde",
   "metadata": {
    "tags": []
   },
   "outputs": [],
   "source": [
    "#SAVE all important materials\n",
    "pickle.dump(code2idx, open('../SeqModel/code2idx.sav', 'wb'))\n",
    "pickle.dump(idx2code, open('../SeqModel/idx2code.sav', 'wb'))\n",
    "pickle.dump(data, open('../SeqModel/data.sav', 'wb'))\n",
    "data.to_csv('../SeqModel/seqDataRaw.csv', index_label=False, index=False)"
   ]
  },
  {
   "cell_type": "code",
   "execution_count": null,
   "id": "deef7eb7-a783-46c4-909a-d0ef38c1bf5c",
   "metadata": {
    "tags": []
   },
   "outputs": [],
   "source": [
    "data.length_read_code_seq.hist(bins=50)"
   ]
  },
  {
   "cell_type": "code",
   "execution_count": null,
   "id": "0ebd515b-e9c0-41aa-8754-5d5691388d5c",
   "metadata": {
    "tags": []
   },
   "outputs": [],
   "source": [
    "data[data.length_read_code_seq > 300].shape"
   ]
  },
  {
   "cell_type": "code",
   "execution_count": null,
   "id": "9a3177b2-a484-47d9-a671-d0040640557c",
   "metadata": {
    "tags": []
   },
   "outputs": [],
   "source": [
    "# a = pickle.load(open('../SeqModel/data.sav', 'rb'))"
   ]
  },
  {
   "cell_type": "markdown",
   "id": "80626e8d-53fa-40d2-b494-a1733842df4c",
   "metadata": {
    "jp-MarkdownHeadingCollapsed": true,
    "tags": []
   },
   "source": [
    "# Medication"
   ]
  },
  {
   "cell_type": "code",
   "execution_count": null,
   "id": "9afc7650-bcfc-4a1f-b2f3-5074b0a582b7",
   "metadata": {
    "tags": []
   },
   "outputs": [],
   "source": [
    "#add paractice information\n",
    "\n",
    "#load clinical information\n",
    "path = '../ServerData_13Oct2020/'\n",
    "therapy_files = [join(path, f) for f in listdir(path) if (isfile(join(path, f))) & ('f_therapy_part' in f)]\n",
    "therapy = pyreadr.read_r('../ServerData_13Oct2020/f_therapy_part1.Rdata')\n",
    "therapy = therapy['f_therapy_part']\n",
    "# for file in therapy_files[1:3]:\n",
    "#     temp = pyreadr.read_r(file)\n",
    "#     temp = temp['f_therapy_part']\n",
    "#     print(temp.shape)\n",
    "#     therapy = pd.concat([therapy, temp])\n",
    "#     therapy.reset_index(drop=True, inplace=True)"
   ]
  },
  {
   "cell_type": "code",
   "execution_count": null,
   "id": "aa4e2197-1bb5-4308-b860-85a38a91d977",
   "metadata": {
    "tags": []
   },
   "outputs": [],
   "source": [
    "#data selection \n",
    "therapy = therapy.dropna(subset=['code_id'])\n",
    "therapy['event_date'] = pd.to_datetime(therapy['event_date'])\n",
    "therapy = therapy.loc[(therapy['event_date'] >= '2013-01-01') & (therapy['event_date'] < '2018-01-01')]"
   ]
  },
  {
   "cell_type": "code",
   "execution_count": null,
   "id": "399e3d72-97a5-4b13-b0bd-356a1e50ed80",
   "metadata": {
    "tags": []
   },
   "outputs": [],
   "source": [
    "# therapy['new_code'] = therapy.apply(lambda x: x['code_id'] + '_' + str(x['dose_id']), axis=1)"
   ]
  },
  {
   "cell_type": "code",
   "execution_count": null,
   "id": "1713110c-1515-4c24-80b3-1dbea5f6dc98",
   "metadata": {
    "tags": []
   },
   "outputs": [],
   "source": [
    "therapy.shape"
   ]
  },
  {
   "cell_type": "code",
   "execution_count": null,
   "id": "6dc60ff2-015b-4fc8-9bfc-0f9fb15c351a",
   "metadata": {
    "tags": []
   },
   "outputs": [],
   "source": [
    "alllist = c['read_code_seq'].values[0]+c['read_code_seq'].values[0]"
   ]
  },
  {
   "cell_type": "code",
   "execution_count": null,
   "id": "aa561ae7-0d24-4c2e-a47b-4a1bed934bc2",
   "metadata": {
    "tags": []
   },
   "outputs": [],
   "source": [
    "len(list(set(alllist)))"
   ]
  },
  {
   "cell_type": "code",
   "execution_count": null,
   "id": "1ca7c589-2e97-4739-ba2f-ddf56dd96734",
   "metadata": {
    "tags": []
   },
   "outputs": [],
   "source": [
    "therapy.patid.unique().shape"
   ]
  },
  {
   "cell_type": "code",
   "execution_count": null,
   "id": "ef3c8280-4a9f-4876-9b91-d56c596e416e",
   "metadata": {
    "tags": []
   },
   "outputs": [],
   "source": [
    "therapy.shape"
   ]
  },
  {
   "cell_type": "code",
   "execution_count": null,
   "id": "905aee14-b516-4b48-9edc-b0e70442e40d",
   "metadata": {
    "tags": []
   },
   "outputs": [],
   "source": [
    "#vocab and code2idx generation\n",
    "vocab_therapy = therapy.code_id.unique().tolist()\n",
    "idx_therapy = range(1, len(vocab_therapy)+1)\n",
    "\n",
    "code2idx_therapy = dict(zip(vocab_therapy, idx_therapy))\n",
    "idx2code_therapy = dict(zip(idx_therapy, vocab_therapy))\n",
    "\n",
    "code2idx_therapy['PAD'] = 0\n",
    "# code2idx_therapy['start_visit'] = 1\n",
    "# code2idx_therapy['end_visit'] = 2\n",
    "idx2code_therapy[0] = 'PAD'\n",
    "# idx2code_therapy[1] = 'start_visit'\n",
    "# idx2code_therapy[2] = 'end_visit'\n",
    "VOCAB_SIZE = len(code2idx_therapy)\n",
    "print('code2idx Size: {}'.format(len(code2idx_therapy)))\n",
    "print('idx2code Size: {}'.format(len(idx2code_therapy)))\n",
    "# print(code2idx)\n",
    "\n",
    "\n",
    "#vocab for month sequence\n",
    "month_vocab_therapy = ['1', '2', '3', '4', '5', '6', '7', '8', '9', '10', '11', '12']\n",
    "month_idx_therapy = range(1, len(month_vocab_therapy)+1)\n",
    "\n",
    "month2idx_therapy = dict(zip(month_vocab_therapy, month_idx_therapy))\n",
    "idx2month_therapy = dict(zip(month_idx_therapy, month_vocab_therapy))\n",
    "\n",
    "month2idx_therapy['PAD'] = 0\n",
    "# code2idx_all['start_visit'] = 1\n",
    "# code2idx_all['end_visit'] = 2\n",
    "idx2month_therapy[0] = 'PAD'\n",
    "# idx2code_all[1] = 'start_visit'\n",
    "# idx2code_all[2] = 'end_visit'\n",
    "# VOCAB_SIZE = len(month2idx_all)\n",
    "print('code2idx Size: {}'.format(len(month2idx_therapy)))\n",
    "# print('idx2code Size: {}'.format(len(idx2code_all)))\n",
    "\n"
   ]
  },
  {
   "cell_type": "code",
   "execution_count": null,
   "id": "1def8e92-0710-49d5-954c-841e5b957d80",
   "metadata": {
    "tags": []
   },
   "outputs": [],
   "source": [
    "#extract year, month, day from event date\n",
    "therapy['day'] = therapy.apply(lambda x: str(x['event_date'].day), axis=1)\n",
    "therapy['month'] = therapy.apply(lambda x: str(x['event_date'].month), axis=1)\n",
    "therapy['year'] = therapy.apply(lambda x: str(x['event_date'].year), axis=1)\n",
    "therapy_event_date_seq = therapy.sort_values(['event_date'],  ascending=False).groupby('patid').agg({'day': lambda x: x.tolist(),\n",
    "                                                          'month': lambda x: x.tolist(),\n",
    "                                                          'year': lambda x: x.tolist()}).reset_index()"
   ]
  },
  {
   "cell_type": "code",
   "execution_count": null,
   "id": "869e7642-1db2-4a95-93cb-5afa4f0b772a",
   "metadata": {
    "tags": []
   },
   "outputs": [],
   "source": [
    "# therapy['read_code_seq_perdate'] = therapy.sort_values(['event_date'], ascending=True).groupby(['patid', 'event_date'])['code_id'].transform(lambda x: ', '.join(x))\n",
    "# therapy['read_code_seq_perdate'] = therapy['read_code_seq_perdate'].apply(lambda x: 'start_visit, ' + x + ', end_visit')\n",
    "# therapy = therapy.drop_duplicates(subset=['patid', 'event_date']).reset_index(drop=True)\n",
    "# therapy['read_code_seq'] = therapy.sort_values(['event_date'], ascending=True).groupby(['patid'])['read_code_seq_perdate'].transform(lambda x: ', '.join(x))\n",
    "# therapy['read_code_seq'] = therapy.sort_values(['event_date'], ascending=True).groupby(['patid'])['code_id'].transform(lambda x: ', '.join(x))\n",
    "therapy['read_code_seq'] = therapy.sort_values(['event_date'], ascending=False).groupby('patid')['code_id'].transform(lambda x: ', '.join(x))\n",
    "therapy = therapy.drop_duplicates(subset=['patid']).reset_index(drop=True)     \n",
    "therapy.reset_index(drop=True, inplace=True)\n",
    "therapy = therapy.drop_duplicates(subset=['patid']).reset_index(drop=True)     "
   ]
  },
  {
   "cell_type": "code",
   "execution_count": null,
   "id": "84b4d418-6295-4633-9007-5faddc328c3a",
   "metadata": {
    "tags": []
   },
   "outputs": [],
   "source": [
    "therapy.patid.unique().shape"
   ]
  },
  {
   "cell_type": "code",
   "execution_count": null,
   "id": "96ff5ea5-561d-4509-b724-bd9b83bbb574",
   "metadata": {
    "tags": []
   },
   "outputs": [],
   "source": [
    "therapy.shape"
   ]
  },
  {
   "cell_type": "code",
   "execution_count": null,
   "id": "13a48a10-9f3e-4569-976a-99158a2b0079",
   "metadata": {
    "tags": []
   },
   "outputs": [],
   "source": [
    "therapy.shape"
   ]
  },
  {
   "cell_type": "code",
   "execution_count": null,
   "id": "92266194-3944-4e0d-9641-0087b6909f19",
   "metadata": {
    "tags": []
   },
   "outputs": [],
   "source": [
    "data_therapy = therapy[['patid', 'read_code_seq']].merge(therapy_event_date_seq, how='left',  on='patid')\n",
    "print(data_therapy.shape)\n",
    "data_therapy = data_therapy.merge(outcomes[['patid', '3months','6months', '9months', '12months',]], how='inner', on='patid')\n",
    "print(data_therapy.shape)\n",
    "# data_therapy.outcome_combined_12months.value_counts()"
   ]
  },
  {
   "cell_type": "code",
   "execution_count": null,
   "id": "be9df318-a41e-428d-b7d0-c2fe0c47d0a8",
   "metadata": {
    "tags": []
   },
   "outputs": [],
   "source": [
    "data_therapy['read_code_seq'] = data_therapy['read_code_seq'].apply(lambda x: x.strip('\"\"').split(', '))\n",
    "data_therapy['length_read_code_seq'] = data_therapy['read_code_seq'].apply(lambda x: len(x))\n",
    "# data_therapy = data_therapy[data_therapy.length_read_code_seq > 10]"
   ]
  },
  {
   "cell_type": "code",
   "execution_count": null,
   "id": "dfe94462-be91-4801-8151-70c7f97895cc",
   "metadata": {
    "tags": []
   },
   "outputs": [],
   "source": [
    "data_therapy.patid.unique().shape\n",
    "data_therapy.shape"
   ]
  },
  {
   "cell_type": "code",
   "execution_count": null,
   "id": "31d09cb2-7690-418f-94a3-bb70e3beb9c8",
   "metadata": {
    "tags": []
   },
   "outputs": [],
   "source": [
    "data_therapy.length_read_code_seq.describe()"
   ]
  },
  {
   "cell_type": "code",
   "execution_count": null,
   "id": "5c1ba04c-84a3-473e-b598-0db74bf53257",
   "metadata": {
    "tags": []
   },
   "outputs": [],
   "source": [
    "data_therapy[data_therapy.length_read_code_seq > 150].shape"
   ]
  },
  {
   "cell_type": "code",
   "execution_count": null,
   "id": "304e70ff-78b0-43e2-a072-707888385048",
   "metadata": {
    "tags": []
   },
   "outputs": [],
   "source": [
    "#padding at the beginning of the list\n",
    "\n",
    "def make_uniform_data(x):\n",
    "    max_seq = 150\n",
    "    if len(x) < max_seq:\n",
    "        pads = ['PAD'] * (max_seq - len(x))\n",
    "        return pads + x\n",
    "    elif len(x) > max_seq:\n",
    "        x = x[len(x)-max_seq:]\n",
    "        return x\n",
    "    else:\n",
    "        return x\n",
    "    \n",
    "#padding at the end of the list\n",
    "def make_uniform_data_end(x):\n",
    "    max_seq = 150\n",
    "    if len(x) < max_seq:\n",
    "        pads = ['PAD'] * (max_seq - len(x))\n",
    "        return x + pads\n",
    "    elif len(x) > max_seq:\n",
    "        x = x[len(x)-max_seq:]\n",
    "        return x\n",
    "    else:\n",
    "        return x"
   ]
  },
  {
   "cell_type": "code",
   "execution_count": null,
   "id": "29b433a4-e3a6-4894-bf34-1a6e1ca22aa7",
   "metadata": {
    "tags": []
   },
   "outputs": [],
   "source": [
    "data_therapy['read_code_seq_padded'] = data_therapy['read_code_seq'].apply(lambda x: make_uniform_data(x))\n",
    "data_therapy['read_code_seq_padded_end'] = data_therapy['read_code_seq'].apply(lambda x: make_uniform_data_end(x))\n",
    "data_therapy['month_padded'] = data_therapy['month'].apply(lambda x: make_uniform_data(x))\n",
    "data_therapy['month_padded_end'] = data_therapy['month'].apply(lambda x: make_uniform_data_end(x))"
   ]
  },
  {
   "cell_type": "code",
   "execution_count": null,
   "id": "4581f523-89c9-4e24-8d29-51c7869fbbe0",
   "metadata": {
    "tags": []
   },
   "outputs": [],
   "source": [
    "# padded to index, and merge with patient data (age, Country)\n",
    "# data_all_big = data_all\n",
    "data_therapy['read_code_seq_padded_idx'] = data_therapy['read_code_seq_padded'].apply(lambda x: [code2idx_therapy.get(key) for key in x])\n",
    "data_therapy['read_code_seq_padded_idx_end'] = data_therapy['read_code_seq_padded_end'].apply(lambda x: [code2idx_therapy.get(key) for key in x])\n",
    "data_therapy['month_padded_idx'] = data_therapy['month_padded'].apply(lambda x: [month2idx_therapy.get(key) for key in x])\n",
    "data_therapy['month_padded_idx_end'] = data_therapy['month_padded_end'].apply(lambda x: [month2idx_therapy.get(key) for key in x])"
   ]
  },
  {
   "cell_type": "code",
   "execution_count": null,
   "id": "7da5dd07-946f-44fe-a6a6-2103a3dd4244",
   "metadata": {
    "tags": []
   },
   "outputs": [],
   "source": [
    "data_therapy = data_therapy.merge(patient[['patid', 'Country', 'age']], how='left', on='patid')\n",
    "data_therapy = data_therapy.drop_duplicates(subset=['patid']).reset_index(drop=True)     "
   ]
  },
  {
   "cell_type": "code",
   "execution_count": null,
   "id": "175b4673-e57c-43f7-8152-7c6a00832748",
   "metadata": {
    "tags": []
   },
   "outputs": [],
   "source": [
    "print(data_therapy.patid.unique().shape)\n",
    "print(data_therapy.shape)"
   ]
  },
  {
   "cell_type": "code",
   "execution_count": null,
   "id": "fdca844d-ada4-4eb3-9e78-9fb970500169",
   "metadata": {
    "tags": []
   },
   "outputs": [],
   "source": [
    "#SAVE all important materials\n",
    "pickle.dump(code2idx_therapy, open('../SeqModel/code2idx_therapy_long22112023.sav', 'wb'))\n",
    "pickle.dump(idx2code_therapy, open('../SeqModel/idx2code_therapy_long22112023.sav', 'wb'))\n",
    "pickle.dump(month_idx_therapy, open('../SeqModel/month2idx_therapy_long22112023.sav', 'wb'))\n",
    "pickle.dump(idx2month_therapy, open('../SeqModel/idx2month_therapy_long22112023.sav', 'wb'))\n",
    "pickle.dump(data_therapy, open('../SeqModel/data_therapy_long22112023.sav', 'wb'))\n",
    "# data_therapy.to_csv('../SeqModel/seqData_therapyRaw.csv', index_label=False, index=False)"
   ]
  },
  {
   "cell_type": "code",
   "execution_count": null,
   "id": "93982a3c-1795-4eba-a370-685d5aed9b6e",
   "metadata": {
    "tags": []
   },
   "outputs": [],
   "source": [
    "data_therapy.columns"
   ]
  },
  {
   "cell_type": "code",
   "execution_count": null,
   "id": "d281146d-2fb8-4df6-9acb-9547e493b8de",
   "metadata": {},
   "outputs": [],
   "source": []
  },
  {
   "cell_type": "code",
   "execution_count": null,
   "id": "6757b0bd-4e43-483c-ba8d-18f322ab4056",
   "metadata": {
    "tags": []
   },
   "outputs": [],
   "source": [
    "data_therapy.length_read_code_seq.hist()"
   ]
  },
  {
   "cell_type": "code",
   "execution_count": null,
   "id": "27980112-4df1-4b2a-bbf0-52b914aa8f09",
   "metadata": {
    "tags": []
   },
   "outputs": [],
   "source": [
    "data_therapy[data_therapy.length_read_code_seq<50].shape"
   ]
  },
  {
   "cell_type": "code",
   "execution_count": null,
   "id": "ef86cf0d-adc4-4e5d-809d-809da990a0b6",
   "metadata": {
    "tags": []
   },
   "outputs": [],
   "source": [
    "data_therapy.shape"
   ]
  },
  {
   "cell_type": "markdown",
   "id": "ec194629-9e2e-4ce8-9864-dd88d46642db",
   "metadata": {
    "tags": []
   },
   "source": [
    "# Combine clinical + therapy"
   ]
  },
  {
   "cell_type": "code",
   "execution_count": null,
   "id": "a72ffba2-6ff3-4ebf-ba18-ece347b173b4",
   "metadata": {
    "scrolled": true,
    "tags": []
   },
   "outputs": [],
   "source": [
    "#load clinical information\n",
    "path = '../ServerData_13Oct2020/'\n",
    "clinical_files = [join(path, f) for f in listdir(path) if (isfile(join(path, f))) & ('f_clinical_part' in f)]\n",
    "clinical = pyreadr.read_r('../ServerData_13Oct2020/f_clinical_part1.Rdata')\n",
    "clinical = clinical['f_clinical_part']\n",
    "for file in clinical_files[1:3]:\n",
    "    temp = pyreadr.read_r(file)\n",
    "    temp = temp['f_clinical_part']\n",
    "    print(temp.shape)\n",
    "    clinical = pd.concat([clinical, temp])\n",
    "    clinical.reset_index(drop=True, inplace=True)\n",
    "    \n",
    "#data selection \n",
    "clinical = clinical.dropna(subset=['code_id'])\n",
    "clinical['event_date'] = pd.to_datetime(clinical['event_date'])\n",
    "clinical = clinical.loc[(clinical['event_date'] >= '2008-01-01') & (clinical['event_date'] < '2018-01-01')]\n",
    "clinical = clinical[['patid', 'event_date', 'code_id']]"
   ]
  },
  {
   "cell_type": "code",
   "execution_count": null,
   "id": "bdd6ed64-8e51-43f5-b5c3-fb3c60d60697",
   "metadata": {
    "scrolled": true,
    "tags": []
   },
   "outputs": [],
   "source": [
    "#add paractice information\n",
    "\n",
    "#load clinical information\n",
    "path = '../ServerData_13Oct2020/'\n",
    "therapy_files = [join(path, f) for f in listdir(path) if (isfile(join(path, f))) & ('f_therapy_part' in f)]\n",
    "therapy = pyreadr.read_r('../ServerData_13Oct2020/f_therapy_part1.Rdata')\n",
    "therapy = therapy['f_therapy_part']\n",
    "for file in therapy_files[1:3]:\n",
    "    temp = pyreadr.read_r(file)\n",
    "    temp = temp['f_therapy_part']\n",
    "    print(temp.shape)\n",
    "    therapy = pd.concat([therapy, temp])\n",
    "    therapy.reset_index(drop=True, inplace=True)\n",
    "    \n",
    "#data selection \n",
    "therapy = therapy.dropna(subset=['code_id'])\n",
    "therapy['event_date'] = pd.to_datetime(therapy['event_date'])\n",
    "therapy = therapy.loc[(therapy['event_date'] >= '2008-01-01') & (therapy['event_date'] < '2018-01-01')]\n",
    "therapy = therapy[['patid', 'event_date', 'code_id']]"
   ]
  },
  {
   "cell_type": "code",
   "execution_count": null,
   "id": "68fabc9a-91da-4e6e-9784-4be208db1a4c",
   "metadata": {
    "tags": []
   },
   "outputs": [],
   "source": [
    "clinical['read_code_seq_perdate'] = clinical.sort_values(['event_date'], ascending=True).groupby(['patid', 'event_date'])['code_id'].transform(lambda x: ', '.join(x))\n",
    "therapy['read_code_seq_perdate'] = therapy.sort_values(['event_date'], ascending=True).groupby(['patid', 'event_date'])['code_id'].transform(lambda x: ', '.join(x))"
   ]
  },
  {
   "cell_type": "code",
   "execution_count": null,
   "id": "20c17acf-fc23-4d37-92d7-d86a6405f91d",
   "metadata": {
    "tags": []
   },
   "outputs": [],
   "source": [
    "print(clinical.shape)\n",
    "print(therapy.shape)"
   ]
  },
  {
   "cell_type": "code",
   "execution_count": 13,
   "id": "f07a5015-6c37-4aa5-980b-a6c1fa5c791c",
   "metadata": {
    "tags": []
   },
   "outputs": [],
   "source": [
    "all_vocab = pickle.load(open('../SeqModel/SeqChunks/vocab_1.sav', 'rb'))\n",
    "temp = pickle.load(open('../SeqModel/SeqChunks/vocab_2.sav', 'rb'))"
   ]
  },
  {
   "cell_type": "code",
   "execution_count": 21,
   "id": "465d5a13-5b27-482e-82d8-cf2a5fcd977b",
   "metadata": {
    "tags": []
   },
   "outputs": [
    {
     "data": {
      "text/plain": [
       "51314"
      ]
     },
     "execution_count": 21,
     "metadata": {},
     "output_type": "execute_result"
    }
   ],
   "source": []
  },
  {
   "cell_type": "code",
   "execution_count": null,
   "id": "2639714e-1395-4045-8c6f-0a647507a129",
   "metadata": {
    "tags": []
   },
   "outputs": [],
   "source": [
    "all_raw_data = clinical.merge(therapy, how='outer', on=['patid', 'event_date'], suffixes=['_ther', '_clin'], )\n",
    "clinical = []\n",
    "therapy = []\n",
    "all_raw_data = all_raw_data.fillna('NO_CODE')\n",
    "#extract year, month, day from event date\n",
    "all_raw_data['day'] = all_raw_data.apply(lambda x: str(x['event_date'].day), axis=1)\n",
    "all_raw_data['month'] = all_raw_data.apply(lambda x: str(x['event_date'].month), axis=1)\n",
    "all_raw_data['year'] = all_raw_data.apply(lambda x: str(x['event_date'].year), axis=1)\n",
    "event_data_seq_all = all_raw_data.sort_values(['event_date'],  ascending=True).groupby('patid').agg({'day': lambda x: x.tolist(),\n",
    "                                                          'month': lambda x: x.tolist(),\n",
    "                                                          'year': lambda x: x.tolist()}).reset_index()\n",
    "all_raw_data['read_code_seq_perdate'] = all_raw_data.apply(lambda x: x.read_code_seq_perdate_clin + ', '+ x.read_code_seq_perdate_ther, axis=1)\n",
    "all_raw_data=all_raw_data.drop_duplicates(['patid', 'event_date'])\n",
    "all_raw_data.reset_index(drop=True, inplace=True)\n",
    "all_raw_data = all_raw_data[['patid', 'event_date', 'read_code_seq_perdate_ther', 'read_code_seq_perdate_clin', 'read_code_seq_perdate']]"
   ]
  },
  {
   "cell_type": "code",
   "execution_count": null,
   "id": "7057b296-8242-4b4d-a031-7ff64d658343",
   "metadata": {
    "tags": []
   },
   "outputs": [],
   "source": [
    "print(all_raw_data.shape)\n",
    "print(all_raw_data.patid.unique().shape)"
   ]
  },
  {
   "cell_type": "code",
   "execution_count": null,
   "id": "c80285e0-2635-409f-a912-6ddaff72fffd",
   "metadata": {
    "tags": []
   },
   "outputs": [],
   "source": [
    "all_raw_data['read_code_seq'] = all_raw_data.sort_values(['event_date'], ascending=True).groupby(['patid'])['read_code_seq_perdate'].transform(lambda x: ', '.join(x))\n",
    "all_raw_data['read_code_seq_clinical'] = all_raw_data.sort_values(['event_date'], ascending=True).groupby(['patid'])['read_code_seq_perdate_clin'].transform(lambda x: ', '.join(x))\n",
    "all_raw_data['read_code_seq_therapy'] = all_raw_data.sort_values(['event_date'], ascending=True).groupby(['patid'])['read_code_seq_perdate_ther'].transform(lambda x: ', '.join(x))\n",
    "all_raw_data=all_raw_data.drop_duplicates(['patid'])\n",
    "all_raw_data.reset_index(drop=True, inplace=True)\n",
    "all_raw_data['read_code_seq'] = all_raw_data['read_code_seq'].apply(lambda x: x.strip('\"\"').split(', '))\n",
    "all_raw_data['length_read_code_seq'] = all_raw_data['read_code_seq'].apply(lambda x: len(x))\n",
    "all_raw_data = all_raw_data.merge(event_data_seq_all, how='left',  on='patid')\n"
   ]
  },
  {
   "cell_type": "code",
   "execution_count": null,
   "id": "12be1b9c-7a71-461a-bd39-ef3a68e96487",
   "metadata": {
    "tags": []
   },
   "outputs": [],
   "source": [
    "all_raw_data.length_read_code_seq.describe()"
   ]
  },
  {
   "cell_type": "code",
   "execution_count": null,
   "id": "be62d45b-5146-4ef1-8322-b94c531b0051",
   "metadata": {
    "tags": []
   },
   "outputs": [],
   "source": [
    "all_raw_data[all_raw_data.length_read_code_seq>1500].shape"
   ]
  },
  {
   "cell_type": "code",
   "execution_count": null,
   "id": "5ce6dd0a-8324-4985-acde-eb911b1704bf",
   "metadata": {
    "tags": []
   },
   "outputs": [],
   "source": [
    "print(all_raw_data.shape)\n",
    "print(all_raw_data.patid.unique().shape)"
   ]
  },
  {
   "cell_type": "code",
   "execution_count": null,
   "id": "e0efef39-45ad-4f0d-a9c8-e20c1863d1aa",
   "metadata": {
    "tags": []
   },
   "outputs": [],
   "source": [
    "# all_raw_data = pd.concat([clinical[['patid', 'event_date', 'code_id']],\n",
    "#            therapy[['patid', 'event_date', 'code_id']]])\n",
    "# all_raw_data.reset_index(drop=True, inplace=True)"
   ]
  },
  {
   "cell_type": "code",
   "execution_count": null,
   "id": "48a01fc2-b4bc-4256-800c-f4943f56b95e",
   "metadata": {
    "tags": []
   },
   "outputs": [],
   "source": [
    "# all_raw_data.reset_index(drop=True, inplace=True)\n",
    "# all_raw_data['read_code_seq_perdate'] = all_raw_data.sort_values(['event_date'], ascending=True).groupby(['patid', 'event_date'])['code_id'].transform(lambda x: ', '.join(x))\n",
    "# all_raw_data['read_code_seq_perdate'] = all_raw_data['read_code_seq_perdate'].apply(lambda x: 'start_visit, ' + x + ', end_visit')\n",
    "# all_raw_data = all_raw_data.drop_duplicates(subset=['patid', 'event_date']).reset_index(drop=True)\n",
    "# all_raw_data['read_code_seq'] = all_raw_data.sort_values(['event_date'], ascending=True).groupby(['patid'])['read_code_seq_perdate'].transform(lambda x: ', '.join(x))\n",
    "# all_raw_data['read_code_seq'] = all_raw_data.sort_values(['event_date'], ascending=False).groupby('patid')['code_id'].transform(lambda x: ', '.join(x))\n",
    "# all_raw_data = all_raw_data.drop_duplicates(subset=['patid']).reset_index(drop=True)     "
   ]
  },
  {
   "cell_type": "code",
   "execution_count": null,
   "id": "bc37ef88-4b26-43ea-8700-fb8be59604fc",
   "metadata": {
    "tags": []
   },
   "outputs": [],
   "source": [
    "# data_all = data_all[data_all.length_read_code_seq > 10]"
   ]
  },
  {
   "cell_type": "code",
   "execution_count": null,
   "id": "667b2875-30d8-4157-b6cd-30a1e0548fa9",
   "metadata": {
    "tags": []
   },
   "outputs": [],
   "source": [
    "#padding at the beginning of the list\n",
    "\n",
    "def make_uniform_data(x):\n",
    "    max_seq = 1500\n",
    "    if len(x) < max_seq:\n",
    "        pads = ['PAD'] * (max_seq - len(x))\n",
    "        return pads + x\n",
    "    elif len(x) > max_seq:\n",
    "        x = x[len(x)-max_seq:]\n",
    "        return x\n",
    "    else:\n",
    "        return x\n",
    "    \n",
    "#padding at the end of the list\n",
    "def make_uniform_data_end(x):\n",
    "    max_seq = 1500\n",
    "    if len(x) < max_seq:\n",
    "        pads = ['PAD'] * (max_seq - len(x))\n",
    "        return x + pads\n",
    "    elif len(x) > max_seq:\n",
    "        x = x[len(x)-max_seq:]\n",
    "        return x\n",
    "    else:\n",
    "        return x"
   ]
  },
  {
   "cell_type": "code",
   "execution_count": null,
   "id": "8c4bdb04-f162-46a0-b6fb-ee7a0f0be134",
   "metadata": {
    "tags": []
   },
   "outputs": [],
   "source": [
    "#month indexing\n",
    "month_vocab = ['1', '2', '3', '4', '5', '6', '7', '8', '9', '10', '11', '12']\n",
    "month_idx = range(1, len(month_vocab)+1)\n",
    "\n",
    "month2idx_all = dict(zip(month_vocab, month_idx))\n",
    "idx2month_all = dict(zip(month_idx, month_vocab))\n",
    "\n",
    "month2idx_all['PAD'] = 0\n",
    "# code2idx_all['start_visit'] = 1\n",
    "# code2idx_all['end_visit'] = 2\n",
    "idx2month_all[0] = 'PAD'\n",
    "# idx2code_all[1] = 'start_visit'\n",
    "# idx2code_all[2] = 'end_visit'\n",
    "# VOCAB_SIZE = len(month2idx_all)\n",
    "print('code2idx Size: {}'.format(len(month2idx_all)))\n",
    "# print('idx2code Size: {}'.format(len(idx2code_all)))"
   ]
  },
  {
   "cell_type": "code",
   "execution_count": null,
   "id": "03bcb0bc-44eb-4153-b0a1-11c634f4e137",
   "metadata": {
    "tags": []
   },
   "outputs": [],
   "source": [
    "#vocab and code2idx generation\n",
    "# vocab_all = all_raw_data.code_id.unique().tolist()\n",
    "vocab_all = []\n",
    "for row in all_raw_data[['read_code_seq']].iterrows():\n",
    "    vocab_all = vocab_all + row[1][0]\n",
    "vocab_all = list(set(vocab_all))\n",
    "idx_all = range(1, len(vocab_all)+1)\n",
    "\n",
    "code2idx_all = dict(zip(vocab_all, idx_all))\n",
    "idx2code_all = dict(zip(idx_all, vocab_all))\n",
    "\n",
    "code2idx_all['PAD'] = 0\n",
    "# code2idx_all['start_visit'] = 1\n",
    "# code2idx_all['end_visit'] = 2\n",
    "idx2code_all[0] = 'PAD'\n",
    "# idx2code_all[1] = 'start_visit'\n",
    "# idx2code_all[2] = 'end_visit'\n",
    "VOCAB_SIZE = len(code2idx_all)\n",
    "print('code2idx Size: {}'.format(len(code2idx_all)))\n",
    "print('idx2code Size: {}'.format(len(idx2code_all)))"
   ]
  },
  {
   "cell_type": "code",
   "execution_count": null,
   "id": "efdbdbee-3ac2-4e65-85b2-85c38653063c",
   "metadata": {
    "tags": []
   },
   "outputs": [],
   "source": [
    "#put padding at the beginning\n",
    "all_raw_data['read_code_seq_padded'] = all_raw_data['read_code_seq'].apply(lambda x: make_uniform_data(x))\n",
    "all_raw_data['read_code_seq_padded_idx'] = all_raw_data['read_code_seq_padded'].apply(lambda x: [code2idx_all.get(key) for key in x])\n",
    "#as alternative put padding at the end\n",
    "all_raw_data['read_code_seq_padded_end'] = all_raw_data['read_code_seq'].apply(lambda x: make_uniform_data_end(x))\n",
    "all_raw_data['read_code_seq_padded_end_idx'] = all_raw_data['read_code_seq_padded_end'].apply(lambda x: [code2idx_all.get(key) for key in x])\n",
    "\n",
    "all_raw_data = all_raw_data.merge(patient[['patid', 'Country', 'age']], how='left', on='patid')\n",
    "all_raw_data = all_raw_data.drop_duplicates(subset=['patid']).reset_index(drop=True)     \n",
    "\n",
    "all_raw_data['month_padded'] = all_raw_data['month'].apply(lambda x: make_uniform_data(x))\n",
    "all_raw_data['month_padded_idx'] = all_raw_data['month_padded'].apply(lambda x: [month2idx_all.get(key) for key in x])\n",
    "all_raw_data['month_padded_end'] = all_raw_data['month'].apply(lambda x: make_uniform_data_end(x))\n",
    "all_raw_data['month_padded_idx_end'] = all_raw_data['month_padded_end'].apply(lambda x: [month2idx_all.get(key) for key in x])\n",
    "\n",
    "all_raw_data = all_raw_data.merge(outcomes[['patid', '3months', '6months', \n",
    "                                   '9months', '12months',]], how='inner', on='patid')"
   ]
  },
  {
   "cell_type": "code",
   "execution_count": null,
   "id": "482ef5f4-7561-4128-8c31-2bff92845a6f",
   "metadata": {
    "tags": []
   },
   "outputs": [],
   "source": [
    "print(all_raw_data.shape)\n",
    "print(all_raw_data.patid.unique().shape)"
   ]
  },
  {
   "cell_type": "code",
   "execution_count": null,
   "id": "6cbebfbb-71c5-4bbf-9bd0-3e145888fba3",
   "metadata": {
    "tags": []
   },
   "outputs": [],
   "source": [
    "#SAVE all important materials\n",
    "pickle.dump(code2idx_all, open('../SeqModel/code2idx_all.sav', 'wb'))\n",
    "pickle.dump(idx2code_all, open('../SeqModel/idx2code_all.sav', 'wb'))\n",
    "pickle.dump(month2idx_all, open('../SeqModel/month2idx_all.sav', 'wb'))\n",
    "pickle.dump(idx2month_all, open('../SeqModel/idx2month_all.sav', 'wb'))\n",
    "pickle.dump(data_all, open('../SeqModel/data_all.sav', 'wb'))\n",
    "# data_all.to_csv('../SeqModel/seqData_all.csv', index_label=False, index=False)"
   ]
  },
  {
   "cell_type": "code",
   "execution_count": null,
   "id": "5d532bc6-2565-4446-9a83-c816bd79dac3",
   "metadata": {},
   "outputs": [],
   "source": []
  },
  {
   "cell_type": "markdown",
   "id": "529233dd-11eb-4876-aacd-08717216c6c2",
   "metadata": {},
   "source": [
    "# Get all data"
   ]
  },
  {
   "cell_type": "code",
   "execution_count": null,
   "id": "51fef595-c521-4783-8187-516ce0de5abd",
   "metadata": {
    "tags": []
   },
   "outputs": [],
   "source": [
    "#load clinical and therapy information\n",
    "\n",
    "#function for sequence padding\n",
    "def make_uniform_data(x):\n",
    "    max_seq = 500\n",
    "    if len(x) < max_seq:\n",
    "        pads = ['PAD'] * (max_seq - len(x))\n",
    "        return pads + x\n",
    "    elif len(x) > max_seq:\n",
    "        x = x[len(x)-max_seq:]\n",
    "        return x\n",
    "    else:\n",
    "        return x\n",
    "\n",
    "#padding at the end of the list\n",
    "def make_uniform_data_end(x):\n",
    "    max_seq = 500\n",
    "    if len(x) < max_seq:\n",
    "        pads = ['PAD'] * (max_seq - len(x))\n",
    "        return x + pads\n",
    "    elif len(x) > max_seq:\n",
    "        x = x[len(x)-max_seq:]\n",
    "        return x\n",
    "    else:\n",
    "        return x\n",
    "#=========================================================================#\n",
    "\n",
    "#function to generate the sequence of clinical and therapy data\n",
    "def process_sequence(clinical_file, therapy_file):\n",
    "    clinical = pyreadr.read_r(clinical_file)\n",
    "    clinical = clinical['f_clinical_part']\n",
    "    therapy_files = [join(path, f) for f in listdir(path) if (isfile(join(path, f))) & ('f_therapy_part' in f)]\n",
    "    therapy = pyreadr.read_r(therapy_file)\n",
    "    therapy = therapy['f_therapy_part']\n",
    "\n",
    "    #data selection 2016&2017\n",
    "    clinical = clinical.dropna(subset=['code_id'])\n",
    "    clinical['event_date'] = pd.to_datetime(clinical['event_date'])\n",
    "    clinical = clinical.loc[(clinical['event_date'] >= '2007-01-01') & (clinical['event_date'] < '2018-01-01')]\n",
    "\n",
    "    therapy = therapy.dropna(subset=['code_id'])\n",
    "    therapy['event_date'] = pd.to_datetime(therapy['event_date'])\n",
    "    therapy = therapy.loc[(therapy['event_date'] >= '2007-01-01') & (therapy['event_date'] < '2018-01-01')]\n",
    "\n",
    "\n",
    "    #concat 2 data\n",
    "    temp_all_raw_data = pd.concat([clinical[['patid', 'event_date', 'code_id']],\n",
    "               therapy[['patid', 'event_date', 'code_id']]])\n",
    "    temp_all_raw_data.reset_index(drop=True, inplace=True)\n",
    "\n",
    "    #create vocab list\n",
    "    temp_vocab = temp_all_raw_data.code_id.unique().tolist()\n",
    "\n",
    "    #extract year, month, day from event date (if needed)\n",
    "    temp_all_raw_data['day'] = temp_all_raw_data.apply(lambda x: str(x['event_date'].day), axis=1)\n",
    "    temp_all_raw_data['month'] = temp_all_raw_data.apply(lambda x: str(x['event_date'].month), axis=1)\n",
    "    temp_all_raw_data['year'] = temp_all_raw_data.apply(lambda x: str(x['event_date'].year), axis=1)\n",
    "    temp_event_data_seq_all = temp_all_raw_data.sort_values(['event_date'],  ascending=False).groupby('patid').agg({'day': lambda x: x.tolist(),\n",
    "                                                          'month': lambda x: x.tolist(),\n",
    "                                                          'year': lambda x: x.tolist()}).reset_index()\n",
    "\n",
    "    #checkpoint 1\n",
    "    print(\"checkpoint1\")\n",
    "    print(temp_all_raw_data.shape)\n",
    "    print(temp_all_raw_data.patid.unique().shape)\n",
    "\n",
    "    #concat all read code per patient per event date (sorted by date, oldest to newest)\n",
    "    # temp_all_raw_data.reset_index(drop=True, inplace=True)\n",
    "    # temp_all_raw_data['read_code_seq_perdate'] = temp_all_raw_data.sort_values(['event_date'], ascending=True).groupby(['patid', 'event_date'])['code_id'].transform(lambda x: ', '.join(x))\n",
    "    # temp_all_raw_data['read_code_seq_perdate'] = temp_all_raw_data['read_code_seq_perdate'].apply(lambda x: 'start_visit, ' + x + ', end_visit')\n",
    "    # temp_all_raw_data = temp_all_raw_data.drop_duplicates(subset=['patid', 'event_date']).reset_index(drop=True)\n",
    "    # temp_all_raw_data['read_code_seq'] = temp_all_raw_data.sort_values(['event_date'], ascending=True).groupby(['patid'])['read_code_seq_perdate'].transform(lambda x: ', '.join(x))\n",
    "    temp_all_raw_data['read_code_seq'] = temp_all_raw_data.sort_values(['event_date'], ascending=False).groupby('patid')['code_id'].transform(lambda x: ', '.join(x))\n",
    "    temp_all_raw_data = temp_all_raw_data.drop_duplicates(subset=['patid']).reset_index(drop=True)     \n",
    "    temp_all_raw_data.reset_index(drop=True, inplace=True)\n",
    "\n",
    "    #checkpoint 2\n",
    "    print(\"checkpoint2\")\n",
    "    print(temp_all_raw_data.shape)\n",
    "    print(temp_all_raw_data.patid.unique().shape)\n",
    "\n",
    "\n",
    "    #merge sequence data with outcomes\n",
    "    temp_data_all = temp_all_raw_data[['patid', 'read_code_seq']].merge(temp_event_data_seq_all, how='left',  on='patid')\n",
    "\n",
    "    #checkpoint 3\n",
    "    print(\"checkpoint3\")\n",
    "    print(temp_data_all.shape)\n",
    "    print(temp_data_all.patid.unique().shape)\n",
    "\n",
    "\n",
    "    # get sequence length per patient and only keep patient with >10 read codes\n",
    "    temp_data_all['read_code_seq'] = temp_data_all['read_code_seq'].apply(lambda x: x.strip('\"\"').split(', '))\n",
    "    temp_data_all['length_read_code_seq'] = temp_data_all['read_code_seq'].apply(lambda x: len(x))\n",
    "    # temp_data_all = temp_data_all[temp_data_all.length_read_code_seq > 10]\n",
    "\n",
    "    #checkpoint 4\n",
    "    print(\"checkpoint4\")\n",
    "    print(temp_data_all.shape)\n",
    "    print(temp_data_all.patid.unique().shape)\n",
    "\n",
    "    #padded data\n",
    "    temp_data_all['read_code_seq_padded'] = temp_data_all['read_code_seq'].apply(lambda x: make_uniform_data(x))\n",
    "    temp_data_all['read_code_seq_padded_end'] = temp_data_all['read_code_seq'].apply(lambda x: make_uniform_data_end(x))\n",
    "    temp_data_all['month_padded'] = temp_data_all['month'].apply(lambda x: make_uniform_data(x))\n",
    "    temp_data_all['month_padded_end'] = temp_data_all['month'].apply(lambda x: make_uniform_data_end(x))\n",
    "    \n",
    "    #checkpoint 5\n",
    "    print(\"checkpoint5\")\n",
    "    print(temp_data_all.shape)\n",
    "    print(temp_data_all.patid.unique().shape)\n",
    "    \n",
    "    return temp_data_all, temp_vocab\n"
   ]
  },
  {
   "cell_type": "code",
   "execution_count": null,
   "id": "081b11cf-1904-47d9-becc-4bfa00d954ed",
   "metadata": {
    "scrolled": true,
    "tags": []
   },
   "outputs": [],
   "source": [
    "path = '../ServerData_13Oct2020/'\n",
    "clinical_files = [join(path, f) for f in listdir(path) if (isfile(join(path, f))) & ('f_clinical_part' in f)]\n",
    "therapy_files = [join(path, f) for f in listdir(path) if (isfile(join(path, f))) & ('f_therapy_part' in f)]\n",
    "vocab_all = []\n",
    "cols = ['patid', 'read_code_seq', 'day', 'month', 'year', 'length_read_code_seq',\n",
    "           'read_code_seq_padded']\n",
    "data_all = pd.DataFrame(columns=cols)\n",
    "\n",
    "nFiles=len(therapy_files)\n",
    "batch=10\n",
    "\n",
    "for i in range(3,5):\n",
    "    startIndexFile = i*batch\n",
    "    endIndexFile = startIndexFile+batch\n",
    "    if endIndexFile > nFiles:\n",
    "        endIndexFile = nFiles\n",
    "    print(\"#######################################################\")\n",
    "    print(startIndexFile, endIndexFile)\n",
    "    data_chunk = pd.DataFrame(columns=cols)\n",
    "    vocab_chunk = [] \n",
    "    for clinical_file, therapy_file in zip(clinical_files[startIndexFile:endIndexFile], therapy_files[startIndexFile:endIndexFile]):\n",
    "        print(\"===================================================\")\n",
    "        print(clinical_file, therapy_file)\n",
    "        #combine data_all\n",
    "        temp_data, temp_vocab = process_sequence(clinical_file, therapy_file)\n",
    "        data_chunk = pd.concat([data_chunk, temp_data])\n",
    "        data_chunk.reset_index(drop=True, inplace=True)\n",
    "        vocab_chunk = vocab_chunk + temp_vocab\n",
    "    data_all = pd.concat([data_all, data_chunk])\n",
    "    data_all.reset_index(drop=True, inplace=True)\n",
    "    vocab_all = vocab_all + vocab_chunk\n",
    "    pickle.dump(vocab_all, open('../SeqModel/vocab_all_big.sav', 'wb'))\n",
    "    pickle.dump(data_all, open('../SeqModel/data_all_big.sav', 'wb'))\n",
    "    "
   ]
  },
  {
   "cell_type": "code",
   "execution_count": null,
   "id": "8bef60a7-1735-4474-ab19-4731816693aa",
   "metadata": {
    "tags": []
   },
   "outputs": [],
   "source": [
    "data_all.shape"
   ]
  },
  {
   "cell_type": "code",
   "execution_count": null,
   "id": "d38530e7-f2a0-4451-b686-62bd5245d40d",
   "metadata": {
    "tags": []
   },
   "outputs": [],
   "source": [
    "data_all.shape"
   ]
  },
  {
   "cell_type": "markdown",
   "id": "434b819f-36ad-41f5-8173-ff1eed1b478d",
   "metadata": {},
   "source": [
    "## Combine all chunks"
   ]
  },
  {
   "cell_type": "code",
   "execution_count": null,
   "id": "780ed926-1f58-412f-bc49-c6f8d064a928",
   "metadata": {
    "tags": []
   },
   "outputs": [],
   "source": [
    "data_all_big = pickle.load(open('../SeqModel/data_all_big_chunk_0.feather', 'rb'))\n",
    "vocab_all_big = pickle.load(open('../SeqModel/vocab_all_big_chunk_0.feather', 'rb'))\n",
    "for i in range(1,2):\n",
    "    temp_data = pickle.load(open('../SeqModel/data_all_big_chunk_'+str(i)+'.feather', 'rb'))\n",
    "    temp_vocab = pickle.load(open('../SeqModel/vocab_all_big_chunk_'+str(i)+'.feather', 'rb'))\n",
    "    data_all_big = pd.concat([data_all_big, temp_data])\n",
    "    vocab_all_big = vocab_all_big + temp_vocab\n",
    "    del([temp_data, temp_vocab])\n",
    "    "
   ]
  },
  {
   "cell_type": "code",
   "execution_count": null,
   "id": "da5b443d-7f39-4103-87cd-1655290850b4",
   "metadata": {
    "tags": []
   },
   "outputs": [],
   "source": [
    "print(data_all_big.shape)\n",
    "print(len(vocab_all_big))"
   ]
  },
  {
   "cell_type": "code",
   "execution_count": null,
   "id": "88fde970-378c-438c-9ac3-64237d3fc5ce",
   "metadata": {
    "tags": []
   },
   "outputs": [],
   "source": [
    "#vocab and code2idx generation\n",
    "# vocab_all_big = vocab_all\n",
    "vocab_all_big=list(dict.fromkeys(vocab_all_big)) #remove duplicate\n",
    "idx_all_big = range(1, len(vocab_all_big)+1)\n",
    "code2idx_all_big = dict(zip(vocab_all_big, idx_all_big))\n",
    "idx2code_all_big = dict(zip(idx_all_big, vocab_all_big))\n",
    "code2idx_all_big['PAD'] = 0\n",
    "# code2idx_all_big['start_visit'] = 1\n",
    "# code2idx_all_big['end_visit'] = 2\n",
    "idx2code_all_big[0] = 'PAD'\n",
    "# idx2code_all_big[1] = 'start_visit'\n",
    "# idx2code_all_big[2] = 'end_visit'\n",
    "\n",
    "VOCAB_SIZE_big = len(code2idx_all_big)\n",
    "print('code2idx Size: {}'.format(len(code2idx_all_big)))\n",
    "print('idx2code Size: {}'.format(len(idx2code_all_big)))\n",
    "# print(code2idx)\n",
    "\n",
    "\n",
    "\n",
    "##month vocab\n",
    "#month indexing\n",
    "month_vocab = ['1', '2', '3', '4', '5', '6', '7', '8', '9', '10', '11', '12']\n",
    "month_idx = range(1, len(month_vocab)+1)\n",
    "\n",
    "month2idx_all = dict(zip(month_vocab, month_idx))\n",
    "idx2month_all = dict(zip(month_idx, month_vocab))\n",
    "\n",
    "month2idx_all['PAD'] = 0\n",
    "# code2idx_all['start_visit'] = 1\n",
    "# code2idx_all['end_visit'] = 2\n",
    "idx2month_all[0] = 'PAD'\n",
    "# idx2code_all[1] = 'start_visit'\n",
    "# idx2code_all[2] = 'end_visit'\n",
    "# VOCAB_SIZE = len(month2idx_all)\n",
    "print('code2idx Size: {}'.format(len(month2idx_all)))\n",
    "# print('idx2code Size: {}'.format(len(idx2code_all)))\n",
    "\n",
    "# padded to index, and merge with patient data (age, Country)\n",
    "# data_all_big = data_all\n",
    "data_all_big['read_code_seq_padded_idx'] = data_all_big['read_code_seq_padded'].apply(lambda x: [code2idx_all_big.get(key) for key in x])\n",
    "data_all_big['read_code_seq_padded_idx_end'] = data_all_big['read_code_seq_padded_end'].apply(lambda x: [code2idx_all_big.get(key) for key in x])\n",
    "data_all_big['month_padded_idx'] = data_all_big['month_padded'].apply(lambda x: [month2idx_all.get(key) for key in x])\n",
    "data_all_big['month_padded_idx_end'] = data_all_big['month_padded_end'].apply(lambda x: [month2idx_all.get(key) for key in x])\n",
    "\n",
    "\n",
    "data_all_big = data_all_big.merge(outcomes[['patid', 'new_3MonthsOutcome', 'new_6MonthsOutcome', \n",
    "                                   'new_9MonthsOutcome', 'new_12MonthsOutcome',]], how='inner', on='patid')\n",
    "data_all_big = data_all_big.merge(patient[['patid', 'Country', 'age']], how='left', on='patid')\n",
    "data_all_big = data_all_big.drop_duplicates(subset=['patid']).reset_index(drop=True)     "
   ]
  },
  {
   "cell_type": "code",
   "execution_count": null,
   "id": "2cb6e5ab-a3d6-49f8-a458-4f75e3934851",
   "metadata": {
    "tags": []
   },
   "outputs": [],
   "source": [
    "data_all_big.shape"
   ]
  },
  {
   "cell_type": "code",
   "execution_count": null,
   "id": "fb1018f3-b951-4f1f-9df1-f60d57afa744",
   "metadata": {
    "tags": []
   },
   "outputs": [],
   "source": [
    "data_all_big.patid.unique().shape"
   ]
  },
  {
   "cell_type": "code",
   "execution_count": null,
   "id": "3e29dc79-f4c5-46f9-86e9-ce4e038b91ed",
   "metadata": {
    "tags": []
   },
   "outputs": [],
   "source": [
    "#SAVE all important materials\n",
    "pickle.dump(code2idx_all_big, open('../SeqModel/code2idx_all_big_06112023_part1.sav', 'wb'))\n",
    "pickle.dump(idx2code_all_big, open('../SeqModel/idx2code_all_big_06112023_part1.sav', 'wb'))\n",
    "# pickle.dump(data_all_big, open('../SeqModel/data_all_big_06112023_part1.sav', 'wb'))\n",
    "data_all_big.to_feather('../SeqModel/data_all_big_06112023_part1.feather')"
   ]
  },
  {
   "cell_type": "code",
   "execution_count": null,
   "id": "27e18c9e-5eac-46be-80cc-5ccc82af5747",
   "metadata": {
    "tags": []
   },
   "outputs": [],
   "source": [
    "data_all_big = pd.read_feather('../SeqModel/data_all_big_06112023_part1.feather')"
   ]
  },
  {
   "cell_type": "code",
   "execution_count": null,
   "id": "335b35f3-712f-4922-b55e-966919a3beae",
   "metadata": {
    "tags": []
   },
   "outputs": [],
   "source": [
    "import sys\n",
    "def sizeof_fmt(num, suffix='B'):\n",
    "    ''' by Fred Cirera,  https://stackoverflow.com/a/1094933/1870254, modified'''\n",
    "    for unit in ['','Ki','Mi','Gi','Ti','Pi','Ei','Zi']:\n",
    "        if abs(num) < 1024.0:\n",
    "            return \"%3.1f %s%s\" % (num, unit, suffix)\n",
    "        num /= 1024.0\n",
    "    return \"%.1f %s%s\" % (num, 'Yi', suffix)\n",
    "\n",
    "for name, size in sorted(((name, sys.getsizeof(value)) for name, value in list(\n",
    "                          locals().items())), key= lambda x: -x[1])[:10]:\n",
    "    print(\"{:>30}: {:>8}\".format(name, sizeof_fmt(size)))"
   ]
  },
  {
   "cell_type": "code",
   "execution_count": null,
   "id": "064aac62-d919-4081-8761-9f78f48812f2",
   "metadata": {},
   "outputs": [],
   "source": []
  },
  {
   "cell_type": "markdown",
   "id": "41c07b40-babf-4c91-b495-ddbe1675cc48",
   "metadata": {},
   "source": [
    "# END"
   ]
  }
 ],
 "metadata": {
  "kernelspec": {
   "display_name": "Python 3 (ipykernel)",
   "language": "python",
   "name": "python3"
  },
  "language_info": {
   "codemirror_mode": {
    "name": "ipython",
    "version": 3
   },
   "file_extension": ".py",
   "mimetype": "text/x-python",
   "name": "python",
   "nbconvert_exporter": "python",
   "pygments_lexer": "ipython3",
   "version": "3.10.11"
  }
 },
 "nbformat": 4,
 "nbformat_minor": 5
}
