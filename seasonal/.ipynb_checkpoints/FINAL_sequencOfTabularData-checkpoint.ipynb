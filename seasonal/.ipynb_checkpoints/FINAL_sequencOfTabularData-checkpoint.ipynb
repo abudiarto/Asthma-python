{
 "cells": [
  {
   "cell_type": "markdown",
   "id": "b632f858-f98c-4478-9de3-f039fcfe3bf9",
   "metadata": {},
   "source": [
    "## START"
   ]
  },
  {
   "cell_type": "markdown",
   "id": "f60c72b3-31ed-46fe-958d-9752c4f103d2",
   "metadata": {},
   "source": [
    "#Plot the improvement of the models performance\n",
    "- Data representation - every 3 months - seasonality\n",
    "- "
   ]
  },
  {
   "cell_type": "code",
   "execution_count": 1,
   "id": "6dfb1a48-5622-4295-8da3-fc796632124e",
   "metadata": {
    "tags": []
   },
   "outputs": [
    {
     "name": "stderr",
     "output_type": "stream",
     "text": [
      "2025-03-07 08:54:59.203368: I tensorflow/core/util/port.cc:153] oneDNN custom operations are on. You may see slightly different numerical results due to floating-point round-off errors from different computation orders. To turn them off, set the environment variable `TF_ENABLE_ONEDNN_OPTS=0`.\n",
      "2025-03-07 08:54:59.490123: E external/local_xla/xla/stream_executor/cuda/cuda_fft.cc:477] Unable to register cuFFT factory: Attempting to register factory for plugin cuFFT when one has already been registered\n",
      "WARNING: All log messages before absl::InitializeLog() is called are written to STDERR\n",
      "E0000 00:00:1741337699.601928   14210 cuda_dnn.cc:8310] Unable to register cuDNN factory: Attempting to register factory for plugin cuDNN when one has already been registered\n",
      "E0000 00:00:1741337699.633628   14210 cuda_blas.cc:1418] Unable to register cuBLAS factory: Attempting to register factory for plugin cuBLAS when one has already been registered\n",
      "2025-03-07 08:54:59.898340: I tensorflow/core/platform/cpu_feature_guard.cc:210] This TensorFlow binary is optimized to use available CPU instructions in performance-critical operations.\n",
      "To enable the following instructions: AVX2 AVX512F AVX512_VNNI AVX512_BF16 AVX512_FP16 AVX_VNNI AMX_TILE AMX_INT8 AMX_BF16 FMA, in other operations, rebuild TensorFlow with the appropriate compiler flags.\n"
     ]
    }
   ],
   "source": [
    "import pandas as pd\n",
    "import pyreadr\n",
    "import numpy as np\n",
    "# import torch\n",
    "import pickle\n",
    "from os import listdir\n",
    "from os.path import isfile, join\n",
    "\n",
    "\n",
    "from math import sqrt\n",
    "from numpy import concatenate\n",
    "from matplotlib import pyplot\n",
    "from pandas import read_csv\n",
    "from pandas import DataFrame\n",
    "from pandas import concat\n",
    "from sklearn.preprocessing import MinMaxScaler\n",
    "from sklearn.preprocessing import LabelEncoder\n",
    "from sklearn.metrics import mean_squared_error\n",
    "\n",
    "\n",
    "import tensorflow as tf\n",
    "from tensorflow.keras.datasets import imdb\n",
    "from tensorflow.keras.models import Sequential, Model, load_model\n",
    "from tensorflow.keras.layers import Dense, LSTM, Embedding, Dropout, Bidirectional, Input, concatenate, Reshape, Activation, Flatten, Add, BatchNormalization, Multiply, LeakyReLU\n",
    "from tensorflow.keras.preprocessing import sequence\n",
    "from tensorflow.keras.callbacks import EarlyStopping, ModelCheckpoint, ReduceLROnPlateau, TensorBoard\n",
    "from tensorflow.keras.metrics import AUC, SensitivityAtSpecificity\n",
    "from tensorflow.keras.optimizers import Adam, Adagrad, RMSprop, Adamax, SGD, Adadelta\n",
    "from tensorflow.keras.initializers import Constant\n",
    "from tensorflow.keras.regularizers import L1L2, L1, L2\n",
    "\n",
    "random_state = 42\n",
    "tf.random.set_seed(random_state)"
   ]
  },
  {
   "cell_type": "code",
   "execution_count": 3,
   "id": "46db555b-d107-41f6-8c3a-d865107105af",
   "metadata": {},
   "outputs": [],
   "source": [
    "gridSearch_X, crossVal_X, internalEvaluation_X, externalEvaluation_X, gridSearch_tab, crossVal_tab, internalEvaluation_tab, externalEvaluation_tab, gridSearch_y, crossVal_y, internalEvaluation_y, externalEvaluation_y = pickle.load(open('../../Clean_data/seasonal_dataset_full_05112024.sav', 'rb'))"
   ]
  },
  {
   "cell_type": "markdown",
   "id": "8bfff97d-9b26-4e0a-9865-b07892a69bfa",
   "metadata": {
    "jp-MarkdownHeadingCollapsed": true
   },
   "source": [
    "# prepare montly data"
   ]
  },
  {
   "cell_type": "code",
   "execution_count": null,
   "id": "6ce242a7-4f3b-461e-94a2-e93fb4030e1e",
   "metadata": {
    "tags": []
   },
   "outputs": [],
   "source": [
    "# demographic_data = pickle.load(open('../FinalData/cleaned_features_2vs1_15022024.sav', 'rb'))\n",
    "# demographic_data = demographic_data[['patid', 'practice_id', 'sex', 'age', 'BMI', 'weight', 'height',\n",
    "#        'ethnicity', 'ethnic_group', 'smokingStatus', 'postcode_district', 'imd_decile',\n",
    "#        'Country', 'County', 'LocalAuthority', 'OutputAreaClassification',\n",
    "#        'system']]"
   ]
  },
  {
   "cell_type": "code",
   "execution_count": null,
   "id": "e21a5c7d-f365-4941-9d2d-a01891b281ae",
   "metadata": {
    "tags": []
   },
   "outputs": [],
   "source": [
    "compound_features = ['feature_asthmaAttacks_', 'feature_numAntibiotics_', 'feature_numAntibioticswithLRTI_', \n",
    " 'feature_numOCS_', 'feature_numOCSwithLRTI_', 'feature_numHospitals_', 'feature_acuteRespEvents_']"
   ]
  },
  {
   "cell_type": "code",
   "execution_count": null,
   "id": "77829f64-1503-426d-95c8-961f27e6583b",
   "metadata": {
    "scrolled": true,
    "tags": []
   },
   "outputs": [],
   "source": [
    "files = listdir('../PrepareDataNewTabSeq/CompoundFeaturesLong/')\n",
    "for feature in compound_features:\n",
    "    for i in range(1,75):\n",
    "        result = []\n",
    "        for file in files:\n",
    "            if feature+str(i)+'_' in file:\n",
    "                result.append(file)\n",
    "        # if len(result) < 120:\n",
    "        print(feature, i, len(result))"
   ]
  },
  {
   "cell_type": "code",
   "execution_count": null,
   "id": "aab18aba-2f07-4dd3-9ed7-96b45fb09f4b",
   "metadata": {
    "scrolled": true,
    "tags": []
   },
   "outputs": [],
   "source": [
    "#1 numAsthmaAttack\n",
    "start_file = 1\n",
    "for i in range(start_file,75):\n",
    "    x1=pyreadr.read_r('../PrepareDataNewTabSeq/CompoundFeaturesLong/feature_asthmaAttacks_' + str(i) + '_1.Rdata')\n",
    "    x1=x1['feature_asthmaAttacks']\n",
    "    x2=pyreadr.read_r('../PrepareDataNewTabSeq/CompoundFeaturesLong/feature_asthmaAttacks_' + str(i) + '_2.Rdata')\n",
    "    x2=x2['feature_asthmaAttacks']\n",
    "    x = x1.merge(x2, on='patid', how='outer', suffixes=['_month1','_month2']).fillna(0).drop_duplicates('patid').reset_index(drop=True)\n",
    "    for j in range(3,121):\n",
    "        print('chunk: ', i, ', month: ', j)\n",
    "        x_temp=pyreadr.read_r('../PrepareDataNewTabSeq/CompoundFeaturesLong/feature_asthmaAttacks_'+ str(i) + '_' + str(j)+'.Rdata')\n",
    "        x_temp=x_temp['feature_asthmaAttacks']\n",
    "        x_temp = x_temp.rename(columns={'numAsthmaAttacks' : 'numAsthmaAttacks_month'+str(j)})\n",
    "        # print(x_temp['numAsthmaAttacks_month'+str(j)].value_counts())\n",
    "        x = x.merge(x_temp, on='patid', how='outer').fillna(0).drop_duplicates('patid').reset_index(drop=True)\n",
    "    features = pd.concat([features, x]).fillna(0).drop_duplicates('patid').reset_index(drop=True)"
   ]
  },
  {
   "cell_type": "code",
   "execution_count": null,
   "id": "2db2f4c2-b168-4ce2-a253-d30cf40abbdf",
   "metadata": {
    "scrolled": true,
    "tags": []
   },
   "outputs": [],
   "source": [
    "#2 numAntibiotics\n",
    "for i in range(start_file,75):\n",
    "    x1=pyreadr.read_r('../PrepareDataNewTabSeq/CompoundFeaturesLong/feature_numAntibiotics_' + str(i) + '_1.Rdata')\n",
    "    x1=x1['feature_numAntibiotics']\n",
    "    x2=pyreadr.read_r('../PrepareDataNewTabSeq/CompoundFeaturesLong/feature_numAntibiotics_' + str(i) + '_2.Rdata')\n",
    "    x2=x2['feature_numAntibiotics']\n",
    "    x = x1.merge(x2, on='patid', how='outer', suffixes=['_month1','_month2']).fillna(0).drop_duplicates('patid').reset_index(drop=True)\n",
    "    for j in range(3,121):\n",
    "        print('chunk: ', i, ', month: ', j)\n",
    "        x_temp=pyreadr.read_r('../PrepareDataNewTabSeq/CompoundFeaturesLong/feature_numAntibiotics_'+ str(i) + '_' + str(j)+'.Rdata')\n",
    "        x_temp=x_temp['feature_numAntibiotics']\n",
    "        x_temp = x_temp.rename(columns={'numAntibioticsEvents' : 'numAntibioticsEvents_month'+str(j)})\n",
    "        # print(x_temp['numAsthmaAttacks_month'+str(j)].value_counts())\n",
    "        x = x.merge(x_temp, on='patid', how='outer').fillna(0).drop_duplicates('patid').reset_index(drop=True)\n",
    "    features = pd.concat([features, x]).fillna(0).drop_duplicates('patid').reset_index(drop=True)"
   ]
  },
  {
   "cell_type": "code",
   "execution_count": null,
   "id": "a7b6a5df-1f2a-4437-aa64-323f9632e5d4",
   "metadata": {
    "scrolled": true,
    "tags": []
   },
   "outputs": [],
   "source": [
    "#3 numAntibioticswithLRTI\n",
    "for i in range(start_file,75):\n",
    "    x1=pyreadr.read_r('../PrepareDataNewTabSeq/CompoundFeaturesLong/feature_numAntibioticswithLRTI_' + str(i) + '_1.Rdata')\n",
    "    x1=x1['feature_numAntibioticswithLRTI']\n",
    "    x2=pyreadr.read_r('../PrepareDataNewTabSeq/CompoundFeaturesLong/feature_numAntibioticswithLRTI_' + str(i) + '_2.Rdata')\n",
    "    x2=x2['feature_numAntibioticswithLRTI']\n",
    "    x = x1.merge(x2, on='patid', how='outer', suffixes=['_month1','_month2']).fillna(0).drop_duplicates('patid').reset_index(drop=True)\n",
    "    for j in range(3,121):\n",
    "        print('chunk: ', i, ', month: ', j)\n",
    "        x_temp=pyreadr.read_r('../PrepareDataNewTabSeq/CompoundFeaturesLong/feature_numAntibioticswithLRTI_'+ str(i) + '_' + str(j)+'.Rdata')\n",
    "        x_temp=x_temp['feature_numAntibioticswithLRTI']\n",
    "        x_temp = x_temp.rename(columns={'numAntibioticswithLRTI' : 'numAntibioticswithLRTI_month'+str(j)})\n",
    "        # print(x_temp['numAsthmaAttacks_month'+str(j)].value_counts())\n",
    "        x = x.merge(x_temp, on='patid', how='outer').fillna(0).drop_duplicates('patid').reset_index(drop=True)\n",
    "    features = pd.concat([features, x]).fillna(0).drop_duplicates('patid').reset_index(drop=True)"
   ]
  },
  {
   "cell_type": "code",
   "execution_count": null,
   "id": "da12c946-e861-42c9-b3a0-73ac325e34a0",
   "metadata": {
    "scrolled": true,
    "tags": []
   },
   "outputs": [],
   "source": [
    "#4 numOCS\n",
    "for i in range(start_file,75):\n",
    "    x1=pyreadr.read_r('../PrepareDataNewTabSeq/CompoundFeaturesLong/feature_numOCS_' + str(i) + '_1.Rdata')\n",
    "    x1=x1['feature_numOCS']\n",
    "    x2=pyreadr.read_r('../PrepareDataNewTabSeq/CompoundFeaturesLong/feature_numOCS_' + str(i) + '_2.Rdata')\n",
    "    x2=x2['feature_numOCS']\n",
    "    x = x1.merge(x2, on='patid', how='outer', suffixes=['_month1','_month2']).fillna(0).drop_duplicates('patid').reset_index(drop=True)\n",
    "    for j in range(3,121):\n",
    "        print('chunk: ', i, ', month: ', j)\n",
    "        x_temp=pyreadr.read_r('../PrepareDataNewTabSeq/CompoundFeaturesLong/feature_numOCS_'+ str(i) + '_' + str(j)+'.Rdata')\n",
    "        x_temp=x_temp['feature_numOCS']\n",
    "        x_temp = x_temp.rename(columns={'numOCSEvents' : 'numOCSEvents_month'+str(j)})\n",
    "        # print(x_temp['numAsthmaAttacks_month'+str(j)].value_counts())\n",
    "        x = x.merge(x_temp, on='patid', how='outer').fillna(0).drop_duplicates('patid').reset_index(drop=True)\n",
    "    features = pd.concat([features, x]).fillna(0).drop_duplicates('patid').reset_index(drop=True)"
   ]
  },
  {
   "cell_type": "code",
   "execution_count": null,
   "id": "54e5b30a-61d3-47aa-ad9a-bf4dccbbc69e",
   "metadata": {
    "scrolled": true,
    "tags": []
   },
   "outputs": [],
   "source": [
    "#5 numOCSswithLRTI\n",
    "for i in range(start_file,75):\n",
    "    x1=pyreadr.read_r('../PrepareDataNewTabSeq/CompoundFeaturesLong/feature_numOCSwithLRTI_' + str(i) + '_1.Rdata')\n",
    "    x1=x1['feature_numOCSwithLRTI']\n",
    "    x2=pyreadr.read_r('../PrepareDataNewTabSeq/CompoundFeaturesLong/feature_numOCSwithLRTI_' + str(i) + '_2.Rdata')\n",
    "    x2=x2['feature_numOCSwithLRTI']\n",
    "    x = x1.merge(x2, on='patid', how='outer', suffixes=['_month1','_month2']).fillna(0).drop_duplicates('patid').reset_index(drop=True)\n",
    "    for j in range(3,121):\n",
    "        print('chunk: ', i, ', month: ', j)\n",
    "        x_temp=pyreadr.read_r('../PrepareDataNewTabSeq/CompoundFeaturesLong/feature_numOCSwithLRTI_'+ str(i) + '_' + str(j)+'.Rdata')\n",
    "        x_temp=x_temp['feature_numOCSwithLRTI']\n",
    "        x_temp = x_temp.rename(columns={'numOCSwithLRTI' : 'numOCSwithLRTI_month'+str(j)})\n",
    "        # print(x_temp['numAsthmaAttacks_month'+str(j)].value_counts())\n",
    "        x = x.merge(x_temp, on='patid', how='outer').fillna(0).drop_duplicates('patid').reset_index(drop=True)\n",
    "    features = pd.concat([features, x]).fillna(0).drop_duplicates('patid').reset_index(drop=True)"
   ]
  },
  {
   "cell_type": "code",
   "execution_count": null,
   "id": "64bdf2d0-6886-44e4-aadb-94a15cf0f0d1",
   "metadata": {
    "scrolled": true,
    "tags": []
   },
   "outputs": [],
   "source": [
    "#6 numHospital\n",
    "for i in range(start_file,75):\n",
    "    x1=pyreadr.read_r('../PrepareDataNewTabSeq/CompoundFeaturesLong/feature_numHospitals_' + str(i) + '_1.Rdata')\n",
    "    x1=x1['feature_numHospitals']\n",
    "    x2=pyreadr.read_r('../PrepareDataNewTabSeq/CompoundFeaturesLong/feature_numHospitals_' + str(i) + '_2.Rdata')\n",
    "    x2=x2['feature_numHospitals']\n",
    "    x = x1.merge(x2, on='patid', how='outer', suffixes=['_month1','_month2']).fillna(0).drop_duplicates('patid').reset_index(drop=True)\n",
    "    for j in range(3,121):\n",
    "        print('chunk: ', i, ', month: ', j)\n",
    "        x_temp=pyreadr.read_r('../PrepareDataNewTabSeq/CompoundFeaturesLong/feature_numHospitals_'+ str(i) + '_' + str(j)+'.Rdata')\n",
    "        x_temp=x_temp['feature_numHospitals']\n",
    "        x_temp = x_temp.rename(columns={'numHospEvents' : 'numHospEvents_month'+str(j)})\n",
    "        # print(x_temp['numAsthmaAttacks_month'+str(j)].value_counts())\n",
    "        x = x.merge(x_temp, on='patid', how='outer').fillna(0).drop_duplicates('patid').reset_index(drop=True)\n",
    "    features = pd.concat([features, x]).fillna(0).drop_duplicates('patid').reset_index(drop=True)"
   ]
  },
  {
   "cell_type": "code",
   "execution_count": null,
   "id": "e27a34e7-9eed-4c26-8288-a3b0e0f98b90",
   "metadata": {
    "scrolled": true,
    "tags": []
   },
   "outputs": [],
   "source": [
    "#7 ICS - prescribed daily ICS & 8 average daily ICS\n",
    "for i in range(start_file,75):\n",
    "    x1=pyreadr.read_r('../PrepareDataNewTabSeq/ICS_infoLong/feature_ICSinfo' + str(i) + '_1.Rdata')\n",
    "    x1=x1['feature_ICSinfo'][['patid', 'average_daily_dose_ICS','prescribed_daily_dose_ICS']]\n",
    "    x2=pyreadr.read_r('../PrepareDataNewTabSeq/ICS_infoLong/feature_ICSinfo' + str(i) + '_2.Rdata')\n",
    "    x2=x2['feature_ICSinfo'][['patid', 'average_daily_dose_ICS','prescribed_daily_dose_ICS']]\n",
    "    x = x1.merge(x2, on='patid', how='outer', suffixes=['_month1','_month2']).fillna(0).drop_duplicates('patid').reset_index(drop=True)\n",
    "    for j in range(3,121):\n",
    "        print('chunk: ', i, ', month: ', j)\n",
    "        x_temp=pyreadr.read_r('../PrepareDataNewTabSeq/ICS_infoLong/feature_ICSinfo'+ str(i) + '_' + str(j)+'.Rdata')\n",
    "        x_temp=x_temp['feature_ICSinfo'][['patid', 'average_daily_dose_ICS','prescribed_daily_dose_ICS']]\n",
    "        x_temp = x_temp.rename(columns={'prescribed_daily_dose_ICS' : 'prescribed_daily_dose_ICS_month'+str(j),\n",
    "                                       'average_daily_dose_ICS' : 'average_daily_dose_ICS_month'+str(j)})\n",
    "        # print(x_temp['numAsthmaAttacks_month'+str(j)].value_counts())\n",
    "        x = x.merge(x_temp, on='patid', how='outer').fillna(0).drop_duplicates('patid').reset_index(drop=True)\n",
    "    features = pd.concat([features, x]).fillna(0).drop_duplicates('patid').reset_index(drop=True)"
   ]
  },
  {
   "cell_type": "code",
   "execution_count": null,
   "id": "e61d10ba-be6b-4784-add7-d9808dcaadd9",
   "metadata": {
    "scrolled": true,
    "tags": []
   },
   "outputs": [],
   "source": [
    "#9 BTS\n",
    "for i in range(start_file,75):\n",
    "    x1=pyreadr.read_r('../PrepareDataNewTabSeq/BTS_StepNewLong/feature_BTSstep_' + str(i) + '_1.Rdata')\n",
    "    x1=x1['feature_BTSstep'][['patid', 'BTS_step']]\n",
    "    x2=pyreadr.read_r('../PrepareDataNewTabSeq/BTS_StepNewLong/feature_BTSstep_' + str(i) + '_2.Rdata')\n",
    "    x2=x2['feature_BTSstep'][['patid', 'BTS_step']]\n",
    "    x = x1.merge(x2, on='patid', how='outer', suffixes=['_month1','_month2']).fillna(0).drop_duplicates('patid').reset_index(drop=True)\n",
    "    for j in range(3,121):\n",
    "        print('chunk: ', i, ', month: ', j)\n",
    "        x_temp=pyreadr.read_r('../PrepareDataNewTabSeq/BTS_StepNewLong/feature_BTSstep_'+ str(i) + '_' + str(j)+'.Rdata')\n",
    "        x_temp=x_temp['feature_BTSstep'][['patid', 'BTS_step']]\n",
    "        x_temp = x_temp.rename(columns={'BTS_step' : 'BTS_step_month'+str(j)})\n",
    "        # print(x_temp['numAsthmaAttacks_month'+str(j)].value_counts())\n",
    "        x = x.merge(x_temp, on='patid', how='outer').fillna(0).drop_duplicates('patid').reset_index(drop=True)\n",
    "    features = pd.concat([features, x]).fillna(0).drop_duplicates('patid').reset_index(drop=True)"
   ]
  },
  {
   "cell_type": "code",
   "execution_count": null,
   "id": "f8cfd8c9-f755-4639-a30b-c655c4bc408d",
   "metadata": {
    "scrolled": true,
    "tags": []
   },
   "outputs": [],
   "source": [
    "#10 Primary consultation\n",
    "for i in range(start_file,75):\n",
    "    x1=pyreadr.read_r('../PrepareDataNewTabSeq/PrimaryCareConsultsLong/feature_primarycare' + str(i) + '_1.Rdata')\n",
    "    x1=x1['feature_primarycare'][['patid', 'numPCS']]\n",
    "    x2=pyreadr.read_r('../PrepareDataNewTabSeq/PrimaryCareConsultsLong/feature_primarycare' + str(i) + '_2.Rdata')\n",
    "    x2=x2['feature_primarycare'][['patid', 'numPCS']]\n",
    "    x = x1.merge(x2, on='patid', how='outer', suffixes=['_month1','_month2']).fillna(0).drop_duplicates('patid').reset_index(drop=True)\n",
    "    for j in range(3,121):\n",
    "        print('chunk: ', i, ', month: ', j)\n",
    "        x_temp=pyreadr.read_r('../PrepareDataNewTabSeq/PrimaryCareConsultsLong/feature_primarycare'+ str(i) + '_' + str(j)+'.Rdata')\n",
    "        x_temp=x_temp['feature_primarycare'][['patid', 'numPCS']]\n",
    "        x_temp = x_temp.rename(columns={'numPCS' : 'numPCS_month'+str(j)})\n",
    "        x = x.merge(x_temp, on='patid', how='outer').fillna(0).drop_duplicates('patid').reset_index(drop=True)\n",
    "    features = pd.concat([features, x]).fillna(0).drop_duplicates('patid').reset_index(drop=True)"
   ]
  },
  {
   "cell_type": "code",
   "execution_count": null,
   "id": "2482a706-1217-43ac-bc07-29a297d3ae07",
   "metadata": {
    "scrolled": true,
    "tags": []
   },
   "outputs": [],
   "source": [
    "#11 asthma related primary care consultation\n",
    "for i in range(start_file,75):\n",
    "    x1=pyreadr.read_r('../PrepareDataNewTabSeq/PrimaryCareConsultsAsthmaLong/feature_primarycareasthma' + str(i) + '_1.Rdata')\n",
    "    x1=x1['feature_primarycareasthma'][['patid', 'numPCS']]\n",
    "    x2=pyreadr.read_r('../PrepareDataNewTabSeq/PrimaryCareConsultsAsthmaLong/feature_primarycareasthma' + str(i) + '_2.Rdata')\n",
    "    x2=x2['feature_primarycareasthma'][['patid', 'numPCS']]\n",
    "    x = x1.merge(x2, on='patid', how='outer', suffixes=['_month1','_month2']).fillna(0).drop_duplicates('patid').reset_index(drop=True)\n",
    "    x = x.rename(columns={'numPCS_month1' : 'numPCSAsthma_month1',\n",
    "                          'numPCS_month2' : 'numPCSAsthma_month2'})\n",
    "    for j in range(3,121):\n",
    "        print('chunk: ', i, ', month: ', j)\n",
    "        x_temp=pyreadr.read_r('../PrepareDataNewTabSeq/PrimaryCareConsultsAsthmaLong/feature_primarycareasthma'+ str(i) + '_' + str(j)+'.Rdata')\n",
    "        x_temp=x_temp['feature_primarycareasthma'][['patid', 'numPCS']]\n",
    "        x_temp = x_temp.rename(columns={'numPCS' : 'numPCSAsthma_month'+str(j)})\n",
    "        x = x.merge(x_temp, on='patid', how='outer').fillna(0).drop_duplicates('patid').reset_index(drop=True)\n",
    "    features = pd.concat([features, x]).fillna(0).drop_duplicates('patid').reset_index(drop=True)"
   ]
  },
  {
   "cell_type": "code",
   "execution_count": null,
   "id": "e9e77e8b-a389-43de-b9d2-f8774af2b038",
   "metadata": {
    "tags": []
   },
   "outputs": [],
   "source": [
    "features.shape"
   ]
  },
  {
   "cell_type": "code",
   "execution_count": null,
   "id": "22c1b098-f696-443e-a722-d8269b159d64",
   "metadata": {
    "tags": []
   },
   "outputs": [],
   "source": [
    "pickle.dump(features, open('../Clean_data/sequence_features_long_full.sav', 'wb'))"
   ]
  },
  {
   "cell_type": "markdown",
   "id": "80e55ac6-4877-4326-bd5e-3c72e829da69",
   "metadata": {},
   "source": [
    "# combine seq and tabular data"
   ]
  },
  {
   "cell_type": "code",
   "execution_count": 6,
   "id": "3f380df0-5d9c-4803-a576-e36703fd6965",
   "metadata": {
    "tags": []
   },
   "outputs": [],
   "source": [
    "gridSearchData, crossValData, internalEvaluationData, externalEvaluationData = pickle.load(open('../../Clean_data/dataset_scaled_2vs1_25102024.sav', 'rb'))\n",
    "gridSearch_seq, crossVal_seq, internalEvaluation_seq, externalEvaluation_seq = pickle.load(open('../../Clean_data/seasonal_long_dataset_28102024.sav', 'rb'))"
   ]
  },
  {
   "cell_type": "code",
   "execution_count": null,
   "id": "a3e8f81b-34d9-4345-8708-4b3e2020af6e",
   "metadata": {},
   "outputs": [],
   "source": []
  },
  {
   "cell_type": "code",
   "execution_count": null,
   "id": "5b5b72a8-17a6-4cf6-9c54-e106a4de65ed",
   "metadata": {},
   "outputs": [],
   "source": [
    "print(f'Grid search size: {gridSearchData.shape}')\n",
    "print(f'Cross val size: {crossValData.shape}')\n",
    "print(f'Internal val size: {internalEvaluationData.shape}')\n",
    "print(f'External val size: {externalEvaluationData.shape}')\n",
    "\n",
    "print(f'Grid search seq size: {gridSearch_seq.shape}')\n",
    "print(f'Cross val seq size: {crossVal_seq.shape}')\n",
    "print(f'Internal val seq size: {internalEvaluation_seq.shape}')\n",
    "print(f'External val seq size: {externalEvaluation_seq.shape}')"
   ]
  },
  {
   "cell_type": "code",
   "execution_count": null,
   "id": "2dd5048d-0e1f-4310-8c16-91311af6fcc1",
   "metadata": {},
   "outputs": [],
   "source": [
    "target_outcome = 'outcome_12months'"
   ]
  },
  {
   "cell_type": "code",
   "execution_count": null,
   "id": "1b24bc96-4cc2-40c6-9476-0c17df7031a9",
   "metadata": {
    "tags": []
   },
   "outputs": [],
   "source": [
    "gridSearch_seq = gridSearchData[['patid', target_outcome]].merge(gridSearch_seq, on = 'patid', how='inner').fillna(0).drop_duplicates('patid').reset_index(drop=True)\n",
    "crossVal_seq = crossValData[['patid', target_outcome]].merge(crossVal_seq, on = 'patid', how='inner').fillna(0).drop_duplicates('patid').reset_index(drop=True)\n",
    "internalEvaluation_seq = internalEvaluationData[['patid', target_outcome]].merge(internalEvaluation_seq, on = 'patid', how='inner').fillna(0).drop_duplicates('patid').reset_index(drop=True)\n",
    "externalEvaluation_seq = externalEvaluationData[['patid', target_outcome]].merge(externalEvaluation_seq, on = 'patid', how='inner').fillna(0).drop_duplicates('patid').reset_index(drop=True)"
   ]
  },
  {
   "cell_type": "code",
   "execution_count": null,
   "id": "4fe8c6d0-5aba-43e3-8d52-679823cb7ffd",
   "metadata": {},
   "outputs": [],
   "source": [
    "#tabular vectors\n",
    "tabular_vars = ['sex', 'rhinitis', 'cardiovascular', 'heartfailure', 'psoriasis', 'anaphylaxis', 'diabetes', 'ihd', 'anxiety', 'eczema', \n",
    "                'nasalpolyps', 'BMI_cat_normal', 'BMI_cat_not recorded', 'BMI_cat_obese', 'BMI_cat_overweight', 'BMI_cat_underweight', \n",
    "                'ethnic_group_Asian', 'ethnic_group_Black', 'ethnic_group_Mixed', 'ethnic_group_Other', 'ethnic_group_White', \n",
    "                'ethnic_group_not recorded', 'smokingStatus_current', 'smokingStatus_former', 'smokingStatus_never', 'imd_decile_0', \n",
    "                'imd_decile_1', 'imd_decile_2', 'imd_decile_3', 'imd_decile_4', 'imd_decile_5', 'imd_decile_6', 'imd_decile_7', 'imd_decile_8', \n",
    "                'imd_decile_9', 'imd_decile_10', 'CharlsonScore_0.0', 'CharlsonScore_1.0', 'CharlsonScore_2.0', 'CharlsonScore_3.0', 'CharlsonScore_4.0', \n",
    "                'CharlsonScore_5.0', 'CharlsonScore_6.0', 'CharlsonScore_7.0', 'CharlsonScore_8.0', 'CharlsonScore_9.0', 'CharlsonScore_10.0', \n",
    "                'CharlsonScore_11.0', 'CharlsonScore_12.0', 'PEFStatus_60-80', 'PEFStatus_less than 60', 'PEFStatus_more than 80', 'PEFStatus_not recorded', \n",
    "                'EosinophilLevel_high', 'EosinophilLevel_normal', 'EosinophilLevel_not recorded', 'BTS_step_0', 'BTS_step_1', 'BTS_step_2', 'BTS_step_3', \n",
    "                'BTS_step_4', 'BTS_step_5', 'DeviceType_BAI', 'DeviceType_DPI', 'DeviceType_NEB', 'DeviceType_not recorded', 'DeviceType_pMDI', \n",
    "                'PriorEducation_No', 'PriorEducation_Yes', 'age', \n",
    "                ]\n",
    "\n",
    "# train_tab = trainingData[tabular_vars]\n",
    "# val_tab = validationData[tabular_vars]\n",
    "# test_tab = evaluationData[tabular_vars]\n",
    "gridSearch_tab = gridSearchData.merge(gridSearch_seq[['patid']], on='patid', how='inner').reset_index(drop=True)[tabular_vars]\n",
    "crossVal_tab = crossValData.merge(crossVal_seq[['patid']], on='patid', how='inner').reset_index(drop=True)[tabular_vars]\n",
    "internalEvaluation_tab = internalEvaluationData.merge(internalEvaluation_seq[['patid']], on='patid', how='inner').reset_index(drop=True)[tabular_vars]\n",
    "externalEvaluation_tab = externalEvaluationData.merge(externalEvaluation_seq[['patid']], on='patid', how='inner').reset_index(drop=True)[tabular_vars]\n",
    "\n",
    "gridSearch_tab = np.asarray(gridSearch_tab).astype('float32')\n",
    "crossVal_tab = np.asarray(crossVal_tab).astype('float32')\n",
    "internalEvaluation_tab = np.asarray(internalEvaluation_tab).astype('float32')\n",
    "externalEvaluation_tab = np.asarray(externalEvaluation_tab).astype('float32')\n"
   ]
  },
  {
   "cell_type": "code",
   "execution_count": null,
   "id": "c0af66cd-54c3-4218-a7af-81347a390f8c",
   "metadata": {},
   "outputs": [],
   "source": [
    "print(f'Grid search size: {gridSearchData.shape}')\n",
    "print(f'Cross val size: {crossValData.shape}')\n",
    "print(f'Internal val size: {internalEvaluationData.shape}')\n",
    "print(f'External val size: {externalEvaluationData.shape}')\n",
    "\n",
    "print(f'Grid search seq size: {gridSearch_seq.shape}')\n",
    "print(f'Cross val seq size: {crossVal_seq.shape}')\n",
    "print(f'Internal val seq size: {internalEvaluation_seq.shape}')\n",
    "print(f'External val seq size: {externalEvaluation_seq.shape}')\n",
    "\n",
    "print(f'Grid search seq size: {gridSearch_tab.shape}')\n",
    "print(f'Cross val seq size: {crossVal_tab.shape}')\n",
    "print(f'Internal val seq size: {internalEvaluation_tab.shape}')\n",
    "print(f'External val seq size: {externalEvaluation_tab.shape}')"
   ]
  },
  {
   "cell_type": "code",
   "execution_count": null,
   "id": "6627649e-85da-4f16-a49f-6c01e8053362",
   "metadata": {
    "tags": []
   },
   "outputs": [],
   "source": [
    "# training_seq.index = training_seq.patid\n",
    "gridSearch_X = gridSearch_seq.iloc[:,2:]\n",
    "gridSearch_y = gridSearch_seq[target_outcome]\n",
    "\n",
    "# val_seq.index = val_seq.patid\n",
    "crossVal_X = crossVal_seq.iloc[:,2:]\n",
    "crossVal_y = crossVal_seq[target_outcome]\n",
    "\n",
    "# internalEvaluation_seq.index = internalEvaluation_seq.patid\n",
    "internalEvaluation_X = internalEvaluation_seq.iloc[:,2:]\n",
    "internalEvaluation_y = internalEvaluation_seq[target_outcome]\n",
    "\n",
    "# internalEvaluation_seq.index = internalEvaluation_seq.patid\n",
    "externalEvaluation_X = externalEvaluation_seq.iloc[:,2:]\n",
    "externalEvaluation_y = externalEvaluation_seq[target_outcome]"
   ]
  },
  {
   "cell_type": "code",
   "execution_count": null,
   "id": "ae24f768-46df-405f-90e9-a4b42cde4753",
   "metadata": {
    "tags": []
   },
   "outputs": [],
   "source": [
    "print(gridSearch_y.value_counts(normalize=True))\n",
    "print(crossVal_y.value_counts(normalize=True))\n",
    "print(internalEvaluation_y.value_counts(normalize=True))\n",
    "print(externalEvaluation_y.value_counts(normalize=True))"
   ]
  },
  {
   "cell_type": "code",
   "execution_count": null,
   "id": "ffd65e53-8b47-46ec-a842-bbbc2a7112e6",
   "metadata": {
    "tags": []
   },
   "outputs": [],
   "source": [
    "#sequence vectors\n",
    "# train_X = train_X.values\n",
    "# val_X = val_X.values\n",
    "# test_X = test_X.values\n",
    "\n",
    "gridSearch_X = gridSearch_X.to_numpy(dtype='float16')\n",
    "crossVal_X = crossVal_X.to_numpy(dtype='float16')\n",
    "internalEvaluation_X = internalEvaluation_X.to_numpy(dtype='float16')\n",
    "externalEvaluation_X = externalEvaluation_X.to_numpy(dtype='float16')\n",
    "\n",
    "\n",
    "\n",
    "#outcome vectors\n",
    "gridSearch_y = gridSearch_y.values\n",
    "crossVal_y = crossVal_y.values\n",
    "internalEvaluation_y = internalEvaluation_y.values\n",
    "externalEvaluation_y = externalEvaluation_y.values\n",
    "\n",
    "#reshape into 3D vectors\n",
    "num_of_months = 41\n",
    "num_of_features = 11\n",
    "gridSearch_X = gridSearch_X.reshape((gridSearch_X.shape[0], num_of_months, num_of_features))\n",
    "crossVal_X = crossVal_X.reshape((crossVal_X.shape[0], num_of_months, num_of_features))\n",
    "internalEvaluation_X = internalEvaluation_X.reshape((internalEvaluation_X.shape[0], num_of_months, num_of_features))\n",
    "externalEvaluation_X = externalEvaluation_X.reshape((externalEvaluation_X.shape[0], num_of_months, num_of_features))\n",
    "\n",
    "gridSearch_X = np.asarray(gridSearch_X).astype('float32')\n",
    "crossVal_X = np.asarray(crossVal_X).astype('float32')\n",
    "internalEvaluation_X = np.asarray(internalEvaluation_X).astype('float32')\n",
    "externalEvaluation_X = np.asarray(externalEvaluation_X).astype('float32')\n",
    "\n",
    "print('sequence input: ', gridSearch_X.shape, crossVal_X.shape, internalEvaluation_X.shape, externalEvaluation_X.shape)\n",
    "print('tabular input: ', gridSearch_tab.shape, crossVal_tab.shape, internalEvaluation_tab.shape, externalEvaluation_tab.shape)\n",
    "print('outcome: ', gridSearch_y.shape, crossVal_y.shape, internalEvaluation_y.shape, externalEvaluation_X.shape)"
   ]
  },
  {
   "cell_type": "code",
   "execution_count": null,
   "id": "6a6c9eba-ba15-4836-8089-5514c228f333",
   "metadata": {
    "tags": []
   },
   "outputs": [],
   "source": [
    "datasets = [gridSearch_X, crossVal_X, internalEvaluation_X, externalEvaluation_X,\n",
    "            gridSearch_tab, crossVal_tab, internalEvaluation_tab, externalEvaluation_tab,\n",
    "            gridSearch_y, crossVal_y, internalEvaluation_y, externalEvaluation_y]\n",
    "pickle.dump(datasets, open('../Clean_data/seasonal_dataset_full_05112024.sav', 'wb'))"
   ]
  },
  {
   "cell_type": "code",
   "execution_count": null,
   "id": "8d06cf9e-f0c6-4bf8-b31e-c5029e91e3b4",
   "metadata": {},
   "outputs": [],
   "source": [
    "# seqs = [gridSearch_seq, crossVal_seq, internalEvaluation_seq, externalEvaluation_seq]\n",
    "# pickle.dump(seqs, open('../Clean_data/sequence_dataset_DF_27102024.sav', 'wb'))"
   ]
  },
  {
   "cell_type": "code",
   "execution_count": null,
   "id": "4d0e683f-4c49-4280-a72d-e71d13aaa8a1",
   "metadata": {},
   "outputs": [],
   "source": []
  },
  {
   "cell_type": "code",
   "execution_count": null,
   "id": "da748064-1771-4536-83de-037b5cbe075c",
   "metadata": {},
   "outputs": [],
   "source": []
  },
  {
   "cell_type": "markdown",
   "id": "b40c5cf7-fe7a-4b3d-b6cd-ac0a9a50a6b4",
   "metadata": {
    "jp-MarkdownHeadingCollapsed": true
   },
   "source": [
    "## Model training"
   ]
  },
  {
   "cell_type": "code",
   "execution_count": null,
   "id": "8f5150f2-4801-46b9-92eb-e3b9ddf61487",
   "metadata": {
    "scrolled": true,
    "tags": []
   },
   "outputs": [],
   "source": [
    "# design network\n",
    "\n",
    "set\n",
    "with tf.device('/GPU:0'):\n",
    "    model = Sequential()\n",
    "    model.add(Bidirectional(LSTM(50, input_shape=(train_X.shape[1], train_X.shape[2]), return_sequences=True)))\n",
    "    model.add(Bidirectional(LSTM(50, return_sequences=True)))\n",
    "    model.add(Bidirectional(LSTM(50, return_sequences=True)))\n",
    "    model.add(Bidirectional(LSTM(50, return_sequences=True)))\n",
    "    model.add(Bidirectional(LSTM(50)))\n",
    "    model.add(Dense(64, activation='relu'))\n",
    "    model.add(Dense(1, activation='sigmoid'))\n",
    "\n",
    "    model.build(input_shape=(None,train_X.shape[1], train_X.shape[2]))\n",
    "    model.summary()\n",
    "\n",
    "    metrics = [\n",
    "                AUC(num_thresholds=1000, name='auc', curve='ROC'),\n",
    "                AUC(num_thresholds=1000, name='auprc', curve='PR'),\n",
    "                # tf.keras.metrics.Precision(name='prec'),\n",
    "                # tf.keras.metrics.Recall(name='rec'),\n",
    "                # tf.keras.metrics.TrueNegatives(name='TN'),\n",
    "                # tf.keras.metrics.TruePositives(name='TP'),\n",
    "                # tf.keras.metrics.PrecisionAtRecall(0.8)\n",
    "            ]\n",
    "\n",
    "    opt = Adadelta(learning_rate=5e-2)\n",
    "\n",
    "    model.compile(loss='binary_crossentropy', optimizer=opt, metrics=metrics)\n",
    "    # fit network\n",
    "    earlyStopping = EarlyStopping(monitor='val_auc', patience=5, verbose=0, mode='max', restore_best_weights=True)\n",
    "    history = model.fit(train_X, train_y, epochs=50, batch_size=32, validation_data=(val_X, val_y), \n",
    "                        class_weight=class_weight, callbacks = [earlyStopping], verbose=2)\n",
    "\n",
    "\n",
    "\n",
    "\n",
    "    # plot history\n",
    "    pyplot.plot(history.history['loss'], label='train')\n",
    "    pyplot.plot(history.history['val_loss'], label='test')\n",
    "    pyplot.legend()\n",
    "    pyplot.show()"
   ]
  },
  {
   "cell_type": "code",
   "execution_count": null,
   "id": "e9930523-1499-4a79-b0b7-06049d9c650c",
   "metadata": {
    "tags": []
   },
   "outputs": [],
   "source": [
    "from sklearn.metrics import confusion_matrix, roc_auc_score, average_precision_score\n",
    "\n",
    "predsraw = model.predict(test_X)\n"
   ]
  },
  {
   "cell_type": "code",
   "execution_count": null,
   "id": "65d1a2a4-80cb-41f4-9245-cf2a8352c489",
   "metadata": {
    "tags": []
   },
   "outputs": [],
   "source": [
    "preds = [0 if x < 0.83 else 1 for x in predsraw]\n",
    "confusion_matrix(test_y, preds)\n",
    "\n",
    "print(roc_auc_score(test_y, preds))\n",
    "print(average_precision_score(test_y, preds))"
   ]
  },
  {
   "cell_type": "code",
   "execution_count": null,
   "id": "b571e2ac-9195-4af6-9fe8-8478883c2174",
   "metadata": {},
   "outputs": [],
   "source": [
    "gridSearch_tab.shape"
   ]
  },
  {
   "cell_type": "markdown",
   "id": "2bc055f9-c7ee-41a3-8e3a-042bc87a9547",
   "metadata": {},
   "source": [
    "# Model with tabular and sequence"
   ]
  },
  {
   "cell_type": "code",
   "execution_count": 2,
   "id": "bb0efb2a-7504-41df-aa64-be6123a73456",
   "metadata": {
    "tags": []
   },
   "outputs": [],
   "source": [
    "# train_X, val_X, test_X, train_tab, val_tab, test_tab, train_y, val_y, test_y = pickle.load(open('../Clean_data/sequence_dataset_full.sav', 'rb'))\n",
    "# print('sequence input: ', train_X.shape, val_X.shape, test_X.shape)\n",
    "# print('tabular input: ', train_tab.shape, val_tab.shape, test_tab.shape)\n",
    "# print('outcome: ', train_y.shape, val_y.shape, test_y.shape)\n",
    "\n",
    "gridSearch_X, crossVal_X, internalEvaluation_X, externalEvaluation_X, gridSearch_tab, crossVal_tab, internalEvaluation_tab, externalEvaluation_tab, gridSearch_y, crossVal_y, internalEvaluation_y, externalEvaluation_y = pickle.load(open('../Clean_data/seasonal_dataset_full_05112024.sav', 'rb'))"
   ]
  },
  {
   "cell_type": "code",
   "execution_count": 7,
   "id": "d158ff79-3484-40e6-bfec-8a19a9551e56",
   "metadata": {
    "tags": []
   },
   "outputs": [],
   "source": [
    "def modelCombined():\n",
    "    \n",
    "###################################################################################################################################################            \n",
    "        #tabular data - demography   \n",
    "        input1 = Input(shape=(crossVal_tab.shape[1],))\n",
    "        nn = Dense(units=32, \n",
    "                    input_shape = (crossVal_tab.shape[1],)\n",
    "                   )(input1)\n",
    "        nn = BatchNormalization()(nn)\n",
    "        nn = Activation(\"relu\")(nn)\n",
    "        nn = Dropout(.3)(nn)\n",
    "        \n",
    "\n",
    "\n",
    "###################################################################################################################################################                \n",
    "\n",
    "        # LSTM - layer 1\n",
    "        \n",
    "        input2 = Input(shape=(crossVal_X.shape[1], crossVal_X.shape[2]))\n",
    "        lstm = Bidirectional(LSTM(units=50, \n",
    "                            return_sequences=True,\n",
    "                                 )\n",
    "                            )(input2)\n",
    "        lstm = Dropout(.3)(lstm)\n",
    "        \n",
    "\n",
    "        # LSTM - layer 2\n",
    "        lstm = Bidirectional(LSTM(units=32, \n",
    "                            # return_sequences=True,\n",
    "                                 )\n",
    "                            )(lstm)\n",
    "        lstm = Dropout(.3)(lstm)\n",
    "        \n",
    "        \n",
    "###################################################################################################################################################        \n",
    "\n",
    "        ##layer 4 - FCN before classification layer\n",
    "        #merge tabular and sequence layers\n",
    "        # nn = Reshape((1, 64))(nn) #reshape the nn product to be concatenated with LSTM product\n",
    "        add = concatenate([nn, lstm], axis=1)\n",
    "\n",
    "        final = Dense(units=16)(add)\n",
    "        final = BatchNormalization()(final)\n",
    "        final = Activation(\"relu\")(final)\n",
    "        final = Dropout(0.3)(final)     \n",
    "        \n",
    "                                                    \n",
    "        ###layer 5 - classification layer\n",
    "        # final = Flatten()(add)\n",
    "        output = Dense(1, activation='sigmoid')(final)\n",
    "        \n",
    "\n",
    "        opt = Adamax(learning_rate=1e-4)\n",
    "        # opt = RMSprop(learning_rate=lr, beta_1=beta_1, beta_2=beta_2, epsilon=epsilon, weight_decay=weight_decay)\n",
    "\n",
    "        metrics = [\n",
    "            AUC(num_thresholds=1000, name='auc', curve='ROC'),\n",
    "            AUC(num_thresholds=1000, name='auprc', curve='PR'),\n",
    "        ]\n",
    "\n",
    "\n",
    "        model = Model(inputs=[input1, input2], outputs=output)\n",
    "        model.compile(\n",
    "            loss='binary_crossentropy', \n",
    "            optimizer=opt, \n",
    "            metrics=metrics)\n",
    "        # print(model.summary())\n",
    "        return model"
   ]
  },
  {
   "cell_type": "code",
   "execution_count": 8,
   "id": "e9597038-692b-4dee-aee9-109c398739d6",
   "metadata": {
    "scrolled": true,
    "tags": []
   },
   "outputs": [
    {
     "name": "stderr",
     "output_type": "stream",
     "text": [
      "/home/abudiarto/miniconda3/envs/tf2.13/lib/python3.10/site-packages/keras/src/layers/core/dense.py:87: UserWarning: Do not pass an `input_shape`/`input_dim` argument to a layer. When using Sequential models, prefer using an `Input(shape)` object as the first layer in the model instead.\n",
      "  super().__init__(activity_regularizer=activity_regularizer, **kwargs)\n"
     ]
    },
    {
     "data": {
      "text/html": [
       "<pre style=\"white-space:pre;overflow-x:auto;line-height:normal;font-family:Menlo,'DejaVu Sans Mono',consolas,'Courier New',monospace\"><span style=\"font-weight: bold\">Model: \"functional_1\"</span>\n",
       "</pre>\n"
      ],
      "text/plain": [
       "\u001b[1mModel: \"functional_1\"\u001b[0m\n"
      ]
     },
     "metadata": {},
     "output_type": "display_data"
    },
    {
     "data": {
      "text/html": [
       "<pre style=\"white-space:pre;overflow-x:auto;line-height:normal;font-family:Menlo,'DejaVu Sans Mono',consolas,'Courier New',monospace\">┏━━━━━━━━━━━━━━━━━━━━━┳━━━━━━━━━━━━━━━━━━━┳━━━━━━━━━━━━┳━━━━━━━━━━━━━━━━━━━┓\n",
       "┃<span style=\"font-weight: bold\"> Layer (type)        </span>┃<span style=\"font-weight: bold\"> Output Shape      </span>┃<span style=\"font-weight: bold\">    Param # </span>┃<span style=\"font-weight: bold\"> Connected to      </span>┃\n",
       "┡━━━━━━━━━━━━━━━━━━━━━╇━━━━━━━━━━━━━━━━━━━╇━━━━━━━━━━━━╇━━━━━━━━━━━━━━━━━━━┩\n",
       "│ input_layer_2       │ (<span style=\"color: #00d7ff; text-decoration-color: #00d7ff\">None</span>, <span style=\"color: #00af00; text-decoration-color: #00af00\">70</span>)        │          <span style=\"color: #00af00; text-decoration-color: #00af00\">0</span> │ -                 │\n",
       "│ (<span style=\"color: #0087ff; text-decoration-color: #0087ff\">InputLayer</span>)        │                   │            │                   │\n",
       "├─────────────────────┼───────────────────┼────────────┼───────────────────┤\n",
       "│ input_layer_3       │ (<span style=\"color: #00d7ff; text-decoration-color: #00d7ff\">None</span>, <span style=\"color: #00af00; text-decoration-color: #00af00\">41</span>, <span style=\"color: #00af00; text-decoration-color: #00af00\">11</span>)    │          <span style=\"color: #00af00; text-decoration-color: #00af00\">0</span> │ -                 │\n",
       "│ (<span style=\"color: #0087ff; text-decoration-color: #0087ff\">InputLayer</span>)        │                   │            │                   │\n",
       "├─────────────────────┼───────────────────┼────────────┼───────────────────┤\n",
       "│ dense_3 (<span style=\"color: #0087ff; text-decoration-color: #0087ff\">Dense</span>)     │ (<span style=\"color: #00d7ff; text-decoration-color: #00d7ff\">None</span>, <span style=\"color: #00af00; text-decoration-color: #00af00\">32</span>)        │      <span style=\"color: #00af00; text-decoration-color: #00af00\">2,272</span> │ input_layer_2[<span style=\"color: #00af00; text-decoration-color: #00af00\">0</span>]… │\n",
       "├─────────────────────┼───────────────────┼────────────┼───────────────────┤\n",
       "│ bidirectional_2     │ (<span style=\"color: #00d7ff; text-decoration-color: #00d7ff\">None</span>, <span style=\"color: #00af00; text-decoration-color: #00af00\">41</span>, <span style=\"color: #00af00; text-decoration-color: #00af00\">100</span>)   │     <span style=\"color: #00af00; text-decoration-color: #00af00\">24,800</span> │ input_layer_3[<span style=\"color: #00af00; text-decoration-color: #00af00\">0</span>]… │\n",
       "│ (<span style=\"color: #0087ff; text-decoration-color: #0087ff\">Bidirectional</span>)     │                   │            │                   │\n",
       "├─────────────────────┼───────────────────┼────────────┼───────────────────┤\n",
       "│ batch_normalizatio… │ (<span style=\"color: #00d7ff; text-decoration-color: #00d7ff\">None</span>, <span style=\"color: #00af00; text-decoration-color: #00af00\">32</span>)        │        <span style=\"color: #00af00; text-decoration-color: #00af00\">128</span> │ dense_3[<span style=\"color: #00af00; text-decoration-color: #00af00\">0</span>][<span style=\"color: #00af00; text-decoration-color: #00af00\">0</span>]     │\n",
       "│ (<span style=\"color: #0087ff; text-decoration-color: #0087ff\">BatchNormalizatio…</span> │                   │            │                   │\n",
       "├─────────────────────┼───────────────────┼────────────┼───────────────────┤\n",
       "│ dropout_5 (<span style=\"color: #0087ff; text-decoration-color: #0087ff\">Dropout</span>) │ (<span style=\"color: #00d7ff; text-decoration-color: #00d7ff\">None</span>, <span style=\"color: #00af00; text-decoration-color: #00af00\">41</span>, <span style=\"color: #00af00; text-decoration-color: #00af00\">100</span>)   │          <span style=\"color: #00af00; text-decoration-color: #00af00\">0</span> │ bidirectional_2[<span style=\"color: #00af00; text-decoration-color: #00af00\">…</span> │\n",
       "├─────────────────────┼───────────────────┼────────────┼───────────────────┤\n",
       "│ activation_2        │ (<span style=\"color: #00d7ff; text-decoration-color: #00d7ff\">None</span>, <span style=\"color: #00af00; text-decoration-color: #00af00\">32</span>)        │          <span style=\"color: #00af00; text-decoration-color: #00af00\">0</span> │ batch_normalizat… │\n",
       "│ (<span style=\"color: #0087ff; text-decoration-color: #0087ff\">Activation</span>)        │                   │            │                   │\n",
       "├─────────────────────┼───────────────────┼────────────┼───────────────────┤\n",
       "│ bidirectional_3     │ (<span style=\"color: #00d7ff; text-decoration-color: #00d7ff\">None</span>, <span style=\"color: #00af00; text-decoration-color: #00af00\">64</span>)        │     <span style=\"color: #00af00; text-decoration-color: #00af00\">34,048</span> │ dropout_5[<span style=\"color: #00af00; text-decoration-color: #00af00\">0</span>][<span style=\"color: #00af00; text-decoration-color: #00af00\">0</span>]   │\n",
       "│ (<span style=\"color: #0087ff; text-decoration-color: #0087ff\">Bidirectional</span>)     │                   │            │                   │\n",
       "├─────────────────────┼───────────────────┼────────────┼───────────────────┤\n",
       "│ dropout_4 (<span style=\"color: #0087ff; text-decoration-color: #0087ff\">Dropout</span>) │ (<span style=\"color: #00d7ff; text-decoration-color: #00d7ff\">None</span>, <span style=\"color: #00af00; text-decoration-color: #00af00\">32</span>)        │          <span style=\"color: #00af00; text-decoration-color: #00af00\">0</span> │ activation_2[<span style=\"color: #00af00; text-decoration-color: #00af00\">0</span>][<span style=\"color: #00af00; text-decoration-color: #00af00\">…</span> │\n",
       "├─────────────────────┼───────────────────┼────────────┼───────────────────┤\n",
       "│ dropout_6 (<span style=\"color: #0087ff; text-decoration-color: #0087ff\">Dropout</span>) │ (<span style=\"color: #00d7ff; text-decoration-color: #00d7ff\">None</span>, <span style=\"color: #00af00; text-decoration-color: #00af00\">64</span>)        │          <span style=\"color: #00af00; text-decoration-color: #00af00\">0</span> │ bidirectional_3[<span style=\"color: #00af00; text-decoration-color: #00af00\">…</span> │\n",
       "├─────────────────────┼───────────────────┼────────────┼───────────────────┤\n",
       "│ concatenate_1       │ (<span style=\"color: #00d7ff; text-decoration-color: #00d7ff\">None</span>, <span style=\"color: #00af00; text-decoration-color: #00af00\">96</span>)        │          <span style=\"color: #00af00; text-decoration-color: #00af00\">0</span> │ dropout_4[<span style=\"color: #00af00; text-decoration-color: #00af00\">0</span>][<span style=\"color: #00af00; text-decoration-color: #00af00\">0</span>],  │\n",
       "│ (<span style=\"color: #0087ff; text-decoration-color: #0087ff\">Concatenate</span>)       │                   │            │ dropout_6[<span style=\"color: #00af00; text-decoration-color: #00af00\">0</span>][<span style=\"color: #00af00; text-decoration-color: #00af00\">0</span>]   │\n",
       "├─────────────────────┼───────────────────┼────────────┼───────────────────┤\n",
       "│ dense_4 (<span style=\"color: #0087ff; text-decoration-color: #0087ff\">Dense</span>)     │ (<span style=\"color: #00d7ff; text-decoration-color: #00d7ff\">None</span>, <span style=\"color: #00af00; text-decoration-color: #00af00\">16</span>)        │      <span style=\"color: #00af00; text-decoration-color: #00af00\">1,552</span> │ concatenate_1[<span style=\"color: #00af00; text-decoration-color: #00af00\">0</span>]… │\n",
       "├─────────────────────┼───────────────────┼────────────┼───────────────────┤\n",
       "│ batch_normalizatio… │ (<span style=\"color: #00d7ff; text-decoration-color: #00d7ff\">None</span>, <span style=\"color: #00af00; text-decoration-color: #00af00\">16</span>)        │         <span style=\"color: #00af00; text-decoration-color: #00af00\">64</span> │ dense_4[<span style=\"color: #00af00; text-decoration-color: #00af00\">0</span>][<span style=\"color: #00af00; text-decoration-color: #00af00\">0</span>]     │\n",
       "│ (<span style=\"color: #0087ff; text-decoration-color: #0087ff\">BatchNormalizatio…</span> │                   │            │                   │\n",
       "├─────────────────────┼───────────────────┼────────────┼───────────────────┤\n",
       "│ activation_3        │ (<span style=\"color: #00d7ff; text-decoration-color: #00d7ff\">None</span>, <span style=\"color: #00af00; text-decoration-color: #00af00\">16</span>)        │          <span style=\"color: #00af00; text-decoration-color: #00af00\">0</span> │ batch_normalizat… │\n",
       "│ (<span style=\"color: #0087ff; text-decoration-color: #0087ff\">Activation</span>)        │                   │            │                   │\n",
       "├─────────────────────┼───────────────────┼────────────┼───────────────────┤\n",
       "│ dropout_7 (<span style=\"color: #0087ff; text-decoration-color: #0087ff\">Dropout</span>) │ (<span style=\"color: #00d7ff; text-decoration-color: #00d7ff\">None</span>, <span style=\"color: #00af00; text-decoration-color: #00af00\">16</span>)        │          <span style=\"color: #00af00; text-decoration-color: #00af00\">0</span> │ activation_3[<span style=\"color: #00af00; text-decoration-color: #00af00\">0</span>][<span style=\"color: #00af00; text-decoration-color: #00af00\">…</span> │\n",
       "├─────────────────────┼───────────────────┼────────────┼───────────────────┤\n",
       "│ dense_5 (<span style=\"color: #0087ff; text-decoration-color: #0087ff\">Dense</span>)     │ (<span style=\"color: #00d7ff; text-decoration-color: #00d7ff\">None</span>, <span style=\"color: #00af00; text-decoration-color: #00af00\">1</span>)         │         <span style=\"color: #00af00; text-decoration-color: #00af00\">17</span> │ dropout_7[<span style=\"color: #00af00; text-decoration-color: #00af00\">0</span>][<span style=\"color: #00af00; text-decoration-color: #00af00\">0</span>]   │\n",
       "└─────────────────────┴───────────────────┴────────────┴───────────────────┘\n",
       "</pre>\n"
      ],
      "text/plain": [
       "┏━━━━━━━━━━━━━━━━━━━━━┳━━━━━━━━━━━━━━━━━━━┳━━━━━━━━━━━━┳━━━━━━━━━━━━━━━━━━━┓\n",
       "┃\u001b[1m \u001b[0m\u001b[1mLayer (type)       \u001b[0m\u001b[1m \u001b[0m┃\u001b[1m \u001b[0m\u001b[1mOutput Shape     \u001b[0m\u001b[1m \u001b[0m┃\u001b[1m \u001b[0m\u001b[1m   Param #\u001b[0m\u001b[1m \u001b[0m┃\u001b[1m \u001b[0m\u001b[1mConnected to     \u001b[0m\u001b[1m \u001b[0m┃\n",
       "┡━━━━━━━━━━━━━━━━━━━━━╇━━━━━━━━━━━━━━━━━━━╇━━━━━━━━━━━━╇━━━━━━━━━━━━━━━━━━━┩\n",
       "│ input_layer_2       │ (\u001b[38;5;45mNone\u001b[0m, \u001b[38;5;34m70\u001b[0m)        │          \u001b[38;5;34m0\u001b[0m │ -                 │\n",
       "│ (\u001b[38;5;33mInputLayer\u001b[0m)        │                   │            │                   │\n",
       "├─────────────────────┼───────────────────┼────────────┼───────────────────┤\n",
       "│ input_layer_3       │ (\u001b[38;5;45mNone\u001b[0m, \u001b[38;5;34m41\u001b[0m, \u001b[38;5;34m11\u001b[0m)    │          \u001b[38;5;34m0\u001b[0m │ -                 │\n",
       "│ (\u001b[38;5;33mInputLayer\u001b[0m)        │                   │            │                   │\n",
       "├─────────────────────┼───────────────────┼────────────┼───────────────────┤\n",
       "│ dense_3 (\u001b[38;5;33mDense\u001b[0m)     │ (\u001b[38;5;45mNone\u001b[0m, \u001b[38;5;34m32\u001b[0m)        │      \u001b[38;5;34m2,272\u001b[0m │ input_layer_2[\u001b[38;5;34m0\u001b[0m]… │\n",
       "├─────────────────────┼───────────────────┼────────────┼───────────────────┤\n",
       "│ bidirectional_2     │ (\u001b[38;5;45mNone\u001b[0m, \u001b[38;5;34m41\u001b[0m, \u001b[38;5;34m100\u001b[0m)   │     \u001b[38;5;34m24,800\u001b[0m │ input_layer_3[\u001b[38;5;34m0\u001b[0m]… │\n",
       "│ (\u001b[38;5;33mBidirectional\u001b[0m)     │                   │            │                   │\n",
       "├─────────────────────┼───────────────────┼────────────┼───────────────────┤\n",
       "│ batch_normalizatio… │ (\u001b[38;5;45mNone\u001b[0m, \u001b[38;5;34m32\u001b[0m)        │        \u001b[38;5;34m128\u001b[0m │ dense_3[\u001b[38;5;34m0\u001b[0m][\u001b[38;5;34m0\u001b[0m]     │\n",
       "│ (\u001b[38;5;33mBatchNormalizatio…\u001b[0m │                   │            │                   │\n",
       "├─────────────────────┼───────────────────┼────────────┼───────────────────┤\n",
       "│ dropout_5 (\u001b[38;5;33mDropout\u001b[0m) │ (\u001b[38;5;45mNone\u001b[0m, \u001b[38;5;34m41\u001b[0m, \u001b[38;5;34m100\u001b[0m)   │          \u001b[38;5;34m0\u001b[0m │ bidirectional_2[\u001b[38;5;34m…\u001b[0m │\n",
       "├─────────────────────┼───────────────────┼────────────┼───────────────────┤\n",
       "│ activation_2        │ (\u001b[38;5;45mNone\u001b[0m, \u001b[38;5;34m32\u001b[0m)        │          \u001b[38;5;34m0\u001b[0m │ batch_normalizat… │\n",
       "│ (\u001b[38;5;33mActivation\u001b[0m)        │                   │            │                   │\n",
       "├─────────────────────┼───────────────────┼────────────┼───────────────────┤\n",
       "│ bidirectional_3     │ (\u001b[38;5;45mNone\u001b[0m, \u001b[38;5;34m64\u001b[0m)        │     \u001b[38;5;34m34,048\u001b[0m │ dropout_5[\u001b[38;5;34m0\u001b[0m][\u001b[38;5;34m0\u001b[0m]   │\n",
       "│ (\u001b[38;5;33mBidirectional\u001b[0m)     │                   │            │                   │\n",
       "├─────────────────────┼───────────────────┼────────────┼───────────────────┤\n",
       "│ dropout_4 (\u001b[38;5;33mDropout\u001b[0m) │ (\u001b[38;5;45mNone\u001b[0m, \u001b[38;5;34m32\u001b[0m)        │          \u001b[38;5;34m0\u001b[0m │ activation_2[\u001b[38;5;34m0\u001b[0m][\u001b[38;5;34m…\u001b[0m │\n",
       "├─────────────────────┼───────────────────┼────────────┼───────────────────┤\n",
       "│ dropout_6 (\u001b[38;5;33mDropout\u001b[0m) │ (\u001b[38;5;45mNone\u001b[0m, \u001b[38;5;34m64\u001b[0m)        │          \u001b[38;5;34m0\u001b[0m │ bidirectional_3[\u001b[38;5;34m…\u001b[0m │\n",
       "├─────────────────────┼───────────────────┼────────────┼───────────────────┤\n",
       "│ concatenate_1       │ (\u001b[38;5;45mNone\u001b[0m, \u001b[38;5;34m96\u001b[0m)        │          \u001b[38;5;34m0\u001b[0m │ dropout_4[\u001b[38;5;34m0\u001b[0m][\u001b[38;5;34m0\u001b[0m],  │\n",
       "│ (\u001b[38;5;33mConcatenate\u001b[0m)       │                   │            │ dropout_6[\u001b[38;5;34m0\u001b[0m][\u001b[38;5;34m0\u001b[0m]   │\n",
       "├─────────────────────┼───────────────────┼────────────┼───────────────────┤\n",
       "│ dense_4 (\u001b[38;5;33mDense\u001b[0m)     │ (\u001b[38;5;45mNone\u001b[0m, \u001b[38;5;34m16\u001b[0m)        │      \u001b[38;5;34m1,552\u001b[0m │ concatenate_1[\u001b[38;5;34m0\u001b[0m]… │\n",
       "├─────────────────────┼───────────────────┼────────────┼───────────────────┤\n",
       "│ batch_normalizatio… │ (\u001b[38;5;45mNone\u001b[0m, \u001b[38;5;34m16\u001b[0m)        │         \u001b[38;5;34m64\u001b[0m │ dense_4[\u001b[38;5;34m0\u001b[0m][\u001b[38;5;34m0\u001b[0m]     │\n",
       "│ (\u001b[38;5;33mBatchNormalizatio…\u001b[0m │                   │            │                   │\n",
       "├─────────────────────┼───────────────────┼────────────┼───────────────────┤\n",
       "│ activation_3        │ (\u001b[38;5;45mNone\u001b[0m, \u001b[38;5;34m16\u001b[0m)        │          \u001b[38;5;34m0\u001b[0m │ batch_normalizat… │\n",
       "│ (\u001b[38;5;33mActivation\u001b[0m)        │                   │            │                   │\n",
       "├─────────────────────┼───────────────────┼────────────┼───────────────────┤\n",
       "│ dropout_7 (\u001b[38;5;33mDropout\u001b[0m) │ (\u001b[38;5;45mNone\u001b[0m, \u001b[38;5;34m16\u001b[0m)        │          \u001b[38;5;34m0\u001b[0m │ activation_3[\u001b[38;5;34m0\u001b[0m][\u001b[38;5;34m…\u001b[0m │\n",
       "├─────────────────────┼───────────────────┼────────────┼───────────────────┤\n",
       "│ dense_5 (\u001b[38;5;33mDense\u001b[0m)     │ (\u001b[38;5;45mNone\u001b[0m, \u001b[38;5;34m1\u001b[0m)         │         \u001b[38;5;34m17\u001b[0m │ dropout_7[\u001b[38;5;34m0\u001b[0m][\u001b[38;5;34m0\u001b[0m]   │\n",
       "└─────────────────────┴───────────────────┴────────────┴───────────────────┘\n"
      ]
     },
     "metadata": {},
     "output_type": "display_data"
    },
    {
     "data": {
      "text/html": [
       "<pre style=\"white-space:pre;overflow-x:auto;line-height:normal;font-family:Menlo,'DejaVu Sans Mono',consolas,'Courier New',monospace\"><span style=\"font-weight: bold\"> Total params: </span><span style=\"color: #00af00; text-decoration-color: #00af00\">62,881</span> (245.63 KB)\n",
       "</pre>\n"
      ],
      "text/plain": [
       "\u001b[1m Total params: \u001b[0m\u001b[38;5;34m62,881\u001b[0m (245.63 KB)\n"
      ]
     },
     "metadata": {},
     "output_type": "display_data"
    },
    {
     "data": {
      "text/html": [
       "<pre style=\"white-space:pre;overflow-x:auto;line-height:normal;font-family:Menlo,'DejaVu Sans Mono',consolas,'Courier New',monospace\"><span style=\"font-weight: bold\"> Trainable params: </span><span style=\"color: #00af00; text-decoration-color: #00af00\">62,785</span> (245.25 KB)\n",
       "</pre>\n"
      ],
      "text/plain": [
       "\u001b[1m Trainable params: \u001b[0m\u001b[38;5;34m62,785\u001b[0m (245.25 KB)\n"
      ]
     },
     "metadata": {},
     "output_type": "display_data"
    },
    {
     "data": {
      "text/html": [
       "<pre style=\"white-space:pre;overflow-x:auto;line-height:normal;font-family:Menlo,'DejaVu Sans Mono',consolas,'Courier New',monospace\"><span style=\"font-weight: bold\"> Non-trainable params: </span><span style=\"color: #00af00; text-decoration-color: #00af00\">96</span> (384.00 B)\n",
       "</pre>\n"
      ],
      "text/plain": [
       "\u001b[1m Non-trainable params: \u001b[0m\u001b[38;5;34m96\u001b[0m (384.00 B)\n"
      ]
     },
     "metadata": {},
     "output_type": "display_data"
    }
   ],
   "source": [
    "set\n",
    "with tf.device('/GPU:0'):\n",
    "    model = modelCombined()\n",
    "    model.summary()"
   ]
  },
  {
   "cell_type": "code",
   "execution_count": 9,
   "id": "3aabe858-2561-4064-9600-1b3dd378854c",
   "metadata": {
    "editable": true,
    "scrolled": true,
    "slideshow": {
     "slide_type": ""
    },
    "tags": []
   },
   "outputs": [
    {
     "name": "stdout",
     "output_type": "stream",
     "text": [
      "Epoch 1/1000\n"
     ]
    },
    {
     "name": "stderr",
     "output_type": "stream",
     "text": [
      "/home/abudiarto/miniconda3/envs/tf2.13/lib/python3.10/site-packages/keras/src/models/functional.py:225: UserWarning: The structure of `inputs` doesn't match the expected structure: ['keras_tensor_16', 'keras_tensor_21']. Received: the structure of inputs=('*', '*')\n",
      "  warnings.warn(\n",
      "I0000 00:00:1730822634.815691    7705 cuda_dnn.cc:529] Loaded cuDNN version 90300\n"
     ]
    },
    {
     "name": "stdout",
     "output_type": "stream",
     "text": [
      "\u001b[1m184/184\u001b[0m \u001b[32m━━━━━━━━━━━━━━━━━━━━\u001b[0m\u001b[37m\u001b[0m \u001b[1m13s\u001b[0m 36ms/step - auc: 0.5165 - auprc: 0.1415 - loss: 1.3972 - val_auc: 0.6166 - val_auprc: 0.1438 - val_loss: 0.6429\n",
      "Epoch 2/1000\n",
      "\u001b[1m184/184\u001b[0m \u001b[32m━━━━━━━━━━━━━━━━━━━━\u001b[0m\u001b[37m\u001b[0m \u001b[1m5s\u001b[0m 29ms/step - auc: 0.5343 - auprc: 0.1475 - loss: 1.3699 - val_auc: 0.6412 - val_auprc: 0.1673 - val_loss: 0.6032\n",
      "Epoch 3/1000\n",
      "\u001b[1m184/184\u001b[0m \u001b[32m━━━━━━━━━━━━━━━━━━━━\u001b[0m\u001b[37m\u001b[0m \u001b[1m5s\u001b[0m 28ms/step - auc: 0.5661 - auprc: 0.1638 - loss: 1.3158 - val_auc: 0.6624 - val_auprc: 0.1867 - val_loss: 0.5874\n",
      "Epoch 4/1000\n",
      "\u001b[1m184/184\u001b[0m \u001b[32m━━━━━━━━━━━━━━━━━━━━\u001b[0m\u001b[37m\u001b[0m \u001b[1m5s\u001b[0m 28ms/step - auc: 0.6040 - auprc: 0.1827 - loss: 1.2635 - val_auc: 0.6798 - val_auprc: 0.2020 - val_loss: 0.5804\n",
      "Epoch 5/1000\n",
      "\u001b[1m184/184\u001b[0m \u001b[32m━━━━━━━━━━━━━━━━━━━━\u001b[0m\u001b[37m\u001b[0m \u001b[1m5s\u001b[0m 28ms/step - auc: 0.6099 - auprc: 0.1862 - loss: 1.2614 - val_auc: 0.6928 - val_auprc: 0.2140 - val_loss: 0.5768\n",
      "Epoch 6/1000\n",
      "\u001b[1m184/184\u001b[0m \u001b[32m━━━━━━━━━━━━━━━━━━━━\u001b[0m\u001b[37m\u001b[0m \u001b[1m5s\u001b[0m 28ms/step - auc: 0.6345 - auprc: 0.2147 - loss: 1.2278 - val_auc: 0.7041 - val_auprc: 0.2259 - val_loss: 0.5763\n",
      "Epoch 7/1000\n",
      "\u001b[1m184/184\u001b[0m \u001b[32m━━━━━━━━━━━━━━━━━━━━\u001b[0m\u001b[37m\u001b[0m \u001b[1m5s\u001b[0m 27ms/step - auc: 0.6522 - auprc: 0.2239 - loss: 1.2136 - val_auc: 0.7136 - val_auprc: 0.2370 - val_loss: 0.5739\n",
      "Epoch 8/1000\n",
      "\u001b[1m184/184\u001b[0m \u001b[32m━━━━━━━━━━━━━━━━━━━━\u001b[0m\u001b[37m\u001b[0m \u001b[1m5s\u001b[0m 28ms/step - auc: 0.6566 - auprc: 0.2302 - loss: 1.2136 - val_auc: 0.7208 - val_auprc: 0.2458 - val_loss: 0.5732\n",
      "Epoch 9/1000\n",
      "\u001b[1m184/184\u001b[0m \u001b[32m━━━━━━━━━━━━━━━━━━━━\u001b[0m\u001b[37m\u001b[0m \u001b[1m5s\u001b[0m 28ms/step - auc: 0.6684 - auprc: 0.2477 - loss: 1.1899 - val_auc: 0.7264 - val_auprc: 0.2527 - val_loss: 0.5720\n",
      "Epoch 10/1000\n",
      "\u001b[1m184/184\u001b[0m \u001b[32m━━━━━━━━━━━━━━━━━━━━\u001b[0m\u001b[37m\u001b[0m \u001b[1m5s\u001b[0m 28ms/step - auc: 0.6789 - auprc: 0.2544 - loss: 1.1805 - val_auc: 0.7311 - val_auprc: 0.2579 - val_loss: 0.5715\n",
      "Epoch 11/1000\n",
      "\u001b[1m184/184\u001b[0m \u001b[32m━━━━━━━━━━━━━━━━━━━━\u001b[0m\u001b[37m\u001b[0m \u001b[1m5s\u001b[0m 28ms/step - auc: 0.6872 - auprc: 0.2685 - loss: 1.1711 - val_auc: 0.7348 - val_auprc: 0.2622 - val_loss: 0.5678\n",
      "Epoch 12/1000\n",
      "\u001b[1m184/184\u001b[0m \u001b[32m━━━━━━━━━━━━━━━━━━━━\u001b[0m\u001b[37m\u001b[0m \u001b[1m5s\u001b[0m 28ms/step - auc: 0.7027 - auprc: 0.2765 - loss: 1.1464 - val_auc: 0.7381 - val_auprc: 0.2667 - val_loss: 0.5650\n",
      "Epoch 13/1000\n",
      "\u001b[1m184/184\u001b[0m \u001b[32m━━━━━━━━━━━━━━━━━━━━\u001b[0m\u001b[37m\u001b[0m \u001b[1m5s\u001b[0m 28ms/step - auc: 0.7013 - auprc: 0.2851 - loss: 1.1542 - val_auc: 0.7412 - val_auprc: 0.2727 - val_loss: 0.5575\n",
      "Epoch 14/1000\n",
      "\u001b[1m184/184\u001b[0m \u001b[32m━━━━━━━━━━━━━━━━━━━━\u001b[0m\u001b[37m\u001b[0m \u001b[1m5s\u001b[0m 28ms/step - auc: 0.7019 - auprc: 0.2835 - loss: 1.1536 - val_auc: 0.7441 - val_auprc: 0.2774 - val_loss: 0.5534\n",
      "Epoch 15/1000\n",
      "\u001b[1m184/184\u001b[0m \u001b[32m━━━━━━━━━━━━━━━━━━━━\u001b[0m\u001b[37m\u001b[0m \u001b[1m5s\u001b[0m 28ms/step - auc: 0.7149 - auprc: 0.2995 - loss: 1.1361 - val_auc: 0.7466 - val_auprc: 0.2812 - val_loss: 0.5517\n",
      "Epoch 16/1000\n",
      "\u001b[1m184/184\u001b[0m \u001b[32m━━━━━━━━━━━━━━━━━━━━\u001b[0m\u001b[37m\u001b[0m \u001b[1m5s\u001b[0m 28ms/step - auc: 0.7211 - auprc: 0.3153 - loss: 1.1232 - val_auc: 0.7495 - val_auprc: 0.2845 - val_loss: 0.5480\n",
      "Epoch 17/1000\n",
      "\u001b[1m184/184\u001b[0m \u001b[32m━━━━━━━━━━━━━━━━━━━━\u001b[0m\u001b[37m\u001b[0m \u001b[1m5s\u001b[0m 28ms/step - auc: 0.7210 - auprc: 0.3228 - loss: 1.1240 - val_auc: 0.7518 - val_auprc: 0.2879 - val_loss: 0.5477\n",
      "Epoch 18/1000\n",
      "\u001b[1m184/184\u001b[0m \u001b[32m━━━━━━━━━━━━━━━━━━━━\u001b[0m\u001b[37m\u001b[0m \u001b[1m5s\u001b[0m 29ms/step - auc: 0.7233 - auprc: 0.3270 - loss: 1.1202 - val_auc: 0.7543 - val_auprc: 0.2916 - val_loss: 0.5453\n",
      "Epoch 19/1000\n",
      "\u001b[1m184/184\u001b[0m \u001b[32m━━━━━━━━━━━━━━━━━━━━\u001b[0m\u001b[37m\u001b[0m \u001b[1m5s\u001b[0m 28ms/step - auc: 0.7228 - auprc: 0.3249 - loss: 1.1206 - val_auc: 0.7555 - val_auprc: 0.2923 - val_loss: 0.5440\n",
      "Epoch 20/1000\n",
      "\u001b[1m184/184\u001b[0m \u001b[32m━━━━━━━━━━━━━━━━━━━━\u001b[0m\u001b[37m\u001b[0m \u001b[1m5s\u001b[0m 28ms/step - auc: 0.7353 - auprc: 0.3336 - loss: 1.1043 - val_auc: 0.7570 - val_auprc: 0.2941 - val_loss: 0.5403\n",
      "Epoch 21/1000\n",
      "\u001b[1m184/184\u001b[0m \u001b[32m━━━━━━━━━━━━━━━━━━━━\u001b[0m\u001b[37m\u001b[0m \u001b[1m5s\u001b[0m 28ms/step - auc: 0.7344 - auprc: 0.3502 - loss: 1.1019 - val_auc: 0.7586 - val_auprc: 0.2946 - val_loss: 0.5377\n",
      "Epoch 22/1000\n",
      "\u001b[1m184/184\u001b[0m \u001b[32m━━━━━━━━━━━━━━━━━━━━\u001b[0m\u001b[37m\u001b[0m \u001b[1m5s\u001b[0m 28ms/step - auc: 0.7373 - auprc: 0.3426 - loss: 1.0989 - val_auc: 0.7596 - val_auprc: 0.2954 - val_loss: 0.5361\n",
      "Epoch 23/1000\n",
      "\u001b[1m184/184\u001b[0m \u001b[32m━━━━━━━━━━━━━━━━━━━━\u001b[0m\u001b[37m\u001b[0m \u001b[1m5s\u001b[0m 28ms/step - auc: 0.7440 - auprc: 0.3563 - loss: 1.0850 - val_auc: 0.7614 - val_auprc: 0.2979 - val_loss: 0.5331\n",
      "Epoch 24/1000\n",
      "\u001b[1m184/184\u001b[0m \u001b[32m━━━━━━━━━━━━━━━━━━━━\u001b[0m\u001b[37m\u001b[0m \u001b[1m5s\u001b[0m 28ms/step - auc: 0.7457 - auprc: 0.3513 - loss: 1.0877 - val_auc: 0.7624 - val_auprc: 0.2987 - val_loss: 0.5340\n",
      "Epoch 25/1000\n",
      "\u001b[1m184/184\u001b[0m \u001b[32m━━━━━━━━━━━━━━━━━━━━\u001b[0m\u001b[37m\u001b[0m \u001b[1m5s\u001b[0m 28ms/step - auc: 0.7433 - auprc: 0.3512 - loss: 1.0926 - val_auc: 0.7627 - val_auprc: 0.2988 - val_loss: 0.5311\n",
      "Epoch 26/1000\n",
      "\u001b[1m184/184\u001b[0m \u001b[32m━━━━━━━━━━━━━━━━━━━━\u001b[0m\u001b[37m\u001b[0m \u001b[1m5s\u001b[0m 28ms/step - auc: 0.7504 - auprc: 0.3599 - loss: 1.0777 - val_auc: 0.7637 - val_auprc: 0.2994 - val_loss: 0.5279\n",
      "Epoch 27/1000\n",
      "\u001b[1m184/184\u001b[0m \u001b[32m━━━━━━━━━━━━━━━━━━━━\u001b[0m\u001b[37m\u001b[0m \u001b[1m5s\u001b[0m 28ms/step - auc: 0.7453 - auprc: 0.3522 - loss: 1.0857 - val_auc: 0.7644 - val_auprc: 0.3002 - val_loss: 0.5232\n",
      "Epoch 28/1000\n",
      "\u001b[1m184/184\u001b[0m \u001b[32m━━━━━━━━━━━━━━━━━━━━\u001b[0m\u001b[37m\u001b[0m \u001b[1m5s\u001b[0m 28ms/step - auc: 0.7597 - auprc: 0.3682 - loss: 1.0620 - val_auc: 0.7647 - val_auprc: 0.3005 - val_loss: 0.5213\n",
      "Epoch 29/1000\n",
      "\u001b[1m184/184\u001b[0m \u001b[32m━━━━━━━━━━━━━━━━━━━━\u001b[0m\u001b[37m\u001b[0m \u001b[1m5s\u001b[0m 28ms/step - auc: 0.7515 - auprc: 0.3509 - loss: 1.0792 - val_auc: 0.7661 - val_auprc: 0.3032 - val_loss: 0.5271\n",
      "Epoch 30/1000\n",
      "\u001b[1m184/184\u001b[0m \u001b[32m━━━━━━━━━━━━━━━━━━━━\u001b[0m\u001b[37m\u001b[0m \u001b[1m5s\u001b[0m 28ms/step - auc: 0.7515 - auprc: 0.3658 - loss: 1.0759 - val_auc: 0.7668 - val_auprc: 0.3026 - val_loss: 0.5246\n",
      "Epoch 31/1000\n",
      "\u001b[1m184/184\u001b[0m \u001b[32m━━━━━━━━━━━━━━━━━━━━\u001b[0m\u001b[37m\u001b[0m \u001b[1m5s\u001b[0m 28ms/step - auc: 0.7537 - auprc: 0.3545 - loss: 1.0766 - val_auc: 0.7678 - val_auprc: 0.3052 - val_loss: 0.5203\n",
      "Epoch 32/1000\n",
      "\u001b[1m184/184\u001b[0m \u001b[32m━━━━━━━━━━━━━━━━━━━━\u001b[0m\u001b[37m\u001b[0m \u001b[1m5s\u001b[0m 28ms/step - auc: 0.7502 - auprc: 0.3688 - loss: 1.0781 - val_auc: 0.7676 - val_auprc: 0.3056 - val_loss: 0.5159\n",
      "Epoch 33/1000\n",
      "\u001b[1m184/184\u001b[0m \u001b[32m━━━━━━━━━━━━━━━━━━━━\u001b[0m\u001b[37m\u001b[0m \u001b[1m5s\u001b[0m 29ms/step - auc: 0.7550 - auprc: 0.3684 - loss: 1.0735 - val_auc: 0.7681 - val_auprc: 0.3055 - val_loss: 0.5157\n",
      "Epoch 34/1000\n",
      "\u001b[1m184/184\u001b[0m \u001b[32m━━━━━━━━━━━━━━━━━━━━\u001b[0m\u001b[37m\u001b[0m \u001b[1m5s\u001b[0m 28ms/step - auc: 0.7610 - auprc: 0.3669 - loss: 1.0628 - val_auc: 0.7692 - val_auprc: 0.3077 - val_loss: 0.5198\n",
      "Epoch 35/1000\n",
      "\u001b[1m184/184\u001b[0m \u001b[32m━━━━━━━━━━━━━━━━━━━━\u001b[0m\u001b[37m\u001b[0m \u001b[1m5s\u001b[0m 28ms/step - auc: 0.7601 - auprc: 0.3735 - loss: 1.0622 - val_auc: 0.7694 - val_auprc: 0.3100 - val_loss: 0.5169\n",
      "Epoch 36/1000\n",
      "\u001b[1m184/184\u001b[0m \u001b[32m━━━━━━━━━━━━━━━━━━━━\u001b[0m\u001b[37m\u001b[0m \u001b[1m5s\u001b[0m 28ms/step - auc: 0.7652 - auprc: 0.3758 - loss: 1.0552 - val_auc: 0.7697 - val_auprc: 0.3096 - val_loss: 0.5126\n",
      "Epoch 37/1000\n",
      "\u001b[1m184/184\u001b[0m \u001b[32m━━━━━━━━━━━━━━━━━━━━\u001b[0m\u001b[37m\u001b[0m \u001b[1m5s\u001b[0m 29ms/step - auc: 0.7671 - auprc: 0.3761 - loss: 1.0549 - val_auc: 0.7708 - val_auprc: 0.3113 - val_loss: 0.5190\n",
      "Epoch 38/1000\n",
      "\u001b[1m184/184\u001b[0m \u001b[32m━━━━━━━━━━━━━━━━━━━━\u001b[0m\u001b[37m\u001b[0m \u001b[1m5s\u001b[0m 28ms/step - auc: 0.7663 - auprc: 0.3685 - loss: 1.0564 - val_auc: 0.7708 - val_auprc: 0.3107 - val_loss: 0.5199\n",
      "Epoch 39/1000\n",
      "\u001b[1m184/184\u001b[0m \u001b[32m━━━━━━━━━━━━━━━━━━━━\u001b[0m\u001b[37m\u001b[0m \u001b[1m5s\u001b[0m 28ms/step - auc: 0.7654 - auprc: 0.3810 - loss: 1.0521 - val_auc: 0.7717 - val_auprc: 0.3128 - val_loss: 0.5118\n",
      "Epoch 40/1000\n",
      "\u001b[1m184/184\u001b[0m \u001b[32m━━━━━━━━━━━━━━━━━━━━\u001b[0m\u001b[37m\u001b[0m \u001b[1m5s\u001b[0m 28ms/step - auc: 0.7706 - auprc: 0.3901 - loss: 1.0437 - val_auc: 0.7709 - val_auprc: 0.3120 - val_loss: 0.5123\n",
      "Epoch 41/1000\n",
      "\u001b[1m184/184\u001b[0m \u001b[32m━━━━━━━━━━━━━━━━━━━━\u001b[0m\u001b[37m\u001b[0m \u001b[1m5s\u001b[0m 29ms/step - auc: 0.7656 - auprc: 0.3736 - loss: 1.0565 - val_auc: 0.7715 - val_auprc: 0.3135 - val_loss: 0.5052\n",
      "Epoch 42/1000\n",
      "\u001b[1m184/184\u001b[0m \u001b[32m━━━━━━━━━━━━━━━━━━━━\u001b[0m\u001b[37m\u001b[0m \u001b[1m5s\u001b[0m 28ms/step - auc: 0.7688 - auprc: 0.3721 - loss: 1.0526 - val_auc: 0.7720 - val_auprc: 0.3138 - val_loss: 0.5065\n",
      "Epoch 43/1000\n",
      "\u001b[1m184/184\u001b[0m \u001b[32m━━━━━━━━━━━━━━━━━━━━\u001b[0m\u001b[37m\u001b[0m \u001b[1m5s\u001b[0m 28ms/step - auc: 0.7633 - auprc: 0.3826 - loss: 1.0566 - val_auc: 0.7718 - val_auprc: 0.3140 - val_loss: 0.5058\n",
      "Epoch 44/1000\n",
      "\u001b[1m184/184\u001b[0m \u001b[32m━━━━━━━━━━━━━━━━━━━━\u001b[0m\u001b[37m\u001b[0m \u001b[1m5s\u001b[0m 28ms/step - auc: 0.7679 - auprc: 0.3734 - loss: 1.0572 - val_auc: 0.7728 - val_auprc: 0.3160 - val_loss: 0.5063\n",
      "Epoch 45/1000\n",
      "\u001b[1m184/184\u001b[0m \u001b[32m━━━━━━━━━━━━━━━━━━━━\u001b[0m\u001b[37m\u001b[0m \u001b[1m5s\u001b[0m 28ms/step - auc: 0.7753 - auprc: 0.3868 - loss: 1.0375 - val_auc: 0.7733 - val_auprc: 0.3167 - val_loss: 0.5048\n",
      "Epoch 46/1000\n",
      "\u001b[1m184/184\u001b[0m \u001b[32m━━━━━━━━━━━━━━━━━━━━\u001b[0m\u001b[37m\u001b[0m \u001b[1m5s\u001b[0m 28ms/step - auc: 0.7764 - auprc: 0.3840 - loss: 1.0344 - val_auc: 0.7732 - val_auprc: 0.3159 - val_loss: 0.5019\n",
      "Epoch 47/1000\n",
      "\u001b[1m184/184\u001b[0m \u001b[32m━━━━━━━━━━━━━━━━━━━━\u001b[0m\u001b[37m\u001b[0m \u001b[1m5s\u001b[0m 29ms/step - auc: 0.7776 - auprc: 0.3757 - loss: 1.0400 - val_auc: 0.7742 - val_auprc: 0.3180 - val_loss: 0.5115\n",
      "Epoch 48/1000\n",
      "\u001b[1m184/184\u001b[0m \u001b[32m━━━━━━━━━━━━━━━━━━━━\u001b[0m\u001b[37m\u001b[0m \u001b[1m5s\u001b[0m 28ms/step - auc: 0.7690 - auprc: 0.3762 - loss: 1.0479 - val_auc: 0.7748 - val_auprc: 0.3181 - val_loss: 0.5100\n",
      "Epoch 49/1000\n",
      "\u001b[1m184/184\u001b[0m \u001b[32m━━━━━━━━━━━━━━━━━━━━\u001b[0m\u001b[37m\u001b[0m \u001b[1m5s\u001b[0m 28ms/step - auc: 0.7716 - auprc: 0.3807 - loss: 1.0431 - val_auc: 0.7739 - val_auprc: 0.3175 - val_loss: 0.4965\n",
      "Epoch 50/1000\n",
      "\u001b[1m184/184\u001b[0m \u001b[32m━━━━━━━━━━━━━━━━━━━━\u001b[0m\u001b[37m\u001b[0m \u001b[1m5s\u001b[0m 28ms/step - auc: 0.7751 - auprc: 0.3858 - loss: 1.0359 - val_auc: 0.7746 - val_auprc: 0.3183 - val_loss: 0.4960\n",
      "Epoch 51/1000\n",
      "\u001b[1m184/184\u001b[0m \u001b[32m━━━━━━━━━━━━━━━━━━━━\u001b[0m\u001b[37m\u001b[0m \u001b[1m5s\u001b[0m 28ms/step - auc: 0.7681 - auprc: 0.3784 - loss: 1.0537 - val_auc: 0.7750 - val_auprc: 0.3186 - val_loss: 0.4961\n",
      "Epoch 52/1000\n",
      "\u001b[1m184/184\u001b[0m \u001b[32m━━━━━━━━━━━━━━━━━━━━\u001b[0m\u001b[37m\u001b[0m \u001b[1m5s\u001b[0m 28ms/step - auc: 0.7793 - auprc: 0.3891 - loss: 1.0334 - val_auc: 0.7753 - val_auprc: 0.3194 - val_loss: 0.5025\n",
      "Epoch 53/1000\n",
      "\u001b[1m184/184\u001b[0m \u001b[32m━━━━━━━━━━━━━━━━━━━━\u001b[0m\u001b[37m\u001b[0m \u001b[1m5s\u001b[0m 28ms/step - auc: 0.7748 - auprc: 0.3798 - loss: 1.0419 - val_auc: 0.7755 - val_auprc: 0.3202 - val_loss: 0.4979\n",
      "Epoch 54/1000\n",
      "\u001b[1m184/184\u001b[0m \u001b[32m━━━━━━━━━━━━━━━━━━━━\u001b[0m\u001b[37m\u001b[0m \u001b[1m5s\u001b[0m 28ms/step - auc: 0.7793 - auprc: 0.3900 - loss: 1.0319 - val_auc: 0.7756 - val_auprc: 0.3196 - val_loss: 0.5026\n",
      "Epoch 55/1000\n",
      "\u001b[1m184/184\u001b[0m \u001b[32m━━━━━━━━━━━━━━━━━━━━\u001b[0m\u001b[37m\u001b[0m \u001b[1m5s\u001b[0m 29ms/step - auc: 0.7720 - auprc: 0.3815 - loss: 1.0431 - val_auc: 0.7757 - val_auprc: 0.3198 - val_loss: 0.4956\n",
      "Epoch 56/1000\n",
      "\u001b[1m184/184\u001b[0m \u001b[32m━━━━━━━━━━━━━━━━━━━━\u001b[0m\u001b[37m\u001b[0m \u001b[1m5s\u001b[0m 28ms/step - auc: 0.7837 - auprc: 0.3868 - loss: 1.0265 - val_auc: 0.7761 - val_auprc: 0.3214 - val_loss: 0.4997\n",
      "Epoch 57/1000\n",
      "\u001b[1m184/184\u001b[0m \u001b[32m━━━━━━━━━━━━━━━━━━━━\u001b[0m\u001b[37m\u001b[0m \u001b[1m5s\u001b[0m 28ms/step - auc: 0.7825 - auprc: 0.3968 - loss: 1.0271 - val_auc: 0.7765 - val_auprc: 0.3223 - val_loss: 0.5018\n",
      "Epoch 58/1000\n",
      "\u001b[1m184/184\u001b[0m \u001b[32m━━━━━━━━━━━━━━━━━━━━\u001b[0m\u001b[37m\u001b[0m \u001b[1m5s\u001b[0m 28ms/step - auc: 0.7806 - auprc: 0.3912 - loss: 1.0327 - val_auc: 0.7760 - val_auprc: 0.3217 - val_loss: 0.4925\n",
      "Epoch 59/1000\n",
      "\u001b[1m184/184\u001b[0m \u001b[32m━━━━━━━━━━━━━━━━━━━━\u001b[0m\u001b[37m\u001b[0m \u001b[1m5s\u001b[0m 28ms/step - auc: 0.7827 - auprc: 0.3965 - loss: 1.0256 - val_auc: 0.7769 - val_auprc: 0.3234 - val_loss: 0.4971\n",
      "Epoch 60/1000\n",
      "\u001b[1m184/184\u001b[0m \u001b[32m━━━━━━━━━━━━━━━━━━━━\u001b[0m\u001b[37m\u001b[0m \u001b[1m5s\u001b[0m 28ms/step - auc: 0.7827 - auprc: 0.4029 - loss: 1.0223 - val_auc: 0.7772 - val_auprc: 0.3235 - val_loss: 0.4984\n",
      "Epoch 61/1000\n",
      "\u001b[1m184/184\u001b[0m \u001b[32m━━━━━━━━━━━━━━━━━━━━\u001b[0m\u001b[37m\u001b[0m \u001b[1m5s\u001b[0m 28ms/step - auc: 0.7814 - auprc: 0.3927 - loss: 1.0242 - val_auc: 0.7764 - val_auprc: 0.3223 - val_loss: 0.4906\n",
      "Epoch 62/1000\n",
      "\u001b[1m184/184\u001b[0m \u001b[32m━━━━━━━━━━━━━━━━━━━━\u001b[0m\u001b[37m\u001b[0m \u001b[1m5s\u001b[0m 28ms/step - auc: 0.7854 - auprc: 0.3901 - loss: 1.0230 - val_auc: 0.7771 - val_auprc: 0.3234 - val_loss: 0.4972\n",
      "Epoch 63/1000\n",
      "\u001b[1m184/184\u001b[0m \u001b[32m━━━━━━━━━━━━━━━━━━━━\u001b[0m\u001b[37m\u001b[0m \u001b[1m5s\u001b[0m 28ms/step - auc: 0.7825 - auprc: 0.3987 - loss: 1.0246 - val_auc: 0.7763 - val_auprc: 0.3231 - val_loss: 0.4857\n",
      "Epoch 64/1000\n",
      "\u001b[1m184/184\u001b[0m \u001b[32m━━━━━━━━━━━━━━━━━━━━\u001b[0m\u001b[37m\u001b[0m \u001b[1m5s\u001b[0m 29ms/step - auc: 0.7819 - auprc: 0.3843 - loss: 1.0273 - val_auc: 0.7778 - val_auprc: 0.3248 - val_loss: 0.4967\n",
      "Epoch 65/1000\n",
      "\u001b[1m184/184\u001b[0m \u001b[32m━━━━━━━━━━━━━━━━━━━━\u001b[0m\u001b[37m\u001b[0m \u001b[1m5s\u001b[0m 27ms/step - auc: 0.7899 - auprc: 0.3993 - loss: 1.0130 - val_auc: 0.7783 - val_auprc: 0.3259 - val_loss: 0.4993\n",
      "Epoch 66/1000\n",
      "\u001b[1m184/184\u001b[0m \u001b[32m━━━━━━━━━━━━━━━━━━━━\u001b[0m\u001b[37m\u001b[0m \u001b[1m5s\u001b[0m 28ms/step - auc: 0.7832 - auprc: 0.4007 - loss: 1.0250 - val_auc: 0.7777 - val_auprc: 0.3255 - val_loss: 0.4888\n",
      "Epoch 67/1000\n",
      "\u001b[1m184/184\u001b[0m \u001b[32m━━━━━━━━━━━━━━━━━━━━\u001b[0m\u001b[37m\u001b[0m \u001b[1m5s\u001b[0m 28ms/step - auc: 0.7834 - auprc: 0.3776 - loss: 1.0247 - val_auc: 0.7779 - val_auprc: 0.3256 - val_loss: 0.4895\n",
      "Epoch 68/1000\n",
      "\u001b[1m184/184\u001b[0m \u001b[32m━━━━━━━━━━━━━━━━━━━━\u001b[0m\u001b[37m\u001b[0m \u001b[1m5s\u001b[0m 28ms/step - auc: 0.7843 - auprc: 0.3984 - loss: 1.0195 - val_auc: 0.7786 - val_auprc: 0.3258 - val_loss: 0.4967\n",
      "Epoch 69/1000\n",
      "\u001b[1m184/184\u001b[0m \u001b[32m━━━━━━━━━━━━━━━━━━━━\u001b[0m\u001b[37m\u001b[0m \u001b[1m5s\u001b[0m 28ms/step - auc: 0.7908 - auprc: 0.4071 - loss: 1.0115 - val_auc: 0.7786 - val_auprc: 0.3263 - val_loss: 0.4868\n",
      "Epoch 70/1000\n",
      "\u001b[1m184/184\u001b[0m \u001b[32m━━━━━━━━━━━━━━━━━━━━\u001b[0m\u001b[37m\u001b[0m \u001b[1m5s\u001b[0m 29ms/step - auc: 0.7875 - auprc: 0.3854 - loss: 1.0197 - val_auc: 0.7795 - val_auprc: 0.3274 - val_loss: 0.4997\n",
      "Epoch 71/1000\n",
      "\u001b[1m184/184\u001b[0m \u001b[32m━━━━━━━━━━━━━━━━━━━━\u001b[0m\u001b[37m\u001b[0m \u001b[1m5s\u001b[0m 27ms/step - auc: 0.7886 - auprc: 0.3916 - loss: 1.0171 - val_auc: 0.7797 - val_auprc: 0.3283 - val_loss: 0.4983\n",
      "Epoch 72/1000\n",
      "\u001b[1m184/184\u001b[0m \u001b[32m━━━━━━━━━━━━━━━━━━━━\u001b[0m\u001b[37m\u001b[0m \u001b[1m5s\u001b[0m 28ms/step - auc: 0.7921 - auprc: 0.3991 - loss: 1.0080 - val_auc: 0.7802 - val_auprc: 0.3292 - val_loss: 0.4997\n",
      "Epoch 73/1000\n",
      "\u001b[1m184/184\u001b[0m \u001b[32m━━━━━━━━━━━━━━━━━━━━\u001b[0m\u001b[37m\u001b[0m \u001b[1m5s\u001b[0m 28ms/step - auc: 0.7864 - auprc: 0.4018 - loss: 1.0182 - val_auc: 0.7795 - val_auprc: 0.3274 - val_loss: 0.4915\n",
      "Epoch 74/1000\n",
      "\u001b[1m184/184\u001b[0m \u001b[32m━━━━━━━━━━━━━━━━━━━━\u001b[0m\u001b[37m\u001b[0m \u001b[1m5s\u001b[0m 28ms/step - auc: 0.7867 - auprc: 0.3873 - loss: 1.0226 - val_auc: 0.7797 - val_auprc: 0.3280 - val_loss: 0.4953\n",
      "Epoch 75/1000\n",
      "\u001b[1m184/184\u001b[0m \u001b[32m━━━━━━━━━━━━━━━━━━━━\u001b[0m\u001b[37m\u001b[0m \u001b[1m5s\u001b[0m 28ms/step - auc: 0.7907 - auprc: 0.3947 - loss: 1.0179 - val_auc: 0.7800 - val_auprc: 0.3283 - val_loss: 0.4929\n",
      "Epoch 76/1000\n",
      "\u001b[1m184/184\u001b[0m \u001b[32m━━━━━━━━━━━━━━━━━━━━\u001b[0m\u001b[37m\u001b[0m \u001b[1m5s\u001b[0m 29ms/step - auc: 0.7918 - auprc: 0.3962 - loss: 1.0113 - val_auc: 0.7803 - val_auprc: 0.3289 - val_loss: 0.4879\n",
      "Epoch 77/1000\n",
      "\u001b[1m184/184\u001b[0m \u001b[32m━━━━━━━━━━━━━━━━━━━━\u001b[0m\u001b[37m\u001b[0m \u001b[1m5s\u001b[0m 28ms/step - auc: 0.7952 - auprc: 0.3970 - loss: 1.0029 - val_auc: 0.7802 - val_auprc: 0.3298 - val_loss: 0.4884\n",
      "Epoch 78/1000\n",
      "\u001b[1m184/184\u001b[0m \u001b[32m━━━━━━━━━━━━━━━━━━━━\u001b[0m\u001b[37m\u001b[0m \u001b[1m5s\u001b[0m 28ms/step - auc: 0.7926 - auprc: 0.4008 - loss: 1.0064 - val_auc: 0.7803 - val_auprc: 0.3299 - val_loss: 0.4868\n",
      "Epoch 79/1000\n",
      "\u001b[1m184/184\u001b[0m \u001b[32m━━━━━━━━━━━━━━━━━━━━\u001b[0m\u001b[37m\u001b[0m \u001b[1m5s\u001b[0m 28ms/step - auc: 0.7920 - auprc: 0.3967 - loss: 1.0108 - val_auc: 0.7800 - val_auprc: 0.3284 - val_loss: 0.4900\n",
      "Epoch 80/1000\n",
      "\u001b[1m184/184\u001b[0m \u001b[32m━━━━━━━━━━━━━━━━━━━━\u001b[0m\u001b[37m\u001b[0m \u001b[1m5s\u001b[0m 28ms/step - auc: 0.7926 - auprc: 0.4105 - loss: 1.0036 - val_auc: 0.7806 - val_auprc: 0.3291 - val_loss: 0.4892\n",
      "Epoch 81/1000\n",
      "\u001b[1m184/184\u001b[0m \u001b[32m━━━━━━━━━━━━━━━━━━━━\u001b[0m\u001b[37m\u001b[0m \u001b[1m5s\u001b[0m 28ms/step - auc: 0.7949 - auprc: 0.4095 - loss: 1.0005 - val_auc: 0.7811 - val_auprc: 0.3298 - val_loss: 0.4897\n",
      "Epoch 82/1000\n",
      "\u001b[1m184/184\u001b[0m \u001b[32m━━━━━━━━━━━━━━━━━━━━\u001b[0m\u001b[37m\u001b[0m \u001b[1m5s\u001b[0m 28ms/step - auc: 0.7942 - auprc: 0.4019 - loss: 1.0051 - val_auc: 0.7813 - val_auprc: 0.3300 - val_loss: 0.4903\n",
      "Epoch 83/1000\n",
      "\u001b[1m184/184\u001b[0m \u001b[32m━━━━━━━━━━━━━━━━━━━━\u001b[0m\u001b[37m\u001b[0m \u001b[1m5s\u001b[0m 28ms/step - auc: 0.7925 - auprc: 0.3973 - loss: 1.0093 - val_auc: 0.7817 - val_auprc: 0.3308 - val_loss: 0.4951\n",
      "Epoch 84/1000\n",
      "\u001b[1m184/184\u001b[0m \u001b[32m━━━━━━━━━━━━━━━━━━━━\u001b[0m\u001b[37m\u001b[0m \u001b[1m5s\u001b[0m 28ms/step - auc: 0.7941 - auprc: 0.4075 - loss: 1.0056 - val_auc: 0.7808 - val_auprc: 0.3296 - val_loss: 0.4848\n",
      "Epoch 85/1000\n",
      "\u001b[1m184/184\u001b[0m \u001b[32m━━━━━━━━━━━━━━━━━━━━\u001b[0m\u001b[37m\u001b[0m \u001b[1m5s\u001b[0m 29ms/step - auc: 0.7951 - auprc: 0.4041 - loss: 1.0057 - val_auc: 0.7812 - val_auprc: 0.3303 - val_loss: 0.4886\n",
      "Epoch 86/1000\n",
      "\u001b[1m184/184\u001b[0m \u001b[32m━━━━━━━━━━━━━━━━━━━━\u001b[0m\u001b[37m\u001b[0m \u001b[1m5s\u001b[0m 28ms/step - auc: 0.7963 - auprc: 0.4067 - loss: 0.9995 - val_auc: 0.7815 - val_auprc: 0.3313 - val_loss: 0.4930\n",
      "Epoch 87/1000\n",
      "\u001b[1m184/184\u001b[0m \u001b[32m━━━━━━━━━━━━━━━━━━━━\u001b[0m\u001b[37m\u001b[0m \u001b[1m5s\u001b[0m 29ms/step - auc: 0.7920 - auprc: 0.4052 - loss: 1.0087 - val_auc: 0.7816 - val_auprc: 0.3318 - val_loss: 0.4929\n",
      "Epoch 88/1000\n",
      "\u001b[1m184/184\u001b[0m \u001b[32m━━━━━━━━━━━━━━━━━━━━\u001b[0m\u001b[37m\u001b[0m \u001b[1m5s\u001b[0m 28ms/step - auc: 0.7971 - auprc: 0.4042 - loss: 0.9999 - val_auc: 0.7814 - val_auprc: 0.3321 - val_loss: 0.4840\n",
      "Epoch 89/1000\n",
      "\u001b[1m184/184\u001b[0m \u001b[32m━━━━━━━━━━━━━━━━━━━━\u001b[0m\u001b[37m\u001b[0m \u001b[1m5s\u001b[0m 28ms/step - auc: 0.7937 - auprc: 0.4089 - loss: 1.0044 - val_auc: 0.7812 - val_auprc: 0.3311 - val_loss: 0.4834\n",
      "Epoch 90/1000\n",
      "\u001b[1m184/184\u001b[0m \u001b[32m━━━━━━━━━━━━━━━━━━━━\u001b[0m\u001b[37m\u001b[0m \u001b[1m5s\u001b[0m 28ms/step - auc: 0.7967 - auprc: 0.4080 - loss: 1.0005 - val_auc: 0.7812 - val_auprc: 0.3318 - val_loss: 0.4811\n",
      "Epoch 91/1000\n",
      "\u001b[1m184/184\u001b[0m \u001b[32m━━━━━━━━━━━━━━━━━━━━\u001b[0m\u001b[37m\u001b[0m \u001b[1m5s\u001b[0m 28ms/step - auc: 0.7939 - auprc: 0.4107 - loss: 1.0032 - val_auc: 0.7819 - val_auprc: 0.3323 - val_loss: 0.4877\n",
      "Epoch 92/1000\n",
      "\u001b[1m184/184\u001b[0m \u001b[32m━━━━━━━━━━━━━━━━━━━━\u001b[0m\u001b[37m\u001b[0m \u001b[1m5s\u001b[0m 29ms/step - auc: 0.7943 - auprc: 0.4003 - loss: 1.0060 - val_auc: 0.7826 - val_auprc: 0.3341 - val_loss: 0.4950\n",
      "Epoch 93/1000\n",
      "\u001b[1m184/184\u001b[0m \u001b[32m━━━━━━━━━━━━━━━━━━━━\u001b[0m\u001b[37m\u001b[0m \u001b[1m5s\u001b[0m 29ms/step - auc: 0.7996 - auprc: 0.4110 - loss: 0.9945 - val_auc: 0.7820 - val_auprc: 0.3327 - val_loss: 0.4836\n",
      "Epoch 94/1000\n",
      "\u001b[1m184/184\u001b[0m \u001b[32m━━━━━━━━━━━━━━━━━━━━\u001b[0m\u001b[37m\u001b[0m \u001b[1m5s\u001b[0m 28ms/step - auc: 0.7997 - auprc: 0.4084 - loss: 0.9956 - val_auc: 0.7821 - val_auprc: 0.3327 - val_loss: 0.4811\n",
      "Epoch 95/1000\n",
      "\u001b[1m184/184\u001b[0m \u001b[32m━━━━━━━━━━━━━━━━━━━━\u001b[0m\u001b[37m\u001b[0m \u001b[1m5s\u001b[0m 28ms/step - auc: 0.7990 - auprc: 0.4168 - loss: 0.9952 - val_auc: 0.7829 - val_auprc: 0.3343 - val_loss: 0.4916\n",
      "Epoch 96/1000\n",
      "\u001b[1m184/184\u001b[0m \u001b[32m━━━━━━━━━━━━━━━━━━━━\u001b[0m\u001b[37m\u001b[0m \u001b[1m5s\u001b[0m 28ms/step - auc: 0.8030 - auprc: 0.4074 - loss: 0.9898 - val_auc: 0.7823 - val_auprc: 0.3332 - val_loss: 0.4843\n",
      "Epoch 97/1000\n",
      "\u001b[1m184/184\u001b[0m \u001b[32m━━━━━━━━━━━━━━━━━━━━\u001b[0m\u001b[37m\u001b[0m \u001b[1m5s\u001b[0m 29ms/step - auc: 0.7977 - auprc: 0.4062 - loss: 0.9994 - val_auc: 0.7828 - val_auprc: 0.3348 - val_loss: 0.4980\n",
      "Epoch 98/1000\n",
      "\u001b[1m184/184\u001b[0m \u001b[32m━━━━━━━━━━━━━━━━━━━━\u001b[0m\u001b[37m\u001b[0m \u001b[1m5s\u001b[0m 28ms/step - auc: 0.7999 - auprc: 0.4083 - loss: 0.9917 - val_auc: 0.7827 - val_auprc: 0.3344 - val_loss: 0.4853\n",
      "Epoch 99/1000\n",
      "\u001b[1m184/184\u001b[0m \u001b[32m━━━━━━━━━━━━━━━━━━━━\u001b[0m\u001b[37m\u001b[0m \u001b[1m5s\u001b[0m 29ms/step - auc: 0.8026 - auprc: 0.4211 - loss: 0.9850 - val_auc: 0.7826 - val_auprc: 0.3350 - val_loss: 0.4839\n",
      "Epoch 100/1000\n",
      "\u001b[1m184/184\u001b[0m \u001b[32m━━━━━━━━━━━━━━━━━━━━\u001b[0m\u001b[37m\u001b[0m \u001b[1m5s\u001b[0m 28ms/step - auc: 0.8029 - auprc: 0.4092 - loss: 0.9851 - val_auc: 0.7828 - val_auprc: 0.3352 - val_loss: 0.4879\n",
      "Epoch 101/1000\n",
      "\u001b[1m184/184\u001b[0m \u001b[32m━━━━━━━━━━━━━━━━━━━━\u001b[0m\u001b[37m\u001b[0m \u001b[1m5s\u001b[0m 29ms/step - auc: 0.8013 - auprc: 0.4046 - loss: 0.9954 - val_auc: 0.7823 - val_auprc: 0.3338 - val_loss: 0.4796\n",
      "Epoch 102/1000\n",
      "\u001b[1m184/184\u001b[0m \u001b[32m━━━━━━━━━━━━━━━━━━━━\u001b[0m\u001b[37m\u001b[0m \u001b[1m5s\u001b[0m 27ms/step - auc: 0.8034 - auprc: 0.4141 - loss: 0.9863 - val_auc: 0.7825 - val_auprc: 0.3338 - val_loss: 0.4878\n",
      "Epoch 103/1000\n",
      "\u001b[1m184/184\u001b[0m \u001b[32m━━━━━━━━━━━━━━━━━━━━\u001b[0m\u001b[37m\u001b[0m \u001b[1m5s\u001b[0m 28ms/step - auc: 0.8040 - auprc: 0.4108 - loss: 0.9876 - val_auc: 0.7829 - val_auprc: 0.3344 - val_loss: 0.4853\n",
      "Epoch 104/1000\n",
      "\u001b[1m184/184\u001b[0m \u001b[32m━━━━━━━━━━━━━━━━━━━━\u001b[0m\u001b[37m\u001b[0m \u001b[1m5s\u001b[0m 28ms/step - auc: 0.8037 - auprc: 0.4124 - loss: 0.9842 - val_auc: 0.7832 - val_auprc: 0.3349 - val_loss: 0.4886\n",
      "Epoch 105/1000\n",
      "\u001b[1m184/184\u001b[0m \u001b[32m━━━━━━━━━━━━━━━━━━━━\u001b[0m\u001b[37m\u001b[0m \u001b[1m5s\u001b[0m 29ms/step - auc: 0.8018 - auprc: 0.4085 - loss: 0.9932 - val_auc: 0.7825 - val_auprc: 0.3341 - val_loss: 0.4740\n",
      "Epoch 106/1000\n",
      "\u001b[1m184/184\u001b[0m \u001b[32m━━━━━━━━━━━━━━━━━━━━\u001b[0m\u001b[37m\u001b[0m \u001b[1m5s\u001b[0m 28ms/step - auc: 0.8032 - auprc: 0.4143 - loss: 0.9885 - val_auc: 0.7829 - val_auprc: 0.3347 - val_loss: 0.4824\n",
      "Epoch 107/1000\n",
      "\u001b[1m184/184\u001b[0m \u001b[32m━━━━━━━━━━━━━━━━━━━━\u001b[0m\u001b[37m\u001b[0m \u001b[1m5s\u001b[0m 28ms/step - auc: 0.8081 - auprc: 0.4059 - loss: 0.9830 - val_auc: 0.7830 - val_auprc: 0.3353 - val_loss: 0.4813\n",
      "Epoch 108/1000\n",
      "\u001b[1m184/184\u001b[0m \u001b[32m━━━━━━━━━━━━━━━━━━━━\u001b[0m\u001b[37m\u001b[0m \u001b[1m5s\u001b[0m 28ms/step - auc: 0.8036 - auprc: 0.4155 - loss: 0.9870 - val_auc: 0.7835 - val_auprc: 0.3357 - val_loss: 0.4878\n",
      "Epoch 109/1000\n",
      "\u001b[1m184/184\u001b[0m \u001b[32m━━━━━━━━━━━━━━━━━━━━\u001b[0m\u001b[37m\u001b[0m \u001b[1m5s\u001b[0m 28ms/step - auc: 0.8005 - auprc: 0.4042 - loss: 0.9956 - val_auc: 0.7833 - val_auprc: 0.3357 - val_loss: 0.4848\n",
      "Epoch 110/1000\n",
      "\u001b[1m184/184\u001b[0m \u001b[32m━━━━━━━━━━━━━━━━━━━━\u001b[0m\u001b[37m\u001b[0m \u001b[1m5s\u001b[0m 28ms/step - auc: 0.8072 - auprc: 0.4192 - loss: 0.9836 - val_auc: 0.7832 - val_auprc: 0.3353 - val_loss: 0.4858\n",
      "Epoch 111/1000\n",
      "\u001b[1m184/184\u001b[0m \u001b[32m━━━━━━━━━━━━━━━━━━━━\u001b[0m\u001b[37m\u001b[0m \u001b[1m5s\u001b[0m 28ms/step - auc: 0.8021 - auprc: 0.4076 - loss: 0.9916 - val_auc: 0.7838 - val_auprc: 0.3367 - val_loss: 0.4880\n",
      "Epoch 112/1000\n",
      "\u001b[1m184/184\u001b[0m \u001b[32m━━━━━━━━━━━━━━━━━━━━\u001b[0m\u001b[37m\u001b[0m \u001b[1m5s\u001b[0m 28ms/step - auc: 0.8062 - auprc: 0.4125 - loss: 0.9828 - val_auc: 0.7839 - val_auprc: 0.3364 - val_loss: 0.4808\n",
      "Epoch 113/1000\n",
      "\u001b[1m184/184\u001b[0m \u001b[32m━━━━━━━━━━━━━━━━━━━━\u001b[0m\u001b[37m\u001b[0m \u001b[1m5s\u001b[0m 27ms/step - auc: 0.8086 - auprc: 0.4150 - loss: 0.9777 - val_auc: 0.7839 - val_auprc: 0.3364 - val_loss: 0.4835\n",
      "Epoch 114/1000\n",
      "\u001b[1m184/184\u001b[0m \u001b[32m━━━━━━━━━━━━━━━━━━━━\u001b[0m\u001b[37m\u001b[0m \u001b[1m5s\u001b[0m 28ms/step - auc: 0.8024 - auprc: 0.4038 - loss: 0.9927 - val_auc: 0.7837 - val_auprc: 0.3360 - val_loss: 0.4907\n",
      "Epoch 115/1000\n",
      "\u001b[1m184/184\u001b[0m \u001b[32m━━━━━━━━━━━━━━━━━━━━\u001b[0m\u001b[37m\u001b[0m \u001b[1m5s\u001b[0m 28ms/step - auc: 0.8050 - auprc: 0.4140 - loss: 0.9846 - val_auc: 0.7838 - val_auprc: 0.3362 - val_loss: 0.4791\n",
      "Epoch 116/1000\n",
      "\u001b[1m184/184\u001b[0m \u001b[32m━━━━━━━━━━━━━━━━━━━━\u001b[0m\u001b[37m\u001b[0m \u001b[1m5s\u001b[0m 29ms/step - auc: 0.8079 - auprc: 0.4194 - loss: 0.9767 - val_auc: 0.7844 - val_auprc: 0.3370 - val_loss: 0.4885\n",
      "Epoch 117/1000\n",
      "\u001b[1m184/184\u001b[0m \u001b[32m━━━━━━━━━━━━━━━━━━━━\u001b[0m\u001b[37m\u001b[0m \u001b[1m5s\u001b[0m 28ms/step - auc: 0.8099 - auprc: 0.4134 - loss: 0.9739 - val_auc: 0.7840 - val_auprc: 0.3368 - val_loss: 0.4871\n",
      "Epoch 118/1000\n",
      "\u001b[1m184/184\u001b[0m \u001b[32m━━━━━━━━━━━━━━━━━━━━\u001b[0m\u001b[37m\u001b[0m \u001b[1m5s\u001b[0m 28ms/step - auc: 0.8056 - auprc: 0.4255 - loss: 0.9779 - val_auc: 0.7838 - val_auprc: 0.3361 - val_loss: 0.4643\n",
      "Epoch 119/1000\n",
      "\u001b[1m184/184\u001b[0m \u001b[32m━━━━━━━━━━━━━━━━━━━━\u001b[0m\u001b[37m\u001b[0m \u001b[1m5s\u001b[0m 28ms/step - auc: 0.8073 - auprc: 0.4019 - loss: 0.9828 - val_auc: 0.7847 - val_auprc: 0.3374 - val_loss: 0.4881\n",
      "Epoch 120/1000\n",
      "\u001b[1m184/184\u001b[0m \u001b[32m━━━━━━━━━━━━━━━━━━━━\u001b[0m\u001b[37m\u001b[0m \u001b[1m5s\u001b[0m 28ms/step - auc: 0.8074 - auprc: 0.4223 - loss: 0.9803 - val_auc: 0.7849 - val_auprc: 0.3374 - val_loss: 0.4796\n",
      "Epoch 121/1000\n",
      "\u001b[1m184/184\u001b[0m \u001b[32m━━━━━━━━━━━━━━━━━━━━\u001b[0m\u001b[37m\u001b[0m \u001b[1m5s\u001b[0m 29ms/step - auc: 0.8035 - auprc: 0.4119 - loss: 0.9870 - val_auc: 0.7847 - val_auprc: 0.3374 - val_loss: 0.4801\n",
      "Epoch 122/1000\n",
      "\u001b[1m184/184\u001b[0m \u001b[32m━━━━━━━━━━━━━━━━━━━━\u001b[0m\u001b[37m\u001b[0m \u001b[1m5s\u001b[0m 28ms/step - auc: 0.8075 - auprc: 0.4100 - loss: 0.9810 - val_auc: 0.7846 - val_auprc: 0.3374 - val_loss: 0.4845\n",
      "Epoch 123/1000\n",
      "\u001b[1m184/184\u001b[0m \u001b[32m━━━━━━━━━━━━━━━━━━━━\u001b[0m\u001b[37m\u001b[0m \u001b[1m5s\u001b[0m 28ms/step - auc: 0.8108 - auprc: 0.4171 - loss: 0.9728 - val_auc: 0.7846 - val_auprc: 0.3376 - val_loss: 0.4854\n",
      "Epoch 124/1000\n",
      "\u001b[1m184/184\u001b[0m \u001b[32m━━━━━━━━━━━━━━━━━━━━\u001b[0m\u001b[37m\u001b[0m \u001b[1m5s\u001b[0m 29ms/step - auc: 0.8093 - auprc: 0.4216 - loss: 0.9756 - val_auc: 0.7844 - val_auprc: 0.3374 - val_loss: 0.4802\n",
      "Epoch 125/1000\n",
      "\u001b[1m184/184\u001b[0m \u001b[32m━━━━━━━━━━━━━━━━━━━━\u001b[0m\u001b[37m\u001b[0m \u001b[1m5s\u001b[0m 29ms/step - auc: 0.8084 - auprc: 0.4083 - loss: 0.9791 - val_auc: 0.7854 - val_auprc: 0.3387 - val_loss: 0.4925\n",
      "Epoch 126/1000\n",
      "\u001b[1m184/184\u001b[0m \u001b[32m━━━━━━━━━━━━━━━━━━━━\u001b[0m\u001b[37m\u001b[0m \u001b[1m5s\u001b[0m 28ms/step - auc: 0.8121 - auprc: 0.4099 - loss: 0.9705 - val_auc: 0.7856 - val_auprc: 0.3382 - val_loss: 0.4841\n",
      "Epoch 127/1000\n",
      "\u001b[1m184/184\u001b[0m \u001b[32m━━━━━━━━━━━━━━━━━━━━\u001b[0m\u001b[37m\u001b[0m \u001b[1m5s\u001b[0m 29ms/step - auc: 0.8042 - auprc: 0.4119 - loss: 0.9864 - val_auc: 0.7857 - val_auprc: 0.3385 - val_loss: 0.4814\n",
      "Epoch 128/1000\n",
      "\u001b[1m184/184\u001b[0m \u001b[32m━━━━━━━━━━━━━━━━━━━━\u001b[0m\u001b[37m\u001b[0m \u001b[1m5s\u001b[0m 28ms/step - auc: 0.8111 - auprc: 0.4125 - loss: 0.9729 - val_auc: 0.7856 - val_auprc: 0.3383 - val_loss: 0.4874\n",
      "Epoch 129/1000\n",
      "\u001b[1m184/184\u001b[0m \u001b[32m━━━━━━━━━━━━━━━━━━━━\u001b[0m\u001b[37m\u001b[0m \u001b[1m5s\u001b[0m 29ms/step - auc: 0.8042 - auprc: 0.4007 - loss: 0.9858 - val_auc: 0.7855 - val_auprc: 0.3384 - val_loss: 0.4903\n",
      "Epoch 130/1000\n",
      "\u001b[1m184/184\u001b[0m \u001b[32m━━━━━━━━━━━━━━━━━━━━\u001b[0m\u001b[37m\u001b[0m \u001b[1m5s\u001b[0m 28ms/step - auc: 0.8078 - auprc: 0.4127 - loss: 0.9788 - val_auc: 0.7853 - val_auprc: 0.3380 - val_loss: 0.4832\n",
      "Epoch 131/1000\n",
      "\u001b[1m184/184\u001b[0m \u001b[32m━━━━━━━━━━━━━━━━━━━━\u001b[0m\u001b[37m\u001b[0m \u001b[1m5s\u001b[0m 27ms/step - auc: 0.8062 - auprc: 0.4065 - loss: 0.9834 - val_auc: 0.7858 - val_auprc: 0.3390 - val_loss: 0.4775\n",
      "Epoch 132/1000\n",
      "\u001b[1m184/184\u001b[0m \u001b[32m━━━━━━━━━━━━━━━━━━━━\u001b[0m\u001b[37m\u001b[0m \u001b[1m5s\u001b[0m 29ms/step - auc: 0.8122 - auprc: 0.4133 - loss: 0.9731 - val_auc: 0.7858 - val_auprc: 0.3388 - val_loss: 0.4721\n",
      "Epoch 133/1000\n",
      "\u001b[1m184/184\u001b[0m \u001b[32m━━━━━━━━━━━━━━━━━━━━\u001b[0m\u001b[37m\u001b[0m \u001b[1m5s\u001b[0m 28ms/step - auc: 0.8052 - auprc: 0.4034 - loss: 0.9849 - val_auc: 0.7861 - val_auprc: 0.3389 - val_loss: 0.4803\n",
      "Epoch 134/1000\n",
      "\u001b[1m184/184\u001b[0m \u001b[32m━━━━━━━━━━━━━━━━━━━━\u001b[0m\u001b[37m\u001b[0m \u001b[1m5s\u001b[0m 28ms/step - auc: 0.8087 - auprc: 0.4220 - loss: 0.9731 - val_auc: 0.7861 - val_auprc: 0.3389 - val_loss: 0.4928\n",
      "Epoch 135/1000\n",
      "\u001b[1m184/184\u001b[0m \u001b[32m━━━━━━━━━━━━━━━━━━━━\u001b[0m\u001b[37m\u001b[0m \u001b[1m5s\u001b[0m 28ms/step - auc: 0.8126 - auprc: 0.4215 - loss: 0.9687 - val_auc: 0.7860 - val_auprc: 0.3390 - val_loss: 0.4758\n",
      "Epoch 136/1000\n",
      "\u001b[1m184/184\u001b[0m \u001b[32m━━━━━━━━━━━━━━━━━━━━\u001b[0m\u001b[37m\u001b[0m \u001b[1m5s\u001b[0m 28ms/step - auc: 0.8081 - auprc: 0.4145 - loss: 0.9741 - val_auc: 0.7859 - val_auprc: 0.3389 - val_loss: 0.4904\n",
      "Epoch 137/1000\n",
      "\u001b[1m184/184\u001b[0m \u001b[32m━━━━━━━━━━━━━━━━━━━━\u001b[0m\u001b[37m\u001b[0m \u001b[1m5s\u001b[0m 28ms/step - auc: 0.8129 - auprc: 0.4214 - loss: 0.9702 - val_auc: 0.7859 - val_auprc: 0.3390 - val_loss: 0.4727\n",
      "Epoch 138/1000\n",
      "\u001b[1m184/184\u001b[0m \u001b[32m━━━━━━━━━━━━━━━━━━━━\u001b[0m\u001b[37m\u001b[0m \u001b[1m5s\u001b[0m 27ms/step - auc: 0.8094 - auprc: 0.4186 - loss: 0.9721 - val_auc: 0.7856 - val_auprc: 0.3392 - val_loss: 0.4927\n",
      "Epoch 139/1000\n",
      "\u001b[1m184/184\u001b[0m \u001b[32m━━━━━━━━━━━━━━━━━━━━\u001b[0m\u001b[37m\u001b[0m \u001b[1m5s\u001b[0m 28ms/step - auc: 0.8154 - auprc: 0.4207 - loss: 0.9653 - val_auc: 0.7858 - val_auprc: 0.3397 - val_loss: 0.4736\n",
      "Epoch 140/1000\n",
      "\u001b[1m184/184\u001b[0m \u001b[32m━━━━━━━━━━━━━━━━━━━━\u001b[0m\u001b[37m\u001b[0m \u001b[1m5s\u001b[0m 28ms/step - auc: 0.8124 - auprc: 0.4147 - loss: 0.9702 - val_auc: 0.7859 - val_auprc: 0.3394 - val_loss: 0.4922\n",
      "Epoch 141/1000\n",
      "\u001b[1m184/184\u001b[0m \u001b[32m━━━━━━━━━━━━━━━━━━━━\u001b[0m\u001b[37m\u001b[0m \u001b[1m5s\u001b[0m 28ms/step - auc: 0.8134 - auprc: 0.4168 - loss: 0.9665 - val_auc: 0.7867 - val_auprc: 0.3400 - val_loss: 0.4855\n",
      "Epoch 142/1000\n",
      "\u001b[1m184/184\u001b[0m \u001b[32m━━━━━━━━━━━━━━━━━━━━\u001b[0m\u001b[37m\u001b[0m \u001b[1m5s\u001b[0m 28ms/step - auc: 0.8115 - auprc: 0.4070 - loss: 0.9746 - val_auc: 0.7871 - val_auprc: 0.3401 - val_loss: 0.4875\n",
      "Epoch 143/1000\n",
      "\u001b[1m184/184\u001b[0m \u001b[32m━━━━━━━━━━━━━━━━━━━━\u001b[0m\u001b[37m\u001b[0m \u001b[1m5s\u001b[0m 28ms/step - auc: 0.8084 - auprc: 0.4069 - loss: 0.9767 - val_auc: 0.7872 - val_auprc: 0.3400 - val_loss: 0.4790\n",
      "Epoch 144/1000\n",
      "\u001b[1m184/184\u001b[0m \u001b[32m━━━━━━━━━━━━━━━━━━━━\u001b[0m\u001b[37m\u001b[0m \u001b[1m5s\u001b[0m 28ms/step - auc: 0.8128 - auprc: 0.4236 - loss: 0.9657 - val_auc: 0.7873 - val_auprc: 0.3405 - val_loss: 0.4779\n",
      "Epoch 145/1000\n",
      "\u001b[1m184/184\u001b[0m \u001b[32m━━━━━━━━━━━━━━━━━━━━\u001b[0m\u001b[37m\u001b[0m \u001b[1m5s\u001b[0m 28ms/step - auc: 0.8145 - auprc: 0.4224 - loss: 0.9657 - val_auc: 0.7877 - val_auprc: 0.3406 - val_loss: 0.4860\n",
      "Epoch 146/1000\n",
      "\u001b[1m184/184\u001b[0m \u001b[32m━━━━━━━━━━━━━━━━━━━━\u001b[0m\u001b[37m\u001b[0m \u001b[1m5s\u001b[0m 28ms/step - auc: 0.8152 - auprc: 0.4247 - loss: 0.9620 - val_auc: 0.7874 - val_auprc: 0.3408 - val_loss: 0.4807\n",
      "Epoch 147/1000\n",
      "\u001b[1m184/184\u001b[0m \u001b[32m━━━━━━━━━━━━━━━━━━━━\u001b[0m\u001b[37m\u001b[0m \u001b[1m5s\u001b[0m 28ms/step - auc: 0.8120 - auprc: 0.4299 - loss: 0.9670 - val_auc: 0.7872 - val_auprc: 0.3414 - val_loss: 0.4813\n",
      "Epoch 148/1000\n",
      "\u001b[1m184/184\u001b[0m \u001b[32m━━━━━━━━━━━━━━━━━━━━\u001b[0m\u001b[37m\u001b[0m \u001b[1m5s\u001b[0m 28ms/step - auc: 0.8132 - auprc: 0.4191 - loss: 0.9629 - val_auc: 0.7873 - val_auprc: 0.3416 - val_loss: 0.4735\n",
      "Epoch 149/1000\n",
      "\u001b[1m184/184\u001b[0m \u001b[32m━━━━━━━━━━━━━━━━━━━━\u001b[0m\u001b[37m\u001b[0m \u001b[1m5s\u001b[0m 28ms/step - auc: 0.8119 - auprc: 0.4175 - loss: 0.9730 - val_auc: 0.7877 - val_auprc: 0.3417 - val_loss: 0.4793\n",
      "Epoch 150/1000\n",
      "\u001b[1m184/184\u001b[0m \u001b[32m━━━━━━━━━━━━━━━━━━━━\u001b[0m\u001b[37m\u001b[0m \u001b[1m5s\u001b[0m 28ms/step - auc: 0.8139 - auprc: 0.4190 - loss: 0.9663 - val_auc: 0.7877 - val_auprc: 0.3421 - val_loss: 0.4849\n",
      "Epoch 151/1000\n",
      "\u001b[1m184/184\u001b[0m \u001b[32m━━━━━━━━━━━━━━━━━━━━\u001b[0m\u001b[37m\u001b[0m \u001b[1m5s\u001b[0m 28ms/step - auc: 0.8140 - auprc: 0.4242 - loss: 0.9654 - val_auc: 0.7878 - val_auprc: 0.3425 - val_loss: 0.4755\n",
      "Epoch 152/1000\n",
      "\u001b[1m184/184\u001b[0m \u001b[32m━━━━━━━━━━━━━━━━━━━━\u001b[0m\u001b[37m\u001b[0m \u001b[1m5s\u001b[0m 28ms/step - auc: 0.8134 - auprc: 0.4245 - loss: 0.9670 - val_auc: 0.7883 - val_auprc: 0.3425 - val_loss: 0.4838\n",
      "Epoch 153/1000\n",
      "\u001b[1m184/184\u001b[0m \u001b[32m━━━━━━━━━━━━━━━━━━━━\u001b[0m\u001b[37m\u001b[0m \u001b[1m5s\u001b[0m 28ms/step - auc: 0.8167 - auprc: 0.4264 - loss: 0.9566 - val_auc: 0.7881 - val_auprc: 0.3425 - val_loss: 0.4789\n",
      "Epoch 154/1000\n",
      "\u001b[1m184/184\u001b[0m \u001b[32m━━━━━━━━━━━━━━━━━━━━\u001b[0m\u001b[37m\u001b[0m \u001b[1m5s\u001b[0m 28ms/step - auc: 0.8116 - auprc: 0.4177 - loss: 0.9692 - val_auc: 0.7884 - val_auprc: 0.3430 - val_loss: 0.4703\n",
      "Epoch 155/1000\n",
      "\u001b[1m184/184\u001b[0m \u001b[32m━━━━━━━━━━━━━━━━━━━━\u001b[0m\u001b[37m\u001b[0m \u001b[1m5s\u001b[0m 28ms/step - auc: 0.8162 - auprc: 0.4252 - loss: 0.9621 - val_auc: 0.7884 - val_auprc: 0.3433 - val_loss: 0.4783\n",
      "Epoch 156/1000\n",
      "\u001b[1m184/184\u001b[0m \u001b[32m━━━━━━━━━━━━━━━━━━━━\u001b[0m\u001b[37m\u001b[0m \u001b[1m5s\u001b[0m 28ms/step - auc: 0.8175 - auprc: 0.4319 - loss: 0.9547 - val_auc: 0.7888 - val_auprc: 0.3433 - val_loss: 0.4693\n",
      "Epoch 157/1000\n",
      "\u001b[1m184/184\u001b[0m \u001b[32m━━━━━━━━━━━━━━━━━━━━\u001b[0m\u001b[37m\u001b[0m \u001b[1m5s\u001b[0m 28ms/step - auc: 0.8195 - auprc: 0.4326 - loss: 0.9548 - val_auc: 0.7888 - val_auprc: 0.3430 - val_loss: 0.4944\n",
      "Epoch 158/1000\n",
      "\u001b[1m184/184\u001b[0m \u001b[32m━━━━━━━━━━━━━━━━━━━━\u001b[0m\u001b[37m\u001b[0m \u001b[1m5s\u001b[0m 28ms/step - auc: 0.8165 - auprc: 0.4236 - loss: 0.9597 - val_auc: 0.7890 - val_auprc: 0.3429 - val_loss: 0.4902\n",
      "Epoch 159/1000\n",
      "\u001b[1m184/184\u001b[0m \u001b[32m━━━━━━━━━━━━━━━━━━━━\u001b[0m\u001b[37m\u001b[0m \u001b[1m5s\u001b[0m 29ms/step - auc: 0.8151 - auprc: 0.4272 - loss: 0.9593 - val_auc: 0.7886 - val_auprc: 0.3440 - val_loss: 0.4751\n",
      "Epoch 160/1000\n",
      "\u001b[1m184/184\u001b[0m \u001b[32m━━━━━━━━━━━━━━━━━━━━\u001b[0m\u001b[37m\u001b[0m \u001b[1m5s\u001b[0m 29ms/step - auc: 0.8139 - auprc: 0.4215 - loss: 0.9648 - val_auc: 0.7889 - val_auprc: 0.3440 - val_loss: 0.4870\n",
      "Epoch 161/1000\n",
      "\u001b[1m184/184\u001b[0m \u001b[32m━━━━━━━━━━━━━━━━━━━━\u001b[0m\u001b[37m\u001b[0m \u001b[1m5s\u001b[0m 28ms/step - auc: 0.8145 - auprc: 0.4281 - loss: 0.9621 - val_auc: 0.7888 - val_auprc: 0.3441 - val_loss: 0.4809\n",
      "Epoch 162/1000\n",
      "\u001b[1m184/184\u001b[0m \u001b[32m━━━━━━━━━━━━━━━━━━━━\u001b[0m\u001b[37m\u001b[0m \u001b[1m5s\u001b[0m 29ms/step - auc: 0.8188 - auprc: 0.4412 - loss: 0.9534 - val_auc: 0.7891 - val_auprc: 0.3437 - val_loss: 0.4829\n",
      "Epoch 163/1000\n",
      "\u001b[1m184/184\u001b[0m \u001b[32m━━━━━━━━━━━━━━━━━━━━\u001b[0m\u001b[37m\u001b[0m \u001b[1m5s\u001b[0m 28ms/step - auc: 0.8139 - auprc: 0.4186 - loss: 0.9649 - val_auc: 0.7896 - val_auprc: 0.3432 - val_loss: 0.4752\n",
      "Epoch 164/1000\n",
      "\u001b[1m184/184\u001b[0m \u001b[32m━━━━━━━━━━━━━━━━━━━━\u001b[0m\u001b[37m\u001b[0m \u001b[1m5s\u001b[0m 28ms/step - auc: 0.8170 - auprc: 0.4263 - loss: 0.9578 - val_auc: 0.7894 - val_auprc: 0.3438 - val_loss: 0.4713\n",
      "Epoch 165/1000\n",
      "\u001b[1m184/184\u001b[0m \u001b[32m━━━━━━━━━━━━━━━━━━━━\u001b[0m\u001b[37m\u001b[0m \u001b[1m5s\u001b[0m 28ms/step - auc: 0.8203 - auprc: 0.4394 - loss: 0.9488 - val_auc: 0.7900 - val_auprc: 0.3443 - val_loss: 0.4829\n",
      "Epoch 166/1000\n",
      "\u001b[1m184/184\u001b[0m \u001b[32m━━━━━━━━━━━━━━━━━━━━\u001b[0m\u001b[37m\u001b[0m \u001b[1m5s\u001b[0m 28ms/step - auc: 0.8185 - auprc: 0.4266 - loss: 0.9576 - val_auc: 0.7902 - val_auprc: 0.3440 - val_loss: 0.4777\n",
      "Epoch 167/1000\n",
      "\u001b[1m184/184\u001b[0m \u001b[32m━━━━━━━━━━━━━━━━━━━━\u001b[0m\u001b[37m\u001b[0m \u001b[1m5s\u001b[0m 28ms/step - auc: 0.8224 - auprc: 0.4386 - loss: 0.9452 - val_auc: 0.7900 - val_auprc: 0.3442 - val_loss: 0.4714\n",
      "Epoch 168/1000\n",
      "\u001b[1m184/184\u001b[0m \u001b[32m━━━━━━━━━━━━━━━━━━━━\u001b[0m\u001b[37m\u001b[0m \u001b[1m5s\u001b[0m 28ms/step - auc: 0.8162 - auprc: 0.4234 - loss: 0.9570 - val_auc: 0.7894 - val_auprc: 0.3444 - val_loss: 0.4589\n",
      "Epoch 169/1000\n",
      "\u001b[1m184/184\u001b[0m \u001b[32m━━━━━━━━━━━━━━━━━━━━\u001b[0m\u001b[37m\u001b[0m \u001b[1m5s\u001b[0m 28ms/step - auc: 0.8160 - auprc: 0.4243 - loss: 0.9635 - val_auc: 0.7908 - val_auprc: 0.3446 - val_loss: 0.4687\n",
      "Epoch 170/1000\n",
      "\u001b[1m184/184\u001b[0m \u001b[32m━━━━━━━━━━━━━━━━━━━━\u001b[0m\u001b[37m\u001b[0m \u001b[1m5s\u001b[0m 28ms/step - auc: 0.8191 - auprc: 0.4218 - loss: 0.9538 - val_auc: 0.7913 - val_auprc: 0.3449 - val_loss: 0.4808\n",
      "Epoch 171/1000\n",
      "\u001b[1m184/184\u001b[0m \u001b[32m━━━━━━━━━━━━━━━━━━━━\u001b[0m\u001b[37m\u001b[0m \u001b[1m5s\u001b[0m 28ms/step - auc: 0.8215 - auprc: 0.4306 - loss: 0.9490 - val_auc: 0.7909 - val_auprc: 0.3447 - val_loss: 0.4768\n",
      "Epoch 172/1000\n",
      "\u001b[1m184/184\u001b[0m \u001b[32m━━━━━━━━━━━━━━━━━━━━\u001b[0m\u001b[37m\u001b[0m \u001b[1m5s\u001b[0m 27ms/step - auc: 0.8181 - auprc: 0.4332 - loss: 0.9553 - val_auc: 0.7914 - val_auprc: 0.3442 - val_loss: 0.4741\n",
      "Epoch 173/1000\n",
      "\u001b[1m184/184\u001b[0m \u001b[32m━━━━━━━━━━━━━━━━━━━━\u001b[0m\u001b[37m\u001b[0m \u001b[1m5s\u001b[0m 28ms/step - auc: 0.8173 - auprc: 0.4339 - loss: 0.9551 - val_auc: 0.7912 - val_auprc: 0.3443 - val_loss: 0.4733\n",
      "Epoch 174/1000\n",
      "\u001b[1m184/184\u001b[0m \u001b[32m━━━━━━━━━━━━━━━━━━━━\u001b[0m\u001b[37m\u001b[0m \u001b[1m5s\u001b[0m 28ms/step - auc: 0.8207 - auprc: 0.4181 - loss: 0.9521 - val_auc: 0.7914 - val_auprc: 0.3437 - val_loss: 0.4814\n",
      "Epoch 175/1000\n",
      "\u001b[1m184/184\u001b[0m \u001b[32m━━━━━━━━━━━━━━━━━━━━\u001b[0m\u001b[37m\u001b[0m \u001b[1m5s\u001b[0m 28ms/step - auc: 0.8180 - auprc: 0.4307 - loss: 0.9536 - val_auc: 0.7913 - val_auprc: 0.3440 - val_loss: 0.4689\n",
      "Epoch 176/1000\n",
      "\u001b[1m184/184\u001b[0m \u001b[32m━━━━━━━━━━━━━━━━━━━━\u001b[0m\u001b[37m\u001b[0m \u001b[1m5s\u001b[0m 28ms/step - auc: 0.8204 - auprc: 0.4256 - loss: 0.9540 - val_auc: 0.7922 - val_auprc: 0.3437 - val_loss: 0.4826\n",
      "Epoch 177/1000\n",
      "\u001b[1m184/184\u001b[0m \u001b[32m━━━━━━━━━━━━━━━━━━━━\u001b[0m\u001b[37m\u001b[0m \u001b[1m5s\u001b[0m 28ms/step - auc: 0.8256 - auprc: 0.4348 - loss: 0.9413 - val_auc: 0.7916 - val_auprc: 0.3441 - val_loss: 0.4675\n",
      "Epoch 178/1000\n",
      "\u001b[1m184/184\u001b[0m \u001b[32m━━━━━━━━━━━━━━━━━━━━\u001b[0m\u001b[37m\u001b[0m \u001b[1m5s\u001b[0m 28ms/step - auc: 0.8194 - auprc: 0.4326 - loss: 0.9541 - val_auc: 0.7915 - val_auprc: 0.3443 - val_loss: 0.4624\n",
      "Epoch 179/1000\n",
      "\u001b[1m184/184\u001b[0m \u001b[32m━━━━━━━━━━━━━━━━━━━━\u001b[0m\u001b[37m\u001b[0m \u001b[1m5s\u001b[0m 28ms/step - auc: 0.8250 - auprc: 0.4363 - loss: 0.9437 - val_auc: 0.7914 - val_auprc: 0.3441 - val_loss: 0.4654\n",
      "Epoch 180/1000\n",
      "\u001b[1m184/184\u001b[0m \u001b[32m━━━━━━━━━━━━━━━━━━━━\u001b[0m\u001b[37m\u001b[0m \u001b[1m5s\u001b[0m 28ms/step - auc: 0.8238 - auprc: 0.4427 - loss: 0.9448 - val_auc: 0.7914 - val_auprc: 0.3434 - val_loss: 0.4790\n",
      "Epoch 181/1000\n",
      "\u001b[1m184/184\u001b[0m \u001b[32m━━━━━━━━━━━━━━━━━━━━\u001b[0m\u001b[37m\u001b[0m \u001b[1m5s\u001b[0m 28ms/step - auc: 0.8188 - auprc: 0.4266 - loss: 0.9528 - val_auc: 0.7917 - val_auprc: 0.3442 - val_loss: 0.4707\n",
      "Epoch 182/1000\n",
      "\u001b[1m184/184\u001b[0m \u001b[32m━━━━━━━━━━━━━━━━━━━━\u001b[0m\u001b[37m\u001b[0m \u001b[1m5s\u001b[0m 29ms/step - auc: 0.8213 - auprc: 0.4358 - loss: 0.9481 - val_auc: 0.7920 - val_auprc: 0.3436 - val_loss: 0.4678\n",
      "Epoch 183/1000\n",
      "\u001b[1m184/184\u001b[0m \u001b[32m━━━━━━━━━━━━━━━━━━━━\u001b[0m\u001b[37m\u001b[0m \u001b[1m5s\u001b[0m 28ms/step - auc: 0.8226 - auprc: 0.4283 - loss: 0.9471 - val_auc: 0.7915 - val_auprc: 0.3432 - val_loss: 0.4638\n",
      "Epoch 184/1000\n",
      "\u001b[1m184/184\u001b[0m \u001b[32m━━━━━━━━━━━━━━━━━━━━\u001b[0m\u001b[37m\u001b[0m \u001b[1m5s\u001b[0m 28ms/step - auc: 0.8222 - auprc: 0.4379 - loss: 0.9470 - val_auc: 0.7921 - val_auprc: 0.3436 - val_loss: 0.4644\n",
      "Epoch 185/1000\n",
      "\u001b[1m184/184\u001b[0m \u001b[32m━━━━━━━━━━━━━━━━━━━━\u001b[0m\u001b[37m\u001b[0m \u001b[1m5s\u001b[0m 29ms/step - auc: 0.8211 - auprc: 0.4212 - loss: 0.9543 - val_auc: 0.7929 - val_auprc: 0.3435 - val_loss: 0.4704\n",
      "Epoch 186/1000\n",
      "\u001b[1m184/184\u001b[0m \u001b[32m━━━━━━━━━━━━━━━━━━━━\u001b[0m\u001b[37m\u001b[0m \u001b[1m5s\u001b[0m 28ms/step - auc: 0.8243 - auprc: 0.4454 - loss: 0.9407 - val_auc: 0.7926 - val_auprc: 0.3439 - val_loss: 0.4654\n",
      "Epoch 187/1000\n",
      "\u001b[1m184/184\u001b[0m \u001b[32m━━━━━━━━━━━━━━━━━━━━\u001b[0m\u001b[37m\u001b[0m \u001b[1m5s\u001b[0m 28ms/step - auc: 0.8172 - auprc: 0.4321 - loss: 0.9588 - val_auc: 0.7934 - val_auprc: 0.3441 - val_loss: 0.4738\n",
      "Epoch 188/1000\n",
      "\u001b[1m184/184\u001b[0m \u001b[32m━━━━━━━━━━━━━━━━━━━━\u001b[0m\u001b[37m\u001b[0m \u001b[1m5s\u001b[0m 28ms/step - auc: 0.8236 - auprc: 0.4321 - loss: 0.9456 - val_auc: 0.7922 - val_auprc: 0.3439 - val_loss: 0.4731\n",
      "Epoch 189/1000\n",
      "\u001b[1m184/184\u001b[0m \u001b[32m━━━━━━━━━━━━━━━━━━━━\u001b[0m\u001b[37m\u001b[0m \u001b[1m5s\u001b[0m 28ms/step - auc: 0.8230 - auprc: 0.4355 - loss: 0.9441 - val_auc: 0.7926 - val_auprc: 0.3442 - val_loss: 0.4826\n",
      "Epoch 190/1000\n",
      "\u001b[1m184/184\u001b[0m \u001b[32m━━━━━━━━━━━━━━━━━━━━\u001b[0m\u001b[37m\u001b[0m \u001b[1m5s\u001b[0m 27ms/step - auc: 0.8202 - auprc: 0.4246 - loss: 0.9536 - val_auc: 0.7921 - val_auprc: 0.3438 - val_loss: 0.4707\n",
      "Epoch 191/1000\n",
      "\u001b[1m184/184\u001b[0m \u001b[32m━━━━━━━━━━━━━━━━━━━━\u001b[0m\u001b[37m\u001b[0m \u001b[1m5s\u001b[0m 28ms/step - auc: 0.8234 - auprc: 0.4364 - loss: 0.9430 - val_auc: 0.7920 - val_auprc: 0.3435 - val_loss: 0.4682\n",
      "Epoch 192/1000\n",
      "\u001b[1m184/184\u001b[0m \u001b[32m━━━━━━━━━━━━━━━━━━━━\u001b[0m\u001b[37m\u001b[0m \u001b[1m5s\u001b[0m 27ms/step - auc: 0.8234 - auprc: 0.4317 - loss: 0.9453 - val_auc: 0.7923 - val_auprc: 0.3429 - val_loss: 0.4765\n",
      "Epoch 193/1000\n",
      "\u001b[1m184/184\u001b[0m \u001b[32m━━━━━━━━━━━━━━━━━━━━\u001b[0m\u001b[37m\u001b[0m \u001b[1m5s\u001b[0m 28ms/step - auc: 0.8228 - auprc: 0.4353 - loss: 0.9441 - val_auc: 0.7928 - val_auprc: 0.3435 - val_loss: 0.4602\n",
      "Epoch 194/1000\n",
      "\u001b[1m184/184\u001b[0m \u001b[32m━━━━━━━━━━━━━━━━━━━━\u001b[0m\u001b[37m\u001b[0m \u001b[1m5s\u001b[0m 28ms/step - auc: 0.8258 - auprc: 0.4338 - loss: 0.9391 - val_auc: 0.7935 - val_auprc: 0.3436 - val_loss: 0.4747\n",
      "Epoch 195/1000\n",
      "\u001b[1m184/184\u001b[0m \u001b[32m━━━━━━━━━━━━━━━━━━━━\u001b[0m\u001b[37m\u001b[0m \u001b[1m5s\u001b[0m 28ms/step - auc: 0.8259 - auprc: 0.4378 - loss: 0.9357 - val_auc: 0.7936 - val_auprc: 0.3433 - val_loss: 0.4772\n",
      "Epoch 196/1000\n",
      "\u001b[1m184/184\u001b[0m \u001b[32m━━━━━━━━━━━━━━━━━━━━\u001b[0m\u001b[37m\u001b[0m \u001b[1m5s\u001b[0m 28ms/step - auc: 0.8242 - auprc: 0.4319 - loss: 0.9446 - val_auc: 0.7934 - val_auprc: 0.3441 - val_loss: 0.4698\n",
      "Epoch 197/1000\n",
      "\u001b[1m184/184\u001b[0m \u001b[32m━━━━━━━━━━━━━━━━━━━━\u001b[0m\u001b[37m\u001b[0m \u001b[1m5s\u001b[0m 28ms/step - auc: 0.8289 - auprc: 0.4374 - loss: 0.9325 - val_auc: 0.7930 - val_auprc: 0.3445 - val_loss: 0.4807\n",
      "Epoch 198/1000\n",
      "\u001b[1m184/184\u001b[0m \u001b[32m━━━━━━━━━━━━━━━━━━━━\u001b[0m\u001b[37m\u001b[0m \u001b[1m5s\u001b[0m 28ms/step - auc: 0.8237 - auprc: 0.4387 - loss: 0.9458 - val_auc: 0.7926 - val_auprc: 0.3438 - val_loss: 0.4848\n",
      "Epoch 199/1000\n",
      "\u001b[1m184/184\u001b[0m \u001b[32m━━━━━━━━━━━━━━━━━━━━\u001b[0m\u001b[37m\u001b[0m \u001b[1m5s\u001b[0m 28ms/step - auc: 0.8253 - auprc: 0.4404 - loss: 0.9391 - val_auc: 0.7936 - val_auprc: 0.3448 - val_loss: 0.4656\n",
      "Epoch 200/1000\n",
      "\u001b[1m184/184\u001b[0m \u001b[32m━━━━━━━━━━━━━━━━━━━━\u001b[0m\u001b[37m\u001b[0m \u001b[1m5s\u001b[0m 29ms/step - auc: 0.8238 - auprc: 0.4281 - loss: 0.9411 - val_auc: 0.7941 - val_auprc: 0.3445 - val_loss: 0.4758\n",
      "Epoch 201/1000\n",
      "\u001b[1m184/184\u001b[0m \u001b[32m━━━━━━━━━━━━━━━━━━━━\u001b[0m\u001b[37m\u001b[0m \u001b[1m5s\u001b[0m 28ms/step - auc: 0.8227 - auprc: 0.4291 - loss: 0.9463 - val_auc: 0.7930 - val_auprc: 0.3443 - val_loss: 0.4577\n",
      "Epoch 202/1000\n",
      "\u001b[1m184/184\u001b[0m \u001b[32m━━━━━━━━━━━━━━━━━━━━\u001b[0m\u001b[37m\u001b[0m \u001b[1m5s\u001b[0m 28ms/step - auc: 0.8285 - auprc: 0.4334 - loss: 0.9346 - val_auc: 0.7933 - val_auprc: 0.3442 - val_loss: 0.4643\n",
      "Epoch 203/1000\n",
      "\u001b[1m184/184\u001b[0m \u001b[32m━━━━━━━━━━━━━━━━━━━━\u001b[0m\u001b[37m\u001b[0m \u001b[1m5s\u001b[0m 28ms/step - auc: 0.8289 - auprc: 0.4400 - loss: 0.9329 - val_auc: 0.7930 - val_auprc: 0.3444 - val_loss: 0.4844\n",
      "Epoch 204/1000\n",
      "\u001b[1m184/184\u001b[0m \u001b[32m━━━━━━━━━━━━━━━━━━━━\u001b[0m\u001b[37m\u001b[0m \u001b[1m5s\u001b[0m 28ms/step - auc: 0.8269 - auprc: 0.4392 - loss: 0.9352 - val_auc: 0.7945 - val_auprc: 0.3452 - val_loss: 0.4824\n",
      "Epoch 205/1000\n",
      "\u001b[1m184/184\u001b[0m \u001b[32m━━━━━━━━━━━━━━━━━━━━\u001b[0m\u001b[37m\u001b[0m \u001b[1m5s\u001b[0m 29ms/step - auc: 0.8283 - auprc: 0.4345 - loss: 0.9350 - val_auc: 0.7947 - val_auprc: 0.3458 - val_loss: 0.4646\n",
      "Epoch 206/1000\n",
      "\u001b[1m184/184\u001b[0m \u001b[32m━━━━━━━━━━━━━━━━━━━━\u001b[0m\u001b[37m\u001b[0m \u001b[1m5s\u001b[0m 28ms/step - auc: 0.8284 - auprc: 0.4324 - loss: 0.9359 - val_auc: 0.7948 - val_auprc: 0.3452 - val_loss: 0.4688\n",
      "Epoch 207/1000\n",
      "\u001b[1m184/184\u001b[0m \u001b[32m━━━━━━━━━━━━━━━━━━━━\u001b[0m\u001b[37m\u001b[0m \u001b[1m5s\u001b[0m 28ms/step - auc: 0.8275 - auprc: 0.4258 - loss: 0.9333 - val_auc: 0.7946 - val_auprc: 0.3455 - val_loss: 0.4653\n",
      "Epoch 208/1000\n",
      "\u001b[1m184/184\u001b[0m \u001b[32m━━━━━━━━━━━━━━━━━━━━\u001b[0m\u001b[37m\u001b[0m \u001b[1m5s\u001b[0m 28ms/step - auc: 0.8264 - auprc: 0.4285 - loss: 0.9380 - val_auc: 0.7940 - val_auprc: 0.3460 - val_loss: 0.4678\n",
      "Epoch 209/1000\n",
      "\u001b[1m184/184\u001b[0m \u001b[32m━━━━━━━━━━━━━━━━━━━━\u001b[0m\u001b[37m\u001b[0m \u001b[1m5s\u001b[0m 28ms/step - auc: 0.8275 - auprc: 0.4359 - loss: 0.9375 - val_auc: 0.7937 - val_auprc: 0.3453 - val_loss: 0.4705\n",
      "Epoch 210/1000\n",
      "\u001b[1m184/184\u001b[0m \u001b[32m━━━━━━━━━━━━━━━━━━━━\u001b[0m\u001b[37m\u001b[0m \u001b[1m5s\u001b[0m 29ms/step - auc: 0.8260 - auprc: 0.4397 - loss: 0.9368 - val_auc: 0.7940 - val_auprc: 0.3463 - val_loss: 0.4661\n",
      "Epoch 211/1000\n",
      "\u001b[1m184/184\u001b[0m \u001b[32m━━━━━━━━━━━━━━━━━━━━\u001b[0m\u001b[37m\u001b[0m \u001b[1m5s\u001b[0m 28ms/step - auc: 0.8263 - auprc: 0.4272 - loss: 0.9398 - val_auc: 0.7942 - val_auprc: 0.3461 - val_loss: 0.4694\n",
      "Epoch 212/1000\n",
      "\u001b[1m184/184\u001b[0m \u001b[32m━━━━━━━━━━━━━━━━━━━━\u001b[0m\u001b[37m\u001b[0m \u001b[1m5s\u001b[0m 29ms/step - auc: 0.8299 - auprc: 0.4445 - loss: 0.9300 - val_auc: 0.7939 - val_auprc: 0.3451 - val_loss: 0.4676\n",
      "Epoch 213/1000\n",
      "\u001b[1m184/184\u001b[0m \u001b[32m━━━━━━━━━━━━━━━━━━━━\u001b[0m\u001b[37m\u001b[0m \u001b[1m5s\u001b[0m 28ms/step - auc: 0.8311 - auprc: 0.4419 - loss: 0.9262 - val_auc: 0.7940 - val_auprc: 0.3451 - val_loss: 0.4698\n",
      "Epoch 214/1000\n",
      "\u001b[1m184/184\u001b[0m \u001b[32m━━━━━━━━━━━━━━━━━━━━\u001b[0m\u001b[37m\u001b[0m \u001b[1m5s\u001b[0m 28ms/step - auc: 0.8315 - auprc: 0.4383 - loss: 0.9287 - val_auc: 0.7942 - val_auprc: 0.3463 - val_loss: 0.4558\n",
      "Epoch 215/1000\n",
      "\u001b[1m184/184\u001b[0m \u001b[32m━━━━━━━━━━━━━━━━━━━━\u001b[0m\u001b[37m\u001b[0m \u001b[1m5s\u001b[0m 28ms/step - auc: 0.8268 - auprc: 0.4382 - loss: 0.9343 - val_auc: 0.7951 - val_auprc: 0.3460 - val_loss: 0.4740\n",
      "Epoch 216/1000\n",
      "\u001b[1m184/184\u001b[0m \u001b[32m━━━━━━━━━━━━━━━━━━━━\u001b[0m\u001b[37m\u001b[0m \u001b[1m5s\u001b[0m 28ms/step - auc: 0.8254 - auprc: 0.4301 - loss: 0.9405 - val_auc: 0.7953 - val_auprc: 0.3452 - val_loss: 0.4757\n",
      "Epoch 217/1000\n",
      "\u001b[1m184/184\u001b[0m \u001b[32m━━━━━━━━━━━━━━━━━━━━\u001b[0m\u001b[37m\u001b[0m \u001b[1m5s\u001b[0m 28ms/step - auc: 0.8278 - auprc: 0.4438 - loss: 0.9339 - val_auc: 0.7943 - val_auprc: 0.3451 - val_loss: 0.4561\n",
      "Epoch 218/1000\n",
      "\u001b[1m184/184\u001b[0m \u001b[32m━━━━━━━━━━━━━━━━━━━━\u001b[0m\u001b[37m\u001b[0m \u001b[1m5s\u001b[0m 28ms/step - auc: 0.8269 - auprc: 0.4321 - loss: 0.9374 - val_auc: 0.7951 - val_auprc: 0.3461 - val_loss: 0.4631\n",
      "Epoch 219/1000\n",
      "\u001b[1m184/184\u001b[0m \u001b[32m━━━━━━━━━━━━━━━━━━━━\u001b[0m\u001b[37m\u001b[0m \u001b[1m5s\u001b[0m 29ms/step - auc: 0.8279 - auprc: 0.4344 - loss: 0.9382 - val_auc: 0.7952 - val_auprc: 0.3465 - val_loss: 0.4752\n",
      "Epoch 220/1000\n",
      "\u001b[1m184/184\u001b[0m \u001b[32m━━━━━━━━━━━━━━━━━━━━\u001b[0m\u001b[37m\u001b[0m \u001b[1m5s\u001b[0m 29ms/step - auc: 0.8302 - auprc: 0.4343 - loss: 0.9272 - val_auc: 0.7951 - val_auprc: 0.3459 - val_loss: 0.4829\n",
      "Epoch 221/1000\n",
      "\u001b[1m184/184\u001b[0m \u001b[32m━━━━━━━━━━━━━━━━━━━━\u001b[0m\u001b[37m\u001b[0m \u001b[1m5s\u001b[0m 28ms/step - auc: 0.8311 - auprc: 0.4468 - loss: 0.9255 - val_auc: 0.7938 - val_auprc: 0.3451 - val_loss: 0.4558\n",
      "Epoch 222/1000\n",
      "\u001b[1m184/184\u001b[0m \u001b[32m━━━━━━━━━━━━━━━━━━━━\u001b[0m\u001b[37m\u001b[0m \u001b[1m5s\u001b[0m 28ms/step - auc: 0.8274 - auprc: 0.4417 - loss: 0.9339 - val_auc: 0.7940 - val_auprc: 0.3453 - val_loss: 0.4615\n",
      "Epoch 223/1000\n",
      "\u001b[1m184/184\u001b[0m \u001b[32m━━━━━━━━━━━━━━━━━━━━\u001b[0m\u001b[37m\u001b[0m \u001b[1m5s\u001b[0m 28ms/step - auc: 0.8289 - auprc: 0.4289 - loss: 0.9334 - val_auc: 0.7933 - val_auprc: 0.3451 - val_loss: 0.4594\n",
      "Epoch 224/1000\n",
      "\u001b[1m184/184\u001b[0m \u001b[32m━━━━━━━━━━━━━━━━━━━━\u001b[0m\u001b[37m\u001b[0m \u001b[1m5s\u001b[0m 28ms/step - auc: 0.8317 - auprc: 0.4468 - loss: 0.9233 - val_auc: 0.7956 - val_auprc: 0.3466 - val_loss: 0.4787\n",
      "Epoch 225/1000\n",
      "\u001b[1m184/184\u001b[0m \u001b[32m━━━━━━━━━━━━━━━━━━━━\u001b[0m\u001b[37m\u001b[0m \u001b[1m5s\u001b[0m 28ms/step - auc: 0.8301 - auprc: 0.4355 - loss: 0.9297 - val_auc: 0.7945 - val_auprc: 0.3460 - val_loss: 0.4740\n",
      "Epoch 226/1000\n",
      "\u001b[1m184/184\u001b[0m \u001b[32m━━━━━━━━━━━━━━━━━━━━\u001b[0m\u001b[37m\u001b[0m \u001b[1m5s\u001b[0m 29ms/step - auc: 0.8307 - auprc: 0.4400 - loss: 0.9249 - val_auc: 0.7956 - val_auprc: 0.3465 - val_loss: 0.4621\n",
      "Epoch 227/1000\n",
      "\u001b[1m184/184\u001b[0m \u001b[32m━━━━━━━━━━━━━━━━━━━━\u001b[0m\u001b[37m\u001b[0m \u001b[1m5s\u001b[0m 28ms/step - auc: 0.8278 - auprc: 0.4414 - loss: 0.9347 - val_auc: 0.7945 - val_auprc: 0.3452 - val_loss: 0.4643\n",
      "Epoch 228/1000\n",
      "\u001b[1m184/184\u001b[0m \u001b[32m━━━━━━━━━━━━━━━━━━━━\u001b[0m\u001b[37m\u001b[0m \u001b[1m5s\u001b[0m 28ms/step - auc: 0.8277 - auprc: 0.4378 - loss: 0.9331 - val_auc: 0.7953 - val_auprc: 0.3463 - val_loss: 0.4712\n",
      "Epoch 229/1000\n",
      "\u001b[1m184/184\u001b[0m \u001b[32m━━━━━━━━━━━━━━━━━━━━\u001b[0m\u001b[37m\u001b[0m \u001b[1m5s\u001b[0m 29ms/step - auc: 0.8267 - auprc: 0.4417 - loss: 0.9318 - val_auc: 0.7953 - val_auprc: 0.3456 - val_loss: 0.4781\n",
      "Epoch 230/1000\n",
      "\u001b[1m184/184\u001b[0m \u001b[32m━━━━━━━━━━━━━━━━━━━━\u001b[0m\u001b[37m\u001b[0m \u001b[1m5s\u001b[0m 28ms/step - auc: 0.8321 - auprc: 0.4396 - loss: 0.9255 - val_auc: 0.7952 - val_auprc: 0.3465 - val_loss: 0.4576\n",
      "Epoch 231/1000\n",
      "\u001b[1m184/184\u001b[0m \u001b[32m━━━━━━━━━━━━━━━━━━━━\u001b[0m\u001b[37m\u001b[0m \u001b[1m5s\u001b[0m 28ms/step - auc: 0.8315 - auprc: 0.4398 - loss: 0.9254 - val_auc: 0.7953 - val_auprc: 0.3462 - val_loss: 0.4687\n",
      "Epoch 232/1000\n",
      "\u001b[1m184/184\u001b[0m \u001b[32m━━━━━━━━━━━━━━━━━━━━\u001b[0m\u001b[37m\u001b[0m \u001b[1m5s\u001b[0m 28ms/step - auc: 0.8295 - auprc: 0.4344 - loss: 0.9307 - val_auc: 0.7956 - val_auprc: 0.3460 - val_loss: 0.4703\n",
      "Epoch 233/1000\n",
      "\u001b[1m184/184\u001b[0m \u001b[32m━━━━━━━━━━━━━━━━━━━━\u001b[0m\u001b[37m\u001b[0m \u001b[1m5s\u001b[0m 28ms/step - auc: 0.8292 - auprc: 0.4365 - loss: 0.9323 - val_auc: 0.7943 - val_auprc: 0.3459 - val_loss: 0.4725\n",
      "Epoch 234/1000\n",
      "\u001b[1m184/184\u001b[0m \u001b[32m━━━━━━━━━━━━━━━━━━━━\u001b[0m\u001b[37m\u001b[0m \u001b[1m5s\u001b[0m 28ms/step - auc: 0.8306 - auprc: 0.4394 - loss: 0.9282 - val_auc: 0.7942 - val_auprc: 0.3461 - val_loss: 0.4673\n"
     ]
    }
   ],
   "source": [
    "set\n",
    "with tf.device('/GPU:0'):\n",
    "    earlyStopping = EarlyStopping(monitor='val_auc', patience=10, verbose=0, mode='max', restore_best_weights=True)\n",
    "    # mcp_save = ModelCheckpoint('../SeqModel/lstm_CV_18+_'+set_vocab+str(fold_var)+'.h5', save_best_only=True, monitor='val_auc', mode='max')\n",
    "    # class_weight = trainingData['outcome_12months'].value_counts()[0]/trainingData['outcome_12months'].value_counts()[1]\n",
    "    class_weight = np.unique(gridSearch_y, return_counts=True)[1][0]/np.unique(gridSearch_y, return_counts=True)[1][1]\n",
    "    class_weight = {0:1, 1:class_weight}\n",
    "\n",
    "    history = model.fit([gridSearch_tab, gridSearch_X], gridSearch_y,\n",
    "                        validation_split=.2,\n",
    "                        # validation_data=([val_tab, val_X], val_y),\n",
    "                        epochs=1000, batch_size=128, class_weight=class_weight, callbacks = [earlyStopping])"
   ]
  },
  {
   "cell_type": "code",
   "execution_count": 10,
   "id": "5a2b68d3-6994-4eef-9502-96b26d1c798c",
   "metadata": {
    "editable": true,
    "slideshow": {
     "slide_type": ""
    },
    "tags": []
   },
   "outputs": [
    {
     "data": {
      "image/png": "[encoded data removed]",
      "text/plain": [
       "<Figure size 432x288 with 1 Axes>"
      ]
     },
     "metadata": {
      "needs_background": "light"
     },
     "output_type": "display_data"
    },
    {
     "data": {
      "image/png": "[encoded data removed]",
      "text/plain": [
       "<Figure size 432x288 with 1 Axes>"
      ]
     },
     "metadata": {
      "needs_background": "light"
     },
     "output_type": "display_data"
    }
   ],
   "source": [
    "# plot history\n",
    "pyplot.plot(history.history['loss'], label='loss train')\n",
    "pyplot.plot(history.history['val_loss'], label='loss val')\n",
    "pyplot.legend()\n",
    "pyplot.show()\n",
    "pyplot.plot(history.history['auc'], label='auc train')\n",
    "pyplot.plot(history.history['val_auc'], label='auc val')\n",
    "pyplot.legend()\n",
    "pyplot.show()"
   ]
  },
  {
   "cell_type": "code",
   "execution_count": 11,
   "id": "d04bce1d-8467-47a5-836c-83f581a873f4",
   "metadata": {
    "tags": []
   },
   "outputs": [
    {
     "name": "stdout",
     "output_type": "stream",
     "text": [
      "\u001b[1m615/615\u001b[0m \u001b[32m━━━━━━━━━━━━━━━━━━━━\u001b[0m\u001b[37m\u001b[0m \u001b[1m7s\u001b[0m 12ms/step - auc: 0.7534 - auprc: 0.4433 - loss: 0.6737\n"
     ]
    },
    {
     "data": {
      "text/plain": [
       "[0.618478000164032, 0.7715707421302795, 0.439775288105011]"
      ]
     },
     "execution_count": 11,
     "metadata": {},
     "output_type": "execute_result"
    }
   ],
   "source": [
    "model.evaluate([externalEvaluation_tab,externalEvaluation_X], externalEvaluation_y)"
   ]
  },
  {
   "cell_type": "code",
   "execution_count": null,
   "id": "c2070076-859c-407f-8877-9ba5440ab022",
   "metadata": {
    "tags": []
   },
   "outputs": [],
   "source": [
    "from sklearn.metrics import confusion_matrix, roc_auc_score, average_precision_score\n",
    "\n",
    "predsraw = model.predict([externalEvaluation_tab,externalEvaluation_X])\n"
   ]
  },
  {
   "cell_type": "code",
   "execution_count": null,
   "id": "8bb8461b-1663-470a-a396-f6762966c9be",
   "metadata": {
    "tags": []
   },
   "outputs": [],
   "source": [
    "preds = [0 if x <= 0.55 else 1 for x in predsraw]\n",
    "confusion_matrix(externalEvaluation_y, preds)\n",
    "\n",
    "print(roc_auc_score(externalEvaluation_y, preds))\n",
    "print(average_precision_score(externalEvaluation_y, preds))"
   ]
  },
  {
   "cell_type": "code",
   "execution_count": null,
   "id": "cbb814a2-e91d-491e-9817-2cca65cf1827",
   "metadata": {
    "tags": []
   },
   "outputs": [],
   "source": [
    "confusion_matrix(externalEvaluation_y, preds)"
   ]
  },
  {
   "cell_type": "code",
   "execution_count": null,
   "id": "2eab7d79-ebe8-41a9-a863-d7f528a3d3db",
   "metadata": {},
   "outputs": [],
   "source": []
  },
  {
   "cell_type": "code",
   "execution_count": null,
   "id": "e6915833-a71c-48be-b5e1-db7c53dd7fcb",
   "metadata": {},
   "outputs": [],
   "source": []
  },
  {
   "cell_type": "code",
   "execution_count": null,
   "id": "079a6df7-0e62-4b72-8e97-4e055fb69016",
   "metadata": {
    "tags": []
   },
   "outputs": [],
   "source": [
    "#load clinical information\n",
    "path = '../ServerData_13Oct2020/'\n",
    "clinical_files = [join(path, f) for f in listdir(path) if (isfile(join(path, f))) & ('f_clinical_part' in f)]\n",
    "clinical = pyreadr.read_r('../ServerData_13Oct2020/f_clinical_part1.Rdata')\n",
    "clinical = clinical['f_clinical_part']\n",
    "# for file in clinical_files[1:3]:\n",
    "#     temp = pyreadr.read_r(file)\n",
    "#     temp = temp['f_clinical_part']\n",
    "#     print(temp.shape)\n",
    "#     clinical = pd.concat([clinical, temp])\n",
    "#     clinical.reset_index(drop=True, inplace=True)"
   ]
  },
  {
   "cell_type": "code",
   "execution_count": null,
   "id": "7f8fc926-b2b6-4465-b75c-6b5e45ecfa60",
   "metadata": {},
   "outputs": [],
   "source": []
  },
  {
   "cell_type": "code",
   "execution_count": null,
   "id": "e4229faa-3e53-4be9-b190-1bedc990d96f",
   "metadata": {
    "tags": []
   },
   "outputs": [],
   "source": [
    "clinical.head(3)"
   ]
  },
  {
   "cell_type": "code",
   "execution_count": null,
   "id": "d8c1527f-77cd-4d9a-b001-b065163f4178",
   "metadata": {
    "tags": []
   },
   "outputs": [],
   "source": [
    "def combine_code_numeric(code, numeric):\n",
    "    if (numeric != np.nan):\n",
    "        return(code+str(numeric))\n",
    "    else:\n",
    "        return (code)\n",
    "        "
   ]
  },
  {
   "cell_type": "code",
   "execution_count": null,
   "id": "721ab34d-2ed5-4bec-a92f-b51accd0bd72",
   "metadata": {
    "tags": []
   },
   "outputs": [],
   "source": [
    "clinical = clinical.dropna(subset='code_id').reset_index(drop=True)"
   ]
  },
  {
   "cell_type": "code",
   "execution_count": null,
   "id": "dc8a982a-fa5a-489b-95c1-a6e08f28381b",
   "metadata": {
    "tags": []
   },
   "outputs": [],
   "source": [
    "clinical.apply(lambda x: combine_code_numeric(x.code_id, x.numeric_1), axis=1)"
   ]
  },
  {
   "cell_type": "code",
   "execution_count": null,
   "id": "3a883049-e7db-4ce3-9b3c-df23ca9d8abd",
   "metadata": {
    "tags": []
   },
   "outputs": [],
   "source": [
    "from datetime import datetime\n",
    "\n",
    "def diff_month(d1, d2):\n",
    "    return (d1.year - d2.year) * 12 + d1.month - d2.month\n",
    "\n",
    "\n",
    "diff_month(datetime(2018,1,1), datetime(2016,1,1))\n"
   ]
  },
  {
   "cell_type": "code",
   "execution_count": null,
   "id": "616becde-7d28-4815-97c1-22e84de2bc1c",
   "metadata": {},
   "outputs": [],
   "source": []
  }
 ],
 "metadata": {
  "kernelspec": {
   "display_name": "Python 3 (ipykernel)",
   "language": "python",
   "name": "python3"
  },
  "language_info": {
   "codemirror_mode": {
    "name": "ipython",
    "version": 3
   },
   "file_extension": ".py",
   "mimetype": "text/x-python",
   "name": "python",
   "nbconvert_exporter": "python",
   "pygments_lexer": "ipython3",
   "version": "3.10.14"
  }
 },
 "nbformat": 4,
 "nbformat_minor": 5
}
