{
 "cells": [
  {
   "cell_type": "markdown",
   "id": "b632f858-f98c-4478-9de3-f039fcfe3bf9",
   "metadata": {},
   "source": [
    "## START"
   ]
  },
  {
   "cell_type": "markdown",
   "id": "f60c72b3-31ed-46fe-958d-9752c4f103d2",
   "metadata": {},
   "source": [
    "#Plot the improvement of the models performance\n",
    "- Data representation - every 3 months - seasonality\n",
    "- "
   ]
  },
  {
   "cell_type": "code",
   "execution_count": 1,
   "id": "6dfb1a48-5622-4295-8da3-fc796632124e",
   "metadata": {
    "tags": []
   },
   "outputs": [
    {
     "name": "stderr",
     "output_type": "stream",
     "text": [
      "2025-03-07 08:58:28.723386: I tensorflow/core/util/port.cc:153] oneDNN custom operations are on. You may see slightly different numerical results due to floating-point round-off errors from different computation orders. To turn them off, set the environment variable `TF_ENABLE_ONEDNN_OPTS=0`.\n",
      "2025-03-07 08:58:28.745583: E external/local_xla/xla/stream_executor/cuda/cuda_fft.cc:477] Unable to register cuFFT factory: Attempting to register factory for plugin cuFFT when one has already been registered\n",
      "WARNING: All log messages before absl::InitializeLog() is called are written to STDERR\n",
      "E0000 00:00:1741337908.765873   14382 cuda_dnn.cc:8310] Unable to register cuDNN factory: Attempting to register factory for plugin cuDNN when one has already been registered\n",
      "E0000 00:00:1741337908.771777   14382 cuda_blas.cc:1418] Unable to register cuBLAS factory: Attempting to register factory for plugin cuBLAS when one has already been registered\n",
      "2025-03-07 08:58:28.792706: I tensorflow/core/platform/cpu_feature_guard.cc:210] This TensorFlow binary is optimized to use available CPU instructions in performance-critical operations.\n",
      "To enable the following instructions: AVX2 AVX512F AVX512_VNNI AVX512_BF16 AVX512_FP16 AVX_VNNI AMX_TILE AMX_INT8 AMX_BF16 FMA, in other operations, rebuild TensorFlow with the appropriate compiler flags.\n"
     ]
    }
   ],
   "source": [
    "import pandas as pd\n",
    "import pyreadr\n",
    "import numpy as np\n",
    "# import torch\n",
    "import pickle\n",
    "from os import listdir\n",
    "from os.path import isfile, join\n",
    "\n",
    "\n",
    "from math import sqrt\n",
    "from numpy import concatenate\n",
    "from matplotlib import pyplot\n",
    "from pandas import read_csv\n",
    "from pandas import DataFrame\n",
    "from pandas import concat\n",
    "from sklearn.preprocessing import MinMaxScaler\n",
    "from sklearn.preprocessing import LabelEncoder\n",
    "from sklearn.metrics import mean_squared_error\n",
    "\n",
    "\n",
    "import tensorflow as tf\n",
    "from tensorflow.keras.datasets import imdb\n",
    "from tensorflow.keras.models import Sequential, Model, load_model\n",
    "from tensorflow.keras.layers import Dense, LSTM, Embedding, Dropout, Bidirectional, Input, concatenate, Reshape, Activation, Flatten, Add, BatchNormalization, Multiply, LeakyReLU\n",
    "from tensorflow.keras.preprocessing import sequence\n",
    "from tensorflow.keras.callbacks import EarlyStopping, ModelCheckpoint, ReduceLROnPlateau, TensorBoard\n",
    "from tensorflow.keras.metrics import AUC, SensitivityAtSpecificity\n",
    "from tensorflow.keras.optimizers import Adam, Adagrad, RMSprop, Adamax, SGD, Adadelta\n",
    "from tensorflow.keras.initializers import Constant\n",
    "from tensorflow.keras.regularizers import L1L2, L1, L2\n",
    "\n",
    "random_state = 42\n",
    "tf.random.set_seed(random_state)"
   ]
  },
  {
   "cell_type": "markdown",
   "id": "8bfff97d-9b26-4e0a-9865-b07892a69bfa",
   "metadata": {
    "jp-MarkdownHeadingCollapsed": true
   },
   "source": [
    "# prepare montly data"
   ]
  },
  {
   "cell_type": "code",
   "execution_count": null,
   "id": "6ce242a7-4f3b-461e-94a2-e93fb4030e1e",
   "metadata": {
    "tags": []
   },
   "outputs": [],
   "source": [
    "# demographic_data = pickle.load(open('../FinalData/cleaned_features_2vs1_15022024.sav', 'rb'))\n",
    "# demographic_data = demographic_data[['patid', 'practice_id', 'sex', 'age', 'BMI', 'weight', 'height',\n",
    "#        'ethnicity', 'ethnic_group', 'smokingStatus', 'postcode_district', 'imd_decile',\n",
    "#        'Country', 'County', 'LocalAuthority', 'OutputAreaClassification',\n",
    "#        'system']]"
   ]
  },
  {
   "cell_type": "code",
   "execution_count": null,
   "id": "e21a5c7d-f365-4941-9d2d-a01891b281ae",
   "metadata": {
    "tags": []
   },
   "outputs": [],
   "source": [
    "compound_features = ['feature_asthmaAttacks_', 'feature_numAntibiotics_', 'feature_numAntibioticswithLRTI_', \n",
    " 'feature_numOCS_', 'feature_numOCSwithLRTI_', 'feature_numHospitals_', 'feature_acuteRespEvents_']"
   ]
  },
  {
   "cell_type": "code",
   "execution_count": null,
   "id": "77829f64-1503-426d-95c8-961f27e6583b",
   "metadata": {
    "scrolled": true,
    "tags": []
   },
   "outputs": [],
   "source": [
    "files = listdir('../PrepareDataNewTabSeq/CompoundFeaturesLong/')\n",
    "for feature in compound_features:\n",
    "    for i in range(1,75):\n",
    "        result = []\n",
    "        for file in files:\n",
    "            if feature+str(i)+'_' in file:\n",
    "                result.append(file)\n",
    "        # if len(result) < 120:\n",
    "        print(feature, i, len(result))"
   ]
  },
  {
   "cell_type": "code",
   "execution_count": null,
   "id": "aab18aba-2f07-4dd3-9ed7-96b45fb09f4b",
   "metadata": {
    "scrolled": true,
    "tags": []
   },
   "outputs": [],
   "source": [
    "#1 numAsthmaAttack\n",
    "start_file = 1\n",
    "for i in range(start_file,75):\n",
    "    x1=pyreadr.read_r('../PrepareDataNewTabSeq/CompoundFeaturesLong/feature_asthmaAttacks_' + str(i) + '_1.Rdata')\n",
    "    x1=x1['feature_asthmaAttacks']\n",
    "    x2=pyreadr.read_r('../PrepareDataNewTabSeq/CompoundFeaturesLong/feature_asthmaAttacks_' + str(i) + '_2.Rdata')\n",
    "    x2=x2['feature_asthmaAttacks']\n",
    "    x = x1.merge(x2, on='patid', how='outer', suffixes=['_month1','_month2']).fillna(0).drop_duplicates('patid').reset_index(drop=True)\n",
    "    for j in range(3,121):\n",
    "        print('chunk: ', i, ', month: ', j)\n",
    "        x_temp=pyreadr.read_r('../PrepareDataNewTabSeq/CompoundFeaturesLong/feature_asthmaAttacks_'+ str(i) + '_' + str(j)+'.Rdata')\n",
    "        x_temp=x_temp['feature_asthmaAttacks']\n",
    "        x_temp = x_temp.rename(columns={'numAsthmaAttacks' : 'numAsthmaAttacks_month'+str(j)})\n",
    "        # print(x_temp['numAsthmaAttacks_month'+str(j)].value_counts())\n",
    "        x = x.merge(x_temp, on='patid', how='outer').fillna(0).drop_duplicates('patid').reset_index(drop=True)\n",
    "    features = pd.concat([features, x]).fillna(0).drop_duplicates('patid').reset_index(drop=True)"
   ]
  },
  {
   "cell_type": "code",
   "execution_count": null,
   "id": "2db2f4c2-b168-4ce2-a253-d30cf40abbdf",
   "metadata": {
    "scrolled": true,
    "tags": []
   },
   "outputs": [],
   "source": [
    "#2 numAntibiotics\n",
    "for i in range(start_file,75):\n",
    "    x1=pyreadr.read_r('../PrepareDataNewTabSeq/CompoundFeaturesLong/feature_numAntibiotics_' + str(i) + '_1.Rdata')\n",
    "    x1=x1['feature_numAntibiotics']\n",
    "    x2=pyreadr.read_r('../PrepareDataNewTabSeq/CompoundFeaturesLong/feature_numAntibiotics_' + str(i) + '_2.Rdata')\n",
    "    x2=x2['feature_numAntibiotics']\n",
    "    x = x1.merge(x2, on='patid', how='outer', suffixes=['_month1','_month2']).fillna(0).drop_duplicates('patid').reset_index(drop=True)\n",
    "    for j in range(3,121):\n",
    "        print('chunk: ', i, ', month: ', j)\n",
    "        x_temp=pyreadr.read_r('../PrepareDataNewTabSeq/CompoundFeaturesLong/feature_numAntibiotics_'+ str(i) + '_' + str(j)+'.Rdata')\n",
    "        x_temp=x_temp['feature_numAntibiotics']\n",
    "        x_temp = x_temp.rename(columns={'numAntibioticsEvents' : 'numAntibioticsEvents_month'+str(j)})\n",
    "        # print(x_temp['numAsthmaAttacks_month'+str(j)].value_counts())\n",
    "        x = x.merge(x_temp, on='patid', how='outer').fillna(0).drop_duplicates('patid').reset_index(drop=True)\n",
    "    features = pd.concat([features, x]).fillna(0).drop_duplicates('patid').reset_index(drop=True)"
   ]
  },
  {
   "cell_type": "code",
   "execution_count": null,
   "id": "a7b6a5df-1f2a-4437-aa64-323f9632e5d4",
   "metadata": {
    "scrolled": true,
    "tags": []
   },
   "outputs": [],
   "source": [
    "#3 numAntibioticswithLRTI\n",
    "for i in range(start_file,75):\n",
    "    x1=pyreadr.read_r('../PrepareDataNewTabSeq/CompoundFeaturesLong/feature_numAntibioticswithLRTI_' + str(i) + '_1.Rdata')\n",
    "    x1=x1['feature_numAntibioticswithLRTI']\n",
    "    x2=pyreadr.read_r('../PrepareDataNewTabSeq/CompoundFeaturesLong/feature_numAntibioticswithLRTI_' + str(i) + '_2.Rdata')\n",
    "    x2=x2['feature_numAntibioticswithLRTI']\n",
    "    x = x1.merge(x2, on='patid', how='outer', suffixes=['_month1','_month2']).fillna(0).drop_duplicates('patid').reset_index(drop=True)\n",
    "    for j in range(3,121):\n",
    "        print('chunk: ', i, ', month: ', j)\n",
    "        x_temp=pyreadr.read_r('../PrepareDataNewTabSeq/CompoundFeaturesLong/feature_numAntibioticswithLRTI_'+ str(i) + '_' + str(j)+'.Rdata')\n",
    "        x_temp=x_temp['feature_numAntibioticswithLRTI']\n",
    "        x_temp = x_temp.rename(columns={'numAntibioticswithLRTI' : 'numAntibioticswithLRTI_month'+str(j)})\n",
    "        # print(x_temp['numAsthmaAttacks_month'+str(j)].value_counts())\n",
    "        x = x.merge(x_temp, on='patid', how='outer').fillna(0).drop_duplicates('patid').reset_index(drop=True)\n",
    "    features = pd.concat([features, x]).fillna(0).drop_duplicates('patid').reset_index(drop=True)"
   ]
  },
  {
   "cell_type": "code",
   "execution_count": null,
   "id": "da12c946-e861-42c9-b3a0-73ac325e34a0",
   "metadata": {
    "scrolled": true,
    "tags": []
   },
   "outputs": [],
   "source": [
    "#4 numOCS\n",
    "for i in range(start_file,75):\n",
    "    x1=pyreadr.read_r('../PrepareDataNewTabSeq/CompoundFeaturesLong/feature_numOCS_' + str(i) + '_1.Rdata')\n",
    "    x1=x1['feature_numOCS']\n",
    "    x2=pyreadr.read_r('../PrepareDataNewTabSeq/CompoundFeaturesLong/feature_numOCS_' + str(i) + '_2.Rdata')\n",
    "    x2=x2['feature_numOCS']\n",
    "    x = x1.merge(x2, on='patid', how='outer', suffixes=['_month1','_month2']).fillna(0).drop_duplicates('patid').reset_index(drop=True)\n",
    "    for j in range(3,121):\n",
    "        print('chunk: ', i, ', month: ', j)\n",
    "        x_temp=pyreadr.read_r('../PrepareDataNewTabSeq/CompoundFeaturesLong/feature_numOCS_'+ str(i) + '_' + str(j)+'.Rdata')\n",
    "        x_temp=x_temp['feature_numOCS']\n",
    "        x_temp = x_temp.rename(columns={'numOCSEvents' : 'numOCSEvents_month'+str(j)})\n",
    "        # print(x_temp['numAsthmaAttacks_month'+str(j)].value_counts())\n",
    "        x = x.merge(x_temp, on='patid', how='outer').fillna(0).drop_duplicates('patid').reset_index(drop=True)\n",
    "    features = pd.concat([features, x]).fillna(0).drop_duplicates('patid').reset_index(drop=True)"
   ]
  },
  {
   "cell_type": "code",
   "execution_count": null,
   "id": "54e5b30a-61d3-47aa-ad9a-bf4dccbbc69e",
   "metadata": {
    "scrolled": true,
    "tags": []
   },
   "outputs": [],
   "source": [
    "#5 numOCSswithLRTI\n",
    "for i in range(start_file,75):\n",
    "    x1=pyreadr.read_r('../PrepareDataNewTabSeq/CompoundFeaturesLong/feature_numOCSwithLRTI_' + str(i) + '_1.Rdata')\n",
    "    x1=x1['feature_numOCSwithLRTI']\n",
    "    x2=pyreadr.read_r('../PrepareDataNewTabSeq/CompoundFeaturesLong/feature_numOCSwithLRTI_' + str(i) + '_2.Rdata')\n",
    "    x2=x2['feature_numOCSwithLRTI']\n",
    "    x = x1.merge(x2, on='patid', how='outer', suffixes=['_month1','_month2']).fillna(0).drop_duplicates('patid').reset_index(drop=True)\n",
    "    for j in range(3,121):\n",
    "        print('chunk: ', i, ', month: ', j)\n",
    "        x_temp=pyreadr.read_r('../PrepareDataNewTabSeq/CompoundFeaturesLong/feature_numOCSwithLRTI_'+ str(i) + '_' + str(j)+'.Rdata')\n",
    "        x_temp=x_temp['feature_numOCSwithLRTI']\n",
    "        x_temp = x_temp.rename(columns={'numOCSwithLRTI' : 'numOCSwithLRTI_month'+str(j)})\n",
    "        # print(x_temp['numAsthmaAttacks_month'+str(j)].value_counts())\n",
    "        x = x.merge(x_temp, on='patid', how='outer').fillna(0).drop_duplicates('patid').reset_index(drop=True)\n",
    "    features = pd.concat([features, x]).fillna(0).drop_duplicates('patid').reset_index(drop=True)"
   ]
  },
  {
   "cell_type": "code",
   "execution_count": null,
   "id": "64bdf2d0-6886-44e4-aadb-94a15cf0f0d1",
   "metadata": {
    "scrolled": true,
    "tags": []
   },
   "outputs": [],
   "source": [
    "#6 numHospital\n",
    "for i in range(start_file,75):\n",
    "    x1=pyreadr.read_r('../PrepareDataNewTabSeq/CompoundFeaturesLong/feature_numHospitals_' + str(i) + '_1.Rdata')\n",
    "    x1=x1['feature_numHospitals']\n",
    "    x2=pyreadr.read_r('../PrepareDataNewTabSeq/CompoundFeaturesLong/feature_numHospitals_' + str(i) + '_2.Rdata')\n",
    "    x2=x2['feature_numHospitals']\n",
    "    x = x1.merge(x2, on='patid', how='outer', suffixes=['_month1','_month2']).fillna(0).drop_duplicates('patid').reset_index(drop=True)\n",
    "    for j in range(3,121):\n",
    "        print('chunk: ', i, ', month: ', j)\n",
    "        x_temp=pyreadr.read_r('../PrepareDataNewTabSeq/CompoundFeaturesLong/feature_numHospitals_'+ str(i) + '_' + str(j)+'.Rdata')\n",
    "        x_temp=x_temp['feature_numHospitals']\n",
    "        x_temp = x_temp.rename(columns={'numHospEvents' : 'numHospEvents_month'+str(j)})\n",
    "        # print(x_temp['numAsthmaAttacks_month'+str(j)].value_counts())\n",
    "        x = x.merge(x_temp, on='patid', how='outer').fillna(0).drop_duplicates('patid').reset_index(drop=True)\n",
    "    features = pd.concat([features, x]).fillna(0).drop_duplicates('patid').reset_index(drop=True)"
   ]
  },
  {
   "cell_type": "code",
   "execution_count": null,
   "id": "e27a34e7-9eed-4c26-8288-a3b0e0f98b90",
   "metadata": {
    "scrolled": true,
    "tags": []
   },
   "outputs": [],
   "source": [
    "#7 ICS - prescribed daily ICS & 8 average daily ICS\n",
    "for i in range(start_file,75):\n",
    "    x1=pyreadr.read_r('../PrepareDataNewTabSeq/ICS_infoLong/feature_ICSinfo' + str(i) + '_1.Rdata')\n",
    "    x1=x1['feature_ICSinfo'][['patid', 'average_daily_dose_ICS','prescribed_daily_dose_ICS']]\n",
    "    x2=pyreadr.read_r('../PrepareDataNewTabSeq/ICS_infoLong/feature_ICSinfo' + str(i) + '_2.Rdata')\n",
    "    x2=x2['feature_ICSinfo'][['patid', 'average_daily_dose_ICS','prescribed_daily_dose_ICS']]\n",
    "    x = x1.merge(x2, on='patid', how='outer', suffixes=['_month1','_month2']).fillna(0).drop_duplicates('patid').reset_index(drop=True)\n",
    "    for j in range(3,121):\n",
    "        print('chunk: ', i, ', month: ', j)\n",
    "        x_temp=pyreadr.read_r('../PrepareDataNewTabSeq/ICS_infoLong/feature_ICSinfo'+ str(i) + '_' + str(j)+'.Rdata')\n",
    "        x_temp=x_temp['feature_ICSinfo'][['patid', 'average_daily_dose_ICS','prescribed_daily_dose_ICS']]\n",
    "        x_temp = x_temp.rename(columns={'prescribed_daily_dose_ICS' : 'prescribed_daily_dose_ICS_month'+str(j),\n",
    "                                       'average_daily_dose_ICS' : 'average_daily_dose_ICS_month'+str(j)})\n",
    "        # print(x_temp['numAsthmaAttacks_month'+str(j)].value_counts())\n",
    "        x = x.merge(x_temp, on='patid', how='outer').fillna(0).drop_duplicates('patid').reset_index(drop=True)\n",
    "    features = pd.concat([features, x]).fillna(0).drop_duplicates('patid').reset_index(drop=True)"
   ]
  },
  {
   "cell_type": "code",
   "execution_count": null,
   "id": "e61d10ba-be6b-4784-add7-d9808dcaadd9",
   "metadata": {
    "scrolled": true,
    "tags": []
   },
   "outputs": [],
   "source": [
    "#9 BTS\n",
    "for i in range(start_file,75):\n",
    "    x1=pyreadr.read_r('../PrepareDataNewTabSeq/BTS_StepNewLong/feature_BTSstep_' + str(i) + '_1.Rdata')\n",
    "    x1=x1['feature_BTSstep'][['patid', 'BTS_step']]\n",
    "    x2=pyreadr.read_r('../PrepareDataNewTabSeq/BTS_StepNewLong/feature_BTSstep_' + str(i) + '_2.Rdata')\n",
    "    x2=x2['feature_BTSstep'][['patid', 'BTS_step']]\n",
    "    x = x1.merge(x2, on='patid', how='outer', suffixes=['_month1','_month2']).fillna(0).drop_duplicates('patid').reset_index(drop=True)\n",
    "    for j in range(3,121):\n",
    "        print('chunk: ', i, ', month: ', j)\n",
    "        x_temp=pyreadr.read_r('../PrepareDataNewTabSeq/BTS_StepNewLong/feature_BTSstep_'+ str(i) + '_' + str(j)+'.Rdata')\n",
    "        x_temp=x_temp['feature_BTSstep'][['patid', 'BTS_step']]\n",
    "        x_temp = x_temp.rename(columns={'BTS_step' : 'BTS_step_month'+str(j)})\n",
    "        # print(x_temp['numAsthmaAttacks_month'+str(j)].value_counts())\n",
    "        x = x.merge(x_temp, on='patid', how='outer').fillna(0).drop_duplicates('patid').reset_index(drop=True)\n",
    "    features = pd.concat([features, x]).fillna(0).drop_duplicates('patid').reset_index(drop=True)"
   ]
  },
  {
   "cell_type": "code",
   "execution_count": null,
   "id": "f8cfd8c9-f755-4639-a30b-c655c4bc408d",
   "metadata": {
    "scrolled": true,
    "tags": []
   },
   "outputs": [],
   "source": [
    "#10 Primary consultation\n",
    "for i in range(start_file,75):\n",
    "    x1=pyreadr.read_r('../PrepareDataNewTabSeq/PrimaryCareConsultsLong/feature_primarycare' + str(i) + '_1.Rdata')\n",
    "    x1=x1['feature_primarycare'][['patid', 'numPCS']]\n",
    "    x2=pyreadr.read_r('../PrepareDataNewTabSeq/PrimaryCareConsultsLong/feature_primarycare' + str(i) + '_2.Rdata')\n",
    "    x2=x2['feature_primarycare'][['patid', 'numPCS']]\n",
    "    x = x1.merge(x2, on='patid', how='outer', suffixes=['_month1','_month2']).fillna(0).drop_duplicates('patid').reset_index(drop=True)\n",
    "    for j in range(3,121):\n",
    "        print('chunk: ', i, ', month: ', j)\n",
    "        x_temp=pyreadr.read_r('../PrepareDataNewTabSeq/PrimaryCareConsultsLong/feature_primarycare'+ str(i) + '_' + str(j)+'.Rdata')\n",
    "        x_temp=x_temp['feature_primarycare'][['patid', 'numPCS']]\n",
    "        x_temp = x_temp.rename(columns={'numPCS' : 'numPCS_month'+str(j)})\n",
    "        x = x.merge(x_temp, on='patid', how='outer').fillna(0).drop_duplicates('patid').reset_index(drop=True)\n",
    "    features = pd.concat([features, x]).fillna(0).drop_duplicates('patid').reset_index(drop=True)"
   ]
  },
  {
   "cell_type": "code",
   "execution_count": null,
   "id": "2482a706-1217-43ac-bc07-29a297d3ae07",
   "metadata": {
    "scrolled": true,
    "tags": []
   },
   "outputs": [],
   "source": [
    "#11 asthma related primary care consultation\n",
    "for i in range(start_file,75):\n",
    "    x1=pyreadr.read_r('../PrepareDataNewTabSeq/PrimaryCareConsultsAsthmaLong/feature_primarycareasthma' + str(i) + '_1.Rdata')\n",
    "    x1=x1['feature_primarycareasthma'][['patid', 'numPCS']]\n",
    "    x2=pyreadr.read_r('../PrepareDataNewTabSeq/PrimaryCareConsultsAsthmaLong/feature_primarycareasthma' + str(i) + '_2.Rdata')\n",
    "    x2=x2['feature_primarycareasthma'][['patid', 'numPCS']]\n",
    "    x = x1.merge(x2, on='patid', how='outer', suffixes=['_month1','_month2']).fillna(0).drop_duplicates('patid').reset_index(drop=True)\n",
    "    x = x.rename(columns={'numPCS_month1' : 'numPCSAsthma_month1',\n",
    "                          'numPCS_month2' : 'numPCSAsthma_month2'})\n",
    "    for j in range(3,121):\n",
    "        print('chunk: ', i, ', month: ', j)\n",
    "        x_temp=pyreadr.read_r('../PrepareDataNewTabSeq/PrimaryCareConsultsAsthmaLong/feature_primarycareasthma'+ str(i) + '_' + str(j)+'.Rdata')\n",
    "        x_temp=x_temp['feature_primarycareasthma'][['patid', 'numPCS']]\n",
    "        x_temp = x_temp.rename(columns={'numPCS' : 'numPCSAsthma_month'+str(j)})\n",
    "        x = x.merge(x_temp, on='patid', how='outer').fillna(0).drop_duplicates('patid').reset_index(drop=True)\n",
    "    features = pd.concat([features, x]).fillna(0).drop_duplicates('patid').reset_index(drop=True)"
   ]
  },
  {
   "cell_type": "code",
   "execution_count": null,
   "id": "e9e77e8b-a389-43de-b9d2-f8774af2b038",
   "metadata": {
    "tags": []
   },
   "outputs": [],
   "source": [
    "features.shape"
   ]
  },
  {
   "cell_type": "code",
   "execution_count": null,
   "id": "22c1b098-f696-443e-a722-d8269b159d64",
   "metadata": {
    "tags": []
   },
   "outputs": [],
   "source": [
    "pickle.dump(features, open('../Clean_data/sequence_features_long_full.sav', 'wb'))"
   ]
  },
  {
   "cell_type": "markdown",
   "id": "80e55ac6-4877-4326-bd5e-3c72e829da69",
   "metadata": {},
   "source": [
    "# combine seq and tabular data"
   ]
  },
  {
   "cell_type": "code",
   "execution_count": 2,
   "id": "3f380df0-5d9c-4803-a576-e36703fd6965",
   "metadata": {
    "tags": []
   },
   "outputs": [],
   "source": [
    "gridSearchData, crossValData, internalEvaluationData, externalEvaluationData = pickle.load(open('../../Clean_data/dataset_scaled_ordinal.sav', 'rb'))\n",
    "gridSearch_seq, crossVal_seq, internalEvaluation_seq, externalEvaluation_seq = pickle.load(open('../../Clean_data/seasonal_long_dataset_28102024.sav', 'rb'))"
   ]
  },
  {
   "cell_type": "code",
   "execution_count": 4,
   "id": "5b5b72a8-17a6-4cf6-9c54-e106a4de65ed",
   "metadata": {},
   "outputs": [
    {
     "name": "stdout",
     "output_type": "stream",
     "text": [
      "Grid search size: (29795, 92)\n",
      "Cross val size: (444393, 92)\n",
      "Internal val size: (121714, 92)\n",
      "External val size: (19860, 92)\n",
      "Grid search seq size: (29432, 452)\n",
      "Cross val seq size: (439301, 452)\n",
      "Internal val seq size: (120425, 452)\n",
      "External val seq size: (19678, 452)\n"
     ]
    }
   ],
   "source": [
    "print(f'Grid search size: {gridSearchData.shape}')\n",
    "print(f'Cross val size: {crossValData.shape}')\n",
    "print(f'Internal val size: {internalEvaluationData.shape}')\n",
    "print(f'External val size: {externalEvaluationData.shape}')\n",
    "\n",
    "print(f'Grid search seq size: {gridSearch_seq.shape}')\n",
    "print(f'Cross val seq size: {crossVal_seq.shape}')\n",
    "print(f'Internal val seq size: {internalEvaluation_seq.shape}')\n",
    "print(f'External val seq size: {externalEvaluation_seq.shape}')"
   ]
  },
  {
   "cell_type": "code",
   "execution_count": 5,
   "id": "2dd5048d-0e1f-4310-8c16-91311af6fcc1",
   "metadata": {},
   "outputs": [],
   "source": [
    "target_outcome = 'outcome_12months'"
   ]
  },
  {
   "cell_type": "code",
   "execution_count": 6,
   "id": "1b24bc96-4cc2-40c6-9476-0c17df7031a9",
   "metadata": {
    "tags": []
   },
   "outputs": [],
   "source": [
    "gridSearch_seq = gridSearchData[['patid', target_outcome]].merge(gridSearch_seq, on = 'patid', how='inner').fillna(0).drop_duplicates('patid').reset_index(drop=True)\n",
    "crossVal_seq = crossValData[['patid', target_outcome]].merge(crossVal_seq, on = 'patid', how='inner').fillna(0).drop_duplicates('patid').reset_index(drop=True)\n",
    "internalEvaluation_seq = internalEvaluationData[['patid', target_outcome]].merge(internalEvaluation_seq, on = 'patid', how='inner').fillna(0).drop_duplicates('patid').reset_index(drop=True)\n",
    "externalEvaluation_seq = externalEvaluationData[['patid', target_outcome]].merge(externalEvaluation_seq, on = 'patid', how='inner').fillna(0).drop_duplicates('patid').reset_index(drop=True)"
   ]
  },
  {
   "cell_type": "code",
   "execution_count": 8,
   "id": "4fe8c6d0-5aba-43e3-8d52-679823cb7ffd",
   "metadata": {},
   "outputs": [],
   "source": [
    "#tabular vectors\n",
    "tabular_vars = ['sex', 'rhinitis', 'cardiovascular', 'heartfailure', 'psoriasis', 'anaphylaxis', 'diabetes', 'ihd', 'anxiety', 'eczema', \n",
    "                'nasalpolyps', 'ethnic_group_Asian', 'ethnic_group_Black', 'ethnic_group_Mixed',\n",
    "                'ethnic_group_Other', 'ethnic_group_White', 'ethnic_group_not recorded',\n",
    "                'smokingStatus_current', 'smokingStatus_former', 'smokingStatus_never',\n",
    "                'DeviceType_BAI', 'DeviceType_DPI', 'DeviceType_NEB', 'DeviceType_not recorded', 'DeviceType_pMDI', \n",
    "                'PriorEducation_No', 'PriorEducation_Yes',  'BMI_cat',  'imd_decile', 'CharlsonScore', 'PEFStatus', \n",
    "                'EosinophilLevel', 'BTS_step','age', \n",
    "                'numAsthmaManagement', 'numAsthmaReview', 'ICS_medication_possesion_ratio'\n",
    "                ]\n",
    "\n",
    "# train_tab = trainingData[tabular_vars]\n",
    "# val_tab = validationData[tabular_vars]\n",
    "# test_tab = evaluationData[tabular_vars]\n",
    "gridSearch_tab = gridSearchData.merge(gridSearch_seq[['patid']], on='patid', how='inner').reset_index(drop=True)[tabular_vars]\n",
    "crossVal_tab = crossValData.merge(crossVal_seq[['patid']], on='patid', how='inner').reset_index(drop=True)[tabular_vars]\n",
    "internalEvaluation_tab = internalEvaluationData.merge(internalEvaluation_seq[['patid']], on='patid', how='inner').reset_index(drop=True)[tabular_vars]\n",
    "externalEvaluation_tab = externalEvaluationData.merge(externalEvaluation_seq[['patid']], on='patid', how='inner').reset_index(drop=True)[tabular_vars]\n",
    "\n",
    "gridSearch_tab = np.asarray(gridSearch_tab).astype('float32')\n",
    "crossVal_tab = np.asarray(crossVal_tab).astype('float32')\n",
    "internalEvaluation_tab = np.asarray(internalEvaluation_tab).astype('float32')\n",
    "externalEvaluation_tab = np.asarray(externalEvaluation_tab).astype('float32')\n"
   ]
  },
  {
   "cell_type": "code",
   "execution_count": 23,
   "id": "2126920d-7226-4607-8d34-89d57a0d4aef",
   "metadata": {},
   "outputs": [
    {
     "data": {
      "text/plain": [
       "Index(['numAsthmaAttacks_month_season41',\n",
       "       'numAntibioticsEvents_month_season41',\n",
       "       'numAntibioticswithLRTI_month_season41', 'numOCSEvents_month_season41',\n",
       "       'numOCSwithLRTI_month_season41', 'numHospEvents_month_season41',\n",
       "       'average_daily_dose_ICS_month_season41',\n",
       "       'prescribed_daily_dose_ICS_month_season41', 'BTS_step_month_season41',\n",
       "       'numPCS_month_season41', 'numPCSAsthma_month_season41'],\n",
       "      dtype='object')"
      ]
     },
     "execution_count": 23,
     "metadata": {},
     "output_type": "execute_result"
    }
   ],
   "source": [
    "gridSearch_seq.columns[gridSearch_seq.columns.str.contains('41')]"
   ]
  },
  {
   "cell_type": "code",
   "execution_count": null,
   "id": "c0a1fcc0-0841-405f-a38b-5d7b1f978290",
   "metadata": {},
   "outputs": [],
   "source": [
    "'average_daily_dose_ICS', 'prescribed_daily_dose_ICS', 'ICS_medication_possesion_ratio', \n",
    "'numPCS', 'numPCSAsthma', 'numAntibioticsEvents', 'numAntibioticswithLRTI', 'numOCSEvents', \n",
    "'numOCSwithLRTI', 'numAsthmaAttacks', 'numAcuteRespEvents', 'numHospEvents',"
   ]
  },
  {
   "cell_type": "code",
   "execution_count": 9,
   "id": "c0af66cd-54c3-4218-a7af-81347a390f8c",
   "metadata": {},
   "outputs": [
    {
     "name": "stdout",
     "output_type": "stream",
     "text": [
      "Grid search size: (29795, 92)\n",
      "Cross val size: (444393, 92)\n",
      "Internal val size: (121714, 92)\n",
      "External val size: (19860, 92)\n",
      "Grid search seq size: (29432, 453)\n",
      "Cross val seq size: (439301, 453)\n",
      "Internal val seq size: (120425, 453)\n",
      "External val seq size: (19678, 453)\n",
      "Grid search seq size: (29432, 34)\n",
      "Cross val seq size: (439301, 34)\n",
      "Internal val seq size: (120425, 34)\n",
      "External val seq size: (19678, 34)\n"
     ]
    }
   ],
   "source": [
    "print(f'Grid search size: {gridSearchData.shape}')\n",
    "print(f'Cross val size: {crossValData.shape}')\n",
    "print(f'Internal val size: {internalEvaluationData.shape}')\n",
    "print(f'External val size: {externalEvaluationData.shape}')\n",
    "\n",
    "print(f'Grid search seq size: {gridSearch_seq.shape}')\n",
    "print(f'Cross val seq size: {crossVal_seq.shape}')\n",
    "print(f'Internal val seq size: {internalEvaluation_seq.shape}')\n",
    "print(f'External val seq size: {externalEvaluation_seq.shape}')\n",
    "\n",
    "print(f'Grid search tab size: {gridSearch_tab.shape}')\n",
    "print(f'Cross val tab size: {crossVal_tab.shape}')\n",
    "print(f'Internal val tab size: {internalEvaluation_tab.shape}')\n",
    "print(f'External val tab size: {externalEvaluation_tab.shape}')"
   ]
  },
  {
   "cell_type": "code",
   "execution_count": 11,
   "id": "6627649e-85da-4f16-a49f-6c01e8053362",
   "metadata": {
    "tags": []
   },
   "outputs": [],
   "source": [
    "# training_seq.index = training_seq.patid\n",
    "gridSearch_X = gridSearch_seq.iloc[:,2:]\n",
    "gridSearch_y = gridSearch_seq[target_outcome]\n",
    "\n",
    "# val_seq.index = val_seq.patid\n",
    "crossVal_X = crossVal_seq.iloc[:,2:]\n",
    "crossVal_y = crossVal_seq[target_outcome]\n",
    "\n",
    "# internalEvaluation_seq.index = internalEvaluation_seq.patid\n",
    "internalEvaluation_X = internalEvaluation_seq.iloc[:,2:]\n",
    "internalEvaluation_y = internalEvaluation_seq[target_outcome]\n",
    "\n",
    "# internalEvaluation_seq.index = internalEvaluation_seq.patid\n",
    "externalEvaluation_X = externalEvaluation_seq.iloc[:,2:]\n",
    "externalEvaluation_y = externalEvaluation_seq[target_outcome]"
   ]
  },
  {
   "cell_type": "code",
   "execution_count": 12,
   "id": "ae24f768-46df-405f-90e9-a4b42cde4753",
   "metadata": {
    "tags": []
   },
   "outputs": [
    {
     "name": "stdout",
     "output_type": "stream",
     "text": [
      "outcome_12months\n",
      "0    0.883562\n",
      "1    0.116438\n",
      "Name: proportion, dtype: float64\n",
      "outcome_12months\n",
      "0    0.883611\n",
      "1    0.116389\n",
      "Name: proportion, dtype: float64\n",
      "outcome_12months\n",
      "0    0.88372\n",
      "1    0.11628\n",
      "Name: proportion, dtype: float64\n",
      "outcome_12months\n",
      "0    0.84348\n",
      "1    0.15652\n",
      "Name: proportion, dtype: float64\n"
     ]
    }
   ],
   "source": [
    "print(gridSearch_y.value_counts(normalize=True))\n",
    "print(crossVal_y.value_counts(normalize=True))\n",
    "print(internalEvaluation_y.value_counts(normalize=True))\n",
    "print(externalEvaluation_y.value_counts(normalize=True))"
   ]
  },
  {
   "cell_type": "code",
   "execution_count": 13,
   "id": "ffd65e53-8b47-46ec-a842-bbbc2a7112e6",
   "metadata": {
    "tags": []
   },
   "outputs": [
    {
     "name": "stdout",
     "output_type": "stream",
     "text": [
      "sequence input:  (29432, 41, 11) (439301, 41, 11) (120425, 41, 11) (19678, 41, 11)\n",
      "tabular input:  (29432, 34) (439301, 34) (120425, 34) (19678, 34)\n",
      "outcome:  (29432,) (439301,) (120425,) (19678, 41, 11)\n"
     ]
    }
   ],
   "source": [
    "#sequence vectors\n",
    "# train_X = train_X.values\n",
    "# val_X = val_X.values\n",
    "# test_X = test_X.values\n",
    "\n",
    "gridSearch_X = gridSearch_X.to_numpy(dtype='float16')\n",
    "crossVal_X = crossVal_X.to_numpy(dtype='float16')\n",
    "internalEvaluation_X = internalEvaluation_X.to_numpy(dtype='float16')\n",
    "externalEvaluation_X = externalEvaluation_X.to_numpy(dtype='float16')\n",
    "\n",
    "\n",
    "\n",
    "#outcome vectors\n",
    "gridSearch_y = gridSearch_y.values\n",
    "crossVal_y = crossVal_y.values\n",
    "internalEvaluation_y = internalEvaluation_y.values\n",
    "externalEvaluation_y = externalEvaluation_y.values\n",
    "\n",
    "#reshape into 3D vectors\n",
    "num_of_months = 41\n",
    "num_of_features = 11\n",
    "gridSearch_X = gridSearch_X.reshape((gridSearch_X.shape[0], num_of_months, num_of_features))\n",
    "crossVal_X = crossVal_X.reshape((crossVal_X.shape[0], num_of_months, num_of_features))\n",
    "internalEvaluation_X = internalEvaluation_X.reshape((internalEvaluation_X.shape[0], num_of_months, num_of_features))\n",
    "externalEvaluation_X = externalEvaluation_X.reshape((externalEvaluation_X.shape[0], num_of_months, num_of_features))\n",
    "\n",
    "gridSearch_X = np.asarray(gridSearch_X).astype('float32')\n",
    "crossVal_X = np.asarray(crossVal_X).astype('float32')\n",
    "internalEvaluation_X = np.asarray(internalEvaluation_X).astype('float32')\n",
    "externalEvaluation_X = np.asarray(externalEvaluation_X).astype('float32')\n",
    "\n",
    "print('sequence input: ', gridSearch_X.shape, crossVal_X.shape, internalEvaluation_X.shape, externalEvaluation_X.shape)\n",
    "print('tabular input: ', gridSearch_tab.shape, crossVal_tab.shape, internalEvaluation_tab.shape, externalEvaluation_tab.shape)\n",
    "print('outcome: ', gridSearch_y.shape, crossVal_y.shape, internalEvaluation_y.shape, externalEvaluation_X.shape)"
   ]
  },
  {
   "cell_type": "code",
   "execution_count": 14,
   "id": "6a6c9eba-ba15-4836-8089-5514c228f333",
   "metadata": {
    "tags": []
   },
   "outputs": [],
   "source": [
    "datasets = [gridSearch_X, crossVal_X, internalEvaluation_X, externalEvaluation_X,\n",
    "            gridSearch_tab, crossVal_tab, internalEvaluation_tab, externalEvaluation_tab,\n",
    "            gridSearch_y, crossVal_y, internalEvaluation_y, externalEvaluation_y]\n",
    "pickle.dump(datasets, open('../../Clean_data/seasonal_dataset_ordinal.sav', 'wb'))"
   ]
  },
  {
   "cell_type": "code",
   "execution_count": null,
   "id": "8d06cf9e-f0c6-4bf8-b31e-c5029e91e3b4",
   "metadata": {},
   "outputs": [],
   "source": [
    "# seqs = [gridSearch_seq, crossVal_seq, internalEvaluation_seq, externalEvaluation_seq]\n",
    "# pickle.dump(seqs, open('../Clean_data/sequence_dataset_DF_27102024.sav', 'wb'))"
   ]
  },
  {
   "cell_type": "code",
   "execution_count": null,
   "id": "4d0e683f-4c49-4280-a72d-e71d13aaa8a1",
   "metadata": {},
   "outputs": [],
   "source": []
  },
  {
   "cell_type": "code",
   "execution_count": null,
   "id": "da748064-1771-4536-83de-037b5cbe075c",
   "metadata": {},
   "outputs": [],
   "source": []
  },
  {
   "cell_type": "markdown",
   "id": "b40c5cf7-fe7a-4b3d-b6cd-ac0a9a50a6b4",
   "metadata": {
    "jp-MarkdownHeadingCollapsed": true
   },
   "source": [
    "## Model training"
   ]
  },
  {
   "cell_type": "code",
   "execution_count": null,
   "id": "8f5150f2-4801-46b9-92eb-e3b9ddf61487",
   "metadata": {
    "scrolled": true,
    "tags": []
   },
   "outputs": [],
   "source": [
    "# design network\n",
    "\n",
    "set\n",
    "with tf.device('/GPU:0'):\n",
    "    model = Sequential()\n",
    "    model.add(Bidirectional(LSTM(50, input_shape=(train_X.shape[1], train_X.shape[2]), return_sequences=True)))\n",
    "    model.add(Bidirectional(LSTM(50, return_sequences=True)))\n",
    "    model.add(Bidirectional(LSTM(50, return_sequences=True)))\n",
    "    model.add(Bidirectional(LSTM(50, return_sequences=True)))\n",
    "    model.add(Bidirectional(LSTM(50)))\n",
    "    model.add(Dense(64, activation='relu'))\n",
    "    model.add(Dense(1, activation='sigmoid'))\n",
    "\n",
    "    model.build(input_shape=(None,train_X.shape[1], train_X.shape[2]))\n",
    "    model.summary()\n",
    "\n",
    "    metrics = [\n",
    "                AUC(num_thresholds=1000, name='auc', curve='ROC'),\n",
    "                AUC(num_thresholds=1000, name='auprc', curve='PR'),\n",
    "                # tf.keras.metrics.Precision(name='prec'),\n",
    "                # tf.keras.metrics.Recall(name='rec'),\n",
    "                # tf.keras.metrics.TrueNegatives(name='TN'),\n",
    "                # tf.keras.metrics.TruePositives(name='TP'),\n",
    "                # tf.keras.metrics.PrecisionAtRecall(0.8)\n",
    "            ]\n",
    "\n",
    "    opt = Adadelta(learning_rate=5e-2)\n",
    "\n",
    "    model.compile(loss='binary_crossentropy', optimizer=opt, metrics=metrics)\n",
    "    # fit network\n",
    "    earlyStopping = EarlyStopping(monitor='val_auc', patience=5, verbose=0, mode='max', restore_best_weights=True)\n",
    "    history = model.fit(train_X, train_y, epochs=50, batch_size=32, validation_data=(val_X, val_y), \n",
    "                        class_weight=class_weight, callbacks = [earlyStopping], verbose=2)\n",
    "\n",
    "\n",
    "\n",
    "\n",
    "    # plot history\n",
    "    pyplot.plot(history.history['loss'], label='train')\n",
    "    pyplot.plot(history.history['val_loss'], label='test')\n",
    "    pyplot.legend()\n",
    "    pyplot.show()"
   ]
  },
  {
   "cell_type": "code",
   "execution_count": null,
   "id": "e9930523-1499-4a79-b0b7-06049d9c650c",
   "metadata": {
    "tags": []
   },
   "outputs": [],
   "source": [
    "from sklearn.metrics import confusion_matrix, roc_auc_score, average_precision_score\n",
    "\n",
    "predsraw = model.predict(test_X)\n"
   ]
  },
  {
   "cell_type": "code",
   "execution_count": null,
   "id": "65d1a2a4-80cb-41f4-9245-cf2a8352c489",
   "metadata": {
    "tags": []
   },
   "outputs": [],
   "source": [
    "preds = [0 if x < 0.83 else 1 for x in predsraw]\n",
    "confusion_matrix(test_y, preds)\n",
    "\n",
    "print(roc_auc_score(test_y, preds))\n",
    "print(average_precision_score(test_y, preds))"
   ]
  },
  {
   "cell_type": "code",
   "execution_count": null,
   "id": "b571e2ac-9195-4af6-9fe8-8478883c2174",
   "metadata": {},
   "outputs": [],
   "source": [
    "gridSearch_tab.shape"
   ]
  },
  {
   "cell_type": "markdown",
   "id": "2bc055f9-c7ee-41a3-8e3a-042bc87a9547",
   "metadata": {},
   "source": [
    "# Model with tabular and sequence"
   ]
  },
  {
   "cell_type": "code",
   "execution_count": null,
   "id": "bb0efb2a-7504-41df-aa64-be6123a73456",
   "metadata": {
    "tags": []
   },
   "outputs": [],
   "source": [
    "# train_X, val_X, test_X, train_tab, val_tab, test_tab, train_y, val_y, test_y = pickle.load(open('../Clean_data/sequence_dataset_full.sav', 'rb'))\n",
    "# print('sequence input: ', train_X.shape, val_X.shape, test_X.shape)\n",
    "# print('tabular input: ', train_tab.shape, val_tab.shape, test_tab.shape)\n",
    "# print('outcome: ', train_y.shape, val_y.shape, test_y.shape)\n",
    "\n",
    "gridSearch_X, crossVal_X, internalEvaluation_X, externalEvaluation_X, gridSearch_tab, crossVal_tab, internalEvaluation_tab, externalEvaluation_tab, gridSearch_y, crossVal_y, internalEvaluation_y, externalEvaluation_y = pickle.load(open('../Clean_data/seasonal_dataset_full_05112024.sav', 'rb'))"
   ]
  },
  {
   "cell_type": "code",
   "execution_count": null,
   "id": "d158ff79-3484-40e6-bfec-8a19a9551e56",
   "metadata": {
    "tags": []
   },
   "outputs": [],
   "source": [
    "def modelCombined():\n",
    "    \n",
    "###################################################################################################################################################            \n",
    "        #tabular data - demography   \n",
    "        input1 = Input(shape=(crossVal_tab.shape[1],))\n",
    "        nn = Dense(units=32, \n",
    "                    input_shape = (crossVal_tab.shape[1],)\n",
    "                   )(input1)\n",
    "        nn = BatchNormalization()(nn)\n",
    "        nn = Activation(\"relu\")(nn)\n",
    "        nn = Dropout(.3)(nn)\n",
    "        \n",
    "\n",
    "\n",
    "###################################################################################################################################################                \n",
    "\n",
    "        # LSTM - layer 1\n",
    "        \n",
    "        input2 = Input(shape=(crossVal_X.shape[1], crossVal_X.shape[2]))\n",
    "        lstm = Bidirectional(LSTM(units=50, \n",
    "                            return_sequences=True,\n",
    "                                 )\n",
    "                            )(input2)\n",
    "        lstm = Dropout(.3)(lstm)\n",
    "        \n",
    "\n",
    "        # LSTM - layer 2\n",
    "        lstm = Bidirectional(LSTM(units=32, \n",
    "                            # return_sequences=True,\n",
    "                                 )\n",
    "                            )(lstm)\n",
    "        lstm = Dropout(.3)(lstm)\n",
    "        \n",
    "        \n",
    "###################################################################################################################################################        \n",
    "\n",
    "        ##layer 4 - FCN before classification layer\n",
    "        #merge tabular and sequence layers\n",
    "        # nn = Reshape((1, 64))(nn) #reshape the nn product to be concatenated with LSTM product\n",
    "        add = concatenate([nn, lstm], axis=1)\n",
    "\n",
    "        final = Dense(units=16)(add)\n",
    "        final = BatchNormalization()(final)\n",
    "        final = Activation(\"relu\")(final)\n",
    "        final = Dropout(0.3)(final)     \n",
    "        \n",
    "                                                    \n",
    "        ###layer 5 - classification layer\n",
    "        # final = Flatten()(add)\n",
    "        output = Dense(1, activation='sigmoid')(final)\n",
    "        \n",
    "\n",
    "        opt = Adamax(learning_rate=1e-4)\n",
    "        # opt = RMSprop(learning_rate=lr, beta_1=beta_1, beta_2=beta_2, epsilon=epsilon, weight_decay=weight_decay)\n",
    "\n",
    "        metrics = [\n",
    "            AUC(num_thresholds=1000, name='auc', curve='ROC'),\n",
    "            AUC(num_thresholds=1000, name='auprc', curve='PR'),\n",
    "        ]\n",
    "\n",
    "\n",
    "        model = Model(inputs=[input1, input2], outputs=output)\n",
    "        model.compile(\n",
    "            loss='binary_crossentropy', \n",
    "            optimizer=opt, \n",
    "            metrics=metrics)\n",
    "        # print(model.summary())\n",
    "        return model"
   ]
  },
  {
   "cell_type": "code",
   "execution_count": null,
   "id": "e9597038-692b-4dee-aee9-109c398739d6",
   "metadata": {
    "scrolled": true,
    "tags": []
   },
   "outputs": [],
   "source": [
    "set\n",
    "with tf.device('/GPU:0'):\n",
    "    model = modelCombined()\n",
    "    model.summary()"
   ]
  },
  {
   "cell_type": "code",
   "execution_count": null,
   "id": "3aabe858-2561-4064-9600-1b3dd378854c",
   "metadata": {
    "editable": true,
    "scrolled": true,
    "slideshow": {
     "slide_type": ""
    },
    "tags": []
   },
   "outputs": [],
   "source": [
    "set\n",
    "with tf.device('/GPU:0'):\n",
    "    earlyStopping = EarlyStopping(monitor='val_auc', patience=10, verbose=0, mode='max', restore_best_weights=True)\n",
    "    # mcp_save = ModelCheckpoint('../SeqModel/lstm_CV_18+_'+set_vocab+str(fold_var)+'.h5', save_best_only=True, monitor='val_auc', mode='max')\n",
    "    # class_weight = trainingData['outcome_12months'].value_counts()[0]/trainingData['outcome_12months'].value_counts()[1]\n",
    "    class_weight = np.unique(gridSearch_y, return_counts=True)[1][0]/np.unique(gridSearch_y, return_counts=True)[1][1]\n",
    "    class_weight = {0:1, 1:class_weight}\n",
    "\n",
    "    history = model.fit([gridSearch_tab, gridSearch_X], gridSearch_y,\n",
    "                        validation_split=.2,\n",
    "                        # validation_data=([val_tab, val_X], val_y),\n",
    "                        epochs=1000, batch_size=128, class_weight=class_weight, callbacks = [earlyStopping])"
   ]
  },
  {
   "cell_type": "code",
   "execution_count": null,
   "id": "5a2b68d3-6994-4eef-9502-96b26d1c798c",
   "metadata": {
    "editable": true,
    "slideshow": {
     "slide_type": ""
    },
    "tags": []
   },
   "outputs": [],
   "source": [
    "# plot history\n",
    "pyplot.plot(history.history['loss'], label='loss train')\n",
    "pyplot.plot(history.history['val_loss'], label='loss val')\n",
    "pyplot.legend()\n",
    "pyplot.show()\n",
    "pyplot.plot(history.history['auc'], label='auc train')\n",
    "pyplot.plot(history.history['val_auc'], label='auc val')\n",
    "pyplot.legend()\n",
    "pyplot.show()"
   ]
  },
  {
   "cell_type": "code",
   "execution_count": null,
   "id": "d04bce1d-8467-47a5-836c-83f581a873f4",
   "metadata": {
    "tags": []
   },
   "outputs": [],
   "source": [
    "model.evaluate([externalEvaluation_tab,externalEvaluation_X], externalEvaluation_y)"
   ]
  },
  {
   "cell_type": "code",
   "execution_count": null,
   "id": "c2070076-859c-407f-8877-9ba5440ab022",
   "metadata": {
    "tags": []
   },
   "outputs": [],
   "source": [
    "from sklearn.metrics import confusion_matrix, roc_auc_score, average_precision_score\n",
    "\n",
    "predsraw = model.predict([externalEvaluation_tab,externalEvaluation_X])\n"
   ]
  },
  {
   "cell_type": "code",
   "execution_count": null,
   "id": "8bb8461b-1663-470a-a396-f6762966c9be",
   "metadata": {
    "tags": []
   },
   "outputs": [],
   "source": [
    "preds = [0 if x <= 0.55 else 1 for x in predsraw]\n",
    "confusion_matrix(externalEvaluation_y, preds)\n",
    "\n",
    "print(roc_auc_score(externalEvaluation_y, preds))\n",
    "print(average_precision_score(externalEvaluation_y, preds))"
   ]
  },
  {
   "cell_type": "code",
   "execution_count": null,
   "id": "cbb814a2-e91d-491e-9817-2cca65cf1827",
   "metadata": {
    "tags": []
   },
   "outputs": [],
   "source": [
    "confusion_matrix(externalEvaluation_y, preds)"
   ]
  },
  {
   "cell_type": "code",
   "execution_count": null,
   "id": "2eab7d79-ebe8-41a9-a863-d7f528a3d3db",
   "metadata": {},
   "outputs": [],
   "source": []
  },
  {
   "cell_type": "code",
   "execution_count": null,
   "id": "e6915833-a71c-48be-b5e1-db7c53dd7fcb",
   "metadata": {},
   "outputs": [],
   "source": []
  },
  {
   "cell_type": "code",
   "execution_count": null,
   "id": "079a6df7-0e62-4b72-8e97-4e055fb69016",
   "metadata": {
    "tags": []
   },
   "outputs": [],
   "source": [
    "#load clinical information\n",
    "path = '../ServerData_13Oct2020/'\n",
    "clinical_files = [join(path, f) for f in listdir(path) if (isfile(join(path, f))) & ('f_clinical_part' in f)]\n",
    "clinical = pyreadr.read_r('../ServerData_13Oct2020/f_clinical_part1.Rdata')\n",
    "clinical = clinical['f_clinical_part']\n",
    "# for file in clinical_files[1:3]:\n",
    "#     temp = pyreadr.read_r(file)\n",
    "#     temp = temp['f_clinical_part']\n",
    "#     print(temp.shape)\n",
    "#     clinical = pd.concat([clinical, temp])\n",
    "#     clinical.reset_index(drop=True, inplace=True)"
   ]
  },
  {
   "cell_type": "code",
   "execution_count": null,
   "id": "7f8fc926-b2b6-4465-b75c-6b5e45ecfa60",
   "metadata": {},
   "outputs": [],
   "source": []
  },
  {
   "cell_type": "code",
   "execution_count": null,
   "id": "e4229faa-3e53-4be9-b190-1bedc990d96f",
   "metadata": {
    "tags": []
   },
   "outputs": [],
   "source": [
    "clinical.head(3)"
   ]
  },
  {
   "cell_type": "code",
   "execution_count": null,
   "id": "d8c1527f-77cd-4d9a-b001-b065163f4178",
   "metadata": {
    "tags": []
   },
   "outputs": [],
   "source": [
    "def combine_code_numeric(code, numeric):\n",
    "    if (numeric != np.nan):\n",
    "        return(code+str(numeric))\n",
    "    else:\n",
    "        return (code)\n",
    "        "
   ]
  },
  {
   "cell_type": "code",
   "execution_count": null,
   "id": "721ab34d-2ed5-4bec-a92f-b51accd0bd72",
   "metadata": {
    "tags": []
   },
   "outputs": [],
   "source": [
    "clinical = clinical.dropna(subset='code_id').reset_index(drop=True)"
   ]
  },
  {
   "cell_type": "code",
   "execution_count": null,
   "id": "dc8a982a-fa5a-489b-95c1-a6e08f28381b",
   "metadata": {
    "tags": []
   },
   "outputs": [],
   "source": [
    "clinical.apply(lambda x: combine_code_numeric(x.code_id, x.numeric_1), axis=1)"
   ]
  },
  {
   "cell_type": "code",
   "execution_count": null,
   "id": "3a883049-e7db-4ce3-9b3c-df23ca9d8abd",
   "metadata": {
    "tags": []
   },
   "outputs": [],
   "source": [
    "from datetime import datetime\n",
    "\n",
    "def diff_month(d1, d2):\n",
    "    return (d1.year - d2.year) * 12 + d1.month - d2.month\n",
    "\n",
    "\n",
    "diff_month(datetime(2018,1,1), datetime(2016,1,1))\n"
   ]
  },
  {
   "cell_type": "code",
   "execution_count": null,
   "id": "616becde-7d28-4815-97c1-22e84de2bc1c",
   "metadata": {},
   "outputs": [],
   "source": []
  }
 ],
 "metadata": {
  "kernelspec": {
   "display_name": "Python 3 (ipykernel)",
   "language": "python",
   "name": "python3"
  },
  "language_info": {
   "codemirror_mode": {
    "name": "ipython",
    "version": 3
   },
   "file_extension": ".py",
   "mimetype": "text/x-python",
   "name": "python",
   "nbconvert_exporter": "python",
   "pygments_lexer": "ipython3",
   "version": "3.10.14"
  }
 },
 "nbformat": 4,
 "nbformat_minor": 5
}
