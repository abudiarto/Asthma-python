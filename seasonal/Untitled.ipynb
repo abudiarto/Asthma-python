{
 "cells": [
  {
   "cell_type": "code",
   "execution_count": 1,
   "id": "069d0368-cccc-4559-93d6-edcaf990cf22",
   "metadata": {},
   "outputs": [],
   "source": [
    "import numpy as np\n",
    "import pickle"
   ]
  },
  {
   "cell_type": "code",
   "execution_count": 2,
   "id": "b85194a8-3920-4432-ab13-61a03fcb4de2",
   "metadata": {},
   "outputs": [],
   "source": [
    "gridSearch_seq, _, _, _ = pickle.load(open('../../Clean_data/seasonal_long_dataset_28102024.sav', 'rb'))"
   ]
  },
  {
   "cell_type": "code",
   "execution_count": 8,
   "id": "9e5fb51f-4ca9-4396-bed7-f1da11d36087",
   "metadata": {},
   "outputs": [
    {
     "data": {
      "text/plain": [
       "Index(['numAsthmaAttacks_month_season38',\n",
       "       'numAntibioticsEvents_month_season38',\n",
       "       'numAntibioticswithLRTI_month_season38', 'numOCSEvents_month_season38',\n",
       "       'numOCSwithLRTI_month_season38', 'numHospEvents_month_season38',\n",
       "       'average_daily_dose_ICS_month_season38',\n",
       "       'prescribed_daily_dose_ICS_month_season38', 'BTS_step_month_season38',\n",
       "       'numPCS_month_season38', 'numPCSAsthma_month_season38'],\n",
       "      dtype='object')"
      ]
     },
     "execution_count": 8,
     "metadata": {},
     "output_type": "execute_result"
    }
   ],
   "source": [
    "gridSearch_seq.columns[gridSearch_seq.columns.str.contains('38')]"
   ]
  }
 ],
 "metadata": {
  "kernelspec": {
   "display_name": "Python 3 (ipykernel)",
   "language": "python",
   "name": "python3"
  },
  "language_info": {
   "codemirror_mode": {
    "name": "ipython",
    "version": 3
   },
   "file_extension": ".py",
   "mimetype": "text/x-python",
   "name": "python",
   "nbconvert_exporter": "python",
   "pygments_lexer": "ipython3",
   "version": "3.10.9"
  }
 },
 "nbformat": 4,
 "nbformat_minor": 5
}
