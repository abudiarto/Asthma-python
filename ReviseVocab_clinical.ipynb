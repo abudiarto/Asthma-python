{
 "cells": [
  {
   "cell_type": "code",
   "execution_count": 1,
   "id": "8ce0f414-d8a6-4816-9a6b-3f69956ea214",
   "metadata": {
    "tags": []
   },
   "outputs": [],
   "source": [
    "import pandas as pd\n",
    "import pickle"
   ]
  },
  {
   "cell_type": "code",
   "execution_count": 2,
   "id": "4277417a-e1e9-4a71-9c16-5de34b28e610",
   "metadata": {
    "tags": []
   },
   "outputs": [],
   "source": [
    "vocab_clinical = pickle.load(open('../SeqModel/all_vocab_clinical.sav', 'rb'))\n",
    "vocab_therapy = pickle.load(open('../SeqModel/all_vocab_therapy.sav', 'rb'))\n",
    "\n",
    "data_clinical = pd.read_feather('../SeqModel/all_data_clinical.feather')\n",
    "data_therapy = pd.read_feather('../SeqModel/all_data_therapy.feather')\n",
    "\n",
    "vocab_stat_clinical = pd.read_csv('../FinalData/pivotClinicalCodesbyCountry.csv')\n",
    "vocab_stat_therapy = pd.read_csv('../FinalData/pivotTherapyCodesbyCountry.csv')"
   ]
  },
  {
   "cell_type": "code",
   "execution_count": 6,
   "id": "8a60e4cc-ab0d-4c5e-80d6-f649fad1f6ad",
   "metadata": {},
   "outputs": [
    {
     "name": "stdout",
     "output_type": "stream",
     "text": [
      "code2idx Size: 75810\n",
      "idx2code Size: 75810\n"
     ]
    }
   ],
   "source": [
    "#vocab and code2idx generation\n",
    "idx_clinical = range(1, len(vocab_clinical)+1)\n",
    "\n",
    "code2idx_clinical = dict(zip(vocab_clinical, idx_clinical))\n",
    "idx2code_clinical = dict(zip(idx_clinical, vocab_clinical))\n",
    "\n",
    "code2idx_clinical['PAD'] = 0\n",
    "idx2code_clinical[0] = 'PAD'\n",
    "# idx2code_all[1] = 'NO_CODE'\n",
    "# idx2code_all[2] = 'start_visit'\n",
    "# idx2code_all[3] = 'end_visit'\n",
    "VOCAB_SIZE = len(code2idx_clinical)\n",
    "print('code2idx Size: {}'.format(len(code2idx_clinical)))\n",
    "print('idx2code Size: {}'.format(len(idx2code_clinical)))\n",
    "\n",
    "# month_vocab = pickle.load(open('../SeqModel/month_vocab.sav', 'rb'))"
   ]
  },
  {
   "cell_type": "code",
   "execution_count": 10,
   "id": "b5d5dc87-bee0-4123-b203-3f7020638536",
   "metadata": {
    "tags": []
   },
   "outputs": [
    {
     "data": {
      "text/html": [
       "<div>\n",
       "<style scoped>\n",
       "    .dataframe tbody tr th:only-of-type {\n",
       "        vertical-align: middle;\n",
       "    }\n",
       "\n",
       "    .dataframe tbody tr th {\n",
       "        vertical-align: top;\n",
       "    }\n",
       "\n",
       "    .dataframe thead th {\n",
       "        text-align: right;\n",
       "    }\n",
       "</style>\n",
       "<table border=\"1\" class=\"dataframe\">\n",
       "  <thead>\n",
       "    <tr style=\"text-align: right;\">\n",
       "      <th></th>\n",
       "      <th>patid</th>\n",
       "      <th>read_code_seq_padded_idx</th>\n",
       "      <th>read_code_seq_padded_end_idx</th>\n",
       "      <th>month_padded_idx</th>\n",
       "      <th>month_padded_idx_end</th>\n",
       "      <th>Country</th>\n",
       "      <th>age</th>\n",
       "      <th>3months</th>\n",
       "      <th>6months</th>\n",
       "      <th>9months</th>\n",
       "      <th>12months</th>\n",
       "      <th>read_code_seq_padded</th>\n",
       "    </tr>\n",
       "  </thead>\n",
       "  <tbody>\n",
       "    <tr>\n",
       "      <th>0</th>\n",
       "      <td>43671012</td>\n",
       "      <td>[65736, 51831, 47442, 23669, 54300, 22478, 638...</td>\n",
       "      <td>[65736, 51831, 47442, 23669, 54300, 22478, 638...</td>\n",
       "      <td>[3, 3, 3, 3, 3, 3, 3, 3, 3, 3, 3, 3, 3, 3, 3, ...</td>\n",
       "      <td>[3, 3, 3, 3, 3, 3, 3, 3, 3, 3, 3, 3, 3, 3, 3, ...</td>\n",
       "      <td>England</td>\n",
       "      <td>16</td>\n",
       "      <td>0</td>\n",
       "      <td>0</td>\n",
       "      <td>0</td>\n",
       "      <td>0</td>\n",
       "      <td>[242.., 246A., 8B314, R0023, 2469., XaMiI, 246...</td>\n",
       "    </tr>\n",
       "    <tr>\n",
       "      <th>1</th>\n",
       "      <td>43655540</td>\n",
       "      <td>[60831, 31316, 35549, 40619, 31180, 24942, 643...</td>\n",
       "      <td>[60831, 31316, 35549, 40619, 31180, 24942, 643...</td>\n",
       "      <td>[1, 1, 1, 1, 1, 1, 1, 1, 1, 2, 3, 3, 3, 4, 4, ...</td>\n",
       "      <td>[1, 1, 1, 1, 1, 1, 1, 1, 1, 2, 3, 3, 3, 4, 4, ...</td>\n",
       "      <td>England</td>\n",
       "      <td>67</td>\n",
       "      <td>0</td>\n",
       "      <td>1</td>\n",
       "      <td>1</td>\n",
       "      <td>1</td>\n",
       "      <td>[42A.., X77Wi, 44O.., 423.., 428.., 42ZD., 44J...</td>\n",
       "    </tr>\n",
       "    <tr>\n",
       "      <th>2</th>\n",
       "      <td>43582797</td>\n",
       "      <td>[0, 0, 0, 0, 0, 0, 0, 0, 0, 0, 0, 0, 0, 0, 0, ...</td>\n",
       "      <td>[16748, 36519, 47808, 65736, 65678, 63979, 147...</td>\n",
       "      <td>[0, 0, 0, 0, 0, 0, 0, 0, 0, 0, 0, 0, 0, 0, 0, ...</td>\n",
       "      <td>[1, 1, 1, 1, 1, 1, 1, 1, 1, 1, 1, 1, 0, 0, 0, ...</td>\n",
       "      <td>England</td>\n",
       "      <td>41</td>\n",
       "      <td>0</td>\n",
       "      <td>0</td>\n",
       "      <td>0</td>\n",
       "      <td>0</td>\n",
       "      <td>[3395., 2E3.., X770D, 242.., Xa1hD, XaIer, XaX...</td>\n",
       "    </tr>\n",
       "    <tr>\n",
       "      <th>3</th>\n",
       "      <td>43554478</td>\n",
       "      <td>[0, 0, 0, 0, 0, 0, 0, 0, 0, 0, 0, 0, 0, 0, 0, ...</td>\n",
       "      <td>[69021, 59826, 62564, 47442, 59771, 18293, 264...</td>\n",
       "      <td>[0, 0, 0, 0, 0, 0, 0, 0, 0, 0, 0, 0, 0, 0, 0, ...</td>\n",
       "      <td>[1, 1, 1, 1, 1, 1, 1, 1, 1, 1, 1, 1, 1, 1, 1, ...</td>\n",
       "      <td>England</td>\n",
       "      <td>20</td>\n",
       "      <td>0</td>\n",
       "      <td>0</td>\n",
       "      <td>0</td>\n",
       "      <td>0</td>\n",
       "      <td>[Ua1Nz, 663e., XaINd, 8B314, XaIeq, 1371., 663...</td>\n",
       "    </tr>\n",
       "    <tr>\n",
       "      <th>4</th>\n",
       "      <td>43611754</td>\n",
       "      <td>[0, 0, 0, 0, 0, 0, 0, 0, 0, 0, 0, 0, 0, 0, 0, ...</td>\n",
       "      <td>[62065, 58863, 0, 0, 0, 0, 0, 0, 0, 0, 0, 0, 0...</td>\n",
       "      <td>[0, 0, 0, 0, 0, 0, 0, 0, 0, 0, 0, 0, 0, 0, 0, ...</td>\n",
       "      <td>[1, 1, 0, 0, 0, 0, 0, 0, 0, 0, 0, 0, 0, 0, 0, ...</td>\n",
       "      <td>England</td>\n",
       "      <td>21</td>\n",
       "      <td>0</td>\n",
       "      <td>0</td>\n",
       "      <td>0</td>\n",
       "      <td>0</td>\n",
       "      <td>[173A., XaASl, PAD, PAD, PAD, PAD, PAD, PAD, P...</td>\n",
       "    </tr>\n",
       "  </tbody>\n",
       "</table>\n",
       "</div>"
      ],
      "text/plain": [
       "      patid                           read_code_seq_padded_idx  \\\n",
       "0  43671012  [65736, 51831, 47442, 23669, 54300, 22478, 638...   \n",
       "1  43655540  [60831, 31316, 35549, 40619, 31180, 24942, 643...   \n",
       "2  43582797  [0, 0, 0, 0, 0, 0, 0, 0, 0, 0, 0, 0, 0, 0, 0, ...   \n",
       "3  43554478  [0, 0, 0, 0, 0, 0, 0, 0, 0, 0, 0, 0, 0, 0, 0, ...   \n",
       "4  43611754  [0, 0, 0, 0, 0, 0, 0, 0, 0, 0, 0, 0, 0, 0, 0, ...   \n",
       "\n",
       "                        read_code_seq_padded_end_idx  \\\n",
       "0  [65736, 51831, 47442, 23669, 54300, 22478, 638...   \n",
       "1  [60831, 31316, 35549, 40619, 31180, 24942, 643...   \n",
       "2  [16748, 36519, 47808, 65736, 65678, 63979, 147...   \n",
       "3  [69021, 59826, 62564, 47442, 59771, 18293, 264...   \n",
       "4  [62065, 58863, 0, 0, 0, 0, 0, 0, 0, 0, 0, 0, 0...   \n",
       "\n",
       "                                    month_padded_idx  \\\n",
       "0  [3, 3, 3, 3, 3, 3, 3, 3, 3, 3, 3, 3, 3, 3, 3, ...   \n",
       "1  [1, 1, 1, 1, 1, 1, 1, 1, 1, 2, 3, 3, 3, 4, 4, ...   \n",
       "2  [0, 0, 0, 0, 0, 0, 0, 0, 0, 0, 0, 0, 0, 0, 0, ...   \n",
       "3  [0, 0, 0, 0, 0, 0, 0, 0, 0, 0, 0, 0, 0, 0, 0, ...   \n",
       "4  [0, 0, 0, 0, 0, 0, 0, 0, 0, 0, 0, 0, 0, 0, 0, ...   \n",
       "\n",
       "                                month_padded_idx_end  Country  age  3months  \\\n",
       "0  [3, 3, 3, 3, 3, 3, 3, 3, 3, 3, 3, 3, 3, 3, 3, ...  England   16        0   \n",
       "1  [1, 1, 1, 1, 1, 1, 1, 1, 1, 2, 3, 3, 3, 4, 4, ...  England   67        0   \n",
       "2  [1, 1, 1, 1, 1, 1, 1, 1, 1, 1, 1, 1, 0, 0, 0, ...  England   41        0   \n",
       "3  [1, 1, 1, 1, 1, 1, 1, 1, 1, 1, 1, 1, 1, 1, 1, ...  England   20        0   \n",
       "4  [1, 1, 0, 0, 0, 0, 0, 0, 0, 0, 0, 0, 0, 0, 0, ...  England   21        0   \n",
       "\n",
       "   6months  9months  12months  \\\n",
       "0        0        0         0   \n",
       "1        1        1         1   \n",
       "2        0        0         0   \n",
       "3        0        0         0   \n",
       "4        0        0         0   \n",
       "\n",
       "                                read_code_seq_padded  \n",
       "0  [242.., 246A., 8B314, R0023, 2469., XaMiI, 246...  \n",
       "1  [42A.., X77Wi, 44O.., 423.., 428.., 42ZD., 44J...  \n",
       "2  [3395., 2E3.., X770D, 242.., Xa1hD, XaIer, XaX...  \n",
       "3  [Ua1Nz, 663e., XaINd, 8B314, XaIeq, 1371., 663...  \n",
       "4  [173A., XaASl, PAD, PAD, PAD, PAD, PAD, PAD, P...  "
      ]
     },
     "execution_count": 10,
     "metadata": {},
     "output_type": "execute_result"
    }
   ],
   "source": [
    "data_clinical.head()"
   ]
  },
  {
   "cell_type": "code",
   "execution_count": 9,
   "id": "8b5f7177-3ae6-4172-a658-70d73bc690d8",
   "metadata": {
    "tags": []
   },
   "outputs": [],
   "source": [
    "data_clinical['read_code_seq_padded'] = data_clinical['read_code_seq_padded_end_idx'].apply(lambda x: [idx2code_clinical.get(key) for key in x])"
   ]
  },
  {
   "cell_type": "code",
   "execution_count": 3,
   "id": "04d031cd-0fb2-4d61-bf07-a1c1c10453be",
   "metadata": {
    "tags": []
   },
   "outputs": [],
   "source": [
    "new_vocab_clinical = vocab_stat_clinical.sort_values('%patient', ascending=False).code_id.values"
   ]
  },
  {
   "cell_type": "code",
   "execution_count": 4,
   "id": "54b85aea-00c2-4118-9012-7142ee8e82ed",
   "metadata": {
    "tags": []
   },
   "outputs": [
    {
     "data": {
      "text/plain": [
       "75809"
      ]
     },
     "execution_count": 4,
     "metadata": {},
     "output_type": "execute_result"
    }
   ],
   "source": [
    "len(new_vocab_clinical)"
   ]
  },
  {
   "cell_type": "code",
   "execution_count": 5,
   "id": "fd704abb-e154-41d9-8495-5a8a24f50fce",
   "metadata": {
    "tags": []
   },
   "outputs": [],
   "source": [
    "pickle.dump(new_vocab_clinical, open('../SeqModel/all_vocab_clinical_new.sav', 'wb'))"
   ]
  },
  {
   "cell_type": "code",
   "execution_count": 18,
   "id": "bf1e3806-7540-4cda-8eee-fe05067e1082",
   "metadata": {
    "tags": []
   },
   "outputs": [
    {
     "name": "stdout",
     "output_type": "stream",
     "text": [
      "new code2idx Size: 75810\n",
      "new idx2code Size: 75810\n"
     ]
    }
   ],
   "source": [
    "#vocab and code2idx generation\n",
    "new_idx_clinical = range(1, len(new_vocab_clinical)+1)\n",
    "\n",
    "new_code2idx_clinical = dict(zip(new_vocab_clinical, new_idx_clinical))\n",
    "new_idx2code_clinical = dict(zip(new_idx_clinical, new_vocab_clinical))\n",
    "\n",
    "new_code2idx_clinical['PAD'] = 0\n",
    "new_idx2code_clinical[0] = 'PAD'\n",
    "# idx2code_all[1] = 'NO_CODE'\n",
    "# idx2code_all[2] = 'start_visit'\n",
    "# idx2code_all[3] = 'end_visit'\n",
    "VOCAB_SIZE = len(new_code2idx_clinical)\n",
    "print('new code2idx Size: {}'.format(len(new_code2idx_clinical)))\n",
    "print('new idx2code Size: {}'.format(len(new_idx2code_clinical)))\n",
    "\n",
    "# month_vocab = pickle.load(open('../SeqModel/month_vocab.sav', 'rb'))"
   ]
  },
  {
   "cell_type": "code",
   "execution_count": 24,
   "id": "b5ed779f-d89b-40db-9575-3983818fd6eb",
   "metadata": {
    "tags": []
   },
   "outputs": [],
   "source": [
    "data_clinical['read_code_seq_padded_end_idx_new'] = data_clinical['read_code_seq_padded'].apply(lambda x: [new_code2idx_clinical.get(key) for key in x])"
   ]
  },
  {
   "cell_type": "code",
   "execution_count": 25,
   "id": "f5311879-768c-430a-80ff-a9ce85331d7d",
   "metadata": {
    "tags": []
   },
   "outputs": [
    {
     "data": {
      "text/html": [
       "<div>\n",
       "<style scoped>\n",
       "    .dataframe tbody tr th:only-of-type {\n",
       "        vertical-align: middle;\n",
       "    }\n",
       "\n",
       "    .dataframe tbody tr th {\n",
       "        vertical-align: top;\n",
       "    }\n",
       "\n",
       "    .dataframe thead th {\n",
       "        text-align: right;\n",
       "    }\n",
       "</style>\n",
       "<table border=\"1\" class=\"dataframe\">\n",
       "  <thead>\n",
       "    <tr style=\"text-align: right;\">\n",
       "      <th></th>\n",
       "      <th>patid</th>\n",
       "      <th>read_code_seq_padded_idx</th>\n",
       "      <th>read_code_seq_padded_end_idx</th>\n",
       "      <th>month_padded_idx</th>\n",
       "      <th>month_padded_idx_end</th>\n",
       "      <th>Country</th>\n",
       "      <th>age</th>\n",
       "      <th>3months</th>\n",
       "      <th>6months</th>\n",
       "      <th>9months</th>\n",
       "      <th>12months</th>\n",
       "      <th>read_code_seq_padded</th>\n",
       "      <th>read_code_seq_padded_end_idx_new</th>\n",
       "    </tr>\n",
       "  </thead>\n",
       "  <tbody>\n",
       "    <tr>\n",
       "      <th>0</th>\n",
       "      <td>43671012</td>\n",
       "      <td>[65736, 51831, 47442, 23669, 54300, 22478, 638...</td>\n",
       "      <td>[65736, 51831, 47442, 23669, 54300, 22478, 638...</td>\n",
       "      <td>[3, 3, 3, 3, 3, 3, 3, 3, 3, 3, 3, 3, 3, 3, 3, ...</td>\n",
       "      <td>[3, 3, 3, 3, 3, 3, 3, 3, 3, 3, 3, 3, 3, 3, 3, ...</td>\n",
       "      <td>England</td>\n",
       "      <td>16</td>\n",
       "      <td>0</td>\n",
       "      <td>0</td>\n",
       "      <td>0</td>\n",
       "      <td>0</td>\n",
       "      <td>[242.., 246A., 8B314, R0023, 2469., XaMiI, 246...</td>\n",
       "      <td>[35, 5, 50, 5279, 4, 27, 34, 767, 91, 27, 28, ...</td>\n",
       "    </tr>\n",
       "    <tr>\n",
       "      <th>1</th>\n",
       "      <td>43655540</td>\n",
       "      <td>[60831, 31316, 35549, 40619, 31180, 24942, 643...</td>\n",
       "      <td>[60831, 31316, 35549, 40619, 31180, 24942, 643...</td>\n",
       "      <td>[1, 1, 1, 1, 1, 1, 1, 1, 1, 2, 3, 3, 3, 4, 4, ...</td>\n",
       "      <td>[1, 1, 1, 1, 1, 1, 1, 1, 1, 2, 3, 3, 3, 4, 4, ...</td>\n",
       "      <td>England</td>\n",
       "      <td>67</td>\n",
       "      <td>0</td>\n",
       "      <td>1</td>\n",
       "      <td>1</td>\n",
       "      <td>1</td>\n",
       "      <td>[42A.., X77Wi, 44O.., 423.., 428.., 42ZD., 44J...</td>\n",
       "      <td>[9, 36, 118, 43, 47, 433, 51, 29, 40, 276, 156...</td>\n",
       "    </tr>\n",
       "    <tr>\n",
       "      <th>2</th>\n",
       "      <td>43582797</td>\n",
       "      <td>[0, 0, 0, 0, 0, 0, 0, 0, 0, 0, 0, 0, 0, 0, 0, ...</td>\n",
       "      <td>[16748, 36519, 47808, 65736, 65678, 63979, 147...</td>\n",
       "      <td>[0, 0, 0, 0, 0, 0, 0, 0, 0, 0, 0, 0, 0, 0, 0, ...</td>\n",
       "      <td>[1, 1, 1, 1, 1, 1, 1, 1, 1, 1, 1, 1, 0, 0, 0, ...</td>\n",
       "      <td>England</td>\n",
       "      <td>41</td>\n",
       "      <td>0</td>\n",
       "      <td>0</td>\n",
       "      <td>0</td>\n",
       "      <td>0</td>\n",
       "      <td>[3395., 2E3.., X770D, 242.., Xa1hD, XaIer, XaX...</td>\n",
       "      <td>[61, 696, 70, 35, 167, 284, 620, 373, 110, 46,...</td>\n",
       "    </tr>\n",
       "    <tr>\n",
       "      <th>3</th>\n",
       "      <td>43554478</td>\n",
       "      <td>[0, 0, 0, 0, 0, 0, 0, 0, 0, 0, 0, 0, 0, 0, 0, ...</td>\n",
       "      <td>[69021, 59826, 62564, 47442, 59771, 18293, 264...</td>\n",
       "      <td>[0, 0, 0, 0, 0, 0, 0, 0, 0, 0, 0, 0, 0, 0, 0, ...</td>\n",
       "      <td>[1, 1, 1, 1, 1, 1, 1, 1, 1, 1, 1, 1, 1, 1, 1, ...</td>\n",
       "      <td>England</td>\n",
       "      <td>20</td>\n",
       "      <td>0</td>\n",
       "      <td>0</td>\n",
       "      <td>0</td>\n",
       "      <td>0</td>\n",
       "      <td>[Ua1Nz, 663e., XaINd, 8B314, XaIeq, 1371., 663...</td>\n",
       "      <td>[42, 305, 94, 50, 1, 46, 193, 433, 16, 17, 49,...</td>\n",
       "    </tr>\n",
       "    <tr>\n",
       "      <th>4</th>\n",
       "      <td>43611754</td>\n",
       "      <td>[0, 0, 0, 0, 0, 0, 0, 0, 0, 0, 0, 0, 0, 0, 0, ...</td>\n",
       "      <td>[62065, 58863, 0, 0, 0, 0, 0, 0, 0, 0, 0, 0, 0...</td>\n",
       "      <td>[0, 0, 0, 0, 0, 0, 0, 0, 0, 0, 0, 0, 0, 0, 0, ...</td>\n",
       "      <td>[1, 1, 0, 0, 0, 0, 0, 0, 0, 0, 0, 0, 0, 0, 0, ...</td>\n",
       "      <td>England</td>\n",
       "      <td>21</td>\n",
       "      <td>0</td>\n",
       "      <td>0</td>\n",
       "      <td>0</td>\n",
       "      <td>0</td>\n",
       "      <td>[173A., XaASl, PAD, PAD, PAD, PAD, PAD, PAD, P...</td>\n",
       "      <td>[992, 556, 0, 0, 0, 0, 0, 0, 0, 0, 0, 0, 0, 0,...</td>\n",
       "    </tr>\n",
       "  </tbody>\n",
       "</table>\n",
       "</div>"
      ],
      "text/plain": [
       "      patid                           read_code_seq_padded_idx  \\\n",
       "0  43671012  [65736, 51831, 47442, 23669, 54300, 22478, 638...   \n",
       "1  43655540  [60831, 31316, 35549, 40619, 31180, 24942, 643...   \n",
       "2  43582797  [0, 0, 0, 0, 0, 0, 0, 0, 0, 0, 0, 0, 0, 0, 0, ...   \n",
       "3  43554478  [0, 0, 0, 0, 0, 0, 0, 0, 0, 0, 0, 0, 0, 0, 0, ...   \n",
       "4  43611754  [0, 0, 0, 0, 0, 0, 0, 0, 0, 0, 0, 0, 0, 0, 0, ...   \n",
       "\n",
       "                        read_code_seq_padded_end_idx  \\\n",
       "0  [65736, 51831, 47442, 23669, 54300, 22478, 638...   \n",
       "1  [60831, 31316, 35549, 40619, 31180, 24942, 643...   \n",
       "2  [16748, 36519, 47808, 65736, 65678, 63979, 147...   \n",
       "3  [69021, 59826, 62564, 47442, 59771, 18293, 264...   \n",
       "4  [62065, 58863, 0, 0, 0, 0, 0, 0, 0, 0, 0, 0, 0...   \n",
       "\n",
       "                                    month_padded_idx  \\\n",
       "0  [3, 3, 3, 3, 3, 3, 3, 3, 3, 3, 3, 3, 3, 3, 3, ...   \n",
       "1  [1, 1, 1, 1, 1, 1, 1, 1, 1, 2, 3, 3, 3, 4, 4, ...   \n",
       "2  [0, 0, 0, 0, 0, 0, 0, 0, 0, 0, 0, 0, 0, 0, 0, ...   \n",
       "3  [0, 0, 0, 0, 0, 0, 0, 0, 0, 0, 0, 0, 0, 0, 0, ...   \n",
       "4  [0, 0, 0, 0, 0, 0, 0, 0, 0, 0, 0, 0, 0, 0, 0, ...   \n",
       "\n",
       "                                month_padded_idx_end  Country  age  3months  \\\n",
       "0  [3, 3, 3, 3, 3, 3, 3, 3, 3, 3, 3, 3, 3, 3, 3, ...  England   16        0   \n",
       "1  [1, 1, 1, 1, 1, 1, 1, 1, 1, 2, 3, 3, 3, 4, 4, ...  England   67        0   \n",
       "2  [1, 1, 1, 1, 1, 1, 1, 1, 1, 1, 1, 1, 0, 0, 0, ...  England   41        0   \n",
       "3  [1, 1, 1, 1, 1, 1, 1, 1, 1, 1, 1, 1, 1, 1, 1, ...  England   20        0   \n",
       "4  [1, 1, 0, 0, 0, 0, 0, 0, 0, 0, 0, 0, 0, 0, 0, ...  England   21        0   \n",
       "\n",
       "   6months  9months  12months  \\\n",
       "0        0        0         0   \n",
       "1        1        1         1   \n",
       "2        0        0         0   \n",
       "3        0        0         0   \n",
       "4        0        0         0   \n",
       "\n",
       "                                read_code_seq_padded  \\\n",
       "0  [242.., 246A., 8B314, R0023, 2469., XaMiI, 246...   \n",
       "1  [42A.., X77Wi, 44O.., 423.., 428.., 42ZD., 44J...   \n",
       "2  [3395., 2E3.., X770D, 242.., Xa1hD, XaIer, XaX...   \n",
       "3  [Ua1Nz, 663e., XaINd, 8B314, XaIeq, 1371., 663...   \n",
       "4  [173A., XaASl, PAD, PAD, PAD, PAD, PAD, PAD, P...   \n",
       "\n",
       "                    read_code_seq_padded_end_idx_new  \n",
       "0  [35, 5, 50, 5279, 4, 27, 34, 767, 91, 27, 28, ...  \n",
       "1  [9, 36, 118, 43, 47, 433, 51, 29, 40, 276, 156...  \n",
       "2  [61, 696, 70, 35, 167, 284, 620, 373, 110, 46,...  \n",
       "3  [42, 305, 94, 50, 1, 46, 193, 433, 16, 17, 49,...  \n",
       "4  [992, 556, 0, 0, 0, 0, 0, 0, 0, 0, 0, 0, 0, 0,...  "
      ]
     },
     "execution_count": 25,
     "metadata": {},
     "output_type": "execute_result"
    }
   ],
   "source": [
    "data_clinical.head()"
   ]
  },
  {
   "cell_type": "code",
   "execution_count": 26,
   "id": "820b32b2-e04e-4d48-b8a3-3f408466032c",
   "metadata": {
    "tags": []
   },
   "outputs": [],
   "source": [
    "data_clinical.to_feather('../SeqModel/all_data_clinical_new.feather')"
   ]
  },
  {
   "cell_type": "code",
   "execution_count": null,
   "id": "71215277-adbe-4c73-ac85-ae2e5403e5a9",
   "metadata": {},
   "outputs": [],
   "source": []
  }
 ],
 "metadata": {
  "kernelspec": {
   "display_name": "Python 3 (ipykernel)",
   "language": "python",
   "name": "python3"
  },
  "language_info": {
   "codemirror_mode": {
    "name": "ipython",
    "version": 3
   },
   "file_extension": ".py",
   "mimetype": "text/x-python",
   "name": "python",
   "nbconvert_exporter": "python",
   "pygments_lexer": "ipython3",
   "version": "3.10.11"
  }
 },
 "nbformat": 4,
 "nbformat_minor": 5
}
